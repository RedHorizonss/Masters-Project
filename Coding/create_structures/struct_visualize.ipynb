{
 "cells": [
  {
   "cell_type": "code",
   "execution_count": null,
   "metadata": {},
   "outputs": [],
   "source": [
    "import structures as st\n",
    "import numpy as np"
   ]
  },
  {
   "cell_type": "markdown",
   "metadata": {},
   "source": [
    "cubic,\n",
    "tetragonal,\n",
    "orthorhombic,\n",
    "hexagonal,\n",
    "monoclinic,\n",
    "triclinic,\n",
    "trigonal,\n",
    "primitive,\n",
    "base-centered, \n",
    "body-centered,\n",
    "face-centered"
   ]
  },
  {
   "cell_type": "code",
   "execution_count": null,
   "metadata": {},
   "outputs": [],
   "source": [
    "simple_cubic = st.Structure(1.0, 1.0, 1.0, 3, 2, 1, 90, 90, 90, False, False, False)\n",
    "body_centered_cubic = st.Structure(1.0, 1.0, 1.0, 3, 2, 1, 90, 90, 90, False, False, True)\n",
    "face_centered_cubic = st.Structure(1.0, 1.0, 1.0, 3, 2, 1, 90, 90, 90, True, True, False)\n",
    "\n",
    "simple_tetragonal = st.Structure(1.0, 1.0, 2.0, 3, 2, 1, 90, 90, 90, False, False, False)\n",
    "body_centered_tetragonal = st.Structure(1.0, 1.0, 2.0, 3, 2, 1, 90, 90, 90, False, False, True)\n",
    "\n",
    "simple_orthorhombic = st.Structure(1.0, 2.0, 3.0, 3, 2, 1, 90, 90, 90, False, False, False)\n",
    "body_centered_orothorhombic = st.Structure(1.0, 2.0, 3.0, 3, 2, 1, 90, 90, 90, False, False, True)\n",
    "base_centered_orthorhombic = st.Structure(1.0, 2.0, 3.0, 3, 2, 1, 90, 90, 90, True, False, False)\n",
    "face_centered_orthorhombic = st.Structure(1.0, 2.0, 3.0, 3, 2, 1, 90, 90, 90, True, True, False)\n",
    "\n",
    "simple_monoclinic = st.Structure(1.0, 2.0, 3.0, 3, 2, 1, 90, 90, 60, False, False, False)\n",
    "base_centered_monoclinic = st.Structure(1.0, 2.0, 3.0, 3, 2, 1, 60, 90, 90, False, True, False)\n",
    "\n",
    "triclinic = st.Structure(1.0, 2.0, 3.0, 3, 2, 1, 80, 90, 60, False, False, False)\n",
    "hexagonal = st.Structure(1.0, 1.0, 2.0, 3, 2, 1, 90, 90, 120, False, False, False)\n",
    "rhombohedral = st.Structure(1.0, 1.0, 1.0, 3, 2, 1, 90, 90, 120, False, False, False)"
   ]
  },
  {
   "cell_type": "code",
   "execution_count": null,
   "metadata": {},
   "outputs": [],
   "source": [
    "for structure in [body_centered_cubic]:\n",
    "    st.plotting_struct(structure)"
   ]
  },
  {
   "cell_type": "code",
   "execution_count": null,
   "metadata": {},
   "outputs": [],
   "source": [
    "def Structure_Break(a_dist, b_dist, c_dist,\n",
    "              a_atoms, b_atoms, c_atoms,\n",
    "              gamma, alpha, beta,\n",
    "              mid_ab_true, mid_ac_true, body_cetered, tolerance=1e-10\n",
    "              ):\n",
    "    \n",
    "    vertices = []\n",
    "    \n",
    "    for a in range(0,a_atoms,2):\n",
    "        for b in range(0,b_atoms):\n",
    "            for c in range(0,c_atoms):\n",
    "                vertices.append([(a * a_dist) + (np.cos(np.deg2rad(180 - gamma)) * b),\n",
    "                                 (b * b_dist) + (np.cos(np.deg2rad(180 - alpha)) * c),\n",
    "                                 (c * c_dist) + (np.cos(np.deg2rad(180 - beta)) * a)])  \n",
    "                \n",
    "    # Adds middle point if its on the side of ab (side of xy)\n",
    "    if mid_ab_true == True:\n",
    "        for a in range(a_atoms-1):\n",
    "            for b in range(b_atoms-1):\n",
    "                for c in range(c_atoms):\n",
    "                    vertices.append([(a * a_dist) + a_dist/2 + (np.cos(np.deg2rad(180 - gamma)) * b),\n",
    "                                     (b * b_dist) + b_dist/2 + (np.cos(np.deg2rad(180 - alpha)) * c),\n",
    "                                     (c * c_dist)])\n",
    "    \n",
    "    # Adds middle point if its on the side of ac (side xz)\n",
    "    if mid_ac_true == True:\n",
    "        for a in range(a_atoms-1):\n",
    "            for b in range(b_atoms):\n",
    "                for c in range(c_atoms-1):\n",
    "                    vertices.append([(a * a_dist) + a_dist/2 + (np.cos(np.deg2rad(180 - gamma)) * b),\n",
    "                                     (b * b_dist),\n",
    "                                     (c * c_dist) + c_dist/2 + (np.cos(np.deg2rad(180 - beta)) * a)])\n",
    "                    \n",
    "    if mid_ac_true == True & mid_ab_true == True:\n",
    "        for a in range(0,a_atoms,2):\n",
    "            for b in range(b_atoms -1):\n",
    "                for c in range(c_atoms-1):\n",
    "                    vertices.append([(a * a_dist),\n",
    "                                     (b * b_dist) + b_dist/2 + (np.cos(np.deg2rad(180 - alpha)) * c),\n",
    "                                     (c * c_dist) + c_dist/2 + (np.cos(np.deg2rad(180 - beta)) * a)])\n",
    "    \n",
    "    # Adds middle point in the center of the volume \n",
    "    if body_cetered == True:\n",
    "        for a in range(a_atoms-1):\n",
    "            for b in range(b_atoms-1):\n",
    "                for c in range(c_atoms -1):\n",
    "                    vertices.append([(a * a_dist) + a_dist/2,\n",
    "                                     (b * b_dist) + b_dist/2,\n",
    "                                     (c * c_dist) + c_dist/2])\n",
    "                      \n",
    "    vertices = np.array(vertices)\n",
    "    vertices[np.abs(vertices) < tolerance] = 0\n",
    "                            \n",
    "    return vertices"
   ]
  },
  {
   "cell_type": "code",
   "execution_count": null,
   "metadata": {},
   "outputs": [],
   "source": [
    "simple_cubic = Structure_Break(1.0, 1.0, 1.0, 3, 2, 1, 90, 90, 90, False, False, False)\n",
    "st.plotting_struct(simple_cubic)"
   ]
  },
  {
   "cell_type": "code",
   "execution_count": null,
   "metadata": {},
   "outputs": [],
   "source": [
    "simple_cubic = st.Structure(1.0, 1.0, 1.0, 3, 2, 1, 90, 90, 90, False, False, False)\n",
    "st.plotting_struct(simple_cubic)"
   ]
  },
  {
   "cell_type": "code",
   "execution_count": null,
   "metadata": {},
   "outputs": [],
   "source": [
    "body_centered_cubic = st.Structure(1.0, 1.0, 1.0, 2, 2, 2, 90, 90, 90, False, False, True)\n",
    "st.plotting_struct(body_centered_cubic)"
   ]
  },
  {
   "cell_type": "code",
   "execution_count": null,
   "metadata": {},
   "outputs": [],
   "source": [
    "body_centered_cubic = Structure_Break(1.0, 1.0, 1.0, 2, 2, 2, 90, 90, 90, False, False, True)\n",
    "st.plotting_struct(body_centered_cubic)"
   ]
  },
  {
   "cell_type": "code",
   "execution_count": null,
   "metadata": {},
   "outputs": [],
   "source": [
    "face_centered_cubic = st.Structure(1.0, 1.0, 1.0, 2, 2, 2, 90, 90, 90, True, True, False)\n",
    "st.plotting_struct(face_centered_cubic)"
   ]
  },
  {
   "cell_type": "code",
   "execution_count": null,
   "metadata": {},
   "outputs": [],
   "source": [
    "face_centered_cubic = Structure_Break(1.0, 1.0, 1.0, 2, 2, 2, 90, 90, 90, True, True, False)\n",
    "st.plotting_struct(face_centered_cubic)"
   ]
  }
 ],
 "metadata": {
  "kernelspec": {
   "display_name": ".venv",
   "language": "python",
   "name": "python3"
  },
  "language_info": {
   "codemirror_mode": {
    "name": "ipython",
    "version": 3
   },
   "file_extension": ".py",
   "mimetype": "text/x-python",
   "name": "python",
   "nbconvert_exporter": "python",
   "pygments_lexer": "ipython3",
   "version": "3.7.16"
  }
 },
 "nbformat": 4,
 "nbformat_minor": 2
}
