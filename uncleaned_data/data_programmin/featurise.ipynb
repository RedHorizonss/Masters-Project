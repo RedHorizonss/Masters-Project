{
 "cells": [
  {
   "cell_type": "code",
   "execution_count": 1,
   "metadata": {},
   "outputs": [],
   "source": [
    "import pandas as pd\n",
    "from gtda.homology import VietorisRipsPersistence\n",
    "from gtda.diagrams import PersistenceEntropy\n",
    "from gtda.diagrams import NumberOfPoints\n",
    "from gtda.diagrams import Amplitude\n",
    "\n",
    "from sklearn.pipeline import make_union, Pipeline\n",
    "\n",
    "import numpy as np\n",
    "import pandas as pd\n",
    "\n",
    "import warnings\n",
    "warnings.filterwarnings(\"ignore\")"
   ]
  },
  {
   "cell_type": "code",
   "execution_count": 3,
   "metadata": {},
   "outputs": [],
   "source": [
    "from pymatgen.io.cif import CifParser"
   ]
  },
  {
   "cell_type": "code",
   "execution_count": 4,
   "metadata": {},
   "outputs": [],
   "source": [
    "def persistence_diagrams(coords):\n",
    "    # these also make our nice diagrams that we like (need to analyse them and put them in my paper with barcode plots as well)\n",
    "    # Track connected components, loops, and voids\n",
    "    homology_dimensions = [0, 1, 2]\n",
    "\n",
    "    # Collapse edges to speed up H2 persistence calculation!\n",
    "    persistence = VietorisRipsPersistence(\n",
    "        metric=\"euclidean\",\n",
    "        homology_dimensions=homology_dimensions,\n",
    "        n_jobs=1,\n",
    "        collapse_edges=True,\n",
    "    )\n",
    "    \n",
    "    reshaped_coords=coords[None, :, :]\n",
    "    diagrams_basic = persistence.fit_transform(reshaped_coords)\n",
    "    return coords, diagrams_basic\n",
    "\n",
    "def make_pipeline():\n",
    "\n",
    "    metrics = [\n",
    "        {\"metric\": metric}\n",
    "        for metric in [\"bottleneck\", \"wasserstein\", \"landscape\", \"persistence_image\"]\n",
    "    ]\n",
    "\n",
    "    # Concatenate to generate 3 + 3 + (4 x 3) = 18 topological features\n",
    "    feature_union = make_union(\n",
    "        PersistenceEntropy(normalize=True),\n",
    "        NumberOfPoints(n_jobs=1),\n",
    "        *[Amplitude(**metric, n_jobs=1) for metric in metrics]\n",
    "    )\n",
    "\n",
    "    ## then we use a pipeline to transform, the data and spit i out\n",
    "    # mwah hahahahaha\n",
    "    pipe = Pipeline(\n",
    "        [\n",
    "            (\"features\", feature_union)\n",
    "        ]\n",
    "    )\n",
    "        \n",
    "    return pipe\n",
    "\n",
    "def featurising_coords(coords_of_structures):\n",
    "    topol_feat_list = []\n",
    "    pipe = make_pipeline()\n",
    "\n",
    "    for coords in coords_of_structures:\n",
    "        _ , diagrams_basic = persistence_diagrams(coords)\n",
    "        X_basic = pipe.fit_transform(diagrams_basic)\n",
    "        # topology feat list stores the topological features for each structure\n",
    "        topol_feat_list.append([x for x in X_basic[0]])\n",
    "    \n",
    "    # topol feat mat is a matrix of topological features\n",
    "    topol_feat_mat = np.array(topol_feat_list)\n",
    "    \n",
    "    return topol_feat_mat, topol_feat_list"
   ]
  },
  {
   "cell_type": "code",
   "execution_count": 9,
   "metadata": {},
   "outputs": [
    {
     "name": "stdout",
     "output_type": "stream",
     "text": [
      "[Structure Summary\n",
      "Lattice\n",
      "    abc : 4.438672 4.438672 6.030548339846585\n",
      " angles : 111.59328751266106 111.5932875163173 90.00000001\n",
      " volume : 101.4530475362769\n",
      "      A : 0.6465272925912613 -4.076209912182743 1.6335006383046717\n",
      "      B : 4.127164255059669 -0.0 -1.6335006383046717\n",
      "      C : -0.6465272925912613 4.076209912182743 4.397047701695328\n",
      "PeriodicSite: Sr (0.0000, 0.0000, 0.0000) [0.0000, 0.0000, 0.0000]\n",
      "PeriodicSite: Ge (1.2898, 1.5105, 3.2588) [0.3706, 0.3706, 0.7411]\n",
      "PeriodicSite: Ge (2.8373, -1.5105, 1.1382) [0.6294, 0.6294, 0.2589]\n",
      "PeriodicSite: Ag:0.010, Pd:0.990 (1.1934, -1.0191, 3.0153) [0.7500, 0.2500, 0.5000]\n",
      "PeriodicSite: Ag:0.010, Pd:0.990 (2.9337, 1.0191, 1.3818) [0.2500, 0.7500, 0.5000]]\n"
     ]
    }
   ],
   "source": [
    "MP_df = pd.read_csv('3DSC_MP.csv', skiprows=1)\n",
    "MP_df['cif'] = MP_df['cif'].str.replace('data/final/MP/', '')\n",
    "\n",
    "cif_path = MP_df['cif'][0]\n",
    "parser = CifParser(cif_path)\n",
    "\n",
    "structure = parser.get_structures(primitive=True)\n",
    "print(structure)"
   ]
  },
  {
   "cell_type": "code",
   "execution_count": 6,
   "metadata": {},
   "outputs": [
    {
     "name": "stdout",
     "output_type": "stream",
     "text": [
      "None\n"
     ]
    }
   ],
   "source": [
    "print(structure.make_supercell([2, 2, 2]))"
   ]
  },
  {
   "cell_type": "code",
   "execution_count": null,
   "metadata": {},
   "outputs": [],
   "source": [
    "coords = []\n",
    "for item in MP_df[\"cif\"]:\n",
    "    cif_path = item\n",
    "    parser = CifParser(cif_path)\n",
    "    structure = parser.get_structures(primitive=True)[0]\n",
    "    coords.append(structure.cart_coords)\n",
    "    \n",
    "matrix_list, feat_cryst_list = featurising_coords(coords_of_structures=coords)\n",
    "\n",
    "MP_df['featurised_crystals'] = feat_cryst_list\n",
    "MP_df.to_csv('asymmetric unit.csv', index=False)\n",
    "features = MP_df[\"featurised_crystals\"]\n",
    "target = MP_df[\"tc\"]"
   ]
  }
 ],
 "metadata": {
  "kernelspec": {
   "display_name": "enviroment",
   "language": "python",
   "name": "python3"
  },
  "language_info": {
   "codemirror_mode": {
    "name": "ipython",
    "version": 3
   },
   "file_extension": ".py",
   "mimetype": "text/x-python",
   "name": "python",
   "nbconvert_exporter": "python",
   "pygments_lexer": "ipython3",
   "version": "3.7.16"
  }
 },
 "nbformat": 4,
 "nbformat_minor": 2
}
