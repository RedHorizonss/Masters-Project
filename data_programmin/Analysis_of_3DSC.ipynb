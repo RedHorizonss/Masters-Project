{
 "cells": [
  {
   "cell_type": "code",
   "execution_count": 1,
   "metadata": {},
   "outputs": [],
   "source": [
    "import pandas as pd\n",
    "import matplotlib.pyplot as plt"
   ]
  },
  {
   "cell_type": "code",
   "execution_count": 2,
   "metadata": {},
   "outputs": [],
   "source": [
    "import plotly.graph_objects as go\n",
    "\n",
    "def plotting_struct(structure):\n",
    "    x, y, z = structure[:,0] , structure[:,1], structure[:,2]\n",
    "    fig = go.Figure(data=[go.Scatter3d(\n",
    "        x = x,\n",
    "        y = y,\n",
    "        z = z,\n",
    "        mode='markers',\n",
    "        marker=dict(\n",
    "            size=5,\n",
    "            opacity=0.8\n",
    "        )\n",
    "    )])\n",
    "    \n",
    "    fig.update_layout(\n",
    "        scene=dict(\n",
    "            xaxis=dict(title='X'),\n",
    "            yaxis=dict(title='Y'),\n",
    "            zaxis=dict(title='Z')\n",
    "        )\n",
    "    )\n",
    "    fig.show()"
   ]
  },
  {
   "cell_type": "code",
   "execution_count": 3,
   "metadata": {},
   "outputs": [
    {
     "data": {
      "text/html": [
       "<div>\n",
       "<style scoped>\n",
       "    .dataframe tbody tr th:only-of-type {\n",
       "        vertical-align: middle;\n",
       "    }\n",
       "\n",
       "    .dataframe tbody tr th {\n",
       "        vertical-align: top;\n",
       "    }\n",
       "\n",
       "    .dataframe thead th {\n",
       "        text-align: right;\n",
       "    }\n",
       "</style>\n",
       "<table border=\"1\" class=\"dataframe\">\n",
       "  <thead>\n",
       "    <tr style=\"text-align: right;\">\n",
       "      <th></th>\n",
       "      <th>formula_sc</th>\n",
       "      <th>formula_similarity</th>\n",
       "      <th>totreldiff</th>\n",
       "      <th>formula_frac</th>\n",
       "      <th>correct_formula_frac</th>\n",
       "      <th>formula_2</th>\n",
       "      <th>orig_formula_cif</th>\n",
       "      <th>tc</th>\n",
       "      <th>sc_class</th>\n",
       "      <th>sc_class_unique_sc</th>\n",
       "      <th>...</th>\n",
       "      <th>monoclinic</th>\n",
       "      <th>orthorhombic</th>\n",
       "      <th>tetragonal</th>\n",
       "      <th>triclinic</th>\n",
       "      <th>trigonal</th>\n",
       "      <th>primitive</th>\n",
       "      <th>base-centered</th>\n",
       "      <th>body-centered</th>\n",
       "      <th>face-centered</th>\n",
       "      <th>weight</th>\n",
       "    </tr>\n",
       "  </thead>\n",
       "  <tbody>\n",
       "    <tr>\n",
       "      <th>0</th>\n",
       "      <td>Ag0.02Ge2Pd1.98Sr1</td>\n",
       "      <td>2</td>\n",
       "      <td>0.008000</td>\n",
       "      <td>1.0</td>\n",
       "      <td>True</td>\n",
       "      <td>Ag0.02Ge2Pd1.98Sr1</td>\n",
       "      <td>Ge2Pd2Sr1</td>\n",
       "      <td>2.64</td>\n",
       "      <td>Other</td>\n",
       "      <td>True</td>\n",
       "      <td>...</td>\n",
       "      <td>0</td>\n",
       "      <td>0</td>\n",
       "      <td>7</td>\n",
       "      <td>0</td>\n",
       "      <td>0</td>\n",
       "      <td>0</td>\n",
       "      <td>0</td>\n",
       "      <td>1</td>\n",
       "      <td>0</td>\n",
       "      <td>1.0</td>\n",
       "    </tr>\n",
       "    <tr>\n",
       "      <th>1</th>\n",
       "      <td>Ag0.15Sn0.85Te1</td>\n",
       "      <td>3</td>\n",
       "      <td>0.150000</td>\n",
       "      <td>1.0</td>\n",
       "      <td>True</td>\n",
       "      <td>Ag0.15Sn0.85Te1</td>\n",
       "      <td>Sn1Te1</td>\n",
       "      <td>2.15</td>\n",
       "      <td>Other</td>\n",
       "      <td>True</td>\n",
       "      <td>...</td>\n",
       "      <td>0</td>\n",
       "      <td>0</td>\n",
       "      <td>0</td>\n",
       "      <td>0</td>\n",
       "      <td>0</td>\n",
       "      <td>0</td>\n",
       "      <td>0</td>\n",
       "      <td>0</td>\n",
       "      <td>1</td>\n",
       "      <td>1.0</td>\n",
       "    </tr>\n",
       "    <tr>\n",
       "      <th>2</th>\n",
       "      <td>Ag0.1Ge2Pd1.9Sr1</td>\n",
       "      <td>2</td>\n",
       "      <td>0.040000</td>\n",
       "      <td>1.0</td>\n",
       "      <td>True</td>\n",
       "      <td>Ag0.1Ge2Pd1.9Sr1</td>\n",
       "      <td>Ge2Pd2Sr1</td>\n",
       "      <td>2.62</td>\n",
       "      <td>Other</td>\n",
       "      <td>True</td>\n",
       "      <td>...</td>\n",
       "      <td>0</td>\n",
       "      <td>0</td>\n",
       "      <td>7</td>\n",
       "      <td>0</td>\n",
       "      <td>0</td>\n",
       "      <td>0</td>\n",
       "      <td>0</td>\n",
       "      <td>1</td>\n",
       "      <td>0</td>\n",
       "      <td>1.0</td>\n",
       "    </tr>\n",
       "    <tr>\n",
       "      <th>3</th>\n",
       "      <td>Ag0.1In0.9Te1</td>\n",
       "      <td>3</td>\n",
       "      <td>0.100000</td>\n",
       "      <td>1.0</td>\n",
       "      <td>True</td>\n",
       "      <td>Ag0.1In0.9Te1</td>\n",
       "      <td>In1Te1</td>\n",
       "      <td>1.20</td>\n",
       "      <td>Other</td>\n",
       "      <td>True</td>\n",
       "      <td>...</td>\n",
       "      <td>0</td>\n",
       "      <td>0</td>\n",
       "      <td>0</td>\n",
       "      <td>0</td>\n",
       "      <td>0</td>\n",
       "      <td>0</td>\n",
       "      <td>0</td>\n",
       "      <td>0</td>\n",
       "      <td>1</td>\n",
       "      <td>1.0</td>\n",
       "    </tr>\n",
       "    <tr>\n",
       "      <th>4</th>\n",
       "      <td>Ag0.2Ba1Si1.8</td>\n",
       "      <td>3</td>\n",
       "      <td>0.133333</td>\n",
       "      <td>4.0</td>\n",
       "      <td>False</td>\n",
       "      <td>Ag0.8Ba4Si7.2</td>\n",
       "      <td>Ba4Si8</td>\n",
       "      <td>3.20</td>\n",
       "      <td>Other</td>\n",
       "      <td>True</td>\n",
       "      <td>...</td>\n",
       "      <td>0</td>\n",
       "      <td>0</td>\n",
       "      <td>0</td>\n",
       "      <td>0</td>\n",
       "      <td>0</td>\n",
       "      <td>1</td>\n",
       "      <td>0</td>\n",
       "      <td>0</td>\n",
       "      <td>0</td>\n",
       "      <td>1.0</td>\n",
       "    </tr>\n",
       "  </tbody>\n",
       "</table>\n",
       "<p>5 rows × 92 columns</p>\n",
       "</div>"
      ],
      "text/plain": [
       "           formula_sc  formula_similarity  totreldiff  formula_frac  \\\n",
       "0  Ag0.02Ge2Pd1.98Sr1                   2    0.008000           1.0   \n",
       "1     Ag0.15Sn0.85Te1                   3    0.150000           1.0   \n",
       "2    Ag0.1Ge2Pd1.9Sr1                   2    0.040000           1.0   \n",
       "3       Ag0.1In0.9Te1                   3    0.100000           1.0   \n",
       "4       Ag0.2Ba1Si1.8                   3    0.133333           4.0   \n",
       "\n",
       "   correct_formula_frac           formula_2 orig_formula_cif    tc sc_class  \\\n",
       "0                  True  Ag0.02Ge2Pd1.98Sr1        Ge2Pd2Sr1  2.64    Other   \n",
       "1                  True     Ag0.15Sn0.85Te1           Sn1Te1  2.15    Other   \n",
       "2                  True    Ag0.1Ge2Pd1.9Sr1        Ge2Pd2Sr1  2.62    Other   \n",
       "3                  True       Ag0.1In0.9Te1           In1Te1  1.20    Other   \n",
       "4                 False       Ag0.8Ba4Si7.2           Ba4Si8  3.20    Other   \n",
       "\n",
       "   sc_class_unique_sc  ... monoclinic orthorhombic  tetragonal triclinic  \\\n",
       "0                True  ...          0            0           7         0   \n",
       "1                True  ...          0            0           0         0   \n",
       "2                True  ...          0            0           7         0   \n",
       "3                True  ...          0            0           0         0   \n",
       "4                True  ...          0            0           0         0   \n",
       "\n",
       "  trigonal primitive base-centered body-centered face-centered weight  \n",
       "0        0         0             0             1             0    1.0  \n",
       "1        0         0             0             0             1    1.0  \n",
       "2        0         0             0             1             0    1.0  \n",
       "3        0         0             0             0             1    1.0  \n",
       "4        0         1             0             0             0    1.0  \n",
       "\n",
       "[5 rows x 92 columns]"
      ]
     },
     "execution_count": 3,
     "metadata": {},
     "output_type": "execute_result"
    }
   ],
   "source": [
    "MP_df = pd.read_csv('3DSC_MP.csv', skiprows=1)\n",
    "MP_df.head()"
   ]
  },
  {
   "cell_type": "code",
   "execution_count": 4,
   "metadata": {},
   "outputs": [
    {
     "data": {
      "text/plain": [
       "5773"
      ]
     },
     "execution_count": 4,
     "metadata": {},
     "output_type": "execute_result"
    }
   ],
   "source": [
    "len(MP_df)"
   ]
  },
  {
   "cell_type": "code",
   "execution_count": 5,
   "metadata": {},
   "outputs": [
    {
     "data": {
      "text/plain": [
       "Index(['formula_sc', 'formula_similarity', 'totreldiff', 'formula_frac',\n",
       "       'correct_formula_frac', 'formula_2', 'orig_formula_cif', 'tc',\n",
       "       'sc_class', 'sc_class_unique_sc', 'norm_formula_sc',\n",
       "       'chemical_composition_sc', 'num_elements_sc', 'origin_sc',\n",
       "       'old_formula_sc', 'database_id_2', 'original_formula_2',\n",
       "       'chemical_composition_2', 'norm_formula_2', 'spacegroup_2',\n",
       "       'crystal_system_2', 'lata_2', 'latb_2', 'latc_2', 'cif',\n",
       "       'original_cif_2', 'material_id_2', 'band_gap_2', 'band_structure_2',\n",
       "       'created_at_2', 'density_2', 'doi_2', 'doi_bibtex_2', 'dos_2',\n",
       "       'e_above_hull_2', 'efermi_2', 'encut_2', 'energy_2',\n",
       "       'energy_per_atom_2', 'exp_2', 'final_energy_2',\n",
       "       'final_energy_per_atom_2', 'formation_energy_per_atom_2', 'has_2',\n",
       "       'has_bandstructure_2', 'icsd_ids_2', 'is_ordered_2', 'last_updated_2',\n",
       "       'magnetic_type_2', 'nsites_2', 'ntask_ids_2', 'original_task_id_2',\n",
       "       'oxide_type_2', 'pretty_formula_2', 'pseudo_potential_2',\n",
       "       'reduced_cell_formula_2', 'run_type_2', 'task_id_2', 'task_ids_2',\n",
       "       'total_magnetization_2', 'unit_cell_formula_2', 'cell_volume_2',\n",
       "       'warnings_2', 'ordering_2', 'is_magnetic_2', 'exchange_symmetry_2',\n",
       "       'num_unique_magnetic_sites_2', 'magmoms_2',\n",
       "       'total_magnetization_normalized_vol_2',\n",
       "       'total_magnetization_normalized_formula_units_2',\n",
       "       'num_magnetic_sites_2', 'true_total_magnetization_2', 'origin_2',\n",
       "       'cif_before_synthetic_doping', 'synth_doped', 'Reason for exclusion',\n",
       "       'graph', 'crystal_temp_2', 'no_crystal_temp_given_2', 'point_group_2',\n",
       "       'cubic', 'hexagonal', 'monoclinic', 'orthorhombic', 'tetragonal',\n",
       "       'triclinic', 'trigonal', 'primitive', 'base-centered', 'body-centered',\n",
       "       'face-centered', 'weight'],\n",
       "      dtype='object')"
      ]
     },
     "execution_count": 5,
     "metadata": {},
     "output_type": "execute_result"
    }
   ],
   "source": [
    "MP_df.columns"
   ]
  },
  {
   "cell_type": "code",
   "execution_count": 6,
   "metadata": {},
   "outputs": [
    {
     "data": {
      "text/html": [
       "<div>\n",
       "<style scoped>\n",
       "    .dataframe tbody tr th:only-of-type {\n",
       "        vertical-align: middle;\n",
       "    }\n",
       "\n",
       "    .dataframe tbody tr th {\n",
       "        vertical-align: top;\n",
       "    }\n",
       "\n",
       "    .dataframe thead th {\n",
       "        text-align: right;\n",
       "    }\n",
       "</style>\n",
       "<table border=\"1\" class=\"dataframe\">\n",
       "  <thead>\n",
       "    <tr style=\"text-align: right;\">\n",
       "      <th></th>\n",
       "      <th>formula_sc</th>\n",
       "      <th>formula_similarity</th>\n",
       "      <th>totreldiff</th>\n",
       "      <th>formula_frac</th>\n",
       "      <th>correct_formula_frac</th>\n",
       "      <th>formula_2</th>\n",
       "      <th>orig_formula_cif</th>\n",
       "      <th>tc</th>\n",
       "      <th>sc_class</th>\n",
       "      <th>sc_class_unique_sc</th>\n",
       "      <th>...</th>\n",
       "      <th>monoclinic</th>\n",
       "      <th>orthorhombic</th>\n",
       "      <th>tetragonal</th>\n",
       "      <th>triclinic</th>\n",
       "      <th>trigonal</th>\n",
       "      <th>primitive</th>\n",
       "      <th>base-centered</th>\n",
       "      <th>body-centered</th>\n",
       "      <th>face-centered</th>\n",
       "      <th>weight</th>\n",
       "    </tr>\n",
       "  </thead>\n",
       "  <tbody>\n",
       "    <tr>\n",
       "      <th>8</th>\n",
       "      <td>Ag0.55Hg0.45</td>\n",
       "      <td>1</td>\n",
       "      <td>0.0</td>\n",
       "      <td>20.0</td>\n",
       "      <td>False</td>\n",
       "      <td>Ag11Hg9</td>\n",
       "      <td>Ag11Hg9</td>\n",
       "      <td>0.000000</td>\n",
       "      <td>Other</td>\n",
       "      <td>True</td>\n",
       "      <td>...</td>\n",
       "      <td>0</td>\n",
       "      <td>0</td>\n",
       "      <td>0</td>\n",
       "      <td>0</td>\n",
       "      <td>5</td>\n",
       "      <td>1</td>\n",
       "      <td>0</td>\n",
       "      <td>0</td>\n",
       "      <td>0</td>\n",
       "      <td>1.0</td>\n",
       "    </tr>\n",
       "    <tr>\n",
       "      <th>9</th>\n",
       "      <td>Ag0.5Ba1Si1.5</td>\n",
       "      <td>1</td>\n",
       "      <td>0.0</td>\n",
       "      <td>8.0</td>\n",
       "      <td>False</td>\n",
       "      <td>Ag4Ba8Si12</td>\n",
       "      <td>Ag4Ba8Si12</td>\n",
       "      <td>1.210000</td>\n",
       "      <td>Other</td>\n",
       "      <td>True</td>\n",
       "      <td>...</td>\n",
       "      <td>0</td>\n",
       "      <td>7</td>\n",
       "      <td>0</td>\n",
       "      <td>0</td>\n",
       "      <td>0</td>\n",
       "      <td>0</td>\n",
       "      <td>0</td>\n",
       "      <td>0</td>\n",
       "      <td>1</td>\n",
       "      <td>1.0</td>\n",
       "    </tr>\n",
       "    <tr>\n",
       "      <th>10</th>\n",
       "      <td>Ag0.5Pd0.5Th2</td>\n",
       "      <td>1</td>\n",
       "      <td>0.0</td>\n",
       "      <td>2.0</td>\n",
       "      <td>False</td>\n",
       "      <td>Ag1Pd1Th4</td>\n",
       "      <td>Ag1Pd1Th4</td>\n",
       "      <td>1.200000</td>\n",
       "      <td>Other</td>\n",
       "      <td>True</td>\n",
       "      <td>...</td>\n",
       "      <td>0</td>\n",
       "      <td>0</td>\n",
       "      <td>4</td>\n",
       "      <td>0</td>\n",
       "      <td>0</td>\n",
       "      <td>0</td>\n",
       "      <td>0</td>\n",
       "      <td>1</td>\n",
       "      <td>0</td>\n",
       "      <td>1.0</td>\n",
       "    </tr>\n",
       "    <tr>\n",
       "      <th>11</th>\n",
       "      <td>Ag0.5Sn0.5Te1</td>\n",
       "      <td>1</td>\n",
       "      <td>0.0</td>\n",
       "      <td>2.0</td>\n",
       "      <td>False</td>\n",
       "      <td>Ag1Sn1Te2</td>\n",
       "      <td>Ag1Sn1Te2</td>\n",
       "      <td>0.000000</td>\n",
       "      <td>Other</td>\n",
       "      <td>True</td>\n",
       "      <td>...</td>\n",
       "      <td>0</td>\n",
       "      <td>0</td>\n",
       "      <td>7</td>\n",
       "      <td>0</td>\n",
       "      <td>0</td>\n",
       "      <td>1</td>\n",
       "      <td>0</td>\n",
       "      <td>0</td>\n",
       "      <td>0</td>\n",
       "      <td>1.0</td>\n",
       "    </tr>\n",
       "    <tr>\n",
       "      <th>27</th>\n",
       "      <td>Ag1B2</td>\n",
       "      <td>1</td>\n",
       "      <td>0.0</td>\n",
       "      <td>1.0</td>\n",
       "      <td>True</td>\n",
       "      <td>Ag1B2</td>\n",
       "      <td>Ag1B2</td>\n",
       "      <td>6.700000</td>\n",
       "      <td>Other</td>\n",
       "      <td>True</td>\n",
       "      <td>...</td>\n",
       "      <td>0</td>\n",
       "      <td>0</td>\n",
       "      <td>0</td>\n",
       "      <td>0</td>\n",
       "      <td>0</td>\n",
       "      <td>1</td>\n",
       "      <td>0</td>\n",
       "      <td>0</td>\n",
       "      <td>0</td>\n",
       "      <td>1.0</td>\n",
       "    </tr>\n",
       "    <tr>\n",
       "      <th>...</th>\n",
       "      <td>...</td>\n",
       "      <td>...</td>\n",
       "      <td>...</td>\n",
       "      <td>...</td>\n",
       "      <td>...</td>\n",
       "      <td>...</td>\n",
       "      <td>...</td>\n",
       "      <td>...</td>\n",
       "      <td>...</td>\n",
       "      <td>...</td>\n",
       "      <td>...</td>\n",
       "      <td>...</td>\n",
       "      <td>...</td>\n",
       "      <td>...</td>\n",
       "      <td>...</td>\n",
       "      <td>...</td>\n",
       "      <td>...</td>\n",
       "      <td>...</td>\n",
       "      <td>...</td>\n",
       "      <td>...</td>\n",
       "      <td>...</td>\n",
       "    </tr>\n",
       "    <tr>\n",
       "      <th>5768</th>\n",
       "      <td>Y1Zn1</td>\n",
       "      <td>1</td>\n",
       "      <td>0.0</td>\n",
       "      <td>1.0</td>\n",
       "      <td>True</td>\n",
       "      <td>Y1Zn1</td>\n",
       "      <td>Y1Zn1</td>\n",
       "      <td>0.000000</td>\n",
       "      <td>Other</td>\n",
       "      <td>True</td>\n",
       "      <td>...</td>\n",
       "      <td>0</td>\n",
       "      <td>0</td>\n",
       "      <td>0</td>\n",
       "      <td>0</td>\n",
       "      <td>0</td>\n",
       "      <td>1</td>\n",
       "      <td>0</td>\n",
       "      <td>0</td>\n",
       "      <td>0</td>\n",
       "      <td>1.0</td>\n",
       "    </tr>\n",
       "    <tr>\n",
       "      <th>5769</th>\n",
       "      <td>Yb1</td>\n",
       "      <td>1</td>\n",
       "      <td>0.0</td>\n",
       "      <td>3.0</td>\n",
       "      <td>False</td>\n",
       "      <td>Yb3</td>\n",
       "      <td>Yb3</td>\n",
       "      <td>0.000000</td>\n",
       "      <td>Heavy_fermion</td>\n",
       "      <td>True</td>\n",
       "      <td>...</td>\n",
       "      <td>0</td>\n",
       "      <td>0</td>\n",
       "      <td>0</td>\n",
       "      <td>0</td>\n",
       "      <td>6</td>\n",
       "      <td>1</td>\n",
       "      <td>0</td>\n",
       "      <td>0</td>\n",
       "      <td>0</td>\n",
       "      <td>1.0</td>\n",
       "    </tr>\n",
       "    <tr>\n",
       "      <th>5770</th>\n",
       "      <td>Zn1</td>\n",
       "      <td>1</td>\n",
       "      <td>0.0</td>\n",
       "      <td>2.0</td>\n",
       "      <td>False</td>\n",
       "      <td>Zn2</td>\n",
       "      <td>Zn2</td>\n",
       "      <td>0.850800</td>\n",
       "      <td>Other</td>\n",
       "      <td>True</td>\n",
       "      <td>...</td>\n",
       "      <td>0</td>\n",
       "      <td>0</td>\n",
       "      <td>0</td>\n",
       "      <td>0</td>\n",
       "      <td>0</td>\n",
       "      <td>1</td>\n",
       "      <td>0</td>\n",
       "      <td>0</td>\n",
       "      <td>0</td>\n",
       "      <td>1.0</td>\n",
       "    </tr>\n",
       "    <tr>\n",
       "      <th>5771</th>\n",
       "      <td>Zn2Zr1</td>\n",
       "      <td>1</td>\n",
       "      <td>0.0</td>\n",
       "      <td>2.0</td>\n",
       "      <td>False</td>\n",
       "      <td>Zn4Zr2</td>\n",
       "      <td>Zn4Zr2</td>\n",
       "      <td>0.296667</td>\n",
       "      <td>Other</td>\n",
       "      <td>True</td>\n",
       "      <td>...</td>\n",
       "      <td>0</td>\n",
       "      <td>0</td>\n",
       "      <td>0</td>\n",
       "      <td>0</td>\n",
       "      <td>0</td>\n",
       "      <td>0</td>\n",
       "      <td>0</td>\n",
       "      <td>0</td>\n",
       "      <td>1</td>\n",
       "      <td>1.0</td>\n",
       "    </tr>\n",
       "    <tr>\n",
       "      <th>5772</th>\n",
       "      <td>Zr1</td>\n",
       "      <td>1</td>\n",
       "      <td>0.0</td>\n",
       "      <td>2.0</td>\n",
       "      <td>False</td>\n",
       "      <td>Zr2</td>\n",
       "      <td>Zr2</td>\n",
       "      <td>0.996667</td>\n",
       "      <td>Other</td>\n",
       "      <td>True</td>\n",
       "      <td>...</td>\n",
       "      <td>0</td>\n",
       "      <td>0</td>\n",
       "      <td>0</td>\n",
       "      <td>0</td>\n",
       "      <td>0</td>\n",
       "      <td>1</td>\n",
       "      <td>0</td>\n",
       "      <td>0</td>\n",
       "      <td>0</td>\n",
       "      <td>1.0</td>\n",
       "    </tr>\n",
       "  </tbody>\n",
       "</table>\n",
       "<p>2336 rows × 92 columns</p>\n",
       "</div>"
      ],
      "text/plain": [
       "         formula_sc  formula_similarity  totreldiff  formula_frac  \\\n",
       "8      Ag0.55Hg0.45                   1         0.0          20.0   \n",
       "9     Ag0.5Ba1Si1.5                   1         0.0           8.0   \n",
       "10    Ag0.5Pd0.5Th2                   1         0.0           2.0   \n",
       "11    Ag0.5Sn0.5Te1                   1         0.0           2.0   \n",
       "27            Ag1B2                   1         0.0           1.0   \n",
       "...             ...                 ...         ...           ...   \n",
       "5768          Y1Zn1                   1         0.0           1.0   \n",
       "5769            Yb1                   1         0.0           3.0   \n",
       "5770            Zn1                   1         0.0           2.0   \n",
       "5771         Zn2Zr1                   1         0.0           2.0   \n",
       "5772            Zr1                   1         0.0           2.0   \n",
       "\n",
       "      correct_formula_frac   formula_2 orig_formula_cif        tc  \\\n",
       "8                    False     Ag11Hg9          Ag11Hg9  0.000000   \n",
       "9                    False  Ag4Ba8Si12       Ag4Ba8Si12  1.210000   \n",
       "10                   False   Ag1Pd1Th4        Ag1Pd1Th4  1.200000   \n",
       "11                   False   Ag1Sn1Te2        Ag1Sn1Te2  0.000000   \n",
       "27                    True       Ag1B2            Ag1B2  6.700000   \n",
       "...                    ...         ...              ...       ...   \n",
       "5768                  True       Y1Zn1            Y1Zn1  0.000000   \n",
       "5769                 False         Yb3              Yb3  0.000000   \n",
       "5770                 False         Zn2              Zn2  0.850800   \n",
       "5771                 False      Zn4Zr2           Zn4Zr2  0.296667   \n",
       "5772                 False         Zr2              Zr2  0.996667   \n",
       "\n",
       "           sc_class  sc_class_unique_sc  ... monoclinic orthorhombic  \\\n",
       "8             Other                True  ...          0            0   \n",
       "9             Other                True  ...          0            7   \n",
       "10            Other                True  ...          0            0   \n",
       "11            Other                True  ...          0            0   \n",
       "27            Other                True  ...          0            0   \n",
       "...             ...                 ...  ...        ...          ...   \n",
       "5768          Other                True  ...          0            0   \n",
       "5769  Heavy_fermion                True  ...          0            0   \n",
       "5770          Other                True  ...          0            0   \n",
       "5771          Other                True  ...          0            0   \n",
       "5772          Other                True  ...          0            0   \n",
       "\n",
       "      tetragonal triclinic trigonal primitive base-centered body-centered  \\\n",
       "8              0         0        5         1             0             0   \n",
       "9              0         0        0         0             0             0   \n",
       "10             4         0        0         0             0             1   \n",
       "11             7         0        0         1             0             0   \n",
       "27             0         0        0         1             0             0   \n",
       "...          ...       ...      ...       ...           ...           ...   \n",
       "5768           0         0        0         1             0             0   \n",
       "5769           0         0        6         1             0             0   \n",
       "5770           0         0        0         1             0             0   \n",
       "5771           0         0        0         0             0             0   \n",
       "5772           0         0        0         1             0             0   \n",
       "\n",
       "     face-centered weight  \n",
       "8                0    1.0  \n",
       "9                1    1.0  \n",
       "10               0    1.0  \n",
       "11               0    1.0  \n",
       "27               0    1.0  \n",
       "...            ...    ...  \n",
       "5768             0    1.0  \n",
       "5769             0    1.0  \n",
       "5770             0    1.0  \n",
       "5771             1    1.0  \n",
       "5772             0    1.0  \n",
       "\n",
       "[2336 rows x 92 columns]"
      ]
     },
     "execution_count": 6,
     "metadata": {},
     "output_type": "execute_result"
    }
   ],
   "source": [
    "MP_df[MP_df[\"synth_doped\"] == False]"
   ]
  },
  {
   "cell_type": "code",
   "execution_count": 4,
   "metadata": {},
   "outputs": [
    {
     "data": {
      "text/plain": [
       "0    cifs/Ag0.02Ge2Pd1.98Sr1-MP-mp-978986-synth_dop...\n",
       "1      cifs/Ag0.15Sn0.85Te1-MP-mp-1883-synth_doped.cif\n",
       "2    cifs/Ag0.1Ge2Pd1.9Sr1-MP-mp-978986-synth_doped...\n",
       "3        cifs/Ag0.1In0.9Te1-MP-mp-2597-synth_doped.cif\n",
       "4        cifs/Ag0.2Ba1Si1.8-MP-mp-7275-synth_doped.cif\n",
       "Name: cif, dtype: object"
      ]
     },
     "execution_count": 4,
     "metadata": {},
     "output_type": "execute_result"
    }
   ],
   "source": [
    "MP_df['cif'] = MP_df['cif'].str.replace('data/final/MP/', '')\n",
    "MP_df['cif'].head()"
   ]
  },
  {
   "cell_type": "code",
   "execution_count": 5,
   "metadata": {},
   "outputs": [
    {
     "data": {
      "text/plain": [
       "'cifs/Ag0.02Ge2Pd1.98Sr1-MP-mp-978986-synth_doped.cif'"
      ]
     },
     "execution_count": 5,
     "metadata": {},
     "output_type": "execute_result"
    }
   ],
   "source": [
    "MP_df['cif'][0]"
   ]
  },
  {
   "cell_type": "code",
   "execution_count": 16,
   "metadata": {},
   "outputs": [
    {
     "name": "stdout",
     "output_type": "stream",
     "text": [
      "formula_sc : Ag0.02Ge2Pd1.98Sr1 \n",
      "\n",
      "formula_similarity : 2 \n",
      "\n",
      "totreldiff : 0.008 \n",
      "\n",
      "formula_frac : 1.0 \n",
      "\n",
      "correct_formula_frac : True \n",
      "\n",
      "formula_2 : Ag0.02Ge2Pd1.98Sr1 \n",
      "\n",
      "orig_formula_cif : Ge2Pd2Sr1 \n",
      "\n",
      "tc : 2.64 \n",
      "\n",
      "sc_class : Other \n",
      "\n",
      "sc_class_unique_sc : True \n",
      "\n",
      "norm_formula_sc : Ag0.4Ge40Pd39.6Sr20 \n",
      "\n",
      "chemical_composition_sc : Ag-Ge-Pd-Sr \n",
      "\n",
      "num_elements_sc : 4 \n",
      "\n",
      "origin_sc : Supercon \n",
      "\n",
      "old_formula_sc : Sr1Pd1.98Ag0.02Ge2 \n",
      "\n",
      "database_id_2 : MP-mp-978986 \n",
      "\n",
      "original_formula_2 : Sr1Ge2Pd2 \n",
      "\n",
      "chemical_composition_2 : Ge-Pd-Sr \n",
      "\n",
      "norm_formula_2 : Ge40Pd40Sr20 \n",
      "\n",
      "spacegroup_2 : I 4/m m m \n",
      "\n",
      "crystal_system_2 : tetragonal \n",
      "\n",
      "lata_2 : 4.438671999438209 \n",
      "\n",
      "latb_2 : 4.438671999438209 \n",
      "\n",
      "latc_2 : 6.03054834 \n",
      "\n",
      "cif : cifs/Ag0.02Ge2Pd1.98Sr1-MP-mp-978986-synth_doped.cif \n",
      "\n",
      "original_cif_2 : data/source/MP/raw/cifs/mp-978986.cif \n",
      "\n",
      "material_id_2 : mp-978986 \n",
      "\n",
      "band_gap_2 : 0.0 \n",
      "\n",
      "band_structure_2 : nan \n",
      "\n",
      "created_at_2 : 2015-10-09 03:56:43 \n",
      "\n",
      "density_2 : 7.295677176868866 \n",
      "\n",
      "doi_2 : 10.17188/1316057 \n",
      "\n",
      "doi_bibtex_2 : @misc{osti_1316057,\n",
      "    author = \"Persson, Kristin\",\n",
      "    title = \"Materials Data on Sr(GePd)2 (SG:139) by Materials Project\",\n",
      "    abstractNote = \"Computed materials data using density functional theory calculations. These calculations determine the electronic structure of bulk materials by solving approximations to the Schrodinger equation. For more information, see https://materialsproject.org/docs/calculations\",\n",
      "    doi = \"10.17188/1316057\",\n",
      "    place = \"United States\",\n",
      "    year = \"2016\",\n",
      "    month = \"9\",\n",
      "    note = \"An optional note\"\n",
      "}\n",
      " \n",
      "\n",
      "dos_2 : {'GGA': {'task_id': 'mp-1688092'}} \n",
      "\n",
      "e_above_hull_2 : 0.0 \n",
      "\n",
      "efermi_2 : 4.0155429 \n",
      "\n",
      "encut_2 : 520.0 \n",
      "\n",
      "energy_2 : -24.8627221 \n",
      "\n",
      "energy_per_atom_2 : -4.97254442 \n",
      "\n",
      "exp_2 : {'tags': ['Strontium palladium germanide (1/2/2)', 'Strontium palladium germanium (1/2/2)', 'High pressure experimental phase']} \n",
      "\n",
      "final_energy_2 : -24.8627221 \n",
      "\n",
      "final_energy_per_atom_2 : -4.97254442 \n",
      "\n",
      "formation_energy_per_atom_2 : -0.7134818633333324 \n",
      "\n",
      "has_2 : ['xas', 'elasticity', 'bandstructure'] \n",
      "\n",
      "has_bandstructure_2 : True \n",
      "\n",
      "icsd_ids_2 : [165985, 181157, 181155, 181156, 168133] \n",
      "\n",
      "is_ordered_2 : True \n",
      "\n",
      "last_updated_2 : 2021-05-12 10:56:37.246000 \n",
      "\n",
      "magnetic_type_2 : NM \n",
      "\n",
      "nsites_2 : 5 \n",
      "\n",
      "ntask_ids_2 : 9 \n",
      "\n",
      "original_task_id_2 : mp-978986 \n",
      "\n",
      "oxide_type_2 : nan \n",
      "\n",
      "pretty_formula_2 : Sr(GePd)2 \n",
      "\n",
      "pseudo_potential_2 : {'functional': 'PBE', 'labels': ['Sr_sv', 'Ge_d', 'Pd'], 'pot_type': 'paw'} \n",
      "\n",
      "reduced_cell_formula_2 : {'Sr': 1.0, 'Ge': 2.0, 'Pd': 2.0} \n",
      "\n",
      "run_type_2 : GGA \n",
      "\n",
      "task_id_2 : mp-978986 \n",
      "\n",
      "task_ids_2 : ['mp-1005776', 'mp-978986', 'mp-1005866', 'mp-979737', 'mp-1438850', 'mp-1688092', 'mp-1782349', 'mp-1011093', 'mp-1589601'] \n",
      "\n",
      "total_magnetization_2 : 0.0012593 \n",
      "\n",
      "unit_cell_formula_2 : {'Sr': 1.0, 'Ge': 2.0, 'Pd': 2.0} \n",
      "\n",
      "cell_volume_2 : 101.45304755163892 \n",
      "\n",
      "warnings_2 : [] \n",
      "\n",
      "ordering_2 : NM \n",
      "\n",
      "is_magnetic_2 : False \n",
      "\n",
      "exchange_symmetry_2 : 139 \n",
      "\n",
      "num_unique_magnetic_sites_2 : 0 \n",
      "\n",
      "magmoms_2 : [0, 0, 0, 0, 0] \n",
      "\n",
      "total_magnetization_normalized_vol_2 : 1.2412638460752248e-05 \n",
      "\n",
      "total_magnetization_normalized_formula_units_2 : 0.0012593 \n",
      "\n",
      "num_magnetic_sites_2 : 0 \n",
      "\n",
      "true_total_magnetization_2 : 0.0012593 \n",
      "\n",
      "origin_2 : MP \n",
      "\n",
      "cif_before_synthetic_doping : data/source/MP/cleaned/cifs/MP-mp-978986.cif \n",
      "\n",
      "synth_doped : True \n",
      "\n",
      "Reason for exclusion : nan \n",
      "\n",
      "graph : data/final/MP/graphs/Ag0.02Ge2Pd1.98Sr1-MP-mp-978986-synth_doped.json \n",
      "\n",
      "crystal_temp_2 : 0 \n",
      "\n",
      "no_crystal_temp_given_2 : True \n",
      "\n",
      "point_group_2 : 4/mmm \n",
      "\n",
      "cubic : 0 \n",
      "\n",
      "hexagonal : 0 \n",
      "\n",
      "monoclinic : 0 \n",
      "\n",
      "orthorhombic : 0 \n",
      "\n",
      "tetragonal : 7 \n",
      "\n",
      "triclinic : 0 \n",
      "\n",
      "trigonal : 0 \n",
      "\n",
      "primitive : 0 \n",
      "\n",
      "base-centered : 0 \n",
      "\n",
      "body-centered : 1 \n",
      "\n",
      "face-centered : 0 \n",
      "\n",
      "weight : 1.0 \n",
      "\n"
     ]
    }
   ],
   "source": [
    "row_1 = MP_df.iloc[0]\n",
    "\n",
    "for column in MP_df.columns:\n",
    "    print(column, \":\", row_1[column], \"\\n\")"
   ]
  },
  {
   "cell_type": "code",
   "execution_count": 9,
   "metadata": {},
   "outputs": [
    {
     "name": "stdout",
     "output_type": "stream",
     "text": [
      "Lattice Parameters:\n",
      "a = 4.438672\n",
      "b = 4.438672\n",
      "c = 6.030548339846585\n",
      "alpha = 111.59328751266106\n",
      "beta = 111.5932875163173\n",
      "gamma = 90.00000001\n",
      "\n",
      "Space Group: ('I4/mmm', 139)\n",
      "\n",
      "Atomic Positions:\n",
      "Sr1: [0. 0. 0.]\n",
      "Ge1: [0.37057 0.37057 0.74114]\n",
      "Ge1: [0.62943 0.62943 0.25886]\n",
      "Pd0.99 Ag0.01: [0.75 0.25 0.5 ]\n",
      "Pd0.99 Ag0.01: [0.25 0.75 0.5 ]\n"
     ]
    }
   ],
   "source": [
    "from pymatgen.io.cif import CifParser\n",
    "import numpy as np\n",
    "\n",
    "# Specify the path to your CIF file\n",
    "cif_path = MP_df['cif'][0]\n",
    "\n",
    "# Create a CIF parser and parse the CIF file\n",
    "parser = CifParser(cif_path)\n",
    "structure = parser.parse_structures(primitive=True)[0]\n",
    "\n",
    "# Print information about the crystal structure\n",
    "print(\"Lattice Parameters:\")\n",
    "print(\"a =\", structure.lattice.a)\n",
    "print(\"b =\", structure.lattice.b)\n",
    "print(\"c =\", structure.lattice.c)\n",
    "print(\"alpha =\", structure.lattice.alpha)\n",
    "print(\"beta =\", structure.lattice.beta)\n",
    "print(\"gamma =\", structure.lattice.gamma)\n",
    "print()\n",
    "\n",
    "print(\"Space Group:\", structure.get_space_group_info())\n",
    "print()\n",
    "\n",
    "print(\"Atomic Positions:\")\n",
    "for site in structure.sites:\n",
    "    print(f\"{site.species}: {site.frac_coords}\")"
   ]
  },
  {
   "cell_type": "markdown",
   "metadata": {},
   "source": [
    "I have above the asymmetric unit, the symmetry operation is then applied along all three axes. This would then pack the unit cell and make the percieved unit cell we need."
   ]
  },
  {
   "cell_type": "code",
   "execution_count": 14,
   "metadata": {},
   "outputs": [
    {
     "data": {
      "application/vnd.plotly.v1+json": {
       "config": {
        "plotlyServerURL": "https://plot.ly"
       },
       "data": [
        {
         "marker": {
          "opacity": 0.8,
          "size": 5
         },
         "mode": "markers",
         "type": "scatter3d",
         "x": [
          0,
          0.6465272925912612,
          4.127164255059669,
          4.77369154765093,
          0.6465272925912613,
          -3.9243353834177287e-17,
          4.773691547650929,
          4.127164255059669,
          1.2898196391819179,
          0.6432923465906568,
          5.416983894241587,
          4.770456601650325,
          1.9363469317731792,
          1.2898196391819179,
          6.063511186832848,
          5.416983894241587,
          2.837344615877751,
          2.1908173232864896,
          6.96450887093742,
          6.317981578346159,
          3.483871908469012,
          2.837344615877751,
          7.611036163528682,
          6.96450887093742,
          1.1934228869127324,
          0.5468955943214712,
          5.3205871419724025,
          4.67405984938114,
          1.8399501795039939,
          1.1934228869127326,
          5.967114434563664,
          5.320587141972402,
          2.9337413681469373,
          2.2872140755556756,
          7.060905623206607,
          6.414378330615344,
          3.580268660738198,
          2.9337413681469373,
          7.707432915797867,
          7.060905623206608
         ],
         "y": [
          0,
          -4.076209912182742,
          -4.847619621046955e-33,
          -4.076209912182742,
          -4.076209912182743,
          4.3562820992906836e-16,
          -4.076209912182743,
          4.3562820992906836e-16,
          1.5105211071575593,
          5.586731019340302,
          1.5105211071575593,
          5.586731019340303,
          -2.565688805025184,
          1.5105211071575597,
          -2.5656888050251836,
          1.5105211071575588,
          -1.5105211071575593,
          2.565688805025184,
          -1.5105211071575593,
          2.565688805025183,
          -5.586731019340302,
          -1.5105211071575597,
          -5.586731019340303,
          -1.5105211071575597,
          -1.0190524780456856,
          3.0571574341370575,
          -1.0190524780456858,
          3.0571574341370575,
          -5.095262390228429,
          -1.0190524780456856,
          -5.09526239022843,
          -1.0190524780456856,
          1.019052478045686,
          5.095262390228429,
          1.019052478045686,
          5.095262390228429,
          -3.057157434137058,
          1.0190524780456856,
          -3.057157434137057,
          1.0190524780456856
         ],
         "z": [
          0,
          7.66404897830467,
          -1.6335006383046717,
          6.030548339999999,
          1.633500638304672,
          6.030548339999999,
          4.664792985714234e-16,
          4.397047701695327,
          3.2588279336344748,
          7.655875635329802,
          1.6253272953298032,
          6.022374997025131,
          4.892328571939146,
          9.289376273634474,
          3.2588279336344748,
          7.655875635329802,
          1.1382197680608521,
          5.535267469756181,
          -0.49528087024381917,
          3.9017668314515075,
          2.771720406365524,
          7.168768108060852,
          1.1382197680608528,
          5.53526746975618,
          3.015274169999999,
          7.412321871695327,
          1.381773531695328,
          5.778821233390655,
          4.648774808304672,
          9.04582251,
          3.0152741699999996,
          7.412321871695327,
          1.3817735316953277,
          5.778821233390656,
          -0.2517271066093438,
          4.145320595085983,
          3.0152741699999996,
          7.412321871695326,
          1.3817735316953283,
          5.778821233390656
         ]
        }
       ],
       "layout": {
        "scene": {
         "xaxis": {
          "title": {
           "text": "X"
          }
         },
         "yaxis": {
          "title": {
           "text": "Y"
          }
         },
         "zaxis": {
          "title": {
           "text": "Z"
          }
         }
        },
        "template": {
         "data": {
          "bar": [
           {
            "error_x": {
             "color": "#2a3f5f"
            },
            "error_y": {
             "color": "#2a3f5f"
            },
            "marker": {
             "line": {
              "color": "#E5ECF6",
              "width": 0.5
             },
             "pattern": {
              "fillmode": "overlay",
              "size": 10,
              "solidity": 0.2
             }
            },
            "type": "bar"
           }
          ],
          "barpolar": [
           {
            "marker": {
             "line": {
              "color": "#E5ECF6",
              "width": 0.5
             },
             "pattern": {
              "fillmode": "overlay",
              "size": 10,
              "solidity": 0.2
             }
            },
            "type": "barpolar"
           }
          ],
          "carpet": [
           {
            "aaxis": {
             "endlinecolor": "#2a3f5f",
             "gridcolor": "white",
             "linecolor": "white",
             "minorgridcolor": "white",
             "startlinecolor": "#2a3f5f"
            },
            "baxis": {
             "endlinecolor": "#2a3f5f",
             "gridcolor": "white",
             "linecolor": "white",
             "minorgridcolor": "white",
             "startlinecolor": "#2a3f5f"
            },
            "type": "carpet"
           }
          ],
          "choropleth": [
           {
            "colorbar": {
             "outlinewidth": 0,
             "ticks": ""
            },
            "type": "choropleth"
           }
          ],
          "contour": [
           {
            "colorbar": {
             "outlinewidth": 0,
             "ticks": ""
            },
            "colorscale": [
             [
              0,
              "#0d0887"
             ],
             [
              0.1111111111111111,
              "#46039f"
             ],
             [
              0.2222222222222222,
              "#7201a8"
             ],
             [
              0.3333333333333333,
              "#9c179e"
             ],
             [
              0.4444444444444444,
              "#bd3786"
             ],
             [
              0.5555555555555556,
              "#d8576b"
             ],
             [
              0.6666666666666666,
              "#ed7953"
             ],
             [
              0.7777777777777778,
              "#fb9f3a"
             ],
             [
              0.8888888888888888,
              "#fdca26"
             ],
             [
              1,
              "#f0f921"
             ]
            ],
            "type": "contour"
           }
          ],
          "contourcarpet": [
           {
            "colorbar": {
             "outlinewidth": 0,
             "ticks": ""
            },
            "type": "contourcarpet"
           }
          ],
          "heatmap": [
           {
            "colorbar": {
             "outlinewidth": 0,
             "ticks": ""
            },
            "colorscale": [
             [
              0,
              "#0d0887"
             ],
             [
              0.1111111111111111,
              "#46039f"
             ],
             [
              0.2222222222222222,
              "#7201a8"
             ],
             [
              0.3333333333333333,
              "#9c179e"
             ],
             [
              0.4444444444444444,
              "#bd3786"
             ],
             [
              0.5555555555555556,
              "#d8576b"
             ],
             [
              0.6666666666666666,
              "#ed7953"
             ],
             [
              0.7777777777777778,
              "#fb9f3a"
             ],
             [
              0.8888888888888888,
              "#fdca26"
             ],
             [
              1,
              "#f0f921"
             ]
            ],
            "type": "heatmap"
           }
          ],
          "heatmapgl": [
           {
            "colorbar": {
             "outlinewidth": 0,
             "ticks": ""
            },
            "colorscale": [
             [
              0,
              "#0d0887"
             ],
             [
              0.1111111111111111,
              "#46039f"
             ],
             [
              0.2222222222222222,
              "#7201a8"
             ],
             [
              0.3333333333333333,
              "#9c179e"
             ],
             [
              0.4444444444444444,
              "#bd3786"
             ],
             [
              0.5555555555555556,
              "#d8576b"
             ],
             [
              0.6666666666666666,
              "#ed7953"
             ],
             [
              0.7777777777777778,
              "#fb9f3a"
             ],
             [
              0.8888888888888888,
              "#fdca26"
             ],
             [
              1,
              "#f0f921"
             ]
            ],
            "type": "heatmapgl"
           }
          ],
          "histogram": [
           {
            "marker": {
             "pattern": {
              "fillmode": "overlay",
              "size": 10,
              "solidity": 0.2
             }
            },
            "type": "histogram"
           }
          ],
          "histogram2d": [
           {
            "colorbar": {
             "outlinewidth": 0,
             "ticks": ""
            },
            "colorscale": [
             [
              0,
              "#0d0887"
             ],
             [
              0.1111111111111111,
              "#46039f"
             ],
             [
              0.2222222222222222,
              "#7201a8"
             ],
             [
              0.3333333333333333,
              "#9c179e"
             ],
             [
              0.4444444444444444,
              "#bd3786"
             ],
             [
              0.5555555555555556,
              "#d8576b"
             ],
             [
              0.6666666666666666,
              "#ed7953"
             ],
             [
              0.7777777777777778,
              "#fb9f3a"
             ],
             [
              0.8888888888888888,
              "#fdca26"
             ],
             [
              1,
              "#f0f921"
             ]
            ],
            "type": "histogram2d"
           }
          ],
          "histogram2dcontour": [
           {
            "colorbar": {
             "outlinewidth": 0,
             "ticks": ""
            },
            "colorscale": [
             [
              0,
              "#0d0887"
             ],
             [
              0.1111111111111111,
              "#46039f"
             ],
             [
              0.2222222222222222,
              "#7201a8"
             ],
             [
              0.3333333333333333,
              "#9c179e"
             ],
             [
              0.4444444444444444,
              "#bd3786"
             ],
             [
              0.5555555555555556,
              "#d8576b"
             ],
             [
              0.6666666666666666,
              "#ed7953"
             ],
             [
              0.7777777777777778,
              "#fb9f3a"
             ],
             [
              0.8888888888888888,
              "#fdca26"
             ],
             [
              1,
              "#f0f921"
             ]
            ],
            "type": "histogram2dcontour"
           }
          ],
          "mesh3d": [
           {
            "colorbar": {
             "outlinewidth": 0,
             "ticks": ""
            },
            "type": "mesh3d"
           }
          ],
          "parcoords": [
           {
            "line": {
             "colorbar": {
              "outlinewidth": 0,
              "ticks": ""
             }
            },
            "type": "parcoords"
           }
          ],
          "pie": [
           {
            "automargin": true,
            "type": "pie"
           }
          ],
          "scatter": [
           {
            "fillpattern": {
             "fillmode": "overlay",
             "size": 10,
             "solidity": 0.2
            },
            "type": "scatter"
           }
          ],
          "scatter3d": [
           {
            "line": {
             "colorbar": {
              "outlinewidth": 0,
              "ticks": ""
             }
            },
            "marker": {
             "colorbar": {
              "outlinewidth": 0,
              "ticks": ""
             }
            },
            "type": "scatter3d"
           }
          ],
          "scattercarpet": [
           {
            "marker": {
             "colorbar": {
              "outlinewidth": 0,
              "ticks": ""
             }
            },
            "type": "scattercarpet"
           }
          ],
          "scattergeo": [
           {
            "marker": {
             "colorbar": {
              "outlinewidth": 0,
              "ticks": ""
             }
            },
            "type": "scattergeo"
           }
          ],
          "scattergl": [
           {
            "marker": {
             "colorbar": {
              "outlinewidth": 0,
              "ticks": ""
             }
            },
            "type": "scattergl"
           }
          ],
          "scattermapbox": [
           {
            "marker": {
             "colorbar": {
              "outlinewidth": 0,
              "ticks": ""
             }
            },
            "type": "scattermapbox"
           }
          ],
          "scatterpolar": [
           {
            "marker": {
             "colorbar": {
              "outlinewidth": 0,
              "ticks": ""
             }
            },
            "type": "scatterpolar"
           }
          ],
          "scatterpolargl": [
           {
            "marker": {
             "colorbar": {
              "outlinewidth": 0,
              "ticks": ""
             }
            },
            "type": "scatterpolargl"
           }
          ],
          "scatterternary": [
           {
            "marker": {
             "colorbar": {
              "outlinewidth": 0,
              "ticks": ""
             }
            },
            "type": "scatterternary"
           }
          ],
          "surface": [
           {
            "colorbar": {
             "outlinewidth": 0,
             "ticks": ""
            },
            "colorscale": [
             [
              0,
              "#0d0887"
             ],
             [
              0.1111111111111111,
              "#46039f"
             ],
             [
              0.2222222222222222,
              "#7201a8"
             ],
             [
              0.3333333333333333,
              "#9c179e"
             ],
             [
              0.4444444444444444,
              "#bd3786"
             ],
             [
              0.5555555555555556,
              "#d8576b"
             ],
             [
              0.6666666666666666,
              "#ed7953"
             ],
             [
              0.7777777777777778,
              "#fb9f3a"
             ],
             [
              0.8888888888888888,
              "#fdca26"
             ],
             [
              1,
              "#f0f921"
             ]
            ],
            "type": "surface"
           }
          ],
          "table": [
           {
            "cells": {
             "fill": {
              "color": "#EBF0F8"
             },
             "line": {
              "color": "white"
             }
            },
            "header": {
             "fill": {
              "color": "#C8D4E3"
             },
             "line": {
              "color": "white"
             }
            },
            "type": "table"
           }
          ]
         },
         "layout": {
          "annotationdefaults": {
           "arrowcolor": "#2a3f5f",
           "arrowhead": 0,
           "arrowwidth": 1
          },
          "autotypenumbers": "strict",
          "coloraxis": {
           "colorbar": {
            "outlinewidth": 0,
            "ticks": ""
           }
          },
          "colorscale": {
           "diverging": [
            [
             0,
             "#8e0152"
            ],
            [
             0.1,
             "#c51b7d"
            ],
            [
             0.2,
             "#de77ae"
            ],
            [
             0.3,
             "#f1b6da"
            ],
            [
             0.4,
             "#fde0ef"
            ],
            [
             0.5,
             "#f7f7f7"
            ],
            [
             0.6,
             "#e6f5d0"
            ],
            [
             0.7,
             "#b8e186"
            ],
            [
             0.8,
             "#7fbc41"
            ],
            [
             0.9,
             "#4d9221"
            ],
            [
             1,
             "#276419"
            ]
           ],
           "sequential": [
            [
             0,
             "#0d0887"
            ],
            [
             0.1111111111111111,
             "#46039f"
            ],
            [
             0.2222222222222222,
             "#7201a8"
            ],
            [
             0.3333333333333333,
             "#9c179e"
            ],
            [
             0.4444444444444444,
             "#bd3786"
            ],
            [
             0.5555555555555556,
             "#d8576b"
            ],
            [
             0.6666666666666666,
             "#ed7953"
            ],
            [
             0.7777777777777778,
             "#fb9f3a"
            ],
            [
             0.8888888888888888,
             "#fdca26"
            ],
            [
             1,
             "#f0f921"
            ]
           ],
           "sequentialminus": [
            [
             0,
             "#0d0887"
            ],
            [
             0.1111111111111111,
             "#46039f"
            ],
            [
             0.2222222222222222,
             "#7201a8"
            ],
            [
             0.3333333333333333,
             "#9c179e"
            ],
            [
             0.4444444444444444,
             "#bd3786"
            ],
            [
             0.5555555555555556,
             "#d8576b"
            ],
            [
             0.6666666666666666,
             "#ed7953"
            ],
            [
             0.7777777777777778,
             "#fb9f3a"
            ],
            [
             0.8888888888888888,
             "#fdca26"
            ],
            [
             1,
             "#f0f921"
            ]
           ]
          },
          "colorway": [
           "#636efa",
           "#EF553B",
           "#00cc96",
           "#ab63fa",
           "#FFA15A",
           "#19d3f3",
           "#FF6692",
           "#B6E880",
           "#FF97FF",
           "#FECB52"
          ],
          "font": {
           "color": "#2a3f5f"
          },
          "geo": {
           "bgcolor": "white",
           "lakecolor": "white",
           "landcolor": "#E5ECF6",
           "showlakes": true,
           "showland": true,
           "subunitcolor": "white"
          },
          "hoverlabel": {
           "align": "left"
          },
          "hovermode": "closest",
          "mapbox": {
           "style": "light"
          },
          "paper_bgcolor": "white",
          "plot_bgcolor": "#E5ECF6",
          "polar": {
           "angularaxis": {
            "gridcolor": "white",
            "linecolor": "white",
            "ticks": ""
           },
           "bgcolor": "#E5ECF6",
           "radialaxis": {
            "gridcolor": "white",
            "linecolor": "white",
            "ticks": ""
           }
          },
          "scene": {
           "xaxis": {
            "backgroundcolor": "#E5ECF6",
            "gridcolor": "white",
            "gridwidth": 2,
            "linecolor": "white",
            "showbackground": true,
            "ticks": "",
            "zerolinecolor": "white"
           },
           "yaxis": {
            "backgroundcolor": "#E5ECF6",
            "gridcolor": "white",
            "gridwidth": 2,
            "linecolor": "white",
            "showbackground": true,
            "ticks": "",
            "zerolinecolor": "white"
           },
           "zaxis": {
            "backgroundcolor": "#E5ECF6",
            "gridcolor": "white",
            "gridwidth": 2,
            "linecolor": "white",
            "showbackground": true,
            "ticks": "",
            "zerolinecolor": "white"
           }
          },
          "shapedefaults": {
           "line": {
            "color": "#2a3f5f"
           }
          },
          "ternary": {
           "aaxis": {
            "gridcolor": "white",
            "linecolor": "white",
            "ticks": ""
           },
           "baxis": {
            "gridcolor": "white",
            "linecolor": "white",
            "ticks": ""
           },
           "bgcolor": "#E5ECF6",
           "caxis": {
            "gridcolor": "white",
            "linecolor": "white",
            "ticks": ""
           }
          },
          "title": {
           "x": 0.05
          },
          "xaxis": {
           "automargin": true,
           "gridcolor": "white",
           "linecolor": "white",
           "ticks": "",
           "title": {
            "standoff": 15
           },
           "zerolinecolor": "white",
           "zerolinewidth": 2
          },
          "yaxis": {
           "automargin": true,
           "gridcolor": "white",
           "linecolor": "white",
           "ticks": "",
           "title": {
            "standoff": 15
           },
           "zerolinecolor": "white",
           "zerolinewidth": 2
          }
         }
        }
       }
      }
     },
     "metadata": {},
     "output_type": "display_data"
    }
   ],
   "source": [
    "# Create a CIF parser and parse the CIF file\n",
    "parser = CifParser(MP_df['cif'][0])\n",
    "\n",
    "structure = parser.parse_structures(primitive=True)[0]\n",
    "\n",
    "unit_cell = structure.make_supercell([2, 2, 2])\n",
    "\n",
    "unit_cell_coordinates = unit_cell.cart_coords\n",
    "plotting_struct(unit_cell_coordinates)"
   ]
  },
  {
   "cell_type": "code",
   "execution_count": null,
   "metadata": {},
   "outputs": [],
   "source": []
  }
 ],
 "metadata": {
  "kernelspec": {
   "display_name": "base",
   "language": "python",
   "name": "python3"
  },
  "language_info": {
   "codemirror_mode": {
    "name": "ipython",
    "version": 3
   },
   "file_extension": ".py",
   "mimetype": "text/x-python",
   "name": "python",
   "nbconvert_exporter": "python",
   "pygments_lexer": "ipython3",
   "version": "3.11.2"
  }
 },
 "nbformat": 4,
 "nbformat_minor": 2
}
