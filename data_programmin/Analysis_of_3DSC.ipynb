{
 "cells": [
  {
   "cell_type": "code",
   "execution_count": 25,
   "metadata": {},
   "outputs": [],
   "source": [
    "import pandas as pd\n",
    "import matplotlib.pyplot as plt"
   ]
  },
  {
   "cell_type": "code",
   "execution_count": 2,
   "metadata": {},
   "outputs": [
    {
     "data": {
      "text/html": [
       "<div>\n",
       "<style scoped>\n",
       "    .dataframe tbody tr th:only-of-type {\n",
       "        vertical-align: middle;\n",
       "    }\n",
       "\n",
       "    .dataframe tbody tr th {\n",
       "        vertical-align: top;\n",
       "    }\n",
       "\n",
       "    .dataframe thead th {\n",
       "        text-align: right;\n",
       "    }\n",
       "</style>\n",
       "<table border=\"1\" class=\"dataframe\">\n",
       "  <thead>\n",
       "    <tr style=\"text-align: right;\">\n",
       "      <th></th>\n",
       "      <th>formula_sc</th>\n",
       "      <th>formula_similarity</th>\n",
       "      <th>totreldiff</th>\n",
       "      <th>formula_frac</th>\n",
       "      <th>correct_formula_frac</th>\n",
       "      <th>formula_2</th>\n",
       "      <th>orig_formula_cif</th>\n",
       "      <th>tc</th>\n",
       "      <th>sc_class</th>\n",
       "      <th>sc_class_unique_sc</th>\n",
       "      <th>...</th>\n",
       "      <th>monoclinic</th>\n",
       "      <th>orthorhombic</th>\n",
       "      <th>tetragonal</th>\n",
       "      <th>triclinic</th>\n",
       "      <th>trigonal</th>\n",
       "      <th>primitive</th>\n",
       "      <th>base-centered</th>\n",
       "      <th>body-centered</th>\n",
       "      <th>face-centered</th>\n",
       "      <th>weight</th>\n",
       "    </tr>\n",
       "  </thead>\n",
       "  <tbody>\n",
       "    <tr>\n",
       "      <th>0</th>\n",
       "      <td>Ag0.02Ge2Pd1.98Sr1</td>\n",
       "      <td>2</td>\n",
       "      <td>0.008000</td>\n",
       "      <td>1.0</td>\n",
       "      <td>True</td>\n",
       "      <td>Ag0.02Ge2Pd1.98Sr1</td>\n",
       "      <td>Ge2Pd2Sr1</td>\n",
       "      <td>2.64</td>\n",
       "      <td>Other</td>\n",
       "      <td>True</td>\n",
       "      <td>...</td>\n",
       "      <td>0</td>\n",
       "      <td>0</td>\n",
       "      <td>7</td>\n",
       "      <td>0</td>\n",
       "      <td>0</td>\n",
       "      <td>0</td>\n",
       "      <td>0</td>\n",
       "      <td>1</td>\n",
       "      <td>0</td>\n",
       "      <td>1.0</td>\n",
       "    </tr>\n",
       "    <tr>\n",
       "      <th>1</th>\n",
       "      <td>Ag0.15Sn0.85Te1</td>\n",
       "      <td>3</td>\n",
       "      <td>0.150000</td>\n",
       "      <td>1.0</td>\n",
       "      <td>True</td>\n",
       "      <td>Ag0.15Sn0.85Te1</td>\n",
       "      <td>Sn1Te1</td>\n",
       "      <td>2.15</td>\n",
       "      <td>Other</td>\n",
       "      <td>True</td>\n",
       "      <td>...</td>\n",
       "      <td>0</td>\n",
       "      <td>0</td>\n",
       "      <td>0</td>\n",
       "      <td>0</td>\n",
       "      <td>0</td>\n",
       "      <td>0</td>\n",
       "      <td>0</td>\n",
       "      <td>0</td>\n",
       "      <td>1</td>\n",
       "      <td>1.0</td>\n",
       "    </tr>\n",
       "    <tr>\n",
       "      <th>2</th>\n",
       "      <td>Ag0.1Ge2Pd1.9Sr1</td>\n",
       "      <td>2</td>\n",
       "      <td>0.040000</td>\n",
       "      <td>1.0</td>\n",
       "      <td>True</td>\n",
       "      <td>Ag0.1Ge2Pd1.9Sr1</td>\n",
       "      <td>Ge2Pd2Sr1</td>\n",
       "      <td>2.62</td>\n",
       "      <td>Other</td>\n",
       "      <td>True</td>\n",
       "      <td>...</td>\n",
       "      <td>0</td>\n",
       "      <td>0</td>\n",
       "      <td>7</td>\n",
       "      <td>0</td>\n",
       "      <td>0</td>\n",
       "      <td>0</td>\n",
       "      <td>0</td>\n",
       "      <td>1</td>\n",
       "      <td>0</td>\n",
       "      <td>1.0</td>\n",
       "    </tr>\n",
       "    <tr>\n",
       "      <th>3</th>\n",
       "      <td>Ag0.1In0.9Te1</td>\n",
       "      <td>3</td>\n",
       "      <td>0.100000</td>\n",
       "      <td>1.0</td>\n",
       "      <td>True</td>\n",
       "      <td>Ag0.1In0.9Te1</td>\n",
       "      <td>In1Te1</td>\n",
       "      <td>1.20</td>\n",
       "      <td>Other</td>\n",
       "      <td>True</td>\n",
       "      <td>...</td>\n",
       "      <td>0</td>\n",
       "      <td>0</td>\n",
       "      <td>0</td>\n",
       "      <td>0</td>\n",
       "      <td>0</td>\n",
       "      <td>0</td>\n",
       "      <td>0</td>\n",
       "      <td>0</td>\n",
       "      <td>1</td>\n",
       "      <td>1.0</td>\n",
       "    </tr>\n",
       "    <tr>\n",
       "      <th>4</th>\n",
       "      <td>Ag0.2Ba1Si1.8</td>\n",
       "      <td>3</td>\n",
       "      <td>0.133333</td>\n",
       "      <td>4.0</td>\n",
       "      <td>False</td>\n",
       "      <td>Ag0.8Ba4Si7.2</td>\n",
       "      <td>Ba4Si8</td>\n",
       "      <td>3.20</td>\n",
       "      <td>Other</td>\n",
       "      <td>True</td>\n",
       "      <td>...</td>\n",
       "      <td>0</td>\n",
       "      <td>0</td>\n",
       "      <td>0</td>\n",
       "      <td>0</td>\n",
       "      <td>0</td>\n",
       "      <td>1</td>\n",
       "      <td>0</td>\n",
       "      <td>0</td>\n",
       "      <td>0</td>\n",
       "      <td>1.0</td>\n",
       "    </tr>\n",
       "  </tbody>\n",
       "</table>\n",
       "<p>5 rows × 92 columns</p>\n",
       "</div>"
      ],
      "text/plain": [
       "           formula_sc  formula_similarity  totreldiff  formula_frac  \\\n",
       "0  Ag0.02Ge2Pd1.98Sr1                   2    0.008000           1.0   \n",
       "1     Ag0.15Sn0.85Te1                   3    0.150000           1.0   \n",
       "2    Ag0.1Ge2Pd1.9Sr1                   2    0.040000           1.0   \n",
       "3       Ag0.1In0.9Te1                   3    0.100000           1.0   \n",
       "4       Ag0.2Ba1Si1.8                   3    0.133333           4.0   \n",
       "\n",
       "   correct_formula_frac           formula_2 orig_formula_cif    tc sc_class  \\\n",
       "0                  True  Ag0.02Ge2Pd1.98Sr1        Ge2Pd2Sr1  2.64    Other   \n",
       "1                  True     Ag0.15Sn0.85Te1           Sn1Te1  2.15    Other   \n",
       "2                  True    Ag0.1Ge2Pd1.9Sr1        Ge2Pd2Sr1  2.62    Other   \n",
       "3                  True       Ag0.1In0.9Te1           In1Te1  1.20    Other   \n",
       "4                 False       Ag0.8Ba4Si7.2           Ba4Si8  3.20    Other   \n",
       "\n",
       "   sc_class_unique_sc  ... monoclinic orthorhombic  tetragonal triclinic  \\\n",
       "0                True  ...          0            0           7         0   \n",
       "1                True  ...          0            0           0         0   \n",
       "2                True  ...          0            0           7         0   \n",
       "3                True  ...          0            0           0         0   \n",
       "4                True  ...          0            0           0         0   \n",
       "\n",
       "  trigonal primitive base-centered body-centered face-centered weight  \n",
       "0        0         0             0             1             0    1.0  \n",
       "1        0         0             0             0             1    1.0  \n",
       "2        0         0             0             1             0    1.0  \n",
       "3        0         0             0             0             1    1.0  \n",
       "4        0         1             0             0             0    1.0  \n",
       "\n",
       "[5 rows x 92 columns]"
      ]
     },
     "execution_count": 2,
     "metadata": {},
     "output_type": "execute_result"
    }
   ],
   "source": [
    "MP_df = pd.read_csv('3DSC_MP.csv', skiprows=1)\n",
    "MP_df.head()"
   ]
  },
  {
   "cell_type": "code",
   "execution_count": 3,
   "metadata": {},
   "outputs": [
    {
     "data": {
      "text/plain": [
       "Index(['formula_sc', 'formula_similarity', 'totreldiff', 'formula_frac',\n",
       "       'correct_formula_frac', 'formula_2', 'orig_formula_cif', 'tc',\n",
       "       'sc_class', 'sc_class_unique_sc', 'norm_formula_sc',\n",
       "       'chemical_composition_sc', 'num_elements_sc', 'origin_sc',\n",
       "       'old_formula_sc', 'database_id_2', 'original_formula_2',\n",
       "       'chemical_composition_2', 'norm_formula_2', 'spacegroup_2',\n",
       "       'crystal_system_2', 'lata_2', 'latb_2', 'latc_2', 'cif',\n",
       "       'original_cif_2', 'material_id_2', 'band_gap_2', 'band_structure_2',\n",
       "       'created_at_2', 'density_2', 'doi_2', 'doi_bibtex_2', 'dos_2',\n",
       "       'e_above_hull_2', 'efermi_2', 'encut_2', 'energy_2',\n",
       "       'energy_per_atom_2', 'exp_2', 'final_energy_2',\n",
       "       'final_energy_per_atom_2', 'formation_energy_per_atom_2', 'has_2',\n",
       "       'has_bandstructure_2', 'icsd_ids_2', 'is_ordered_2', 'last_updated_2',\n",
       "       'magnetic_type_2', 'nsites_2', 'ntask_ids_2', 'original_task_id_2',\n",
       "       'oxide_type_2', 'pretty_formula_2', 'pseudo_potential_2',\n",
       "       'reduced_cell_formula_2', 'run_type_2', 'task_id_2', 'task_ids_2',\n",
       "       'total_magnetization_2', 'unit_cell_formula_2', 'cell_volume_2',\n",
       "       'warnings_2', 'ordering_2', 'is_magnetic_2', 'exchange_symmetry_2',\n",
       "       'num_unique_magnetic_sites_2', 'magmoms_2',\n",
       "       'total_magnetization_normalized_vol_2',\n",
       "       'total_magnetization_normalized_formula_units_2',\n",
       "       'num_magnetic_sites_2', 'true_total_magnetization_2', 'origin_2',\n",
       "       'cif_before_synthetic_doping', 'synth_doped', 'Reason for exclusion',\n",
       "       'graph', 'crystal_temp_2', 'no_crystal_temp_given_2', 'point_group_2',\n",
       "       'cubic', 'hexagonal', 'monoclinic', 'orthorhombic', 'tetragonal',\n",
       "       'triclinic', 'trigonal', 'primitive', 'base-centered', 'body-centered',\n",
       "       'face-centered', 'weight'],\n",
       "      dtype='object')"
      ]
     },
     "execution_count": 3,
     "metadata": {},
     "output_type": "execute_result"
    }
   ],
   "source": [
    "MP_df.columns"
   ]
  },
  {
   "cell_type": "code",
   "execution_count": 4,
   "metadata": {},
   "outputs": [
    {
     "data": {
      "text/plain": [
       "0    cifs/Ag0.02Ge2Pd1.98Sr1-MP-mp-978986-synth_dop...\n",
       "1      cifs/Ag0.15Sn0.85Te1-MP-mp-1883-synth_doped.cif\n",
       "2    cifs/Ag0.1Ge2Pd1.9Sr1-MP-mp-978986-synth_doped...\n",
       "3        cifs/Ag0.1In0.9Te1-MP-mp-2597-synth_doped.cif\n",
       "4        cifs/Ag0.2Ba1Si1.8-MP-mp-7275-synth_doped.cif\n",
       "Name: cif, dtype: object"
      ]
     },
     "execution_count": 4,
     "metadata": {},
     "output_type": "execute_result"
    }
   ],
   "source": [
    "MP_df['cif'] = MP_df['cif'].str.replace('data/final/MP/', '')\n",
    "MP_df['cif'].head()"
   ]
  },
  {
   "cell_type": "code",
   "execution_count": 5,
   "metadata": {},
   "outputs": [
    {
     "data": {
      "text/plain": [
       "'cifs/Ag0.02Ge2Pd1.98Sr1-MP-mp-978986-synth_doped.cif'"
      ]
     },
     "execution_count": 5,
     "metadata": {},
     "output_type": "execute_result"
    }
   ],
   "source": [
    "MP_df['cif'][0]"
   ]
  },
  {
   "cell_type": "code",
   "execution_count": 6,
   "metadata": {},
   "outputs": [
    {
     "name": "stdout",
     "output_type": "stream",
     "text": [
      "formula_sc              Ag0.02Ge2Pd1.98Sr1\n",
      "formula_similarity                       2\n",
      "totreldiff                           0.008\n",
      "formula_frac                           1.0\n",
      "correct_formula_frac                  True\n",
      "                               ...        \n",
      "primitive                                0\n",
      "base-centered                            0\n",
      "body-centered                            1\n",
      "face-centered                            0\n",
      "weight                                 1.0\n",
      "Name: 0, Length: 92, dtype: object\n"
     ]
    }
   ],
   "source": [
    "row_1 = MP_df.iloc[0]\n",
    "print(row_1)"
   ]
  },
  {
   "cell_type": "code",
   "execution_count": 24,
   "metadata": {},
   "outputs": [
    {
     "name": "stdout",
     "output_type": "stream",
     "text": [
      "4.438671999438209\n"
     ]
    }
   ],
   "source": [
    "print(row_1[\"lata_2\"])"
   ]
  },
  {
   "cell_type": "code",
   "execution_count": 31,
   "metadata": {},
   "outputs": [
    {
     "name": "stdout",
     "output_type": "stream",
     "text": [
      "Lattice Parameters:\n",
      "a = 4.438672\n",
      "b = 4.438672\n",
      "c = 6.030548339846585\n",
      "alpha = 111.59328751266106\n",
      "beta = 111.5932875163173\n",
      "gamma = 90.00000001\n",
      "\n",
      "Space Group: ('I4/mmm', 139)\n",
      "\n",
      "Atomic Positions:\n",
      "Sr1: [0. 0. 0.]\n",
      "Ge1: [0.37057 0.37057 0.74114]\n",
      "Ge1: [0.62943 0.62943 0.25886]\n",
      "Pd0.99 Ag0.01: [0.75 0.25 0.5 ]\n",
      "Pd0.99 Ag0.01: [0.25 0.75 0.5 ]\n"
     ]
    }
   ],
   "source": [
    "from pymatgen.io.cif import CifParser\n",
    "import numpy as np\n",
    "\n",
    "# Specify the path to your CIF file\n",
    "cif_path = MP_df['cif'][0]\n",
    "\n",
    "# Create a CIF parser and parse the CIF file\n",
    "parser = CifParser(cif_path)\n",
    "structure = parser.parse_structures(primitive=True)[0]\n",
    "\n",
    "# Print information about the crystal structure\n",
    "print(\"Lattice Parameters:\")\n",
    "print(\"a =\", structure.lattice.a)\n",
    "print(\"b =\", structure.lattice.b)\n",
    "print(\"c =\", structure.lattice.c)\n",
    "print(\"alpha =\", structure.lattice.alpha)\n",
    "print(\"beta =\", structure.lattice.beta)\n",
    "print(\"gamma =\", structure.lattice.gamma)\n",
    "print()\n",
    "\n",
    "print(\"Space Group:\", structure.get_space_group_info())\n",
    "print()\n",
    "\n",
    "thing = [] \n",
    "\n",
    "print(\"Atomic Positions:\")\n",
    "for site in structure.sites:\n",
    "    print(f\"{site.species}: {site.frac_coords}\")\n",
    "    thing.append([site.frac_coords[0], site.frac_coords[1], site.frac_coords[2]])\n",
    "    thing.append([-site.frac_coords[0], -site.frac_coords[1], -site.frac_coords[2]])\n",
    "\n",
    "thing = np.array(thing)"
   ]
  },
  {
   "cell_type": "markdown",
   "metadata": {},
   "source": [
    "I have above the asymmetric unit, the symmetry operation is then applied along all three axes. This would then pack the unit cell and make the percieved unit cell we need."
   ]
  },
  {
   "cell_type": "code",
   "execution_count": 37,
   "metadata": {},
   "outputs": [],
   "source": [
    "import plotly.graph_objects as go\n",
    "\n",
    "def plotting_struct(structure):\n",
    "    x, y, z = structure[:,0] , structure[:,1], structure[:,2]\n",
    "    fig = go.Figure(data=[go.Scatter3d(\n",
    "        x = x,\n",
    "        y = y,\n",
    "        z = z,\n",
    "        mode='markers',\n",
    "        marker=dict(\n",
    "            size=5,\n",
    "            opacity=0.8\n",
    "        )\n",
    "    )])\n",
    "    \n",
    "    fig.update_layout(\n",
    "        scene=dict(\n",
    "            xaxis=dict(title='X'),\n",
    "            yaxis=dict(title='Y'),\n",
    "            zaxis=dict(title='Z')\n",
    "        )\n",
    "    )\n",
    "    fig.show()\n"
   ]
  },
  {
   "cell_type": "code",
   "execution_count": 39,
   "metadata": {},
   "outputs": [
    {
     "ename": "AttributeError",
     "evalue": "'Structure' object has no attribute 'pack'",
     "output_type": "error",
     "traceback": [
      "\u001b[1;31m---------------------------------------------------------------------------\u001b[0m",
      "\u001b[1;31mAttributeError\u001b[0m                            Traceback (most recent call last)",
      "Cell \u001b[1;32mIn[39], line 11\u001b[0m\n\u001b[0;32m      8\u001b[0m structure \u001b[38;5;241m=\u001b[39m parser\u001b[38;5;241m.\u001b[39mparse_structures(primitive\u001b[38;5;241m=\u001b[39m\u001b[38;5;28;01mTrue\u001b[39;00m)[\u001b[38;5;241m0\u001b[39m]\n\u001b[0;32m     10\u001b[0m \u001b[38;5;66;03m# Generate the packed structure\u001b[39;00m\n\u001b[1;32m---> 11\u001b[0m packed_structure \u001b[38;5;241m=\u001b[39m \u001b[43mstructure\u001b[49m\u001b[38;5;241;43m.\u001b[39;49m\u001b[43mpack\u001b[49m()\n\u001b[0;32m     13\u001b[0m \u001b[38;5;66;03m# Print or do whatever you want with the packed structure\u001b[39;00m\n\u001b[0;32m     14\u001b[0m \u001b[38;5;28mprint\u001b[39m(packed_structure)\n",
      "\u001b[1;31mAttributeError\u001b[0m: 'Structure' object has no attribute 'pack'"
     ]
    }
   ],
   "source": [
    "from pymatgen.io.cif import CifParser\n",
    "\n",
    "# Specify the path to your CIF file\n",
    "cif_path = MP_df['cif'][0]\n",
    "\n",
    "# Create a CIF parser and parse the CIF file\n",
    "parser = CifParser(cif_path)\n",
    "structure = parser.parse_structures(primitive=True)[0]\n",
    "\n",
    "# Generate the packed structure\n",
    "packed_structure = structure.pack()\n",
    "\n",
    "# Print or do whatever you want with the packed structure\n",
    "print(packed_structure)\n"
   ]
  },
  {
   "cell_type": "code",
   "execution_count": 43,
   "metadata": {},
   "outputs": [
    {
     "name": "stdout",
     "output_type": "stream",
     "text": [
      "('I4/mmm', 139)\n",
      "Full Formula (Sr8 Ag0.16 Ge16 Pd15.84)\n",
      "Reduced Formula: Sr8Ag0.16Ge16Pd15.84\n",
      "abc   :   8.877344   8.877344  12.061097\n",
      "angles: 111.593288 111.593288  90.000000\n",
      "pbc   :       True       True       True\n",
      "Sites (40)\n",
      "  #  SP                         a         b        c\n",
      "---  ------------------  --------  --------  -------\n",
      "  0  Sr                  0         0         0\n",
      "  1  Sr                  0         0         0.5\n",
      "  2  Sr                  0         0.5       1\n",
      "  3  Sr                  0         0.5       0.5\n",
      "  4  Sr                  0.5       0         0\n",
      "  5  Sr                  0.5       0         0.5\n",
      "  6  Sr                  0.5       0.5       0\n",
      "  7  Sr                  0.5       0.5       0.5\n",
      "  8  Ge                  0.185285  0.185285  0.37057\n",
      "  9  Ge                  0.185285  0.185285  0.87057\n",
      " 10  Ge                  0.185285  0.685285  0.37057\n",
      " 11  Ge                  0.185285  0.685285  0.87057\n",
      " 12  Ge                  0.685285  0.185285  0.37057\n",
      " 13  Ge                  0.685285  0.185285  0.87057\n",
      " 14  Ge                  0.685285  0.685285  0.37057\n",
      " 15  Ge                  0.685285  0.685285  0.87057\n",
      " 16  Ge                  0.314715  0.314715  0.12943\n",
      " 17  Ge                  0.314715  0.314715  0.62943\n",
      " 18  Ge                  0.314715  0.814715  0.12943\n",
      " 19  Ge                  0.314715  0.814715  0.62943\n",
      " 20  Ge                  0.814715  0.314715  0.12943\n",
      " 21  Ge                  0.814715  0.314715  0.62943\n",
      " 22  Ge                  0.814715  0.814715  0.12943\n",
      " 23  Ge                  0.814715  0.814715  0.62943\n",
      " 24  Ag:0.010, Pd:0.990  0.125     0.375     0.25\n",
      " 25  Ag:0.010, Pd:0.990  0.125     0.375     0.75\n",
      " 26  Ag:0.010, Pd:0.990  0.125     0.875     0.25\n",
      " 27  Ag:0.010, Pd:0.990  0.125     0.875     0.75\n",
      " 28  Ag:0.010, Pd:0.990  0.625     0.375     0.25\n",
      " 29  Ag:0.010, Pd:0.990  0.625     0.375     0.75\n",
      " 30  Ag:0.010, Pd:0.990  0.625     0.875     0.25\n",
      " 31  Ag:0.010, Pd:0.990  0.625     0.875     0.75\n",
      " 32  Ag:0.010, Pd:0.990  0.375     0.125     0.25\n",
      " 33  Ag:0.010, Pd:0.990  0.375     0.125     0.75\n",
      " 34  Ag:0.010, Pd:0.990  0.375     0.625     0.25\n",
      " 35  Ag:0.010, Pd:0.990  0.375     0.625     0.75\n",
      " 36  Ag:0.010, Pd:0.990  0.875     0.125     0.25\n",
      " 37  Ag:0.010, Pd:0.990  0.875     0.125     0.75\n",
      " 38  Ag:0.010, Pd:0.990  0.875     0.625     0.25\n",
      " 39  Ag:0.010, Pd:0.990  0.875     0.625     0.75\n",
      "('I4/mmm', 139)\n"
     ]
    }
   ],
   "source": [
    "from pymatgen.core import Lattice, Structure\n",
    "\n",
    "BaTiO3=Structure.from_file(MP_df['cif'][0])\n",
    "print(BaTiO3.get_space_group_info())\n",
    "BaTiO3=BaTiO3*(2,2,2)\n",
    "print(BaTiO3)\n",
    "print(BaTiO3.get_space_group_info())"
   ]
  },
  {
   "cell_type": "code",
   "execution_count": 44,
   "metadata": {},
   "outputs": [
    {
     "data": {
      "text/plain": [
       "[PeriodicSite: Sr0 (Sr) (0.0, 0.0, 0.0) [0.0, 0.0, 0.0],\n",
       " PeriodicSite: Sr0 (Sr) (0.0, 0.0, 6.031) [0.0, 0.0, 0.5],\n",
       " PeriodicSite: Sr0 (Sr) (-0.6465, 4.076, 10.43) [2.577e-18, 0.5, 1.0],\n",
       " PeriodicSite: Sr0 (Sr) (-0.6465, 4.076, 4.397) [2.577e-18, 0.5, 0.5],\n",
       " PeriodicSite: Sr0 (Sr) (4.127, 0.0, -1.634) [0.5, 0.0, 1.193e-17],\n",
       " PeriodicSite: Sr0 (Sr) (4.127, 0.0, 4.397) [0.5, 0.0, 0.5],\n",
       " PeriodicSite: Sr0 (Sr) (3.481, 4.076, -3.267) [0.5, 0.5, 2.386e-17],\n",
       " PeriodicSite: Sr0 (Sr) (3.481, 4.076, 2.764) [0.5, 0.5, 0.5],\n",
       " PeriodicSite: Ge1 (Ge) (1.29, 1.511, 3.259) [0.1853, 0.1853, 0.3706],\n",
       " PeriodicSite: Ge1 (Ge) (1.29, 1.511, 9.289) [0.1853, 0.1853, 0.8706],\n",
       " PeriodicSite: Ge1 (Ge) (0.6433, 5.587, 1.625) [0.1853, 0.6853, 0.3706],\n",
       " PeriodicSite: Ge1 (Ge) (0.6433, 5.587, 7.656) [0.1853, 0.6853, 0.8706],\n",
       " PeriodicSite: Ge1 (Ge) (5.417, 1.511, 1.625) [0.6853, 0.1853, 0.3706],\n",
       " PeriodicSite: Ge1 (Ge) (5.417, 1.511, 7.656) [0.6853, 0.1853, 0.8706],\n",
       " PeriodicSite: Ge1 (Ge) (4.77, 5.587, -0.008173) [0.6853, 0.6853, 0.3706],\n",
       " PeriodicSite: Ge1 (Ge) (4.77, 5.587, 6.022) [0.6853, 0.6853, 0.8706],\n",
       " PeriodicSite: Ge1 (Ge) (2.191, 2.566, -0.4953) [0.3147, 0.3147, 0.1294],\n",
       " PeriodicSite: Ge1 (Ge) (2.191, 2.566, 5.535) [0.3147, 0.3147, 0.6294],\n",
       " PeriodicSite: Ge1 (Ge) (1.544, 6.642, -2.129) [0.3147, 0.8147, 0.1294],\n",
       " PeriodicSite: Ge1 (Ge) (1.544, 6.642, 3.902) [0.3147, 0.8147, 0.6294],\n",
       " PeriodicSite: Ge1 (Ge) (6.318, 2.566, -2.129) [0.8147, 0.3147, 0.1294],\n",
       " PeriodicSite: Ge1 (Ge) (6.318, 2.566, 3.902) [0.8147, 0.3147, 0.6294],\n",
       " PeriodicSite: Ge1 (Ge) (5.671, 6.642, -3.762) [0.8147, 0.8147, 0.1294],\n",
       " PeriodicSite: Ge1 (Ge) (5.671, 6.642, 2.268) [0.8147, 0.8147, 0.6294],\n",
       " PeriodicSite: Ag3 (Ag:0.010, Pd:0.990) (0.5469, 3.057, 1.382) [0.125, 0.375, 0.25],\n",
       " PeriodicSite: Ag3 (Ag:0.010, Pd:0.990) (0.5469, 3.057, 7.412) [0.125, 0.375, 0.75],\n",
       " PeriodicSite: Ag3 (Ag:0.010, Pd:0.990) (-0.09963, 7.133, -0.2517) [0.125, 0.875, 0.25],\n",
       " PeriodicSite: Ag3 (Ag:0.010, Pd:0.990) (-0.09963, 7.133, 5.779) [0.125, 0.875, 0.75],\n",
       " PeriodicSite: Ag3 (Ag:0.010, Pd:0.990) (4.674, 3.057, -0.2517) [0.625, 0.375, 0.25],\n",
       " PeriodicSite: Ag3 (Ag:0.010, Pd:0.990) (4.674, 3.057, 5.779) [0.625, 0.375, 0.75],\n",
       " PeriodicSite: Ag3 (Ag:0.010, Pd:0.990) (4.028, 7.133, -1.885) [0.625, 0.875, 0.25],\n",
       " PeriodicSite: Ag3 (Ag:0.010, Pd:0.990) (4.028, 7.133, 4.145) [0.625, 0.875, 0.75],\n",
       " PeriodicSite: Ag3 (Ag:0.010, Pd:0.990) (2.934, 1.019, 1.382) [0.375, 0.125, 0.25],\n",
       " PeriodicSite: Ag3 (Ag:0.010, Pd:0.990) (2.934, 1.019, 7.412) [0.375, 0.125, 0.75],\n",
       " PeriodicSite: Ag3 (Ag:0.010, Pd:0.990) (2.287, 5.095, -0.2517) [0.375, 0.625, 0.25],\n",
       " PeriodicSite: Ag3 (Ag:0.010, Pd:0.990) (2.287, 5.095, 5.779) [0.375, 0.625, 0.75],\n",
       " PeriodicSite: Ag3 (Ag:0.010, Pd:0.990) (7.061, 1.019, -0.2517) [0.875, 0.125, 0.25],\n",
       " PeriodicSite: Ag3 (Ag:0.010, Pd:0.990) (7.061, 1.019, 5.779) [0.875, 0.125, 0.75],\n",
       " PeriodicSite: Ag3 (Ag:0.010, Pd:0.990) (6.414, 5.095, -1.885) [0.875, 0.625, 0.25],\n",
       " PeriodicSite: Ag3 (Ag:0.010, Pd:0.990) (6.414, 5.095, 4.145) [0.875, 0.625, 0.75]]"
      ]
     },
     "execution_count": 44,
     "metadata": {},
     "output_type": "execute_result"
    }
   ],
   "source": [
    "BaTiO3.sites"
   ]
  },
  {
   "cell_type": "code",
   "execution_count": 47,
   "metadata": {},
   "outputs": [
    {
     "name": "stdout",
     "output_type": "stream",
     "text": [
      "Atomic Positions:\n",
      "[[ 0.00000000e+00  0.00000000e+00  0.00000000e+00]\n",
      " [-0.00000000e+00 -0.00000000e+00 -0.00000000e+00]\n",
      " [ 0.00000000e+00  0.00000000e+00  5.00000000e-01]\n",
      " [-0.00000000e+00 -0.00000000e+00 -5.00000000e-01]\n",
      " [ 2.57735510e-18  5.00000000e-01  1.00000000e+00]\n",
      " [-2.57735510e-18 -5.00000000e-01 -1.00000000e+00]\n",
      " [ 2.57735510e-18  5.00000000e-01  5.00000000e-01]\n",
      " [-2.57735510e-18 -5.00000000e-01 -5.00000000e-01]\n",
      " [ 5.00000000e-01  0.00000000e+00  1.19278320e-17]\n",
      " [-5.00000000e-01 -0.00000000e+00 -1.19278320e-17]\n",
      " [ 5.00000000e-01  0.00000000e+00  5.00000000e-01]\n",
      " [-5.00000000e-01 -0.00000000e+00 -5.00000000e-01]\n",
      " [ 5.00000000e-01  5.00000000e-01  2.38556641e-17]\n",
      " [-5.00000000e-01 -5.00000000e-01 -2.38556641e-17]\n",
      " [ 5.00000000e-01  5.00000000e-01  5.00000000e-01]\n",
      " [-5.00000000e-01 -5.00000000e-01 -5.00000000e-01]\n",
      " [ 1.85285000e-01  1.85285000e-01  3.70570000e-01]\n",
      " [-1.85285000e-01 -1.85285000e-01 -3.70570000e-01]\n",
      " [ 1.85285000e-01  1.85285000e-01  8.70570000e-01]\n",
      " [-1.85285000e-01 -1.85285000e-01 -8.70570000e-01]\n",
      " [ 1.85285000e-01  6.85285000e-01  3.70570000e-01]\n",
      " [-1.85285000e-01 -6.85285000e-01 -3.70570000e-01]\n",
      " [ 1.85285000e-01  6.85285000e-01  8.70570000e-01]\n",
      " [-1.85285000e-01 -6.85285000e-01 -8.70570000e-01]\n",
      " [ 6.85285000e-01  1.85285000e-01  3.70570000e-01]\n",
      " [-6.85285000e-01 -1.85285000e-01 -3.70570000e-01]\n",
      " [ 6.85285000e-01  1.85285000e-01  8.70570000e-01]\n",
      " [-6.85285000e-01 -1.85285000e-01 -8.70570000e-01]\n",
      " [ 6.85285000e-01  6.85285000e-01  3.70570000e-01]\n",
      " [-6.85285000e-01 -6.85285000e-01 -3.70570000e-01]\n",
      " [ 6.85285000e-01  6.85285000e-01  8.70570000e-01]\n",
      " [-6.85285000e-01 -6.85285000e-01 -8.70570000e-01]\n",
      " [ 3.14715000e-01  3.14715000e-01  1.29430000e-01]\n",
      " [-3.14715000e-01 -3.14715000e-01 -1.29430000e-01]\n",
      " [ 3.14715000e-01  3.14715000e-01  6.29430000e-01]\n",
      " [-3.14715000e-01 -3.14715000e-01 -6.29430000e-01]\n",
      " [ 3.14715000e-01  8.14715000e-01  1.29430000e-01]\n",
      " [-3.14715000e-01 -8.14715000e-01 -1.29430000e-01]\n",
      " [ 3.14715000e-01  8.14715000e-01  6.29430000e-01]\n",
      " [-3.14715000e-01 -8.14715000e-01 -6.29430000e-01]\n",
      " [ 8.14715000e-01  3.14715000e-01  1.29430000e-01]\n",
      " [-8.14715000e-01 -3.14715000e-01 -1.29430000e-01]\n",
      " [ 8.14715000e-01  3.14715000e-01  6.29430000e-01]\n",
      " [-8.14715000e-01 -3.14715000e-01 -6.29430000e-01]\n",
      " [ 8.14715000e-01  8.14715000e-01  1.29430000e-01]\n",
      " [-8.14715000e-01 -8.14715000e-01 -1.29430000e-01]\n",
      " [ 8.14715000e-01  8.14715000e-01  6.29430000e-01]\n",
      " [-8.14715000e-01 -8.14715000e-01 -6.29430000e-01]\n",
      " [ 1.25000000e-01  3.75000000e-01  2.50000000e-01]\n",
      " [-1.25000000e-01 -3.75000000e-01 -2.50000000e-01]\n",
      " [ 1.25000000e-01  3.75000000e-01  7.50000000e-01]\n",
      " [-1.25000000e-01 -3.75000000e-01 -7.50000000e-01]\n",
      " [ 1.25000000e-01  8.75000000e-01  2.50000000e-01]\n",
      " [-1.25000000e-01 -8.75000000e-01 -2.50000000e-01]\n",
      " [ 1.25000000e-01  8.75000000e-01  7.50000000e-01]\n",
      " [-1.25000000e-01 -8.75000000e-01 -7.50000000e-01]\n",
      " [ 6.25000000e-01  3.75000000e-01  2.50000000e-01]\n",
      " [-6.25000000e-01 -3.75000000e-01 -2.50000000e-01]\n",
      " [ 6.25000000e-01  3.75000000e-01  7.50000000e-01]\n",
      " [-6.25000000e-01 -3.75000000e-01 -7.50000000e-01]\n",
      " [ 6.25000000e-01  8.75000000e-01  2.50000000e-01]\n",
      " [-6.25000000e-01 -8.75000000e-01 -2.50000000e-01]\n",
      " [ 6.25000000e-01  8.75000000e-01  7.50000000e-01]\n",
      " [-6.25000000e-01 -8.75000000e-01 -7.50000000e-01]\n",
      " [ 3.75000000e-01  1.25000000e-01  2.50000000e-01]\n",
      " [-3.75000000e-01 -1.25000000e-01 -2.50000000e-01]\n",
      " [ 3.75000000e-01  1.25000000e-01  7.50000000e-01]\n",
      " [-3.75000000e-01 -1.25000000e-01 -7.50000000e-01]\n",
      " [ 3.75000000e-01  6.25000000e-01  2.50000000e-01]\n",
      " [-3.75000000e-01 -6.25000000e-01 -2.50000000e-01]\n",
      " [ 3.75000000e-01  6.25000000e-01  7.50000000e-01]\n",
      " [-3.75000000e-01 -6.25000000e-01 -7.50000000e-01]\n",
      " [ 8.75000000e-01  1.25000000e-01  2.50000000e-01]\n",
      " [-8.75000000e-01 -1.25000000e-01 -2.50000000e-01]\n",
      " [ 8.75000000e-01  1.25000000e-01  7.50000000e-01]\n",
      " [-8.75000000e-01 -1.25000000e-01 -7.50000000e-01]\n",
      " [ 8.75000000e-01  6.25000000e-01  2.50000000e-01]\n",
      " [-8.75000000e-01 -6.25000000e-01 -2.50000000e-01]\n",
      " [ 8.75000000e-01  6.25000000e-01  7.50000000e-01]\n",
      " [-8.75000000e-01 -6.25000000e-01 -7.50000000e-01]]\n"
     ]
    }
   ],
   "source": [
    "print(\"Atomic Positions:\")\n",
    "thing = []\n",
    "for site in BaTiO3.sites:\n",
    "    thing.append([site.frac_coords[0], site.frac_coords[1], site.frac_coords[2]])\n",
    "    thing.append([-site.frac_coords[0], -site.frac_coords[1], -site.frac_coords[2]])\n",
    "    \n",
    "thing = np.array(thing)\n",
    "print(thing)"
   ]
  },
  {
   "cell_type": "code",
   "execution_count": 48,
   "metadata": {},
   "outputs": [
    {
     "data": {
      "application/vnd.plotly.v1+json": {
       "config": {
        "plotlyServerURL": "https://plot.ly"
       },
       "data": [
        {
         "marker": {
          "opacity": 0.8,
          "size": 5
         },
         "mode": "markers",
         "type": "scatter3d",
         "x": [
          0,
          0,
          0,
          0,
          2.5773551024033517e-18,
          -2.5773551024033517e-18,
          2.5773551024033517e-18,
          -2.5773551024033517e-18,
          0.5,
          -0.5,
          0.5,
          -0.5,
          0.5,
          -0.5,
          0.5,
          -0.5,
          0.185285,
          -0.185285,
          0.185285,
          -0.185285,
          0.18528500000000003,
          -0.18528500000000003,
          0.18528500000000003,
          -0.18528500000000003,
          0.685285,
          -0.685285,
          0.685285,
          -0.685285,
          0.685285,
          -0.685285,
          0.685285,
          -0.685285,
          0.31471499999999997,
          -0.31471499999999997,
          0.31471499999999997,
          -0.31471499999999997,
          0.31471499999999997,
          -0.31471499999999997,
          0.31471499999999997,
          -0.31471499999999997,
          0.814715,
          -0.814715,
          0.814715,
          -0.814715,
          0.8147150000000001,
          -0.8147150000000001,
          0.8147150000000001,
          -0.8147150000000001,
          0.125,
          -0.125,
          0.125,
          -0.125,
          0.125,
          -0.125,
          0.125,
          -0.125,
          0.625,
          -0.625,
          0.625,
          -0.625,
          0.625,
          -0.625,
          0.625,
          -0.625,
          0.37500000000000006,
          -0.37500000000000006,
          0.37500000000000006,
          -0.37500000000000006,
          0.375,
          -0.375,
          0.375,
          -0.375,
          0.8750000000000001,
          -0.8750000000000001,
          0.8750000000000001,
          -0.8750000000000001,
          0.875,
          -0.875,
          0.875,
          -0.875
         ],
         "y": [
          0,
          0,
          0,
          0,
          0.5,
          -0.5,
          0.5,
          -0.5,
          0,
          0,
          0,
          0,
          0.5,
          -0.5,
          0.5,
          -0.5,
          0.185285,
          -0.185285,
          0.185285,
          -0.185285,
          0.685285,
          -0.685285,
          0.685285,
          -0.685285,
          0.185285,
          -0.185285,
          0.185285,
          -0.185285,
          0.685285,
          -0.685285,
          0.685285,
          -0.685285,
          0.31471499999999997,
          -0.31471499999999997,
          0.31471499999999997,
          -0.31471499999999997,
          0.8147149999999999,
          -0.8147149999999999,
          0.8147149999999999,
          -0.8147149999999999,
          0.31471499999999997,
          -0.31471499999999997,
          0.31471499999999997,
          -0.31471499999999997,
          0.8147149999999999,
          -0.8147149999999999,
          0.8147149999999999,
          -0.8147149999999999,
          0.375,
          -0.375,
          0.375,
          -0.375,
          0.875,
          -0.875,
          0.875,
          -0.875,
          0.375,
          -0.375,
          0.375,
          -0.375,
          0.875,
          -0.875,
          0.875,
          -0.875,
          0.125,
          -0.125,
          0.125,
          -0.125,
          0.625,
          -0.625,
          0.625,
          -0.625,
          0.125,
          -0.125,
          0.125,
          -0.125,
          0.625,
          -0.625,
          0.625,
          -0.625
         ],
         "z": [
          0,
          0,
          0.49999999999999994,
          -0.49999999999999994,
          1,
          -1,
          0.49999999999999994,
          -0.49999999999999994,
          1.1927832029171413e-17,
          -1.1927832029171413e-17,
          0.49999999999999994,
          -0.49999999999999994,
          2.3855664058342825e-17,
          -2.3855664058342825e-17,
          0.5,
          -0.5,
          0.37056999999999995,
          -0.37056999999999995,
          0.87057,
          -0.87057,
          0.37056999999999995,
          -0.37056999999999995,
          0.8705699999999998,
          -0.8705699999999998,
          0.37057,
          -0.37057,
          0.87057,
          -0.87057,
          0.37057,
          -0.37057,
          0.87057,
          -0.87057,
          0.12942999999999996,
          -0.12942999999999996,
          0.6294299999999999,
          -0.6294299999999999,
          0.12942999999999993,
          -0.12942999999999993,
          0.6294299999999999,
          -0.6294299999999999,
          0.12942999999999993,
          -0.12942999999999993,
          0.6294299999999999,
          -0.6294299999999999,
          0.12942999999999993,
          -0.12942999999999993,
          0.6294299999999999,
          -0.6294299999999999,
          0.24999999999999997,
          -0.24999999999999997,
          0.75,
          -0.75,
          0.24999999999999994,
          -0.24999999999999994,
          0.7499999999999999,
          -0.7499999999999999,
          0.25,
          -0.25,
          0.75,
          -0.75,
          0.24999999999999994,
          -0.24999999999999994,
          0.7499999999999999,
          -0.7499999999999999,
          0.25,
          -0.25,
          0.75,
          -0.75,
          0.25,
          -0.25,
          0.75,
          -0.75,
          0.25,
          -0.25,
          0.75,
          -0.75,
          0.25,
          -0.25,
          0.7499999999999999,
          -0.7499999999999999
         ]
        }
       ],
       "layout": {
        "scene": {
         "xaxis": {
          "title": {
           "text": "X"
          }
         },
         "yaxis": {
          "title": {
           "text": "Y"
          }
         },
         "zaxis": {
          "title": {
           "text": "Z"
          }
         }
        },
        "template": {
         "data": {
          "bar": [
           {
            "error_x": {
             "color": "#2a3f5f"
            },
            "error_y": {
             "color": "#2a3f5f"
            },
            "marker": {
             "line": {
              "color": "#E5ECF6",
              "width": 0.5
             },
             "pattern": {
              "fillmode": "overlay",
              "size": 10,
              "solidity": 0.2
             }
            },
            "type": "bar"
           }
          ],
          "barpolar": [
           {
            "marker": {
             "line": {
              "color": "#E5ECF6",
              "width": 0.5
             },
             "pattern": {
              "fillmode": "overlay",
              "size": 10,
              "solidity": 0.2
             }
            },
            "type": "barpolar"
           }
          ],
          "carpet": [
           {
            "aaxis": {
             "endlinecolor": "#2a3f5f",
             "gridcolor": "white",
             "linecolor": "white",
             "minorgridcolor": "white",
             "startlinecolor": "#2a3f5f"
            },
            "baxis": {
             "endlinecolor": "#2a3f5f",
             "gridcolor": "white",
             "linecolor": "white",
             "minorgridcolor": "white",
             "startlinecolor": "#2a3f5f"
            },
            "type": "carpet"
           }
          ],
          "choropleth": [
           {
            "colorbar": {
             "outlinewidth": 0,
             "ticks": ""
            },
            "type": "choropleth"
           }
          ],
          "contour": [
           {
            "colorbar": {
             "outlinewidth": 0,
             "ticks": ""
            },
            "colorscale": [
             [
              0,
              "#0d0887"
             ],
             [
              0.1111111111111111,
              "#46039f"
             ],
             [
              0.2222222222222222,
              "#7201a8"
             ],
             [
              0.3333333333333333,
              "#9c179e"
             ],
             [
              0.4444444444444444,
              "#bd3786"
             ],
             [
              0.5555555555555556,
              "#d8576b"
             ],
             [
              0.6666666666666666,
              "#ed7953"
             ],
             [
              0.7777777777777778,
              "#fb9f3a"
             ],
             [
              0.8888888888888888,
              "#fdca26"
             ],
             [
              1,
              "#f0f921"
             ]
            ],
            "type": "contour"
           }
          ],
          "contourcarpet": [
           {
            "colorbar": {
             "outlinewidth": 0,
             "ticks": ""
            },
            "type": "contourcarpet"
           }
          ],
          "heatmap": [
           {
            "colorbar": {
             "outlinewidth": 0,
             "ticks": ""
            },
            "colorscale": [
             [
              0,
              "#0d0887"
             ],
             [
              0.1111111111111111,
              "#46039f"
             ],
             [
              0.2222222222222222,
              "#7201a8"
             ],
             [
              0.3333333333333333,
              "#9c179e"
             ],
             [
              0.4444444444444444,
              "#bd3786"
             ],
             [
              0.5555555555555556,
              "#d8576b"
             ],
             [
              0.6666666666666666,
              "#ed7953"
             ],
             [
              0.7777777777777778,
              "#fb9f3a"
             ],
             [
              0.8888888888888888,
              "#fdca26"
             ],
             [
              1,
              "#f0f921"
             ]
            ],
            "type": "heatmap"
           }
          ],
          "heatmapgl": [
           {
            "colorbar": {
             "outlinewidth": 0,
             "ticks": ""
            },
            "colorscale": [
             [
              0,
              "#0d0887"
             ],
             [
              0.1111111111111111,
              "#46039f"
             ],
             [
              0.2222222222222222,
              "#7201a8"
             ],
             [
              0.3333333333333333,
              "#9c179e"
             ],
             [
              0.4444444444444444,
              "#bd3786"
             ],
             [
              0.5555555555555556,
              "#d8576b"
             ],
             [
              0.6666666666666666,
              "#ed7953"
             ],
             [
              0.7777777777777778,
              "#fb9f3a"
             ],
             [
              0.8888888888888888,
              "#fdca26"
             ],
             [
              1,
              "#f0f921"
             ]
            ],
            "type": "heatmapgl"
           }
          ],
          "histogram": [
           {
            "marker": {
             "pattern": {
              "fillmode": "overlay",
              "size": 10,
              "solidity": 0.2
             }
            },
            "type": "histogram"
           }
          ],
          "histogram2d": [
           {
            "colorbar": {
             "outlinewidth": 0,
             "ticks": ""
            },
            "colorscale": [
             [
              0,
              "#0d0887"
             ],
             [
              0.1111111111111111,
              "#46039f"
             ],
             [
              0.2222222222222222,
              "#7201a8"
             ],
             [
              0.3333333333333333,
              "#9c179e"
             ],
             [
              0.4444444444444444,
              "#bd3786"
             ],
             [
              0.5555555555555556,
              "#d8576b"
             ],
             [
              0.6666666666666666,
              "#ed7953"
             ],
             [
              0.7777777777777778,
              "#fb9f3a"
             ],
             [
              0.8888888888888888,
              "#fdca26"
             ],
             [
              1,
              "#f0f921"
             ]
            ],
            "type": "histogram2d"
           }
          ],
          "histogram2dcontour": [
           {
            "colorbar": {
             "outlinewidth": 0,
             "ticks": ""
            },
            "colorscale": [
             [
              0,
              "#0d0887"
             ],
             [
              0.1111111111111111,
              "#46039f"
             ],
             [
              0.2222222222222222,
              "#7201a8"
             ],
             [
              0.3333333333333333,
              "#9c179e"
             ],
             [
              0.4444444444444444,
              "#bd3786"
             ],
             [
              0.5555555555555556,
              "#d8576b"
             ],
             [
              0.6666666666666666,
              "#ed7953"
             ],
             [
              0.7777777777777778,
              "#fb9f3a"
             ],
             [
              0.8888888888888888,
              "#fdca26"
             ],
             [
              1,
              "#f0f921"
             ]
            ],
            "type": "histogram2dcontour"
           }
          ],
          "mesh3d": [
           {
            "colorbar": {
             "outlinewidth": 0,
             "ticks": ""
            },
            "type": "mesh3d"
           }
          ],
          "parcoords": [
           {
            "line": {
             "colorbar": {
              "outlinewidth": 0,
              "ticks": ""
             }
            },
            "type": "parcoords"
           }
          ],
          "pie": [
           {
            "automargin": true,
            "type": "pie"
           }
          ],
          "scatter": [
           {
            "fillpattern": {
             "fillmode": "overlay",
             "size": 10,
             "solidity": 0.2
            },
            "type": "scatter"
           }
          ],
          "scatter3d": [
           {
            "line": {
             "colorbar": {
              "outlinewidth": 0,
              "ticks": ""
             }
            },
            "marker": {
             "colorbar": {
              "outlinewidth": 0,
              "ticks": ""
             }
            },
            "type": "scatter3d"
           }
          ],
          "scattercarpet": [
           {
            "marker": {
             "colorbar": {
              "outlinewidth": 0,
              "ticks": ""
             }
            },
            "type": "scattercarpet"
           }
          ],
          "scattergeo": [
           {
            "marker": {
             "colorbar": {
              "outlinewidth": 0,
              "ticks": ""
             }
            },
            "type": "scattergeo"
           }
          ],
          "scattergl": [
           {
            "marker": {
             "colorbar": {
              "outlinewidth": 0,
              "ticks": ""
             }
            },
            "type": "scattergl"
           }
          ],
          "scattermapbox": [
           {
            "marker": {
             "colorbar": {
              "outlinewidth": 0,
              "ticks": ""
             }
            },
            "type": "scattermapbox"
           }
          ],
          "scatterpolar": [
           {
            "marker": {
             "colorbar": {
              "outlinewidth": 0,
              "ticks": ""
             }
            },
            "type": "scatterpolar"
           }
          ],
          "scatterpolargl": [
           {
            "marker": {
             "colorbar": {
              "outlinewidth": 0,
              "ticks": ""
             }
            },
            "type": "scatterpolargl"
           }
          ],
          "scatterternary": [
           {
            "marker": {
             "colorbar": {
              "outlinewidth": 0,
              "ticks": ""
             }
            },
            "type": "scatterternary"
           }
          ],
          "surface": [
           {
            "colorbar": {
             "outlinewidth": 0,
             "ticks": ""
            },
            "colorscale": [
             [
              0,
              "#0d0887"
             ],
             [
              0.1111111111111111,
              "#46039f"
             ],
             [
              0.2222222222222222,
              "#7201a8"
             ],
             [
              0.3333333333333333,
              "#9c179e"
             ],
             [
              0.4444444444444444,
              "#bd3786"
             ],
             [
              0.5555555555555556,
              "#d8576b"
             ],
             [
              0.6666666666666666,
              "#ed7953"
             ],
             [
              0.7777777777777778,
              "#fb9f3a"
             ],
             [
              0.8888888888888888,
              "#fdca26"
             ],
             [
              1,
              "#f0f921"
             ]
            ],
            "type": "surface"
           }
          ],
          "table": [
           {
            "cells": {
             "fill": {
              "color": "#EBF0F8"
             },
             "line": {
              "color": "white"
             }
            },
            "header": {
             "fill": {
              "color": "#C8D4E3"
             },
             "line": {
              "color": "white"
             }
            },
            "type": "table"
           }
          ]
         },
         "layout": {
          "annotationdefaults": {
           "arrowcolor": "#2a3f5f",
           "arrowhead": 0,
           "arrowwidth": 1
          },
          "autotypenumbers": "strict",
          "coloraxis": {
           "colorbar": {
            "outlinewidth": 0,
            "ticks": ""
           }
          },
          "colorscale": {
           "diverging": [
            [
             0,
             "#8e0152"
            ],
            [
             0.1,
             "#c51b7d"
            ],
            [
             0.2,
             "#de77ae"
            ],
            [
             0.3,
             "#f1b6da"
            ],
            [
             0.4,
             "#fde0ef"
            ],
            [
             0.5,
             "#f7f7f7"
            ],
            [
             0.6,
             "#e6f5d0"
            ],
            [
             0.7,
             "#b8e186"
            ],
            [
             0.8,
             "#7fbc41"
            ],
            [
             0.9,
             "#4d9221"
            ],
            [
             1,
             "#276419"
            ]
           ],
           "sequential": [
            [
             0,
             "#0d0887"
            ],
            [
             0.1111111111111111,
             "#46039f"
            ],
            [
             0.2222222222222222,
             "#7201a8"
            ],
            [
             0.3333333333333333,
             "#9c179e"
            ],
            [
             0.4444444444444444,
             "#bd3786"
            ],
            [
             0.5555555555555556,
             "#d8576b"
            ],
            [
             0.6666666666666666,
             "#ed7953"
            ],
            [
             0.7777777777777778,
             "#fb9f3a"
            ],
            [
             0.8888888888888888,
             "#fdca26"
            ],
            [
             1,
             "#f0f921"
            ]
           ],
           "sequentialminus": [
            [
             0,
             "#0d0887"
            ],
            [
             0.1111111111111111,
             "#46039f"
            ],
            [
             0.2222222222222222,
             "#7201a8"
            ],
            [
             0.3333333333333333,
             "#9c179e"
            ],
            [
             0.4444444444444444,
             "#bd3786"
            ],
            [
             0.5555555555555556,
             "#d8576b"
            ],
            [
             0.6666666666666666,
             "#ed7953"
            ],
            [
             0.7777777777777778,
             "#fb9f3a"
            ],
            [
             0.8888888888888888,
             "#fdca26"
            ],
            [
             1,
             "#f0f921"
            ]
           ]
          },
          "colorway": [
           "#636efa",
           "#EF553B",
           "#00cc96",
           "#ab63fa",
           "#FFA15A",
           "#19d3f3",
           "#FF6692",
           "#B6E880",
           "#FF97FF",
           "#FECB52"
          ],
          "font": {
           "color": "#2a3f5f"
          },
          "geo": {
           "bgcolor": "white",
           "lakecolor": "white",
           "landcolor": "#E5ECF6",
           "showlakes": true,
           "showland": true,
           "subunitcolor": "white"
          },
          "hoverlabel": {
           "align": "left"
          },
          "hovermode": "closest",
          "mapbox": {
           "style": "light"
          },
          "paper_bgcolor": "white",
          "plot_bgcolor": "#E5ECF6",
          "polar": {
           "angularaxis": {
            "gridcolor": "white",
            "linecolor": "white",
            "ticks": ""
           },
           "bgcolor": "#E5ECF6",
           "radialaxis": {
            "gridcolor": "white",
            "linecolor": "white",
            "ticks": ""
           }
          },
          "scene": {
           "xaxis": {
            "backgroundcolor": "#E5ECF6",
            "gridcolor": "white",
            "gridwidth": 2,
            "linecolor": "white",
            "showbackground": true,
            "ticks": "",
            "zerolinecolor": "white"
           },
           "yaxis": {
            "backgroundcolor": "#E5ECF6",
            "gridcolor": "white",
            "gridwidth": 2,
            "linecolor": "white",
            "showbackground": true,
            "ticks": "",
            "zerolinecolor": "white"
           },
           "zaxis": {
            "backgroundcolor": "#E5ECF6",
            "gridcolor": "white",
            "gridwidth": 2,
            "linecolor": "white",
            "showbackground": true,
            "ticks": "",
            "zerolinecolor": "white"
           }
          },
          "shapedefaults": {
           "line": {
            "color": "#2a3f5f"
           }
          },
          "ternary": {
           "aaxis": {
            "gridcolor": "white",
            "linecolor": "white",
            "ticks": ""
           },
           "baxis": {
            "gridcolor": "white",
            "linecolor": "white",
            "ticks": ""
           },
           "bgcolor": "#E5ECF6",
           "caxis": {
            "gridcolor": "white",
            "linecolor": "white",
            "ticks": ""
           }
          },
          "title": {
           "x": 0.05
          },
          "xaxis": {
           "automargin": true,
           "gridcolor": "white",
           "linecolor": "white",
           "ticks": "",
           "title": {
            "standoff": 15
           },
           "zerolinecolor": "white",
           "zerolinewidth": 2
          },
          "yaxis": {
           "automargin": true,
           "gridcolor": "white",
           "linecolor": "white",
           "ticks": "",
           "title": {
            "standoff": 15
           },
           "zerolinecolor": "white",
           "zerolinewidth": 2
          }
         }
        }
       }
      }
     },
     "metadata": {},
     "output_type": "display_data"
    }
   ],
   "source": [
    "plotting_struct(thing)"
   ]
  },
  {
   "cell_type": "code",
   "execution_count": 50,
   "metadata": {},
   "outputs": [
    {
     "data": {
      "application/vnd.plotly.v1+json": {
       "config": {
        "plotlyServerURL": "https://plot.ly"
       },
       "data": [
        {
         "marker": {
          "opacity": 0.8,
          "size": 5
         },
         "mode": "markers",
         "type": "scatter3d",
         "x": [
          0,
          0.6465272925912612,
          4.127164255059669,
          4.77369154765093,
          0.6465272925912613,
          -3.9243353834177287e-17,
          4.773691547650929,
          4.127164255059669,
          1.2898196391819179,
          0.6432923465906568,
          5.416983894241587,
          4.770456601650325,
          1.9363469317731792,
          1.2898196391819179,
          6.063511186832848,
          5.416983894241587,
          2.837344615877751,
          2.1908173232864896,
          6.96450887093742,
          6.317981578346159,
          3.483871908469012,
          2.837344615877751,
          7.611036163528682,
          6.96450887093742,
          1.1934228869127324,
          0.5468955943214712,
          5.3205871419724025,
          4.67405984938114,
          1.8399501795039939,
          1.1934228869127326,
          5.967114434563664,
          5.320587141972402,
          2.9337413681469373,
          2.2872140755556756,
          7.060905623206607,
          6.414378330615344,
          3.580268660738198,
          2.9337413681469373,
          7.707432915797867,
          7.060905623206608
         ],
         "y": [
          0,
          -4.076209912182742,
          -4.847619621046955e-33,
          -4.076209912182742,
          -4.076209912182743,
          4.3562820992906836e-16,
          -4.076209912182743,
          4.3562820992906836e-16,
          1.5105211071575593,
          5.586731019340302,
          1.5105211071575593,
          5.586731019340303,
          -2.565688805025184,
          1.5105211071575597,
          -2.5656888050251836,
          1.5105211071575588,
          -1.5105211071575593,
          2.565688805025184,
          -1.5105211071575593,
          2.565688805025183,
          -5.586731019340302,
          -1.5105211071575597,
          -5.586731019340303,
          -1.5105211071575597,
          -1.0190524780456856,
          3.0571574341370575,
          -1.0190524780456858,
          3.0571574341370575,
          -5.095262390228429,
          -1.0190524780456856,
          -5.09526239022843,
          -1.0190524780456856,
          1.019052478045686,
          5.095262390228429,
          1.019052478045686,
          5.095262390228429,
          -3.057157434137058,
          1.0190524780456856,
          -3.057157434137057,
          1.0190524780456856
         ],
         "z": [
          0,
          7.66404897830467,
          -1.6335006383046717,
          6.030548339999999,
          1.633500638304672,
          6.030548339999999,
          4.664792985714234e-16,
          4.397047701695327,
          3.2588279336344748,
          7.655875635329802,
          1.6253272953298032,
          6.022374997025131,
          4.892328571939146,
          9.289376273634474,
          3.2588279336344748,
          7.655875635329802,
          1.1382197680608521,
          5.535267469756181,
          -0.49528087024381917,
          3.9017668314515075,
          2.771720406365524,
          7.168768108060852,
          1.1382197680608528,
          5.53526746975618,
          3.015274169999999,
          7.412321871695327,
          1.381773531695328,
          5.778821233390655,
          4.648774808304672,
          9.04582251,
          3.0152741699999996,
          7.412321871695327,
          1.3817735316953277,
          5.778821233390656,
          -0.2517271066093438,
          4.145320595085983,
          3.0152741699999996,
          7.412321871695326,
          1.3817735316953283,
          5.778821233390656
         ]
        }
       ],
       "layout": {
        "scene": {
         "xaxis": {
          "title": {
           "text": "X"
          }
         },
         "yaxis": {
          "title": {
           "text": "Y"
          }
         },
         "zaxis": {
          "title": {
           "text": "Z"
          }
         }
        },
        "template": {
         "data": {
          "bar": [
           {
            "error_x": {
             "color": "#2a3f5f"
            },
            "error_y": {
             "color": "#2a3f5f"
            },
            "marker": {
             "line": {
              "color": "#E5ECF6",
              "width": 0.5
             },
             "pattern": {
              "fillmode": "overlay",
              "size": 10,
              "solidity": 0.2
             }
            },
            "type": "bar"
           }
          ],
          "barpolar": [
           {
            "marker": {
             "line": {
              "color": "#E5ECF6",
              "width": 0.5
             },
             "pattern": {
              "fillmode": "overlay",
              "size": 10,
              "solidity": 0.2
             }
            },
            "type": "barpolar"
           }
          ],
          "carpet": [
           {
            "aaxis": {
             "endlinecolor": "#2a3f5f",
             "gridcolor": "white",
             "linecolor": "white",
             "minorgridcolor": "white",
             "startlinecolor": "#2a3f5f"
            },
            "baxis": {
             "endlinecolor": "#2a3f5f",
             "gridcolor": "white",
             "linecolor": "white",
             "minorgridcolor": "white",
             "startlinecolor": "#2a3f5f"
            },
            "type": "carpet"
           }
          ],
          "choropleth": [
           {
            "colorbar": {
             "outlinewidth": 0,
             "ticks": ""
            },
            "type": "choropleth"
           }
          ],
          "contour": [
           {
            "colorbar": {
             "outlinewidth": 0,
             "ticks": ""
            },
            "colorscale": [
             [
              0,
              "#0d0887"
             ],
             [
              0.1111111111111111,
              "#46039f"
             ],
             [
              0.2222222222222222,
              "#7201a8"
             ],
             [
              0.3333333333333333,
              "#9c179e"
             ],
             [
              0.4444444444444444,
              "#bd3786"
             ],
             [
              0.5555555555555556,
              "#d8576b"
             ],
             [
              0.6666666666666666,
              "#ed7953"
             ],
             [
              0.7777777777777778,
              "#fb9f3a"
             ],
             [
              0.8888888888888888,
              "#fdca26"
             ],
             [
              1,
              "#f0f921"
             ]
            ],
            "type": "contour"
           }
          ],
          "contourcarpet": [
           {
            "colorbar": {
             "outlinewidth": 0,
             "ticks": ""
            },
            "type": "contourcarpet"
           }
          ],
          "heatmap": [
           {
            "colorbar": {
             "outlinewidth": 0,
             "ticks": ""
            },
            "colorscale": [
             [
              0,
              "#0d0887"
             ],
             [
              0.1111111111111111,
              "#46039f"
             ],
             [
              0.2222222222222222,
              "#7201a8"
             ],
             [
              0.3333333333333333,
              "#9c179e"
             ],
             [
              0.4444444444444444,
              "#bd3786"
             ],
             [
              0.5555555555555556,
              "#d8576b"
             ],
             [
              0.6666666666666666,
              "#ed7953"
             ],
             [
              0.7777777777777778,
              "#fb9f3a"
             ],
             [
              0.8888888888888888,
              "#fdca26"
             ],
             [
              1,
              "#f0f921"
             ]
            ],
            "type": "heatmap"
           }
          ],
          "heatmapgl": [
           {
            "colorbar": {
             "outlinewidth": 0,
             "ticks": ""
            },
            "colorscale": [
             [
              0,
              "#0d0887"
             ],
             [
              0.1111111111111111,
              "#46039f"
             ],
             [
              0.2222222222222222,
              "#7201a8"
             ],
             [
              0.3333333333333333,
              "#9c179e"
             ],
             [
              0.4444444444444444,
              "#bd3786"
             ],
             [
              0.5555555555555556,
              "#d8576b"
             ],
             [
              0.6666666666666666,
              "#ed7953"
             ],
             [
              0.7777777777777778,
              "#fb9f3a"
             ],
             [
              0.8888888888888888,
              "#fdca26"
             ],
             [
              1,
              "#f0f921"
             ]
            ],
            "type": "heatmapgl"
           }
          ],
          "histogram": [
           {
            "marker": {
             "pattern": {
              "fillmode": "overlay",
              "size": 10,
              "solidity": 0.2
             }
            },
            "type": "histogram"
           }
          ],
          "histogram2d": [
           {
            "colorbar": {
             "outlinewidth": 0,
             "ticks": ""
            },
            "colorscale": [
             [
              0,
              "#0d0887"
             ],
             [
              0.1111111111111111,
              "#46039f"
             ],
             [
              0.2222222222222222,
              "#7201a8"
             ],
             [
              0.3333333333333333,
              "#9c179e"
             ],
             [
              0.4444444444444444,
              "#bd3786"
             ],
             [
              0.5555555555555556,
              "#d8576b"
             ],
             [
              0.6666666666666666,
              "#ed7953"
             ],
             [
              0.7777777777777778,
              "#fb9f3a"
             ],
             [
              0.8888888888888888,
              "#fdca26"
             ],
             [
              1,
              "#f0f921"
             ]
            ],
            "type": "histogram2d"
           }
          ],
          "histogram2dcontour": [
           {
            "colorbar": {
             "outlinewidth": 0,
             "ticks": ""
            },
            "colorscale": [
             [
              0,
              "#0d0887"
             ],
             [
              0.1111111111111111,
              "#46039f"
             ],
             [
              0.2222222222222222,
              "#7201a8"
             ],
             [
              0.3333333333333333,
              "#9c179e"
             ],
             [
              0.4444444444444444,
              "#bd3786"
             ],
             [
              0.5555555555555556,
              "#d8576b"
             ],
             [
              0.6666666666666666,
              "#ed7953"
             ],
             [
              0.7777777777777778,
              "#fb9f3a"
             ],
             [
              0.8888888888888888,
              "#fdca26"
             ],
             [
              1,
              "#f0f921"
             ]
            ],
            "type": "histogram2dcontour"
           }
          ],
          "mesh3d": [
           {
            "colorbar": {
             "outlinewidth": 0,
             "ticks": ""
            },
            "type": "mesh3d"
           }
          ],
          "parcoords": [
           {
            "line": {
             "colorbar": {
              "outlinewidth": 0,
              "ticks": ""
             }
            },
            "type": "parcoords"
           }
          ],
          "pie": [
           {
            "automargin": true,
            "type": "pie"
           }
          ],
          "scatter": [
           {
            "fillpattern": {
             "fillmode": "overlay",
             "size": 10,
             "solidity": 0.2
            },
            "type": "scatter"
           }
          ],
          "scatter3d": [
           {
            "line": {
             "colorbar": {
              "outlinewidth": 0,
              "ticks": ""
             }
            },
            "marker": {
             "colorbar": {
              "outlinewidth": 0,
              "ticks": ""
             }
            },
            "type": "scatter3d"
           }
          ],
          "scattercarpet": [
           {
            "marker": {
             "colorbar": {
              "outlinewidth": 0,
              "ticks": ""
             }
            },
            "type": "scattercarpet"
           }
          ],
          "scattergeo": [
           {
            "marker": {
             "colorbar": {
              "outlinewidth": 0,
              "ticks": ""
             }
            },
            "type": "scattergeo"
           }
          ],
          "scattergl": [
           {
            "marker": {
             "colorbar": {
              "outlinewidth": 0,
              "ticks": ""
             }
            },
            "type": "scattergl"
           }
          ],
          "scattermapbox": [
           {
            "marker": {
             "colorbar": {
              "outlinewidth": 0,
              "ticks": ""
             }
            },
            "type": "scattermapbox"
           }
          ],
          "scatterpolar": [
           {
            "marker": {
             "colorbar": {
              "outlinewidth": 0,
              "ticks": ""
             }
            },
            "type": "scatterpolar"
           }
          ],
          "scatterpolargl": [
           {
            "marker": {
             "colorbar": {
              "outlinewidth": 0,
              "ticks": ""
             }
            },
            "type": "scatterpolargl"
           }
          ],
          "scatterternary": [
           {
            "marker": {
             "colorbar": {
              "outlinewidth": 0,
              "ticks": ""
             }
            },
            "type": "scatterternary"
           }
          ],
          "surface": [
           {
            "colorbar": {
             "outlinewidth": 0,
             "ticks": ""
            },
            "colorscale": [
             [
              0,
              "#0d0887"
             ],
             [
              0.1111111111111111,
              "#46039f"
             ],
             [
              0.2222222222222222,
              "#7201a8"
             ],
             [
              0.3333333333333333,
              "#9c179e"
             ],
             [
              0.4444444444444444,
              "#bd3786"
             ],
             [
              0.5555555555555556,
              "#d8576b"
             ],
             [
              0.6666666666666666,
              "#ed7953"
             ],
             [
              0.7777777777777778,
              "#fb9f3a"
             ],
             [
              0.8888888888888888,
              "#fdca26"
             ],
             [
              1,
              "#f0f921"
             ]
            ],
            "type": "surface"
           }
          ],
          "table": [
           {
            "cells": {
             "fill": {
              "color": "#EBF0F8"
             },
             "line": {
              "color": "white"
             }
            },
            "header": {
             "fill": {
              "color": "#C8D4E3"
             },
             "line": {
              "color": "white"
             }
            },
            "type": "table"
           }
          ]
         },
         "layout": {
          "annotationdefaults": {
           "arrowcolor": "#2a3f5f",
           "arrowhead": 0,
           "arrowwidth": 1
          },
          "autotypenumbers": "strict",
          "coloraxis": {
           "colorbar": {
            "outlinewidth": 0,
            "ticks": ""
           }
          },
          "colorscale": {
           "diverging": [
            [
             0,
             "#8e0152"
            ],
            [
             0.1,
             "#c51b7d"
            ],
            [
             0.2,
             "#de77ae"
            ],
            [
             0.3,
             "#f1b6da"
            ],
            [
             0.4,
             "#fde0ef"
            ],
            [
             0.5,
             "#f7f7f7"
            ],
            [
             0.6,
             "#e6f5d0"
            ],
            [
             0.7,
             "#b8e186"
            ],
            [
             0.8,
             "#7fbc41"
            ],
            [
             0.9,
             "#4d9221"
            ],
            [
             1,
             "#276419"
            ]
           ],
           "sequential": [
            [
             0,
             "#0d0887"
            ],
            [
             0.1111111111111111,
             "#46039f"
            ],
            [
             0.2222222222222222,
             "#7201a8"
            ],
            [
             0.3333333333333333,
             "#9c179e"
            ],
            [
             0.4444444444444444,
             "#bd3786"
            ],
            [
             0.5555555555555556,
             "#d8576b"
            ],
            [
             0.6666666666666666,
             "#ed7953"
            ],
            [
             0.7777777777777778,
             "#fb9f3a"
            ],
            [
             0.8888888888888888,
             "#fdca26"
            ],
            [
             1,
             "#f0f921"
            ]
           ],
           "sequentialminus": [
            [
             0,
             "#0d0887"
            ],
            [
             0.1111111111111111,
             "#46039f"
            ],
            [
             0.2222222222222222,
             "#7201a8"
            ],
            [
             0.3333333333333333,
             "#9c179e"
            ],
            [
             0.4444444444444444,
             "#bd3786"
            ],
            [
             0.5555555555555556,
             "#d8576b"
            ],
            [
             0.6666666666666666,
             "#ed7953"
            ],
            [
             0.7777777777777778,
             "#fb9f3a"
            ],
            [
             0.8888888888888888,
             "#fdca26"
            ],
            [
             1,
             "#f0f921"
            ]
           ]
          },
          "colorway": [
           "#636efa",
           "#EF553B",
           "#00cc96",
           "#ab63fa",
           "#FFA15A",
           "#19d3f3",
           "#FF6692",
           "#B6E880",
           "#FF97FF",
           "#FECB52"
          ],
          "font": {
           "color": "#2a3f5f"
          },
          "geo": {
           "bgcolor": "white",
           "lakecolor": "white",
           "landcolor": "#E5ECF6",
           "showlakes": true,
           "showland": true,
           "subunitcolor": "white"
          },
          "hoverlabel": {
           "align": "left"
          },
          "hovermode": "closest",
          "mapbox": {
           "style": "light"
          },
          "paper_bgcolor": "white",
          "plot_bgcolor": "#E5ECF6",
          "polar": {
           "angularaxis": {
            "gridcolor": "white",
            "linecolor": "white",
            "ticks": ""
           },
           "bgcolor": "#E5ECF6",
           "radialaxis": {
            "gridcolor": "white",
            "linecolor": "white",
            "ticks": ""
           }
          },
          "scene": {
           "xaxis": {
            "backgroundcolor": "#E5ECF6",
            "gridcolor": "white",
            "gridwidth": 2,
            "linecolor": "white",
            "showbackground": true,
            "ticks": "",
            "zerolinecolor": "white"
           },
           "yaxis": {
            "backgroundcolor": "#E5ECF6",
            "gridcolor": "white",
            "gridwidth": 2,
            "linecolor": "white",
            "showbackground": true,
            "ticks": "",
            "zerolinecolor": "white"
           },
           "zaxis": {
            "backgroundcolor": "#E5ECF6",
            "gridcolor": "white",
            "gridwidth": 2,
            "linecolor": "white",
            "showbackground": true,
            "ticks": "",
            "zerolinecolor": "white"
           }
          },
          "shapedefaults": {
           "line": {
            "color": "#2a3f5f"
           }
          },
          "ternary": {
           "aaxis": {
            "gridcolor": "white",
            "linecolor": "white",
            "ticks": ""
           },
           "baxis": {
            "gridcolor": "white",
            "linecolor": "white",
            "ticks": ""
           },
           "bgcolor": "#E5ECF6",
           "caxis": {
            "gridcolor": "white",
            "linecolor": "white",
            "ticks": ""
           }
          },
          "title": {
           "x": 0.05
          },
          "xaxis": {
           "automargin": true,
           "gridcolor": "white",
           "linecolor": "white",
           "ticks": "",
           "title": {
            "standoff": 15
           },
           "zerolinecolor": "white",
           "zerolinewidth": 2
          },
          "yaxis": {
           "automargin": true,
           "gridcolor": "white",
           "linecolor": "white",
           "ticks": "",
           "title": {
            "standoff": 15
           },
           "zerolinecolor": "white",
           "zerolinewidth": 2
          }
         }
        }
       }
      }
     },
     "metadata": {},
     "output_type": "display_data"
    }
   ],
   "source": [
    "# Create a CIF parser and parse the CIF file\n",
    "parser = CifParser(MP_df['cif'][0])\n",
    "\n",
    "structure = parser.parse_structures(primitive=True)[0]\n",
    "\n",
    "unit_cell = structure.make_supercell([2, 2, 2])\n",
    "\n",
    "unit_cell_coordinates = unit_cell.cart_coords\n",
    "plotting_struct(unit_cell_coordinates)"
   ]
  }
 ],
 "metadata": {
  "kernelspec": {
   "display_name": "base",
   "language": "python",
   "name": "python3"
  },
  "language_info": {
   "codemirror_mode": {
    "name": "ipython",
    "version": 3
   },
   "file_extension": ".py",
   "mimetype": "text/x-python",
   "name": "python",
   "nbconvert_exporter": "python",
   "pygments_lexer": "ipython3",
   "version": "3.11.2"
  }
 },
 "nbformat": 4,
 "nbformat_minor": 2
}
