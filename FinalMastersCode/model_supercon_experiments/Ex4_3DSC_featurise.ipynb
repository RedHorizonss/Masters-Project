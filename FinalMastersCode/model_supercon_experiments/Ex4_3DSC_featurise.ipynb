{
 "cells": [
  {
   "cell_type": "code",
   "execution_count": 3,
   "metadata": {},
   "outputs": [],
   "source": [
    "import sys\n",
    "sys.path.append('..')\n",
    "from cleaned_code import *\n",
    "\n",
    "import warnings\n",
    "warnings.filterwarnings(\"ignore\")"
   ]
  },
  {
   "cell_type": "code",
   "execution_count": 4,
   "metadata": {},
   "outputs": [],
   "source": [
    "import pandas as pd\n",
    "import numpy as np\n",
    "import pickle"
   ]
  },
  {
   "cell_type": "markdown",
   "metadata": {},
   "source": [
    "# Featurise Data"
   ]
  },
  {
   "cell_type": "code",
   "execution_count": 5,
   "metadata": {},
   "outputs": [],
   "source": [
    "with open('featurised_datasets/asymcell.pkl', 'rb') as f:\n",
    "    assymcell = pickle.load(f)\n",
    "    \n",
    "with open('featurised_datasets/unitcell.pkl', 'rb') as f:\n",
    "    unitcell = pickle.load(f)"
   ]
  },
  {
   "cell_type": "code",
   "execution_count": 6,
   "metadata": {},
   "outputs": [
    {
     "name": "stdout",
     "output_type": "stream",
     "text": [
      "5773\n",
      "[[0.00000000e+00 0.00000000e+00 0.00000000e+00]\n",
      " [7.34948192e-16 5.55748767e+00 1.14006969e-15]]\n"
     ]
    }
   ],
   "source": [
    "print(len(assymcell))\n",
    "\n",
    "print(assymcell[1])"
   ]
  },
  {
   "cell_type": "code",
   "execution_count": 7,
   "metadata": {},
   "outputs": [
    {
     "name": "stdout",
     "output_type": "stream",
     "text": [
      "5773\n",
      "[[ 0.00000000e+00  0.00000000e+00  0.00000000e+00]\n",
      " [-2.61982481e+00  3.70499178e+00 -8.46261429e-17]\n",
      " [ 1.30991241e+00  3.70499178e+00 -2.26883484e+00]\n",
      " [-1.30991241e+00  7.40998356e+00 -2.26883484e+00]\n",
      " [ 1.30991241e+00  3.70499178e+00  2.26883484e+00]\n",
      " [-1.30991241e+00  7.40998356e+00  2.26883484e+00]\n",
      " [ 2.61982481e+00  7.40998356e+00  1.33226763e-15]\n",
      " [ 7.34948192e-16  1.11149753e+01  8.88178420e-16]\n",
      " [ 8.80377684e-16  5.55748767e+00  1.01412405e-15]\n",
      " [-2.61982481e+00  9.26247945e+00  1.01412405e-15]\n",
      " [ 1.30991241e+00  9.26247945e+00 -2.26883484e+00]\n",
      " [-1.30991241e+00  1.29674712e+01 -2.26883484e+00]\n",
      " [ 1.30991241e+00  9.26247945e+00  2.26883484e+00]\n",
      " [-1.30991241e+00  1.29674712e+01  2.26883484e+00]\n",
      " [ 2.61982481e+00  1.29674712e+01  2.22044605e-15]\n",
      " [ 2.05161435e-15  1.66724630e+01  1.77635684e-15]]\n"
     ]
    }
   ],
   "source": [
    "print(len(unitcell))\n",
    "\n",
    "print(unitcell[1])"
   ]
  },
  {
   "cell_type": "markdown",
   "metadata": {},
   "source": [
    "Just checking we have the right data and the right length of data"
   ]
  },
  {
   "cell_type": "code",
   "execution_count": 8,
   "metadata": {},
   "outputs": [],
   "source": [
    "features = PresistentHomologyFeatures(coords=assymcell)\n",
    "asym_topol_feat_mat, asym_topol_feat_list = features.featurising_coords()"
   ]
  },
  {
   "cell_type": "code",
   "execution_count": 9,
   "metadata": {},
   "outputs": [],
   "source": [
    "np.save(\"featurised_datasets\\PHF_AsymCell\", asym_topol_feat_mat)"
   ]
  }
 ],
 "metadata": {
  "kernelspec": {
   "display_name": "enviroment",
   "language": "python",
   "name": "python3"
  },
  "language_info": {
   "codemirror_mode": {
    "name": "ipython",
    "version": 3
   },
   "file_extension": ".py",
   "mimetype": "text/x-python",
   "name": "python",
   "nbconvert_exporter": "python",
   "pygments_lexer": "ipython3",
   "version": "3.7.16"
  }
 },
 "nbformat": 4,
 "nbformat_minor": 2
}
