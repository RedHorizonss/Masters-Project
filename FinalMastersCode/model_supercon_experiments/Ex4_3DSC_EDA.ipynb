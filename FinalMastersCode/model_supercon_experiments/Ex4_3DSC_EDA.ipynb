{
 "cells": [
  {
   "cell_type": "code",
   "execution_count": 1,
   "metadata": {},
   "outputs": [],
   "source": [
    "import sys\n",
    "sys.path.append('..')\n",
    "from cleaned_code import *\n",
    "\n",
    "import warnings\n",
    "warnings.filterwarnings(\"ignore\")"
   ]
  },
  {
   "cell_type": "code",
   "execution_count": 2,
   "metadata": {},
   "outputs": [],
   "source": [
    "import pandas as pd\n",
    "import numpy as np\n",
    "import plotly.graph_objs as go"
   ]
  },
  {
   "cell_type": "code",
   "execution_count": 46,
   "metadata": {},
   "outputs": [],
   "source": [
    "def corr_matrix(dataframe, features, width, height, text_size):\n",
    "    features.append(\"tc\")\n",
    "    # Compute the correlation matrix\n",
    "    correlation_matrix = dataframe[features].corr()\n",
    "\n",
    "    # Get the correlation values\n",
    "    correlation_values = correlation_matrix.values.round(2)\n",
    "    \n",
    "    names_x = [name.replace('_', ' ') for name in correlation_matrix]\n",
    "\n",
    "    # Create the heatmap trace\n",
    "    heatmap = go.Heatmap(\n",
    "        z=correlation_values,\n",
    "        x=names_x,\n",
    "        y=names_x,\n",
    "        colorscale='Viridis', \n",
    "        colorbar=dict(title='Pearson Coefficient', titleside='right', tickvals = [-1,-0.5,0,0.5,1], ticktext = [-1,-0.5,0,0.5,1]),\n",
    "        text=correlation_values,\n",
    "        texttemplate=\"%{text}\",\n",
    "        textfont={\"size\":text_size}\n",
    "    )\n",
    "    \n",
    "\n",
    "    # Create the layout\n",
    "    layout = go.Layout(\n",
    "        xaxis=dict(\n",
    "            title=\"\",\n",
    "            showline=True,\n",
    "            linewidth=5,\n",
    "            linecolor='black',\n",
    "            ticks='inside',\n",
    "            tickwidth=4,\n",
    "            ticklen=5\n",
    "        ),\n",
    "        yaxis=dict(\n",
    "            title=\"\",\n",
    "            showline=True,\n",
    "            linewidth=5,\n",
    "            linecolor='black',\n",
    "            ticks='inside',\n",
    "            tickwidth=4,\n",
    "            ticklen=5\n",
    "        ),\n",
    "        width=width,\n",
    "        height=height,\n",
    "        plot_bgcolor='white',\n",
    "        paper_bgcolor='white',\n",
    "        font=dict(family='Helvetica', size=18, color='black'),\n",
    "        margin=dict(l=5, r=5, b=5, t=10)\n",
    "    )\n",
    "\n",
    "    # Create the figure\n",
    "    fig = go.Figure(data=[heatmap], layout=layout)\n",
    "\n",
    "    # Show the figure\n",
    "    fig.show()"
   ]
  },
  {
   "cell_type": "markdown",
   "metadata": {},
   "source": [
    "# Data Analysis\n",
    "\n",
    "Just a quick overview"
   ]
  },
  {
   "cell_type": "code",
   "execution_count": 4,
   "metadata": {},
   "outputs": [
    {
     "data": {
      "text/html": [
       "<div>\n",
       "<style scoped>\n",
       "    .dataframe tbody tr th:only-of-type {\n",
       "        vertical-align: middle;\n",
       "    }\n",
       "\n",
       "    .dataframe tbody tr th {\n",
       "        vertical-align: top;\n",
       "    }\n",
       "\n",
       "    .dataframe thead th {\n",
       "        text-align: right;\n",
       "    }\n",
       "</style>\n",
       "<table border=\"1\" class=\"dataframe\">\n",
       "  <thead>\n",
       "    <tr style=\"text-align: right;\">\n",
       "      <th></th>\n",
       "      <th>formula_sc</th>\n",
       "      <th>formula_similarity</th>\n",
       "      <th>totreldiff</th>\n",
       "      <th>formula_frac</th>\n",
       "      <th>correct_formula_frac</th>\n",
       "      <th>formula</th>\n",
       "      <th>orig_formula_cif</th>\n",
       "      <th>tc</th>\n",
       "      <th>sc_class</th>\n",
       "      <th>sc_class_unique_sc</th>\n",
       "      <th>...</th>\n",
       "      <th>monoclinic</th>\n",
       "      <th>orthorhombic</th>\n",
       "      <th>tetragonal</th>\n",
       "      <th>triclinic</th>\n",
       "      <th>trigonal</th>\n",
       "      <th>primitive</th>\n",
       "      <th>base-centered</th>\n",
       "      <th>body-centered</th>\n",
       "      <th>face-centered</th>\n",
       "      <th>weight</th>\n",
       "    </tr>\n",
       "  </thead>\n",
       "  <tbody>\n",
       "    <tr>\n",
       "      <th>0</th>\n",
       "      <td>Ag0.02Ge2Pd1.98Sr1</td>\n",
       "      <td>2</td>\n",
       "      <td>0.008000</td>\n",
       "      <td>1.0</td>\n",
       "      <td>True</td>\n",
       "      <td>Ag0.02Ge2Pd1.98Sr1</td>\n",
       "      <td>Ge2Pd2Sr1</td>\n",
       "      <td>2.64</td>\n",
       "      <td>Other</td>\n",
       "      <td>True</td>\n",
       "      <td>...</td>\n",
       "      <td>0</td>\n",
       "      <td>0</td>\n",
       "      <td>7</td>\n",
       "      <td>0</td>\n",
       "      <td>0</td>\n",
       "      <td>0</td>\n",
       "      <td>0</td>\n",
       "      <td>1</td>\n",
       "      <td>0</td>\n",
       "      <td>1.0</td>\n",
       "    </tr>\n",
       "    <tr>\n",
       "      <th>1</th>\n",
       "      <td>Ag0.15Sn0.85Te1</td>\n",
       "      <td>3</td>\n",
       "      <td>0.150000</td>\n",
       "      <td>1.0</td>\n",
       "      <td>True</td>\n",
       "      <td>Ag0.15Sn0.85Te1</td>\n",
       "      <td>Sn1Te1</td>\n",
       "      <td>2.15</td>\n",
       "      <td>Other</td>\n",
       "      <td>True</td>\n",
       "      <td>...</td>\n",
       "      <td>0</td>\n",
       "      <td>0</td>\n",
       "      <td>0</td>\n",
       "      <td>0</td>\n",
       "      <td>0</td>\n",
       "      <td>0</td>\n",
       "      <td>0</td>\n",
       "      <td>0</td>\n",
       "      <td>1</td>\n",
       "      <td>1.0</td>\n",
       "    </tr>\n",
       "    <tr>\n",
       "      <th>2</th>\n",
       "      <td>Ag0.1Ge2Pd1.9Sr1</td>\n",
       "      <td>2</td>\n",
       "      <td>0.040000</td>\n",
       "      <td>1.0</td>\n",
       "      <td>True</td>\n",
       "      <td>Ag0.1Ge2Pd1.9Sr1</td>\n",
       "      <td>Ge2Pd2Sr1</td>\n",
       "      <td>2.62</td>\n",
       "      <td>Other</td>\n",
       "      <td>True</td>\n",
       "      <td>...</td>\n",
       "      <td>0</td>\n",
       "      <td>0</td>\n",
       "      <td>7</td>\n",
       "      <td>0</td>\n",
       "      <td>0</td>\n",
       "      <td>0</td>\n",
       "      <td>0</td>\n",
       "      <td>1</td>\n",
       "      <td>0</td>\n",
       "      <td>1.0</td>\n",
       "    </tr>\n",
       "    <tr>\n",
       "      <th>3</th>\n",
       "      <td>Ag0.1In0.9Te1</td>\n",
       "      <td>3</td>\n",
       "      <td>0.100000</td>\n",
       "      <td>1.0</td>\n",
       "      <td>True</td>\n",
       "      <td>Ag0.1In0.9Te1</td>\n",
       "      <td>In1Te1</td>\n",
       "      <td>1.20</td>\n",
       "      <td>Other</td>\n",
       "      <td>True</td>\n",
       "      <td>...</td>\n",
       "      <td>0</td>\n",
       "      <td>0</td>\n",
       "      <td>0</td>\n",
       "      <td>0</td>\n",
       "      <td>0</td>\n",
       "      <td>0</td>\n",
       "      <td>0</td>\n",
       "      <td>0</td>\n",
       "      <td>1</td>\n",
       "      <td>1.0</td>\n",
       "    </tr>\n",
       "    <tr>\n",
       "      <th>4</th>\n",
       "      <td>Ag0.2Ba1Si1.8</td>\n",
       "      <td>3</td>\n",
       "      <td>0.133333</td>\n",
       "      <td>4.0</td>\n",
       "      <td>False</td>\n",
       "      <td>Ag0.8Ba4Si7.2</td>\n",
       "      <td>Ba4Si8</td>\n",
       "      <td>3.20</td>\n",
       "      <td>Other</td>\n",
       "      <td>True</td>\n",
       "      <td>...</td>\n",
       "      <td>0</td>\n",
       "      <td>0</td>\n",
       "      <td>0</td>\n",
       "      <td>0</td>\n",
       "      <td>0</td>\n",
       "      <td>1</td>\n",
       "      <td>0</td>\n",
       "      <td>0</td>\n",
       "      <td>0</td>\n",
       "      <td>1.0</td>\n",
       "    </tr>\n",
       "  </tbody>\n",
       "</table>\n",
       "<p>5 rows × 92 columns</p>\n",
       "</div>"
      ],
      "text/plain": [
       "           formula_sc  formula_similarity  totreldiff  formula_frac  \\\n",
       "0  Ag0.02Ge2Pd1.98Sr1                   2    0.008000           1.0   \n",
       "1     Ag0.15Sn0.85Te1                   3    0.150000           1.0   \n",
       "2    Ag0.1Ge2Pd1.9Sr1                   2    0.040000           1.0   \n",
       "3       Ag0.1In0.9Te1                   3    0.100000           1.0   \n",
       "4       Ag0.2Ba1Si1.8                   3    0.133333           4.0   \n",
       "\n",
       "   correct_formula_frac             formula orig_formula_cif    tc sc_class  \\\n",
       "0                  True  Ag0.02Ge2Pd1.98Sr1        Ge2Pd2Sr1  2.64    Other   \n",
       "1                  True     Ag0.15Sn0.85Te1           Sn1Te1  2.15    Other   \n",
       "2                  True    Ag0.1Ge2Pd1.9Sr1        Ge2Pd2Sr1  2.62    Other   \n",
       "3                  True       Ag0.1In0.9Te1           In1Te1  1.20    Other   \n",
       "4                 False       Ag0.8Ba4Si7.2           Ba4Si8  3.20    Other   \n",
       "\n",
       "   sc_class_unique_sc  ... monoclinic orthorhombic  tetragonal triclinic  \\\n",
       "0                True  ...          0            0           7         0   \n",
       "1                True  ...          0            0           0         0   \n",
       "2                True  ...          0            0           7         0   \n",
       "3                True  ...          0            0           0         0   \n",
       "4                True  ...          0            0           0         0   \n",
       "\n",
       "  trigonal primitive base-centered body-centered face-centered weight  \n",
       "0        0         0             0             1             0    1.0  \n",
       "1        0         0             0             0             1    1.0  \n",
       "2        0         0             0             1             0    1.0  \n",
       "3        0         0             0             0             1    1.0  \n",
       "4        0         1             0             0             0    1.0  \n",
       "\n",
       "[5 rows x 92 columns]"
      ]
     },
     "execution_count": 4,
     "metadata": {},
     "output_type": "execute_result"
    }
   ],
   "source": [
    "df_MP = pd.read_csv(\"3DSC_MP.csv\", skiprows=1)\n",
    "df_MP['cif'] = df_MP['cif'].str.replace('data/final/MP/', '')\n",
    "df_MP.columns = df_MP.columns.str.replace('_2', '')\n",
    "df_MP.head()"
   ]
  },
  {
   "cell_type": "code",
   "execution_count": 5,
   "metadata": {},
   "outputs": [
    {
     "data": {
      "text/plain": [
       "0       445.768964\n",
       "1       244.683730\n",
       "2       445.884820\n",
       "3       241.723020\n",
       "4       837.818160\n",
       "           ...    \n",
       "5768    154.314850\n",
       "5769    519.120000\n",
       "5770    130.818000\n",
       "5771    444.084000\n",
       "5772    182.448000\n",
       "Name: average_atomic_weight, Length: 5773, dtype: float64"
      ]
     },
     "execution_count": 5,
     "metadata": {},
     "output_type": "execute_result"
    }
   ],
   "source": [
    "from pymatgen.io.cif import CifParser\n",
    "\n",
    "for cif_path in df_MP[\"cif\"]:\n",
    "    parser = CifParser(cif_path)\n",
    "    structure = parser.get_structures()[0]  # Assuming there's only one structure in the file\n",
    "\n",
    "    # Get the composition of the structure\n",
    "    composition = structure.composition\n",
    "\n",
    "    # Calculate the average atomic weight\n",
    "    average_atomic_weight = composition.weight\n",
    "    \n",
    "    df_MP.loc[df_MP[\"cif\"] == cif_path, \"average_atomic_weight\"] = average_atomic_weight\n",
    "df_MP[\"average_atomic_weight\"]"
   ]
  },
  {
   "cell_type": "code",
   "execution_count": 6,
   "metadata": {},
   "outputs": [
    {
     "name": "stdout",
     "output_type": "stream",
     "text": [
      "Column 'formula_sc' has type: object\n",
      "Column 'formula_similarity' has type: int64\n",
      "Column 'totreldiff' has type: float64\n",
      "Column 'formula_frac' has type: float64\n",
      "Column 'correct_formula_frac' has type: bool\n",
      "Column 'formula' has type: object\n",
      "Column 'orig_formula_cif' has type: object\n",
      "Column 'tc' has type: float64\n",
      "Column 'sc_class' has type: object\n",
      "Column 'sc_class_unique_sc' has type: bool\n",
      "Column 'norm_formula_sc' has type: object\n",
      "Column 'chemical_composition_sc' has type: object\n",
      "Column 'num_elements_sc' has type: int64\n",
      "Column 'origin_sc' has type: object\n",
      "Column 'old_formula_sc' has type: object\n",
      "Column 'database_id' has type: object\n",
      "Column 'original_formula' has type: object\n",
      "Column 'chemical_composition' has type: object\n",
      "Column 'norm_formula' has type: object\n",
      "Column 'spacegroup' has type: object\n",
      "Column 'crystal_system' has type: object\n",
      "Column 'lata' has type: float64\n",
      "Column 'latb' has type: float64\n",
      "Column 'latc' has type: float64\n",
      "Column 'cif' has type: object\n",
      "Column 'original_cif' has type: object\n",
      "Column 'material_id' has type: object\n",
      "Column 'band_gap' has type: float64\n",
      "Column 'band_structure' has type: object\n",
      "Column 'created_at' has type: object\n",
      "Column 'density' has type: float64\n",
      "Column 'doi' has type: object\n",
      "Column 'doi_bibtex' has type: object\n",
      "Column 'dos' has type: object\n",
      "Column 'e_above_hull' has type: float64\n",
      "Column 'efermi' has type: float64\n",
      "Column 'encut' has type: float64\n",
      "Column 'energy' has type: float64\n",
      "Column 'energy_per_atom' has type: float64\n",
      "Column 'exp' has type: object\n",
      "Column 'final_energy' has type: float64\n",
      "Column 'final_energy_per_atom' has type: float64\n",
      "Column 'formation_energy_per_atom' has type: float64\n",
      "Column 'has' has type: object\n",
      "Column 'has_bandstructure' has type: bool\n",
      "Column 'icsd_ids' has type: object\n",
      "Column 'is_ordered' has type: bool\n",
      "Column 'last_updated' has type: object\n",
      "Column 'magnetic_type' has type: object\n",
      "Column 'nsites' has type: int64\n",
      "Column 'ntask_ids' has type: int64\n",
      "Column 'original_task_id' has type: object\n",
      "Column 'oxide_type' has type: object\n",
      "Column 'pretty_formula' has type: object\n",
      "Column 'pseudo_potential' has type: object\n",
      "Column 'reduced_cell_formula' has type: object\n",
      "Column 'run_type' has type: object\n",
      "Column 'task_id' has type: object\n",
      "Column 'task_ids' has type: object\n",
      "Column 'total_magnetization' has type: float64\n",
      "Column 'unit_cell_formula' has type: object\n",
      "Column 'cell_volume' has type: float64\n",
      "Column 'warnings' has type: object\n",
      "Column 'ordering' has type: object\n",
      "Column 'is_magnetic' has type: bool\n",
      "Column 'exchange_symmetry' has type: int64\n",
      "Column 'num_unique_magnetic_sites' has type: int64\n",
      "Column 'magmoms' has type: object\n",
      "Column 'total_magnetization_normalized_vol' has type: float64\n",
      "Column 'total_magnetization_normalized_formula_units' has type: float64\n",
      "Column 'num_magnetic_sites' has type: int64\n",
      "Column 'true_total_magnetization' has type: float64\n",
      "Column 'origin' has type: object\n",
      "Column 'cif_before_synthetic_doping' has type: object\n",
      "Column 'synth_doped' has type: bool\n",
      "Column 'Reason for exclusion' has type: float64\n",
      "Column 'graph' has type: object\n",
      "Column 'crystal_temp' has type: int64\n",
      "Column 'no_crystal_temp_given' has type: bool\n",
      "Column 'point_group' has type: object\n",
      "Column 'cubic' has type: int64\n",
      "Column 'hexagonal' has type: int64\n",
      "Column 'monoclinic' has type: int64\n",
      "Column 'orthorhombic' has type: int64\n",
      "Column 'tetragonal' has type: int64\n",
      "Column 'triclinic' has type: int64\n",
      "Column 'trigonal' has type: int64\n",
      "Column 'primitive' has type: int64\n",
      "Column 'base-centered' has type: int64\n",
      "Column 'body-centered' has type: int64\n",
      "Column 'face-centered' has type: int64\n",
      "Column 'weight' has type: float64\n",
      "Column 'average_atomic_weight' has type: float64\n"
     ]
    }
   ],
   "source": [
    "for column in df_MP.columns:\n",
    "    print(f\"Column '{column}' has type: {df_MP[column].dtype}\")"
   ]
  },
  {
   "cell_type": "code",
   "execution_count": 7,
   "metadata": {},
   "outputs": [
    {
     "name": "stdout",
     "output_type": "stream",
     "text": [
      "Total dataset length: 5773\n"
     ]
    }
   ],
   "source": [
    "total_dataset_length = len(df_MP)\n",
    "print(f\"Total dataset length: {total_dataset_length}\")"
   ]
  },
  {
   "cell_type": "markdown",
   "metadata": {},
   "source": [
    "## Supercon or Not?"
   ]
  },
  {
   "cell_type": "code",
   "execution_count": 8,
   "metadata": {},
   "outputs": [
    {
     "name": "stdout",
     "output_type": "stream",
     "text": [
      "False\n"
     ]
    }
   ],
   "source": [
    "# Is there any NA values in the dataset?\n",
    "print(df_MP['tc'].isna().any())"
   ]
  },
  {
   "cell_type": "code",
   "execution_count": 9,
   "metadata": {},
   "outputs": [
    {
     "name": "stdout",
     "output_type": "stream",
     "text": [
      "Count of tc values that are 0: 1778\n",
      "Count of tc values that are not 0: 3995\n"
     ]
    }
   ],
   "source": [
    "tc_counts = df_MP['tc'].value_counts()\n",
    "zero_count = tc_counts[0]\n",
    "non_zero_count = tc_counts[tc_counts.index != 0].sum()\n",
    "\n",
    "print(f\"Count of tc values that are 0: {zero_count}\")\n",
    "print(f\"Count of tc values that are not 0: {non_zero_count}\")"
   ]
  },
  {
   "cell_type": "code",
   "execution_count": 10,
   "metadata": {},
   "outputs": [],
   "source": [
    "df_MP_non_zero = df_MP[df_MP['tc'] != 0]\n",
    "\n",
    "df_MP.loc[df_MP[\"tc\"] == 0, \"sc_class\"] = \"Not_supercon\""
   ]
  },
  {
   "cell_type": "markdown",
   "metadata": {},
   "source": [
    "## Supercon Variety"
   ]
  },
  {
   "cell_type": "code",
   "execution_count": 11,
   "metadata": {},
   "outputs": [],
   "source": [
    "# Define a dictionary to map the old names to the new names\n",
    "name_mapping = {\n",
    "    'Other': 'Other',\n",
    "    'Not_supercon': 'Not Superconductor',\n",
    "    'Cuprate': 'Cuprate',\n",
    "    'Ferrite': 'Ferrite',\n",
    "    'Heavy_fermion': 'Heavy Fermion',\n",
    "    'Oxide': 'Oxide',\n",
    "    'Chevrel': 'Chevrel',\n",
    "    'Carbon': 'Carbon',\n",
    "    'Heavy_fermionChevrel': 'Heavy Fermion Chevrel',\n",
    "    'OxideHeavy_fermion': 'Oxide Heavy Fermion'\n",
    "}\n",
    "\n",
    "# Replace the values in the sc_class column with the new names\n",
    "df_MP['sc_class_name'] = df_MP['sc_class'].map(name_mapping)"
   ]
  },
  {
   "cell_type": "code",
   "execution_count": 12,
   "metadata": {},
   "outputs": [
    {
     "name": "stdout",
     "output_type": "stream",
     "text": [
      "Other                    2512\n",
      "Not Superconductor       1778\n",
      "Cuprate                   576\n",
      "Ferrite                   406\n",
      "Heavy Fermion             241\n",
      "Oxide                     181\n",
      "Chevrel                    54\n",
      "Carbon                     18\n",
      "Heavy Fermion Chevrel       6\n",
      "Oxide Heavy Fermion         1\n",
      "Name: sc_class_name, dtype: int64\n"
     ]
    }
   ],
   "source": [
    "sc_class_counts = df_MP['sc_class_name'].value_counts()\n",
    "print(sc_class_counts)"
   ]
  },
  {
   "cell_type": "code",
   "execution_count": 13,
   "metadata": {},
   "outputs": [
    {
     "data": {
      "application/vnd.plotly.v1+json": {
       "config": {
        "plotlyServerURL": "https://plot.ly"
       },
       "data": [
        {
         "marker": {
          "color": [
           "rgb(237, 121, 83)",
           "rgb(33, 145, 140)",
           "rgb(33, 145, 140)",
           "rgb(33, 145, 140)",
           "rgb(33, 145, 140)",
           "rgb(33, 145, 140)",
           "rgb(33, 145, 140)",
           "rgb(33, 145, 140)",
           "rgb(33, 145, 140)",
           "rgb(33, 145, 140)"
          ]
         },
         "text": [
          "43.51%",
          "30.80%",
          "9.98%",
          "7.03%",
          "4.17%",
          "3.14%",
          "0.94%",
          "0.31%",
          "0.10%",
          "0.02%"
         ],
         "textposition": "auto",
         "type": "bar",
         "x": [
          "Not Superconductor",
          "Other",
          "Cuprate",
          "Ferrite",
          "Heavy Fermion",
          "Oxide",
          "Chevrel",
          "Carbon",
          "Heavy Fermion Chevrel",
          "Oxide Heavy Fermion"
         ],
         "y": [
          1778,
          2512,
          576,
          406,
          241,
          181,
          54,
          18,
          6,
          1
         ]
        }
       ],
       "layout": {
        "font": {
         "color": "black",
         "family": "Helvetica",
         "size": 24
        },
        "height": 800,
        "margin": {
         "b": 10,
         "l": 10,
         "r": 10,
         "t": 10
        },
        "paper_bgcolor": "white",
        "plot_bgcolor": "white",
        "template": {
         "data": {
          "bar": [
           {
            "error_x": {
             "color": "#2a3f5f"
            },
            "error_y": {
             "color": "#2a3f5f"
            },
            "marker": {
             "line": {
              "color": "#E5ECF6",
              "width": 0.5
             },
             "pattern": {
              "fillmode": "overlay",
              "size": 10,
              "solidity": 0.2
             }
            },
            "type": "bar"
           }
          ],
          "barpolar": [
           {
            "marker": {
             "line": {
              "color": "#E5ECF6",
              "width": 0.5
             },
             "pattern": {
              "fillmode": "overlay",
              "size": 10,
              "solidity": 0.2
             }
            },
            "type": "barpolar"
           }
          ],
          "carpet": [
           {
            "aaxis": {
             "endlinecolor": "#2a3f5f",
             "gridcolor": "white",
             "linecolor": "white",
             "minorgridcolor": "white",
             "startlinecolor": "#2a3f5f"
            },
            "baxis": {
             "endlinecolor": "#2a3f5f",
             "gridcolor": "white",
             "linecolor": "white",
             "minorgridcolor": "white",
             "startlinecolor": "#2a3f5f"
            },
            "type": "carpet"
           }
          ],
          "choropleth": [
           {
            "colorbar": {
             "outlinewidth": 0,
             "ticks": ""
            },
            "type": "choropleth"
           }
          ],
          "contour": [
           {
            "colorbar": {
             "outlinewidth": 0,
             "ticks": ""
            },
            "colorscale": [
             [
              0,
              "#0d0887"
             ],
             [
              0.1111111111111111,
              "#46039f"
             ],
             [
              0.2222222222222222,
              "#7201a8"
             ],
             [
              0.3333333333333333,
              "#9c179e"
             ],
             [
              0.4444444444444444,
              "#bd3786"
             ],
             [
              0.5555555555555556,
              "#d8576b"
             ],
             [
              0.6666666666666666,
              "#ed7953"
             ],
             [
              0.7777777777777778,
              "#fb9f3a"
             ],
             [
              0.8888888888888888,
              "#fdca26"
             ],
             [
              1,
              "#f0f921"
             ]
            ],
            "type": "contour"
           }
          ],
          "contourcarpet": [
           {
            "colorbar": {
             "outlinewidth": 0,
             "ticks": ""
            },
            "type": "contourcarpet"
           }
          ],
          "heatmap": [
           {
            "colorbar": {
             "outlinewidth": 0,
             "ticks": ""
            },
            "colorscale": [
             [
              0,
              "#0d0887"
             ],
             [
              0.1111111111111111,
              "#46039f"
             ],
             [
              0.2222222222222222,
              "#7201a8"
             ],
             [
              0.3333333333333333,
              "#9c179e"
             ],
             [
              0.4444444444444444,
              "#bd3786"
             ],
             [
              0.5555555555555556,
              "#d8576b"
             ],
             [
              0.6666666666666666,
              "#ed7953"
             ],
             [
              0.7777777777777778,
              "#fb9f3a"
             ],
             [
              0.8888888888888888,
              "#fdca26"
             ],
             [
              1,
              "#f0f921"
             ]
            ],
            "type": "heatmap"
           }
          ],
          "heatmapgl": [
           {
            "colorbar": {
             "outlinewidth": 0,
             "ticks": ""
            },
            "colorscale": [
             [
              0,
              "#0d0887"
             ],
             [
              0.1111111111111111,
              "#46039f"
             ],
             [
              0.2222222222222222,
              "#7201a8"
             ],
             [
              0.3333333333333333,
              "#9c179e"
             ],
             [
              0.4444444444444444,
              "#bd3786"
             ],
             [
              0.5555555555555556,
              "#d8576b"
             ],
             [
              0.6666666666666666,
              "#ed7953"
             ],
             [
              0.7777777777777778,
              "#fb9f3a"
             ],
             [
              0.8888888888888888,
              "#fdca26"
             ],
             [
              1,
              "#f0f921"
             ]
            ],
            "type": "heatmapgl"
           }
          ],
          "histogram": [
           {
            "marker": {
             "pattern": {
              "fillmode": "overlay",
              "size": 10,
              "solidity": 0.2
             }
            },
            "type": "histogram"
           }
          ],
          "histogram2d": [
           {
            "colorbar": {
             "outlinewidth": 0,
             "ticks": ""
            },
            "colorscale": [
             [
              0,
              "#0d0887"
             ],
             [
              0.1111111111111111,
              "#46039f"
             ],
             [
              0.2222222222222222,
              "#7201a8"
             ],
             [
              0.3333333333333333,
              "#9c179e"
             ],
             [
              0.4444444444444444,
              "#bd3786"
             ],
             [
              0.5555555555555556,
              "#d8576b"
             ],
             [
              0.6666666666666666,
              "#ed7953"
             ],
             [
              0.7777777777777778,
              "#fb9f3a"
             ],
             [
              0.8888888888888888,
              "#fdca26"
             ],
             [
              1,
              "#f0f921"
             ]
            ],
            "type": "histogram2d"
           }
          ],
          "histogram2dcontour": [
           {
            "colorbar": {
             "outlinewidth": 0,
             "ticks": ""
            },
            "colorscale": [
             [
              0,
              "#0d0887"
             ],
             [
              0.1111111111111111,
              "#46039f"
             ],
             [
              0.2222222222222222,
              "#7201a8"
             ],
             [
              0.3333333333333333,
              "#9c179e"
             ],
             [
              0.4444444444444444,
              "#bd3786"
             ],
             [
              0.5555555555555556,
              "#d8576b"
             ],
             [
              0.6666666666666666,
              "#ed7953"
             ],
             [
              0.7777777777777778,
              "#fb9f3a"
             ],
             [
              0.8888888888888888,
              "#fdca26"
             ],
             [
              1,
              "#f0f921"
             ]
            ],
            "type": "histogram2dcontour"
           }
          ],
          "mesh3d": [
           {
            "colorbar": {
             "outlinewidth": 0,
             "ticks": ""
            },
            "type": "mesh3d"
           }
          ],
          "parcoords": [
           {
            "line": {
             "colorbar": {
              "outlinewidth": 0,
              "ticks": ""
             }
            },
            "type": "parcoords"
           }
          ],
          "pie": [
           {
            "automargin": true,
            "type": "pie"
           }
          ],
          "scatter": [
           {
            "fillpattern": {
             "fillmode": "overlay",
             "size": 10,
             "solidity": 0.2
            },
            "type": "scatter"
           }
          ],
          "scatter3d": [
           {
            "line": {
             "colorbar": {
              "outlinewidth": 0,
              "ticks": ""
             }
            },
            "marker": {
             "colorbar": {
              "outlinewidth": 0,
              "ticks": ""
             }
            },
            "type": "scatter3d"
           }
          ],
          "scattercarpet": [
           {
            "marker": {
             "colorbar": {
              "outlinewidth": 0,
              "ticks": ""
             }
            },
            "type": "scattercarpet"
           }
          ],
          "scattergeo": [
           {
            "marker": {
             "colorbar": {
              "outlinewidth": 0,
              "ticks": ""
             }
            },
            "type": "scattergeo"
           }
          ],
          "scattergl": [
           {
            "marker": {
             "colorbar": {
              "outlinewidth": 0,
              "ticks": ""
             }
            },
            "type": "scattergl"
           }
          ],
          "scattermapbox": [
           {
            "marker": {
             "colorbar": {
              "outlinewidth": 0,
              "ticks": ""
             }
            },
            "type": "scattermapbox"
           }
          ],
          "scatterpolar": [
           {
            "marker": {
             "colorbar": {
              "outlinewidth": 0,
              "ticks": ""
             }
            },
            "type": "scatterpolar"
           }
          ],
          "scatterpolargl": [
           {
            "marker": {
             "colorbar": {
              "outlinewidth": 0,
              "ticks": ""
             }
            },
            "type": "scatterpolargl"
           }
          ],
          "scatterternary": [
           {
            "marker": {
             "colorbar": {
              "outlinewidth": 0,
              "ticks": ""
             }
            },
            "type": "scatterternary"
           }
          ],
          "surface": [
           {
            "colorbar": {
             "outlinewidth": 0,
             "ticks": ""
            },
            "colorscale": [
             [
              0,
              "#0d0887"
             ],
             [
              0.1111111111111111,
              "#46039f"
             ],
             [
              0.2222222222222222,
              "#7201a8"
             ],
             [
              0.3333333333333333,
              "#9c179e"
             ],
             [
              0.4444444444444444,
              "#bd3786"
             ],
             [
              0.5555555555555556,
              "#d8576b"
             ],
             [
              0.6666666666666666,
              "#ed7953"
             ],
             [
              0.7777777777777778,
              "#fb9f3a"
             ],
             [
              0.8888888888888888,
              "#fdca26"
             ],
             [
              1,
              "#f0f921"
             ]
            ],
            "type": "surface"
           }
          ],
          "table": [
           {
            "cells": {
             "fill": {
              "color": "#EBF0F8"
             },
             "line": {
              "color": "white"
             }
            },
            "header": {
             "fill": {
              "color": "#C8D4E3"
             },
             "line": {
              "color": "white"
             }
            },
            "type": "table"
           }
          ]
         },
         "layout": {
          "annotationdefaults": {
           "arrowcolor": "#2a3f5f",
           "arrowhead": 0,
           "arrowwidth": 1
          },
          "autotypenumbers": "strict",
          "coloraxis": {
           "colorbar": {
            "outlinewidth": 0,
            "ticks": ""
           }
          },
          "colorscale": {
           "diverging": [
            [
             0,
             "#8e0152"
            ],
            [
             0.1,
             "#c51b7d"
            ],
            [
             0.2,
             "#de77ae"
            ],
            [
             0.3,
             "#f1b6da"
            ],
            [
             0.4,
             "#fde0ef"
            ],
            [
             0.5,
             "#f7f7f7"
            ],
            [
             0.6,
             "#e6f5d0"
            ],
            [
             0.7,
             "#b8e186"
            ],
            [
             0.8,
             "#7fbc41"
            ],
            [
             0.9,
             "#4d9221"
            ],
            [
             1,
             "#276419"
            ]
           ],
           "sequential": [
            [
             0,
             "#0d0887"
            ],
            [
             0.1111111111111111,
             "#46039f"
            ],
            [
             0.2222222222222222,
             "#7201a8"
            ],
            [
             0.3333333333333333,
             "#9c179e"
            ],
            [
             0.4444444444444444,
             "#bd3786"
            ],
            [
             0.5555555555555556,
             "#d8576b"
            ],
            [
             0.6666666666666666,
             "#ed7953"
            ],
            [
             0.7777777777777778,
             "#fb9f3a"
            ],
            [
             0.8888888888888888,
             "#fdca26"
            ],
            [
             1,
             "#f0f921"
            ]
           ],
           "sequentialminus": [
            [
             0,
             "#0d0887"
            ],
            [
             0.1111111111111111,
             "#46039f"
            ],
            [
             0.2222222222222222,
             "#7201a8"
            ],
            [
             0.3333333333333333,
             "#9c179e"
            ],
            [
             0.4444444444444444,
             "#bd3786"
            ],
            [
             0.5555555555555556,
             "#d8576b"
            ],
            [
             0.6666666666666666,
             "#ed7953"
            ],
            [
             0.7777777777777778,
             "#fb9f3a"
            ],
            [
             0.8888888888888888,
             "#fdca26"
            ],
            [
             1,
             "#f0f921"
            ]
           ]
          },
          "colorway": [
           "#636efa",
           "#EF553B",
           "#00cc96",
           "#ab63fa",
           "#FFA15A",
           "#19d3f3",
           "#FF6692",
           "#B6E880",
           "#FF97FF",
           "#FECB52"
          ],
          "font": {
           "color": "#2a3f5f"
          },
          "geo": {
           "bgcolor": "white",
           "lakecolor": "white",
           "landcolor": "#E5ECF6",
           "showlakes": true,
           "showland": true,
           "subunitcolor": "white"
          },
          "hoverlabel": {
           "align": "left"
          },
          "hovermode": "closest",
          "mapbox": {
           "style": "light"
          },
          "paper_bgcolor": "white",
          "plot_bgcolor": "#E5ECF6",
          "polar": {
           "angularaxis": {
            "gridcolor": "white",
            "linecolor": "white",
            "ticks": ""
           },
           "bgcolor": "#E5ECF6",
           "radialaxis": {
            "gridcolor": "white",
            "linecolor": "white",
            "ticks": ""
           }
          },
          "scene": {
           "xaxis": {
            "backgroundcolor": "#E5ECF6",
            "gridcolor": "white",
            "gridwidth": 2,
            "linecolor": "white",
            "showbackground": true,
            "ticks": "",
            "zerolinecolor": "white"
           },
           "yaxis": {
            "backgroundcolor": "#E5ECF6",
            "gridcolor": "white",
            "gridwidth": 2,
            "linecolor": "white",
            "showbackground": true,
            "ticks": "",
            "zerolinecolor": "white"
           },
           "zaxis": {
            "backgroundcolor": "#E5ECF6",
            "gridcolor": "white",
            "gridwidth": 2,
            "linecolor": "white",
            "showbackground": true,
            "ticks": "",
            "zerolinecolor": "white"
           }
          },
          "shapedefaults": {
           "line": {
            "color": "#2a3f5f"
           }
          },
          "ternary": {
           "aaxis": {
            "gridcolor": "white",
            "linecolor": "white",
            "ticks": ""
           },
           "baxis": {
            "gridcolor": "white",
            "linecolor": "white",
            "ticks": ""
           },
           "bgcolor": "#E5ECF6",
           "caxis": {
            "gridcolor": "white",
            "linecolor": "white",
            "ticks": ""
           }
          },
          "title": {
           "x": 0.05
          },
          "xaxis": {
           "automargin": true,
           "gridcolor": "white",
           "linecolor": "white",
           "ticks": "",
           "title": {
            "standoff": 15
           },
           "zerolinecolor": "white",
           "zerolinewidth": 2
          },
          "yaxis": {
           "automargin": true,
           "gridcolor": "white",
           "linecolor": "white",
           "ticks": "",
           "title": {
            "standoff": 15
           },
           "zerolinecolor": "white",
           "zerolinewidth": 2
          }
         }
        },
        "width": 1000,
        "xaxis": {
         "linecolor": "black",
         "linewidth": 5,
         "showline": true,
         "ticklen": 5,
         "ticks": "inside",
         "tickwidth": 4,
         "title": {
          "text": "Superconductor Class"
         }
        },
        "yaxis": {
         "linecolor": "black",
         "linewidth": 5,
         "showline": true,
         "ticklen": 5,
         "ticks": "inside",
         "tickwidth": 4,
         "title": {
          "text": "Count"
         }
        }
       }
      }
     },
     "metadata": {},
     "output_type": "display_data"
    }
   ],
   "source": [
    "sc_class_counts = sc_class_counts.reindex(['Not Superconductor', 'Other', 'Cuprate', 'Ferrite', 'Heavy Fermion', 'Oxide', 'Chevrel', 'Carbon', 'Heavy Fermion Chevrel', 'Oxide Heavy Fermion'])\n",
    "precentages = (df_MP[\"sc_class_name\"].value_counts()/total_dataset_length)*100\n",
    "\n",
    "# Create a bar plot\n",
    "data = [go.Bar(x=sc_class_counts.index,\n",
    "               y=sc_class_counts.values,\n",
    "               text= [f'{x:.2f}%' for x in precentages],\n",
    "               textposition='auto',\n",
    "               marker = dict(color=['rgb(237, 121, 83)', 'rgb(33, 145, 140)', 'rgb(33, 145, 140)', 'rgb(33, 145, 140)', 'rgb(33, 145, 140)', 'rgb(33, 145, 140)', 'rgb(33, 145, 140)', 'rgb(33, 145, 140)', 'rgb(33, 145, 140)', 'rgb(33, 145, 140)']))]\n",
    "\n",
    "# Create the layout\n",
    "layout = go.Layout(xaxis=dict(title=\"Superconductor Class\", showline=True, linewidth=5, linecolor='black',\n",
    "                              ticks='inside', tickwidth=4, ticklen=5),\n",
    "                   yaxis=dict(title=\"Count\", showline=True, linewidth=5, linecolor='black',\n",
    "                              ticks='inside', tickwidth=4, ticklen=5), \n",
    "                   width=1000,\n",
    "                   height=800,\n",
    "                   plot_bgcolor='white',\n",
    "                   paper_bgcolor='white', \n",
    "                   font=dict(family='Helvetica', size=24, color='black'),\n",
    "                   margin=dict(l=10, r=10, b=10, t=10))\n",
    "\n",
    "# Create the figure\n",
    "fig = go.Figure(data=data, layout=layout)\n",
    "\n",
    "# Show the figure\n",
    "fig.show()"
   ]
  },
  {
   "cell_type": "code",
   "execution_count": 14,
   "metadata": {},
   "outputs": [],
   "source": [
    "# Plot the variety of chemicals in other category\n",
    "df_MP_other = df_MP[df_MP['sc_class'] == 'Other']"
   ]
  },
  {
   "cell_type": "markdown",
   "metadata": {},
   "source": [
    "We have a few superconducting families here, but a lot of them are within the other section"
   ]
  },
  {
   "cell_type": "markdown",
   "metadata": {},
   "source": [
    "## Formula Analysis"
   ]
  },
  {
   "cell_type": "code",
   "execution_count": 15,
   "metadata": {},
   "outputs": [
    {
     "data": {
      "text/html": [
       "<div>\n",
       "<style scoped>\n",
       "    .dataframe tbody tr th:only-of-type {\n",
       "        vertical-align: middle;\n",
       "    }\n",
       "\n",
       "    .dataframe tbody tr th {\n",
       "        vertical-align: top;\n",
       "    }\n",
       "\n",
       "    .dataframe thead th {\n",
       "        text-align: right;\n",
       "    }\n",
       "</style>\n",
       "<table border=\"1\" class=\"dataframe\">\n",
       "  <thead>\n",
       "    <tr style=\"text-align: right;\">\n",
       "      <th></th>\n",
       "      <th>formula_sc</th>\n",
       "      <th>formula_similarity</th>\n",
       "      <th>totreldiff</th>\n",
       "      <th>formula_frac</th>\n",
       "      <th>correct_formula_frac</th>\n",
       "      <th>formula</th>\n",
       "      <th>orig_formula_cif</th>\n",
       "      <th>tc</th>\n",
       "    </tr>\n",
       "  </thead>\n",
       "  <tbody>\n",
       "    <tr>\n",
       "      <th>0</th>\n",
       "      <td>Ag0.02Ge2Pd1.98Sr1</td>\n",
       "      <td>2</td>\n",
       "      <td>0.008000</td>\n",
       "      <td>1.0</td>\n",
       "      <td>True</td>\n",
       "      <td>Ag0.02Ge2Pd1.98Sr1</td>\n",
       "      <td>Ge2Pd2Sr1</td>\n",
       "      <td>2.640000</td>\n",
       "    </tr>\n",
       "    <tr>\n",
       "      <th>1</th>\n",
       "      <td>Ag0.15Sn0.85Te1</td>\n",
       "      <td>3</td>\n",
       "      <td>0.150000</td>\n",
       "      <td>1.0</td>\n",
       "      <td>True</td>\n",
       "      <td>Ag0.15Sn0.85Te1</td>\n",
       "      <td>Sn1Te1</td>\n",
       "      <td>2.150000</td>\n",
       "    </tr>\n",
       "    <tr>\n",
       "      <th>2</th>\n",
       "      <td>Ag0.1Ge2Pd1.9Sr1</td>\n",
       "      <td>2</td>\n",
       "      <td>0.040000</td>\n",
       "      <td>1.0</td>\n",
       "      <td>True</td>\n",
       "      <td>Ag0.1Ge2Pd1.9Sr1</td>\n",
       "      <td>Ge2Pd2Sr1</td>\n",
       "      <td>2.620000</td>\n",
       "    </tr>\n",
       "    <tr>\n",
       "      <th>3</th>\n",
       "      <td>Ag0.1In0.9Te1</td>\n",
       "      <td>3</td>\n",
       "      <td>0.100000</td>\n",
       "      <td>1.0</td>\n",
       "      <td>True</td>\n",
       "      <td>Ag0.1In0.9Te1</td>\n",
       "      <td>In1Te1</td>\n",
       "      <td>1.200000</td>\n",
       "    </tr>\n",
       "    <tr>\n",
       "      <th>4</th>\n",
       "      <td>Ag0.2Ba1Si1.8</td>\n",
       "      <td>3</td>\n",
       "      <td>0.133333</td>\n",
       "      <td>4.0</td>\n",
       "      <td>False</td>\n",
       "      <td>Ag0.8Ba4Si7.2</td>\n",
       "      <td>Ba4Si8</td>\n",
       "      <td>3.200000</td>\n",
       "    </tr>\n",
       "    <tr>\n",
       "      <th>...</th>\n",
       "      <td>...</td>\n",
       "      <td>...</td>\n",
       "      <td>...</td>\n",
       "      <td>...</td>\n",
       "      <td>...</td>\n",
       "      <td>...</td>\n",
       "      <td>...</td>\n",
       "      <td>...</td>\n",
       "    </tr>\n",
       "    <tr>\n",
       "      <th>5768</th>\n",
       "      <td>Y1Zn1</td>\n",
       "      <td>1</td>\n",
       "      <td>0.000000</td>\n",
       "      <td>1.0</td>\n",
       "      <td>True</td>\n",
       "      <td>Y1Zn1</td>\n",
       "      <td>Y1Zn1</td>\n",
       "      <td>0.000000</td>\n",
       "    </tr>\n",
       "    <tr>\n",
       "      <th>5769</th>\n",
       "      <td>Yb1</td>\n",
       "      <td>1</td>\n",
       "      <td>0.000000</td>\n",
       "      <td>3.0</td>\n",
       "      <td>False</td>\n",
       "      <td>Yb3</td>\n",
       "      <td>Yb3</td>\n",
       "      <td>0.000000</td>\n",
       "    </tr>\n",
       "    <tr>\n",
       "      <th>5770</th>\n",
       "      <td>Zn1</td>\n",
       "      <td>1</td>\n",
       "      <td>0.000000</td>\n",
       "      <td>2.0</td>\n",
       "      <td>False</td>\n",
       "      <td>Zn2</td>\n",
       "      <td>Zn2</td>\n",
       "      <td>0.850800</td>\n",
       "    </tr>\n",
       "    <tr>\n",
       "      <th>5771</th>\n",
       "      <td>Zn2Zr1</td>\n",
       "      <td>1</td>\n",
       "      <td>0.000000</td>\n",
       "      <td>2.0</td>\n",
       "      <td>False</td>\n",
       "      <td>Zn4Zr2</td>\n",
       "      <td>Zn4Zr2</td>\n",
       "      <td>0.296667</td>\n",
       "    </tr>\n",
       "    <tr>\n",
       "      <th>5772</th>\n",
       "      <td>Zr1</td>\n",
       "      <td>1</td>\n",
       "      <td>0.000000</td>\n",
       "      <td>2.0</td>\n",
       "      <td>False</td>\n",
       "      <td>Zr2</td>\n",
       "      <td>Zr2</td>\n",
       "      <td>0.996667</td>\n",
       "    </tr>\n",
       "  </tbody>\n",
       "</table>\n",
       "<p>5773 rows × 8 columns</p>\n",
       "</div>"
      ],
      "text/plain": [
       "              formula_sc  formula_similarity  totreldiff  formula_frac  \\\n",
       "0     Ag0.02Ge2Pd1.98Sr1                   2    0.008000           1.0   \n",
       "1        Ag0.15Sn0.85Te1                   3    0.150000           1.0   \n",
       "2       Ag0.1Ge2Pd1.9Sr1                   2    0.040000           1.0   \n",
       "3          Ag0.1In0.9Te1                   3    0.100000           1.0   \n",
       "4          Ag0.2Ba1Si1.8                   3    0.133333           4.0   \n",
       "...                  ...                 ...         ...           ...   \n",
       "5768               Y1Zn1                   1    0.000000           1.0   \n",
       "5769                 Yb1                   1    0.000000           3.0   \n",
       "5770                 Zn1                   1    0.000000           2.0   \n",
       "5771              Zn2Zr1                   1    0.000000           2.0   \n",
       "5772                 Zr1                   1    0.000000           2.0   \n",
       "\n",
       "      correct_formula_frac             formula orig_formula_cif        tc  \n",
       "0                     True  Ag0.02Ge2Pd1.98Sr1        Ge2Pd2Sr1  2.640000  \n",
       "1                     True     Ag0.15Sn0.85Te1           Sn1Te1  2.150000  \n",
       "2                     True    Ag0.1Ge2Pd1.9Sr1        Ge2Pd2Sr1  2.620000  \n",
       "3                     True       Ag0.1In0.9Te1           In1Te1  1.200000  \n",
       "4                    False       Ag0.8Ba4Si7.2           Ba4Si8  3.200000  \n",
       "...                    ...                 ...              ...       ...  \n",
       "5768                  True               Y1Zn1            Y1Zn1  0.000000  \n",
       "5769                 False                 Yb3              Yb3  0.000000  \n",
       "5770                 False                 Zn2              Zn2  0.850800  \n",
       "5771                 False              Zn4Zr2           Zn4Zr2  0.296667  \n",
       "5772                 False                 Zr2              Zr2  0.996667  \n",
       "\n",
       "[5773 rows x 8 columns]"
      ]
     },
     "execution_count": 15,
     "metadata": {},
     "output_type": "execute_result"
    }
   ],
   "source": [
    "df_MP[[\"formula_sc\", \"formula_similarity\", \"totreldiff\", \"formula_frac\", \"correct_formula_frac\", \"formula\", \"orig_formula_cif\", \"tc\"]]"
   ]
  },
  {
   "cell_type": "code",
   "execution_count": 16,
   "metadata": {},
   "outputs": [
    {
     "data": {
      "text/plain": [
       "count    5773.000000\n",
       "mean        0.032930\n",
       "std         0.041665\n",
       "min         0.000000\n",
       "25%         0.000000\n",
       "50%         0.013333\n",
       "75%         0.056000\n",
       "max         0.150000\n",
       "Name: totreldiff, dtype: float64"
      ]
     },
     "execution_count": 16,
     "metadata": {},
     "output_type": "execute_result"
    }
   ],
   "source": [
    "df_MP[\"totreldiff\"].describe()"
   ]
  },
  {
   "cell_type": "code",
   "execution_count": 17,
   "metadata": {},
   "outputs": [
    {
     "data": {
      "text/plain": [
       "count    5773.000000\n",
       "mean        2.246826\n",
       "std         2.447629\n",
       "min         0.018180\n",
       "25%         1.000000\n",
       "50%         2.000000\n",
       "75%         2.000000\n",
       "max        64.000000\n",
       "Name: formula_frac, dtype: float64"
      ]
     },
     "execution_count": 17,
     "metadata": {},
     "output_type": "execute_result"
    }
   ],
   "source": [
    "df_MP[\"formula_frac\"].describe()"
   ]
  },
  {
   "cell_type": "code",
   "execution_count": 18,
   "metadata": {},
   "outputs": [
    {
     "data": {
      "text/plain": [
       "{'Ag1Se2Sn1': array([12, 17, 18, 20, 21, 22, 24], dtype=int64),\n",
       " 'Ag1Sn1Te2': array([7], dtype=int64),\n",
       " 'Ag3Al1': array([25], dtype=int64),\n",
       " 'Ag3Ge1': array([26], dtype=int64),\n",
       " 'Ag3Hg1': array([14], dtype=int64),\n",
       " 'Ag3In1': array([16], dtype=int64),\n",
       " 'Ag3Zn1': array([15], dtype=int64),\n",
       " 'Ag4Al2': array([ 8,  9, 10, 11, 13], dtype=int64),\n",
       " 'Ag4Cl6': array([23], dtype=int64),\n",
       " 'Ag4Hg4': array([6], dtype=int64),\n",
       " 'Ag6Ga2': array([19], dtype=int64),\n",
       " 'Al12Ge10': array([161], dtype=int64),\n",
       " 'Al12Mg17': array([212], dtype=int64),\n",
       " 'Al12Mg8': array([68], dtype=int64),\n",
       " 'Al12Mn1': array([145], dtype=int64),\n",
       " 'Al1B2': array([108], dtype=int64),\n",
       " 'Al1B4Mg1': array([69, 94, 95], dtype=int64),\n",
       " 'Al1Ba1Si1': array([130], dtype=int64),\n",
       " 'Al1Ca1Si1': array([111, 112, 148, 149, 155, 156], dtype=int64),\n",
       " 'Al1Cr2': array([81], dtype=int64),\n",
       " 'Al1Ga1Nb6': array([76, 77, 93], dtype=int64),\n",
       " 'Al1Ga1V6': array([82], dtype=int64),\n",
       " 'Al1Ge1Nb6': array([ 78,  89,  91,  92,  96,  99, 101, 102, 103, 105, 114], dtype=int64),\n",
       " 'Al1Hf1Pd2': array([165], dtype=int64),\n",
       " 'Al1Nb6Sn1': array([ 79,  88,  98, 116], dtype=int64),\n",
       " 'Al1Pd2Zr1': array([171, 193], dtype=int64),\n",
       " 'Al1Ti2V1': array([66], dtype=int64),\n",
       " 'Al1V2': array([87], dtype=int64),\n",
       " 'Al2Ca1Si2': array([216], dtype=int64),\n",
       " 'Al2La6': array([54, 64, 67, 72, 75], dtype=int64),\n",
       " 'Al2Mg1': array([90, 97], dtype=int64),\n",
       " 'Al2Mo3Nb3': array([170], dtype=int64),\n",
       " 'Al2Nb6': array([ 62, 100, 104, 106, 107, 109, 110, 113, 115, 117, 118, 119, 120,\n",
       "        121, 122, 123, 124, 125, 126, 127, 128, 129, 131, 132, 133, 134,\n",
       "        135, 136, 137, 138, 139, 140, 141, 142, 143, 144, 146, 147, 150,\n",
       "        151, 152, 153, 154, 160, 162, 163, 164, 167, 168, 169, 172, 173,\n",
       "        174, 175, 176, 177, 178, 179, 180, 181, 182, 183, 184, 185, 186,\n",
       "        187, 188, 189, 190, 191, 192], dtype=int64),\n",
       " 'Al2Os1': array([224], dtype=int64),\n",
       " 'Al2Th4': array([214], dtype=int64),\n",
       " 'Al2V6': array([53, 74], dtype=int64),\n",
       " 'Al3Cu2': array([194], dtype=int64),\n",
       " 'Al3Ni2U1': array([200, 215, 222, 223], dtype=int64),\n",
       " 'Al3Pd2U1': array([195, 196, 197, 198, 199, 217, 218, 219, 220, 221, 225, 226, 227,\n",
       "        228, 229, 230, 231], dtype=int64),\n",
       " 'Al3Si3U2': array([213], dtype=int64),\n",
       " 'Al40V4': array([201], dtype=int64),\n",
       " 'Al4La2': array([157, 158, 159, 202, 203, 204, 205, 206, 207, 208, 209, 210, 211],\n",
       "       dtype=int64),\n",
       " 'Al6La2': array([232], dtype=int64),\n",
       " 'Al6Y2': array([233], dtype=int64),\n",
       " 'Al8Lu12': array([166], dtype=int64),\n",
       " 'As1Fe2P1Sr1': array([244, 246, 247, 248], dtype=int64),\n",
       " 'As1La1': array([578], dtype=int64),\n",
       " 'As1Rh2': array([580], dtype=int64),\n",
       " 'As2Ba1Fe1Ru1': array([506, 507, 508, 509, 510, 511, 512, 513], dtype=int64),\n",
       " 'As2Ba1Ni2': array([250, 252, 253, 256, 257], dtype=int64),\n",
       " 'As2Ca2F2Fe2': array([258, 259, 260, 261, 262, 263, 264, 265, 266, 267, 268, 269, 270,\n",
       "        271], dtype=int64),\n",
       " 'As2Ce2Fe2O2': array([243, 245, 272, 273, 274, 275, 276, 277, 278, 279, 280, 281, 282,\n",
       "        283, 284, 285, 286], dtype=int64),\n",
       " 'As2Eu1Fe2': array([249, 251, 254, 525, 528, 536, 537, 538, 539, 540, 541, 542, 543,\n",
       "        544, 545, 546, 547], dtype=int64),\n",
       " 'As2F2Fe2Sr2': array([357, 358], dtype=int64),\n",
       " 'As2Fe2Gd2O2': array([345, 355, 360, 366, 372, 388, 389, 390], dtype=int64),\n",
       " 'As2Fe2K1': array([429, 430, 433, 515, 573, 574], dtype=int64),\n",
       " 'As2Fe2La1Y1O2': array([341, 348, 349, 391, 392], dtype=int64),\n",
       " 'As2Fe2Li2': array([291, 298, 303, 322, 378, 380, 385, 386, 387, 393], dtype=int64),\n",
       " 'As2Fe2Mg1Sr4Ti1O6': array([522, 532, 534, 575, 576], dtype=int64),\n",
       " 'As2Fe2Na2': array([287, 288, 289, 290, 292, 295, 296, 297, 299, 302, 304, 307, 308,\n",
       "        309, 314, 376, 395], dtype=int64),\n",
       " 'As2Fe2Nd2O2': array([324, 325, 332, 334, 336, 343, 344, 346, 350, 356, 363, 367, 373,\n",
       "        382, 396, 397, 398, 399, 400, 401, 402], dtype=int64),\n",
       " 'As2Fe2Pr2O2': array([293, 300, 305, 311, 315, 318, 320, 323, 330, 335, 340, 351, 354,\n",
       "        403, 404, 405, 406, 407, 408, 409, 410], dtype=int64),\n",
       " 'As2Fe2Sm2O2': array([294, 301, 306, 310, 312, 313, 316, 317, 319, 321, 326, 328, 329,\n",
       "        331, 333, 338, 339, 342, 347, 359, 361, 362, 364, 365, 368, 370,\n",
       "        371, 374, 375, 377, 379, 381, 383, 384, 411, 412, 413, 414, 415,\n",
       "        416, 417, 418], dtype=int64),\n",
       " 'As2Fe2Sr1': array([255, 516, 517, 518, 519, 520, 521, 523, 524, 526, 527, 529, 530,\n",
       "        531, 533, 535, 548, 549, 550, 551, 552, 553, 554, 555, 556, 557,\n",
       "        558, 559, 560, 561, 562, 563, 564, 565, 566, 567, 568, 569, 570,\n",
       "        571, 572], dtype=int64),\n",
       " 'As2Fe2Sr4V2O6': array([369, 394], dtype=int64),\n",
       " 'As2Fe2Tb2O2': array([352, 419, 420, 421, 422, 423, 424, 425], dtype=int64),\n",
       " 'As2La2Ni2O2': array([327, 337, 353, 426, 427], dtype=int64),\n",
       " 'As3Ir3Sr2': array([577], dtype=int64),\n",
       " 'As4Ba1Fe4K1': array([435, 438, 439, 442, 443, 444, 445, 446, 447, 448, 449, 450, 451,\n",
       "        452, 453, 454, 455, 456, 457, 458, 459, 460, 463, 465, 467, 468,\n",
       "        469, 470, 471, 473, 477, 478, 479, 480, 483, 484, 485, 486, 487],\n",
       "       dtype=int64),\n",
       " 'As4Ba1Fe4Na1': array([431, 434, 437, 464, 466, 472, 474, 476, 481, 482, 488, 503],\n",
       "       dtype=int64),\n",
       " 'As4Ru4': array([428], dtype=int64),\n",
       " 'As6Ba1Fe6K2': array([432, 436, 440, 441, 461, 462, 475], dtype=int64),\n",
       " 'As6Ba2Fe6K1': array([489, 490, 491, 493, 494, 495, 496, 497, 498, 499, 501, 502, 505],\n",
       "       dtype=int64),\n",
       " 'As6Ba2Fe6Na1': array([492, 500, 504], dtype=int64),\n",
       " 'As6Ca2Fe6Sr1': array([514], dtype=int64),\n",
       " 'As8Pt4': array([579], dtype=int64),\n",
       " 'Au1Ga2': array([590, 592, 594, 599, 603, 611, 612, 614, 615, 616], dtype=int64),\n",
       " 'Au1In1Pd1Y1': array([620], dtype=int64),\n",
       " 'Au1In2': array([618], dtype=int64),\n",
       " 'Au1Nb3': array([610, 613, 617, 619], dtype=int64),\n",
       " 'Au1Nb6Pt1': array([609], dtype=int64),\n",
       " 'Au1Te2': array([593, 600, 601, 602, 606, 623], dtype=int64),\n",
       " 'Au2Ga6': array([596], dtype=int64),\n",
       " 'Au2In1Y1': array([621], dtype=int64),\n",
       " 'Au2Nb6': array([585, 587, 588, 598, 622], dtype=int64),\n",
       " 'Au2Tl4': array([591], dtype=int64),\n",
       " 'Au2V6': array([586], dtype=int64),\n",
       " 'Au4Ga4': array([607, 608], dtype=int64),\n",
       " 'Au8Nb12': array([624], dtype=int64),\n",
       " 'B12Th1': array([689], dtype=int64),\n",
       " 'B12Zr1': array([684, 685, 686, 687, 688, 690], dtype=int64),\n",
       " 'B1Ca1Pd3': array([647], dtype=int64),\n",
       " 'B2Be1': array([942], dtype=int64),\n",
       " 'B2C1Dy1Ni2': array([732, 733, 734, 735, 736, 737, 738, 739, 740, 741, 742, 743, 744],\n",
       "       dtype=int64),\n",
       " 'B2C1Er1Ni2': array([706, 713, 745, 746, 747, 748, 749, 750, 751, 752, 753, 754, 755,\n",
       "        756, 757, 758, 759, 760], dtype=int64),\n",
       " 'B2C1Gd1Ni2': array([786, 787], dtype=int64),\n",
       " 'B2C1Ho1Ni2': array([722, 723, 727, 731, 761, 791, 792, 793, 794, 795, 796, 797, 798,\n",
       "        799, 800, 801, 802, 803], dtype=int64),\n",
       " 'B2C1La1Pt2': array([604], dtype=int64),\n",
       " 'B2C1Lu1Ni2': array([725, 728, 772, 774, 775, 778, 788, 790, 804, 805, 806, 807, 808,\n",
       "        809, 814, 815, 816], dtype=int64),\n",
       " 'B2C1Ni2Pr1': array([833], dtype=int64),\n",
       " 'B2C1Ni2Tb1': array([724, 729, 842, 843, 844, 845, 846], dtype=int64),\n",
       " 'B2C1Ni2Tm1': array([730, 763, 765, 766, 768, 769, 771], dtype=int64),\n",
       " 'B2C1Ni2Y1': array([707, 708, 709, 710, 711, 712, 714, 715, 716, 717, 718, 719, 720,\n",
       "        721, 726, 762, 764, 767, 770, 773, 776, 777, 779, 780, 781, 782,\n",
       "        783, 784, 785, 789, 810, 811, 812, 813, 817, 818, 819, 820, 821,\n",
       "        822, 823, 824, 825, 826, 827, 828, 829, 830, 831, 832, 834, 835,\n",
       "        836, 838], dtype=int64),\n",
       " 'B2C2Li2': array([694], dtype=int64),\n",
       " 'B2C2Lu2Ni2': array([649, 650, 652, 654, 655, 656, 691, 692, 693, 695, 696], dtype=int64),\n",
       " 'B2Co2La1': array([670, 854], dtype=int64),\n",
       " 'B2La1Rh3': array([847, 848, 849], dtype=int64),\n",
       " 'B2La1Ru3': array([974], dtype=int64),\n",
       " 'B2Mg1': array([ 28,  29,  30,  33,  34,  38,  40,  42,  43,  44,  46,  48,  49,\n",
       "         52,  55,  58,  63, 583, 643, 644, 657, 658, 659, 660, 661, 662,\n",
       "        663, 664, 665, 666, 667, 668, 669, 671, 672, 673, 674, 675, 676,\n",
       "        677, 678, 679, 680, 681, 682, 683, 850, 851, 852, 853, 855, 856,\n",
       "        857, 858, 859, 860, 861, 862, 863, 864, 865, 874, 875, 876, 877,\n",
       "        878, 879, 880, 885, 886, 887, 889, 890, 891, 892, 893, 894, 895,\n",
       "        902, 903, 904, 905, 906, 907, 908, 909, 910, 911, 912, 913, 914,\n",
       "        915, 916, 917, 918, 919, 920, 921, 922, 923, 924, 925, 926, 927,\n",
       "        928, 929, 930], dtype=int64),\n",
       " 'B2Nb1': array([900, 933, 934, 935, 936], dtype=int64),\n",
       " 'B2Nb10Si6': array([645, 651], dtype=int64),\n",
       " 'B2Nb2': array([642], dtype=int64),\n",
       " 'B2Si2': array([653], dtype=int64),\n",
       " 'B2Ta1': array([938], dtype=int64),\n",
       " 'B2Zr1': array([939, 940, 941], dtype=int64),\n",
       " 'B4C2Ni4Tb1Y1': array([837, 839, 840, 841], dtype=int64),\n",
       " 'B4La2Rh5': array([888], dtype=int64),\n",
       " 'B4Li8Pd12': array([ 36,  57, 697, 698, 699, 701, 702], dtype=int64),\n",
       " 'B4Li8Pt12': array([ 27,  37, 700], dtype=int64),\n",
       " 'B4Mo2': array([931, 932], dtype=int64),\n",
       " 'B4Nb6': array([703], dtype=int64),\n",
       " 'B4Ta6': array([704], dtype=int64),\n",
       " 'B4V6': array([705], dtype=int64),\n",
       " 'B5Mo2': array([ 70, 595, 977, 978, 979, 980, 981, 982, 983, 984], dtype=int64),\n",
       " 'B6Ba1': array([648], dtype=int64),\n",
       " 'B6Mg2': array([901], dtype=int64),\n",
       " 'B6Mo2': array([646], dtype=int64),\n",
       " 'B6Y1': array([986, 987, 988, 989, 990, 991, 992, 993, 994, 995, 996, 997, 998,\n",
       "        999], dtype=int64),\n",
       " 'B8Er2Lu2Ru4': array([871, 872, 873], dtype=int64),\n",
       " 'B8Er2Rh8': array([951, 952, 953, 954, 955, 956, 957, 958, 959, 960, 961, 962],\n",
       "       dtype=int64),\n",
       " 'B8Ho2Rh8': array([943, 944, 945, 946, 948, 949, 966, 967, 968, 969], dtype=int64),\n",
       " 'B8Ir8Lu1Y1': array([970, 971, 972, 973], dtype=int64),\n",
       " 'B8Lu2Rh8': array([975], dtype=int64),\n",
       " 'B8Lu4Ru4': array([866, 867, 868, 869, 870, 881, 882, 883, 884, 896, 897, 898, 899],\n",
       "       dtype=int64),\n",
       " 'B8Rh8Sc1Th1': array([976], dtype=int64),\n",
       " 'B8Rh8Y2': array([947, 950, 963, 964, 965], dtype=int64),\n",
       " 'B8Ru4Y4': array([937], dtype=int64),\n",
       " 'B8W4': array([985], dtype=int64),\n",
       " 'Ba1Bi3K2O9': array([1043, 1048, 1051, 1055, 1056, 1057], dtype=int64),\n",
       " 'Ba1Cu1La1Ti1O6': array([  80, 1114, 1118, 1239, 1308, 1309], dtype=int64),\n",
       " 'Ba1Cu3Pr1Sr1O7': array([1089], dtype=int64),\n",
       " 'Ba1Fe2P2': array([239], dtype=int64),\n",
       " 'Ba1Ga1Si1': array([1153], dtype=int64),\n",
       " 'Ba1Ge12Pt4': array([589], dtype=int64),\n",
       " 'Ba1Nb3O6': array([1155], dtype=int64),\n",
       " 'Ba1Ni2P2': array([1154], dtype=int64),\n",
       " 'Ba1Sb2Ti2O1': array([ 240, 1086, 1090, 1091, 1092, 1093, 1095, 1097, 1098, 1099, 1100,\n",
       "        1101, 1102, 1106, 1107, 1108, 1163, 1164, 1165], dtype=int64),\n",
       " 'Ba2Bi3K1O9': array([1060, 1061, 1062, 1063, 1064, 1065, 1066, 1067, 1068, 1069, 1070,\n",
       "        1071, 1072, 1073, 1074, 1075, 1076, 1077, 1078, 1079, 1080, 1081,\n",
       "        1082, 1083, 1084, 1085], dtype=int64),\n",
       " 'Ba2Ca1Cu2Hg1O6': array([1218, 1219, 1220, 1221, 1222, 1223, 1224, 1225, 1226, 1227, 1228,\n",
       "        1229], dtype=int64),\n",
       " 'Ba2Ca1Cu2Tl1O7': array([1206, 1207, 1210, 1211, 1212, 1214, 1215, 1216, 1230], dtype=int64),\n",
       " 'Ba2Ca1Cu2Tl2O8': array([1205, 1208, 1209, 1213, 1217], dtype=int64),\n",
       " 'Ba2Ca2Cu3Hg1O8': array([1231, 1232, 1233], dtype=int64),\n",
       " 'Ba2Co1Cu2Er1O7': array([1241], dtype=int64),\n",
       " 'Ba2Co1Cu2Eu1O7': array([1240, 1242], dtype=int64),\n",
       " 'Ba2Co1Cu2Gd1O7': array([1243], dtype=int64),\n",
       " 'Ba2Co1Cu2La1O7': array([1244, 1245], dtype=int64),\n",
       " 'Ba2Co1Cu2Nd1O7': array([1246], dtype=int64),\n",
       " 'Ba2Co1Cu2Pr1O7': array([1247, 1248, 1249], dtype=int64),\n",
       " 'Ba2Co1Cu2Sm1O7': array([1250], dtype=int64),\n",
       " 'Ba2Co1Cu2Y1O7': array([1251, 1252], dtype=int64),\n",
       " 'Ba2Cu1Hg1O4': array([1254, 1255, 1256, 1257, 1258, 1259, 1260, 1261, 1262, 1263, 1264,\n",
       "        1265, 1266, 1267, 1268, 1269, 1270, 1271, 1272, 1273, 1274, 1275,\n",
       "        1276, 1277, 1278, 1279, 1280, 1281, 1282, 1283, 1284, 1285, 1286,\n",
       "        1287, 1288, 1289, 1290, 1291, 1292, 1293, 1294], dtype=int64),\n",
       " 'Ba2Cu1Tl1O5': array([1121], dtype=int64),\n",
       " 'Ba2Cu2Nd1Tl1O7': array([1196], dtype=int64),\n",
       " 'Ba2Cu2Nd2Ti2O11': array([1306], dtype=int64),\n",
       " 'Ba2Cu2Tl1Y1O7': array([1197], dtype=int64),\n",
       " 'Ba2Cu2Tl2O8': array([1151], dtype=int64),\n",
       " 'Ba2Cu3Er1O7': array([1316, 1317, 1318, 1319, 1320], dtype=int64),\n",
       " 'Ba2Cu3Eu1O7': array([1329, 1330], dtype=int64),\n",
       " 'Ba2Cu3F1Y1O6': array([1331], dtype=int64),\n",
       " 'Ba2Cu3Gd1O7': array([1133, 1337, 1338, 1339, 1340, 1341], dtype=int64),\n",
       " 'Ba2Cu3La1O7': array([1349, 1350, 1351, 1352], dtype=int64),\n",
       " 'Ba2Cu3La1O8': array([1123], dtype=int64),\n",
       " 'Ba2Cu3Lu1O7': array([1354, 1355, 1356], dtype=int64),\n",
       " 'Ba2Cu3Nd1O7': array([1116, 1361, 1362, 1363, 1364, 1365], dtype=int64),\n",
       " 'Ba2Cu3Pr1O7': array([1124, 1203, 1310, 1311, 1312, 1313, 1314, 1321, 1332, 1333, 1334,\n",
       "        1342, 1343, 1344, 1345, 1346, 1357, 1374, 1375, 1377, 1378],\n",
       "       dtype=int64),\n",
       " 'Ba2Cu3Sm1O7': array([1119], dtype=int64),\n",
       " 'Ba2Cu3Y1O6': array([1167, 1174, 1186, 1194, 1195, 1198], dtype=int64),\n",
       " 'Ba2Cu3Y1O7': array([1115, 1122, 1190, 1199, 1234, 1236, 1237, 1323, 1366, 1368, 1379,\n",
       "        1380, 1381, 1382], dtype=int64),\n",
       " 'Ba2Cu3Y1O8': array([1135], dtype=int64),\n",
       " 'Ba2Cu4Dy1O8': array([1238], dtype=int64),\n",
       " 'Ba2Cu4Er1O8': array([1168, 1175, 1179], dtype=int64),\n",
       " 'Ba2Cu4Eu1O8': array([1385, 1386], dtype=int64),\n",
       " 'Ba2Cu4Gd1O8': array([1136], dtype=int64),\n",
       " 'Ba2Cu4Ho1O8': array([1125, 1169, 1176, 1180, 1188, 1191, 1200, 1204], dtype=int64),\n",
       " 'Ba2Cu4Pr1O8': array([1384, 1399, 1400], dtype=int64),\n",
       " 'Ba2Cu4Tm1O8': array([1170, 1177, 1181, 1184], dtype=int64),\n",
       " 'Ba2Cu4Y1O8': array([1109, 1110, 1111, 1112, 1113, 1117, 1120, 1126, 1127, 1129, 1130,\n",
       "        1131, 1132, 1137, 1171, 1172, 1173, 1178, 1182, 1183, 1185, 1187,\n",
       "        1189, 1192, 1193, 1201, 1383, 1387, 1388, 1389, 1390, 1391, 1392,\n",
       "        1393, 1394, 1395, 1401, 1402, 1403, 1404], dtype=int64),\n",
       " 'Ba2Cu4Yb1O8': array([1128], dtype=int64),\n",
       " 'Ba2Fe3Y1O8': array([1202], dtype=int64),\n",
       " 'Ba2Ge10': array([1408], dtype=int64),\n",
       " 'Ba2Pb2O6': array([1104, 1105, 1138, 1139, 1140, 1141, 1142, 1143, 1144, 1145, 1146,\n",
       "        1147, 1148, 1149, 1156, 1157, 1158, 1159, 1160, 1161], dtype=int64),\n",
       " 'Ba2Si12': array([1405, 1406, 1407], dtype=int64),\n",
       " 'Ba2W12O36': array([1030, 1032], dtype=int64),\n",
       " 'Ba4Bi4O12': array([1087, 1088, 1094, 1096, 1103], dtype=int64),\n",
       " 'Ba4Cu2Tl4O12': array([1166, 1235, 1295, 1296, 1297, 1298, 1299, 1300, 1301, 1302, 1303,\n",
       "        1304, 1305], dtype=int64),\n",
       " 'Ba4Cu4Nb2Pr2O16': array([1307], dtype=int64),\n",
       " 'Ba4Cu6Er1Pr1O14': array([1315], dtype=int64),\n",
       " 'Ba4Cu6Eu1Pr1O14': array([1322, 1324, 1325, 1326, 1327, 1328], dtype=int64),\n",
       " 'Ba4Cu6Gd1Pr1O14': array([1335, 1336], dtype=int64),\n",
       " 'Ba4Cu6La1Pr1O14': array([1347, 1348], dtype=int64),\n",
       " 'Ba4Cu6Lu1Pr1O14': array([1353], dtype=int64),\n",
       " 'Ba4Cu6Nd1Pr1O14': array([1358, 1359, 1360], dtype=int64),\n",
       " 'Ba4Cu6Pr1Sm1O14': array([1372], dtype=int64),\n",
       " 'Ba4Cu6Pr1Y1O14': array([1369, 1370, 1371, 1373, 1376], dtype=int64),\n",
       " 'Ba4Cu6Y2O13': array([1134, 1253, 1367], dtype=int64),\n",
       " 'Ba4Fe8Se12': array([1152], dtype=int64),\n",
       " 'Ba4Si8': array([   4, 1150, 1162], dtype=int64),\n",
       " 'Ba6Cu12Pr2Y1O24': array([1396, 1397, 1398], dtype=int64),\n",
       " 'Be12Mn1': array([1413], dtype=int64),\n",
       " 'Be12Mo1': array([1414], dtype=int64),\n",
       " 'Be12Pd1': array([1415], dtype=int64),\n",
       " 'Be12Pt1': array([1412], dtype=int64),\n",
       " 'Be12W1': array([1432], dtype=int64),\n",
       " 'Be26U2': array([1416, 1417, 1418, 1419, 1420, 1421, 1422, 1423, 1424, 1425, 1426,\n",
       "        1427, 1428, 1429, 1430, 1431], dtype=int64),\n",
       " 'Be26Zr2': array([1433], dtype=int64),\n",
       " 'Be2Si1': array([1411], dtype=int64),\n",
       " 'Be44Re2': array([1434, 1435, 1436, 1437], dtype=int64),\n",
       " 'Bi12Ni4': array([1582, 1583], dtype=int64),\n",
       " 'Bi1In2': array([1442, 1443, 1584], dtype=int64),\n",
       " 'Bi1In4': array([1482], dtype=int64),\n",
       " 'Bi1K1O3': array([1450, 1451, 1452, 1453, 1454, 1456, 1457, 1464, 1484, 1485, 1486,\n",
       "        1487], dtype=int64),\n",
       " 'Bi1La1': array([1585], dtype=int64),\n",
       " 'Bi1Pb1': array([1445, 1446, 1447], dtype=int64),\n",
       " 'Bi1Rb1O3': array([1455, 1458], dtype=int64),\n",
       " 'Bi1Sc1': array([1470], dtype=int64),\n",
       " 'Bi1Sn1': array([1448], dtype=int64),\n",
       " 'Bi2Ca2Cu3Sr2O10': array([1460], dtype=int64),\n",
       " 'Bi2Ce2S4O2': array([1469], dtype=int64),\n",
       " 'Bi2Cu2Pr1Sr2O8': array([1495, 1497, 1499], dtype=int64),\n",
       " 'Bi2Cu2Sr2Tm1O8': array([1589], dtype=int64),\n",
       " 'Bi2F1La2S4O1': array([1472, 1473, 1474, 1475, 1476, 1477, 1478], dtype=int64),\n",
       " 'Bi2F2S4Sr2': array([1479], dtype=int64),\n",
       " 'Bi2K1Sr1O6': array([1483], dtype=int64),\n",
       " 'Bi2La2S4O2': array([1471, 1480, 1481, 1488, 1489, 1490, 1491, 1492, 1493, 1494],\n",
       "       dtype=int64),\n",
       " 'Bi2Se3': array([1461, 1462], dtype=int64),\n",
       " 'Bi2Tl1': array([1449, 1592], dtype=int64),\n",
       " 'Bi2Tl6': array([1441], dtype=int64),\n",
       " 'Bi2Zr6': array([1444], dtype=int64),\n",
       " 'Bi48Rh12': array([1463, 1587], dtype=int64),\n",
       " 'Bi4Ca2Cu4I2Sr4O16': array([1504, 1508, 1516, 1525, 1526], dtype=int64),\n",
       " 'Bi4Ca2Cu4Sr4O16': array([1459, 1500, 1501, 1502, 1503, 1505, 1506, 1507, 1509, 1510, 1511,\n",
       "        1512, 1513, 1514, 1515, 1517, 1518, 1519, 1520, 1521, 1522, 1523,\n",
       "        1524, 1527, 1528, 1529, 1530, 1531, 1532, 1533, 1534, 1535, 1536,\n",
       "        1537, 1538, 1539, 1540, 1541, 1542, 1543, 1544, 1545, 1546, 1547,\n",
       "        1548, 1549, 1550, 1551, 1552, 1553, 1554, 1555, 1556, 1557, 1558,\n",
       "        1559, 1560, 1561, 1562, 1563, 1564, 1565, 1566, 1588], dtype=int64),\n",
       " 'Bi4Ca2Cu8Pb4Sr8Y2O32': array([1465, 1466, 1467, 1468], dtype=int64),\n",
       " 'Bi4Ca4Cu4Sr2O16': array([1567], dtype=int64),\n",
       " 'Bi4Cu2Sr4O12': array([1568, 1569, 1570, 1571, 1572, 1573, 1574, 1575, 1576, 1577],\n",
       "       dtype=int64),\n",
       " 'Bi4Cu4Sr4Y2O16': array([1496, 1498, 1578, 1579], dtype=int64),\n",
       " 'Bi4S4O2': array([1580, 1581], dtype=int64),\n",
       " 'Bi6La8': array([1586], dtype=int64),\n",
       " 'Bi6Mg2': array([1590], dtype=int64),\n",
       " 'Bi8Th6': array([1591], dtype=int64),\n",
       " 'Br2C2Y2': array([1595, 1596, 1597], dtype=int64),\n",
       " 'Br2Ca2Cu1O2': array([1598, 1599, 1600, 1601, 1602, 1603], dtype=int64),\n",
       " 'C12Ce8': array([1740], dtype=int64),\n",
       " 'C12Dy8': array([1747], dtype=int64),\n",
       " 'C12Er8': array([1748], dtype=int64),\n",
       " 'C12Gd8': array([1749], dtype=int64),\n",
       " 'C12Ho8': array([1750], dtype=int64),\n",
       " 'C12La8': array([1648, 1650, 1654], dtype=int64),\n",
       " 'C12Lu8': array([1759], dtype=int64),\n",
       " 'C12Nd8': array([1760], dtype=int64),\n",
       " 'C12Pr8': array([1764], dtype=int64),\n",
       " 'C12Sm8': array([1772], dtype=int64),\n",
       " 'C12Tb8': array([1773], dtype=int64),\n",
       " 'C12Th8': array([1651, 1778, 1779, 1780, 1781, 1782, 1783, 1784, 1785], dtype=int64),\n",
       " 'C12Tm8': array([1776], dtype=int64),\n",
       " 'C12Y8': array([ 638, 1649, 1652, 1777], dtype=int64),\n",
       " 'C16K2': array([1786], dtype=int64),\n",
       " 'C1Cu1Nb2S2': array([1663], dtype=int64),\n",
       " 'C1Cu1Sr2O5': array([1670], dtype=int64),\n",
       " 'C1Hf1': array([1637, 1688, 1689], dtype=int64),\n",
       " 'C1Mg1Ni3': array([1617, 1623, 1626, 1628, 1631, 1633, 1634, 1640, 1641, 1643, 1656,\n",
       "        1657, 1658, 1660, 1661, 1662, 1671, 1672, 1673, 1674, 1675, 1676,\n",
       "        1677, 1678, 1679, 1680, 1681, 1690, 1691, 1692, 1693, 1694, 1695,\n",
       "        1696, 1697, 1698, 1699, 1700, 1701, 1702, 1703, 1704], dtype=int64),\n",
       " 'C1Mo1': array([1619, 1682, 1683, 1684, 1705, 1715, 1716, 1718, 1719, 1720, 1721,\n",
       "        1722, 1723, 1724, 1725, 1726, 1727, 1728], dtype=int64),\n",
       " 'C1N1Nb2': array([1606, 1613, 1614, 1615], dtype=int64),\n",
       " 'C1Nb1': array([1620, 1625, 1630, 1636, 1638, 1642, 1644, 1645, 1646, 1706, 1707,\n",
       "        1732], dtype=int64),\n",
       " 'C1Sc1': array([1632], dtype=int64),\n",
       " 'C1Si1': array([627], dtype=int64),\n",
       " 'C1Ta1': array([1618, 1622, 1635, 1639], dtype=int64),\n",
       " 'C1Ta2': array([1609], dtype=int64),\n",
       " 'C1Ti1': array([1729], dtype=int64),\n",
       " 'C1V1': array([1627], dtype=int64),\n",
       " 'C1W1': array([1608, 1612, 1708], dtype=int64),\n",
       " 'C1Y1': array([1629], dtype=int64),\n",
       " 'C1Zr1': array([1730], dtype=int64),\n",
       " 'C2Cl2Y2': array([1593], dtype=int64),\n",
       " 'C2Cu2Sr4O10': array([1664, 1665, 1666, 1667, 1668, 1669], dtype=int64),\n",
       " 'C2Hf1Nb1': array([1685, 1686], dtype=int64),\n",
       " 'C2Hf1Zr1': array([1687], dtype=int64),\n",
       " 'C2I2Y2': array([1594, 1741], dtype=int64),\n",
       " 'C2La1': array([1653], dtype=int64),\n",
       " 'C2La1Ni1': array([1742, 1743, 1744, 1745, 1746, 1751, 1752, 1753, 1754, 1755, 1756,\n",
       "        1757, 1758], dtype=int64),\n",
       " 'C2Mo1Nb1': array([1709], dtype=int64),\n",
       " 'C2Mo1Ta1': array([1710, 1712], dtype=int64),\n",
       " 'C2Mo1W1': array([1711, 1713], dtype=int64),\n",
       " 'C2Mo3': array([1616], dtype=int64),\n",
       " 'C2Nb1Ta1': array([1731], dtype=int64),\n",
       " 'C2Nb4S2': array([1621, 1624, 1647], dtype=int64),\n",
       " 'C2Ni1Y1': array([1761, 1762, 1763], dtype=int64),\n",
       " 'C2Pt1U2': array([1768, 1769, 1770, 1771], dtype=int64),\n",
       " 'C2Rh1U2': array([1765, 1766, 1767], dtype=int64),\n",
       " 'C2Ta1Ti1': array([1735], dtype=int64),\n",
       " 'C2Ta1W1': array([1734, 1736, 1737], dtype=int64),\n",
       " 'C2Y1': array([1655, 1738, 1739, 1774, 1775], dtype=int64),\n",
       " 'C3Mo2Ta1': array([1714, 1717], dtype=int64),\n",
       " 'C4Cu4Sr8O20': array([625, 626, 628, 629, 631, 632, 633, 634, 635, 636], dtype=int64),\n",
       " 'C4Mo8': array([1607, 1611], dtype=int64),\n",
       " 'C4Nb8': array([1610], dtype=int64),\n",
       " 'C6Cr23': array([1659], dtype=int64),\n",
       " 'C6Sc8': array([1733], dtype=int64),\n",
       " 'Ca1Cu1O2': array([1840], dtype=int64),\n",
       " 'Ca1Cu2Sr2Tl1O7': array([1837, 1842, 1843, 1867, 1868], dtype=int64),\n",
       " 'Ca1Cu4Ga2Sr4Y1O14': array([1827, 1835], dtype=int64),\n",
       " 'Ca1Cu6Pb4Sr4Y1O16': array([1828, 1829, 1834], dtype=int64),\n",
       " 'Ca1Ga1Si1': array([59, 71], dtype=int64),\n",
       " 'Ca1Pb1Tl2': array([1869], dtype=int64),\n",
       " 'Ca1Si2': array([1871], dtype=int64),\n",
       " 'Ca2Cl2Cu1O2': array([1845, 1846, 1847, 1848, 1849, 1850, 1851, 1852, 1853, 1854, 1855,\n",
       "        1856, 1857, 1858, 1859, 1860, 1861, 1862, 1863, 1864, 1865],\n",
       "       dtype=int64),\n",
       " 'Ca2Cl2Cu2Sm2O6': array([1838], dtype=int64),\n",
       " 'Ca2Cu4Pb1Sr4Tl1O14': array([1839, 1841, 1844, 1866], dtype=int64),\n",
       " 'Ca2La2Mn4O12': array([1820, 1826, 1836], dtype=int64),\n",
       " 'Ca2Si4': array([1872], dtype=int64),\n",
       " 'Ca2Ti4Y2O12': array([1833], dtype=int64),\n",
       " 'Ca6Rh8Sn26': array([1870, 1873], dtype=int64),\n",
       " 'Cd1Hg2': array([1881], dtype=int64),\n",
       " 'Cd1Sn3': array([1877], dtype=int64),\n",
       " 'Cd1Tl3': array([1878], dtype=int64),\n",
       " 'Cd33Na6': array([1886], dtype=int64),\n",
       " 'Cd4Mg2': array([1880, 1882], dtype=int64),\n",
       " 'Cd4Re4O14': array([1885], dtype=int64),\n",
       " 'Cd6Mg2': array([1883, 1884], dtype=int64),\n",
       " 'Ce1Co1In5': array([1984, 1985, 1987, 1988, 1991, 1992, 1995, 2000, 2002, 2005, 2006,\n",
       "        2007, 2009, 2016, 2017, 2018, 2022, 2023, 2036, 2037, 2038, 2039,\n",
       "        2040, 2041, 2042, 2043, 2044, 2045, 2046, 2047, 2048, 2049, 2050,\n",
       "        2051], dtype=int64),\n",
       " 'Ce1Cu2Eu1Ru1Sr2O10': array([1981, 1996, 2024], dtype=int64),\n",
       " 'Ce1Cu2Si2': array([2011, 2056, 2057, 2058, 2059, 2060, 2061, 2062], dtype=int64),\n",
       " 'Ce1Ge12Pt4': array([1980, 1993], dtype=int64),\n",
       " 'Ce1In5Ir1': array([2033, 2068, 2069, 2070, 2071, 2072, 2073, 2074, 2075, 2076, 2077],\n",
       "       dtype=int64),\n",
       " 'Ce1In5Rh1': array([2025, 2032, 2034, 2066, 2067], dtype=int64),\n",
       " 'Ce1Ir1Si3': array([2035], dtype=int64),\n",
       " 'Ce1La1Ru4': array([1969, 1976, 1977, 1978, 1979, 1982], dtype=int64),\n",
       " 'Ce1N1': array([2078], dtype=int64),\n",
       " 'Ce1Pt3Si1': array([2010, 2013, 2015, 2019, 2020, 2021, 2063, 2064, 2065], dtype=int64),\n",
       " 'Ce1S1': array([2081], dtype=int64),\n",
       " 'Ce1Sb1': array([2082], dtype=int64),\n",
       " 'Ce2Co4': array([2052, 2053, 2054, 2055], dtype=int64),\n",
       " 'Ce2Ru4': array([1986, 1989, 1990, 1994, 1997, 1998, 1999, 2001, 2003, 2004, 2008,\n",
       "        2012, 2014, 2026, 2027, 2028, 2029, 2030, 2031, 2079, 2080],\n",
       "       dtype=int64),\n",
       " 'Ce8Ru2': array([1983], dtype=int64),\n",
       " 'Cl10N10Na2Ti10': array([2096], dtype=int64),\n",
       " 'Cl1Cu3Sr4O6': array([2085], dtype=int64),\n",
       " 'Cl2Hf2N2': array([2083], dtype=int64),\n",
       " 'Cl2N2Zr2': array([2084], dtype=int64),\n",
       " 'Cl4Li1N4Zr4': array([2089, 2090, 2091, 2092, 2093, 2094, 2095], dtype=int64),\n",
       " 'Cl6Hf6N6Na2': array([2086, 2087, 2088], dtype=int64),\n",
       " 'Co1Ga5Pu1': array([2130, 2146, 2148, 2166], dtype=int64),\n",
       " 'Co1Ga5U1': array([2165], dtype=int64),\n",
       " 'Co1In5Yb1': array([1965], dtype=int64),\n",
       " 'Co1La1Sr1O4': array([2123, 2128, 2144, 2172], dtype=int64),\n",
       " 'Co1Mo1': array([2121], dtype=int64),\n",
       " 'Co1Na1O2': array([2175, 2176], dtype=int64),\n",
       " 'Co1Ni1Zr4': array([2119, 2122, 2124], dtype=int64),\n",
       " 'Co2Na1O4': array([2173], dtype=int64),\n",
       " 'Co2Sc4': array([2120], dtype=int64),\n",
       " 'Co2Ti8': array([2111], dtype=int64),\n",
       " 'Co2U12': array([2133, 2134, 2137], dtype=int64),\n",
       " 'Co2V6': array([2150], dtype=int64),\n",
       " 'Co2Y2': array([2183, 2185], dtype=int64),\n",
       " 'Co2Zr4': array([2125, 2126, 2127, 2129, 2131, 2132, 2135, 2136, 2145, 2147, 2149,\n",
       "        2177, 2180, 2181, 2182, 2184], dtype=int64),\n",
       " 'Co2Zr6': array([2179], dtype=int64),\n",
       " 'Co4Cu2S8': array([2151, 2152, 2153, 2154, 2155, 2156, 2157, 2158, 2159, 2160, 2161,\n",
       "        2162, 2163, 2164], dtype=int64),\n",
       " 'Co4Ge4U4': array([2167, 2168, 2169, 2170, 2171], dtype=int64),\n",
       " 'Co4Na2O6': array([2174], dtype=int64),\n",
       " 'Co4U4': array([2138, 2139, 2140, 2141, 2142, 2143], dtype=int64),\n",
       " 'Co5Te6': array([2178], dtype=int64),\n",
       " 'Cr1Cu1O2': array([2213, 2214], dtype=int64),\n",
       " 'Cr1Ir3': array([2195], dtype=int64),\n",
       " 'Cr1Mo1': array([2200, 2202], dtype=int64),\n",
       " 'Cr1Nb3': array([2198], dtype=int64),\n",
       " 'Cr1V1': array([2201], dtype=int64),\n",
       " 'Cr2Ti8': array([2191, 2215], dtype=int64),\n",
       " 'Cr6Ir2': array([2203, 2206, 2208, 2210], dtype=int64),\n",
       " 'Cr6Os2': array([2204, 2211], dtype=int64),\n",
       " 'Cr6Pt2': array([2207], dtype=int64),\n",
       " 'Cr6Rh2': array([2209, 2212], dtype=int64),\n",
       " 'Cr6Ru2': array([2205], dtype=int64),\n",
       " 'Cs1W3O9': array([2216, 2217, 2218, 2219, 2220, 2221], dtype=int64),\n",
       " 'Cu1Eu2O4': array([1942], dtype=int64),\n",
       " 'Cu1F2Sr2O2': array([1044, 1052], dtype=int64),\n",
       " 'Cu1La1Nd1O4': array([1806, 1945, 2339], dtype=int64),\n",
       " 'Cu1La1Sr1Tl1O5': array([1059, 1830, 2267, 2282, 2342, 2343], dtype=int64),\n",
       " 'Cu1La2O4': array([1000, 1001, 1002, 1003, 1004, 1005, 1006, 1007, 1008, 1009, 1011,\n",
       "        1012, 1013, 1015, 1016, 1017, 1018, 1019, 1020, 1021, 1022, 1023,\n",
       "        1024, 1025, 1026, 1027, 1028, 1029, 1031, 1033, 1034, 1035, 1036,\n",
       "        1037, 1038, 1039, 1040, 1041, 1042, 1047, 1049, 1050, 1053, 1054,\n",
       "        1058, 1794, 1795, 1797, 1798, 1799, 1800, 1801, 1802, 1803, 1804,\n",
       "        1805, 1808, 1810, 1812, 1813, 1814, 1822, 1908, 1909, 1918, 1919,\n",
       "        1922, 1923, 1924, 1926, 1930, 1931, 1944, 1949, 1950, 2236, 2240,\n",
       "        2247, 2249, 2250, 2252, 2253, 2254, 2256, 2257, 2258, 2259, 2260,\n",
       "        2261, 2262, 2263, 2264, 2265, 2266, 2271, 2272, 2274, 2275, 2276,\n",
       "        2283, 2284, 2285, 2286, 2287, 2288, 2289, 2290, 2291, 2292, 2293,\n",
       "        2294, 2295, 2296, 2297, 2298, 2299, 2300, 2301, 2302, 2303, 2304,\n",
       "        2305, 2306, 2307, 2308, 2309, 2310, 2311, 2312, 2313, 2314, 2315,\n",
       "        2316, 2317, 2318, 2319, 2320, 2321, 2322, 2323, 2324, 2325, 2326,\n",
       "        2327, 2328, 2329, 2330, 2331, 2332, 2333, 2334, 2335, 2336, 2337,\n",
       "        2338, 2344, 2345, 2346, 2347, 2348, 2349, 2350, 2351, 2352, 2353,\n",
       "        2354, 2355, 2356, 2357, 2358, 2359, 2360, 2361, 2362, 2363, 2364,\n",
       "        2365, 2366, 2367, 2368, 2369, 2370, 2371, 2372, 2373, 2374, 2375,\n",
       "        2376], dtype=int64),\n",
       " 'Cu1La4Li1O8': array([2234], dtype=int64),\n",
       " 'Cu1Nd2O4': array([1890, 1891, 1897, 1915, 1927, 1932, 1936, 1940, 1946, 1951, 1954,\n",
       "        1957, 1966, 2382, 2383, 2384, 2385], dtype=int64),\n",
       " 'Cu1Pr2O4': array([1898, 1902, 1920, 1933, 1937, 1952, 1955, 1958, 1967, 1970, 2388],\n",
       "       dtype=int64),\n",
       " 'Cu1Sm2O4': array([1910, 1921, 1925, 1928, 1934, 1935, 1938, 1941, 1947, 1953, 1956,\n",
       "        1963, 1971], dtype=int64),\n",
       " 'Cu1Sr1O2': array([2278, 2280, 2377, 2378], dtype=int64),\n",
       " 'Cu1Sr2O3': array([2405, 2406, 2407, 2408], dtype=int64),\n",
       " 'Cu1Sr2Tl1O5': array([2192, 2196], dtype=int64),\n",
       " 'Cu1Y1O3': array([1788, 1789, 2409], dtype=int64),\n",
       " 'Cu1Zr2': array([2447], dtype=int64),\n",
       " 'Cu2Dy4O8': array([1809], dtype=int64),\n",
       " 'Cu2Gd4O8': array([1943], dtype=int64),\n",
       " 'Cu2Ir4S8': array([2235, 2238, 2239, 2248], dtype=int64),\n",
       " 'Cu2La2O6': array([2340, 2341], dtype=int64),\n",
       " 'Cu2La2Sr1O6': array([2441, 2442], dtype=int64),\n",
       " 'Cu2Pr1Sr2Tl1O7': array([1823], dtype=int64),\n",
       " 'Cu2Rh4S8': array([2102, 2188, 2268], dtype=int64),\n",
       " 'Cu2Rh4Se8': array([2389, 2390, 2391, 2392], dtype=int64),\n",
       " 'Cu2S4': array([1875, 2393], dtype=int64),\n",
       " 'Cu2Se4': array([1876, 2255], dtype=int64),\n",
       " 'Cu2Sn6': array([2443], dtype=int64),\n",
       " 'Cu2Sr2O4': array([2273, 2277, 2279, 2281, 2379, 2380, 2381, 2386, 2387, 2394, 2395,\n",
       "        2396, 2397, 2398, 2399, 2400, 2401, 2402], dtype=int64),\n",
       " 'Cu2Sr2Tl1Y1O7': array([1824], dtype=int64),\n",
       " 'Cu2Te2': array([2448], dtype=int64),\n",
       " 'Cu2Tm4O8': array([1811], dtype=int64),\n",
       " 'Cu2Zn1': array([2233], dtype=int64),\n",
       " 'Cu3Ga1': array([2242], dtype=int64),\n",
       " 'Cu3Sb1': array([2237, 2244], dtype=int64),\n",
       " 'Cu4Fe2Sr4Y2O14': array([2413, 2414, 2415, 2416, 2417, 2418], dtype=int64),\n",
       " 'Cu4Ga2Sr4Tm2O14': array([1821, 1831], dtype=int64),\n",
       " 'Cu4Ga2Sr4Y2O14': array([1815], dtype=int64),\n",
       " 'Cu4Gd2Ru2Sr4O16': array([1816, 1894, 1903, 1959, 1972, 2100, 2270, 2410, 2411, 2412, 2419,\n",
       "        2420, 2421, 2422, 2423, 2424, 2425, 2426, 2427, 2428, 2429, 2430,\n",
       "        2431, 2432, 2433, 2434, 2435, 2436, 2437, 2438, 2439, 2440],\n",
       "       dtype=int64),\n",
       " 'Cu4Sr4O10': array([2403, 2404], dtype=int64),\n",
       " 'Cu5La1': array([2449], dtype=int64),\n",
       " 'Cu6Ge2': array([2241, 2243, 2245, 2246], dtype=int64),\n",
       " 'Cu6Pb4Sr4Y2O16': array([1807, 2444, 2445, 2446], dtype=int64),\n",
       " 'Cu6Sn2': array([2251, 2450], dtype=int64),\n",
       " 'Cu8S4': array([2269], dtype=int64),\n",
       " 'Cu8Y8O20': array([1787], dtype=int64),\n",
       " 'Er1Pd2Sn1': array([2463, 2464, 2465], dtype=int64),\n",
       " 'Er1Pd4Sn2Y1': array([2461, 2462], dtype=int64),\n",
       " 'Er5Rh6Sn18': array([2466], dtype=int64),\n",
       " 'Fe12Lu8Si20': array([2451, 2453, 2565, 2566, 2567, 2568, 2569], dtype=int64),\n",
       " 'Fe12Si20Y8': array([2454, 2564], dtype=int64),\n",
       " 'Fe1La1Sr1O4': array([2230, 2521], dtype=int64),\n",
       " 'Fe1Ni1U12': array([2485], dtype=int64),\n",
       " 'Fe1Ni1Zr4': array([2488, 2489, 2490, 2492, 2493], dtype=int64),\n",
       " 'Fe1V3Zr2': array([2491], dtype=int64),\n",
       " 'Fe2K1S2': array([2501, 2511], dtype=int64),\n",
       " 'Fe2K1Se2': array([2097, 2098, 2099, 2186, 2187, 2500, 2502, 2503, 2504, 2505, 2506,\n",
       "        2507, 2508, 2509, 2510, 2512, 2514, 2516, 2517, 2518, 2519, 2520,\n",
       "        2559, 2560, 2561], dtype=int64),\n",
       " 'Fe2La2P2O2': array([ 235,  237,  238,  241,  242, 1817, 2467, 2468, 2469, 2470],\n",
       "       dtype=int64),\n",
       " 'Fe2P2Pr2O2': array([2471], dtype=int64),\n",
       " 'Fe2S16Ta8': array([2474], dtype=int64),\n",
       " 'Fe2S1Se1': array([2528], dtype=int64),\n",
       " 'Fe2Se1Te1': array([2496, 2536, 2537, 2538, 2539, 2540, 2541, 2542, 2543, 2544, 2545,\n",
       "        2546], dtype=int64),\n",
       " 'Fe2Se2': array([2105, 2112, 2495, 2498, 2522, 2523, 2524, 2526, 2547, 2548, 2549,\n",
       "        2550, 2551, 2552, 2553, 2554, 2555], dtype=int64),\n",
       " 'Fe2Se2Tl1': array([2513, 2515], dtype=int64),\n",
       " 'Fe2Te2': array([2525, 2527, 2529, 2530, 2531, 2532, 2533, 2534, 2535, 2556, 2557],\n",
       "       dtype=int64),\n",
       " 'Fe2Te4': array([2562], dtype=int64),\n",
       " 'Fe2U12': array([2197, 2494], dtype=int64),\n",
       " 'Fe2U8': array([2558], dtype=int64),\n",
       " 'Fe2Zr4': array([2563], dtype=int64),\n",
       " 'Fe4Se1Te3': array([2497, 2499], dtype=int64),\n",
       " 'Ga10Mn4': array([2655], dtype=int64),\n",
       " 'Ga1Nb1Ni2': array([2640], dtype=int64),\n",
       " 'Ga1Nb4Se8': array([2570, 2575], dtype=int64),\n",
       " 'Ga1Nb6Sn1': array([2599, 2605, 2607, 2609, 2610, 2618], dtype=int64),\n",
       " 'Ga1Ni2Zr1': array([2637, 2639], dtype=int64),\n",
       " 'Ga1Si1Sr1': array([2621, 2629, 2631, 2632], dtype=int64),\n",
       " 'Ga1Si1V6': array([2598, 2604, 2606, 2608, 2611], dtype=int64),\n",
       " 'Ga1V1': array([2603], dtype=int64),\n",
       " 'Ga2Nb6': array([  50, 2574, 2583, 2585, 2592, 2597, 2601, 2619, 2624, 2626, 2627,\n",
       "        2650], dtype=int64),\n",
       " 'Ga2V6': array([  60, 1438, 1874, 1964, 2114, 2193, 2480, 2579, 2580, 2581, 2582,\n",
       "        2584, 2586, 2587, 2589, 2591, 2595, 2596, 2602, 2612, 2613, 2614,\n",
       "        2615, 2616, 2617, 2620, 2622, 2623, 2625, 2628, 2630, 2633, 2634,\n",
       "        2635, 2636, 2638, 2641, 2642, 2643, 2644, 2646, 2647, 2648, 2649,\n",
       "        2651, 2652], dtype=int64),\n",
       " 'Ga3Pd2U1': array([83], dtype=int64),\n",
       " 'Ga4Nb6': array([2653], dtype=int64),\n",
       " 'Ga4Zr6': array([2654], dtype=int64),\n",
       " 'Ga6V10': array([2645], dtype=int64),\n",
       " 'Ge12Pr1Pt4': array([1904, 1911, 1916, 1917, 1939, 1960, 1968, 1973, 1975], dtype=int64),\n",
       " 'Ge1Nb6Sn1': array([2694, 2699, 2701], dtype=int64),\n",
       " 'Ge1Si1V6': array([2700, 2702], dtype=int64),\n",
       " 'Ge1Sn3': array([2697], dtype=int64),\n",
       " 'Ge1Te1': array([2703, 2704, 2705, 2706, 2741], dtype=int64),\n",
       " 'Ge2In6': array([2695], dtype=int64),\n",
       " 'Ge2La1Pd2': array([2714, 2715, 2719], dtype=int64),\n",
       " 'Ge2La1Pt2': array([2713, 2723, 2724, 2725, 2726, 2727, 2728, 2729], dtype=int64),\n",
       " 'Ge2Mo6': array([2688], dtype=int64),\n",
       " 'Ge2Nb6': array([2682, 2692], dtype=int64),\n",
       " 'Ge2Pd2Sr1': array([   0,    2,    5, 2107, 2716, 2717, 2720, 2730, 2731, 2732, 2733,\n",
       "        2734, 2735, 2736, 2737, 2738, 2739], dtype=int64),\n",
       " 'Ge2Sb6': array([2696], dtype=int64),\n",
       " 'Ge2Tl6': array([2698], dtype=int64),\n",
       " 'Ge2V6': array([2686, 2689, 2691], dtype=int64),\n",
       " 'Ge4La2': array([2708, 2709, 2710, 2711, 2712, 2718], dtype=int64),\n",
       " 'Ge4Rh8': array([2740], dtype=int64),\n",
       " 'Ge4Th6': array([2722], dtype=int64),\n",
       " 'Ge4Y2': array([2707], dtype=int64),\n",
       " 'Ge6Nb10': array([2721], dtype=int64),\n",
       " 'Ge8Nb24': array([  51,   84, 2687], dtype=int64),\n",
       " 'H1V2': array([2742], dtype=int64),\n",
       " 'H2La1': array([2756], dtype=int64),\n",
       " 'H2Nb1': array([2743], dtype=int64),\n",
       " 'H2Pd2': array([2744, 2745, 2746, 2747, 2748, 2749, 2750, 2751, 2752, 2753, 2754,\n",
       "        2755], dtype=int64),\n",
       " 'H3Th1': array([2757], dtype=int64),\n",
       " 'Hf10Ir6': array([2788], dtype=int64),\n",
       " 'Hf1N1': array([2780, 2785], dtype=int64),\n",
       " 'Hf1N2Nb1': array([2765], dtype=int64),\n",
       " 'Hf1Ta1': array([2764], dtype=int64),\n",
       " 'Hf1V4Zr1': array([2762, 2763, 2766, 2768], dtype=int64),\n",
       " 'Hf2Mo4': array([2761], dtype=int64),\n",
       " 'Hf2V4': array([2481, 2770, 2772, 2773, 2774, 2775, 2776, 2777, 2778, 2779, 2781,\n",
       "        2782, 2783, 2784, 2787], dtype=int64),\n",
       " 'Hf2W4': array([2760], dtype=int64),\n",
       " 'Hf6N8': array([2786], dtype=int64),\n",
       " 'Hf8Mo2': array([2771], dtype=int64),\n",
       " 'Hf8W2': array([2767, 2769], dtype=int64),\n",
       " 'Hg1Pb2': array([2791], dtype=int64),\n",
       " 'Hg24K4': array([2798], dtype=int64),\n",
       " 'Hg2Mg6': array([2792], dtype=int64),\n",
       " 'Hg2Pt1': array([2796], dtype=int64),\n",
       " 'Hg3Tl1': array([2789, 2790, 2797], dtype=int64),\n",
       " 'Hg4Pt1': array([2793], dtype=int64),\n",
       " 'Hg6Na2': array([2795], dtype=int64),\n",
       " 'Hg7K2': array([2794], dtype=int64),\n",
       " 'Ho2Ru2Sr4O12': array([2227], dtype=int64),\n",
       " 'In1La3': array([  85, 1879, 1895, 1896, 1899, 1907, 1912, 1913, 1914, 2600, 2656,\n",
       "        2657, 2659, 2660, 2663, 2665, 2666, 2667, 2670, 2675, 2827],\n",
       "       dtype=int64),\n",
       " 'In1Mg3': array([2810], dtype=int64),\n",
       " 'In1Pd2Y1': array([597], dtype=int64),\n",
       " 'In1S8V6': array([2820], dtype=int64),\n",
       " 'In1Sb2': array([2836], dtype=int64),\n",
       " 'In1Sn1Te2': array([2816, 2818], dtype=int64),\n",
       " 'In1Sn2Te3': array([2814, 2815], dtype=int64),\n",
       " 'In1Te1': array([   3, 2824, 2825, 2826, 2829, 2830, 2837], dtype=int64),\n",
       " 'In1Tl1': array([2817], dtype=int64),\n",
       " 'In3Mg1': array([2823], dtype=int64),\n",
       " 'In3Sn1': array([2822], dtype=int64),\n",
       " 'In3Y1': array([2835], dtype=int64),\n",
       " 'In4Te4': array([2831, 2832, 2833, 2834], dtype=int64),\n",
       " 'In6Tl2': array([2819, 2821, 2828], dtype=int64),\n",
       " 'Ir1Nb1': array([2886, 2887, 2902], dtype=int64),\n",
       " 'Ir1Pt3': array([2861], dtype=int64),\n",
       " 'Ir1Ru1': array([2849], dtype=int64),\n",
       " 'Ir2Mo2': array([2850], dtype=int64),\n",
       " 'Ir2Mo6': array([2844], dtype=int64),\n",
       " 'Ir2Nb6': array([2854, 2883], dtype=int64),\n",
       " 'Ir2Os2Th2': array([2865, 2888], dtype=int64),\n",
       " 'Ir2Ru6': array([2843, 2847], dtype=int64),\n",
       " 'Ir2Sc8': array([2892], dtype=int64),\n",
       " 'Ir3Os1': array([2855], dtype=int64),\n",
       " 'Ir3Re1': array([2851], dtype=int64),\n",
       " 'Ir3Rh1': array([2857, 2859, 2868], dtype=int64),\n",
       " 'Ir3Sc1': array([2897], dtype=int64),\n",
       " 'Ir3Se8': array([2893], dtype=int64),\n",
       " 'Ir3Te8': array([2894, 2895], dtype=int64),\n",
       " 'Ir4La10': array([2891], dtype=int64),\n",
       " 'Ir4Te8': array([2862, 2863, 2864, 2866, 2869, 2870, 2871, 2872, 2873, 2874, 2875,\n",
       "        2876, 2877, 2878, 2879, 2880, 2881, 2882, 2884, 2885], dtype=int64),\n",
       " 'Ir4Th2': array([2889, 2890], dtype=int64),\n",
       " 'Ir4Y12': array([2896], dtype=int64),\n",
       " 'Ir4Y2': array([2852, 2858], dtype=int64),\n",
       " 'Ir6Lu4Si10': array([2899, 2900, 2901], dtype=int64),\n",
       " 'Ir6Mo2': array([2853, 2860], dtype=int64),\n",
       " 'Ir6Nb2': array([2898], dtype=int64),\n",
       " 'Ir6Re2': array([2856, 2867], dtype=int64),\n",
       " 'Ir8Lu10Si20': array([2117], dtype=int64),\n",
       " 'K1Mo1O3': array([2906], dtype=int64),\n",
       " 'K1Ta1O3': array([2908, 2909, 2910, 2911, 2912], dtype=int64),\n",
       " 'K1W3O9': array([2903, 2904], dtype=int64),\n",
       " 'K2Nb1Ta1O6': array([2913], dtype=int64),\n",
       " 'K2Re2O8': array([2907], dtype=int64),\n",
       " 'K4Ni6S8': array([2914], dtype=int64),\n",
       " 'K4Ni6Se8': array([2915], dtype=int64),\n",
       " 'K4Tl8': array([2916], dtype=int64),\n",
       " 'K9W20O60': array([2905], dtype=int64),\n",
       " 'La10Ru4': array([2993], dtype=int64),\n",
       " 'La14Ni6': array([2991], dtype=int64),\n",
       " 'La1Mo6Se8': array([2936, 2941, 2952], dtype=int64),\n",
       " 'La1Os4Sb12': array([2942], dtype=int64),\n",
       " 'La1P12Ru4': array([1905, 1961], dtype=int64),\n",
       " 'La1Pb3': array([2932, 2933, 2934, 2939, 2943, 2955, 2968, 2977], dtype=int64),\n",
       " 'La1Ru3Si2': array([2108, 2109, 2115, 2472, 2475, 2477, 2478, 2479, 2937, 2948],\n",
       "       dtype=int64),\n",
       " 'La1S1': array([2994], dtype=int64),\n",
       " 'La1Se1': array([2956, 2969, 2995], dtype=int64),\n",
       " 'La1Sn3': array([1889, 1893, 1900, 1901, 2658, 2673, 2674, 2678, 2938, 2940, 2945,\n",
       "        2949, 2957, 2960, 2989], dtype=int64),\n",
       " 'La1Tl3': array([2944, 2951, 2958], dtype=int64),\n",
       " 'La2N2': array([2973], dtype=int64),\n",
       " 'La2Ni2O6': array([2966, 2967], dtype=int64),\n",
       " 'La2Ni2Si2': array([2976, 2992], dtype=int64),\n",
       " 'La2O3': array([2988], dtype=int64),\n",
       " 'La2Pd2Sb4': array([2978], dtype=int64),\n",
       " 'La2Pt2Si2': array([1887, 1888, 2946, 2947, 2950, 2953, 2954, 2959, 2961, 2962, 2964,\n",
       "        2965, 2974, 2975], dtype=int64),\n",
       " 'La2Pt4': array([2926], dtype=int64),\n",
       " 'La2Ru4': array([1906, 1948, 1962, 1974, 2661, 2664, 2668, 2671, 2676, 2677, 2963],\n",
       "       dtype=int64),\n",
       " 'La2Sr1Ti3O9': array([2931, 2935, 2971], dtype=int64),\n",
       " 'La2Y2': array([2930], dtype=int64),\n",
       " 'La3Tl1': array([2979, 2983, 2984], dtype=int64),\n",
       " 'La4Rh4O12': array([1825, 2970], dtype=int64),\n",
       " 'La4Sr2O8': array([2990], dtype=int64),\n",
       " 'La6S8': array([2981], dtype=int64),\n",
       " 'La6Se8': array([2980, 2982], dtype=int64),\n",
       " 'La8Ni4O16': array([2972, 2985, 2986, 2987], dtype=int64),\n",
       " 'Li1S4Ta2': array([2996], dtype=int64),\n",
       " 'Li2Mo6Se6': array([3015], dtype=int64),\n",
       " 'Li2Nb2O4': array([3000], dtype=int64),\n",
       " 'Li2Nb4O8': array([2999], dtype=int64),\n",
       " 'Li2Ti4O8': array([2226, 3001, 3002, 3003, 3004, 3005, 3006, 3007, 3008, 3009, 3010,\n",
       "        3011, 3012, 3013, 3014], dtype=int64),\n",
       " 'Li3W8O24': array([2998], dtype=int64),\n",
       " 'Li4V24O60': array([2997], dtype=int64),\n",
       " 'Lu10Rh6': array([3017], dtype=int64),\n",
       " 'Lu1Rh3': array([3016], dtype=int64),\n",
       " 'Lu1Si2': array([3019], dtype=int64),\n",
       " 'Lu8Rh2': array([3018], dtype=int64),\n",
       " 'Mg1Tl1': array([3020], dtype=int64),\n",
       " 'Mg2Zn4': array([3021], dtype=int64),\n",
       " 'Mg6Zn2': array([3022], dtype=int64),\n",
       " 'Mn1Ni3': array([3025], dtype=int64),\n",
       " 'Mn2Ru6': array([3026], dtype=int64),\n",
       " 'Mo1O2': array([3035], dtype=int64),\n",
       " 'Mo1P1': array([3057], dtype=int64),\n",
       " 'Mo1Re1': array([3042, 3044, 3045], dtype=int64),\n",
       " 'Mo1Re3': array([3054], dtype=int64),\n",
       " 'Mo1Tc1': array([3043], dtype=int64),\n",
       " 'Mo1Tc3': array([3031, 3040], dtype=int64),\n",
       " 'Mo1U2': array([3041], dtype=int64),\n",
       " 'Mo2O1': array([3059], dtype=int64),\n",
       " 'Mo2Re6': array([3034, 3036, 3056], dtype=int64),\n",
       " 'Mo2Rh6': array([3037], dtype=int64),\n",
       " 'Mo2Ru6': array([3038], dtype=int64),\n",
       " 'Mo2S4': array([3055], dtype=int64),\n",
       " 'Mo2Si6': array([3039], dtype=int64),\n",
       " 'Mo2Zr8': array([3032], dtype=int64),\n",
       " 'Mo4Zr2': array([3046, 3048], dtype=int64),\n",
       " 'Mo6Pb1Se8': array([3063, 3064, 3065], dtype=int64),\n",
       " 'Mo6Pt2': array([3047, 3049, 3051, 3052, 3053], dtype=int64),\n",
       " 'Mo6S8Sn1': array([3066], dtype=int64),\n",
       " 'Mo6Se8': array([3058], dtype=int64),\n",
       " 'Mo6Se8Yb1': array([3060, 3061, 3062], dtype=int64),\n",
       " 'Mo6Si2': array([3050], dtype=int64),\n",
       " 'N12Nb10': array([3089], dtype=int64),\n",
       " 'N1Nb1': array([1604, 1605, 2189, 2190, 3071, 3073, 3075, 3076, 3077, 3080, 3081,\n",
       "        3084, 3086, 3090, 3091, 3092], dtype=int64),\n",
       " 'N1Nb2': array([3067], dtype=int64),\n",
       " 'N1Pr1': array([3085], dtype=int64),\n",
       " 'N1Sc1': array([3082], dtype=int64),\n",
       " 'N1Ti1': array([3074, 3087], dtype=int64),\n",
       " 'N1V1': array([3070, 3072, 3078, 3088], dtype=int64),\n",
       " 'N1W1': array([3083], dtype=int64),\n",
       " 'N1Zr1': array([3079], dtype=int64),\n",
       " 'N4Ti6': array([3069], dtype=int64),\n",
       " 'N8Pt4': array([3068], dtype=int64),\n",
       " 'Na1Pb3': array([3095], dtype=int64),\n",
       " 'Na1W3O9': array([3094, 3096, 3097], dtype=int64),\n",
       " 'Na1W9O27': array([3093], dtype=int64),\n",
       " 'Na2V12O30': array([3098], dtype=int64),\n",
       " 'Nb10Si6': array([640], dtype=int64),\n",
       " 'Nb1Re1': array([3108], dtype=int64),\n",
       " 'Nb1Rh1': array([3110, 3123, 3124, 3176], dtype=int64),\n",
       " 'Nb1Rh3': array([3125], dtype=int64),\n",
       " 'Nb1Se2': array([3127], dtype=int64),\n",
       " 'Nb1Ta1': array([3109], dtype=int64),\n",
       " 'Nb1Ti1': array([3107, 3111], dtype=int64),\n",
       " 'Nb1Ti3': array([3102], dtype=int64),\n",
       " 'Nb1V1': array([3112], dtype=int64),\n",
       " 'Nb2Pd1': array([3113, 3114, 3116, 3119], dtype=int64),\n",
       " 'Nb2Ru1': array([3117, 3122], dtype=int64),\n",
       " 'Nb2S2': array([3126], dtype=int64),\n",
       " 'Nb2Tc1': array([3115], dtype=int64),\n",
       " 'Nb2U6': array([3100, 3101, 3103, 3104, 3105], dtype=int64),\n",
       " 'Nb4Sr4O12': array([3128, 3129], dtype=int64),\n",
       " 'Nb6Os2': array([3146, 3147], dtype=int64),\n",
       " 'Nb6Pt2': array([3156, 3157, 3158, 3159], dtype=int64),\n",
       " 'Nb6Rh2': array([ 581,  582,  584,  605, 2103, 2106, 2113, 2838, 2839, 2840, 2848,\n",
       "        3142, 3143, 3144, 3145, 3149, 3150, 3151, 3152, 3153, 3154, 3155,\n",
       "        3160, 3161, 3162], dtype=int64),\n",
       " 'Nb6Sb2': array([3166, 3167, 3168, 3169], dtype=int64),\n",
       " 'Nb6Se8': array([3140], dtype=int64),\n",
       " 'Nb6Si1Sn1': array([3173], dtype=int64),\n",
       " 'Nb6Si2': array([3121], dtype=int64),\n",
       " 'Nb6Si4': array([3141], dtype=int64),\n",
       " 'Nb6Sn2': array([  31,   35,   39,   41,   45,   47,   56,   61,   73,   86,  234,\n",
       "         236, 1439, 2571, 2572, 2576, 2593, 2681, 2683, 2684, 2690, 2693,\n",
       "        2809, 2811, 2812, 3118, 3120, 3130, 3131, 3132, 3133, 3134, 3135,\n",
       "        3136, 3137, 3138, 3139, 3148, 3163, 3164, 3165, 3170, 3171, 3172,\n",
       "        3174, 3175], dtype=int64),\n",
       " 'Nd1Os4Sb12': array([3182], dtype=int64),\n",
       " 'Nd4Ni4O12': array([1790, 1791, 1792, 1793, 1818, 3183, 3184, 3185, 3186, 3187, 3188,\n",
       "        3189, 3190, 3191], dtype=int64),\n",
       " 'Ni1S8Ta4': array([3192, 3193, 3195, 3196, 3197], dtype=int64),\n",
       " 'Ni2V6': array([2118, 3200], dtype=int64),\n",
       " 'Ni2Zr2': array([3217], dtype=int64),\n",
       " 'Ni2Zr4': array([2110, 2482, 2484, 2486, 3211, 3212, 3213, 3214, 3215, 3216],\n",
       "       dtype=int64),\n",
       " 'Ni2Zr6': array([3206, 3207, 3208, 3210], dtype=int64),\n",
       " 'Ni2Zr8': array([3203, 3204], dtype=int64),\n",
       " 'Ni6S8': array([3205], dtype=int64),\n",
       " 'Ni6Th14': array([3209], dtype=int64),\n",
       " 'Os1Re1': array([3222, 3224], dtype=int64),\n",
       " 'Os1V1': array([3223], dtype=int64),\n",
       " 'Os2Re6': array([3218, 3221], dtype=int64),\n",
       " 'Os2Rh6': array([3219, 3220], dtype=int64),\n",
       " 'Os4Pr1Sb12': array([2918, 2919, 2922, 2927, 2928, 3177, 3178, 3179, 3181, 3229],\n",
       "       dtype=int64),\n",
       " 'Os4Th2': array([2841, 2845], dtype=int64),\n",
       " 'Os6Re2': array([3226, 3227], dtype=int64),\n",
       " 'Os6W2': array([3225, 3228], dtype=int64),\n",
       " 'P1S1Y2': array([3232], dtype=int64),\n",
       " 'P1Zr1': array([3233], dtype=int64),\n",
       " 'P4Ru4Zr4': array([ 630,  637,  639,  641, 2473, 2487, 3234, 3235, 3236], dtype=int64),\n",
       " 'Pb1Sn1': array([3239], dtype=int64),\n",
       " 'Pb1Te1': array([3240, 3241, 3242, 3243, 3244, 3245, 3246], dtype=int64),\n",
       " 'Pb1Tl1': array([3238], dtype=int64),\n",
       " 'Pb2Sn6': array([3237], dtype=int64),\n",
       " 'Pb3Sr1': array([1045], dtype=int64),\n",
       " 'Pb3Th1': array([2920], dtype=int64),\n",
       " 'Pb4Rh2': array([3247], dtype=int64),\n",
       " 'Pd1Te2': array([3194, 3198, 3265, 3266, 3267, 3268, 3269], dtype=int64),\n",
       " 'Pd1W1': array([3264], dtype=int64),\n",
       " 'Pd1Zr2': array([3260, 3274, 3281, 3282, 3284, 3285], dtype=int64),\n",
       " 'Pd2Sb2': array([2116, 2229, 3201, 3261, 3262, 3263, 3286], dtype=int64),\n",
       " 'Pd2Sn1Tm1': array([3278], dtype=int64),\n",
       " 'Pd2Sn1Y1': array([2452, 2455, 2456, 2457, 2458, 2459, 2460, 2662, 2672, 2680, 2799,\n",
       "        3275, 3276, 3277, 3279, 3280], dtype=int64),\n",
       " 'Pd2Te2': array([3270, 3271], dtype=int64),\n",
       " 'Pd2Ti6': array([3255, 3256, 3257, 3258, 3259], dtype=int64),\n",
       " 'Pd3Te1': array([3287], dtype=int64),\n",
       " 'Pd8S2': array([3272], dtype=int64),\n",
       " 'Pd8Se2': array([3273, 3283, 3289, 3290], dtype=int64),\n",
       " 'Pd8Th6': array([3288], dtype=int64),\n",
       " 'Pt1Rh3': array([3292], dtype=int64),\n",
       " 'Pt1Ta3': array([3293, 3294], dtype=int64),\n",
       " 'Pt1W1': array([3295, 3296], dtype=int64),\n",
       " 'Pt2Sb2': array([1440], dtype=int64),\n",
       " 'Pt2V6': array([3291, 3298], dtype=int64),\n",
       " 'Pt2W1': array([3297], dtype=int64),\n",
       " 'Pt3Sb3Sr2': array([3300], dtype=int64),\n",
       " 'Pt3Y1': array([3299], dtype=int64),\n",
       " 'Pt4Y8': array([3301], dtype=int64),\n",
       " 'Pt6Th2': array([3302], dtype=int64),\n",
       " 'Pt6U2': array([3248, 3249, 3250, 3251, 3252, 3253, 3254], dtype=int64),\n",
       " 'Rb1W3O9': array([3305, 3306, 3307, 3308, 3309, 3312, 3313, 3314], dtype=int64),\n",
       " 'Rb1W6O18': array([3303, 3304], dtype=int64),\n",
       " 'Rb2W4O12': array([3311], dtype=int64),\n",
       " 'Rb3W12O36': array([3310], dtype=int64),\n",
       " 'Re1W2': array([3318, 3319], dtype=int64),\n",
       " 'Re6W2': array([3320, 3321], dtype=int64),\n",
       " 'Rh2O4': array([3337], dtype=int64),\n",
       " 'Rh2Ru6': array([3324, 3325], dtype=int64),\n",
       " 'Rh2Se2': array([3329], dtype=int64),\n",
       " 'Rh2Si2Th2': array([3330], dtype=int64),\n",
       " 'Rh2Zr4': array([3326, 3328, 3338], dtype=int64),\n",
       " 'Rh4Sc4Si8': array([3340], dtype=int64),\n",
       " 'Rh4Se8': array([3323, 3327, 3331, 3332, 3333], dtype=int64),\n",
       " 'Rh4Zr12': array([3335, 3336], dtype=int64),\n",
       " 'Rh4Zr4': array([3339], dtype=int64),\n",
       " 'Rh8Se12': array([3334], dtype=int64),\n",
       " 'Ru1Sr2O4': array([3350, 3351, 3352, 3353], dtype=int64),\n",
       " 'Ru1V1': array([3342, 3343, 3344, 3345, 3346, 3347, 3348, 3349], dtype=int64),\n",
       " 'Ru2Si2U1': array([1892, 3315], dtype=int64),\n",
       " 'Ru2Sr4Y2O12': array([2222, 2223, 2224, 2225, 2231], dtype=int64),\n",
       " 'Ru4Th2': array([2846, 2923, 3180], dtype=int64),\n",
       " 'Ru8Y4': array([2669, 2679], dtype=int64),\n",
       " 'S16Tl1V12': array([3358], dtype=int64),\n",
       " 'S1Se1Ta1': array([3354, 3356], dtype=int64),\n",
       " 'S4Ta2': array([3357], dtype=int64),\n",
       " 'S8Zn4': array([2232], dtype=int64),\n",
       " 'S8Zr6': array([3355], dtype=int64),\n",
       " 'Sb1Tl3': array([3365], dtype=int64),\n",
       " 'Sb2V6': array([3360, 3361, 3362, 3363, 3364], dtype=int64),\n",
       " 'Se1Y1': array([3366], dtype=int64),\n",
       " 'Se8Zn4': array([2228], dtype=int64),\n",
       " 'Si1Sn1V6': array([3375, 3377], dtype=int64),\n",
       " 'Si2Ta4': array([3370, 3380, 3386, 3387], dtype=int64),\n",
       " 'Si2Th1': array([2842, 3322], dtype=int64),\n",
       " 'Si2V6': array([  32,   65, 1409, 1410, 1929, 2101, 2194, 2199, 2476, 2573, 2578,\n",
       "        2588, 2590, 2594, 2685, 2813, 2917, 2921, 3023, 3024, 3027, 3028,\n",
       "        3029, 3030, 3033, 3099, 3106, 3230, 3231, 3316, 3317, 3341, 3359,\n",
       "        3367, 3368, 3369, 3372, 3373, 3378, 3381, 3382, 3383, 3385, 3388],\n",
       "       dtype=int64),\n",
       " 'Si4Sr2': array([3199, 3202, 3389], dtype=int64),\n",
       " 'Si4Y2': array([3376, 3379], dtype=int64),\n",
       " 'Si4Zr4': array([3374, 3390, 3392], dtype=int64),\n",
       " 'Si4Zr6': array([3391], dtype=int64),\n",
       " 'Si8Zr24': array([3384], dtype=int64),\n",
       " 'Sn1Te1': array([   1, 2800, 2801, 2802, 2803, 2804, 2805, 2806, 2807, 2808, 3395,\n",
       "        3396, 3397, 3398, 3399, 3400, 3401, 3402, 3403], dtype=int64),\n",
       " 'Sn2O4': array([3406], dtype=int64),\n",
       " 'Sn2Ta6': array([2104], dtype=int64),\n",
       " 'Sn2V6': array([2577, 3371], dtype=int64),\n",
       " 'Sn2W6O18': array([3393, 3394], dtype=int64),\n",
       " 'Sn2Zr6': array([3405], dtype=int64),\n",
       " 'Sn3Th1': array([2925], dtype=int64),\n",
       " 'Sn6Y10': array([3404], dtype=int64),\n",
       " 'Sr1Ti1O3': array([1010, 1014, 1046, 1796, 1832, 2929, 3407], dtype=int64),\n",
       " 'Sr1V1O3': array([3408, 3409, 3410, 3411], dtype=int64),\n",
       " 'Sr2Ti1O4': array([2924], dtype=int64),\n",
       " 'Ta1Ti1': array([3414, 3415, 3416], dtype=int64),\n",
       " 'Ta2Zr6': array([3413], dtype=int64),\n",
       " 'Ta8V2': array([3417], dtype=int64),\n",
       " 'Te2V1': array([3418], dtype=int64),\n",
       " 'Th2Zr6': array([3419, 3420], dtype=int64),\n",
       " 'Th3Tm1': array([3421], dtype=int64),\n",
       " 'Ti1O1': array([3428, 3429], dtype=int64),\n",
       " 'Ti1V1': array([3423], dtype=int64),\n",
       " 'Ti1Zr1': array([3422], dtype=int64),\n",
       " 'Ti2Zr1': array([3424], dtype=int64),\n",
       " 'Ti3O3': array([3426, 3427], dtype=int64),\n",
       " 'Ti3Tl1': array([3430], dtype=int64),\n",
       " 'Ti4Y4O12': array([1819], dtype=int64),\n",
       " 'Ti6Zr2': array([3425], dtype=int64),\n",
       " 'Tl1W3O9': array([3432], dtype=int64),\n",
       " 'Tl1W6O18': array([3431], dtype=int64),\n",
       " 'Tl1Zr3': array([3433], dtype=int64),\n",
       " 'V2Zr6': array([3434], dtype=int64),\n",
       " 'V4Zr2': array([2483, 3435, 3436], dtype=int64),\n",
       " 'V8Zr4': array([2758, 2759, 3412], dtype=int64)}"
      ]
     },
     "execution_count": 18,
     "metadata": {},
     "output_type": "execute_result"
    }
   ],
   "source": [
    "df_MP[df_MP[\"synth_doped\"] == True].groupby(\"orig_formula_cif\").indices"
   ]
  },
  {
   "cell_type": "code",
   "execution_count": 19,
   "metadata": {},
   "outputs": [
    {
     "data": {
      "text/html": [
       "<div>\n",
       "<style scoped>\n",
       "    .dataframe tbody tr th:only-of-type {\n",
       "        vertical-align: middle;\n",
       "    }\n",
       "\n",
       "    .dataframe tbody tr th {\n",
       "        vertical-align: top;\n",
       "    }\n",
       "\n",
       "    .dataframe thead th {\n",
       "        text-align: right;\n",
       "    }\n",
       "</style>\n",
       "<table border=\"1\" class=\"dataframe\">\n",
       "  <thead>\n",
       "    <tr style=\"text-align: right;\">\n",
       "      <th></th>\n",
       "      <th>formula_sc</th>\n",
       "      <th>formula_similarity</th>\n",
       "      <th>totreldiff</th>\n",
       "      <th>formula_frac</th>\n",
       "      <th>correct_formula_frac</th>\n",
       "      <th>formula</th>\n",
       "      <th>orig_formula_cif</th>\n",
       "      <th>tc</th>\n",
       "      <th>sc_class</th>\n",
       "      <th>sc_class_unique_sc</th>\n",
       "      <th>...</th>\n",
       "      <th>tetragonal</th>\n",
       "      <th>triclinic</th>\n",
       "      <th>trigonal</th>\n",
       "      <th>primitive</th>\n",
       "      <th>base-centered</th>\n",
       "      <th>body-centered</th>\n",
       "      <th>face-centered</th>\n",
       "      <th>weight</th>\n",
       "      <th>average_atomic_weight</th>\n",
       "      <th>sc_class_name</th>\n",
       "    </tr>\n",
       "  </thead>\n",
       "  <tbody>\n",
       "    <tr>\n",
       "      <th>1800</th>\n",
       "      <td>Ba2Ca0.7Cu2Gd0.3Tl1O7</td>\n",
       "      <td>3</td>\n",
       "      <td>0.046154</td>\n",
       "      <td>1.000</td>\n",
       "      <td>True</td>\n",
       "      <td>Ba2Ca0.7Cu2Gd0.3Tl1O7</td>\n",
       "      <td>Ba2Ca1Cu2Tl1O7</td>\n",
       "      <td>81.250000</td>\n",
       "      <td>Cuprate</td>\n",
       "      <td>True</td>\n",
       "      <td>...</td>\n",
       "      <td>7</td>\n",
       "      <td>0</td>\n",
       "      <td>0</td>\n",
       "      <td>1</td>\n",
       "      <td>0</td>\n",
       "      <td>0</td>\n",
       "      <td>0</td>\n",
       "      <td>1.0</td>\n",
       "      <td>793.354700</td>\n",
       "      <td>Cuprate</td>\n",
       "    </tr>\n",
       "    <tr>\n",
       "      <th>1801</th>\n",
       "      <td>Ba2Ca0.7Cu2Nd0.3Tl1O7</td>\n",
       "      <td>3</td>\n",
       "      <td>0.046154</td>\n",
       "      <td>1.000</td>\n",
       "      <td>True</td>\n",
       "      <td>Ba2Ca0.7Cu2Nd0.3Tl1O7</td>\n",
       "      <td>Ba2Ca1Cu2Tl1O7</td>\n",
       "      <td>95.500000</td>\n",
       "      <td>Cuprate</td>\n",
       "      <td>True</td>\n",
       "      <td>...</td>\n",
       "      <td>7</td>\n",
       "      <td>0</td>\n",
       "      <td>0</td>\n",
       "      <td>1</td>\n",
       "      <td>0</td>\n",
       "      <td>0</td>\n",
       "      <td>0</td>\n",
       "      <td>1.0</td>\n",
       "      <td>789.452300</td>\n",
       "      <td>Cuprate</td>\n",
       "    </tr>\n",
       "    <tr>\n",
       "      <th>1804</th>\n",
       "      <td>Ba2Ca0.8Cu2Gd0.2Tl1O7</td>\n",
       "      <td>3</td>\n",
       "      <td>0.030769</td>\n",
       "      <td>1.000</td>\n",
       "      <td>True</td>\n",
       "      <td>Ba2Ca0.8Cu2Gd0.2Tl1O7</td>\n",
       "      <td>Ba2Ca1Cu2Tl1O7</td>\n",
       "      <td>93.600000</td>\n",
       "      <td>Cuprate</td>\n",
       "      <td>True</td>\n",
       "      <td>...</td>\n",
       "      <td>7</td>\n",
       "      <td>0</td>\n",
       "      <td>0</td>\n",
       "      <td>1</td>\n",
       "      <td>0</td>\n",
       "      <td>0</td>\n",
       "      <td>0</td>\n",
       "      <td>1.0</td>\n",
       "      <td>781.637500</td>\n",
       "      <td>Cuprate</td>\n",
       "    </tr>\n",
       "    <tr>\n",
       "      <th>1805</th>\n",
       "      <td>Ba2Ca0.8Cu2Nd0.2Tl1O7</td>\n",
       "      <td>3</td>\n",
       "      <td>0.030769</td>\n",
       "      <td>1.000</td>\n",
       "      <td>True</td>\n",
       "      <td>Ba2Ca0.8Cu2Nd0.2Tl1O7</td>\n",
       "      <td>Ba2Ca1Cu2Tl1O7</td>\n",
       "      <td>96.300000</td>\n",
       "      <td>Cuprate</td>\n",
       "      <td>True</td>\n",
       "      <td>...</td>\n",
       "      <td>7</td>\n",
       "      <td>0</td>\n",
       "      <td>0</td>\n",
       "      <td>1</td>\n",
       "      <td>0</td>\n",
       "      <td>0</td>\n",
       "      <td>0</td>\n",
       "      <td>1.0</td>\n",
       "      <td>779.035900</td>\n",
       "      <td>Cuprate</td>\n",
       "    </tr>\n",
       "    <tr>\n",
       "      <th>1806</th>\n",
       "      <td>Ba2Ca0.8Cu2Tl1Y0.2O7</td>\n",
       "      <td>3</td>\n",
       "      <td>0.030769</td>\n",
       "      <td>1.000</td>\n",
       "      <td>True</td>\n",
       "      <td>Ba2Ca0.8Cu2Tl1Y0.2O7</td>\n",
       "      <td>Ba2Ca1Cu2Tl1O7</td>\n",
       "      <td>97.600000</td>\n",
       "      <td>Cuprate</td>\n",
       "      <td>True</td>\n",
       "      <td>...</td>\n",
       "      <td>7</td>\n",
       "      <td>0</td>\n",
       "      <td>0</td>\n",
       "      <td>1</td>\n",
       "      <td>0</td>\n",
       "      <td>0</td>\n",
       "      <td>0</td>\n",
       "      <td>1.0</td>\n",
       "      <td>767.968670</td>\n",
       "      <td>Cuprate</td>\n",
       "    </tr>\n",
       "    <tr>\n",
       "      <th>1808</th>\n",
       "      <td>Ba2Ca0.9Cu2Gd0.1Tl1O7</td>\n",
       "      <td>2</td>\n",
       "      <td>0.015385</td>\n",
       "      <td>1.000</td>\n",
       "      <td>True</td>\n",
       "      <td>Ba2Ca0.9Cu2Gd0.1Tl1O7</td>\n",
       "      <td>Ba2Ca1Cu2Tl1O7</td>\n",
       "      <td>91.800000</td>\n",
       "      <td>Cuprate</td>\n",
       "      <td>True</td>\n",
       "      <td>...</td>\n",
       "      <td>7</td>\n",
       "      <td>0</td>\n",
       "      <td>0</td>\n",
       "      <td>1</td>\n",
       "      <td>0</td>\n",
       "      <td>0</td>\n",
       "      <td>0</td>\n",
       "      <td>1.0</td>\n",
       "      <td>769.920300</td>\n",
       "      <td>Cuprate</td>\n",
       "    </tr>\n",
       "    <tr>\n",
       "      <th>1809</th>\n",
       "      <td>Ba2Ca0.9Cu2Nd0.1Tl1O7</td>\n",
       "      <td>2</td>\n",
       "      <td>0.015385</td>\n",
       "      <td>1.000</td>\n",
       "      <td>True</td>\n",
       "      <td>Ba2Ca0.9Cu2Nd0.1Tl1O7</td>\n",
       "      <td>Ba2Ca1Cu2Tl1O7</td>\n",
       "      <td>90.800000</td>\n",
       "      <td>Cuprate</td>\n",
       "      <td>True</td>\n",
       "      <td>...</td>\n",
       "      <td>7</td>\n",
       "      <td>0</td>\n",
       "      <td>0</td>\n",
       "      <td>1</td>\n",
       "      <td>0</td>\n",
       "      <td>0</td>\n",
       "      <td>0</td>\n",
       "      <td>1.0</td>\n",
       "      <td>768.619500</td>\n",
       "      <td>Cuprate</td>\n",
       "    </tr>\n",
       "    <tr>\n",
       "      <th>1810</th>\n",
       "      <td>Ba2Ca0.9Cu2Tl1Y0.1O7</td>\n",
       "      <td>2</td>\n",
       "      <td>0.015385</td>\n",
       "      <td>1.000</td>\n",
       "      <td>True</td>\n",
       "      <td>Ba2Ca0.9Cu2Tl1Y0.1O7</td>\n",
       "      <td>Ba2Ca1Cu2Tl1O7</td>\n",
       "      <td>86.100000</td>\n",
       "      <td>Cuprate</td>\n",
       "      <td>True</td>\n",
       "      <td>...</td>\n",
       "      <td>7</td>\n",
       "      <td>0</td>\n",
       "      <td>0</td>\n",
       "      <td>1</td>\n",
       "      <td>0</td>\n",
       "      <td>0</td>\n",
       "      <td>0</td>\n",
       "      <td>1.0</td>\n",
       "      <td>763.085885</td>\n",
       "      <td>Cuprate</td>\n",
       "    </tr>\n",
       "    <tr>\n",
       "      <th>1824</th>\n",
       "      <td>Ba2Ca1Cu2Tl1O7</td>\n",
       "      <td>1</td>\n",
       "      <td>0.000000</td>\n",
       "      <td>1.000</td>\n",
       "      <td>True</td>\n",
       "      <td>Ba2Ca1Cu2Tl1O7</td>\n",
       "      <td>Ba2Ca1Cu2Tl1O7</td>\n",
       "      <td>80.800000</td>\n",
       "      <td>Cuprate</td>\n",
       "      <td>True</td>\n",
       "      <td>...</td>\n",
       "      <td>7</td>\n",
       "      <td>0</td>\n",
       "      <td>0</td>\n",
       "      <td>1</td>\n",
       "      <td>0</td>\n",
       "      <td>0</td>\n",
       "      <td>0</td>\n",
       "      <td>1.0</td>\n",
       "      <td>758.203100</td>\n",
       "      <td>Cuprate</td>\n",
       "    </tr>\n",
       "    <tr>\n",
       "      <th>1825</th>\n",
       "      <td>Ba2Ca1Cu2Tl1O8</td>\n",
       "      <td>3</td>\n",
       "      <td>0.065934</td>\n",
       "      <td>0.875</td>\n",
       "      <td>True</td>\n",
       "      <td>Ba1.75Ca0.875Cu1.75Tl0.875O7</td>\n",
       "      <td>Ba2Ca1Cu2Tl1O7</td>\n",
       "      <td>105.981667</td>\n",
       "      <td>Cuprate</td>\n",
       "      <td>True</td>\n",
       "      <td>...</td>\n",
       "      <td>7</td>\n",
       "      <td>0</td>\n",
       "      <td>0</td>\n",
       "      <td>1</td>\n",
       "      <td>0</td>\n",
       "      <td>0</td>\n",
       "      <td>0</td>\n",
       "      <td>1.0</td>\n",
       "      <td>677.427188</td>\n",
       "      <td>Cuprate</td>\n",
       "    </tr>\n",
       "  </tbody>\n",
       "</table>\n",
       "<p>10 rows × 94 columns</p>\n",
       "</div>"
      ],
      "text/plain": [
       "                 formula_sc  formula_similarity  totreldiff  formula_frac  \\\n",
       "1800  Ba2Ca0.7Cu2Gd0.3Tl1O7                   3    0.046154         1.000   \n",
       "1801  Ba2Ca0.7Cu2Nd0.3Tl1O7                   3    0.046154         1.000   \n",
       "1804  Ba2Ca0.8Cu2Gd0.2Tl1O7                   3    0.030769         1.000   \n",
       "1805  Ba2Ca0.8Cu2Nd0.2Tl1O7                   3    0.030769         1.000   \n",
       "1806   Ba2Ca0.8Cu2Tl1Y0.2O7                   3    0.030769         1.000   \n",
       "1808  Ba2Ca0.9Cu2Gd0.1Tl1O7                   2    0.015385         1.000   \n",
       "1809  Ba2Ca0.9Cu2Nd0.1Tl1O7                   2    0.015385         1.000   \n",
       "1810   Ba2Ca0.9Cu2Tl1Y0.1O7                   2    0.015385         1.000   \n",
       "1824         Ba2Ca1Cu2Tl1O7                   1    0.000000         1.000   \n",
       "1825         Ba2Ca1Cu2Tl1O8                   3    0.065934         0.875   \n",
       "\n",
       "      correct_formula_frac                       formula orig_formula_cif  \\\n",
       "1800                  True         Ba2Ca0.7Cu2Gd0.3Tl1O7   Ba2Ca1Cu2Tl1O7   \n",
       "1801                  True         Ba2Ca0.7Cu2Nd0.3Tl1O7   Ba2Ca1Cu2Tl1O7   \n",
       "1804                  True         Ba2Ca0.8Cu2Gd0.2Tl1O7   Ba2Ca1Cu2Tl1O7   \n",
       "1805                  True         Ba2Ca0.8Cu2Nd0.2Tl1O7   Ba2Ca1Cu2Tl1O7   \n",
       "1806                  True          Ba2Ca0.8Cu2Tl1Y0.2O7   Ba2Ca1Cu2Tl1O7   \n",
       "1808                  True         Ba2Ca0.9Cu2Gd0.1Tl1O7   Ba2Ca1Cu2Tl1O7   \n",
       "1809                  True         Ba2Ca0.9Cu2Nd0.1Tl1O7   Ba2Ca1Cu2Tl1O7   \n",
       "1810                  True          Ba2Ca0.9Cu2Tl1Y0.1O7   Ba2Ca1Cu2Tl1O7   \n",
       "1824                  True                Ba2Ca1Cu2Tl1O7   Ba2Ca1Cu2Tl1O7   \n",
       "1825                  True  Ba1.75Ca0.875Cu1.75Tl0.875O7   Ba2Ca1Cu2Tl1O7   \n",
       "\n",
       "              tc sc_class  sc_class_unique_sc  ... tetragonal triclinic  \\\n",
       "1800   81.250000  Cuprate                True  ...          7         0   \n",
       "1801   95.500000  Cuprate                True  ...          7         0   \n",
       "1804   93.600000  Cuprate                True  ...          7         0   \n",
       "1805   96.300000  Cuprate                True  ...          7         0   \n",
       "1806   97.600000  Cuprate                True  ...          7         0   \n",
       "1808   91.800000  Cuprate                True  ...          7         0   \n",
       "1809   90.800000  Cuprate                True  ...          7         0   \n",
       "1810   86.100000  Cuprate                True  ...          7         0   \n",
       "1824   80.800000  Cuprate                True  ...          7         0   \n",
       "1825  105.981667  Cuprate                True  ...          7         0   \n",
       "\n",
       "      trigonal primitive base-centered body-centered face-centered weight  \\\n",
       "1800         0         1             0             0             0    1.0   \n",
       "1801         0         1             0             0             0    1.0   \n",
       "1804         0         1             0             0             0    1.0   \n",
       "1805         0         1             0             0             0    1.0   \n",
       "1806         0         1             0             0             0    1.0   \n",
       "1808         0         1             0             0             0    1.0   \n",
       "1809         0         1             0             0             0    1.0   \n",
       "1810         0         1             0             0             0    1.0   \n",
       "1824         0         1             0             0             0    1.0   \n",
       "1825         0         1             0             0             0    1.0   \n",
       "\n",
       "     average_atomic_weight sc_class_name  \n",
       "1800            793.354700       Cuprate  \n",
       "1801            789.452300       Cuprate  \n",
       "1804            781.637500       Cuprate  \n",
       "1805            779.035900       Cuprate  \n",
       "1806            767.968670       Cuprate  \n",
       "1808            769.920300       Cuprate  \n",
       "1809            768.619500       Cuprate  \n",
       "1810            763.085885       Cuprate  \n",
       "1824            758.203100       Cuprate  \n",
       "1825            677.427188       Cuprate  \n",
       "\n",
       "[10 rows x 94 columns]"
      ]
     },
     "execution_count": 19,
     "metadata": {},
     "output_type": "execute_result"
    }
   ],
   "source": [
    "df_Ba2Ca1Cu2Tl1O7 = df_MP[df_MP[\"orig_formula_cif\"] == \"Ba2Ca1Cu2Tl1O7\"]\n",
    "df_Ba2Ca1Cu2Tl1O7"
   ]
  },
  {
   "cell_type": "code",
   "execution_count": 47,
   "metadata": {},
   "outputs": [
    {
     "data": {
      "application/vnd.plotly.v1+json": {
       "config": {
        "plotlyServerURL": "https://plot.ly"
       },
       "data": [
        {
         "colorbar": {
          "ticktext": [
           -1,
           -0.5,
           0,
           0.5,
           1
          ],
          "tickvals": [
           -1,
           -0.5,
           0,
           0.5,
           1
          ],
          "title": {
           "side": "right",
           "text": "Pearson Coefficient"
          }
         },
         "colorscale": [
          [
           0,
           "#440154"
          ],
          [
           0.1111111111111111,
           "#482878"
          ],
          [
           0.2222222222222222,
           "#3e4989"
          ],
          [
           0.3333333333333333,
           "#31688e"
          ],
          [
           0.4444444444444444,
           "#26828e"
          ],
          [
           0.5555555555555556,
           "#1f9e89"
          ],
          [
           0.6666666666666666,
           "#35b779"
          ],
          [
           0.7777777777777778,
           "#6ece58"
          ],
          [
           0.8888888888888888,
           "#b5de2b"
          ],
          [
           1,
           "#fde725"
          ]
         ],
         "text": [
          [
           1,
           -0.4,
           -0.05,
           0.01,
           0.32,
           -0.13
          ],
          [
           -0.4,
           1,
           0.01,
           -0.08,
           -0.29,
           0.16
          ],
          [
           -0.05,
           0.01,
           1,
           0.84,
           -0.23,
           0.17
          ],
          [
           0.01,
           -0.08,
           0.84,
           1,
           -0.22,
           -0.03
          ],
          [
           0.32,
           -0.29,
           -0.23,
           -0.22,
           1,
           -0.01
          ],
          [
           -0.13,
           0.16,
           0.17,
           -0.03,
           -0.01,
           1
          ]
         ],
         "textfont": {
          "size": 16
         },
         "texttemplate": "%{text}",
         "type": "heatmap",
         "x": [
          "formula frac",
          "correct formula frac",
          "formula similarity",
          "totreldiff",
          "average atomic weight",
          "tc"
         ],
         "y": [
          "formula frac",
          "correct formula frac",
          "formula similarity",
          "totreldiff",
          "average atomic weight",
          "tc"
         ],
         "z": [
          [
           1,
           -0.4,
           -0.05,
           0.01,
           0.32,
           -0.13
          ],
          [
           -0.4,
           1,
           0.01,
           -0.08,
           -0.29,
           0.16
          ],
          [
           -0.05,
           0.01,
           1,
           0.84,
           -0.23,
           0.17
          ],
          [
           0.01,
           -0.08,
           0.84,
           1,
           -0.22,
           -0.03
          ],
          [
           0.32,
           -0.29,
           -0.23,
           -0.22,
           1,
           -0.01
          ],
          [
           -0.13,
           0.16,
           0.17,
           -0.03,
           -0.01,
           1
          ]
         ]
        }
       ],
       "layout": {
        "font": {
         "color": "black",
         "family": "Helvetica",
         "size": 18
        },
        "height": 600,
        "margin": {
         "b": 5,
         "l": 5,
         "r": 5,
         "t": 10
        },
        "paper_bgcolor": "white",
        "plot_bgcolor": "white",
        "template": {
         "data": {
          "bar": [
           {
            "error_x": {
             "color": "#2a3f5f"
            },
            "error_y": {
             "color": "#2a3f5f"
            },
            "marker": {
             "line": {
              "color": "#E5ECF6",
              "width": 0.5
             },
             "pattern": {
              "fillmode": "overlay",
              "size": 10,
              "solidity": 0.2
             }
            },
            "type": "bar"
           }
          ],
          "barpolar": [
           {
            "marker": {
             "line": {
              "color": "#E5ECF6",
              "width": 0.5
             },
             "pattern": {
              "fillmode": "overlay",
              "size": 10,
              "solidity": 0.2
             }
            },
            "type": "barpolar"
           }
          ],
          "carpet": [
           {
            "aaxis": {
             "endlinecolor": "#2a3f5f",
             "gridcolor": "white",
             "linecolor": "white",
             "minorgridcolor": "white",
             "startlinecolor": "#2a3f5f"
            },
            "baxis": {
             "endlinecolor": "#2a3f5f",
             "gridcolor": "white",
             "linecolor": "white",
             "minorgridcolor": "white",
             "startlinecolor": "#2a3f5f"
            },
            "type": "carpet"
           }
          ],
          "choropleth": [
           {
            "colorbar": {
             "outlinewidth": 0,
             "ticks": ""
            },
            "type": "choropleth"
           }
          ],
          "contour": [
           {
            "colorbar": {
             "outlinewidth": 0,
             "ticks": ""
            },
            "colorscale": [
             [
              0,
              "#0d0887"
             ],
             [
              0.1111111111111111,
              "#46039f"
             ],
             [
              0.2222222222222222,
              "#7201a8"
             ],
             [
              0.3333333333333333,
              "#9c179e"
             ],
             [
              0.4444444444444444,
              "#bd3786"
             ],
             [
              0.5555555555555556,
              "#d8576b"
             ],
             [
              0.6666666666666666,
              "#ed7953"
             ],
             [
              0.7777777777777778,
              "#fb9f3a"
             ],
             [
              0.8888888888888888,
              "#fdca26"
             ],
             [
              1,
              "#f0f921"
             ]
            ],
            "type": "contour"
           }
          ],
          "contourcarpet": [
           {
            "colorbar": {
             "outlinewidth": 0,
             "ticks": ""
            },
            "type": "contourcarpet"
           }
          ],
          "heatmap": [
           {
            "colorbar": {
             "outlinewidth": 0,
             "ticks": ""
            },
            "colorscale": [
             [
              0,
              "#0d0887"
             ],
             [
              0.1111111111111111,
              "#46039f"
             ],
             [
              0.2222222222222222,
              "#7201a8"
             ],
             [
              0.3333333333333333,
              "#9c179e"
             ],
             [
              0.4444444444444444,
              "#bd3786"
             ],
             [
              0.5555555555555556,
              "#d8576b"
             ],
             [
              0.6666666666666666,
              "#ed7953"
             ],
             [
              0.7777777777777778,
              "#fb9f3a"
             ],
             [
              0.8888888888888888,
              "#fdca26"
             ],
             [
              1,
              "#f0f921"
             ]
            ],
            "type": "heatmap"
           }
          ],
          "heatmapgl": [
           {
            "colorbar": {
             "outlinewidth": 0,
             "ticks": ""
            },
            "colorscale": [
             [
              0,
              "#0d0887"
             ],
             [
              0.1111111111111111,
              "#46039f"
             ],
             [
              0.2222222222222222,
              "#7201a8"
             ],
             [
              0.3333333333333333,
              "#9c179e"
             ],
             [
              0.4444444444444444,
              "#bd3786"
             ],
             [
              0.5555555555555556,
              "#d8576b"
             ],
             [
              0.6666666666666666,
              "#ed7953"
             ],
             [
              0.7777777777777778,
              "#fb9f3a"
             ],
             [
              0.8888888888888888,
              "#fdca26"
             ],
             [
              1,
              "#f0f921"
             ]
            ],
            "type": "heatmapgl"
           }
          ],
          "histogram": [
           {
            "marker": {
             "pattern": {
              "fillmode": "overlay",
              "size": 10,
              "solidity": 0.2
             }
            },
            "type": "histogram"
           }
          ],
          "histogram2d": [
           {
            "colorbar": {
             "outlinewidth": 0,
             "ticks": ""
            },
            "colorscale": [
             [
              0,
              "#0d0887"
             ],
             [
              0.1111111111111111,
              "#46039f"
             ],
             [
              0.2222222222222222,
              "#7201a8"
             ],
             [
              0.3333333333333333,
              "#9c179e"
             ],
             [
              0.4444444444444444,
              "#bd3786"
             ],
             [
              0.5555555555555556,
              "#d8576b"
             ],
             [
              0.6666666666666666,
              "#ed7953"
             ],
             [
              0.7777777777777778,
              "#fb9f3a"
             ],
             [
              0.8888888888888888,
              "#fdca26"
             ],
             [
              1,
              "#f0f921"
             ]
            ],
            "type": "histogram2d"
           }
          ],
          "histogram2dcontour": [
           {
            "colorbar": {
             "outlinewidth": 0,
             "ticks": ""
            },
            "colorscale": [
             [
              0,
              "#0d0887"
             ],
             [
              0.1111111111111111,
              "#46039f"
             ],
             [
              0.2222222222222222,
              "#7201a8"
             ],
             [
              0.3333333333333333,
              "#9c179e"
             ],
             [
              0.4444444444444444,
              "#bd3786"
             ],
             [
              0.5555555555555556,
              "#d8576b"
             ],
             [
              0.6666666666666666,
              "#ed7953"
             ],
             [
              0.7777777777777778,
              "#fb9f3a"
             ],
             [
              0.8888888888888888,
              "#fdca26"
             ],
             [
              1,
              "#f0f921"
             ]
            ],
            "type": "histogram2dcontour"
           }
          ],
          "mesh3d": [
           {
            "colorbar": {
             "outlinewidth": 0,
             "ticks": ""
            },
            "type": "mesh3d"
           }
          ],
          "parcoords": [
           {
            "line": {
             "colorbar": {
              "outlinewidth": 0,
              "ticks": ""
             }
            },
            "type": "parcoords"
           }
          ],
          "pie": [
           {
            "automargin": true,
            "type": "pie"
           }
          ],
          "scatter": [
           {
            "fillpattern": {
             "fillmode": "overlay",
             "size": 10,
             "solidity": 0.2
            },
            "type": "scatter"
           }
          ],
          "scatter3d": [
           {
            "line": {
             "colorbar": {
              "outlinewidth": 0,
              "ticks": ""
             }
            },
            "marker": {
             "colorbar": {
              "outlinewidth": 0,
              "ticks": ""
             }
            },
            "type": "scatter3d"
           }
          ],
          "scattercarpet": [
           {
            "marker": {
             "colorbar": {
              "outlinewidth": 0,
              "ticks": ""
             }
            },
            "type": "scattercarpet"
           }
          ],
          "scattergeo": [
           {
            "marker": {
             "colorbar": {
              "outlinewidth": 0,
              "ticks": ""
             }
            },
            "type": "scattergeo"
           }
          ],
          "scattergl": [
           {
            "marker": {
             "colorbar": {
              "outlinewidth": 0,
              "ticks": ""
             }
            },
            "type": "scattergl"
           }
          ],
          "scattermapbox": [
           {
            "marker": {
             "colorbar": {
              "outlinewidth": 0,
              "ticks": ""
             }
            },
            "type": "scattermapbox"
           }
          ],
          "scatterpolar": [
           {
            "marker": {
             "colorbar": {
              "outlinewidth": 0,
              "ticks": ""
             }
            },
            "type": "scatterpolar"
           }
          ],
          "scatterpolargl": [
           {
            "marker": {
             "colorbar": {
              "outlinewidth": 0,
              "ticks": ""
             }
            },
            "type": "scatterpolargl"
           }
          ],
          "scatterternary": [
           {
            "marker": {
             "colorbar": {
              "outlinewidth": 0,
              "ticks": ""
             }
            },
            "type": "scatterternary"
           }
          ],
          "surface": [
           {
            "colorbar": {
             "outlinewidth": 0,
             "ticks": ""
            },
            "colorscale": [
             [
              0,
              "#0d0887"
             ],
             [
              0.1111111111111111,
              "#46039f"
             ],
             [
              0.2222222222222222,
              "#7201a8"
             ],
             [
              0.3333333333333333,
              "#9c179e"
             ],
             [
              0.4444444444444444,
              "#bd3786"
             ],
             [
              0.5555555555555556,
              "#d8576b"
             ],
             [
              0.6666666666666666,
              "#ed7953"
             ],
             [
              0.7777777777777778,
              "#fb9f3a"
             ],
             [
              0.8888888888888888,
              "#fdca26"
             ],
             [
              1,
              "#f0f921"
             ]
            ],
            "type": "surface"
           }
          ],
          "table": [
           {
            "cells": {
             "fill": {
              "color": "#EBF0F8"
             },
             "line": {
              "color": "white"
             }
            },
            "header": {
             "fill": {
              "color": "#C8D4E3"
             },
             "line": {
              "color": "white"
             }
            },
            "type": "table"
           }
          ]
         },
         "layout": {
          "annotationdefaults": {
           "arrowcolor": "#2a3f5f",
           "arrowhead": 0,
           "arrowwidth": 1
          },
          "autotypenumbers": "strict",
          "coloraxis": {
           "colorbar": {
            "outlinewidth": 0,
            "ticks": ""
           }
          },
          "colorscale": {
           "diverging": [
            [
             0,
             "#8e0152"
            ],
            [
             0.1,
             "#c51b7d"
            ],
            [
             0.2,
             "#de77ae"
            ],
            [
             0.3,
             "#f1b6da"
            ],
            [
             0.4,
             "#fde0ef"
            ],
            [
             0.5,
             "#f7f7f7"
            ],
            [
             0.6,
             "#e6f5d0"
            ],
            [
             0.7,
             "#b8e186"
            ],
            [
             0.8,
             "#7fbc41"
            ],
            [
             0.9,
             "#4d9221"
            ],
            [
             1,
             "#276419"
            ]
           ],
           "sequential": [
            [
             0,
             "#0d0887"
            ],
            [
             0.1111111111111111,
             "#46039f"
            ],
            [
             0.2222222222222222,
             "#7201a8"
            ],
            [
             0.3333333333333333,
             "#9c179e"
            ],
            [
             0.4444444444444444,
             "#bd3786"
            ],
            [
             0.5555555555555556,
             "#d8576b"
            ],
            [
             0.6666666666666666,
             "#ed7953"
            ],
            [
             0.7777777777777778,
             "#fb9f3a"
            ],
            [
             0.8888888888888888,
             "#fdca26"
            ],
            [
             1,
             "#f0f921"
            ]
           ],
           "sequentialminus": [
            [
             0,
             "#0d0887"
            ],
            [
             0.1111111111111111,
             "#46039f"
            ],
            [
             0.2222222222222222,
             "#7201a8"
            ],
            [
             0.3333333333333333,
             "#9c179e"
            ],
            [
             0.4444444444444444,
             "#bd3786"
            ],
            [
             0.5555555555555556,
             "#d8576b"
            ],
            [
             0.6666666666666666,
             "#ed7953"
            ],
            [
             0.7777777777777778,
             "#fb9f3a"
            ],
            [
             0.8888888888888888,
             "#fdca26"
            ],
            [
             1,
             "#f0f921"
            ]
           ]
          },
          "colorway": [
           "#636efa",
           "#EF553B",
           "#00cc96",
           "#ab63fa",
           "#FFA15A",
           "#19d3f3",
           "#FF6692",
           "#B6E880",
           "#FF97FF",
           "#FECB52"
          ],
          "font": {
           "color": "#2a3f5f"
          },
          "geo": {
           "bgcolor": "white",
           "lakecolor": "white",
           "landcolor": "#E5ECF6",
           "showlakes": true,
           "showland": true,
           "subunitcolor": "white"
          },
          "hoverlabel": {
           "align": "left"
          },
          "hovermode": "closest",
          "mapbox": {
           "style": "light"
          },
          "paper_bgcolor": "white",
          "plot_bgcolor": "#E5ECF6",
          "polar": {
           "angularaxis": {
            "gridcolor": "white",
            "linecolor": "white",
            "ticks": ""
           },
           "bgcolor": "#E5ECF6",
           "radialaxis": {
            "gridcolor": "white",
            "linecolor": "white",
            "ticks": ""
           }
          },
          "scene": {
           "xaxis": {
            "backgroundcolor": "#E5ECF6",
            "gridcolor": "white",
            "gridwidth": 2,
            "linecolor": "white",
            "showbackground": true,
            "ticks": "",
            "zerolinecolor": "white"
           },
           "yaxis": {
            "backgroundcolor": "#E5ECF6",
            "gridcolor": "white",
            "gridwidth": 2,
            "linecolor": "white",
            "showbackground": true,
            "ticks": "",
            "zerolinecolor": "white"
           },
           "zaxis": {
            "backgroundcolor": "#E5ECF6",
            "gridcolor": "white",
            "gridwidth": 2,
            "linecolor": "white",
            "showbackground": true,
            "ticks": "",
            "zerolinecolor": "white"
           }
          },
          "shapedefaults": {
           "line": {
            "color": "#2a3f5f"
           }
          },
          "ternary": {
           "aaxis": {
            "gridcolor": "white",
            "linecolor": "white",
            "ticks": ""
           },
           "baxis": {
            "gridcolor": "white",
            "linecolor": "white",
            "ticks": ""
           },
           "bgcolor": "#E5ECF6",
           "caxis": {
            "gridcolor": "white",
            "linecolor": "white",
            "ticks": ""
           }
          },
          "title": {
           "x": 0.05
          },
          "xaxis": {
           "automargin": true,
           "gridcolor": "white",
           "linecolor": "white",
           "ticks": "",
           "title": {
            "standoff": 15
           },
           "zerolinecolor": "white",
           "zerolinewidth": 2
          },
          "yaxis": {
           "automargin": true,
           "gridcolor": "white",
           "linecolor": "white",
           "ticks": "",
           "title": {
            "standoff": 15
           },
           "zerolinecolor": "white",
           "zerolinewidth": 2
          }
         }
        },
        "width": 800,
        "xaxis": {
         "linecolor": "black",
         "linewidth": 5,
         "showline": true,
         "ticklen": 5,
         "ticks": "inside",
         "tickwidth": 4,
         "title": {
          "text": ""
         }
        },
        "yaxis": {
         "linecolor": "black",
         "linewidth": 5,
         "showline": true,
         "ticklen": 5,
         "ticks": "inside",
         "tickwidth": 4,
         "title": {
          "text": ""
         }
        }
       }
      }
     },
     "metadata": {},
     "output_type": "display_data"
    }
   ],
   "source": [
    "doping_properties = [\"formula_frac\", \"correct_formula_frac\", \"formula_similarity\", \"totreldiff\",\"average_atomic_weight\"]\n",
    "\n",
    "corr_matrix(df_MP_non_zero, doping_properties, 800, 600, 16)"
   ]
  },
  {
   "cell_type": "markdown",
   "metadata": {},
   "source": [
    "The relative difference allows the differentiation between molecules that are very similar to each other"
   ]
  },
  {
   "cell_type": "markdown",
   "metadata": {},
   "source": [
    "## Structure Properties"
   ]
  },
  {
   "cell_type": "code",
   "execution_count": 21,
   "metadata": {},
   "outputs": [],
   "source": [
    "df_MP_non_zero[\"cat_crystal_system\"] = df_MP_non_zero[\"crystal_system\"].astype('category').cat.codes"
   ]
  },
  {
   "cell_type": "code",
   "execution_count": 22,
   "metadata": {},
   "outputs": [
    {
     "data": {
      "text/html": [
       "<div>\n",
       "<style scoped>\n",
       "    .dataframe tbody tr th:only-of-type {\n",
       "        vertical-align: middle;\n",
       "    }\n",
       "\n",
       "    .dataframe tbody tr th {\n",
       "        vertical-align: top;\n",
       "    }\n",
       "\n",
       "    .dataframe thead th {\n",
       "        text-align: right;\n",
       "    }\n",
       "</style>\n",
       "<table border=\"1\" class=\"dataframe\">\n",
       "  <thead>\n",
       "    <tr style=\"text-align: right;\">\n",
       "      <th></th>\n",
       "      <th>spacegroup</th>\n",
       "      <th>crystal_system</th>\n",
       "      <th>cat_crystal_system</th>\n",
       "      <th>lata</th>\n",
       "      <th>latb</th>\n",
       "      <th>latc</th>\n",
       "      <th>unit_cell_formula</th>\n",
       "      <th>cell_volume</th>\n",
       "      <th>reduced_cell_formula</th>\n",
       "      <th>primitive</th>\n",
       "      <th>base-centered</th>\n",
       "      <th>body-centered</th>\n",
       "      <th>face-centered</th>\n",
       "      <th>point_group</th>\n",
       "    </tr>\n",
       "  </thead>\n",
       "  <tbody>\n",
       "    <tr>\n",
       "      <th>0</th>\n",
       "      <td>I 4/m m m</td>\n",
       "      <td>tetragonal</td>\n",
       "      <td>4</td>\n",
       "      <td>4.438672</td>\n",
       "      <td>4.438672</td>\n",
       "      <td>6.030548</td>\n",
       "      <td>{'Sr': 1.0, 'Ge': 2.0, 'Pd': 2.0}</td>\n",
       "      <td>101.453048</td>\n",
       "      <td>{'Sr': 1.0, 'Ge': 2.0, 'Pd': 2.0}</td>\n",
       "      <td>0</td>\n",
       "      <td>0</td>\n",
       "      <td>1</td>\n",
       "      <td>0</td>\n",
       "      <td>4/mmm</td>\n",
       "    </tr>\n",
       "    <tr>\n",
       "      <th>1</th>\n",
       "      <td>F m -3 m</td>\n",
       "      <td>cubic</td>\n",
       "      <td>0</td>\n",
       "      <td>4.537670</td>\n",
       "      <td>4.537670</td>\n",
       "      <td>4.537670</td>\n",
       "      <td>{'Sn': 1.0, 'Te': 1.0}</td>\n",
       "      <td>66.066855</td>\n",
       "      <td>{'Sn': 1.0, 'Te': 1.0}</td>\n",
       "      <td>0</td>\n",
       "      <td>0</td>\n",
       "      <td>0</td>\n",
       "      <td>1</td>\n",
       "      <td>m-3m</td>\n",
       "    </tr>\n",
       "    <tr>\n",
       "      <th>2</th>\n",
       "      <td>I 4/m m m</td>\n",
       "      <td>tetragonal</td>\n",
       "      <td>4</td>\n",
       "      <td>4.438672</td>\n",
       "      <td>4.438672</td>\n",
       "      <td>6.030548</td>\n",
       "      <td>{'Sr': 1.0, 'Ge': 2.0, 'Pd': 2.0}</td>\n",
       "      <td>101.453048</td>\n",
       "      <td>{'Sr': 1.0, 'Ge': 2.0, 'Pd': 2.0}</td>\n",
       "      <td>0</td>\n",
       "      <td>0</td>\n",
       "      <td>1</td>\n",
       "      <td>0</td>\n",
       "      <td>4/mmm</td>\n",
       "    </tr>\n",
       "    <tr>\n",
       "      <th>3</th>\n",
       "      <td>F m -3 m</td>\n",
       "      <td>cubic</td>\n",
       "      <td>0</td>\n",
       "      <td>4.443633</td>\n",
       "      <td>4.443633</td>\n",
       "      <td>4.443633</td>\n",
       "      <td>{'In': 1.0, 'Te': 1.0}</td>\n",
       "      <td>62.043965</td>\n",
       "      <td>{'In': 1.0, 'Te': 1.0}</td>\n",
       "      <td>0</td>\n",
       "      <td>0</td>\n",
       "      <td>0</td>\n",
       "      <td>1</td>\n",
       "      <td>m-3m</td>\n",
       "    </tr>\n",
       "    <tr>\n",
       "      <th>4</th>\n",
       "      <td>P 43 3 2</td>\n",
       "      <td>cubic</td>\n",
       "      <td>0</td>\n",
       "      <td>6.771439</td>\n",
       "      <td>6.771439</td>\n",
       "      <td>6.771439</td>\n",
       "      <td>{'Ba': 4.0, 'Si': 8.0}</td>\n",
       "      <td>310.486636</td>\n",
       "      <td>{'Ba': 1.0, 'Si': 2.0}</td>\n",
       "      <td>1</td>\n",
       "      <td>0</td>\n",
       "      <td>0</td>\n",
       "      <td>0</td>\n",
       "      <td>432</td>\n",
       "    </tr>\n",
       "    <tr>\n",
       "      <th>...</th>\n",
       "      <td>...</td>\n",
       "      <td>...</td>\n",
       "      <td>...</td>\n",
       "      <td>...</td>\n",
       "      <td>...</td>\n",
       "      <td>...</td>\n",
       "      <td>...</td>\n",
       "      <td>...</td>\n",
       "      <td>...</td>\n",
       "      <td>...</td>\n",
       "      <td>...</td>\n",
       "      <td>...</td>\n",
       "      <td>...</td>\n",
       "      <td>...</td>\n",
       "    </tr>\n",
       "    <tr>\n",
       "      <th>5766</th>\n",
       "      <td>F d -3 m</td>\n",
       "      <td>cubic</td>\n",
       "      <td>0</td>\n",
       "      <td>5.422174</td>\n",
       "      <td>5.422174</td>\n",
       "      <td>5.422174</td>\n",
       "      <td>{'Zr': 2.0, 'W': 4.0}</td>\n",
       "      <td>112.721135</td>\n",
       "      <td>{'Zr': 1.0, 'W': 2.0}</td>\n",
       "      <td>0</td>\n",
       "      <td>0</td>\n",
       "      <td>0</td>\n",
       "      <td>1</td>\n",
       "      <td>m-3m</td>\n",
       "    </tr>\n",
       "    <tr>\n",
       "      <th>5767</th>\n",
       "      <td>P m -3 n</td>\n",
       "      <td>cubic</td>\n",
       "      <td>0</td>\n",
       "      <td>4.980141</td>\n",
       "      <td>4.980141</td>\n",
       "      <td>4.980141</td>\n",
       "      <td>{'W': 6.0, 'O': 2.0}</td>\n",
       "      <td>123.516483</td>\n",
       "      <td>{'W': 3.0, 'O': 1.0}</td>\n",
       "      <td>1</td>\n",
       "      <td>0</td>\n",
       "      <td>0</td>\n",
       "      <td>0</td>\n",
       "      <td>m-3m</td>\n",
       "    </tr>\n",
       "    <tr>\n",
       "      <th>5770</th>\n",
       "      <td>P 63/m m c</td>\n",
       "      <td>hexagonal</td>\n",
       "      <td>1</td>\n",
       "      <td>2.626730</td>\n",
       "      <td>2.626731</td>\n",
       "      <td>5.207234</td>\n",
       "      <td>{'Zn': 2.0}</td>\n",
       "      <td>31.114928</td>\n",
       "      <td>{'Zn': 1.0}</td>\n",
       "      <td>1</td>\n",
       "      <td>0</td>\n",
       "      <td>0</td>\n",
       "      <td>0</td>\n",
       "      <td>6/mmm</td>\n",
       "    </tr>\n",
       "    <tr>\n",
       "      <th>5771</th>\n",
       "      <td>F d -3 m</td>\n",
       "      <td>cubic</td>\n",
       "      <td>0</td>\n",
       "      <td>5.244424</td>\n",
       "      <td>5.244424</td>\n",
       "      <td>5.244424</td>\n",
       "      <td>{'Zr': 2.0, 'Zn': 4.0}</td>\n",
       "      <td>101.994903</td>\n",
       "      <td>{'Zr': 1.0, 'Zn': 2.0}</td>\n",
       "      <td>0</td>\n",
       "      <td>0</td>\n",
       "      <td>0</td>\n",
       "      <td>1</td>\n",
       "      <td>m-3m</td>\n",
       "    </tr>\n",
       "    <tr>\n",
       "      <th>5772</th>\n",
       "      <td>P 63/m m c</td>\n",
       "      <td>hexagonal</td>\n",
       "      <td>1</td>\n",
       "      <td>3.239232</td>\n",
       "      <td>3.239232</td>\n",
       "      <td>5.172220</td>\n",
       "      <td>{'Zr': 2.0}</td>\n",
       "      <td>46.999333</td>\n",
       "      <td>{'Zr': 1.0}</td>\n",
       "      <td>1</td>\n",
       "      <td>0</td>\n",
       "      <td>0</td>\n",
       "      <td>0</td>\n",
       "      <td>6/mmm</td>\n",
       "    </tr>\n",
       "  </tbody>\n",
       "</table>\n",
       "<p>3995 rows × 14 columns</p>\n",
       "</div>"
      ],
      "text/plain": [
       "      spacegroup crystal_system  cat_crystal_system      lata      latb  \\\n",
       "0      I 4/m m m     tetragonal                   4  4.438672  4.438672   \n",
       "1       F m -3 m          cubic                   0  4.537670  4.537670   \n",
       "2      I 4/m m m     tetragonal                   4  4.438672  4.438672   \n",
       "3       F m -3 m          cubic                   0  4.443633  4.443633   \n",
       "4       P 43 3 2          cubic                   0  6.771439  6.771439   \n",
       "...          ...            ...                 ...       ...       ...   \n",
       "5766    F d -3 m          cubic                   0  5.422174  5.422174   \n",
       "5767    P m -3 n          cubic                   0  4.980141  4.980141   \n",
       "5770  P 63/m m c      hexagonal                   1  2.626730  2.626731   \n",
       "5771    F d -3 m          cubic                   0  5.244424  5.244424   \n",
       "5772  P 63/m m c      hexagonal                   1  3.239232  3.239232   \n",
       "\n",
       "          latc                  unit_cell_formula  cell_volume  \\\n",
       "0     6.030548  {'Sr': 1.0, 'Ge': 2.0, 'Pd': 2.0}   101.453048   \n",
       "1     4.537670             {'Sn': 1.0, 'Te': 1.0}    66.066855   \n",
       "2     6.030548  {'Sr': 1.0, 'Ge': 2.0, 'Pd': 2.0}   101.453048   \n",
       "3     4.443633             {'In': 1.0, 'Te': 1.0}    62.043965   \n",
       "4     6.771439             {'Ba': 4.0, 'Si': 8.0}   310.486636   \n",
       "...        ...                                ...          ...   \n",
       "5766  5.422174              {'Zr': 2.0, 'W': 4.0}   112.721135   \n",
       "5767  4.980141               {'W': 6.0, 'O': 2.0}   123.516483   \n",
       "5770  5.207234                        {'Zn': 2.0}    31.114928   \n",
       "5771  5.244424             {'Zr': 2.0, 'Zn': 4.0}   101.994903   \n",
       "5772  5.172220                        {'Zr': 2.0}    46.999333   \n",
       "\n",
       "                   reduced_cell_formula  primitive  base-centered  \\\n",
       "0     {'Sr': 1.0, 'Ge': 2.0, 'Pd': 2.0}          0              0   \n",
       "1                {'Sn': 1.0, 'Te': 1.0}          0              0   \n",
       "2     {'Sr': 1.0, 'Ge': 2.0, 'Pd': 2.0}          0              0   \n",
       "3                {'In': 1.0, 'Te': 1.0}          0              0   \n",
       "4                {'Ba': 1.0, 'Si': 2.0}          1              0   \n",
       "...                                 ...        ...            ...   \n",
       "5766              {'Zr': 1.0, 'W': 2.0}          0              0   \n",
       "5767               {'W': 3.0, 'O': 1.0}          1              0   \n",
       "5770                        {'Zn': 1.0}          1              0   \n",
       "5771             {'Zr': 1.0, 'Zn': 2.0}          0              0   \n",
       "5772                        {'Zr': 1.0}          1              0   \n",
       "\n",
       "      body-centered  face-centered point_group  \n",
       "0                 1              0       4/mmm  \n",
       "1                 0              1        m-3m  \n",
       "2                 1              0       4/mmm  \n",
       "3                 0              1        m-3m  \n",
       "4                 0              0         432  \n",
       "...             ...            ...         ...  \n",
       "5766              0              1        m-3m  \n",
       "5767              0              0        m-3m  \n",
       "5770              0              0       6/mmm  \n",
       "5771              0              1        m-3m  \n",
       "5772              0              0       6/mmm  \n",
       "\n",
       "[3995 rows x 14 columns]"
      ]
     },
     "execution_count": 22,
     "metadata": {},
     "output_type": "execute_result"
    }
   ],
   "source": [
    "crystal_properties = [\"spacegroup\",\n",
    "                      \"crystal_system\",\n",
    "                      \"cat_crystal_system\",\n",
    "                      \"lata\",\n",
    "                      \"latb\",\n",
    "                      \"latc\",\n",
    "                      \"unit_cell_formula\",\n",
    "                      \"cell_volume\",\n",
    "                      \"reduced_cell_formula\",\n",
    "                      \"primitive\",\n",
    "                      \"base-centered\",\n",
    "                      \"body-centered\",\n",
    "                      \"face-centered\",\n",
    "                      \"point_group\"]\n",
    "\n",
    "df_MP_non_zero[crystal_properties]"
   ]
  },
  {
   "cell_type": "code",
   "execution_count": 48,
   "metadata": {},
   "outputs": [
    {
     "data": {
      "application/vnd.plotly.v1+json": {
       "config": {
        "plotlyServerURL": "https://plot.ly"
       },
       "data": [
        {
         "colorbar": {
          "ticktext": [
           -1,
           -0.5,
           0,
           0.5,
           1
          ],
          "tickvals": [
           -1,
           -0.5,
           0,
           0.5,
           1
          ],
          "title": {
           "side": "right",
           "text": "Pearson Coefficient"
          }
         },
         "colorscale": [
          [
           0,
           "#440154"
          ],
          [
           0.1111111111111111,
           "#482878"
          ],
          [
           0.2222222222222222,
           "#3e4989"
          ],
          [
           0.3333333333333333,
           "#31688e"
          ],
          [
           0.4444444444444444,
           "#26828e"
          ],
          [
           0.5555555555555556,
           "#1f9e89"
          ],
          [
           0.6666666666666666,
           "#35b779"
          ],
          [
           0.7777777777777778,
           "#6ece58"
          ],
          [
           0.8888888888888888,
           "#b5de2b"
          ],
          [
           1,
           "#fde725"
          ]
         ],
         "text": [
          [
           1,
           -0.22,
           -0.14,
           0.33,
           0.02,
           -0.09,
           0.08,
           0.34,
           -0.39,
           0.19,
           0.19,
           0.19,
           0.19,
           0.19,
           0.19
          ],
          [
           -0.22,
           1,
           0.78,
           0.18,
           0.72,
           -0.12,
           -0.02,
           0.04,
           0.16,
           -0.14,
           -0.14,
           -0.14,
           -0.14,
           -0.14,
           -0.14
          ],
          [
           -0.14,
           0.78,
           1,
           0.26,
           0.75,
           -0.01,
           0.01,
           -0.03,
           0.05,
           -0.19,
           -0.19,
           -0.19,
           -0.19,
           -0.19,
           -0.19
          ],
          [
           0.33,
           0.18,
           0.26,
           1,
           0.56,
           -0.02,
           0.29,
           -0.07,
           -0.17,
           0.44,
           0.44,
           0.44,
           0.44,
           0.44,
           0.44
          ],
          [
           0.02,
           0.72,
           0.75,
           0.56,
           1,
           0.02,
           0.1,
           -0.04,
           -0.08,
           0.06,
           0.06,
           0.06,
           0.06,
           0.06,
           0.06
          ],
          [
           -0.09,
           -0.12,
           -0.01,
           -0.02,
           0.02,
           1,
           -0.4,
           -0.61,
           -0.39,
           -0.02,
           -0.02,
           -0.02,
           -0.02,
           -0.02,
           -0.02
          ],
          [
           0.08,
           -0.02,
           0.01,
           0.29,
           0.1,
           -0.4,
           1,
           -0.18,
           -0.12,
           0.29,
           0.29,
           0.29,
           0.29,
           0.29,
           0.29
          ],
          [
           0.34,
           0.04,
           -0.03,
           -0.07,
           -0.04,
           -0.61,
           -0.18,
           1,
           -0.18,
           -0.07,
           -0.07,
           -0.07,
           -0.07,
           -0.07,
           -0.07
          ],
          [
           -0.39,
           0.16,
           0.05,
           -0.17,
           -0.08,
           -0.39,
           -0.12,
           -0.18,
           1,
           -0.17,
           -0.17,
           -0.17,
           -0.17,
           -0.17,
           -0.17
          ],
          [
           0.19,
           -0.14,
           -0.19,
           0.44,
           0.06,
           -0.02,
           0.29,
           -0.07,
           -0.17,
           1,
           1,
           1,
           1,
           1,
           1
          ],
          [
           0.19,
           -0.14,
           -0.19,
           0.44,
           0.06,
           -0.02,
           0.29,
           -0.07,
           -0.17,
           1,
           1,
           1,
           1,
           1,
           1
          ],
          [
           0.19,
           -0.14,
           -0.19,
           0.44,
           0.06,
           -0.02,
           0.29,
           -0.07,
           -0.17,
           1,
           1,
           1,
           1,
           1,
           1
          ],
          [
           0.19,
           -0.14,
           -0.19,
           0.44,
           0.06,
           -0.02,
           0.29,
           -0.07,
           -0.17,
           1,
           1,
           1,
           1,
           1,
           1
          ],
          [
           0.19,
           -0.14,
           -0.19,
           0.44,
           0.06,
           -0.02,
           0.29,
           -0.07,
           -0.17,
           1,
           1,
           1,
           1,
           1,
           1
          ],
          [
           0.19,
           -0.14,
           -0.19,
           0.44,
           0.06,
           -0.02,
           0.29,
           -0.07,
           -0.17,
           1,
           1,
           1,
           1,
           1,
           1
          ]
         ],
         "textfont": {
          "size": 18
         },
         "texttemplate": "%{text}",
         "type": "heatmap",
         "x": [
          "cat crystal system",
          "lata",
          "latb",
          "latc",
          "cell volume",
          "primitive",
          "base-centered",
          "body-centered",
          "face-centered",
          "tc",
          "tc",
          "tc",
          "tc",
          "tc",
          "tc"
         ],
         "y": [
          "cat crystal system",
          "lata",
          "latb",
          "latc",
          "cell volume",
          "primitive",
          "base-centered",
          "body-centered",
          "face-centered",
          "tc",
          "tc",
          "tc",
          "tc",
          "tc",
          "tc"
         ],
         "z": [
          [
           1,
           -0.22,
           -0.14,
           0.33,
           0.02,
           -0.09,
           0.08,
           0.34,
           -0.39,
           0.19,
           0.19,
           0.19,
           0.19,
           0.19,
           0.19
          ],
          [
           -0.22,
           1,
           0.78,
           0.18,
           0.72,
           -0.12,
           -0.02,
           0.04,
           0.16,
           -0.14,
           -0.14,
           -0.14,
           -0.14,
           -0.14,
           -0.14
          ],
          [
           -0.14,
           0.78,
           1,
           0.26,
           0.75,
           -0.01,
           0.01,
           -0.03,
           0.05,
           -0.19,
           -0.19,
           -0.19,
           -0.19,
           -0.19,
           -0.19
          ],
          [
           0.33,
           0.18,
           0.26,
           1,
           0.56,
           -0.02,
           0.29,
           -0.07,
           -0.17,
           0.44,
           0.44,
           0.44,
           0.44,
           0.44,
           0.44
          ],
          [
           0.02,
           0.72,
           0.75,
           0.56,
           1,
           0.02,
           0.1,
           -0.04,
           -0.08,
           0.06,
           0.06,
           0.06,
           0.06,
           0.06,
           0.06
          ],
          [
           -0.09,
           -0.12,
           -0.01,
           -0.02,
           0.02,
           1,
           -0.4,
           -0.61,
           -0.39,
           -0.02,
           -0.02,
           -0.02,
           -0.02,
           -0.02,
           -0.02
          ],
          [
           0.08,
           -0.02,
           0.01,
           0.29,
           0.1,
           -0.4,
           1,
           -0.18,
           -0.12,
           0.29,
           0.29,
           0.29,
           0.29,
           0.29,
           0.29
          ],
          [
           0.34,
           0.04,
           -0.03,
           -0.07,
           -0.04,
           -0.61,
           -0.18,
           1,
           -0.18,
           -0.07,
           -0.07,
           -0.07,
           -0.07,
           -0.07,
           -0.07
          ],
          [
           -0.39,
           0.16,
           0.05,
           -0.17,
           -0.08,
           -0.39,
           -0.12,
           -0.18,
           1,
           -0.17,
           -0.17,
           -0.17,
           -0.17,
           -0.17,
           -0.17
          ],
          [
           0.19,
           -0.14,
           -0.19,
           0.44,
           0.06,
           -0.02,
           0.29,
           -0.07,
           -0.17,
           1,
           1,
           1,
           1,
           1,
           1
          ],
          [
           0.19,
           -0.14,
           -0.19,
           0.44,
           0.06,
           -0.02,
           0.29,
           -0.07,
           -0.17,
           1,
           1,
           1,
           1,
           1,
           1
          ],
          [
           0.19,
           -0.14,
           -0.19,
           0.44,
           0.06,
           -0.02,
           0.29,
           -0.07,
           -0.17,
           1,
           1,
           1,
           1,
           1,
           1
          ],
          [
           0.19,
           -0.14,
           -0.19,
           0.44,
           0.06,
           -0.02,
           0.29,
           -0.07,
           -0.17,
           1,
           1,
           1,
           1,
           1,
           1
          ],
          [
           0.19,
           -0.14,
           -0.19,
           0.44,
           0.06,
           -0.02,
           0.29,
           -0.07,
           -0.17,
           1,
           1,
           1,
           1,
           1,
           1
          ],
          [
           0.19,
           -0.14,
           -0.19,
           0.44,
           0.06,
           -0.02,
           0.29,
           -0.07,
           -0.17,
           1,
           1,
           1,
           1,
           1,
           1
          ]
         ]
        }
       ],
       "layout": {
        "font": {
         "color": "black",
         "family": "Helvetica",
         "size": 18
        },
        "height": 800,
        "margin": {
         "b": 5,
         "l": 5,
         "r": 5,
         "t": 10
        },
        "paper_bgcolor": "white",
        "plot_bgcolor": "white",
        "template": {
         "data": {
          "bar": [
           {
            "error_x": {
             "color": "#2a3f5f"
            },
            "error_y": {
             "color": "#2a3f5f"
            },
            "marker": {
             "line": {
              "color": "#E5ECF6",
              "width": 0.5
             },
             "pattern": {
              "fillmode": "overlay",
              "size": 10,
              "solidity": 0.2
             }
            },
            "type": "bar"
           }
          ],
          "barpolar": [
           {
            "marker": {
             "line": {
              "color": "#E5ECF6",
              "width": 0.5
             },
             "pattern": {
              "fillmode": "overlay",
              "size": 10,
              "solidity": 0.2
             }
            },
            "type": "barpolar"
           }
          ],
          "carpet": [
           {
            "aaxis": {
             "endlinecolor": "#2a3f5f",
             "gridcolor": "white",
             "linecolor": "white",
             "minorgridcolor": "white",
             "startlinecolor": "#2a3f5f"
            },
            "baxis": {
             "endlinecolor": "#2a3f5f",
             "gridcolor": "white",
             "linecolor": "white",
             "minorgridcolor": "white",
             "startlinecolor": "#2a3f5f"
            },
            "type": "carpet"
           }
          ],
          "choropleth": [
           {
            "colorbar": {
             "outlinewidth": 0,
             "ticks": ""
            },
            "type": "choropleth"
           }
          ],
          "contour": [
           {
            "colorbar": {
             "outlinewidth": 0,
             "ticks": ""
            },
            "colorscale": [
             [
              0,
              "#0d0887"
             ],
             [
              0.1111111111111111,
              "#46039f"
             ],
             [
              0.2222222222222222,
              "#7201a8"
             ],
             [
              0.3333333333333333,
              "#9c179e"
             ],
             [
              0.4444444444444444,
              "#bd3786"
             ],
             [
              0.5555555555555556,
              "#d8576b"
             ],
             [
              0.6666666666666666,
              "#ed7953"
             ],
             [
              0.7777777777777778,
              "#fb9f3a"
             ],
             [
              0.8888888888888888,
              "#fdca26"
             ],
             [
              1,
              "#f0f921"
             ]
            ],
            "type": "contour"
           }
          ],
          "contourcarpet": [
           {
            "colorbar": {
             "outlinewidth": 0,
             "ticks": ""
            },
            "type": "contourcarpet"
           }
          ],
          "heatmap": [
           {
            "colorbar": {
             "outlinewidth": 0,
             "ticks": ""
            },
            "colorscale": [
             [
              0,
              "#0d0887"
             ],
             [
              0.1111111111111111,
              "#46039f"
             ],
             [
              0.2222222222222222,
              "#7201a8"
             ],
             [
              0.3333333333333333,
              "#9c179e"
             ],
             [
              0.4444444444444444,
              "#bd3786"
             ],
             [
              0.5555555555555556,
              "#d8576b"
             ],
             [
              0.6666666666666666,
              "#ed7953"
             ],
             [
              0.7777777777777778,
              "#fb9f3a"
             ],
             [
              0.8888888888888888,
              "#fdca26"
             ],
             [
              1,
              "#f0f921"
             ]
            ],
            "type": "heatmap"
           }
          ],
          "heatmapgl": [
           {
            "colorbar": {
             "outlinewidth": 0,
             "ticks": ""
            },
            "colorscale": [
             [
              0,
              "#0d0887"
             ],
             [
              0.1111111111111111,
              "#46039f"
             ],
             [
              0.2222222222222222,
              "#7201a8"
             ],
             [
              0.3333333333333333,
              "#9c179e"
             ],
             [
              0.4444444444444444,
              "#bd3786"
             ],
             [
              0.5555555555555556,
              "#d8576b"
             ],
             [
              0.6666666666666666,
              "#ed7953"
             ],
             [
              0.7777777777777778,
              "#fb9f3a"
             ],
             [
              0.8888888888888888,
              "#fdca26"
             ],
             [
              1,
              "#f0f921"
             ]
            ],
            "type": "heatmapgl"
           }
          ],
          "histogram": [
           {
            "marker": {
             "pattern": {
              "fillmode": "overlay",
              "size": 10,
              "solidity": 0.2
             }
            },
            "type": "histogram"
           }
          ],
          "histogram2d": [
           {
            "colorbar": {
             "outlinewidth": 0,
             "ticks": ""
            },
            "colorscale": [
             [
              0,
              "#0d0887"
             ],
             [
              0.1111111111111111,
              "#46039f"
             ],
             [
              0.2222222222222222,
              "#7201a8"
             ],
             [
              0.3333333333333333,
              "#9c179e"
             ],
             [
              0.4444444444444444,
              "#bd3786"
             ],
             [
              0.5555555555555556,
              "#d8576b"
             ],
             [
              0.6666666666666666,
              "#ed7953"
             ],
             [
              0.7777777777777778,
              "#fb9f3a"
             ],
             [
              0.8888888888888888,
              "#fdca26"
             ],
             [
              1,
              "#f0f921"
             ]
            ],
            "type": "histogram2d"
           }
          ],
          "histogram2dcontour": [
           {
            "colorbar": {
             "outlinewidth": 0,
             "ticks": ""
            },
            "colorscale": [
             [
              0,
              "#0d0887"
             ],
             [
              0.1111111111111111,
              "#46039f"
             ],
             [
              0.2222222222222222,
              "#7201a8"
             ],
             [
              0.3333333333333333,
              "#9c179e"
             ],
             [
              0.4444444444444444,
              "#bd3786"
             ],
             [
              0.5555555555555556,
              "#d8576b"
             ],
             [
              0.6666666666666666,
              "#ed7953"
             ],
             [
              0.7777777777777778,
              "#fb9f3a"
             ],
             [
              0.8888888888888888,
              "#fdca26"
             ],
             [
              1,
              "#f0f921"
             ]
            ],
            "type": "histogram2dcontour"
           }
          ],
          "mesh3d": [
           {
            "colorbar": {
             "outlinewidth": 0,
             "ticks": ""
            },
            "type": "mesh3d"
           }
          ],
          "parcoords": [
           {
            "line": {
             "colorbar": {
              "outlinewidth": 0,
              "ticks": ""
             }
            },
            "type": "parcoords"
           }
          ],
          "pie": [
           {
            "automargin": true,
            "type": "pie"
           }
          ],
          "scatter": [
           {
            "fillpattern": {
             "fillmode": "overlay",
             "size": 10,
             "solidity": 0.2
            },
            "type": "scatter"
           }
          ],
          "scatter3d": [
           {
            "line": {
             "colorbar": {
              "outlinewidth": 0,
              "ticks": ""
             }
            },
            "marker": {
             "colorbar": {
              "outlinewidth": 0,
              "ticks": ""
             }
            },
            "type": "scatter3d"
           }
          ],
          "scattercarpet": [
           {
            "marker": {
             "colorbar": {
              "outlinewidth": 0,
              "ticks": ""
             }
            },
            "type": "scattercarpet"
           }
          ],
          "scattergeo": [
           {
            "marker": {
             "colorbar": {
              "outlinewidth": 0,
              "ticks": ""
             }
            },
            "type": "scattergeo"
           }
          ],
          "scattergl": [
           {
            "marker": {
             "colorbar": {
              "outlinewidth": 0,
              "ticks": ""
             }
            },
            "type": "scattergl"
           }
          ],
          "scattermapbox": [
           {
            "marker": {
             "colorbar": {
              "outlinewidth": 0,
              "ticks": ""
             }
            },
            "type": "scattermapbox"
           }
          ],
          "scatterpolar": [
           {
            "marker": {
             "colorbar": {
              "outlinewidth": 0,
              "ticks": ""
             }
            },
            "type": "scatterpolar"
           }
          ],
          "scatterpolargl": [
           {
            "marker": {
             "colorbar": {
              "outlinewidth": 0,
              "ticks": ""
             }
            },
            "type": "scatterpolargl"
           }
          ],
          "scatterternary": [
           {
            "marker": {
             "colorbar": {
              "outlinewidth": 0,
              "ticks": ""
             }
            },
            "type": "scatterternary"
           }
          ],
          "surface": [
           {
            "colorbar": {
             "outlinewidth": 0,
             "ticks": ""
            },
            "colorscale": [
             [
              0,
              "#0d0887"
             ],
             [
              0.1111111111111111,
              "#46039f"
             ],
             [
              0.2222222222222222,
              "#7201a8"
             ],
             [
              0.3333333333333333,
              "#9c179e"
             ],
             [
              0.4444444444444444,
              "#bd3786"
             ],
             [
              0.5555555555555556,
              "#d8576b"
             ],
             [
              0.6666666666666666,
              "#ed7953"
             ],
             [
              0.7777777777777778,
              "#fb9f3a"
             ],
             [
              0.8888888888888888,
              "#fdca26"
             ],
             [
              1,
              "#f0f921"
             ]
            ],
            "type": "surface"
           }
          ],
          "table": [
           {
            "cells": {
             "fill": {
              "color": "#EBF0F8"
             },
             "line": {
              "color": "white"
             }
            },
            "header": {
             "fill": {
              "color": "#C8D4E3"
             },
             "line": {
              "color": "white"
             }
            },
            "type": "table"
           }
          ]
         },
         "layout": {
          "annotationdefaults": {
           "arrowcolor": "#2a3f5f",
           "arrowhead": 0,
           "arrowwidth": 1
          },
          "autotypenumbers": "strict",
          "coloraxis": {
           "colorbar": {
            "outlinewidth": 0,
            "ticks": ""
           }
          },
          "colorscale": {
           "diverging": [
            [
             0,
             "#8e0152"
            ],
            [
             0.1,
             "#c51b7d"
            ],
            [
             0.2,
             "#de77ae"
            ],
            [
             0.3,
             "#f1b6da"
            ],
            [
             0.4,
             "#fde0ef"
            ],
            [
             0.5,
             "#f7f7f7"
            ],
            [
             0.6,
             "#e6f5d0"
            ],
            [
             0.7,
             "#b8e186"
            ],
            [
             0.8,
             "#7fbc41"
            ],
            [
             0.9,
             "#4d9221"
            ],
            [
             1,
             "#276419"
            ]
           ],
           "sequential": [
            [
             0,
             "#0d0887"
            ],
            [
             0.1111111111111111,
             "#46039f"
            ],
            [
             0.2222222222222222,
             "#7201a8"
            ],
            [
             0.3333333333333333,
             "#9c179e"
            ],
            [
             0.4444444444444444,
             "#bd3786"
            ],
            [
             0.5555555555555556,
             "#d8576b"
            ],
            [
             0.6666666666666666,
             "#ed7953"
            ],
            [
             0.7777777777777778,
             "#fb9f3a"
            ],
            [
             0.8888888888888888,
             "#fdca26"
            ],
            [
             1,
             "#f0f921"
            ]
           ],
           "sequentialminus": [
            [
             0,
             "#0d0887"
            ],
            [
             0.1111111111111111,
             "#46039f"
            ],
            [
             0.2222222222222222,
             "#7201a8"
            ],
            [
             0.3333333333333333,
             "#9c179e"
            ],
            [
             0.4444444444444444,
             "#bd3786"
            ],
            [
             0.5555555555555556,
             "#d8576b"
            ],
            [
             0.6666666666666666,
             "#ed7953"
            ],
            [
             0.7777777777777778,
             "#fb9f3a"
            ],
            [
             0.8888888888888888,
             "#fdca26"
            ],
            [
             1,
             "#f0f921"
            ]
           ]
          },
          "colorway": [
           "#636efa",
           "#EF553B",
           "#00cc96",
           "#ab63fa",
           "#FFA15A",
           "#19d3f3",
           "#FF6692",
           "#B6E880",
           "#FF97FF",
           "#FECB52"
          ],
          "font": {
           "color": "#2a3f5f"
          },
          "geo": {
           "bgcolor": "white",
           "lakecolor": "white",
           "landcolor": "#E5ECF6",
           "showlakes": true,
           "showland": true,
           "subunitcolor": "white"
          },
          "hoverlabel": {
           "align": "left"
          },
          "hovermode": "closest",
          "mapbox": {
           "style": "light"
          },
          "paper_bgcolor": "white",
          "plot_bgcolor": "#E5ECF6",
          "polar": {
           "angularaxis": {
            "gridcolor": "white",
            "linecolor": "white",
            "ticks": ""
           },
           "bgcolor": "#E5ECF6",
           "radialaxis": {
            "gridcolor": "white",
            "linecolor": "white",
            "ticks": ""
           }
          },
          "scene": {
           "xaxis": {
            "backgroundcolor": "#E5ECF6",
            "gridcolor": "white",
            "gridwidth": 2,
            "linecolor": "white",
            "showbackground": true,
            "ticks": "",
            "zerolinecolor": "white"
           },
           "yaxis": {
            "backgroundcolor": "#E5ECF6",
            "gridcolor": "white",
            "gridwidth": 2,
            "linecolor": "white",
            "showbackground": true,
            "ticks": "",
            "zerolinecolor": "white"
           },
           "zaxis": {
            "backgroundcolor": "#E5ECF6",
            "gridcolor": "white",
            "gridwidth": 2,
            "linecolor": "white",
            "showbackground": true,
            "ticks": "",
            "zerolinecolor": "white"
           }
          },
          "shapedefaults": {
           "line": {
            "color": "#2a3f5f"
           }
          },
          "ternary": {
           "aaxis": {
            "gridcolor": "white",
            "linecolor": "white",
            "ticks": ""
           },
           "baxis": {
            "gridcolor": "white",
            "linecolor": "white",
            "ticks": ""
           },
           "bgcolor": "#E5ECF6",
           "caxis": {
            "gridcolor": "white",
            "linecolor": "white",
            "ticks": ""
           }
          },
          "title": {
           "x": 0.05
          },
          "xaxis": {
           "automargin": true,
           "gridcolor": "white",
           "linecolor": "white",
           "ticks": "",
           "title": {
            "standoff": 15
           },
           "zerolinecolor": "white",
           "zerolinewidth": 2
          },
          "yaxis": {
           "automargin": true,
           "gridcolor": "white",
           "linecolor": "white",
           "ticks": "",
           "title": {
            "standoff": 15
           },
           "zerolinecolor": "white",
           "zerolinewidth": 2
          }
         }
        },
        "width": 1000,
        "xaxis": {
         "linecolor": "black",
         "linewidth": 5,
         "showline": true,
         "ticklen": 5,
         "ticks": "inside",
         "tickwidth": 4,
         "title": {
          "text": ""
         }
        },
        "yaxis": {
         "linecolor": "black",
         "linewidth": 5,
         "showline": true,
         "ticklen": 5,
         "ticks": "inside",
         "tickwidth": 4,
         "title": {
          "text": ""
         }
        }
       }
      }
     },
     "metadata": {},
     "output_type": "display_data"
    }
   ],
   "source": [
    "corr_matrix(df_MP_non_zero, crystal_properties, 1000, 800, 18)"
   ]
  },
  {
   "cell_type": "markdown",
   "metadata": {},
   "source": [
    "Really unexpected correlation here with tc I expected volume to have a much higher correlation, I wonder if the latc value here is because of the cuprates?"
   ]
  },
  {
   "cell_type": "code",
   "execution_count": 49,
   "metadata": {},
   "outputs": [
    {
     "data": {
      "application/vnd.plotly.v1+json": {
       "config": {
        "plotlyServerURL": "https://plot.ly"
       },
       "data": [
        {
         "colorbar": {
          "ticktext": [
           -1,
           -0.5,
           0,
           0.5,
           1
          ],
          "tickvals": [
           -1,
           -0.5,
           0,
           0.5,
           1
          ],
          "title": {
           "side": "right",
           "text": "Pearson Coefficient"
          }
         },
         "colorscale": [
          [
           0,
           "#440154"
          ],
          [
           0.1111111111111111,
           "#482878"
          ],
          [
           0.2222222222222222,
           "#3e4989"
          ],
          [
           0.3333333333333333,
           "#31688e"
          ],
          [
           0.4444444444444444,
           "#26828e"
          ],
          [
           0.5555555555555556,
           "#1f9e89"
          ],
          [
           0.6666666666666666,
           "#35b779"
          ],
          [
           0.7777777777777778,
           "#6ece58"
          ],
          [
           0.8888888888888888,
           "#b5de2b"
          ],
          [
           1,
           "#fde725"
          ]
         ],
         "text": [
          [
           1,
           -0.2,
           -0.11,
           0.34,
           0.01,
           -0.05,
           0.07,
           0.32,
           -0.38,
           0.05,
           0.05,
           0.05,
           0.05,
           0.05,
           0.05,
           0.05
          ],
          [
           -0.2,
           1,
           0.78,
           0.27,
           0.73,
           -0.15,
           -0.02,
           0.07,
           0.15,
           -0.16,
           -0.16,
           -0.16,
           -0.16,
           -0.16,
           -0.16,
           -0.16
          ],
          [
           -0.11,
           0.78,
           1,
           0.41,
           0.78,
           -0.04,
           0.02,
           0,
           0.04,
           -0.21,
           -0.21,
           -0.21,
           -0.21,
           -0.21,
           -0.21,
           -0.21
          ],
          [
           0.34,
           0.27,
           0.41,
           1,
           0.58,
           0.06,
           0.09,
           -0.01,
           -0.15,
           -0.05,
           -0.05,
           -0.05,
           -0.05,
           -0.05,
           -0.05,
           -0.05
          ],
          [
           0.01,
           0.73,
           0.78,
           0.58,
           1,
           0.04,
           0.02,
           0,
           -0.07,
           -0.11,
           -0.11,
           -0.11,
           -0.11,
           -0.11,
           -0.11,
           -0.11
          ],
          [
           -0.05,
           -0.15,
           -0.04,
           0.06,
           0.04,
           1,
           -0.35,
           -0.62,
           -0.46,
           0.16,
           0.16,
           0.16,
           0.16,
           0.16,
           0.16,
           0.16
          ],
          [
           0.07,
           -0.02,
           0.02,
           0.09,
           0.02,
           -0.35,
           1,
           -0.14,
           -0.1,
           0.06,
           0.06,
           0.06,
           0.06,
           0.06,
           0.06,
           0.06
          ],
          [
           0.32,
           0.07,
           0,
           -0.01,
           0,
           -0.62,
           -0.14,
           1,
           -0.18,
           -0.09,
           -0.09,
           -0.09,
           -0.09,
           -0.09,
           -0.09,
           -0.09
          ],
          [
           -0.38,
           0.15,
           0.04,
           -0.15,
           -0.07,
           -0.46,
           -0.1,
           -0.18,
           1,
           -0.18,
           -0.18,
           -0.18,
           -0.18,
           -0.18,
           -0.18,
           -0.18
          ],
          [
           0.05,
           -0.16,
           -0.21,
           -0.05,
           -0.11,
           0.16,
           0.06,
           -0.09,
           -0.18,
           1,
           1,
           1,
           1,
           1,
           1,
           1
          ],
          [
           0.05,
           -0.16,
           -0.21,
           -0.05,
           -0.11,
           0.16,
           0.06,
           -0.09,
           -0.18,
           1,
           1,
           1,
           1,
           1,
           1,
           1
          ],
          [
           0.05,
           -0.16,
           -0.21,
           -0.05,
           -0.11,
           0.16,
           0.06,
           -0.09,
           -0.18,
           1,
           1,
           1,
           1,
           1,
           1,
           1
          ],
          [
           0.05,
           -0.16,
           -0.21,
           -0.05,
           -0.11,
           0.16,
           0.06,
           -0.09,
           -0.18,
           1,
           1,
           1,
           1,
           1,
           1,
           1
          ],
          [
           0.05,
           -0.16,
           -0.21,
           -0.05,
           -0.11,
           0.16,
           0.06,
           -0.09,
           -0.18,
           1,
           1,
           1,
           1,
           1,
           1,
           1
          ],
          [
           0.05,
           -0.16,
           -0.21,
           -0.05,
           -0.11,
           0.16,
           0.06,
           -0.09,
           -0.18,
           1,
           1,
           1,
           1,
           1,
           1,
           1
          ],
          [
           0.05,
           -0.16,
           -0.21,
           -0.05,
           -0.11,
           0.16,
           0.06,
           -0.09,
           -0.18,
           1,
           1,
           1,
           1,
           1,
           1,
           1
          ]
         ],
         "textfont": {
          "size": 18
         },
         "texttemplate": "%{text}",
         "type": "heatmap",
         "x": [
          "cat crystal system",
          "lata",
          "latb",
          "latc",
          "cell volume",
          "primitive",
          "base-centered",
          "body-centered",
          "face-centered",
          "tc",
          "tc",
          "tc",
          "tc",
          "tc",
          "tc",
          "tc"
         ],
         "y": [
          "cat crystal system",
          "lata",
          "latb",
          "latc",
          "cell volume",
          "primitive",
          "base-centered",
          "body-centered",
          "face-centered",
          "tc",
          "tc",
          "tc",
          "tc",
          "tc",
          "tc",
          "tc"
         ],
         "z": [
          [
           1,
           -0.2,
           -0.11,
           0.34,
           0.01,
           -0.05,
           0.07,
           0.32,
           -0.38,
           0.05,
           0.05,
           0.05,
           0.05,
           0.05,
           0.05,
           0.05
          ],
          [
           -0.2,
           1,
           0.78,
           0.27,
           0.73,
           -0.15,
           -0.02,
           0.07,
           0.15,
           -0.16,
           -0.16,
           -0.16,
           -0.16,
           -0.16,
           -0.16,
           -0.16
          ],
          [
           -0.11,
           0.78,
           1,
           0.41,
           0.78,
           -0.04,
           0.02,
           0,
           0.04,
           -0.21,
           -0.21,
           -0.21,
           -0.21,
           -0.21,
           -0.21,
           -0.21
          ],
          [
           0.34,
           0.27,
           0.41,
           1,
           0.58,
           0.06,
           0.09,
           -0.01,
           -0.15,
           -0.05,
           -0.05,
           -0.05,
           -0.05,
           -0.05,
           -0.05,
           -0.05
          ],
          [
           0.01,
           0.73,
           0.78,
           0.58,
           1,
           0.04,
           0.02,
           0,
           -0.07,
           -0.11,
           -0.11,
           -0.11,
           -0.11,
           -0.11,
           -0.11,
           -0.11
          ],
          [
           -0.05,
           -0.15,
           -0.04,
           0.06,
           0.04,
           1,
           -0.35,
           -0.62,
           -0.46,
           0.16,
           0.16,
           0.16,
           0.16,
           0.16,
           0.16,
           0.16
          ],
          [
           0.07,
           -0.02,
           0.02,
           0.09,
           0.02,
           -0.35,
           1,
           -0.14,
           -0.1,
           0.06,
           0.06,
           0.06,
           0.06,
           0.06,
           0.06,
           0.06
          ],
          [
           0.32,
           0.07,
           0,
           -0.01,
           0,
           -0.62,
           -0.14,
           1,
           -0.18,
           -0.09,
           -0.09,
           -0.09,
           -0.09,
           -0.09,
           -0.09,
           -0.09
          ],
          [
           -0.38,
           0.15,
           0.04,
           -0.15,
           -0.07,
           -0.46,
           -0.1,
           -0.18,
           1,
           -0.18,
           -0.18,
           -0.18,
           -0.18,
           -0.18,
           -0.18,
           -0.18
          ],
          [
           0.05,
           -0.16,
           -0.21,
           -0.05,
           -0.11,
           0.16,
           0.06,
           -0.09,
           -0.18,
           1,
           1,
           1,
           1,
           1,
           1,
           1
          ],
          [
           0.05,
           -0.16,
           -0.21,
           -0.05,
           -0.11,
           0.16,
           0.06,
           -0.09,
           -0.18,
           1,
           1,
           1,
           1,
           1,
           1,
           1
          ],
          [
           0.05,
           -0.16,
           -0.21,
           -0.05,
           -0.11,
           0.16,
           0.06,
           -0.09,
           -0.18,
           1,
           1,
           1,
           1,
           1,
           1,
           1
          ],
          [
           0.05,
           -0.16,
           -0.21,
           -0.05,
           -0.11,
           0.16,
           0.06,
           -0.09,
           -0.18,
           1,
           1,
           1,
           1,
           1,
           1,
           1
          ],
          [
           0.05,
           -0.16,
           -0.21,
           -0.05,
           -0.11,
           0.16,
           0.06,
           -0.09,
           -0.18,
           1,
           1,
           1,
           1,
           1,
           1,
           1
          ],
          [
           0.05,
           -0.16,
           -0.21,
           -0.05,
           -0.11,
           0.16,
           0.06,
           -0.09,
           -0.18,
           1,
           1,
           1,
           1,
           1,
           1,
           1
          ],
          [
           0.05,
           -0.16,
           -0.21,
           -0.05,
           -0.11,
           0.16,
           0.06,
           -0.09,
           -0.18,
           1,
           1,
           1,
           1,
           1,
           1,
           1
          ]
         ]
        }
       ],
       "layout": {
        "font": {
         "color": "black",
         "family": "Helvetica",
         "size": 18
        },
        "height": 800,
        "margin": {
         "b": 5,
         "l": 5,
         "r": 5,
         "t": 10
        },
        "paper_bgcolor": "white",
        "plot_bgcolor": "white",
        "template": {
         "data": {
          "bar": [
           {
            "error_x": {
             "color": "#2a3f5f"
            },
            "error_y": {
             "color": "#2a3f5f"
            },
            "marker": {
             "line": {
              "color": "#E5ECF6",
              "width": 0.5
             },
             "pattern": {
              "fillmode": "overlay",
              "size": 10,
              "solidity": 0.2
             }
            },
            "type": "bar"
           }
          ],
          "barpolar": [
           {
            "marker": {
             "line": {
              "color": "#E5ECF6",
              "width": 0.5
             },
             "pattern": {
              "fillmode": "overlay",
              "size": 10,
              "solidity": 0.2
             }
            },
            "type": "barpolar"
           }
          ],
          "carpet": [
           {
            "aaxis": {
             "endlinecolor": "#2a3f5f",
             "gridcolor": "white",
             "linecolor": "white",
             "minorgridcolor": "white",
             "startlinecolor": "#2a3f5f"
            },
            "baxis": {
             "endlinecolor": "#2a3f5f",
             "gridcolor": "white",
             "linecolor": "white",
             "minorgridcolor": "white",
             "startlinecolor": "#2a3f5f"
            },
            "type": "carpet"
           }
          ],
          "choropleth": [
           {
            "colorbar": {
             "outlinewidth": 0,
             "ticks": ""
            },
            "type": "choropleth"
           }
          ],
          "contour": [
           {
            "colorbar": {
             "outlinewidth": 0,
             "ticks": ""
            },
            "colorscale": [
             [
              0,
              "#0d0887"
             ],
             [
              0.1111111111111111,
              "#46039f"
             ],
             [
              0.2222222222222222,
              "#7201a8"
             ],
             [
              0.3333333333333333,
              "#9c179e"
             ],
             [
              0.4444444444444444,
              "#bd3786"
             ],
             [
              0.5555555555555556,
              "#d8576b"
             ],
             [
              0.6666666666666666,
              "#ed7953"
             ],
             [
              0.7777777777777778,
              "#fb9f3a"
             ],
             [
              0.8888888888888888,
              "#fdca26"
             ],
             [
              1,
              "#f0f921"
             ]
            ],
            "type": "contour"
           }
          ],
          "contourcarpet": [
           {
            "colorbar": {
             "outlinewidth": 0,
             "ticks": ""
            },
            "type": "contourcarpet"
           }
          ],
          "heatmap": [
           {
            "colorbar": {
             "outlinewidth": 0,
             "ticks": ""
            },
            "colorscale": [
             [
              0,
              "#0d0887"
             ],
             [
              0.1111111111111111,
              "#46039f"
             ],
             [
              0.2222222222222222,
              "#7201a8"
             ],
             [
              0.3333333333333333,
              "#9c179e"
             ],
             [
              0.4444444444444444,
              "#bd3786"
             ],
             [
              0.5555555555555556,
              "#d8576b"
             ],
             [
              0.6666666666666666,
              "#ed7953"
             ],
             [
              0.7777777777777778,
              "#fb9f3a"
             ],
             [
              0.8888888888888888,
              "#fdca26"
             ],
             [
              1,
              "#f0f921"
             ]
            ],
            "type": "heatmap"
           }
          ],
          "heatmapgl": [
           {
            "colorbar": {
             "outlinewidth": 0,
             "ticks": ""
            },
            "colorscale": [
             [
              0,
              "#0d0887"
             ],
             [
              0.1111111111111111,
              "#46039f"
             ],
             [
              0.2222222222222222,
              "#7201a8"
             ],
             [
              0.3333333333333333,
              "#9c179e"
             ],
             [
              0.4444444444444444,
              "#bd3786"
             ],
             [
              0.5555555555555556,
              "#d8576b"
             ],
             [
              0.6666666666666666,
              "#ed7953"
             ],
             [
              0.7777777777777778,
              "#fb9f3a"
             ],
             [
              0.8888888888888888,
              "#fdca26"
             ],
             [
              1,
              "#f0f921"
             ]
            ],
            "type": "heatmapgl"
           }
          ],
          "histogram": [
           {
            "marker": {
             "pattern": {
              "fillmode": "overlay",
              "size": 10,
              "solidity": 0.2
             }
            },
            "type": "histogram"
           }
          ],
          "histogram2d": [
           {
            "colorbar": {
             "outlinewidth": 0,
             "ticks": ""
            },
            "colorscale": [
             [
              0,
              "#0d0887"
             ],
             [
              0.1111111111111111,
              "#46039f"
             ],
             [
              0.2222222222222222,
              "#7201a8"
             ],
             [
              0.3333333333333333,
              "#9c179e"
             ],
             [
              0.4444444444444444,
              "#bd3786"
             ],
             [
              0.5555555555555556,
              "#d8576b"
             ],
             [
              0.6666666666666666,
              "#ed7953"
             ],
             [
              0.7777777777777778,
              "#fb9f3a"
             ],
             [
              0.8888888888888888,
              "#fdca26"
             ],
             [
              1,
              "#f0f921"
             ]
            ],
            "type": "histogram2d"
           }
          ],
          "histogram2dcontour": [
           {
            "colorbar": {
             "outlinewidth": 0,
             "ticks": ""
            },
            "colorscale": [
             [
              0,
              "#0d0887"
             ],
             [
              0.1111111111111111,
              "#46039f"
             ],
             [
              0.2222222222222222,
              "#7201a8"
             ],
             [
              0.3333333333333333,
              "#9c179e"
             ],
             [
              0.4444444444444444,
              "#bd3786"
             ],
             [
              0.5555555555555556,
              "#d8576b"
             ],
             [
              0.6666666666666666,
              "#ed7953"
             ],
             [
              0.7777777777777778,
              "#fb9f3a"
             ],
             [
              0.8888888888888888,
              "#fdca26"
             ],
             [
              1,
              "#f0f921"
             ]
            ],
            "type": "histogram2dcontour"
           }
          ],
          "mesh3d": [
           {
            "colorbar": {
             "outlinewidth": 0,
             "ticks": ""
            },
            "type": "mesh3d"
           }
          ],
          "parcoords": [
           {
            "line": {
             "colorbar": {
              "outlinewidth": 0,
              "ticks": ""
             }
            },
            "type": "parcoords"
           }
          ],
          "pie": [
           {
            "automargin": true,
            "type": "pie"
           }
          ],
          "scatter": [
           {
            "fillpattern": {
             "fillmode": "overlay",
             "size": 10,
             "solidity": 0.2
            },
            "type": "scatter"
           }
          ],
          "scatter3d": [
           {
            "line": {
             "colorbar": {
              "outlinewidth": 0,
              "ticks": ""
             }
            },
            "marker": {
             "colorbar": {
              "outlinewidth": 0,
              "ticks": ""
             }
            },
            "type": "scatter3d"
           }
          ],
          "scattercarpet": [
           {
            "marker": {
             "colorbar": {
              "outlinewidth": 0,
              "ticks": ""
             }
            },
            "type": "scattercarpet"
           }
          ],
          "scattergeo": [
           {
            "marker": {
             "colorbar": {
              "outlinewidth": 0,
              "ticks": ""
             }
            },
            "type": "scattergeo"
           }
          ],
          "scattergl": [
           {
            "marker": {
             "colorbar": {
              "outlinewidth": 0,
              "ticks": ""
             }
            },
            "type": "scattergl"
           }
          ],
          "scattermapbox": [
           {
            "marker": {
             "colorbar": {
              "outlinewidth": 0,
              "ticks": ""
             }
            },
            "type": "scattermapbox"
           }
          ],
          "scatterpolar": [
           {
            "marker": {
             "colorbar": {
              "outlinewidth": 0,
              "ticks": ""
             }
            },
            "type": "scatterpolar"
           }
          ],
          "scatterpolargl": [
           {
            "marker": {
             "colorbar": {
              "outlinewidth": 0,
              "ticks": ""
             }
            },
            "type": "scatterpolargl"
           }
          ],
          "scatterternary": [
           {
            "marker": {
             "colorbar": {
              "outlinewidth": 0,
              "ticks": ""
             }
            },
            "type": "scatterternary"
           }
          ],
          "surface": [
           {
            "colorbar": {
             "outlinewidth": 0,
             "ticks": ""
            },
            "colorscale": [
             [
              0,
              "#0d0887"
             ],
             [
              0.1111111111111111,
              "#46039f"
             ],
             [
              0.2222222222222222,
              "#7201a8"
             ],
             [
              0.3333333333333333,
              "#9c179e"
             ],
             [
              0.4444444444444444,
              "#bd3786"
             ],
             [
              0.5555555555555556,
              "#d8576b"
             ],
             [
              0.6666666666666666,
              "#ed7953"
             ],
             [
              0.7777777777777778,
              "#fb9f3a"
             ],
             [
              0.8888888888888888,
              "#fdca26"
             ],
             [
              1,
              "#f0f921"
             ]
            ],
            "type": "surface"
           }
          ],
          "table": [
           {
            "cells": {
             "fill": {
              "color": "#EBF0F8"
             },
             "line": {
              "color": "white"
             }
            },
            "header": {
             "fill": {
              "color": "#C8D4E3"
             },
             "line": {
              "color": "white"
             }
            },
            "type": "table"
           }
          ]
         },
         "layout": {
          "annotationdefaults": {
           "arrowcolor": "#2a3f5f",
           "arrowhead": 0,
           "arrowwidth": 1
          },
          "autotypenumbers": "strict",
          "coloraxis": {
           "colorbar": {
            "outlinewidth": 0,
            "ticks": ""
           }
          },
          "colorscale": {
           "diverging": [
            [
             0,
             "#8e0152"
            ],
            [
             0.1,
             "#c51b7d"
            ],
            [
             0.2,
             "#de77ae"
            ],
            [
             0.3,
             "#f1b6da"
            ],
            [
             0.4,
             "#fde0ef"
            ],
            [
             0.5,
             "#f7f7f7"
            ],
            [
             0.6,
             "#e6f5d0"
            ],
            [
             0.7,
             "#b8e186"
            ],
            [
             0.8,
             "#7fbc41"
            ],
            [
             0.9,
             "#4d9221"
            ],
            [
             1,
             "#276419"
            ]
           ],
           "sequential": [
            [
             0,
             "#0d0887"
            ],
            [
             0.1111111111111111,
             "#46039f"
            ],
            [
             0.2222222222222222,
             "#7201a8"
            ],
            [
             0.3333333333333333,
             "#9c179e"
            ],
            [
             0.4444444444444444,
             "#bd3786"
            ],
            [
             0.5555555555555556,
             "#d8576b"
            ],
            [
             0.6666666666666666,
             "#ed7953"
            ],
            [
             0.7777777777777778,
             "#fb9f3a"
            ],
            [
             0.8888888888888888,
             "#fdca26"
            ],
            [
             1,
             "#f0f921"
            ]
           ],
           "sequentialminus": [
            [
             0,
             "#0d0887"
            ],
            [
             0.1111111111111111,
             "#46039f"
            ],
            [
             0.2222222222222222,
             "#7201a8"
            ],
            [
             0.3333333333333333,
             "#9c179e"
            ],
            [
             0.4444444444444444,
             "#bd3786"
            ],
            [
             0.5555555555555556,
             "#d8576b"
            ],
            [
             0.6666666666666666,
             "#ed7953"
            ],
            [
             0.7777777777777778,
             "#fb9f3a"
            ],
            [
             0.8888888888888888,
             "#fdca26"
            ],
            [
             1,
             "#f0f921"
            ]
           ]
          },
          "colorway": [
           "#636efa",
           "#EF553B",
           "#00cc96",
           "#ab63fa",
           "#FFA15A",
           "#19d3f3",
           "#FF6692",
           "#B6E880",
           "#FF97FF",
           "#FECB52"
          ],
          "font": {
           "color": "#2a3f5f"
          },
          "geo": {
           "bgcolor": "white",
           "lakecolor": "white",
           "landcolor": "#E5ECF6",
           "showlakes": true,
           "showland": true,
           "subunitcolor": "white"
          },
          "hoverlabel": {
           "align": "left"
          },
          "hovermode": "closest",
          "mapbox": {
           "style": "light"
          },
          "paper_bgcolor": "white",
          "plot_bgcolor": "#E5ECF6",
          "polar": {
           "angularaxis": {
            "gridcolor": "white",
            "linecolor": "white",
            "ticks": ""
           },
           "bgcolor": "#E5ECF6",
           "radialaxis": {
            "gridcolor": "white",
            "linecolor": "white",
            "ticks": ""
           }
          },
          "scene": {
           "xaxis": {
            "backgroundcolor": "#E5ECF6",
            "gridcolor": "white",
            "gridwidth": 2,
            "linecolor": "white",
            "showbackground": true,
            "ticks": "",
            "zerolinecolor": "white"
           },
           "yaxis": {
            "backgroundcolor": "#E5ECF6",
            "gridcolor": "white",
            "gridwidth": 2,
            "linecolor": "white",
            "showbackground": true,
            "ticks": "",
            "zerolinecolor": "white"
           },
           "zaxis": {
            "backgroundcolor": "#E5ECF6",
            "gridcolor": "white",
            "gridwidth": 2,
            "linecolor": "white",
            "showbackground": true,
            "ticks": "",
            "zerolinecolor": "white"
           }
          },
          "shapedefaults": {
           "line": {
            "color": "#2a3f5f"
           }
          },
          "ternary": {
           "aaxis": {
            "gridcolor": "white",
            "linecolor": "white",
            "ticks": ""
           },
           "baxis": {
            "gridcolor": "white",
            "linecolor": "white",
            "ticks": ""
           },
           "bgcolor": "#E5ECF6",
           "caxis": {
            "gridcolor": "white",
            "linecolor": "white",
            "ticks": ""
           }
          },
          "title": {
           "x": 0.05
          },
          "xaxis": {
           "automargin": true,
           "gridcolor": "white",
           "linecolor": "white",
           "ticks": "",
           "title": {
            "standoff": 15
           },
           "zerolinecolor": "white",
           "zerolinewidth": 2
          },
          "yaxis": {
           "automargin": true,
           "gridcolor": "white",
           "linecolor": "white",
           "ticks": "",
           "title": {
            "standoff": 15
           },
           "zerolinecolor": "white",
           "zerolinewidth": 2
          }
         }
        },
        "width": 1000,
        "xaxis": {
         "linecolor": "black",
         "linewidth": 5,
         "showline": true,
         "ticklen": 5,
         "ticks": "inside",
         "tickwidth": 4,
         "title": {
          "text": ""
         }
        },
        "yaxis": {
         "linecolor": "black",
         "linewidth": 5,
         "showline": true,
         "ticklen": 5,
         "ticks": "inside",
         "tickwidth": 4,
         "title": {
          "text": ""
         }
        }
       }
      }
     },
     "metadata": {},
     "output_type": "display_data"
    }
   ],
   "source": [
    "df_without_cuprates = df_MP_non_zero[df_MP_non_zero['sc_class'] != 'Cuprate']\n",
    "corr_matrix(df_without_cuprates, crystal_properties, 1000, 800, 18)"
   ]
  },
  {
   "cell_type": "markdown",
   "metadata": {},
   "source": [
    "Yeah it is! interesting each family should show different imporant features. This probably means each family undergoes a different reason why they present superconductivity."
   ]
  },
  {
   "cell_type": "markdown",
   "metadata": {},
   "source": [
    "I did not expect the categorised crystal system to have a lowered correlation to tc after taking cuperates away, its probably important to also include categorising the family type and including it as a property"
   ]
  },
  {
   "cell_type": "code",
   "execution_count": 25,
   "metadata": {},
   "outputs": [
    {
     "data": {
      "application/vnd.plotly.v1+json": {
       "config": {
        "plotlyServerURL": "https://plot.ly"
       },
       "data": [
        {
         "marker": {
          "color": "rgb(33, 145, 140)"
         },
         "text": [
          "32.89%",
          "28.01%",
          "16.10%",
          "13.47%",
          "5.78%",
          "3.30%",
          "0.45%"
         ],
         "textposition": "auto",
         "type": "bar",
         "x": [
          "tetragonal",
          "cubic",
          "orthorhombic",
          "hexagonal",
          "trigonal",
          "monoclinic",
          "triclinic"
         ],
         "y": [
          1314,
          1119,
          643,
          538,
          231,
          132,
          18
         ]
        }
       ],
       "layout": {
        "font": {
         "color": "black",
         "family": "Helvetica",
         "size": 20
        },
        "height": 500,
        "margin": {
         "b": 10,
         "l": 10,
         "r": 10,
         "t": 10
        },
        "paper_bgcolor": "white",
        "plot_bgcolor": "white",
        "template": {
         "data": {
          "bar": [
           {
            "error_x": {
             "color": "#2a3f5f"
            },
            "error_y": {
             "color": "#2a3f5f"
            },
            "marker": {
             "line": {
              "color": "#E5ECF6",
              "width": 0.5
             },
             "pattern": {
              "fillmode": "overlay",
              "size": 10,
              "solidity": 0.2
             }
            },
            "type": "bar"
           }
          ],
          "barpolar": [
           {
            "marker": {
             "line": {
              "color": "#E5ECF6",
              "width": 0.5
             },
             "pattern": {
              "fillmode": "overlay",
              "size": 10,
              "solidity": 0.2
             }
            },
            "type": "barpolar"
           }
          ],
          "carpet": [
           {
            "aaxis": {
             "endlinecolor": "#2a3f5f",
             "gridcolor": "white",
             "linecolor": "white",
             "minorgridcolor": "white",
             "startlinecolor": "#2a3f5f"
            },
            "baxis": {
             "endlinecolor": "#2a3f5f",
             "gridcolor": "white",
             "linecolor": "white",
             "minorgridcolor": "white",
             "startlinecolor": "#2a3f5f"
            },
            "type": "carpet"
           }
          ],
          "choropleth": [
           {
            "colorbar": {
             "outlinewidth": 0,
             "ticks": ""
            },
            "type": "choropleth"
           }
          ],
          "contour": [
           {
            "colorbar": {
             "outlinewidth": 0,
             "ticks": ""
            },
            "colorscale": [
             [
              0,
              "#0d0887"
             ],
             [
              0.1111111111111111,
              "#46039f"
             ],
             [
              0.2222222222222222,
              "#7201a8"
             ],
             [
              0.3333333333333333,
              "#9c179e"
             ],
             [
              0.4444444444444444,
              "#bd3786"
             ],
             [
              0.5555555555555556,
              "#d8576b"
             ],
             [
              0.6666666666666666,
              "#ed7953"
             ],
             [
              0.7777777777777778,
              "#fb9f3a"
             ],
             [
              0.8888888888888888,
              "#fdca26"
             ],
             [
              1,
              "#f0f921"
             ]
            ],
            "type": "contour"
           }
          ],
          "contourcarpet": [
           {
            "colorbar": {
             "outlinewidth": 0,
             "ticks": ""
            },
            "type": "contourcarpet"
           }
          ],
          "heatmap": [
           {
            "colorbar": {
             "outlinewidth": 0,
             "ticks": ""
            },
            "colorscale": [
             [
              0,
              "#0d0887"
             ],
             [
              0.1111111111111111,
              "#46039f"
             ],
             [
              0.2222222222222222,
              "#7201a8"
             ],
             [
              0.3333333333333333,
              "#9c179e"
             ],
             [
              0.4444444444444444,
              "#bd3786"
             ],
             [
              0.5555555555555556,
              "#d8576b"
             ],
             [
              0.6666666666666666,
              "#ed7953"
             ],
             [
              0.7777777777777778,
              "#fb9f3a"
             ],
             [
              0.8888888888888888,
              "#fdca26"
             ],
             [
              1,
              "#f0f921"
             ]
            ],
            "type": "heatmap"
           }
          ],
          "heatmapgl": [
           {
            "colorbar": {
             "outlinewidth": 0,
             "ticks": ""
            },
            "colorscale": [
             [
              0,
              "#0d0887"
             ],
             [
              0.1111111111111111,
              "#46039f"
             ],
             [
              0.2222222222222222,
              "#7201a8"
             ],
             [
              0.3333333333333333,
              "#9c179e"
             ],
             [
              0.4444444444444444,
              "#bd3786"
             ],
             [
              0.5555555555555556,
              "#d8576b"
             ],
             [
              0.6666666666666666,
              "#ed7953"
             ],
             [
              0.7777777777777778,
              "#fb9f3a"
             ],
             [
              0.8888888888888888,
              "#fdca26"
             ],
             [
              1,
              "#f0f921"
             ]
            ],
            "type": "heatmapgl"
           }
          ],
          "histogram": [
           {
            "marker": {
             "pattern": {
              "fillmode": "overlay",
              "size": 10,
              "solidity": 0.2
             }
            },
            "type": "histogram"
           }
          ],
          "histogram2d": [
           {
            "colorbar": {
             "outlinewidth": 0,
             "ticks": ""
            },
            "colorscale": [
             [
              0,
              "#0d0887"
             ],
             [
              0.1111111111111111,
              "#46039f"
             ],
             [
              0.2222222222222222,
              "#7201a8"
             ],
             [
              0.3333333333333333,
              "#9c179e"
             ],
             [
              0.4444444444444444,
              "#bd3786"
             ],
             [
              0.5555555555555556,
              "#d8576b"
             ],
             [
              0.6666666666666666,
              "#ed7953"
             ],
             [
              0.7777777777777778,
              "#fb9f3a"
             ],
             [
              0.8888888888888888,
              "#fdca26"
             ],
             [
              1,
              "#f0f921"
             ]
            ],
            "type": "histogram2d"
           }
          ],
          "histogram2dcontour": [
           {
            "colorbar": {
             "outlinewidth": 0,
             "ticks": ""
            },
            "colorscale": [
             [
              0,
              "#0d0887"
             ],
             [
              0.1111111111111111,
              "#46039f"
             ],
             [
              0.2222222222222222,
              "#7201a8"
             ],
             [
              0.3333333333333333,
              "#9c179e"
             ],
             [
              0.4444444444444444,
              "#bd3786"
             ],
             [
              0.5555555555555556,
              "#d8576b"
             ],
             [
              0.6666666666666666,
              "#ed7953"
             ],
             [
              0.7777777777777778,
              "#fb9f3a"
             ],
             [
              0.8888888888888888,
              "#fdca26"
             ],
             [
              1,
              "#f0f921"
             ]
            ],
            "type": "histogram2dcontour"
           }
          ],
          "mesh3d": [
           {
            "colorbar": {
             "outlinewidth": 0,
             "ticks": ""
            },
            "type": "mesh3d"
           }
          ],
          "parcoords": [
           {
            "line": {
             "colorbar": {
              "outlinewidth": 0,
              "ticks": ""
             }
            },
            "type": "parcoords"
           }
          ],
          "pie": [
           {
            "automargin": true,
            "type": "pie"
           }
          ],
          "scatter": [
           {
            "fillpattern": {
             "fillmode": "overlay",
             "size": 10,
             "solidity": 0.2
            },
            "type": "scatter"
           }
          ],
          "scatter3d": [
           {
            "line": {
             "colorbar": {
              "outlinewidth": 0,
              "ticks": ""
             }
            },
            "marker": {
             "colorbar": {
              "outlinewidth": 0,
              "ticks": ""
             }
            },
            "type": "scatter3d"
           }
          ],
          "scattercarpet": [
           {
            "marker": {
             "colorbar": {
              "outlinewidth": 0,
              "ticks": ""
             }
            },
            "type": "scattercarpet"
           }
          ],
          "scattergeo": [
           {
            "marker": {
             "colorbar": {
              "outlinewidth": 0,
              "ticks": ""
             }
            },
            "type": "scattergeo"
           }
          ],
          "scattergl": [
           {
            "marker": {
             "colorbar": {
              "outlinewidth": 0,
              "ticks": ""
             }
            },
            "type": "scattergl"
           }
          ],
          "scattermapbox": [
           {
            "marker": {
             "colorbar": {
              "outlinewidth": 0,
              "ticks": ""
             }
            },
            "type": "scattermapbox"
           }
          ],
          "scatterpolar": [
           {
            "marker": {
             "colorbar": {
              "outlinewidth": 0,
              "ticks": ""
             }
            },
            "type": "scatterpolar"
           }
          ],
          "scatterpolargl": [
           {
            "marker": {
             "colorbar": {
              "outlinewidth": 0,
              "ticks": ""
             }
            },
            "type": "scatterpolargl"
           }
          ],
          "scatterternary": [
           {
            "marker": {
             "colorbar": {
              "outlinewidth": 0,
              "ticks": ""
             }
            },
            "type": "scatterternary"
           }
          ],
          "surface": [
           {
            "colorbar": {
             "outlinewidth": 0,
             "ticks": ""
            },
            "colorscale": [
             [
              0,
              "#0d0887"
             ],
             [
              0.1111111111111111,
              "#46039f"
             ],
             [
              0.2222222222222222,
              "#7201a8"
             ],
             [
              0.3333333333333333,
              "#9c179e"
             ],
             [
              0.4444444444444444,
              "#bd3786"
             ],
             [
              0.5555555555555556,
              "#d8576b"
             ],
             [
              0.6666666666666666,
              "#ed7953"
             ],
             [
              0.7777777777777778,
              "#fb9f3a"
             ],
             [
              0.8888888888888888,
              "#fdca26"
             ],
             [
              1,
              "#f0f921"
             ]
            ],
            "type": "surface"
           }
          ],
          "table": [
           {
            "cells": {
             "fill": {
              "color": "#EBF0F8"
             },
             "line": {
              "color": "white"
             }
            },
            "header": {
             "fill": {
              "color": "#C8D4E3"
             },
             "line": {
              "color": "white"
             }
            },
            "type": "table"
           }
          ]
         },
         "layout": {
          "annotationdefaults": {
           "arrowcolor": "#2a3f5f",
           "arrowhead": 0,
           "arrowwidth": 1
          },
          "autotypenumbers": "strict",
          "coloraxis": {
           "colorbar": {
            "outlinewidth": 0,
            "ticks": ""
           }
          },
          "colorscale": {
           "diverging": [
            [
             0,
             "#8e0152"
            ],
            [
             0.1,
             "#c51b7d"
            ],
            [
             0.2,
             "#de77ae"
            ],
            [
             0.3,
             "#f1b6da"
            ],
            [
             0.4,
             "#fde0ef"
            ],
            [
             0.5,
             "#f7f7f7"
            ],
            [
             0.6,
             "#e6f5d0"
            ],
            [
             0.7,
             "#b8e186"
            ],
            [
             0.8,
             "#7fbc41"
            ],
            [
             0.9,
             "#4d9221"
            ],
            [
             1,
             "#276419"
            ]
           ],
           "sequential": [
            [
             0,
             "#0d0887"
            ],
            [
             0.1111111111111111,
             "#46039f"
            ],
            [
             0.2222222222222222,
             "#7201a8"
            ],
            [
             0.3333333333333333,
             "#9c179e"
            ],
            [
             0.4444444444444444,
             "#bd3786"
            ],
            [
             0.5555555555555556,
             "#d8576b"
            ],
            [
             0.6666666666666666,
             "#ed7953"
            ],
            [
             0.7777777777777778,
             "#fb9f3a"
            ],
            [
             0.8888888888888888,
             "#fdca26"
            ],
            [
             1,
             "#f0f921"
            ]
           ],
           "sequentialminus": [
            [
             0,
             "#0d0887"
            ],
            [
             0.1111111111111111,
             "#46039f"
            ],
            [
             0.2222222222222222,
             "#7201a8"
            ],
            [
             0.3333333333333333,
             "#9c179e"
            ],
            [
             0.4444444444444444,
             "#bd3786"
            ],
            [
             0.5555555555555556,
             "#d8576b"
            ],
            [
             0.6666666666666666,
             "#ed7953"
            ],
            [
             0.7777777777777778,
             "#fb9f3a"
            ],
            [
             0.8888888888888888,
             "#fdca26"
            ],
            [
             1,
             "#f0f921"
            ]
           ]
          },
          "colorway": [
           "#636efa",
           "#EF553B",
           "#00cc96",
           "#ab63fa",
           "#FFA15A",
           "#19d3f3",
           "#FF6692",
           "#B6E880",
           "#FF97FF",
           "#FECB52"
          ],
          "font": {
           "color": "#2a3f5f"
          },
          "geo": {
           "bgcolor": "white",
           "lakecolor": "white",
           "landcolor": "#E5ECF6",
           "showlakes": true,
           "showland": true,
           "subunitcolor": "white"
          },
          "hoverlabel": {
           "align": "left"
          },
          "hovermode": "closest",
          "mapbox": {
           "style": "light"
          },
          "paper_bgcolor": "white",
          "plot_bgcolor": "#E5ECF6",
          "polar": {
           "angularaxis": {
            "gridcolor": "white",
            "linecolor": "white",
            "ticks": ""
           },
           "bgcolor": "#E5ECF6",
           "radialaxis": {
            "gridcolor": "white",
            "linecolor": "white",
            "ticks": ""
           }
          },
          "scene": {
           "xaxis": {
            "backgroundcolor": "#E5ECF6",
            "gridcolor": "white",
            "gridwidth": 2,
            "linecolor": "white",
            "showbackground": true,
            "ticks": "",
            "zerolinecolor": "white"
           },
           "yaxis": {
            "backgroundcolor": "#E5ECF6",
            "gridcolor": "white",
            "gridwidth": 2,
            "linecolor": "white",
            "showbackground": true,
            "ticks": "",
            "zerolinecolor": "white"
           },
           "zaxis": {
            "backgroundcolor": "#E5ECF6",
            "gridcolor": "white",
            "gridwidth": 2,
            "linecolor": "white",
            "showbackground": true,
            "ticks": "",
            "zerolinecolor": "white"
           }
          },
          "shapedefaults": {
           "line": {
            "color": "#2a3f5f"
           }
          },
          "ternary": {
           "aaxis": {
            "gridcolor": "white",
            "linecolor": "white",
            "ticks": ""
           },
           "baxis": {
            "gridcolor": "white",
            "linecolor": "white",
            "ticks": ""
           },
           "bgcolor": "#E5ECF6",
           "caxis": {
            "gridcolor": "white",
            "linecolor": "white",
            "ticks": ""
           }
          },
          "title": {
           "x": 0.05
          },
          "xaxis": {
           "automargin": true,
           "gridcolor": "white",
           "linecolor": "white",
           "ticks": "",
           "title": {
            "standoff": 15
           },
           "zerolinecolor": "white",
           "zerolinewidth": 2
          },
          "yaxis": {
           "automargin": true,
           "gridcolor": "white",
           "linecolor": "white",
           "ticks": "",
           "title": {
            "standoff": 15
           },
           "zerolinecolor": "white",
           "zerolinewidth": 2
          }
         }
        },
        "width": 800,
        "xaxis": {
         "linecolor": "black",
         "linewidth": 5,
         "showline": true,
         "ticklen": 5,
         "ticks": "inside",
         "tickwidth": 4,
         "title": {
          "text": "Crystal System"
         }
        },
        "yaxis": {
         "linecolor": "black",
         "linewidth": 5,
         "showline": true,
         "ticklen": 5,
         "ticks": "inside",
         "tickwidth": 4,
         "title": {
          "text": "Count"
         }
        }
       }
      }
     },
     "metadata": {},
     "output_type": "display_data"
    }
   ],
   "source": [
    "crystal_system_counts = df_MP_non_zero[\"crystal_system\"].value_counts()\n",
    "precentages = (df_MP_non_zero[\"crystal_system\"].value_counts()/len(df_MP_non_zero))*100\n",
    "# Create a bar plot\n",
    "data = [go.Bar(x=crystal_system_counts.index,\n",
    "               y=crystal_system_counts.values,\n",
    "               text= [f'{x:.2f}%' for x in precentages],\n",
    "               textposition='auto',\n",
    "               marker = dict(color='rgb(33, 145, 140)'))]\n",
    "\n",
    "# Create the layout\n",
    "layout = go.Layout(xaxis=dict(title=\"Crystal System\", showline=True, linewidth=5, linecolor='black',\n",
    "                              ticks='inside', tickwidth=4, ticklen=5),\n",
    "                   yaxis=dict(title=\"Count\", showline=True, linewidth=5, linecolor='black',\n",
    "                              ticks='inside', tickwidth=4, ticklen=5), \n",
    "                   width=800,\n",
    "                   height=500,\n",
    "                   plot_bgcolor='white',\n",
    "                   paper_bgcolor='white', \n",
    "                   font=dict(family='Helvetica', size=20, color='black'),\n",
    "                   margin=dict(l=10, r=10, b=10, t=10))\n",
    "\n",
    "# Create the figure\n",
    "fig = go.Figure(data=data, layout=layout)\n",
    "\n",
    "# Show the figure\n",
    "fig.show()"
   ]
  },
  {
   "cell_type": "markdown",
   "metadata": {},
   "source": [
    "## Energy Value and Gaps"
   ]
  },
  {
   "cell_type": "code",
   "execution_count": 26,
   "metadata": {},
   "outputs": [
    {
     "data": {
      "text/html": [
       "<div>\n",
       "<style scoped>\n",
       "    .dataframe tbody tr th:only-of-type {\n",
       "        vertical-align: middle;\n",
       "    }\n",
       "\n",
       "    .dataframe tbody tr th {\n",
       "        vertical-align: top;\n",
       "    }\n",
       "\n",
       "    .dataframe thead th {\n",
       "        text-align: right;\n",
       "    }\n",
       "</style>\n",
       "<table border=\"1\" class=\"dataframe\">\n",
       "  <thead>\n",
       "    <tr style=\"text-align: right;\">\n",
       "      <th></th>\n",
       "      <th>e_above_hull</th>\n",
       "      <th>efermi</th>\n",
       "      <th>final_energy</th>\n",
       "      <th>energy</th>\n",
       "      <th>final_energy_per_atom</th>\n",
       "      <th>energy_per_atom</th>\n",
       "      <th>formation_energy_per_atom</th>\n",
       "      <th>band_gap</th>\n",
       "      <th>band_structure</th>\n",
       "      <th>exchange_symmetry</th>\n",
       "    </tr>\n",
       "  </thead>\n",
       "  <tbody>\n",
       "    <tr>\n",
       "      <th>0</th>\n",
       "      <td>0.000000</td>\n",
       "      <td>4.015543</td>\n",
       "      <td>-24.862722</td>\n",
       "      <td>-24.862722</td>\n",
       "      <td>-4.972544</td>\n",
       "      <td>-4.972544</td>\n",
       "      <td>-0.713482</td>\n",
       "      <td>0.0000</td>\n",
       "      <td>NaN</td>\n",
       "      <td>139</td>\n",
       "    </tr>\n",
       "    <tr>\n",
       "      <th>1</th>\n",
       "      <td>0.000000</td>\n",
       "      <td>6.066451</td>\n",
       "      <td>-7.725196</td>\n",
       "      <td>-7.725196</td>\n",
       "      <td>-3.862598</td>\n",
       "      <td>-3.862598</td>\n",
       "      <td>-0.497162</td>\n",
       "      <td>0.6624</td>\n",
       "      <td>NaN</td>\n",
       "      <td>225</td>\n",
       "    </tr>\n",
       "    <tr>\n",
       "      <th>2</th>\n",
       "      <td>0.000000</td>\n",
       "      <td>4.015543</td>\n",
       "      <td>-24.862722</td>\n",
       "      <td>-24.862722</td>\n",
       "      <td>-4.972544</td>\n",
       "      <td>-4.972544</td>\n",
       "      <td>-0.713482</td>\n",
       "      <td>0.0000</td>\n",
       "      <td>NaN</td>\n",
       "      <td>139</td>\n",
       "    </tr>\n",
       "    <tr>\n",
       "      <th>3</th>\n",
       "      <td>0.000000</td>\n",
       "      <td>6.314060</td>\n",
       "      <td>-6.472687</td>\n",
       "      <td>-6.472687</td>\n",
       "      <td>-3.236343</td>\n",
       "      <td>-3.236343</td>\n",
       "      <td>-0.499851</td>\n",
       "      <td>0.0000</td>\n",
       "      <td>NaN</td>\n",
       "      <td>225</td>\n",
       "    </tr>\n",
       "    <tr>\n",
       "      <th>4</th>\n",
       "      <td>0.013441</td>\n",
       "      <td>5.202543</td>\n",
       "      <td>-55.239871</td>\n",
       "      <td>-55.239871</td>\n",
       "      <td>-4.603323</td>\n",
       "      <td>-4.603323</td>\n",
       "      <td>-0.299456</td>\n",
       "      <td>0.0154</td>\n",
       "      <td>NaN</td>\n",
       "      <td>212</td>\n",
       "    </tr>\n",
       "    <tr>\n",
       "      <th>...</th>\n",
       "      <td>...</td>\n",
       "      <td>...</td>\n",
       "      <td>...</td>\n",
       "      <td>...</td>\n",
       "      <td>...</td>\n",
       "      <td>...</td>\n",
       "      <td>...</td>\n",
       "      <td>...</td>\n",
       "      <td>...</td>\n",
       "      <td>...</td>\n",
       "    </tr>\n",
       "    <tr>\n",
       "      <th>5766</th>\n",
       "      <td>0.000000</td>\n",
       "      <td>5.393069</td>\n",
       "      <td>-69.799473</td>\n",
       "      <td>-69.799473</td>\n",
       "      <td>-11.633246</td>\n",
       "      <td>-11.633246</td>\n",
       "      <td>-0.145261</td>\n",
       "      <td>0.0000</td>\n",
       "      <td>NaN</td>\n",
       "      <td>227</td>\n",
       "    </tr>\n",
       "    <tr>\n",
       "      <th>5767</th>\n",
       "      <td>3.105420</td>\n",
       "      <td>6.666585</td>\n",
       "      <td>-40.908650</td>\n",
       "      <td>-40.908650</td>\n",
       "      <td>-5.113581</td>\n",
       "      <td>-5.113581</td>\n",
       "      <td>2.341754</td>\n",
       "      <td>0.0000</td>\n",
       "      <td>NaN</td>\n",
       "      <td>223</td>\n",
       "    </tr>\n",
       "    <tr>\n",
       "      <th>5770</th>\n",
       "      <td>0.000000</td>\n",
       "      <td>2.851722</td>\n",
       "      <td>-2.519487</td>\n",
       "      <td>-2.519487</td>\n",
       "      <td>-1.259744</td>\n",
       "      <td>-1.259744</td>\n",
       "      <td>0.000000</td>\n",
       "      <td>0.0000</td>\n",
       "      <td>NaN</td>\n",
       "      <td>194</td>\n",
       "    </tr>\n",
       "    <tr>\n",
       "      <th>5771</th>\n",
       "      <td>0.000000</td>\n",
       "      <td>3.547729</td>\n",
       "      <td>-23.949691</td>\n",
       "      <td>-23.949691</td>\n",
       "      <td>-3.991615</td>\n",
       "      <td>-3.991615</td>\n",
       "      <td>-0.302553</td>\n",
       "      <td>0.0000</td>\n",
       "      <td>NaN</td>\n",
       "      <td>227</td>\n",
       "    </tr>\n",
       "    <tr>\n",
       "      <th>5772</th>\n",
       "      <td>0.000000</td>\n",
       "      <td>4.328531</td>\n",
       "      <td>-17.095401</td>\n",
       "      <td>-17.095401</td>\n",
       "      <td>-8.547701</td>\n",
       "      <td>-8.547701</td>\n",
       "      <td>0.000000</td>\n",
       "      <td>0.0000</td>\n",
       "      <td>NaN</td>\n",
       "      <td>194</td>\n",
       "    </tr>\n",
       "  </tbody>\n",
       "</table>\n",
       "<p>3995 rows × 10 columns</p>\n",
       "</div>"
      ],
      "text/plain": [
       "      e_above_hull    efermi  final_energy     energy  final_energy_per_atom  \\\n",
       "0         0.000000  4.015543    -24.862722 -24.862722              -4.972544   \n",
       "1         0.000000  6.066451     -7.725196  -7.725196              -3.862598   \n",
       "2         0.000000  4.015543    -24.862722 -24.862722              -4.972544   \n",
       "3         0.000000  6.314060     -6.472687  -6.472687              -3.236343   \n",
       "4         0.013441  5.202543    -55.239871 -55.239871              -4.603323   \n",
       "...            ...       ...           ...        ...                    ...   \n",
       "5766      0.000000  5.393069    -69.799473 -69.799473             -11.633246   \n",
       "5767      3.105420  6.666585    -40.908650 -40.908650              -5.113581   \n",
       "5770      0.000000  2.851722     -2.519487  -2.519487              -1.259744   \n",
       "5771      0.000000  3.547729    -23.949691 -23.949691              -3.991615   \n",
       "5772      0.000000  4.328531    -17.095401 -17.095401              -8.547701   \n",
       "\n",
       "      energy_per_atom  formation_energy_per_atom  band_gap band_structure  \\\n",
       "0           -4.972544                  -0.713482    0.0000            NaN   \n",
       "1           -3.862598                  -0.497162    0.6624            NaN   \n",
       "2           -4.972544                  -0.713482    0.0000            NaN   \n",
       "3           -3.236343                  -0.499851    0.0000            NaN   \n",
       "4           -4.603323                  -0.299456    0.0154            NaN   \n",
       "...               ...                        ...       ...            ...   \n",
       "5766       -11.633246                  -0.145261    0.0000            NaN   \n",
       "5767        -5.113581                   2.341754    0.0000            NaN   \n",
       "5770        -1.259744                   0.000000    0.0000            NaN   \n",
       "5771        -3.991615                  -0.302553    0.0000            NaN   \n",
       "5772        -8.547701                   0.000000    0.0000            NaN   \n",
       "\n",
       "      exchange_symmetry  \n",
       "0                   139  \n",
       "1                   225  \n",
       "2                   139  \n",
       "3                   225  \n",
       "4                   212  \n",
       "...                 ...  \n",
       "5766                227  \n",
       "5767                223  \n",
       "5770                194  \n",
       "5771                227  \n",
       "5772                194  \n",
       "\n",
       "[3995 rows x 10 columns]"
      ]
     },
     "execution_count": 26,
     "metadata": {},
     "output_type": "execute_result"
    }
   ],
   "source": [
    "electronic_properties = [\"e_above_hull\",\n",
    "                         \"efermi\",\n",
    "                         \"final_energy\",\n",
    "                         \"energy\",\n",
    "                         \"final_energy_per_atom\",\n",
    "                         \"energy_per_atom\",\n",
    "                         \"formation_energy_per_atom\",\n",
    "                         \"band_gap\",\n",
    "                         \"band_structure\",\n",
    "                         \"exchange_symmetry\"\n",
    "                         ]\n",
    "\n",
    "df_MP_non_zero[electronic_properties]"
   ]
  },
  {
   "cell_type": "code",
   "execution_count": 27,
   "metadata": {},
   "outputs": [
    {
     "data": {
      "text/html": [
       "<div>\n",
       "<style scoped>\n",
       "    .dataframe tbody tr th:only-of-type {\n",
       "        vertical-align: middle;\n",
       "    }\n",
       "\n",
       "    .dataframe tbody tr th {\n",
       "        vertical-align: top;\n",
       "    }\n",
       "\n",
       "    .dataframe thead th {\n",
       "        text-align: right;\n",
       "    }\n",
       "</style>\n",
       "<table border=\"1\" class=\"dataframe\">\n",
       "  <thead>\n",
       "    <tr style=\"text-align: right;\">\n",
       "      <th></th>\n",
       "      <th>formula_sc</th>\n",
       "      <th>formula_similarity</th>\n",
       "      <th>totreldiff</th>\n",
       "      <th>formula_frac</th>\n",
       "      <th>correct_formula_frac</th>\n",
       "      <th>formula</th>\n",
       "      <th>orig_formula_cif</th>\n",
       "      <th>tc</th>\n",
       "      <th>sc_class</th>\n",
       "      <th>sc_class_unique_sc</th>\n",
       "      <th>...</th>\n",
       "      <th>tetragonal</th>\n",
       "      <th>triclinic</th>\n",
       "      <th>trigonal</th>\n",
       "      <th>primitive</th>\n",
       "      <th>base-centered</th>\n",
       "      <th>body-centered</th>\n",
       "      <th>face-centered</th>\n",
       "      <th>weight</th>\n",
       "      <th>average_atomic_weight</th>\n",
       "      <th>sc_class_name</th>\n",
       "    </tr>\n",
       "  </thead>\n",
       "  <tbody>\n",
       "    <tr>\n",
       "      <th>116</th>\n",
       "      <td>Al0.3Cr0.7</td>\n",
       "      <td>3</td>\n",
       "      <td>0.066667</td>\n",
       "      <td>3.0</td>\n",
       "      <td>False</td>\n",
       "      <td>Al0.9Cr2.1</td>\n",
       "      <td>Al1Cr2</td>\n",
       "      <td>0.0</td>\n",
       "      <td>Not_supercon</td>\n",
       "      <td>True</td>\n",
       "      <td>...</td>\n",
       "      <td>7</td>\n",
       "      <td>0</td>\n",
       "      <td>0</td>\n",
       "      <td>0</td>\n",
       "      <td>0</td>\n",
       "      <td>1</td>\n",
       "      <td>0</td>\n",
       "      <td>1.0</td>\n",
       "      <td>133.475195</td>\n",
       "      <td>Not Superconductor</td>\n",
       "    </tr>\n",
       "    <tr>\n",
       "      <th>1044</th>\n",
       "      <td>B1Pt1</td>\n",
       "      <td>1</td>\n",
       "      <td>0.000000</td>\n",
       "      <td>2.0</td>\n",
       "      <td>False</td>\n",
       "      <td>B2Pt2</td>\n",
       "      <td>B2Pt2</td>\n",
       "      <td>0.0</td>\n",
       "      <td>Not_supercon</td>\n",
       "      <td>True</td>\n",
       "      <td>...</td>\n",
       "      <td>0</td>\n",
       "      <td>0</td>\n",
       "      <td>0</td>\n",
       "      <td>1</td>\n",
       "      <td>0</td>\n",
       "      <td>0</td>\n",
       "      <td>0</td>\n",
       "      <td>1.0</td>\n",
       "      <td>411.790000</td>\n",
       "      <td>Not Superconductor</td>\n",
       "    </tr>\n",
       "    <tr>\n",
       "      <th>4699</th>\n",
       "      <td>Li0.33V2O5</td>\n",
       "      <td>2</td>\n",
       "      <td>0.000868</td>\n",
       "      <td>12.0</td>\n",
       "      <td>False</td>\n",
       "      <td>Li3.96V24O60</td>\n",
       "      <td>Li4V24O60</td>\n",
       "      <td>8.5</td>\n",
       "      <td>Oxide</td>\n",
       "      <td>True</td>\n",
       "      <td>...</td>\n",
       "      <td>0</td>\n",
       "      <td>0</td>\n",
       "      <td>0</td>\n",
       "      <td>1</td>\n",
       "      <td>0</td>\n",
       "      <td>0</td>\n",
       "      <td>0</td>\n",
       "      <td>1.0</td>\n",
       "      <td>2210.046360</td>\n",
       "      <td>Oxide</td>\n",
       "    </tr>\n",
       "  </tbody>\n",
       "</table>\n",
       "<p>3 rows × 94 columns</p>\n",
       "</div>"
      ],
      "text/plain": [
       "      formula_sc  formula_similarity  totreldiff  formula_frac  \\\n",
       "116   Al0.3Cr0.7                   3    0.066667           3.0   \n",
       "1044       B1Pt1                   1    0.000000           2.0   \n",
       "4699  Li0.33V2O5                   2    0.000868          12.0   \n",
       "\n",
       "      correct_formula_frac       formula orig_formula_cif   tc      sc_class  \\\n",
       "116                  False    Al0.9Cr2.1           Al1Cr2  0.0  Not_supercon   \n",
       "1044                 False         B2Pt2            B2Pt2  0.0  Not_supercon   \n",
       "4699                 False  Li3.96V24O60        Li4V24O60  8.5         Oxide   \n",
       "\n",
       "      sc_class_unique_sc  ... tetragonal triclinic  trigonal primitive  \\\n",
       "116                 True  ...          7         0         0         0   \n",
       "1044                True  ...          0         0         0         1   \n",
       "4699                True  ...          0         0         0         1   \n",
       "\n",
       "     base-centered body-centered face-centered weight average_atomic_weight  \\\n",
       "116              0             1             0    1.0            133.475195   \n",
       "1044             0             0             0    1.0            411.790000   \n",
       "4699             0             0             0    1.0           2210.046360   \n",
       "\n",
       "           sc_class_name  \n",
       "116   Not Superconductor  \n",
       "1044  Not Superconductor  \n",
       "4699               Oxide  \n",
       "\n",
       "[3 rows x 94 columns]"
      ]
     },
     "execution_count": 27,
     "metadata": {},
     "output_type": "execute_result"
    }
   ],
   "source": [
    "df_MP[df_MP[\"band_structure\"].notna()]"
   ]
  },
  {
   "cell_type": "code",
   "execution_count": 50,
   "metadata": {},
   "outputs": [
    {
     "data": {
      "application/vnd.plotly.v1+json": {
       "config": {
        "plotlyServerURL": "https://plot.ly"
       },
       "data": [
        {
         "colorbar": {
          "ticktext": [
           -1,
           -0.5,
           0,
           0.5,
           1
          ],
          "tickvals": [
           -1,
           -0.5,
           0,
           0.5,
           1
          ],
          "title": {
           "side": "right",
           "text": "Pearson Coefficient"
          }
         },
         "colorscale": [
          [
           0,
           "#440154"
          ],
          [
           0.1111111111111111,
           "#482878"
          ],
          [
           0.2222222222222222,
           "#3e4989"
          ],
          [
           0.3333333333333333,
           "#31688e"
          ],
          [
           0.4444444444444444,
           "#26828e"
          ],
          [
           0.5555555555555556,
           "#1f9e89"
          ],
          [
           0.6666666666666666,
           "#35b779"
          ],
          [
           0.7777777777777778,
           "#6ece58"
          ],
          [
           0.8888888888888888,
           "#b5de2b"
          ],
          [
           1,
           "#fde725"
          ]
         ],
         "text": [
          [
           1,
           -0.16,
           0.02,
           0.02,
           -0.01,
           -0.01,
           0.16,
           -0.03,
           -0.03,
           0,
           0,
           0
          ],
          [
           -0.16,
           1,
           0.07,
           0.07,
           -0.36,
           -0.36,
           0.33,
           -0.19,
           0.25,
           -0.42,
           -0.42,
           -0.42
          ],
          [
           0.02,
           0.07,
           1,
           1,
           0.19,
           0.19,
           0.18,
           -0.01,
           0.25,
           -0.13,
           -0.13,
           -0.13
          ],
          [
           0.02,
           0.07,
           1,
           1,
           0.19,
           0.19,
           0.18,
           -0.01,
           0.25,
           -0.13,
           -0.13,
           -0.13
          ],
          [
           -0.01,
           -0.36,
           0.19,
           0.19,
           1,
           1,
           -0.02,
           0.09,
           -0.05,
           0.09,
           0.09,
           0.09
          ],
          [
           -0.01,
           -0.36,
           0.19,
           0.19,
           1,
           1,
           -0.02,
           0.09,
           -0.05,
           0.09,
           0.09,
           0.09
          ],
          [
           0.16,
           0.33,
           0.18,
           0.18,
           -0.02,
           -0.02,
           1,
           -0.06,
           0.31,
           -0.5,
           -0.5,
           -0.5
          ],
          [
           -0.03,
           -0.19,
           -0.01,
           -0.01,
           0.09,
           0.09,
           -0.06,
           1,
           0.01,
           -0.04,
           -0.04,
           -0.04
          ],
          [
           -0.03,
           0.25,
           0.25,
           0.25,
           -0.05,
           -0.05,
           0.31,
           0.01,
           1,
           -0.31,
           -0.31,
           -0.31
          ],
          [
           0,
           -0.42,
           -0.13,
           -0.13,
           0.09,
           0.09,
           -0.5,
           -0.04,
           -0.31,
           1,
           1,
           1
          ],
          [
           0,
           -0.42,
           -0.13,
           -0.13,
           0.09,
           0.09,
           -0.5,
           -0.04,
           -0.31,
           1,
           1,
           1
          ],
          [
           0,
           -0.42,
           -0.13,
           -0.13,
           0.09,
           0.09,
           -0.5,
           -0.04,
           -0.31,
           1,
           1,
           1
          ]
         ],
         "textfont": {
          "size": 16
         },
         "texttemplate": "%{text}",
         "type": "heatmap",
         "x": [
          "e above hull",
          "efermi",
          "final energy",
          "energy",
          "final energy per atom",
          "energy per atom",
          "formation energy per atom",
          "band gap",
          "exchange symmetry",
          "tc",
          "tc",
          "tc"
         ],
         "y": [
          "e above hull",
          "efermi",
          "final energy",
          "energy",
          "final energy per atom",
          "energy per atom",
          "formation energy per atom",
          "band gap",
          "exchange symmetry",
          "tc",
          "tc",
          "tc"
         ],
         "z": [
          [
           1,
           -0.16,
           0.02,
           0.02,
           -0.01,
           -0.01,
           0.16,
           -0.03,
           -0.03,
           0,
           0,
           0
          ],
          [
           -0.16,
           1,
           0.07,
           0.07,
           -0.36,
           -0.36,
           0.33,
           -0.19,
           0.25,
           -0.42,
           -0.42,
           -0.42
          ],
          [
           0.02,
           0.07,
           1,
           1,
           0.19,
           0.19,
           0.18,
           -0.01,
           0.25,
           -0.13,
           -0.13,
           -0.13
          ],
          [
           0.02,
           0.07,
           1,
           1,
           0.19,
           0.19,
           0.18,
           -0.01,
           0.25,
           -0.13,
           -0.13,
           -0.13
          ],
          [
           -0.01,
           -0.36,
           0.19,
           0.19,
           1,
           1,
           -0.02,
           0.09,
           -0.05,
           0.09,
           0.09,
           0.09
          ],
          [
           -0.01,
           -0.36,
           0.19,
           0.19,
           1,
           1,
           -0.02,
           0.09,
           -0.05,
           0.09,
           0.09,
           0.09
          ],
          [
           0.16,
           0.33,
           0.18,
           0.18,
           -0.02,
           -0.02,
           1,
           -0.06,
           0.31,
           -0.5,
           -0.5,
           -0.5
          ],
          [
           -0.03,
           -0.19,
           -0.01,
           -0.01,
           0.09,
           0.09,
           -0.06,
           1,
           0.01,
           -0.04,
           -0.04,
           -0.04
          ],
          [
           -0.03,
           0.25,
           0.25,
           0.25,
           -0.05,
           -0.05,
           0.31,
           0.01,
           1,
           -0.31,
           -0.31,
           -0.31
          ],
          [
           0,
           -0.42,
           -0.13,
           -0.13,
           0.09,
           0.09,
           -0.5,
           -0.04,
           -0.31,
           1,
           1,
           1
          ],
          [
           0,
           -0.42,
           -0.13,
           -0.13,
           0.09,
           0.09,
           -0.5,
           -0.04,
           -0.31,
           1,
           1,
           1
          ],
          [
           0,
           -0.42,
           -0.13,
           -0.13,
           0.09,
           0.09,
           -0.5,
           -0.04,
           -0.31,
           1,
           1,
           1
          ]
         ]
        }
       ],
       "layout": {
        "font": {
         "color": "black",
         "family": "Helvetica",
         "size": 18
        },
        "height": 800,
        "margin": {
         "b": 5,
         "l": 5,
         "r": 5,
         "t": 10
        },
        "paper_bgcolor": "white",
        "plot_bgcolor": "white",
        "template": {
         "data": {
          "bar": [
           {
            "error_x": {
             "color": "#2a3f5f"
            },
            "error_y": {
             "color": "#2a3f5f"
            },
            "marker": {
             "line": {
              "color": "#E5ECF6",
              "width": 0.5
             },
             "pattern": {
              "fillmode": "overlay",
              "size": 10,
              "solidity": 0.2
             }
            },
            "type": "bar"
           }
          ],
          "barpolar": [
           {
            "marker": {
             "line": {
              "color": "#E5ECF6",
              "width": 0.5
             },
             "pattern": {
              "fillmode": "overlay",
              "size": 10,
              "solidity": 0.2
             }
            },
            "type": "barpolar"
           }
          ],
          "carpet": [
           {
            "aaxis": {
             "endlinecolor": "#2a3f5f",
             "gridcolor": "white",
             "linecolor": "white",
             "minorgridcolor": "white",
             "startlinecolor": "#2a3f5f"
            },
            "baxis": {
             "endlinecolor": "#2a3f5f",
             "gridcolor": "white",
             "linecolor": "white",
             "minorgridcolor": "white",
             "startlinecolor": "#2a3f5f"
            },
            "type": "carpet"
           }
          ],
          "choropleth": [
           {
            "colorbar": {
             "outlinewidth": 0,
             "ticks": ""
            },
            "type": "choropleth"
           }
          ],
          "contour": [
           {
            "colorbar": {
             "outlinewidth": 0,
             "ticks": ""
            },
            "colorscale": [
             [
              0,
              "#0d0887"
             ],
             [
              0.1111111111111111,
              "#46039f"
             ],
             [
              0.2222222222222222,
              "#7201a8"
             ],
             [
              0.3333333333333333,
              "#9c179e"
             ],
             [
              0.4444444444444444,
              "#bd3786"
             ],
             [
              0.5555555555555556,
              "#d8576b"
             ],
             [
              0.6666666666666666,
              "#ed7953"
             ],
             [
              0.7777777777777778,
              "#fb9f3a"
             ],
             [
              0.8888888888888888,
              "#fdca26"
             ],
             [
              1,
              "#f0f921"
             ]
            ],
            "type": "contour"
           }
          ],
          "contourcarpet": [
           {
            "colorbar": {
             "outlinewidth": 0,
             "ticks": ""
            },
            "type": "contourcarpet"
           }
          ],
          "heatmap": [
           {
            "colorbar": {
             "outlinewidth": 0,
             "ticks": ""
            },
            "colorscale": [
             [
              0,
              "#0d0887"
             ],
             [
              0.1111111111111111,
              "#46039f"
             ],
             [
              0.2222222222222222,
              "#7201a8"
             ],
             [
              0.3333333333333333,
              "#9c179e"
             ],
             [
              0.4444444444444444,
              "#bd3786"
             ],
             [
              0.5555555555555556,
              "#d8576b"
             ],
             [
              0.6666666666666666,
              "#ed7953"
             ],
             [
              0.7777777777777778,
              "#fb9f3a"
             ],
             [
              0.8888888888888888,
              "#fdca26"
             ],
             [
              1,
              "#f0f921"
             ]
            ],
            "type": "heatmap"
           }
          ],
          "heatmapgl": [
           {
            "colorbar": {
             "outlinewidth": 0,
             "ticks": ""
            },
            "colorscale": [
             [
              0,
              "#0d0887"
             ],
             [
              0.1111111111111111,
              "#46039f"
             ],
             [
              0.2222222222222222,
              "#7201a8"
             ],
             [
              0.3333333333333333,
              "#9c179e"
             ],
             [
              0.4444444444444444,
              "#bd3786"
             ],
             [
              0.5555555555555556,
              "#d8576b"
             ],
             [
              0.6666666666666666,
              "#ed7953"
             ],
             [
              0.7777777777777778,
              "#fb9f3a"
             ],
             [
              0.8888888888888888,
              "#fdca26"
             ],
             [
              1,
              "#f0f921"
             ]
            ],
            "type": "heatmapgl"
           }
          ],
          "histogram": [
           {
            "marker": {
             "pattern": {
              "fillmode": "overlay",
              "size": 10,
              "solidity": 0.2
             }
            },
            "type": "histogram"
           }
          ],
          "histogram2d": [
           {
            "colorbar": {
             "outlinewidth": 0,
             "ticks": ""
            },
            "colorscale": [
             [
              0,
              "#0d0887"
             ],
             [
              0.1111111111111111,
              "#46039f"
             ],
             [
              0.2222222222222222,
              "#7201a8"
             ],
             [
              0.3333333333333333,
              "#9c179e"
             ],
             [
              0.4444444444444444,
              "#bd3786"
             ],
             [
              0.5555555555555556,
              "#d8576b"
             ],
             [
              0.6666666666666666,
              "#ed7953"
             ],
             [
              0.7777777777777778,
              "#fb9f3a"
             ],
             [
              0.8888888888888888,
              "#fdca26"
             ],
             [
              1,
              "#f0f921"
             ]
            ],
            "type": "histogram2d"
           }
          ],
          "histogram2dcontour": [
           {
            "colorbar": {
             "outlinewidth": 0,
             "ticks": ""
            },
            "colorscale": [
             [
              0,
              "#0d0887"
             ],
             [
              0.1111111111111111,
              "#46039f"
             ],
             [
              0.2222222222222222,
              "#7201a8"
             ],
             [
              0.3333333333333333,
              "#9c179e"
             ],
             [
              0.4444444444444444,
              "#bd3786"
             ],
             [
              0.5555555555555556,
              "#d8576b"
             ],
             [
              0.6666666666666666,
              "#ed7953"
             ],
             [
              0.7777777777777778,
              "#fb9f3a"
             ],
             [
              0.8888888888888888,
              "#fdca26"
             ],
             [
              1,
              "#f0f921"
             ]
            ],
            "type": "histogram2dcontour"
           }
          ],
          "mesh3d": [
           {
            "colorbar": {
             "outlinewidth": 0,
             "ticks": ""
            },
            "type": "mesh3d"
           }
          ],
          "parcoords": [
           {
            "line": {
             "colorbar": {
              "outlinewidth": 0,
              "ticks": ""
             }
            },
            "type": "parcoords"
           }
          ],
          "pie": [
           {
            "automargin": true,
            "type": "pie"
           }
          ],
          "scatter": [
           {
            "fillpattern": {
             "fillmode": "overlay",
             "size": 10,
             "solidity": 0.2
            },
            "type": "scatter"
           }
          ],
          "scatter3d": [
           {
            "line": {
             "colorbar": {
              "outlinewidth": 0,
              "ticks": ""
             }
            },
            "marker": {
             "colorbar": {
              "outlinewidth": 0,
              "ticks": ""
             }
            },
            "type": "scatter3d"
           }
          ],
          "scattercarpet": [
           {
            "marker": {
             "colorbar": {
              "outlinewidth": 0,
              "ticks": ""
             }
            },
            "type": "scattercarpet"
           }
          ],
          "scattergeo": [
           {
            "marker": {
             "colorbar": {
              "outlinewidth": 0,
              "ticks": ""
             }
            },
            "type": "scattergeo"
           }
          ],
          "scattergl": [
           {
            "marker": {
             "colorbar": {
              "outlinewidth": 0,
              "ticks": ""
             }
            },
            "type": "scattergl"
           }
          ],
          "scattermapbox": [
           {
            "marker": {
             "colorbar": {
              "outlinewidth": 0,
              "ticks": ""
             }
            },
            "type": "scattermapbox"
           }
          ],
          "scatterpolar": [
           {
            "marker": {
             "colorbar": {
              "outlinewidth": 0,
              "ticks": ""
             }
            },
            "type": "scatterpolar"
           }
          ],
          "scatterpolargl": [
           {
            "marker": {
             "colorbar": {
              "outlinewidth": 0,
              "ticks": ""
             }
            },
            "type": "scatterpolargl"
           }
          ],
          "scatterternary": [
           {
            "marker": {
             "colorbar": {
              "outlinewidth": 0,
              "ticks": ""
             }
            },
            "type": "scatterternary"
           }
          ],
          "surface": [
           {
            "colorbar": {
             "outlinewidth": 0,
             "ticks": ""
            },
            "colorscale": [
             [
              0,
              "#0d0887"
             ],
             [
              0.1111111111111111,
              "#46039f"
             ],
             [
              0.2222222222222222,
              "#7201a8"
             ],
             [
              0.3333333333333333,
              "#9c179e"
             ],
             [
              0.4444444444444444,
              "#bd3786"
             ],
             [
              0.5555555555555556,
              "#d8576b"
             ],
             [
              0.6666666666666666,
              "#ed7953"
             ],
             [
              0.7777777777777778,
              "#fb9f3a"
             ],
             [
              0.8888888888888888,
              "#fdca26"
             ],
             [
              1,
              "#f0f921"
             ]
            ],
            "type": "surface"
           }
          ],
          "table": [
           {
            "cells": {
             "fill": {
              "color": "#EBF0F8"
             },
             "line": {
              "color": "white"
             }
            },
            "header": {
             "fill": {
              "color": "#C8D4E3"
             },
             "line": {
              "color": "white"
             }
            },
            "type": "table"
           }
          ]
         },
         "layout": {
          "annotationdefaults": {
           "arrowcolor": "#2a3f5f",
           "arrowhead": 0,
           "arrowwidth": 1
          },
          "autotypenumbers": "strict",
          "coloraxis": {
           "colorbar": {
            "outlinewidth": 0,
            "ticks": ""
           }
          },
          "colorscale": {
           "diverging": [
            [
             0,
             "#8e0152"
            ],
            [
             0.1,
             "#c51b7d"
            ],
            [
             0.2,
             "#de77ae"
            ],
            [
             0.3,
             "#f1b6da"
            ],
            [
             0.4,
             "#fde0ef"
            ],
            [
             0.5,
             "#f7f7f7"
            ],
            [
             0.6,
             "#e6f5d0"
            ],
            [
             0.7,
             "#b8e186"
            ],
            [
             0.8,
             "#7fbc41"
            ],
            [
             0.9,
             "#4d9221"
            ],
            [
             1,
             "#276419"
            ]
           ],
           "sequential": [
            [
             0,
             "#0d0887"
            ],
            [
             0.1111111111111111,
             "#46039f"
            ],
            [
             0.2222222222222222,
             "#7201a8"
            ],
            [
             0.3333333333333333,
             "#9c179e"
            ],
            [
             0.4444444444444444,
             "#bd3786"
            ],
            [
             0.5555555555555556,
             "#d8576b"
            ],
            [
             0.6666666666666666,
             "#ed7953"
            ],
            [
             0.7777777777777778,
             "#fb9f3a"
            ],
            [
             0.8888888888888888,
             "#fdca26"
            ],
            [
             1,
             "#f0f921"
            ]
           ],
           "sequentialminus": [
            [
             0,
             "#0d0887"
            ],
            [
             0.1111111111111111,
             "#46039f"
            ],
            [
             0.2222222222222222,
             "#7201a8"
            ],
            [
             0.3333333333333333,
             "#9c179e"
            ],
            [
             0.4444444444444444,
             "#bd3786"
            ],
            [
             0.5555555555555556,
             "#d8576b"
            ],
            [
             0.6666666666666666,
             "#ed7953"
            ],
            [
             0.7777777777777778,
             "#fb9f3a"
            ],
            [
             0.8888888888888888,
             "#fdca26"
            ],
            [
             1,
             "#f0f921"
            ]
           ]
          },
          "colorway": [
           "#636efa",
           "#EF553B",
           "#00cc96",
           "#ab63fa",
           "#FFA15A",
           "#19d3f3",
           "#FF6692",
           "#B6E880",
           "#FF97FF",
           "#FECB52"
          ],
          "font": {
           "color": "#2a3f5f"
          },
          "geo": {
           "bgcolor": "white",
           "lakecolor": "white",
           "landcolor": "#E5ECF6",
           "showlakes": true,
           "showland": true,
           "subunitcolor": "white"
          },
          "hoverlabel": {
           "align": "left"
          },
          "hovermode": "closest",
          "mapbox": {
           "style": "light"
          },
          "paper_bgcolor": "white",
          "plot_bgcolor": "#E5ECF6",
          "polar": {
           "angularaxis": {
            "gridcolor": "white",
            "linecolor": "white",
            "ticks": ""
           },
           "bgcolor": "#E5ECF6",
           "radialaxis": {
            "gridcolor": "white",
            "linecolor": "white",
            "ticks": ""
           }
          },
          "scene": {
           "xaxis": {
            "backgroundcolor": "#E5ECF6",
            "gridcolor": "white",
            "gridwidth": 2,
            "linecolor": "white",
            "showbackground": true,
            "ticks": "",
            "zerolinecolor": "white"
           },
           "yaxis": {
            "backgroundcolor": "#E5ECF6",
            "gridcolor": "white",
            "gridwidth": 2,
            "linecolor": "white",
            "showbackground": true,
            "ticks": "",
            "zerolinecolor": "white"
           },
           "zaxis": {
            "backgroundcolor": "#E5ECF6",
            "gridcolor": "white",
            "gridwidth": 2,
            "linecolor": "white",
            "showbackground": true,
            "ticks": "",
            "zerolinecolor": "white"
           }
          },
          "shapedefaults": {
           "line": {
            "color": "#2a3f5f"
           }
          },
          "ternary": {
           "aaxis": {
            "gridcolor": "white",
            "linecolor": "white",
            "ticks": ""
           },
           "baxis": {
            "gridcolor": "white",
            "linecolor": "white",
            "ticks": ""
           },
           "bgcolor": "#E5ECF6",
           "caxis": {
            "gridcolor": "white",
            "linecolor": "white",
            "ticks": ""
           }
          },
          "title": {
           "x": 0.05
          },
          "xaxis": {
           "automargin": true,
           "gridcolor": "white",
           "linecolor": "white",
           "ticks": "",
           "title": {
            "standoff": 15
           },
           "zerolinecolor": "white",
           "zerolinewidth": 2
          },
          "yaxis": {
           "automargin": true,
           "gridcolor": "white",
           "linecolor": "white",
           "ticks": "",
           "title": {
            "standoff": 15
           },
           "zerolinecolor": "white",
           "zerolinewidth": 2
          }
         }
        },
        "width": 1000,
        "xaxis": {
         "linecolor": "black",
         "linewidth": 5,
         "showline": true,
         "ticklen": 5,
         "ticks": "inside",
         "tickwidth": 4,
         "title": {
          "text": ""
         }
        },
        "yaxis": {
         "linecolor": "black",
         "linewidth": 5,
         "showline": true,
         "ticklen": 5,
         "ticks": "inside",
         "tickwidth": 4,
         "title": {
          "text": ""
         }
        }
       }
      }
     },
     "metadata": {},
     "output_type": "display_data"
    }
   ],
   "source": [
    "corr_matrix(df_MP_non_zero, electronic_properties, 1000, 800, 16)"
   ]
  },
  {
   "cell_type": "markdown",
   "metadata": {},
   "source": [
    "## Magnetic"
   ]
  },
  {
   "cell_type": "code",
   "execution_count": 40,
   "metadata": {},
   "outputs": [
    {
     "data": {
      "application/vnd.plotly.v1+json": {
       "config": {
        "plotlyServerURL": "https://plot.ly"
       },
       "data": [
        {
         "marker": {
          "color": "rgb(33, 145, 140)"
         },
         "text": [
          "80.84%",
          "16.92%",
          "1.77%",
          "0.47%"
         ],
         "textposition": "auto",
         "type": "bar",
         "x": [
          "Not Magnetic",
          "Ferromagnetic  ",
          "Ferrimagnetic",
          "Anti-ferrimagnetic"
         ],
         "y": [
          4667,
          977,
          102,
          27
         ]
        }
       ],
       "layout": {
        "font": {
         "color": "black",
         "family": "Helvetica",
         "size": 20
        },
        "height": 500,
        "margin": {
         "b": 10,
         "l": 10,
         "r": 10,
         "t": 10
        },
        "paper_bgcolor": "white",
        "plot_bgcolor": "white",
        "template": {
         "data": {
          "bar": [
           {
            "error_x": {
             "color": "#2a3f5f"
            },
            "error_y": {
             "color": "#2a3f5f"
            },
            "marker": {
             "line": {
              "color": "#E5ECF6",
              "width": 0.5
             },
             "pattern": {
              "fillmode": "overlay",
              "size": 10,
              "solidity": 0.2
             }
            },
            "type": "bar"
           }
          ],
          "barpolar": [
           {
            "marker": {
             "line": {
              "color": "#E5ECF6",
              "width": 0.5
             },
             "pattern": {
              "fillmode": "overlay",
              "size": 10,
              "solidity": 0.2
             }
            },
            "type": "barpolar"
           }
          ],
          "carpet": [
           {
            "aaxis": {
             "endlinecolor": "#2a3f5f",
             "gridcolor": "white",
             "linecolor": "white",
             "minorgridcolor": "white",
             "startlinecolor": "#2a3f5f"
            },
            "baxis": {
             "endlinecolor": "#2a3f5f",
             "gridcolor": "white",
             "linecolor": "white",
             "minorgridcolor": "white",
             "startlinecolor": "#2a3f5f"
            },
            "type": "carpet"
           }
          ],
          "choropleth": [
           {
            "colorbar": {
             "outlinewidth": 0,
             "ticks": ""
            },
            "type": "choropleth"
           }
          ],
          "contour": [
           {
            "colorbar": {
             "outlinewidth": 0,
             "ticks": ""
            },
            "colorscale": [
             [
              0,
              "#0d0887"
             ],
             [
              0.1111111111111111,
              "#46039f"
             ],
             [
              0.2222222222222222,
              "#7201a8"
             ],
             [
              0.3333333333333333,
              "#9c179e"
             ],
             [
              0.4444444444444444,
              "#bd3786"
             ],
             [
              0.5555555555555556,
              "#d8576b"
             ],
             [
              0.6666666666666666,
              "#ed7953"
             ],
             [
              0.7777777777777778,
              "#fb9f3a"
             ],
             [
              0.8888888888888888,
              "#fdca26"
             ],
             [
              1,
              "#f0f921"
             ]
            ],
            "type": "contour"
           }
          ],
          "contourcarpet": [
           {
            "colorbar": {
             "outlinewidth": 0,
             "ticks": ""
            },
            "type": "contourcarpet"
           }
          ],
          "heatmap": [
           {
            "colorbar": {
             "outlinewidth": 0,
             "ticks": ""
            },
            "colorscale": [
             [
              0,
              "#0d0887"
             ],
             [
              0.1111111111111111,
              "#46039f"
             ],
             [
              0.2222222222222222,
              "#7201a8"
             ],
             [
              0.3333333333333333,
              "#9c179e"
             ],
             [
              0.4444444444444444,
              "#bd3786"
             ],
             [
              0.5555555555555556,
              "#d8576b"
             ],
             [
              0.6666666666666666,
              "#ed7953"
             ],
             [
              0.7777777777777778,
              "#fb9f3a"
             ],
             [
              0.8888888888888888,
              "#fdca26"
             ],
             [
              1,
              "#f0f921"
             ]
            ],
            "type": "heatmap"
           }
          ],
          "heatmapgl": [
           {
            "colorbar": {
             "outlinewidth": 0,
             "ticks": ""
            },
            "colorscale": [
             [
              0,
              "#0d0887"
             ],
             [
              0.1111111111111111,
              "#46039f"
             ],
             [
              0.2222222222222222,
              "#7201a8"
             ],
             [
              0.3333333333333333,
              "#9c179e"
             ],
             [
              0.4444444444444444,
              "#bd3786"
             ],
             [
              0.5555555555555556,
              "#d8576b"
             ],
             [
              0.6666666666666666,
              "#ed7953"
             ],
             [
              0.7777777777777778,
              "#fb9f3a"
             ],
             [
              0.8888888888888888,
              "#fdca26"
             ],
             [
              1,
              "#f0f921"
             ]
            ],
            "type": "heatmapgl"
           }
          ],
          "histogram": [
           {
            "marker": {
             "pattern": {
              "fillmode": "overlay",
              "size": 10,
              "solidity": 0.2
             }
            },
            "type": "histogram"
           }
          ],
          "histogram2d": [
           {
            "colorbar": {
             "outlinewidth": 0,
             "ticks": ""
            },
            "colorscale": [
             [
              0,
              "#0d0887"
             ],
             [
              0.1111111111111111,
              "#46039f"
             ],
             [
              0.2222222222222222,
              "#7201a8"
             ],
             [
              0.3333333333333333,
              "#9c179e"
             ],
             [
              0.4444444444444444,
              "#bd3786"
             ],
             [
              0.5555555555555556,
              "#d8576b"
             ],
             [
              0.6666666666666666,
              "#ed7953"
             ],
             [
              0.7777777777777778,
              "#fb9f3a"
             ],
             [
              0.8888888888888888,
              "#fdca26"
             ],
             [
              1,
              "#f0f921"
             ]
            ],
            "type": "histogram2d"
           }
          ],
          "histogram2dcontour": [
           {
            "colorbar": {
             "outlinewidth": 0,
             "ticks": ""
            },
            "colorscale": [
             [
              0,
              "#0d0887"
             ],
             [
              0.1111111111111111,
              "#46039f"
             ],
             [
              0.2222222222222222,
              "#7201a8"
             ],
             [
              0.3333333333333333,
              "#9c179e"
             ],
             [
              0.4444444444444444,
              "#bd3786"
             ],
             [
              0.5555555555555556,
              "#d8576b"
             ],
             [
              0.6666666666666666,
              "#ed7953"
             ],
             [
              0.7777777777777778,
              "#fb9f3a"
             ],
             [
              0.8888888888888888,
              "#fdca26"
             ],
             [
              1,
              "#f0f921"
             ]
            ],
            "type": "histogram2dcontour"
           }
          ],
          "mesh3d": [
           {
            "colorbar": {
             "outlinewidth": 0,
             "ticks": ""
            },
            "type": "mesh3d"
           }
          ],
          "parcoords": [
           {
            "line": {
             "colorbar": {
              "outlinewidth": 0,
              "ticks": ""
             }
            },
            "type": "parcoords"
           }
          ],
          "pie": [
           {
            "automargin": true,
            "type": "pie"
           }
          ],
          "scatter": [
           {
            "fillpattern": {
             "fillmode": "overlay",
             "size": 10,
             "solidity": 0.2
            },
            "type": "scatter"
           }
          ],
          "scatter3d": [
           {
            "line": {
             "colorbar": {
              "outlinewidth": 0,
              "ticks": ""
             }
            },
            "marker": {
             "colorbar": {
              "outlinewidth": 0,
              "ticks": ""
             }
            },
            "type": "scatter3d"
           }
          ],
          "scattercarpet": [
           {
            "marker": {
             "colorbar": {
              "outlinewidth": 0,
              "ticks": ""
             }
            },
            "type": "scattercarpet"
           }
          ],
          "scattergeo": [
           {
            "marker": {
             "colorbar": {
              "outlinewidth": 0,
              "ticks": ""
             }
            },
            "type": "scattergeo"
           }
          ],
          "scattergl": [
           {
            "marker": {
             "colorbar": {
              "outlinewidth": 0,
              "ticks": ""
             }
            },
            "type": "scattergl"
           }
          ],
          "scattermapbox": [
           {
            "marker": {
             "colorbar": {
              "outlinewidth": 0,
              "ticks": ""
             }
            },
            "type": "scattermapbox"
           }
          ],
          "scatterpolar": [
           {
            "marker": {
             "colorbar": {
              "outlinewidth": 0,
              "ticks": ""
             }
            },
            "type": "scatterpolar"
           }
          ],
          "scatterpolargl": [
           {
            "marker": {
             "colorbar": {
              "outlinewidth": 0,
              "ticks": ""
             }
            },
            "type": "scatterpolargl"
           }
          ],
          "scatterternary": [
           {
            "marker": {
             "colorbar": {
              "outlinewidth": 0,
              "ticks": ""
             }
            },
            "type": "scatterternary"
           }
          ],
          "surface": [
           {
            "colorbar": {
             "outlinewidth": 0,
             "ticks": ""
            },
            "colorscale": [
             [
              0,
              "#0d0887"
             ],
             [
              0.1111111111111111,
              "#46039f"
             ],
             [
              0.2222222222222222,
              "#7201a8"
             ],
             [
              0.3333333333333333,
              "#9c179e"
             ],
             [
              0.4444444444444444,
              "#bd3786"
             ],
             [
              0.5555555555555556,
              "#d8576b"
             ],
             [
              0.6666666666666666,
              "#ed7953"
             ],
             [
              0.7777777777777778,
              "#fb9f3a"
             ],
             [
              0.8888888888888888,
              "#fdca26"
             ],
             [
              1,
              "#f0f921"
             ]
            ],
            "type": "surface"
           }
          ],
          "table": [
           {
            "cells": {
             "fill": {
              "color": "#EBF0F8"
             },
             "line": {
              "color": "white"
             }
            },
            "header": {
             "fill": {
              "color": "#C8D4E3"
             },
             "line": {
              "color": "white"
             }
            },
            "type": "table"
           }
          ]
         },
         "layout": {
          "annotationdefaults": {
           "arrowcolor": "#2a3f5f",
           "arrowhead": 0,
           "arrowwidth": 1
          },
          "autotypenumbers": "strict",
          "coloraxis": {
           "colorbar": {
            "outlinewidth": 0,
            "ticks": ""
           }
          },
          "colorscale": {
           "diverging": [
            [
             0,
             "#8e0152"
            ],
            [
             0.1,
             "#c51b7d"
            ],
            [
             0.2,
             "#de77ae"
            ],
            [
             0.3,
             "#f1b6da"
            ],
            [
             0.4,
             "#fde0ef"
            ],
            [
             0.5,
             "#f7f7f7"
            ],
            [
             0.6,
             "#e6f5d0"
            ],
            [
             0.7,
             "#b8e186"
            ],
            [
             0.8,
             "#7fbc41"
            ],
            [
             0.9,
             "#4d9221"
            ],
            [
             1,
             "#276419"
            ]
           ],
           "sequential": [
            [
             0,
             "#0d0887"
            ],
            [
             0.1111111111111111,
             "#46039f"
            ],
            [
             0.2222222222222222,
             "#7201a8"
            ],
            [
             0.3333333333333333,
             "#9c179e"
            ],
            [
             0.4444444444444444,
             "#bd3786"
            ],
            [
             0.5555555555555556,
             "#d8576b"
            ],
            [
             0.6666666666666666,
             "#ed7953"
            ],
            [
             0.7777777777777778,
             "#fb9f3a"
            ],
            [
             0.8888888888888888,
             "#fdca26"
            ],
            [
             1,
             "#f0f921"
            ]
           ],
           "sequentialminus": [
            [
             0,
             "#0d0887"
            ],
            [
             0.1111111111111111,
             "#46039f"
            ],
            [
             0.2222222222222222,
             "#7201a8"
            ],
            [
             0.3333333333333333,
             "#9c179e"
            ],
            [
             0.4444444444444444,
             "#bd3786"
            ],
            [
             0.5555555555555556,
             "#d8576b"
            ],
            [
             0.6666666666666666,
             "#ed7953"
            ],
            [
             0.7777777777777778,
             "#fb9f3a"
            ],
            [
             0.8888888888888888,
             "#fdca26"
            ],
            [
             1,
             "#f0f921"
            ]
           ]
          },
          "colorway": [
           "#636efa",
           "#EF553B",
           "#00cc96",
           "#ab63fa",
           "#FFA15A",
           "#19d3f3",
           "#FF6692",
           "#B6E880",
           "#FF97FF",
           "#FECB52"
          ],
          "font": {
           "color": "#2a3f5f"
          },
          "geo": {
           "bgcolor": "white",
           "lakecolor": "white",
           "landcolor": "#E5ECF6",
           "showlakes": true,
           "showland": true,
           "subunitcolor": "white"
          },
          "hoverlabel": {
           "align": "left"
          },
          "hovermode": "closest",
          "mapbox": {
           "style": "light"
          },
          "paper_bgcolor": "white",
          "plot_bgcolor": "#E5ECF6",
          "polar": {
           "angularaxis": {
            "gridcolor": "white",
            "linecolor": "white",
            "ticks": ""
           },
           "bgcolor": "#E5ECF6",
           "radialaxis": {
            "gridcolor": "white",
            "linecolor": "white",
            "ticks": ""
           }
          },
          "scene": {
           "xaxis": {
            "backgroundcolor": "#E5ECF6",
            "gridcolor": "white",
            "gridwidth": 2,
            "linecolor": "white",
            "showbackground": true,
            "ticks": "",
            "zerolinecolor": "white"
           },
           "yaxis": {
            "backgroundcolor": "#E5ECF6",
            "gridcolor": "white",
            "gridwidth": 2,
            "linecolor": "white",
            "showbackground": true,
            "ticks": "",
            "zerolinecolor": "white"
           },
           "zaxis": {
            "backgroundcolor": "#E5ECF6",
            "gridcolor": "white",
            "gridwidth": 2,
            "linecolor": "white",
            "showbackground": true,
            "ticks": "",
            "zerolinecolor": "white"
           }
          },
          "shapedefaults": {
           "line": {
            "color": "#2a3f5f"
           }
          },
          "ternary": {
           "aaxis": {
            "gridcolor": "white",
            "linecolor": "white",
            "ticks": ""
           },
           "baxis": {
            "gridcolor": "white",
            "linecolor": "white",
            "ticks": ""
           },
           "bgcolor": "#E5ECF6",
           "caxis": {
            "gridcolor": "white",
            "linecolor": "white",
            "ticks": ""
           }
          },
          "title": {
           "x": 0.05
          },
          "xaxis": {
           "automargin": true,
           "gridcolor": "white",
           "linecolor": "white",
           "ticks": "",
           "title": {
            "standoff": 15
           },
           "zerolinecolor": "white",
           "zerolinewidth": 2
          },
          "yaxis": {
           "automargin": true,
           "gridcolor": "white",
           "linecolor": "white",
           "ticks": "",
           "title": {
            "standoff": 15
           },
           "zerolinecolor": "white",
           "zerolinewidth": 2
          }
         }
        },
        "width": 800,
        "xaxis": {
         "linecolor": "black",
         "linewidth": 5,
         "showline": true,
         "ticklen": 5,
         "ticks": "inside",
         "tickwidth": 3,
         "title": {
          "text": "Magnetic Type"
         }
        },
        "yaxis": {
         "linecolor": "black",
         "linewidth": 5,
         "showline": true,
         "ticklen": 5,
         "ticks": "inside",
         "tickwidth": 3,
         "title": {
          "text": "Count"
         }
        }
       }
      }
     },
     "metadata": {},
     "output_type": "display_data"
    }
   ],
   "source": [
    "# Define a dictionary to map the old names to the new names\n",
    "name_mapping_magnet = {\n",
    "    'NM': 'Not Magnetic',\n",
    "    'FM': 'Ferromagnetic  ',\n",
    "    'FiM': 'Ferrimagnetic',\n",
    "    'AFM': 'Anti-ferrimagnetic',\n",
    "}\n",
    "\n",
    "# Replace the values in the sc_class column with the new names\n",
    "df_MP[\"magnetic_type_named\"] = df_MP[\"magnetic_type\"].map(name_mapping_magnet)\n",
    "\n",
    "magnetic_types_count = df_MP[\"magnetic_type_named\"].value_counts()\n",
    "precentages = (df_MP[\"magnetic_type_named\"].value_counts()/len(df_MP))*100\n",
    "# Create a bar plot\n",
    "data = [go.Bar(x=magnetic_types_count.index,\n",
    "               y=magnetic_types_count.values,\n",
    "               text= [f'{x:.2f}%' for x in precentages],\n",
    "               textposition='auto',\n",
    "               marker = dict(color='rgb(33, 145, 140)'))]\n",
    "\n",
    "# Create the layout\n",
    "layout = go.Layout(xaxis=dict(title=\"Magnetic Type\", showline=True, linewidth=5, linecolor='black',\n",
    "                              ticks='inside', tickwidth=3, ticklen=5),\n",
    "                   yaxis=dict(title=\"Count\", showline=True, linewidth=5, linecolor='black',\n",
    "                              ticks='inside', tickwidth=3, ticklen=5), \n",
    "                   width=800,\n",
    "                   height=500,\n",
    "                   plot_bgcolor='white',\n",
    "                   paper_bgcolor='white', \n",
    "                   font=dict(family='Helvetica', size=20, color='black'),\n",
    "                   margin=dict(l=10, r=10, b=10, t=10))\n",
    "\n",
    "# Create the figure\n",
    "fig = go.Figure(data=data, layout=layout)\n",
    "\n",
    "# Show the figure\n",
    "fig.show()"
   ]
  },
  {
   "cell_type": "code",
   "execution_count": 30,
   "metadata": {},
   "outputs": [],
   "source": [
    "df_MP[\"cat_magnetic_type\"] = df_MP[\"magnetic_type\"].astype('category').cat.codes"
   ]
  },
  {
   "cell_type": "code",
   "execution_count": 31,
   "metadata": {},
   "outputs": [],
   "source": [
    "magentic_properties = [\"cat_magnetic_type\",\n",
    "                       \"total_magnetization\",\n",
    "                       \"is_magnetic\",\n",
    "                       \"num_unique_magnetic_sites\",\n",
    "                       \"magmoms\",\n",
    "                       \"total_magnetization_normalized_vol\",\n",
    "                       \"total_magnetization_normalized_formula_units\",\n",
    "                       \"num_magnetic_sites\",\n",
    "                       \"true_total_magnetization\",\n",
    "                       ]"
   ]
  },
  {
   "cell_type": "code",
   "execution_count": 53,
   "metadata": {},
   "outputs": [
    {
     "data": {
      "application/vnd.plotly.v1+json": {
       "config": {
        "plotlyServerURL": "https://plot.ly"
       },
       "data": [
        {
         "colorbar": {
          "ticktext": [
           -1,
           -0.5,
           0,
           0.5,
           1
          ],
          "tickvals": [
           -1,
           -0.5,
           0,
           0.5,
           1
          ],
          "title": {
           "side": "right",
           "text": "Pearson Coefficient"
          }
         },
         "colorscale": [
          [
           0,
           "#440154"
          ],
          [
           0.1111111111111111,
           "#482878"
          ],
          [
           0.2222222222222222,
           "#3e4989"
          ],
          [
           0.3333333333333333,
           "#31688e"
          ],
          [
           0.4444444444444444,
           "#26828e"
          ],
          [
           0.5555555555555556,
           "#1f9e89"
          ],
          [
           0.6666666666666666,
           "#35b779"
          ],
          [
           0.7777777777777778,
           "#6ece58"
          ],
          [
           0.8888888888888888,
           "#b5de2b"
          ],
          [
           1,
           "#fde725"
          ]
         ],
         "text": [
          [
           1,
           -0.55,
           -0.98,
           -0.63,
           -0.58,
           -0.55,
           -0.7,
           -0.44,
           -0.01,
           -0.01,
           -0.01,
           -0.01
          ],
          [
           -0.55,
           1,
           0.59,
           0.67,
           0.8,
           1,
           0.57,
           0.82,
           0.07,
           0.07,
           0.07,
           0.07
          ],
          [
           -0.98,
           0.59,
           1,
           0.67,
           0.61,
           0.59,
           0.74,
           0.47,
           0.02,
           0.02,
           0.02,
           0.02
          ],
          [
           -0.63,
           0.67,
           0.67,
           1,
           0.43,
           0.67,
           0.76,
           0.59,
           0.01,
           0.01,
           0.01,
           0.01
          ],
          [
           -0.58,
           0.8,
           0.61,
           0.43,
           1,
           0.8,
           0.47,
           0.72,
           0.04,
           0.04,
           0.04,
           0.04
          ],
          [
           -0.55,
           1,
           0.59,
           0.67,
           0.8,
           1,
           0.57,
           0.82,
           0.07,
           0.07,
           0.07,
           0.07
          ],
          [
           -0.7,
           0.57,
           0.74,
           0.76,
           0.47,
           0.57,
           1,
           0.64,
           0,
           0,
           0,
           0
          ],
          [
           -0.44,
           0.82,
           0.47,
           0.59,
           0.72,
           0.82,
           0.64,
           1,
           0.04,
           0.04,
           0.04,
           0.04
          ],
          [
           -0.01,
           0.07,
           0.02,
           0.01,
           0.04,
           0.07,
           0,
           0.04,
           1,
           1,
           1,
           1
          ],
          [
           -0.01,
           0.07,
           0.02,
           0.01,
           0.04,
           0.07,
           0,
           0.04,
           1,
           1,
           1,
           1
          ],
          [
           -0.01,
           0.07,
           0.02,
           0.01,
           0.04,
           0.07,
           0,
           0.04,
           1,
           1,
           1,
           1
          ],
          [
           -0.01,
           0.07,
           0.02,
           0.01,
           0.04,
           0.07,
           0,
           0.04,
           1,
           1,
           1,
           1
          ]
         ],
         "textfont": {
          "size": 18
         },
         "texttemplate": "%{text}",
         "type": "heatmap",
         "x": [
          "cat magnetic type",
          "total magnetization",
          "is magnetic",
          "num unique magnetic sites",
          "total magnetization normalized vol",
          "total magnetization normalized formula units",
          "num magnetic sites",
          "true total magnetization",
          "tc",
          "tc",
          "tc",
          "tc"
         ],
         "y": [
          "cat magnetic type",
          "total magnetization",
          "is magnetic",
          "num unique magnetic sites",
          "total magnetization normalized vol",
          "total magnetization normalized formula units",
          "num magnetic sites",
          "true total magnetization",
          "tc",
          "tc",
          "tc",
          "tc"
         ],
         "z": [
          [
           1,
           -0.55,
           -0.98,
           -0.63,
           -0.58,
           -0.55,
           -0.7,
           -0.44,
           -0.01,
           -0.01,
           -0.01,
           -0.01
          ],
          [
           -0.55,
           1,
           0.59,
           0.67,
           0.8,
           1,
           0.57,
           0.82,
           0.07,
           0.07,
           0.07,
           0.07
          ],
          [
           -0.98,
           0.59,
           1,
           0.67,
           0.61,
           0.59,
           0.74,
           0.47,
           0.02,
           0.02,
           0.02,
           0.02
          ],
          [
           -0.63,
           0.67,
           0.67,
           1,
           0.43,
           0.67,
           0.76,
           0.59,
           0.01,
           0.01,
           0.01,
           0.01
          ],
          [
           -0.58,
           0.8,
           0.61,
           0.43,
           1,
           0.8,
           0.47,
           0.72,
           0.04,
           0.04,
           0.04,
           0.04
          ],
          [
           -0.55,
           1,
           0.59,
           0.67,
           0.8,
           1,
           0.57,
           0.82,
           0.07,
           0.07,
           0.07,
           0.07
          ],
          [
           -0.7,
           0.57,
           0.74,
           0.76,
           0.47,
           0.57,
           1,
           0.64,
           0,
           0,
           0,
           0
          ],
          [
           -0.44,
           0.82,
           0.47,
           0.59,
           0.72,
           0.82,
           0.64,
           1,
           0.04,
           0.04,
           0.04,
           0.04
          ],
          [
           -0.01,
           0.07,
           0.02,
           0.01,
           0.04,
           0.07,
           0,
           0.04,
           1,
           1,
           1,
           1
          ],
          [
           -0.01,
           0.07,
           0.02,
           0.01,
           0.04,
           0.07,
           0,
           0.04,
           1,
           1,
           1,
           1
          ],
          [
           -0.01,
           0.07,
           0.02,
           0.01,
           0.04,
           0.07,
           0,
           0.04,
           1,
           1,
           1,
           1
          ],
          [
           -0.01,
           0.07,
           0.02,
           0.01,
           0.04,
           0.07,
           0,
           0.04,
           1,
           1,
           1,
           1
          ]
         ]
        }
       ],
       "layout": {
        "font": {
         "color": "black",
         "family": "Helvetica",
         "size": 18
        },
        "height": 800,
        "margin": {
         "b": 5,
         "l": 5,
         "r": 5,
         "t": 10
        },
        "paper_bgcolor": "white",
        "plot_bgcolor": "white",
        "template": {
         "data": {
          "bar": [
           {
            "error_x": {
             "color": "#2a3f5f"
            },
            "error_y": {
             "color": "#2a3f5f"
            },
            "marker": {
             "line": {
              "color": "#E5ECF6",
              "width": 0.5
             },
             "pattern": {
              "fillmode": "overlay",
              "size": 10,
              "solidity": 0.2
             }
            },
            "type": "bar"
           }
          ],
          "barpolar": [
           {
            "marker": {
             "line": {
              "color": "#E5ECF6",
              "width": 0.5
             },
             "pattern": {
              "fillmode": "overlay",
              "size": 10,
              "solidity": 0.2
             }
            },
            "type": "barpolar"
           }
          ],
          "carpet": [
           {
            "aaxis": {
             "endlinecolor": "#2a3f5f",
             "gridcolor": "white",
             "linecolor": "white",
             "minorgridcolor": "white",
             "startlinecolor": "#2a3f5f"
            },
            "baxis": {
             "endlinecolor": "#2a3f5f",
             "gridcolor": "white",
             "linecolor": "white",
             "minorgridcolor": "white",
             "startlinecolor": "#2a3f5f"
            },
            "type": "carpet"
           }
          ],
          "choropleth": [
           {
            "colorbar": {
             "outlinewidth": 0,
             "ticks": ""
            },
            "type": "choropleth"
           }
          ],
          "contour": [
           {
            "colorbar": {
             "outlinewidth": 0,
             "ticks": ""
            },
            "colorscale": [
             [
              0,
              "#0d0887"
             ],
             [
              0.1111111111111111,
              "#46039f"
             ],
             [
              0.2222222222222222,
              "#7201a8"
             ],
             [
              0.3333333333333333,
              "#9c179e"
             ],
             [
              0.4444444444444444,
              "#bd3786"
             ],
             [
              0.5555555555555556,
              "#d8576b"
             ],
             [
              0.6666666666666666,
              "#ed7953"
             ],
             [
              0.7777777777777778,
              "#fb9f3a"
             ],
             [
              0.8888888888888888,
              "#fdca26"
             ],
             [
              1,
              "#f0f921"
             ]
            ],
            "type": "contour"
           }
          ],
          "contourcarpet": [
           {
            "colorbar": {
             "outlinewidth": 0,
             "ticks": ""
            },
            "type": "contourcarpet"
           }
          ],
          "heatmap": [
           {
            "colorbar": {
             "outlinewidth": 0,
             "ticks": ""
            },
            "colorscale": [
             [
              0,
              "#0d0887"
             ],
             [
              0.1111111111111111,
              "#46039f"
             ],
             [
              0.2222222222222222,
              "#7201a8"
             ],
             [
              0.3333333333333333,
              "#9c179e"
             ],
             [
              0.4444444444444444,
              "#bd3786"
             ],
             [
              0.5555555555555556,
              "#d8576b"
             ],
             [
              0.6666666666666666,
              "#ed7953"
             ],
             [
              0.7777777777777778,
              "#fb9f3a"
             ],
             [
              0.8888888888888888,
              "#fdca26"
             ],
             [
              1,
              "#f0f921"
             ]
            ],
            "type": "heatmap"
           }
          ],
          "heatmapgl": [
           {
            "colorbar": {
             "outlinewidth": 0,
             "ticks": ""
            },
            "colorscale": [
             [
              0,
              "#0d0887"
             ],
             [
              0.1111111111111111,
              "#46039f"
             ],
             [
              0.2222222222222222,
              "#7201a8"
             ],
             [
              0.3333333333333333,
              "#9c179e"
             ],
             [
              0.4444444444444444,
              "#bd3786"
             ],
             [
              0.5555555555555556,
              "#d8576b"
             ],
             [
              0.6666666666666666,
              "#ed7953"
             ],
             [
              0.7777777777777778,
              "#fb9f3a"
             ],
             [
              0.8888888888888888,
              "#fdca26"
             ],
             [
              1,
              "#f0f921"
             ]
            ],
            "type": "heatmapgl"
           }
          ],
          "histogram": [
           {
            "marker": {
             "pattern": {
              "fillmode": "overlay",
              "size": 10,
              "solidity": 0.2
             }
            },
            "type": "histogram"
           }
          ],
          "histogram2d": [
           {
            "colorbar": {
             "outlinewidth": 0,
             "ticks": ""
            },
            "colorscale": [
             [
              0,
              "#0d0887"
             ],
             [
              0.1111111111111111,
              "#46039f"
             ],
             [
              0.2222222222222222,
              "#7201a8"
             ],
             [
              0.3333333333333333,
              "#9c179e"
             ],
             [
              0.4444444444444444,
              "#bd3786"
             ],
             [
              0.5555555555555556,
              "#d8576b"
             ],
             [
              0.6666666666666666,
              "#ed7953"
             ],
             [
              0.7777777777777778,
              "#fb9f3a"
             ],
             [
              0.8888888888888888,
              "#fdca26"
             ],
             [
              1,
              "#f0f921"
             ]
            ],
            "type": "histogram2d"
           }
          ],
          "histogram2dcontour": [
           {
            "colorbar": {
             "outlinewidth": 0,
             "ticks": ""
            },
            "colorscale": [
             [
              0,
              "#0d0887"
             ],
             [
              0.1111111111111111,
              "#46039f"
             ],
             [
              0.2222222222222222,
              "#7201a8"
             ],
             [
              0.3333333333333333,
              "#9c179e"
             ],
             [
              0.4444444444444444,
              "#bd3786"
             ],
             [
              0.5555555555555556,
              "#d8576b"
             ],
             [
              0.6666666666666666,
              "#ed7953"
             ],
             [
              0.7777777777777778,
              "#fb9f3a"
             ],
             [
              0.8888888888888888,
              "#fdca26"
             ],
             [
              1,
              "#f0f921"
             ]
            ],
            "type": "histogram2dcontour"
           }
          ],
          "mesh3d": [
           {
            "colorbar": {
             "outlinewidth": 0,
             "ticks": ""
            },
            "type": "mesh3d"
           }
          ],
          "parcoords": [
           {
            "line": {
             "colorbar": {
              "outlinewidth": 0,
              "ticks": ""
             }
            },
            "type": "parcoords"
           }
          ],
          "pie": [
           {
            "automargin": true,
            "type": "pie"
           }
          ],
          "scatter": [
           {
            "fillpattern": {
             "fillmode": "overlay",
             "size": 10,
             "solidity": 0.2
            },
            "type": "scatter"
           }
          ],
          "scatter3d": [
           {
            "line": {
             "colorbar": {
              "outlinewidth": 0,
              "ticks": ""
             }
            },
            "marker": {
             "colorbar": {
              "outlinewidth": 0,
              "ticks": ""
             }
            },
            "type": "scatter3d"
           }
          ],
          "scattercarpet": [
           {
            "marker": {
             "colorbar": {
              "outlinewidth": 0,
              "ticks": ""
             }
            },
            "type": "scattercarpet"
           }
          ],
          "scattergeo": [
           {
            "marker": {
             "colorbar": {
              "outlinewidth": 0,
              "ticks": ""
             }
            },
            "type": "scattergeo"
           }
          ],
          "scattergl": [
           {
            "marker": {
             "colorbar": {
              "outlinewidth": 0,
              "ticks": ""
             }
            },
            "type": "scattergl"
           }
          ],
          "scattermapbox": [
           {
            "marker": {
             "colorbar": {
              "outlinewidth": 0,
              "ticks": ""
             }
            },
            "type": "scattermapbox"
           }
          ],
          "scatterpolar": [
           {
            "marker": {
             "colorbar": {
              "outlinewidth": 0,
              "ticks": ""
             }
            },
            "type": "scatterpolar"
           }
          ],
          "scatterpolargl": [
           {
            "marker": {
             "colorbar": {
              "outlinewidth": 0,
              "ticks": ""
             }
            },
            "type": "scatterpolargl"
           }
          ],
          "scatterternary": [
           {
            "marker": {
             "colorbar": {
              "outlinewidth": 0,
              "ticks": ""
             }
            },
            "type": "scatterternary"
           }
          ],
          "surface": [
           {
            "colorbar": {
             "outlinewidth": 0,
             "ticks": ""
            },
            "colorscale": [
             [
              0,
              "#0d0887"
             ],
             [
              0.1111111111111111,
              "#46039f"
             ],
             [
              0.2222222222222222,
              "#7201a8"
             ],
             [
              0.3333333333333333,
              "#9c179e"
             ],
             [
              0.4444444444444444,
              "#bd3786"
             ],
             [
              0.5555555555555556,
              "#d8576b"
             ],
             [
              0.6666666666666666,
              "#ed7953"
             ],
             [
              0.7777777777777778,
              "#fb9f3a"
             ],
             [
              0.8888888888888888,
              "#fdca26"
             ],
             [
              1,
              "#f0f921"
             ]
            ],
            "type": "surface"
           }
          ],
          "table": [
           {
            "cells": {
             "fill": {
              "color": "#EBF0F8"
             },
             "line": {
              "color": "white"
             }
            },
            "header": {
             "fill": {
              "color": "#C8D4E3"
             },
             "line": {
              "color": "white"
             }
            },
            "type": "table"
           }
          ]
         },
         "layout": {
          "annotationdefaults": {
           "arrowcolor": "#2a3f5f",
           "arrowhead": 0,
           "arrowwidth": 1
          },
          "autotypenumbers": "strict",
          "coloraxis": {
           "colorbar": {
            "outlinewidth": 0,
            "ticks": ""
           }
          },
          "colorscale": {
           "diverging": [
            [
             0,
             "#8e0152"
            ],
            [
             0.1,
             "#c51b7d"
            ],
            [
             0.2,
             "#de77ae"
            ],
            [
             0.3,
             "#f1b6da"
            ],
            [
             0.4,
             "#fde0ef"
            ],
            [
             0.5,
             "#f7f7f7"
            ],
            [
             0.6,
             "#e6f5d0"
            ],
            [
             0.7,
             "#b8e186"
            ],
            [
             0.8,
             "#7fbc41"
            ],
            [
             0.9,
             "#4d9221"
            ],
            [
             1,
             "#276419"
            ]
           ],
           "sequential": [
            [
             0,
             "#0d0887"
            ],
            [
             0.1111111111111111,
             "#46039f"
            ],
            [
             0.2222222222222222,
             "#7201a8"
            ],
            [
             0.3333333333333333,
             "#9c179e"
            ],
            [
             0.4444444444444444,
             "#bd3786"
            ],
            [
             0.5555555555555556,
             "#d8576b"
            ],
            [
             0.6666666666666666,
             "#ed7953"
            ],
            [
             0.7777777777777778,
             "#fb9f3a"
            ],
            [
             0.8888888888888888,
             "#fdca26"
            ],
            [
             1,
             "#f0f921"
            ]
           ],
           "sequentialminus": [
            [
             0,
             "#0d0887"
            ],
            [
             0.1111111111111111,
             "#46039f"
            ],
            [
             0.2222222222222222,
             "#7201a8"
            ],
            [
             0.3333333333333333,
             "#9c179e"
            ],
            [
             0.4444444444444444,
             "#bd3786"
            ],
            [
             0.5555555555555556,
             "#d8576b"
            ],
            [
             0.6666666666666666,
             "#ed7953"
            ],
            [
             0.7777777777777778,
             "#fb9f3a"
            ],
            [
             0.8888888888888888,
             "#fdca26"
            ],
            [
             1,
             "#f0f921"
            ]
           ]
          },
          "colorway": [
           "#636efa",
           "#EF553B",
           "#00cc96",
           "#ab63fa",
           "#FFA15A",
           "#19d3f3",
           "#FF6692",
           "#B6E880",
           "#FF97FF",
           "#FECB52"
          ],
          "font": {
           "color": "#2a3f5f"
          },
          "geo": {
           "bgcolor": "white",
           "lakecolor": "white",
           "landcolor": "#E5ECF6",
           "showlakes": true,
           "showland": true,
           "subunitcolor": "white"
          },
          "hoverlabel": {
           "align": "left"
          },
          "hovermode": "closest",
          "mapbox": {
           "style": "light"
          },
          "paper_bgcolor": "white",
          "plot_bgcolor": "#E5ECF6",
          "polar": {
           "angularaxis": {
            "gridcolor": "white",
            "linecolor": "white",
            "ticks": ""
           },
           "bgcolor": "#E5ECF6",
           "radialaxis": {
            "gridcolor": "white",
            "linecolor": "white",
            "ticks": ""
           }
          },
          "scene": {
           "xaxis": {
            "backgroundcolor": "#E5ECF6",
            "gridcolor": "white",
            "gridwidth": 2,
            "linecolor": "white",
            "showbackground": true,
            "ticks": "",
            "zerolinecolor": "white"
           },
           "yaxis": {
            "backgroundcolor": "#E5ECF6",
            "gridcolor": "white",
            "gridwidth": 2,
            "linecolor": "white",
            "showbackground": true,
            "ticks": "",
            "zerolinecolor": "white"
           },
           "zaxis": {
            "backgroundcolor": "#E5ECF6",
            "gridcolor": "white",
            "gridwidth": 2,
            "linecolor": "white",
            "showbackground": true,
            "ticks": "",
            "zerolinecolor": "white"
           }
          },
          "shapedefaults": {
           "line": {
            "color": "#2a3f5f"
           }
          },
          "ternary": {
           "aaxis": {
            "gridcolor": "white",
            "linecolor": "white",
            "ticks": ""
           },
           "baxis": {
            "gridcolor": "white",
            "linecolor": "white",
            "ticks": ""
           },
           "bgcolor": "#E5ECF6",
           "caxis": {
            "gridcolor": "white",
            "linecolor": "white",
            "ticks": ""
           }
          },
          "title": {
           "x": 0.05
          },
          "xaxis": {
           "automargin": true,
           "gridcolor": "white",
           "linecolor": "white",
           "ticks": "",
           "title": {
            "standoff": 15
           },
           "zerolinecolor": "white",
           "zerolinewidth": 2
          },
          "yaxis": {
           "automargin": true,
           "gridcolor": "white",
           "linecolor": "white",
           "ticks": "",
           "title": {
            "standoff": 15
           },
           "zerolinecolor": "white",
           "zerolinewidth": 2
          }
         }
        },
        "width": 1100,
        "xaxis": {
         "linecolor": "black",
         "linewidth": 5,
         "showline": true,
         "ticklen": 5,
         "ticks": "inside",
         "tickwidth": 4,
         "title": {
          "text": ""
         }
        },
        "yaxis": {
         "linecolor": "black",
         "linewidth": 5,
         "showline": true,
         "ticklen": 5,
         "ticks": "inside",
         "tickwidth": 4,
         "title": {
          "text": ""
         }
        }
       }
      }
     },
     "metadata": {},
     "output_type": "display_data"
    }
   ],
   "source": [
    "corr_matrix(df_MP, magentic_properties, 1100, 800, 18)"
   ]
  },
  {
   "cell_type": "markdown",
   "metadata": {},
   "source": [
    "None of them correlate to TC probably due to the fact that the majority of them are not magentic anyways, although... knowing if it is magentic or not might be useful"
   ]
  },
  {
   "cell_type": "markdown",
   "metadata": {},
   "source": [
    "## Select K Best"
   ]
  },
  {
   "cell_type": "code",
   "execution_count": 33,
   "metadata": {},
   "outputs": [],
   "source": [
    "not_features = ['tc','formula_sc', 'formula', 'orig_formula_cif', 'norm_formula_sc', 'chemical_composition_sc','origin_sc', 'old_formula_sc', 'database_id', 'original_formula','chemical_composition', 'norm_formula', 'spacegroup', \n",
    "                              'crystal_system','cif', 'original_cif', 'material_id', 'band_structure','created_at',\n",
    "                              'doi','doi_bibtex','dos','exp','has', 'has_bandstructure', \n",
    "                              'icsd_ids', 'last_updated', 'magnetic_type', 'ntask_ids',\n",
    "                              'original_task_id', 'oxide_type', 'pretty_formula', 'pseudo_potential', 'reduced_cell_formula',\n",
    "                              'run_type','task_id','task_ids','unit_cell_formula','warnings','ordering','magmoms','origin','cif_before_synthetic_doping',\n",
    "                              'Reason for exclusion','graph','crystal_temp','no_crystal_temp_given','point_group',\"weight\",'sc_class_name','magnetic_type_named',\n",
    "                              \"energy_per_atom\", \"energy\", \"total_magnetization\", \"total_magnetization_normalized_vol\", \"total_magnetization_normalized_formula_units\"]\n",
    "\n",
    "df_features_all = df_MP.drop(not_features, axis=1)\n",
    "\n",
    "df_features_all_other = df_features_all[df_MP['sc_class'] == 'Other']\n",
    "df_Tc_other = df_MP_other['tc']"
   ]
  },
  {
   "cell_type": "code",
   "execution_count": 34,
   "metadata": {},
   "outputs": [],
   "source": [
    "df_features_all_other = df_features_all_other.drop(['sc_class'], axis=1)\n",
    "df_features_all = df_features_all.drop(['sc_class'], axis=1)"
   ]
  },
  {
   "cell_type": "code",
   "execution_count": 35,
   "metadata": {},
   "outputs": [
    {
     "data": {
      "text/plain": [
       "39"
      ]
     },
     "execution_count": 35,
     "metadata": {},
     "output_type": "execute_result"
    }
   ],
   "source": [
    "len(df_features_all.columns)"
   ]
  },
  {
   "cell_type": "code",
   "execution_count": 36,
   "metadata": {},
   "outputs": [
    {
     "data": {
      "text/html": [
       "<div>\n",
       "<style scoped>\n",
       "    .dataframe tbody tr th:only-of-type {\n",
       "        vertical-align: middle;\n",
       "    }\n",
       "\n",
       "    .dataframe tbody tr th {\n",
       "        vertical-align: top;\n",
       "    }\n",
       "\n",
       "    .dataframe thead th {\n",
       "        text-align: right;\n",
       "    }\n",
       "</style>\n",
       "<table border=\"1\" class=\"dataframe\">\n",
       "  <thead>\n",
       "    <tr style=\"text-align: right;\">\n",
       "      <th></th>\n",
       "      <th>num_elements_sc</th>\n",
       "      <th>lata</th>\n",
       "      <th>latb</th>\n",
       "      <th>latc</th>\n",
       "      <th>density</th>\n",
       "      <th>e_above_hull</th>\n",
       "      <th>efermi</th>\n",
       "      <th>final_energy</th>\n",
       "      <th>final_energy_per_atom</th>\n",
       "      <th>formation_energy_per_atom</th>\n",
       "      <th>nsites</th>\n",
       "      <th>cell_volume</th>\n",
       "      <th>exchange_symmetry</th>\n",
       "      <th>true_total_magnetization</th>\n",
       "      <th>average_atomic_weight</th>\n",
       "    </tr>\n",
       "  </thead>\n",
       "  <tbody>\n",
       "    <tr>\n",
       "      <th>0</th>\n",
       "      <td>4</td>\n",
       "      <td>4.438672</td>\n",
       "      <td>4.438672</td>\n",
       "      <td>6.030548</td>\n",
       "      <td>7.295677</td>\n",
       "      <td>0.000000</td>\n",
       "      <td>4.015543</td>\n",
       "      <td>-24.862722</td>\n",
       "      <td>-4.972544</td>\n",
       "      <td>-0.713482</td>\n",
       "      <td>5</td>\n",
       "      <td>101.453048</td>\n",
       "      <td>139</td>\n",
       "      <td>0.001259</td>\n",
       "      <td>445.768964</td>\n",
       "    </tr>\n",
       "    <tr>\n",
       "      <th>1</th>\n",
       "      <td>3</td>\n",
       "      <td>4.537670</td>\n",
       "      <td>4.537670</td>\n",
       "      <td>4.537670</td>\n",
       "      <td>6.190810</td>\n",
       "      <td>0.000000</td>\n",
       "      <td>6.066451</td>\n",
       "      <td>-7.725196</td>\n",
       "      <td>-3.862598</td>\n",
       "      <td>-0.497162</td>\n",
       "      <td>2</td>\n",
       "      <td>66.066855</td>\n",
       "      <td>225</td>\n",
       "      <td>0.000000</td>\n",
       "      <td>244.683730</td>\n",
       "    </tr>\n",
       "    <tr>\n",
       "      <th>2</th>\n",
       "      <td>4</td>\n",
       "      <td>4.438672</td>\n",
       "      <td>4.438672</td>\n",
       "      <td>6.030548</td>\n",
       "      <td>7.295677</td>\n",
       "      <td>0.000000</td>\n",
       "      <td>4.015543</td>\n",
       "      <td>-24.862722</td>\n",
       "      <td>-4.972544</td>\n",
       "      <td>-0.713482</td>\n",
       "      <td>5</td>\n",
       "      <td>101.453048</td>\n",
       "      <td>139</td>\n",
       "      <td>0.001259</td>\n",
       "      <td>445.884820</td>\n",
       "    </tr>\n",
       "    <tr>\n",
       "      <th>3</th>\n",
       "      <td>3</td>\n",
       "      <td>4.443633</td>\n",
       "      <td>4.443633</td>\n",
       "      <td>4.443633</td>\n",
       "      <td>6.488053</td>\n",
       "      <td>0.000000</td>\n",
       "      <td>6.314060</td>\n",
       "      <td>-6.472687</td>\n",
       "      <td>-3.236343</td>\n",
       "      <td>-0.499851</td>\n",
       "      <td>2</td>\n",
       "      <td>62.043965</td>\n",
       "      <td>225</td>\n",
       "      <td>0.000182</td>\n",
       "      <td>241.723020</td>\n",
       "    </tr>\n",
       "    <tr>\n",
       "      <th>4</th>\n",
       "      <td>3</td>\n",
       "      <td>6.771439</td>\n",
       "      <td>6.771439</td>\n",
       "      <td>6.771439</td>\n",
       "      <td>4.139450</td>\n",
       "      <td>0.013441</td>\n",
       "      <td>5.202543</td>\n",
       "      <td>-55.239871</td>\n",
       "      <td>-4.603323</td>\n",
       "      <td>-0.299456</td>\n",
       "      <td>12</td>\n",
       "      <td>310.486636</td>\n",
       "      <td>212</td>\n",
       "      <td>0.000000</td>\n",
       "      <td>837.818160</td>\n",
       "    </tr>\n",
       "    <tr>\n",
       "      <th>...</th>\n",
       "      <td>...</td>\n",
       "      <td>...</td>\n",
       "      <td>...</td>\n",
       "      <td>...</td>\n",
       "      <td>...</td>\n",
       "      <td>...</td>\n",
       "      <td>...</td>\n",
       "      <td>...</td>\n",
       "      <td>...</td>\n",
       "      <td>...</td>\n",
       "      <td>...</td>\n",
       "      <td>...</td>\n",
       "      <td>...</td>\n",
       "      <td>...</td>\n",
       "      <td>...</td>\n",
       "    </tr>\n",
       "    <tr>\n",
       "      <th>5768</th>\n",
       "      <td>2</td>\n",
       "      <td>3.585441</td>\n",
       "      <td>3.585441</td>\n",
       "      <td>3.585441</td>\n",
       "      <td>5.559415</td>\n",
       "      <td>0.000000</td>\n",
       "      <td>3.144927</td>\n",
       "      <td>-8.459703</td>\n",
       "      <td>-4.229851</td>\n",
       "      <td>-0.366744</td>\n",
       "      <td>2</td>\n",
       "      <td>46.092232</td>\n",
       "      <td>221</td>\n",
       "      <td>0.054521</td>\n",
       "      <td>154.314850</td>\n",
       "    </tr>\n",
       "    <tr>\n",
       "      <th>5769</th>\n",
       "      <td>1</td>\n",
       "      <td>3.878974</td>\n",
       "      <td>3.878974</td>\n",
       "      <td>9.704523</td>\n",
       "      <td>7.005867</td>\n",
       "      <td>0.000000</td>\n",
       "      <td>1.419946</td>\n",
       "      <td>-4.618825</td>\n",
       "      <td>-1.539608</td>\n",
       "      <td>0.000000</td>\n",
       "      <td>3</td>\n",
       "      <td>123.042457</td>\n",
       "      <td>166</td>\n",
       "      <td>0.001515</td>\n",
       "      <td>519.120000</td>\n",
       "    </tr>\n",
       "    <tr>\n",
       "      <th>5770</th>\n",
       "      <td>1</td>\n",
       "      <td>2.626730</td>\n",
       "      <td>2.626731</td>\n",
       "      <td>5.207234</td>\n",
       "      <td>6.981485</td>\n",
       "      <td>0.000000</td>\n",
       "      <td>2.851722</td>\n",
       "      <td>-2.519487</td>\n",
       "      <td>-1.259744</td>\n",
       "      <td>0.000000</td>\n",
       "      <td>2</td>\n",
       "      <td>31.114928</td>\n",
       "      <td>194</td>\n",
       "      <td>0.000637</td>\n",
       "      <td>130.818000</td>\n",
       "    </tr>\n",
       "    <tr>\n",
       "      <th>5771</th>\n",
       "      <td>2</td>\n",
       "      <td>5.244424</td>\n",
       "      <td>5.244424</td>\n",
       "      <td>5.244424</td>\n",
       "      <td>7.229958</td>\n",
       "      <td>0.000000</td>\n",
       "      <td>3.547729</td>\n",
       "      <td>-23.949691</td>\n",
       "      <td>-3.991615</td>\n",
       "      <td>-0.302553</td>\n",
       "      <td>6</td>\n",
       "      <td>101.994903</td>\n",
       "      <td>227</td>\n",
       "      <td>1.821118</td>\n",
       "      <td>444.084000</td>\n",
       "    </tr>\n",
       "    <tr>\n",
       "      <th>5772</th>\n",
       "      <td>1</td>\n",
       "      <td>3.239232</td>\n",
       "      <td>3.239232</td>\n",
       "      <td>5.172220</td>\n",
       "      <td>6.446092</td>\n",
       "      <td>0.000000</td>\n",
       "      <td>4.328531</td>\n",
       "      <td>-17.095401</td>\n",
       "      <td>-8.547701</td>\n",
       "      <td>0.000000</td>\n",
       "      <td>2</td>\n",
       "      <td>46.999333</td>\n",
       "      <td>194</td>\n",
       "      <td>0.000534</td>\n",
       "      <td>182.448000</td>\n",
       "    </tr>\n",
       "  </tbody>\n",
       "</table>\n",
       "<p>5773 rows × 15 columns</p>\n",
       "</div>"
      ],
      "text/plain": [
       "      num_elements_sc      lata      latb      latc   density  e_above_hull  \\\n",
       "0                   4  4.438672  4.438672  6.030548  7.295677      0.000000   \n",
       "1                   3  4.537670  4.537670  4.537670  6.190810      0.000000   \n",
       "2                   4  4.438672  4.438672  6.030548  7.295677      0.000000   \n",
       "3                   3  4.443633  4.443633  4.443633  6.488053      0.000000   \n",
       "4                   3  6.771439  6.771439  6.771439  4.139450      0.013441   \n",
       "...               ...       ...       ...       ...       ...           ...   \n",
       "5768                2  3.585441  3.585441  3.585441  5.559415      0.000000   \n",
       "5769                1  3.878974  3.878974  9.704523  7.005867      0.000000   \n",
       "5770                1  2.626730  2.626731  5.207234  6.981485      0.000000   \n",
       "5771                2  5.244424  5.244424  5.244424  7.229958      0.000000   \n",
       "5772                1  3.239232  3.239232  5.172220  6.446092      0.000000   \n",
       "\n",
       "        efermi  final_energy  final_energy_per_atom  \\\n",
       "0     4.015543    -24.862722              -4.972544   \n",
       "1     6.066451     -7.725196              -3.862598   \n",
       "2     4.015543    -24.862722              -4.972544   \n",
       "3     6.314060     -6.472687              -3.236343   \n",
       "4     5.202543    -55.239871              -4.603323   \n",
       "...        ...           ...                    ...   \n",
       "5768  3.144927     -8.459703              -4.229851   \n",
       "5769  1.419946     -4.618825              -1.539608   \n",
       "5770  2.851722     -2.519487              -1.259744   \n",
       "5771  3.547729    -23.949691              -3.991615   \n",
       "5772  4.328531    -17.095401              -8.547701   \n",
       "\n",
       "      formation_energy_per_atom  nsites  cell_volume  exchange_symmetry  \\\n",
       "0                     -0.713482       5   101.453048                139   \n",
       "1                     -0.497162       2    66.066855                225   \n",
       "2                     -0.713482       5   101.453048                139   \n",
       "3                     -0.499851       2    62.043965                225   \n",
       "4                     -0.299456      12   310.486636                212   \n",
       "...                         ...     ...          ...                ...   \n",
       "5768                  -0.366744       2    46.092232                221   \n",
       "5769                   0.000000       3   123.042457                166   \n",
       "5770                   0.000000       2    31.114928                194   \n",
       "5771                  -0.302553       6   101.994903                227   \n",
       "5772                   0.000000       2    46.999333                194   \n",
       "\n",
       "      true_total_magnetization  average_atomic_weight  \n",
       "0                     0.001259             445.768964  \n",
       "1                     0.000000             244.683730  \n",
       "2                     0.001259             445.884820  \n",
       "3                     0.000182             241.723020  \n",
       "4                     0.000000             837.818160  \n",
       "...                        ...                    ...  \n",
       "5768                  0.054521             154.314850  \n",
       "5769                  0.001515             519.120000  \n",
       "5770                  0.000637             130.818000  \n",
       "5771                  1.821118             444.084000  \n",
       "5772                  0.000534             182.448000  \n",
       "\n",
       "[5773 rows x 15 columns]"
      ]
     },
     "execution_count": 36,
     "metadata": {},
     "output_type": "execute_result"
    }
   ],
   "source": [
    "from sklearn.feature_selection import SelectKBest, mutual_info_regression\n",
    "\n",
    "selector = SelectKBest(mutual_info_regression, k=15)\n",
    "selector.fit(df_features_all_other, df_Tc_other)\n",
    "# Get columns to keep and create new dataframe with those only\n",
    "cols_idxs = selector.get_support(indices=True)\n",
    "features_df_new = df_features_all.iloc[:,cols_idxs]\n",
    "features_df_new"
   ]
  },
  {
   "cell_type": "code",
   "execution_count": 37,
   "metadata": {},
   "outputs": [
    {
     "data": {
      "text/plain": [
       "['num_elements_sc',\n",
       " 'lata',\n",
       " 'latb',\n",
       " 'latc',\n",
       " 'density',\n",
       " 'e_above_hull',\n",
       " 'efermi',\n",
       " 'final_energy',\n",
       " 'final_energy_per_atom',\n",
       " 'formation_energy_per_atom',\n",
       " 'nsites',\n",
       " 'cell_volume',\n",
       " 'exchange_symmetry',\n",
       " 'true_total_magnetization',\n",
       " 'average_atomic_weight',\n",
       " 'totreldiff']"
      ]
     },
     "execution_count": 37,
     "metadata": {},
     "output_type": "execute_result"
    }
   ],
   "source": [
    "list_of_colums = features_df_new.columns.tolist()\n",
    "list_of_colums.extend([\"totreldiff\"])\n",
    "list_of_colums"
   ]
  },
  {
   "cell_type": "code",
   "execution_count": 56,
   "metadata": {},
   "outputs": [
    {
     "data": {
      "application/vnd.plotly.v1+json": {
       "config": {
        "plotlyServerURL": "https://plot.ly"
       },
       "data": [
        {
         "colorbar": {
          "ticktext": [
           -1,
           -0.5,
           0,
           0.5,
           1
          ],
          "tickvals": [
           -1,
           -0.5,
           0,
           0.5,
           1
          ],
          "title": {
           "side": "right",
           "text": "Pearson Coefficient"
          }
         },
         "colorscale": [
          [
           0,
           "#440154"
          ],
          [
           0.1111111111111111,
           "#482878"
          ],
          [
           0.2222222222222222,
           "#3e4989"
          ],
          [
           0.3333333333333333,
           "#31688e"
          ],
          [
           0.4444444444444444,
           "#26828e"
          ],
          [
           0.5555555555555556,
           "#1f9e89"
          ],
          [
           0.6666666666666666,
           "#35b779"
          ],
          [
           0.7777777777777778,
           "#6ece58"
          ],
          [
           0.8888888888888888,
           "#b5de2b"
          ],
          [
           1,
           "#fde725"
          ]
         ],
         "text": [
          [
           1,
           -0.07,
           -0.15,
           0.4,
           -0.25,
           0.03,
           -0.28,
           -0.16,
           0.06,
           -0.57,
           0.18,
           0.06,
           -0.34,
           0.15,
           -0.01,
           0.12,
           0.46,
           0.46,
           0.46,
           0.46
          ],
          [
           -0.07,
           1,
           0.74,
           0.18,
           -0.01,
           0.04,
           -0.1,
           -0.57,
           0.14,
           0.08,
           0.64,
           0.7,
           0.09,
           0.03,
           0.66,
           -0.11,
           -0.1,
           -0.1,
           -0.1,
           -0.1
          ],
          [
           -0.15,
           0.74,
           1,
           0.26,
           0.04,
           0.03,
           -0.04,
           -0.67,
           0.08,
           0.1,
           0.7,
           0.75,
           -0.12,
           0.07,
           0.74,
           -0.18,
           -0.16,
           -0.16,
           -0.16,
           -0.16
          ],
          [
           0.4,
           0.18,
           0.26,
           1,
           -0.16,
           0.1,
           -0.33,
           -0.53,
           0.16,
           -0.35,
           0.59,
           0.57,
           -0.47,
           0.12,
           0.49,
           -0.17,
           0.33,
           0.33,
           0.33,
           0.33
          ],
          [
           -0.25,
           -0.01,
           0.04,
           -0.16,
           1,
           -0.06,
           0.45,
           0,
           -0.42,
           0.23,
           -0.1,
           -0.09,
           0.11,
           -0.07,
           0.23,
           -0.05,
           -0.21,
           -0.21,
           -0.21,
           -0.21
          ],
          [
           0.03,
           0.04,
           0.03,
           0.1,
           -0.06,
           1,
           -0.15,
           0.02,
           -0.01,
           0.15,
           -0.03,
           0.09,
           -0.02,
           0.15,
           -0.02,
           0.05,
           0.01,
           0.01,
           0.01,
           0.01
          ],
          [
           -0.28,
           -0.1,
           -0.04,
           -0.33,
           0.45,
           -0.15,
           1,
           0.07,
           -0.38,
           0.33,
           -0.17,
           -0.18,
           0.23,
           -0.14,
           0.01,
           -0.02,
           -0.32,
           -0.32,
           -0.32,
           -0.32
          ],
          [
           -0.16,
           -0.57,
           -0.67,
           -0.53,
           0,
           0.02,
           0.07,
           1,
           0.19,
           0.2,
           -0.94,
           -0.76,
           0.27,
           -0.2,
           -0.76,
           0.18,
           -0.07,
           -0.07,
           -0.07,
           -0.07
          ],
          [
           0.06,
           0.14,
           0.08,
           0.16,
           -0.42,
           -0.01,
           -0.38,
           0.19,
           1,
           0.03,
           0.05,
           0.14,
           -0.04,
           -0.05,
           0.01,
           -0.1,
           0.08,
           0.08,
           0.08,
           0.08
          ],
          [
           -0.57,
           0.08,
           0.1,
           -0.35,
           0.23,
           0.15,
           0.33,
           0.2,
           0.03,
           1,
           -0.18,
           -0.06,
           0.31,
           -0.13,
           0.01,
           0.05,
           -0.34,
           -0.34,
           -0.34,
           -0.34
          ],
          [
           0.18,
           0.64,
           0.7,
           0.59,
           -0.1,
           -0.03,
           -0.17,
           -0.94,
           0.05,
           -0.18,
           1,
           0.86,
           -0.28,
           0.17,
           0.8,
           -0.2,
           0.11,
           0.11,
           0.11,
           0.11
          ],
          [
           0.06,
           0.7,
           0.75,
           0.57,
           -0.09,
           0.09,
           -0.18,
           -0.76,
           0.14,
           -0.06,
           0.86,
           1,
           -0.23,
           0.12,
           0.85,
           -0.17,
           0.04,
           0.04,
           0.04,
           0.04
          ],
          [
           -0.34,
           0.09,
           -0.12,
           -0.47,
           0.11,
           -0.02,
           0.23,
           0.27,
           -0.04,
           0.31,
           -0.28,
           -0.23,
           1,
           -0.12,
           -0.17,
           0.08,
           -0.22,
           -0.22,
           -0.22,
           -0.22
          ],
          [
           0.15,
           0.03,
           0.07,
           0.12,
           -0.07,
           0.15,
           -0.14,
           -0.2,
           -0.05,
           -0.13,
           0.17,
           0.12,
           -0.12,
           1,
           0.07,
           0.03,
           0.04,
           0.04,
           0.04,
           0.04
          ],
          [
           -0.01,
           0.66,
           0.74,
           0.49,
           0.23,
           -0.02,
           0.01,
           -0.76,
           0.01,
           0.01,
           0.8,
           0.85,
           -0.17,
           0.07,
           1,
           -0.19,
           -0.01,
           -0.01,
           -0.01,
           -0.01
          ],
          [
           0.12,
           -0.11,
           -0.18,
           -0.17,
           -0.05,
           0.05,
           -0.02,
           0.18,
           -0.1,
           0.05,
           -0.2,
           -0.17,
           0.08,
           0.03,
           -0.19,
           1,
           0.05,
           0.05,
           0.05,
           0.05
          ],
          [
           0.46,
           -0.1,
           -0.16,
           0.33,
           -0.21,
           0.01,
           -0.32,
           -0.07,
           0.08,
           -0.34,
           0.11,
           0.04,
           -0.22,
           0.04,
           -0.01,
           0.05,
           1,
           1,
           1,
           1
          ],
          [
           0.46,
           -0.1,
           -0.16,
           0.33,
           -0.21,
           0.01,
           -0.32,
           -0.07,
           0.08,
           -0.34,
           0.11,
           0.04,
           -0.22,
           0.04,
           -0.01,
           0.05,
           1,
           1,
           1,
           1
          ],
          [
           0.46,
           -0.1,
           -0.16,
           0.33,
           -0.21,
           0.01,
           -0.32,
           -0.07,
           0.08,
           -0.34,
           0.11,
           0.04,
           -0.22,
           0.04,
           -0.01,
           0.05,
           1,
           1,
           1,
           1
          ],
          [
           0.46,
           -0.1,
           -0.16,
           0.33,
           -0.21,
           0.01,
           -0.32,
           -0.07,
           0.08,
           -0.34,
           0.11,
           0.04,
           -0.22,
           0.04,
           -0.01,
           0.05,
           1,
           1,
           1,
           1
          ]
         ],
         "textfont": {
          "size": 18
         },
         "texttemplate": "%{text}",
         "type": "heatmap",
         "x": [
          "num elements sc",
          "lata",
          "latb",
          "latc",
          "density",
          "e above hull",
          "efermi",
          "final energy",
          "final energy per atom",
          "formation energy per atom",
          "nsites",
          "cell volume",
          "exchange symmetry",
          "true total magnetization",
          "average atomic weight",
          "totreldiff",
          "tc",
          "tc",
          "tc",
          "tc"
         ],
         "y": [
          "num elements sc",
          "lata",
          "latb",
          "latc",
          "density",
          "e above hull",
          "efermi",
          "final energy",
          "final energy per atom",
          "formation energy per atom",
          "nsites",
          "cell volume",
          "exchange symmetry",
          "true total magnetization",
          "average atomic weight",
          "totreldiff",
          "tc",
          "tc",
          "tc",
          "tc"
         ],
         "z": [
          [
           1,
           -0.07,
           -0.15,
           0.4,
           -0.25,
           0.03,
           -0.28,
           -0.16,
           0.06,
           -0.57,
           0.18,
           0.06,
           -0.34,
           0.15,
           -0.01,
           0.12,
           0.46,
           0.46,
           0.46,
           0.46
          ],
          [
           -0.07,
           1,
           0.74,
           0.18,
           -0.01,
           0.04,
           -0.1,
           -0.57,
           0.14,
           0.08,
           0.64,
           0.7,
           0.09,
           0.03,
           0.66,
           -0.11,
           -0.1,
           -0.1,
           -0.1,
           -0.1
          ],
          [
           -0.15,
           0.74,
           1,
           0.26,
           0.04,
           0.03,
           -0.04,
           -0.67,
           0.08,
           0.1,
           0.7,
           0.75,
           -0.12,
           0.07,
           0.74,
           -0.18,
           -0.16,
           -0.16,
           -0.16,
           -0.16
          ],
          [
           0.4,
           0.18,
           0.26,
           1,
           -0.16,
           0.1,
           -0.33,
           -0.53,
           0.16,
           -0.35,
           0.59,
           0.57,
           -0.47,
           0.12,
           0.49,
           -0.17,
           0.33,
           0.33,
           0.33,
           0.33
          ],
          [
           -0.25,
           -0.01,
           0.04,
           -0.16,
           1,
           -0.06,
           0.45,
           0,
           -0.42,
           0.23,
           -0.1,
           -0.09,
           0.11,
           -0.07,
           0.23,
           -0.05,
           -0.21,
           -0.21,
           -0.21,
           -0.21
          ],
          [
           0.03,
           0.04,
           0.03,
           0.1,
           -0.06,
           1,
           -0.15,
           0.02,
           -0.01,
           0.15,
           -0.03,
           0.09,
           -0.02,
           0.15,
           -0.02,
           0.05,
           0.01,
           0.01,
           0.01,
           0.01
          ],
          [
           -0.28,
           -0.1,
           -0.04,
           -0.33,
           0.45,
           -0.15,
           1,
           0.07,
           -0.38,
           0.33,
           -0.17,
           -0.18,
           0.23,
           -0.14,
           0.01,
           -0.02,
           -0.32,
           -0.32,
           -0.32,
           -0.32
          ],
          [
           -0.16,
           -0.57,
           -0.67,
           -0.53,
           0,
           0.02,
           0.07,
           1,
           0.19,
           0.2,
           -0.94,
           -0.76,
           0.27,
           -0.2,
           -0.76,
           0.18,
           -0.07,
           -0.07,
           -0.07,
           -0.07
          ],
          [
           0.06,
           0.14,
           0.08,
           0.16,
           -0.42,
           -0.01,
           -0.38,
           0.19,
           1,
           0.03,
           0.05,
           0.14,
           -0.04,
           -0.05,
           0.01,
           -0.1,
           0.08,
           0.08,
           0.08,
           0.08
          ],
          [
           -0.57,
           0.08,
           0.1,
           -0.35,
           0.23,
           0.15,
           0.33,
           0.2,
           0.03,
           1,
           -0.18,
           -0.06,
           0.31,
           -0.13,
           0.01,
           0.05,
           -0.34,
           -0.34,
           -0.34,
           -0.34
          ],
          [
           0.18,
           0.64,
           0.7,
           0.59,
           -0.1,
           -0.03,
           -0.17,
           -0.94,
           0.05,
           -0.18,
           1,
           0.86,
           -0.28,
           0.17,
           0.8,
           -0.2,
           0.11,
           0.11,
           0.11,
           0.11
          ],
          [
           0.06,
           0.7,
           0.75,
           0.57,
           -0.09,
           0.09,
           -0.18,
           -0.76,
           0.14,
           -0.06,
           0.86,
           1,
           -0.23,
           0.12,
           0.85,
           -0.17,
           0.04,
           0.04,
           0.04,
           0.04
          ],
          [
           -0.34,
           0.09,
           -0.12,
           -0.47,
           0.11,
           -0.02,
           0.23,
           0.27,
           -0.04,
           0.31,
           -0.28,
           -0.23,
           1,
           -0.12,
           -0.17,
           0.08,
           -0.22,
           -0.22,
           -0.22,
           -0.22
          ],
          [
           0.15,
           0.03,
           0.07,
           0.12,
           -0.07,
           0.15,
           -0.14,
           -0.2,
           -0.05,
           -0.13,
           0.17,
           0.12,
           -0.12,
           1,
           0.07,
           0.03,
           0.04,
           0.04,
           0.04,
           0.04
          ],
          [
           -0.01,
           0.66,
           0.74,
           0.49,
           0.23,
           -0.02,
           0.01,
           -0.76,
           0.01,
           0.01,
           0.8,
           0.85,
           -0.17,
           0.07,
           1,
           -0.19,
           -0.01,
           -0.01,
           -0.01,
           -0.01
          ],
          [
           0.12,
           -0.11,
           -0.18,
           -0.17,
           -0.05,
           0.05,
           -0.02,
           0.18,
           -0.1,
           0.05,
           -0.2,
           -0.17,
           0.08,
           0.03,
           -0.19,
           1,
           0.05,
           0.05,
           0.05,
           0.05
          ],
          [
           0.46,
           -0.1,
           -0.16,
           0.33,
           -0.21,
           0.01,
           -0.32,
           -0.07,
           0.08,
           -0.34,
           0.11,
           0.04,
           -0.22,
           0.04,
           -0.01,
           0.05,
           1,
           1,
           1,
           1
          ],
          [
           0.46,
           -0.1,
           -0.16,
           0.33,
           -0.21,
           0.01,
           -0.32,
           -0.07,
           0.08,
           -0.34,
           0.11,
           0.04,
           -0.22,
           0.04,
           -0.01,
           0.05,
           1,
           1,
           1,
           1
          ],
          [
           0.46,
           -0.1,
           -0.16,
           0.33,
           -0.21,
           0.01,
           -0.32,
           -0.07,
           0.08,
           -0.34,
           0.11,
           0.04,
           -0.22,
           0.04,
           -0.01,
           0.05,
           1,
           1,
           1,
           1
          ],
          [
           0.46,
           -0.1,
           -0.16,
           0.33,
           -0.21,
           0.01,
           -0.32,
           -0.07,
           0.08,
           -0.34,
           0.11,
           0.04,
           -0.22,
           0.04,
           -0.01,
           0.05,
           1,
           1,
           1,
           1
          ]
         ]
        }
       ],
       "layout": {
        "font": {
         "color": "black",
         "family": "Helvetica",
         "size": 18
        },
        "height": 900,
        "margin": {
         "b": 5,
         "l": 5,
         "r": 5,
         "t": 10
        },
        "paper_bgcolor": "white",
        "plot_bgcolor": "white",
        "template": {
         "data": {
          "bar": [
           {
            "error_x": {
             "color": "#2a3f5f"
            },
            "error_y": {
             "color": "#2a3f5f"
            },
            "marker": {
             "line": {
              "color": "#E5ECF6",
              "width": 0.5
             },
             "pattern": {
              "fillmode": "overlay",
              "size": 10,
              "solidity": 0.2
             }
            },
            "type": "bar"
           }
          ],
          "barpolar": [
           {
            "marker": {
             "line": {
              "color": "#E5ECF6",
              "width": 0.5
             },
             "pattern": {
              "fillmode": "overlay",
              "size": 10,
              "solidity": 0.2
             }
            },
            "type": "barpolar"
           }
          ],
          "carpet": [
           {
            "aaxis": {
             "endlinecolor": "#2a3f5f",
             "gridcolor": "white",
             "linecolor": "white",
             "minorgridcolor": "white",
             "startlinecolor": "#2a3f5f"
            },
            "baxis": {
             "endlinecolor": "#2a3f5f",
             "gridcolor": "white",
             "linecolor": "white",
             "minorgridcolor": "white",
             "startlinecolor": "#2a3f5f"
            },
            "type": "carpet"
           }
          ],
          "choropleth": [
           {
            "colorbar": {
             "outlinewidth": 0,
             "ticks": ""
            },
            "type": "choropleth"
           }
          ],
          "contour": [
           {
            "colorbar": {
             "outlinewidth": 0,
             "ticks": ""
            },
            "colorscale": [
             [
              0,
              "#0d0887"
             ],
             [
              0.1111111111111111,
              "#46039f"
             ],
             [
              0.2222222222222222,
              "#7201a8"
             ],
             [
              0.3333333333333333,
              "#9c179e"
             ],
             [
              0.4444444444444444,
              "#bd3786"
             ],
             [
              0.5555555555555556,
              "#d8576b"
             ],
             [
              0.6666666666666666,
              "#ed7953"
             ],
             [
              0.7777777777777778,
              "#fb9f3a"
             ],
             [
              0.8888888888888888,
              "#fdca26"
             ],
             [
              1,
              "#f0f921"
             ]
            ],
            "type": "contour"
           }
          ],
          "contourcarpet": [
           {
            "colorbar": {
             "outlinewidth": 0,
             "ticks": ""
            },
            "type": "contourcarpet"
           }
          ],
          "heatmap": [
           {
            "colorbar": {
             "outlinewidth": 0,
             "ticks": ""
            },
            "colorscale": [
             [
              0,
              "#0d0887"
             ],
             [
              0.1111111111111111,
              "#46039f"
             ],
             [
              0.2222222222222222,
              "#7201a8"
             ],
             [
              0.3333333333333333,
              "#9c179e"
             ],
             [
              0.4444444444444444,
              "#bd3786"
             ],
             [
              0.5555555555555556,
              "#d8576b"
             ],
             [
              0.6666666666666666,
              "#ed7953"
             ],
             [
              0.7777777777777778,
              "#fb9f3a"
             ],
             [
              0.8888888888888888,
              "#fdca26"
             ],
             [
              1,
              "#f0f921"
             ]
            ],
            "type": "heatmap"
           }
          ],
          "heatmapgl": [
           {
            "colorbar": {
             "outlinewidth": 0,
             "ticks": ""
            },
            "colorscale": [
             [
              0,
              "#0d0887"
             ],
             [
              0.1111111111111111,
              "#46039f"
             ],
             [
              0.2222222222222222,
              "#7201a8"
             ],
             [
              0.3333333333333333,
              "#9c179e"
             ],
             [
              0.4444444444444444,
              "#bd3786"
             ],
             [
              0.5555555555555556,
              "#d8576b"
             ],
             [
              0.6666666666666666,
              "#ed7953"
             ],
             [
              0.7777777777777778,
              "#fb9f3a"
             ],
             [
              0.8888888888888888,
              "#fdca26"
             ],
             [
              1,
              "#f0f921"
             ]
            ],
            "type": "heatmapgl"
           }
          ],
          "histogram": [
           {
            "marker": {
             "pattern": {
              "fillmode": "overlay",
              "size": 10,
              "solidity": 0.2
             }
            },
            "type": "histogram"
           }
          ],
          "histogram2d": [
           {
            "colorbar": {
             "outlinewidth": 0,
             "ticks": ""
            },
            "colorscale": [
             [
              0,
              "#0d0887"
             ],
             [
              0.1111111111111111,
              "#46039f"
             ],
             [
              0.2222222222222222,
              "#7201a8"
             ],
             [
              0.3333333333333333,
              "#9c179e"
             ],
             [
              0.4444444444444444,
              "#bd3786"
             ],
             [
              0.5555555555555556,
              "#d8576b"
             ],
             [
              0.6666666666666666,
              "#ed7953"
             ],
             [
              0.7777777777777778,
              "#fb9f3a"
             ],
             [
              0.8888888888888888,
              "#fdca26"
             ],
             [
              1,
              "#f0f921"
             ]
            ],
            "type": "histogram2d"
           }
          ],
          "histogram2dcontour": [
           {
            "colorbar": {
             "outlinewidth": 0,
             "ticks": ""
            },
            "colorscale": [
             [
              0,
              "#0d0887"
             ],
             [
              0.1111111111111111,
              "#46039f"
             ],
             [
              0.2222222222222222,
              "#7201a8"
             ],
             [
              0.3333333333333333,
              "#9c179e"
             ],
             [
              0.4444444444444444,
              "#bd3786"
             ],
             [
              0.5555555555555556,
              "#d8576b"
             ],
             [
              0.6666666666666666,
              "#ed7953"
             ],
             [
              0.7777777777777778,
              "#fb9f3a"
             ],
             [
              0.8888888888888888,
              "#fdca26"
             ],
             [
              1,
              "#f0f921"
             ]
            ],
            "type": "histogram2dcontour"
           }
          ],
          "mesh3d": [
           {
            "colorbar": {
             "outlinewidth": 0,
             "ticks": ""
            },
            "type": "mesh3d"
           }
          ],
          "parcoords": [
           {
            "line": {
             "colorbar": {
              "outlinewidth": 0,
              "ticks": ""
             }
            },
            "type": "parcoords"
           }
          ],
          "pie": [
           {
            "automargin": true,
            "type": "pie"
           }
          ],
          "scatter": [
           {
            "fillpattern": {
             "fillmode": "overlay",
             "size": 10,
             "solidity": 0.2
            },
            "type": "scatter"
           }
          ],
          "scatter3d": [
           {
            "line": {
             "colorbar": {
              "outlinewidth": 0,
              "ticks": ""
             }
            },
            "marker": {
             "colorbar": {
              "outlinewidth": 0,
              "ticks": ""
             }
            },
            "type": "scatter3d"
           }
          ],
          "scattercarpet": [
           {
            "marker": {
             "colorbar": {
              "outlinewidth": 0,
              "ticks": ""
             }
            },
            "type": "scattercarpet"
           }
          ],
          "scattergeo": [
           {
            "marker": {
             "colorbar": {
              "outlinewidth": 0,
              "ticks": ""
             }
            },
            "type": "scattergeo"
           }
          ],
          "scattergl": [
           {
            "marker": {
             "colorbar": {
              "outlinewidth": 0,
              "ticks": ""
             }
            },
            "type": "scattergl"
           }
          ],
          "scattermapbox": [
           {
            "marker": {
             "colorbar": {
              "outlinewidth": 0,
              "ticks": ""
             }
            },
            "type": "scattermapbox"
           }
          ],
          "scatterpolar": [
           {
            "marker": {
             "colorbar": {
              "outlinewidth": 0,
              "ticks": ""
             }
            },
            "type": "scatterpolar"
           }
          ],
          "scatterpolargl": [
           {
            "marker": {
             "colorbar": {
              "outlinewidth": 0,
              "ticks": ""
             }
            },
            "type": "scatterpolargl"
           }
          ],
          "scatterternary": [
           {
            "marker": {
             "colorbar": {
              "outlinewidth": 0,
              "ticks": ""
             }
            },
            "type": "scatterternary"
           }
          ],
          "surface": [
           {
            "colorbar": {
             "outlinewidth": 0,
             "ticks": ""
            },
            "colorscale": [
             [
              0,
              "#0d0887"
             ],
             [
              0.1111111111111111,
              "#46039f"
             ],
             [
              0.2222222222222222,
              "#7201a8"
             ],
             [
              0.3333333333333333,
              "#9c179e"
             ],
             [
              0.4444444444444444,
              "#bd3786"
             ],
             [
              0.5555555555555556,
              "#d8576b"
             ],
             [
              0.6666666666666666,
              "#ed7953"
             ],
             [
              0.7777777777777778,
              "#fb9f3a"
             ],
             [
              0.8888888888888888,
              "#fdca26"
             ],
             [
              1,
              "#f0f921"
             ]
            ],
            "type": "surface"
           }
          ],
          "table": [
           {
            "cells": {
             "fill": {
              "color": "#EBF0F8"
             },
             "line": {
              "color": "white"
             }
            },
            "header": {
             "fill": {
              "color": "#C8D4E3"
             },
             "line": {
              "color": "white"
             }
            },
            "type": "table"
           }
          ]
         },
         "layout": {
          "annotationdefaults": {
           "arrowcolor": "#2a3f5f",
           "arrowhead": 0,
           "arrowwidth": 1
          },
          "autotypenumbers": "strict",
          "coloraxis": {
           "colorbar": {
            "outlinewidth": 0,
            "ticks": ""
           }
          },
          "colorscale": {
           "diverging": [
            [
             0,
             "#8e0152"
            ],
            [
             0.1,
             "#c51b7d"
            ],
            [
             0.2,
             "#de77ae"
            ],
            [
             0.3,
             "#f1b6da"
            ],
            [
             0.4,
             "#fde0ef"
            ],
            [
             0.5,
             "#f7f7f7"
            ],
            [
             0.6,
             "#e6f5d0"
            ],
            [
             0.7,
             "#b8e186"
            ],
            [
             0.8,
             "#7fbc41"
            ],
            [
             0.9,
             "#4d9221"
            ],
            [
             1,
             "#276419"
            ]
           ],
           "sequential": [
            [
             0,
             "#0d0887"
            ],
            [
             0.1111111111111111,
             "#46039f"
            ],
            [
             0.2222222222222222,
             "#7201a8"
            ],
            [
             0.3333333333333333,
             "#9c179e"
            ],
            [
             0.4444444444444444,
             "#bd3786"
            ],
            [
             0.5555555555555556,
             "#d8576b"
            ],
            [
             0.6666666666666666,
             "#ed7953"
            ],
            [
             0.7777777777777778,
             "#fb9f3a"
            ],
            [
             0.8888888888888888,
             "#fdca26"
            ],
            [
             1,
             "#f0f921"
            ]
           ],
           "sequentialminus": [
            [
             0,
             "#0d0887"
            ],
            [
             0.1111111111111111,
             "#46039f"
            ],
            [
             0.2222222222222222,
             "#7201a8"
            ],
            [
             0.3333333333333333,
             "#9c179e"
            ],
            [
             0.4444444444444444,
             "#bd3786"
            ],
            [
             0.5555555555555556,
             "#d8576b"
            ],
            [
             0.6666666666666666,
             "#ed7953"
            ],
            [
             0.7777777777777778,
             "#fb9f3a"
            ],
            [
             0.8888888888888888,
             "#fdca26"
            ],
            [
             1,
             "#f0f921"
            ]
           ]
          },
          "colorway": [
           "#636efa",
           "#EF553B",
           "#00cc96",
           "#ab63fa",
           "#FFA15A",
           "#19d3f3",
           "#FF6692",
           "#B6E880",
           "#FF97FF",
           "#FECB52"
          ],
          "font": {
           "color": "#2a3f5f"
          },
          "geo": {
           "bgcolor": "white",
           "lakecolor": "white",
           "landcolor": "#E5ECF6",
           "showlakes": true,
           "showland": true,
           "subunitcolor": "white"
          },
          "hoverlabel": {
           "align": "left"
          },
          "hovermode": "closest",
          "mapbox": {
           "style": "light"
          },
          "paper_bgcolor": "white",
          "plot_bgcolor": "#E5ECF6",
          "polar": {
           "angularaxis": {
            "gridcolor": "white",
            "linecolor": "white",
            "ticks": ""
           },
           "bgcolor": "#E5ECF6",
           "radialaxis": {
            "gridcolor": "white",
            "linecolor": "white",
            "ticks": ""
           }
          },
          "scene": {
           "xaxis": {
            "backgroundcolor": "#E5ECF6",
            "gridcolor": "white",
            "gridwidth": 2,
            "linecolor": "white",
            "showbackground": true,
            "ticks": "",
            "zerolinecolor": "white"
           },
           "yaxis": {
            "backgroundcolor": "#E5ECF6",
            "gridcolor": "white",
            "gridwidth": 2,
            "linecolor": "white",
            "showbackground": true,
            "ticks": "",
            "zerolinecolor": "white"
           },
           "zaxis": {
            "backgroundcolor": "#E5ECF6",
            "gridcolor": "white",
            "gridwidth": 2,
            "linecolor": "white",
            "showbackground": true,
            "ticks": "",
            "zerolinecolor": "white"
           }
          },
          "shapedefaults": {
           "line": {
            "color": "#2a3f5f"
           }
          },
          "ternary": {
           "aaxis": {
            "gridcolor": "white",
            "linecolor": "white",
            "ticks": ""
           },
           "baxis": {
            "gridcolor": "white",
            "linecolor": "white",
            "ticks": ""
           },
           "bgcolor": "#E5ECF6",
           "caxis": {
            "gridcolor": "white",
            "linecolor": "white",
            "ticks": ""
           }
          },
          "title": {
           "x": 0.05
          },
          "xaxis": {
           "automargin": true,
           "gridcolor": "white",
           "linecolor": "white",
           "ticks": "",
           "title": {
            "standoff": 15
           },
           "zerolinecolor": "white",
           "zerolinewidth": 2
          },
          "yaxis": {
           "automargin": true,
           "gridcolor": "white",
           "linecolor": "white",
           "ticks": "",
           "title": {
            "standoff": 15
           },
           "zerolinecolor": "white",
           "zerolinewidth": 2
          }
         }
        },
        "width": 1100,
        "xaxis": {
         "linecolor": "black",
         "linewidth": 5,
         "showline": true,
         "ticklen": 5,
         "ticks": "inside",
         "tickwidth": 4,
         "title": {
          "text": ""
         }
        },
        "yaxis": {
         "linecolor": "black",
         "linewidth": 5,
         "showline": true,
         "ticklen": 5,
         "ticks": "inside",
         "tickwidth": 4,
         "title": {
          "text": ""
         }
        }
       }
      }
     },
     "metadata": {},
     "output_type": "display_data"
    }
   ],
   "source": [
    "corr_matrix(df_MP, list_of_colums, 1100, 900, 18)"
   ]
  },
  {
   "cell_type": "markdown",
   "metadata": {},
   "source": [
    "These with persistent homology will be the features I implement to predict Tc"
   ]
  }
 ],
 "metadata": {
  "kernelspec": {
   "display_name": "enviroment",
   "language": "python",
   "name": "python3"
  },
  "language_info": {
   "codemirror_mode": {
    "name": "ipython",
    "version": 3
   },
   "file_extension": ".py",
   "mimetype": "text/x-python",
   "name": "python",
   "nbconvert_exporter": "python",
   "pygments_lexer": "ipython3",
   "version": "3.7.16"
  }
 },
 "nbformat": 4,
 "nbformat_minor": 2
}
