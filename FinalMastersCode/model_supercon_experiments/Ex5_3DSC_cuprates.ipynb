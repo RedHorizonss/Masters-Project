{
 "cells": [
  {
   "cell_type": "code",
   "execution_count": 1,
   "metadata": {},
   "outputs": [],
   "source": [
    "import sys\n",
    "sys.path.append('..')\n",
    "from PHF_RF_code import *\n",
    "\n",
    "import warnings\n",
    "warnings.filterwarnings(\"ignore\")"
   ]
  },
  {
   "cell_type": "code",
   "execution_count": 2,
   "metadata": {},
   "outputs": [],
   "source": [
    "import pandas as pd\n",
    "import numpy as np\n",
    "import plotly.graph_objs as go\n",
    "import plotly.express as px\n",
    "import pickle\n",
    "from pymatgen.io.cif import CifParser"
   ]
  },
  {
   "cell_type": "code",
   "execution_count": 3,
   "metadata": {},
   "outputs": [],
   "source": [
    "not_features = ['tc','formula_sc', 'formula', 'orig_formula_cif', 'norm_formula_sc', 'chemical_composition_sc','origin_sc', 'old_formula_sc', 'database_id',\n",
    "                'original_formula','chemical_composition', 'norm_formula', 'spacegroup', 'crystal_system',\n",
    "                'cif', 'original_cif', 'material_id', 'band_structure','created_at',\n",
    "                'doi','doi_bibtex','dos','exp','has', 'has_bandstructure', 'icsd_ids', 'last_updated', \n",
    "                'magnetic_type', 'ntask_ids', 'original_task_id', 'oxide_type', 'pretty_formula', 'pseudo_potential', 'reduced_cell_formula',\n",
    "                'run_type','task_id','task_ids','unit_cell_formula','warnings','ordering','magmoms','origin','cif_before_synthetic_doping',\n",
    "                'Reason for exclusion','graph','crystal_temp','no_crystal_temp_given','point_group',\"weight\",\n",
    "                \"energy_per_atom\", \"energy\", \"total_magnetization\", \"total_magnetization_normalized_vol\", \"total_magnetization_normalized_formula_units\",\n",
    "                'sc_class', 'sc_class_unique_sc']"
   ]
  },
  {
   "cell_type": "code",
   "execution_count": 4,
   "metadata": {},
   "outputs": [],
   "source": [
    "df_MP = pd.read_csv(\"../3DSC_MP.csv\", skiprows=1)\n",
    "df_MP['cif'] = df_MP['cif'].str.replace('data/final/MP/', '../')\n",
    "df_MP.columns = df_MP.columns.str.replace('_2', '')\n",
    "\n",
    "df_MP.loc[df_MP[\"tc\"] == 0, \"sc_class\"] = \"Not_supercon\"\n",
    "\n",
    "df_cuprates = df_MP[df_MP[\"sc_class\"] == \"Cuprate\"]\n",
    "\n",
    "for cif_path in df_cuprates[\"cif\"]:\n",
    "    parser = CifParser(cif_path)\n",
    "    structure = parser.get_structures()[0]  # Assuming there's only one structure in the file\n",
    "\n",
    "    # Get the composition of the structure\n",
    "    composition = structure.composition\n",
    "\n",
    "    # Calculate the average atomic weight\n",
    "    average_atomic_weight = composition.weight\n",
    "    \n",
    "    df_cuprates.loc[df_MP[\"cif\"] == cif_path, \"average_atomic_weight\"] = average_atomic_weight\n",
    "    \n",
    "df_cuprates_tc = df_cuprates[\"tc\"]\n",
    "df_formulas = df_cuprates[\"formula_sc\"]\n",
    "\n",
    "df_cuprates = df_cuprates.drop(columns=not_features)"
   ]
  },
  {
   "cell_type": "code",
   "execution_count": 5,
   "metadata": {},
   "outputs": [
    {
     "data": {
      "text/html": [
       "<div>\n",
       "<style scoped>\n",
       "    .dataframe tbody tr th:only-of-type {\n",
       "        vertical-align: middle;\n",
       "    }\n",
       "\n",
       "    .dataframe tbody tr th {\n",
       "        vertical-align: top;\n",
       "    }\n",
       "\n",
       "    .dataframe thead th {\n",
       "        text-align: right;\n",
       "    }\n",
       "</style>\n",
       "<table border=\"1\" class=\"dataframe\">\n",
       "  <thead>\n",
       "    <tr style=\"text-align: right;\">\n",
       "      <th></th>\n",
       "      <th>formula_similarity</th>\n",
       "      <th>totreldiff</th>\n",
       "      <th>formula_frac</th>\n",
       "      <th>correct_formula_frac</th>\n",
       "      <th>num_elements_sc</th>\n",
       "      <th>lata</th>\n",
       "      <th>latb</th>\n",
       "      <th>latc</th>\n",
       "      <th>band_gap</th>\n",
       "      <th>density</th>\n",
       "      <th>...</th>\n",
       "      <th>Feature 8</th>\n",
       "      <th>Feature 9</th>\n",
       "      <th>Feature 10</th>\n",
       "      <th>Feature 11</th>\n",
       "      <th>Feature 12</th>\n",
       "      <th>Feature 13</th>\n",
       "      <th>Feature 14</th>\n",
       "      <th>Feature 15</th>\n",
       "      <th>Feature 16</th>\n",
       "      <th>Feature 17</th>\n",
       "    </tr>\n",
       "  </thead>\n",
       "  <tbody>\n",
       "    <tr>\n",
       "      <th>932</th>\n",
       "      <td>2</td>\n",
       "      <td>0.008889</td>\n",
       "      <td>4.0</td>\n",
       "      <td>False</td>\n",
       "      <td>5</td>\n",
       "      <td>7.877744</td>\n",
       "      <td>7.877744</td>\n",
       "      <td>9.467551</td>\n",
       "      <td>0.0</td>\n",
       "      <td>4.624821</td>\n",
       "      <td>...</td>\n",
       "      <td>0.460601</td>\n",
       "      <td>18.241141</td>\n",
       "      <td>3.908913</td>\n",
       "      <td>1.810337</td>\n",
       "      <td>1.338293</td>\n",
       "      <td>0.361756</td>\n",
       "      <td>0.37671</td>\n",
       "      <td>344.363172</td>\n",
       "      <td>393.591399</td>\n",
       "      <td>115.291351</td>\n",
       "    </tr>\n",
       "    <tr>\n",
       "      <th>933</th>\n",
       "      <td>2</td>\n",
       "      <td>0.011111</td>\n",
       "      <td>4.0</td>\n",
       "      <td>False</td>\n",
       "      <td>5</td>\n",
       "      <td>7.877744</td>\n",
       "      <td>7.877744</td>\n",
       "      <td>9.467551</td>\n",
       "      <td>0.0</td>\n",
       "      <td>4.624821</td>\n",
       "      <td>...</td>\n",
       "      <td>0.460601</td>\n",
       "      <td>18.241141</td>\n",
       "      <td>3.908913</td>\n",
       "      <td>1.810337</td>\n",
       "      <td>1.338293</td>\n",
       "      <td>0.361756</td>\n",
       "      <td>0.37671</td>\n",
       "      <td>344.363172</td>\n",
       "      <td>393.591399</td>\n",
       "      <td>115.291351</td>\n",
       "    </tr>\n",
       "    <tr>\n",
       "      <th>935</th>\n",
       "      <td>2</td>\n",
       "      <td>0.013333</td>\n",
       "      <td>4.0</td>\n",
       "      <td>False</td>\n",
       "      <td>5</td>\n",
       "      <td>7.877744</td>\n",
       "      <td>7.877744</td>\n",
       "      <td>9.467551</td>\n",
       "      <td>0.0</td>\n",
       "      <td>4.624821</td>\n",
       "      <td>...</td>\n",
       "      <td>0.460601</td>\n",
       "      <td>18.241141</td>\n",
       "      <td>3.908913</td>\n",
       "      <td>1.810337</td>\n",
       "      <td>1.338293</td>\n",
       "      <td>0.361756</td>\n",
       "      <td>0.37671</td>\n",
       "      <td>344.363172</td>\n",
       "      <td>393.591399</td>\n",
       "      <td>115.291351</td>\n",
       "    </tr>\n",
       "    <tr>\n",
       "      <th>936</th>\n",
       "      <td>2</td>\n",
       "      <td>0.015556</td>\n",
       "      <td>4.0</td>\n",
       "      <td>False</td>\n",
       "      <td>5</td>\n",
       "      <td>7.877744</td>\n",
       "      <td>7.877744</td>\n",
       "      <td>9.467551</td>\n",
       "      <td>0.0</td>\n",
       "      <td>4.624821</td>\n",
       "      <td>...</td>\n",
       "      <td>0.460601</td>\n",
       "      <td>18.241141</td>\n",
       "      <td>3.908913</td>\n",
       "      <td>1.810337</td>\n",
       "      <td>1.338293</td>\n",
       "      <td>0.361756</td>\n",
       "      <td>0.37671</td>\n",
       "      <td>344.363172</td>\n",
       "      <td>393.591399</td>\n",
       "      <td>115.291351</td>\n",
       "    </tr>\n",
       "    <tr>\n",
       "      <th>937</th>\n",
       "      <td>2</td>\n",
       "      <td>0.017778</td>\n",
       "      <td>4.0</td>\n",
       "      <td>False</td>\n",
       "      <td>5</td>\n",
       "      <td>7.877744</td>\n",
       "      <td>7.877744</td>\n",
       "      <td>9.467551</td>\n",
       "      <td>0.0</td>\n",
       "      <td>4.624821</td>\n",
       "      <td>...</td>\n",
       "      <td>0.460601</td>\n",
       "      <td>18.241141</td>\n",
       "      <td>3.908913</td>\n",
       "      <td>1.810337</td>\n",
       "      <td>1.338293</td>\n",
       "      <td>0.361756</td>\n",
       "      <td>0.37671</td>\n",
       "      <td>344.363172</td>\n",
       "      <td>393.591399</td>\n",
       "      <td>115.291351</td>\n",
       "    </tr>\n",
       "  </tbody>\n",
       "</table>\n",
       "<p>5 rows × 55 columns</p>\n",
       "</div>"
      ],
      "text/plain": [
       "     formula_similarity  totreldiff  formula_frac  correct_formula_frac  \\\n",
       "932                   2    0.008889           4.0                 False   \n",
       "933                   2    0.011111           4.0                 False   \n",
       "935                   2    0.013333           4.0                 False   \n",
       "936                   2    0.015556           4.0                 False   \n",
       "937                   2    0.017778           4.0                 False   \n",
       "\n",
       "     num_elements_sc      lata      latb      latc  band_gap   density  ...  \\\n",
       "932                5  7.877744  7.877744  9.467551       0.0  4.624821  ...   \n",
       "933                5  7.877744  7.877744  9.467551       0.0  4.624821  ...   \n",
       "935                5  7.877744  7.877744  9.467551       0.0  4.624821  ...   \n",
       "936                5  7.877744  7.877744  9.467551       0.0  4.624821  ...   \n",
       "937                5  7.877744  7.877744  9.467551       0.0  4.624821  ...   \n",
       "\n",
       "     Feature 8  Feature 9  Feature 10  Feature 11  Feature 12  Feature 13  \\\n",
       "932   0.460601  18.241141    3.908913    1.810337    1.338293    0.361756   \n",
       "933   0.460601  18.241141    3.908913    1.810337    1.338293    0.361756   \n",
       "935   0.460601  18.241141    3.908913    1.810337    1.338293    0.361756   \n",
       "936   0.460601  18.241141    3.908913    1.810337    1.338293    0.361756   \n",
       "937   0.460601  18.241141    3.908913    1.810337    1.338293    0.361756   \n",
       "\n",
       "     Feature 14  Feature 15  Feature 16  Feature 17  \n",
       "932     0.37671  344.363172  393.591399  115.291351  \n",
       "933     0.37671  344.363172  393.591399  115.291351  \n",
       "935     0.37671  344.363172  393.591399  115.291351  \n",
       "936     0.37671  344.363172  393.591399  115.291351  \n",
       "937     0.37671  344.363172  393.591399  115.291351  \n",
       "\n",
       "[5 rows x 55 columns]"
      ]
     },
     "execution_count": 5,
     "metadata": {},
     "output_type": "execute_result"
    }
   ],
   "source": [
    "with open('featurised_datasets/unitcell.pkl', 'rb') as f:\n",
    "    unitcell = pickle.load(f)\n",
    "    \n",
    "unitcell_cuperates = [unitcell[i] for i in df_cuprates.index.tolist()]\n",
    "\n",
    "features = PresistentHomologyFeatures(coords=unitcell_cuperates)\n",
    "topol_feat_mat, topol_feat_list = features.featurising_coords()\n",
    "\n",
    "PH_features = []\n",
    "\n",
    "for i, feature in enumerate(topol_feat_mat.T):\n",
    "    df_cuprates[f\"Feature {i}\"] = np.squeeze(feature)\n",
    "    PH_features.append(f\"Feature {i}\")  \n",
    "\n",
    "df_cuprates.head()"
   ]
  },
  {
   "cell_type": "code",
   "execution_count": 6,
   "metadata": {},
   "outputs": [
    {
     "data": {
      "text/plain": [
       "Index(['formula_similarity', 'totreldiff', 'formula_frac',\n",
       "       'correct_formula_frac', 'num_elements_sc', 'lata', 'latb', 'latc',\n",
       "       'band_gap', 'density', 'e_above_hull', 'efermi', 'encut',\n",
       "       'final_energy', 'final_energy_per_atom', 'formation_energy_per_atom',\n",
       "       'is_ordered', 'nsites', 'cell_volume', 'is_magnetic',\n",
       "       'exchange_symmetry', 'num_unique_magnetic_sites', 'num_magnetic_sites',\n",
       "       'true_total_magnetization', 'synth_doped', 'cubic', 'hexagonal',\n",
       "       'monoclinic', 'orthorhombic', 'tetragonal', 'triclinic', 'trigonal',\n",
       "       'primitive', 'base-centered', 'body-centered', 'face-centered',\n",
       "       'average_atomic_weight', 'Feature 0', 'Feature 1', 'Feature 2',\n",
       "       'Feature 3', 'Feature 4', 'Feature 5', 'Feature 6', 'Feature 7',\n",
       "       'Feature 8', 'Feature 9', 'Feature 10', 'Feature 11', 'Feature 12',\n",
       "       'Feature 13', 'Feature 14', 'Feature 15', 'Feature 16', 'Feature 17'],\n",
       "      dtype='object')"
      ]
     },
     "execution_count": 6,
     "metadata": {},
     "output_type": "execute_result"
    }
   ],
   "source": [
    "df_cuprates.columns"
   ]
  },
  {
   "cell_type": "code",
   "execution_count": 7,
   "metadata": {},
   "outputs": [
    {
     "data": {
      "text/plain": [
       "['latc',\n",
       " 'final_energy',\n",
       " 'final_energy_per_atom',\n",
       " 'nsites',\n",
       " 'cell_volume',\n",
       " 'average_atomic_weight',\n",
       " 'Feature 3',\n",
       " 'Feature 4',\n",
       " 'Feature 5',\n",
       " 'Feature 9',\n",
       " 'Feature 10',\n",
       " 'Feature 11',\n",
       " 'Feature 13',\n",
       " 'Feature 15',\n",
       " 'Feature 17']"
      ]
     },
     "execution_count": 7,
     "metadata": {},
     "output_type": "execute_result"
    }
   ],
   "source": [
    "from sklearn.feature_selection import SelectKBest, mutual_info_regression\n",
    "\n",
    "selector = SelectKBest(mutual_info_regression, k=15)\n",
    "selector.fit(df_cuprates, df_cuprates_tc)\n",
    "# Get columns to keep and create new dataframe with those only\n",
    "cols_idxs = selector.get_support(indices=True)\n",
    "features_names = df_cuprates.iloc[:,cols_idxs].columns.tolist()\n",
    "features_names"
   ]
  },
  {
   "cell_type": "code",
   "execution_count": 8,
   "metadata": {},
   "outputs": [],
   "source": [
    "df_cup_all = pd.concat([df_cuprates[features_names], df_cuprates_tc], axis=1)"
   ]
  },
  {
   "cell_type": "markdown",
   "metadata": {},
   "source": [
    "# Regressor"
   ]
  },
  {
   "cell_type": "code",
   "execution_count": 9,
   "metadata": {},
   "outputs": [
    {
     "name": "stdout",
     "output_type": "stream",
     "text": [
      "{'max_depth': 10, 'max_features': 'log2', 'min_samples_leaf': 1, 'min_samples_split': 2, 'n_estimators': 100}\n"
     ]
    }
   ],
   "source": [
    "PHF_only = randomforests(df_cup_all, features_names, \"tc\", test_size=0.2, random_state=42, name=f\"cuperates\", stratify=False)\n",
    "\n",
    "best_model_PHFonly, best_parameters_PHFonly = PHF_only.train_regressor_model_grid_search()\n",
    "print(best_parameters_PHFonly)"
   ]
  },
  {
   "cell_type": "code",
   "execution_count": 10,
   "metadata": {},
   "outputs": [
    {
     "name": "stdout",
     "output_type": "stream",
     "text": [
      "Mean Absolute Error: 8.790082975869325, Mean Squared Error: 165.10721727967027, R^2 Score: 0.8032440373649639\n",
      "Mean CV Score: 0.8062360457327431, Standard Deviation of CV Scores: 0.059570529013872796\n"
     ]
    }
   ],
   "source": [
    "mae, mse, r2 = PHF_only.evaluate_regressor_model(best_model_PHFonly)\n",
    "print(f\"Mean Absolute Error: {mae}, Mean Squared Error: {mse}, R^2 Score: {r2}\")\n",
    "\n",
    "cv_scores = PHF_only.calc_cross_val_score(best_model_PHFonly, cv = 10, scoring = 'r2')\n",
    "mean_cv_score = np.mean(cv_scores)\n",
    "std_cv_score = np.std(cv_scores)\n",
    "print(f\"Mean CV Score: {mean_cv_score}, Standard Deviation of CV Scores: {std_cv_score}\")"
   ]
  },
  {
   "cell_type": "code",
   "execution_count": 11,
   "metadata": {},
   "outputs": [
    {
     "data": {
      "application/vnd.plotly.v1+json": {
       "config": {
        "plotlyServerURL": "https://plot.ly"
       },
       "data": [
        {
         "marker": {
          "color": "rgb(33, 145, 140)"
         },
         "text": [
          "0.15",
          "0.14",
          "0.13",
          "0.10",
          "0.07",
          "0.07",
          "0.05",
          "0.05",
          "0.04",
          "0.04",
          "0.04",
          "0.03",
          "0.03",
          "0.03",
          "0.02"
         ],
         "textposition": "auto",
         "type": "bar",
         "x": [
          "average atomic weight",
          "Feature 13",
          "latc",
          "final energy per atom",
          "cell volume",
          "Feature 11",
          "Feature 4",
          "nsites",
          "Feature 9",
          "Feature 10",
          "final energy",
          "Feature 15",
          "Feature 5",
          "Feature 17",
          "Feature 3"
         ],
         "y": [
          0.15350650190825277,
          0.14130856703729777,
          0.13275639015793259,
          0.09586657507949203,
          0.06983411393420283,
          0.06707493615809565,
          0.052882395444914326,
          0.05281056076357607,
          0.04050080368239982,
          0.04047668187565127,
          0.036152898992188015,
          0.03209232638869485,
          0.032053408183226634,
          0.02992869133371091,
          0.022755149060364497
         ]
        }
       ],
       "layout": {
        "barmode": "group",
        "font": {
         "color": "black",
         "family": "Helvetica",
         "size": 24
        },
        "height": 700,
        "margin": {
         "b": 10,
         "l": 10,
         "r": 10,
         "t": 10
        },
        "paper_bgcolor": "white",
        "plot_bgcolor": "white",
        "showlegend": false,
        "template": {
         "data": {
          "bar": [
           {
            "error_x": {
             "color": "#2a3f5f"
            },
            "error_y": {
             "color": "#2a3f5f"
            },
            "marker": {
             "line": {
              "color": "#E5ECF6",
              "width": 0.5
             },
             "pattern": {
              "fillmode": "overlay",
              "size": 10,
              "solidity": 0.2
             }
            },
            "type": "bar"
           }
          ],
          "barpolar": [
           {
            "marker": {
             "line": {
              "color": "#E5ECF6",
              "width": 0.5
             },
             "pattern": {
              "fillmode": "overlay",
              "size": 10,
              "solidity": 0.2
             }
            },
            "type": "barpolar"
           }
          ],
          "carpet": [
           {
            "aaxis": {
             "endlinecolor": "#2a3f5f",
             "gridcolor": "white",
             "linecolor": "white",
             "minorgridcolor": "white",
             "startlinecolor": "#2a3f5f"
            },
            "baxis": {
             "endlinecolor": "#2a3f5f",
             "gridcolor": "white",
             "linecolor": "white",
             "minorgridcolor": "white",
             "startlinecolor": "#2a3f5f"
            },
            "type": "carpet"
           }
          ],
          "choropleth": [
           {
            "colorbar": {
             "outlinewidth": 0,
             "ticks": ""
            },
            "type": "choropleth"
           }
          ],
          "contour": [
           {
            "colorbar": {
             "outlinewidth": 0,
             "ticks": ""
            },
            "colorscale": [
             [
              0,
              "#0d0887"
             ],
             [
              0.1111111111111111,
              "#46039f"
             ],
             [
              0.2222222222222222,
              "#7201a8"
             ],
             [
              0.3333333333333333,
              "#9c179e"
             ],
             [
              0.4444444444444444,
              "#bd3786"
             ],
             [
              0.5555555555555556,
              "#d8576b"
             ],
             [
              0.6666666666666666,
              "#ed7953"
             ],
             [
              0.7777777777777778,
              "#fb9f3a"
             ],
             [
              0.8888888888888888,
              "#fdca26"
             ],
             [
              1,
              "#f0f921"
             ]
            ],
            "type": "contour"
           }
          ],
          "contourcarpet": [
           {
            "colorbar": {
             "outlinewidth": 0,
             "ticks": ""
            },
            "type": "contourcarpet"
           }
          ],
          "heatmap": [
           {
            "colorbar": {
             "outlinewidth": 0,
             "ticks": ""
            },
            "colorscale": [
             [
              0,
              "#0d0887"
             ],
             [
              0.1111111111111111,
              "#46039f"
             ],
             [
              0.2222222222222222,
              "#7201a8"
             ],
             [
              0.3333333333333333,
              "#9c179e"
             ],
             [
              0.4444444444444444,
              "#bd3786"
             ],
             [
              0.5555555555555556,
              "#d8576b"
             ],
             [
              0.6666666666666666,
              "#ed7953"
             ],
             [
              0.7777777777777778,
              "#fb9f3a"
             ],
             [
              0.8888888888888888,
              "#fdca26"
             ],
             [
              1,
              "#f0f921"
             ]
            ],
            "type": "heatmap"
           }
          ],
          "heatmapgl": [
           {
            "colorbar": {
             "outlinewidth": 0,
             "ticks": ""
            },
            "colorscale": [
             [
              0,
              "#0d0887"
             ],
             [
              0.1111111111111111,
              "#46039f"
             ],
             [
              0.2222222222222222,
              "#7201a8"
             ],
             [
              0.3333333333333333,
              "#9c179e"
             ],
             [
              0.4444444444444444,
              "#bd3786"
             ],
             [
              0.5555555555555556,
              "#d8576b"
             ],
             [
              0.6666666666666666,
              "#ed7953"
             ],
             [
              0.7777777777777778,
              "#fb9f3a"
             ],
             [
              0.8888888888888888,
              "#fdca26"
             ],
             [
              1,
              "#f0f921"
             ]
            ],
            "type": "heatmapgl"
           }
          ],
          "histogram": [
           {
            "marker": {
             "pattern": {
              "fillmode": "overlay",
              "size": 10,
              "solidity": 0.2
             }
            },
            "type": "histogram"
           }
          ],
          "histogram2d": [
           {
            "colorbar": {
             "outlinewidth": 0,
             "ticks": ""
            },
            "colorscale": [
             [
              0,
              "#0d0887"
             ],
             [
              0.1111111111111111,
              "#46039f"
             ],
             [
              0.2222222222222222,
              "#7201a8"
             ],
             [
              0.3333333333333333,
              "#9c179e"
             ],
             [
              0.4444444444444444,
              "#bd3786"
             ],
             [
              0.5555555555555556,
              "#d8576b"
             ],
             [
              0.6666666666666666,
              "#ed7953"
             ],
             [
              0.7777777777777778,
              "#fb9f3a"
             ],
             [
              0.8888888888888888,
              "#fdca26"
             ],
             [
              1,
              "#f0f921"
             ]
            ],
            "type": "histogram2d"
           }
          ],
          "histogram2dcontour": [
           {
            "colorbar": {
             "outlinewidth": 0,
             "ticks": ""
            },
            "colorscale": [
             [
              0,
              "#0d0887"
             ],
             [
              0.1111111111111111,
              "#46039f"
             ],
             [
              0.2222222222222222,
              "#7201a8"
             ],
             [
              0.3333333333333333,
              "#9c179e"
             ],
             [
              0.4444444444444444,
              "#bd3786"
             ],
             [
              0.5555555555555556,
              "#d8576b"
             ],
             [
              0.6666666666666666,
              "#ed7953"
             ],
             [
              0.7777777777777778,
              "#fb9f3a"
             ],
             [
              0.8888888888888888,
              "#fdca26"
             ],
             [
              1,
              "#f0f921"
             ]
            ],
            "type": "histogram2dcontour"
           }
          ],
          "mesh3d": [
           {
            "colorbar": {
             "outlinewidth": 0,
             "ticks": ""
            },
            "type": "mesh3d"
           }
          ],
          "parcoords": [
           {
            "line": {
             "colorbar": {
              "outlinewidth": 0,
              "ticks": ""
             }
            },
            "type": "parcoords"
           }
          ],
          "pie": [
           {
            "automargin": true,
            "type": "pie"
           }
          ],
          "scatter": [
           {
            "fillpattern": {
             "fillmode": "overlay",
             "size": 10,
             "solidity": 0.2
            },
            "type": "scatter"
           }
          ],
          "scatter3d": [
           {
            "line": {
             "colorbar": {
              "outlinewidth": 0,
              "ticks": ""
             }
            },
            "marker": {
             "colorbar": {
              "outlinewidth": 0,
              "ticks": ""
             }
            },
            "type": "scatter3d"
           }
          ],
          "scattercarpet": [
           {
            "marker": {
             "colorbar": {
              "outlinewidth": 0,
              "ticks": ""
             }
            },
            "type": "scattercarpet"
           }
          ],
          "scattergeo": [
           {
            "marker": {
             "colorbar": {
              "outlinewidth": 0,
              "ticks": ""
             }
            },
            "type": "scattergeo"
           }
          ],
          "scattergl": [
           {
            "marker": {
             "colorbar": {
              "outlinewidth": 0,
              "ticks": ""
             }
            },
            "type": "scattergl"
           }
          ],
          "scattermapbox": [
           {
            "marker": {
             "colorbar": {
              "outlinewidth": 0,
              "ticks": ""
             }
            },
            "type": "scattermapbox"
           }
          ],
          "scatterpolar": [
           {
            "marker": {
             "colorbar": {
              "outlinewidth": 0,
              "ticks": ""
             }
            },
            "type": "scatterpolar"
           }
          ],
          "scatterpolargl": [
           {
            "marker": {
             "colorbar": {
              "outlinewidth": 0,
              "ticks": ""
             }
            },
            "type": "scatterpolargl"
           }
          ],
          "scatterternary": [
           {
            "marker": {
             "colorbar": {
              "outlinewidth": 0,
              "ticks": ""
             }
            },
            "type": "scatterternary"
           }
          ],
          "surface": [
           {
            "colorbar": {
             "outlinewidth": 0,
             "ticks": ""
            },
            "colorscale": [
             [
              0,
              "#0d0887"
             ],
             [
              0.1111111111111111,
              "#46039f"
             ],
             [
              0.2222222222222222,
              "#7201a8"
             ],
             [
              0.3333333333333333,
              "#9c179e"
             ],
             [
              0.4444444444444444,
              "#bd3786"
             ],
             [
              0.5555555555555556,
              "#d8576b"
             ],
             [
              0.6666666666666666,
              "#ed7953"
             ],
             [
              0.7777777777777778,
              "#fb9f3a"
             ],
             [
              0.8888888888888888,
              "#fdca26"
             ],
             [
              1,
              "#f0f921"
             ]
            ],
            "type": "surface"
           }
          ],
          "table": [
           {
            "cells": {
             "fill": {
              "color": "#EBF0F8"
             },
             "line": {
              "color": "white"
             }
            },
            "header": {
             "fill": {
              "color": "#C8D4E3"
             },
             "line": {
              "color": "white"
             }
            },
            "type": "table"
           }
          ]
         },
         "layout": {
          "annotationdefaults": {
           "arrowcolor": "#2a3f5f",
           "arrowhead": 0,
           "arrowwidth": 1
          },
          "autotypenumbers": "strict",
          "coloraxis": {
           "colorbar": {
            "outlinewidth": 0,
            "ticks": ""
           }
          },
          "colorscale": {
           "diverging": [
            [
             0,
             "#8e0152"
            ],
            [
             0.1,
             "#c51b7d"
            ],
            [
             0.2,
             "#de77ae"
            ],
            [
             0.3,
             "#f1b6da"
            ],
            [
             0.4,
             "#fde0ef"
            ],
            [
             0.5,
             "#f7f7f7"
            ],
            [
             0.6,
             "#e6f5d0"
            ],
            [
             0.7,
             "#b8e186"
            ],
            [
             0.8,
             "#7fbc41"
            ],
            [
             0.9,
             "#4d9221"
            ],
            [
             1,
             "#276419"
            ]
           ],
           "sequential": [
            [
             0,
             "#0d0887"
            ],
            [
             0.1111111111111111,
             "#46039f"
            ],
            [
             0.2222222222222222,
             "#7201a8"
            ],
            [
             0.3333333333333333,
             "#9c179e"
            ],
            [
             0.4444444444444444,
             "#bd3786"
            ],
            [
             0.5555555555555556,
             "#d8576b"
            ],
            [
             0.6666666666666666,
             "#ed7953"
            ],
            [
             0.7777777777777778,
             "#fb9f3a"
            ],
            [
             0.8888888888888888,
             "#fdca26"
            ],
            [
             1,
             "#f0f921"
            ]
           ],
           "sequentialminus": [
            [
             0,
             "#0d0887"
            ],
            [
             0.1111111111111111,
             "#46039f"
            ],
            [
             0.2222222222222222,
             "#7201a8"
            ],
            [
             0.3333333333333333,
             "#9c179e"
            ],
            [
             0.4444444444444444,
             "#bd3786"
            ],
            [
             0.5555555555555556,
             "#d8576b"
            ],
            [
             0.6666666666666666,
             "#ed7953"
            ],
            [
             0.7777777777777778,
             "#fb9f3a"
            ],
            [
             0.8888888888888888,
             "#fdca26"
            ],
            [
             1,
             "#f0f921"
            ]
           ]
          },
          "colorway": [
           "#636efa",
           "#EF553B",
           "#00cc96",
           "#ab63fa",
           "#FFA15A",
           "#19d3f3",
           "#FF6692",
           "#B6E880",
           "#FF97FF",
           "#FECB52"
          ],
          "font": {
           "color": "#2a3f5f"
          },
          "geo": {
           "bgcolor": "white",
           "lakecolor": "white",
           "landcolor": "#E5ECF6",
           "showlakes": true,
           "showland": true,
           "subunitcolor": "white"
          },
          "hoverlabel": {
           "align": "left"
          },
          "hovermode": "closest",
          "mapbox": {
           "style": "light"
          },
          "paper_bgcolor": "white",
          "plot_bgcolor": "#E5ECF6",
          "polar": {
           "angularaxis": {
            "gridcolor": "white",
            "linecolor": "white",
            "ticks": ""
           },
           "bgcolor": "#E5ECF6",
           "radialaxis": {
            "gridcolor": "white",
            "linecolor": "white",
            "ticks": ""
           }
          },
          "scene": {
           "xaxis": {
            "backgroundcolor": "#E5ECF6",
            "gridcolor": "white",
            "gridwidth": 2,
            "linecolor": "white",
            "showbackground": true,
            "ticks": "",
            "zerolinecolor": "white"
           },
           "yaxis": {
            "backgroundcolor": "#E5ECF6",
            "gridcolor": "white",
            "gridwidth": 2,
            "linecolor": "white",
            "showbackground": true,
            "ticks": "",
            "zerolinecolor": "white"
           },
           "zaxis": {
            "backgroundcolor": "#E5ECF6",
            "gridcolor": "white",
            "gridwidth": 2,
            "linecolor": "white",
            "showbackground": true,
            "ticks": "",
            "zerolinecolor": "white"
           }
          },
          "shapedefaults": {
           "line": {
            "color": "#2a3f5f"
           }
          },
          "ternary": {
           "aaxis": {
            "gridcolor": "white",
            "linecolor": "white",
            "ticks": ""
           },
           "baxis": {
            "gridcolor": "white",
            "linecolor": "white",
            "ticks": ""
           },
           "bgcolor": "#E5ECF6",
           "caxis": {
            "gridcolor": "white",
            "linecolor": "white",
            "ticks": ""
           }
          },
          "title": {
           "x": 0.05
          },
          "xaxis": {
           "automargin": true,
           "gridcolor": "white",
           "linecolor": "white",
           "ticks": "",
           "title": {
            "standoff": 15
           },
           "zerolinecolor": "white",
           "zerolinewidth": 2
          },
          "yaxis": {
           "automargin": true,
           "gridcolor": "white",
           "linecolor": "white",
           "ticks": "",
           "title": {
            "standoff": 15
           },
           "zerolinecolor": "white",
           "zerolinewidth": 2
          }
         }
        },
        "width": 1300,
        "xaxis": {
         "linecolor": "black",
         "linewidth": 5,
         "showline": true,
         "ticklen": 5,
         "ticks": "outside",
         "tickson": "boundaries",
         "tickwidth": 3,
         "title": {
          "text": "Features"
         }
        },
        "yaxis": {
         "linecolor": "black",
         "linewidth": 5,
         "showline": true,
         "ticklen": 5,
         "ticks": "inside",
         "tickwidth": 3,
         "title": {
          "text": "Feature Importance"
         }
        }
       }
      }
     },
     "metadata": {},
     "output_type": "display_data"
    }
   ],
   "source": [
    "PHF_only.plot_feature_importance(best_model_PHFonly.feature_importances_, show=True, width=1300, height=700, save_image=False)"
   ]
  },
  {
   "cell_type": "code",
   "execution_count": 12,
   "metadata": {},
   "outputs": [
    {
     "data": {
      "application/vnd.plotly.v1+json": {
       "config": {
        "plotlyServerURL": "https://plot.ly"
       },
       "data": [
        {
         "hoverinfo": "text",
         "marker": {
          "color": "rgb(33, 145, 140)",
          "opacity": 0.8,
          "size": 8
         },
         "mode": "markers",
         "name": "Scatter Plot",
         "text": [
          "B0.04C0.96Cu1Sr2O5",
          "B0.05C0.95Cu1Sr2O5",
          "B0.06C0.94Cu1Sr2O5",
          "B0.07C0.93Cu1Sr2O5",
          "B0.08C0.92Cu1Sr2O5",
          "B0.09C0.91Cu1Sr2O5",
          "B0.14C0.86Cu1Sr2O5",
          "B0.15C0.85Cu1Sr2O5",
          "Ba0.066Cu1La1.934O4",
          "Ba0.075Cu1La1.925O4",
          "Ba0.078Cu1La1.922O4",
          "Ba0.094Cu1La1.906O4",
          "Ba0.095Cu1La1.905O4",
          "Ba0.097Cu1La1.903O4",
          "Ba0.099Cu1La1.901O4",
          "Ba0.102Cu1La1.898O4",
          "Ba0.103Cu1La1.897O4",
          "Ba0.105Cu1La1.895O4",
          "Ba0.115Cu1La1.885O4",
          "Ba0.116Cu1La1.884O4",
          "Ba0.118Cu1La1.882O4",
          "Ba0.119Cu1La1.881O4",
          "Ba0.123Cu1La1.877O4",
          "Ba0.135Cu1La1.865O4",
          "Ba0.13Cu1La1.87O4",
          "Ba0.142Cu1La1.858O4",
          "Ba0.155Cu1La1.845O4",
          "Ba0.157Cu1La1.843O4",
          "Ba0.15Cu1La1.85O4",
          "Ba0.175Cu1La1.825O4",
          "Ba0.177Cu1La1.823O4",
          "Ba0.17Cu1La1.83O4",
          "Ba0.18Cu1La1.82O4",
          "Ba0.199Cu1La1.801O4",
          "Ba0.1Cu1F2Sr1.9O2",
          "Ba0.218Cu1La1.782O4",
          "Ba0.249Cu1La1.751O4",
          "Ba0.24Cu1La1.76O4",
          "Ba0.25Cu1F2Sr1.75O2",
          "Ba0.3Cu1La1.7O4",
          "Ba0.3Cu1La1Sr0.7Tl1O5",
          "Ba1.5Cu3La0.5Y1O7",
          "Ba1.72Cu4La0.28Y1O8",
          "Ba1.76Cu4Sr0.24Y1O8",
          "Ba1.78Cu4La0.22Y1O8",
          "Ba1.7Cu3La0.3Y1O7",
          "Ba1.7Cu3Nd1.3O7",
          "Ba1.7Cu4La0.3Y1O8",
          "Ba1.85Cu3Sm1.15O7",
          "Ba1.87Cu4La0.13Y1O8",
          "Ba1.8Cu3La0.2Y1O7",
          "Ba1.8Cu4Ho1Sr0.2O8",
          "Ba1.8Cu4La0.2Y1O8",
          "Ba1.8Cu4Sr0.2Y1O8",
          "Ba1.8Cu4Sr0.2Yb1O8",
          "Ba1.926Ca0.074Cu4Y1O8",
          "Ba1.972Ca0.028Cu4Y1O8",
          "Ba1.98Cu4La0.02Y1O8",
          "Ba1.9Ca0.1Cu4Y1O8",
          "Ba1.9Cu3Gd1.1O7",
          "Ba1.9Cu3La0.1Y1O6.5",
          "Ba1.9Cu3La0.1Y1O8",
          "Ba1.9Cu4Gd1Sr0.1O8",
          "Ba1.9Cu4La0.1Y1O8",
          "Ba1Cu1Tl0.76O4.5",
          "Ba2.2Cu4Y1O8",
          "Ba2Ca0.01Cu4Er0.99O8",
          "Ba2Ca0.01Cu4Ho0.99O8",
          "Ba2Ca0.01Cu4Tm0.99O8",
          "Ba2Ca0.01Cu4Y0.99O8",
          "Ba2Ca0.025Cu4Y0.975O8",
          "Ba2Ca0.02Cu4Y0.98O8",
          "Ba2Ca0.03Cu4Er0.97O8",
          "Ba2Ca0.03Cu4Ho0.97O8",
          "Ba2Ca0.03Cu4Tm0.97O8",
          "Ba2Ca0.03Cu4Y0.97O8",
          "Ba2Ca0.05Cu4Er0.95O8",
          "Ba2Ca0.05Cu4Ho0.95O8",
          "Ba2Ca0.05Cu4Tm0.95O8",
          "Ba2Ca0.05Cu4Y0.95O8",
          "Ba2Ca0.075Cu4Y0.925O8",
          "Ba2Ca0.07Cu4Tm0.93O8",
          "Ba2Ca0.07Cu4Y0.93O8",
          "Ba2Ca0.12Cu4Y0.88O8",
          "Ba2Ca0.15Cu4Ho0.85O8",
          "Ba2Ca0.15Cu4Y0.85O8",
          "Ba2Ca0.1Cu3Y0.9O7",
          "Ba2Ca0.1Cu4Ho0.9O8",
          "Ba2Ca0.1Cu4Y0.9O8",
          "Ba2Ca0.25Cu4Y0.75O8",
          "Ba2Ca0.26Cu3Y0.74O6",
          "Ba2Ca0.28Cu3Y0.72O6",
          "Ba2Ca0.2Cu3Y0.8O6",
          "Ba2Ca0.2Cu3Y0.8O7",
          "Ba2Ca0.2Cu4Ho0.8O8",
          "Ba2Ca0.2Cu4Y0.8O8",
          "Ba2Ca0.3Cu4Ho0.7O8",
          "Ba2Ca0.7Cu2Gd0.3Tl1O7",
          "Ba2Ca0.7Cu2Nd0.3Tl1O7",
          "Ba2Ca0.85Cu2.2Tl1.8O8",
          "Ba2Ca0.8Ce0.2Cu2Tl2O8",
          "Ba2Ca0.8Cu2Gd0.2Tl1O7",
          "Ba2Ca0.8Cu2Nd0.2Tl1O7",
          "Ba2Ca0.8Cu2Tl1Y0.2O7",
          "Ba2Ca0.9Ce0.1Cu2Tl2O8",
          "Ba2Ca0.9Cu2Gd0.1Tl1O7",
          "Ba2Ca0.9Cu2Nd0.1Tl1O7",
          "Ba2Ca0.9Cu2Tl1Y0.1O7",
          "Ba2Ca1Cu1.98Fe0.02Tl2O8",
          "Ba2Ca1Cu2Hg1O6.08",
          "Ba2Ca1Cu2Hg1O6.1",
          "Ba2Ca1Cu2Hg1O6.13",
          "Ba2Ca1Cu2Hg1O6.14",
          "Ba2Ca1Cu2Hg1O6.16",
          "Ba2Ca1Cu2Hg1O6.19",
          "Ba2Ca1Cu2Hg1O6.21",
          "Ba2Ca1Cu2Hg1O6.22",
          "Ba2Ca1Cu2Hg1O6.24",
          "Ba2Ca1Cu2Hg1O6.27",
          "Ba2Ca1Cu2Hg1O6.3",
          "Ba2Ca1Cu2Hg1O6.31",
          "Ba2Ca1Cu2Tl1O7",
          "Ba2Ca1Cu2Tl1O8",
          "Ba2Ca2Cu3Hg0.85Re0.15O8",
          "Ba2Ca2Cu3Hg0.8Pb0.2O8",
          "Ba2Ca2Cu3Hg0.9Pb0.1O8",
          "Ba2Ca2Cu3Tl2O10",
          "Ba2Cd0.1Cu3Y0.9O7",
          "Ba2Cd0.25Cu1Tl1.75O6",
          "Ba2Cd0.2Cu3Y0.8O7",
          "Ba2Cd0.3Cu3Y0.7O7",
          "Ba2Ce0.1Cu4Dy0.9O8",
          "Ba2Cs0.15Cu3Y0.85O6.5",
          "Ba2Cu1Hg0.9O4",
          "Ba2Cu1Hg1O4.01",
          "Ba2Cu1Hg1O4.02",
          "Ba2Cu1Hg1O4.025",
          "Ba2Cu1Hg1O4.032",
          "Ba2Cu1Hg1O4.033",
          "Ba2Cu1Hg1O4.045",
          "Ba2Cu1Hg1O4.047",
          "Ba2Cu1Hg1O4.049",
          "Ba2Cu1Hg1O4.05",
          "Ba2Cu1Hg1O4.052",
          "Ba2Cu1Hg1O4.055",
          "Ba2Cu1Hg1O4.058",
          "Ba2Cu1Hg1O4.06",
          "Ba2Cu1Hg1O4.066",
          "Ba2Cu1Hg1O4.081",
          "Ba2Cu1Hg1O4.085",
          "Ba2Cu1Hg1O4.096",
          "Ba2Cu1Hg1O4.097",
          "Ba2Cu1Hg1O4.101",
          "Ba2Cu1Hg1O4.103",
          "Ba2Cu1Hg1O4.105",
          "Ba2Cu1Hg1O4.108",
          "Ba2Cu1Hg1O4.117",
          "Ba2Cu1Hg1O4.15",
          "Ba2Cu1Hg1O4.16",
          "Ba2Cu1Hg1O4.162",
          "Ba2Cu1Hg1O4.17",
          "Ba2Cu1Hg1O4.18",
          "Ba2Cu1Hg1O4.2",
          "Ba2Cu1Hg1O4.21",
          "Ba2Cu1Hg1O4.22",
          "Ba2Cu1Hg1O4.28",
          "Ba2Cu1Hg1O4.3",
          "Ba2Cu1Hg1O4.31",
          "Ba2Cu1Hg1O4.34",
          "Ba2Cu1Hg1O4.37",
          "Ba2Cu1Hg1O4.39",
          "Ba2Cu1Tl1.7O6",
          "Ba2Cu1Tl1O5",
          "Ba2Cu1Tl2O6.01",
          "Ba2Cu1Tl2O6.03",
          "Ba2Cu1Tl2O6.05",
          "Ba2Cu1Tl2O6.056",
          "Ba2Cu1Tl2O6.08",
          "Ba2Cu1Tl2O6.12",
          "Ba2Cu1Tl2O6.16",
          "Ba2Cu1Tl2O6.19",
          "Ba2Cu3Er0.5Pr0.5O7",
          "Ba2Cu3Er0.6Pr0.4O7",
          "Ba2Cu3Er0.7Pr0.3O7",
          "Ba2Cu3Er0.85Pr0.15O7",
          "Ba2Cu3Er0.8Pr0.2O7",
          "Ba2Cu3Er0.924Pr0.076O7",
          "Ba2Cu3Er0.97Pr0.03O7",
          "Ba2Cu3Er1O7",
          "Ba2Cu3Eu0.6Pr0.4O7",
          "Ba2Cu3Eu0.7Pr0.3O7",
          "Ba2Cu3Eu0.8Pr0.2O7",
          "Ba2Cu3Eu0.8Y0.2O7",
          "Ba2Cu3Eu0.9Pr0.1O7",
          "Ba2Cu3Eu1O6.5",
          "Ba2Cu3F0.76Y1O6",
          "Ba2Cu3Gd0.6Pr0.4O7",
          "Ba2Cu3Gd0.7Pr0.3O7",
          "Ba2Cu3Gd0.85Pr0.15O7",
          "Ba2Cu3Gd0.8Pr0.2O7",
          "Ba2Cu3Gd0.922Pr0.078O7",
          "Ba2Cu3Gd0.97Pr0.03O7",
          "Ba2Cu3Ho1O7",
          "Ba2Cu3La0.5Pr0.5O7",
          "Ba2Cu3La0.6Pr0.4O7",
          "Ba2Cu3La0.7Pr0.3O7",
          "Ba2Cu3La0.8Pr0.2O7",
          "Ba2Cu3La0.8Y0.2O7",
          "Ba2Cu3La0.9Pr0.1O7",
          "Ba2Cu3La1O7",
          "Ba2Cu3Lu0.6Pr0.4O7",
          "Ba2Cu3Lu0.7Pr0.3O7",
          "Ba2Cu3Lu0.85Pr0.15O7",
          "Ba2Cu3Lu0.8Pr0.2O7",
          "Ba2Cu3Lu1O7",
          "Ba2Cu3Nd0.7Pr0.3O7",
          "Ba2Cu3Nd0.85Pr0.15O7",
          "Ba2Cu3Nd0.8Pr0.2O7",
          "Ba2Cu3Nd0.92Pr0.08O7",
          "Ba2Cu3Nd0.97Pr0.03O7",
          "Ba2Cu3Pr0.13Y0.87O7",
          "Ba2Cu3Pr0.15Y0.85O6.5",
          "Ba2Cu3Pr0.1Y0.9O7",
          "Ba2Cu3Pr0.3Y0.7O7",
          "Ba2Cu3Pr0.43Y0.57O7",
          "Ba2Cu3Pr0.5Y0.5O7",
          "Ba2Cu3S1Y1O6",
          "Ba2Cu3Tb0.1Y0.9O7",
          "Ba2Cu3Tm1O7",
          "Ba2Cu3Y0.7Zn0.3O7",
          "Ba2Cu3Y0.8Zn0.2O7",
          "Ba2Cu3Y0.9Zn0.1O7",
          "Ba2Cu4Dy1O8",
          "Ba2Cu4Eu0.25Y0.75O8",
          "Ba2Cu4Eu0.75Y0.25O8",
          "Ba2Cu4Eu0.8Pr0.2O8",
          "Ba2Cu4Ga0.05Y0.95O8",
          "Ba2Cu4Ga0.1Y0.9O8",
          "Ba2Cu4Ga0.2Y0.8O8",
          "Ba2Cu4Gd1O8",
          "Ba2Cu4Ho1O8",
          "Ba2Cu4Pr0.05Y0.95O8",
          "Ba2Cu4Pr0.15Y0.85O8",
          "Ba2Cu4Pr0.1Y0.9O8",
          "Ba2Cu4Pr0.2Y0.8O8",
          "Ba2Cu4Pr0.3Y0.7O8",
          "Ba2Cu4Pr0.4Y0.6O8",
          "Ba2Cu4Pr0.5Y0.5O8",
          "Ba2Cu4Pr0.6Y0.4O8",
          "Ba2Cu4Sc0.05Y0.95O8",
          "Ba2Cu4Sc0.1Y0.9O8",
          "Ba2Cu4Sc0.2Y0.8O8",
          "Ba2Cu4Sm1O8",
          "Ba2Cu4Tb0.1Y0.9O8",
          "Ba2Cu4Tm1O8",
          "Ba2Cu4Yb1O8",
          "Bi1.7Ca1Cu2Pb0.3Sr2O8",
          "Bi1.7Ca2Cu3Pb0.3Sr2O10",
          "Bi1Ca0.35Cu2Pb1Sr2Y0.65O8",
          "Bi1Ca0.4Cu2Pb1Sr2Y0.6O8",
          "Bi1Ca0.5Cu2Pb1Sr2Y0.5O8",
          "Bi1Ca0.6Cu2Pb1Sr2Y0.4O8",
          "Bi1Ca0.7Cu2Pb1Sr2Y0.3O8",
          "Bi2Ca0.75Cu2Pr0.25Sr2O8",
          "Bi2Ca0.75Cu2Sr2Y0.25O8",
          "Bi2Ca0.7Cu2Gd0.3Sr2O8",
          "Bi2Ca0.7Cu2I1Sr2Y0.3O8",
          "Bi2Ca0.85Cu2Pr0.15Sr2O8",
          "Bi2Ca0.8Ce0.2Cu2Sr2O8",
          "Bi2Ca0.8Cu2Gd0.2Sr2O8",
          "Bi2Ca0.8Cu2I1Sr2Y0.2O8",
          "Bi2Ca0.8Cu2Sr2.2O8",
          "Bi2Ca0.92Cu2Sr2.08O8",
          "Bi2Ca0.95Ce0.05Cu2Sr2O8",
          "Bi2Ca0.95Cu2Pr0.05Sr2O8",
          "Bi2Ca0.9Ce0.1Cu2Sr2O8",
          "Bi2Ca0.9Cu2Er0.1Sr2O8",
          "Bi2Ca0.9Cu2Gd0.1Sr2O8",
          "Bi2Ca0.9Cu2I1Sr2Y0.1O8",
          "Bi2Ca0.9Cu2Sr2Y0.1O8",
          "Bi2Ca1Cu1.952Ni0.048Sr2O8",
          "Bi2Ca1Cu1.96Fe0.04Sr2O8",
          "Bi2Ca1Cu1.97Ni0.03Sr2O8",
          "Bi2Ca1Cu1.988Ni0.012Sr2O8",
          "Bi2Ca1Cu1.98Fe0.02Sr2O8",
          "Bi2Ca1Cu1.98Ni0.02Sr2O8",
          "Bi2Ca1Cu1.99Fe0.01Sr2O8",
          "Bi2Ca1Cu2I0.98Sr2O8.21",
          "Bi2Ca1Cu2I1Sr2O8",
          "Bi2Ca1Cu2Sr2O8",
          "Bi2Ca1Cu2Sr2O8.1",
          "Bi2Ca1Cu2Sr2O8.11",
          "Bi2Ca1Cu2Sr2O8.118",
          "Bi2Ca1Cu2Sr2O8.12",
          "Bi2Ca1Cu2Sr2O8.14",
          "Bi2Ca1Cu2Sr2O8.16",
          "Bi2Ca1Cu2Sr2O8.17",
          "Bi2Ca1Cu2Sr2O8.19",
          "Bi2Ca1Cu2Sr2O8.194",
          "Bi2Ca1Cu2Sr2O8.195",
          "Bi2Ca1Cu2Sr2O8.196",
          "Bi2Ca1Cu2Sr2O8.197",
          "Bi2Ca1Cu2Sr2O8.198",
          "Bi2Ca1Cu2Sr2O8.199",
          "Bi2Ca1Cu2Sr2O8.21",
          "Bi2Ca1Cu2Sr2O8.212",
          "Bi2Ca1Cu2Sr2O8.2135",
          "Bi2Ca1Cu2Sr2O8.214",
          "Bi2Ca1Cu2Sr2O8.216",
          "Bi2Ca1Cu2Sr2O8.218",
          "Bi2Ca1Cu2Sr2O8.224",
          "Bi2Ca1Cu2Sr2O8.231",
          "Bi2Ca1Cu2Sr2O8.234",
          "Bi2Ca1Cu2Sr2O8.245",
          "Bi2Ca1Cu2Sr2O8.248",
          "Bi2Ca1Cu2Sr2O8.256",
          "Bi2Ca1Cu2Sr2O8.27",
          "Bi2Ca1Cu2Sr2O8.272",
          "Bi2Ca1Cu2Sr2O8.288",
          "Bi2Ca1Cu2Sr2O8.291",
          "Bi2Ca1Cu2Sr2O8.293",
          "Bi2Ca1Cu2Sr2O8.3",
          "Bi2Ca1Cu2Sr2O8.329",
          "Bi2Ca1Cu2Sr2O8.373",
          "Bi2Ca1Cu2Sr2O8.428",
          "Bi2Ca2Cu2Sr1O8.229",
          "Bi2Cu1La0.24Sr1.76O6",
          "Bi2Cu1La0.3Sr1.7O6",
          "Bi2Cu1Sr2O6",
          "Bi2Cu1Sr2O6.09",
          "Bi2Cu1Sr2O6.13",
          "Bi2Cu1Sr2O6.14",
          "Bi2Cu1Sr2O6.16",
          "Bi2Cu1Sr2O6.175",
          "Bi2Cu1Sr2O6.18",
          "Bi2Cu1Sr2O6.36",
          "Bi4Ca2Cu4Sr4O16.25",
          "Br2Ca1.75Cu1Na0.25O2",
          "Br2Ca1.7Cu1Na0.3O2",
          "Br2Ca1.825Cu1Na0.175O2",
          "Br2Ca1.85Cu1Na0.15O2",
          "Br2Ca1.8Cu1Na0.2O2",
          "C1Cu1K0.25Sr1.75O5",
          "C1Cu1K0.3Sr1.7O5",
          "Ca0.065Cu1La1.935O4",
          "Ca0.075Cu1La1.925O4",
          "Ca0.08Cu1La1.92O4",
          "Ca0.09Cu1La1.91O4",
          "Ca0.113Cu1La1.887O4",
          "Ca0.115Cu1La1.885O4",
          "Ca0.11Cu1La1.89O4",
          "Ca0.125Cu1La1.875O4",
          "Ca0.12Cu1La1.88O4",
          "Ca0.13Cu1La1.87O4",
          "Ca0.14Cu1La1.86O4",
          "Ca0.15Cu1La0.85Nd1O4",
          "Ca0.15Cu3Pb2Sr2Y0.85O8",
          "Ca0.16Cu1La1.84O4",
          "Ca0.17Cu1La1.83O4",
          "Ca0.17Cu1Tm1.83O4",
          "Ca0.18Cu1La1.82O4",
          "Ca0.19Cu1La1.81O4",
          "Ca0.1Cu1La1.9O4",
          "Ca0.1Cu2Gd0.9Ru1Sr2O8",
          "Ca0.25Cu2Ga1Sr2Tm0.75O7",
          "Ca0.2Cu1La1.8O4",
          "Ca0.2Cu2Pr0.8Sr2Tl1O7",
          "Ca0.35Cu2Ga1Sr2Y0.65O7",
          "Ca0.36Cu3Pb2Sr2Y0.64O8",
          "Ca0.39Cu3Pb2Sr2Y0.61O8",
          "Ca0.3Cu1La1Sr0.7Tl1O5",
          "Ca0.3Cu2Ga1Sr2Tm0.7O7",
          "Ca0.47Cu3Pb2Sr2Y0.53O8",
          "Ca0.4Cu2Ga1Sr2Y0.6O7",
          "Ca0.5Cu2Ga1Sr2Y0.5O7",
          "Ca0.5Cu3Ho0.5Pb2Sr2O8",
          "Ca0.75Cu2Sr2Th0.25Tl1O7",
          "Ca0.8Cu2Pb0.5Sr2Tl0.5Y0.2O7",
          "Ca0.8Cu2Pr0.2Sr2Tl1O7",
          "Ca0.8Cu2Sr2Tl1Y0.2O7",
          "Ca0.9Cu2Pb0.5Sr2Tl0.5Y0.1O7",
          "Ca1.75Cl2Cu1Na0.25O2",
          "Ca1.76Cl2Cu1Na0.24O2",
          "Ca1.7Cl2Cu1K0.3O2",
          "Ca1.7Cl2Cu1Na0.3O2",
          "Ca1.81Cl2Cu1Na0.19O2",
          "Ca1.825Cl2Cu1Na0.175O2",
          "Ca1.82Cl2Cu1Na0.18O2",
          "Ca1.843Cl2Cu1Na0.157O2",
          "Ca1.84Cl2Cu1Na0.16O2",
          "Ca1.85Cl2Cu1Na0.15O2",
          "Ca1.85Cl2Cu1O2",
          "Ca1.867Cl2Cu1Na0.133O2",
          "Ca1.89Cl2Cu1Na0.11O2",
          "Ca1.8Cl2Cu1K0.2O2",
          "Ca1.8Cl2Cu1Na0.2O2",
          "Ca1.8Cl2Cu1O2",
          "Ca1.9Cl2Cu1K0.1O2",
          "Ca1.9Cl2Cu1O2",
          "Ca1Cu2Nd0.16Pb0.5Sr1.84Tl0.5O7",
          "Ca1Cu2Pb0.3Sr2Tl0.7O7",
          "Ca1Cu2Pb0.5Sr2Tl0.5O7",
          "Ca1Cu2Sr1.75Th0.25Tl1O7",
          "Ca2Cu3Ga1Sr2O9",
          "Ce0.02Cu2Gd0.98Ru1Sr2O8",
          "Ce0.04Cu1Pr1.96O4",
          "Ce0.064Cu1La1.936O4",
          "Ce0.091Cu1La1.909O4",
          "Ce0.09Cu1La1.91O4",
          "Ce0.09Cu1Pr1.91O4",
          "Ce0.105Cu1La1.895O4",
          "Ce0.109Cu1La1.891O4",
          "Ce0.11Cu1La1.89O4",
          "Ce0.12Cu1La1.88O4",
          "Ce0.12Cu1Sm1.88O4",
          "Ce0.135Cu1La1.865O4",
          "Ce0.13Cu1La1.87O4",
          "Ce0.13Cu1Pr1.87O4",
          "Ce0.143Cu1Sm1.857O4",
          "Ce0.14Cu1Nd1.86O4",
          "Ce0.14Cu1Pr1.86O4",
          "Ce0.14Cu1Sm1.86O4",
          "Ce0.153Cu1Nd1.847O4",
          "Ce0.156Cu1Sm1.844O4",
          "Ce0.15Cu1Eu1.85O4",
          "Ce0.15Cu1La1.85O4",
          "Ce0.15Cu1La1Nd0.85O4",
          "Ce0.15Cu1Nd1.85O4",
          "Ce0.15Cu1Sm1.85O4",
          "Ce0.16Cu1La1.84O4",
          "Ce0.179Cu1La1.821O4",
          "Ce0.17Cu1Nd1.83O4",
          "Ce0.17Cu1Pr1.83O4",
          "Ce0.2Cu1Pr1.8O4",
          "Ce0.2Cu1Sm1.8O4",
          "Ce0.5Cu2Nb1Nd1.5Sr2O10",
          "Ce0.7Cu2Eu1.3Ru1Sr2O10",
          "Ce0.8Cu2Eu1.2Ru1Sr2O10",
          "Cl1Cu2Sr3O5",
          "Co0.01Cu2Gd1Ru0.99Sr2O8",
          "Cr0.1Cu1Sr1.9Tl1O5",
          "Cr0.2Cu1Sr1.8Tl1O5",
          "Cr0.95Cu1Fe0.05O2",
          "Cr0.9Cu1Fe0.1O2",
          "Cr1Cu1O2",
          "Cr1Cu4Sr8Tl3O20",
          "Cu0.04Ru0.96Sr2Y1O6",
          "Cu0.05Ru0.95Sr2Y1O6",
          "Cu0.08Ru0.92Sr2Y1O6",
          "Cu0.09Li1Ti1.91O4",
          "Cu0.1Ho1Ru0.9Sr2O6",
          "Cu0.2Ru0.8Sr2Y1O6",
          "Cu1.2La1Sr1Tl0.8O5",
          "Cu1.9Gd1Li0.1Ru1Sr2O8",
          "Cu1F2Sr2O2",
          "Cu1Gd0.1Sr0.9O2",
          "Cu1K0.065La1.935O4",
          "Cu1K0.08La1.92O4",
          "Cu1K0.2La1.8O4",
          "Cu1La0.125Sr0.875O2",
          "Cu1La0.12Sr0.88O1.97",
          "Cu1La0.15Sr0.85O2",
          "Cu1La0.1Sr0.9O1.96",
          "Cu1La0.1Sr0.9O2",
          "Cu1La0.8Sr1.2Tl1O5",
          "Cu1La1.72Sr0.28O4",
          "Cu1La1.737Sr0.263O4",
          "Cu1La1.74Sr0.26O4",
          "Cu1La1.762Sr0.238O4",
          "Cu1La1.763Sr0.237O4",
          "Cu1La1.76Sr0.24O4",
          "Cu1La1.774Sr0.226O4",
          "Cu1La1.775Sr0.225O4",
          "Cu1La1.77Sr0.23O4",
          "Cu1La1.782Sr0.218O4",
          "Cu1La1.798Sr0.202O4",
          "Cu1La1.7Sm0.3O4",
          "Cu1La1.812Sr0.188O4",
          "Cu1La1.822Sr0.178O4",
          "Cu1La1.828Sr0.172O4",
          "Cu1La1.834Sr0.166O4",
          "Cu1La1.836Sr0.164O4",
          "Cu1La1.847Sr0.153O4",
          "Cu1La1.855Sr0.145O4",
          "Cu1La1.85Sr0.15O4",
          "Cu1La1.862Sr0.138O4",
          "Cu1La1.865Sr0.135O4",
          "Cu1La1.868Sr0.132O4",
          "Cu1La1.875Sr0.125O4",
          "Cu1La1.883Sr0.117O4",
          "Cu1La1.885Sr0.115O4",
          "Cu1La1.887Sr0.113O4",
          "Cu1La1.888Sr0.112O4",
          "Cu1La1.889Sr0.111O4",
          "Cu1La1.895Sr0.105O4",
          "Cu1La1.89Na0.11O4",
          "Cu1La1.913Sr0.087O4",
          "Cu1La1.914Sr0.086O4",
          "Cu1La1.925Sr0.075O4",
          "Cu1La1.929Na0.071O4",
          "Cu1La1.931Sr0.069O4",
          "Cu1La1.937Sr0.063O4",
          "Cu1La1.93Sr0.07O4",
          "Cu1La1.943Sr0.057O4",
          "Cu1La1.945Rb0.055O4",
          "Cu1La1.9Sm0.1O4",
          "Cu1La1Nd0.85Th0.15O4",
          "Cu1La1Sr1Tl0.7O5",
          "Cu1La1Sr1Tl1O5",
          "Cu1La1Sr1Tl1O5.09",
          "Cu1La2O4.005",
          "Cu1La2O4.012",
          "Cu1La2O4.017",
          "Cu1La2O4.022",
          "Cu1La2O4.032",
          "Cu1La2O4.034",
          "Cu1La2O4.035",
          "Cu1La2O4.044",
          "Cu1La2O4.047",
          "Cu1La2O4.05",
          "Cu1La2O4.054",
          "Cu1La2O4.0625",
          "Cu1La2O4.066",
          "Cu1La2O4.068",
          "Cu1La2O4.07",
          "Cu1La2O4.075",
          "Cu1La2O4.086",
          "Cu1La2O4.093",
          "Cu1La2O4.095",
          "Cu1La2O4.11",
          "Cu1La2O4.12",
          "Cu1La2O4.13",
          "Cu1La2O4.32",
          "Cu1Nd0.14Sr0.86O2",
          "Cu1Nd0.17Sr0.83O2",
          "Cu1Nd0.19Sr0.81O2",
          "Cu1Nd1.7O4",
          "Cu1Nd1.85Th0.15O4",
          "Cu1Nd1.85Y0.15O4",
          "Cu1Nd1.8O4",
          "Cu1Pr0.15Sr0.85O2",
          "Cu1Pr0.1Sr0.9O2",
          "Cu1Sm0.08Sr0.92O2",
          "Cu1Sm0.1Sr0.9O2",
          "Cu1Sr0.75Y0.25O2",
          "Cu1Sr0.7Y0.3O2",
          "Cu1Sr0.85Y0.15O2",
          "Cu1Sr0.8Y0.2O2",
          "Cu1Sr0.95Y0.05O2",
          "Cu1Sr0.9Y0.1O2",
          "Cu1Sr2O3.1",
          "Cu2.05Gd1Ru0.95Sr2O8",
          "Cu2.1Gd1Ru0.9Sr2O8",
          "Cu2.2Gd1Ru0.8Sr2O8",
          "Cu2Fe1Sr2Y1O7.51",
          "Cu2Fe1Sr2Y1O7.66",
          "Cu2Fe1Sr2Y1O7.68",
          "Cu2Gd0.82Nd0.18Ru1Sr2O8",
          "Cu2Gd0.91Nd0.09Ru1Sr2O8",
          "Cu2Gd0.9Ru1Sr2Y0.1O8",
          "Cu2Gd1Ir0.02Ru0.98Sr2O8",
          "Cu2Gd1Ir0.05Ru0.95Sr2O8",
          "Cu2Gd1Ir0.1Ru0.9Sr2O8",
          "Cu2Gd1Nb0.1Ru0.9Sr2O8",
          "Cu2Gd1Rh0.05Ru0.95Sr2O8",
          "Cu2Gd1Rh0.075Ru0.925Sr2O8",
          "Cu2Gd1Rh0.2Ru0.8Sr2O8",
          "Cu2Gd1Ru0.925Sn0.075Sr2O8",
          "Cu2Gd1Ru0.925Sr2Ti0.075O8",
          "Cu2Gd1Ru0.95Sn0.05Sr2O8",
          "Cu2Gd1Ru0.95Sr2Ti0.05O8",
          "Cu2Gd1Ru0.975Sn0.025Sr2O8",
          "Cu2Gd1Ru0.97Sr2Ti0.03O8",
          "Cu2Gd1Ru0.99Sr2Ti0.01O8",
          "Cu2Gd1Ru1Sr2O8",
          "Cu3Dy1Pb2Sr2O8"
         ],
         "type": "scatter",
         "x": [
          7,
          12.5,
          21,
          23,
          25,
          26.5,
          31,
          32,
          22.6,
          24,
          24.95,
          32,
          29,
          26,
          12.3,
          29,
          14.5,
          33.1,
          13.9,
          21.8,
          9,
          9.3,
          23.6,
          2.99,
          4.96,
          29,
          26,
          25.3,
          28,
          26.2,
          25.5,
          26.9,
          23.1,
          23.5,
          54,
          21.6,
          13.7,
          14,
          58,
          9.7,
          30,
          0.3,
          18.9,
          76,
          37.9,
          57.45,
          69,
          52.6,
          83,
          61,
          79.05,
          68.8,
          44,
          77.7,
          81,
          83.3,
          79.7,
          74.3,
          85.4,
          93,
          32.9,
          64,
          73.5,
          61,
          86,
          80,
          79.3,
          76.8,
          79.2,
          78.7,
          80.75,
          87,
          80,
          77.4,
          81.2,
          81.9,
          83.2,
          81,
          84.8,
          85.16,
          83.8,
          83.3,
          86.25,
          88.5,
          87,
          88.9,
          81.8,
          87,
          87.35714286,
          82.9,
          44.7,
          47.5,
          24,
          71.6,
          87,
          87.8,
          87,
          81.25,
          95.5,
          104,
          103,
          93.6,
          96.3,
          97.6,
          100,
          91.8,
          90.8,
          86.1,
          106,
          92,
          92.5,
          102,
          105,
          121,
          122,
          127,
          127,
          123,
          110,
          100,
          98,
          80.8,
          105.9816667,
          132.9,
          132,
          130,
          118.975,
          89.9,
          88,
          92.8,
          92.8,
          44,
          90.4,
          73,
          64.5,
          72,
          20,
          36,
          48,
          73,
          95,
          70,
          73.5,
          82,
          79.1,
          89,
          73,
          88.5,
          98,
          92,
          95.6,
          95.3,
          93.4,
          92.5,
          90.9,
          89.1,
          82,
          97,
          88,
          97.4,
          78,
          95.16,
          94.2,
          80,
          97,
          85,
          81,
          78,
          59,
          37.5,
          24.2,
          24,
          95,
          81,
          62,
          47,
          40,
          16,
          87.8,
          64.9,
          45.3,
          28.6,
          45.8,
          61.1,
          82.9,
          76.4,
          91.1,
          93.9,
          92.03333333,
          37.8,
          53.8,
          63,
          93.8,
          68.3,
          92,
          35,
          20.9,
          39.6,
          67.9,
          57.7,
          84,
          93.1,
          92.475,
          51.7,
          54.8,
          57.1,
          59.8,
          81,
          68.3,
          89.6,
          56.55,
          73.5,
          89.7,
          86.8,
          88.24,
          5.6,
          40.7,
          31.4,
          68.2,
          85.1,
          78.35,
          35.8,
          84.1,
          56.8925,
          22,
          25.93,
          89.5,
          91,
          90.83333333,
          23.5,
          43,
          54.9,
          74.46666667,
          78,
          75,
          63.5,
          75,
          74,
          69,
          72.66666667,
          76.2,
          77,
          72.3,
          72.025,
          66.78571429,
          63.66666667,
          55.25,
          50.5,
          37.875,
          79,
          81,
          87,
          69.3,
          78,
          79.42,
          78.8,
          80.5,
          107.25,
          76,
          83,
          85,
          79.5,
          75,
          88,
          89.4,
          48,
          79,
          68.35,
          17,
          73,
          75,
          89.9,
          95.3,
          80,
          83.15,
          75.455,
          87,
          80,
          67,
          76.5,
          74,
          65.7,
          77,
          92.55,
          71.5,
          78,
          74.1,
          49.3,
          58,
          88.25,
          90,
          86.45,
          91,
          81.3,
          81,
          89.125,
          85.5,
          89.26666667,
          92,
          91,
          85,
          74,
          78,
          70,
          90.6,
          73,
          70,
          70,
          78,
          70,
          89,
          83.7,
          84,
          90,
          86,
          67.2,
          85.5,
          92.2,
          90.2,
          89.1,
          87.5,
          70,
          47.3,
          47.2,
          42.1,
          76.4,
          24,
          30,
          7.38,
          10,
          16,
          14,
          10,
          7,
          3,
          8,
          82.4,
          18,
          16.5,
          10.5,
          10,
          11,
          13,
          16,
          5.55,
          9.2,
          15,
          20,
          20.1,
          23,
          23,
          23.85,
          24,
          28,
          32,
          23,
          47,
          34,
          34,
          30,
          33,
          32,
          20.5,
          61,
          28,
          30,
          38,
          27,
          65,
          77,
          32,
          40,
          76,
          39.5,
          35,
          75.56666667,
          52.5,
          105.2,
          58,
          52.75,
          99.3,
          26.5,
          26.9,
          24,
          27.6,
          27.7,
          26,
          27.055,
          25,
          19.7,
          24.225,
          30,
          20,
          15.14,
          24,
          26.95,
          41,
          18,
          15,
          102,
          31,
          83.15,
          51.6,
          71.5,
          13,
          23.6,
          13.8,
          30.3,
          20.35,
          21.5,
          24.3,
          28.5,
          27.1625,
          24.3,
          3.9,
          21.2,
          21.83333333,
          9.4,
          22.3,
          22.9,
          19.35,
          22.7,
          22.5,
          16.4,
          7.75,
          9.25,
          11.9,
          21.2325,
          18.05714286,
          1.5,
          7.225,
          12.8,
          15.425,
          3,
          14.7,
          25.05,
          33,
          30,
          70,
          25.5,
          37.5,
          43,
          117.5,
          98,
          132,
          25,
          5.1,
          11.9,
          17.6,
          14.4,
          30,
          23,
          37,
          19,
          44.33333333,
          43.5,
          20,
          21,
          41,
          36.9,
          42.4,
          31.9,
          42.5,
          41.45,
          27,
          4.98,
          8,
          9.5875,
          19.5,
          13,
          17.7,
          19.8,
          21.5,
          21.15,
          25,
          30.5,
          25,
          33.7,
          36,
          39.35,
          35,
          36.9,
          39.25,
          33.55,
          34.7,
          33,
          33,
          35.5,
          30.04,
          33,
          28.414,
          29.7,
          27,
          29.2,
          26.3,
          16,
          25,
          22.25,
          18.26666667,
          28,
          12,
          11.7,
          17.2,
          4.51,
          22,
          25,
          16,
          38.5,
          33,
          30,
          32,
          32,
          34.7,
          42,
          30,
          30.7,
          35,
          34,
          29.7,
          32,
          29.1,
          17,
          38,
          36,
          40.4,
          45,
          45.2,
          45,
          37.8,
          43.5,
          43,
          31,
          37.5,
          37.5,
          35,
          18,
          30.7,
          22.5,
          21,
          31.3,
          39,
          41.5,
          43,
          44,
          38.6,
          32.6,
          36.6,
          38.6,
          38.6,
          36.6,
          70,
          26.05,
          37.75,
          28.4,
          53.5,
          43.5,
          53,
          21,
          23.5,
          32.2,
          38,
          32.5,
          22,
          11.65,
          34.575,
          29.8,
          12.9,
          37.8,
          29.2,
          30,
          32.2,
          36.9,
          40.3,
          36.3,
          16.45,
          76.5
         ],
         "y": [
          10.6024,
          12.6924,
          20.248608333333333,
          24.032458333333334,
          24.877458333333333,
          25.252458333333333,
          29.145958333333336,
          29.145958333333336,
          22.32037800921907,
          22.32037800921907,
          22.32037800921907,
          22.817376521133355,
          22.817376521133355,
          22.4118043373443,
          20.90975095108082,
          22.072461857372286,
          21.13028521042338,
          22.37279513106107,
          18.273206563001885,
          18.555186563001882,
          16.02153002713977,
          16.045530027139772,
          17.094976456039614,
          12.376106614428995,
          12.691306614428992,
          19.500040111949954,
          23.853482757898245,
          23.853482757898245,
          23.69799173225722,
          23.549977995993487,
          23.549977995993487,
          23.74383275789825,
          23.549977995993487,
          23.26894228170777,
          50.5252499994,
          22.983668472183954,
          21.043630848352485,
          20.657653745177885,
          53.78858333309999,
          25.066668516764103,
          32.471154761904764,
          12.177333124725505,
          64.13703281654217,
          76.33705007009942,
          64.21663281654217,
          68.56994487512804,
          68.87548952810809,
          64.54570989987967,
          79.13118002261744,
          66.14886614987549,
          70.72994487512808,
          77.5627692333312,
          64.9004661498755,
          76.84062603382958,
          79.58407060057459,
          77.6393862379743,
          76.77345418266411,
          71.21353798439992,
          77.54909576175429,
          83.99049147950365,
          35.13740663326124,
          60.864067975986025,
          72.42180345926978,
          66.95084948320883,
          86.56401516109425,
          64.03437810171746,
          76.10309476374495,
          77.31680923333117,
          78.06330687501159,
          75.0100611160993,
          76.1196675355661,
          76.1196675355661,
          76.14034476374495,
          77.31680923333117,
          78.24130687501156,
          75.9120675355661,
          75.83567809704496,
          76.75280923333119,
          78.23930687501155,
          76.77345418266411,
          77.11841359310475,
          78.23930687501155,
          77.11841359310475,
          77.6393862379743,
          80.2234368523788,
          77.6393862379743,
          53.980572969206285,
          79.41626923333118,
          77.48198623797428,
          76.40605007009941,
          46.6109281017133,
          46.6109281017133,
          40.40547355625875,
          61.91893130253966,
          81.15175907460099,
          77.54909576175429,
          81.24861621745814,
          86.63646255593541,
          91.18055566116259,
          103.51050000000001,
          102.99716666666667,
          92.82360999016691,
          93.41640999016688,
          93.86434332350031,
          102.99716666666667,
          92.25374332350025,
          92.54149332350025,
          86.30661197429397,
          104.13050000000001,
          104.84874999999998,
          105.27275,
          105.27275,
          106.33941666666665,
          117.20780411255411,
          122.72780411255411,
          125.28980411255411,
          125.3198041125541,
          123.5798041125541,
          106.63300252525252,
          103.69633585858587,
          102.93633585858586,
          84.98161197429395,
          96.42331171409978,
          130.50474999999986,
          130.04074999999997,
          129.22074999999998,
          103.67821871804725,
          76.12892523140407,
          69.70744621650282,
          81.34593594568983,
          81.77103118378506,
          61.28660993015999,
          36.38809413326125,
          84.69801287222631,
          62.76085335349685,
          60.75335335349685,
          45.409453353496836,
          50.404453353496855,
          50.404453353496855,
          77.72164119573367,
          81.72688865950178,
          77.17336484997797,
          77.66511484997797,
          80.53590505304976,
          80.46390505304977,
          79.91691733375153,
          80.10516733375151,
          84.50732458903893,
          88.74249963268808,
          88.78916629935476,
          88.88296629935476,
          88.87996629935475,
          88.78736629935473,
          88.63789963268806,
          88.63789963268806,
          88.54761391840235,
          87.46752124163467,
          87.47136366587709,
          86.77492811032154,
          87.15392811032154,
          85.30423394886897,
          87.86226381899884,
          88.8941304856655,
          89.15845048566548,
          88.63865450865515,
          76.90480021844625,
          74.90688688511293,
          74.09488688511291,
          58.09260217097438,
          40.462632304633125,
          35.80763230463311,
          43.138777443609044,
          76.36994093768664,
          71.04066357808857,
          59.73959340264997,
          53.873060069316644,
          47.893060069316654,
          39.30272673598333,
          68.91106006931668,
          60.68986006931666,
          55.70956006931669,
          46.21808637677823,
          46.29808637677823,
          76.31011294309542,
          83.26482722874009,
          80.48389072083536,
          86.48811611745846,
          86.90665818063923,
          86.79465818043924,
          45.083613199860665,
          52.40405623870779,
          57.55257896598048,
          68.66971844143684,
          70.02088510810351,
          71.61961123456852,
          66.76232401271241,
          37.29070259387469,
          59.17606549495961,
          69.29932636839376,
          64.82456549495954,
          79.98040814617028,
          82.54749147950365,
          87.31742790817981,
          51.18698920505548,
          51.18698920505548,
          64.07260262269517,
          65.04160262269517,
          77.32571928936181,
          70.9328359560285,
          76.89741928936184,
          52.35436593581585,
          86.40607670282643,
          86.75769177855976,
          86.49081003612642,
          86.60123569390734,
          28.92703303460157,
          44.63640208222063,
          40.633735415553986,
          65.58518952810803,
          69.3191895281081,
          80.19828594568982,
          36.38809413326125,
          80.54493594568982,
          43.33848065476679,
          30.80290787698902,
          31.70680787698901,
          78.92782151124449,
          81.77103118378506,
          86.77012951875875,
          49.833789635872954,
          53.980572969206285,
          60.03961582634913,
          66.16127659735996,
          69.1622214874256,
          70.13398321717744,
          70.13398321717744,
          75.03432778276597,
          75.94128975778833,
          77.11841359310475,
          72.12013679326981,
          77.28680923333117,
          68.66048676510894,
          69.08066593179227,
          69.17379926511728,
          69.42966593179227,
          69.1622214874256,
          52.39517061552222,
          46.83517061552222,
          46.83517061552222,
          76.35165649627287,
          77.27540883123808,
          77.6209100474743,
          73.39049760895057,
          69.17379926511728,
          78.06330687501159,
          79.3060206005746,
          80.48726094753492,
          92.07824653467104,
          77.31493579468577,
          77.31493579468577,
          80.37493579468577,
          80.27493579468577,
          77.12743579468577,
          79.4623513808315,
          81.39497243495896,
          79.4623513808315,
          75.66520439451375,
          78.21687613434585,
          78.06393137854212,
          78.47111911892675,
          74.62633772785375,
          81.52225851195566,
          81.08793341274931,
          81.16146049608264,
          81.16146049608264,
          81.20107224211438,
          81.4203057682923,
          81.24070974211436,
          72.01344883898709,
          81.08793341274931,
          79.68562491404603,
          79.68562491404603,
          79.7995415807127,
          81.78275076138107,
          79.63562491404603,
          79.8131040807127,
          79.89702074737937,
          66.07368217230709,
          66.06344883898709,
          81.78275076138107,
          83.0365582266508,
          83.0665582266508,
          83.0665582266508,
          82.61642489332162,
          82.35579526369938,
          83.00119762635433,
          82.96494762635433,
          82.94807589435041,
          82.72941191583816,
          82.72941191583816,
          82.61878691583816,
          80.08907973157777,
          79.83086652810849,
          79.65986652810848,
          80.57191889581931,
          78.89748946500544,
          78.71239855591452,
          78.71239855591452,
          79.33452554004151,
          79.3828285703415,
          83.40785137829356,
          83.13492042591261,
          83.13492042591261,
          83.79956258277143,
          83.71622924943809,
          80.78671509843107,
          83.66525099128665,
          85.21280023371088,
          83.77134011317439,
          83.77134011317439,
          83.56317344650768,
          78.5062858609629,
          61.74872840840489,
          52.4522352080944,
          50.19575187476108,
          66.43376688607941,
          23.528943636363643,
          25.628943636363637,
          10.244436298701299,
          11.772769632034633,
          13.856369632034632,
          13.30636963203463,
          7.110787012987012,
          7.110787012987012,
          5.910787012987014,
          7.174120346320345,
          82.35579526369938,
          17.665,
          17.665,
          13.390000000000002,
          13.23,
          14.510000000000002,
          16.86951333333333,
          17.889513333333333,
          26.35232933606872,
          27.034790592243283,
          32.43878321860172,
          29.05246338798632,
          22.607776019200777,
          22.690376019200777,
          24.50954554102767,
          21.473370992835466,
          22.135946989408335,
          21.852217780704464,
          22.287660671385606,
          17.754577034898997,
          66.05091897103219,
          29.04579978305519,
          31.328545616388524,
          39.528907680496765,
          31.383745616388524,
          31.395245616388525,
          30.025984581156465,
          28.19243517600759,
          33.50408093261208,
          32.11422829612709,
          52.18867809941697,
          31.97615969301834,
          69.93450984368815,
          73.73650984368815,
          31.368821428571426,
          35.66408093261208,
          74.46650984368816,
          34.73490969301834,
          34.99657635968501,
          73.40849450131526,
          55.206191685098084,
          99.52411666666667,
          56.28153543509809,
          54.6575354350981,
          98.27611666666668,
          24.926163646696892,
          24.920713646696896,
          20.321854819135552,
          27.386628448284164,
          26.132888801819536,
          25.4093554684862,
          25.81956380181953,
          23.61337023039096,
          23.04125713515286,
          23.622361897057623,
          28.529716781617513,
          20.476013390564123,
          19.007113390564133,
          20.321854819135552,
          26.06956380181953,
          36.54274450091575,
          19.19354743818317,
          21.31693930145879,
          98.27611666666668,
          54.3175354350981,
          86.54478333333323,
          54.78619168509808,
          58.939052411401605,
          19.528752870812756,
          16.8972170168084,
          21.854157122450484,
          22.39355289470915,
          22.39355289470915,
          16.8972170168084,
          22.72093206137582,
          22.818438013756772,
          22.805063013756772,
          22.395719561162483,
          20.434933825942124,
          21.812566684268912,
          22.15769376750058,
          12.417717016808405,
          20.434933825942124,
          21.85936221751151,
          12.417717016808405,
          20.434933825942124,
          21.582833050844837,
          17.70750525459216,
          13.994111142344948,
          13.748702249505204,
          13.72584722222223,
          21.318770550844842,
          18.221219541192156,
          12.992640331496007,
          13.794140331496004,
          17.138245134178142,
          12.208967016808392,
          8.387092016808399,
          17.70750525459216,
          33.60285732323792,
          45.54133055563334,
          45.54133055563334,
          63.51877400033199,
          19.528752870812756,
          42.32216666663333,
          42.32216666663333,
          114.7915,
          102.33149999999999,
          120.30149999999999,
          38.98924974362308,
          12.160824391791783,
          12.160824391791783,
          17.375824391791767,
          25.211688025179438,
          25.716990914158295,
          20.55282439179177,
          35.08748809523809,
          26.472103231563118,
          45.96191666450002,
          40.122069382496605,
          27.248644336068722,
          30.783030085769642,
          35.19721361282793,
          39.23443843011566,
          44.98483333330001,
          35.33310314318038,
          45.020833333300004,
          40.793455096782296,
          29.72132142857142,
          17.85130590026033,
          16.473833042417347,
          16.61766637575068,
          21.454095992835462,
          21.244595992835468,
          21.473370992835466,
          22.17260470051945,
          22.17260470051945,
          22.05194698940834,
          22.695776019200775,
          30.05611366788055,
          18.967319253066595,
          30.21020124782313,
          32.34344440141733,
          31.228791350910484,
          32.18019201446039,
          32.18019201446039,
          32.52918261254112,
          29.811720049424036,
          32.40878592517051,
          31.023138131771002,
          30.70199785399322,
          30.10125629050061,
          27.671530836790225,
          29.76957897892587,
          29.37071566268655,
          29.272715662686554,
          29.43320994840083,
          29.554175281734164,
          27.008946392731943,
          20.93163408807356,
          27.083035767479416,
          26.99620243414608,
          27.955935659254305,
          31.017373146375693,
          20.00817964397426,
          19.887475196805763,
          20.637679643974263,
          17.875298858419,
          21.347852457264597,
          18.256319253066597,
          15.912897222222227,
          37.08582142857143,
          31.950321428571428,
          30.688821428571426,
          25.066668516764103,
          29.091746028287393,
          30.473003157920164,
          31.696286491253503,
          24.370280356864505,
          24.370280356864505,
          21.347852457264597,
          27.788489677026995,
          28.229675659254312,
          27.846500659254307,
          27.342281799225447,
          26.33275429922545,
          29.53517833728972,
          29.69821828173417,
          29.31071566268655,
          30.248278654250544,
          32.24738467939006,
          32.834482612541116,
          32.43878321860172,
          32.68980119413442,
          31.044002557346936,
          28.468737000912075,
          35.36938027949459,
          36.85110314318037,
          26.710625000000004,
          26.710625000000004,
          26.460051689427456,
          22.002403884178165,
          16.844832634178143,
          25.794718356094123,
          36.85110314318037,
          40.7079550967823,
          41.0984550967823,
          39.34543843011566,
          37.258934768499444,
          36.11025251741719,
          37.20135143516612,
          37.33735143516611,
          37.836351435166115,
          37.406351435166115,
          58.95830666646666,
          25.598292553352454,
          27.955686564896446,
          28.19243517600759,
          49.371935,
          45.98110166666665,
          48.71110166666666,
          24.54329255335244,
          30.006686600971516,
          29.082935176007574,
          31.188207632717546,
          30.473707632717527,
          30.473707632717527,
          27.734436600971506,
          17.463969537479446,
          17.463969537479446,
          17.537969537479444,
          31.188207632717546,
          27.955686564896446,
          28.7532242993842,
          27.62783656489644,
          17.537969537479444,
          25.598292553352454,
          27.33949215652706,
          17.47596953747944,
          83.32780675652471
         ]
        },
        {
         "line": {
          "color": "black",
          "dash": "dash",
          "width": 5
         },
         "mode": "lines",
         "name": "y=x",
         "type": "scatter",
         "x": [
          5.910787012987014,
          7.1693118916437095,
          8.427836770300406,
          9.6863616489571,
          10.944886527613797,
          12.20341140627049,
          13.461936284927187,
          14.720461163583881,
          15.978986042240578,
          17.23751092089727,
          18.49603579955397,
          19.754560678210662,
          21.01308555686736,
          22.271610435524053,
          23.53013531418075,
          24.788660192837447,
          26.04718507149414,
          27.305709950150835,
          28.564234828807532,
          29.82275970746423,
          31.081284586120923,
          32.339809464777616,
          33.59833434343431,
          34.85685922209101,
          36.115384100747704,
          37.3739089794044,
          38.63243385806109,
          39.89095873671779,
          41.149483615374486,
          42.40800849403118,
          43.66653337268788,
          44.92505825134457,
          46.18358313000127,
          47.44210800865796,
          48.700632887314654,
          49.959157765971355,
          51.21768264462805,
          52.47620752328474,
          53.73473240194144,
          54.99325728059814,
          56.25178215925483,
          57.510307037911524,
          58.76883191656822,
          60.02735679522492,
          61.28588167388161,
          62.544406552538305,
          63.802931431195006,
          65.06145630985169,
          66.3199811885084,
          67.57850606716508,
          68.83703094582178,
          70.09555582447848,
          71.35408070313517,
          72.61260558179187,
          73.87113046044857,
          75.12965533910526,
          76.38818021776196,
          77.64670509641866,
          78.90522997507534,
          80.16375485373204,
          81.42227973238874,
          82.68080461104543,
          83.93932948970213,
          85.19785436835882,
          86.45637924701552,
          87.71490412567222,
          88.9734290043289,
          90.23195388298561,
          91.4904787616423,
          92.749003640299,
          94.0075285189557,
          95.26605339761238,
          96.52457827626908,
          97.78310315492578,
          99.04162803358247,
          100.30015291223917,
          101.55867779089587,
          102.81720266955256,
          104.07572754820926,
          105.33425242686594,
          106.59277730552265,
          107.85130218417935,
          109.10982706283603,
          110.36835194149273,
          111.62687682014942,
          112.88540169880612,
          114.14392657746282,
          115.40245145611951,
          116.66097633477621,
          117.91950121343291,
          119.1780260920896,
          120.4365509707463,
          121.695075849403,
          122.95360072805968,
          124.21212560671638,
          125.47065048537307,
          126.72917536402977,
          127.98770024268647,
          129.24622512134314,
          130.50474999999986
         ],
         "y": [
          5.910787012987014,
          7.1693118916437095,
          8.427836770300406,
          9.6863616489571,
          10.944886527613797,
          12.20341140627049,
          13.461936284927187,
          14.720461163583881,
          15.978986042240578,
          17.23751092089727,
          18.49603579955397,
          19.754560678210662,
          21.01308555686736,
          22.271610435524053,
          23.53013531418075,
          24.788660192837447,
          26.04718507149414,
          27.305709950150835,
          28.564234828807532,
          29.82275970746423,
          31.081284586120923,
          32.339809464777616,
          33.59833434343431,
          34.85685922209101,
          36.115384100747704,
          37.3739089794044,
          38.63243385806109,
          39.89095873671779,
          41.149483615374486,
          42.40800849403118,
          43.66653337268788,
          44.92505825134457,
          46.18358313000127,
          47.44210800865796,
          48.700632887314654,
          49.959157765971355,
          51.21768264462805,
          52.47620752328474,
          53.73473240194144,
          54.99325728059814,
          56.25178215925483,
          57.510307037911524,
          58.76883191656822,
          60.02735679522492,
          61.28588167388161,
          62.544406552538305,
          63.802931431195006,
          65.06145630985169,
          66.3199811885084,
          67.57850606716508,
          68.83703094582178,
          70.09555582447848,
          71.35408070313517,
          72.61260558179187,
          73.87113046044857,
          75.12965533910526,
          76.38818021776196,
          77.64670509641866,
          78.90522997507534,
          80.16375485373204,
          81.42227973238874,
          82.68080461104543,
          83.93932948970213,
          85.19785436835882,
          86.45637924701552,
          87.71490412567222,
          88.9734290043289,
          90.23195388298561,
          91.4904787616423,
          92.749003640299,
          94.0075285189557,
          95.26605339761238,
          96.52457827626908,
          97.78310315492578,
          99.04162803358247,
          100.30015291223917,
          101.55867779089587,
          102.81720266955256,
          104.07572754820926,
          105.33425242686594,
          106.59277730552265,
          107.85130218417935,
          109.10982706283603,
          110.36835194149273,
          111.62687682014942,
          112.88540169880612,
          114.14392657746282,
          115.40245145611951,
          116.66097633477621,
          117.91950121343291,
          119.1780260920896,
          120.4365509707463,
          121.695075849403,
          122.95360072805968,
          124.21212560671638,
          125.47065048537307,
          126.72917536402977,
          127.98770024268647,
          129.24622512134314,
          130.50474999999986
         ]
        }
       ],
       "layout": {
        "font": {
         "color": "black",
         "family": "Helvetica",
         "size": 24
        },
        "height": 700,
        "margin": {
         "b": 10,
         "l": 10,
         "r": 10,
         "t": 10
        },
        "paper_bgcolor": "white",
        "plot_bgcolor": "white",
        "showlegend": false,
        "template": {
         "data": {
          "bar": [
           {
            "error_x": {
             "color": "#2a3f5f"
            },
            "error_y": {
             "color": "#2a3f5f"
            },
            "marker": {
             "line": {
              "color": "#E5ECF6",
              "width": 0.5
             },
             "pattern": {
              "fillmode": "overlay",
              "size": 10,
              "solidity": 0.2
             }
            },
            "type": "bar"
           }
          ],
          "barpolar": [
           {
            "marker": {
             "line": {
              "color": "#E5ECF6",
              "width": 0.5
             },
             "pattern": {
              "fillmode": "overlay",
              "size": 10,
              "solidity": 0.2
             }
            },
            "type": "barpolar"
           }
          ],
          "carpet": [
           {
            "aaxis": {
             "endlinecolor": "#2a3f5f",
             "gridcolor": "white",
             "linecolor": "white",
             "minorgridcolor": "white",
             "startlinecolor": "#2a3f5f"
            },
            "baxis": {
             "endlinecolor": "#2a3f5f",
             "gridcolor": "white",
             "linecolor": "white",
             "minorgridcolor": "white",
             "startlinecolor": "#2a3f5f"
            },
            "type": "carpet"
           }
          ],
          "choropleth": [
           {
            "colorbar": {
             "outlinewidth": 0,
             "ticks": ""
            },
            "type": "choropleth"
           }
          ],
          "contour": [
           {
            "colorbar": {
             "outlinewidth": 0,
             "ticks": ""
            },
            "colorscale": [
             [
              0,
              "#0d0887"
             ],
             [
              0.1111111111111111,
              "#46039f"
             ],
             [
              0.2222222222222222,
              "#7201a8"
             ],
             [
              0.3333333333333333,
              "#9c179e"
             ],
             [
              0.4444444444444444,
              "#bd3786"
             ],
             [
              0.5555555555555556,
              "#d8576b"
             ],
             [
              0.6666666666666666,
              "#ed7953"
             ],
             [
              0.7777777777777778,
              "#fb9f3a"
             ],
             [
              0.8888888888888888,
              "#fdca26"
             ],
             [
              1,
              "#f0f921"
             ]
            ],
            "type": "contour"
           }
          ],
          "contourcarpet": [
           {
            "colorbar": {
             "outlinewidth": 0,
             "ticks": ""
            },
            "type": "contourcarpet"
           }
          ],
          "heatmap": [
           {
            "colorbar": {
             "outlinewidth": 0,
             "ticks": ""
            },
            "colorscale": [
             [
              0,
              "#0d0887"
             ],
             [
              0.1111111111111111,
              "#46039f"
             ],
             [
              0.2222222222222222,
              "#7201a8"
             ],
             [
              0.3333333333333333,
              "#9c179e"
             ],
             [
              0.4444444444444444,
              "#bd3786"
             ],
             [
              0.5555555555555556,
              "#d8576b"
             ],
             [
              0.6666666666666666,
              "#ed7953"
             ],
             [
              0.7777777777777778,
              "#fb9f3a"
             ],
             [
              0.8888888888888888,
              "#fdca26"
             ],
             [
              1,
              "#f0f921"
             ]
            ],
            "type": "heatmap"
           }
          ],
          "heatmapgl": [
           {
            "colorbar": {
             "outlinewidth": 0,
             "ticks": ""
            },
            "colorscale": [
             [
              0,
              "#0d0887"
             ],
             [
              0.1111111111111111,
              "#46039f"
             ],
             [
              0.2222222222222222,
              "#7201a8"
             ],
             [
              0.3333333333333333,
              "#9c179e"
             ],
             [
              0.4444444444444444,
              "#bd3786"
             ],
             [
              0.5555555555555556,
              "#d8576b"
             ],
             [
              0.6666666666666666,
              "#ed7953"
             ],
             [
              0.7777777777777778,
              "#fb9f3a"
             ],
             [
              0.8888888888888888,
              "#fdca26"
             ],
             [
              1,
              "#f0f921"
             ]
            ],
            "type": "heatmapgl"
           }
          ],
          "histogram": [
           {
            "marker": {
             "pattern": {
              "fillmode": "overlay",
              "size": 10,
              "solidity": 0.2
             }
            },
            "type": "histogram"
           }
          ],
          "histogram2d": [
           {
            "colorbar": {
             "outlinewidth": 0,
             "ticks": ""
            },
            "colorscale": [
             [
              0,
              "#0d0887"
             ],
             [
              0.1111111111111111,
              "#46039f"
             ],
             [
              0.2222222222222222,
              "#7201a8"
             ],
             [
              0.3333333333333333,
              "#9c179e"
             ],
             [
              0.4444444444444444,
              "#bd3786"
             ],
             [
              0.5555555555555556,
              "#d8576b"
             ],
             [
              0.6666666666666666,
              "#ed7953"
             ],
             [
              0.7777777777777778,
              "#fb9f3a"
             ],
             [
              0.8888888888888888,
              "#fdca26"
             ],
             [
              1,
              "#f0f921"
             ]
            ],
            "type": "histogram2d"
           }
          ],
          "histogram2dcontour": [
           {
            "colorbar": {
             "outlinewidth": 0,
             "ticks": ""
            },
            "colorscale": [
             [
              0,
              "#0d0887"
             ],
             [
              0.1111111111111111,
              "#46039f"
             ],
             [
              0.2222222222222222,
              "#7201a8"
             ],
             [
              0.3333333333333333,
              "#9c179e"
             ],
             [
              0.4444444444444444,
              "#bd3786"
             ],
             [
              0.5555555555555556,
              "#d8576b"
             ],
             [
              0.6666666666666666,
              "#ed7953"
             ],
             [
              0.7777777777777778,
              "#fb9f3a"
             ],
             [
              0.8888888888888888,
              "#fdca26"
             ],
             [
              1,
              "#f0f921"
             ]
            ],
            "type": "histogram2dcontour"
           }
          ],
          "mesh3d": [
           {
            "colorbar": {
             "outlinewidth": 0,
             "ticks": ""
            },
            "type": "mesh3d"
           }
          ],
          "parcoords": [
           {
            "line": {
             "colorbar": {
              "outlinewidth": 0,
              "ticks": ""
             }
            },
            "type": "parcoords"
           }
          ],
          "pie": [
           {
            "automargin": true,
            "type": "pie"
           }
          ],
          "scatter": [
           {
            "fillpattern": {
             "fillmode": "overlay",
             "size": 10,
             "solidity": 0.2
            },
            "type": "scatter"
           }
          ],
          "scatter3d": [
           {
            "line": {
             "colorbar": {
              "outlinewidth": 0,
              "ticks": ""
             }
            },
            "marker": {
             "colorbar": {
              "outlinewidth": 0,
              "ticks": ""
             }
            },
            "type": "scatter3d"
           }
          ],
          "scattercarpet": [
           {
            "marker": {
             "colorbar": {
              "outlinewidth": 0,
              "ticks": ""
             }
            },
            "type": "scattercarpet"
           }
          ],
          "scattergeo": [
           {
            "marker": {
             "colorbar": {
              "outlinewidth": 0,
              "ticks": ""
             }
            },
            "type": "scattergeo"
           }
          ],
          "scattergl": [
           {
            "marker": {
             "colorbar": {
              "outlinewidth": 0,
              "ticks": ""
             }
            },
            "type": "scattergl"
           }
          ],
          "scattermapbox": [
           {
            "marker": {
             "colorbar": {
              "outlinewidth": 0,
              "ticks": ""
             }
            },
            "type": "scattermapbox"
           }
          ],
          "scatterpolar": [
           {
            "marker": {
             "colorbar": {
              "outlinewidth": 0,
              "ticks": ""
             }
            },
            "type": "scatterpolar"
           }
          ],
          "scatterpolargl": [
           {
            "marker": {
             "colorbar": {
              "outlinewidth": 0,
              "ticks": ""
             }
            },
            "type": "scatterpolargl"
           }
          ],
          "scatterternary": [
           {
            "marker": {
             "colorbar": {
              "outlinewidth": 0,
              "ticks": ""
             }
            },
            "type": "scatterternary"
           }
          ],
          "surface": [
           {
            "colorbar": {
             "outlinewidth": 0,
             "ticks": ""
            },
            "colorscale": [
             [
              0,
              "#0d0887"
             ],
             [
              0.1111111111111111,
              "#46039f"
             ],
             [
              0.2222222222222222,
              "#7201a8"
             ],
             [
              0.3333333333333333,
              "#9c179e"
             ],
             [
              0.4444444444444444,
              "#bd3786"
             ],
             [
              0.5555555555555556,
              "#d8576b"
             ],
             [
              0.6666666666666666,
              "#ed7953"
             ],
             [
              0.7777777777777778,
              "#fb9f3a"
             ],
             [
              0.8888888888888888,
              "#fdca26"
             ],
             [
              1,
              "#f0f921"
             ]
            ],
            "type": "surface"
           }
          ],
          "table": [
           {
            "cells": {
             "fill": {
              "color": "#EBF0F8"
             },
             "line": {
              "color": "white"
             }
            },
            "header": {
             "fill": {
              "color": "#C8D4E3"
             },
             "line": {
              "color": "white"
             }
            },
            "type": "table"
           }
          ]
         },
         "layout": {
          "annotationdefaults": {
           "arrowcolor": "#2a3f5f",
           "arrowhead": 0,
           "arrowwidth": 1
          },
          "autotypenumbers": "strict",
          "coloraxis": {
           "colorbar": {
            "outlinewidth": 0,
            "ticks": ""
           }
          },
          "colorscale": {
           "diverging": [
            [
             0,
             "#8e0152"
            ],
            [
             0.1,
             "#c51b7d"
            ],
            [
             0.2,
             "#de77ae"
            ],
            [
             0.3,
             "#f1b6da"
            ],
            [
             0.4,
             "#fde0ef"
            ],
            [
             0.5,
             "#f7f7f7"
            ],
            [
             0.6,
             "#e6f5d0"
            ],
            [
             0.7,
             "#b8e186"
            ],
            [
             0.8,
             "#7fbc41"
            ],
            [
             0.9,
             "#4d9221"
            ],
            [
             1,
             "#276419"
            ]
           ],
           "sequential": [
            [
             0,
             "#0d0887"
            ],
            [
             0.1111111111111111,
             "#46039f"
            ],
            [
             0.2222222222222222,
             "#7201a8"
            ],
            [
             0.3333333333333333,
             "#9c179e"
            ],
            [
             0.4444444444444444,
             "#bd3786"
            ],
            [
             0.5555555555555556,
             "#d8576b"
            ],
            [
             0.6666666666666666,
             "#ed7953"
            ],
            [
             0.7777777777777778,
             "#fb9f3a"
            ],
            [
             0.8888888888888888,
             "#fdca26"
            ],
            [
             1,
             "#f0f921"
            ]
           ],
           "sequentialminus": [
            [
             0,
             "#0d0887"
            ],
            [
             0.1111111111111111,
             "#46039f"
            ],
            [
             0.2222222222222222,
             "#7201a8"
            ],
            [
             0.3333333333333333,
             "#9c179e"
            ],
            [
             0.4444444444444444,
             "#bd3786"
            ],
            [
             0.5555555555555556,
             "#d8576b"
            ],
            [
             0.6666666666666666,
             "#ed7953"
            ],
            [
             0.7777777777777778,
             "#fb9f3a"
            ],
            [
             0.8888888888888888,
             "#fdca26"
            ],
            [
             1,
             "#f0f921"
            ]
           ]
          },
          "colorway": [
           "#636efa",
           "#EF553B",
           "#00cc96",
           "#ab63fa",
           "#FFA15A",
           "#19d3f3",
           "#FF6692",
           "#B6E880",
           "#FF97FF",
           "#FECB52"
          ],
          "font": {
           "color": "#2a3f5f"
          },
          "geo": {
           "bgcolor": "white",
           "lakecolor": "white",
           "landcolor": "#E5ECF6",
           "showlakes": true,
           "showland": true,
           "subunitcolor": "white"
          },
          "hoverlabel": {
           "align": "left"
          },
          "hovermode": "closest",
          "mapbox": {
           "style": "light"
          },
          "paper_bgcolor": "white",
          "plot_bgcolor": "#E5ECF6",
          "polar": {
           "angularaxis": {
            "gridcolor": "white",
            "linecolor": "white",
            "ticks": ""
           },
           "bgcolor": "#E5ECF6",
           "radialaxis": {
            "gridcolor": "white",
            "linecolor": "white",
            "ticks": ""
           }
          },
          "scene": {
           "xaxis": {
            "backgroundcolor": "#E5ECF6",
            "gridcolor": "white",
            "gridwidth": 2,
            "linecolor": "white",
            "showbackground": true,
            "ticks": "",
            "zerolinecolor": "white"
           },
           "yaxis": {
            "backgroundcolor": "#E5ECF6",
            "gridcolor": "white",
            "gridwidth": 2,
            "linecolor": "white",
            "showbackground": true,
            "ticks": "",
            "zerolinecolor": "white"
           },
           "zaxis": {
            "backgroundcolor": "#E5ECF6",
            "gridcolor": "white",
            "gridwidth": 2,
            "linecolor": "white",
            "showbackground": true,
            "ticks": "",
            "zerolinecolor": "white"
           }
          },
          "shapedefaults": {
           "line": {
            "color": "#2a3f5f"
           }
          },
          "ternary": {
           "aaxis": {
            "gridcolor": "white",
            "linecolor": "white",
            "ticks": ""
           },
           "baxis": {
            "gridcolor": "white",
            "linecolor": "white",
            "ticks": ""
           },
           "bgcolor": "#E5ECF6",
           "caxis": {
            "gridcolor": "white",
            "linecolor": "white",
            "ticks": ""
           }
          },
          "title": {
           "x": 0.05
          },
          "xaxis": {
           "automargin": true,
           "gridcolor": "white",
           "linecolor": "white",
           "ticks": "",
           "title": {
            "standoff": 15
           },
           "zerolinecolor": "white",
           "zerolinewidth": 2
          },
          "yaxis": {
           "automargin": true,
           "gridcolor": "white",
           "linecolor": "white",
           "ticks": "",
           "title": {
            "standoff": 15
           },
           "zerolinecolor": "white",
           "zerolinewidth": 2
          }
         }
        },
        "width": 800,
        "xaxis": {
         "linecolor": "black",
         "linewidth": 5,
         "range": [
          -0.2,
          142.9
         ],
         "showline": true,
         "ticklen": 5,
         "ticks": "inside",
         "tickwidth": 4,
         "title": {
          "text": "Real Value"
         }
        },
        "yaxis": {
         "linecolor": "black",
         "linewidth": 5,
         "range": [
          5.410787012987014,
          140.50474999999986
         ],
         "showline": true,
         "ticklen": 5,
         "ticks": "inside",
         "tickwidth": 4,
         "title": {
          "text": "Predicted Value"
         }
        }
       }
      }
     },
     "metadata": {},
     "output_type": "display_data"
    }
   ],
   "source": [
    "predicted_tc = best_model_PHFonly.predict(df_cup_all[features_names])\n",
    "target_tc = df_cup_all[\"tc\"]\n",
    "\n",
    "# Create a trace for the scatter plot\n",
    "trace = go.Scatter(\n",
    "    x=target_tc,\n",
    "    y=predicted_tc,\n",
    "    mode='markers', \n",
    "    text=df_formulas, \n",
    "    hoverinfo='text',\n",
    "    marker=dict(\n",
    "        color='rgb(33, 145, 140)',\n",
    "        size=8,  # Adjust marker size as needed\n",
    "        opacity=0.8  # Adjust marker opacity as needed\n",
    "    ),\n",
    "    name='Scatter Plot'  # Name of the trace\n",
    ")\n",
    "\n",
    "trace2  = go.Scatter(\n",
    "    x=np.linspace(min(predicted_tc), max(predicted_tc), 100),\n",
    "    y=np.linspace(min(predicted_tc), max(predicted_tc), 100),\n",
    "    mode='lines',\n",
    "    name='y=x',\n",
    "    line=dict(color='black', width=5, dash='dash')\n",
    ")\n",
    "\n",
    "# Create layout\n",
    "layout = go.Layout(\n",
    "    xaxis=dict(title=\"Real Value\", showline=True, linewidth=5, linecolor='black',\n",
    "            ticks='inside', tickwidth=4, ticklen=5, range=[min(target_tc)-0.5, max(target_tc)+10]),\n",
    "    yaxis=dict(title=\"Predicted Value\", showline=True, linewidth=5, linecolor='black',\n",
    "            ticks='inside', tickwidth=4, ticklen=5, range=[min(predicted_tc)-0.5, max(predicted_tc)+10]),\n",
    "    width=800,\n",
    "    height=700,\n",
    "    plot_bgcolor='white',\n",
    "    paper_bgcolor='white', \n",
    "    font=dict(family='Helvetica', size=24, color='black'),\n",
    "    margin=dict(l=10, r=10, b=10, t=10),\n",
    "    showlegend=False,\n",
    ")\n",
    "\n",
    "# Create the figure with data and layout, and plot it\n",
    "fig = go.Figure(data=[trace, trace2], layout=layout)\n",
    "\n",
    "# Show the plot (you can also save it to a file using fig.write_image(\"scatter_plot.png\"))\n",
    "fig.show()"
   ]
  }
 ],
 "metadata": {
  "kernelspec": {
   "display_name": "enviroment",
   "language": "python",
   "name": "python3"
  },
  "language_info": {
   "codemirror_mode": {
    "name": "ipython",
    "version": 3
   },
   "file_extension": ".py",
   "mimetype": "text/x-python",
   "name": "python",
   "nbconvert_exporter": "python",
   "pygments_lexer": "ipython3",
   "version": "3.7.16"
  }
 },
 "nbformat": 4,
 "nbformat_minor": 2
}
