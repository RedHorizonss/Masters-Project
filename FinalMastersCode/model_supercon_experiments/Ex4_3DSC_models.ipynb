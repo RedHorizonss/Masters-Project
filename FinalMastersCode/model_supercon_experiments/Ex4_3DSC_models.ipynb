{
 "cells": [
  {
   "cell_type": "markdown",
   "metadata": {},
   "source": [
    "with physical features. without, assymmetric. 2 unit cells wide, feature importance, without PHFs included\n",
    "\n",
    "Regressor and Classifier"
   ]
  },
  {
   "cell_type": "code",
   "execution_count": null,
   "metadata": {},
   "outputs": [
    {
     "ename": "",
     "evalue": "",
     "output_type": "error",
     "traceback": [
      "\u001b[1;31mRunning cells with 'enviroment (Python 3.7.16)' requires the ipykernel package.\n",
      "\u001b[1;31mRun the following command to install 'ipykernel' into the Python environment. \n",
      "\u001b[1;31mCommand: 'conda install -n enviroment ipykernel --update-deps --force-reinstall'"
     ]
    }
   ],
   "source": [
    "import sys\n",
    "sys.path.append('..')\n",
    "from cleaned_code import *\n",
    "\n",
    "import warnings\n",
    "warnings.filterwarnings(\"ignore\")"
   ]
  },
  {
   "cell_type": "code",
   "execution_count": null,
   "metadata": {},
   "outputs": [
    {
     "ename": "",
     "evalue": "",
     "output_type": "error",
     "traceback": [
      "\u001b[1;31mRunning cells with 'enviroment (Python 3.7.16)' requires the ipykernel package.\n",
      "\u001b[1;31mRun the following command to install 'ipykernel' into the Python environment. \n",
      "\u001b[1;31mCommand: 'conda install -n enviroment ipykernel --update-deps --force-reinstall'"
     ]
    }
   ],
   "source": [
    "from sklearn.ensemble import RandomForestClassifier, RandomForestRegressor\n",
    "from sklearn.model_selection import train_test_split, cross_val_score, GridSearchCV\n",
    "from sklearn.metrics import classification_report, confusion_matrix, accuracy_score, mean_absolute_error, mean_squared_error, r2_score\n",
    "\n",
    "\n",
    "def RFclassifier(features, target, folds = 5):\n",
    "    x_train, x_test, y_train, y_test = train_test_split(features, target, test_size=0.2)\n",
    "    \n",
    "    # Create a Random Forest classifier\n",
    "    model = RandomForestClassifier(n_estimators=50, max_depth=5, min_samples_leaf=2, min_samples_split=2)\n",
    "\n",
    "    # Train the classifier on the training data\n",
    "    model.fit(x_train, y_train)\n",
    "\n",
    "    # Predict on the test data\n",
    "    predictions = model.predict(x_test)\n",
    "    \n",
    "    accuracy = accuracy_score(y_test, predictions)\n",
    "    \n",
    "    conf_matrix = confusion_matrix(y_test, predictions)\n",
    "    \n",
    "    class_report = classification_report(y_test, predictions)\n",
    "    \n",
    "    cv_scores = cross_val_score(model, features, target, cv=folds)\n",
    "    mean_cv_score = np.mean(cv_scores)\n",
    "    standard_deviation_cv_scores = np.std(cv_scores)\n",
    "    standard_error = standard_deviation_cv_scores / np.sqrt(folds)\n",
    "    \n",
    "    return model, accuracy, conf_matrix, class_report, mean_cv_score, standard_error\n",
    "\n",
    "def RFregressor(features, target, \n",
    "                param_grid = {\n",
    "                    'n_estimators': [50, 100, 150],\n",
    "                    'max_depth': [None, 10, 20],\n",
    "                    'min_samples_split': [2, 5, 10],\n",
    "                    'min_samples_leaf': [1, 2, 4],\n",
    "                    'max_features': ['log2', 'sqrt']}):\n",
    "    \n",
    "    # Split data into training and testing sets\n",
    "    x_train, x_test, y_train, y_test = train_test_split(features, target, test_size=0.2)\n",
    "\n",
    "    # Define the RandomForestRegressor model\n",
    "    model = RandomForestRegressor()\n",
    "\n",
    "    # Instantiate the grid search model\n",
    "    grid_search = GridSearchCV(estimator=model, param_grid=param_grid, cv=5)\n",
    "\n",
    "    # Fit the grid search to the data\n",
    "    grid_search.fit(x_train, y_train)\n",
    "\n",
    "    # Get the best parameters\n",
    "    best_params = grid_search.best_params_\n",
    "    print(\"Best Parameters:\", best_params)\n",
    "\n",
    "    # Use the best model for prediction\n",
    "    best_model = grid_search.best_estimator_\n",
    "    y_pred = best_model.predict(x_test)\n",
    "\n",
    "    # Evaluate the model\n",
    "    mae = mean_absolute_error(y_test, y_pred)\n",
    "    mse = mean_squared_error(y_test, y_pred)\n",
    "    rmse = np.sqrt(mse)\n",
    "    r2 = r2_score(y_test, y_pred)\n",
    "\n",
    "    # Print evaluation metrics\n",
    "    print(\"Mean Absolute Error (MAE):\", mae)\n",
    "    print(\"Mean Squared Error (MSE):\", mse)\n",
    "    print(\"Root Mean Squared Error (RMSE):\", rmse)\n",
    "    print(\"R-squared (R2) Score:\", r2)\n",
    "    \n",
    "    return model, best_params, mae, mse, rmse, r2"
   ]
  },
  {
   "cell_type": "markdown",
   "metadata": {},
   "source": [
    "# Data Work\n",
    "\n",
    "Getting the data here, and cleaning it. the _2 comes from the fact that the CID also is a dataset, but we're only looking at the MP dataset as its open source and a bit smaller so easier to manage."
   ]
  },
  {
   "cell_type": "code",
   "execution_count": null,
   "metadata": {},
   "outputs": [
    {
     "ename": "",
     "evalue": "",
     "output_type": "error",
     "traceback": [
      "\u001b[1;31mRunning cells with 'enviroment (Python 3.7.16)' requires the ipykernel package.\n",
      "\u001b[1;31mRun the following command to install 'ipykernel' into the Python environment. \n",
      "\u001b[1;31mCommand: 'conda install -n enviroment ipykernel --update-deps --force-reinstall'"
     ]
    }
   ],
   "source": [
    "import pandas as pd\n",
    "df_MP = pd.read_csv(\"3DSC_MP.csv\", skiprows=1)\n",
    "df_MP['cif'] = df_MP['cif'].str.replace('data/final/MP/', '')\n",
    "df_MP.columns = df_MP.columns.str.replace('_2', '')\n",
    "df_MP.head()"
   ]
  },
  {
   "cell_type": "code",
   "execution_count": null,
   "metadata": {},
   "outputs": [
    {
     "ename": "",
     "evalue": "",
     "output_type": "error",
     "traceback": [
      "\u001b[1;31mRunning cells with 'enviroment (Python 3.7.16)' requires the ipykernel package.\n",
      "\u001b[1;31mRun the following command to install 'ipykernel' into the Python environment. \n",
      "\u001b[1;31mCommand: 'conda install -n enviroment ipykernel --update-deps --force-reinstall'"
     ]
    }
   ],
   "source": [
    "df_MP_asymcell = df_MP.copy()\n",
    "\n",
    "asymcell_features = np.load(\"featurised_datasets\\PHF_AsymCell.npy\")\n",
    "\n",
    "for i, feature in enumerate(asymcell_features.T):\n",
    "    df_MP_asymcell[f\"Feature {i}\"] = np.squeeze(feature)\n",
    "    \n",
    "df_MP_asymcell"
   ]
  },
  {
   "cell_type": "code",
   "execution_count": null,
   "metadata": {},
   "outputs": [
    {
     "ename": "",
     "evalue": "",
     "output_type": "error",
     "traceback": [
      "\u001b[1;31mRunning cells with 'enviroment (Python 3.7.16)' requires the ipykernel package.\n",
      "\u001b[1;31mRun the following command to install 'ipykernel' into the Python environment. \n",
      "\u001b[1;31mCommand: 'conda install -n enviroment ipykernel --update-deps --force-reinstall'"
     ]
    }
   ],
   "source": [
    "NA_values_columns = []\n",
    "for column in df_MP.columns:\n",
    "    if df_MP[column].dtype != 'object' and df_MP[column].dtype != 'bool':\n",
    "        print(f\"Column '{column}' has type: {df_MP[column].dtype}\")\n",
    "        if df_MP[column].isna().any():\n",
    "            NA_values_columns.append(column)\n"
   ]
  },
  {
   "cell_type": "code",
   "execution_count": null,
   "metadata": {},
   "outputs": [
    {
     "ename": "",
     "evalue": "",
     "output_type": "error",
     "traceback": [
      "\u001b[1;31mRunning cells with 'enviroment (Python 3.7.16)' requires the ipykernel package.\n",
      "\u001b[1;31mRun the following command to install 'ipykernel' into the Python environment. \n",
      "\u001b[1;31mCommand: 'conda install -n enviroment ipykernel --update-deps --force-reinstall'"
     ]
    }
   ],
   "source": [
    "print(NA_values_columns)"
   ]
  },
  {
   "cell_type": "markdown",
   "metadata": {},
   "source": [
    "So there are no materials in here that need to be excluded"
   ]
  },
  {
   "cell_type": "code",
   "execution_count": null,
   "metadata": {},
   "outputs": [
    {
     "ename": "",
     "evalue": "",
     "output_type": "error",
     "traceback": [
      "\u001b[1;31mRunning cells with 'enviroment (Python 3.7.16)' requires the ipykernel package.\n",
      "\u001b[1;31mRun the following command to install 'ipykernel' into the Python environment. \n",
      "\u001b[1;31mCommand: 'conda install -n enviroment ipykernel --update-deps --force-reinstall'"
     ]
    }
   ],
   "source": [
    "for column in df_MP.columns:\n",
    "    if df_MP[column].dtype == 'bool':\n",
    "        print(df_MP[column].value_counts(), \"\\n\")"
   ]
  },
  {
   "cell_type": "code",
   "execution_count": null,
   "metadata": {},
   "outputs": [
    {
     "ename": "",
     "evalue": "",
     "output_type": "error",
     "traceback": [
      "\u001b[1;31mRunning cells with 'enviroment (Python 3.7.16)' requires the ipykernel package.\n",
      "\u001b[1;31mRun the following command to install 'ipykernel' into the Python environment. \n",
      "\u001b[1;31mCommand: 'conda install -n enviroment ipykernel --update-deps --force-reinstall'"
     ]
    }
   ],
   "source": [
    "for column in df_MP.columns:\n",
    "    if df_MP[column].dtype == 'object':\n",
    "        print(f\"Column {column}\")"
   ]
  },
  {
   "cell_type": "code",
   "execution_count": null,
   "metadata": {},
   "outputs": [
    {
     "ename": "",
     "evalue": "",
     "output_type": "error",
     "traceback": [
      "\u001b[1;31mRunning cells with 'enviroment (Python 3.7.16)' requires the ipykernel package.\n",
      "\u001b[1;31mRun the following command to install 'ipykernel' into the Python environment. \n",
      "\u001b[1;31mCommand: 'conda install -n enviroment ipykernel --update-deps --force-reinstall'"
     ]
    }
   ],
   "source": [
    "df_MP[\"magnetic_type\"].value_counts()"
   ]
  },
  {
   "cell_type": "markdown",
   "metadata": {},
   "source": [
    "Interesting, but does not show me that I need to remove anything from this dataset"
   ]
  },
  {
   "cell_type": "code",
   "execution_count": null,
   "metadata": {},
   "outputs": [
    {
     "ename": "",
     "evalue": "",
     "output_type": "error",
     "traceback": [
      "\u001b[1;31mRunning cells with 'enviroment (Python 3.7.16)' requires the ipykernel package.\n",
      "\u001b[1;31mRun the following command to install 'ipykernel' into the Python environment. \n",
      "\u001b[1;31mCommand: 'conda install -n enviroment ipykernel --update-deps --force-reinstall'"
     ]
    }
   ],
   "source": [
    "target = df_MP_asymcell[\"tc\"]\n",
    "PHFs = df_MP_asymcell.iloc[:, -18:]\n",
    "PHFs"
   ]
  },
  {
   "cell_type": "code",
   "execution_count": null,
   "metadata": {},
   "outputs": [
    {
     "ename": "",
     "evalue": "",
     "output_type": "error",
     "traceback": [
      "\u001b[1;31mRunning cells with 'enviroment (Python 3.7.16)' requires the ipykernel package.\n",
      "\u001b[1;31mRun the following command to install 'ipykernel' into the Python environment. \n",
      "\u001b[1;31mCommand: 'conda install -n enviroment ipykernel --update-deps --force-reinstall'"
     ]
    }
   ],
   "source": [
    "physical_features = [\"lata\", \"latb\", \"latc\", \"cell_volume\",\n",
    "                     \"band_gap\", \"density\",\"weight\",\n",
    "                     \"e_above_hull\", \"efermi\", \"encut\", \"energy\", \"energy_per_atom\", \"final_energy\", \"final_energy_per_atom\", \"formation_energy_per_atom\",\n",
    "                     \"nsites\", \"total_magnetization\", \"exchange_symmetry\", \"num_unique_magnetic_sites\", \"total_magnetization_normalized_vol\", \"total_magnetization_normalized_formula_units\",\n",
    "                     \"num_magnetic_sites\", \"true_total_magnetization\"]"
   ]
  },
  {
   "cell_type": "code",
   "execution_count": null,
   "metadata": {},
   "outputs": [
    {
     "ename": "",
     "evalue": "",
     "output_type": "error",
     "traceback": [
      "\u001b[1;31mRunning cells with 'enviroment (Python 3.7.16)' requires the ipykernel package.\n",
      "\u001b[1;31mRun the following command to install 'ipykernel' into the Python environment. \n",
      "\u001b[1;31mCommand: 'conda install -n enviroment ipykernel --update-deps --force-reinstall'"
     ]
    }
   ],
   "source": [
    "def corr_matrix(dataframe, features):\n",
    "    features.append(\"tc\")    \n",
    "    # Compute the correlation matrix\n",
    "    correlation_matrix = dataframe[features].corr()\n",
    "\n",
    "    # Get the correlation values\n",
    "    correlation_values = correlation_matrix.values.round(2)\n",
    "\n",
    "    # Create the heatmap trace\n",
    "    heatmap = go.Heatmap(\n",
    "        z=correlation_values,\n",
    "        x=correlation_matrix.columns,\n",
    "        y=correlation_matrix.index,\n",
    "        colorscale='Viridis', \n",
    "        colorbar=dict(title='Pearson Coefficient', titleside='right', tickvals = [-1,-0.5,0,0.5,1], ticktext = [-1,-0.5,0,0.5,1]),\n",
    "        text=correlation_values,\n",
    "        texttemplate=\"%{text}\",\n",
    "        textfont={\"size\":8}\n",
    "    )\n",
    "    \n",
    "\n",
    "    # Create the layout\n",
    "    layout = go.Layout(\n",
    "        xaxis=dict(\n",
    "            title=\"\",\n",
    "            showline=True,\n",
    "            linewidth=2,\n",
    "            linecolor='black',\n",
    "            ticks='inside',\n",
    "            tickwidth=2,\n",
    "            ticklen=5\n",
    "        ),\n",
    "        yaxis=dict(\n",
    "            title=\"\",\n",
    "            showline=True,\n",
    "            linewidth=2,\n",
    "            linecolor='black',\n",
    "            ticks='inside',\n",
    "            tickwidth=2,\n",
    "            ticklen=5\n",
    "        ),\n",
    "        width=1200,\n",
    "        height=1000,\n",
    "        plot_bgcolor='white',\n",
    "        paper_bgcolor='white',\n",
    "        font=dict(family='Helvetica', size=16, color='black'),\n",
    "        margin=dict(l=5, r=5, b=5, t=10)\n",
    "    )\n",
    "\n",
    "    # Create the figure\n",
    "    fig = go.Figure(data=[heatmap], layout=layout)\n",
    "\n",
    "    # Show the figure\n",
    "    fig.show()\n",
    "    \n",
    "corr_matrix(df_MP_asymcell, physical_features)"
   ]
  },
  {
   "cell_type": "code",
   "execution_count": null,
   "metadata": {},
   "outputs": [
    {
     "ename": "",
     "evalue": "",
     "output_type": "error",
     "traceback": [
      "\u001b[1;31mRunning cells with 'enviroment (Python 3.7.16)' requires the ipykernel package.\n",
      "\u001b[1;31mRun the following command to install 'ipykernel' into the Python environment. \n",
      "\u001b[1;31mCommand: 'conda install -n enviroment ipykernel --update-deps --force-reinstall'"
     ]
    }
   ],
   "source": [
    "corr_matrix(df_MP_asymcell, PHFs.columns.tolist())"
   ]
  },
  {
   "cell_type": "markdown",
   "metadata": {},
   "source": [
    "Not sure if these Correlation matrixs are showing anything significant in particular, I think a feature importance will be better."
   ]
  },
  {
   "cell_type": "code",
   "execution_count": null,
   "metadata": {},
   "outputs": [
    {
     "ename": "",
     "evalue": "",
     "output_type": "error",
     "traceback": [
      "\u001b[1;31mRunning cells with 'enviroment (Python 3.7.16)' requires the ipykernel package.\n",
      "\u001b[1;31mRun the following command to install 'ipykernel' into the Python environment. \n",
      "\u001b[1;31mCommand: 'conda install -n enviroment ipykernel --update-deps --force-reinstall'"
     ]
    }
   ],
   "source": [
    "regressor_df = pd.DataFrame(columns=[\"mae\" ,\"mse\", \"rmse\", \"r2\", \"n_estimators\", \"max_depth\", \"min_samples_split\", \"min_samples_leaf\", \"max_features\"])\n",
    "\n",
    "for i in range(1):\n",
    "    model, best_params, mae, mse, rmse, r2 = RFregressor(PHFs, target)\n",
    "    regressor_df = regressor_df.append({\"mae\": mae ,\"mse\": mse, \"rmse\": rmse, \"r2\": r2, \n",
    "                                        \"n_estimators\": best_params[\"n_estimators\"], \"max_depth\": best_params[\"max_depth\"], \n",
    "                                        \"min_samples_split\": best_params[\"min_samples_split\"], \"min_samples_leaf\": best_params[\"min_samples_leaf\"], \"max_features\": best_params[\"max_features\"]}, ignore_index=True)"
   ]
  },
  {
   "cell_type": "code",
   "execution_count": null,
   "metadata": {},
   "outputs": [
    {
     "ename": "",
     "evalue": "",
     "output_type": "error",
     "traceback": [
      "\u001b[1;31mRunning cells with 'enviroment (Python 3.7.16)' requires the ipykernel package.\n",
      "\u001b[1;31mRun the following command to install 'ipykernel' into the Python environment. \n",
      "\u001b[1;31mCommand: 'conda install -n enviroment ipykernel --update-deps --force-reinstall'"
     ]
    }
   ],
   "source": [
    "regressor_df"
   ]
  },
  {
   "cell_type": "code",
   "execution_count": null,
   "metadata": {},
   "outputs": [
    {
     "ename": "",
     "evalue": "",
     "output_type": "error",
     "traceback": [
      "\u001b[1;31mRunning cells with 'enviroment (Python 3.7.16)' requires the ipykernel package.\n",
      "\u001b[1;31mRun the following command to install 'ipykernel' into the Python environment. \n",
      "\u001b[1;31mCommand: 'conda install -n enviroment ipykernel --update-deps --force-reinstall'"
     ]
    }
   ],
   "source": [
    "regressor_df.describe()"
   ]
  },
  {
   "cell_type": "code",
   "execution_count": null,
   "metadata": {},
   "outputs": [
    {
     "ename": "",
     "evalue": "",
     "output_type": "error",
     "traceback": [
      "\u001b[1;31mRunning cells with 'enviroment (Python 3.7.16)' requires the ipykernel package.\n",
      "\u001b[1;31mRun the following command to install 'ipykernel' into the Python environment. \n",
      "\u001b[1;31mCommand: 'conda install -n enviroment ipykernel --update-deps --force-reinstall'"
     ]
    }
   ],
   "source": [
    "regressor_df[\"n_estimators\"].mean()"
   ]
  },
  {
   "cell_type": "markdown",
   "metadata": {},
   "source": [
    "### Hyperparameters should be:\n",
    "- n_estimators = 100\n",
    "- max_depth = 20\n",
    "- min_samples_split = 2\n",
    "- min_samples_leaf = 1\n",
    "- max_features = sqrt"
   ]
  },
  {
   "cell_type": "code",
   "execution_count": null,
   "metadata": {},
   "outputs": [
    {
     "ename": "",
     "evalue": "",
     "output_type": "error",
     "traceback": [
      "\u001b[1;31mRunning cells with 'enviroment (Python 3.7.16)' requires the ipykernel package.\n",
      "\u001b[1;31mRun the following command to install 'ipykernel' into the Python environment. \n",
      "\u001b[1;31mCommand: 'conda install -n enviroment ipykernel --update-deps --force-reinstall'"
     ]
    }
   ],
   "source": [
    "model.fit(PHFs, target)\n",
    "# Get the feature importances\n",
    "importances = model.feature_importances_\n",
    "\n",
    "# Get the names of the features\n",
    "feature_names = PHFs.columns.tolist()\n",
    "\n",
    "import plotly.graph_objects as go\n",
    "\n",
    "# Sort the feature importances in descending order\n",
    "indices = np.argsort(importances)[::-1]\n",
    "\n",
    "# Create the bar plot\n",
    "fig = go.Figure(data=go.Bar(\n",
    "    x=[feature_names[i] for i in indices],\n",
    "    y=importances[indices],\n",
    "    marker_color='rgb(49, 104, 142)'\n",
    "))\n",
    "\n",
    "# Set the layout\n",
    "fig.update_layout(\n",
    "    xaxis=dict(\n",
    "        title=\"Features\",\n",
    "        showline=True,\n",
    "        linewidth=2,\n",
    "        linecolor='black',\n",
    "        ticks='outside',\n",
    "        tickson = \"boundaries\",\n",
    "        tickwidth=2,\n",
    "        ticklen=5\n",
    "    ),\n",
    "    yaxis=dict(\n",
    "        title=\"Feature Importance\",\n",
    "        showline=True,\n",
    "        linewidth=2,\n",
    "        linecolor='black',\n",
    "        ticks='inside',\n",
    "        tickwidth=2,\n",
    "        ticklen=5\n",
    "    ),\n",
    "    barmode='group',\n",
    "    width=800,\n",
    "    height=500,\n",
    "    plot_bgcolor='white',\n",
    "    paper_bgcolor='white',\n",
    "    font=dict(family='Helvetica', size=16, color='black'),\n",
    "    margin=dict(l=10, r=10, b=10, t=10),\n",
    "    legend=dict(\n",
    "        title=dict(\n",
    "            text=\"Unit Cell Size\",\n",
    "            font=dict(\n",
    "                family='Helvetica',\n",
    "                size=16,\n",
    "                color='black'\n",
    "            )\n",
    "        )\n",
    "    )\n",
    ")\n",
    "# Show the plot\n",
    "fig.show()"
   ]
  },
  {
   "cell_type": "code",
   "execution_count": null,
   "metadata": {},
   "outputs": [
    {
     "ename": "",
     "evalue": "",
     "output_type": "error",
     "traceback": [
      "\u001b[1;31mRunning cells with 'enviroment (Python 3.7.16)' requires the ipykernel package.\n",
      "\u001b[1;31mRun the following command to install 'ipykernel' into the Python environment. \n",
      "\u001b[1;31mCommand: 'conda install -n enviroment ipykernel --update-deps --force-reinstall'"
     ]
    }
   ],
   "source": [
    "combined_features = pd.concat([PHFs, df_MP_asymcell[physical_features]], axis=1)"
   ]
  },
  {
   "cell_type": "code",
   "execution_count": null,
   "metadata": {},
   "outputs": [
    {
     "ename": "",
     "evalue": "",
     "output_type": "error",
     "traceback": [
      "\u001b[1;31mRunning cells with 'enviroment (Python 3.7.16)' requires the ipykernel package.\n",
      "\u001b[1;31mRun the following command to install 'ipykernel' into the Python environment. \n",
      "\u001b[1;31mCommand: 'conda install -n enviroment ipykernel --update-deps --force-reinstall'"
     ]
    }
   ],
   "source": [
    "regressor_df = pd.DataFrame(columns=[\"mae\" ,\"mse\", \"rmse\", \"r2\", \"n_estimators\", \"max_depth\", \"min_samples_split\", \"min_samples_leaf\", \"max_features\"])\n",
    "\n",
    "for i in range(1):\n",
    "    model, best_params, mae, mse, rmse, r2 = RFregressor(combined_features, target)\n",
    "    regressor_df = regressor_df.append({\"mae\": mae ,\"mse\": mse, \"rmse\": rmse, \"r2\": r2, \n",
    "                                        \"n_estimators\": best_params[\"n_estimators\"], \"max_depth\": best_params[\"max_depth\"], \n",
    "                                        \"min_samples_split\": best_params[\"min_samples_split\"], \"min_samples_leaf\": best_params[\"min_samples_leaf\"], \"max_features\": best_params[\"max_features\"]}, ignore_index=True)"
   ]
  }
 ],
 "metadata": {
  "kernelspec": {
   "display_name": "enviroment",
   "language": "python",
   "name": "python3"
  },
  "language_info": {
   "codemirror_mode": {
    "name": "ipython",
    "version": 3
   },
   "file_extension": ".py",
   "mimetype": "text/x-python",
   "name": "python",
   "nbconvert_exporter": "python",
   "pygments_lexer": "ipython3",
   "version": "3.7.16"
  }
 },
 "nbformat": 4,
 "nbformat_minor": 2
}
