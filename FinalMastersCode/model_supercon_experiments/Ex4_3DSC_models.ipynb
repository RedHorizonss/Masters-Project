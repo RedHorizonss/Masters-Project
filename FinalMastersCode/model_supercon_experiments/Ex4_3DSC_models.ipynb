{
 "cells": [
  {
   "cell_type": "markdown",
   "metadata": {},
   "source": [
    "with physical features. without, assymmetric. 2 unit cells wide, feature importance, without PHFs included\n",
    "\n",
    "Regressor and Classifier"
   ]
  },
  {
   "cell_type": "code",
   "execution_count": 1,
   "metadata": {},
   "outputs": [],
   "source": [
    "import sys\n",
    "sys.path.append('..')\n",
    "from cleaned_code import *\n",
    "\n",
    "import warnings\n",
    "warnings.filterwarnings(\"ignore\")"
   ]
  },
  {
   "cell_type": "code",
   "execution_count": 2,
   "metadata": {},
   "outputs": [],
   "source": [
    "from sklearn.ensemble import RandomForestClassifier, RandomForestRegressor\n",
    "from sklearn.model_selection import train_test_split, cross_val_score, GridSearchCV\n",
    "from sklearn.metrics import classification_report, confusion_matrix, accuracy_score, mean_absolute_error, mean_squared_error, r2_score\n",
    "\n",
    "\n",
    "def RFclassifier(features, target, folds = 5):\n",
    "    x_train, x_test, y_train, y_test = train_test_split(features, target, test_size=0.2)\n",
    "    \n",
    "    # Create a Random Forest classifier\n",
    "    model = RandomForestClassifier(n_estimators=50, max_depth=5, min_samples_leaf=2, min_samples_split=2)\n",
    "\n",
    "    # Train the classifier on the training data\n",
    "    model.fit(x_train, y_train)\n",
    "\n",
    "    # Predict on the test data\n",
    "    predictions = model.predict(x_test)\n",
    "    \n",
    "    accuracy = accuracy_score(y_test, predictions)\n",
    "    \n",
    "    conf_matrix = confusion_matrix(y_test, predictions)\n",
    "    \n",
    "    class_report = classification_report(y_test, predictions)\n",
    "    \n",
    "    cv_scores = cross_val_score(model, features, target, cv=folds)\n",
    "    mean_cv_score = np.mean(cv_scores)\n",
    "    standard_deviation_cv_scores = np.std(cv_scores)\n",
    "    standard_error = standard_deviation_cv_scores / np.sqrt(folds)\n",
    "    \n",
    "    return model, accuracy, conf_matrix, class_report, mean_cv_score, standard_error\n",
    "\n",
    "def RFregressor(features, target, \n",
    "                param_grid = {\n",
    "                    'n_estimators': [50, 100, 150],\n",
    "                    'max_depth': [None, 10, 20],\n",
    "                    'min_samples_split': [2, 5, 10],\n",
    "                    'min_samples_leaf': [1, 2, 4],\n",
    "                    'max_features': ['auto', 'sqrt']}):\n",
    "    \n",
    "    # Split data into training and testing sets\n",
    "    x_train, x_test, y_train, y_test = train_test_split(features, target, test_size=0.2)\n",
    "\n",
    "    # Define the RandomForestRegressor model\n",
    "    model = RandomForestRegressor()\n",
    "\n",
    "    # Instantiate the grid search model\n",
    "    grid_search = GridSearchCV(estimator=model, param_grid=param_grid, cv=5)\n",
    "\n",
    "    # Fit the grid search to the data\n",
    "    grid_search.fit(x_train, y_train)\n",
    "\n",
    "    # Get the best parameters\n",
    "    best_params = grid_search.best_params_\n",
    "    print(\"Best Parameters:\", best_params)\n",
    "\n",
    "    # Use the best model for prediction\n",
    "    best_model = grid_search.best_estimator_\n",
    "    y_pred = best_model.predict(x_test)\n",
    "\n",
    "    # Evaluate the model\n",
    "    mae = mean_absolute_error(y_test, y_pred)\n",
    "    mse = mean_squared_error(y_test, y_pred)\n",
    "    rmse = np.sqrt(mse)\n",
    "    r2 = r2_score(y_test, y_pred)\n",
    "\n",
    "    # Print evaluation metrics\n",
    "    print(\"Mean Absolute Error (MAE):\", mae)\n",
    "    print(\"Mean Squared Error (MSE):\", mse)\n",
    "    print(\"Root Mean Squared Error (RMSE):\", rmse)\n",
    "    print(\"R-squared (R2) Score:\", r2)\n",
    "    \n",
    "    return model, best_params, mae, mse, rmse, r2"
   ]
  },
  {
   "cell_type": "markdown",
   "metadata": {},
   "source": [
    "# Data Work\n",
    "\n",
    "Getting the data here, and cleaning it. the _2 comes from the fact that the CID also is a dataset, but we're only looking at the MP dataset as its open source and a bit smaller so easier to manage."
   ]
  },
  {
   "cell_type": "code",
   "execution_count": 3,
   "metadata": {},
   "outputs": [
    {
     "data": {
      "text/html": [
       "<div>\n",
       "<style scoped>\n",
       "    .dataframe tbody tr th:only-of-type {\n",
       "        vertical-align: middle;\n",
       "    }\n",
       "\n",
       "    .dataframe tbody tr th {\n",
       "        vertical-align: top;\n",
       "    }\n",
       "\n",
       "    .dataframe thead th {\n",
       "        text-align: right;\n",
       "    }\n",
       "</style>\n",
       "<table border=\"1\" class=\"dataframe\">\n",
       "  <thead>\n",
       "    <tr style=\"text-align: right;\">\n",
       "      <th></th>\n",
       "      <th>formula_sc</th>\n",
       "      <th>formula_similarity</th>\n",
       "      <th>totreldiff</th>\n",
       "      <th>formula_frac</th>\n",
       "      <th>correct_formula_frac</th>\n",
       "      <th>formula</th>\n",
       "      <th>orig_formula_cif</th>\n",
       "      <th>tc</th>\n",
       "      <th>sc_class</th>\n",
       "      <th>sc_class_unique_sc</th>\n",
       "      <th>...</th>\n",
       "      <th>monoclinic</th>\n",
       "      <th>orthorhombic</th>\n",
       "      <th>tetragonal</th>\n",
       "      <th>triclinic</th>\n",
       "      <th>trigonal</th>\n",
       "      <th>primitive</th>\n",
       "      <th>base-centered</th>\n",
       "      <th>body-centered</th>\n",
       "      <th>face-centered</th>\n",
       "      <th>weight</th>\n",
       "    </tr>\n",
       "  </thead>\n",
       "  <tbody>\n",
       "    <tr>\n",
       "      <th>0</th>\n",
       "      <td>Ag0.02Ge2Pd1.98Sr1</td>\n",
       "      <td>2</td>\n",
       "      <td>0.008000</td>\n",
       "      <td>1.0</td>\n",
       "      <td>True</td>\n",
       "      <td>Ag0.02Ge2Pd1.98Sr1</td>\n",
       "      <td>Ge2Pd2Sr1</td>\n",
       "      <td>2.64</td>\n",
       "      <td>Other</td>\n",
       "      <td>True</td>\n",
       "      <td>...</td>\n",
       "      <td>0</td>\n",
       "      <td>0</td>\n",
       "      <td>7</td>\n",
       "      <td>0</td>\n",
       "      <td>0</td>\n",
       "      <td>0</td>\n",
       "      <td>0</td>\n",
       "      <td>1</td>\n",
       "      <td>0</td>\n",
       "      <td>1.0</td>\n",
       "    </tr>\n",
       "    <tr>\n",
       "      <th>1</th>\n",
       "      <td>Ag0.15Sn0.85Te1</td>\n",
       "      <td>3</td>\n",
       "      <td>0.150000</td>\n",
       "      <td>1.0</td>\n",
       "      <td>True</td>\n",
       "      <td>Ag0.15Sn0.85Te1</td>\n",
       "      <td>Sn1Te1</td>\n",
       "      <td>2.15</td>\n",
       "      <td>Other</td>\n",
       "      <td>True</td>\n",
       "      <td>...</td>\n",
       "      <td>0</td>\n",
       "      <td>0</td>\n",
       "      <td>0</td>\n",
       "      <td>0</td>\n",
       "      <td>0</td>\n",
       "      <td>0</td>\n",
       "      <td>0</td>\n",
       "      <td>0</td>\n",
       "      <td>1</td>\n",
       "      <td>1.0</td>\n",
       "    </tr>\n",
       "    <tr>\n",
       "      <th>2</th>\n",
       "      <td>Ag0.1Ge2Pd1.9Sr1</td>\n",
       "      <td>2</td>\n",
       "      <td>0.040000</td>\n",
       "      <td>1.0</td>\n",
       "      <td>True</td>\n",
       "      <td>Ag0.1Ge2Pd1.9Sr1</td>\n",
       "      <td>Ge2Pd2Sr1</td>\n",
       "      <td>2.62</td>\n",
       "      <td>Other</td>\n",
       "      <td>True</td>\n",
       "      <td>...</td>\n",
       "      <td>0</td>\n",
       "      <td>0</td>\n",
       "      <td>7</td>\n",
       "      <td>0</td>\n",
       "      <td>0</td>\n",
       "      <td>0</td>\n",
       "      <td>0</td>\n",
       "      <td>1</td>\n",
       "      <td>0</td>\n",
       "      <td>1.0</td>\n",
       "    </tr>\n",
       "    <tr>\n",
       "      <th>3</th>\n",
       "      <td>Ag0.1In0.9Te1</td>\n",
       "      <td>3</td>\n",
       "      <td>0.100000</td>\n",
       "      <td>1.0</td>\n",
       "      <td>True</td>\n",
       "      <td>Ag0.1In0.9Te1</td>\n",
       "      <td>In1Te1</td>\n",
       "      <td>1.20</td>\n",
       "      <td>Other</td>\n",
       "      <td>True</td>\n",
       "      <td>...</td>\n",
       "      <td>0</td>\n",
       "      <td>0</td>\n",
       "      <td>0</td>\n",
       "      <td>0</td>\n",
       "      <td>0</td>\n",
       "      <td>0</td>\n",
       "      <td>0</td>\n",
       "      <td>0</td>\n",
       "      <td>1</td>\n",
       "      <td>1.0</td>\n",
       "    </tr>\n",
       "    <tr>\n",
       "      <th>4</th>\n",
       "      <td>Ag0.2Ba1Si1.8</td>\n",
       "      <td>3</td>\n",
       "      <td>0.133333</td>\n",
       "      <td>4.0</td>\n",
       "      <td>False</td>\n",
       "      <td>Ag0.8Ba4Si7.2</td>\n",
       "      <td>Ba4Si8</td>\n",
       "      <td>3.20</td>\n",
       "      <td>Other</td>\n",
       "      <td>True</td>\n",
       "      <td>...</td>\n",
       "      <td>0</td>\n",
       "      <td>0</td>\n",
       "      <td>0</td>\n",
       "      <td>0</td>\n",
       "      <td>0</td>\n",
       "      <td>1</td>\n",
       "      <td>0</td>\n",
       "      <td>0</td>\n",
       "      <td>0</td>\n",
       "      <td>1.0</td>\n",
       "    </tr>\n",
       "  </tbody>\n",
       "</table>\n",
       "<p>5 rows × 92 columns</p>\n",
       "</div>"
      ],
      "text/plain": [
       "           formula_sc  formula_similarity  totreldiff  formula_frac  \\\n",
       "0  Ag0.02Ge2Pd1.98Sr1                   2    0.008000           1.0   \n",
       "1     Ag0.15Sn0.85Te1                   3    0.150000           1.0   \n",
       "2    Ag0.1Ge2Pd1.9Sr1                   2    0.040000           1.0   \n",
       "3       Ag0.1In0.9Te1                   3    0.100000           1.0   \n",
       "4       Ag0.2Ba1Si1.8                   3    0.133333           4.0   \n",
       "\n",
       "   correct_formula_frac             formula orig_formula_cif    tc sc_class  \\\n",
       "0                  True  Ag0.02Ge2Pd1.98Sr1        Ge2Pd2Sr1  2.64    Other   \n",
       "1                  True     Ag0.15Sn0.85Te1           Sn1Te1  2.15    Other   \n",
       "2                  True    Ag0.1Ge2Pd1.9Sr1        Ge2Pd2Sr1  2.62    Other   \n",
       "3                  True       Ag0.1In0.9Te1           In1Te1  1.20    Other   \n",
       "4                 False       Ag0.8Ba4Si7.2           Ba4Si8  3.20    Other   \n",
       "\n",
       "   sc_class_unique_sc  ... monoclinic orthorhombic  tetragonal triclinic  \\\n",
       "0                True  ...          0            0           7         0   \n",
       "1                True  ...          0            0           0         0   \n",
       "2                True  ...          0            0           7         0   \n",
       "3                True  ...          0            0           0         0   \n",
       "4                True  ...          0            0           0         0   \n",
       "\n",
       "  trigonal primitive base-centered body-centered face-centered weight  \n",
       "0        0         0             0             1             0    1.0  \n",
       "1        0         0             0             0             1    1.0  \n",
       "2        0         0             0             1             0    1.0  \n",
       "3        0         0             0             0             1    1.0  \n",
       "4        0         1             0             0             0    1.0  \n",
       "\n",
       "[5 rows x 92 columns]"
      ]
     },
     "execution_count": 3,
     "metadata": {},
     "output_type": "execute_result"
    }
   ],
   "source": [
    "import pandas as pd\n",
    "df_MP = pd.read_csv(\"3DSC_MP.csv\", skiprows=1)\n",
    "df_MP['cif'] = df_MP['cif'].str.replace('data/final/MP/', '')\n",
    "df_MP.columns = df_MP.columns.str.replace('_2', '')\n",
    "df_MP.head()"
   ]
  },
  {
   "cell_type": "code",
   "execution_count": 4,
   "metadata": {},
   "outputs": [
    {
     "data": {
      "text/html": [
       "<div>\n",
       "<style scoped>\n",
       "    .dataframe tbody tr th:only-of-type {\n",
       "        vertical-align: middle;\n",
       "    }\n",
       "\n",
       "    .dataframe tbody tr th {\n",
       "        vertical-align: top;\n",
       "    }\n",
       "\n",
       "    .dataframe thead th {\n",
       "        text-align: right;\n",
       "    }\n",
       "</style>\n",
       "<table border=\"1\" class=\"dataframe\">\n",
       "  <thead>\n",
       "    <tr style=\"text-align: right;\">\n",
       "      <th></th>\n",
       "      <th>formula_sc</th>\n",
       "      <th>formula_similarity</th>\n",
       "      <th>totreldiff</th>\n",
       "      <th>formula_frac</th>\n",
       "      <th>correct_formula_frac</th>\n",
       "      <th>formula</th>\n",
       "      <th>orig_formula_cif</th>\n",
       "      <th>tc</th>\n",
       "      <th>sc_class</th>\n",
       "      <th>sc_class_unique_sc</th>\n",
       "      <th>...</th>\n",
       "      <th>Feature 8</th>\n",
       "      <th>Feature 9</th>\n",
       "      <th>Feature 10</th>\n",
       "      <th>Feature 11</th>\n",
       "      <th>Feature 12</th>\n",
       "      <th>Feature 13</th>\n",
       "      <th>Feature 14</th>\n",
       "      <th>Feature 15</th>\n",
       "      <th>Feature 16</th>\n",
       "      <th>Feature 17</th>\n",
       "    </tr>\n",
       "  </thead>\n",
       "  <tbody>\n",
       "    <tr>\n",
       "      <th>0</th>\n",
       "      <td>Ag0.02Ge2Pd1.98Sr1</td>\n",
       "      <td>2</td>\n",
       "      <td>0.008000</td>\n",
       "      <td>1.0</td>\n",
       "      <td>True</td>\n",
       "      <td>Ag0.02Ge2Pd1.98Sr1</td>\n",
       "      <td>Ge2Pd2Sr1</td>\n",
       "      <td>2.640000</td>\n",
       "      <td>Other</td>\n",
       "      <td>True</td>\n",
       "      <td>...</td>\n",
       "      <td>0.0</td>\n",
       "      <td>2.781936</td>\n",
       "      <td>0.297758</td>\n",
       "      <td>0.0</td>\n",
       "      <td>1.809062</td>\n",
       "      <td>0.132656</td>\n",
       "      <td>0.0</td>\n",
       "      <td>4.888015</td>\n",
       "      <td>0.000000</td>\n",
       "      <td>0.0</td>\n",
       "    </tr>\n",
       "    <tr>\n",
       "      <th>1</th>\n",
       "      <td>Ag0.15Sn0.85Te1</td>\n",
       "      <td>3</td>\n",
       "      <td>0.150000</td>\n",
       "      <td>1.0</td>\n",
       "      <td>True</td>\n",
       "      <td>Ag0.15Sn0.85Te1</td>\n",
       "      <td>Sn1Te1</td>\n",
       "      <td>2.150000</td>\n",
       "      <td>Other</td>\n",
       "      <td>True</td>\n",
       "      <td>...</td>\n",
       "      <td>0.0</td>\n",
       "      <td>2.778744</td>\n",
       "      <td>0.000000</td>\n",
       "      <td>0.0</td>\n",
       "      <td>3.781856</td>\n",
       "      <td>0.000000</td>\n",
       "      <td>0.0</td>\n",
       "      <td>0.000000</td>\n",
       "      <td>0.000000</td>\n",
       "      <td>0.0</td>\n",
       "    </tr>\n",
       "    <tr>\n",
       "      <th>2</th>\n",
       "      <td>Ag0.1Ge2Pd1.9Sr1</td>\n",
       "      <td>2</td>\n",
       "      <td>0.040000</td>\n",
       "      <td>1.0</td>\n",
       "      <td>True</td>\n",
       "      <td>Ag0.1Ge2Pd1.9Sr1</td>\n",
       "      <td>Ge2Pd2Sr1</td>\n",
       "      <td>2.620000</td>\n",
       "      <td>Other</td>\n",
       "      <td>True</td>\n",
       "      <td>...</td>\n",
       "      <td>0.0</td>\n",
       "      <td>2.781936</td>\n",
       "      <td>0.297758</td>\n",
       "      <td>0.0</td>\n",
       "      <td>1.809062</td>\n",
       "      <td>0.132656</td>\n",
       "      <td>0.0</td>\n",
       "      <td>4.888015</td>\n",
       "      <td>0.000000</td>\n",
       "      <td>0.0</td>\n",
       "    </tr>\n",
       "    <tr>\n",
       "      <th>3</th>\n",
       "      <td>Ag0.1In0.9Te1</td>\n",
       "      <td>3</td>\n",
       "      <td>0.100000</td>\n",
       "      <td>1.0</td>\n",
       "      <td>True</td>\n",
       "      <td>Ag0.1In0.9Te1</td>\n",
       "      <td>In1Te1</td>\n",
       "      <td>1.200000</td>\n",
       "      <td>Other</td>\n",
       "      <td>True</td>\n",
       "      <td>...</td>\n",
       "      <td>0.0</td>\n",
       "      <td>2.721158</td>\n",
       "      <td>0.000000</td>\n",
       "      <td>0.0</td>\n",
       "      <td>3.664907</td>\n",
       "      <td>0.000000</td>\n",
       "      <td>0.0</td>\n",
       "      <td>0.000000</td>\n",
       "      <td>0.000000</td>\n",
       "      <td>0.0</td>\n",
       "    </tr>\n",
       "    <tr>\n",
       "      <th>4</th>\n",
       "      <td>Ag0.2Ba1Si1.8</td>\n",
       "      <td>3</td>\n",
       "      <td>0.133333</td>\n",
       "      <td>4.0</td>\n",
       "      <td>False</td>\n",
       "      <td>Ag0.8Ba4Si7.2</td>\n",
       "      <td>Ba4Si8</td>\n",
       "      <td>3.200000</td>\n",
       "      <td>Other</td>\n",
       "      <td>True</td>\n",
       "      <td>...</td>\n",
       "      <td>0.0</td>\n",
       "      <td>4.866506</td>\n",
       "      <td>0.682774</td>\n",
       "      <td>0.0</td>\n",
       "      <td>1.839699</td>\n",
       "      <td>0.182906</td>\n",
       "      <td>0.0</td>\n",
       "      <td>12.958865</td>\n",
       "      <td>3.481724</td>\n",
       "      <td>0.0</td>\n",
       "    </tr>\n",
       "    <tr>\n",
       "      <th>...</th>\n",
       "      <td>...</td>\n",
       "      <td>...</td>\n",
       "      <td>...</td>\n",
       "      <td>...</td>\n",
       "      <td>...</td>\n",
       "      <td>...</td>\n",
       "      <td>...</td>\n",
       "      <td>...</td>\n",
       "      <td>...</td>\n",
       "      <td>...</td>\n",
       "      <td>...</td>\n",
       "      <td>...</td>\n",
       "      <td>...</td>\n",
       "      <td>...</td>\n",
       "      <td>...</td>\n",
       "      <td>...</td>\n",
       "      <td>...</td>\n",
       "      <td>...</td>\n",
       "      <td>...</td>\n",
       "      <td>...</td>\n",
       "      <td>...</td>\n",
       "    </tr>\n",
       "    <tr>\n",
       "      <th>5768</th>\n",
       "      <td>Y1Zn1</td>\n",
       "      <td>1</td>\n",
       "      <td>0.000000</td>\n",
       "      <td>1.0</td>\n",
       "      <td>True</td>\n",
       "      <td>Y1Zn1</td>\n",
       "      <td>Y1Zn1</td>\n",
       "      <td>0.000000</td>\n",
       "      <td>Other</td>\n",
       "      <td>True</td>\n",
       "      <td>...</td>\n",
       "      <td>0.0</td>\n",
       "      <td>1.552541</td>\n",
       "      <td>0.000000</td>\n",
       "      <td>0.0</td>\n",
       "      <td>1.579418</td>\n",
       "      <td>0.000000</td>\n",
       "      <td>0.0</td>\n",
       "      <td>0.000000</td>\n",
       "      <td>0.000000</td>\n",
       "      <td>0.0</td>\n",
       "    </tr>\n",
       "    <tr>\n",
       "      <th>5769</th>\n",
       "      <td>Yb1</td>\n",
       "      <td>1</td>\n",
       "      <td>0.000000</td>\n",
       "      <td>3.0</td>\n",
       "      <td>False</td>\n",
       "      <td>Yb3</td>\n",
       "      <td>Yb3</td>\n",
       "      <td>0.000000</td>\n",
       "      <td>Heavy_fermion</td>\n",
       "      <td>True</td>\n",
       "      <td>...</td>\n",
       "      <td>0.0</td>\n",
       "      <td>3.351341</td>\n",
       "      <td>0.000000</td>\n",
       "      <td>0.0</td>\n",
       "      <td>3.703747</td>\n",
       "      <td>0.000000</td>\n",
       "      <td>0.0</td>\n",
       "      <td>0.000000</td>\n",
       "      <td>0.000000</td>\n",
       "      <td>0.0</td>\n",
       "    </tr>\n",
       "    <tr>\n",
       "      <th>5770</th>\n",
       "      <td>Zn1</td>\n",
       "      <td>1</td>\n",
       "      <td>0.000000</td>\n",
       "      <td>2.0</td>\n",
       "      <td>False</td>\n",
       "      <td>Zn2</td>\n",
       "      <td>Zn2</td>\n",
       "      <td>0.850800</td>\n",
       "      <td>Other</td>\n",
       "      <td>True</td>\n",
       "      <td>...</td>\n",
       "      <td>0.0</td>\n",
       "      <td>1.506546</td>\n",
       "      <td>0.000000</td>\n",
       "      <td>0.0</td>\n",
       "      <td>1.509753</td>\n",
       "      <td>0.000000</td>\n",
       "      <td>0.0</td>\n",
       "      <td>0.000000</td>\n",
       "      <td>0.000000</td>\n",
       "      <td>0.0</td>\n",
       "    </tr>\n",
       "    <tr>\n",
       "      <th>5771</th>\n",
       "      <td>Zn2Zr1</td>\n",
       "      <td>1</td>\n",
       "      <td>0.000000</td>\n",
       "      <td>2.0</td>\n",
       "      <td>False</td>\n",
       "      <td>Zn4Zr2</td>\n",
       "      <td>Zn4Zr2</td>\n",
       "      <td>0.296667</td>\n",
       "      <td>Other</td>\n",
       "      <td>True</td>\n",
       "      <td>...</td>\n",
       "      <td>0.0</td>\n",
       "      <td>3.177911</td>\n",
       "      <td>0.000000</td>\n",
       "      <td>0.0</td>\n",
       "      <td>1.661336</td>\n",
       "      <td>0.000000</td>\n",
       "      <td>0.0</td>\n",
       "      <td>0.000000</td>\n",
       "      <td>0.000000</td>\n",
       "      <td>0.0</td>\n",
       "    </tr>\n",
       "    <tr>\n",
       "      <th>5772</th>\n",
       "      <td>Zr1</td>\n",
       "      <td>1</td>\n",
       "      <td>0.000000</td>\n",
       "      <td>2.0</td>\n",
       "      <td>False</td>\n",
       "      <td>Zr2</td>\n",
       "      <td>Zr2</td>\n",
       "      <td>0.996667</td>\n",
       "      <td>Other</td>\n",
       "      <td>True</td>\n",
       "      <td>...</td>\n",
       "      <td>0.0</td>\n",
       "      <td>1.595737</td>\n",
       "      <td>0.000000</td>\n",
       "      <td>0.0</td>\n",
       "      <td>1.645789</td>\n",
       "      <td>0.000000</td>\n",
       "      <td>0.0</td>\n",
       "      <td>0.000000</td>\n",
       "      <td>0.000000</td>\n",
       "      <td>0.0</td>\n",
       "    </tr>\n",
       "  </tbody>\n",
       "</table>\n",
       "<p>5773 rows × 110 columns</p>\n",
       "</div>"
      ],
      "text/plain": [
       "              formula_sc  formula_similarity  totreldiff  formula_frac  \\\n",
       "0     Ag0.02Ge2Pd1.98Sr1                   2    0.008000           1.0   \n",
       "1        Ag0.15Sn0.85Te1                   3    0.150000           1.0   \n",
       "2       Ag0.1Ge2Pd1.9Sr1                   2    0.040000           1.0   \n",
       "3          Ag0.1In0.9Te1                   3    0.100000           1.0   \n",
       "4          Ag0.2Ba1Si1.8                   3    0.133333           4.0   \n",
       "...                  ...                 ...         ...           ...   \n",
       "5768               Y1Zn1                   1    0.000000           1.0   \n",
       "5769                 Yb1                   1    0.000000           3.0   \n",
       "5770                 Zn1                   1    0.000000           2.0   \n",
       "5771              Zn2Zr1                   1    0.000000           2.0   \n",
       "5772                 Zr1                   1    0.000000           2.0   \n",
       "\n",
       "      correct_formula_frac             formula orig_formula_cif        tc  \\\n",
       "0                     True  Ag0.02Ge2Pd1.98Sr1        Ge2Pd2Sr1  2.640000   \n",
       "1                     True     Ag0.15Sn0.85Te1           Sn1Te1  2.150000   \n",
       "2                     True    Ag0.1Ge2Pd1.9Sr1        Ge2Pd2Sr1  2.620000   \n",
       "3                     True       Ag0.1In0.9Te1           In1Te1  1.200000   \n",
       "4                    False       Ag0.8Ba4Si7.2           Ba4Si8  3.200000   \n",
       "...                    ...                 ...              ...       ...   \n",
       "5768                  True               Y1Zn1            Y1Zn1  0.000000   \n",
       "5769                 False                 Yb3              Yb3  0.000000   \n",
       "5770                 False                 Zn2              Zn2  0.850800   \n",
       "5771                 False              Zn4Zr2           Zn4Zr2  0.296667   \n",
       "5772                 False                 Zr2              Zr2  0.996667   \n",
       "\n",
       "           sc_class  sc_class_unique_sc  ... Feature 8 Feature 9  Feature 10  \\\n",
       "0             Other                True  ...       0.0  2.781936    0.297758   \n",
       "1             Other                True  ...       0.0  2.778744    0.000000   \n",
       "2             Other                True  ...       0.0  2.781936    0.297758   \n",
       "3             Other                True  ...       0.0  2.721158    0.000000   \n",
       "4             Other                True  ...       0.0  4.866506    0.682774   \n",
       "...             ...                 ...  ...       ...       ...         ...   \n",
       "5768          Other                True  ...       0.0  1.552541    0.000000   \n",
       "5769  Heavy_fermion                True  ...       0.0  3.351341    0.000000   \n",
       "5770          Other                True  ...       0.0  1.506546    0.000000   \n",
       "5771          Other                True  ...       0.0  3.177911    0.000000   \n",
       "5772          Other                True  ...       0.0  1.595737    0.000000   \n",
       "\n",
       "     Feature 11 Feature 12 Feature 13 Feature 14 Feature 15 Feature 16  \\\n",
       "0           0.0   1.809062   0.132656        0.0   4.888015   0.000000   \n",
       "1           0.0   3.781856   0.000000        0.0   0.000000   0.000000   \n",
       "2           0.0   1.809062   0.132656        0.0   4.888015   0.000000   \n",
       "3           0.0   3.664907   0.000000        0.0   0.000000   0.000000   \n",
       "4           0.0   1.839699   0.182906        0.0  12.958865   3.481724   \n",
       "...         ...        ...        ...        ...        ...        ...   \n",
       "5768        0.0   1.579418   0.000000        0.0   0.000000   0.000000   \n",
       "5769        0.0   3.703747   0.000000        0.0   0.000000   0.000000   \n",
       "5770        0.0   1.509753   0.000000        0.0   0.000000   0.000000   \n",
       "5771        0.0   1.661336   0.000000        0.0   0.000000   0.000000   \n",
       "5772        0.0   1.645789   0.000000        0.0   0.000000   0.000000   \n",
       "\n",
       "     Feature 17  \n",
       "0           0.0  \n",
       "1           0.0  \n",
       "2           0.0  \n",
       "3           0.0  \n",
       "4           0.0  \n",
       "...         ...  \n",
       "5768        0.0  \n",
       "5769        0.0  \n",
       "5770        0.0  \n",
       "5771        0.0  \n",
       "5772        0.0  \n",
       "\n",
       "[5773 rows x 110 columns]"
      ]
     },
     "execution_count": 4,
     "metadata": {},
     "output_type": "execute_result"
    }
   ],
   "source": [
    "df_MP_asymcell = df_MP.copy()\n",
    "\n",
    "asymcell_features = np.load(\"featurised_datasets\\PHF_AsymCell.npy\")\n",
    "\n",
    "for i, feature in enumerate(asymcell_features.T):\n",
    "    df_MP_asymcell[f\"Feature {i}\"] = np.squeeze(feature)\n",
    "    \n",
    "df_MP_asymcell"
   ]
  },
  {
   "cell_type": "code",
   "execution_count": 5,
   "metadata": {},
   "outputs": [
    {
     "name": "stdout",
     "output_type": "stream",
     "text": [
      "Column 'formula_similarity' has type: int64\n",
      "Column 'totreldiff' has type: float64\n",
      "Column 'formula_frac' has type: float64\n",
      "Column 'tc' has type: float64\n",
      "Column 'num_elements_sc' has type: int64\n",
      "Column 'lata' has type: float64\n",
      "Column 'latb' has type: float64\n",
      "Column 'latc' has type: float64\n",
      "Column 'band_gap' has type: float64\n",
      "Column 'density' has type: float64\n",
      "Column 'e_above_hull' has type: float64\n",
      "Column 'efermi' has type: float64\n",
      "Column 'encut' has type: float64\n",
      "Column 'energy' has type: float64\n",
      "Column 'energy_per_atom' has type: float64\n",
      "Column 'final_energy' has type: float64\n",
      "Column 'final_energy_per_atom' has type: float64\n",
      "Column 'formation_energy_per_atom' has type: float64\n",
      "Column 'nsites' has type: int64\n",
      "Column 'ntask_ids' has type: int64\n",
      "Column 'total_magnetization' has type: float64\n",
      "Column 'cell_volume' has type: float64\n",
      "Column 'exchange_symmetry' has type: int64\n",
      "Column 'num_unique_magnetic_sites' has type: int64\n",
      "Column 'total_magnetization_normalized_vol' has type: float64\n",
      "Column 'total_magnetization_normalized_formula_units' has type: float64\n",
      "Column 'num_magnetic_sites' has type: int64\n",
      "Column 'true_total_magnetization' has type: float64\n",
      "Column 'Reason for exclusion' has type: float64\n",
      "Column 'crystal_temp' has type: int64\n",
      "Column 'cubic' has type: int64\n",
      "Column 'hexagonal' has type: int64\n",
      "Column 'monoclinic' has type: int64\n",
      "Column 'orthorhombic' has type: int64\n",
      "Column 'tetragonal' has type: int64\n",
      "Column 'triclinic' has type: int64\n",
      "Column 'trigonal' has type: int64\n",
      "Column 'primitive' has type: int64\n",
      "Column 'base-centered' has type: int64\n",
      "Column 'body-centered' has type: int64\n",
      "Column 'face-centered' has type: int64\n",
      "Column 'weight' has type: float64\n"
     ]
    }
   ],
   "source": [
    "NA_values_columns = []\n",
    "for column in df_MP.columns:\n",
    "    if df_MP[column].dtype != 'object' and df_MP[column].dtype != 'bool':\n",
    "        print(f\"Column '{column}' has type: {df_MP[column].dtype}\")\n",
    "        if df_MP[column].isna().any():\n",
    "            NA_values_columns.append(column)\n"
   ]
  },
  {
   "cell_type": "code",
   "execution_count": 6,
   "metadata": {},
   "outputs": [
    {
     "name": "stdout",
     "output_type": "stream",
     "text": [
      "['Reason for exclusion']\n"
     ]
    }
   ],
   "source": [
    "print(NA_values_columns)"
   ]
  },
  {
   "cell_type": "markdown",
   "metadata": {},
   "source": [
    "So there are no materials in here that need to be excluded"
   ]
  },
  {
   "cell_type": "code",
   "execution_count": 7,
   "metadata": {},
   "outputs": [
    {
     "name": "stdout",
     "output_type": "stream",
     "text": [
      "False    3372\n",
      "True     2401\n",
      "Name: correct_formula_frac, dtype: int64 \n",
      "\n",
      "True     5762\n",
      "False      11\n",
      "Name: sc_class_unique_sc, dtype: int64 \n",
      "\n",
      "True     5013\n",
      "False     760\n",
      "Name: has_bandstructure, dtype: int64 \n",
      "\n",
      "True    5773\n",
      "Name: is_ordered, dtype: int64 \n",
      "\n",
      "False    4667\n",
      "True     1106\n",
      "Name: is_magnetic, dtype: int64 \n",
      "\n",
      "True     3437\n",
      "False    2336\n",
      "Name: synth_doped, dtype: int64 \n",
      "\n",
      "True    5773\n",
      "Name: no_crystal_temp_given, dtype: int64 \n",
      "\n"
     ]
    }
   ],
   "source": [
    "for column in df_MP.columns:\n",
    "    if df_MP[column].dtype == 'bool':\n",
    "        print(df_MP[column].value_counts(), \"\\n\")"
   ]
  },
  {
   "cell_type": "code",
   "execution_count": 8,
   "metadata": {},
   "outputs": [
    {
     "name": "stdout",
     "output_type": "stream",
     "text": [
      "Column formula_sc\n",
      "Column formula\n",
      "Column orig_formula_cif\n",
      "Column sc_class\n",
      "Column norm_formula_sc\n",
      "Column chemical_composition_sc\n",
      "Column origin_sc\n",
      "Column old_formula_sc\n",
      "Column database_id\n",
      "Column original_formula\n",
      "Column chemical_composition\n",
      "Column norm_formula\n",
      "Column spacegroup\n",
      "Column crystal_system\n",
      "Column cif\n",
      "Column original_cif\n",
      "Column material_id\n",
      "Column band_structure\n",
      "Column created_at\n",
      "Column doi\n",
      "Column doi_bibtex\n",
      "Column dos\n",
      "Column exp\n",
      "Column has\n",
      "Column icsd_ids\n",
      "Column last_updated\n",
      "Column magnetic_type\n",
      "Column original_task_id\n",
      "Column oxide_type\n",
      "Column pretty_formula\n",
      "Column pseudo_potential\n",
      "Column reduced_cell_formula\n",
      "Column run_type\n",
      "Column task_id\n",
      "Column task_ids\n",
      "Column unit_cell_formula\n",
      "Column warnings\n",
      "Column ordering\n",
      "Column magmoms\n",
      "Column origin\n",
      "Column cif_before_synthetic_doping\n",
      "Column graph\n",
      "Column point_group\n"
     ]
    }
   ],
   "source": [
    "for column in df_MP.columns:\n",
    "    if df_MP[column].dtype == 'object':\n",
    "        print(f\"Column {column}\")"
   ]
  },
  {
   "cell_type": "code",
   "execution_count": 9,
   "metadata": {},
   "outputs": [
    {
     "data": {
      "text/plain": [
       "NM     4667\n",
       "FM      977\n",
       "FiM     102\n",
       "AFM      27\n",
       "Name: magnetic_type, dtype: int64"
      ]
     },
     "execution_count": 9,
     "metadata": {},
     "output_type": "execute_result"
    }
   ],
   "source": [
    "df_MP[\"magnetic_type\"].value_counts()"
   ]
  },
  {
   "cell_type": "markdown",
   "metadata": {},
   "source": [
    "Interesting, but does not show me that I need to remove anything from this dataset"
   ]
  },
  {
   "cell_type": "code",
   "execution_count": 10,
   "metadata": {},
   "outputs": [
    {
     "data": {
      "text/html": [
       "<div>\n",
       "<style scoped>\n",
       "    .dataframe tbody tr th:only-of-type {\n",
       "        vertical-align: middle;\n",
       "    }\n",
       "\n",
       "    .dataframe tbody tr th {\n",
       "        vertical-align: top;\n",
       "    }\n",
       "\n",
       "    .dataframe thead th {\n",
       "        text-align: right;\n",
       "    }\n",
       "</style>\n",
       "<table border=\"1\" class=\"dataframe\">\n",
       "  <thead>\n",
       "    <tr style=\"text-align: right;\">\n",
       "      <th></th>\n",
       "      <th>Feature 0</th>\n",
       "      <th>Feature 1</th>\n",
       "      <th>Feature 2</th>\n",
       "      <th>Feature 3</th>\n",
       "      <th>Feature 4</th>\n",
       "      <th>Feature 5</th>\n",
       "      <th>Feature 6</th>\n",
       "      <th>Feature 7</th>\n",
       "      <th>Feature 8</th>\n",
       "      <th>Feature 9</th>\n",
       "      <th>Feature 10</th>\n",
       "      <th>Feature 11</th>\n",
       "      <th>Feature 12</th>\n",
       "      <th>Feature 13</th>\n",
       "      <th>Feature 14</th>\n",
       "      <th>Feature 15</th>\n",
       "      <th>Feature 16</th>\n",
       "      <th>Feature 17</th>\n",
       "    </tr>\n",
       "  </thead>\n",
       "  <tbody>\n",
       "    <tr>\n",
       "      <th>0</th>\n",
       "      <td>0.573912</td>\n",
       "      <td>-0.000000</td>\n",
       "      <td>-1.0</td>\n",
       "      <td>4.0</td>\n",
       "      <td>1.0</td>\n",
       "      <td>0.0</td>\n",
       "      <td>1.699603</td>\n",
       "      <td>0.297758</td>\n",
       "      <td>0.0</td>\n",
       "      <td>2.781936</td>\n",
       "      <td>0.297758</td>\n",
       "      <td>0.0</td>\n",
       "      <td>1.809062</td>\n",
       "      <td>0.132656</td>\n",
       "      <td>0.0</td>\n",
       "      <td>4.888015</td>\n",
       "      <td>0.000000</td>\n",
       "      <td>0.0</td>\n",
       "    </tr>\n",
       "    <tr>\n",
       "      <th>1</th>\n",
       "      <td>0.000000</td>\n",
       "      <td>-1.000000</td>\n",
       "      <td>-1.0</td>\n",
       "      <td>1.0</td>\n",
       "      <td>0.0</td>\n",
       "      <td>0.0</td>\n",
       "      <td>2.778744</td>\n",
       "      <td>0.000000</td>\n",
       "      <td>0.0</td>\n",
       "      <td>2.778744</td>\n",
       "      <td>0.000000</td>\n",
       "      <td>0.0</td>\n",
       "      <td>3.781856</td>\n",
       "      <td>0.000000</td>\n",
       "      <td>0.0</td>\n",
       "      <td>0.000000</td>\n",
       "      <td>0.000000</td>\n",
       "      <td>0.0</td>\n",
       "    </tr>\n",
       "    <tr>\n",
       "      <th>2</th>\n",
       "      <td>0.573912</td>\n",
       "      <td>-0.000000</td>\n",
       "      <td>-1.0</td>\n",
       "      <td>4.0</td>\n",
       "      <td>1.0</td>\n",
       "      <td>0.0</td>\n",
       "      <td>1.699603</td>\n",
       "      <td>0.297758</td>\n",
       "      <td>0.0</td>\n",
       "      <td>2.781936</td>\n",
       "      <td>0.297758</td>\n",
       "      <td>0.0</td>\n",
       "      <td>1.809062</td>\n",
       "      <td>0.132656</td>\n",
       "      <td>0.0</td>\n",
       "      <td>4.888015</td>\n",
       "      <td>0.000000</td>\n",
       "      <td>0.0</td>\n",
       "    </tr>\n",
       "    <tr>\n",
       "      <th>3</th>\n",
       "      <td>0.000000</td>\n",
       "      <td>-1.000000</td>\n",
       "      <td>-1.0</td>\n",
       "      <td>1.0</td>\n",
       "      <td>0.0</td>\n",
       "      <td>0.0</td>\n",
       "      <td>2.721158</td>\n",
       "      <td>0.000000</td>\n",
       "      <td>0.0</td>\n",
       "      <td>2.721158</td>\n",
       "      <td>0.000000</td>\n",
       "      <td>0.0</td>\n",
       "      <td>3.664907</td>\n",
       "      <td>0.000000</td>\n",
       "      <td>0.0</td>\n",
       "      <td>0.000000</td>\n",
       "      <td>0.000000</td>\n",
       "      <td>0.0</td>\n",
       "    </tr>\n",
       "    <tr>\n",
       "      <th>4</th>\n",
       "      <td>0.688938</td>\n",
       "      <td>1.448728</td>\n",
       "      <td>-1.0</td>\n",
       "      <td>11.0</td>\n",
       "      <td>5.0</td>\n",
       "      <td>0.0</td>\n",
       "      <td>1.718738</td>\n",
       "      <td>0.368862</td>\n",
       "      <td>0.0</td>\n",
       "      <td>4.866506</td>\n",
       "      <td>0.682774</td>\n",
       "      <td>0.0</td>\n",
       "      <td>1.839699</td>\n",
       "      <td>0.182906</td>\n",
       "      <td>0.0</td>\n",
       "      <td>12.958865</td>\n",
       "      <td>3.481724</td>\n",
       "      <td>0.0</td>\n",
       "    </tr>\n",
       "    <tr>\n",
       "      <th>...</th>\n",
       "      <td>...</td>\n",
       "      <td>...</td>\n",
       "      <td>...</td>\n",
       "      <td>...</td>\n",
       "      <td>...</td>\n",
       "      <td>...</td>\n",
       "      <td>...</td>\n",
       "      <td>...</td>\n",
       "      <td>...</td>\n",
       "      <td>...</td>\n",
       "      <td>...</td>\n",
       "      <td>...</td>\n",
       "      <td>...</td>\n",
       "      <td>...</td>\n",
       "      <td>...</td>\n",
       "      <td>...</td>\n",
       "      <td>...</td>\n",
       "      <td>...</td>\n",
       "    </tr>\n",
       "    <tr>\n",
       "      <th>5768</th>\n",
       "      <td>0.000000</td>\n",
       "      <td>-1.000000</td>\n",
       "      <td>-1.0</td>\n",
       "      <td>1.0</td>\n",
       "      <td>0.0</td>\n",
       "      <td>0.0</td>\n",
       "      <td>1.552541</td>\n",
       "      <td>0.000000</td>\n",
       "      <td>0.0</td>\n",
       "      <td>1.552541</td>\n",
       "      <td>0.000000</td>\n",
       "      <td>0.0</td>\n",
       "      <td>1.579418</td>\n",
       "      <td>0.000000</td>\n",
       "      <td>0.0</td>\n",
       "      <td>0.000000</td>\n",
       "      <td>0.000000</td>\n",
       "      <td>0.0</td>\n",
       "    </tr>\n",
       "    <tr>\n",
       "      <th>5769</th>\n",
       "      <td>0.303455</td>\n",
       "      <td>-1.000000</td>\n",
       "      <td>-1.0</td>\n",
       "      <td>2.0</td>\n",
       "      <td>0.0</td>\n",
       "      <td>0.0</td>\n",
       "      <td>2.740350</td>\n",
       "      <td>0.000000</td>\n",
       "      <td>0.0</td>\n",
       "      <td>3.351341</td>\n",
       "      <td>0.000000</td>\n",
       "      <td>0.0</td>\n",
       "      <td>3.703747</td>\n",
       "      <td>0.000000</td>\n",
       "      <td>0.0</td>\n",
       "      <td>0.000000</td>\n",
       "      <td>0.000000</td>\n",
       "      <td>0.0</td>\n",
       "    </tr>\n",
       "    <tr>\n",
       "      <th>5770</th>\n",
       "      <td>0.000000</td>\n",
       "      <td>-1.000000</td>\n",
       "      <td>-1.0</td>\n",
       "      <td>1.0</td>\n",
       "      <td>0.0</td>\n",
       "      <td>0.0</td>\n",
       "      <td>1.506546</td>\n",
       "      <td>0.000000</td>\n",
       "      <td>0.0</td>\n",
       "      <td>1.506546</td>\n",
       "      <td>0.000000</td>\n",
       "      <td>0.0</td>\n",
       "      <td>1.509753</td>\n",
       "      <td>0.000000</td>\n",
       "      <td>0.0</td>\n",
       "      <td>0.000000</td>\n",
       "      <td>0.000000</td>\n",
       "      <td>0.0</td>\n",
       "    </tr>\n",
       "    <tr>\n",
       "      <th>5771</th>\n",
       "      <td>0.605795</td>\n",
       "      <td>-1.000000</td>\n",
       "      <td>-1.0</td>\n",
       "      <td>5.0</td>\n",
       "      <td>0.0</td>\n",
       "      <td>0.0</td>\n",
       "      <td>1.605770</td>\n",
       "      <td>0.000000</td>\n",
       "      <td>0.0</td>\n",
       "      <td>3.177911</td>\n",
       "      <td>0.000000</td>\n",
       "      <td>0.0</td>\n",
       "      <td>1.661336</td>\n",
       "      <td>0.000000</td>\n",
       "      <td>0.0</td>\n",
       "      <td>0.000000</td>\n",
       "      <td>0.000000</td>\n",
       "      <td>0.0</td>\n",
       "    </tr>\n",
       "    <tr>\n",
       "      <th>5772</th>\n",
       "      <td>0.000000</td>\n",
       "      <td>-1.000000</td>\n",
       "      <td>-1.0</td>\n",
       "      <td>1.0</td>\n",
       "      <td>0.0</td>\n",
       "      <td>0.0</td>\n",
       "      <td>1.595737</td>\n",
       "      <td>0.000000</td>\n",
       "      <td>0.0</td>\n",
       "      <td>1.595737</td>\n",
       "      <td>0.000000</td>\n",
       "      <td>0.0</td>\n",
       "      <td>1.645789</td>\n",
       "      <td>0.000000</td>\n",
       "      <td>0.0</td>\n",
       "      <td>0.000000</td>\n",
       "      <td>0.000000</td>\n",
       "      <td>0.0</td>\n",
       "    </tr>\n",
       "  </tbody>\n",
       "</table>\n",
       "<p>5773 rows × 18 columns</p>\n",
       "</div>"
      ],
      "text/plain": [
       "      Feature 0  Feature 1  Feature 2  Feature 3  Feature 4  Feature 5  \\\n",
       "0      0.573912  -0.000000       -1.0        4.0        1.0        0.0   \n",
       "1      0.000000  -1.000000       -1.0        1.0        0.0        0.0   \n",
       "2      0.573912  -0.000000       -1.0        4.0        1.0        0.0   \n",
       "3      0.000000  -1.000000       -1.0        1.0        0.0        0.0   \n",
       "4      0.688938   1.448728       -1.0       11.0        5.0        0.0   \n",
       "...         ...        ...        ...        ...        ...        ...   \n",
       "5768   0.000000  -1.000000       -1.0        1.0        0.0        0.0   \n",
       "5769   0.303455  -1.000000       -1.0        2.0        0.0        0.0   \n",
       "5770   0.000000  -1.000000       -1.0        1.0        0.0        0.0   \n",
       "5771   0.605795  -1.000000       -1.0        5.0        0.0        0.0   \n",
       "5772   0.000000  -1.000000       -1.0        1.0        0.0        0.0   \n",
       "\n",
       "      Feature 6  Feature 7  Feature 8  Feature 9  Feature 10  Feature 11  \\\n",
       "0      1.699603   0.297758        0.0   2.781936    0.297758         0.0   \n",
       "1      2.778744   0.000000        0.0   2.778744    0.000000         0.0   \n",
       "2      1.699603   0.297758        0.0   2.781936    0.297758         0.0   \n",
       "3      2.721158   0.000000        0.0   2.721158    0.000000         0.0   \n",
       "4      1.718738   0.368862        0.0   4.866506    0.682774         0.0   \n",
       "...         ...        ...        ...        ...         ...         ...   \n",
       "5768   1.552541   0.000000        0.0   1.552541    0.000000         0.0   \n",
       "5769   2.740350   0.000000        0.0   3.351341    0.000000         0.0   \n",
       "5770   1.506546   0.000000        0.0   1.506546    0.000000         0.0   \n",
       "5771   1.605770   0.000000        0.0   3.177911    0.000000         0.0   \n",
       "5772   1.595737   0.000000        0.0   1.595737    0.000000         0.0   \n",
       "\n",
       "      Feature 12  Feature 13  Feature 14  Feature 15  Feature 16  Feature 17  \n",
       "0       1.809062    0.132656         0.0    4.888015    0.000000         0.0  \n",
       "1       3.781856    0.000000         0.0    0.000000    0.000000         0.0  \n",
       "2       1.809062    0.132656         0.0    4.888015    0.000000         0.0  \n",
       "3       3.664907    0.000000         0.0    0.000000    0.000000         0.0  \n",
       "4       1.839699    0.182906         0.0   12.958865    3.481724         0.0  \n",
       "...          ...         ...         ...         ...         ...         ...  \n",
       "5768    1.579418    0.000000         0.0    0.000000    0.000000         0.0  \n",
       "5769    3.703747    0.000000         0.0    0.000000    0.000000         0.0  \n",
       "5770    1.509753    0.000000         0.0    0.000000    0.000000         0.0  \n",
       "5771    1.661336    0.000000         0.0    0.000000    0.000000         0.0  \n",
       "5772    1.645789    0.000000         0.0    0.000000    0.000000         0.0  \n",
       "\n",
       "[5773 rows x 18 columns]"
      ]
     },
     "execution_count": 10,
     "metadata": {},
     "output_type": "execute_result"
    }
   ],
   "source": [
    "target = df_MP_asymcell[\"tc\"]\n",
    "PHFs = df_MP_asymcell.iloc[:, -18:]\n",
    "PHFs"
   ]
  },
  {
   "cell_type": "code",
   "execution_count": 11,
   "metadata": {},
   "outputs": [],
   "source": [
    "physical_features = [\"lata\", \"latb\", \"latc\", \"cell_volume\",\n",
    "                     \"band_gap\", \"density\",\"weight\",\n",
    "                     \"e_above_hull\", \"efermi\", \"encut\", \"energy\", \"energy_per_atom\", \"final_energy\", \"final_energy_per_atom\", \"formation_energy_per_atom\",\n",
    "                     \"nsites\", \"total_magnetization\", \"exchange_symmetry\", \"num_unique_magnetic_sites\", \"total_magnetization_normalized_vol\", \"total_magnetization_normalized_formula_units\",\n",
    "                     \"num_magnetic_sites\", \"true_total_magnetization\"]"
   ]
  },
  {
   "cell_type": "code",
   "execution_count": 20,
   "metadata": {},
   "outputs": [
    {
     "data": {
      "application/vnd.plotly.v1+json": {
       "config": {
        "plotlyServerURL": "https://plot.ly"
       },
       "data": [
        {
         "colorbar": {
          "ticktext": [
           -1,
           -0.5,
           0,
           0.5,
           1
          ],
          "tickvals": [
           -1,
           -0.5,
           0,
           0.5,
           1
          ],
          "title": {
           "side": "right",
           "text": "Pearson Coefficient"
          }
         },
         "colorscale": [
          [
           0,
           "#440154"
          ],
          [
           0.1111111111111111,
           "#482878"
          ],
          [
           0.2222222222222222,
           "#3e4989"
          ],
          [
           0.3333333333333333,
           "#31688e"
          ],
          [
           0.4444444444444444,
           "#26828e"
          ],
          [
           0.5555555555555556,
           "#1f9e89"
          ],
          [
           0.6666666666666666,
           "#35b779"
          ],
          [
           0.7777777777777778,
           "#6ece58"
          ],
          [
           0.8888888888888888,
           "#b5de2b"
          ],
          [
           1,
           "#fde725"
          ]
         ],
         "text": [
          [
           1,
           0.74,
           0.18,
           0.7,
           0.02,
           -0.01,
           -0.05,
           0.04,
           -0.1,
           0,
           -0.57,
           0.14,
           -0.57,
           0.14,
           0.08,
           0.64,
           -0.01,
           0.09,
           0.03,
           -0.07,
           -0.01,
           0.1,
           0.03,
           -0.1,
           -0.1,
           -0.1,
           -0.1,
           -0.1,
           -0.1,
           -0.1,
           -0.1,
           -0.1
          ],
          [
           0.74,
           1,
           0.26,
           0.75,
           0.03,
           0.04,
           -0.03,
           0.03,
           -0.04,
           0,
           -0.67,
           0.08,
           -0.67,
           0.08,
           0.1,
           0.7,
           0.02,
           -0.12,
           0.08,
           -0.08,
           0.02,
           0.12,
           0.07,
           -0.16,
           -0.16,
           -0.16,
           -0.16,
           -0.16,
           -0.16,
           -0.16,
           -0.16,
           -0.16
          ],
          [
           0.18,
           0.26,
           1,
           0.57,
           0.04,
           -0.16,
           0.02,
           0.1,
           -0.33,
           0.05,
           -0.53,
           0.16,
           -0.53,
           0.16,
           -0.35,
           0.59,
           0.14,
           -0.47,
           0.15,
           0.04,
           0.14,
           0.09,
           0.12,
           0.33,
           0.33,
           0.33,
           0.33,
           0.33,
           0.33,
           0.33,
           0.33,
           0.33
          ],
          [
           0.7,
           0.75,
           0.57,
           1,
           0.05,
           -0.09,
           0.01,
           0.09,
           -0.18,
           0.01,
           -0.76,
           0.14,
           -0.76,
           0.14,
           -0.06,
           0.86,
           0.09,
           -0.23,
           0.14,
           -0.04,
           0.09,
           0.13,
           0.12,
           0.04,
           0.04,
           0.04,
           0.04,
           0.04,
           0.04,
           0.04,
           0.04,
           0.04
          ],
          [
           0.02,
           0.03,
           0.04,
           0.05,
           1,
           -0.14,
           -0.03,
           -0.02,
           -0.21,
           0.21,
           -0.02,
           0.06,
           -0.02,
           0.06,
           -0.12,
           0.04,
           -0.04,
           -0.01,
           -0.03,
           -0.04,
           -0.04,
           -0.03,
           -0.02,
           -0.05,
           -0.05,
           -0.05,
           -0.05,
           -0.05,
           -0.05,
           -0.05,
           -0.05,
           -0.05
          ],
          [
           -0.01,
           0.04,
           -0.16,
           -0.09,
           -0.14,
           1,
           0.01,
           -0.06,
           0.45,
           -0.04,
           0,
           -0.42,
           0,
           -0.42,
           0.23,
           -0.1,
           -0.09,
           0.11,
           -0.09,
           -0.07,
           -0.09,
           -0.11,
           -0.07,
           -0.21,
           -0.21,
           -0.21,
           -0.21,
           -0.21,
           -0.21,
           -0.21,
           -0.21,
           -0.21
          ],
          [
           -0.05,
           -0.03,
           0.02,
           0.01,
           -0.03,
           0.01,
           1,
           0.02,
           0.05,
           0,
           -0.01,
           -0.03,
           -0.01,
           -0.03,
           0.06,
           0.01,
           0.02,
           0.07,
           0.02,
           0.02,
           0.02,
           0.02,
           0.02,
           0.01,
           0.01,
           0.01,
           0.01,
           0.01,
           0.01,
           0.01,
           0.01,
           0.01
          ],
          [
           0.04,
           0.03,
           0.1,
           0.09,
           -0.02,
           -0.06,
           0.02,
           1,
           -0.15,
           -0.01,
           0.02,
           -0.01,
           0.02,
           -0.01,
           0.15,
           -0.03,
           0.19,
           -0.02,
           0.14,
           0.19,
           0.19,
           0.11,
           0.15,
           0.01,
           0.01,
           0.01,
           0.01,
           0.01,
           0.01,
           0.01,
           0.01,
           0.01
          ],
          [
           -0.1,
           -0.04,
           -0.33,
           -0.18,
           -0.21,
           0.45,
           0.05,
           -0.15,
           1,
           -0.05,
           0.07,
           -0.38,
           0.07,
           -0.38,
           0.33,
           -0.17,
           -0.17,
           0.23,
           -0.13,
           -0.11,
           -0.17,
           -0.11,
           -0.14,
           -0.32,
           -0.32,
           -0.32,
           -0.32,
           -0.32,
           -0.32,
           -0.32,
           -0.32,
           -0.32
          ],
          [
           0,
           0,
           0.05,
           0.01,
           0.21,
           -0.04,
           0,
           -0.01,
           -0.05,
           1,
           0.02,
           0.05,
           0.02,
           0.05,
           -0.01,
           0,
           -0.02,
           -0.01,
           -0.02,
           -0.02,
           -0.02,
           -0.02,
           -0.01,
           -0.02,
           -0.02,
           -0.02,
           -0.02,
           -0.02,
           -0.02,
           -0.02,
           -0.02,
           -0.02
          ],
          [
           -0.57,
           -0.67,
           -0.53,
           -0.76,
           -0.02,
           0,
           -0.01,
           0.02,
           0.07,
           0.02,
           1,
           0.19,
           1,
           0.19,
           0.2,
           -0.94,
           -0.15,
           0.27,
           -0.23,
           -0.01,
           -0.15,
           -0.24,
           -0.2,
           -0.07,
           -0.07,
           -0.07,
           -0.07,
           -0.07,
           -0.07,
           -0.07,
           -0.07,
           -0.07
          ],
          [
           0.14,
           0.08,
           0.16,
           0.14,
           0.06,
           -0.42,
           -0.03,
           -0.01,
           -0.38,
           0.05,
           0.19,
           1,
           0.19,
           1,
           0.03,
           0.05,
           -0.04,
           -0.04,
           -0.03,
           -0.08,
           -0.04,
           -0.07,
           -0.05,
           0.08,
           0.08,
           0.08,
           0.08,
           0.08,
           0.08,
           0.08,
           0.08,
           0.08
          ],
          [
           -0.57,
           -0.67,
           -0.53,
           -0.76,
           -0.02,
           0,
           -0.01,
           0.02,
           0.07,
           0.02,
           1,
           0.19,
           1,
           0.19,
           0.2,
           -0.94,
           -0.15,
           0.27,
           -0.23,
           -0.01,
           -0.15,
           -0.24,
           -0.2,
           -0.07,
           -0.07,
           -0.07,
           -0.07,
           -0.07,
           -0.07,
           -0.07,
           -0.07,
           -0.07
          ],
          [
           0.14,
           0.08,
           0.16,
           0.14,
           0.06,
           -0.42,
           -0.03,
           -0.01,
           -0.38,
           0.05,
           0.19,
           1,
           0.19,
           1,
           0.03,
           0.05,
           -0.04,
           -0.04,
           -0.03,
           -0.08,
           -0.04,
           -0.07,
           -0.05,
           0.08,
           0.08,
           0.08,
           0.08,
           0.08,
           0.08,
           0.08,
           0.08,
           0.08
          ],
          [
           0.08,
           0.1,
           -0.35,
           -0.06,
           -0.12,
           0.23,
           0.06,
           0.15,
           0.33,
           -0.01,
           0.2,
           0.03,
           0.2,
           0.03,
           1,
           -0.18,
           -0.14,
           0.31,
           -0.11,
           -0.08,
           -0.14,
           -0.07,
           -0.13,
           -0.34,
           -0.34,
           -0.34,
           -0.34,
           -0.34,
           -0.34,
           -0.34,
           -0.34,
           -0.34
          ],
          [
           0.64,
           0.7,
           0.59,
           0.86,
           0.04,
           -0.1,
           0.01,
           -0.03,
           -0.17,
           0,
           -0.94,
           0.05,
           -0.94,
           0.05,
           -0.18,
           1,
           0.13,
           -0.28,
           0.21,
           -0.02,
           0.13,
           0.2,
           0.17,
           0.11,
           0.11,
           0.11,
           0.11,
           0.11,
           0.11,
           0.11,
           0.11,
           0.11
          ],
          [
           -0.01,
           0.02,
           0.14,
           0.09,
           -0.04,
           -0.09,
           0.02,
           0.19,
           -0.17,
           -0.02,
           -0.15,
           -0.04,
           -0.15,
           -0.04,
           -0.14,
           0.13,
           1,
           -0.13,
           0.67,
           0.8,
           1,
           0.57,
           0.82,
           0.07,
           0.07,
           0.07,
           0.07,
           0.07,
           0.07,
           0.07,
           0.07,
           0.07
          ],
          [
           0.09,
           -0.12,
           -0.47,
           -0.23,
           -0.01,
           0.11,
           0.07,
           -0.02,
           0.23,
           -0.01,
           0.27,
           -0.04,
           0.27,
           -0.04,
           0.31,
           -0.28,
           -0.13,
           1,
           -0.19,
           -0.07,
           -0.13,
           -0.2,
           -0.12,
           -0.22,
           -0.22,
           -0.22,
           -0.22,
           -0.22,
           -0.22,
           -0.22,
           -0.22,
           -0.22
          ],
          [
           0.03,
           0.08,
           0.15,
           0.14,
           -0.03,
           -0.09,
           0.02,
           0.14,
           -0.13,
           -0.02,
           -0.23,
           -0.03,
           -0.23,
           -0.03,
           -0.11,
           0.21,
           0.67,
           -0.19,
           1,
           0.43,
           0.67,
           0.76,
           0.59,
           0.01,
           0.01,
           0.01,
           0.01,
           0.01,
           0.01,
           0.01,
           0.01,
           0.01
          ],
          [
           -0.07,
           -0.08,
           0.04,
           -0.04,
           -0.04,
           -0.07,
           0.02,
           0.19,
           -0.11,
           -0.02,
           -0.01,
           -0.08,
           -0.01,
           -0.08,
           -0.08,
           -0.02,
           0.8,
           -0.07,
           0.43,
           1,
           0.8,
           0.47,
           0.72,
           0.04,
           0.04,
           0.04,
           0.04,
           0.04,
           0.04,
           0.04,
           0.04,
           0.04
          ],
          [
           -0.01,
           0.02,
           0.14,
           0.09,
           -0.04,
           -0.09,
           0.02,
           0.19,
           -0.17,
           -0.02,
           -0.15,
           -0.04,
           -0.15,
           -0.04,
           -0.14,
           0.13,
           1,
           -0.13,
           0.67,
           0.8,
           1,
           0.57,
           0.82,
           0.07,
           0.07,
           0.07,
           0.07,
           0.07,
           0.07,
           0.07,
           0.07,
           0.07
          ],
          [
           0.1,
           0.12,
           0.09,
           0.13,
           -0.03,
           -0.11,
           0.02,
           0.11,
           -0.11,
           -0.02,
           -0.24,
           -0.07,
           -0.24,
           -0.07,
           -0.07,
           0.2,
           0.57,
           -0.2,
           0.76,
           0.47,
           0.57,
           1,
           0.64,
           0,
           0,
           0,
           0,
           0,
           0,
           0,
           0,
           0
          ],
          [
           0.03,
           0.07,
           0.12,
           0.12,
           -0.02,
           -0.07,
           0.02,
           0.15,
           -0.14,
           -0.01,
           -0.2,
           -0.05,
           -0.2,
           -0.05,
           -0.13,
           0.17,
           0.82,
           -0.12,
           0.59,
           0.72,
           0.82,
           0.64,
           1,
           0.04,
           0.04,
           0.04,
           0.04,
           0.04,
           0.04,
           0.04,
           0.04,
           0.04
          ],
          [
           -0.1,
           -0.16,
           0.33,
           0.04,
           -0.05,
           -0.21,
           0.01,
           0.01,
           -0.32,
           -0.02,
           -0.07,
           0.08,
           -0.07,
           0.08,
           -0.34,
           0.11,
           0.07,
           -0.22,
           0.01,
           0.04,
           0.07,
           0,
           0.04,
           1,
           1,
           1,
           1,
           1,
           1,
           1,
           1,
           1
          ],
          [
           -0.1,
           -0.16,
           0.33,
           0.04,
           -0.05,
           -0.21,
           0.01,
           0.01,
           -0.32,
           -0.02,
           -0.07,
           0.08,
           -0.07,
           0.08,
           -0.34,
           0.11,
           0.07,
           -0.22,
           0.01,
           0.04,
           0.07,
           0,
           0.04,
           1,
           1,
           1,
           1,
           1,
           1,
           1,
           1,
           1
          ],
          [
           -0.1,
           -0.16,
           0.33,
           0.04,
           -0.05,
           -0.21,
           0.01,
           0.01,
           -0.32,
           -0.02,
           -0.07,
           0.08,
           -0.07,
           0.08,
           -0.34,
           0.11,
           0.07,
           -0.22,
           0.01,
           0.04,
           0.07,
           0,
           0.04,
           1,
           1,
           1,
           1,
           1,
           1,
           1,
           1,
           1
          ],
          [
           -0.1,
           -0.16,
           0.33,
           0.04,
           -0.05,
           -0.21,
           0.01,
           0.01,
           -0.32,
           -0.02,
           -0.07,
           0.08,
           -0.07,
           0.08,
           -0.34,
           0.11,
           0.07,
           -0.22,
           0.01,
           0.04,
           0.07,
           0,
           0.04,
           1,
           1,
           1,
           1,
           1,
           1,
           1,
           1,
           1
          ],
          [
           -0.1,
           -0.16,
           0.33,
           0.04,
           -0.05,
           -0.21,
           0.01,
           0.01,
           -0.32,
           -0.02,
           -0.07,
           0.08,
           -0.07,
           0.08,
           -0.34,
           0.11,
           0.07,
           -0.22,
           0.01,
           0.04,
           0.07,
           0,
           0.04,
           1,
           1,
           1,
           1,
           1,
           1,
           1,
           1,
           1
          ],
          [
           -0.1,
           -0.16,
           0.33,
           0.04,
           -0.05,
           -0.21,
           0.01,
           0.01,
           -0.32,
           -0.02,
           -0.07,
           0.08,
           -0.07,
           0.08,
           -0.34,
           0.11,
           0.07,
           -0.22,
           0.01,
           0.04,
           0.07,
           0,
           0.04,
           1,
           1,
           1,
           1,
           1,
           1,
           1,
           1,
           1
          ],
          [
           -0.1,
           -0.16,
           0.33,
           0.04,
           -0.05,
           -0.21,
           0.01,
           0.01,
           -0.32,
           -0.02,
           -0.07,
           0.08,
           -0.07,
           0.08,
           -0.34,
           0.11,
           0.07,
           -0.22,
           0.01,
           0.04,
           0.07,
           0,
           0.04,
           1,
           1,
           1,
           1,
           1,
           1,
           1,
           1,
           1
          ],
          [
           -0.1,
           -0.16,
           0.33,
           0.04,
           -0.05,
           -0.21,
           0.01,
           0.01,
           -0.32,
           -0.02,
           -0.07,
           0.08,
           -0.07,
           0.08,
           -0.34,
           0.11,
           0.07,
           -0.22,
           0.01,
           0.04,
           0.07,
           0,
           0.04,
           1,
           1,
           1,
           1,
           1,
           1,
           1,
           1,
           1
          ],
          [
           -0.1,
           -0.16,
           0.33,
           0.04,
           -0.05,
           -0.21,
           0.01,
           0.01,
           -0.32,
           -0.02,
           -0.07,
           0.08,
           -0.07,
           0.08,
           -0.34,
           0.11,
           0.07,
           -0.22,
           0.01,
           0.04,
           0.07,
           0,
           0.04,
           1,
           1,
           1,
           1,
           1,
           1,
           1,
           1,
           1
          ]
         ],
         "textfont": {
          "size": 8
         },
         "texttemplate": "%{text}",
         "type": "heatmap",
         "x": [
          "lata",
          "latb",
          "latc",
          "cell_volume",
          "band_gap",
          "density",
          "weight",
          "e_above_hull",
          "efermi",
          "encut",
          "energy",
          "energy_per_atom",
          "final_energy",
          "final_energy_per_atom",
          "formation_energy_per_atom",
          "nsites",
          "total_magnetization",
          "exchange_symmetry",
          "num_unique_magnetic_sites",
          "total_magnetization_normalized_vol",
          "total_magnetization_normalized_formula_units",
          "num_magnetic_sites",
          "true_total_magnetization",
          "tc",
          "tc",
          "tc",
          "tc",
          "tc",
          "tc",
          "tc",
          "tc",
          "tc"
         ],
         "y": [
          "lata",
          "latb",
          "latc",
          "cell_volume",
          "band_gap",
          "density",
          "weight",
          "e_above_hull",
          "efermi",
          "encut",
          "energy",
          "energy_per_atom",
          "final_energy",
          "final_energy_per_atom",
          "formation_energy_per_atom",
          "nsites",
          "total_magnetization",
          "exchange_symmetry",
          "num_unique_magnetic_sites",
          "total_magnetization_normalized_vol",
          "total_magnetization_normalized_formula_units",
          "num_magnetic_sites",
          "true_total_magnetization",
          "tc",
          "tc",
          "tc",
          "tc",
          "tc",
          "tc",
          "tc",
          "tc",
          "tc"
         ],
         "z": [
          [
           1,
           0.74,
           0.18,
           0.7,
           0.02,
           -0.01,
           -0.05,
           0.04,
           -0.1,
           0,
           -0.57,
           0.14,
           -0.57,
           0.14,
           0.08,
           0.64,
           -0.01,
           0.09,
           0.03,
           -0.07,
           -0.01,
           0.1,
           0.03,
           -0.1,
           -0.1,
           -0.1,
           -0.1,
           -0.1,
           -0.1,
           -0.1,
           -0.1,
           -0.1
          ],
          [
           0.74,
           1,
           0.26,
           0.75,
           0.03,
           0.04,
           -0.03,
           0.03,
           -0.04,
           0,
           -0.67,
           0.08,
           -0.67,
           0.08,
           0.1,
           0.7,
           0.02,
           -0.12,
           0.08,
           -0.08,
           0.02,
           0.12,
           0.07,
           -0.16,
           -0.16,
           -0.16,
           -0.16,
           -0.16,
           -0.16,
           -0.16,
           -0.16,
           -0.16
          ],
          [
           0.18,
           0.26,
           1,
           0.57,
           0.04,
           -0.16,
           0.02,
           0.1,
           -0.33,
           0.05,
           -0.53,
           0.16,
           -0.53,
           0.16,
           -0.35,
           0.59,
           0.14,
           -0.47,
           0.15,
           0.04,
           0.14,
           0.09,
           0.12,
           0.33,
           0.33,
           0.33,
           0.33,
           0.33,
           0.33,
           0.33,
           0.33,
           0.33
          ],
          [
           0.7,
           0.75,
           0.57,
           1,
           0.05,
           -0.09,
           0.01,
           0.09,
           -0.18,
           0.01,
           -0.76,
           0.14,
           -0.76,
           0.14,
           -0.06,
           0.86,
           0.09,
           -0.23,
           0.14,
           -0.04,
           0.09,
           0.13,
           0.12,
           0.04,
           0.04,
           0.04,
           0.04,
           0.04,
           0.04,
           0.04,
           0.04,
           0.04
          ],
          [
           0.02,
           0.03,
           0.04,
           0.05,
           1,
           -0.14,
           -0.03,
           -0.02,
           -0.21,
           0.21,
           -0.02,
           0.06,
           -0.02,
           0.06,
           -0.12,
           0.04,
           -0.04,
           -0.01,
           -0.03,
           -0.04,
           -0.04,
           -0.03,
           -0.02,
           -0.05,
           -0.05,
           -0.05,
           -0.05,
           -0.05,
           -0.05,
           -0.05,
           -0.05,
           -0.05
          ],
          [
           -0.01,
           0.04,
           -0.16,
           -0.09,
           -0.14,
           1,
           0.01,
           -0.06,
           0.45,
           -0.04,
           0,
           -0.42,
           0,
           -0.42,
           0.23,
           -0.1,
           -0.09,
           0.11,
           -0.09,
           -0.07,
           -0.09,
           -0.11,
           -0.07,
           -0.21,
           -0.21,
           -0.21,
           -0.21,
           -0.21,
           -0.21,
           -0.21,
           -0.21,
           -0.21
          ],
          [
           -0.05,
           -0.03,
           0.02,
           0.01,
           -0.03,
           0.01,
           1,
           0.02,
           0.05,
           0,
           -0.01,
           -0.03,
           -0.01,
           -0.03,
           0.06,
           0.01,
           0.02,
           0.07,
           0.02,
           0.02,
           0.02,
           0.02,
           0.02,
           0.01,
           0.01,
           0.01,
           0.01,
           0.01,
           0.01,
           0.01,
           0.01,
           0.01
          ],
          [
           0.04,
           0.03,
           0.1,
           0.09,
           -0.02,
           -0.06,
           0.02,
           1,
           -0.15,
           -0.01,
           0.02,
           -0.01,
           0.02,
           -0.01,
           0.15,
           -0.03,
           0.19,
           -0.02,
           0.14,
           0.19,
           0.19,
           0.11,
           0.15,
           0.01,
           0.01,
           0.01,
           0.01,
           0.01,
           0.01,
           0.01,
           0.01,
           0.01
          ],
          [
           -0.1,
           -0.04,
           -0.33,
           -0.18,
           -0.21,
           0.45,
           0.05,
           -0.15,
           1,
           -0.05,
           0.07,
           -0.38,
           0.07,
           -0.38,
           0.33,
           -0.17,
           -0.17,
           0.23,
           -0.13,
           -0.11,
           -0.17,
           -0.11,
           -0.14,
           -0.32,
           -0.32,
           -0.32,
           -0.32,
           -0.32,
           -0.32,
           -0.32,
           -0.32,
           -0.32
          ],
          [
           0,
           0,
           0.05,
           0.01,
           0.21,
           -0.04,
           0,
           -0.01,
           -0.05,
           1,
           0.02,
           0.05,
           0.02,
           0.05,
           -0.01,
           0,
           -0.02,
           -0.01,
           -0.02,
           -0.02,
           -0.02,
           -0.02,
           -0.01,
           -0.02,
           -0.02,
           -0.02,
           -0.02,
           -0.02,
           -0.02,
           -0.02,
           -0.02,
           -0.02
          ],
          [
           -0.57,
           -0.67,
           -0.53,
           -0.76,
           -0.02,
           0,
           -0.01,
           0.02,
           0.07,
           0.02,
           1,
           0.19,
           1,
           0.19,
           0.2,
           -0.94,
           -0.15,
           0.27,
           -0.23,
           -0.01,
           -0.15,
           -0.24,
           -0.2,
           -0.07,
           -0.07,
           -0.07,
           -0.07,
           -0.07,
           -0.07,
           -0.07,
           -0.07,
           -0.07
          ],
          [
           0.14,
           0.08,
           0.16,
           0.14,
           0.06,
           -0.42,
           -0.03,
           -0.01,
           -0.38,
           0.05,
           0.19,
           1,
           0.19,
           1,
           0.03,
           0.05,
           -0.04,
           -0.04,
           -0.03,
           -0.08,
           -0.04,
           -0.07,
           -0.05,
           0.08,
           0.08,
           0.08,
           0.08,
           0.08,
           0.08,
           0.08,
           0.08,
           0.08
          ],
          [
           -0.57,
           -0.67,
           -0.53,
           -0.76,
           -0.02,
           0,
           -0.01,
           0.02,
           0.07,
           0.02,
           1,
           0.19,
           1,
           0.19,
           0.2,
           -0.94,
           -0.15,
           0.27,
           -0.23,
           -0.01,
           -0.15,
           -0.24,
           -0.2,
           -0.07,
           -0.07,
           -0.07,
           -0.07,
           -0.07,
           -0.07,
           -0.07,
           -0.07,
           -0.07
          ],
          [
           0.14,
           0.08,
           0.16,
           0.14,
           0.06,
           -0.42,
           -0.03,
           -0.01,
           -0.38,
           0.05,
           0.19,
           1,
           0.19,
           1,
           0.03,
           0.05,
           -0.04,
           -0.04,
           -0.03,
           -0.08,
           -0.04,
           -0.07,
           -0.05,
           0.08,
           0.08,
           0.08,
           0.08,
           0.08,
           0.08,
           0.08,
           0.08,
           0.08
          ],
          [
           0.08,
           0.1,
           -0.35,
           -0.06,
           -0.12,
           0.23,
           0.06,
           0.15,
           0.33,
           -0.01,
           0.2,
           0.03,
           0.2,
           0.03,
           1,
           -0.18,
           -0.14,
           0.31,
           -0.11,
           -0.08,
           -0.14,
           -0.07,
           -0.13,
           -0.34,
           -0.34,
           -0.34,
           -0.34,
           -0.34,
           -0.34,
           -0.34,
           -0.34,
           -0.34
          ],
          [
           0.64,
           0.7,
           0.59,
           0.86,
           0.04,
           -0.1,
           0.01,
           -0.03,
           -0.17,
           0,
           -0.94,
           0.05,
           -0.94,
           0.05,
           -0.18,
           1,
           0.13,
           -0.28,
           0.21,
           -0.02,
           0.13,
           0.2,
           0.17,
           0.11,
           0.11,
           0.11,
           0.11,
           0.11,
           0.11,
           0.11,
           0.11,
           0.11
          ],
          [
           -0.01,
           0.02,
           0.14,
           0.09,
           -0.04,
           -0.09,
           0.02,
           0.19,
           -0.17,
           -0.02,
           -0.15,
           -0.04,
           -0.15,
           -0.04,
           -0.14,
           0.13,
           1,
           -0.13,
           0.67,
           0.8,
           1,
           0.57,
           0.82,
           0.07,
           0.07,
           0.07,
           0.07,
           0.07,
           0.07,
           0.07,
           0.07,
           0.07
          ],
          [
           0.09,
           -0.12,
           -0.47,
           -0.23,
           -0.01,
           0.11,
           0.07,
           -0.02,
           0.23,
           -0.01,
           0.27,
           -0.04,
           0.27,
           -0.04,
           0.31,
           -0.28,
           -0.13,
           1,
           -0.19,
           -0.07,
           -0.13,
           -0.2,
           -0.12,
           -0.22,
           -0.22,
           -0.22,
           -0.22,
           -0.22,
           -0.22,
           -0.22,
           -0.22,
           -0.22
          ],
          [
           0.03,
           0.08,
           0.15,
           0.14,
           -0.03,
           -0.09,
           0.02,
           0.14,
           -0.13,
           -0.02,
           -0.23,
           -0.03,
           -0.23,
           -0.03,
           -0.11,
           0.21,
           0.67,
           -0.19,
           1,
           0.43,
           0.67,
           0.76,
           0.59,
           0.01,
           0.01,
           0.01,
           0.01,
           0.01,
           0.01,
           0.01,
           0.01,
           0.01
          ],
          [
           -0.07,
           -0.08,
           0.04,
           -0.04,
           -0.04,
           -0.07,
           0.02,
           0.19,
           -0.11,
           -0.02,
           -0.01,
           -0.08,
           -0.01,
           -0.08,
           -0.08,
           -0.02,
           0.8,
           -0.07,
           0.43,
           1,
           0.8,
           0.47,
           0.72,
           0.04,
           0.04,
           0.04,
           0.04,
           0.04,
           0.04,
           0.04,
           0.04,
           0.04
          ],
          [
           -0.01,
           0.02,
           0.14,
           0.09,
           -0.04,
           -0.09,
           0.02,
           0.19,
           -0.17,
           -0.02,
           -0.15,
           -0.04,
           -0.15,
           -0.04,
           -0.14,
           0.13,
           1,
           -0.13,
           0.67,
           0.8,
           1,
           0.57,
           0.82,
           0.07,
           0.07,
           0.07,
           0.07,
           0.07,
           0.07,
           0.07,
           0.07,
           0.07
          ],
          [
           0.1,
           0.12,
           0.09,
           0.13,
           -0.03,
           -0.11,
           0.02,
           0.11,
           -0.11,
           -0.02,
           -0.24,
           -0.07,
           -0.24,
           -0.07,
           -0.07,
           0.2,
           0.57,
           -0.2,
           0.76,
           0.47,
           0.57,
           1,
           0.64,
           0,
           0,
           0,
           0,
           0,
           0,
           0,
           0,
           0
          ],
          [
           0.03,
           0.07,
           0.12,
           0.12,
           -0.02,
           -0.07,
           0.02,
           0.15,
           -0.14,
           -0.01,
           -0.2,
           -0.05,
           -0.2,
           -0.05,
           -0.13,
           0.17,
           0.82,
           -0.12,
           0.59,
           0.72,
           0.82,
           0.64,
           1,
           0.04,
           0.04,
           0.04,
           0.04,
           0.04,
           0.04,
           0.04,
           0.04,
           0.04
          ],
          [
           -0.1,
           -0.16,
           0.33,
           0.04,
           -0.05,
           -0.21,
           0.01,
           0.01,
           -0.32,
           -0.02,
           -0.07,
           0.08,
           -0.07,
           0.08,
           -0.34,
           0.11,
           0.07,
           -0.22,
           0.01,
           0.04,
           0.07,
           0,
           0.04,
           1,
           1,
           1,
           1,
           1,
           1,
           1,
           1,
           1
          ],
          [
           -0.1,
           -0.16,
           0.33,
           0.04,
           -0.05,
           -0.21,
           0.01,
           0.01,
           -0.32,
           -0.02,
           -0.07,
           0.08,
           -0.07,
           0.08,
           -0.34,
           0.11,
           0.07,
           -0.22,
           0.01,
           0.04,
           0.07,
           0,
           0.04,
           1,
           1,
           1,
           1,
           1,
           1,
           1,
           1,
           1
          ],
          [
           -0.1,
           -0.16,
           0.33,
           0.04,
           -0.05,
           -0.21,
           0.01,
           0.01,
           -0.32,
           -0.02,
           -0.07,
           0.08,
           -0.07,
           0.08,
           -0.34,
           0.11,
           0.07,
           -0.22,
           0.01,
           0.04,
           0.07,
           0,
           0.04,
           1,
           1,
           1,
           1,
           1,
           1,
           1,
           1,
           1
          ],
          [
           -0.1,
           -0.16,
           0.33,
           0.04,
           -0.05,
           -0.21,
           0.01,
           0.01,
           -0.32,
           -0.02,
           -0.07,
           0.08,
           -0.07,
           0.08,
           -0.34,
           0.11,
           0.07,
           -0.22,
           0.01,
           0.04,
           0.07,
           0,
           0.04,
           1,
           1,
           1,
           1,
           1,
           1,
           1,
           1,
           1
          ],
          [
           -0.1,
           -0.16,
           0.33,
           0.04,
           -0.05,
           -0.21,
           0.01,
           0.01,
           -0.32,
           -0.02,
           -0.07,
           0.08,
           -0.07,
           0.08,
           -0.34,
           0.11,
           0.07,
           -0.22,
           0.01,
           0.04,
           0.07,
           0,
           0.04,
           1,
           1,
           1,
           1,
           1,
           1,
           1,
           1,
           1
          ],
          [
           -0.1,
           -0.16,
           0.33,
           0.04,
           -0.05,
           -0.21,
           0.01,
           0.01,
           -0.32,
           -0.02,
           -0.07,
           0.08,
           -0.07,
           0.08,
           -0.34,
           0.11,
           0.07,
           -0.22,
           0.01,
           0.04,
           0.07,
           0,
           0.04,
           1,
           1,
           1,
           1,
           1,
           1,
           1,
           1,
           1
          ],
          [
           -0.1,
           -0.16,
           0.33,
           0.04,
           -0.05,
           -0.21,
           0.01,
           0.01,
           -0.32,
           -0.02,
           -0.07,
           0.08,
           -0.07,
           0.08,
           -0.34,
           0.11,
           0.07,
           -0.22,
           0.01,
           0.04,
           0.07,
           0,
           0.04,
           1,
           1,
           1,
           1,
           1,
           1,
           1,
           1,
           1
          ],
          [
           -0.1,
           -0.16,
           0.33,
           0.04,
           -0.05,
           -0.21,
           0.01,
           0.01,
           -0.32,
           -0.02,
           -0.07,
           0.08,
           -0.07,
           0.08,
           -0.34,
           0.11,
           0.07,
           -0.22,
           0.01,
           0.04,
           0.07,
           0,
           0.04,
           1,
           1,
           1,
           1,
           1,
           1,
           1,
           1,
           1
          ],
          [
           -0.1,
           -0.16,
           0.33,
           0.04,
           -0.05,
           -0.21,
           0.01,
           0.01,
           -0.32,
           -0.02,
           -0.07,
           0.08,
           -0.07,
           0.08,
           -0.34,
           0.11,
           0.07,
           -0.22,
           0.01,
           0.04,
           0.07,
           0,
           0.04,
           1,
           1,
           1,
           1,
           1,
           1,
           1,
           1,
           1
          ]
         ]
        }
       ],
       "layout": {
        "font": {
         "color": "black",
         "family": "Helvetica",
         "size": 16
        },
        "height": 1000,
        "margin": {
         "b": 5,
         "l": 5,
         "r": 5,
         "t": 10
        },
        "paper_bgcolor": "white",
        "plot_bgcolor": "white",
        "template": {
         "data": {
          "bar": [
           {
            "error_x": {
             "color": "#2a3f5f"
            },
            "error_y": {
             "color": "#2a3f5f"
            },
            "marker": {
             "line": {
              "color": "#E5ECF6",
              "width": 0.5
             },
             "pattern": {
              "fillmode": "overlay",
              "size": 10,
              "solidity": 0.2
             }
            },
            "type": "bar"
           }
          ],
          "barpolar": [
           {
            "marker": {
             "line": {
              "color": "#E5ECF6",
              "width": 0.5
             },
             "pattern": {
              "fillmode": "overlay",
              "size": 10,
              "solidity": 0.2
             }
            },
            "type": "barpolar"
           }
          ],
          "carpet": [
           {
            "aaxis": {
             "endlinecolor": "#2a3f5f",
             "gridcolor": "white",
             "linecolor": "white",
             "minorgridcolor": "white",
             "startlinecolor": "#2a3f5f"
            },
            "baxis": {
             "endlinecolor": "#2a3f5f",
             "gridcolor": "white",
             "linecolor": "white",
             "minorgridcolor": "white",
             "startlinecolor": "#2a3f5f"
            },
            "type": "carpet"
           }
          ],
          "choropleth": [
           {
            "colorbar": {
             "outlinewidth": 0,
             "ticks": ""
            },
            "type": "choropleth"
           }
          ],
          "contour": [
           {
            "colorbar": {
             "outlinewidth": 0,
             "ticks": ""
            },
            "colorscale": [
             [
              0,
              "#0d0887"
             ],
             [
              0.1111111111111111,
              "#46039f"
             ],
             [
              0.2222222222222222,
              "#7201a8"
             ],
             [
              0.3333333333333333,
              "#9c179e"
             ],
             [
              0.4444444444444444,
              "#bd3786"
             ],
             [
              0.5555555555555556,
              "#d8576b"
             ],
             [
              0.6666666666666666,
              "#ed7953"
             ],
             [
              0.7777777777777778,
              "#fb9f3a"
             ],
             [
              0.8888888888888888,
              "#fdca26"
             ],
             [
              1,
              "#f0f921"
             ]
            ],
            "type": "contour"
           }
          ],
          "contourcarpet": [
           {
            "colorbar": {
             "outlinewidth": 0,
             "ticks": ""
            },
            "type": "contourcarpet"
           }
          ],
          "heatmap": [
           {
            "colorbar": {
             "outlinewidth": 0,
             "ticks": ""
            },
            "colorscale": [
             [
              0,
              "#0d0887"
             ],
             [
              0.1111111111111111,
              "#46039f"
             ],
             [
              0.2222222222222222,
              "#7201a8"
             ],
             [
              0.3333333333333333,
              "#9c179e"
             ],
             [
              0.4444444444444444,
              "#bd3786"
             ],
             [
              0.5555555555555556,
              "#d8576b"
             ],
             [
              0.6666666666666666,
              "#ed7953"
             ],
             [
              0.7777777777777778,
              "#fb9f3a"
             ],
             [
              0.8888888888888888,
              "#fdca26"
             ],
             [
              1,
              "#f0f921"
             ]
            ],
            "type": "heatmap"
           }
          ],
          "heatmapgl": [
           {
            "colorbar": {
             "outlinewidth": 0,
             "ticks": ""
            },
            "colorscale": [
             [
              0,
              "#0d0887"
             ],
             [
              0.1111111111111111,
              "#46039f"
             ],
             [
              0.2222222222222222,
              "#7201a8"
             ],
             [
              0.3333333333333333,
              "#9c179e"
             ],
             [
              0.4444444444444444,
              "#bd3786"
             ],
             [
              0.5555555555555556,
              "#d8576b"
             ],
             [
              0.6666666666666666,
              "#ed7953"
             ],
             [
              0.7777777777777778,
              "#fb9f3a"
             ],
             [
              0.8888888888888888,
              "#fdca26"
             ],
             [
              1,
              "#f0f921"
             ]
            ],
            "type": "heatmapgl"
           }
          ],
          "histogram": [
           {
            "marker": {
             "pattern": {
              "fillmode": "overlay",
              "size": 10,
              "solidity": 0.2
             }
            },
            "type": "histogram"
           }
          ],
          "histogram2d": [
           {
            "colorbar": {
             "outlinewidth": 0,
             "ticks": ""
            },
            "colorscale": [
             [
              0,
              "#0d0887"
             ],
             [
              0.1111111111111111,
              "#46039f"
             ],
             [
              0.2222222222222222,
              "#7201a8"
             ],
             [
              0.3333333333333333,
              "#9c179e"
             ],
             [
              0.4444444444444444,
              "#bd3786"
             ],
             [
              0.5555555555555556,
              "#d8576b"
             ],
             [
              0.6666666666666666,
              "#ed7953"
             ],
             [
              0.7777777777777778,
              "#fb9f3a"
             ],
             [
              0.8888888888888888,
              "#fdca26"
             ],
             [
              1,
              "#f0f921"
             ]
            ],
            "type": "histogram2d"
           }
          ],
          "histogram2dcontour": [
           {
            "colorbar": {
             "outlinewidth": 0,
             "ticks": ""
            },
            "colorscale": [
             [
              0,
              "#0d0887"
             ],
             [
              0.1111111111111111,
              "#46039f"
             ],
             [
              0.2222222222222222,
              "#7201a8"
             ],
             [
              0.3333333333333333,
              "#9c179e"
             ],
             [
              0.4444444444444444,
              "#bd3786"
             ],
             [
              0.5555555555555556,
              "#d8576b"
             ],
             [
              0.6666666666666666,
              "#ed7953"
             ],
             [
              0.7777777777777778,
              "#fb9f3a"
             ],
             [
              0.8888888888888888,
              "#fdca26"
             ],
             [
              1,
              "#f0f921"
             ]
            ],
            "type": "histogram2dcontour"
           }
          ],
          "mesh3d": [
           {
            "colorbar": {
             "outlinewidth": 0,
             "ticks": ""
            },
            "type": "mesh3d"
           }
          ],
          "parcoords": [
           {
            "line": {
             "colorbar": {
              "outlinewidth": 0,
              "ticks": ""
             }
            },
            "type": "parcoords"
           }
          ],
          "pie": [
           {
            "automargin": true,
            "type": "pie"
           }
          ],
          "scatter": [
           {
            "fillpattern": {
             "fillmode": "overlay",
             "size": 10,
             "solidity": 0.2
            },
            "type": "scatter"
           }
          ],
          "scatter3d": [
           {
            "line": {
             "colorbar": {
              "outlinewidth": 0,
              "ticks": ""
             }
            },
            "marker": {
             "colorbar": {
              "outlinewidth": 0,
              "ticks": ""
             }
            },
            "type": "scatter3d"
           }
          ],
          "scattercarpet": [
           {
            "marker": {
             "colorbar": {
              "outlinewidth": 0,
              "ticks": ""
             }
            },
            "type": "scattercarpet"
           }
          ],
          "scattergeo": [
           {
            "marker": {
             "colorbar": {
              "outlinewidth": 0,
              "ticks": ""
             }
            },
            "type": "scattergeo"
           }
          ],
          "scattergl": [
           {
            "marker": {
             "colorbar": {
              "outlinewidth": 0,
              "ticks": ""
             }
            },
            "type": "scattergl"
           }
          ],
          "scattermapbox": [
           {
            "marker": {
             "colorbar": {
              "outlinewidth": 0,
              "ticks": ""
             }
            },
            "type": "scattermapbox"
           }
          ],
          "scatterpolar": [
           {
            "marker": {
             "colorbar": {
              "outlinewidth": 0,
              "ticks": ""
             }
            },
            "type": "scatterpolar"
           }
          ],
          "scatterpolargl": [
           {
            "marker": {
             "colorbar": {
              "outlinewidth": 0,
              "ticks": ""
             }
            },
            "type": "scatterpolargl"
           }
          ],
          "scatterternary": [
           {
            "marker": {
             "colorbar": {
              "outlinewidth": 0,
              "ticks": ""
             }
            },
            "type": "scatterternary"
           }
          ],
          "surface": [
           {
            "colorbar": {
             "outlinewidth": 0,
             "ticks": ""
            },
            "colorscale": [
             [
              0,
              "#0d0887"
             ],
             [
              0.1111111111111111,
              "#46039f"
             ],
             [
              0.2222222222222222,
              "#7201a8"
             ],
             [
              0.3333333333333333,
              "#9c179e"
             ],
             [
              0.4444444444444444,
              "#bd3786"
             ],
             [
              0.5555555555555556,
              "#d8576b"
             ],
             [
              0.6666666666666666,
              "#ed7953"
             ],
             [
              0.7777777777777778,
              "#fb9f3a"
             ],
             [
              0.8888888888888888,
              "#fdca26"
             ],
             [
              1,
              "#f0f921"
             ]
            ],
            "type": "surface"
           }
          ],
          "table": [
           {
            "cells": {
             "fill": {
              "color": "#EBF0F8"
             },
             "line": {
              "color": "white"
             }
            },
            "header": {
             "fill": {
              "color": "#C8D4E3"
             },
             "line": {
              "color": "white"
             }
            },
            "type": "table"
           }
          ]
         },
         "layout": {
          "annotationdefaults": {
           "arrowcolor": "#2a3f5f",
           "arrowhead": 0,
           "arrowwidth": 1
          },
          "autotypenumbers": "strict",
          "coloraxis": {
           "colorbar": {
            "outlinewidth": 0,
            "ticks": ""
           }
          },
          "colorscale": {
           "diverging": [
            [
             0,
             "#8e0152"
            ],
            [
             0.1,
             "#c51b7d"
            ],
            [
             0.2,
             "#de77ae"
            ],
            [
             0.3,
             "#f1b6da"
            ],
            [
             0.4,
             "#fde0ef"
            ],
            [
             0.5,
             "#f7f7f7"
            ],
            [
             0.6,
             "#e6f5d0"
            ],
            [
             0.7,
             "#b8e186"
            ],
            [
             0.8,
             "#7fbc41"
            ],
            [
             0.9,
             "#4d9221"
            ],
            [
             1,
             "#276419"
            ]
           ],
           "sequential": [
            [
             0,
             "#0d0887"
            ],
            [
             0.1111111111111111,
             "#46039f"
            ],
            [
             0.2222222222222222,
             "#7201a8"
            ],
            [
             0.3333333333333333,
             "#9c179e"
            ],
            [
             0.4444444444444444,
             "#bd3786"
            ],
            [
             0.5555555555555556,
             "#d8576b"
            ],
            [
             0.6666666666666666,
             "#ed7953"
            ],
            [
             0.7777777777777778,
             "#fb9f3a"
            ],
            [
             0.8888888888888888,
             "#fdca26"
            ],
            [
             1,
             "#f0f921"
            ]
           ],
           "sequentialminus": [
            [
             0,
             "#0d0887"
            ],
            [
             0.1111111111111111,
             "#46039f"
            ],
            [
             0.2222222222222222,
             "#7201a8"
            ],
            [
             0.3333333333333333,
             "#9c179e"
            ],
            [
             0.4444444444444444,
             "#bd3786"
            ],
            [
             0.5555555555555556,
             "#d8576b"
            ],
            [
             0.6666666666666666,
             "#ed7953"
            ],
            [
             0.7777777777777778,
             "#fb9f3a"
            ],
            [
             0.8888888888888888,
             "#fdca26"
            ],
            [
             1,
             "#f0f921"
            ]
           ]
          },
          "colorway": [
           "#636efa",
           "#EF553B",
           "#00cc96",
           "#ab63fa",
           "#FFA15A",
           "#19d3f3",
           "#FF6692",
           "#B6E880",
           "#FF97FF",
           "#FECB52"
          ],
          "font": {
           "color": "#2a3f5f"
          },
          "geo": {
           "bgcolor": "white",
           "lakecolor": "white",
           "landcolor": "#E5ECF6",
           "showlakes": true,
           "showland": true,
           "subunitcolor": "white"
          },
          "hoverlabel": {
           "align": "left"
          },
          "hovermode": "closest",
          "mapbox": {
           "style": "light"
          },
          "paper_bgcolor": "white",
          "plot_bgcolor": "#E5ECF6",
          "polar": {
           "angularaxis": {
            "gridcolor": "white",
            "linecolor": "white",
            "ticks": ""
           },
           "bgcolor": "#E5ECF6",
           "radialaxis": {
            "gridcolor": "white",
            "linecolor": "white",
            "ticks": ""
           }
          },
          "scene": {
           "xaxis": {
            "backgroundcolor": "#E5ECF6",
            "gridcolor": "white",
            "gridwidth": 2,
            "linecolor": "white",
            "showbackground": true,
            "ticks": "",
            "zerolinecolor": "white"
           },
           "yaxis": {
            "backgroundcolor": "#E5ECF6",
            "gridcolor": "white",
            "gridwidth": 2,
            "linecolor": "white",
            "showbackground": true,
            "ticks": "",
            "zerolinecolor": "white"
           },
           "zaxis": {
            "backgroundcolor": "#E5ECF6",
            "gridcolor": "white",
            "gridwidth": 2,
            "linecolor": "white",
            "showbackground": true,
            "ticks": "",
            "zerolinecolor": "white"
           }
          },
          "shapedefaults": {
           "line": {
            "color": "#2a3f5f"
           }
          },
          "ternary": {
           "aaxis": {
            "gridcolor": "white",
            "linecolor": "white",
            "ticks": ""
           },
           "baxis": {
            "gridcolor": "white",
            "linecolor": "white",
            "ticks": ""
           },
           "bgcolor": "#E5ECF6",
           "caxis": {
            "gridcolor": "white",
            "linecolor": "white",
            "ticks": ""
           }
          },
          "title": {
           "x": 0.05
          },
          "xaxis": {
           "automargin": true,
           "gridcolor": "white",
           "linecolor": "white",
           "ticks": "",
           "title": {
            "standoff": 15
           },
           "zerolinecolor": "white",
           "zerolinewidth": 2
          },
          "yaxis": {
           "automargin": true,
           "gridcolor": "white",
           "linecolor": "white",
           "ticks": "",
           "title": {
            "standoff": 15
           },
           "zerolinecolor": "white",
           "zerolinewidth": 2
          }
         }
        },
        "width": 1200,
        "xaxis": {
         "linecolor": "black",
         "linewidth": 2,
         "showline": true,
         "ticklen": 5,
         "ticks": "inside",
         "tickwidth": 2,
         "title": {
          "text": ""
         }
        },
        "yaxis": {
         "linecolor": "black",
         "linewidth": 2,
         "showline": true,
         "ticklen": 5,
         "ticks": "inside",
         "tickwidth": 2,
         "title": {
          "text": ""
         }
        }
       }
      }
     },
     "metadata": {},
     "output_type": "display_data"
    }
   ],
   "source": [
    "def corr_matrix(dataframe, features):\n",
    "    features.append(\"tc\")    \n",
    "    # Compute the correlation matrix\n",
    "    correlation_matrix = dataframe[features].corr()\n",
    "\n",
    "    # Get the correlation values\n",
    "    correlation_values = correlation_matrix.values.round(2)\n",
    "\n",
    "    # Create the heatmap trace\n",
    "    heatmap = go.Heatmap(\n",
    "        z=correlation_values,\n",
    "        x=correlation_matrix.columns,\n",
    "        y=correlation_matrix.index,\n",
    "        colorscale='Viridis', \n",
    "        colorbar=dict(title='Pearson Coefficient', titleside='right', tickvals = [-1,-0.5,0,0.5,1], ticktext = [-1,-0.5,0,0.5,1]),\n",
    "        text=correlation_values,\n",
    "        texttemplate=\"%{text}\",\n",
    "        textfont={\"size\":8}\n",
    "    )\n",
    "    \n",
    "\n",
    "    # Create the layout\n",
    "    layout = go.Layout(\n",
    "        xaxis=dict(\n",
    "            title=\"\",\n",
    "            showline=True,\n",
    "            linewidth=2,\n",
    "            linecolor='black',\n",
    "            ticks='inside',\n",
    "            tickwidth=2,\n",
    "            ticklen=5\n",
    "        ),\n",
    "        yaxis=dict(\n",
    "            title=\"\",\n",
    "            showline=True,\n",
    "            linewidth=2,\n",
    "            linecolor='black',\n",
    "            ticks='inside',\n",
    "            tickwidth=2,\n",
    "            ticklen=5\n",
    "        ),\n",
    "        width=1200,\n",
    "        height=1000,\n",
    "        plot_bgcolor='white',\n",
    "        paper_bgcolor='white',\n",
    "        font=dict(family='Helvetica', size=16, color='black'),\n",
    "        margin=dict(l=5, r=5, b=5, t=10)\n",
    "    )\n",
    "\n",
    "    # Create the figure\n",
    "    fig = go.Figure(data=[heatmap], layout=layout)\n",
    "\n",
    "    # Show the figure\n",
    "    fig.show()\n",
    "    \n",
    "corr_matrix(df_MP_asymcell, physical_features)"
   ]
  },
  {
   "cell_type": "code",
   "execution_count": 21,
   "metadata": {},
   "outputs": [
    {
     "data": {
      "application/vnd.plotly.v1+json": {
       "config": {
        "plotlyServerURL": "https://plot.ly"
       },
       "data": [
        {
         "colorbar": {
          "ticktext": [
           -1,
           -0.5,
           0,
           0.5,
           1
          ],
          "tickvals": [
           -1,
           -0.5,
           0,
           0.5,
           1
          ],
          "title": {
           "side": "right",
           "text": "Pearson Coefficient"
          }
         },
         "colorscale": [
          [
           0,
           "#440154"
          ],
          [
           0.1111111111111111,
           "#482878"
          ],
          [
           0.2222222222222222,
           "#3e4989"
          ],
          [
           0.3333333333333333,
           "#31688e"
          ],
          [
           0.4444444444444444,
           "#26828e"
          ],
          [
           0.5555555555555556,
           "#1f9e89"
          ],
          [
           0.6666666666666666,
           "#35b779"
          ],
          [
           0.7777777777777778,
           "#6ece58"
          ],
          [
           0.8888888888888888,
           "#b5de2b"
          ],
          [
           1,
           "#fde725"
          ]
         ],
         "text": [
          [
           1,
           -0.01,
           0.11,
           0.52,
           0.38,
           0.24,
           -0.25,
           0.52,
           0.23,
           0.6,
           0.49,
           0.25,
           -0.25,
           0.45,
           0.21,
           0.48,
           0.34,
           0.18,
           0.16
          ],
          [
           -0.01,
           1,
           0.01,
           0.01,
           0.01,
           0.02,
           0,
           0.01,
           0.02,
           0.01,
           0.01,
           0.02,
           0,
           0.01,
           0.02,
           0.01,
           0.01,
           0.01,
           -0.08
          ],
          [
           0.11,
           0.01,
           1,
           0.22,
           0.21,
           0.25,
           -0.03,
           0.11,
           0.28,
           0.18,
           0.16,
           0.3,
           -0.03,
           0.13,
           0.26,
           0.21,
           0.23,
           0.21,
           0.07
          ],
          [
           0.52,
           0.01,
           0.22,
           1,
           0.92,
           0.75,
           -0.05,
           0.59,
           0.4,
           0.91,
           0.8,
           0.55,
           -0.06,
           0.61,
           0.36,
           0.97,
           0.9,
           0.69,
           0.11
          ],
          [
           0.38,
           0.01,
           0.21,
           0.92,
           1,
           0.77,
           -0.05,
           0.52,
           0.38,
           0.8,
           0.77,
           0.54,
           -0.05,
           0.54,
           0.34,
           0.91,
           0.98,
           0.72,
           0.13
          ],
          [
           0.24,
           0.02,
           0.25,
           0.75,
           0.77,
           1,
           -0.02,
           0.35,
           0.56,
           0.61,
           0.54,
           0.77,
           -0.02,
           0.41,
           0.53,
           0.74,
           0.78,
           0.94,
           0.04
          ],
          [
           -0.25,
           0,
           -0.03,
           -0.05,
           -0.05,
           -0.02,
           1,
           -0.09,
           -0.03,
           0.12,
           -0.07,
           -0.03,
           0.98,
           -0.07,
           -0.02,
           -0.06,
           -0.06,
           -0.01,
           -0.13
          ],
          [
           0.52,
           0.01,
           0.11,
           0.59,
           0.52,
           0.35,
           -0.09,
           1,
           0.15,
           0.6,
           0.88,
           0.21,
           -0.09,
           0.97,
           0.12,
           0.63,
           0.48,
           0.3,
           0.13
          ],
          [
           0.23,
           0.02,
           0.28,
           0.4,
           0.38,
           0.56,
           -0.03,
           0.15,
           1,
           0.41,
           0.25,
           0.94,
           -0.03,
           0.19,
           0.99,
           0.4,
           0.39,
           0.38,
           0.01
          ],
          [
           0.6,
           0.01,
           0.18,
           0.91,
           0.8,
           0.61,
           0.12,
           0.6,
           0.41,
           1,
           0.76,
           0.51,
           0.11,
           0.6,
           0.38,
           0.88,
           0.76,
           0.53,
           0.06
          ],
          [
           0.49,
           0.01,
           0.16,
           0.8,
           0.77,
           0.54,
           -0.07,
           0.88,
           0.25,
           0.76,
           1,
           0.34,
           -0.07,
           0.89,
           0.2,
           0.82,
           0.73,
           0.48,
           0.12
          ],
          [
           0.25,
           0.02,
           0.3,
           0.55,
           0.54,
           0.77,
           -0.03,
           0.21,
           0.94,
           0.51,
           0.34,
           1,
           -0.03,
           0.25,
           0.93,
           0.55,
           0.56,
           0.62,
           0.04
          ],
          [
           -0.25,
           0,
           -0.03,
           -0.06,
           -0.05,
           -0.02,
           0.98,
           -0.09,
           -0.03,
           0.11,
           -0.07,
           -0.03,
           1,
           -0.07,
           -0.02,
           -0.06,
           -0.05,
           -0.01,
           -0.12
          ],
          [
           0.45,
           0.01,
           0.13,
           0.61,
           0.54,
           0.41,
           -0.07,
           0.97,
           0.19,
           0.6,
           0.89,
           0.25,
           -0.07,
           1,
           0.15,
           0.64,
           0.51,
           0.36,
           0.09
          ],
          [
           0.21,
           0.02,
           0.26,
           0.36,
           0.34,
           0.53,
           -0.02,
           0.12,
           0.99,
           0.38,
           0.2,
           0.93,
           -0.02,
           0.15,
           1,
           0.37,
           0.35,
           0.37,
           0
          ],
          [
           0.48,
           0.01,
           0.21,
           0.97,
           0.91,
           0.74,
           -0.06,
           0.63,
           0.4,
           0.88,
           0.82,
           0.55,
           -0.06,
           0.64,
           0.37,
           1,
           0.88,
           0.67,
           0.09
          ],
          [
           0.34,
           0.01,
           0.23,
           0.9,
           0.98,
           0.78,
           -0.06,
           0.48,
           0.39,
           0.76,
           0.73,
           0.56,
           -0.05,
           0.51,
           0.35,
           0.88,
           1,
           0.73,
           0.13
          ],
          [
           0.18,
           0.01,
           0.21,
           0.69,
           0.72,
           0.94,
           -0.01,
           0.3,
           0.38,
           0.53,
           0.48,
           0.62,
           -0.01,
           0.36,
           0.37,
           0.67,
           0.73,
           1,
           0.05
          ],
          [
           0.16,
           -0.08,
           0.07,
           0.11,
           0.13,
           0.04,
           -0.13,
           0.13,
           0.01,
           0.06,
           0.12,
           0.04,
           -0.12,
           0.09,
           0,
           0.09,
           0.13,
           0.05,
           1
          ]
         ],
         "textfont": {
          "size": 8
         },
         "texttemplate": "%{text}",
         "type": "heatmap",
         "x": [
          "Feature 0",
          "Feature 1",
          "Feature 2",
          "Feature 3",
          "Feature 4",
          "Feature 5",
          "Feature 6",
          "Feature 7",
          "Feature 8",
          "Feature 9",
          "Feature 10",
          "Feature 11",
          "Feature 12",
          "Feature 13",
          "Feature 14",
          "Feature 15",
          "Feature 16",
          "Feature 17",
          "tc"
         ],
         "y": [
          "Feature 0",
          "Feature 1",
          "Feature 2",
          "Feature 3",
          "Feature 4",
          "Feature 5",
          "Feature 6",
          "Feature 7",
          "Feature 8",
          "Feature 9",
          "Feature 10",
          "Feature 11",
          "Feature 12",
          "Feature 13",
          "Feature 14",
          "Feature 15",
          "Feature 16",
          "Feature 17",
          "tc"
         ],
         "z": [
          [
           1,
           -0.01,
           0.11,
           0.52,
           0.38,
           0.24,
           -0.25,
           0.52,
           0.23,
           0.6,
           0.49,
           0.25,
           -0.25,
           0.45,
           0.21,
           0.48,
           0.34,
           0.18,
           0.16
          ],
          [
           -0.01,
           1,
           0.01,
           0.01,
           0.01,
           0.02,
           0,
           0.01,
           0.02,
           0.01,
           0.01,
           0.02,
           0,
           0.01,
           0.02,
           0.01,
           0.01,
           0.01,
           -0.08
          ],
          [
           0.11,
           0.01,
           1,
           0.22,
           0.21,
           0.25,
           -0.03,
           0.11,
           0.28,
           0.18,
           0.16,
           0.3,
           -0.03,
           0.13,
           0.26,
           0.21,
           0.23,
           0.21,
           0.07
          ],
          [
           0.52,
           0.01,
           0.22,
           1,
           0.92,
           0.75,
           -0.05,
           0.59,
           0.4,
           0.91,
           0.8,
           0.55,
           -0.06,
           0.61,
           0.36,
           0.97,
           0.9,
           0.69,
           0.11
          ],
          [
           0.38,
           0.01,
           0.21,
           0.92,
           1,
           0.77,
           -0.05,
           0.52,
           0.38,
           0.8,
           0.77,
           0.54,
           -0.05,
           0.54,
           0.34,
           0.91,
           0.98,
           0.72,
           0.13
          ],
          [
           0.24,
           0.02,
           0.25,
           0.75,
           0.77,
           1,
           -0.02,
           0.35,
           0.56,
           0.61,
           0.54,
           0.77,
           -0.02,
           0.41,
           0.53,
           0.74,
           0.78,
           0.94,
           0.04
          ],
          [
           -0.25,
           0,
           -0.03,
           -0.05,
           -0.05,
           -0.02,
           1,
           -0.09,
           -0.03,
           0.12,
           -0.07,
           -0.03,
           0.98,
           -0.07,
           -0.02,
           -0.06,
           -0.06,
           -0.01,
           -0.13
          ],
          [
           0.52,
           0.01,
           0.11,
           0.59,
           0.52,
           0.35,
           -0.09,
           1,
           0.15,
           0.6,
           0.88,
           0.21,
           -0.09,
           0.97,
           0.12,
           0.63,
           0.48,
           0.3,
           0.13
          ],
          [
           0.23,
           0.02,
           0.28,
           0.4,
           0.38,
           0.56,
           -0.03,
           0.15,
           1,
           0.41,
           0.25,
           0.94,
           -0.03,
           0.19,
           0.99,
           0.4,
           0.39,
           0.38,
           0.01
          ],
          [
           0.6,
           0.01,
           0.18,
           0.91,
           0.8,
           0.61,
           0.12,
           0.6,
           0.41,
           1,
           0.76,
           0.51,
           0.11,
           0.6,
           0.38,
           0.88,
           0.76,
           0.53,
           0.06
          ],
          [
           0.49,
           0.01,
           0.16,
           0.8,
           0.77,
           0.54,
           -0.07,
           0.88,
           0.25,
           0.76,
           1,
           0.34,
           -0.07,
           0.89,
           0.2,
           0.82,
           0.73,
           0.48,
           0.12
          ],
          [
           0.25,
           0.02,
           0.3,
           0.55,
           0.54,
           0.77,
           -0.03,
           0.21,
           0.94,
           0.51,
           0.34,
           1,
           -0.03,
           0.25,
           0.93,
           0.55,
           0.56,
           0.62,
           0.04
          ],
          [
           -0.25,
           0,
           -0.03,
           -0.06,
           -0.05,
           -0.02,
           0.98,
           -0.09,
           -0.03,
           0.11,
           -0.07,
           -0.03,
           1,
           -0.07,
           -0.02,
           -0.06,
           -0.05,
           -0.01,
           -0.12
          ],
          [
           0.45,
           0.01,
           0.13,
           0.61,
           0.54,
           0.41,
           -0.07,
           0.97,
           0.19,
           0.6,
           0.89,
           0.25,
           -0.07,
           1,
           0.15,
           0.64,
           0.51,
           0.36,
           0.09
          ],
          [
           0.21,
           0.02,
           0.26,
           0.36,
           0.34,
           0.53,
           -0.02,
           0.12,
           0.99,
           0.38,
           0.2,
           0.93,
           -0.02,
           0.15,
           1,
           0.37,
           0.35,
           0.37,
           0
          ],
          [
           0.48,
           0.01,
           0.21,
           0.97,
           0.91,
           0.74,
           -0.06,
           0.63,
           0.4,
           0.88,
           0.82,
           0.55,
           -0.06,
           0.64,
           0.37,
           1,
           0.88,
           0.67,
           0.09
          ],
          [
           0.34,
           0.01,
           0.23,
           0.9,
           0.98,
           0.78,
           -0.06,
           0.48,
           0.39,
           0.76,
           0.73,
           0.56,
           -0.05,
           0.51,
           0.35,
           0.88,
           1,
           0.73,
           0.13
          ],
          [
           0.18,
           0.01,
           0.21,
           0.69,
           0.72,
           0.94,
           -0.01,
           0.3,
           0.38,
           0.53,
           0.48,
           0.62,
           -0.01,
           0.36,
           0.37,
           0.67,
           0.73,
           1,
           0.05
          ],
          [
           0.16,
           -0.08,
           0.07,
           0.11,
           0.13,
           0.04,
           -0.13,
           0.13,
           0.01,
           0.06,
           0.12,
           0.04,
           -0.12,
           0.09,
           0,
           0.09,
           0.13,
           0.05,
           1
          ]
         ]
        }
       ],
       "layout": {
        "font": {
         "color": "black",
         "family": "Helvetica",
         "size": 16
        },
        "height": 1000,
        "margin": {
         "b": 5,
         "l": 5,
         "r": 5,
         "t": 10
        },
        "paper_bgcolor": "white",
        "plot_bgcolor": "white",
        "template": {
         "data": {
          "bar": [
           {
            "error_x": {
             "color": "#2a3f5f"
            },
            "error_y": {
             "color": "#2a3f5f"
            },
            "marker": {
             "line": {
              "color": "#E5ECF6",
              "width": 0.5
             },
             "pattern": {
              "fillmode": "overlay",
              "size": 10,
              "solidity": 0.2
             }
            },
            "type": "bar"
           }
          ],
          "barpolar": [
           {
            "marker": {
             "line": {
              "color": "#E5ECF6",
              "width": 0.5
             },
             "pattern": {
              "fillmode": "overlay",
              "size": 10,
              "solidity": 0.2
             }
            },
            "type": "barpolar"
           }
          ],
          "carpet": [
           {
            "aaxis": {
             "endlinecolor": "#2a3f5f",
             "gridcolor": "white",
             "linecolor": "white",
             "minorgridcolor": "white",
             "startlinecolor": "#2a3f5f"
            },
            "baxis": {
             "endlinecolor": "#2a3f5f",
             "gridcolor": "white",
             "linecolor": "white",
             "minorgridcolor": "white",
             "startlinecolor": "#2a3f5f"
            },
            "type": "carpet"
           }
          ],
          "choropleth": [
           {
            "colorbar": {
             "outlinewidth": 0,
             "ticks": ""
            },
            "type": "choropleth"
           }
          ],
          "contour": [
           {
            "colorbar": {
             "outlinewidth": 0,
             "ticks": ""
            },
            "colorscale": [
             [
              0,
              "#0d0887"
             ],
             [
              0.1111111111111111,
              "#46039f"
             ],
             [
              0.2222222222222222,
              "#7201a8"
             ],
             [
              0.3333333333333333,
              "#9c179e"
             ],
             [
              0.4444444444444444,
              "#bd3786"
             ],
             [
              0.5555555555555556,
              "#d8576b"
             ],
             [
              0.6666666666666666,
              "#ed7953"
             ],
             [
              0.7777777777777778,
              "#fb9f3a"
             ],
             [
              0.8888888888888888,
              "#fdca26"
             ],
             [
              1,
              "#f0f921"
             ]
            ],
            "type": "contour"
           }
          ],
          "contourcarpet": [
           {
            "colorbar": {
             "outlinewidth": 0,
             "ticks": ""
            },
            "type": "contourcarpet"
           }
          ],
          "heatmap": [
           {
            "colorbar": {
             "outlinewidth": 0,
             "ticks": ""
            },
            "colorscale": [
             [
              0,
              "#0d0887"
             ],
             [
              0.1111111111111111,
              "#46039f"
             ],
             [
              0.2222222222222222,
              "#7201a8"
             ],
             [
              0.3333333333333333,
              "#9c179e"
             ],
             [
              0.4444444444444444,
              "#bd3786"
             ],
             [
              0.5555555555555556,
              "#d8576b"
             ],
             [
              0.6666666666666666,
              "#ed7953"
             ],
             [
              0.7777777777777778,
              "#fb9f3a"
             ],
             [
              0.8888888888888888,
              "#fdca26"
             ],
             [
              1,
              "#f0f921"
             ]
            ],
            "type": "heatmap"
           }
          ],
          "heatmapgl": [
           {
            "colorbar": {
             "outlinewidth": 0,
             "ticks": ""
            },
            "colorscale": [
             [
              0,
              "#0d0887"
             ],
             [
              0.1111111111111111,
              "#46039f"
             ],
             [
              0.2222222222222222,
              "#7201a8"
             ],
             [
              0.3333333333333333,
              "#9c179e"
             ],
             [
              0.4444444444444444,
              "#bd3786"
             ],
             [
              0.5555555555555556,
              "#d8576b"
             ],
             [
              0.6666666666666666,
              "#ed7953"
             ],
             [
              0.7777777777777778,
              "#fb9f3a"
             ],
             [
              0.8888888888888888,
              "#fdca26"
             ],
             [
              1,
              "#f0f921"
             ]
            ],
            "type": "heatmapgl"
           }
          ],
          "histogram": [
           {
            "marker": {
             "pattern": {
              "fillmode": "overlay",
              "size": 10,
              "solidity": 0.2
             }
            },
            "type": "histogram"
           }
          ],
          "histogram2d": [
           {
            "colorbar": {
             "outlinewidth": 0,
             "ticks": ""
            },
            "colorscale": [
             [
              0,
              "#0d0887"
             ],
             [
              0.1111111111111111,
              "#46039f"
             ],
             [
              0.2222222222222222,
              "#7201a8"
             ],
             [
              0.3333333333333333,
              "#9c179e"
             ],
             [
              0.4444444444444444,
              "#bd3786"
             ],
             [
              0.5555555555555556,
              "#d8576b"
             ],
             [
              0.6666666666666666,
              "#ed7953"
             ],
             [
              0.7777777777777778,
              "#fb9f3a"
             ],
             [
              0.8888888888888888,
              "#fdca26"
             ],
             [
              1,
              "#f0f921"
             ]
            ],
            "type": "histogram2d"
           }
          ],
          "histogram2dcontour": [
           {
            "colorbar": {
             "outlinewidth": 0,
             "ticks": ""
            },
            "colorscale": [
             [
              0,
              "#0d0887"
             ],
             [
              0.1111111111111111,
              "#46039f"
             ],
             [
              0.2222222222222222,
              "#7201a8"
             ],
             [
              0.3333333333333333,
              "#9c179e"
             ],
             [
              0.4444444444444444,
              "#bd3786"
             ],
             [
              0.5555555555555556,
              "#d8576b"
             ],
             [
              0.6666666666666666,
              "#ed7953"
             ],
             [
              0.7777777777777778,
              "#fb9f3a"
             ],
             [
              0.8888888888888888,
              "#fdca26"
             ],
             [
              1,
              "#f0f921"
             ]
            ],
            "type": "histogram2dcontour"
           }
          ],
          "mesh3d": [
           {
            "colorbar": {
             "outlinewidth": 0,
             "ticks": ""
            },
            "type": "mesh3d"
           }
          ],
          "parcoords": [
           {
            "line": {
             "colorbar": {
              "outlinewidth": 0,
              "ticks": ""
             }
            },
            "type": "parcoords"
           }
          ],
          "pie": [
           {
            "automargin": true,
            "type": "pie"
           }
          ],
          "scatter": [
           {
            "fillpattern": {
             "fillmode": "overlay",
             "size": 10,
             "solidity": 0.2
            },
            "type": "scatter"
           }
          ],
          "scatter3d": [
           {
            "line": {
             "colorbar": {
              "outlinewidth": 0,
              "ticks": ""
             }
            },
            "marker": {
             "colorbar": {
              "outlinewidth": 0,
              "ticks": ""
             }
            },
            "type": "scatter3d"
           }
          ],
          "scattercarpet": [
           {
            "marker": {
             "colorbar": {
              "outlinewidth": 0,
              "ticks": ""
             }
            },
            "type": "scattercarpet"
           }
          ],
          "scattergeo": [
           {
            "marker": {
             "colorbar": {
              "outlinewidth": 0,
              "ticks": ""
             }
            },
            "type": "scattergeo"
           }
          ],
          "scattergl": [
           {
            "marker": {
             "colorbar": {
              "outlinewidth": 0,
              "ticks": ""
             }
            },
            "type": "scattergl"
           }
          ],
          "scattermapbox": [
           {
            "marker": {
             "colorbar": {
              "outlinewidth": 0,
              "ticks": ""
             }
            },
            "type": "scattermapbox"
           }
          ],
          "scatterpolar": [
           {
            "marker": {
             "colorbar": {
              "outlinewidth": 0,
              "ticks": ""
             }
            },
            "type": "scatterpolar"
           }
          ],
          "scatterpolargl": [
           {
            "marker": {
             "colorbar": {
              "outlinewidth": 0,
              "ticks": ""
             }
            },
            "type": "scatterpolargl"
           }
          ],
          "scatterternary": [
           {
            "marker": {
             "colorbar": {
              "outlinewidth": 0,
              "ticks": ""
             }
            },
            "type": "scatterternary"
           }
          ],
          "surface": [
           {
            "colorbar": {
             "outlinewidth": 0,
             "ticks": ""
            },
            "colorscale": [
             [
              0,
              "#0d0887"
             ],
             [
              0.1111111111111111,
              "#46039f"
             ],
             [
              0.2222222222222222,
              "#7201a8"
             ],
             [
              0.3333333333333333,
              "#9c179e"
             ],
             [
              0.4444444444444444,
              "#bd3786"
             ],
             [
              0.5555555555555556,
              "#d8576b"
             ],
             [
              0.6666666666666666,
              "#ed7953"
             ],
             [
              0.7777777777777778,
              "#fb9f3a"
             ],
             [
              0.8888888888888888,
              "#fdca26"
             ],
             [
              1,
              "#f0f921"
             ]
            ],
            "type": "surface"
           }
          ],
          "table": [
           {
            "cells": {
             "fill": {
              "color": "#EBF0F8"
             },
             "line": {
              "color": "white"
             }
            },
            "header": {
             "fill": {
              "color": "#C8D4E3"
             },
             "line": {
              "color": "white"
             }
            },
            "type": "table"
           }
          ]
         },
         "layout": {
          "annotationdefaults": {
           "arrowcolor": "#2a3f5f",
           "arrowhead": 0,
           "arrowwidth": 1
          },
          "autotypenumbers": "strict",
          "coloraxis": {
           "colorbar": {
            "outlinewidth": 0,
            "ticks": ""
           }
          },
          "colorscale": {
           "diverging": [
            [
             0,
             "#8e0152"
            ],
            [
             0.1,
             "#c51b7d"
            ],
            [
             0.2,
             "#de77ae"
            ],
            [
             0.3,
             "#f1b6da"
            ],
            [
             0.4,
             "#fde0ef"
            ],
            [
             0.5,
             "#f7f7f7"
            ],
            [
             0.6,
             "#e6f5d0"
            ],
            [
             0.7,
             "#b8e186"
            ],
            [
             0.8,
             "#7fbc41"
            ],
            [
             0.9,
             "#4d9221"
            ],
            [
             1,
             "#276419"
            ]
           ],
           "sequential": [
            [
             0,
             "#0d0887"
            ],
            [
             0.1111111111111111,
             "#46039f"
            ],
            [
             0.2222222222222222,
             "#7201a8"
            ],
            [
             0.3333333333333333,
             "#9c179e"
            ],
            [
             0.4444444444444444,
             "#bd3786"
            ],
            [
             0.5555555555555556,
             "#d8576b"
            ],
            [
             0.6666666666666666,
             "#ed7953"
            ],
            [
             0.7777777777777778,
             "#fb9f3a"
            ],
            [
             0.8888888888888888,
             "#fdca26"
            ],
            [
             1,
             "#f0f921"
            ]
           ],
           "sequentialminus": [
            [
             0,
             "#0d0887"
            ],
            [
             0.1111111111111111,
             "#46039f"
            ],
            [
             0.2222222222222222,
             "#7201a8"
            ],
            [
             0.3333333333333333,
             "#9c179e"
            ],
            [
             0.4444444444444444,
             "#bd3786"
            ],
            [
             0.5555555555555556,
             "#d8576b"
            ],
            [
             0.6666666666666666,
             "#ed7953"
            ],
            [
             0.7777777777777778,
             "#fb9f3a"
            ],
            [
             0.8888888888888888,
             "#fdca26"
            ],
            [
             1,
             "#f0f921"
            ]
           ]
          },
          "colorway": [
           "#636efa",
           "#EF553B",
           "#00cc96",
           "#ab63fa",
           "#FFA15A",
           "#19d3f3",
           "#FF6692",
           "#B6E880",
           "#FF97FF",
           "#FECB52"
          ],
          "font": {
           "color": "#2a3f5f"
          },
          "geo": {
           "bgcolor": "white",
           "lakecolor": "white",
           "landcolor": "#E5ECF6",
           "showlakes": true,
           "showland": true,
           "subunitcolor": "white"
          },
          "hoverlabel": {
           "align": "left"
          },
          "hovermode": "closest",
          "mapbox": {
           "style": "light"
          },
          "paper_bgcolor": "white",
          "plot_bgcolor": "#E5ECF6",
          "polar": {
           "angularaxis": {
            "gridcolor": "white",
            "linecolor": "white",
            "ticks": ""
           },
           "bgcolor": "#E5ECF6",
           "radialaxis": {
            "gridcolor": "white",
            "linecolor": "white",
            "ticks": ""
           }
          },
          "scene": {
           "xaxis": {
            "backgroundcolor": "#E5ECF6",
            "gridcolor": "white",
            "gridwidth": 2,
            "linecolor": "white",
            "showbackground": true,
            "ticks": "",
            "zerolinecolor": "white"
           },
           "yaxis": {
            "backgroundcolor": "#E5ECF6",
            "gridcolor": "white",
            "gridwidth": 2,
            "linecolor": "white",
            "showbackground": true,
            "ticks": "",
            "zerolinecolor": "white"
           },
           "zaxis": {
            "backgroundcolor": "#E5ECF6",
            "gridcolor": "white",
            "gridwidth": 2,
            "linecolor": "white",
            "showbackground": true,
            "ticks": "",
            "zerolinecolor": "white"
           }
          },
          "shapedefaults": {
           "line": {
            "color": "#2a3f5f"
           }
          },
          "ternary": {
           "aaxis": {
            "gridcolor": "white",
            "linecolor": "white",
            "ticks": ""
           },
           "baxis": {
            "gridcolor": "white",
            "linecolor": "white",
            "ticks": ""
           },
           "bgcolor": "#E5ECF6",
           "caxis": {
            "gridcolor": "white",
            "linecolor": "white",
            "ticks": ""
           }
          },
          "title": {
           "x": 0.05
          },
          "xaxis": {
           "automargin": true,
           "gridcolor": "white",
           "linecolor": "white",
           "ticks": "",
           "title": {
            "standoff": 15
           },
           "zerolinecolor": "white",
           "zerolinewidth": 2
          },
          "yaxis": {
           "automargin": true,
           "gridcolor": "white",
           "linecolor": "white",
           "ticks": "",
           "title": {
            "standoff": 15
           },
           "zerolinecolor": "white",
           "zerolinewidth": 2
          }
         }
        },
        "width": 1200,
        "xaxis": {
         "linecolor": "black",
         "linewidth": 2,
         "showline": true,
         "ticklen": 5,
         "ticks": "inside",
         "tickwidth": 2,
         "title": {
          "text": ""
         }
        },
        "yaxis": {
         "linecolor": "black",
         "linewidth": 2,
         "showline": true,
         "ticklen": 5,
         "ticks": "inside",
         "tickwidth": 2,
         "title": {
          "text": ""
         }
        }
       }
      }
     },
     "metadata": {},
     "output_type": "display_data"
    }
   ],
   "source": [
    "corr_matrix(df_MP_asymcell, PHFs.columns.tolist())"
   ]
  },
  {
   "cell_type": "markdown",
   "metadata": {},
   "source": [
    "Not sure if these Correlation matrixs are showing anything significant in particular, I think a feature importance will be better."
   ]
  },
  {
   "cell_type": "code",
   "execution_count": 22,
   "metadata": {},
   "outputs": [
    {
     "name": "stdout",
     "output_type": "stream",
     "text": [
      "Best Parameters: {'max_depth': 20, 'max_features': 'sqrt', 'min_samples_leaf': 1, 'min_samples_split': 2, 'n_estimators': 100}\n",
      "Mean Absolute Error (MAE): 5.131562466303511\n",
      "Mean Squared Error (MSE): 102.00212993870615\n",
      "Root Mean Squared Error (RMSE): 10.099610385490429\n",
      "R-squared (R2) Score: 0.724588242348051\n",
      "Best Parameters: {'max_depth': None, 'max_features': 'sqrt', 'min_samples_leaf': 1, 'min_samples_split': 2, 'n_estimators': 100}\n",
      "Mean Absolute Error (MAE): 4.961795510175985\n",
      "Mean Squared Error (MSE): 86.62748381669007\n",
      "Root Mean Squared Error (RMSE): 9.30738866797181\n",
      "R-squared (R2) Score: 0.766510693971636\n",
      "Best Parameters: {'max_depth': 20, 'max_features': 'sqrt', 'min_samples_leaf': 1, 'min_samples_split': 2, 'n_estimators': 100}\n",
      "Mean Absolute Error (MAE): 4.60901765570279\n",
      "Mean Squared Error (MSE): 82.87818469358822\n",
      "Root Mean Squared Error (RMSE): 9.103745640866084\n",
      "R-squared (R2) Score: 0.7555429858130959\n",
      "Best Parameters: {'max_depth': None, 'max_features': 'sqrt', 'min_samples_leaf': 1, 'min_samples_split': 2, 'n_estimators': 50}\n",
      "Mean Absolute Error (MAE): 4.999797685878829\n",
      "Mean Squared Error (MSE): 101.27084442499228\n",
      "Root Mean Squared Error (RMSE): 10.06334161325115\n",
      "R-squared (R2) Score: 0.7258020694557529\n",
      "Best Parameters: {'max_depth': 20, 'max_features': 'sqrt', 'min_samples_leaf': 1, 'min_samples_split': 2, 'n_estimators': 100}\n",
      "Mean Absolute Error (MAE): 4.904123378425521\n",
      "Mean Squared Error (MSE): 86.3675888421452\n",
      "Root Mean Squared Error (RMSE): 9.293416424660265\n",
      "R-squared (R2) Score: 0.7571676724073476\n",
      "Best Parameters: {'max_depth': 20, 'max_features': 'sqrt', 'min_samples_leaf': 1, 'min_samples_split': 2, 'n_estimators': 150}\n",
      "Mean Absolute Error (MAE): 5.063539987760397\n",
      "Mean Squared Error (MSE): 95.64231032608433\n",
      "Root Mean Squared Error (RMSE): 9.779688662022137\n",
      "R-squared (R2) Score: 0.7357686582310152\n",
      "Best Parameters: {'max_depth': 20, 'max_features': 'sqrt', 'min_samples_leaf': 1, 'min_samples_split': 2, 'n_estimators': 100}\n",
      "Mean Absolute Error (MAE): 4.323416559082124\n",
      "Mean Squared Error (MSE): 70.68240428488501\n",
      "Root Mean Squared Error (RMSE): 8.407282812233987\n",
      "R-squared (R2) Score: 0.7570462350090408\n",
      "Best Parameters: {'max_depth': 20, 'max_features': 'sqrt', 'min_samples_leaf': 1, 'min_samples_split': 2, 'n_estimators': 150}\n",
      "Mean Absolute Error (MAE): 4.776687354999745\n",
      "Mean Squared Error (MSE): 78.71836107209208\n",
      "Root Mean Squared Error (RMSE): 8.872336843926298\n",
      "R-squared (R2) Score: 0.7852770259146644\n",
      "Best Parameters: {'max_depth': None, 'max_features': 'sqrt', 'min_samples_leaf': 1, 'min_samples_split': 2, 'n_estimators': 100}\n",
      "Mean Absolute Error (MAE): 5.114493607749433\n",
      "Mean Squared Error (MSE): 106.28115161714675\n",
      "Root Mean Squared Error (RMSE): 10.309275028688814\n",
      "R-squared (R2) Score: 0.6982542085661823\n",
      "Best Parameters: {'max_depth': 20, 'max_features': 'sqrt', 'min_samples_leaf': 1, 'min_samples_split': 2, 'n_estimators': 100}\n",
      "Mean Absolute Error (MAE): 4.856145899793419\n",
      "Mean Squared Error (MSE): 92.35371928620525\n",
      "Root Mean Squared Error (RMSE): 9.610084249693404\n",
      "R-squared (R2) Score: 0.7293231557778708\n"
     ]
    }
   ],
   "source": [
    "regressor_df = pd.DataFrame(columns=[\"mae\" ,\"mse\", \"rmse\", \"r2\", \"n_estimators\", \"max_depth\", \"min_samples_split\", \"min_samples_leaf\", \"max_features\"])\n",
    "\n",
    "for i in range(10):\n",
    "    model, best_params, mae, mse, rmse, r2 = RFregressor(PHFs, target)\n",
    "    regressor_df = regressor_df.append({\"mae\": mae ,\"mse\": mse, \"rmse\": rmse, \"r2\": r2, \n",
    "                                        \"n_estimators\": best_params[\"n_estimators\"], \"max_depth\": best_params[\"max_depth\"], \n",
    "                                        \"min_samples_split\": best_params[\"min_samples_split\"], \"min_samples_leaf\": best_params[\"min_samples_leaf\"], \"max_features\": best_params[\"max_features\"]}, ignore_index=True)"
   ]
  },
  {
   "cell_type": "code",
   "execution_count": 28,
   "metadata": {},
   "outputs": [
    {
     "data": {
      "text/html": [
       "<div>\n",
       "<style scoped>\n",
       "    .dataframe tbody tr th:only-of-type {\n",
       "        vertical-align: middle;\n",
       "    }\n",
       "\n",
       "    .dataframe tbody tr th {\n",
       "        vertical-align: top;\n",
       "    }\n",
       "\n",
       "    .dataframe thead th {\n",
       "        text-align: right;\n",
       "    }\n",
       "</style>\n",
       "<table border=\"1\" class=\"dataframe\">\n",
       "  <thead>\n",
       "    <tr style=\"text-align: right;\">\n",
       "      <th></th>\n",
       "      <th>mae</th>\n",
       "      <th>mse</th>\n",
       "      <th>rmse</th>\n",
       "      <th>r2</th>\n",
       "      <th>n_estimators</th>\n",
       "      <th>max_depth</th>\n",
       "      <th>min_samples_split</th>\n",
       "      <th>min_samples_leaf</th>\n",
       "      <th>max_features</th>\n",
       "    </tr>\n",
       "  </thead>\n",
       "  <tbody>\n",
       "    <tr>\n",
       "      <th>0</th>\n",
       "      <td>5.131562</td>\n",
       "      <td>102.002130</td>\n",
       "      <td>10.099610</td>\n",
       "      <td>0.724588</td>\n",
       "      <td>100</td>\n",
       "      <td>20</td>\n",
       "      <td>2</td>\n",
       "      <td>1</td>\n",
       "      <td>sqrt</td>\n",
       "    </tr>\n",
       "    <tr>\n",
       "      <th>1</th>\n",
       "      <td>4.961796</td>\n",
       "      <td>86.627484</td>\n",
       "      <td>9.307389</td>\n",
       "      <td>0.766511</td>\n",
       "      <td>100</td>\n",
       "      <td>None</td>\n",
       "      <td>2</td>\n",
       "      <td>1</td>\n",
       "      <td>sqrt</td>\n",
       "    </tr>\n",
       "    <tr>\n",
       "      <th>2</th>\n",
       "      <td>4.609018</td>\n",
       "      <td>82.878185</td>\n",
       "      <td>9.103746</td>\n",
       "      <td>0.755543</td>\n",
       "      <td>100</td>\n",
       "      <td>20</td>\n",
       "      <td>2</td>\n",
       "      <td>1</td>\n",
       "      <td>sqrt</td>\n",
       "    </tr>\n",
       "    <tr>\n",
       "      <th>3</th>\n",
       "      <td>4.999798</td>\n",
       "      <td>101.270844</td>\n",
       "      <td>10.063342</td>\n",
       "      <td>0.725802</td>\n",
       "      <td>50</td>\n",
       "      <td>None</td>\n",
       "      <td>2</td>\n",
       "      <td>1</td>\n",
       "      <td>sqrt</td>\n",
       "    </tr>\n",
       "    <tr>\n",
       "      <th>4</th>\n",
       "      <td>4.904123</td>\n",
       "      <td>86.367589</td>\n",
       "      <td>9.293416</td>\n",
       "      <td>0.757168</td>\n",
       "      <td>100</td>\n",
       "      <td>20</td>\n",
       "      <td>2</td>\n",
       "      <td>1</td>\n",
       "      <td>sqrt</td>\n",
       "    </tr>\n",
       "    <tr>\n",
       "      <th>5</th>\n",
       "      <td>5.063540</td>\n",
       "      <td>95.642310</td>\n",
       "      <td>9.779689</td>\n",
       "      <td>0.735769</td>\n",
       "      <td>150</td>\n",
       "      <td>20</td>\n",
       "      <td>2</td>\n",
       "      <td>1</td>\n",
       "      <td>sqrt</td>\n",
       "    </tr>\n",
       "    <tr>\n",
       "      <th>6</th>\n",
       "      <td>4.323417</td>\n",
       "      <td>70.682404</td>\n",
       "      <td>8.407283</td>\n",
       "      <td>0.757046</td>\n",
       "      <td>100</td>\n",
       "      <td>20</td>\n",
       "      <td>2</td>\n",
       "      <td>1</td>\n",
       "      <td>sqrt</td>\n",
       "    </tr>\n",
       "    <tr>\n",
       "      <th>7</th>\n",
       "      <td>4.776687</td>\n",
       "      <td>78.718361</td>\n",
       "      <td>8.872337</td>\n",
       "      <td>0.785277</td>\n",
       "      <td>150</td>\n",
       "      <td>20</td>\n",
       "      <td>2</td>\n",
       "      <td>1</td>\n",
       "      <td>sqrt</td>\n",
       "    </tr>\n",
       "    <tr>\n",
       "      <th>8</th>\n",
       "      <td>5.114494</td>\n",
       "      <td>106.281152</td>\n",
       "      <td>10.309275</td>\n",
       "      <td>0.698254</td>\n",
       "      <td>100</td>\n",
       "      <td>None</td>\n",
       "      <td>2</td>\n",
       "      <td>1</td>\n",
       "      <td>sqrt</td>\n",
       "    </tr>\n",
       "    <tr>\n",
       "      <th>9</th>\n",
       "      <td>4.856146</td>\n",
       "      <td>92.353719</td>\n",
       "      <td>9.610084</td>\n",
       "      <td>0.729323</td>\n",
       "      <td>100</td>\n",
       "      <td>20</td>\n",
       "      <td>2</td>\n",
       "      <td>1</td>\n",
       "      <td>sqrt</td>\n",
       "    </tr>\n",
       "  </tbody>\n",
       "</table>\n",
       "</div>"
      ],
      "text/plain": [
       "        mae         mse       rmse        r2 n_estimators max_depth  \\\n",
       "0  5.131562  102.002130  10.099610  0.724588          100        20   \n",
       "1  4.961796   86.627484   9.307389  0.766511          100      None   \n",
       "2  4.609018   82.878185   9.103746  0.755543          100        20   \n",
       "3  4.999798  101.270844  10.063342  0.725802           50      None   \n",
       "4  4.904123   86.367589   9.293416  0.757168          100        20   \n",
       "5  5.063540   95.642310   9.779689  0.735769          150        20   \n",
       "6  4.323417   70.682404   8.407283  0.757046          100        20   \n",
       "7  4.776687   78.718361   8.872337  0.785277          150        20   \n",
       "8  5.114494  106.281152  10.309275  0.698254          100      None   \n",
       "9  4.856146   92.353719   9.610084  0.729323          100        20   \n",
       "\n",
       "  min_samples_split min_samples_leaf max_features  \n",
       "0                 2                1         sqrt  \n",
       "1                 2                1         sqrt  \n",
       "2                 2                1         sqrt  \n",
       "3                 2                1         sqrt  \n",
       "4                 2                1         sqrt  \n",
       "5                 2                1         sqrt  \n",
       "6                 2                1         sqrt  \n",
       "7                 2                1         sqrt  \n",
       "8                 2                1         sqrt  \n",
       "9                 2                1         sqrt  "
      ]
     },
     "execution_count": 28,
     "metadata": {},
     "output_type": "execute_result"
    }
   ],
   "source": [
    "regressor_df"
   ]
  },
  {
   "cell_type": "code",
   "execution_count": 29,
   "metadata": {},
   "outputs": [
    {
     "data": {
      "text/html": [
       "<div>\n",
       "<style scoped>\n",
       "    .dataframe tbody tr th:only-of-type {\n",
       "        vertical-align: middle;\n",
       "    }\n",
       "\n",
       "    .dataframe tbody tr th {\n",
       "        vertical-align: top;\n",
       "    }\n",
       "\n",
       "    .dataframe thead th {\n",
       "        text-align: right;\n",
       "    }\n",
       "</style>\n",
       "<table border=\"1\" class=\"dataframe\">\n",
       "  <thead>\n",
       "    <tr style=\"text-align: right;\">\n",
       "      <th></th>\n",
       "      <th>mae</th>\n",
       "      <th>mse</th>\n",
       "      <th>rmse</th>\n",
       "      <th>r2</th>\n",
       "    </tr>\n",
       "  </thead>\n",
       "  <tbody>\n",
       "    <tr>\n",
       "      <th>count</th>\n",
       "      <td>10.000000</td>\n",
       "      <td>10.000000</td>\n",
       "      <td>10.000000</td>\n",
       "      <td>10.000000</td>\n",
       "    </tr>\n",
       "    <tr>\n",
       "      <th>mean</th>\n",
       "      <td>4.874058</td>\n",
       "      <td>90.282418</td>\n",
       "      <td>9.484617</td>\n",
       "      <td>0.743528</td>\n",
       "    </tr>\n",
       "    <tr>\n",
       "      <th>std</th>\n",
       "      <td>0.251150</td>\n",
       "      <td>11.296363</td>\n",
       "      <td>0.600424</td>\n",
       "      <td>0.025318</td>\n",
       "    </tr>\n",
       "    <tr>\n",
       "      <th>min</th>\n",
       "      <td>4.323417</td>\n",
       "      <td>70.682404</td>\n",
       "      <td>8.407283</td>\n",
       "      <td>0.698254</td>\n",
       "    </tr>\n",
       "    <tr>\n",
       "      <th>25%</th>\n",
       "      <td>4.796552</td>\n",
       "      <td>83.750536</td>\n",
       "      <td>9.151163</td>\n",
       "      <td>0.726682</td>\n",
       "    </tr>\n",
       "    <tr>\n",
       "      <th>50%</th>\n",
       "      <td>4.932959</td>\n",
       "      <td>89.490602</td>\n",
       "      <td>9.458736</td>\n",
       "      <td>0.745656</td>\n",
       "    </tr>\n",
       "    <tr>\n",
       "      <th>75%</th>\n",
       "      <td>5.047604</td>\n",
       "      <td>99.863711</td>\n",
       "      <td>9.992428</td>\n",
       "      <td>0.757137</td>\n",
       "    </tr>\n",
       "    <tr>\n",
       "      <th>max</th>\n",
       "      <td>5.131562</td>\n",
       "      <td>106.281152</td>\n",
       "      <td>10.309275</td>\n",
       "      <td>0.785277</td>\n",
       "    </tr>\n",
       "  </tbody>\n",
       "</table>\n",
       "</div>"
      ],
      "text/plain": [
       "             mae         mse       rmse         r2\n",
       "count  10.000000   10.000000  10.000000  10.000000\n",
       "mean    4.874058   90.282418   9.484617   0.743528\n",
       "std     0.251150   11.296363   0.600424   0.025318\n",
       "min     4.323417   70.682404   8.407283   0.698254\n",
       "25%     4.796552   83.750536   9.151163   0.726682\n",
       "50%     4.932959   89.490602   9.458736   0.745656\n",
       "75%     5.047604   99.863711   9.992428   0.757137\n",
       "max     5.131562  106.281152  10.309275   0.785277"
      ]
     },
     "execution_count": 29,
     "metadata": {},
     "output_type": "execute_result"
    }
   ],
   "source": [
    "regressor_df.describe()"
   ]
  },
  {
   "cell_type": "code",
   "execution_count": 27,
   "metadata": {},
   "outputs": [
    {
     "data": {
      "text/plain": [
       "105.0"
      ]
     },
     "execution_count": 27,
     "metadata": {},
     "output_type": "execute_result"
    }
   ],
   "source": [
    "regressor_df[\"n_estimators\"].mean()"
   ]
  },
  {
   "cell_type": "markdown",
   "metadata": {},
   "source": [
    "### Hyperparameters should be:\n",
    "- n_estimators = 100\n",
    "- max_depth = 20\n",
    "- min_samples_split = 2\n",
    "- min_samples_leaf = 1\n",
    "- max_features = sqrt"
   ]
  },
  {
   "cell_type": "code",
   "execution_count": 39,
   "metadata": {},
   "outputs": [
    {
     "data": {
      "application/vnd.plotly.v1+json": {
       "config": {
        "plotlyServerURL": "https://plot.ly"
       },
       "data": [
        {
         "marker": {
          "color": "rgb(49, 104, 142)"
         },
         "type": "bar",
         "x": [
          "Feature 9",
          "Feature 2",
          "Feature 1",
          "Feature 16",
          "Feature 12",
          "Feature 6",
          "Feature 0",
          "Feature 10",
          "Feature 13",
          "Feature 15",
          "Feature 7",
          "Feature 4",
          "Feature 3",
          "Feature 8",
          "Feature 11",
          "Feature 5",
          "Feature 14",
          "Feature 17"
         ],
         "y": [
          0.18249526553633608,
          0.12417163399785668,
          0.11856644666195905,
          0.107980608295857,
          0.08890064514084298,
          0.08362853158909596,
          0.06770049788513456,
          0.053912874407145345,
          0.04987398772008455,
          0.04818982552354598,
          0.02934242102912467,
          0.014467026267408001,
          0.014103092474809467,
          0.005034569677727731,
          0.004173284602158756,
          0.003391104732815825,
          0.0032168728782430043,
          0.0008513115798544079
         ]
        }
       ],
       "layout": {
        "barmode": "group",
        "font": {
         "color": "black",
         "family": "Helvetica",
         "size": 16
        },
        "height": 500,
        "legend": {
         "title": {
          "font": {
           "color": "black",
           "family": "Helvetica",
           "size": 16
          },
          "text": "Unit Cell Size"
         }
        },
        "margin": {
         "b": 10,
         "l": 10,
         "r": 10,
         "t": 10
        },
        "paper_bgcolor": "white",
        "plot_bgcolor": "white",
        "template": {
         "data": {
          "bar": [
           {
            "error_x": {
             "color": "#2a3f5f"
            },
            "error_y": {
             "color": "#2a3f5f"
            },
            "marker": {
             "line": {
              "color": "#E5ECF6",
              "width": 0.5
             },
             "pattern": {
              "fillmode": "overlay",
              "size": 10,
              "solidity": 0.2
             }
            },
            "type": "bar"
           }
          ],
          "barpolar": [
           {
            "marker": {
             "line": {
              "color": "#E5ECF6",
              "width": 0.5
             },
             "pattern": {
              "fillmode": "overlay",
              "size": 10,
              "solidity": 0.2
             }
            },
            "type": "barpolar"
           }
          ],
          "carpet": [
           {
            "aaxis": {
             "endlinecolor": "#2a3f5f",
             "gridcolor": "white",
             "linecolor": "white",
             "minorgridcolor": "white",
             "startlinecolor": "#2a3f5f"
            },
            "baxis": {
             "endlinecolor": "#2a3f5f",
             "gridcolor": "white",
             "linecolor": "white",
             "minorgridcolor": "white",
             "startlinecolor": "#2a3f5f"
            },
            "type": "carpet"
           }
          ],
          "choropleth": [
           {
            "colorbar": {
             "outlinewidth": 0,
             "ticks": ""
            },
            "type": "choropleth"
           }
          ],
          "contour": [
           {
            "colorbar": {
             "outlinewidth": 0,
             "ticks": ""
            },
            "colorscale": [
             [
              0,
              "#0d0887"
             ],
             [
              0.1111111111111111,
              "#46039f"
             ],
             [
              0.2222222222222222,
              "#7201a8"
             ],
             [
              0.3333333333333333,
              "#9c179e"
             ],
             [
              0.4444444444444444,
              "#bd3786"
             ],
             [
              0.5555555555555556,
              "#d8576b"
             ],
             [
              0.6666666666666666,
              "#ed7953"
             ],
             [
              0.7777777777777778,
              "#fb9f3a"
             ],
             [
              0.8888888888888888,
              "#fdca26"
             ],
             [
              1,
              "#f0f921"
             ]
            ],
            "type": "contour"
           }
          ],
          "contourcarpet": [
           {
            "colorbar": {
             "outlinewidth": 0,
             "ticks": ""
            },
            "type": "contourcarpet"
           }
          ],
          "heatmap": [
           {
            "colorbar": {
             "outlinewidth": 0,
             "ticks": ""
            },
            "colorscale": [
             [
              0,
              "#0d0887"
             ],
             [
              0.1111111111111111,
              "#46039f"
             ],
             [
              0.2222222222222222,
              "#7201a8"
             ],
             [
              0.3333333333333333,
              "#9c179e"
             ],
             [
              0.4444444444444444,
              "#bd3786"
             ],
             [
              0.5555555555555556,
              "#d8576b"
             ],
             [
              0.6666666666666666,
              "#ed7953"
             ],
             [
              0.7777777777777778,
              "#fb9f3a"
             ],
             [
              0.8888888888888888,
              "#fdca26"
             ],
             [
              1,
              "#f0f921"
             ]
            ],
            "type": "heatmap"
           }
          ],
          "heatmapgl": [
           {
            "colorbar": {
             "outlinewidth": 0,
             "ticks": ""
            },
            "colorscale": [
             [
              0,
              "#0d0887"
             ],
             [
              0.1111111111111111,
              "#46039f"
             ],
             [
              0.2222222222222222,
              "#7201a8"
             ],
             [
              0.3333333333333333,
              "#9c179e"
             ],
             [
              0.4444444444444444,
              "#bd3786"
             ],
             [
              0.5555555555555556,
              "#d8576b"
             ],
             [
              0.6666666666666666,
              "#ed7953"
             ],
             [
              0.7777777777777778,
              "#fb9f3a"
             ],
             [
              0.8888888888888888,
              "#fdca26"
             ],
             [
              1,
              "#f0f921"
             ]
            ],
            "type": "heatmapgl"
           }
          ],
          "histogram": [
           {
            "marker": {
             "pattern": {
              "fillmode": "overlay",
              "size": 10,
              "solidity": 0.2
             }
            },
            "type": "histogram"
           }
          ],
          "histogram2d": [
           {
            "colorbar": {
             "outlinewidth": 0,
             "ticks": ""
            },
            "colorscale": [
             [
              0,
              "#0d0887"
             ],
             [
              0.1111111111111111,
              "#46039f"
             ],
             [
              0.2222222222222222,
              "#7201a8"
             ],
             [
              0.3333333333333333,
              "#9c179e"
             ],
             [
              0.4444444444444444,
              "#bd3786"
             ],
             [
              0.5555555555555556,
              "#d8576b"
             ],
             [
              0.6666666666666666,
              "#ed7953"
             ],
             [
              0.7777777777777778,
              "#fb9f3a"
             ],
             [
              0.8888888888888888,
              "#fdca26"
             ],
             [
              1,
              "#f0f921"
             ]
            ],
            "type": "histogram2d"
           }
          ],
          "histogram2dcontour": [
           {
            "colorbar": {
             "outlinewidth": 0,
             "ticks": ""
            },
            "colorscale": [
             [
              0,
              "#0d0887"
             ],
             [
              0.1111111111111111,
              "#46039f"
             ],
             [
              0.2222222222222222,
              "#7201a8"
             ],
             [
              0.3333333333333333,
              "#9c179e"
             ],
             [
              0.4444444444444444,
              "#bd3786"
             ],
             [
              0.5555555555555556,
              "#d8576b"
             ],
             [
              0.6666666666666666,
              "#ed7953"
             ],
             [
              0.7777777777777778,
              "#fb9f3a"
             ],
             [
              0.8888888888888888,
              "#fdca26"
             ],
             [
              1,
              "#f0f921"
             ]
            ],
            "type": "histogram2dcontour"
           }
          ],
          "mesh3d": [
           {
            "colorbar": {
             "outlinewidth": 0,
             "ticks": ""
            },
            "type": "mesh3d"
           }
          ],
          "parcoords": [
           {
            "line": {
             "colorbar": {
              "outlinewidth": 0,
              "ticks": ""
             }
            },
            "type": "parcoords"
           }
          ],
          "pie": [
           {
            "automargin": true,
            "type": "pie"
           }
          ],
          "scatter": [
           {
            "fillpattern": {
             "fillmode": "overlay",
             "size": 10,
             "solidity": 0.2
            },
            "type": "scatter"
           }
          ],
          "scatter3d": [
           {
            "line": {
             "colorbar": {
              "outlinewidth": 0,
              "ticks": ""
             }
            },
            "marker": {
             "colorbar": {
              "outlinewidth": 0,
              "ticks": ""
             }
            },
            "type": "scatter3d"
           }
          ],
          "scattercarpet": [
           {
            "marker": {
             "colorbar": {
              "outlinewidth": 0,
              "ticks": ""
             }
            },
            "type": "scattercarpet"
           }
          ],
          "scattergeo": [
           {
            "marker": {
             "colorbar": {
              "outlinewidth": 0,
              "ticks": ""
             }
            },
            "type": "scattergeo"
           }
          ],
          "scattergl": [
           {
            "marker": {
             "colorbar": {
              "outlinewidth": 0,
              "ticks": ""
             }
            },
            "type": "scattergl"
           }
          ],
          "scattermapbox": [
           {
            "marker": {
             "colorbar": {
              "outlinewidth": 0,
              "ticks": ""
             }
            },
            "type": "scattermapbox"
           }
          ],
          "scatterpolar": [
           {
            "marker": {
             "colorbar": {
              "outlinewidth": 0,
              "ticks": ""
             }
            },
            "type": "scatterpolar"
           }
          ],
          "scatterpolargl": [
           {
            "marker": {
             "colorbar": {
              "outlinewidth": 0,
              "ticks": ""
             }
            },
            "type": "scatterpolargl"
           }
          ],
          "scatterternary": [
           {
            "marker": {
             "colorbar": {
              "outlinewidth": 0,
              "ticks": ""
             }
            },
            "type": "scatterternary"
           }
          ],
          "surface": [
           {
            "colorbar": {
             "outlinewidth": 0,
             "ticks": ""
            },
            "colorscale": [
             [
              0,
              "#0d0887"
             ],
             [
              0.1111111111111111,
              "#46039f"
             ],
             [
              0.2222222222222222,
              "#7201a8"
             ],
             [
              0.3333333333333333,
              "#9c179e"
             ],
             [
              0.4444444444444444,
              "#bd3786"
             ],
             [
              0.5555555555555556,
              "#d8576b"
             ],
             [
              0.6666666666666666,
              "#ed7953"
             ],
             [
              0.7777777777777778,
              "#fb9f3a"
             ],
             [
              0.8888888888888888,
              "#fdca26"
             ],
             [
              1,
              "#f0f921"
             ]
            ],
            "type": "surface"
           }
          ],
          "table": [
           {
            "cells": {
             "fill": {
              "color": "#EBF0F8"
             },
             "line": {
              "color": "white"
             }
            },
            "header": {
             "fill": {
              "color": "#C8D4E3"
             },
             "line": {
              "color": "white"
             }
            },
            "type": "table"
           }
          ]
         },
         "layout": {
          "annotationdefaults": {
           "arrowcolor": "#2a3f5f",
           "arrowhead": 0,
           "arrowwidth": 1
          },
          "autotypenumbers": "strict",
          "coloraxis": {
           "colorbar": {
            "outlinewidth": 0,
            "ticks": ""
           }
          },
          "colorscale": {
           "diverging": [
            [
             0,
             "#8e0152"
            ],
            [
             0.1,
             "#c51b7d"
            ],
            [
             0.2,
             "#de77ae"
            ],
            [
             0.3,
             "#f1b6da"
            ],
            [
             0.4,
             "#fde0ef"
            ],
            [
             0.5,
             "#f7f7f7"
            ],
            [
             0.6,
             "#e6f5d0"
            ],
            [
             0.7,
             "#b8e186"
            ],
            [
             0.8,
             "#7fbc41"
            ],
            [
             0.9,
             "#4d9221"
            ],
            [
             1,
             "#276419"
            ]
           ],
           "sequential": [
            [
             0,
             "#0d0887"
            ],
            [
             0.1111111111111111,
             "#46039f"
            ],
            [
             0.2222222222222222,
             "#7201a8"
            ],
            [
             0.3333333333333333,
             "#9c179e"
            ],
            [
             0.4444444444444444,
             "#bd3786"
            ],
            [
             0.5555555555555556,
             "#d8576b"
            ],
            [
             0.6666666666666666,
             "#ed7953"
            ],
            [
             0.7777777777777778,
             "#fb9f3a"
            ],
            [
             0.8888888888888888,
             "#fdca26"
            ],
            [
             1,
             "#f0f921"
            ]
           ],
           "sequentialminus": [
            [
             0,
             "#0d0887"
            ],
            [
             0.1111111111111111,
             "#46039f"
            ],
            [
             0.2222222222222222,
             "#7201a8"
            ],
            [
             0.3333333333333333,
             "#9c179e"
            ],
            [
             0.4444444444444444,
             "#bd3786"
            ],
            [
             0.5555555555555556,
             "#d8576b"
            ],
            [
             0.6666666666666666,
             "#ed7953"
            ],
            [
             0.7777777777777778,
             "#fb9f3a"
            ],
            [
             0.8888888888888888,
             "#fdca26"
            ],
            [
             1,
             "#f0f921"
            ]
           ]
          },
          "colorway": [
           "#636efa",
           "#EF553B",
           "#00cc96",
           "#ab63fa",
           "#FFA15A",
           "#19d3f3",
           "#FF6692",
           "#B6E880",
           "#FF97FF",
           "#FECB52"
          ],
          "font": {
           "color": "#2a3f5f"
          },
          "geo": {
           "bgcolor": "white",
           "lakecolor": "white",
           "landcolor": "#E5ECF6",
           "showlakes": true,
           "showland": true,
           "subunitcolor": "white"
          },
          "hoverlabel": {
           "align": "left"
          },
          "hovermode": "closest",
          "mapbox": {
           "style": "light"
          },
          "paper_bgcolor": "white",
          "plot_bgcolor": "#E5ECF6",
          "polar": {
           "angularaxis": {
            "gridcolor": "white",
            "linecolor": "white",
            "ticks": ""
           },
           "bgcolor": "#E5ECF6",
           "radialaxis": {
            "gridcolor": "white",
            "linecolor": "white",
            "ticks": ""
           }
          },
          "scene": {
           "xaxis": {
            "backgroundcolor": "#E5ECF6",
            "gridcolor": "white",
            "gridwidth": 2,
            "linecolor": "white",
            "showbackground": true,
            "ticks": "",
            "zerolinecolor": "white"
           },
           "yaxis": {
            "backgroundcolor": "#E5ECF6",
            "gridcolor": "white",
            "gridwidth": 2,
            "linecolor": "white",
            "showbackground": true,
            "ticks": "",
            "zerolinecolor": "white"
           },
           "zaxis": {
            "backgroundcolor": "#E5ECF6",
            "gridcolor": "white",
            "gridwidth": 2,
            "linecolor": "white",
            "showbackground": true,
            "ticks": "",
            "zerolinecolor": "white"
           }
          },
          "shapedefaults": {
           "line": {
            "color": "#2a3f5f"
           }
          },
          "ternary": {
           "aaxis": {
            "gridcolor": "white",
            "linecolor": "white",
            "ticks": ""
           },
           "baxis": {
            "gridcolor": "white",
            "linecolor": "white",
            "ticks": ""
           },
           "bgcolor": "#E5ECF6",
           "caxis": {
            "gridcolor": "white",
            "linecolor": "white",
            "ticks": ""
           }
          },
          "title": {
           "x": 0.05
          },
          "xaxis": {
           "automargin": true,
           "gridcolor": "white",
           "linecolor": "white",
           "ticks": "",
           "title": {
            "standoff": 15
           },
           "zerolinecolor": "white",
           "zerolinewidth": 2
          },
          "yaxis": {
           "automargin": true,
           "gridcolor": "white",
           "linecolor": "white",
           "ticks": "",
           "title": {
            "standoff": 15
           },
           "zerolinecolor": "white",
           "zerolinewidth": 2
          }
         }
        },
        "width": 800,
        "xaxis": {
         "linecolor": "black",
         "linewidth": 2,
         "showline": true,
         "ticklen": 5,
         "ticks": "outside",
         "tickson": "boundaries",
         "tickwidth": 2,
         "title": {
          "text": "Features"
         }
        },
        "yaxis": {
         "linecolor": "black",
         "linewidth": 2,
         "showline": true,
         "ticklen": 5,
         "ticks": "inside",
         "tickwidth": 2,
         "title": {
          "text": "Feature Importance"
         }
        }
       }
      }
     },
     "metadata": {},
     "output_type": "display_data"
    }
   ],
   "source": [
    "model.fit(PHFs, target)\n",
    "# Get the feature importances\n",
    "importances = model.feature_importances_\n",
    "\n",
    "# Get the names of the features\n",
    "feature_names = PHFs.columns.tolist()\n",
    "\n",
    "import plotly.graph_objects as go\n",
    "\n",
    "# Sort the feature importances in descending order\n",
    "indices = np.argsort(importances)[::-1]\n",
    "\n",
    "# Create the bar plot\n",
    "fig = go.Figure(data=go.Bar(\n",
    "    x=[feature_names[i] for i in indices],\n",
    "    y=importances[indices],\n",
    "    marker_color='rgb(49, 104, 142)'\n",
    "))\n",
    "\n",
    "# Set the layout\n",
    "fig.update_layout(\n",
    "    xaxis=dict(\n",
    "        title=\"Features\",\n",
    "        showline=True,\n",
    "        linewidth=2,\n",
    "        linecolor='black',\n",
    "        ticks='outside',\n",
    "        tickson = \"boundaries\",\n",
    "        tickwidth=2,\n",
    "        ticklen=5\n",
    "    ),\n",
    "    yaxis=dict(\n",
    "        title=\"Feature Importance\",\n",
    "        showline=True,\n",
    "        linewidth=2,\n",
    "        linecolor='black',\n",
    "        ticks='inside',\n",
    "        tickwidth=2,\n",
    "        ticklen=5\n",
    "    ),\n",
    "    barmode='group',\n",
    "    width=800,\n",
    "    height=500,\n",
    "    plot_bgcolor='white',\n",
    "    paper_bgcolor='white',\n",
    "    font=dict(family='Helvetica', size=16, color='black'),\n",
    "    margin=dict(l=10, r=10, b=10, t=10),\n",
    "    legend=dict(\n",
    "        title=dict(\n",
    "            text=\"Unit Cell Size\",\n",
    "            font=dict(\n",
    "                family='Helvetica',\n",
    "                size=16,\n",
    "                color='black'\n",
    "            )\n",
    "        )\n",
    "    )\n",
    ")\n",
    "# Show the plot\n",
    "fig.show()"
   ]
  },
  {
   "cell_type": "code",
   "execution_count": 40,
   "metadata": {},
   "outputs": [],
   "source": [
    "combined_features = pd.concat([PHFs, df_MP_asymcell[physical_features]], axis=1)"
   ]
  },
  {
   "cell_type": "code",
   "execution_count": 41,
   "metadata": {},
   "outputs": [
    {
     "name": "stdout",
     "output_type": "stream",
     "text": [
      "Best Parameters: {'max_depth': None, 'max_features': 'auto', 'min_samples_leaf': 1, 'min_samples_split': 2, 'n_estimators': 150}\n",
      "Mean Absolute Error (MAE): 0.022498976267432434\n",
      "Mean Squared Error (MSE): 0.028854099660026954\n",
      "Root Mean Squared Error (RMSE): 0.16986494535373375\n",
      "R-squared (R2) Score: 0.9999272347705195\n"
     ]
    }
   ],
   "source": [
    "regressor_df = pd.DataFrame(columns=[\"mae\" ,\"mse\", \"rmse\", \"r2\", \"n_estimators\", \"max_depth\", \"min_samples_split\", \"min_samples_leaf\", \"max_features\"])\n",
    "\n",
    "for i in range(1):\n",
    "    model, best_params, mae, mse, rmse, r2 = RFregressor(combined_features, target)\n",
    "    regressor_df = regressor_df.append({\"mae\": mae ,\"mse\": mse, \"rmse\": rmse, \"r2\": r2, \n",
    "                                        \"n_estimators\": best_params[\"n_estimators\"], \"max_depth\": best_params[\"max_depth\"], \n",
    "                                        \"min_samples_split\": best_params[\"min_samples_split\"], \"min_samples_leaf\": best_params[\"min_samples_leaf\"], \"max_features\": best_params[\"max_features\"]}, ignore_index=True)"
   ]
  }
 ],
 "metadata": {
  "kernelspec": {
   "display_name": "enviroment",
   "language": "python",
   "name": "python3"
  },
  "language_info": {
   "codemirror_mode": {
    "name": "ipython",
    "version": 3
   },
   "file_extension": ".py",
   "mimetype": "text/x-python",
   "name": "python",
   "nbconvert_exporter": "python",
   "pygments_lexer": "ipython3",
   "version": "3.7.16"
  }
 },
 "nbformat": 4,
 "nbformat_minor": 2
}
