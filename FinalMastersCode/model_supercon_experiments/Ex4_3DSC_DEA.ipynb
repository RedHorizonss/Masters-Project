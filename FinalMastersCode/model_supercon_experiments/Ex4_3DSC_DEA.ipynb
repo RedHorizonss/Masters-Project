{
 "cells": [
  {
   "cell_type": "code",
   "execution_count": 1,
   "metadata": {},
   "outputs": [],
   "source": [
    "import pandas as pd\n",
    "import numpy as np\n",
    "import plotly.graph_objs as go"
   ]
  },
  {
   "cell_type": "code",
   "execution_count": 2,
   "metadata": {},
   "outputs": [],
   "source": [
    "def corr_matrix(dataframe, features, width, height, text_size):\n",
    "    features.append(\"tc\")\n",
    "    # Compute the correlation matrix\n",
    "    correlation_matrix = dataframe[features].corr()\n",
    "\n",
    "    # Get the correlation values\n",
    "    correlation_values = correlation_matrix.values.round(2)\n",
    "\n",
    "    # Create the heatmap trace\n",
    "    heatmap = go.Heatmap(\n",
    "        z=correlation_values,\n",
    "        x=correlation_matrix.columns,\n",
    "        y=correlation_matrix.index,\n",
    "        colorscale='Viridis', \n",
    "        colorbar=dict(title='Pearson Coefficient', titleside='right', tickvals = [-1,-0.5,0,0.5,1], ticktext = [-1,-0.5,0,0.5,1]),\n",
    "        text=correlation_values,\n",
    "        texttemplate=\"%{text}\",\n",
    "        textfont={\"size\":text_size}\n",
    "    )\n",
    "    \n",
    "\n",
    "    # Create the layout\n",
    "    layout = go.Layout(\n",
    "        xaxis=dict(\n",
    "            title=\"\",\n",
    "            showline=True,\n",
    "            linewidth=2,\n",
    "            linecolor='black',\n",
    "            ticks='inside',\n",
    "            tickwidth=2,\n",
    "            ticklen=5\n",
    "        ),\n",
    "        yaxis=dict(\n",
    "            title=\"\",\n",
    "            showline=True,\n",
    "            linewidth=2,\n",
    "            linecolor='black',\n",
    "            ticks='inside',\n",
    "            tickwidth=2,\n",
    "            ticklen=5\n",
    "        ),\n",
    "        width=width,\n",
    "        height=height,\n",
    "        plot_bgcolor='white',\n",
    "        paper_bgcolor='white',\n",
    "        font=dict(family='Helvetica', size=16, color='black'),\n",
    "        margin=dict(l=5, r=5, b=5, t=10)\n",
    "    )\n",
    "\n",
    "    # Create the figure\n",
    "    fig = go.Figure(data=[heatmap], layout=layout)\n",
    "\n",
    "    # Show the figure\n",
    "    fig.show()"
   ]
  },
  {
   "cell_type": "markdown",
   "metadata": {},
   "source": [
    "# Data Analysis\n",
    "\n",
    "Just a quick overview"
   ]
  },
  {
   "cell_type": "code",
   "execution_count": 3,
   "metadata": {},
   "outputs": [
    {
     "data": {
      "text/html": [
       "<div>\n",
       "<style scoped>\n",
       "    .dataframe tbody tr th:only-of-type {\n",
       "        vertical-align: middle;\n",
       "    }\n",
       "\n",
       "    .dataframe tbody tr th {\n",
       "        vertical-align: top;\n",
       "    }\n",
       "\n",
       "    .dataframe thead th {\n",
       "        text-align: right;\n",
       "    }\n",
       "</style>\n",
       "<table border=\"1\" class=\"dataframe\">\n",
       "  <thead>\n",
       "    <tr style=\"text-align: right;\">\n",
       "      <th></th>\n",
       "      <th>formula_sc</th>\n",
       "      <th>formula_similarity</th>\n",
       "      <th>totreldiff</th>\n",
       "      <th>formula_frac</th>\n",
       "      <th>correct_formula_frac</th>\n",
       "      <th>formula</th>\n",
       "      <th>orig_formula_cif</th>\n",
       "      <th>tc</th>\n",
       "      <th>sc_class</th>\n",
       "      <th>sc_class_unique_sc</th>\n",
       "      <th>...</th>\n",
       "      <th>monoclinic</th>\n",
       "      <th>orthorhombic</th>\n",
       "      <th>tetragonal</th>\n",
       "      <th>triclinic</th>\n",
       "      <th>trigonal</th>\n",
       "      <th>primitive</th>\n",
       "      <th>base-centered</th>\n",
       "      <th>body-centered</th>\n",
       "      <th>face-centered</th>\n",
       "      <th>weight</th>\n",
       "    </tr>\n",
       "  </thead>\n",
       "  <tbody>\n",
       "    <tr>\n",
       "      <th>0</th>\n",
       "      <td>Ag0.02Ge2Pd1.98Sr1</td>\n",
       "      <td>2</td>\n",
       "      <td>0.008000</td>\n",
       "      <td>1.0</td>\n",
       "      <td>True</td>\n",
       "      <td>Ag0.02Ge2Pd1.98Sr1</td>\n",
       "      <td>Ge2Pd2Sr1</td>\n",
       "      <td>2.64</td>\n",
       "      <td>Other</td>\n",
       "      <td>True</td>\n",
       "      <td>...</td>\n",
       "      <td>0</td>\n",
       "      <td>0</td>\n",
       "      <td>7</td>\n",
       "      <td>0</td>\n",
       "      <td>0</td>\n",
       "      <td>0</td>\n",
       "      <td>0</td>\n",
       "      <td>1</td>\n",
       "      <td>0</td>\n",
       "      <td>1.0</td>\n",
       "    </tr>\n",
       "    <tr>\n",
       "      <th>1</th>\n",
       "      <td>Ag0.15Sn0.85Te1</td>\n",
       "      <td>3</td>\n",
       "      <td>0.150000</td>\n",
       "      <td>1.0</td>\n",
       "      <td>True</td>\n",
       "      <td>Ag0.15Sn0.85Te1</td>\n",
       "      <td>Sn1Te1</td>\n",
       "      <td>2.15</td>\n",
       "      <td>Other</td>\n",
       "      <td>True</td>\n",
       "      <td>...</td>\n",
       "      <td>0</td>\n",
       "      <td>0</td>\n",
       "      <td>0</td>\n",
       "      <td>0</td>\n",
       "      <td>0</td>\n",
       "      <td>0</td>\n",
       "      <td>0</td>\n",
       "      <td>0</td>\n",
       "      <td>1</td>\n",
       "      <td>1.0</td>\n",
       "    </tr>\n",
       "    <tr>\n",
       "      <th>2</th>\n",
       "      <td>Ag0.1Ge2Pd1.9Sr1</td>\n",
       "      <td>2</td>\n",
       "      <td>0.040000</td>\n",
       "      <td>1.0</td>\n",
       "      <td>True</td>\n",
       "      <td>Ag0.1Ge2Pd1.9Sr1</td>\n",
       "      <td>Ge2Pd2Sr1</td>\n",
       "      <td>2.62</td>\n",
       "      <td>Other</td>\n",
       "      <td>True</td>\n",
       "      <td>...</td>\n",
       "      <td>0</td>\n",
       "      <td>0</td>\n",
       "      <td>7</td>\n",
       "      <td>0</td>\n",
       "      <td>0</td>\n",
       "      <td>0</td>\n",
       "      <td>0</td>\n",
       "      <td>1</td>\n",
       "      <td>0</td>\n",
       "      <td>1.0</td>\n",
       "    </tr>\n",
       "    <tr>\n",
       "      <th>3</th>\n",
       "      <td>Ag0.1In0.9Te1</td>\n",
       "      <td>3</td>\n",
       "      <td>0.100000</td>\n",
       "      <td>1.0</td>\n",
       "      <td>True</td>\n",
       "      <td>Ag0.1In0.9Te1</td>\n",
       "      <td>In1Te1</td>\n",
       "      <td>1.20</td>\n",
       "      <td>Other</td>\n",
       "      <td>True</td>\n",
       "      <td>...</td>\n",
       "      <td>0</td>\n",
       "      <td>0</td>\n",
       "      <td>0</td>\n",
       "      <td>0</td>\n",
       "      <td>0</td>\n",
       "      <td>0</td>\n",
       "      <td>0</td>\n",
       "      <td>0</td>\n",
       "      <td>1</td>\n",
       "      <td>1.0</td>\n",
       "    </tr>\n",
       "    <tr>\n",
       "      <th>4</th>\n",
       "      <td>Ag0.2Ba1Si1.8</td>\n",
       "      <td>3</td>\n",
       "      <td>0.133333</td>\n",
       "      <td>4.0</td>\n",
       "      <td>False</td>\n",
       "      <td>Ag0.8Ba4Si7.2</td>\n",
       "      <td>Ba4Si8</td>\n",
       "      <td>3.20</td>\n",
       "      <td>Other</td>\n",
       "      <td>True</td>\n",
       "      <td>...</td>\n",
       "      <td>0</td>\n",
       "      <td>0</td>\n",
       "      <td>0</td>\n",
       "      <td>0</td>\n",
       "      <td>0</td>\n",
       "      <td>1</td>\n",
       "      <td>0</td>\n",
       "      <td>0</td>\n",
       "      <td>0</td>\n",
       "      <td>1.0</td>\n",
       "    </tr>\n",
       "  </tbody>\n",
       "</table>\n",
       "<p>5 rows × 92 columns</p>\n",
       "</div>"
      ],
      "text/plain": [
       "           formula_sc  formula_similarity  totreldiff  formula_frac  \\\n",
       "0  Ag0.02Ge2Pd1.98Sr1                   2    0.008000           1.0   \n",
       "1     Ag0.15Sn0.85Te1                   3    0.150000           1.0   \n",
       "2    Ag0.1Ge2Pd1.9Sr1                   2    0.040000           1.0   \n",
       "3       Ag0.1In0.9Te1                   3    0.100000           1.0   \n",
       "4       Ag0.2Ba1Si1.8                   3    0.133333           4.0   \n",
       "\n",
       "   correct_formula_frac             formula orig_formula_cif    tc sc_class  \\\n",
       "0                  True  Ag0.02Ge2Pd1.98Sr1        Ge2Pd2Sr1  2.64    Other   \n",
       "1                  True     Ag0.15Sn0.85Te1           Sn1Te1  2.15    Other   \n",
       "2                  True    Ag0.1Ge2Pd1.9Sr1        Ge2Pd2Sr1  2.62    Other   \n",
       "3                  True       Ag0.1In0.9Te1           In1Te1  1.20    Other   \n",
       "4                 False       Ag0.8Ba4Si7.2           Ba4Si8  3.20    Other   \n",
       "\n",
       "   sc_class_unique_sc  ... monoclinic orthorhombic  tetragonal triclinic  \\\n",
       "0                True  ...          0            0           7         0   \n",
       "1                True  ...          0            0           0         0   \n",
       "2                True  ...          0            0           7         0   \n",
       "3                True  ...          0            0           0         0   \n",
       "4                True  ...          0            0           0         0   \n",
       "\n",
       "  trigonal primitive base-centered body-centered face-centered weight  \n",
       "0        0         0             0             1             0    1.0  \n",
       "1        0         0             0             0             1    1.0  \n",
       "2        0         0             0             1             0    1.0  \n",
       "3        0         0             0             0             1    1.0  \n",
       "4        0         1             0             0             0    1.0  \n",
       "\n",
       "[5 rows x 92 columns]"
      ]
     },
     "execution_count": 3,
     "metadata": {},
     "output_type": "execute_result"
    }
   ],
   "source": [
    "df_MP = pd.read_csv(\"3DSC_MP.csv\", skiprows=1)\n",
    "df_MP['cif'] = df_MP['cif'].str.replace('data/final/MP/', '')\n",
    "df_MP.columns = df_MP.columns.str.replace('_2', '')\n",
    "df_MP.head()"
   ]
  },
  {
   "cell_type": "code",
   "execution_count": 4,
   "metadata": {},
   "outputs": [
    {
     "name": "stdout",
     "output_type": "stream",
     "text": [
      "Column 'formula_sc' has type: object\n",
      "Column 'formula_similarity' has type: int64\n",
      "Column 'totreldiff' has type: float64\n",
      "Column 'formula_frac' has type: float64\n",
      "Column 'correct_formula_frac' has type: bool\n",
      "Column 'formula' has type: object\n",
      "Column 'orig_formula_cif' has type: object\n",
      "Column 'tc' has type: float64\n",
      "Column 'sc_class' has type: object\n",
      "Column 'sc_class_unique_sc' has type: bool\n",
      "Column 'norm_formula_sc' has type: object\n",
      "Column 'chemical_composition_sc' has type: object\n",
      "Column 'num_elements_sc' has type: int64\n",
      "Column 'origin_sc' has type: object\n",
      "Column 'old_formula_sc' has type: object\n",
      "Column 'database_id' has type: object\n",
      "Column 'original_formula' has type: object\n",
      "Column 'chemical_composition' has type: object\n",
      "Column 'norm_formula' has type: object\n",
      "Column 'spacegroup' has type: object\n",
      "Column 'crystal_system' has type: object\n",
      "Column 'lata' has type: float64\n",
      "Column 'latb' has type: float64\n",
      "Column 'latc' has type: float64\n",
      "Column 'cif' has type: object\n",
      "Column 'original_cif' has type: object\n",
      "Column 'material_id' has type: object\n",
      "Column 'band_gap' has type: float64\n",
      "Column 'band_structure' has type: object\n",
      "Column 'created_at' has type: object\n",
      "Column 'density' has type: float64\n",
      "Column 'doi' has type: object\n",
      "Column 'doi_bibtex' has type: object\n",
      "Column 'dos' has type: object\n",
      "Column 'e_above_hull' has type: float64\n",
      "Column 'efermi' has type: float64\n",
      "Column 'encut' has type: float64\n",
      "Column 'energy' has type: float64\n",
      "Column 'energy_per_atom' has type: float64\n",
      "Column 'exp' has type: object\n",
      "Column 'final_energy' has type: float64\n",
      "Column 'final_energy_per_atom' has type: float64\n",
      "Column 'formation_energy_per_atom' has type: float64\n",
      "Column 'has' has type: object\n",
      "Column 'has_bandstructure' has type: bool\n",
      "Column 'icsd_ids' has type: object\n",
      "Column 'is_ordered' has type: bool\n",
      "Column 'last_updated' has type: object\n",
      "Column 'magnetic_type' has type: object\n",
      "Column 'nsites' has type: int64\n",
      "Column 'ntask_ids' has type: int64\n",
      "Column 'original_task_id' has type: object\n",
      "Column 'oxide_type' has type: object\n",
      "Column 'pretty_formula' has type: object\n",
      "Column 'pseudo_potential' has type: object\n",
      "Column 'reduced_cell_formula' has type: object\n",
      "Column 'run_type' has type: object\n",
      "Column 'task_id' has type: object\n",
      "Column 'task_ids' has type: object\n",
      "Column 'total_magnetization' has type: float64\n",
      "Column 'unit_cell_formula' has type: object\n",
      "Column 'cell_volume' has type: float64\n",
      "Column 'warnings' has type: object\n",
      "Column 'ordering' has type: object\n",
      "Column 'is_magnetic' has type: bool\n",
      "Column 'exchange_symmetry' has type: int64\n",
      "Column 'num_unique_magnetic_sites' has type: int64\n",
      "Column 'magmoms' has type: object\n",
      "Column 'total_magnetization_normalized_vol' has type: float64\n",
      "Column 'total_magnetization_normalized_formula_units' has type: float64\n",
      "Column 'num_magnetic_sites' has type: int64\n",
      "Column 'true_total_magnetization' has type: float64\n",
      "Column 'origin' has type: object\n",
      "Column 'cif_before_synthetic_doping' has type: object\n",
      "Column 'synth_doped' has type: bool\n",
      "Column 'Reason for exclusion' has type: float64\n",
      "Column 'graph' has type: object\n",
      "Column 'crystal_temp' has type: int64\n",
      "Column 'no_crystal_temp_given' has type: bool\n",
      "Column 'point_group' has type: object\n",
      "Column 'cubic' has type: int64\n",
      "Column 'hexagonal' has type: int64\n",
      "Column 'monoclinic' has type: int64\n",
      "Column 'orthorhombic' has type: int64\n",
      "Column 'tetragonal' has type: int64\n",
      "Column 'triclinic' has type: int64\n",
      "Column 'trigonal' has type: int64\n",
      "Column 'primitive' has type: int64\n",
      "Column 'base-centered' has type: int64\n",
      "Column 'body-centered' has type: int64\n",
      "Column 'face-centered' has type: int64\n",
      "Column 'weight' has type: float64\n"
     ]
    }
   ],
   "source": [
    "for column in df_MP.columns:\n",
    "    print(f\"Column '{column}' has type: {df_MP[column].dtype}\")"
   ]
  },
  {
   "cell_type": "code",
   "execution_count": 5,
   "metadata": {},
   "outputs": [
    {
     "name": "stdout",
     "output_type": "stream",
     "text": [
      "Total dataset length: 5773\n"
     ]
    }
   ],
   "source": [
    "total_dataset_length = len(df_MP)\n",
    "print(f\"Total dataset length: {total_dataset_length}\")"
   ]
  },
  {
   "cell_type": "markdown",
   "metadata": {},
   "source": [
    "## Supercon or Not?"
   ]
  },
  {
   "cell_type": "code",
   "execution_count": 6,
   "metadata": {},
   "outputs": [
    {
     "name": "stdout",
     "output_type": "stream",
     "text": [
      "False\n"
     ]
    }
   ],
   "source": [
    "# Is there any NA values in the dataset?\n",
    "print(df_MP['tc'].isna().any())"
   ]
  },
  {
   "cell_type": "code",
   "execution_count": 7,
   "metadata": {},
   "outputs": [
    {
     "name": "stdout",
     "output_type": "stream",
     "text": [
      "Count of tc values that are 0: 1778\n",
      "Count of tc values that are not 0: 3995\n"
     ]
    }
   ],
   "source": [
    "tc_counts = df_MP['tc'].value_counts()\n",
    "zero_count = tc_counts[0]\n",
    "non_zero_count = tc_counts[tc_counts.index != 0].sum()\n",
    "\n",
    "print(f\"Count of tc values that are 0: {zero_count}\")\n",
    "print(f\"Count of tc values that are not 0: {non_zero_count}\")"
   ]
  },
  {
   "cell_type": "code",
   "execution_count": 8,
   "metadata": {},
   "outputs": [],
   "source": [
    "df_MP_non_zero = df_MP[df_MP['tc'] != 0]\n",
    "\n",
    "df_MP.loc[df_MP[\"tc\"] == 0, \"sc_class\"] = \"Not_supercon\""
   ]
  },
  {
   "cell_type": "markdown",
   "metadata": {},
   "source": [
    "## Supercon Variety"
   ]
  },
  {
   "cell_type": "code",
   "execution_count": 9,
   "metadata": {},
   "outputs": [],
   "source": [
    "# Define a dictionary to map the old names to the new names\n",
    "name_mapping = {\n",
    "    'Other': 'Other',\n",
    "    'Not_supercon': 'Not Superconductor',\n",
    "    'Cuprate': 'Cuprate',\n",
    "    'Ferrite': 'Ferrite',\n",
    "    'Heavy_fermion': 'Heavy Fermion',\n",
    "    'Oxide': 'Oxide',\n",
    "    'Chevrel': 'Chevrel',\n",
    "    'Carbon': 'Carbon',\n",
    "    'Heavy_fermionChevrel': 'Heavy Fermion Chevrel',\n",
    "    'OxideHeavy_fermion': 'Oxide Heavy Fermion'\n",
    "}\n",
    "\n",
    "# Replace the values in the sc_class column with the new names\n",
    "df_MP['sc_class_name'] = df_MP['sc_class'].map(name_mapping)"
   ]
  },
  {
   "cell_type": "code",
   "execution_count": 10,
   "metadata": {},
   "outputs": [
    {
     "name": "stdout",
     "output_type": "stream",
     "text": [
      "Other                    2512\n",
      "Not Superconductor       1778\n",
      "Cuprate                   576\n",
      "Ferrite                   406\n",
      "Heavy Fermion             241\n",
      "Oxide                     181\n",
      "Chevrel                    54\n",
      "Carbon                     18\n",
      "Heavy Fermion Chevrel       6\n",
      "Oxide Heavy Fermion         1\n",
      "Name: sc_class_name, dtype: int64\n"
     ]
    }
   ],
   "source": [
    "sc_class_counts = df_MP['sc_class_name'].value_counts()\n",
    "print(sc_class_counts)"
   ]
  },
  {
   "cell_type": "code",
   "execution_count": 11,
   "metadata": {},
   "outputs": [
    {
     "data": {
      "application/vnd.plotly.v1+json": {
       "config": {
        "plotlyServerURL": "https://plot.ly"
       },
       "data": [
        {
         "marker": {
          "color": [
           "rgb(237, 121, 83)",
           "rgb(33, 145, 140)",
           "rgb(33, 145, 140)",
           "rgb(33, 145, 140)",
           "rgb(33, 145, 140)",
           "rgb(33, 145, 140)",
           "rgb(33, 145, 140)",
           "rgb(33, 145, 140)",
           "rgb(33, 145, 140)",
           "rgb(33, 145, 140)"
          ]
         },
         "text": [
          "43.51%",
          "30.80%",
          "9.98%",
          "7.03%",
          "4.17%",
          "3.14%",
          "0.94%",
          "0.31%",
          "0.10%",
          "0.02%"
         ],
         "textposition": "auto",
         "type": "bar",
         "x": [
          "Not Superconductor",
          "Other",
          "Cuprate",
          "Ferrite",
          "Heavy Fermion",
          "Oxide",
          "Chevrel",
          "Carbon",
          "Heavy Fermion Chevrel",
          "Oxide Heavy Fermion"
         ],
         "y": [
          1778,
          2512,
          576,
          406,
          241,
          181,
          54,
          18,
          6,
          1
         ]
        }
       ],
       "layout": {
        "font": {
         "color": "black",
         "family": "Helvetica",
         "size": 16
        },
        "height": 500,
        "margin": {
         "b": 10,
         "l": 10,
         "r": 10,
         "t": 10
        },
        "paper_bgcolor": "white",
        "plot_bgcolor": "white",
        "template": {
         "data": {
          "bar": [
           {
            "error_x": {
             "color": "#2a3f5f"
            },
            "error_y": {
             "color": "#2a3f5f"
            },
            "marker": {
             "line": {
              "color": "#E5ECF6",
              "width": 0.5
             },
             "pattern": {
              "fillmode": "overlay",
              "size": 10,
              "solidity": 0.2
             }
            },
            "type": "bar"
           }
          ],
          "barpolar": [
           {
            "marker": {
             "line": {
              "color": "#E5ECF6",
              "width": 0.5
             },
             "pattern": {
              "fillmode": "overlay",
              "size": 10,
              "solidity": 0.2
             }
            },
            "type": "barpolar"
           }
          ],
          "carpet": [
           {
            "aaxis": {
             "endlinecolor": "#2a3f5f",
             "gridcolor": "white",
             "linecolor": "white",
             "minorgridcolor": "white",
             "startlinecolor": "#2a3f5f"
            },
            "baxis": {
             "endlinecolor": "#2a3f5f",
             "gridcolor": "white",
             "linecolor": "white",
             "minorgridcolor": "white",
             "startlinecolor": "#2a3f5f"
            },
            "type": "carpet"
           }
          ],
          "choropleth": [
           {
            "colorbar": {
             "outlinewidth": 0,
             "ticks": ""
            },
            "type": "choropleth"
           }
          ],
          "contour": [
           {
            "colorbar": {
             "outlinewidth": 0,
             "ticks": ""
            },
            "colorscale": [
             [
              0,
              "#0d0887"
             ],
             [
              0.1111111111111111,
              "#46039f"
             ],
             [
              0.2222222222222222,
              "#7201a8"
             ],
             [
              0.3333333333333333,
              "#9c179e"
             ],
             [
              0.4444444444444444,
              "#bd3786"
             ],
             [
              0.5555555555555556,
              "#d8576b"
             ],
             [
              0.6666666666666666,
              "#ed7953"
             ],
             [
              0.7777777777777778,
              "#fb9f3a"
             ],
             [
              0.8888888888888888,
              "#fdca26"
             ],
             [
              1,
              "#f0f921"
             ]
            ],
            "type": "contour"
           }
          ],
          "contourcarpet": [
           {
            "colorbar": {
             "outlinewidth": 0,
             "ticks": ""
            },
            "type": "contourcarpet"
           }
          ],
          "heatmap": [
           {
            "colorbar": {
             "outlinewidth": 0,
             "ticks": ""
            },
            "colorscale": [
             [
              0,
              "#0d0887"
             ],
             [
              0.1111111111111111,
              "#46039f"
             ],
             [
              0.2222222222222222,
              "#7201a8"
             ],
             [
              0.3333333333333333,
              "#9c179e"
             ],
             [
              0.4444444444444444,
              "#bd3786"
             ],
             [
              0.5555555555555556,
              "#d8576b"
             ],
             [
              0.6666666666666666,
              "#ed7953"
             ],
             [
              0.7777777777777778,
              "#fb9f3a"
             ],
             [
              0.8888888888888888,
              "#fdca26"
             ],
             [
              1,
              "#f0f921"
             ]
            ],
            "type": "heatmap"
           }
          ],
          "heatmapgl": [
           {
            "colorbar": {
             "outlinewidth": 0,
             "ticks": ""
            },
            "colorscale": [
             [
              0,
              "#0d0887"
             ],
             [
              0.1111111111111111,
              "#46039f"
             ],
             [
              0.2222222222222222,
              "#7201a8"
             ],
             [
              0.3333333333333333,
              "#9c179e"
             ],
             [
              0.4444444444444444,
              "#bd3786"
             ],
             [
              0.5555555555555556,
              "#d8576b"
             ],
             [
              0.6666666666666666,
              "#ed7953"
             ],
             [
              0.7777777777777778,
              "#fb9f3a"
             ],
             [
              0.8888888888888888,
              "#fdca26"
             ],
             [
              1,
              "#f0f921"
             ]
            ],
            "type": "heatmapgl"
           }
          ],
          "histogram": [
           {
            "marker": {
             "pattern": {
              "fillmode": "overlay",
              "size": 10,
              "solidity": 0.2
             }
            },
            "type": "histogram"
           }
          ],
          "histogram2d": [
           {
            "colorbar": {
             "outlinewidth": 0,
             "ticks": ""
            },
            "colorscale": [
             [
              0,
              "#0d0887"
             ],
             [
              0.1111111111111111,
              "#46039f"
             ],
             [
              0.2222222222222222,
              "#7201a8"
             ],
             [
              0.3333333333333333,
              "#9c179e"
             ],
             [
              0.4444444444444444,
              "#bd3786"
             ],
             [
              0.5555555555555556,
              "#d8576b"
             ],
             [
              0.6666666666666666,
              "#ed7953"
             ],
             [
              0.7777777777777778,
              "#fb9f3a"
             ],
             [
              0.8888888888888888,
              "#fdca26"
             ],
             [
              1,
              "#f0f921"
             ]
            ],
            "type": "histogram2d"
           }
          ],
          "histogram2dcontour": [
           {
            "colorbar": {
             "outlinewidth": 0,
             "ticks": ""
            },
            "colorscale": [
             [
              0,
              "#0d0887"
             ],
             [
              0.1111111111111111,
              "#46039f"
             ],
             [
              0.2222222222222222,
              "#7201a8"
             ],
             [
              0.3333333333333333,
              "#9c179e"
             ],
             [
              0.4444444444444444,
              "#bd3786"
             ],
             [
              0.5555555555555556,
              "#d8576b"
             ],
             [
              0.6666666666666666,
              "#ed7953"
             ],
             [
              0.7777777777777778,
              "#fb9f3a"
             ],
             [
              0.8888888888888888,
              "#fdca26"
             ],
             [
              1,
              "#f0f921"
             ]
            ],
            "type": "histogram2dcontour"
           }
          ],
          "mesh3d": [
           {
            "colorbar": {
             "outlinewidth": 0,
             "ticks": ""
            },
            "type": "mesh3d"
           }
          ],
          "parcoords": [
           {
            "line": {
             "colorbar": {
              "outlinewidth": 0,
              "ticks": ""
             }
            },
            "type": "parcoords"
           }
          ],
          "pie": [
           {
            "automargin": true,
            "type": "pie"
           }
          ],
          "scatter": [
           {
            "fillpattern": {
             "fillmode": "overlay",
             "size": 10,
             "solidity": 0.2
            },
            "type": "scatter"
           }
          ],
          "scatter3d": [
           {
            "line": {
             "colorbar": {
              "outlinewidth": 0,
              "ticks": ""
             }
            },
            "marker": {
             "colorbar": {
              "outlinewidth": 0,
              "ticks": ""
             }
            },
            "type": "scatter3d"
           }
          ],
          "scattercarpet": [
           {
            "marker": {
             "colorbar": {
              "outlinewidth": 0,
              "ticks": ""
             }
            },
            "type": "scattercarpet"
           }
          ],
          "scattergeo": [
           {
            "marker": {
             "colorbar": {
              "outlinewidth": 0,
              "ticks": ""
             }
            },
            "type": "scattergeo"
           }
          ],
          "scattergl": [
           {
            "marker": {
             "colorbar": {
              "outlinewidth": 0,
              "ticks": ""
             }
            },
            "type": "scattergl"
           }
          ],
          "scattermapbox": [
           {
            "marker": {
             "colorbar": {
              "outlinewidth": 0,
              "ticks": ""
             }
            },
            "type": "scattermapbox"
           }
          ],
          "scatterpolar": [
           {
            "marker": {
             "colorbar": {
              "outlinewidth": 0,
              "ticks": ""
             }
            },
            "type": "scatterpolar"
           }
          ],
          "scatterpolargl": [
           {
            "marker": {
             "colorbar": {
              "outlinewidth": 0,
              "ticks": ""
             }
            },
            "type": "scatterpolargl"
           }
          ],
          "scatterternary": [
           {
            "marker": {
             "colorbar": {
              "outlinewidth": 0,
              "ticks": ""
             }
            },
            "type": "scatterternary"
           }
          ],
          "surface": [
           {
            "colorbar": {
             "outlinewidth": 0,
             "ticks": ""
            },
            "colorscale": [
             [
              0,
              "#0d0887"
             ],
             [
              0.1111111111111111,
              "#46039f"
             ],
             [
              0.2222222222222222,
              "#7201a8"
             ],
             [
              0.3333333333333333,
              "#9c179e"
             ],
             [
              0.4444444444444444,
              "#bd3786"
             ],
             [
              0.5555555555555556,
              "#d8576b"
             ],
             [
              0.6666666666666666,
              "#ed7953"
             ],
             [
              0.7777777777777778,
              "#fb9f3a"
             ],
             [
              0.8888888888888888,
              "#fdca26"
             ],
             [
              1,
              "#f0f921"
             ]
            ],
            "type": "surface"
           }
          ],
          "table": [
           {
            "cells": {
             "fill": {
              "color": "#EBF0F8"
             },
             "line": {
              "color": "white"
             }
            },
            "header": {
             "fill": {
              "color": "#C8D4E3"
             },
             "line": {
              "color": "white"
             }
            },
            "type": "table"
           }
          ]
         },
         "layout": {
          "annotationdefaults": {
           "arrowcolor": "#2a3f5f",
           "arrowhead": 0,
           "arrowwidth": 1
          },
          "autotypenumbers": "strict",
          "coloraxis": {
           "colorbar": {
            "outlinewidth": 0,
            "ticks": ""
           }
          },
          "colorscale": {
           "diverging": [
            [
             0,
             "#8e0152"
            ],
            [
             0.1,
             "#c51b7d"
            ],
            [
             0.2,
             "#de77ae"
            ],
            [
             0.3,
             "#f1b6da"
            ],
            [
             0.4,
             "#fde0ef"
            ],
            [
             0.5,
             "#f7f7f7"
            ],
            [
             0.6,
             "#e6f5d0"
            ],
            [
             0.7,
             "#b8e186"
            ],
            [
             0.8,
             "#7fbc41"
            ],
            [
             0.9,
             "#4d9221"
            ],
            [
             1,
             "#276419"
            ]
           ],
           "sequential": [
            [
             0,
             "#0d0887"
            ],
            [
             0.1111111111111111,
             "#46039f"
            ],
            [
             0.2222222222222222,
             "#7201a8"
            ],
            [
             0.3333333333333333,
             "#9c179e"
            ],
            [
             0.4444444444444444,
             "#bd3786"
            ],
            [
             0.5555555555555556,
             "#d8576b"
            ],
            [
             0.6666666666666666,
             "#ed7953"
            ],
            [
             0.7777777777777778,
             "#fb9f3a"
            ],
            [
             0.8888888888888888,
             "#fdca26"
            ],
            [
             1,
             "#f0f921"
            ]
           ],
           "sequentialminus": [
            [
             0,
             "#0d0887"
            ],
            [
             0.1111111111111111,
             "#46039f"
            ],
            [
             0.2222222222222222,
             "#7201a8"
            ],
            [
             0.3333333333333333,
             "#9c179e"
            ],
            [
             0.4444444444444444,
             "#bd3786"
            ],
            [
             0.5555555555555556,
             "#d8576b"
            ],
            [
             0.6666666666666666,
             "#ed7953"
            ],
            [
             0.7777777777777778,
             "#fb9f3a"
            ],
            [
             0.8888888888888888,
             "#fdca26"
            ],
            [
             1,
             "#f0f921"
            ]
           ]
          },
          "colorway": [
           "#636efa",
           "#EF553B",
           "#00cc96",
           "#ab63fa",
           "#FFA15A",
           "#19d3f3",
           "#FF6692",
           "#B6E880",
           "#FF97FF",
           "#FECB52"
          ],
          "font": {
           "color": "#2a3f5f"
          },
          "geo": {
           "bgcolor": "white",
           "lakecolor": "white",
           "landcolor": "#E5ECF6",
           "showlakes": true,
           "showland": true,
           "subunitcolor": "white"
          },
          "hoverlabel": {
           "align": "left"
          },
          "hovermode": "closest",
          "mapbox": {
           "style": "light"
          },
          "paper_bgcolor": "white",
          "plot_bgcolor": "#E5ECF6",
          "polar": {
           "angularaxis": {
            "gridcolor": "white",
            "linecolor": "white",
            "ticks": ""
           },
           "bgcolor": "#E5ECF6",
           "radialaxis": {
            "gridcolor": "white",
            "linecolor": "white",
            "ticks": ""
           }
          },
          "scene": {
           "xaxis": {
            "backgroundcolor": "#E5ECF6",
            "gridcolor": "white",
            "gridwidth": 2,
            "linecolor": "white",
            "showbackground": true,
            "ticks": "",
            "zerolinecolor": "white"
           },
           "yaxis": {
            "backgroundcolor": "#E5ECF6",
            "gridcolor": "white",
            "gridwidth": 2,
            "linecolor": "white",
            "showbackground": true,
            "ticks": "",
            "zerolinecolor": "white"
           },
           "zaxis": {
            "backgroundcolor": "#E5ECF6",
            "gridcolor": "white",
            "gridwidth": 2,
            "linecolor": "white",
            "showbackground": true,
            "ticks": "",
            "zerolinecolor": "white"
           }
          },
          "shapedefaults": {
           "line": {
            "color": "#2a3f5f"
           }
          },
          "ternary": {
           "aaxis": {
            "gridcolor": "white",
            "linecolor": "white",
            "ticks": ""
           },
           "baxis": {
            "gridcolor": "white",
            "linecolor": "white",
            "ticks": ""
           },
           "bgcolor": "#E5ECF6",
           "caxis": {
            "gridcolor": "white",
            "linecolor": "white",
            "ticks": ""
           }
          },
          "title": {
           "x": 0.05
          },
          "xaxis": {
           "automargin": true,
           "gridcolor": "white",
           "linecolor": "white",
           "ticks": "",
           "title": {
            "standoff": 15
           },
           "zerolinecolor": "white",
           "zerolinewidth": 2
          },
          "yaxis": {
           "automargin": true,
           "gridcolor": "white",
           "linecolor": "white",
           "ticks": "",
           "title": {
            "standoff": 15
           },
           "zerolinecolor": "white",
           "zerolinewidth": 2
          }
         }
        },
        "width": 800,
        "xaxis": {
         "linecolor": "black",
         "linewidth": 2,
         "showline": true,
         "ticklen": 5,
         "ticks": "inside",
         "tickwidth": 2,
         "title": {
          "text": "Superconductor Class"
         }
        },
        "yaxis": {
         "linecolor": "black",
         "linewidth": 2,
         "showline": true,
         "ticklen": 5,
         "ticks": "inside",
         "tickwidth": 2,
         "title": {
          "text": "Count"
         }
        }
       }
      }
     },
     "metadata": {},
     "output_type": "display_data"
    }
   ],
   "source": [
    "sc_class_counts = sc_class_counts.reindex(['Not Superconductor', 'Other', 'Cuprate', 'Ferrite', 'Heavy Fermion', 'Oxide', 'Chevrel', 'Carbon', 'Heavy Fermion Chevrel', 'Oxide Heavy Fermion'])\n",
    "precentages = (df_MP[\"sc_class_name\"].value_counts()/total_dataset_length)*100\n",
    "\n",
    "# Create a bar plot\n",
    "data = [go.Bar(x=sc_class_counts.index,\n",
    "               y=sc_class_counts.values,\n",
    "               text= [f'{x:.2f}%' for x in precentages],\n",
    "               textposition='auto',\n",
    "               marker = dict(color=['rgb(237, 121, 83)', 'rgb(33, 145, 140)', 'rgb(33, 145, 140)', 'rgb(33, 145, 140)', 'rgb(33, 145, 140)', 'rgb(33, 145, 140)', 'rgb(33, 145, 140)', 'rgb(33, 145, 140)', 'rgb(33, 145, 140)', 'rgb(33, 145, 140)']))]\n",
    "\n",
    "# Create the layout\n",
    "layout = go.Layout(xaxis=dict(title=\"Superconductor Class\", showline=True, linewidth=2, linecolor='black',\n",
    "                              ticks='inside', tickwidth=2, ticklen=5),\n",
    "                   yaxis=dict(title=\"Count\", showline=True, linewidth=2, linecolor='black',\n",
    "                              ticks='inside', tickwidth=2, ticklen=5), \n",
    "                   width=800,\n",
    "                   height=500,\n",
    "                   plot_bgcolor='white',\n",
    "                   paper_bgcolor='white', \n",
    "                   font=dict(family='Helvetica', size=16, color='black'),\n",
    "                   margin=dict(l=10, r=10, b=10, t=10))\n",
    "\n",
    "# Create the figure\n",
    "fig = go.Figure(data=data, layout=layout)\n",
    "\n",
    "# Show the figure\n",
    "fig.show()"
   ]
  },
  {
   "cell_type": "code",
   "execution_count": 12,
   "metadata": {},
   "outputs": [],
   "source": [
    "# Plot the variety of chemicals in other category\n",
    "df_MP_other = df_MP[df_MP['sc_class'] == 'Other']"
   ]
  },
  {
   "cell_type": "markdown",
   "metadata": {},
   "source": [
    "We have a few superconducting families here, but a lot of them are within the other section"
   ]
  },
  {
   "cell_type": "markdown",
   "metadata": {},
   "source": [
    "## Formula Analysis"
   ]
  },
  {
   "cell_type": "code",
   "execution_count": 13,
   "metadata": {},
   "outputs": [
    {
     "data": {
      "text/html": [
       "<div>\n",
       "<style scoped>\n",
       "    .dataframe tbody tr th:only-of-type {\n",
       "        vertical-align: middle;\n",
       "    }\n",
       "\n",
       "    .dataframe tbody tr th {\n",
       "        vertical-align: top;\n",
       "    }\n",
       "\n",
       "    .dataframe thead th {\n",
       "        text-align: right;\n",
       "    }\n",
       "</style>\n",
       "<table border=\"1\" class=\"dataframe\">\n",
       "  <thead>\n",
       "    <tr style=\"text-align: right;\">\n",
       "      <th></th>\n",
       "      <th>formula_sc</th>\n",
       "      <th>formula_similarity</th>\n",
       "      <th>totreldiff</th>\n",
       "      <th>formula_frac</th>\n",
       "      <th>correct_formula_frac</th>\n",
       "      <th>formula</th>\n",
       "      <th>orig_formula_cif</th>\n",
       "      <th>tc</th>\n",
       "    </tr>\n",
       "  </thead>\n",
       "  <tbody>\n",
       "    <tr>\n",
       "      <th>0</th>\n",
       "      <td>Ag0.02Ge2Pd1.98Sr1</td>\n",
       "      <td>2</td>\n",
       "      <td>0.008000</td>\n",
       "      <td>1.0</td>\n",
       "      <td>True</td>\n",
       "      <td>Ag0.02Ge2Pd1.98Sr1</td>\n",
       "      <td>Ge2Pd2Sr1</td>\n",
       "      <td>2.640000</td>\n",
       "    </tr>\n",
       "    <tr>\n",
       "      <th>1</th>\n",
       "      <td>Ag0.15Sn0.85Te1</td>\n",
       "      <td>3</td>\n",
       "      <td>0.150000</td>\n",
       "      <td>1.0</td>\n",
       "      <td>True</td>\n",
       "      <td>Ag0.15Sn0.85Te1</td>\n",
       "      <td>Sn1Te1</td>\n",
       "      <td>2.150000</td>\n",
       "    </tr>\n",
       "    <tr>\n",
       "      <th>2</th>\n",
       "      <td>Ag0.1Ge2Pd1.9Sr1</td>\n",
       "      <td>2</td>\n",
       "      <td>0.040000</td>\n",
       "      <td>1.0</td>\n",
       "      <td>True</td>\n",
       "      <td>Ag0.1Ge2Pd1.9Sr1</td>\n",
       "      <td>Ge2Pd2Sr1</td>\n",
       "      <td>2.620000</td>\n",
       "    </tr>\n",
       "    <tr>\n",
       "      <th>3</th>\n",
       "      <td>Ag0.1In0.9Te1</td>\n",
       "      <td>3</td>\n",
       "      <td>0.100000</td>\n",
       "      <td>1.0</td>\n",
       "      <td>True</td>\n",
       "      <td>Ag0.1In0.9Te1</td>\n",
       "      <td>In1Te1</td>\n",
       "      <td>1.200000</td>\n",
       "    </tr>\n",
       "    <tr>\n",
       "      <th>4</th>\n",
       "      <td>Ag0.2Ba1Si1.8</td>\n",
       "      <td>3</td>\n",
       "      <td>0.133333</td>\n",
       "      <td>4.0</td>\n",
       "      <td>False</td>\n",
       "      <td>Ag0.8Ba4Si7.2</td>\n",
       "      <td>Ba4Si8</td>\n",
       "      <td>3.200000</td>\n",
       "    </tr>\n",
       "    <tr>\n",
       "      <th>...</th>\n",
       "      <td>...</td>\n",
       "      <td>...</td>\n",
       "      <td>...</td>\n",
       "      <td>...</td>\n",
       "      <td>...</td>\n",
       "      <td>...</td>\n",
       "      <td>...</td>\n",
       "      <td>...</td>\n",
       "    </tr>\n",
       "    <tr>\n",
       "      <th>5768</th>\n",
       "      <td>Y1Zn1</td>\n",
       "      <td>1</td>\n",
       "      <td>0.000000</td>\n",
       "      <td>1.0</td>\n",
       "      <td>True</td>\n",
       "      <td>Y1Zn1</td>\n",
       "      <td>Y1Zn1</td>\n",
       "      <td>0.000000</td>\n",
       "    </tr>\n",
       "    <tr>\n",
       "      <th>5769</th>\n",
       "      <td>Yb1</td>\n",
       "      <td>1</td>\n",
       "      <td>0.000000</td>\n",
       "      <td>3.0</td>\n",
       "      <td>False</td>\n",
       "      <td>Yb3</td>\n",
       "      <td>Yb3</td>\n",
       "      <td>0.000000</td>\n",
       "    </tr>\n",
       "    <tr>\n",
       "      <th>5770</th>\n",
       "      <td>Zn1</td>\n",
       "      <td>1</td>\n",
       "      <td>0.000000</td>\n",
       "      <td>2.0</td>\n",
       "      <td>False</td>\n",
       "      <td>Zn2</td>\n",
       "      <td>Zn2</td>\n",
       "      <td>0.850800</td>\n",
       "    </tr>\n",
       "    <tr>\n",
       "      <th>5771</th>\n",
       "      <td>Zn2Zr1</td>\n",
       "      <td>1</td>\n",
       "      <td>0.000000</td>\n",
       "      <td>2.0</td>\n",
       "      <td>False</td>\n",
       "      <td>Zn4Zr2</td>\n",
       "      <td>Zn4Zr2</td>\n",
       "      <td>0.296667</td>\n",
       "    </tr>\n",
       "    <tr>\n",
       "      <th>5772</th>\n",
       "      <td>Zr1</td>\n",
       "      <td>1</td>\n",
       "      <td>0.000000</td>\n",
       "      <td>2.0</td>\n",
       "      <td>False</td>\n",
       "      <td>Zr2</td>\n",
       "      <td>Zr2</td>\n",
       "      <td>0.996667</td>\n",
       "    </tr>\n",
       "  </tbody>\n",
       "</table>\n",
       "<p>5773 rows × 8 columns</p>\n",
       "</div>"
      ],
      "text/plain": [
       "              formula_sc  formula_similarity  totreldiff  formula_frac  \\\n",
       "0     Ag0.02Ge2Pd1.98Sr1                   2    0.008000           1.0   \n",
       "1        Ag0.15Sn0.85Te1                   3    0.150000           1.0   \n",
       "2       Ag0.1Ge2Pd1.9Sr1                   2    0.040000           1.0   \n",
       "3          Ag0.1In0.9Te1                   3    0.100000           1.0   \n",
       "4          Ag0.2Ba1Si1.8                   3    0.133333           4.0   \n",
       "...                  ...                 ...         ...           ...   \n",
       "5768               Y1Zn1                   1    0.000000           1.0   \n",
       "5769                 Yb1                   1    0.000000           3.0   \n",
       "5770                 Zn1                   1    0.000000           2.0   \n",
       "5771              Zn2Zr1                   1    0.000000           2.0   \n",
       "5772                 Zr1                   1    0.000000           2.0   \n",
       "\n",
       "      correct_formula_frac             formula orig_formula_cif        tc  \n",
       "0                     True  Ag0.02Ge2Pd1.98Sr1        Ge2Pd2Sr1  2.640000  \n",
       "1                     True     Ag0.15Sn0.85Te1           Sn1Te1  2.150000  \n",
       "2                     True    Ag0.1Ge2Pd1.9Sr1        Ge2Pd2Sr1  2.620000  \n",
       "3                     True       Ag0.1In0.9Te1           In1Te1  1.200000  \n",
       "4                    False       Ag0.8Ba4Si7.2           Ba4Si8  3.200000  \n",
       "...                    ...                 ...              ...       ...  \n",
       "5768                  True               Y1Zn1            Y1Zn1  0.000000  \n",
       "5769                 False                 Yb3              Yb3  0.000000  \n",
       "5770                 False                 Zn2              Zn2  0.850800  \n",
       "5771                 False              Zn4Zr2           Zn4Zr2  0.296667  \n",
       "5772                 False                 Zr2              Zr2  0.996667  \n",
       "\n",
       "[5773 rows x 8 columns]"
      ]
     },
     "execution_count": 13,
     "metadata": {},
     "output_type": "execute_result"
    }
   ],
   "source": [
    "df_MP[[\"formula_sc\", \"formula_similarity\", \"totreldiff\", \"formula_frac\", \"correct_formula_frac\", \"formula\", \"orig_formula_cif\", \"tc\"]]"
   ]
  },
  {
   "cell_type": "code",
   "execution_count": 14,
   "metadata": {},
   "outputs": [
    {
     "data": {
      "text/plain": [
       "count    5773.000000\n",
       "mean        0.032930\n",
       "std         0.041665\n",
       "min         0.000000\n",
       "25%         0.000000\n",
       "50%         0.013333\n",
       "75%         0.056000\n",
       "max         0.150000\n",
       "Name: totreldiff, dtype: float64"
      ]
     },
     "execution_count": 14,
     "metadata": {},
     "output_type": "execute_result"
    }
   ],
   "source": [
    "df_MP[\"totreldiff\"].describe()"
   ]
  },
  {
   "cell_type": "markdown",
   "metadata": {},
   "source": [
    "A pretty small total relevtive different in terms of crystal structures, so I will not be removing anything based on this"
   ]
  },
  {
   "cell_type": "markdown",
   "metadata": {},
   "source": [
    "## Structure Properties"
   ]
  },
  {
   "cell_type": "code",
   "execution_count": 15,
   "metadata": {},
   "outputs": [
    {
     "name": "stderr",
     "output_type": "stream",
     "text": [
      "c:\\Users\\Fay\\anaconda3\\envs\\enviroment\\lib\\site-packages\\ipykernel_launcher.py:1: SettingWithCopyWarning:\n",
      "\n",
      "\n",
      "A value is trying to be set on a copy of a slice from a DataFrame.\n",
      "Try using .loc[row_indexer,col_indexer] = value instead\n",
      "\n",
      "See the caveats in the documentation: https://pandas.pydata.org/pandas-docs/stable/user_guide/indexing.html#returning-a-view-versus-a-copy\n",
      "\n"
     ]
    }
   ],
   "source": [
    "df_MP_non_zero[\"cat_crystal_system\"] = df_MP_non_zero[\"crystal_system\"].astype('category').cat.codes"
   ]
  },
  {
   "cell_type": "code",
   "execution_count": 16,
   "metadata": {},
   "outputs": [
    {
     "data": {
      "text/html": [
       "<div>\n",
       "<style scoped>\n",
       "    .dataframe tbody tr th:only-of-type {\n",
       "        vertical-align: middle;\n",
       "    }\n",
       "\n",
       "    .dataframe tbody tr th {\n",
       "        vertical-align: top;\n",
       "    }\n",
       "\n",
       "    .dataframe thead th {\n",
       "        text-align: right;\n",
       "    }\n",
       "</style>\n",
       "<table border=\"1\" class=\"dataframe\">\n",
       "  <thead>\n",
       "    <tr style=\"text-align: right;\">\n",
       "      <th></th>\n",
       "      <th>spacegroup</th>\n",
       "      <th>crystal_system</th>\n",
       "      <th>cat_crystal_system</th>\n",
       "      <th>lata</th>\n",
       "      <th>latb</th>\n",
       "      <th>latc</th>\n",
       "      <th>unit_cell_formula</th>\n",
       "      <th>cell_volume</th>\n",
       "      <th>reduced_cell_formula</th>\n",
       "      <th>primitive</th>\n",
       "      <th>base-centered</th>\n",
       "      <th>body-centered</th>\n",
       "      <th>face-centered</th>\n",
       "      <th>point_group</th>\n",
       "    </tr>\n",
       "  </thead>\n",
       "  <tbody>\n",
       "    <tr>\n",
       "      <th>0</th>\n",
       "      <td>I 4/m m m</td>\n",
       "      <td>tetragonal</td>\n",
       "      <td>4</td>\n",
       "      <td>4.438672</td>\n",
       "      <td>4.438672</td>\n",
       "      <td>6.030548</td>\n",
       "      <td>{'Sr': 1.0, 'Ge': 2.0, 'Pd': 2.0}</td>\n",
       "      <td>101.453048</td>\n",
       "      <td>{'Sr': 1.0, 'Ge': 2.0, 'Pd': 2.0}</td>\n",
       "      <td>0</td>\n",
       "      <td>0</td>\n",
       "      <td>1</td>\n",
       "      <td>0</td>\n",
       "      <td>4/mmm</td>\n",
       "    </tr>\n",
       "    <tr>\n",
       "      <th>1</th>\n",
       "      <td>F m -3 m</td>\n",
       "      <td>cubic</td>\n",
       "      <td>0</td>\n",
       "      <td>4.537670</td>\n",
       "      <td>4.537670</td>\n",
       "      <td>4.537670</td>\n",
       "      <td>{'Sn': 1.0, 'Te': 1.0}</td>\n",
       "      <td>66.066855</td>\n",
       "      <td>{'Sn': 1.0, 'Te': 1.0}</td>\n",
       "      <td>0</td>\n",
       "      <td>0</td>\n",
       "      <td>0</td>\n",
       "      <td>1</td>\n",
       "      <td>m-3m</td>\n",
       "    </tr>\n",
       "    <tr>\n",
       "      <th>2</th>\n",
       "      <td>I 4/m m m</td>\n",
       "      <td>tetragonal</td>\n",
       "      <td>4</td>\n",
       "      <td>4.438672</td>\n",
       "      <td>4.438672</td>\n",
       "      <td>6.030548</td>\n",
       "      <td>{'Sr': 1.0, 'Ge': 2.0, 'Pd': 2.0}</td>\n",
       "      <td>101.453048</td>\n",
       "      <td>{'Sr': 1.0, 'Ge': 2.0, 'Pd': 2.0}</td>\n",
       "      <td>0</td>\n",
       "      <td>0</td>\n",
       "      <td>1</td>\n",
       "      <td>0</td>\n",
       "      <td>4/mmm</td>\n",
       "    </tr>\n",
       "    <tr>\n",
       "      <th>3</th>\n",
       "      <td>F m -3 m</td>\n",
       "      <td>cubic</td>\n",
       "      <td>0</td>\n",
       "      <td>4.443633</td>\n",
       "      <td>4.443633</td>\n",
       "      <td>4.443633</td>\n",
       "      <td>{'In': 1.0, 'Te': 1.0}</td>\n",
       "      <td>62.043965</td>\n",
       "      <td>{'In': 1.0, 'Te': 1.0}</td>\n",
       "      <td>0</td>\n",
       "      <td>0</td>\n",
       "      <td>0</td>\n",
       "      <td>1</td>\n",
       "      <td>m-3m</td>\n",
       "    </tr>\n",
       "    <tr>\n",
       "      <th>4</th>\n",
       "      <td>P 43 3 2</td>\n",
       "      <td>cubic</td>\n",
       "      <td>0</td>\n",
       "      <td>6.771439</td>\n",
       "      <td>6.771439</td>\n",
       "      <td>6.771439</td>\n",
       "      <td>{'Ba': 4.0, 'Si': 8.0}</td>\n",
       "      <td>310.486636</td>\n",
       "      <td>{'Ba': 1.0, 'Si': 2.0}</td>\n",
       "      <td>1</td>\n",
       "      <td>0</td>\n",
       "      <td>0</td>\n",
       "      <td>0</td>\n",
       "      <td>432</td>\n",
       "    </tr>\n",
       "    <tr>\n",
       "      <th>...</th>\n",
       "      <td>...</td>\n",
       "      <td>...</td>\n",
       "      <td>...</td>\n",
       "      <td>...</td>\n",
       "      <td>...</td>\n",
       "      <td>...</td>\n",
       "      <td>...</td>\n",
       "      <td>...</td>\n",
       "      <td>...</td>\n",
       "      <td>...</td>\n",
       "      <td>...</td>\n",
       "      <td>...</td>\n",
       "      <td>...</td>\n",
       "      <td>...</td>\n",
       "    </tr>\n",
       "    <tr>\n",
       "      <th>5766</th>\n",
       "      <td>F d -3 m</td>\n",
       "      <td>cubic</td>\n",
       "      <td>0</td>\n",
       "      <td>5.422174</td>\n",
       "      <td>5.422174</td>\n",
       "      <td>5.422174</td>\n",
       "      <td>{'Zr': 2.0, 'W': 4.0}</td>\n",
       "      <td>112.721135</td>\n",
       "      <td>{'Zr': 1.0, 'W': 2.0}</td>\n",
       "      <td>0</td>\n",
       "      <td>0</td>\n",
       "      <td>0</td>\n",
       "      <td>1</td>\n",
       "      <td>m-3m</td>\n",
       "    </tr>\n",
       "    <tr>\n",
       "      <th>5767</th>\n",
       "      <td>P m -3 n</td>\n",
       "      <td>cubic</td>\n",
       "      <td>0</td>\n",
       "      <td>4.980141</td>\n",
       "      <td>4.980141</td>\n",
       "      <td>4.980141</td>\n",
       "      <td>{'W': 6.0, 'O': 2.0}</td>\n",
       "      <td>123.516483</td>\n",
       "      <td>{'W': 3.0, 'O': 1.0}</td>\n",
       "      <td>1</td>\n",
       "      <td>0</td>\n",
       "      <td>0</td>\n",
       "      <td>0</td>\n",
       "      <td>m-3m</td>\n",
       "    </tr>\n",
       "    <tr>\n",
       "      <th>5770</th>\n",
       "      <td>P 63/m m c</td>\n",
       "      <td>hexagonal</td>\n",
       "      <td>1</td>\n",
       "      <td>2.626730</td>\n",
       "      <td>2.626731</td>\n",
       "      <td>5.207234</td>\n",
       "      <td>{'Zn': 2.0}</td>\n",
       "      <td>31.114928</td>\n",
       "      <td>{'Zn': 1.0}</td>\n",
       "      <td>1</td>\n",
       "      <td>0</td>\n",
       "      <td>0</td>\n",
       "      <td>0</td>\n",
       "      <td>6/mmm</td>\n",
       "    </tr>\n",
       "    <tr>\n",
       "      <th>5771</th>\n",
       "      <td>F d -3 m</td>\n",
       "      <td>cubic</td>\n",
       "      <td>0</td>\n",
       "      <td>5.244424</td>\n",
       "      <td>5.244424</td>\n",
       "      <td>5.244424</td>\n",
       "      <td>{'Zr': 2.0, 'Zn': 4.0}</td>\n",
       "      <td>101.994903</td>\n",
       "      <td>{'Zr': 1.0, 'Zn': 2.0}</td>\n",
       "      <td>0</td>\n",
       "      <td>0</td>\n",
       "      <td>0</td>\n",
       "      <td>1</td>\n",
       "      <td>m-3m</td>\n",
       "    </tr>\n",
       "    <tr>\n",
       "      <th>5772</th>\n",
       "      <td>P 63/m m c</td>\n",
       "      <td>hexagonal</td>\n",
       "      <td>1</td>\n",
       "      <td>3.239232</td>\n",
       "      <td>3.239232</td>\n",
       "      <td>5.172220</td>\n",
       "      <td>{'Zr': 2.0}</td>\n",
       "      <td>46.999333</td>\n",
       "      <td>{'Zr': 1.0}</td>\n",
       "      <td>1</td>\n",
       "      <td>0</td>\n",
       "      <td>0</td>\n",
       "      <td>0</td>\n",
       "      <td>6/mmm</td>\n",
       "    </tr>\n",
       "  </tbody>\n",
       "</table>\n",
       "<p>3995 rows × 14 columns</p>\n",
       "</div>"
      ],
      "text/plain": [
       "      spacegroup crystal_system  cat_crystal_system      lata      latb  \\\n",
       "0      I 4/m m m     tetragonal                   4  4.438672  4.438672   \n",
       "1       F m -3 m          cubic                   0  4.537670  4.537670   \n",
       "2      I 4/m m m     tetragonal                   4  4.438672  4.438672   \n",
       "3       F m -3 m          cubic                   0  4.443633  4.443633   \n",
       "4       P 43 3 2          cubic                   0  6.771439  6.771439   \n",
       "...          ...            ...                 ...       ...       ...   \n",
       "5766    F d -3 m          cubic                   0  5.422174  5.422174   \n",
       "5767    P m -3 n          cubic                   0  4.980141  4.980141   \n",
       "5770  P 63/m m c      hexagonal                   1  2.626730  2.626731   \n",
       "5771    F d -3 m          cubic                   0  5.244424  5.244424   \n",
       "5772  P 63/m m c      hexagonal                   1  3.239232  3.239232   \n",
       "\n",
       "          latc                  unit_cell_formula  cell_volume  \\\n",
       "0     6.030548  {'Sr': 1.0, 'Ge': 2.0, 'Pd': 2.0}   101.453048   \n",
       "1     4.537670             {'Sn': 1.0, 'Te': 1.0}    66.066855   \n",
       "2     6.030548  {'Sr': 1.0, 'Ge': 2.0, 'Pd': 2.0}   101.453048   \n",
       "3     4.443633             {'In': 1.0, 'Te': 1.0}    62.043965   \n",
       "4     6.771439             {'Ba': 4.0, 'Si': 8.0}   310.486636   \n",
       "...        ...                                ...          ...   \n",
       "5766  5.422174              {'Zr': 2.0, 'W': 4.0}   112.721135   \n",
       "5767  4.980141               {'W': 6.0, 'O': 2.0}   123.516483   \n",
       "5770  5.207234                        {'Zn': 2.0}    31.114928   \n",
       "5771  5.244424             {'Zr': 2.0, 'Zn': 4.0}   101.994903   \n",
       "5772  5.172220                        {'Zr': 2.0}    46.999333   \n",
       "\n",
       "                   reduced_cell_formula  primitive  base-centered  \\\n",
       "0     {'Sr': 1.0, 'Ge': 2.0, 'Pd': 2.0}          0              0   \n",
       "1                {'Sn': 1.0, 'Te': 1.0}          0              0   \n",
       "2     {'Sr': 1.0, 'Ge': 2.0, 'Pd': 2.0}          0              0   \n",
       "3                {'In': 1.0, 'Te': 1.0}          0              0   \n",
       "4                {'Ba': 1.0, 'Si': 2.0}          1              0   \n",
       "...                                 ...        ...            ...   \n",
       "5766              {'Zr': 1.0, 'W': 2.0}          0              0   \n",
       "5767               {'W': 3.0, 'O': 1.0}          1              0   \n",
       "5770                        {'Zn': 1.0}          1              0   \n",
       "5771             {'Zr': 1.0, 'Zn': 2.0}          0              0   \n",
       "5772                        {'Zr': 1.0}          1              0   \n",
       "\n",
       "      body-centered  face-centered point_group  \n",
       "0                 1              0       4/mmm  \n",
       "1                 0              1        m-3m  \n",
       "2                 1              0       4/mmm  \n",
       "3                 0              1        m-3m  \n",
       "4                 0              0         432  \n",
       "...             ...            ...         ...  \n",
       "5766              0              1        m-3m  \n",
       "5767              0              0        m-3m  \n",
       "5770              0              0       6/mmm  \n",
       "5771              0              1        m-3m  \n",
       "5772              0              0       6/mmm  \n",
       "\n",
       "[3995 rows x 14 columns]"
      ]
     },
     "execution_count": 16,
     "metadata": {},
     "output_type": "execute_result"
    }
   ],
   "source": [
    "crystal_properties = [\"spacegroup\",\n",
    "                      \"crystal_system\",\n",
    "                      \"cat_crystal_system\",\n",
    "                      \"lata\",\n",
    "                      \"latb\",\n",
    "                      \"latc\",\n",
    "                      \"unit_cell_formula\",\n",
    "                      \"cell_volume\",\n",
    "                      \"reduced_cell_formula\",\n",
    "                      \"primitive\",\n",
    "                      \"base-centered\",\n",
    "                      \"body-centered\",\n",
    "                      \"face-centered\",\n",
    "                      \"point_group\"\n",
    "                      ]\n",
    "\n",
    "df_MP_non_zero[crystal_properties]"
   ]
  },
  {
   "cell_type": "code",
   "execution_count": 17,
   "metadata": {},
   "outputs": [
    {
     "data": {
      "application/vnd.plotly.v1+json": {
       "config": {
        "plotlyServerURL": "https://plot.ly"
       },
       "data": [
        {
         "colorbar": {
          "ticktext": [
           -1,
           -0.5,
           0,
           0.5,
           1
          ],
          "tickvals": [
           -1,
           -0.5,
           0,
           0.5,
           1
          ],
          "title": {
           "side": "right",
           "text": "Pearson Coefficient"
          }
         },
         "colorscale": [
          [
           0,
           "#440154"
          ],
          [
           0.1111111111111111,
           "#482878"
          ],
          [
           0.2222222222222222,
           "#3e4989"
          ],
          [
           0.3333333333333333,
           "#31688e"
          ],
          [
           0.4444444444444444,
           "#26828e"
          ],
          [
           0.5555555555555556,
           "#1f9e89"
          ],
          [
           0.6666666666666666,
           "#35b779"
          ],
          [
           0.7777777777777778,
           "#6ece58"
          ],
          [
           0.8888888888888888,
           "#b5de2b"
          ],
          [
           1,
           "#fde725"
          ]
         ],
         "text": [
          [
           1,
           -0.22,
           -0.14,
           0.33,
           0.02,
           -0.09,
           0.08,
           0.34,
           -0.39,
           0.19
          ],
          [
           -0.22,
           1,
           0.78,
           0.18,
           0.72,
           -0.12,
           -0.02,
           0.04,
           0.16,
           -0.14
          ],
          [
           -0.14,
           0.78,
           1,
           0.26,
           0.75,
           -0.01,
           0.01,
           -0.03,
           0.05,
           -0.19
          ],
          [
           0.33,
           0.18,
           0.26,
           1,
           0.56,
           -0.02,
           0.29,
           -0.07,
           -0.17,
           0.44
          ],
          [
           0.02,
           0.72,
           0.75,
           0.56,
           1,
           0.02,
           0.1,
           -0.04,
           -0.08,
           0.06
          ],
          [
           -0.09,
           -0.12,
           -0.01,
           -0.02,
           0.02,
           1,
           -0.4,
           -0.61,
           -0.39,
           -0.02
          ],
          [
           0.08,
           -0.02,
           0.01,
           0.29,
           0.1,
           -0.4,
           1,
           -0.18,
           -0.12,
           0.29
          ],
          [
           0.34,
           0.04,
           -0.03,
           -0.07,
           -0.04,
           -0.61,
           -0.18,
           1,
           -0.18,
           -0.07
          ],
          [
           -0.39,
           0.16,
           0.05,
           -0.17,
           -0.08,
           -0.39,
           -0.12,
           -0.18,
           1,
           -0.17
          ],
          [
           0.19,
           -0.14,
           -0.19,
           0.44,
           0.06,
           -0.02,
           0.29,
           -0.07,
           -0.17,
           1
          ]
         ],
         "textfont": {
          "size": 14
         },
         "texttemplate": "%{text}",
         "type": "heatmap",
         "x": [
          "cat_crystal_system",
          "lata",
          "latb",
          "latc",
          "cell_volume",
          "primitive",
          "base-centered",
          "body-centered",
          "face-centered",
          "tc"
         ],
         "y": [
          "cat_crystal_system",
          "lata",
          "latb",
          "latc",
          "cell_volume",
          "primitive",
          "base-centered",
          "body-centered",
          "face-centered",
          "tc"
         ],
         "z": [
          [
           1,
           -0.22,
           -0.14,
           0.33,
           0.02,
           -0.09,
           0.08,
           0.34,
           -0.39,
           0.19
          ],
          [
           -0.22,
           1,
           0.78,
           0.18,
           0.72,
           -0.12,
           -0.02,
           0.04,
           0.16,
           -0.14
          ],
          [
           -0.14,
           0.78,
           1,
           0.26,
           0.75,
           -0.01,
           0.01,
           -0.03,
           0.05,
           -0.19
          ],
          [
           0.33,
           0.18,
           0.26,
           1,
           0.56,
           -0.02,
           0.29,
           -0.07,
           -0.17,
           0.44
          ],
          [
           0.02,
           0.72,
           0.75,
           0.56,
           1,
           0.02,
           0.1,
           -0.04,
           -0.08,
           0.06
          ],
          [
           -0.09,
           -0.12,
           -0.01,
           -0.02,
           0.02,
           1,
           -0.4,
           -0.61,
           -0.39,
           -0.02
          ],
          [
           0.08,
           -0.02,
           0.01,
           0.29,
           0.1,
           -0.4,
           1,
           -0.18,
           -0.12,
           0.29
          ],
          [
           0.34,
           0.04,
           -0.03,
           -0.07,
           -0.04,
           -0.61,
           -0.18,
           1,
           -0.18,
           -0.07
          ],
          [
           -0.39,
           0.16,
           0.05,
           -0.17,
           -0.08,
           -0.39,
           -0.12,
           -0.18,
           1,
           -0.17
          ],
          [
           0.19,
           -0.14,
           -0.19,
           0.44,
           0.06,
           -0.02,
           0.29,
           -0.07,
           -0.17,
           1
          ]
         ]
        }
       ],
       "layout": {
        "font": {
         "color": "black",
         "family": "Helvetica",
         "size": 16
        },
        "height": 600,
        "margin": {
         "b": 5,
         "l": 5,
         "r": 5,
         "t": 10
        },
        "paper_bgcolor": "white",
        "plot_bgcolor": "white",
        "template": {
         "data": {
          "bar": [
           {
            "error_x": {
             "color": "#2a3f5f"
            },
            "error_y": {
             "color": "#2a3f5f"
            },
            "marker": {
             "line": {
              "color": "#E5ECF6",
              "width": 0.5
             },
             "pattern": {
              "fillmode": "overlay",
              "size": 10,
              "solidity": 0.2
             }
            },
            "type": "bar"
           }
          ],
          "barpolar": [
           {
            "marker": {
             "line": {
              "color": "#E5ECF6",
              "width": 0.5
             },
             "pattern": {
              "fillmode": "overlay",
              "size": 10,
              "solidity": 0.2
             }
            },
            "type": "barpolar"
           }
          ],
          "carpet": [
           {
            "aaxis": {
             "endlinecolor": "#2a3f5f",
             "gridcolor": "white",
             "linecolor": "white",
             "minorgridcolor": "white",
             "startlinecolor": "#2a3f5f"
            },
            "baxis": {
             "endlinecolor": "#2a3f5f",
             "gridcolor": "white",
             "linecolor": "white",
             "minorgridcolor": "white",
             "startlinecolor": "#2a3f5f"
            },
            "type": "carpet"
           }
          ],
          "choropleth": [
           {
            "colorbar": {
             "outlinewidth": 0,
             "ticks": ""
            },
            "type": "choropleth"
           }
          ],
          "contour": [
           {
            "colorbar": {
             "outlinewidth": 0,
             "ticks": ""
            },
            "colorscale": [
             [
              0,
              "#0d0887"
             ],
             [
              0.1111111111111111,
              "#46039f"
             ],
             [
              0.2222222222222222,
              "#7201a8"
             ],
             [
              0.3333333333333333,
              "#9c179e"
             ],
             [
              0.4444444444444444,
              "#bd3786"
             ],
             [
              0.5555555555555556,
              "#d8576b"
             ],
             [
              0.6666666666666666,
              "#ed7953"
             ],
             [
              0.7777777777777778,
              "#fb9f3a"
             ],
             [
              0.8888888888888888,
              "#fdca26"
             ],
             [
              1,
              "#f0f921"
             ]
            ],
            "type": "contour"
           }
          ],
          "contourcarpet": [
           {
            "colorbar": {
             "outlinewidth": 0,
             "ticks": ""
            },
            "type": "contourcarpet"
           }
          ],
          "heatmap": [
           {
            "colorbar": {
             "outlinewidth": 0,
             "ticks": ""
            },
            "colorscale": [
             [
              0,
              "#0d0887"
             ],
             [
              0.1111111111111111,
              "#46039f"
             ],
             [
              0.2222222222222222,
              "#7201a8"
             ],
             [
              0.3333333333333333,
              "#9c179e"
             ],
             [
              0.4444444444444444,
              "#bd3786"
             ],
             [
              0.5555555555555556,
              "#d8576b"
             ],
             [
              0.6666666666666666,
              "#ed7953"
             ],
             [
              0.7777777777777778,
              "#fb9f3a"
             ],
             [
              0.8888888888888888,
              "#fdca26"
             ],
             [
              1,
              "#f0f921"
             ]
            ],
            "type": "heatmap"
           }
          ],
          "heatmapgl": [
           {
            "colorbar": {
             "outlinewidth": 0,
             "ticks": ""
            },
            "colorscale": [
             [
              0,
              "#0d0887"
             ],
             [
              0.1111111111111111,
              "#46039f"
             ],
             [
              0.2222222222222222,
              "#7201a8"
             ],
             [
              0.3333333333333333,
              "#9c179e"
             ],
             [
              0.4444444444444444,
              "#bd3786"
             ],
             [
              0.5555555555555556,
              "#d8576b"
             ],
             [
              0.6666666666666666,
              "#ed7953"
             ],
             [
              0.7777777777777778,
              "#fb9f3a"
             ],
             [
              0.8888888888888888,
              "#fdca26"
             ],
             [
              1,
              "#f0f921"
             ]
            ],
            "type": "heatmapgl"
           }
          ],
          "histogram": [
           {
            "marker": {
             "pattern": {
              "fillmode": "overlay",
              "size": 10,
              "solidity": 0.2
             }
            },
            "type": "histogram"
           }
          ],
          "histogram2d": [
           {
            "colorbar": {
             "outlinewidth": 0,
             "ticks": ""
            },
            "colorscale": [
             [
              0,
              "#0d0887"
             ],
             [
              0.1111111111111111,
              "#46039f"
             ],
             [
              0.2222222222222222,
              "#7201a8"
             ],
             [
              0.3333333333333333,
              "#9c179e"
             ],
             [
              0.4444444444444444,
              "#bd3786"
             ],
             [
              0.5555555555555556,
              "#d8576b"
             ],
             [
              0.6666666666666666,
              "#ed7953"
             ],
             [
              0.7777777777777778,
              "#fb9f3a"
             ],
             [
              0.8888888888888888,
              "#fdca26"
             ],
             [
              1,
              "#f0f921"
             ]
            ],
            "type": "histogram2d"
           }
          ],
          "histogram2dcontour": [
           {
            "colorbar": {
             "outlinewidth": 0,
             "ticks": ""
            },
            "colorscale": [
             [
              0,
              "#0d0887"
             ],
             [
              0.1111111111111111,
              "#46039f"
             ],
             [
              0.2222222222222222,
              "#7201a8"
             ],
             [
              0.3333333333333333,
              "#9c179e"
             ],
             [
              0.4444444444444444,
              "#bd3786"
             ],
             [
              0.5555555555555556,
              "#d8576b"
             ],
             [
              0.6666666666666666,
              "#ed7953"
             ],
             [
              0.7777777777777778,
              "#fb9f3a"
             ],
             [
              0.8888888888888888,
              "#fdca26"
             ],
             [
              1,
              "#f0f921"
             ]
            ],
            "type": "histogram2dcontour"
           }
          ],
          "mesh3d": [
           {
            "colorbar": {
             "outlinewidth": 0,
             "ticks": ""
            },
            "type": "mesh3d"
           }
          ],
          "parcoords": [
           {
            "line": {
             "colorbar": {
              "outlinewidth": 0,
              "ticks": ""
             }
            },
            "type": "parcoords"
           }
          ],
          "pie": [
           {
            "automargin": true,
            "type": "pie"
           }
          ],
          "scatter": [
           {
            "fillpattern": {
             "fillmode": "overlay",
             "size": 10,
             "solidity": 0.2
            },
            "type": "scatter"
           }
          ],
          "scatter3d": [
           {
            "line": {
             "colorbar": {
              "outlinewidth": 0,
              "ticks": ""
             }
            },
            "marker": {
             "colorbar": {
              "outlinewidth": 0,
              "ticks": ""
             }
            },
            "type": "scatter3d"
           }
          ],
          "scattercarpet": [
           {
            "marker": {
             "colorbar": {
              "outlinewidth": 0,
              "ticks": ""
             }
            },
            "type": "scattercarpet"
           }
          ],
          "scattergeo": [
           {
            "marker": {
             "colorbar": {
              "outlinewidth": 0,
              "ticks": ""
             }
            },
            "type": "scattergeo"
           }
          ],
          "scattergl": [
           {
            "marker": {
             "colorbar": {
              "outlinewidth": 0,
              "ticks": ""
             }
            },
            "type": "scattergl"
           }
          ],
          "scattermapbox": [
           {
            "marker": {
             "colorbar": {
              "outlinewidth": 0,
              "ticks": ""
             }
            },
            "type": "scattermapbox"
           }
          ],
          "scatterpolar": [
           {
            "marker": {
             "colorbar": {
              "outlinewidth": 0,
              "ticks": ""
             }
            },
            "type": "scatterpolar"
           }
          ],
          "scatterpolargl": [
           {
            "marker": {
             "colorbar": {
              "outlinewidth": 0,
              "ticks": ""
             }
            },
            "type": "scatterpolargl"
           }
          ],
          "scatterternary": [
           {
            "marker": {
             "colorbar": {
              "outlinewidth": 0,
              "ticks": ""
             }
            },
            "type": "scatterternary"
           }
          ],
          "surface": [
           {
            "colorbar": {
             "outlinewidth": 0,
             "ticks": ""
            },
            "colorscale": [
             [
              0,
              "#0d0887"
             ],
             [
              0.1111111111111111,
              "#46039f"
             ],
             [
              0.2222222222222222,
              "#7201a8"
             ],
             [
              0.3333333333333333,
              "#9c179e"
             ],
             [
              0.4444444444444444,
              "#bd3786"
             ],
             [
              0.5555555555555556,
              "#d8576b"
             ],
             [
              0.6666666666666666,
              "#ed7953"
             ],
             [
              0.7777777777777778,
              "#fb9f3a"
             ],
             [
              0.8888888888888888,
              "#fdca26"
             ],
             [
              1,
              "#f0f921"
             ]
            ],
            "type": "surface"
           }
          ],
          "table": [
           {
            "cells": {
             "fill": {
              "color": "#EBF0F8"
             },
             "line": {
              "color": "white"
             }
            },
            "header": {
             "fill": {
              "color": "#C8D4E3"
             },
             "line": {
              "color": "white"
             }
            },
            "type": "table"
           }
          ]
         },
         "layout": {
          "annotationdefaults": {
           "arrowcolor": "#2a3f5f",
           "arrowhead": 0,
           "arrowwidth": 1
          },
          "autotypenumbers": "strict",
          "coloraxis": {
           "colorbar": {
            "outlinewidth": 0,
            "ticks": ""
           }
          },
          "colorscale": {
           "diverging": [
            [
             0,
             "#8e0152"
            ],
            [
             0.1,
             "#c51b7d"
            ],
            [
             0.2,
             "#de77ae"
            ],
            [
             0.3,
             "#f1b6da"
            ],
            [
             0.4,
             "#fde0ef"
            ],
            [
             0.5,
             "#f7f7f7"
            ],
            [
             0.6,
             "#e6f5d0"
            ],
            [
             0.7,
             "#b8e186"
            ],
            [
             0.8,
             "#7fbc41"
            ],
            [
             0.9,
             "#4d9221"
            ],
            [
             1,
             "#276419"
            ]
           ],
           "sequential": [
            [
             0,
             "#0d0887"
            ],
            [
             0.1111111111111111,
             "#46039f"
            ],
            [
             0.2222222222222222,
             "#7201a8"
            ],
            [
             0.3333333333333333,
             "#9c179e"
            ],
            [
             0.4444444444444444,
             "#bd3786"
            ],
            [
             0.5555555555555556,
             "#d8576b"
            ],
            [
             0.6666666666666666,
             "#ed7953"
            ],
            [
             0.7777777777777778,
             "#fb9f3a"
            ],
            [
             0.8888888888888888,
             "#fdca26"
            ],
            [
             1,
             "#f0f921"
            ]
           ],
           "sequentialminus": [
            [
             0,
             "#0d0887"
            ],
            [
             0.1111111111111111,
             "#46039f"
            ],
            [
             0.2222222222222222,
             "#7201a8"
            ],
            [
             0.3333333333333333,
             "#9c179e"
            ],
            [
             0.4444444444444444,
             "#bd3786"
            ],
            [
             0.5555555555555556,
             "#d8576b"
            ],
            [
             0.6666666666666666,
             "#ed7953"
            ],
            [
             0.7777777777777778,
             "#fb9f3a"
            ],
            [
             0.8888888888888888,
             "#fdca26"
            ],
            [
             1,
             "#f0f921"
            ]
           ]
          },
          "colorway": [
           "#636efa",
           "#EF553B",
           "#00cc96",
           "#ab63fa",
           "#FFA15A",
           "#19d3f3",
           "#FF6692",
           "#B6E880",
           "#FF97FF",
           "#FECB52"
          ],
          "font": {
           "color": "#2a3f5f"
          },
          "geo": {
           "bgcolor": "white",
           "lakecolor": "white",
           "landcolor": "#E5ECF6",
           "showlakes": true,
           "showland": true,
           "subunitcolor": "white"
          },
          "hoverlabel": {
           "align": "left"
          },
          "hovermode": "closest",
          "mapbox": {
           "style": "light"
          },
          "paper_bgcolor": "white",
          "plot_bgcolor": "#E5ECF6",
          "polar": {
           "angularaxis": {
            "gridcolor": "white",
            "linecolor": "white",
            "ticks": ""
           },
           "bgcolor": "#E5ECF6",
           "radialaxis": {
            "gridcolor": "white",
            "linecolor": "white",
            "ticks": ""
           }
          },
          "scene": {
           "xaxis": {
            "backgroundcolor": "#E5ECF6",
            "gridcolor": "white",
            "gridwidth": 2,
            "linecolor": "white",
            "showbackground": true,
            "ticks": "",
            "zerolinecolor": "white"
           },
           "yaxis": {
            "backgroundcolor": "#E5ECF6",
            "gridcolor": "white",
            "gridwidth": 2,
            "linecolor": "white",
            "showbackground": true,
            "ticks": "",
            "zerolinecolor": "white"
           },
           "zaxis": {
            "backgroundcolor": "#E5ECF6",
            "gridcolor": "white",
            "gridwidth": 2,
            "linecolor": "white",
            "showbackground": true,
            "ticks": "",
            "zerolinecolor": "white"
           }
          },
          "shapedefaults": {
           "line": {
            "color": "#2a3f5f"
           }
          },
          "ternary": {
           "aaxis": {
            "gridcolor": "white",
            "linecolor": "white",
            "ticks": ""
           },
           "baxis": {
            "gridcolor": "white",
            "linecolor": "white",
            "ticks": ""
           },
           "bgcolor": "#E5ECF6",
           "caxis": {
            "gridcolor": "white",
            "linecolor": "white",
            "ticks": ""
           }
          },
          "title": {
           "x": 0.05
          },
          "xaxis": {
           "automargin": true,
           "gridcolor": "white",
           "linecolor": "white",
           "ticks": "",
           "title": {
            "standoff": 15
           },
           "zerolinecolor": "white",
           "zerolinewidth": 2
          },
          "yaxis": {
           "automargin": true,
           "gridcolor": "white",
           "linecolor": "white",
           "ticks": "",
           "title": {
            "standoff": 15
           },
           "zerolinecolor": "white",
           "zerolinewidth": 2
          }
         }
        },
        "width": 800,
        "xaxis": {
         "linecolor": "black",
         "linewidth": 2,
         "showline": true,
         "ticklen": 5,
         "ticks": "inside",
         "tickwidth": 2,
         "title": {
          "text": ""
         }
        },
        "yaxis": {
         "linecolor": "black",
         "linewidth": 2,
         "showline": true,
         "ticklen": 5,
         "ticks": "inside",
         "tickwidth": 2,
         "title": {
          "text": ""
         }
        }
       }
      }
     },
     "metadata": {},
     "output_type": "display_data"
    }
   ],
   "source": [
    "corr_matrix(df_MP_non_zero, crystal_properties, 800, 600, 14)"
   ]
  },
  {
   "cell_type": "markdown",
   "metadata": {},
   "source": [
    "Really unexpected correlation here with tc I expected volume to have a much higher correlation, I wonder if the latc value here is because of the cuprates?"
   ]
  },
  {
   "cell_type": "code",
   "execution_count": 18,
   "metadata": {},
   "outputs": [
    {
     "data": {
      "application/vnd.plotly.v1+json": {
       "config": {
        "plotlyServerURL": "https://plot.ly"
       },
       "data": [
        {
         "colorbar": {
          "ticktext": [
           -1,
           -0.5,
           0,
           0.5,
           1
          ],
          "tickvals": [
           -1,
           -0.5,
           0,
           0.5,
           1
          ],
          "title": {
           "side": "right",
           "text": "Pearson Coefficient"
          }
         },
         "colorscale": [
          [
           0,
           "#440154"
          ],
          [
           0.1111111111111111,
           "#482878"
          ],
          [
           0.2222222222222222,
           "#3e4989"
          ],
          [
           0.3333333333333333,
           "#31688e"
          ],
          [
           0.4444444444444444,
           "#26828e"
          ],
          [
           0.5555555555555556,
           "#1f9e89"
          ],
          [
           0.6666666666666666,
           "#35b779"
          ],
          [
           0.7777777777777778,
           "#6ece58"
          ],
          [
           0.8888888888888888,
           "#b5de2b"
          ],
          [
           1,
           "#fde725"
          ]
         ],
         "text": [
          [
           1,
           -0.2,
           -0.11,
           0.34,
           0.01,
           -0.05,
           0.07,
           0.32,
           -0.38,
           0.05,
           0.05
          ],
          [
           -0.2,
           1,
           0.78,
           0.27,
           0.73,
           -0.15,
           -0.02,
           0.07,
           0.15,
           -0.16,
           -0.16
          ],
          [
           -0.11,
           0.78,
           1,
           0.41,
           0.78,
           -0.04,
           0.02,
           0,
           0.04,
           -0.21,
           -0.21
          ],
          [
           0.34,
           0.27,
           0.41,
           1,
           0.58,
           0.06,
           0.09,
           -0.01,
           -0.15,
           -0.05,
           -0.05
          ],
          [
           0.01,
           0.73,
           0.78,
           0.58,
           1,
           0.04,
           0.02,
           0,
           -0.07,
           -0.11,
           -0.11
          ],
          [
           -0.05,
           -0.15,
           -0.04,
           0.06,
           0.04,
           1,
           -0.35,
           -0.62,
           -0.46,
           0.16,
           0.16
          ],
          [
           0.07,
           -0.02,
           0.02,
           0.09,
           0.02,
           -0.35,
           1,
           -0.14,
           -0.1,
           0.06,
           0.06
          ],
          [
           0.32,
           0.07,
           0,
           -0.01,
           0,
           -0.62,
           -0.14,
           1,
           -0.18,
           -0.09,
           -0.09
          ],
          [
           -0.38,
           0.15,
           0.04,
           -0.15,
           -0.07,
           -0.46,
           -0.1,
           -0.18,
           1,
           -0.18,
           -0.18
          ],
          [
           0.05,
           -0.16,
           -0.21,
           -0.05,
           -0.11,
           0.16,
           0.06,
           -0.09,
           -0.18,
           1,
           1
          ],
          [
           0.05,
           -0.16,
           -0.21,
           -0.05,
           -0.11,
           0.16,
           0.06,
           -0.09,
           -0.18,
           1,
           1
          ]
         ],
         "textfont": {
          "size": 14
         },
         "texttemplate": "%{text}",
         "type": "heatmap",
         "x": [
          "cat_crystal_system",
          "lata",
          "latb",
          "latc",
          "cell_volume",
          "primitive",
          "base-centered",
          "body-centered",
          "face-centered",
          "tc",
          "tc"
         ],
         "y": [
          "cat_crystal_system",
          "lata",
          "latb",
          "latc",
          "cell_volume",
          "primitive",
          "base-centered",
          "body-centered",
          "face-centered",
          "tc",
          "tc"
         ],
         "z": [
          [
           1,
           -0.2,
           -0.11,
           0.34,
           0.01,
           -0.05,
           0.07,
           0.32,
           -0.38,
           0.05,
           0.05
          ],
          [
           -0.2,
           1,
           0.78,
           0.27,
           0.73,
           -0.15,
           -0.02,
           0.07,
           0.15,
           -0.16,
           -0.16
          ],
          [
           -0.11,
           0.78,
           1,
           0.41,
           0.78,
           -0.04,
           0.02,
           0,
           0.04,
           -0.21,
           -0.21
          ],
          [
           0.34,
           0.27,
           0.41,
           1,
           0.58,
           0.06,
           0.09,
           -0.01,
           -0.15,
           -0.05,
           -0.05
          ],
          [
           0.01,
           0.73,
           0.78,
           0.58,
           1,
           0.04,
           0.02,
           0,
           -0.07,
           -0.11,
           -0.11
          ],
          [
           -0.05,
           -0.15,
           -0.04,
           0.06,
           0.04,
           1,
           -0.35,
           -0.62,
           -0.46,
           0.16,
           0.16
          ],
          [
           0.07,
           -0.02,
           0.02,
           0.09,
           0.02,
           -0.35,
           1,
           -0.14,
           -0.1,
           0.06,
           0.06
          ],
          [
           0.32,
           0.07,
           0,
           -0.01,
           0,
           -0.62,
           -0.14,
           1,
           -0.18,
           -0.09,
           -0.09
          ],
          [
           -0.38,
           0.15,
           0.04,
           -0.15,
           -0.07,
           -0.46,
           -0.1,
           -0.18,
           1,
           -0.18,
           -0.18
          ],
          [
           0.05,
           -0.16,
           -0.21,
           -0.05,
           -0.11,
           0.16,
           0.06,
           -0.09,
           -0.18,
           1,
           1
          ],
          [
           0.05,
           -0.16,
           -0.21,
           -0.05,
           -0.11,
           0.16,
           0.06,
           -0.09,
           -0.18,
           1,
           1
          ]
         ]
        }
       ],
       "layout": {
        "font": {
         "color": "black",
         "family": "Helvetica",
         "size": 16
        },
        "height": 600,
        "margin": {
         "b": 5,
         "l": 5,
         "r": 5,
         "t": 10
        },
        "paper_bgcolor": "white",
        "plot_bgcolor": "white",
        "template": {
         "data": {
          "bar": [
           {
            "error_x": {
             "color": "#2a3f5f"
            },
            "error_y": {
             "color": "#2a3f5f"
            },
            "marker": {
             "line": {
              "color": "#E5ECF6",
              "width": 0.5
             },
             "pattern": {
              "fillmode": "overlay",
              "size": 10,
              "solidity": 0.2
             }
            },
            "type": "bar"
           }
          ],
          "barpolar": [
           {
            "marker": {
             "line": {
              "color": "#E5ECF6",
              "width": 0.5
             },
             "pattern": {
              "fillmode": "overlay",
              "size": 10,
              "solidity": 0.2
             }
            },
            "type": "barpolar"
           }
          ],
          "carpet": [
           {
            "aaxis": {
             "endlinecolor": "#2a3f5f",
             "gridcolor": "white",
             "linecolor": "white",
             "minorgridcolor": "white",
             "startlinecolor": "#2a3f5f"
            },
            "baxis": {
             "endlinecolor": "#2a3f5f",
             "gridcolor": "white",
             "linecolor": "white",
             "minorgridcolor": "white",
             "startlinecolor": "#2a3f5f"
            },
            "type": "carpet"
           }
          ],
          "choropleth": [
           {
            "colorbar": {
             "outlinewidth": 0,
             "ticks": ""
            },
            "type": "choropleth"
           }
          ],
          "contour": [
           {
            "colorbar": {
             "outlinewidth": 0,
             "ticks": ""
            },
            "colorscale": [
             [
              0,
              "#0d0887"
             ],
             [
              0.1111111111111111,
              "#46039f"
             ],
             [
              0.2222222222222222,
              "#7201a8"
             ],
             [
              0.3333333333333333,
              "#9c179e"
             ],
             [
              0.4444444444444444,
              "#bd3786"
             ],
             [
              0.5555555555555556,
              "#d8576b"
             ],
             [
              0.6666666666666666,
              "#ed7953"
             ],
             [
              0.7777777777777778,
              "#fb9f3a"
             ],
             [
              0.8888888888888888,
              "#fdca26"
             ],
             [
              1,
              "#f0f921"
             ]
            ],
            "type": "contour"
           }
          ],
          "contourcarpet": [
           {
            "colorbar": {
             "outlinewidth": 0,
             "ticks": ""
            },
            "type": "contourcarpet"
           }
          ],
          "heatmap": [
           {
            "colorbar": {
             "outlinewidth": 0,
             "ticks": ""
            },
            "colorscale": [
             [
              0,
              "#0d0887"
             ],
             [
              0.1111111111111111,
              "#46039f"
             ],
             [
              0.2222222222222222,
              "#7201a8"
             ],
             [
              0.3333333333333333,
              "#9c179e"
             ],
             [
              0.4444444444444444,
              "#bd3786"
             ],
             [
              0.5555555555555556,
              "#d8576b"
             ],
             [
              0.6666666666666666,
              "#ed7953"
             ],
             [
              0.7777777777777778,
              "#fb9f3a"
             ],
             [
              0.8888888888888888,
              "#fdca26"
             ],
             [
              1,
              "#f0f921"
             ]
            ],
            "type": "heatmap"
           }
          ],
          "heatmapgl": [
           {
            "colorbar": {
             "outlinewidth": 0,
             "ticks": ""
            },
            "colorscale": [
             [
              0,
              "#0d0887"
             ],
             [
              0.1111111111111111,
              "#46039f"
             ],
             [
              0.2222222222222222,
              "#7201a8"
             ],
             [
              0.3333333333333333,
              "#9c179e"
             ],
             [
              0.4444444444444444,
              "#bd3786"
             ],
             [
              0.5555555555555556,
              "#d8576b"
             ],
             [
              0.6666666666666666,
              "#ed7953"
             ],
             [
              0.7777777777777778,
              "#fb9f3a"
             ],
             [
              0.8888888888888888,
              "#fdca26"
             ],
             [
              1,
              "#f0f921"
             ]
            ],
            "type": "heatmapgl"
           }
          ],
          "histogram": [
           {
            "marker": {
             "pattern": {
              "fillmode": "overlay",
              "size": 10,
              "solidity": 0.2
             }
            },
            "type": "histogram"
           }
          ],
          "histogram2d": [
           {
            "colorbar": {
             "outlinewidth": 0,
             "ticks": ""
            },
            "colorscale": [
             [
              0,
              "#0d0887"
             ],
             [
              0.1111111111111111,
              "#46039f"
             ],
             [
              0.2222222222222222,
              "#7201a8"
             ],
             [
              0.3333333333333333,
              "#9c179e"
             ],
             [
              0.4444444444444444,
              "#bd3786"
             ],
             [
              0.5555555555555556,
              "#d8576b"
             ],
             [
              0.6666666666666666,
              "#ed7953"
             ],
             [
              0.7777777777777778,
              "#fb9f3a"
             ],
             [
              0.8888888888888888,
              "#fdca26"
             ],
             [
              1,
              "#f0f921"
             ]
            ],
            "type": "histogram2d"
           }
          ],
          "histogram2dcontour": [
           {
            "colorbar": {
             "outlinewidth": 0,
             "ticks": ""
            },
            "colorscale": [
             [
              0,
              "#0d0887"
             ],
             [
              0.1111111111111111,
              "#46039f"
             ],
             [
              0.2222222222222222,
              "#7201a8"
             ],
             [
              0.3333333333333333,
              "#9c179e"
             ],
             [
              0.4444444444444444,
              "#bd3786"
             ],
             [
              0.5555555555555556,
              "#d8576b"
             ],
             [
              0.6666666666666666,
              "#ed7953"
             ],
             [
              0.7777777777777778,
              "#fb9f3a"
             ],
             [
              0.8888888888888888,
              "#fdca26"
             ],
             [
              1,
              "#f0f921"
             ]
            ],
            "type": "histogram2dcontour"
           }
          ],
          "mesh3d": [
           {
            "colorbar": {
             "outlinewidth": 0,
             "ticks": ""
            },
            "type": "mesh3d"
           }
          ],
          "parcoords": [
           {
            "line": {
             "colorbar": {
              "outlinewidth": 0,
              "ticks": ""
             }
            },
            "type": "parcoords"
           }
          ],
          "pie": [
           {
            "automargin": true,
            "type": "pie"
           }
          ],
          "scatter": [
           {
            "fillpattern": {
             "fillmode": "overlay",
             "size": 10,
             "solidity": 0.2
            },
            "type": "scatter"
           }
          ],
          "scatter3d": [
           {
            "line": {
             "colorbar": {
              "outlinewidth": 0,
              "ticks": ""
             }
            },
            "marker": {
             "colorbar": {
              "outlinewidth": 0,
              "ticks": ""
             }
            },
            "type": "scatter3d"
           }
          ],
          "scattercarpet": [
           {
            "marker": {
             "colorbar": {
              "outlinewidth": 0,
              "ticks": ""
             }
            },
            "type": "scattercarpet"
           }
          ],
          "scattergeo": [
           {
            "marker": {
             "colorbar": {
              "outlinewidth": 0,
              "ticks": ""
             }
            },
            "type": "scattergeo"
           }
          ],
          "scattergl": [
           {
            "marker": {
             "colorbar": {
              "outlinewidth": 0,
              "ticks": ""
             }
            },
            "type": "scattergl"
           }
          ],
          "scattermapbox": [
           {
            "marker": {
             "colorbar": {
              "outlinewidth": 0,
              "ticks": ""
             }
            },
            "type": "scattermapbox"
           }
          ],
          "scatterpolar": [
           {
            "marker": {
             "colorbar": {
              "outlinewidth": 0,
              "ticks": ""
             }
            },
            "type": "scatterpolar"
           }
          ],
          "scatterpolargl": [
           {
            "marker": {
             "colorbar": {
              "outlinewidth": 0,
              "ticks": ""
             }
            },
            "type": "scatterpolargl"
           }
          ],
          "scatterternary": [
           {
            "marker": {
             "colorbar": {
              "outlinewidth": 0,
              "ticks": ""
             }
            },
            "type": "scatterternary"
           }
          ],
          "surface": [
           {
            "colorbar": {
             "outlinewidth": 0,
             "ticks": ""
            },
            "colorscale": [
             [
              0,
              "#0d0887"
             ],
             [
              0.1111111111111111,
              "#46039f"
             ],
             [
              0.2222222222222222,
              "#7201a8"
             ],
             [
              0.3333333333333333,
              "#9c179e"
             ],
             [
              0.4444444444444444,
              "#bd3786"
             ],
             [
              0.5555555555555556,
              "#d8576b"
             ],
             [
              0.6666666666666666,
              "#ed7953"
             ],
             [
              0.7777777777777778,
              "#fb9f3a"
             ],
             [
              0.8888888888888888,
              "#fdca26"
             ],
             [
              1,
              "#f0f921"
             ]
            ],
            "type": "surface"
           }
          ],
          "table": [
           {
            "cells": {
             "fill": {
              "color": "#EBF0F8"
             },
             "line": {
              "color": "white"
             }
            },
            "header": {
             "fill": {
              "color": "#C8D4E3"
             },
             "line": {
              "color": "white"
             }
            },
            "type": "table"
           }
          ]
         },
         "layout": {
          "annotationdefaults": {
           "arrowcolor": "#2a3f5f",
           "arrowhead": 0,
           "arrowwidth": 1
          },
          "autotypenumbers": "strict",
          "coloraxis": {
           "colorbar": {
            "outlinewidth": 0,
            "ticks": ""
           }
          },
          "colorscale": {
           "diverging": [
            [
             0,
             "#8e0152"
            ],
            [
             0.1,
             "#c51b7d"
            ],
            [
             0.2,
             "#de77ae"
            ],
            [
             0.3,
             "#f1b6da"
            ],
            [
             0.4,
             "#fde0ef"
            ],
            [
             0.5,
             "#f7f7f7"
            ],
            [
             0.6,
             "#e6f5d0"
            ],
            [
             0.7,
             "#b8e186"
            ],
            [
             0.8,
             "#7fbc41"
            ],
            [
             0.9,
             "#4d9221"
            ],
            [
             1,
             "#276419"
            ]
           ],
           "sequential": [
            [
             0,
             "#0d0887"
            ],
            [
             0.1111111111111111,
             "#46039f"
            ],
            [
             0.2222222222222222,
             "#7201a8"
            ],
            [
             0.3333333333333333,
             "#9c179e"
            ],
            [
             0.4444444444444444,
             "#bd3786"
            ],
            [
             0.5555555555555556,
             "#d8576b"
            ],
            [
             0.6666666666666666,
             "#ed7953"
            ],
            [
             0.7777777777777778,
             "#fb9f3a"
            ],
            [
             0.8888888888888888,
             "#fdca26"
            ],
            [
             1,
             "#f0f921"
            ]
           ],
           "sequentialminus": [
            [
             0,
             "#0d0887"
            ],
            [
             0.1111111111111111,
             "#46039f"
            ],
            [
             0.2222222222222222,
             "#7201a8"
            ],
            [
             0.3333333333333333,
             "#9c179e"
            ],
            [
             0.4444444444444444,
             "#bd3786"
            ],
            [
             0.5555555555555556,
             "#d8576b"
            ],
            [
             0.6666666666666666,
             "#ed7953"
            ],
            [
             0.7777777777777778,
             "#fb9f3a"
            ],
            [
             0.8888888888888888,
             "#fdca26"
            ],
            [
             1,
             "#f0f921"
            ]
           ]
          },
          "colorway": [
           "#636efa",
           "#EF553B",
           "#00cc96",
           "#ab63fa",
           "#FFA15A",
           "#19d3f3",
           "#FF6692",
           "#B6E880",
           "#FF97FF",
           "#FECB52"
          ],
          "font": {
           "color": "#2a3f5f"
          },
          "geo": {
           "bgcolor": "white",
           "lakecolor": "white",
           "landcolor": "#E5ECF6",
           "showlakes": true,
           "showland": true,
           "subunitcolor": "white"
          },
          "hoverlabel": {
           "align": "left"
          },
          "hovermode": "closest",
          "mapbox": {
           "style": "light"
          },
          "paper_bgcolor": "white",
          "plot_bgcolor": "#E5ECF6",
          "polar": {
           "angularaxis": {
            "gridcolor": "white",
            "linecolor": "white",
            "ticks": ""
           },
           "bgcolor": "#E5ECF6",
           "radialaxis": {
            "gridcolor": "white",
            "linecolor": "white",
            "ticks": ""
           }
          },
          "scene": {
           "xaxis": {
            "backgroundcolor": "#E5ECF6",
            "gridcolor": "white",
            "gridwidth": 2,
            "linecolor": "white",
            "showbackground": true,
            "ticks": "",
            "zerolinecolor": "white"
           },
           "yaxis": {
            "backgroundcolor": "#E5ECF6",
            "gridcolor": "white",
            "gridwidth": 2,
            "linecolor": "white",
            "showbackground": true,
            "ticks": "",
            "zerolinecolor": "white"
           },
           "zaxis": {
            "backgroundcolor": "#E5ECF6",
            "gridcolor": "white",
            "gridwidth": 2,
            "linecolor": "white",
            "showbackground": true,
            "ticks": "",
            "zerolinecolor": "white"
           }
          },
          "shapedefaults": {
           "line": {
            "color": "#2a3f5f"
           }
          },
          "ternary": {
           "aaxis": {
            "gridcolor": "white",
            "linecolor": "white",
            "ticks": ""
           },
           "baxis": {
            "gridcolor": "white",
            "linecolor": "white",
            "ticks": ""
           },
           "bgcolor": "#E5ECF6",
           "caxis": {
            "gridcolor": "white",
            "linecolor": "white",
            "ticks": ""
           }
          },
          "title": {
           "x": 0.05
          },
          "xaxis": {
           "automargin": true,
           "gridcolor": "white",
           "linecolor": "white",
           "ticks": "",
           "title": {
            "standoff": 15
           },
           "zerolinecolor": "white",
           "zerolinewidth": 2
          },
          "yaxis": {
           "automargin": true,
           "gridcolor": "white",
           "linecolor": "white",
           "ticks": "",
           "title": {
            "standoff": 15
           },
           "zerolinecolor": "white",
           "zerolinewidth": 2
          }
         }
        },
        "width": 800,
        "xaxis": {
         "linecolor": "black",
         "linewidth": 2,
         "showline": true,
         "ticklen": 5,
         "ticks": "inside",
         "tickwidth": 2,
         "title": {
          "text": ""
         }
        },
        "yaxis": {
         "linecolor": "black",
         "linewidth": 2,
         "showline": true,
         "ticklen": 5,
         "ticks": "inside",
         "tickwidth": 2,
         "title": {
          "text": ""
         }
        }
       }
      }
     },
     "metadata": {},
     "output_type": "display_data"
    }
   ],
   "source": [
    "df_without_cuprates = df_MP_non_zero[df_MP_non_zero['sc_class'] != 'Cuprate']\n",
    "corr_matrix(df_without_cuprates, crystal_properties, 800, 600, 14)"
   ]
  },
  {
   "cell_type": "markdown",
   "metadata": {},
   "source": [
    "Yeah it is! interesting each family should show different imporant features. This probably means each family undergoes a different reason why they present superconductivity."
   ]
  },
  {
   "cell_type": "markdown",
   "metadata": {},
   "source": [
    "I did not expect the categorised crystal system to have a lowered correlation to tc after taking cuperates away, its probably important to also include categorising the family type and including it as a property"
   ]
  },
  {
   "cell_type": "code",
   "execution_count": 19,
   "metadata": {},
   "outputs": [
    {
     "data": {
      "application/vnd.plotly.v1+json": {
       "config": {
        "plotlyServerURL": "https://plot.ly"
       },
       "data": [
        {
         "marker": {
          "color": "rgb(33, 145, 140)"
         },
         "text": [
          "32.89%",
          "28.01%",
          "16.10%",
          "13.47%",
          "5.78%",
          "3.30%",
          "0.45%"
         ],
         "textposition": "auto",
         "type": "bar",
         "x": [
          "tetragonal",
          "cubic",
          "orthorhombic",
          "hexagonal",
          "trigonal",
          "monoclinic",
          "triclinic"
         ],
         "y": [
          1314,
          1119,
          643,
          538,
          231,
          132,
          18
         ]
        }
       ],
       "layout": {
        "font": {
         "color": "black",
         "family": "Helvetica",
         "size": 16
        },
        "height": 500,
        "margin": {
         "b": 10,
         "l": 10,
         "r": 10,
         "t": 10
        },
        "paper_bgcolor": "white",
        "plot_bgcolor": "white",
        "template": {
         "data": {
          "bar": [
           {
            "error_x": {
             "color": "#2a3f5f"
            },
            "error_y": {
             "color": "#2a3f5f"
            },
            "marker": {
             "line": {
              "color": "#E5ECF6",
              "width": 0.5
             },
             "pattern": {
              "fillmode": "overlay",
              "size": 10,
              "solidity": 0.2
             }
            },
            "type": "bar"
           }
          ],
          "barpolar": [
           {
            "marker": {
             "line": {
              "color": "#E5ECF6",
              "width": 0.5
             },
             "pattern": {
              "fillmode": "overlay",
              "size": 10,
              "solidity": 0.2
             }
            },
            "type": "barpolar"
           }
          ],
          "carpet": [
           {
            "aaxis": {
             "endlinecolor": "#2a3f5f",
             "gridcolor": "white",
             "linecolor": "white",
             "minorgridcolor": "white",
             "startlinecolor": "#2a3f5f"
            },
            "baxis": {
             "endlinecolor": "#2a3f5f",
             "gridcolor": "white",
             "linecolor": "white",
             "minorgridcolor": "white",
             "startlinecolor": "#2a3f5f"
            },
            "type": "carpet"
           }
          ],
          "choropleth": [
           {
            "colorbar": {
             "outlinewidth": 0,
             "ticks": ""
            },
            "type": "choropleth"
           }
          ],
          "contour": [
           {
            "colorbar": {
             "outlinewidth": 0,
             "ticks": ""
            },
            "colorscale": [
             [
              0,
              "#0d0887"
             ],
             [
              0.1111111111111111,
              "#46039f"
             ],
             [
              0.2222222222222222,
              "#7201a8"
             ],
             [
              0.3333333333333333,
              "#9c179e"
             ],
             [
              0.4444444444444444,
              "#bd3786"
             ],
             [
              0.5555555555555556,
              "#d8576b"
             ],
             [
              0.6666666666666666,
              "#ed7953"
             ],
             [
              0.7777777777777778,
              "#fb9f3a"
             ],
             [
              0.8888888888888888,
              "#fdca26"
             ],
             [
              1,
              "#f0f921"
             ]
            ],
            "type": "contour"
           }
          ],
          "contourcarpet": [
           {
            "colorbar": {
             "outlinewidth": 0,
             "ticks": ""
            },
            "type": "contourcarpet"
           }
          ],
          "heatmap": [
           {
            "colorbar": {
             "outlinewidth": 0,
             "ticks": ""
            },
            "colorscale": [
             [
              0,
              "#0d0887"
             ],
             [
              0.1111111111111111,
              "#46039f"
             ],
             [
              0.2222222222222222,
              "#7201a8"
             ],
             [
              0.3333333333333333,
              "#9c179e"
             ],
             [
              0.4444444444444444,
              "#bd3786"
             ],
             [
              0.5555555555555556,
              "#d8576b"
             ],
             [
              0.6666666666666666,
              "#ed7953"
             ],
             [
              0.7777777777777778,
              "#fb9f3a"
             ],
             [
              0.8888888888888888,
              "#fdca26"
             ],
             [
              1,
              "#f0f921"
             ]
            ],
            "type": "heatmap"
           }
          ],
          "heatmapgl": [
           {
            "colorbar": {
             "outlinewidth": 0,
             "ticks": ""
            },
            "colorscale": [
             [
              0,
              "#0d0887"
             ],
             [
              0.1111111111111111,
              "#46039f"
             ],
             [
              0.2222222222222222,
              "#7201a8"
             ],
             [
              0.3333333333333333,
              "#9c179e"
             ],
             [
              0.4444444444444444,
              "#bd3786"
             ],
             [
              0.5555555555555556,
              "#d8576b"
             ],
             [
              0.6666666666666666,
              "#ed7953"
             ],
             [
              0.7777777777777778,
              "#fb9f3a"
             ],
             [
              0.8888888888888888,
              "#fdca26"
             ],
             [
              1,
              "#f0f921"
             ]
            ],
            "type": "heatmapgl"
           }
          ],
          "histogram": [
           {
            "marker": {
             "pattern": {
              "fillmode": "overlay",
              "size": 10,
              "solidity": 0.2
             }
            },
            "type": "histogram"
           }
          ],
          "histogram2d": [
           {
            "colorbar": {
             "outlinewidth": 0,
             "ticks": ""
            },
            "colorscale": [
             [
              0,
              "#0d0887"
             ],
             [
              0.1111111111111111,
              "#46039f"
             ],
             [
              0.2222222222222222,
              "#7201a8"
             ],
             [
              0.3333333333333333,
              "#9c179e"
             ],
             [
              0.4444444444444444,
              "#bd3786"
             ],
             [
              0.5555555555555556,
              "#d8576b"
             ],
             [
              0.6666666666666666,
              "#ed7953"
             ],
             [
              0.7777777777777778,
              "#fb9f3a"
             ],
             [
              0.8888888888888888,
              "#fdca26"
             ],
             [
              1,
              "#f0f921"
             ]
            ],
            "type": "histogram2d"
           }
          ],
          "histogram2dcontour": [
           {
            "colorbar": {
             "outlinewidth": 0,
             "ticks": ""
            },
            "colorscale": [
             [
              0,
              "#0d0887"
             ],
             [
              0.1111111111111111,
              "#46039f"
             ],
             [
              0.2222222222222222,
              "#7201a8"
             ],
             [
              0.3333333333333333,
              "#9c179e"
             ],
             [
              0.4444444444444444,
              "#bd3786"
             ],
             [
              0.5555555555555556,
              "#d8576b"
             ],
             [
              0.6666666666666666,
              "#ed7953"
             ],
             [
              0.7777777777777778,
              "#fb9f3a"
             ],
             [
              0.8888888888888888,
              "#fdca26"
             ],
             [
              1,
              "#f0f921"
             ]
            ],
            "type": "histogram2dcontour"
           }
          ],
          "mesh3d": [
           {
            "colorbar": {
             "outlinewidth": 0,
             "ticks": ""
            },
            "type": "mesh3d"
           }
          ],
          "parcoords": [
           {
            "line": {
             "colorbar": {
              "outlinewidth": 0,
              "ticks": ""
             }
            },
            "type": "parcoords"
           }
          ],
          "pie": [
           {
            "automargin": true,
            "type": "pie"
           }
          ],
          "scatter": [
           {
            "fillpattern": {
             "fillmode": "overlay",
             "size": 10,
             "solidity": 0.2
            },
            "type": "scatter"
           }
          ],
          "scatter3d": [
           {
            "line": {
             "colorbar": {
              "outlinewidth": 0,
              "ticks": ""
             }
            },
            "marker": {
             "colorbar": {
              "outlinewidth": 0,
              "ticks": ""
             }
            },
            "type": "scatter3d"
           }
          ],
          "scattercarpet": [
           {
            "marker": {
             "colorbar": {
              "outlinewidth": 0,
              "ticks": ""
             }
            },
            "type": "scattercarpet"
           }
          ],
          "scattergeo": [
           {
            "marker": {
             "colorbar": {
              "outlinewidth": 0,
              "ticks": ""
             }
            },
            "type": "scattergeo"
           }
          ],
          "scattergl": [
           {
            "marker": {
             "colorbar": {
              "outlinewidth": 0,
              "ticks": ""
             }
            },
            "type": "scattergl"
           }
          ],
          "scattermapbox": [
           {
            "marker": {
             "colorbar": {
              "outlinewidth": 0,
              "ticks": ""
             }
            },
            "type": "scattermapbox"
           }
          ],
          "scatterpolar": [
           {
            "marker": {
             "colorbar": {
              "outlinewidth": 0,
              "ticks": ""
             }
            },
            "type": "scatterpolar"
           }
          ],
          "scatterpolargl": [
           {
            "marker": {
             "colorbar": {
              "outlinewidth": 0,
              "ticks": ""
             }
            },
            "type": "scatterpolargl"
           }
          ],
          "scatterternary": [
           {
            "marker": {
             "colorbar": {
              "outlinewidth": 0,
              "ticks": ""
             }
            },
            "type": "scatterternary"
           }
          ],
          "surface": [
           {
            "colorbar": {
             "outlinewidth": 0,
             "ticks": ""
            },
            "colorscale": [
             [
              0,
              "#0d0887"
             ],
             [
              0.1111111111111111,
              "#46039f"
             ],
             [
              0.2222222222222222,
              "#7201a8"
             ],
             [
              0.3333333333333333,
              "#9c179e"
             ],
             [
              0.4444444444444444,
              "#bd3786"
             ],
             [
              0.5555555555555556,
              "#d8576b"
             ],
             [
              0.6666666666666666,
              "#ed7953"
             ],
             [
              0.7777777777777778,
              "#fb9f3a"
             ],
             [
              0.8888888888888888,
              "#fdca26"
             ],
             [
              1,
              "#f0f921"
             ]
            ],
            "type": "surface"
           }
          ],
          "table": [
           {
            "cells": {
             "fill": {
              "color": "#EBF0F8"
             },
             "line": {
              "color": "white"
             }
            },
            "header": {
             "fill": {
              "color": "#C8D4E3"
             },
             "line": {
              "color": "white"
             }
            },
            "type": "table"
           }
          ]
         },
         "layout": {
          "annotationdefaults": {
           "arrowcolor": "#2a3f5f",
           "arrowhead": 0,
           "arrowwidth": 1
          },
          "autotypenumbers": "strict",
          "coloraxis": {
           "colorbar": {
            "outlinewidth": 0,
            "ticks": ""
           }
          },
          "colorscale": {
           "diverging": [
            [
             0,
             "#8e0152"
            ],
            [
             0.1,
             "#c51b7d"
            ],
            [
             0.2,
             "#de77ae"
            ],
            [
             0.3,
             "#f1b6da"
            ],
            [
             0.4,
             "#fde0ef"
            ],
            [
             0.5,
             "#f7f7f7"
            ],
            [
             0.6,
             "#e6f5d0"
            ],
            [
             0.7,
             "#b8e186"
            ],
            [
             0.8,
             "#7fbc41"
            ],
            [
             0.9,
             "#4d9221"
            ],
            [
             1,
             "#276419"
            ]
           ],
           "sequential": [
            [
             0,
             "#0d0887"
            ],
            [
             0.1111111111111111,
             "#46039f"
            ],
            [
             0.2222222222222222,
             "#7201a8"
            ],
            [
             0.3333333333333333,
             "#9c179e"
            ],
            [
             0.4444444444444444,
             "#bd3786"
            ],
            [
             0.5555555555555556,
             "#d8576b"
            ],
            [
             0.6666666666666666,
             "#ed7953"
            ],
            [
             0.7777777777777778,
             "#fb9f3a"
            ],
            [
             0.8888888888888888,
             "#fdca26"
            ],
            [
             1,
             "#f0f921"
            ]
           ],
           "sequentialminus": [
            [
             0,
             "#0d0887"
            ],
            [
             0.1111111111111111,
             "#46039f"
            ],
            [
             0.2222222222222222,
             "#7201a8"
            ],
            [
             0.3333333333333333,
             "#9c179e"
            ],
            [
             0.4444444444444444,
             "#bd3786"
            ],
            [
             0.5555555555555556,
             "#d8576b"
            ],
            [
             0.6666666666666666,
             "#ed7953"
            ],
            [
             0.7777777777777778,
             "#fb9f3a"
            ],
            [
             0.8888888888888888,
             "#fdca26"
            ],
            [
             1,
             "#f0f921"
            ]
           ]
          },
          "colorway": [
           "#636efa",
           "#EF553B",
           "#00cc96",
           "#ab63fa",
           "#FFA15A",
           "#19d3f3",
           "#FF6692",
           "#B6E880",
           "#FF97FF",
           "#FECB52"
          ],
          "font": {
           "color": "#2a3f5f"
          },
          "geo": {
           "bgcolor": "white",
           "lakecolor": "white",
           "landcolor": "#E5ECF6",
           "showlakes": true,
           "showland": true,
           "subunitcolor": "white"
          },
          "hoverlabel": {
           "align": "left"
          },
          "hovermode": "closest",
          "mapbox": {
           "style": "light"
          },
          "paper_bgcolor": "white",
          "plot_bgcolor": "#E5ECF6",
          "polar": {
           "angularaxis": {
            "gridcolor": "white",
            "linecolor": "white",
            "ticks": ""
           },
           "bgcolor": "#E5ECF6",
           "radialaxis": {
            "gridcolor": "white",
            "linecolor": "white",
            "ticks": ""
           }
          },
          "scene": {
           "xaxis": {
            "backgroundcolor": "#E5ECF6",
            "gridcolor": "white",
            "gridwidth": 2,
            "linecolor": "white",
            "showbackground": true,
            "ticks": "",
            "zerolinecolor": "white"
           },
           "yaxis": {
            "backgroundcolor": "#E5ECF6",
            "gridcolor": "white",
            "gridwidth": 2,
            "linecolor": "white",
            "showbackground": true,
            "ticks": "",
            "zerolinecolor": "white"
           },
           "zaxis": {
            "backgroundcolor": "#E5ECF6",
            "gridcolor": "white",
            "gridwidth": 2,
            "linecolor": "white",
            "showbackground": true,
            "ticks": "",
            "zerolinecolor": "white"
           }
          },
          "shapedefaults": {
           "line": {
            "color": "#2a3f5f"
           }
          },
          "ternary": {
           "aaxis": {
            "gridcolor": "white",
            "linecolor": "white",
            "ticks": ""
           },
           "baxis": {
            "gridcolor": "white",
            "linecolor": "white",
            "ticks": ""
           },
           "bgcolor": "#E5ECF6",
           "caxis": {
            "gridcolor": "white",
            "linecolor": "white",
            "ticks": ""
           }
          },
          "title": {
           "x": 0.05
          },
          "xaxis": {
           "automargin": true,
           "gridcolor": "white",
           "linecolor": "white",
           "ticks": "",
           "title": {
            "standoff": 15
           },
           "zerolinecolor": "white",
           "zerolinewidth": 2
          },
          "yaxis": {
           "automargin": true,
           "gridcolor": "white",
           "linecolor": "white",
           "ticks": "",
           "title": {
            "standoff": 15
           },
           "zerolinecolor": "white",
           "zerolinewidth": 2
          }
         }
        },
        "width": 800,
        "xaxis": {
         "linecolor": "black",
         "linewidth": 2,
         "showline": true,
         "ticklen": 5,
         "ticks": "inside",
         "tickwidth": 2,
         "title": {
          "text": "Crystal System"
         }
        },
        "yaxis": {
         "linecolor": "black",
         "linewidth": 2,
         "showline": true,
         "ticklen": 5,
         "ticks": "inside",
         "tickwidth": 2,
         "title": {
          "text": "Count"
         }
        }
       }
      }
     },
     "metadata": {},
     "output_type": "display_data"
    }
   ],
   "source": [
    "crystal_system_counts = df_MP_non_zero[\"crystal_system\"].value_counts()\n",
    "precentages = (df_MP_non_zero[\"crystal_system\"].value_counts()/len(df_MP_non_zero))*100\n",
    "# Create a bar plot\n",
    "data = [go.Bar(x=crystal_system_counts.index,\n",
    "               y=crystal_system_counts.values,\n",
    "               text= [f'{x:.2f}%' for x in precentages],\n",
    "               textposition='auto',\n",
    "               marker = dict(color='rgb(33, 145, 140)'))]\n",
    "\n",
    "# Create the layout\n",
    "layout = go.Layout(xaxis=dict(title=\"Crystal System\", showline=True, linewidth=2, linecolor='black',\n",
    "                              ticks='inside', tickwidth=2, ticklen=5),\n",
    "                   yaxis=dict(title=\"Count\", showline=True, linewidth=2, linecolor='black',\n",
    "                              ticks='inside', tickwidth=2, ticklen=5), \n",
    "                   width=800,\n",
    "                   height=500,\n",
    "                   plot_bgcolor='white',\n",
    "                   paper_bgcolor='white', \n",
    "                   font=dict(family='Helvetica', size=16, color='black'),\n",
    "                   margin=dict(l=10, r=10, b=10, t=10))\n",
    "\n",
    "# Create the figure\n",
    "fig = go.Figure(data=data, layout=layout)\n",
    "\n",
    "# Show the figure\n",
    "fig.show()"
   ]
  },
  {
   "cell_type": "markdown",
   "metadata": {},
   "source": [
    "## Energy Value and Gaps"
   ]
  },
  {
   "cell_type": "code",
   "execution_count": 20,
   "metadata": {},
   "outputs": [
    {
     "data": {
      "text/html": [
       "<div>\n",
       "<style scoped>\n",
       "    .dataframe tbody tr th:only-of-type {\n",
       "        vertical-align: middle;\n",
       "    }\n",
       "\n",
       "    .dataframe tbody tr th {\n",
       "        vertical-align: top;\n",
       "    }\n",
       "\n",
       "    .dataframe thead th {\n",
       "        text-align: right;\n",
       "    }\n",
       "</style>\n",
       "<table border=\"1\" class=\"dataframe\">\n",
       "  <thead>\n",
       "    <tr style=\"text-align: right;\">\n",
       "      <th></th>\n",
       "      <th>e_above_hull</th>\n",
       "      <th>efermi</th>\n",
       "      <th>final_energy</th>\n",
       "      <th>final_energy_per_atom</th>\n",
       "      <th>formation_energy_per_atom</th>\n",
       "      <th>band_gap</th>\n",
       "      <th>band_structure</th>\n",
       "      <th>exchange_symmetry</th>\n",
       "    </tr>\n",
       "  </thead>\n",
       "  <tbody>\n",
       "    <tr>\n",
       "      <th>0</th>\n",
       "      <td>0.000000</td>\n",
       "      <td>4.015543</td>\n",
       "      <td>-24.862722</td>\n",
       "      <td>-4.972544</td>\n",
       "      <td>-0.713482</td>\n",
       "      <td>0.0000</td>\n",
       "      <td>NaN</td>\n",
       "      <td>139</td>\n",
       "    </tr>\n",
       "    <tr>\n",
       "      <th>1</th>\n",
       "      <td>0.000000</td>\n",
       "      <td>6.066451</td>\n",
       "      <td>-7.725196</td>\n",
       "      <td>-3.862598</td>\n",
       "      <td>-0.497162</td>\n",
       "      <td>0.6624</td>\n",
       "      <td>NaN</td>\n",
       "      <td>225</td>\n",
       "    </tr>\n",
       "    <tr>\n",
       "      <th>2</th>\n",
       "      <td>0.000000</td>\n",
       "      <td>4.015543</td>\n",
       "      <td>-24.862722</td>\n",
       "      <td>-4.972544</td>\n",
       "      <td>-0.713482</td>\n",
       "      <td>0.0000</td>\n",
       "      <td>NaN</td>\n",
       "      <td>139</td>\n",
       "    </tr>\n",
       "    <tr>\n",
       "      <th>3</th>\n",
       "      <td>0.000000</td>\n",
       "      <td>6.314060</td>\n",
       "      <td>-6.472687</td>\n",
       "      <td>-3.236343</td>\n",
       "      <td>-0.499851</td>\n",
       "      <td>0.0000</td>\n",
       "      <td>NaN</td>\n",
       "      <td>225</td>\n",
       "    </tr>\n",
       "    <tr>\n",
       "      <th>4</th>\n",
       "      <td>0.013441</td>\n",
       "      <td>5.202543</td>\n",
       "      <td>-55.239871</td>\n",
       "      <td>-4.603323</td>\n",
       "      <td>-0.299456</td>\n",
       "      <td>0.0154</td>\n",
       "      <td>NaN</td>\n",
       "      <td>212</td>\n",
       "    </tr>\n",
       "    <tr>\n",
       "      <th>...</th>\n",
       "      <td>...</td>\n",
       "      <td>...</td>\n",
       "      <td>...</td>\n",
       "      <td>...</td>\n",
       "      <td>...</td>\n",
       "      <td>...</td>\n",
       "      <td>...</td>\n",
       "      <td>...</td>\n",
       "    </tr>\n",
       "    <tr>\n",
       "      <th>5766</th>\n",
       "      <td>0.000000</td>\n",
       "      <td>5.393069</td>\n",
       "      <td>-69.799473</td>\n",
       "      <td>-11.633246</td>\n",
       "      <td>-0.145261</td>\n",
       "      <td>0.0000</td>\n",
       "      <td>NaN</td>\n",
       "      <td>227</td>\n",
       "    </tr>\n",
       "    <tr>\n",
       "      <th>5767</th>\n",
       "      <td>3.105420</td>\n",
       "      <td>6.666585</td>\n",
       "      <td>-40.908650</td>\n",
       "      <td>-5.113581</td>\n",
       "      <td>2.341754</td>\n",
       "      <td>0.0000</td>\n",
       "      <td>NaN</td>\n",
       "      <td>223</td>\n",
       "    </tr>\n",
       "    <tr>\n",
       "      <th>5770</th>\n",
       "      <td>0.000000</td>\n",
       "      <td>2.851722</td>\n",
       "      <td>-2.519487</td>\n",
       "      <td>-1.259744</td>\n",
       "      <td>0.000000</td>\n",
       "      <td>0.0000</td>\n",
       "      <td>NaN</td>\n",
       "      <td>194</td>\n",
       "    </tr>\n",
       "    <tr>\n",
       "      <th>5771</th>\n",
       "      <td>0.000000</td>\n",
       "      <td>3.547729</td>\n",
       "      <td>-23.949691</td>\n",
       "      <td>-3.991615</td>\n",
       "      <td>-0.302553</td>\n",
       "      <td>0.0000</td>\n",
       "      <td>NaN</td>\n",
       "      <td>227</td>\n",
       "    </tr>\n",
       "    <tr>\n",
       "      <th>5772</th>\n",
       "      <td>0.000000</td>\n",
       "      <td>4.328531</td>\n",
       "      <td>-17.095401</td>\n",
       "      <td>-8.547701</td>\n",
       "      <td>0.000000</td>\n",
       "      <td>0.0000</td>\n",
       "      <td>NaN</td>\n",
       "      <td>194</td>\n",
       "    </tr>\n",
       "  </tbody>\n",
       "</table>\n",
       "<p>3995 rows × 8 columns</p>\n",
       "</div>"
      ],
      "text/plain": [
       "      e_above_hull    efermi  final_energy  final_energy_per_atom  \\\n",
       "0         0.000000  4.015543    -24.862722              -4.972544   \n",
       "1         0.000000  6.066451     -7.725196              -3.862598   \n",
       "2         0.000000  4.015543    -24.862722              -4.972544   \n",
       "3         0.000000  6.314060     -6.472687              -3.236343   \n",
       "4         0.013441  5.202543    -55.239871              -4.603323   \n",
       "...            ...       ...           ...                    ...   \n",
       "5766      0.000000  5.393069    -69.799473             -11.633246   \n",
       "5767      3.105420  6.666585    -40.908650              -5.113581   \n",
       "5770      0.000000  2.851722     -2.519487              -1.259744   \n",
       "5771      0.000000  3.547729    -23.949691              -3.991615   \n",
       "5772      0.000000  4.328531    -17.095401              -8.547701   \n",
       "\n",
       "      formation_energy_per_atom  band_gap band_structure  exchange_symmetry  \n",
       "0                     -0.713482    0.0000            NaN                139  \n",
       "1                     -0.497162    0.6624            NaN                225  \n",
       "2                     -0.713482    0.0000            NaN                139  \n",
       "3                     -0.499851    0.0000            NaN                225  \n",
       "4                     -0.299456    0.0154            NaN                212  \n",
       "...                         ...       ...            ...                ...  \n",
       "5766                  -0.145261    0.0000            NaN                227  \n",
       "5767                   2.341754    0.0000            NaN                223  \n",
       "5770                   0.000000    0.0000            NaN                194  \n",
       "5771                  -0.302553    0.0000            NaN                227  \n",
       "5772                   0.000000    0.0000            NaN                194  \n",
       "\n",
       "[3995 rows x 8 columns]"
      ]
     },
     "execution_count": 20,
     "metadata": {},
     "output_type": "execute_result"
    }
   ],
   "source": [
    "electronic_properties = [\"e_above_hull\",\n",
    "                         \"efermi\",\n",
    "                         \"final_energy\",\n",
    "                         \"final_energy_per_atom\",\n",
    "                         \"formation_energy_per_atom\",\n",
    "                         \"band_gap\",\n",
    "                         \"band_structure\",\n",
    "                         \"exchange_symmetry\"\n",
    "                         ]\n",
    "\n",
    "df_MP_non_zero[electronic_properties]"
   ]
  },
  {
   "cell_type": "code",
   "execution_count": 21,
   "metadata": {},
   "outputs": [
    {
     "data": {
      "text/html": [
       "<div>\n",
       "<style scoped>\n",
       "    .dataframe tbody tr th:only-of-type {\n",
       "        vertical-align: middle;\n",
       "    }\n",
       "\n",
       "    .dataframe tbody tr th {\n",
       "        vertical-align: top;\n",
       "    }\n",
       "\n",
       "    .dataframe thead th {\n",
       "        text-align: right;\n",
       "    }\n",
       "</style>\n",
       "<table border=\"1\" class=\"dataframe\">\n",
       "  <thead>\n",
       "    <tr style=\"text-align: right;\">\n",
       "      <th></th>\n",
       "      <th>formula_sc</th>\n",
       "      <th>formula_similarity</th>\n",
       "      <th>totreldiff</th>\n",
       "      <th>formula_frac</th>\n",
       "      <th>correct_formula_frac</th>\n",
       "      <th>formula</th>\n",
       "      <th>orig_formula_cif</th>\n",
       "      <th>tc</th>\n",
       "      <th>sc_class</th>\n",
       "      <th>sc_class_unique_sc</th>\n",
       "      <th>...</th>\n",
       "      <th>orthorhombic</th>\n",
       "      <th>tetragonal</th>\n",
       "      <th>triclinic</th>\n",
       "      <th>trigonal</th>\n",
       "      <th>primitive</th>\n",
       "      <th>base-centered</th>\n",
       "      <th>body-centered</th>\n",
       "      <th>face-centered</th>\n",
       "      <th>weight</th>\n",
       "      <th>sc_class_name</th>\n",
       "    </tr>\n",
       "  </thead>\n",
       "  <tbody>\n",
       "    <tr>\n",
       "      <th>116</th>\n",
       "      <td>Al0.3Cr0.7</td>\n",
       "      <td>3</td>\n",
       "      <td>0.066667</td>\n",
       "      <td>3.0</td>\n",
       "      <td>False</td>\n",
       "      <td>Al0.9Cr2.1</td>\n",
       "      <td>Al1Cr2</td>\n",
       "      <td>0.0</td>\n",
       "      <td>Not_supercon</td>\n",
       "      <td>True</td>\n",
       "      <td>...</td>\n",
       "      <td>0</td>\n",
       "      <td>7</td>\n",
       "      <td>0</td>\n",
       "      <td>0</td>\n",
       "      <td>0</td>\n",
       "      <td>0</td>\n",
       "      <td>1</td>\n",
       "      <td>0</td>\n",
       "      <td>1.0</td>\n",
       "      <td>Not Superconductor</td>\n",
       "    </tr>\n",
       "    <tr>\n",
       "      <th>1044</th>\n",
       "      <td>B1Pt1</td>\n",
       "      <td>1</td>\n",
       "      <td>0.000000</td>\n",
       "      <td>2.0</td>\n",
       "      <td>False</td>\n",
       "      <td>B2Pt2</td>\n",
       "      <td>B2Pt2</td>\n",
       "      <td>0.0</td>\n",
       "      <td>Not_supercon</td>\n",
       "      <td>True</td>\n",
       "      <td>...</td>\n",
       "      <td>0</td>\n",
       "      <td>0</td>\n",
       "      <td>0</td>\n",
       "      <td>0</td>\n",
       "      <td>1</td>\n",
       "      <td>0</td>\n",
       "      <td>0</td>\n",
       "      <td>0</td>\n",
       "      <td>1.0</td>\n",
       "      <td>Not Superconductor</td>\n",
       "    </tr>\n",
       "    <tr>\n",
       "      <th>4699</th>\n",
       "      <td>Li0.33V2O5</td>\n",
       "      <td>2</td>\n",
       "      <td>0.000868</td>\n",
       "      <td>12.0</td>\n",
       "      <td>False</td>\n",
       "      <td>Li3.96V24O60</td>\n",
       "      <td>Li4V24O60</td>\n",
       "      <td>8.5</td>\n",
       "      <td>Oxide</td>\n",
       "      <td>True</td>\n",
       "      <td>...</td>\n",
       "      <td>0</td>\n",
       "      <td>0</td>\n",
       "      <td>0</td>\n",
       "      <td>0</td>\n",
       "      <td>1</td>\n",
       "      <td>0</td>\n",
       "      <td>0</td>\n",
       "      <td>0</td>\n",
       "      <td>1.0</td>\n",
       "      <td>Oxide</td>\n",
       "    </tr>\n",
       "  </tbody>\n",
       "</table>\n",
       "<p>3 rows × 93 columns</p>\n",
       "</div>"
      ],
      "text/plain": [
       "      formula_sc  formula_similarity  totreldiff  formula_frac  \\\n",
       "116   Al0.3Cr0.7                   3    0.066667           3.0   \n",
       "1044       B1Pt1                   1    0.000000           2.0   \n",
       "4699  Li0.33V2O5                   2    0.000868          12.0   \n",
       "\n",
       "      correct_formula_frac       formula orig_formula_cif   tc      sc_class  \\\n",
       "116                  False    Al0.9Cr2.1           Al1Cr2  0.0  Not_supercon   \n",
       "1044                 False         B2Pt2            B2Pt2  0.0  Not_supercon   \n",
       "4699                 False  Li3.96V24O60        Li4V24O60  8.5         Oxide   \n",
       "\n",
       "      sc_class_unique_sc  ... orthorhombic tetragonal  triclinic trigonal  \\\n",
       "116                 True  ...            0          7          0        0   \n",
       "1044                True  ...            0          0          0        0   \n",
       "4699                True  ...            0          0          0        0   \n",
       "\n",
       "     primitive base-centered body-centered face-centered weight  \\\n",
       "116          0             0             1             0    1.0   \n",
       "1044         1             0             0             0    1.0   \n",
       "4699         1             0             0             0    1.0   \n",
       "\n",
       "           sc_class_name  \n",
       "116   Not Superconductor  \n",
       "1044  Not Superconductor  \n",
       "4699               Oxide  \n",
       "\n",
       "[3 rows x 93 columns]"
      ]
     },
     "execution_count": 21,
     "metadata": {},
     "output_type": "execute_result"
    }
   ],
   "source": [
    "df_MP[df_MP[\"band_structure\"].notna()]"
   ]
  },
  {
   "cell_type": "code",
   "execution_count": 22,
   "metadata": {},
   "outputs": [
    {
     "data": {
      "application/vnd.plotly.v1+json": {
       "config": {
        "plotlyServerURL": "https://plot.ly"
       },
       "data": [
        {
         "colorbar": {
          "ticktext": [
           -1,
           -0.5,
           0,
           0.5,
           1
          ],
          "tickvals": [
           -1,
           -0.5,
           0,
           0.5,
           1
          ],
          "title": {
           "side": "right",
           "text": "Pearson Coefficient"
          }
         },
         "colorscale": [
          [
           0,
           "#440154"
          ],
          [
           0.1111111111111111,
           "#482878"
          ],
          [
           0.2222222222222222,
           "#3e4989"
          ],
          [
           0.3333333333333333,
           "#31688e"
          ],
          [
           0.4444444444444444,
           "#26828e"
          ],
          [
           0.5555555555555556,
           "#1f9e89"
          ],
          [
           0.6666666666666666,
           "#35b779"
          ],
          [
           0.7777777777777778,
           "#6ece58"
          ],
          [
           0.8888888888888888,
           "#b5de2b"
          ],
          [
           1,
           "#fde725"
          ]
         ],
         "text": [
          [
           1,
           -0.16,
           0.02,
           -0.01,
           0.16,
           -0.03,
           -0.03,
           0
          ],
          [
           -0.16,
           1,
           0.07,
           -0.36,
           0.33,
           -0.19,
           0.25,
           -0.42
          ],
          [
           0.02,
           0.07,
           1,
           0.19,
           0.18,
           -0.01,
           0.25,
           -0.13
          ],
          [
           -0.01,
           -0.36,
           0.19,
           1,
           -0.02,
           0.09,
           -0.05,
           0.09
          ],
          [
           0.16,
           0.33,
           0.18,
           -0.02,
           1,
           -0.06,
           0.31,
           -0.5
          ],
          [
           -0.03,
           -0.19,
           -0.01,
           0.09,
           -0.06,
           1,
           0.01,
           -0.04
          ],
          [
           -0.03,
           0.25,
           0.25,
           -0.05,
           0.31,
           0.01,
           1,
           -0.31
          ],
          [
           0,
           -0.42,
           -0.13,
           0.09,
           -0.5,
           -0.04,
           -0.31,
           1
          ]
         ],
         "textfont": {
          "size": 14
         },
         "texttemplate": "%{text}",
         "type": "heatmap",
         "x": [
          "e_above_hull",
          "efermi",
          "final_energy",
          "final_energy_per_atom",
          "formation_energy_per_atom",
          "band_gap",
          "exchange_symmetry",
          "tc"
         ],
         "y": [
          "e_above_hull",
          "efermi",
          "final_energy",
          "final_energy_per_atom",
          "formation_energy_per_atom",
          "band_gap",
          "exchange_symmetry",
          "tc"
         ],
         "z": [
          [
           1,
           -0.16,
           0.02,
           -0.01,
           0.16,
           -0.03,
           -0.03,
           0
          ],
          [
           -0.16,
           1,
           0.07,
           -0.36,
           0.33,
           -0.19,
           0.25,
           -0.42
          ],
          [
           0.02,
           0.07,
           1,
           0.19,
           0.18,
           -0.01,
           0.25,
           -0.13
          ],
          [
           -0.01,
           -0.36,
           0.19,
           1,
           -0.02,
           0.09,
           -0.05,
           0.09
          ],
          [
           0.16,
           0.33,
           0.18,
           -0.02,
           1,
           -0.06,
           0.31,
           -0.5
          ],
          [
           -0.03,
           -0.19,
           -0.01,
           0.09,
           -0.06,
           1,
           0.01,
           -0.04
          ],
          [
           -0.03,
           0.25,
           0.25,
           -0.05,
           0.31,
           0.01,
           1,
           -0.31
          ],
          [
           0,
           -0.42,
           -0.13,
           0.09,
           -0.5,
           -0.04,
           -0.31,
           1
          ]
         ]
        }
       ],
       "layout": {
        "font": {
         "color": "black",
         "family": "Helvetica",
         "size": 16
        },
        "height": 600,
        "margin": {
         "b": 5,
         "l": 5,
         "r": 5,
         "t": 10
        },
        "paper_bgcolor": "white",
        "plot_bgcolor": "white",
        "template": {
         "data": {
          "bar": [
           {
            "error_x": {
             "color": "#2a3f5f"
            },
            "error_y": {
             "color": "#2a3f5f"
            },
            "marker": {
             "line": {
              "color": "#E5ECF6",
              "width": 0.5
             },
             "pattern": {
              "fillmode": "overlay",
              "size": 10,
              "solidity": 0.2
             }
            },
            "type": "bar"
           }
          ],
          "barpolar": [
           {
            "marker": {
             "line": {
              "color": "#E5ECF6",
              "width": 0.5
             },
             "pattern": {
              "fillmode": "overlay",
              "size": 10,
              "solidity": 0.2
             }
            },
            "type": "barpolar"
           }
          ],
          "carpet": [
           {
            "aaxis": {
             "endlinecolor": "#2a3f5f",
             "gridcolor": "white",
             "linecolor": "white",
             "minorgridcolor": "white",
             "startlinecolor": "#2a3f5f"
            },
            "baxis": {
             "endlinecolor": "#2a3f5f",
             "gridcolor": "white",
             "linecolor": "white",
             "minorgridcolor": "white",
             "startlinecolor": "#2a3f5f"
            },
            "type": "carpet"
           }
          ],
          "choropleth": [
           {
            "colorbar": {
             "outlinewidth": 0,
             "ticks": ""
            },
            "type": "choropleth"
           }
          ],
          "contour": [
           {
            "colorbar": {
             "outlinewidth": 0,
             "ticks": ""
            },
            "colorscale": [
             [
              0,
              "#0d0887"
             ],
             [
              0.1111111111111111,
              "#46039f"
             ],
             [
              0.2222222222222222,
              "#7201a8"
             ],
             [
              0.3333333333333333,
              "#9c179e"
             ],
             [
              0.4444444444444444,
              "#bd3786"
             ],
             [
              0.5555555555555556,
              "#d8576b"
             ],
             [
              0.6666666666666666,
              "#ed7953"
             ],
             [
              0.7777777777777778,
              "#fb9f3a"
             ],
             [
              0.8888888888888888,
              "#fdca26"
             ],
             [
              1,
              "#f0f921"
             ]
            ],
            "type": "contour"
           }
          ],
          "contourcarpet": [
           {
            "colorbar": {
             "outlinewidth": 0,
             "ticks": ""
            },
            "type": "contourcarpet"
           }
          ],
          "heatmap": [
           {
            "colorbar": {
             "outlinewidth": 0,
             "ticks": ""
            },
            "colorscale": [
             [
              0,
              "#0d0887"
             ],
             [
              0.1111111111111111,
              "#46039f"
             ],
             [
              0.2222222222222222,
              "#7201a8"
             ],
             [
              0.3333333333333333,
              "#9c179e"
             ],
             [
              0.4444444444444444,
              "#bd3786"
             ],
             [
              0.5555555555555556,
              "#d8576b"
             ],
             [
              0.6666666666666666,
              "#ed7953"
             ],
             [
              0.7777777777777778,
              "#fb9f3a"
             ],
             [
              0.8888888888888888,
              "#fdca26"
             ],
             [
              1,
              "#f0f921"
             ]
            ],
            "type": "heatmap"
           }
          ],
          "heatmapgl": [
           {
            "colorbar": {
             "outlinewidth": 0,
             "ticks": ""
            },
            "colorscale": [
             [
              0,
              "#0d0887"
             ],
             [
              0.1111111111111111,
              "#46039f"
             ],
             [
              0.2222222222222222,
              "#7201a8"
             ],
             [
              0.3333333333333333,
              "#9c179e"
             ],
             [
              0.4444444444444444,
              "#bd3786"
             ],
             [
              0.5555555555555556,
              "#d8576b"
             ],
             [
              0.6666666666666666,
              "#ed7953"
             ],
             [
              0.7777777777777778,
              "#fb9f3a"
             ],
             [
              0.8888888888888888,
              "#fdca26"
             ],
             [
              1,
              "#f0f921"
             ]
            ],
            "type": "heatmapgl"
           }
          ],
          "histogram": [
           {
            "marker": {
             "pattern": {
              "fillmode": "overlay",
              "size": 10,
              "solidity": 0.2
             }
            },
            "type": "histogram"
           }
          ],
          "histogram2d": [
           {
            "colorbar": {
             "outlinewidth": 0,
             "ticks": ""
            },
            "colorscale": [
             [
              0,
              "#0d0887"
             ],
             [
              0.1111111111111111,
              "#46039f"
             ],
             [
              0.2222222222222222,
              "#7201a8"
             ],
             [
              0.3333333333333333,
              "#9c179e"
             ],
             [
              0.4444444444444444,
              "#bd3786"
             ],
             [
              0.5555555555555556,
              "#d8576b"
             ],
             [
              0.6666666666666666,
              "#ed7953"
             ],
             [
              0.7777777777777778,
              "#fb9f3a"
             ],
             [
              0.8888888888888888,
              "#fdca26"
             ],
             [
              1,
              "#f0f921"
             ]
            ],
            "type": "histogram2d"
           }
          ],
          "histogram2dcontour": [
           {
            "colorbar": {
             "outlinewidth": 0,
             "ticks": ""
            },
            "colorscale": [
             [
              0,
              "#0d0887"
             ],
             [
              0.1111111111111111,
              "#46039f"
             ],
             [
              0.2222222222222222,
              "#7201a8"
             ],
             [
              0.3333333333333333,
              "#9c179e"
             ],
             [
              0.4444444444444444,
              "#bd3786"
             ],
             [
              0.5555555555555556,
              "#d8576b"
             ],
             [
              0.6666666666666666,
              "#ed7953"
             ],
             [
              0.7777777777777778,
              "#fb9f3a"
             ],
             [
              0.8888888888888888,
              "#fdca26"
             ],
             [
              1,
              "#f0f921"
             ]
            ],
            "type": "histogram2dcontour"
           }
          ],
          "mesh3d": [
           {
            "colorbar": {
             "outlinewidth": 0,
             "ticks": ""
            },
            "type": "mesh3d"
           }
          ],
          "parcoords": [
           {
            "line": {
             "colorbar": {
              "outlinewidth": 0,
              "ticks": ""
             }
            },
            "type": "parcoords"
           }
          ],
          "pie": [
           {
            "automargin": true,
            "type": "pie"
           }
          ],
          "scatter": [
           {
            "fillpattern": {
             "fillmode": "overlay",
             "size": 10,
             "solidity": 0.2
            },
            "type": "scatter"
           }
          ],
          "scatter3d": [
           {
            "line": {
             "colorbar": {
              "outlinewidth": 0,
              "ticks": ""
             }
            },
            "marker": {
             "colorbar": {
              "outlinewidth": 0,
              "ticks": ""
             }
            },
            "type": "scatter3d"
           }
          ],
          "scattercarpet": [
           {
            "marker": {
             "colorbar": {
              "outlinewidth": 0,
              "ticks": ""
             }
            },
            "type": "scattercarpet"
           }
          ],
          "scattergeo": [
           {
            "marker": {
             "colorbar": {
              "outlinewidth": 0,
              "ticks": ""
             }
            },
            "type": "scattergeo"
           }
          ],
          "scattergl": [
           {
            "marker": {
             "colorbar": {
              "outlinewidth": 0,
              "ticks": ""
             }
            },
            "type": "scattergl"
           }
          ],
          "scattermapbox": [
           {
            "marker": {
             "colorbar": {
              "outlinewidth": 0,
              "ticks": ""
             }
            },
            "type": "scattermapbox"
           }
          ],
          "scatterpolar": [
           {
            "marker": {
             "colorbar": {
              "outlinewidth": 0,
              "ticks": ""
             }
            },
            "type": "scatterpolar"
           }
          ],
          "scatterpolargl": [
           {
            "marker": {
             "colorbar": {
              "outlinewidth": 0,
              "ticks": ""
             }
            },
            "type": "scatterpolargl"
           }
          ],
          "scatterternary": [
           {
            "marker": {
             "colorbar": {
              "outlinewidth": 0,
              "ticks": ""
             }
            },
            "type": "scatterternary"
           }
          ],
          "surface": [
           {
            "colorbar": {
             "outlinewidth": 0,
             "ticks": ""
            },
            "colorscale": [
             [
              0,
              "#0d0887"
             ],
             [
              0.1111111111111111,
              "#46039f"
             ],
             [
              0.2222222222222222,
              "#7201a8"
             ],
             [
              0.3333333333333333,
              "#9c179e"
             ],
             [
              0.4444444444444444,
              "#bd3786"
             ],
             [
              0.5555555555555556,
              "#d8576b"
             ],
             [
              0.6666666666666666,
              "#ed7953"
             ],
             [
              0.7777777777777778,
              "#fb9f3a"
             ],
             [
              0.8888888888888888,
              "#fdca26"
             ],
             [
              1,
              "#f0f921"
             ]
            ],
            "type": "surface"
           }
          ],
          "table": [
           {
            "cells": {
             "fill": {
              "color": "#EBF0F8"
             },
             "line": {
              "color": "white"
             }
            },
            "header": {
             "fill": {
              "color": "#C8D4E3"
             },
             "line": {
              "color": "white"
             }
            },
            "type": "table"
           }
          ]
         },
         "layout": {
          "annotationdefaults": {
           "arrowcolor": "#2a3f5f",
           "arrowhead": 0,
           "arrowwidth": 1
          },
          "autotypenumbers": "strict",
          "coloraxis": {
           "colorbar": {
            "outlinewidth": 0,
            "ticks": ""
           }
          },
          "colorscale": {
           "diverging": [
            [
             0,
             "#8e0152"
            ],
            [
             0.1,
             "#c51b7d"
            ],
            [
             0.2,
             "#de77ae"
            ],
            [
             0.3,
             "#f1b6da"
            ],
            [
             0.4,
             "#fde0ef"
            ],
            [
             0.5,
             "#f7f7f7"
            ],
            [
             0.6,
             "#e6f5d0"
            ],
            [
             0.7,
             "#b8e186"
            ],
            [
             0.8,
             "#7fbc41"
            ],
            [
             0.9,
             "#4d9221"
            ],
            [
             1,
             "#276419"
            ]
           ],
           "sequential": [
            [
             0,
             "#0d0887"
            ],
            [
             0.1111111111111111,
             "#46039f"
            ],
            [
             0.2222222222222222,
             "#7201a8"
            ],
            [
             0.3333333333333333,
             "#9c179e"
            ],
            [
             0.4444444444444444,
             "#bd3786"
            ],
            [
             0.5555555555555556,
             "#d8576b"
            ],
            [
             0.6666666666666666,
             "#ed7953"
            ],
            [
             0.7777777777777778,
             "#fb9f3a"
            ],
            [
             0.8888888888888888,
             "#fdca26"
            ],
            [
             1,
             "#f0f921"
            ]
           ],
           "sequentialminus": [
            [
             0,
             "#0d0887"
            ],
            [
             0.1111111111111111,
             "#46039f"
            ],
            [
             0.2222222222222222,
             "#7201a8"
            ],
            [
             0.3333333333333333,
             "#9c179e"
            ],
            [
             0.4444444444444444,
             "#bd3786"
            ],
            [
             0.5555555555555556,
             "#d8576b"
            ],
            [
             0.6666666666666666,
             "#ed7953"
            ],
            [
             0.7777777777777778,
             "#fb9f3a"
            ],
            [
             0.8888888888888888,
             "#fdca26"
            ],
            [
             1,
             "#f0f921"
            ]
           ]
          },
          "colorway": [
           "#636efa",
           "#EF553B",
           "#00cc96",
           "#ab63fa",
           "#FFA15A",
           "#19d3f3",
           "#FF6692",
           "#B6E880",
           "#FF97FF",
           "#FECB52"
          ],
          "font": {
           "color": "#2a3f5f"
          },
          "geo": {
           "bgcolor": "white",
           "lakecolor": "white",
           "landcolor": "#E5ECF6",
           "showlakes": true,
           "showland": true,
           "subunitcolor": "white"
          },
          "hoverlabel": {
           "align": "left"
          },
          "hovermode": "closest",
          "mapbox": {
           "style": "light"
          },
          "paper_bgcolor": "white",
          "plot_bgcolor": "#E5ECF6",
          "polar": {
           "angularaxis": {
            "gridcolor": "white",
            "linecolor": "white",
            "ticks": ""
           },
           "bgcolor": "#E5ECF6",
           "radialaxis": {
            "gridcolor": "white",
            "linecolor": "white",
            "ticks": ""
           }
          },
          "scene": {
           "xaxis": {
            "backgroundcolor": "#E5ECF6",
            "gridcolor": "white",
            "gridwidth": 2,
            "linecolor": "white",
            "showbackground": true,
            "ticks": "",
            "zerolinecolor": "white"
           },
           "yaxis": {
            "backgroundcolor": "#E5ECF6",
            "gridcolor": "white",
            "gridwidth": 2,
            "linecolor": "white",
            "showbackground": true,
            "ticks": "",
            "zerolinecolor": "white"
           },
           "zaxis": {
            "backgroundcolor": "#E5ECF6",
            "gridcolor": "white",
            "gridwidth": 2,
            "linecolor": "white",
            "showbackground": true,
            "ticks": "",
            "zerolinecolor": "white"
           }
          },
          "shapedefaults": {
           "line": {
            "color": "#2a3f5f"
           }
          },
          "ternary": {
           "aaxis": {
            "gridcolor": "white",
            "linecolor": "white",
            "ticks": ""
           },
           "baxis": {
            "gridcolor": "white",
            "linecolor": "white",
            "ticks": ""
           },
           "bgcolor": "#E5ECF6",
           "caxis": {
            "gridcolor": "white",
            "linecolor": "white",
            "ticks": ""
           }
          },
          "title": {
           "x": 0.05
          },
          "xaxis": {
           "automargin": true,
           "gridcolor": "white",
           "linecolor": "white",
           "ticks": "",
           "title": {
            "standoff": 15
           },
           "zerolinecolor": "white",
           "zerolinewidth": 2
          },
          "yaxis": {
           "automargin": true,
           "gridcolor": "white",
           "linecolor": "white",
           "ticks": "",
           "title": {
            "standoff": 15
           },
           "zerolinecolor": "white",
           "zerolinewidth": 2
          }
         }
        },
        "width": 800,
        "xaxis": {
         "linecolor": "black",
         "linewidth": 2,
         "showline": true,
         "ticklen": 5,
         "ticks": "inside",
         "tickwidth": 2,
         "title": {
          "text": ""
         }
        },
        "yaxis": {
         "linecolor": "black",
         "linewidth": 2,
         "showline": true,
         "ticklen": 5,
         "ticks": "inside",
         "tickwidth": 2,
         "title": {
          "text": ""
         }
        }
       }
      }
     },
     "metadata": {},
     "output_type": "display_data"
    }
   ],
   "source": [
    "corr_matrix(df_MP_non_zero, electronic_properties, 800, 600, 14)"
   ]
  },
  {
   "cell_type": "markdown",
   "metadata": {},
   "source": [
    "## Magnetic"
   ]
  },
  {
   "cell_type": "code",
   "execution_count": 23,
   "metadata": {},
   "outputs": [
    {
     "data": {
      "application/vnd.plotly.v1+json": {
       "config": {
        "plotlyServerURL": "https://plot.ly"
       },
       "data": [
        {
         "marker": {
          "color": "rgb(33, 145, 140)"
         },
         "text": [
          "80.84%",
          "16.92%",
          "1.77%",
          "0.47%"
         ],
         "textposition": "auto",
         "type": "bar",
         "x": [
          "Not Magnetic",
          "Ferromagnetic  ",
          "Ferrimagnetic",
          "Anti-ferrimagnetic"
         ],
         "y": [
          4667,
          977,
          102,
          27
         ]
        }
       ],
       "layout": {
        "font": {
         "color": "black",
         "family": "Helvetica",
         "size": 16
        },
        "height": 500,
        "margin": {
         "b": 10,
         "l": 10,
         "r": 10,
         "t": 10
        },
        "paper_bgcolor": "white",
        "plot_bgcolor": "white",
        "template": {
         "data": {
          "bar": [
           {
            "error_x": {
             "color": "#2a3f5f"
            },
            "error_y": {
             "color": "#2a3f5f"
            },
            "marker": {
             "line": {
              "color": "#E5ECF6",
              "width": 0.5
             },
             "pattern": {
              "fillmode": "overlay",
              "size": 10,
              "solidity": 0.2
             }
            },
            "type": "bar"
           }
          ],
          "barpolar": [
           {
            "marker": {
             "line": {
              "color": "#E5ECF6",
              "width": 0.5
             },
             "pattern": {
              "fillmode": "overlay",
              "size": 10,
              "solidity": 0.2
             }
            },
            "type": "barpolar"
           }
          ],
          "carpet": [
           {
            "aaxis": {
             "endlinecolor": "#2a3f5f",
             "gridcolor": "white",
             "linecolor": "white",
             "minorgridcolor": "white",
             "startlinecolor": "#2a3f5f"
            },
            "baxis": {
             "endlinecolor": "#2a3f5f",
             "gridcolor": "white",
             "linecolor": "white",
             "minorgridcolor": "white",
             "startlinecolor": "#2a3f5f"
            },
            "type": "carpet"
           }
          ],
          "choropleth": [
           {
            "colorbar": {
             "outlinewidth": 0,
             "ticks": ""
            },
            "type": "choropleth"
           }
          ],
          "contour": [
           {
            "colorbar": {
             "outlinewidth": 0,
             "ticks": ""
            },
            "colorscale": [
             [
              0,
              "#0d0887"
             ],
             [
              0.1111111111111111,
              "#46039f"
             ],
             [
              0.2222222222222222,
              "#7201a8"
             ],
             [
              0.3333333333333333,
              "#9c179e"
             ],
             [
              0.4444444444444444,
              "#bd3786"
             ],
             [
              0.5555555555555556,
              "#d8576b"
             ],
             [
              0.6666666666666666,
              "#ed7953"
             ],
             [
              0.7777777777777778,
              "#fb9f3a"
             ],
             [
              0.8888888888888888,
              "#fdca26"
             ],
             [
              1,
              "#f0f921"
             ]
            ],
            "type": "contour"
           }
          ],
          "contourcarpet": [
           {
            "colorbar": {
             "outlinewidth": 0,
             "ticks": ""
            },
            "type": "contourcarpet"
           }
          ],
          "heatmap": [
           {
            "colorbar": {
             "outlinewidth": 0,
             "ticks": ""
            },
            "colorscale": [
             [
              0,
              "#0d0887"
             ],
             [
              0.1111111111111111,
              "#46039f"
             ],
             [
              0.2222222222222222,
              "#7201a8"
             ],
             [
              0.3333333333333333,
              "#9c179e"
             ],
             [
              0.4444444444444444,
              "#bd3786"
             ],
             [
              0.5555555555555556,
              "#d8576b"
             ],
             [
              0.6666666666666666,
              "#ed7953"
             ],
             [
              0.7777777777777778,
              "#fb9f3a"
             ],
             [
              0.8888888888888888,
              "#fdca26"
             ],
             [
              1,
              "#f0f921"
             ]
            ],
            "type": "heatmap"
           }
          ],
          "heatmapgl": [
           {
            "colorbar": {
             "outlinewidth": 0,
             "ticks": ""
            },
            "colorscale": [
             [
              0,
              "#0d0887"
             ],
             [
              0.1111111111111111,
              "#46039f"
             ],
             [
              0.2222222222222222,
              "#7201a8"
             ],
             [
              0.3333333333333333,
              "#9c179e"
             ],
             [
              0.4444444444444444,
              "#bd3786"
             ],
             [
              0.5555555555555556,
              "#d8576b"
             ],
             [
              0.6666666666666666,
              "#ed7953"
             ],
             [
              0.7777777777777778,
              "#fb9f3a"
             ],
             [
              0.8888888888888888,
              "#fdca26"
             ],
             [
              1,
              "#f0f921"
             ]
            ],
            "type": "heatmapgl"
           }
          ],
          "histogram": [
           {
            "marker": {
             "pattern": {
              "fillmode": "overlay",
              "size": 10,
              "solidity": 0.2
             }
            },
            "type": "histogram"
           }
          ],
          "histogram2d": [
           {
            "colorbar": {
             "outlinewidth": 0,
             "ticks": ""
            },
            "colorscale": [
             [
              0,
              "#0d0887"
             ],
             [
              0.1111111111111111,
              "#46039f"
             ],
             [
              0.2222222222222222,
              "#7201a8"
             ],
             [
              0.3333333333333333,
              "#9c179e"
             ],
             [
              0.4444444444444444,
              "#bd3786"
             ],
             [
              0.5555555555555556,
              "#d8576b"
             ],
             [
              0.6666666666666666,
              "#ed7953"
             ],
             [
              0.7777777777777778,
              "#fb9f3a"
             ],
             [
              0.8888888888888888,
              "#fdca26"
             ],
             [
              1,
              "#f0f921"
             ]
            ],
            "type": "histogram2d"
           }
          ],
          "histogram2dcontour": [
           {
            "colorbar": {
             "outlinewidth": 0,
             "ticks": ""
            },
            "colorscale": [
             [
              0,
              "#0d0887"
             ],
             [
              0.1111111111111111,
              "#46039f"
             ],
             [
              0.2222222222222222,
              "#7201a8"
             ],
             [
              0.3333333333333333,
              "#9c179e"
             ],
             [
              0.4444444444444444,
              "#bd3786"
             ],
             [
              0.5555555555555556,
              "#d8576b"
             ],
             [
              0.6666666666666666,
              "#ed7953"
             ],
             [
              0.7777777777777778,
              "#fb9f3a"
             ],
             [
              0.8888888888888888,
              "#fdca26"
             ],
             [
              1,
              "#f0f921"
             ]
            ],
            "type": "histogram2dcontour"
           }
          ],
          "mesh3d": [
           {
            "colorbar": {
             "outlinewidth": 0,
             "ticks": ""
            },
            "type": "mesh3d"
           }
          ],
          "parcoords": [
           {
            "line": {
             "colorbar": {
              "outlinewidth": 0,
              "ticks": ""
             }
            },
            "type": "parcoords"
           }
          ],
          "pie": [
           {
            "automargin": true,
            "type": "pie"
           }
          ],
          "scatter": [
           {
            "fillpattern": {
             "fillmode": "overlay",
             "size": 10,
             "solidity": 0.2
            },
            "type": "scatter"
           }
          ],
          "scatter3d": [
           {
            "line": {
             "colorbar": {
              "outlinewidth": 0,
              "ticks": ""
             }
            },
            "marker": {
             "colorbar": {
              "outlinewidth": 0,
              "ticks": ""
             }
            },
            "type": "scatter3d"
           }
          ],
          "scattercarpet": [
           {
            "marker": {
             "colorbar": {
              "outlinewidth": 0,
              "ticks": ""
             }
            },
            "type": "scattercarpet"
           }
          ],
          "scattergeo": [
           {
            "marker": {
             "colorbar": {
              "outlinewidth": 0,
              "ticks": ""
             }
            },
            "type": "scattergeo"
           }
          ],
          "scattergl": [
           {
            "marker": {
             "colorbar": {
              "outlinewidth": 0,
              "ticks": ""
             }
            },
            "type": "scattergl"
           }
          ],
          "scattermapbox": [
           {
            "marker": {
             "colorbar": {
              "outlinewidth": 0,
              "ticks": ""
             }
            },
            "type": "scattermapbox"
           }
          ],
          "scatterpolar": [
           {
            "marker": {
             "colorbar": {
              "outlinewidth": 0,
              "ticks": ""
             }
            },
            "type": "scatterpolar"
           }
          ],
          "scatterpolargl": [
           {
            "marker": {
             "colorbar": {
              "outlinewidth": 0,
              "ticks": ""
             }
            },
            "type": "scatterpolargl"
           }
          ],
          "scatterternary": [
           {
            "marker": {
             "colorbar": {
              "outlinewidth": 0,
              "ticks": ""
             }
            },
            "type": "scatterternary"
           }
          ],
          "surface": [
           {
            "colorbar": {
             "outlinewidth": 0,
             "ticks": ""
            },
            "colorscale": [
             [
              0,
              "#0d0887"
             ],
             [
              0.1111111111111111,
              "#46039f"
             ],
             [
              0.2222222222222222,
              "#7201a8"
             ],
             [
              0.3333333333333333,
              "#9c179e"
             ],
             [
              0.4444444444444444,
              "#bd3786"
             ],
             [
              0.5555555555555556,
              "#d8576b"
             ],
             [
              0.6666666666666666,
              "#ed7953"
             ],
             [
              0.7777777777777778,
              "#fb9f3a"
             ],
             [
              0.8888888888888888,
              "#fdca26"
             ],
             [
              1,
              "#f0f921"
             ]
            ],
            "type": "surface"
           }
          ],
          "table": [
           {
            "cells": {
             "fill": {
              "color": "#EBF0F8"
             },
             "line": {
              "color": "white"
             }
            },
            "header": {
             "fill": {
              "color": "#C8D4E3"
             },
             "line": {
              "color": "white"
             }
            },
            "type": "table"
           }
          ]
         },
         "layout": {
          "annotationdefaults": {
           "arrowcolor": "#2a3f5f",
           "arrowhead": 0,
           "arrowwidth": 1
          },
          "autotypenumbers": "strict",
          "coloraxis": {
           "colorbar": {
            "outlinewidth": 0,
            "ticks": ""
           }
          },
          "colorscale": {
           "diverging": [
            [
             0,
             "#8e0152"
            ],
            [
             0.1,
             "#c51b7d"
            ],
            [
             0.2,
             "#de77ae"
            ],
            [
             0.3,
             "#f1b6da"
            ],
            [
             0.4,
             "#fde0ef"
            ],
            [
             0.5,
             "#f7f7f7"
            ],
            [
             0.6,
             "#e6f5d0"
            ],
            [
             0.7,
             "#b8e186"
            ],
            [
             0.8,
             "#7fbc41"
            ],
            [
             0.9,
             "#4d9221"
            ],
            [
             1,
             "#276419"
            ]
           ],
           "sequential": [
            [
             0,
             "#0d0887"
            ],
            [
             0.1111111111111111,
             "#46039f"
            ],
            [
             0.2222222222222222,
             "#7201a8"
            ],
            [
             0.3333333333333333,
             "#9c179e"
            ],
            [
             0.4444444444444444,
             "#bd3786"
            ],
            [
             0.5555555555555556,
             "#d8576b"
            ],
            [
             0.6666666666666666,
             "#ed7953"
            ],
            [
             0.7777777777777778,
             "#fb9f3a"
            ],
            [
             0.8888888888888888,
             "#fdca26"
            ],
            [
             1,
             "#f0f921"
            ]
           ],
           "sequentialminus": [
            [
             0,
             "#0d0887"
            ],
            [
             0.1111111111111111,
             "#46039f"
            ],
            [
             0.2222222222222222,
             "#7201a8"
            ],
            [
             0.3333333333333333,
             "#9c179e"
            ],
            [
             0.4444444444444444,
             "#bd3786"
            ],
            [
             0.5555555555555556,
             "#d8576b"
            ],
            [
             0.6666666666666666,
             "#ed7953"
            ],
            [
             0.7777777777777778,
             "#fb9f3a"
            ],
            [
             0.8888888888888888,
             "#fdca26"
            ],
            [
             1,
             "#f0f921"
            ]
           ]
          },
          "colorway": [
           "#636efa",
           "#EF553B",
           "#00cc96",
           "#ab63fa",
           "#FFA15A",
           "#19d3f3",
           "#FF6692",
           "#B6E880",
           "#FF97FF",
           "#FECB52"
          ],
          "font": {
           "color": "#2a3f5f"
          },
          "geo": {
           "bgcolor": "white",
           "lakecolor": "white",
           "landcolor": "#E5ECF6",
           "showlakes": true,
           "showland": true,
           "subunitcolor": "white"
          },
          "hoverlabel": {
           "align": "left"
          },
          "hovermode": "closest",
          "mapbox": {
           "style": "light"
          },
          "paper_bgcolor": "white",
          "plot_bgcolor": "#E5ECF6",
          "polar": {
           "angularaxis": {
            "gridcolor": "white",
            "linecolor": "white",
            "ticks": ""
           },
           "bgcolor": "#E5ECF6",
           "radialaxis": {
            "gridcolor": "white",
            "linecolor": "white",
            "ticks": ""
           }
          },
          "scene": {
           "xaxis": {
            "backgroundcolor": "#E5ECF6",
            "gridcolor": "white",
            "gridwidth": 2,
            "linecolor": "white",
            "showbackground": true,
            "ticks": "",
            "zerolinecolor": "white"
           },
           "yaxis": {
            "backgroundcolor": "#E5ECF6",
            "gridcolor": "white",
            "gridwidth": 2,
            "linecolor": "white",
            "showbackground": true,
            "ticks": "",
            "zerolinecolor": "white"
           },
           "zaxis": {
            "backgroundcolor": "#E5ECF6",
            "gridcolor": "white",
            "gridwidth": 2,
            "linecolor": "white",
            "showbackground": true,
            "ticks": "",
            "zerolinecolor": "white"
           }
          },
          "shapedefaults": {
           "line": {
            "color": "#2a3f5f"
           }
          },
          "ternary": {
           "aaxis": {
            "gridcolor": "white",
            "linecolor": "white",
            "ticks": ""
           },
           "baxis": {
            "gridcolor": "white",
            "linecolor": "white",
            "ticks": ""
           },
           "bgcolor": "#E5ECF6",
           "caxis": {
            "gridcolor": "white",
            "linecolor": "white",
            "ticks": ""
           }
          },
          "title": {
           "x": 0.05
          },
          "xaxis": {
           "automargin": true,
           "gridcolor": "white",
           "linecolor": "white",
           "ticks": "",
           "title": {
            "standoff": 15
           },
           "zerolinecolor": "white",
           "zerolinewidth": 2
          },
          "yaxis": {
           "automargin": true,
           "gridcolor": "white",
           "linecolor": "white",
           "ticks": "",
           "title": {
            "standoff": 15
           },
           "zerolinecolor": "white",
           "zerolinewidth": 2
          }
         }
        },
        "width": 800,
        "xaxis": {
         "linecolor": "black",
         "linewidth": 2,
         "showline": true,
         "ticklen": 5,
         "ticks": "inside",
         "tickwidth": 2,
         "title": {
          "text": "Magnetic Type"
         }
        },
        "yaxis": {
         "linecolor": "black",
         "linewidth": 2,
         "showline": true,
         "ticklen": 5,
         "ticks": "inside",
         "tickwidth": 2,
         "title": {
          "text": "Count"
         }
        }
       }
      }
     },
     "metadata": {},
     "output_type": "display_data"
    }
   ],
   "source": [
    "# Define a dictionary to map the old names to the new names\n",
    "name_mapping_magnet = {\n",
    "    'NM': 'Not Magnetic',\n",
    "    'FM': 'Ferromagnetic  ',\n",
    "    'FiM': 'Ferrimagnetic',\n",
    "    'AFM': 'Anti-ferrimagnetic',\n",
    "}\n",
    "\n",
    "# Replace the values in the sc_class column with the new names\n",
    "df_MP[\"magnetic_type_named\"] = df_MP[\"magnetic_type\"].map(name_mapping_magnet)\n",
    "\n",
    "magnetic_types_count = df_MP[\"magnetic_type_named\"].value_counts()\n",
    "precentages = (df_MP[\"magnetic_type_named\"].value_counts()/len(df_MP))*100\n",
    "# Create a bar plot\n",
    "data = [go.Bar(x=magnetic_types_count.index,\n",
    "               y=magnetic_types_count.values,\n",
    "               text= [f'{x:.2f}%' for x in precentages],\n",
    "               textposition='auto',\n",
    "               marker = dict(color='rgb(33, 145, 140)'))]\n",
    "\n",
    "# Create the layout\n",
    "layout = go.Layout(xaxis=dict(title=\"Magnetic Type\", showline=True, linewidth=2, linecolor='black',\n",
    "                              ticks='inside', tickwidth=2, ticklen=5),\n",
    "                   yaxis=dict(title=\"Count\", showline=True, linewidth=2, linecolor='black',\n",
    "                              ticks='inside', tickwidth=2, ticklen=5), \n",
    "                   width=800,\n",
    "                   height=500,\n",
    "                   plot_bgcolor='white',\n",
    "                   paper_bgcolor='white', \n",
    "                   font=dict(family='Helvetica', size=16, color='black'),\n",
    "                   margin=dict(l=10, r=10, b=10, t=10))\n",
    "\n",
    "# Create the figure\n",
    "fig = go.Figure(data=data, layout=layout)\n",
    "\n",
    "# Show the figure\n",
    "fig.show()"
   ]
  },
  {
   "cell_type": "code",
   "execution_count": 24,
   "metadata": {},
   "outputs": [],
   "source": [
    "df_MP[\"cat_magnetic_type\"] = df_MP[\"magnetic_type\"].astype('category').cat.codes"
   ]
  },
  {
   "cell_type": "code",
   "execution_count": 25,
   "metadata": {},
   "outputs": [],
   "source": [
    "magentic_properties = [\"cat_magnetic_type\",\n",
    "                       \"total_magnetization\",\n",
    "                       \"is_magnetic\",\n",
    "                       \"num_unique_magnetic_sites\",\n",
    "                       \"magmoms\",\n",
    "                       \"total_magnetization_normalized_vol\",\n",
    "                       \"total_magnetization_normalized_formula_units\",\n",
    "                       \"num_magnetic_sites\",\n",
    "                       \"true_total_magnetization\",\n",
    "                       ]"
   ]
  },
  {
   "cell_type": "code",
   "execution_count": 26,
   "metadata": {},
   "outputs": [
    {
     "data": {
      "application/vnd.plotly.v1+json": {
       "config": {
        "plotlyServerURL": "https://plot.ly"
       },
       "data": [
        {
         "colorbar": {
          "ticktext": [
           -1,
           -0.5,
           0,
           0.5,
           1
          ],
          "tickvals": [
           -1,
           -0.5,
           0,
           0.5,
           1
          ],
          "title": {
           "side": "right",
           "text": "Pearson Coefficient"
          }
         },
         "colorscale": [
          [
           0,
           "#440154"
          ],
          [
           0.1111111111111111,
           "#482878"
          ],
          [
           0.2222222222222222,
           "#3e4989"
          ],
          [
           0.3333333333333333,
           "#31688e"
          ],
          [
           0.4444444444444444,
           "#26828e"
          ],
          [
           0.5555555555555556,
           "#1f9e89"
          ],
          [
           0.6666666666666666,
           "#35b779"
          ],
          [
           0.7777777777777778,
           "#6ece58"
          ],
          [
           0.8888888888888888,
           "#b5de2b"
          ],
          [
           1,
           "#fde725"
          ]
         ],
         "text": [
          [
           1,
           -0.55,
           -0.98,
           -0.63,
           -0.58,
           -0.55,
           -0.7,
           -0.44,
           -0.01
          ],
          [
           -0.55,
           1,
           0.59,
           0.67,
           0.8,
           1,
           0.57,
           0.82,
           0.07
          ],
          [
           -0.98,
           0.59,
           1,
           0.67,
           0.61,
           0.59,
           0.74,
           0.47,
           0.02
          ],
          [
           -0.63,
           0.67,
           0.67,
           1,
           0.43,
           0.67,
           0.76,
           0.59,
           0.01
          ],
          [
           -0.58,
           0.8,
           0.61,
           0.43,
           1,
           0.8,
           0.47,
           0.72,
           0.04
          ],
          [
           -0.55,
           1,
           0.59,
           0.67,
           0.8,
           1,
           0.57,
           0.82,
           0.07
          ],
          [
           -0.7,
           0.57,
           0.74,
           0.76,
           0.47,
           0.57,
           1,
           0.64,
           0
          ],
          [
           -0.44,
           0.82,
           0.47,
           0.59,
           0.72,
           0.82,
           0.64,
           1,
           0.04
          ],
          [
           -0.01,
           0.07,
           0.02,
           0.01,
           0.04,
           0.07,
           0,
           0.04,
           1
          ]
         ],
         "textfont": {
          "size": 14
         },
         "texttemplate": "%{text}",
         "type": "heatmap",
         "x": [
          "cat_magnetic_type",
          "total_magnetization",
          "is_magnetic",
          "num_unique_magnetic_sites",
          "total_magnetization_normalized_vol",
          "total_magnetization_normalized_formula_units",
          "num_magnetic_sites",
          "true_total_magnetization",
          "tc"
         ],
         "y": [
          "cat_magnetic_type",
          "total_magnetization",
          "is_magnetic",
          "num_unique_magnetic_sites",
          "total_magnetization_normalized_vol",
          "total_magnetization_normalized_formula_units",
          "num_magnetic_sites",
          "true_total_magnetization",
          "tc"
         ],
         "z": [
          [
           1,
           -0.55,
           -0.98,
           -0.63,
           -0.58,
           -0.55,
           -0.7,
           -0.44,
           -0.01
          ],
          [
           -0.55,
           1,
           0.59,
           0.67,
           0.8,
           1,
           0.57,
           0.82,
           0.07
          ],
          [
           -0.98,
           0.59,
           1,
           0.67,
           0.61,
           0.59,
           0.74,
           0.47,
           0.02
          ],
          [
           -0.63,
           0.67,
           0.67,
           1,
           0.43,
           0.67,
           0.76,
           0.59,
           0.01
          ],
          [
           -0.58,
           0.8,
           0.61,
           0.43,
           1,
           0.8,
           0.47,
           0.72,
           0.04
          ],
          [
           -0.55,
           1,
           0.59,
           0.67,
           0.8,
           1,
           0.57,
           0.82,
           0.07
          ],
          [
           -0.7,
           0.57,
           0.74,
           0.76,
           0.47,
           0.57,
           1,
           0.64,
           0
          ],
          [
           -0.44,
           0.82,
           0.47,
           0.59,
           0.72,
           0.82,
           0.64,
           1,
           0.04
          ],
          [
           -0.01,
           0.07,
           0.02,
           0.01,
           0.04,
           0.07,
           0,
           0.04,
           1
          ]
         ]
        }
       ],
       "layout": {
        "font": {
         "color": "black",
         "family": "Helvetica",
         "size": 16
        },
        "height": 800,
        "margin": {
         "b": 5,
         "l": 5,
         "r": 5,
         "t": 10
        },
        "paper_bgcolor": "white",
        "plot_bgcolor": "white",
        "template": {
         "data": {
          "bar": [
           {
            "error_x": {
             "color": "#2a3f5f"
            },
            "error_y": {
             "color": "#2a3f5f"
            },
            "marker": {
             "line": {
              "color": "#E5ECF6",
              "width": 0.5
             },
             "pattern": {
              "fillmode": "overlay",
              "size": 10,
              "solidity": 0.2
             }
            },
            "type": "bar"
           }
          ],
          "barpolar": [
           {
            "marker": {
             "line": {
              "color": "#E5ECF6",
              "width": 0.5
             },
             "pattern": {
              "fillmode": "overlay",
              "size": 10,
              "solidity": 0.2
             }
            },
            "type": "barpolar"
           }
          ],
          "carpet": [
           {
            "aaxis": {
             "endlinecolor": "#2a3f5f",
             "gridcolor": "white",
             "linecolor": "white",
             "minorgridcolor": "white",
             "startlinecolor": "#2a3f5f"
            },
            "baxis": {
             "endlinecolor": "#2a3f5f",
             "gridcolor": "white",
             "linecolor": "white",
             "minorgridcolor": "white",
             "startlinecolor": "#2a3f5f"
            },
            "type": "carpet"
           }
          ],
          "choropleth": [
           {
            "colorbar": {
             "outlinewidth": 0,
             "ticks": ""
            },
            "type": "choropleth"
           }
          ],
          "contour": [
           {
            "colorbar": {
             "outlinewidth": 0,
             "ticks": ""
            },
            "colorscale": [
             [
              0,
              "#0d0887"
             ],
             [
              0.1111111111111111,
              "#46039f"
             ],
             [
              0.2222222222222222,
              "#7201a8"
             ],
             [
              0.3333333333333333,
              "#9c179e"
             ],
             [
              0.4444444444444444,
              "#bd3786"
             ],
             [
              0.5555555555555556,
              "#d8576b"
             ],
             [
              0.6666666666666666,
              "#ed7953"
             ],
             [
              0.7777777777777778,
              "#fb9f3a"
             ],
             [
              0.8888888888888888,
              "#fdca26"
             ],
             [
              1,
              "#f0f921"
             ]
            ],
            "type": "contour"
           }
          ],
          "contourcarpet": [
           {
            "colorbar": {
             "outlinewidth": 0,
             "ticks": ""
            },
            "type": "contourcarpet"
           }
          ],
          "heatmap": [
           {
            "colorbar": {
             "outlinewidth": 0,
             "ticks": ""
            },
            "colorscale": [
             [
              0,
              "#0d0887"
             ],
             [
              0.1111111111111111,
              "#46039f"
             ],
             [
              0.2222222222222222,
              "#7201a8"
             ],
             [
              0.3333333333333333,
              "#9c179e"
             ],
             [
              0.4444444444444444,
              "#bd3786"
             ],
             [
              0.5555555555555556,
              "#d8576b"
             ],
             [
              0.6666666666666666,
              "#ed7953"
             ],
             [
              0.7777777777777778,
              "#fb9f3a"
             ],
             [
              0.8888888888888888,
              "#fdca26"
             ],
             [
              1,
              "#f0f921"
             ]
            ],
            "type": "heatmap"
           }
          ],
          "heatmapgl": [
           {
            "colorbar": {
             "outlinewidth": 0,
             "ticks": ""
            },
            "colorscale": [
             [
              0,
              "#0d0887"
             ],
             [
              0.1111111111111111,
              "#46039f"
             ],
             [
              0.2222222222222222,
              "#7201a8"
             ],
             [
              0.3333333333333333,
              "#9c179e"
             ],
             [
              0.4444444444444444,
              "#bd3786"
             ],
             [
              0.5555555555555556,
              "#d8576b"
             ],
             [
              0.6666666666666666,
              "#ed7953"
             ],
             [
              0.7777777777777778,
              "#fb9f3a"
             ],
             [
              0.8888888888888888,
              "#fdca26"
             ],
             [
              1,
              "#f0f921"
             ]
            ],
            "type": "heatmapgl"
           }
          ],
          "histogram": [
           {
            "marker": {
             "pattern": {
              "fillmode": "overlay",
              "size": 10,
              "solidity": 0.2
             }
            },
            "type": "histogram"
           }
          ],
          "histogram2d": [
           {
            "colorbar": {
             "outlinewidth": 0,
             "ticks": ""
            },
            "colorscale": [
             [
              0,
              "#0d0887"
             ],
             [
              0.1111111111111111,
              "#46039f"
             ],
             [
              0.2222222222222222,
              "#7201a8"
             ],
             [
              0.3333333333333333,
              "#9c179e"
             ],
             [
              0.4444444444444444,
              "#bd3786"
             ],
             [
              0.5555555555555556,
              "#d8576b"
             ],
             [
              0.6666666666666666,
              "#ed7953"
             ],
             [
              0.7777777777777778,
              "#fb9f3a"
             ],
             [
              0.8888888888888888,
              "#fdca26"
             ],
             [
              1,
              "#f0f921"
             ]
            ],
            "type": "histogram2d"
           }
          ],
          "histogram2dcontour": [
           {
            "colorbar": {
             "outlinewidth": 0,
             "ticks": ""
            },
            "colorscale": [
             [
              0,
              "#0d0887"
             ],
             [
              0.1111111111111111,
              "#46039f"
             ],
             [
              0.2222222222222222,
              "#7201a8"
             ],
             [
              0.3333333333333333,
              "#9c179e"
             ],
             [
              0.4444444444444444,
              "#bd3786"
             ],
             [
              0.5555555555555556,
              "#d8576b"
             ],
             [
              0.6666666666666666,
              "#ed7953"
             ],
             [
              0.7777777777777778,
              "#fb9f3a"
             ],
             [
              0.8888888888888888,
              "#fdca26"
             ],
             [
              1,
              "#f0f921"
             ]
            ],
            "type": "histogram2dcontour"
           }
          ],
          "mesh3d": [
           {
            "colorbar": {
             "outlinewidth": 0,
             "ticks": ""
            },
            "type": "mesh3d"
           }
          ],
          "parcoords": [
           {
            "line": {
             "colorbar": {
              "outlinewidth": 0,
              "ticks": ""
             }
            },
            "type": "parcoords"
           }
          ],
          "pie": [
           {
            "automargin": true,
            "type": "pie"
           }
          ],
          "scatter": [
           {
            "fillpattern": {
             "fillmode": "overlay",
             "size": 10,
             "solidity": 0.2
            },
            "type": "scatter"
           }
          ],
          "scatter3d": [
           {
            "line": {
             "colorbar": {
              "outlinewidth": 0,
              "ticks": ""
             }
            },
            "marker": {
             "colorbar": {
              "outlinewidth": 0,
              "ticks": ""
             }
            },
            "type": "scatter3d"
           }
          ],
          "scattercarpet": [
           {
            "marker": {
             "colorbar": {
              "outlinewidth": 0,
              "ticks": ""
             }
            },
            "type": "scattercarpet"
           }
          ],
          "scattergeo": [
           {
            "marker": {
             "colorbar": {
              "outlinewidth": 0,
              "ticks": ""
             }
            },
            "type": "scattergeo"
           }
          ],
          "scattergl": [
           {
            "marker": {
             "colorbar": {
              "outlinewidth": 0,
              "ticks": ""
             }
            },
            "type": "scattergl"
           }
          ],
          "scattermapbox": [
           {
            "marker": {
             "colorbar": {
              "outlinewidth": 0,
              "ticks": ""
             }
            },
            "type": "scattermapbox"
           }
          ],
          "scatterpolar": [
           {
            "marker": {
             "colorbar": {
              "outlinewidth": 0,
              "ticks": ""
             }
            },
            "type": "scatterpolar"
           }
          ],
          "scatterpolargl": [
           {
            "marker": {
             "colorbar": {
              "outlinewidth": 0,
              "ticks": ""
             }
            },
            "type": "scatterpolargl"
           }
          ],
          "scatterternary": [
           {
            "marker": {
             "colorbar": {
              "outlinewidth": 0,
              "ticks": ""
             }
            },
            "type": "scatterternary"
           }
          ],
          "surface": [
           {
            "colorbar": {
             "outlinewidth": 0,
             "ticks": ""
            },
            "colorscale": [
             [
              0,
              "#0d0887"
             ],
             [
              0.1111111111111111,
              "#46039f"
             ],
             [
              0.2222222222222222,
              "#7201a8"
             ],
             [
              0.3333333333333333,
              "#9c179e"
             ],
             [
              0.4444444444444444,
              "#bd3786"
             ],
             [
              0.5555555555555556,
              "#d8576b"
             ],
             [
              0.6666666666666666,
              "#ed7953"
             ],
             [
              0.7777777777777778,
              "#fb9f3a"
             ],
             [
              0.8888888888888888,
              "#fdca26"
             ],
             [
              1,
              "#f0f921"
             ]
            ],
            "type": "surface"
           }
          ],
          "table": [
           {
            "cells": {
             "fill": {
              "color": "#EBF0F8"
             },
             "line": {
              "color": "white"
             }
            },
            "header": {
             "fill": {
              "color": "#C8D4E3"
             },
             "line": {
              "color": "white"
             }
            },
            "type": "table"
           }
          ]
         },
         "layout": {
          "annotationdefaults": {
           "arrowcolor": "#2a3f5f",
           "arrowhead": 0,
           "arrowwidth": 1
          },
          "autotypenumbers": "strict",
          "coloraxis": {
           "colorbar": {
            "outlinewidth": 0,
            "ticks": ""
           }
          },
          "colorscale": {
           "diverging": [
            [
             0,
             "#8e0152"
            ],
            [
             0.1,
             "#c51b7d"
            ],
            [
             0.2,
             "#de77ae"
            ],
            [
             0.3,
             "#f1b6da"
            ],
            [
             0.4,
             "#fde0ef"
            ],
            [
             0.5,
             "#f7f7f7"
            ],
            [
             0.6,
             "#e6f5d0"
            ],
            [
             0.7,
             "#b8e186"
            ],
            [
             0.8,
             "#7fbc41"
            ],
            [
             0.9,
             "#4d9221"
            ],
            [
             1,
             "#276419"
            ]
           ],
           "sequential": [
            [
             0,
             "#0d0887"
            ],
            [
             0.1111111111111111,
             "#46039f"
            ],
            [
             0.2222222222222222,
             "#7201a8"
            ],
            [
             0.3333333333333333,
             "#9c179e"
            ],
            [
             0.4444444444444444,
             "#bd3786"
            ],
            [
             0.5555555555555556,
             "#d8576b"
            ],
            [
             0.6666666666666666,
             "#ed7953"
            ],
            [
             0.7777777777777778,
             "#fb9f3a"
            ],
            [
             0.8888888888888888,
             "#fdca26"
            ],
            [
             1,
             "#f0f921"
            ]
           ],
           "sequentialminus": [
            [
             0,
             "#0d0887"
            ],
            [
             0.1111111111111111,
             "#46039f"
            ],
            [
             0.2222222222222222,
             "#7201a8"
            ],
            [
             0.3333333333333333,
             "#9c179e"
            ],
            [
             0.4444444444444444,
             "#bd3786"
            ],
            [
             0.5555555555555556,
             "#d8576b"
            ],
            [
             0.6666666666666666,
             "#ed7953"
            ],
            [
             0.7777777777777778,
             "#fb9f3a"
            ],
            [
             0.8888888888888888,
             "#fdca26"
            ],
            [
             1,
             "#f0f921"
            ]
           ]
          },
          "colorway": [
           "#636efa",
           "#EF553B",
           "#00cc96",
           "#ab63fa",
           "#FFA15A",
           "#19d3f3",
           "#FF6692",
           "#B6E880",
           "#FF97FF",
           "#FECB52"
          ],
          "font": {
           "color": "#2a3f5f"
          },
          "geo": {
           "bgcolor": "white",
           "lakecolor": "white",
           "landcolor": "#E5ECF6",
           "showlakes": true,
           "showland": true,
           "subunitcolor": "white"
          },
          "hoverlabel": {
           "align": "left"
          },
          "hovermode": "closest",
          "mapbox": {
           "style": "light"
          },
          "paper_bgcolor": "white",
          "plot_bgcolor": "#E5ECF6",
          "polar": {
           "angularaxis": {
            "gridcolor": "white",
            "linecolor": "white",
            "ticks": ""
           },
           "bgcolor": "#E5ECF6",
           "radialaxis": {
            "gridcolor": "white",
            "linecolor": "white",
            "ticks": ""
           }
          },
          "scene": {
           "xaxis": {
            "backgroundcolor": "#E5ECF6",
            "gridcolor": "white",
            "gridwidth": 2,
            "linecolor": "white",
            "showbackground": true,
            "ticks": "",
            "zerolinecolor": "white"
           },
           "yaxis": {
            "backgroundcolor": "#E5ECF6",
            "gridcolor": "white",
            "gridwidth": 2,
            "linecolor": "white",
            "showbackground": true,
            "ticks": "",
            "zerolinecolor": "white"
           },
           "zaxis": {
            "backgroundcolor": "#E5ECF6",
            "gridcolor": "white",
            "gridwidth": 2,
            "linecolor": "white",
            "showbackground": true,
            "ticks": "",
            "zerolinecolor": "white"
           }
          },
          "shapedefaults": {
           "line": {
            "color": "#2a3f5f"
           }
          },
          "ternary": {
           "aaxis": {
            "gridcolor": "white",
            "linecolor": "white",
            "ticks": ""
           },
           "baxis": {
            "gridcolor": "white",
            "linecolor": "white",
            "ticks": ""
           },
           "bgcolor": "#E5ECF6",
           "caxis": {
            "gridcolor": "white",
            "linecolor": "white",
            "ticks": ""
           }
          },
          "title": {
           "x": 0.05
          },
          "xaxis": {
           "automargin": true,
           "gridcolor": "white",
           "linecolor": "white",
           "ticks": "",
           "title": {
            "standoff": 15
           },
           "zerolinecolor": "white",
           "zerolinewidth": 2
          },
          "yaxis": {
           "automargin": true,
           "gridcolor": "white",
           "linecolor": "white",
           "ticks": "",
           "title": {
            "standoff": 15
           },
           "zerolinecolor": "white",
           "zerolinewidth": 2
          }
         }
        },
        "width": 1000,
        "xaxis": {
         "linecolor": "black",
         "linewidth": 2,
         "showline": true,
         "ticklen": 5,
         "ticks": "inside",
         "tickwidth": 2,
         "title": {
          "text": ""
         }
        },
        "yaxis": {
         "linecolor": "black",
         "linewidth": 2,
         "showline": true,
         "ticklen": 5,
         "ticks": "inside",
         "tickwidth": 2,
         "title": {
          "text": ""
         }
        }
       }
      }
     },
     "metadata": {},
     "output_type": "display_data"
    }
   ],
   "source": [
    "corr_matrix(df_MP, magentic_properties, 1000, 800, 14)"
   ]
  },
  {
   "cell_type": "markdown",
   "metadata": {},
   "source": [
    "None of them correlate to TC probably due to the fact that the majority of them are not magentic anyways"
   ]
  }
 ],
 "metadata": {
  "kernelspec": {
   "display_name": "enviroment",
   "language": "python",
   "name": "python3"
  },
  "language_info": {
   "codemirror_mode": {
    "name": "ipython",
    "version": 3
   },
   "file_extension": ".py",
   "mimetype": "text/x-python",
   "name": "python",
   "nbconvert_exporter": "python",
   "pygments_lexer": "ipython3",
   "version": "3.7.12"
  }
 },
 "nbformat": 4,
 "nbformat_minor": 2
}
