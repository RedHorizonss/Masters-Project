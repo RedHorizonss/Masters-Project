{
 "cells": [
  {
   "cell_type": "code",
   "execution_count": 1,
   "metadata": {},
   "outputs": [],
   "source": [
    "import pandas as pd\n",
    "import numpy as np\n",
    "import plotly.graph_objs as go"
   ]
  },
  {
   "cell_type": "code",
   "execution_count": 2,
   "metadata": {},
   "outputs": [],
   "source": [
    "def corr_matrix(dataframe, features, width, height, text_size):\n",
    "    features.append(\"tc\")\n",
    "    # Compute the correlation matrix\n",
    "    correlation_matrix = dataframe[features].corr()\n",
    "\n",
    "    # Get the correlation values\n",
    "    correlation_values = correlation_matrix.values.round(2)\n",
    "\n",
    "    # Create the heatmap trace\n",
    "    heatmap = go.Heatmap(\n",
    "        z=correlation_values,\n",
    "        x=correlation_matrix.columns,\n",
    "        y=correlation_matrix.index,\n",
    "        colorscale='Viridis', \n",
    "        colorbar=dict(title='Pearson Coefficient', titleside='right', tickvals = [-1,-0.5,0,0.5,1], ticktext = [-1,-0.5,0,0.5,1]),\n",
    "        text=correlation_values,\n",
    "        texttemplate=\"%{text}\",\n",
    "        textfont={\"size\":text_size}\n",
    "    )\n",
    "    \n",
    "\n",
    "    # Create the layout\n",
    "    layout = go.Layout(\n",
    "        xaxis=dict(\n",
    "            title=\"\",\n",
    "            showline=True,\n",
    "            linewidth=2,\n",
    "            linecolor='black',\n",
    "            ticks='inside',\n",
    "            tickwidth=2,\n",
    "            ticklen=5\n",
    "        ),\n",
    "        yaxis=dict(\n",
    "            title=\"\",\n",
    "            showline=True,\n",
    "            linewidth=2,\n",
    "            linecolor='black',\n",
    "            ticks='inside',\n",
    "            tickwidth=2,\n",
    "            ticklen=5\n",
    "        ),\n",
    "        width=width,\n",
    "        height=height,\n",
    "        plot_bgcolor='white',\n",
    "        paper_bgcolor='white',\n",
    "        font=dict(family='Helvetica', size=16, color='black'),\n",
    "        margin=dict(l=5, r=5, b=5, t=10)\n",
    "    )\n",
    "\n",
    "    # Create the figure\n",
    "    fig = go.Figure(data=[heatmap], layout=layout)\n",
    "\n",
    "    # Show the figure\n",
    "    fig.show()"
   ]
  },
  {
   "cell_type": "markdown",
   "metadata": {},
   "source": [
    "# Data Analysis\n",
    "\n",
    "Just a quick overview"
   ]
  },
  {
   "cell_type": "code",
   "execution_count": 3,
   "metadata": {},
   "outputs": [
    {
     "data": {
      "text/html": [
       "<div>\n",
       "<style scoped>\n",
       "    .dataframe tbody tr th:only-of-type {\n",
       "        vertical-align: middle;\n",
       "    }\n",
       "\n",
       "    .dataframe tbody tr th {\n",
       "        vertical-align: top;\n",
       "    }\n",
       "\n",
       "    .dataframe thead th {\n",
       "        text-align: right;\n",
       "    }\n",
       "</style>\n",
       "<table border=\"1\" class=\"dataframe\">\n",
       "  <thead>\n",
       "    <tr style=\"text-align: right;\">\n",
       "      <th></th>\n",
       "      <th>formula_sc</th>\n",
       "      <th>formula_similarity</th>\n",
       "      <th>totreldiff</th>\n",
       "      <th>formula_frac</th>\n",
       "      <th>correct_formula_frac</th>\n",
       "      <th>formula</th>\n",
       "      <th>orig_formula_cif</th>\n",
       "      <th>tc</th>\n",
       "      <th>sc_class</th>\n",
       "      <th>sc_class_unique_sc</th>\n",
       "      <th>...</th>\n",
       "      <th>monoclinic</th>\n",
       "      <th>orthorhombic</th>\n",
       "      <th>tetragonal</th>\n",
       "      <th>triclinic</th>\n",
       "      <th>trigonal</th>\n",
       "      <th>primitive</th>\n",
       "      <th>base-centered</th>\n",
       "      <th>body-centered</th>\n",
       "      <th>face-centered</th>\n",
       "      <th>weight</th>\n",
       "    </tr>\n",
       "  </thead>\n",
       "  <tbody>\n",
       "    <tr>\n",
       "      <th>0</th>\n",
       "      <td>Ag0.02Ge2Pd1.98Sr1</td>\n",
       "      <td>2</td>\n",
       "      <td>0.008000</td>\n",
       "      <td>1.0</td>\n",
       "      <td>True</td>\n",
       "      <td>Ag0.02Ge2Pd1.98Sr1</td>\n",
       "      <td>Ge2Pd2Sr1</td>\n",
       "      <td>2.64</td>\n",
       "      <td>Other</td>\n",
       "      <td>True</td>\n",
       "      <td>...</td>\n",
       "      <td>0</td>\n",
       "      <td>0</td>\n",
       "      <td>7</td>\n",
       "      <td>0</td>\n",
       "      <td>0</td>\n",
       "      <td>0</td>\n",
       "      <td>0</td>\n",
       "      <td>1</td>\n",
       "      <td>0</td>\n",
       "      <td>1.0</td>\n",
       "    </tr>\n",
       "    <tr>\n",
       "      <th>1</th>\n",
       "      <td>Ag0.15Sn0.85Te1</td>\n",
       "      <td>3</td>\n",
       "      <td>0.150000</td>\n",
       "      <td>1.0</td>\n",
       "      <td>True</td>\n",
       "      <td>Ag0.15Sn0.85Te1</td>\n",
       "      <td>Sn1Te1</td>\n",
       "      <td>2.15</td>\n",
       "      <td>Other</td>\n",
       "      <td>True</td>\n",
       "      <td>...</td>\n",
       "      <td>0</td>\n",
       "      <td>0</td>\n",
       "      <td>0</td>\n",
       "      <td>0</td>\n",
       "      <td>0</td>\n",
       "      <td>0</td>\n",
       "      <td>0</td>\n",
       "      <td>0</td>\n",
       "      <td>1</td>\n",
       "      <td>1.0</td>\n",
       "    </tr>\n",
       "    <tr>\n",
       "      <th>2</th>\n",
       "      <td>Ag0.1Ge2Pd1.9Sr1</td>\n",
       "      <td>2</td>\n",
       "      <td>0.040000</td>\n",
       "      <td>1.0</td>\n",
       "      <td>True</td>\n",
       "      <td>Ag0.1Ge2Pd1.9Sr1</td>\n",
       "      <td>Ge2Pd2Sr1</td>\n",
       "      <td>2.62</td>\n",
       "      <td>Other</td>\n",
       "      <td>True</td>\n",
       "      <td>...</td>\n",
       "      <td>0</td>\n",
       "      <td>0</td>\n",
       "      <td>7</td>\n",
       "      <td>0</td>\n",
       "      <td>0</td>\n",
       "      <td>0</td>\n",
       "      <td>0</td>\n",
       "      <td>1</td>\n",
       "      <td>0</td>\n",
       "      <td>1.0</td>\n",
       "    </tr>\n",
       "    <tr>\n",
       "      <th>3</th>\n",
       "      <td>Ag0.1In0.9Te1</td>\n",
       "      <td>3</td>\n",
       "      <td>0.100000</td>\n",
       "      <td>1.0</td>\n",
       "      <td>True</td>\n",
       "      <td>Ag0.1In0.9Te1</td>\n",
       "      <td>In1Te1</td>\n",
       "      <td>1.20</td>\n",
       "      <td>Other</td>\n",
       "      <td>True</td>\n",
       "      <td>...</td>\n",
       "      <td>0</td>\n",
       "      <td>0</td>\n",
       "      <td>0</td>\n",
       "      <td>0</td>\n",
       "      <td>0</td>\n",
       "      <td>0</td>\n",
       "      <td>0</td>\n",
       "      <td>0</td>\n",
       "      <td>1</td>\n",
       "      <td>1.0</td>\n",
       "    </tr>\n",
       "    <tr>\n",
       "      <th>4</th>\n",
       "      <td>Ag0.2Ba1Si1.8</td>\n",
       "      <td>3</td>\n",
       "      <td>0.133333</td>\n",
       "      <td>4.0</td>\n",
       "      <td>False</td>\n",
       "      <td>Ag0.8Ba4Si7.2</td>\n",
       "      <td>Ba4Si8</td>\n",
       "      <td>3.20</td>\n",
       "      <td>Other</td>\n",
       "      <td>True</td>\n",
       "      <td>...</td>\n",
       "      <td>0</td>\n",
       "      <td>0</td>\n",
       "      <td>0</td>\n",
       "      <td>0</td>\n",
       "      <td>0</td>\n",
       "      <td>1</td>\n",
       "      <td>0</td>\n",
       "      <td>0</td>\n",
       "      <td>0</td>\n",
       "      <td>1.0</td>\n",
       "    </tr>\n",
       "  </tbody>\n",
       "</table>\n",
       "<p>5 rows × 92 columns</p>\n",
       "</div>"
      ],
      "text/plain": [
       "           formula_sc  formula_similarity  totreldiff  formula_frac  \\\n",
       "0  Ag0.02Ge2Pd1.98Sr1                   2    0.008000           1.0   \n",
       "1     Ag0.15Sn0.85Te1                   3    0.150000           1.0   \n",
       "2    Ag0.1Ge2Pd1.9Sr1                   2    0.040000           1.0   \n",
       "3       Ag0.1In0.9Te1                   3    0.100000           1.0   \n",
       "4       Ag0.2Ba1Si1.8                   3    0.133333           4.0   \n",
       "\n",
       "   correct_formula_frac             formula orig_formula_cif    tc sc_class  \\\n",
       "0                  True  Ag0.02Ge2Pd1.98Sr1        Ge2Pd2Sr1  2.64    Other   \n",
       "1                  True     Ag0.15Sn0.85Te1           Sn1Te1  2.15    Other   \n",
       "2                  True    Ag0.1Ge2Pd1.9Sr1        Ge2Pd2Sr1  2.62    Other   \n",
       "3                  True       Ag0.1In0.9Te1           In1Te1  1.20    Other   \n",
       "4                 False       Ag0.8Ba4Si7.2           Ba4Si8  3.20    Other   \n",
       "\n",
       "   sc_class_unique_sc  ... monoclinic orthorhombic  tetragonal triclinic  \\\n",
       "0                True  ...          0            0           7         0   \n",
       "1                True  ...          0            0           0         0   \n",
       "2                True  ...          0            0           7         0   \n",
       "3                True  ...          0            0           0         0   \n",
       "4                True  ...          0            0           0         0   \n",
       "\n",
       "  trigonal primitive base-centered body-centered face-centered weight  \n",
       "0        0         0             0             1             0    1.0  \n",
       "1        0         0             0             0             1    1.0  \n",
       "2        0         0             0             1             0    1.0  \n",
       "3        0         0             0             0             1    1.0  \n",
       "4        0         1             0             0             0    1.0  \n",
       "\n",
       "[5 rows x 92 columns]"
      ]
     },
     "execution_count": 3,
     "metadata": {},
     "output_type": "execute_result"
    }
   ],
   "source": [
    "df_MP = pd.read_csv(\"3DSC_MP.csv\", skiprows=1)\n",
    "df_MP['cif'] = df_MP['cif'].str.replace('data/final/MP/', '')\n",
    "df_MP.columns = df_MP.columns.str.replace('_2', '')\n",
    "df_MP.head()"
   ]
  },
  {
   "cell_type": "code",
   "execution_count": 4,
   "metadata": {},
   "outputs": [
    {
     "name": "stdout",
     "output_type": "stream",
     "text": [
      "Column 'formula_sc' has type: object\n",
      "Column 'formula_similarity' has type: int64\n",
      "Column 'totreldiff' has type: float64\n",
      "Column 'formula_frac' has type: float64\n",
      "Column 'correct_formula_frac' has type: bool\n",
      "Column 'formula' has type: object\n",
      "Column 'orig_formula_cif' has type: object\n",
      "Column 'tc' has type: float64\n",
      "Column 'sc_class' has type: object\n",
      "Column 'sc_class_unique_sc' has type: bool\n",
      "Column 'norm_formula_sc' has type: object\n",
      "Column 'chemical_composition_sc' has type: object\n",
      "Column 'num_elements_sc' has type: int64\n",
      "Column 'origin_sc' has type: object\n",
      "Column 'old_formula_sc' has type: object\n",
      "Column 'database_id' has type: object\n",
      "Column 'original_formula' has type: object\n",
      "Column 'chemical_composition' has type: object\n",
      "Column 'norm_formula' has type: object\n",
      "Column 'spacegroup' has type: object\n",
      "Column 'crystal_system' has type: object\n",
      "Column 'lata' has type: float64\n",
      "Column 'latb' has type: float64\n",
      "Column 'latc' has type: float64\n",
      "Column 'cif' has type: object\n",
      "Column 'original_cif' has type: object\n",
      "Column 'material_id' has type: object\n",
      "Column 'band_gap' has type: float64\n",
      "Column 'band_structure' has type: object\n",
      "Column 'created_at' has type: object\n",
      "Column 'density' has type: float64\n",
      "Column 'doi' has type: object\n",
      "Column 'doi_bibtex' has type: object\n",
      "Column 'dos' has type: object\n",
      "Column 'e_above_hull' has type: float64\n",
      "Column 'efermi' has type: float64\n",
      "Column 'encut' has type: float64\n",
      "Column 'energy' has type: float64\n",
      "Column 'energy_per_atom' has type: float64\n",
      "Column 'exp' has type: object\n",
      "Column 'final_energy' has type: float64\n",
      "Column 'final_energy_per_atom' has type: float64\n",
      "Column 'formation_energy_per_atom' has type: float64\n",
      "Column 'has' has type: object\n",
      "Column 'has_bandstructure' has type: bool\n",
      "Column 'icsd_ids' has type: object\n",
      "Column 'is_ordered' has type: bool\n",
      "Column 'last_updated' has type: object\n",
      "Column 'magnetic_type' has type: object\n",
      "Column 'nsites' has type: int64\n",
      "Column 'ntask_ids' has type: int64\n",
      "Column 'original_task_id' has type: object\n",
      "Column 'oxide_type' has type: object\n",
      "Column 'pretty_formula' has type: object\n",
      "Column 'pseudo_potential' has type: object\n",
      "Column 'reduced_cell_formula' has type: object\n",
      "Column 'run_type' has type: object\n",
      "Column 'task_id' has type: object\n",
      "Column 'task_ids' has type: object\n",
      "Column 'total_magnetization' has type: float64\n",
      "Column 'unit_cell_formula' has type: object\n",
      "Column 'cell_volume' has type: float64\n",
      "Column 'warnings' has type: object\n",
      "Column 'ordering' has type: object\n",
      "Column 'is_magnetic' has type: bool\n",
      "Column 'exchange_symmetry' has type: int64\n",
      "Column 'num_unique_magnetic_sites' has type: int64\n",
      "Column 'magmoms' has type: object\n",
      "Column 'total_magnetization_normalized_vol' has type: float64\n",
      "Column 'total_magnetization_normalized_formula_units' has type: float64\n",
      "Column 'num_magnetic_sites' has type: int64\n",
      "Column 'true_total_magnetization' has type: float64\n",
      "Column 'origin' has type: object\n",
      "Column 'cif_before_synthetic_doping' has type: object\n",
      "Column 'synth_doped' has type: bool\n",
      "Column 'Reason for exclusion' has type: float64\n",
      "Column 'graph' has type: object\n",
      "Column 'crystal_temp' has type: int64\n",
      "Column 'no_crystal_temp_given' has type: bool\n",
      "Column 'point_group' has type: object\n",
      "Column 'cubic' has type: int64\n",
      "Column 'hexagonal' has type: int64\n",
      "Column 'monoclinic' has type: int64\n",
      "Column 'orthorhombic' has type: int64\n",
      "Column 'tetragonal' has type: int64\n",
      "Column 'triclinic' has type: int64\n",
      "Column 'trigonal' has type: int64\n",
      "Column 'primitive' has type: int64\n",
      "Column 'base-centered' has type: int64\n",
      "Column 'body-centered' has type: int64\n",
      "Column 'face-centered' has type: int64\n",
      "Column 'weight' has type: float64\n"
     ]
    }
   ],
   "source": [
    "for column in df_MP.columns:\n",
    "    print(f\"Column '{column}' has type: {df_MP[column].dtype}\")"
   ]
  },
  {
   "cell_type": "code",
   "execution_count": 5,
   "metadata": {},
   "outputs": [
    {
     "name": "stdout",
     "output_type": "stream",
     "text": [
      "Total dataset length: 5773\n"
     ]
    }
   ],
   "source": [
    "total_dataset_length = len(df_MP)\n",
    "print(f\"Total dataset length: {total_dataset_length}\")"
   ]
  },
  {
   "cell_type": "markdown",
   "metadata": {},
   "source": [
    "## Supercon or Not?"
   ]
  },
  {
   "cell_type": "code",
   "execution_count": 6,
   "metadata": {},
   "outputs": [
    {
     "name": "stdout",
     "output_type": "stream",
     "text": [
      "False\n"
     ]
    }
   ],
   "source": [
    "# Is there any NA values in the dataset?\n",
    "print(df_MP['tc'].isna().any())"
   ]
  },
  {
   "cell_type": "code",
   "execution_count": 7,
   "metadata": {},
   "outputs": [
    {
     "name": "stdout",
     "output_type": "stream",
     "text": [
      "Count of tc values that are 0: 1778\n",
      "Count of tc values that are not 0: 3995\n"
     ]
    }
   ],
   "source": [
    "tc_counts = df_MP['tc'].value_counts()\n",
    "zero_count = tc_counts[0]\n",
    "non_zero_count = tc_counts[tc_counts.index != 0].sum()\n",
    "\n",
    "print(f\"Count of tc values that are 0: {zero_count}\")\n",
    "print(f\"Count of tc values that are not 0: {non_zero_count}\")"
   ]
  },
  {
   "cell_type": "code",
   "execution_count": 8,
   "metadata": {},
   "outputs": [],
   "source": [
    "df_MP_non_zero = df_MP[df_MP['tc'] != 0]\n",
    "\n",
    "df_MP.loc[df_MP[\"tc\"] == 0, \"sc_class\"] = \"Not_supercon\""
   ]
  },
  {
   "cell_type": "markdown",
   "metadata": {},
   "source": [
    "## Supercon Variety"
   ]
  },
  {
   "cell_type": "code",
   "execution_count": 9,
   "metadata": {},
   "outputs": [],
   "source": [
    "# Define a dictionary to map the old names to the new names\n",
    "name_mapping = {\n",
    "    'Other': 'Other',\n",
    "    'Not_supercon': 'Not Superconductor',\n",
    "    'Cuprate': 'Cuprate',\n",
    "    'Ferrite': 'Ferrite',\n",
    "    'Heavy_fermion': 'Heavy Fermion',\n",
    "    'Oxide': 'Oxide',\n",
    "    'Chevrel': 'Chevrel',\n",
    "    'Carbon': 'Carbon',\n",
    "    'Heavy_fermionChevrel': 'Heavy Fermion Chevrel',\n",
    "    'OxideHeavy_fermion': 'Oxide Heavy Fermion'\n",
    "}\n",
    "\n",
    "# Replace the values in the sc_class column with the new names\n",
    "df_MP['sc_class_name'] = df_MP['sc_class'].map(name_mapping)"
   ]
  },
  {
   "cell_type": "code",
   "execution_count": 10,
   "metadata": {},
   "outputs": [
    {
     "name": "stdout",
     "output_type": "stream",
     "text": [
      "Other                    2512\n",
      "Not Superconductor       1778\n",
      "Cuprate                   576\n",
      "Ferrite                   406\n",
      "Heavy Fermion             241\n",
      "Oxide                     181\n",
      "Chevrel                    54\n",
      "Carbon                     18\n",
      "Heavy Fermion Chevrel       6\n",
      "Oxide Heavy Fermion         1\n",
      "Name: sc_class_name, dtype: int64\n"
     ]
    }
   ],
   "source": [
    "sc_class_counts = df_MP['sc_class_name'].value_counts()\n",
    "print(sc_class_counts)"
   ]
  },
  {
   "cell_type": "code",
   "execution_count": 11,
   "metadata": {},
   "outputs": [
    {
     "data": {
      "application/vnd.plotly.v1+json": {
       "config": {
        "plotlyServerURL": "https://plot.ly"
       },
       "data": [
        {
         "marker": {
          "color": [
           "rgb(237, 121, 83)",
           "rgb(33, 145, 140)",
           "rgb(33, 145, 140)",
           "rgb(33, 145, 140)",
           "rgb(33, 145, 140)",
           "rgb(33, 145, 140)",
           "rgb(33, 145, 140)",
           "rgb(33, 145, 140)",
           "rgb(33, 145, 140)",
           "rgb(33, 145, 140)"
          ]
         },
         "text": [
          "43.51%",
          "30.80%",
          "9.98%",
          "7.03%",
          "4.17%",
          "3.14%",
          "0.94%",
          "0.31%",
          "0.10%",
          "0.02%"
         ],
         "textposition": "auto",
         "type": "bar",
         "x": [
          "Not Superconductor",
          "Other",
          "Cuprate",
          "Ferrite",
          "Heavy Fermion",
          "Oxide",
          "Chevrel",
          "Carbon",
          "Heavy Fermion Chevrel",
          "Oxide Heavy Fermion"
         ],
         "y": [
          1778,
          2512,
          576,
          406,
          241,
          181,
          54,
          18,
          6,
          1
         ]
        }
       ],
       "layout": {
        "font": {
         "color": "black",
         "family": "Helvetica",
         "size": 16
        },
        "height": 500,
        "margin": {
         "b": 10,
         "l": 10,
         "r": 10,
         "t": 10
        },
        "paper_bgcolor": "white",
        "plot_bgcolor": "white",
        "template": {
         "data": {
          "bar": [
           {
            "error_x": {
             "color": "#2a3f5f"
            },
            "error_y": {
             "color": "#2a3f5f"
            },
            "marker": {
             "line": {
              "color": "#E5ECF6",
              "width": 0.5
             },
             "pattern": {
              "fillmode": "overlay",
              "size": 10,
              "solidity": 0.2
             }
            },
            "type": "bar"
           }
          ],
          "barpolar": [
           {
            "marker": {
             "line": {
              "color": "#E5ECF6",
              "width": 0.5
             },
             "pattern": {
              "fillmode": "overlay",
              "size": 10,
              "solidity": 0.2
             }
            },
            "type": "barpolar"
           }
          ],
          "carpet": [
           {
            "aaxis": {
             "endlinecolor": "#2a3f5f",
             "gridcolor": "white",
             "linecolor": "white",
             "minorgridcolor": "white",
             "startlinecolor": "#2a3f5f"
            },
            "baxis": {
             "endlinecolor": "#2a3f5f",
             "gridcolor": "white",
             "linecolor": "white",
             "minorgridcolor": "white",
             "startlinecolor": "#2a3f5f"
            },
            "type": "carpet"
           }
          ],
          "choropleth": [
           {
            "colorbar": {
             "outlinewidth": 0,
             "ticks": ""
            },
            "type": "choropleth"
           }
          ],
          "contour": [
           {
            "colorbar": {
             "outlinewidth": 0,
             "ticks": ""
            },
            "colorscale": [
             [
              0,
              "#0d0887"
             ],
             [
              0.1111111111111111,
              "#46039f"
             ],
             [
              0.2222222222222222,
              "#7201a8"
             ],
             [
              0.3333333333333333,
              "#9c179e"
             ],
             [
              0.4444444444444444,
              "#bd3786"
             ],
             [
              0.5555555555555556,
              "#d8576b"
             ],
             [
              0.6666666666666666,
              "#ed7953"
             ],
             [
              0.7777777777777778,
              "#fb9f3a"
             ],
             [
              0.8888888888888888,
              "#fdca26"
             ],
             [
              1,
              "#f0f921"
             ]
            ],
            "type": "contour"
           }
          ],
          "contourcarpet": [
           {
            "colorbar": {
             "outlinewidth": 0,
             "ticks": ""
            },
            "type": "contourcarpet"
           }
          ],
          "heatmap": [
           {
            "colorbar": {
             "outlinewidth": 0,
             "ticks": ""
            },
            "colorscale": [
             [
              0,
              "#0d0887"
             ],
             [
              0.1111111111111111,
              "#46039f"
             ],
             [
              0.2222222222222222,
              "#7201a8"
             ],
             [
              0.3333333333333333,
              "#9c179e"
             ],
             [
              0.4444444444444444,
              "#bd3786"
             ],
             [
              0.5555555555555556,
              "#d8576b"
             ],
             [
              0.6666666666666666,
              "#ed7953"
             ],
             [
              0.7777777777777778,
              "#fb9f3a"
             ],
             [
              0.8888888888888888,
              "#fdca26"
             ],
             [
              1,
              "#f0f921"
             ]
            ],
            "type": "heatmap"
           }
          ],
          "heatmapgl": [
           {
            "colorbar": {
             "outlinewidth": 0,
             "ticks": ""
            },
            "colorscale": [
             [
              0,
              "#0d0887"
             ],
             [
              0.1111111111111111,
              "#46039f"
             ],
             [
              0.2222222222222222,
              "#7201a8"
             ],
             [
              0.3333333333333333,
              "#9c179e"
             ],
             [
              0.4444444444444444,
              "#bd3786"
             ],
             [
              0.5555555555555556,
              "#d8576b"
             ],
             [
              0.6666666666666666,
              "#ed7953"
             ],
             [
              0.7777777777777778,
              "#fb9f3a"
             ],
             [
              0.8888888888888888,
              "#fdca26"
             ],
             [
              1,
              "#f0f921"
             ]
            ],
            "type": "heatmapgl"
           }
          ],
          "histogram": [
           {
            "marker": {
             "pattern": {
              "fillmode": "overlay",
              "size": 10,
              "solidity": 0.2
             }
            },
            "type": "histogram"
           }
          ],
          "histogram2d": [
           {
            "colorbar": {
             "outlinewidth": 0,
             "ticks": ""
            },
            "colorscale": [
             [
              0,
              "#0d0887"
             ],
             [
              0.1111111111111111,
              "#46039f"
             ],
             [
              0.2222222222222222,
              "#7201a8"
             ],
             [
              0.3333333333333333,
              "#9c179e"
             ],
             [
              0.4444444444444444,
              "#bd3786"
             ],
             [
              0.5555555555555556,
              "#d8576b"
             ],
             [
              0.6666666666666666,
              "#ed7953"
             ],
             [
              0.7777777777777778,
              "#fb9f3a"
             ],
             [
              0.8888888888888888,
              "#fdca26"
             ],
             [
              1,
              "#f0f921"
             ]
            ],
            "type": "histogram2d"
           }
          ],
          "histogram2dcontour": [
           {
            "colorbar": {
             "outlinewidth": 0,
             "ticks": ""
            },
            "colorscale": [
             [
              0,
              "#0d0887"
             ],
             [
              0.1111111111111111,
              "#46039f"
             ],
             [
              0.2222222222222222,
              "#7201a8"
             ],
             [
              0.3333333333333333,
              "#9c179e"
             ],
             [
              0.4444444444444444,
              "#bd3786"
             ],
             [
              0.5555555555555556,
              "#d8576b"
             ],
             [
              0.6666666666666666,
              "#ed7953"
             ],
             [
              0.7777777777777778,
              "#fb9f3a"
             ],
             [
              0.8888888888888888,
              "#fdca26"
             ],
             [
              1,
              "#f0f921"
             ]
            ],
            "type": "histogram2dcontour"
           }
          ],
          "mesh3d": [
           {
            "colorbar": {
             "outlinewidth": 0,
             "ticks": ""
            },
            "type": "mesh3d"
           }
          ],
          "parcoords": [
           {
            "line": {
             "colorbar": {
              "outlinewidth": 0,
              "ticks": ""
             }
            },
            "type": "parcoords"
           }
          ],
          "pie": [
           {
            "automargin": true,
            "type": "pie"
           }
          ],
          "scatter": [
           {
            "fillpattern": {
             "fillmode": "overlay",
             "size": 10,
             "solidity": 0.2
            },
            "type": "scatter"
           }
          ],
          "scatter3d": [
           {
            "line": {
             "colorbar": {
              "outlinewidth": 0,
              "ticks": ""
             }
            },
            "marker": {
             "colorbar": {
              "outlinewidth": 0,
              "ticks": ""
             }
            },
            "type": "scatter3d"
           }
          ],
          "scattercarpet": [
           {
            "marker": {
             "colorbar": {
              "outlinewidth": 0,
              "ticks": ""
             }
            },
            "type": "scattercarpet"
           }
          ],
          "scattergeo": [
           {
            "marker": {
             "colorbar": {
              "outlinewidth": 0,
              "ticks": ""
             }
            },
            "type": "scattergeo"
           }
          ],
          "scattergl": [
           {
            "marker": {
             "colorbar": {
              "outlinewidth": 0,
              "ticks": ""
             }
            },
            "type": "scattergl"
           }
          ],
          "scattermapbox": [
           {
            "marker": {
             "colorbar": {
              "outlinewidth": 0,
              "ticks": ""
             }
            },
            "type": "scattermapbox"
           }
          ],
          "scatterpolar": [
           {
            "marker": {
             "colorbar": {
              "outlinewidth": 0,
              "ticks": ""
             }
            },
            "type": "scatterpolar"
           }
          ],
          "scatterpolargl": [
           {
            "marker": {
             "colorbar": {
              "outlinewidth": 0,
              "ticks": ""
             }
            },
            "type": "scatterpolargl"
           }
          ],
          "scatterternary": [
           {
            "marker": {
             "colorbar": {
              "outlinewidth": 0,
              "ticks": ""
             }
            },
            "type": "scatterternary"
           }
          ],
          "surface": [
           {
            "colorbar": {
             "outlinewidth": 0,
             "ticks": ""
            },
            "colorscale": [
             [
              0,
              "#0d0887"
             ],
             [
              0.1111111111111111,
              "#46039f"
             ],
             [
              0.2222222222222222,
              "#7201a8"
             ],
             [
              0.3333333333333333,
              "#9c179e"
             ],
             [
              0.4444444444444444,
              "#bd3786"
             ],
             [
              0.5555555555555556,
              "#d8576b"
             ],
             [
              0.6666666666666666,
              "#ed7953"
             ],
             [
              0.7777777777777778,
              "#fb9f3a"
             ],
             [
              0.8888888888888888,
              "#fdca26"
             ],
             [
              1,
              "#f0f921"
             ]
            ],
            "type": "surface"
           }
          ],
          "table": [
           {
            "cells": {
             "fill": {
              "color": "#EBF0F8"
             },
             "line": {
              "color": "white"
             }
            },
            "header": {
             "fill": {
              "color": "#C8D4E3"
             },
             "line": {
              "color": "white"
             }
            },
            "type": "table"
           }
          ]
         },
         "layout": {
          "annotationdefaults": {
           "arrowcolor": "#2a3f5f",
           "arrowhead": 0,
           "arrowwidth": 1
          },
          "autotypenumbers": "strict",
          "coloraxis": {
           "colorbar": {
            "outlinewidth": 0,
            "ticks": ""
           }
          },
          "colorscale": {
           "diverging": [
            [
             0,
             "#8e0152"
            ],
            [
             0.1,
             "#c51b7d"
            ],
            [
             0.2,
             "#de77ae"
            ],
            [
             0.3,
             "#f1b6da"
            ],
            [
             0.4,
             "#fde0ef"
            ],
            [
             0.5,
             "#f7f7f7"
            ],
            [
             0.6,
             "#e6f5d0"
            ],
            [
             0.7,
             "#b8e186"
            ],
            [
             0.8,
             "#7fbc41"
            ],
            [
             0.9,
             "#4d9221"
            ],
            [
             1,
             "#276419"
            ]
           ],
           "sequential": [
            [
             0,
             "#0d0887"
            ],
            [
             0.1111111111111111,
             "#46039f"
            ],
            [
             0.2222222222222222,
             "#7201a8"
            ],
            [
             0.3333333333333333,
             "#9c179e"
            ],
            [
             0.4444444444444444,
             "#bd3786"
            ],
            [
             0.5555555555555556,
             "#d8576b"
            ],
            [
             0.6666666666666666,
             "#ed7953"
            ],
            [
             0.7777777777777778,
             "#fb9f3a"
            ],
            [
             0.8888888888888888,
             "#fdca26"
            ],
            [
             1,
             "#f0f921"
            ]
           ],
           "sequentialminus": [
            [
             0,
             "#0d0887"
            ],
            [
             0.1111111111111111,
             "#46039f"
            ],
            [
             0.2222222222222222,
             "#7201a8"
            ],
            [
             0.3333333333333333,
             "#9c179e"
            ],
            [
             0.4444444444444444,
             "#bd3786"
            ],
            [
             0.5555555555555556,
             "#d8576b"
            ],
            [
             0.6666666666666666,
             "#ed7953"
            ],
            [
             0.7777777777777778,
             "#fb9f3a"
            ],
            [
             0.8888888888888888,
             "#fdca26"
            ],
            [
             1,
             "#f0f921"
            ]
           ]
          },
          "colorway": [
           "#636efa",
           "#EF553B",
           "#00cc96",
           "#ab63fa",
           "#FFA15A",
           "#19d3f3",
           "#FF6692",
           "#B6E880",
           "#FF97FF",
           "#FECB52"
          ],
          "font": {
           "color": "#2a3f5f"
          },
          "geo": {
           "bgcolor": "white",
           "lakecolor": "white",
           "landcolor": "#E5ECF6",
           "showlakes": true,
           "showland": true,
           "subunitcolor": "white"
          },
          "hoverlabel": {
           "align": "left"
          },
          "hovermode": "closest",
          "mapbox": {
           "style": "light"
          },
          "paper_bgcolor": "white",
          "plot_bgcolor": "#E5ECF6",
          "polar": {
           "angularaxis": {
            "gridcolor": "white",
            "linecolor": "white",
            "ticks": ""
           },
           "bgcolor": "#E5ECF6",
           "radialaxis": {
            "gridcolor": "white",
            "linecolor": "white",
            "ticks": ""
           }
          },
          "scene": {
           "xaxis": {
            "backgroundcolor": "#E5ECF6",
            "gridcolor": "white",
            "gridwidth": 2,
            "linecolor": "white",
            "showbackground": true,
            "ticks": "",
            "zerolinecolor": "white"
           },
           "yaxis": {
            "backgroundcolor": "#E5ECF6",
            "gridcolor": "white",
            "gridwidth": 2,
            "linecolor": "white",
            "showbackground": true,
            "ticks": "",
            "zerolinecolor": "white"
           },
           "zaxis": {
            "backgroundcolor": "#E5ECF6",
            "gridcolor": "white",
            "gridwidth": 2,
            "linecolor": "white",
            "showbackground": true,
            "ticks": "",
            "zerolinecolor": "white"
           }
          },
          "shapedefaults": {
           "line": {
            "color": "#2a3f5f"
           }
          },
          "ternary": {
           "aaxis": {
            "gridcolor": "white",
            "linecolor": "white",
            "ticks": ""
           },
           "baxis": {
            "gridcolor": "white",
            "linecolor": "white",
            "ticks": ""
           },
           "bgcolor": "#E5ECF6",
           "caxis": {
            "gridcolor": "white",
            "linecolor": "white",
            "ticks": ""
           }
          },
          "title": {
           "x": 0.05
          },
          "xaxis": {
           "automargin": true,
           "gridcolor": "white",
           "linecolor": "white",
           "ticks": "",
           "title": {
            "standoff": 15
           },
           "zerolinecolor": "white",
           "zerolinewidth": 2
          },
          "yaxis": {
           "automargin": true,
           "gridcolor": "white",
           "linecolor": "white",
           "ticks": "",
           "title": {
            "standoff": 15
           },
           "zerolinecolor": "white",
           "zerolinewidth": 2
          }
         }
        },
        "width": 800,
        "xaxis": {
         "linecolor": "black",
         "linewidth": 2,
         "showline": true,
         "ticklen": 5,
         "ticks": "inside",
         "tickwidth": 2,
         "title": {
          "text": "Superconductor Class"
         }
        },
        "yaxis": {
         "linecolor": "black",
         "linewidth": 2,
         "showline": true,
         "ticklen": 5,
         "ticks": "inside",
         "tickwidth": 2,
         "title": {
          "text": "Count"
         }
        }
       }
      }
     },
     "metadata": {},
     "output_type": "display_data"
    }
   ],
   "source": [
    "sc_class_counts = sc_class_counts.reindex(['Not Superconductor', 'Other', 'Cuprate', 'Ferrite', 'Heavy Fermion', 'Oxide', 'Chevrel', 'Carbon', 'Heavy Fermion Chevrel', 'Oxide Heavy Fermion'])\n",
    "precentages = (df_MP[\"sc_class_name\"].value_counts()/total_dataset_length)*100\n",
    "\n",
    "# Create a bar plot\n",
    "data = [go.Bar(x=sc_class_counts.index,\n",
    "               y=sc_class_counts.values,\n",
    "               text= [f'{x:.2f}%' for x in precentages],\n",
    "               textposition='auto',\n",
    "               marker = dict(color=['rgb(237, 121, 83)', 'rgb(33, 145, 140)', 'rgb(33, 145, 140)', 'rgb(33, 145, 140)', 'rgb(33, 145, 140)', 'rgb(33, 145, 140)', 'rgb(33, 145, 140)', 'rgb(33, 145, 140)', 'rgb(33, 145, 140)', 'rgb(33, 145, 140)']))]\n",
    "\n",
    "# Create the layout\n",
    "layout = go.Layout(xaxis=dict(title=\"Superconductor Class\", showline=True, linewidth=2, linecolor='black',\n",
    "                              ticks='inside', tickwidth=2, ticklen=5),\n",
    "                   yaxis=dict(title=\"Count\", showline=True, linewidth=2, linecolor='black',\n",
    "                              ticks='inside', tickwidth=2, ticklen=5), \n",
    "                   width=800,\n",
    "                   height=500,\n",
    "                   plot_bgcolor='white',\n",
    "                   paper_bgcolor='white', \n",
    "                   font=dict(family='Helvetica', size=16, color='black'),\n",
    "                   margin=dict(l=10, r=10, b=10, t=10))\n",
    "\n",
    "# Create the figure\n",
    "fig = go.Figure(data=data, layout=layout)\n",
    "\n",
    "# Show the figure\n",
    "fig.show()"
   ]
  },
  {
   "cell_type": "code",
   "execution_count": 12,
   "metadata": {},
   "outputs": [],
   "source": [
    "# Plot the variety of chemicals in other category\n",
    "df_MP_other = df_MP[df_MP['sc_class'] == 'Other']"
   ]
  },
  {
   "cell_type": "markdown",
   "metadata": {},
   "source": [
    "We have a few superconducting families here, but a lot of them are within the other section"
   ]
  },
  {
   "cell_type": "markdown",
   "metadata": {},
   "source": [
    "## Formula Analysis"
   ]
  },
  {
   "cell_type": "code",
   "execution_count": 13,
   "metadata": {},
   "outputs": [
    {
     "data": {
      "text/html": [
       "<div>\n",
       "<style scoped>\n",
       "    .dataframe tbody tr th:only-of-type {\n",
       "        vertical-align: middle;\n",
       "    }\n",
       "\n",
       "    .dataframe tbody tr th {\n",
       "        vertical-align: top;\n",
       "    }\n",
       "\n",
       "    .dataframe thead th {\n",
       "        text-align: right;\n",
       "    }\n",
       "</style>\n",
       "<table border=\"1\" class=\"dataframe\">\n",
       "  <thead>\n",
       "    <tr style=\"text-align: right;\">\n",
       "      <th></th>\n",
       "      <th>formula_sc</th>\n",
       "      <th>formula_similarity</th>\n",
       "      <th>totreldiff</th>\n",
       "      <th>formula_frac</th>\n",
       "      <th>correct_formula_frac</th>\n",
       "      <th>formula</th>\n",
       "      <th>orig_formula_cif</th>\n",
       "      <th>tc</th>\n",
       "    </tr>\n",
       "  </thead>\n",
       "  <tbody>\n",
       "    <tr>\n",
       "      <th>0</th>\n",
       "      <td>Ag0.02Ge2Pd1.98Sr1</td>\n",
       "      <td>2</td>\n",
       "      <td>0.008000</td>\n",
       "      <td>1.0</td>\n",
       "      <td>True</td>\n",
       "      <td>Ag0.02Ge2Pd1.98Sr1</td>\n",
       "      <td>Ge2Pd2Sr1</td>\n",
       "      <td>2.640000</td>\n",
       "    </tr>\n",
       "    <tr>\n",
       "      <th>1</th>\n",
       "      <td>Ag0.15Sn0.85Te1</td>\n",
       "      <td>3</td>\n",
       "      <td>0.150000</td>\n",
       "      <td>1.0</td>\n",
       "      <td>True</td>\n",
       "      <td>Ag0.15Sn0.85Te1</td>\n",
       "      <td>Sn1Te1</td>\n",
       "      <td>2.150000</td>\n",
       "    </tr>\n",
       "    <tr>\n",
       "      <th>2</th>\n",
       "      <td>Ag0.1Ge2Pd1.9Sr1</td>\n",
       "      <td>2</td>\n",
       "      <td>0.040000</td>\n",
       "      <td>1.0</td>\n",
       "      <td>True</td>\n",
       "      <td>Ag0.1Ge2Pd1.9Sr1</td>\n",
       "      <td>Ge2Pd2Sr1</td>\n",
       "      <td>2.620000</td>\n",
       "    </tr>\n",
       "    <tr>\n",
       "      <th>3</th>\n",
       "      <td>Ag0.1In0.9Te1</td>\n",
       "      <td>3</td>\n",
       "      <td>0.100000</td>\n",
       "      <td>1.0</td>\n",
       "      <td>True</td>\n",
       "      <td>Ag0.1In0.9Te1</td>\n",
       "      <td>In1Te1</td>\n",
       "      <td>1.200000</td>\n",
       "    </tr>\n",
       "    <tr>\n",
       "      <th>4</th>\n",
       "      <td>Ag0.2Ba1Si1.8</td>\n",
       "      <td>3</td>\n",
       "      <td>0.133333</td>\n",
       "      <td>4.0</td>\n",
       "      <td>False</td>\n",
       "      <td>Ag0.8Ba4Si7.2</td>\n",
       "      <td>Ba4Si8</td>\n",
       "      <td>3.200000</td>\n",
       "    </tr>\n",
       "    <tr>\n",
       "      <th>...</th>\n",
       "      <td>...</td>\n",
       "      <td>...</td>\n",
       "      <td>...</td>\n",
       "      <td>...</td>\n",
       "      <td>...</td>\n",
       "      <td>...</td>\n",
       "      <td>...</td>\n",
       "      <td>...</td>\n",
       "    </tr>\n",
       "    <tr>\n",
       "      <th>5768</th>\n",
       "      <td>Y1Zn1</td>\n",
       "      <td>1</td>\n",
       "      <td>0.000000</td>\n",
       "      <td>1.0</td>\n",
       "      <td>True</td>\n",
       "      <td>Y1Zn1</td>\n",
       "      <td>Y1Zn1</td>\n",
       "      <td>0.000000</td>\n",
       "    </tr>\n",
       "    <tr>\n",
       "      <th>5769</th>\n",
       "      <td>Yb1</td>\n",
       "      <td>1</td>\n",
       "      <td>0.000000</td>\n",
       "      <td>3.0</td>\n",
       "      <td>False</td>\n",
       "      <td>Yb3</td>\n",
       "      <td>Yb3</td>\n",
       "      <td>0.000000</td>\n",
       "    </tr>\n",
       "    <tr>\n",
       "      <th>5770</th>\n",
       "      <td>Zn1</td>\n",
       "      <td>1</td>\n",
       "      <td>0.000000</td>\n",
       "      <td>2.0</td>\n",
       "      <td>False</td>\n",
       "      <td>Zn2</td>\n",
       "      <td>Zn2</td>\n",
       "      <td>0.850800</td>\n",
       "    </tr>\n",
       "    <tr>\n",
       "      <th>5771</th>\n",
       "      <td>Zn2Zr1</td>\n",
       "      <td>1</td>\n",
       "      <td>0.000000</td>\n",
       "      <td>2.0</td>\n",
       "      <td>False</td>\n",
       "      <td>Zn4Zr2</td>\n",
       "      <td>Zn4Zr2</td>\n",
       "      <td>0.296667</td>\n",
       "    </tr>\n",
       "    <tr>\n",
       "      <th>5772</th>\n",
       "      <td>Zr1</td>\n",
       "      <td>1</td>\n",
       "      <td>0.000000</td>\n",
       "      <td>2.0</td>\n",
       "      <td>False</td>\n",
       "      <td>Zr2</td>\n",
       "      <td>Zr2</td>\n",
       "      <td>0.996667</td>\n",
       "    </tr>\n",
       "  </tbody>\n",
       "</table>\n",
       "<p>5773 rows × 8 columns</p>\n",
       "</div>"
      ],
      "text/plain": [
       "              formula_sc  formula_similarity  totreldiff  formula_frac  \\\n",
       "0     Ag0.02Ge2Pd1.98Sr1                   2    0.008000           1.0   \n",
       "1        Ag0.15Sn0.85Te1                   3    0.150000           1.0   \n",
       "2       Ag0.1Ge2Pd1.9Sr1                   2    0.040000           1.0   \n",
       "3          Ag0.1In0.9Te1                   3    0.100000           1.0   \n",
       "4          Ag0.2Ba1Si1.8                   3    0.133333           4.0   \n",
       "...                  ...                 ...         ...           ...   \n",
       "5768               Y1Zn1                   1    0.000000           1.0   \n",
       "5769                 Yb1                   1    0.000000           3.0   \n",
       "5770                 Zn1                   1    0.000000           2.0   \n",
       "5771              Zn2Zr1                   1    0.000000           2.0   \n",
       "5772                 Zr1                   1    0.000000           2.0   \n",
       "\n",
       "      correct_formula_frac             formula orig_formula_cif        tc  \n",
       "0                     True  Ag0.02Ge2Pd1.98Sr1        Ge2Pd2Sr1  2.640000  \n",
       "1                     True     Ag0.15Sn0.85Te1           Sn1Te1  2.150000  \n",
       "2                     True    Ag0.1Ge2Pd1.9Sr1        Ge2Pd2Sr1  2.620000  \n",
       "3                     True       Ag0.1In0.9Te1           In1Te1  1.200000  \n",
       "4                    False       Ag0.8Ba4Si7.2           Ba4Si8  3.200000  \n",
       "...                    ...                 ...              ...       ...  \n",
       "5768                  True               Y1Zn1            Y1Zn1  0.000000  \n",
       "5769                 False                 Yb3              Yb3  0.000000  \n",
       "5770                 False                 Zn2              Zn2  0.850800  \n",
       "5771                 False              Zn4Zr2           Zn4Zr2  0.296667  \n",
       "5772                 False                 Zr2              Zr2  0.996667  \n",
       "\n",
       "[5773 rows x 8 columns]"
      ]
     },
     "execution_count": 13,
     "metadata": {},
     "output_type": "execute_result"
    }
   ],
   "source": [
    "df_MP[[\"formula_sc\", \"formula_similarity\", \"totreldiff\", \"formula_frac\", \"correct_formula_frac\", \"formula\", \"orig_formula_cif\", \"tc\"]]"
   ]
  },
  {
   "cell_type": "code",
   "execution_count": 14,
   "metadata": {},
   "outputs": [
    {
     "data": {
      "text/plain": [
       "count    5773.000000\n",
       "mean        0.032930\n",
       "std         0.041665\n",
       "min         0.000000\n",
       "25%         0.000000\n",
       "50%         0.013333\n",
       "75%         0.056000\n",
       "max         0.150000\n",
       "Name: totreldiff, dtype: float64"
      ]
     },
     "execution_count": 14,
     "metadata": {},
     "output_type": "execute_result"
    }
   ],
   "source": [
    "df_MP[\"totreldiff\"].describe()"
   ]
  },
  {
   "cell_type": "code",
   "execution_count": 15,
   "metadata": {},
   "outputs": [
    {
     "data": {
      "text/plain": [
       "count    5773.000000\n",
       "mean        2.246826\n",
       "std         2.447629\n",
       "min         0.018180\n",
       "25%         1.000000\n",
       "50%         2.000000\n",
       "75%         2.000000\n",
       "max        64.000000\n",
       "Name: formula_frac, dtype: float64"
      ]
     },
     "execution_count": 15,
     "metadata": {},
     "output_type": "execute_result"
    }
   ],
   "source": [
    "df_MP[\"formula_frac\"].describe()"
   ]
  },
  {
   "cell_type": "code",
   "execution_count": 16,
   "metadata": {},
   "outputs": [
    {
     "data": {
      "text/plain": [
       "{'Ag1Se2Sn1': array([12, 17, 18, 20, 21, 22, 24], dtype=int64),\n",
       " 'Ag1Sn1Te2': array([7], dtype=int64),\n",
       " 'Ag3Al1': array([25], dtype=int64),\n",
       " 'Ag3Ge1': array([26], dtype=int64),\n",
       " 'Ag3Hg1': array([14], dtype=int64),\n",
       " 'Ag3In1': array([16], dtype=int64),\n",
       " 'Ag3Zn1': array([15], dtype=int64),\n",
       " 'Ag4Al2': array([ 8,  9, 10, 11, 13], dtype=int64),\n",
       " 'Ag4Cl6': array([23], dtype=int64),\n",
       " 'Ag4Hg4': array([6], dtype=int64),\n",
       " 'Ag6Ga2': array([19], dtype=int64),\n",
       " 'Al12Ge10': array([161], dtype=int64),\n",
       " 'Al12Mg17': array([212], dtype=int64),\n",
       " 'Al12Mg8': array([68], dtype=int64),\n",
       " 'Al12Mn1': array([145], dtype=int64),\n",
       " 'Al1B2': array([108], dtype=int64),\n",
       " 'Al1B4Mg1': array([69, 94, 95], dtype=int64),\n",
       " 'Al1Ba1Si1': array([130], dtype=int64),\n",
       " 'Al1Ca1Si1': array([111, 112, 148, 149, 155, 156], dtype=int64),\n",
       " 'Al1Cr2': array([81], dtype=int64),\n",
       " 'Al1Ga1Nb6': array([76, 77, 93], dtype=int64),\n",
       " 'Al1Ga1V6': array([82], dtype=int64),\n",
       " 'Al1Ge1Nb6': array([ 78,  89,  91,  92,  96,  99, 101, 102, 103, 105, 114], dtype=int64),\n",
       " 'Al1Hf1Pd2': array([165], dtype=int64),\n",
       " 'Al1Nb6Sn1': array([ 79,  88,  98, 116], dtype=int64),\n",
       " 'Al1Pd2Zr1': array([171, 193], dtype=int64),\n",
       " 'Al1Ti2V1': array([66], dtype=int64),\n",
       " 'Al1V2': array([87], dtype=int64),\n",
       " 'Al2Ca1Si2': array([216], dtype=int64),\n",
       " 'Al2La6': array([54, 64, 67, 72, 75], dtype=int64),\n",
       " 'Al2Mg1': array([90, 97], dtype=int64),\n",
       " 'Al2Mo3Nb3': array([170], dtype=int64),\n",
       " 'Al2Nb6': array([ 62, 100, 104, 106, 107, 109, 110, 113, 115, 117, 118, 119, 120,\n",
       "        121, 122, 123, 124, 125, 126, 127, 128, 129, 131, 132, 133, 134,\n",
       "        135, 136, 137, 138, 139, 140, 141, 142, 143, 144, 146, 147, 150,\n",
       "        151, 152, 153, 154, 160, 162, 163, 164, 167, 168, 169, 172, 173,\n",
       "        174, 175, 176, 177, 178, 179, 180, 181, 182, 183, 184, 185, 186,\n",
       "        187, 188, 189, 190, 191, 192], dtype=int64),\n",
       " 'Al2Os1': array([224], dtype=int64),\n",
       " 'Al2Th4': array([214], dtype=int64),\n",
       " 'Al2V6': array([53, 74], dtype=int64),\n",
       " 'Al3Cu2': array([194], dtype=int64),\n",
       " 'Al3Ni2U1': array([200, 215, 222, 223], dtype=int64),\n",
       " 'Al3Pd2U1': array([195, 196, 197, 198, 199, 217, 218, 219, 220, 221, 225, 226, 227,\n",
       "        228, 229, 230, 231], dtype=int64),\n",
       " 'Al3Si3U2': array([213], dtype=int64),\n",
       " 'Al40V4': array([201], dtype=int64),\n",
       " 'Al4La2': array([157, 158, 159, 202, 203, 204, 205, 206, 207, 208, 209, 210, 211],\n",
       "       dtype=int64),\n",
       " 'Al6La2': array([232], dtype=int64),\n",
       " 'Al6Y2': array([233], dtype=int64),\n",
       " 'Al8Lu12': array([166], dtype=int64),\n",
       " 'As1Fe2P1Sr1': array([244, 246, 247, 248], dtype=int64),\n",
       " 'As1La1': array([578], dtype=int64),\n",
       " 'As1Rh2': array([580], dtype=int64),\n",
       " 'As2Ba1Fe1Ru1': array([506, 507, 508, 509, 510, 511, 512, 513], dtype=int64),\n",
       " 'As2Ba1Ni2': array([250, 252, 253, 256, 257], dtype=int64),\n",
       " 'As2Ca2F2Fe2': array([258, 259, 260, 261, 262, 263, 264, 265, 266, 267, 268, 269, 270,\n",
       "        271], dtype=int64),\n",
       " 'As2Ce2Fe2O2': array([243, 245, 272, 273, 274, 275, 276, 277, 278, 279, 280, 281, 282,\n",
       "        283, 284, 285, 286], dtype=int64),\n",
       " 'As2Eu1Fe2': array([249, 251, 254, 525, 528, 536, 537, 538, 539, 540, 541, 542, 543,\n",
       "        544, 545, 546, 547], dtype=int64),\n",
       " 'As2F2Fe2Sr2': array([357, 358], dtype=int64),\n",
       " 'As2Fe2Gd2O2': array([345, 355, 360, 366, 372, 388, 389, 390], dtype=int64),\n",
       " 'As2Fe2K1': array([429, 430, 433, 515, 573, 574], dtype=int64),\n",
       " 'As2Fe2La1Y1O2': array([341, 348, 349, 391, 392], dtype=int64),\n",
       " 'As2Fe2Li2': array([291, 298, 303, 322, 378, 380, 385, 386, 387, 393], dtype=int64),\n",
       " 'As2Fe2Mg1Sr4Ti1O6': array([522, 532, 534, 575, 576], dtype=int64),\n",
       " 'As2Fe2Na2': array([287, 288, 289, 290, 292, 295, 296, 297, 299, 302, 304, 307, 308,\n",
       "        309, 314, 376, 395], dtype=int64),\n",
       " 'As2Fe2Nd2O2': array([324, 325, 332, 334, 336, 343, 344, 346, 350, 356, 363, 367, 373,\n",
       "        382, 396, 397, 398, 399, 400, 401, 402], dtype=int64),\n",
       " 'As2Fe2Pr2O2': array([293, 300, 305, 311, 315, 318, 320, 323, 330, 335, 340, 351, 354,\n",
       "        403, 404, 405, 406, 407, 408, 409, 410], dtype=int64),\n",
       " 'As2Fe2Sm2O2': array([294, 301, 306, 310, 312, 313, 316, 317, 319, 321, 326, 328, 329,\n",
       "        331, 333, 338, 339, 342, 347, 359, 361, 362, 364, 365, 368, 370,\n",
       "        371, 374, 375, 377, 379, 381, 383, 384, 411, 412, 413, 414, 415,\n",
       "        416, 417, 418], dtype=int64),\n",
       " 'As2Fe2Sr1': array([255, 516, 517, 518, 519, 520, 521, 523, 524, 526, 527, 529, 530,\n",
       "        531, 533, 535, 548, 549, 550, 551, 552, 553, 554, 555, 556, 557,\n",
       "        558, 559, 560, 561, 562, 563, 564, 565, 566, 567, 568, 569, 570,\n",
       "        571, 572], dtype=int64),\n",
       " 'As2Fe2Sr4V2O6': array([369, 394], dtype=int64),\n",
       " 'As2Fe2Tb2O2': array([352, 419, 420, 421, 422, 423, 424, 425], dtype=int64),\n",
       " 'As2La2Ni2O2': array([327, 337, 353, 426, 427], dtype=int64),\n",
       " 'As3Ir3Sr2': array([577], dtype=int64),\n",
       " 'As4Ba1Fe4K1': array([435, 438, 439, 442, 443, 444, 445, 446, 447, 448, 449, 450, 451,\n",
       "        452, 453, 454, 455, 456, 457, 458, 459, 460, 463, 465, 467, 468,\n",
       "        469, 470, 471, 473, 477, 478, 479, 480, 483, 484, 485, 486, 487],\n",
       "       dtype=int64),\n",
       " 'As4Ba1Fe4Na1': array([431, 434, 437, 464, 466, 472, 474, 476, 481, 482, 488, 503],\n",
       "       dtype=int64),\n",
       " 'As4Ru4': array([428], dtype=int64),\n",
       " 'As6Ba1Fe6K2': array([432, 436, 440, 441, 461, 462, 475], dtype=int64),\n",
       " 'As6Ba2Fe6K1': array([489, 490, 491, 493, 494, 495, 496, 497, 498, 499, 501, 502, 505],\n",
       "       dtype=int64),\n",
       " 'As6Ba2Fe6Na1': array([492, 500, 504], dtype=int64),\n",
       " 'As6Ca2Fe6Sr1': array([514], dtype=int64),\n",
       " 'As8Pt4': array([579], dtype=int64),\n",
       " 'Au1Ga2': array([590, 592, 594, 599, 603, 611, 612, 614, 615, 616], dtype=int64),\n",
       " 'Au1In1Pd1Y1': array([620], dtype=int64),\n",
       " 'Au1In2': array([618], dtype=int64),\n",
       " 'Au1Nb3': array([610, 613, 617, 619], dtype=int64),\n",
       " 'Au1Nb6Pt1': array([609], dtype=int64),\n",
       " 'Au1Te2': array([593, 600, 601, 602, 606, 623], dtype=int64),\n",
       " 'Au2Ga6': array([596], dtype=int64),\n",
       " 'Au2In1Y1': array([621], dtype=int64),\n",
       " 'Au2Nb6': array([585, 587, 588, 598, 622], dtype=int64),\n",
       " 'Au2Tl4': array([591], dtype=int64),\n",
       " 'Au2V6': array([586], dtype=int64),\n",
       " 'Au4Ga4': array([607, 608], dtype=int64),\n",
       " 'Au8Nb12': array([624], dtype=int64),\n",
       " 'B12Th1': array([689], dtype=int64),\n",
       " 'B12Zr1': array([684, 685, 686, 687, 688, 690], dtype=int64),\n",
       " 'B1Ca1Pd3': array([647], dtype=int64),\n",
       " 'B2Be1': array([942], dtype=int64),\n",
       " 'B2C1Dy1Ni2': array([732, 733, 734, 735, 736, 737, 738, 739, 740, 741, 742, 743, 744],\n",
       "       dtype=int64),\n",
       " 'B2C1Er1Ni2': array([706, 713, 745, 746, 747, 748, 749, 750, 751, 752, 753, 754, 755,\n",
       "        756, 757, 758, 759, 760], dtype=int64),\n",
       " 'B2C1Gd1Ni2': array([786, 787], dtype=int64),\n",
       " 'B2C1Ho1Ni2': array([722, 723, 727, 731, 761, 791, 792, 793, 794, 795, 796, 797, 798,\n",
       "        799, 800, 801, 802, 803], dtype=int64),\n",
       " 'B2C1La1Pt2': array([604], dtype=int64),\n",
       " 'B2C1Lu1Ni2': array([725, 728, 772, 774, 775, 778, 788, 790, 804, 805, 806, 807, 808,\n",
       "        809, 814, 815, 816], dtype=int64),\n",
       " 'B2C1Ni2Pr1': array([833], dtype=int64),\n",
       " 'B2C1Ni2Tb1': array([724, 729, 842, 843, 844, 845, 846], dtype=int64),\n",
       " 'B2C1Ni2Tm1': array([730, 763, 765, 766, 768, 769, 771], dtype=int64),\n",
       " 'B2C1Ni2Y1': array([707, 708, 709, 710, 711, 712, 714, 715, 716, 717, 718, 719, 720,\n",
       "        721, 726, 762, 764, 767, 770, 773, 776, 777, 779, 780, 781, 782,\n",
       "        783, 784, 785, 789, 810, 811, 812, 813, 817, 818, 819, 820, 821,\n",
       "        822, 823, 824, 825, 826, 827, 828, 829, 830, 831, 832, 834, 835,\n",
       "        836, 838], dtype=int64),\n",
       " 'B2C2Li2': array([694], dtype=int64),\n",
       " 'B2C2Lu2Ni2': array([649, 650, 652, 654, 655, 656, 691, 692, 693, 695, 696], dtype=int64),\n",
       " 'B2Co2La1': array([670, 854], dtype=int64),\n",
       " 'B2La1Rh3': array([847, 848, 849], dtype=int64),\n",
       " 'B2La1Ru3': array([974], dtype=int64),\n",
       " 'B2Mg1': array([ 28,  29,  30,  33,  34,  38,  40,  42,  43,  44,  46,  48,  49,\n",
       "         52,  55,  58,  63, 583, 643, 644, 657, 658, 659, 660, 661, 662,\n",
       "        663, 664, 665, 666, 667, 668, 669, 671, 672, 673, 674, 675, 676,\n",
       "        677, 678, 679, 680, 681, 682, 683, 850, 851, 852, 853, 855, 856,\n",
       "        857, 858, 859, 860, 861, 862, 863, 864, 865, 874, 875, 876, 877,\n",
       "        878, 879, 880, 885, 886, 887, 889, 890, 891, 892, 893, 894, 895,\n",
       "        902, 903, 904, 905, 906, 907, 908, 909, 910, 911, 912, 913, 914,\n",
       "        915, 916, 917, 918, 919, 920, 921, 922, 923, 924, 925, 926, 927,\n",
       "        928, 929, 930], dtype=int64),\n",
       " 'B2Nb1': array([900, 933, 934, 935, 936], dtype=int64),\n",
       " 'B2Nb10Si6': array([645, 651], dtype=int64),\n",
       " 'B2Nb2': array([642], dtype=int64),\n",
       " 'B2Si2': array([653], dtype=int64),\n",
       " 'B2Ta1': array([938], dtype=int64),\n",
       " 'B2Zr1': array([939, 940, 941], dtype=int64),\n",
       " 'B4C2Ni4Tb1Y1': array([837, 839, 840, 841], dtype=int64),\n",
       " 'B4La2Rh5': array([888], dtype=int64),\n",
       " 'B4Li8Pd12': array([ 36,  57, 697, 698, 699, 701, 702], dtype=int64),\n",
       " 'B4Li8Pt12': array([ 27,  37, 700], dtype=int64),\n",
       " 'B4Mo2': array([931, 932], dtype=int64),\n",
       " 'B4Nb6': array([703], dtype=int64),\n",
       " 'B4Ta6': array([704], dtype=int64),\n",
       " 'B4V6': array([705], dtype=int64),\n",
       " 'B5Mo2': array([ 70, 595, 977, 978, 979, 980, 981, 982, 983, 984], dtype=int64),\n",
       " 'B6Ba1': array([648], dtype=int64),\n",
       " 'B6Mg2': array([901], dtype=int64),\n",
       " 'B6Mo2': array([646], dtype=int64),\n",
       " 'B6Y1': array([986, 987, 988, 989, 990, 991, 992, 993, 994, 995, 996, 997, 998,\n",
       "        999], dtype=int64),\n",
       " 'B8Er2Lu2Ru4': array([871, 872, 873], dtype=int64),\n",
       " 'B8Er2Rh8': array([951, 952, 953, 954, 955, 956, 957, 958, 959, 960, 961, 962],\n",
       "       dtype=int64),\n",
       " 'B8Ho2Rh8': array([943, 944, 945, 946, 948, 949, 966, 967, 968, 969], dtype=int64),\n",
       " 'B8Ir8Lu1Y1': array([970, 971, 972, 973], dtype=int64),\n",
       " 'B8Lu2Rh8': array([975], dtype=int64),\n",
       " 'B8Lu4Ru4': array([866, 867, 868, 869, 870, 881, 882, 883, 884, 896, 897, 898, 899],\n",
       "       dtype=int64),\n",
       " 'B8Rh8Sc1Th1': array([976], dtype=int64),\n",
       " 'B8Rh8Y2': array([947, 950, 963, 964, 965], dtype=int64),\n",
       " 'B8Ru4Y4': array([937], dtype=int64),\n",
       " 'B8W4': array([985], dtype=int64),\n",
       " 'Ba1Bi3K2O9': array([1043, 1048, 1051, 1055, 1056, 1057], dtype=int64),\n",
       " 'Ba1Cu1La1Ti1O6': array([  80, 1114, 1118, 1239, 1308, 1309], dtype=int64),\n",
       " 'Ba1Cu3Pr1Sr1O7': array([1089], dtype=int64),\n",
       " 'Ba1Fe2P2': array([239], dtype=int64),\n",
       " 'Ba1Ga1Si1': array([1153], dtype=int64),\n",
       " 'Ba1Ge12Pt4': array([589], dtype=int64),\n",
       " 'Ba1Nb3O6': array([1155], dtype=int64),\n",
       " 'Ba1Ni2P2': array([1154], dtype=int64),\n",
       " 'Ba1Sb2Ti2O1': array([ 240, 1086, 1090, 1091, 1092, 1093, 1095, 1097, 1098, 1099, 1100,\n",
       "        1101, 1102, 1106, 1107, 1108, 1163, 1164, 1165], dtype=int64),\n",
       " 'Ba2Bi3K1O9': array([1060, 1061, 1062, 1063, 1064, 1065, 1066, 1067, 1068, 1069, 1070,\n",
       "        1071, 1072, 1073, 1074, 1075, 1076, 1077, 1078, 1079, 1080, 1081,\n",
       "        1082, 1083, 1084, 1085], dtype=int64),\n",
       " 'Ba2Ca1Cu2Hg1O6': array([1218, 1219, 1220, 1221, 1222, 1223, 1224, 1225, 1226, 1227, 1228,\n",
       "        1229], dtype=int64),\n",
       " 'Ba2Ca1Cu2Tl1O7': array([1206, 1207, 1210, 1211, 1212, 1214, 1215, 1216, 1230], dtype=int64),\n",
       " 'Ba2Ca1Cu2Tl2O8': array([1205, 1208, 1209, 1213, 1217], dtype=int64),\n",
       " 'Ba2Ca2Cu3Hg1O8': array([1231, 1232, 1233], dtype=int64),\n",
       " 'Ba2Co1Cu2Er1O7': array([1241], dtype=int64),\n",
       " 'Ba2Co1Cu2Eu1O7': array([1240, 1242], dtype=int64),\n",
       " 'Ba2Co1Cu2Gd1O7': array([1243], dtype=int64),\n",
       " 'Ba2Co1Cu2La1O7': array([1244, 1245], dtype=int64),\n",
       " 'Ba2Co1Cu2Nd1O7': array([1246], dtype=int64),\n",
       " 'Ba2Co1Cu2Pr1O7': array([1247, 1248, 1249], dtype=int64),\n",
       " 'Ba2Co1Cu2Sm1O7': array([1250], dtype=int64),\n",
       " 'Ba2Co1Cu2Y1O7': array([1251, 1252], dtype=int64),\n",
       " 'Ba2Cu1Hg1O4': array([1254, 1255, 1256, 1257, 1258, 1259, 1260, 1261, 1262, 1263, 1264,\n",
       "        1265, 1266, 1267, 1268, 1269, 1270, 1271, 1272, 1273, 1274, 1275,\n",
       "        1276, 1277, 1278, 1279, 1280, 1281, 1282, 1283, 1284, 1285, 1286,\n",
       "        1287, 1288, 1289, 1290, 1291, 1292, 1293, 1294], dtype=int64),\n",
       " 'Ba2Cu1Tl1O5': array([1121], dtype=int64),\n",
       " 'Ba2Cu2Nd1Tl1O7': array([1196], dtype=int64),\n",
       " 'Ba2Cu2Nd2Ti2O11': array([1306], dtype=int64),\n",
       " 'Ba2Cu2Tl1Y1O7': array([1197], dtype=int64),\n",
       " 'Ba2Cu2Tl2O8': array([1151], dtype=int64),\n",
       " 'Ba2Cu3Er1O7': array([1316, 1317, 1318, 1319, 1320], dtype=int64),\n",
       " 'Ba2Cu3Eu1O7': array([1329, 1330], dtype=int64),\n",
       " 'Ba2Cu3F1Y1O6': array([1331], dtype=int64),\n",
       " 'Ba2Cu3Gd1O7': array([1133, 1337, 1338, 1339, 1340, 1341], dtype=int64),\n",
       " 'Ba2Cu3La1O7': array([1349, 1350, 1351, 1352], dtype=int64),\n",
       " 'Ba2Cu3La1O8': array([1123], dtype=int64),\n",
       " 'Ba2Cu3Lu1O7': array([1354, 1355, 1356], dtype=int64),\n",
       " 'Ba2Cu3Nd1O7': array([1116, 1361, 1362, 1363, 1364, 1365], dtype=int64),\n",
       " 'Ba2Cu3Pr1O7': array([1124, 1203, 1310, 1311, 1312, 1313, 1314, 1321, 1332, 1333, 1334,\n",
       "        1342, 1343, 1344, 1345, 1346, 1357, 1374, 1375, 1377, 1378],\n",
       "       dtype=int64),\n",
       " 'Ba2Cu3Sm1O7': array([1119], dtype=int64),\n",
       " 'Ba2Cu3Y1O6': array([1167, 1174, 1186, 1194, 1195, 1198], dtype=int64),\n",
       " 'Ba2Cu3Y1O7': array([1115, 1122, 1190, 1199, 1234, 1236, 1237, 1323, 1366, 1368, 1379,\n",
       "        1380, 1381, 1382], dtype=int64),\n",
       " 'Ba2Cu3Y1O8': array([1135], dtype=int64),\n",
       " 'Ba2Cu4Dy1O8': array([1238], dtype=int64),\n",
       " 'Ba2Cu4Er1O8': array([1168, 1175, 1179], dtype=int64),\n",
       " 'Ba2Cu4Eu1O8': array([1385, 1386], dtype=int64),\n",
       " 'Ba2Cu4Gd1O8': array([1136], dtype=int64),\n",
       " 'Ba2Cu4Ho1O8': array([1125, 1169, 1176, 1180, 1188, 1191, 1200, 1204], dtype=int64),\n",
       " 'Ba2Cu4Pr1O8': array([1384, 1399, 1400], dtype=int64),\n",
       " 'Ba2Cu4Tm1O8': array([1170, 1177, 1181, 1184], dtype=int64),\n",
       " 'Ba2Cu4Y1O8': array([1109, 1110, 1111, 1112, 1113, 1117, 1120, 1126, 1127, 1129, 1130,\n",
       "        1131, 1132, 1137, 1171, 1172, 1173, 1178, 1182, 1183, 1185, 1187,\n",
       "        1189, 1192, 1193, 1201, 1383, 1387, 1388, 1389, 1390, 1391, 1392,\n",
       "        1393, 1394, 1395, 1401, 1402, 1403, 1404], dtype=int64),\n",
       " 'Ba2Cu4Yb1O8': array([1128], dtype=int64),\n",
       " 'Ba2Fe3Y1O8': array([1202], dtype=int64),\n",
       " 'Ba2Ge10': array([1408], dtype=int64),\n",
       " 'Ba2Pb2O6': array([1104, 1105, 1138, 1139, 1140, 1141, 1142, 1143, 1144, 1145, 1146,\n",
       "        1147, 1148, 1149, 1156, 1157, 1158, 1159, 1160, 1161], dtype=int64),\n",
       " 'Ba2Si12': array([1405, 1406, 1407], dtype=int64),\n",
       " 'Ba2W12O36': array([1030, 1032], dtype=int64),\n",
       " 'Ba4Bi4O12': array([1087, 1088, 1094, 1096, 1103], dtype=int64),\n",
       " 'Ba4Cu2Tl4O12': array([1166, 1235, 1295, 1296, 1297, 1298, 1299, 1300, 1301, 1302, 1303,\n",
       "        1304, 1305], dtype=int64),\n",
       " 'Ba4Cu4Nb2Pr2O16': array([1307], dtype=int64),\n",
       " 'Ba4Cu6Er1Pr1O14': array([1315], dtype=int64),\n",
       " 'Ba4Cu6Eu1Pr1O14': array([1322, 1324, 1325, 1326, 1327, 1328], dtype=int64),\n",
       " 'Ba4Cu6Gd1Pr1O14': array([1335, 1336], dtype=int64),\n",
       " 'Ba4Cu6La1Pr1O14': array([1347, 1348], dtype=int64),\n",
       " 'Ba4Cu6Lu1Pr1O14': array([1353], dtype=int64),\n",
       " 'Ba4Cu6Nd1Pr1O14': array([1358, 1359, 1360], dtype=int64),\n",
       " 'Ba4Cu6Pr1Sm1O14': array([1372], dtype=int64),\n",
       " 'Ba4Cu6Pr1Y1O14': array([1369, 1370, 1371, 1373, 1376], dtype=int64),\n",
       " 'Ba4Cu6Y2O13': array([1134, 1253, 1367], dtype=int64),\n",
       " 'Ba4Fe8Se12': array([1152], dtype=int64),\n",
       " 'Ba4Si8': array([   4, 1150, 1162], dtype=int64),\n",
       " 'Ba6Cu12Pr2Y1O24': array([1396, 1397, 1398], dtype=int64),\n",
       " 'Be12Mn1': array([1413], dtype=int64),\n",
       " 'Be12Mo1': array([1414], dtype=int64),\n",
       " 'Be12Pd1': array([1415], dtype=int64),\n",
       " 'Be12Pt1': array([1412], dtype=int64),\n",
       " 'Be12W1': array([1432], dtype=int64),\n",
       " 'Be26U2': array([1416, 1417, 1418, 1419, 1420, 1421, 1422, 1423, 1424, 1425, 1426,\n",
       "        1427, 1428, 1429, 1430, 1431], dtype=int64),\n",
       " 'Be26Zr2': array([1433], dtype=int64),\n",
       " 'Be2Si1': array([1411], dtype=int64),\n",
       " 'Be44Re2': array([1434, 1435, 1436, 1437], dtype=int64),\n",
       " 'Bi12Ni4': array([1582, 1583], dtype=int64),\n",
       " 'Bi1In2': array([1442, 1443, 1584], dtype=int64),\n",
       " 'Bi1In4': array([1482], dtype=int64),\n",
       " 'Bi1K1O3': array([1450, 1451, 1452, 1453, 1454, 1456, 1457, 1464, 1484, 1485, 1486,\n",
       "        1487], dtype=int64),\n",
       " 'Bi1La1': array([1585], dtype=int64),\n",
       " 'Bi1Pb1': array([1445, 1446, 1447], dtype=int64),\n",
       " 'Bi1Rb1O3': array([1455, 1458], dtype=int64),\n",
       " 'Bi1Sc1': array([1470], dtype=int64),\n",
       " 'Bi1Sn1': array([1448], dtype=int64),\n",
       " 'Bi2Ca2Cu3Sr2O10': array([1460], dtype=int64),\n",
       " 'Bi2Ce2S4O2': array([1469], dtype=int64),\n",
       " 'Bi2Cu2Pr1Sr2O8': array([1495, 1497, 1499], dtype=int64),\n",
       " 'Bi2Cu2Sr2Tm1O8': array([1589], dtype=int64),\n",
       " 'Bi2F1La2S4O1': array([1472, 1473, 1474, 1475, 1476, 1477, 1478], dtype=int64),\n",
       " 'Bi2F2S4Sr2': array([1479], dtype=int64),\n",
       " 'Bi2K1Sr1O6': array([1483], dtype=int64),\n",
       " 'Bi2La2S4O2': array([1471, 1480, 1481, 1488, 1489, 1490, 1491, 1492, 1493, 1494],\n",
       "       dtype=int64),\n",
       " 'Bi2Se3': array([1461, 1462], dtype=int64),\n",
       " 'Bi2Tl1': array([1449, 1592], dtype=int64),\n",
       " 'Bi2Tl6': array([1441], dtype=int64),\n",
       " 'Bi2Zr6': array([1444], dtype=int64),\n",
       " 'Bi48Rh12': array([1463, 1587], dtype=int64),\n",
       " 'Bi4Ca2Cu4I2Sr4O16': array([1504, 1508, 1516, 1525, 1526], dtype=int64),\n",
       " 'Bi4Ca2Cu4Sr4O16': array([1459, 1500, 1501, 1502, 1503, 1505, 1506, 1507, 1509, 1510, 1511,\n",
       "        1512, 1513, 1514, 1515, 1517, 1518, 1519, 1520, 1521, 1522, 1523,\n",
       "        1524, 1527, 1528, 1529, 1530, 1531, 1532, 1533, 1534, 1535, 1536,\n",
       "        1537, 1538, 1539, 1540, 1541, 1542, 1543, 1544, 1545, 1546, 1547,\n",
       "        1548, 1549, 1550, 1551, 1552, 1553, 1554, 1555, 1556, 1557, 1558,\n",
       "        1559, 1560, 1561, 1562, 1563, 1564, 1565, 1566, 1588], dtype=int64),\n",
       " 'Bi4Ca2Cu8Pb4Sr8Y2O32': array([1465, 1466, 1467, 1468], dtype=int64),\n",
       " 'Bi4Ca4Cu4Sr2O16': array([1567], dtype=int64),\n",
       " 'Bi4Cu2Sr4O12': array([1568, 1569, 1570, 1571, 1572, 1573, 1574, 1575, 1576, 1577],\n",
       "       dtype=int64),\n",
       " 'Bi4Cu4Sr4Y2O16': array([1496, 1498, 1578, 1579], dtype=int64),\n",
       " 'Bi4S4O2': array([1580, 1581], dtype=int64),\n",
       " 'Bi6La8': array([1586], dtype=int64),\n",
       " 'Bi6Mg2': array([1590], dtype=int64),\n",
       " 'Bi8Th6': array([1591], dtype=int64),\n",
       " 'Br2C2Y2': array([1595, 1596, 1597], dtype=int64),\n",
       " 'Br2Ca2Cu1O2': array([1598, 1599, 1600, 1601, 1602, 1603], dtype=int64),\n",
       " 'C12Ce8': array([1740], dtype=int64),\n",
       " 'C12Dy8': array([1747], dtype=int64),\n",
       " 'C12Er8': array([1748], dtype=int64),\n",
       " 'C12Gd8': array([1749], dtype=int64),\n",
       " 'C12Ho8': array([1750], dtype=int64),\n",
       " 'C12La8': array([1648, 1650, 1654], dtype=int64),\n",
       " 'C12Lu8': array([1759], dtype=int64),\n",
       " 'C12Nd8': array([1760], dtype=int64),\n",
       " 'C12Pr8': array([1764], dtype=int64),\n",
       " 'C12Sm8': array([1772], dtype=int64),\n",
       " 'C12Tb8': array([1773], dtype=int64),\n",
       " 'C12Th8': array([1651, 1778, 1779, 1780, 1781, 1782, 1783, 1784, 1785], dtype=int64),\n",
       " 'C12Tm8': array([1776], dtype=int64),\n",
       " 'C12Y8': array([ 638, 1649, 1652, 1777], dtype=int64),\n",
       " 'C16K2': array([1786], dtype=int64),\n",
       " 'C1Cu1Nb2S2': array([1663], dtype=int64),\n",
       " 'C1Cu1Sr2O5': array([1670], dtype=int64),\n",
       " 'C1Hf1': array([1637, 1688, 1689], dtype=int64),\n",
       " 'C1Mg1Ni3': array([1617, 1623, 1626, 1628, 1631, 1633, 1634, 1640, 1641, 1643, 1656,\n",
       "        1657, 1658, 1660, 1661, 1662, 1671, 1672, 1673, 1674, 1675, 1676,\n",
       "        1677, 1678, 1679, 1680, 1681, 1690, 1691, 1692, 1693, 1694, 1695,\n",
       "        1696, 1697, 1698, 1699, 1700, 1701, 1702, 1703, 1704], dtype=int64),\n",
       " 'C1Mo1': array([1619, 1682, 1683, 1684, 1705, 1715, 1716, 1718, 1719, 1720, 1721,\n",
       "        1722, 1723, 1724, 1725, 1726, 1727, 1728], dtype=int64),\n",
       " 'C1N1Nb2': array([1606, 1613, 1614, 1615], dtype=int64),\n",
       " 'C1Nb1': array([1620, 1625, 1630, 1636, 1638, 1642, 1644, 1645, 1646, 1706, 1707,\n",
       "        1732], dtype=int64),\n",
       " 'C1Sc1': array([1632], dtype=int64),\n",
       " 'C1Si1': array([627], dtype=int64),\n",
       " 'C1Ta1': array([1618, 1622, 1635, 1639], dtype=int64),\n",
       " 'C1Ta2': array([1609], dtype=int64),\n",
       " 'C1Ti1': array([1729], dtype=int64),\n",
       " 'C1V1': array([1627], dtype=int64),\n",
       " 'C1W1': array([1608, 1612, 1708], dtype=int64),\n",
       " 'C1Y1': array([1629], dtype=int64),\n",
       " 'C1Zr1': array([1730], dtype=int64),\n",
       " 'C2Cl2Y2': array([1593], dtype=int64),\n",
       " 'C2Cu2Sr4O10': array([1664, 1665, 1666, 1667, 1668, 1669], dtype=int64),\n",
       " 'C2Hf1Nb1': array([1685, 1686], dtype=int64),\n",
       " 'C2Hf1Zr1': array([1687], dtype=int64),\n",
       " 'C2I2Y2': array([1594, 1741], dtype=int64),\n",
       " 'C2La1': array([1653], dtype=int64),\n",
       " 'C2La1Ni1': array([1742, 1743, 1744, 1745, 1746, 1751, 1752, 1753, 1754, 1755, 1756,\n",
       "        1757, 1758], dtype=int64),\n",
       " 'C2Mo1Nb1': array([1709], dtype=int64),\n",
       " 'C2Mo1Ta1': array([1710, 1712], dtype=int64),\n",
       " 'C2Mo1W1': array([1711, 1713], dtype=int64),\n",
       " 'C2Mo3': array([1616], dtype=int64),\n",
       " 'C2Nb1Ta1': array([1731], dtype=int64),\n",
       " 'C2Nb4S2': array([1621, 1624, 1647], dtype=int64),\n",
       " 'C2Ni1Y1': array([1761, 1762, 1763], dtype=int64),\n",
       " 'C2Pt1U2': array([1768, 1769, 1770, 1771], dtype=int64),\n",
       " 'C2Rh1U2': array([1765, 1766, 1767], dtype=int64),\n",
       " 'C2Ta1Ti1': array([1735], dtype=int64),\n",
       " 'C2Ta1W1': array([1734, 1736, 1737], dtype=int64),\n",
       " 'C2Y1': array([1655, 1738, 1739, 1774, 1775], dtype=int64),\n",
       " 'C3Mo2Ta1': array([1714, 1717], dtype=int64),\n",
       " 'C4Cu4Sr8O20': array([625, 626, 628, 629, 631, 632, 633, 634, 635, 636], dtype=int64),\n",
       " 'C4Mo8': array([1607, 1611], dtype=int64),\n",
       " 'C4Nb8': array([1610], dtype=int64),\n",
       " 'C6Cr23': array([1659], dtype=int64),\n",
       " 'C6Sc8': array([1733], dtype=int64),\n",
       " 'Ca1Cu1O2': array([1840], dtype=int64),\n",
       " 'Ca1Cu2Sr2Tl1O7': array([1837, 1842, 1843, 1867, 1868], dtype=int64),\n",
       " 'Ca1Cu4Ga2Sr4Y1O14': array([1827, 1835], dtype=int64),\n",
       " 'Ca1Cu6Pb4Sr4Y1O16': array([1828, 1829, 1834], dtype=int64),\n",
       " 'Ca1Ga1Si1': array([59, 71], dtype=int64),\n",
       " 'Ca1Pb1Tl2': array([1869], dtype=int64),\n",
       " 'Ca1Si2': array([1871], dtype=int64),\n",
       " 'Ca2Cl2Cu1O2': array([1845, 1846, 1847, 1848, 1849, 1850, 1851, 1852, 1853, 1854, 1855,\n",
       "        1856, 1857, 1858, 1859, 1860, 1861, 1862, 1863, 1864, 1865],\n",
       "       dtype=int64),\n",
       " 'Ca2Cl2Cu2Sm2O6': array([1838], dtype=int64),\n",
       " 'Ca2Cu4Pb1Sr4Tl1O14': array([1839, 1841, 1844, 1866], dtype=int64),\n",
       " 'Ca2La2Mn4O12': array([1820, 1826, 1836], dtype=int64),\n",
       " 'Ca2Si4': array([1872], dtype=int64),\n",
       " 'Ca2Ti4Y2O12': array([1833], dtype=int64),\n",
       " 'Ca6Rh8Sn26': array([1870, 1873], dtype=int64),\n",
       " 'Cd1Hg2': array([1881], dtype=int64),\n",
       " 'Cd1Sn3': array([1877], dtype=int64),\n",
       " 'Cd1Tl3': array([1878], dtype=int64),\n",
       " 'Cd33Na6': array([1886], dtype=int64),\n",
       " 'Cd4Mg2': array([1880, 1882], dtype=int64),\n",
       " 'Cd4Re4O14': array([1885], dtype=int64),\n",
       " 'Cd6Mg2': array([1883, 1884], dtype=int64),\n",
       " 'Ce1Co1In5': array([1984, 1985, 1987, 1988, 1991, 1992, 1995, 2000, 2002, 2005, 2006,\n",
       "        2007, 2009, 2016, 2017, 2018, 2022, 2023, 2036, 2037, 2038, 2039,\n",
       "        2040, 2041, 2042, 2043, 2044, 2045, 2046, 2047, 2048, 2049, 2050,\n",
       "        2051], dtype=int64),\n",
       " 'Ce1Cu2Eu1Ru1Sr2O10': array([1981, 1996, 2024], dtype=int64),\n",
       " 'Ce1Cu2Si2': array([2011, 2056, 2057, 2058, 2059, 2060, 2061, 2062], dtype=int64),\n",
       " 'Ce1Ge12Pt4': array([1980, 1993], dtype=int64),\n",
       " 'Ce1In5Ir1': array([2033, 2068, 2069, 2070, 2071, 2072, 2073, 2074, 2075, 2076, 2077],\n",
       "       dtype=int64),\n",
       " 'Ce1In5Rh1': array([2025, 2032, 2034, 2066, 2067], dtype=int64),\n",
       " 'Ce1Ir1Si3': array([2035], dtype=int64),\n",
       " 'Ce1La1Ru4': array([1969, 1976, 1977, 1978, 1979, 1982], dtype=int64),\n",
       " 'Ce1N1': array([2078], dtype=int64),\n",
       " 'Ce1Pt3Si1': array([2010, 2013, 2015, 2019, 2020, 2021, 2063, 2064, 2065], dtype=int64),\n",
       " 'Ce1S1': array([2081], dtype=int64),\n",
       " 'Ce1Sb1': array([2082], dtype=int64),\n",
       " 'Ce2Co4': array([2052, 2053, 2054, 2055], dtype=int64),\n",
       " 'Ce2Ru4': array([1986, 1989, 1990, 1994, 1997, 1998, 1999, 2001, 2003, 2004, 2008,\n",
       "        2012, 2014, 2026, 2027, 2028, 2029, 2030, 2031, 2079, 2080],\n",
       "       dtype=int64),\n",
       " 'Ce8Ru2': array([1983], dtype=int64),\n",
       " 'Cl10N10Na2Ti10': array([2096], dtype=int64),\n",
       " 'Cl1Cu3Sr4O6': array([2085], dtype=int64),\n",
       " 'Cl2Hf2N2': array([2083], dtype=int64),\n",
       " 'Cl2N2Zr2': array([2084], dtype=int64),\n",
       " 'Cl4Li1N4Zr4': array([2089, 2090, 2091, 2092, 2093, 2094, 2095], dtype=int64),\n",
       " 'Cl6Hf6N6Na2': array([2086, 2087, 2088], dtype=int64),\n",
       " 'Co1Ga5Pu1': array([2130, 2146, 2148, 2166], dtype=int64),\n",
       " 'Co1Ga5U1': array([2165], dtype=int64),\n",
       " 'Co1In5Yb1': array([1965], dtype=int64),\n",
       " 'Co1La1Sr1O4': array([2123, 2128, 2144, 2172], dtype=int64),\n",
       " 'Co1Mo1': array([2121], dtype=int64),\n",
       " 'Co1Na1O2': array([2175, 2176], dtype=int64),\n",
       " 'Co1Ni1Zr4': array([2119, 2122, 2124], dtype=int64),\n",
       " 'Co2Na1O4': array([2173], dtype=int64),\n",
       " 'Co2Sc4': array([2120], dtype=int64),\n",
       " 'Co2Ti8': array([2111], dtype=int64),\n",
       " 'Co2U12': array([2133, 2134, 2137], dtype=int64),\n",
       " 'Co2V6': array([2150], dtype=int64),\n",
       " 'Co2Y2': array([2183, 2185], dtype=int64),\n",
       " 'Co2Zr4': array([2125, 2126, 2127, 2129, 2131, 2132, 2135, 2136, 2145, 2147, 2149,\n",
       "        2177, 2180, 2181, 2182, 2184], dtype=int64),\n",
       " 'Co2Zr6': array([2179], dtype=int64),\n",
       " 'Co4Cu2S8': array([2151, 2152, 2153, 2154, 2155, 2156, 2157, 2158, 2159, 2160, 2161,\n",
       "        2162, 2163, 2164], dtype=int64),\n",
       " 'Co4Ge4U4': array([2167, 2168, 2169, 2170, 2171], dtype=int64),\n",
       " 'Co4Na2O6': array([2174], dtype=int64),\n",
       " 'Co4U4': array([2138, 2139, 2140, 2141, 2142, 2143], dtype=int64),\n",
       " 'Co5Te6': array([2178], dtype=int64),\n",
       " 'Cr1Cu1O2': array([2213, 2214], dtype=int64),\n",
       " 'Cr1Ir3': array([2195], dtype=int64),\n",
       " 'Cr1Mo1': array([2200, 2202], dtype=int64),\n",
       " 'Cr1Nb3': array([2198], dtype=int64),\n",
       " 'Cr1V1': array([2201], dtype=int64),\n",
       " 'Cr2Ti8': array([2191, 2215], dtype=int64),\n",
       " 'Cr6Ir2': array([2203, 2206, 2208, 2210], dtype=int64),\n",
       " 'Cr6Os2': array([2204, 2211], dtype=int64),\n",
       " 'Cr6Pt2': array([2207], dtype=int64),\n",
       " 'Cr6Rh2': array([2209, 2212], dtype=int64),\n",
       " 'Cr6Ru2': array([2205], dtype=int64),\n",
       " 'Cs1W3O9': array([2216, 2217, 2218, 2219, 2220, 2221], dtype=int64),\n",
       " 'Cu1Eu2O4': array([1942], dtype=int64),\n",
       " 'Cu1F2Sr2O2': array([1044, 1052], dtype=int64),\n",
       " 'Cu1La1Nd1O4': array([1806, 1945, 2339], dtype=int64),\n",
       " 'Cu1La1Sr1Tl1O5': array([1059, 1830, 2267, 2282, 2342, 2343], dtype=int64),\n",
       " 'Cu1La2O4': array([1000, 1001, 1002, 1003, 1004, 1005, 1006, 1007, 1008, 1009, 1011,\n",
       "        1012, 1013, 1015, 1016, 1017, 1018, 1019, 1020, 1021, 1022, 1023,\n",
       "        1024, 1025, 1026, 1027, 1028, 1029, 1031, 1033, 1034, 1035, 1036,\n",
       "        1037, 1038, 1039, 1040, 1041, 1042, 1047, 1049, 1050, 1053, 1054,\n",
       "        1058, 1794, 1795, 1797, 1798, 1799, 1800, 1801, 1802, 1803, 1804,\n",
       "        1805, 1808, 1810, 1812, 1813, 1814, 1822, 1908, 1909, 1918, 1919,\n",
       "        1922, 1923, 1924, 1926, 1930, 1931, 1944, 1949, 1950, 2236, 2240,\n",
       "        2247, 2249, 2250, 2252, 2253, 2254, 2256, 2257, 2258, 2259, 2260,\n",
       "        2261, 2262, 2263, 2264, 2265, 2266, 2271, 2272, 2274, 2275, 2276,\n",
       "        2283, 2284, 2285, 2286, 2287, 2288, 2289, 2290, 2291, 2292, 2293,\n",
       "        2294, 2295, 2296, 2297, 2298, 2299, 2300, 2301, 2302, 2303, 2304,\n",
       "        2305, 2306, 2307, 2308, 2309, 2310, 2311, 2312, 2313, 2314, 2315,\n",
       "        2316, 2317, 2318, 2319, 2320, 2321, 2322, 2323, 2324, 2325, 2326,\n",
       "        2327, 2328, 2329, 2330, 2331, 2332, 2333, 2334, 2335, 2336, 2337,\n",
       "        2338, 2344, 2345, 2346, 2347, 2348, 2349, 2350, 2351, 2352, 2353,\n",
       "        2354, 2355, 2356, 2357, 2358, 2359, 2360, 2361, 2362, 2363, 2364,\n",
       "        2365, 2366, 2367, 2368, 2369, 2370, 2371, 2372, 2373, 2374, 2375,\n",
       "        2376], dtype=int64),\n",
       " 'Cu1La4Li1O8': array([2234], dtype=int64),\n",
       " 'Cu1Nd2O4': array([1890, 1891, 1897, 1915, 1927, 1932, 1936, 1940, 1946, 1951, 1954,\n",
       "        1957, 1966, 2382, 2383, 2384, 2385], dtype=int64),\n",
       " 'Cu1Pr2O4': array([1898, 1902, 1920, 1933, 1937, 1952, 1955, 1958, 1967, 1970, 2388],\n",
       "       dtype=int64),\n",
       " 'Cu1Sm2O4': array([1910, 1921, 1925, 1928, 1934, 1935, 1938, 1941, 1947, 1953, 1956,\n",
       "        1963, 1971], dtype=int64),\n",
       " 'Cu1Sr1O2': array([2278, 2280, 2377, 2378], dtype=int64),\n",
       " 'Cu1Sr2O3': array([2405, 2406, 2407, 2408], dtype=int64),\n",
       " 'Cu1Sr2Tl1O5': array([2192, 2196], dtype=int64),\n",
       " 'Cu1Y1O3': array([1788, 1789, 2409], dtype=int64),\n",
       " 'Cu1Zr2': array([2447], dtype=int64),\n",
       " 'Cu2Dy4O8': array([1809], dtype=int64),\n",
       " 'Cu2Gd4O8': array([1943], dtype=int64),\n",
       " 'Cu2Ir4S8': array([2235, 2238, 2239, 2248], dtype=int64),\n",
       " 'Cu2La2O6': array([2340, 2341], dtype=int64),\n",
       " 'Cu2La2Sr1O6': array([2441, 2442], dtype=int64),\n",
       " 'Cu2Pr1Sr2Tl1O7': array([1823], dtype=int64),\n",
       " 'Cu2Rh4S8': array([2102, 2188, 2268], dtype=int64),\n",
       " 'Cu2Rh4Se8': array([2389, 2390, 2391, 2392], dtype=int64),\n",
       " 'Cu2S4': array([1875, 2393], dtype=int64),\n",
       " 'Cu2Se4': array([1876, 2255], dtype=int64),\n",
       " 'Cu2Sn6': array([2443], dtype=int64),\n",
       " 'Cu2Sr2O4': array([2273, 2277, 2279, 2281, 2379, 2380, 2381, 2386, 2387, 2394, 2395,\n",
       "        2396, 2397, 2398, 2399, 2400, 2401, 2402], dtype=int64),\n",
       " 'Cu2Sr2Tl1Y1O7': array([1824], dtype=int64),\n",
       " 'Cu2Te2': array([2448], dtype=int64),\n",
       " 'Cu2Tm4O8': array([1811], dtype=int64),\n",
       " 'Cu2Zn1': array([2233], dtype=int64),\n",
       " 'Cu3Ga1': array([2242], dtype=int64),\n",
       " 'Cu3Sb1': array([2237, 2244], dtype=int64),\n",
       " 'Cu4Fe2Sr4Y2O14': array([2413, 2414, 2415, 2416, 2417, 2418], dtype=int64),\n",
       " 'Cu4Ga2Sr4Tm2O14': array([1821, 1831], dtype=int64),\n",
       " 'Cu4Ga2Sr4Y2O14': array([1815], dtype=int64),\n",
       " 'Cu4Gd2Ru2Sr4O16': array([1816, 1894, 1903, 1959, 1972, 2100, 2270, 2410, 2411, 2412, 2419,\n",
       "        2420, 2421, 2422, 2423, 2424, 2425, 2426, 2427, 2428, 2429, 2430,\n",
       "        2431, 2432, 2433, 2434, 2435, 2436, 2437, 2438, 2439, 2440],\n",
       "       dtype=int64),\n",
       " 'Cu4Sr4O10': array([2403, 2404], dtype=int64),\n",
       " 'Cu5La1': array([2449], dtype=int64),\n",
       " 'Cu6Ge2': array([2241, 2243, 2245, 2246], dtype=int64),\n",
       " 'Cu6Pb4Sr4Y2O16': array([1807, 2444, 2445, 2446], dtype=int64),\n",
       " 'Cu6Sn2': array([2251, 2450], dtype=int64),\n",
       " 'Cu8S4': array([2269], dtype=int64),\n",
       " 'Cu8Y8O20': array([1787], dtype=int64),\n",
       " 'Er1Pd2Sn1': array([2463, 2464, 2465], dtype=int64),\n",
       " 'Er1Pd4Sn2Y1': array([2461, 2462], dtype=int64),\n",
       " 'Er5Rh6Sn18': array([2466], dtype=int64),\n",
       " 'Fe12Lu8Si20': array([2451, 2453, 2565, 2566, 2567, 2568, 2569], dtype=int64),\n",
       " 'Fe12Si20Y8': array([2454, 2564], dtype=int64),\n",
       " 'Fe1La1Sr1O4': array([2230, 2521], dtype=int64),\n",
       " 'Fe1Ni1U12': array([2485], dtype=int64),\n",
       " 'Fe1Ni1Zr4': array([2488, 2489, 2490, 2492, 2493], dtype=int64),\n",
       " 'Fe1V3Zr2': array([2491], dtype=int64),\n",
       " 'Fe2K1S2': array([2501, 2511], dtype=int64),\n",
       " 'Fe2K1Se2': array([2097, 2098, 2099, 2186, 2187, 2500, 2502, 2503, 2504, 2505, 2506,\n",
       "        2507, 2508, 2509, 2510, 2512, 2514, 2516, 2517, 2518, 2519, 2520,\n",
       "        2559, 2560, 2561], dtype=int64),\n",
       " 'Fe2La2P2O2': array([ 235,  237,  238,  241,  242, 1817, 2467, 2468, 2469, 2470],\n",
       "       dtype=int64),\n",
       " 'Fe2P2Pr2O2': array([2471], dtype=int64),\n",
       " 'Fe2S16Ta8': array([2474], dtype=int64),\n",
       " 'Fe2S1Se1': array([2528], dtype=int64),\n",
       " 'Fe2Se1Te1': array([2496, 2536, 2537, 2538, 2539, 2540, 2541, 2542, 2543, 2544, 2545,\n",
       "        2546], dtype=int64),\n",
       " 'Fe2Se2': array([2105, 2112, 2495, 2498, 2522, 2523, 2524, 2526, 2547, 2548, 2549,\n",
       "        2550, 2551, 2552, 2553, 2554, 2555], dtype=int64),\n",
       " 'Fe2Se2Tl1': array([2513, 2515], dtype=int64),\n",
       " 'Fe2Te2': array([2525, 2527, 2529, 2530, 2531, 2532, 2533, 2534, 2535, 2556, 2557],\n",
       "       dtype=int64),\n",
       " 'Fe2Te4': array([2562], dtype=int64),\n",
       " 'Fe2U12': array([2197, 2494], dtype=int64),\n",
       " 'Fe2U8': array([2558], dtype=int64),\n",
       " 'Fe2Zr4': array([2563], dtype=int64),\n",
       " 'Fe4Se1Te3': array([2497, 2499], dtype=int64),\n",
       " 'Ga10Mn4': array([2655], dtype=int64),\n",
       " 'Ga1Nb1Ni2': array([2640], dtype=int64),\n",
       " 'Ga1Nb4Se8': array([2570, 2575], dtype=int64),\n",
       " 'Ga1Nb6Sn1': array([2599, 2605, 2607, 2609, 2610, 2618], dtype=int64),\n",
       " 'Ga1Ni2Zr1': array([2637, 2639], dtype=int64),\n",
       " 'Ga1Si1Sr1': array([2621, 2629, 2631, 2632], dtype=int64),\n",
       " 'Ga1Si1V6': array([2598, 2604, 2606, 2608, 2611], dtype=int64),\n",
       " 'Ga1V1': array([2603], dtype=int64),\n",
       " 'Ga2Nb6': array([  50, 2574, 2583, 2585, 2592, 2597, 2601, 2619, 2624, 2626, 2627,\n",
       "        2650], dtype=int64),\n",
       " 'Ga2V6': array([  60, 1438, 1874, 1964, 2114, 2193, 2480, 2579, 2580, 2581, 2582,\n",
       "        2584, 2586, 2587, 2589, 2591, 2595, 2596, 2602, 2612, 2613, 2614,\n",
       "        2615, 2616, 2617, 2620, 2622, 2623, 2625, 2628, 2630, 2633, 2634,\n",
       "        2635, 2636, 2638, 2641, 2642, 2643, 2644, 2646, 2647, 2648, 2649,\n",
       "        2651, 2652], dtype=int64),\n",
       " 'Ga3Pd2U1': array([83], dtype=int64),\n",
       " 'Ga4Nb6': array([2653], dtype=int64),\n",
       " 'Ga4Zr6': array([2654], dtype=int64),\n",
       " 'Ga6V10': array([2645], dtype=int64),\n",
       " 'Ge12Pr1Pt4': array([1904, 1911, 1916, 1917, 1939, 1960, 1968, 1973, 1975], dtype=int64),\n",
       " 'Ge1Nb6Sn1': array([2694, 2699, 2701], dtype=int64),\n",
       " 'Ge1Si1V6': array([2700, 2702], dtype=int64),\n",
       " 'Ge1Sn3': array([2697], dtype=int64),\n",
       " 'Ge1Te1': array([2703, 2704, 2705, 2706, 2741], dtype=int64),\n",
       " 'Ge2In6': array([2695], dtype=int64),\n",
       " 'Ge2La1Pd2': array([2714, 2715, 2719], dtype=int64),\n",
       " 'Ge2La1Pt2': array([2713, 2723, 2724, 2725, 2726, 2727, 2728, 2729], dtype=int64),\n",
       " 'Ge2Mo6': array([2688], dtype=int64),\n",
       " 'Ge2Nb6': array([2682, 2692], dtype=int64),\n",
       " 'Ge2Pd2Sr1': array([   0,    2,    5, 2107, 2716, 2717, 2720, 2730, 2731, 2732, 2733,\n",
       "        2734, 2735, 2736, 2737, 2738, 2739], dtype=int64),\n",
       " 'Ge2Sb6': array([2696], dtype=int64),\n",
       " 'Ge2Tl6': array([2698], dtype=int64),\n",
       " 'Ge2V6': array([2686, 2689, 2691], dtype=int64),\n",
       " 'Ge4La2': array([2708, 2709, 2710, 2711, 2712, 2718], dtype=int64),\n",
       " 'Ge4Rh8': array([2740], dtype=int64),\n",
       " 'Ge4Th6': array([2722], dtype=int64),\n",
       " 'Ge4Y2': array([2707], dtype=int64),\n",
       " 'Ge6Nb10': array([2721], dtype=int64),\n",
       " 'Ge8Nb24': array([  51,   84, 2687], dtype=int64),\n",
       " 'H1V2': array([2742], dtype=int64),\n",
       " 'H2La1': array([2756], dtype=int64),\n",
       " 'H2Nb1': array([2743], dtype=int64),\n",
       " 'H2Pd2': array([2744, 2745, 2746, 2747, 2748, 2749, 2750, 2751, 2752, 2753, 2754,\n",
       "        2755], dtype=int64),\n",
       " 'H3Th1': array([2757], dtype=int64),\n",
       " 'Hf10Ir6': array([2788], dtype=int64),\n",
       " 'Hf1N1': array([2780, 2785], dtype=int64),\n",
       " 'Hf1N2Nb1': array([2765], dtype=int64),\n",
       " 'Hf1Ta1': array([2764], dtype=int64),\n",
       " 'Hf1V4Zr1': array([2762, 2763, 2766, 2768], dtype=int64),\n",
       " 'Hf2Mo4': array([2761], dtype=int64),\n",
       " 'Hf2V4': array([2481, 2770, 2772, 2773, 2774, 2775, 2776, 2777, 2778, 2779, 2781,\n",
       "        2782, 2783, 2784, 2787], dtype=int64),\n",
       " 'Hf2W4': array([2760], dtype=int64),\n",
       " 'Hf6N8': array([2786], dtype=int64),\n",
       " 'Hf8Mo2': array([2771], dtype=int64),\n",
       " 'Hf8W2': array([2767, 2769], dtype=int64),\n",
       " 'Hg1Pb2': array([2791], dtype=int64),\n",
       " 'Hg24K4': array([2798], dtype=int64),\n",
       " 'Hg2Mg6': array([2792], dtype=int64),\n",
       " 'Hg2Pt1': array([2796], dtype=int64),\n",
       " 'Hg3Tl1': array([2789, 2790, 2797], dtype=int64),\n",
       " 'Hg4Pt1': array([2793], dtype=int64),\n",
       " 'Hg6Na2': array([2795], dtype=int64),\n",
       " 'Hg7K2': array([2794], dtype=int64),\n",
       " 'Ho2Ru2Sr4O12': array([2227], dtype=int64),\n",
       " 'In1La3': array([  85, 1879, 1895, 1896, 1899, 1907, 1912, 1913, 1914, 2600, 2656,\n",
       "        2657, 2659, 2660, 2663, 2665, 2666, 2667, 2670, 2675, 2827],\n",
       "       dtype=int64),\n",
       " 'In1Mg3': array([2810], dtype=int64),\n",
       " 'In1Pd2Y1': array([597], dtype=int64),\n",
       " 'In1S8V6': array([2820], dtype=int64),\n",
       " 'In1Sb2': array([2836], dtype=int64),\n",
       " 'In1Sn1Te2': array([2816, 2818], dtype=int64),\n",
       " 'In1Sn2Te3': array([2814, 2815], dtype=int64),\n",
       " 'In1Te1': array([   3, 2824, 2825, 2826, 2829, 2830, 2837], dtype=int64),\n",
       " 'In1Tl1': array([2817], dtype=int64),\n",
       " 'In3Mg1': array([2823], dtype=int64),\n",
       " 'In3Sn1': array([2822], dtype=int64),\n",
       " 'In3Y1': array([2835], dtype=int64),\n",
       " 'In4Te4': array([2831, 2832, 2833, 2834], dtype=int64),\n",
       " 'In6Tl2': array([2819, 2821, 2828], dtype=int64),\n",
       " 'Ir1Nb1': array([2886, 2887, 2902], dtype=int64),\n",
       " 'Ir1Pt3': array([2861], dtype=int64),\n",
       " 'Ir1Ru1': array([2849], dtype=int64),\n",
       " 'Ir2Mo2': array([2850], dtype=int64),\n",
       " 'Ir2Mo6': array([2844], dtype=int64),\n",
       " 'Ir2Nb6': array([2854, 2883], dtype=int64),\n",
       " 'Ir2Os2Th2': array([2865, 2888], dtype=int64),\n",
       " 'Ir2Ru6': array([2843, 2847], dtype=int64),\n",
       " 'Ir2Sc8': array([2892], dtype=int64),\n",
       " 'Ir3Os1': array([2855], dtype=int64),\n",
       " 'Ir3Re1': array([2851], dtype=int64),\n",
       " 'Ir3Rh1': array([2857, 2859, 2868], dtype=int64),\n",
       " 'Ir3Sc1': array([2897], dtype=int64),\n",
       " 'Ir3Se8': array([2893], dtype=int64),\n",
       " 'Ir3Te8': array([2894, 2895], dtype=int64),\n",
       " 'Ir4La10': array([2891], dtype=int64),\n",
       " 'Ir4Te8': array([2862, 2863, 2864, 2866, 2869, 2870, 2871, 2872, 2873, 2874, 2875,\n",
       "        2876, 2877, 2878, 2879, 2880, 2881, 2882, 2884, 2885], dtype=int64),\n",
       " 'Ir4Th2': array([2889, 2890], dtype=int64),\n",
       " 'Ir4Y12': array([2896], dtype=int64),\n",
       " 'Ir4Y2': array([2852, 2858], dtype=int64),\n",
       " 'Ir6Lu4Si10': array([2899, 2900, 2901], dtype=int64),\n",
       " 'Ir6Mo2': array([2853, 2860], dtype=int64),\n",
       " 'Ir6Nb2': array([2898], dtype=int64),\n",
       " 'Ir6Re2': array([2856, 2867], dtype=int64),\n",
       " 'Ir8Lu10Si20': array([2117], dtype=int64),\n",
       " 'K1Mo1O3': array([2906], dtype=int64),\n",
       " 'K1Ta1O3': array([2908, 2909, 2910, 2911, 2912], dtype=int64),\n",
       " 'K1W3O9': array([2903, 2904], dtype=int64),\n",
       " 'K2Nb1Ta1O6': array([2913], dtype=int64),\n",
       " 'K2Re2O8': array([2907], dtype=int64),\n",
       " 'K4Ni6S8': array([2914], dtype=int64),\n",
       " 'K4Ni6Se8': array([2915], dtype=int64),\n",
       " 'K4Tl8': array([2916], dtype=int64),\n",
       " 'K9W20O60': array([2905], dtype=int64),\n",
       " 'La10Ru4': array([2993], dtype=int64),\n",
       " 'La14Ni6': array([2991], dtype=int64),\n",
       " 'La1Mo6Se8': array([2936, 2941, 2952], dtype=int64),\n",
       " 'La1Os4Sb12': array([2942], dtype=int64),\n",
       " 'La1P12Ru4': array([1905, 1961], dtype=int64),\n",
       " 'La1Pb3': array([2932, 2933, 2934, 2939, 2943, 2955, 2968, 2977], dtype=int64),\n",
       " 'La1Ru3Si2': array([2108, 2109, 2115, 2472, 2475, 2477, 2478, 2479, 2937, 2948],\n",
       "       dtype=int64),\n",
       " 'La1S1': array([2994], dtype=int64),\n",
       " 'La1Se1': array([2956, 2969, 2995], dtype=int64),\n",
       " 'La1Sn3': array([1889, 1893, 1900, 1901, 2658, 2673, 2674, 2678, 2938, 2940, 2945,\n",
       "        2949, 2957, 2960, 2989], dtype=int64),\n",
       " 'La1Tl3': array([2944, 2951, 2958], dtype=int64),\n",
       " 'La2N2': array([2973], dtype=int64),\n",
       " 'La2Ni2O6': array([2966, 2967], dtype=int64),\n",
       " 'La2Ni2Si2': array([2976, 2992], dtype=int64),\n",
       " 'La2O3': array([2988], dtype=int64),\n",
       " 'La2Pd2Sb4': array([2978], dtype=int64),\n",
       " 'La2Pt2Si2': array([1887, 1888, 2946, 2947, 2950, 2953, 2954, 2959, 2961, 2962, 2964,\n",
       "        2965, 2974, 2975], dtype=int64),\n",
       " 'La2Pt4': array([2926], dtype=int64),\n",
       " 'La2Ru4': array([1906, 1948, 1962, 1974, 2661, 2664, 2668, 2671, 2676, 2677, 2963],\n",
       "       dtype=int64),\n",
       " 'La2Sr1Ti3O9': array([2931, 2935, 2971], dtype=int64),\n",
       " 'La2Y2': array([2930], dtype=int64),\n",
       " 'La3Tl1': array([2979, 2983, 2984], dtype=int64),\n",
       " 'La4Rh4O12': array([1825, 2970], dtype=int64),\n",
       " 'La4Sr2O8': array([2990], dtype=int64),\n",
       " 'La6S8': array([2981], dtype=int64),\n",
       " 'La6Se8': array([2980, 2982], dtype=int64),\n",
       " 'La8Ni4O16': array([2972, 2985, 2986, 2987], dtype=int64),\n",
       " 'Li1S4Ta2': array([2996], dtype=int64),\n",
       " 'Li2Mo6Se6': array([3015], dtype=int64),\n",
       " 'Li2Nb2O4': array([3000], dtype=int64),\n",
       " 'Li2Nb4O8': array([2999], dtype=int64),\n",
       " 'Li2Ti4O8': array([2226, 3001, 3002, 3003, 3004, 3005, 3006, 3007, 3008, 3009, 3010,\n",
       "        3011, 3012, 3013, 3014], dtype=int64),\n",
       " 'Li3W8O24': array([2998], dtype=int64),\n",
       " 'Li4V24O60': array([2997], dtype=int64),\n",
       " 'Lu10Rh6': array([3017], dtype=int64),\n",
       " 'Lu1Rh3': array([3016], dtype=int64),\n",
       " 'Lu1Si2': array([3019], dtype=int64),\n",
       " 'Lu8Rh2': array([3018], dtype=int64),\n",
       " 'Mg1Tl1': array([3020], dtype=int64),\n",
       " 'Mg2Zn4': array([3021], dtype=int64),\n",
       " 'Mg6Zn2': array([3022], dtype=int64),\n",
       " 'Mn1Ni3': array([3025], dtype=int64),\n",
       " 'Mn2Ru6': array([3026], dtype=int64),\n",
       " 'Mo1O2': array([3035], dtype=int64),\n",
       " 'Mo1P1': array([3057], dtype=int64),\n",
       " 'Mo1Re1': array([3042, 3044, 3045], dtype=int64),\n",
       " 'Mo1Re3': array([3054], dtype=int64),\n",
       " 'Mo1Tc1': array([3043], dtype=int64),\n",
       " 'Mo1Tc3': array([3031, 3040], dtype=int64),\n",
       " 'Mo1U2': array([3041], dtype=int64),\n",
       " 'Mo2O1': array([3059], dtype=int64),\n",
       " 'Mo2Re6': array([3034, 3036, 3056], dtype=int64),\n",
       " 'Mo2Rh6': array([3037], dtype=int64),\n",
       " 'Mo2Ru6': array([3038], dtype=int64),\n",
       " 'Mo2S4': array([3055], dtype=int64),\n",
       " 'Mo2Si6': array([3039], dtype=int64),\n",
       " 'Mo2Zr8': array([3032], dtype=int64),\n",
       " 'Mo4Zr2': array([3046, 3048], dtype=int64),\n",
       " 'Mo6Pb1Se8': array([3063, 3064, 3065], dtype=int64),\n",
       " 'Mo6Pt2': array([3047, 3049, 3051, 3052, 3053], dtype=int64),\n",
       " 'Mo6S8Sn1': array([3066], dtype=int64),\n",
       " 'Mo6Se8': array([3058], dtype=int64),\n",
       " 'Mo6Se8Yb1': array([3060, 3061, 3062], dtype=int64),\n",
       " 'Mo6Si2': array([3050], dtype=int64),\n",
       " 'N12Nb10': array([3089], dtype=int64),\n",
       " 'N1Nb1': array([1604, 1605, 2189, 2190, 3071, 3073, 3075, 3076, 3077, 3080, 3081,\n",
       "        3084, 3086, 3090, 3091, 3092], dtype=int64),\n",
       " 'N1Nb2': array([3067], dtype=int64),\n",
       " 'N1Pr1': array([3085], dtype=int64),\n",
       " 'N1Sc1': array([3082], dtype=int64),\n",
       " 'N1Ti1': array([3074, 3087], dtype=int64),\n",
       " 'N1V1': array([3070, 3072, 3078, 3088], dtype=int64),\n",
       " 'N1W1': array([3083], dtype=int64),\n",
       " 'N1Zr1': array([3079], dtype=int64),\n",
       " 'N4Ti6': array([3069], dtype=int64),\n",
       " 'N8Pt4': array([3068], dtype=int64),\n",
       " 'Na1Pb3': array([3095], dtype=int64),\n",
       " 'Na1W3O9': array([3094, 3096, 3097], dtype=int64),\n",
       " 'Na1W9O27': array([3093], dtype=int64),\n",
       " 'Na2V12O30': array([3098], dtype=int64),\n",
       " 'Nb10Si6': array([640], dtype=int64),\n",
       " 'Nb1Re1': array([3108], dtype=int64),\n",
       " 'Nb1Rh1': array([3110, 3123, 3124, 3176], dtype=int64),\n",
       " 'Nb1Rh3': array([3125], dtype=int64),\n",
       " 'Nb1Se2': array([3127], dtype=int64),\n",
       " 'Nb1Ta1': array([3109], dtype=int64),\n",
       " 'Nb1Ti1': array([3107, 3111], dtype=int64),\n",
       " 'Nb1Ti3': array([3102], dtype=int64),\n",
       " 'Nb1V1': array([3112], dtype=int64),\n",
       " 'Nb2Pd1': array([3113, 3114, 3116, 3119], dtype=int64),\n",
       " 'Nb2Ru1': array([3117, 3122], dtype=int64),\n",
       " 'Nb2S2': array([3126], dtype=int64),\n",
       " 'Nb2Tc1': array([3115], dtype=int64),\n",
       " 'Nb2U6': array([3100, 3101, 3103, 3104, 3105], dtype=int64),\n",
       " 'Nb4Sr4O12': array([3128, 3129], dtype=int64),\n",
       " 'Nb6Os2': array([3146, 3147], dtype=int64),\n",
       " 'Nb6Pt2': array([3156, 3157, 3158, 3159], dtype=int64),\n",
       " 'Nb6Rh2': array([ 581,  582,  584,  605, 2103, 2106, 2113, 2838, 2839, 2840, 2848,\n",
       "        3142, 3143, 3144, 3145, 3149, 3150, 3151, 3152, 3153, 3154, 3155,\n",
       "        3160, 3161, 3162], dtype=int64),\n",
       " 'Nb6Sb2': array([3166, 3167, 3168, 3169], dtype=int64),\n",
       " 'Nb6Se8': array([3140], dtype=int64),\n",
       " 'Nb6Si1Sn1': array([3173], dtype=int64),\n",
       " 'Nb6Si2': array([3121], dtype=int64),\n",
       " 'Nb6Si4': array([3141], dtype=int64),\n",
       " 'Nb6Sn2': array([  31,   35,   39,   41,   45,   47,   56,   61,   73,   86,  234,\n",
       "         236, 1439, 2571, 2572, 2576, 2593, 2681, 2683, 2684, 2690, 2693,\n",
       "        2809, 2811, 2812, 3118, 3120, 3130, 3131, 3132, 3133, 3134, 3135,\n",
       "        3136, 3137, 3138, 3139, 3148, 3163, 3164, 3165, 3170, 3171, 3172,\n",
       "        3174, 3175], dtype=int64),\n",
       " 'Nd1Os4Sb12': array([3182], dtype=int64),\n",
       " 'Nd4Ni4O12': array([1790, 1791, 1792, 1793, 1818, 3183, 3184, 3185, 3186, 3187, 3188,\n",
       "        3189, 3190, 3191], dtype=int64),\n",
       " 'Ni1S8Ta4': array([3192, 3193, 3195, 3196, 3197], dtype=int64),\n",
       " 'Ni2V6': array([2118, 3200], dtype=int64),\n",
       " 'Ni2Zr2': array([3217], dtype=int64),\n",
       " 'Ni2Zr4': array([2110, 2482, 2484, 2486, 3211, 3212, 3213, 3214, 3215, 3216],\n",
       "       dtype=int64),\n",
       " 'Ni2Zr6': array([3206, 3207, 3208, 3210], dtype=int64),\n",
       " 'Ni2Zr8': array([3203, 3204], dtype=int64),\n",
       " 'Ni6S8': array([3205], dtype=int64),\n",
       " 'Ni6Th14': array([3209], dtype=int64),\n",
       " 'Os1Re1': array([3222, 3224], dtype=int64),\n",
       " 'Os1V1': array([3223], dtype=int64),\n",
       " 'Os2Re6': array([3218, 3221], dtype=int64),\n",
       " 'Os2Rh6': array([3219, 3220], dtype=int64),\n",
       " 'Os4Pr1Sb12': array([2918, 2919, 2922, 2927, 2928, 3177, 3178, 3179, 3181, 3229],\n",
       "       dtype=int64),\n",
       " 'Os4Th2': array([2841, 2845], dtype=int64),\n",
       " 'Os6Re2': array([3226, 3227], dtype=int64),\n",
       " 'Os6W2': array([3225, 3228], dtype=int64),\n",
       " 'P1S1Y2': array([3232], dtype=int64),\n",
       " 'P1Zr1': array([3233], dtype=int64),\n",
       " 'P4Ru4Zr4': array([ 630,  637,  639,  641, 2473, 2487, 3234, 3235, 3236], dtype=int64),\n",
       " 'Pb1Sn1': array([3239], dtype=int64),\n",
       " 'Pb1Te1': array([3240, 3241, 3242, 3243, 3244, 3245, 3246], dtype=int64),\n",
       " 'Pb1Tl1': array([3238], dtype=int64),\n",
       " 'Pb2Sn6': array([3237], dtype=int64),\n",
       " 'Pb3Sr1': array([1045], dtype=int64),\n",
       " 'Pb3Th1': array([2920], dtype=int64),\n",
       " 'Pb4Rh2': array([3247], dtype=int64),\n",
       " 'Pd1Te2': array([3194, 3198, 3265, 3266, 3267, 3268, 3269], dtype=int64),\n",
       " 'Pd1W1': array([3264], dtype=int64),\n",
       " 'Pd1Zr2': array([3260, 3274, 3281, 3282, 3284, 3285], dtype=int64),\n",
       " 'Pd2Sb2': array([2116, 2229, 3201, 3261, 3262, 3263, 3286], dtype=int64),\n",
       " 'Pd2Sn1Tm1': array([3278], dtype=int64),\n",
       " 'Pd2Sn1Y1': array([2452, 2455, 2456, 2457, 2458, 2459, 2460, 2662, 2672, 2680, 2799,\n",
       "        3275, 3276, 3277, 3279, 3280], dtype=int64),\n",
       " 'Pd2Te2': array([3270, 3271], dtype=int64),\n",
       " 'Pd2Ti6': array([3255, 3256, 3257, 3258, 3259], dtype=int64),\n",
       " 'Pd3Te1': array([3287], dtype=int64),\n",
       " 'Pd8S2': array([3272], dtype=int64),\n",
       " 'Pd8Se2': array([3273, 3283, 3289, 3290], dtype=int64),\n",
       " 'Pd8Th6': array([3288], dtype=int64),\n",
       " 'Pt1Rh3': array([3292], dtype=int64),\n",
       " 'Pt1Ta3': array([3293, 3294], dtype=int64),\n",
       " 'Pt1W1': array([3295, 3296], dtype=int64),\n",
       " 'Pt2Sb2': array([1440], dtype=int64),\n",
       " 'Pt2V6': array([3291, 3298], dtype=int64),\n",
       " 'Pt2W1': array([3297], dtype=int64),\n",
       " 'Pt3Sb3Sr2': array([3300], dtype=int64),\n",
       " 'Pt3Y1': array([3299], dtype=int64),\n",
       " 'Pt4Y8': array([3301], dtype=int64),\n",
       " 'Pt6Th2': array([3302], dtype=int64),\n",
       " 'Pt6U2': array([3248, 3249, 3250, 3251, 3252, 3253, 3254], dtype=int64),\n",
       " 'Rb1W3O9': array([3305, 3306, 3307, 3308, 3309, 3312, 3313, 3314], dtype=int64),\n",
       " 'Rb1W6O18': array([3303, 3304], dtype=int64),\n",
       " 'Rb2W4O12': array([3311], dtype=int64),\n",
       " 'Rb3W12O36': array([3310], dtype=int64),\n",
       " 'Re1W2': array([3318, 3319], dtype=int64),\n",
       " 'Re6W2': array([3320, 3321], dtype=int64),\n",
       " 'Rh2O4': array([3337], dtype=int64),\n",
       " 'Rh2Ru6': array([3324, 3325], dtype=int64),\n",
       " 'Rh2Se2': array([3329], dtype=int64),\n",
       " 'Rh2Si2Th2': array([3330], dtype=int64),\n",
       " 'Rh2Zr4': array([3326, 3328, 3338], dtype=int64),\n",
       " 'Rh4Sc4Si8': array([3340], dtype=int64),\n",
       " 'Rh4Se8': array([3323, 3327, 3331, 3332, 3333], dtype=int64),\n",
       " 'Rh4Zr12': array([3335, 3336], dtype=int64),\n",
       " 'Rh4Zr4': array([3339], dtype=int64),\n",
       " 'Rh8Se12': array([3334], dtype=int64),\n",
       " 'Ru1Sr2O4': array([3350, 3351, 3352, 3353], dtype=int64),\n",
       " 'Ru1V1': array([3342, 3343, 3344, 3345, 3346, 3347, 3348, 3349], dtype=int64),\n",
       " 'Ru2Si2U1': array([1892, 3315], dtype=int64),\n",
       " 'Ru2Sr4Y2O12': array([2222, 2223, 2224, 2225, 2231], dtype=int64),\n",
       " 'Ru4Th2': array([2846, 2923, 3180], dtype=int64),\n",
       " 'Ru8Y4': array([2669, 2679], dtype=int64),\n",
       " 'S16Tl1V12': array([3358], dtype=int64),\n",
       " 'S1Se1Ta1': array([3354, 3356], dtype=int64),\n",
       " 'S4Ta2': array([3357], dtype=int64),\n",
       " 'S8Zn4': array([2232], dtype=int64),\n",
       " 'S8Zr6': array([3355], dtype=int64),\n",
       " 'Sb1Tl3': array([3365], dtype=int64),\n",
       " 'Sb2V6': array([3360, 3361, 3362, 3363, 3364], dtype=int64),\n",
       " 'Se1Y1': array([3366], dtype=int64),\n",
       " 'Se8Zn4': array([2228], dtype=int64),\n",
       " 'Si1Sn1V6': array([3375, 3377], dtype=int64),\n",
       " 'Si2Ta4': array([3370, 3380, 3386, 3387], dtype=int64),\n",
       " 'Si2Th1': array([2842, 3322], dtype=int64),\n",
       " 'Si2V6': array([  32,   65, 1409, 1410, 1929, 2101, 2194, 2199, 2476, 2573, 2578,\n",
       "        2588, 2590, 2594, 2685, 2813, 2917, 2921, 3023, 3024, 3027, 3028,\n",
       "        3029, 3030, 3033, 3099, 3106, 3230, 3231, 3316, 3317, 3341, 3359,\n",
       "        3367, 3368, 3369, 3372, 3373, 3378, 3381, 3382, 3383, 3385, 3388],\n",
       "       dtype=int64),\n",
       " 'Si4Sr2': array([3199, 3202, 3389], dtype=int64),\n",
       " 'Si4Y2': array([3376, 3379], dtype=int64),\n",
       " 'Si4Zr4': array([3374, 3390, 3392], dtype=int64),\n",
       " 'Si4Zr6': array([3391], dtype=int64),\n",
       " 'Si8Zr24': array([3384], dtype=int64),\n",
       " 'Sn1Te1': array([   1, 2800, 2801, 2802, 2803, 2804, 2805, 2806, 2807, 2808, 3395,\n",
       "        3396, 3397, 3398, 3399, 3400, 3401, 3402, 3403], dtype=int64),\n",
       " 'Sn2O4': array([3406], dtype=int64),\n",
       " 'Sn2Ta6': array([2104], dtype=int64),\n",
       " 'Sn2V6': array([2577, 3371], dtype=int64),\n",
       " 'Sn2W6O18': array([3393, 3394], dtype=int64),\n",
       " 'Sn2Zr6': array([3405], dtype=int64),\n",
       " 'Sn3Th1': array([2925], dtype=int64),\n",
       " 'Sn6Y10': array([3404], dtype=int64),\n",
       " 'Sr1Ti1O3': array([1010, 1014, 1046, 1796, 1832, 2929, 3407], dtype=int64),\n",
       " 'Sr1V1O3': array([3408, 3409, 3410, 3411], dtype=int64),\n",
       " 'Sr2Ti1O4': array([2924], dtype=int64),\n",
       " 'Ta1Ti1': array([3414, 3415, 3416], dtype=int64),\n",
       " 'Ta2Zr6': array([3413], dtype=int64),\n",
       " 'Ta8V2': array([3417], dtype=int64),\n",
       " 'Te2V1': array([3418], dtype=int64),\n",
       " 'Th2Zr6': array([3419, 3420], dtype=int64),\n",
       " 'Th3Tm1': array([3421], dtype=int64),\n",
       " 'Ti1O1': array([3428, 3429], dtype=int64),\n",
       " 'Ti1V1': array([3423], dtype=int64),\n",
       " 'Ti1Zr1': array([3422], dtype=int64),\n",
       " 'Ti2Zr1': array([3424], dtype=int64),\n",
       " 'Ti3O3': array([3426, 3427], dtype=int64),\n",
       " 'Ti3Tl1': array([3430], dtype=int64),\n",
       " 'Ti4Y4O12': array([1819], dtype=int64),\n",
       " 'Ti6Zr2': array([3425], dtype=int64),\n",
       " 'Tl1W3O9': array([3432], dtype=int64),\n",
       " 'Tl1W6O18': array([3431], dtype=int64),\n",
       " 'Tl1Zr3': array([3433], dtype=int64),\n",
       " 'V2Zr6': array([3434], dtype=int64),\n",
       " 'V4Zr2': array([2483, 3435, 3436], dtype=int64),\n",
       " 'V8Zr4': array([2758, 2759, 3412], dtype=int64)}"
      ]
     },
     "execution_count": 16,
     "metadata": {},
     "output_type": "execute_result"
    }
   ],
   "source": [
    "df_MP[df_MP[\"synth_doped\"] == True].groupby(\"orig_formula_cif\").indices"
   ]
  },
  {
   "cell_type": "code",
   "execution_count": 17,
   "metadata": {},
   "outputs": [
    {
     "data": {
      "text/html": [
       "<div>\n",
       "<style scoped>\n",
       "    .dataframe tbody tr th:only-of-type {\n",
       "        vertical-align: middle;\n",
       "    }\n",
       "\n",
       "    .dataframe tbody tr th {\n",
       "        vertical-align: top;\n",
       "    }\n",
       "\n",
       "    .dataframe thead th {\n",
       "        text-align: right;\n",
       "    }\n",
       "</style>\n",
       "<table border=\"1\" class=\"dataframe\">\n",
       "  <thead>\n",
       "    <tr style=\"text-align: right;\">\n",
       "      <th></th>\n",
       "      <th>formula_sc</th>\n",
       "      <th>formula_similarity</th>\n",
       "      <th>totreldiff</th>\n",
       "      <th>formula_frac</th>\n",
       "      <th>correct_formula_frac</th>\n",
       "      <th>formula</th>\n",
       "      <th>orig_formula_cif</th>\n",
       "      <th>tc</th>\n",
       "      <th>sc_class</th>\n",
       "      <th>sc_class_unique_sc</th>\n",
       "      <th>...</th>\n",
       "      <th>orthorhombic</th>\n",
       "      <th>tetragonal</th>\n",
       "      <th>triclinic</th>\n",
       "      <th>trigonal</th>\n",
       "      <th>primitive</th>\n",
       "      <th>base-centered</th>\n",
       "      <th>body-centered</th>\n",
       "      <th>face-centered</th>\n",
       "      <th>weight</th>\n",
       "      <th>sc_class_name</th>\n",
       "    </tr>\n",
       "  </thead>\n",
       "  <tbody>\n",
       "    <tr>\n",
       "      <th>4533</th>\n",
       "      <td>La0.02Os4Pr0.98Sb12</td>\n",
       "      <td>2</td>\n",
       "      <td>0.002353</td>\n",
       "      <td>1.0</td>\n",
       "      <td>True</td>\n",
       "      <td>La0.02Os4Pr0.98Sb12</td>\n",
       "      <td>Os4Pr1Sb12</td>\n",
       "      <td>1.80000</td>\n",
       "      <td>Heavy_fermion</td>\n",
       "      <td>True</td>\n",
       "      <td>...</td>\n",
       "      <td>0</td>\n",
       "      <td>0</td>\n",
       "      <td>0</td>\n",
       "      <td>0</td>\n",
       "      <td>0</td>\n",
       "      <td>0</td>\n",
       "      <td>1</td>\n",
       "      <td>0</td>\n",
       "      <td>1.0</td>\n",
       "      <td>Heavy Fermion</td>\n",
       "    </tr>\n",
       "    <tr>\n",
       "      <th>4534</th>\n",
       "      <td>La0.05Os4Pr0.95Sb12</td>\n",
       "      <td>2</td>\n",
       "      <td>0.005882</td>\n",
       "      <td>1.0</td>\n",
       "      <td>True</td>\n",
       "      <td>La0.05Os4Pr0.95Sb12</td>\n",
       "      <td>Os4Pr1Sb12</td>\n",
       "      <td>1.81500</td>\n",
       "      <td>Heavy_fermion</td>\n",
       "      <td>True</td>\n",
       "      <td>...</td>\n",
       "      <td>0</td>\n",
       "      <td>0</td>\n",
       "      <td>0</td>\n",
       "      <td>0</td>\n",
       "      <td>0</td>\n",
       "      <td>0</td>\n",
       "      <td>1</td>\n",
       "      <td>0</td>\n",
       "      <td>1.0</td>\n",
       "      <td>Heavy Fermion</td>\n",
       "    </tr>\n",
       "    <tr>\n",
       "      <th>4537</th>\n",
       "      <td>La0.1Os4Pr0.9Sb12</td>\n",
       "      <td>2</td>\n",
       "      <td>0.011765</td>\n",
       "      <td>1.0</td>\n",
       "      <td>True</td>\n",
       "      <td>La0.1Os4Pr0.9Sb12</td>\n",
       "      <td>Os4Pr1Sb12</td>\n",
       "      <td>1.70000</td>\n",
       "      <td>Heavy_fermion</td>\n",
       "      <td>True</td>\n",
       "      <td>...</td>\n",
       "      <td>0</td>\n",
       "      <td>0</td>\n",
       "      <td>0</td>\n",
       "      <td>0</td>\n",
       "      <td>0</td>\n",
       "      <td>0</td>\n",
       "      <td>1</td>\n",
       "      <td>0</td>\n",
       "      <td>1.0</td>\n",
       "      <td>Heavy Fermion</td>\n",
       "    </tr>\n",
       "    <tr>\n",
       "      <th>4543</th>\n",
       "      <td>La0.2Os4Pr0.8Sb12</td>\n",
       "      <td>3</td>\n",
       "      <td>0.023529</td>\n",
       "      <td>1.0</td>\n",
       "      <td>True</td>\n",
       "      <td>La0.2Os4Pr0.8Sb12</td>\n",
       "      <td>Os4Pr1Sb12</td>\n",
       "      <td>1.72250</td>\n",
       "      <td>Heavy_fermion</td>\n",
       "      <td>True</td>\n",
       "      <td>...</td>\n",
       "      <td>0</td>\n",
       "      <td>0</td>\n",
       "      <td>0</td>\n",
       "      <td>0</td>\n",
       "      <td>0</td>\n",
       "      <td>0</td>\n",
       "      <td>1</td>\n",
       "      <td>0</td>\n",
       "      <td>1.0</td>\n",
       "      <td>Heavy Fermion</td>\n",
       "    </tr>\n",
       "    <tr>\n",
       "      <th>4544</th>\n",
       "      <td>La0.3Os4Pr0.7Sb12</td>\n",
       "      <td>3</td>\n",
       "      <td>0.035294</td>\n",
       "      <td>1.0</td>\n",
       "      <td>True</td>\n",
       "      <td>La0.3Os4Pr0.7Sb12</td>\n",
       "      <td>Os4Pr1Sb12</td>\n",
       "      <td>1.52800</td>\n",
       "      <td>Heavy_fermion</td>\n",
       "      <td>True</td>\n",
       "      <td>...</td>\n",
       "      <td>0</td>\n",
       "      <td>0</td>\n",
       "      <td>0</td>\n",
       "      <td>0</td>\n",
       "      <td>0</td>\n",
       "      <td>0</td>\n",
       "      <td>1</td>\n",
       "      <td>0</td>\n",
       "      <td>1.0</td>\n",
       "      <td>Heavy Fermion</td>\n",
       "    </tr>\n",
       "    <tr>\n",
       "      <th>5061</th>\n",
       "      <td>Nd0.1Os4Pr0.9Sb12</td>\n",
       "      <td>2</td>\n",
       "      <td>0.011765</td>\n",
       "      <td>1.0</td>\n",
       "      <td>True</td>\n",
       "      <td>Nd0.1Os4Pr0.9Sb12</td>\n",
       "      <td>Os4Pr1Sb12</td>\n",
       "      <td>1.73000</td>\n",
       "      <td>Heavy_fermion</td>\n",
       "      <td>True</td>\n",
       "      <td>...</td>\n",
       "      <td>0</td>\n",
       "      <td>0</td>\n",
       "      <td>0</td>\n",
       "      <td>0</td>\n",
       "      <td>0</td>\n",
       "      <td>0</td>\n",
       "      <td>1</td>\n",
       "      <td>0</td>\n",
       "      <td>1.0</td>\n",
       "      <td>Heavy Fermion</td>\n",
       "    </tr>\n",
       "    <tr>\n",
       "      <th>5062</th>\n",
       "      <td>Nd0.25Os4Pr0.75Sb12</td>\n",
       "      <td>3</td>\n",
       "      <td>0.029412</td>\n",
       "      <td>1.0</td>\n",
       "      <td>True</td>\n",
       "      <td>Nd0.25Os4Pr0.75Sb12</td>\n",
       "      <td>Os4Pr1Sb12</td>\n",
       "      <td>1.48000</td>\n",
       "      <td>Heavy_fermion</td>\n",
       "      <td>True</td>\n",
       "      <td>...</td>\n",
       "      <td>0</td>\n",
       "      <td>0</td>\n",
       "      <td>0</td>\n",
       "      <td>0</td>\n",
       "      <td>0</td>\n",
       "      <td>0</td>\n",
       "      <td>1</td>\n",
       "      <td>0</td>\n",
       "      <td>1.0</td>\n",
       "      <td>Heavy Fermion</td>\n",
       "    </tr>\n",
       "    <tr>\n",
       "      <th>5063</th>\n",
       "      <td>Nd0.2Os4Pr0.8Sb12</td>\n",
       "      <td>3</td>\n",
       "      <td>0.023529</td>\n",
       "      <td>1.0</td>\n",
       "      <td>True</td>\n",
       "      <td>Nd0.2Os4Pr0.8Sb12</td>\n",
       "      <td>Os4Pr1Sb12</td>\n",
       "      <td>1.52000</td>\n",
       "      <td>Heavy_fermion</td>\n",
       "      <td>True</td>\n",
       "      <td>...</td>\n",
       "      <td>0</td>\n",
       "      <td>0</td>\n",
       "      <td>0</td>\n",
       "      <td>0</td>\n",
       "      <td>0</td>\n",
       "      <td>0</td>\n",
       "      <td>1</td>\n",
       "      <td>0</td>\n",
       "      <td>1.0</td>\n",
       "      <td>Heavy Fermion</td>\n",
       "    </tr>\n",
       "    <tr>\n",
       "      <th>5065</th>\n",
       "      <td>Nd0.3Os4Pr0.7Sb12</td>\n",
       "      <td>3</td>\n",
       "      <td>0.035294</td>\n",
       "      <td>1.0</td>\n",
       "      <td>True</td>\n",
       "      <td>Nd0.3Os4Pr0.7Sb12</td>\n",
       "      <td>Os4Pr1Sb12</td>\n",
       "      <td>1.27000</td>\n",
       "      <td>Heavy_fermion</td>\n",
       "      <td>True</td>\n",
       "      <td>...</td>\n",
       "      <td>0</td>\n",
       "      <td>0</td>\n",
       "      <td>0</td>\n",
       "      <td>0</td>\n",
       "      <td>0</td>\n",
       "      <td>0</td>\n",
       "      <td>1</td>\n",
       "      <td>0</td>\n",
       "      <td>1.0</td>\n",
       "      <td>Heavy Fermion</td>\n",
       "    </tr>\n",
       "    <tr>\n",
       "      <th>5176</th>\n",
       "      <td>Os3.8Pr1Ru0.2Sb12</td>\n",
       "      <td>3</td>\n",
       "      <td>0.023529</td>\n",
       "      <td>1.0</td>\n",
       "      <td>True</td>\n",
       "      <td>Os3.8Pr1Ru0.2Sb12</td>\n",
       "      <td>Os4Pr1Sb12</td>\n",
       "      <td>1.65500</td>\n",
       "      <td>Heavy_fermion</td>\n",
       "      <td>True</td>\n",
       "      <td>...</td>\n",
       "      <td>0</td>\n",
       "      <td>0</td>\n",
       "      <td>0</td>\n",
       "      <td>0</td>\n",
       "      <td>0</td>\n",
       "      <td>0</td>\n",
       "      <td>1</td>\n",
       "      <td>0</td>\n",
       "      <td>1.0</td>\n",
       "      <td>Heavy Fermion</td>\n",
       "    </tr>\n",
       "    <tr>\n",
       "      <th>5178</th>\n",
       "      <td>Os4Pr1Sb12</td>\n",
       "      <td>1</td>\n",
       "      <td>0.000000</td>\n",
       "      <td>1.0</td>\n",
       "      <td>True</td>\n",
       "      <td>Os4Pr1Sb12</td>\n",
       "      <td>Os4Pr1Sb12</td>\n",
       "      <td>1.60125</td>\n",
       "      <td>Heavy_fermion</td>\n",
       "      <td>True</td>\n",
       "      <td>...</td>\n",
       "      <td>0</td>\n",
       "      <td>0</td>\n",
       "      <td>0</td>\n",
       "      <td>0</td>\n",
       "      <td>0</td>\n",
       "      <td>0</td>\n",
       "      <td>1</td>\n",
       "      <td>0</td>\n",
       "      <td>1.0</td>\n",
       "      <td>Heavy Fermion</td>\n",
       "    </tr>\n",
       "  </tbody>\n",
       "</table>\n",
       "<p>11 rows × 93 columns</p>\n",
       "</div>"
      ],
      "text/plain": [
       "               formula_sc  formula_similarity  totreldiff  formula_frac  \\\n",
       "4533  La0.02Os4Pr0.98Sb12                   2    0.002353           1.0   \n",
       "4534  La0.05Os4Pr0.95Sb12                   2    0.005882           1.0   \n",
       "4537    La0.1Os4Pr0.9Sb12                   2    0.011765           1.0   \n",
       "4543    La0.2Os4Pr0.8Sb12                   3    0.023529           1.0   \n",
       "4544    La0.3Os4Pr0.7Sb12                   3    0.035294           1.0   \n",
       "5061    Nd0.1Os4Pr0.9Sb12                   2    0.011765           1.0   \n",
       "5062  Nd0.25Os4Pr0.75Sb12                   3    0.029412           1.0   \n",
       "5063    Nd0.2Os4Pr0.8Sb12                   3    0.023529           1.0   \n",
       "5065    Nd0.3Os4Pr0.7Sb12                   3    0.035294           1.0   \n",
       "5176    Os3.8Pr1Ru0.2Sb12                   3    0.023529           1.0   \n",
       "5178           Os4Pr1Sb12                   1    0.000000           1.0   \n",
       "\n",
       "      correct_formula_frac              formula orig_formula_cif       tc  \\\n",
       "4533                  True  La0.02Os4Pr0.98Sb12       Os4Pr1Sb12  1.80000   \n",
       "4534                  True  La0.05Os4Pr0.95Sb12       Os4Pr1Sb12  1.81500   \n",
       "4537                  True    La0.1Os4Pr0.9Sb12       Os4Pr1Sb12  1.70000   \n",
       "4543                  True    La0.2Os4Pr0.8Sb12       Os4Pr1Sb12  1.72250   \n",
       "4544                  True    La0.3Os4Pr0.7Sb12       Os4Pr1Sb12  1.52800   \n",
       "5061                  True    Nd0.1Os4Pr0.9Sb12       Os4Pr1Sb12  1.73000   \n",
       "5062                  True  Nd0.25Os4Pr0.75Sb12       Os4Pr1Sb12  1.48000   \n",
       "5063                  True    Nd0.2Os4Pr0.8Sb12       Os4Pr1Sb12  1.52000   \n",
       "5065                  True    Nd0.3Os4Pr0.7Sb12       Os4Pr1Sb12  1.27000   \n",
       "5176                  True    Os3.8Pr1Ru0.2Sb12       Os4Pr1Sb12  1.65500   \n",
       "5178                  True           Os4Pr1Sb12       Os4Pr1Sb12  1.60125   \n",
       "\n",
       "           sc_class  sc_class_unique_sc  ... orthorhombic tetragonal  \\\n",
       "4533  Heavy_fermion                True  ...            0          0   \n",
       "4534  Heavy_fermion                True  ...            0          0   \n",
       "4537  Heavy_fermion                True  ...            0          0   \n",
       "4543  Heavy_fermion                True  ...            0          0   \n",
       "4544  Heavy_fermion                True  ...            0          0   \n",
       "5061  Heavy_fermion                True  ...            0          0   \n",
       "5062  Heavy_fermion                True  ...            0          0   \n",
       "5063  Heavy_fermion                True  ...            0          0   \n",
       "5065  Heavy_fermion                True  ...            0          0   \n",
       "5176  Heavy_fermion                True  ...            0          0   \n",
       "5178  Heavy_fermion                True  ...            0          0   \n",
       "\n",
       "      triclinic trigonal primitive base-centered body-centered face-centered  \\\n",
       "4533          0        0         0             0             1             0   \n",
       "4534          0        0         0             0             1             0   \n",
       "4537          0        0         0             0             1             0   \n",
       "4543          0        0         0             0             1             0   \n",
       "4544          0        0         0             0             1             0   \n",
       "5061          0        0         0             0             1             0   \n",
       "5062          0        0         0             0             1             0   \n",
       "5063          0        0         0             0             1             0   \n",
       "5065          0        0         0             0             1             0   \n",
       "5176          0        0         0             0             1             0   \n",
       "5178          0        0         0             0             1             0   \n",
       "\n",
       "     weight  sc_class_name  \n",
       "4533    1.0  Heavy Fermion  \n",
       "4534    1.0  Heavy Fermion  \n",
       "4537    1.0  Heavy Fermion  \n",
       "4543    1.0  Heavy Fermion  \n",
       "4544    1.0  Heavy Fermion  \n",
       "5061    1.0  Heavy Fermion  \n",
       "5062    1.0  Heavy Fermion  \n",
       "5063    1.0  Heavy Fermion  \n",
       "5065    1.0  Heavy Fermion  \n",
       "5176    1.0  Heavy Fermion  \n",
       "5178    1.0  Heavy Fermion  \n",
       "\n",
       "[11 rows x 93 columns]"
      ]
     },
     "execution_count": 17,
     "metadata": {},
     "output_type": "execute_result"
    }
   ],
   "source": [
    "df_MP[df_MP[\"orig_formula_cif\"] == \"Os4Pr1Sb12\"]"
   ]
  },
  {
   "cell_type": "code",
   "execution_count": 18,
   "metadata": {},
   "outputs": [
    {
     "data": {
      "application/vnd.plotly.v1+json": {
       "config": {
        "plotlyServerURL": "https://plot.ly"
       },
       "data": [
        {
         "colorbar": {
          "ticktext": [
           -1,
           -0.5,
           0,
           0.5,
           1
          ],
          "tickvals": [
           -1,
           -0.5,
           0,
           0.5,
           1
          ],
          "title": {
           "side": "right",
           "text": "Pearson Coefficient"
          }
         },
         "colorscale": [
          [
           0,
           "#440154"
          ],
          [
           0.1111111111111111,
           "#482878"
          ],
          [
           0.2222222222222222,
           "#3e4989"
          ],
          [
           0.3333333333333333,
           "#31688e"
          ],
          [
           0.4444444444444444,
           "#26828e"
          ],
          [
           0.5555555555555556,
           "#1f9e89"
          ],
          [
           0.6666666666666666,
           "#35b779"
          ],
          [
           0.7777777777777778,
           "#6ece58"
          ],
          [
           0.8888888888888888,
           "#b5de2b"
          ],
          [
           1,
           "#fde725"
          ]
         ],
         "text": [
          [
           1,
           -0.4,
           -0.05,
           0.01,
           -0.13,
           -0.13
          ],
          [
           -0.4,
           1,
           0.01,
           -0.08,
           0.16,
           0.16
          ],
          [
           -0.05,
           0.01,
           1,
           0.84,
           0.17,
           0.17
          ],
          [
           0.01,
           -0.08,
           0.84,
           1,
           -0.03,
           -0.03
          ],
          [
           -0.13,
           0.16,
           0.17,
           -0.03,
           1,
           1
          ],
          [
           -0.13,
           0.16,
           0.17,
           -0.03,
           1,
           1
          ]
         ],
         "textfont": {
          "size": 14
         },
         "texttemplate": "%{text}",
         "type": "heatmap",
         "x": [
          "formula_frac",
          "correct_formula_frac",
          "formula_similarity",
          "totreldiff",
          "tc",
          "tc"
         ],
         "y": [
          "formula_frac",
          "correct_formula_frac",
          "formula_similarity",
          "totreldiff",
          "tc",
          "tc"
         ],
         "z": [
          [
           1,
           -0.4,
           -0.05,
           0.01,
           -0.13,
           -0.13
          ],
          [
           -0.4,
           1,
           0.01,
           -0.08,
           0.16,
           0.16
          ],
          [
           -0.05,
           0.01,
           1,
           0.84,
           0.17,
           0.17
          ],
          [
           0.01,
           -0.08,
           0.84,
           1,
           -0.03,
           -0.03
          ],
          [
           -0.13,
           0.16,
           0.17,
           -0.03,
           1,
           1
          ],
          [
           -0.13,
           0.16,
           0.17,
           -0.03,
           1,
           1
          ]
         ]
        }
       ],
       "layout": {
        "font": {
         "color": "black",
         "family": "Helvetica",
         "size": 16
        },
        "height": 600,
        "margin": {
         "b": 5,
         "l": 5,
         "r": 5,
         "t": 10
        },
        "paper_bgcolor": "white",
        "plot_bgcolor": "white",
        "template": {
         "data": {
          "bar": [
           {
            "error_x": {
             "color": "#2a3f5f"
            },
            "error_y": {
             "color": "#2a3f5f"
            },
            "marker": {
             "line": {
              "color": "#E5ECF6",
              "width": 0.5
             },
             "pattern": {
              "fillmode": "overlay",
              "size": 10,
              "solidity": 0.2
             }
            },
            "type": "bar"
           }
          ],
          "barpolar": [
           {
            "marker": {
             "line": {
              "color": "#E5ECF6",
              "width": 0.5
             },
             "pattern": {
              "fillmode": "overlay",
              "size": 10,
              "solidity": 0.2
             }
            },
            "type": "barpolar"
           }
          ],
          "carpet": [
           {
            "aaxis": {
             "endlinecolor": "#2a3f5f",
             "gridcolor": "white",
             "linecolor": "white",
             "minorgridcolor": "white",
             "startlinecolor": "#2a3f5f"
            },
            "baxis": {
             "endlinecolor": "#2a3f5f",
             "gridcolor": "white",
             "linecolor": "white",
             "minorgridcolor": "white",
             "startlinecolor": "#2a3f5f"
            },
            "type": "carpet"
           }
          ],
          "choropleth": [
           {
            "colorbar": {
             "outlinewidth": 0,
             "ticks": ""
            },
            "type": "choropleth"
           }
          ],
          "contour": [
           {
            "colorbar": {
             "outlinewidth": 0,
             "ticks": ""
            },
            "colorscale": [
             [
              0,
              "#0d0887"
             ],
             [
              0.1111111111111111,
              "#46039f"
             ],
             [
              0.2222222222222222,
              "#7201a8"
             ],
             [
              0.3333333333333333,
              "#9c179e"
             ],
             [
              0.4444444444444444,
              "#bd3786"
             ],
             [
              0.5555555555555556,
              "#d8576b"
             ],
             [
              0.6666666666666666,
              "#ed7953"
             ],
             [
              0.7777777777777778,
              "#fb9f3a"
             ],
             [
              0.8888888888888888,
              "#fdca26"
             ],
             [
              1,
              "#f0f921"
             ]
            ],
            "type": "contour"
           }
          ],
          "contourcarpet": [
           {
            "colorbar": {
             "outlinewidth": 0,
             "ticks": ""
            },
            "type": "contourcarpet"
           }
          ],
          "heatmap": [
           {
            "colorbar": {
             "outlinewidth": 0,
             "ticks": ""
            },
            "colorscale": [
             [
              0,
              "#0d0887"
             ],
             [
              0.1111111111111111,
              "#46039f"
             ],
             [
              0.2222222222222222,
              "#7201a8"
             ],
             [
              0.3333333333333333,
              "#9c179e"
             ],
             [
              0.4444444444444444,
              "#bd3786"
             ],
             [
              0.5555555555555556,
              "#d8576b"
             ],
             [
              0.6666666666666666,
              "#ed7953"
             ],
             [
              0.7777777777777778,
              "#fb9f3a"
             ],
             [
              0.8888888888888888,
              "#fdca26"
             ],
             [
              1,
              "#f0f921"
             ]
            ],
            "type": "heatmap"
           }
          ],
          "heatmapgl": [
           {
            "colorbar": {
             "outlinewidth": 0,
             "ticks": ""
            },
            "colorscale": [
             [
              0,
              "#0d0887"
             ],
             [
              0.1111111111111111,
              "#46039f"
             ],
             [
              0.2222222222222222,
              "#7201a8"
             ],
             [
              0.3333333333333333,
              "#9c179e"
             ],
             [
              0.4444444444444444,
              "#bd3786"
             ],
             [
              0.5555555555555556,
              "#d8576b"
             ],
             [
              0.6666666666666666,
              "#ed7953"
             ],
             [
              0.7777777777777778,
              "#fb9f3a"
             ],
             [
              0.8888888888888888,
              "#fdca26"
             ],
             [
              1,
              "#f0f921"
             ]
            ],
            "type": "heatmapgl"
           }
          ],
          "histogram": [
           {
            "marker": {
             "pattern": {
              "fillmode": "overlay",
              "size": 10,
              "solidity": 0.2
             }
            },
            "type": "histogram"
           }
          ],
          "histogram2d": [
           {
            "colorbar": {
             "outlinewidth": 0,
             "ticks": ""
            },
            "colorscale": [
             [
              0,
              "#0d0887"
             ],
             [
              0.1111111111111111,
              "#46039f"
             ],
             [
              0.2222222222222222,
              "#7201a8"
             ],
             [
              0.3333333333333333,
              "#9c179e"
             ],
             [
              0.4444444444444444,
              "#bd3786"
             ],
             [
              0.5555555555555556,
              "#d8576b"
             ],
             [
              0.6666666666666666,
              "#ed7953"
             ],
             [
              0.7777777777777778,
              "#fb9f3a"
             ],
             [
              0.8888888888888888,
              "#fdca26"
             ],
             [
              1,
              "#f0f921"
             ]
            ],
            "type": "histogram2d"
           }
          ],
          "histogram2dcontour": [
           {
            "colorbar": {
             "outlinewidth": 0,
             "ticks": ""
            },
            "colorscale": [
             [
              0,
              "#0d0887"
             ],
             [
              0.1111111111111111,
              "#46039f"
             ],
             [
              0.2222222222222222,
              "#7201a8"
             ],
             [
              0.3333333333333333,
              "#9c179e"
             ],
             [
              0.4444444444444444,
              "#bd3786"
             ],
             [
              0.5555555555555556,
              "#d8576b"
             ],
             [
              0.6666666666666666,
              "#ed7953"
             ],
             [
              0.7777777777777778,
              "#fb9f3a"
             ],
             [
              0.8888888888888888,
              "#fdca26"
             ],
             [
              1,
              "#f0f921"
             ]
            ],
            "type": "histogram2dcontour"
           }
          ],
          "mesh3d": [
           {
            "colorbar": {
             "outlinewidth": 0,
             "ticks": ""
            },
            "type": "mesh3d"
           }
          ],
          "parcoords": [
           {
            "line": {
             "colorbar": {
              "outlinewidth": 0,
              "ticks": ""
             }
            },
            "type": "parcoords"
           }
          ],
          "pie": [
           {
            "automargin": true,
            "type": "pie"
           }
          ],
          "scatter": [
           {
            "fillpattern": {
             "fillmode": "overlay",
             "size": 10,
             "solidity": 0.2
            },
            "type": "scatter"
           }
          ],
          "scatter3d": [
           {
            "line": {
             "colorbar": {
              "outlinewidth": 0,
              "ticks": ""
             }
            },
            "marker": {
             "colorbar": {
              "outlinewidth": 0,
              "ticks": ""
             }
            },
            "type": "scatter3d"
           }
          ],
          "scattercarpet": [
           {
            "marker": {
             "colorbar": {
              "outlinewidth": 0,
              "ticks": ""
             }
            },
            "type": "scattercarpet"
           }
          ],
          "scattergeo": [
           {
            "marker": {
             "colorbar": {
              "outlinewidth": 0,
              "ticks": ""
             }
            },
            "type": "scattergeo"
           }
          ],
          "scattergl": [
           {
            "marker": {
             "colorbar": {
              "outlinewidth": 0,
              "ticks": ""
             }
            },
            "type": "scattergl"
           }
          ],
          "scattermapbox": [
           {
            "marker": {
             "colorbar": {
              "outlinewidth": 0,
              "ticks": ""
             }
            },
            "type": "scattermapbox"
           }
          ],
          "scatterpolar": [
           {
            "marker": {
             "colorbar": {
              "outlinewidth": 0,
              "ticks": ""
             }
            },
            "type": "scatterpolar"
           }
          ],
          "scatterpolargl": [
           {
            "marker": {
             "colorbar": {
              "outlinewidth": 0,
              "ticks": ""
             }
            },
            "type": "scatterpolargl"
           }
          ],
          "scatterternary": [
           {
            "marker": {
             "colorbar": {
              "outlinewidth": 0,
              "ticks": ""
             }
            },
            "type": "scatterternary"
           }
          ],
          "surface": [
           {
            "colorbar": {
             "outlinewidth": 0,
             "ticks": ""
            },
            "colorscale": [
             [
              0,
              "#0d0887"
             ],
             [
              0.1111111111111111,
              "#46039f"
             ],
             [
              0.2222222222222222,
              "#7201a8"
             ],
             [
              0.3333333333333333,
              "#9c179e"
             ],
             [
              0.4444444444444444,
              "#bd3786"
             ],
             [
              0.5555555555555556,
              "#d8576b"
             ],
             [
              0.6666666666666666,
              "#ed7953"
             ],
             [
              0.7777777777777778,
              "#fb9f3a"
             ],
             [
              0.8888888888888888,
              "#fdca26"
             ],
             [
              1,
              "#f0f921"
             ]
            ],
            "type": "surface"
           }
          ],
          "table": [
           {
            "cells": {
             "fill": {
              "color": "#EBF0F8"
             },
             "line": {
              "color": "white"
             }
            },
            "header": {
             "fill": {
              "color": "#C8D4E3"
             },
             "line": {
              "color": "white"
             }
            },
            "type": "table"
           }
          ]
         },
         "layout": {
          "annotationdefaults": {
           "arrowcolor": "#2a3f5f",
           "arrowhead": 0,
           "arrowwidth": 1
          },
          "autotypenumbers": "strict",
          "coloraxis": {
           "colorbar": {
            "outlinewidth": 0,
            "ticks": ""
           }
          },
          "colorscale": {
           "diverging": [
            [
             0,
             "#8e0152"
            ],
            [
             0.1,
             "#c51b7d"
            ],
            [
             0.2,
             "#de77ae"
            ],
            [
             0.3,
             "#f1b6da"
            ],
            [
             0.4,
             "#fde0ef"
            ],
            [
             0.5,
             "#f7f7f7"
            ],
            [
             0.6,
             "#e6f5d0"
            ],
            [
             0.7,
             "#b8e186"
            ],
            [
             0.8,
             "#7fbc41"
            ],
            [
             0.9,
             "#4d9221"
            ],
            [
             1,
             "#276419"
            ]
           ],
           "sequential": [
            [
             0,
             "#0d0887"
            ],
            [
             0.1111111111111111,
             "#46039f"
            ],
            [
             0.2222222222222222,
             "#7201a8"
            ],
            [
             0.3333333333333333,
             "#9c179e"
            ],
            [
             0.4444444444444444,
             "#bd3786"
            ],
            [
             0.5555555555555556,
             "#d8576b"
            ],
            [
             0.6666666666666666,
             "#ed7953"
            ],
            [
             0.7777777777777778,
             "#fb9f3a"
            ],
            [
             0.8888888888888888,
             "#fdca26"
            ],
            [
             1,
             "#f0f921"
            ]
           ],
           "sequentialminus": [
            [
             0,
             "#0d0887"
            ],
            [
             0.1111111111111111,
             "#46039f"
            ],
            [
             0.2222222222222222,
             "#7201a8"
            ],
            [
             0.3333333333333333,
             "#9c179e"
            ],
            [
             0.4444444444444444,
             "#bd3786"
            ],
            [
             0.5555555555555556,
             "#d8576b"
            ],
            [
             0.6666666666666666,
             "#ed7953"
            ],
            [
             0.7777777777777778,
             "#fb9f3a"
            ],
            [
             0.8888888888888888,
             "#fdca26"
            ],
            [
             1,
             "#f0f921"
            ]
           ]
          },
          "colorway": [
           "#636efa",
           "#EF553B",
           "#00cc96",
           "#ab63fa",
           "#FFA15A",
           "#19d3f3",
           "#FF6692",
           "#B6E880",
           "#FF97FF",
           "#FECB52"
          ],
          "font": {
           "color": "#2a3f5f"
          },
          "geo": {
           "bgcolor": "white",
           "lakecolor": "white",
           "landcolor": "#E5ECF6",
           "showlakes": true,
           "showland": true,
           "subunitcolor": "white"
          },
          "hoverlabel": {
           "align": "left"
          },
          "hovermode": "closest",
          "mapbox": {
           "style": "light"
          },
          "paper_bgcolor": "white",
          "plot_bgcolor": "#E5ECF6",
          "polar": {
           "angularaxis": {
            "gridcolor": "white",
            "linecolor": "white",
            "ticks": ""
           },
           "bgcolor": "#E5ECF6",
           "radialaxis": {
            "gridcolor": "white",
            "linecolor": "white",
            "ticks": ""
           }
          },
          "scene": {
           "xaxis": {
            "backgroundcolor": "#E5ECF6",
            "gridcolor": "white",
            "gridwidth": 2,
            "linecolor": "white",
            "showbackground": true,
            "ticks": "",
            "zerolinecolor": "white"
           },
           "yaxis": {
            "backgroundcolor": "#E5ECF6",
            "gridcolor": "white",
            "gridwidth": 2,
            "linecolor": "white",
            "showbackground": true,
            "ticks": "",
            "zerolinecolor": "white"
           },
           "zaxis": {
            "backgroundcolor": "#E5ECF6",
            "gridcolor": "white",
            "gridwidth": 2,
            "linecolor": "white",
            "showbackground": true,
            "ticks": "",
            "zerolinecolor": "white"
           }
          },
          "shapedefaults": {
           "line": {
            "color": "#2a3f5f"
           }
          },
          "ternary": {
           "aaxis": {
            "gridcolor": "white",
            "linecolor": "white",
            "ticks": ""
           },
           "baxis": {
            "gridcolor": "white",
            "linecolor": "white",
            "ticks": ""
           },
           "bgcolor": "#E5ECF6",
           "caxis": {
            "gridcolor": "white",
            "linecolor": "white",
            "ticks": ""
           }
          },
          "title": {
           "x": 0.05
          },
          "xaxis": {
           "automargin": true,
           "gridcolor": "white",
           "linecolor": "white",
           "ticks": "",
           "title": {
            "standoff": 15
           },
           "zerolinecolor": "white",
           "zerolinewidth": 2
          },
          "yaxis": {
           "automargin": true,
           "gridcolor": "white",
           "linecolor": "white",
           "ticks": "",
           "title": {
            "standoff": 15
           },
           "zerolinecolor": "white",
           "zerolinewidth": 2
          }
         }
        },
        "width": 800,
        "xaxis": {
         "linecolor": "black",
         "linewidth": 2,
         "showline": true,
         "ticklen": 5,
         "ticks": "inside",
         "tickwidth": 2,
         "title": {
          "text": ""
         }
        },
        "yaxis": {
         "linecolor": "black",
         "linewidth": 2,
         "showline": true,
         "ticklen": 5,
         "ticks": "inside",
         "tickwidth": 2,
         "title": {
          "text": ""
         }
        }
       }
      }
     },
     "metadata": {},
     "output_type": "display_data"
    }
   ],
   "source": [
    "doping_properties = [\"formula_frac\", \"correct_formula_frac\", \"formula_similarity\", \"totreldiff\",\"tc\"]\n",
    "\n",
    "corr_matrix(df_MP_non_zero, doping_properties, 800, 600, 14)"
   ]
  },
  {
   "cell_type": "code",
   "execution_count": 19,
   "metadata": {},
   "outputs": [
    {
     "data": {
      "application/vnd.plotly.v1+json": {
       "config": {
        "plotlyServerURL": "https://plot.ly"
       },
       "data": [
        {
         "hoverinfo": "text",
         "mode": "markers",
         "text": [
          "Ag0.02Ge2Pd1.98Sr1",
          "Ag0.15Sn0.85Te1",
          "Ag0.1Ge2Pd1.9Sr1",
          "Ag0.1In0.9Te1",
          "Ag0.2Ba1Si1.8",
          "Ag0.2Ge2Pd1.8Sr1",
          "Ag0.438Hg0.562",
          "Ag0.4Sn0.6Te1",
          "Ag0.5Ba1Si1.5",
          "Ag0.5Pd0.5Th2",
          "Ag0.625Al0.375",
          "Ag0.65Al0.35",
          "Ag0.667Al0.333",
          "Ag0.6Al0.4",
          "Ag0.76Se2Sn1.24",
          "Ag0.7Al0.3",
          "Ag0.7Zn0.3",
          "Ag0.81In0.19",
          "Ag0.81Se2Sn1.19",
          "Ag0.85Se2Sn1.15",
          "Ag0.8Ga0.2",
          "Ag0.92Se2Sn1.08",
          "Ag0.95Se2Sn1.05",
          "Ag0.9S0.2Se1.8Sn1.1",
          "Ag1B2",
          "Ag1In2",
          "Ag1La1",
          "Ag1Mo6S8",
          "Ag1S0.2Se1.8Sn1",
          "Ag1Se2Sn1",
          "Ag1Te3",
          "Ag1Th2",
          "Ag2F1",
          "Ag3.3Al1",
          "Ag4Ge1",
          "Ag5Pb2O6",
          "Ag7N1O11",
          "Al0.01B0.99Li2Pt3",
          "Al0.01B2Mg0.99",
          "Al0.022B2Mg0.978",
          "Al0.02B2Mg0.98",
          "Al0.02Nb3Sn0.98",
          "Al0.02Si0.98V3",
          "Al0.03B2Mg0.97",
          "Al0.044B2Mg0.956",
          "Al0.04Nb3Sn0.96",
          "Al0.05B0.95Li2Pd3",
          "Al0.05B0.95Li2Pt3",
          "Al0.05B2Mg0.95",
          "Al0.05Nb3Sn0.95",
          "Al0.06B2Mg0.94",
          "Al0.06Nb3Sn0.94",
          "Al0.07B2Mg0.93",
          "Al0.085B2Mg0.915",
          "Al0.08B2Mg0.92",
          "Al0.08Nb3Sn0.92",
          "Al0.09B2Mg0.91",
          "Al0.09Nb3Sn0.91",
          "Al0.14B2Mg0.86",
          "Al0.15B2Mg0.85",
          "Al0.15Ga0.85Nb3",
          "Al0.15Ge0.85Nb3",
          "Al0.185B2Mg0.815",
          "Al0.18La0.82",
          "Al0.19B2Mg0.81",
          "Al0.19Nb3Sn0.81",
          "Al0.1B0.9Li2Pd3",
          "Al0.1B2Mg0.9",
          "Al0.1Ca1Ga0.9Si1",
          "Al0.1Ga0.9V3",
          "Al0.1Nb3Sn0.9",
          "Al0.215Nb0.785",
          "Al0.21B2Mg0.79",
          "Al0.22La0.78",
          "Al0.24Si0.76V3",
          "Al0.25V0.75",
          "Al0.27La0.73",
          "Al0.28Mg0.18",
          "Al0.29B2Mg0.71",
          "Al0.2B2Mg0.8",
          "Al0.2B5Mo1.8",
          "Al0.2Ca1Ga0.8Si1",
          "Al0.2La0.8",
          "Al0.2Nb3Sn0.8",
          "Al0.32La0.68",
          "Al0.33Ga0.67Nb3",
          "Al0.35Ga0.65Nb3",
          "Al0.39Ge0.61Nb3",
          "Al0.39Nb3Sn0.61",
          "Al0.3Ga0.7V3",
          "Al0.3Ge0.7Nb3",
          "Al0.3In0.7La3",
          "Al0.3Nb3Sn0.7",
          "Al0.4Nb3Sn0.6",
          "Al0.55Ge0.45Nb3",
          "Al0.5B2Mg0.5",
          "Al0.5Ga0.5Nb3",
          "Al0.5Ga0.5V3",
          "Al0.5Ge0.5Th2",
          "Al0.5Nb3Sn0.5",
          "Al0.61Mg0.39",
          "Al0.62Ge0.38Nb3",
          "Al0.66Ge0.34Nb3",
          "Al0.67Ga0.33Nb3",
          "Al0.69B2Mg0.31",
          "Al0.6B2Mg0.4",
          "Al0.6Ge0.4Nb3",
          "Al0.6Mg0.4",
          "Al0.6Nb3Sn0.4",
          "Al0.71Ge0.29Nb3",
          "Al0.72Nb3.28",
          "Al0.75Ge0.25Nb3",
          "Al0.76Ge0.24Nb3",
          "Al0.77Ge0.23Nb3",
          "Al0.7Be0.3Nb3",
          "Al0.7Ge0.3Nb3",
          "Al0.81Ge0.19Nb3",
          "Al0.83Ge0.17Nb3",
          "Al0.8B0.2Nb3",
          "Al0.8Be0.2Nb3",
          "Al0.8Ca1Ga0.2Si1",
          "Al0.8Ca1Si1.2",
          "Al0.8Ga0.2Nb3",
          "Al0.8Ge0.2Nb3",
          "Al0.8In0.2Nb3",
          "Al0.8Nb3Sn0.2",
          "Al0.8Nb3Zn0.2",
          "Al0.907Ga0.093Nb3",
          "Al0.91Ge0.09Nb3",
          "Al0.924Nb3Se0.076",
          "Al0.927Ga0.073Nb3",
          "Al0.935Nb3Si0.065",
          "Al0.93Ge0.07Nb3",
          "Al0.945Nb3Si0.055",
          "Al0.94Ge0.06Nb3",
          "Al0.94Nb3Se0.06",
          "Al0.952Nb3Se0.048",
          "Al0.956Nb3Si0.044",
          "Al0.95B0.05Nb3",
          "Al0.95Ba1Si1.05",
          "Al0.95Be0.05Nb3",
          "Al0.95Ga0.05Nb3",
          "Al0.95Ge0.05Nb3",
          "Al0.964Nb3Si0.036",
          "Al0.967Ga0.033Nb3",
          "Al0.967Nb3Se0.033",
          "Al0.96Ge0.04Nb3",
          "Al0.975Nb3Si0.025",
          "Al0.97Ge0.03Nb3",
          "Al0.983Ga0.017Nb3",
          "Al0.985Nb3Si0.015",
          "Al0.98Ge0.02Nb3",
          "Al0.98Nb3Se0.02",
          "Al0.991Ge0.009Nb3",
          "Al0.998Mn0.002",
          "Al0.9B0.1Nb3",
          "Al0.9Be0.1Nb3",
          "Al0.9Ca1Ga0.1Si1",
          "Al0.9Ca1Si1.1",
          "Al0.9In0.1Nb3",
          "Al0.9Nb3Sb0.1",
          "Al0.9Nb3Se0.1",
          "Al0.9Nb3Sn0.1",
          "Al0.9Nb3Zn0.1",
          "Al1",
          "Al1.1Ca1Si0.9",
          "Al1.2Ca1Si0.8",
          "Al1.995La1Si0.005",
          "Al13Os4",
          "Al1Au2Sc1",
          "Al1Au4",
          "Al1B4Yb1",
          "Al1Ba1Ge1",
          "Al1Ba1Sn1",
          "Al1Ca1Si1",
          "Al1Cr0.3Nb2.7",
          "Al1Cu1",
          "Al1Ge1",
          "Al1Ge1Sr1",
          "Al1Ge3Y2",
          "Al1Hf0.015Nb2.985",
          "Al1Hf0.081Nb2.919",
          "Al1Hf0.15Nb2.85",
          "Al1Hf0.75Pd2Y0.25",
          "Al1Hf1Ni2",
          "Al1Hf1Pd2",
          "Al1La1Rh1",
          "Al1La3",
          "Al1Mg1Si1",
          "Al1Mg4Si3",
          "Al1Mo0.15Nb2.85",
          "Al1Mo0.225Nb2.775",
          "Al1Mo0.3Nb2.7",
          "Al1Mo1.5Nb1.5",
          "Al1Mo1.8Nb1.2",
          "Al1Mo3",
          "Al1N1",
          "Al1Na1Si1",
          "Al1Nb0.1Pd2Zr0.9",
          "Al1Nb1Ni2",
          "Al1Nb2.706V0.294",
          "Al1Nb2.739Ta0.261",
          "Al1Nb2.73Ti0.27",
          "Al1Nb2.778Ti0.222",
          "Al1Nb2.7V0.3",
          "Al1Nb2.859V0.141",
          "Al1Nb2.859Zr0.141",
          "Al1Nb2.85Ta0.15",
          "Al1Nb2.85W0.15",
          "Al1Nb2.88Ti0.12",
          "Al1Nb2.895W0.105",
          "Al1Nb2.917Ti0.083",
          "Al1Nb2.91Zr0.09",
          "Al1Nb2.927Zr0.073",
          "Al1Nb2.94Ta0.06",
          "Al1Nb2.94W0.06",
          "Al1Nb2.973Zr0.027",
          "Al1Nb2.976Ti0.024",
          "Al1Nb2.97W0.03",
          "Al1Nb2.97Zr0.03",
          "Al1Nb2.993Zr0.007",
          "Al1Ni2Zr1",
          "Al1Os1",
          "Al1Pd2Zr1",
          "Al1Sb1",
          "Al1Si1Sr1",
          "Al1Th2",
          "Al2.06Cu1",
          "Al2.7Ga0.3Pd2U1",
          "Al2.85Ga0.15Pd2U1",
          "Al2.94Ga0.06Pd2U1",
          "Al2.97Ga0.03Pd2U1",
          "Al2.98Ni2U1",
          "Al20.3V2",
          "Al20Pr1Ti2",
          "Al20Pr1V2",
          "Al28Ca24O66",
          "Al2Au1",
          "Al2C1Mo3",
          "Al2Ce1Pd5",
          "Al2Cu1",
          "Al2Gd0.001La0.999",
          "Al2Gd0.002La0.998",
          "Al2Gd0.003La0.997",
          "Al2Gd0.004La0.996",
          "Al2Gd0.005La0.995",
          "Al2La0.988Tb0.012",
          "Al2La0.991Tb0.009",
          "Al2La0.992Tb0.008",
          "Al2La0.994Tb0.006",
          "Al2La0.996Tb0.004",
          "Al2La1",
          "Al2Mg2",
          "Al2N1Nb3",
          "Al2Np1Pd5",
          "Al2Pt1",
          "Al2Si2U1",
          "Al2Th3",
          "Al3.05Ni1.95U1",
          "Al3Ca2Si4",
          "Al3Gd0.01Pd2U0.99",
          "Al3La0.15Pd2U0.85",
          "Al3La0.3Pd2U0.7",
          "Al3La1Pd2",
          "Al3Ni1.98U1",
          "Al3Ni2U0.98",
          "Al3Ni2U1",
          "Al3Pd1.98U1",
          "Al3Pd2Th0.02U0.98",
          "Al3Pd2Th0.1U0.9",
          "Al3Pd2U0.99",
          "Al3Pd2U0.99Y0.01",
          "Al3Pd2U1",
          "Al3Th1",
          "Al3Tl1",
          "Al3Yb1",
          "Al43Nb4Y6",
          "Al43Ta4Y6",
          "Al5Re24",
          "Al6Re1",
          "As0.05Nb3Sn0.95",
          "As0.15Fe1La1P0.85O1",
          "As0.15Nb3Sn0.85",
          "As0.1Fe1La1P0.9O1",
          "As0.25Fe1La1P0.75O1",
          "As0.25Se0.75Y1",
          "As0.2Ba1Sb1.8Ti2O1",
          "As0.2Fe1La1P0.8O1",
          "As0.5In1Te0.5",
          "As0.7Ce1Fe1P0.3O1",
          "As0.8Fe2P1.2Sr1",
          "As1",
          "As1.22Fe2P0.78Sr1",
          "As1.2Fe2P0.8Sr1",
          "As1.3Fe2P0.7Sr1",
          "As1.792Ba1Ni2P0.208",
          "As1.7Eu1Fe2P0.3",
          "As1.816Ba1Ni2P0.184",
          "As1.846Ba1Ni2P0.154",
          "As1.902Ba1Ni2P0.098",
          "As1.972Ba1Ni2P0.028",
          "As12La1Os4",
          "As12Pr1Ru4",
          "As1C1Nb2",
          "As1Ca1Co0.15F1Fe0.85",
          "As1Ca1Co0.1F1Fe0.9",
          "As1Ca1Co0.26F1Fe0.74",
          "As1Ca1Co0.2F1Fe0.8",
          "As1Ca1F1Fe0.85Ni0.15",
          "As1Ca1F1Fe0.85Rh0.15",
          "As1Ca1F1Fe0.8Ni0.2",
          "As1Ca1F1Fe0.92Rh0.08",
          "As1Ca1F1Fe0.95Rh0.05",
          "As1Ca1F1Fe0.9Ni0.1",
          "As1Ce1Co0.15Fe0.85O1",
          "As1Ce1Co0.1Fe0.9O1",
          "As1Ce1F0.05Fe1O0.95",
          "As1Ce1F0.08Fe1O0.92",
          "As1Ce1F0.11Fe1O0.89",
          "As1Ce1F0.12Fe1O0.88",
          "As1Ce1F0.16Fe1O0.84",
          "As1Ce1F0.1Fe1O0.9",
          "As1Ce1F0.2Fe1O0.8",
          "As1Ce1F0.3Fe1O0.7",
          "As1Ce1Fe1O0.7",
          "As1Ce1Fe1O0.85",
          "As1Co0.005Fe0.995Na1",
          "As1Co0.019Fe0.981Na1",
          "As1Co0.021Fe0.979Na1",
          "As1Co0.023Fe0.977Na1",
          "As1Co0.025Fe0.975Li1",
          "As1Co0.025Fe0.975Na1",
          "As1Co0.028Fe0.972Na1",
          "As1Co0.02Fe0.98Na1",
          "As1Co0.03Fe0.97Na1",
          "As1Co0.05Fe0.95Li1",
          "As1Co0.05Fe0.95Na1",
          "As1Co0.05Fe0.95Pr1O1",
          "As1Co0.05Fe0.95Sm1O1",
          "As1Co0.061Fe0.939Na1",
          "As1Co0.075Fe0.925Li1",
          "As1Co0.075Fe0.925Na1",
          "As1Co0.075Fe0.925Pr1O1",
          "As1Co0.075Fe0.925Sm1O1",
          "As1Co0.07Fe0.93Na1",
          "As1Co0.08Fe0.92Na1",
          "As1Co0.125Fe0.875Sm1O1",
          "As1Co0.15Fe0.85Pr1O1",
          "As1Co0.15Fe0.85Sm1O1",
          "As1Co0.175Fe0.825Sm1O1",
          "As1Co0.1Fe0.9Pr1O1",
          "As1Co0.1Fe0.9Sm1O1",
          "As1Co0.2Fe0.8Pr1O1",
          "As1Co0.2Fe0.8Sm1O1",
          "As1Co0.3Fe0.7Pr1O1",
          "As1Cr1",
          "As1Cu0.02Fe0.98Li1",
          "As1F0.06Fe1Nd1O0.94",
          "As1F0.06Fe1Sm1O0.94",
          "As1F0.06La1Ni1O0.94",
          "As1F0.075Fe1Sm1O0.925",
          "As1F0.07Fe1Sm1O0.93",
          "As1F0.082Fe1Pr1O0.918",
          "As1F0.085Fe1Sm1O0.915",
          "As1F0.08Fe1Nd1O0.92",
          "As1F0.09Fe1Sm1O0.91",
          "As1F0.11Fe1Nd1O0.89",
          "As1F0.11Fe1Pr1O0.89",
          "As1F0.12Fe1Nd1O0.88",
          "As1F0.12La1Ni1O0.88",
          "As1F0.13Fe1Sm1O0.87",
          "As1F0.14Fe1Sm1O0.86",
          "As1F0.154Fe1Pr1O0.846",
          "As1F0.15Fe1La0.5Y0.5O0.85",
          "As1F0.15Fe1Sm1O0.85",
          "As1F0.16Fe1Nd1O0.84",
          "As1F0.175Fe1Nd1O0.825",
          "As1F0.17Fe1Gd1O0.83",
          "As1F0.18Fe1Nd1O0.82",
          "As1F0.18Fe1Sm1O0.82",
          "As1F0.1Fe1La0.5Y0.5O0.9",
          "As1F0.1Fe1La0.7Y0.3O0.9",
          "As1F0.1Fe1Nd1O0.9",
          "As1F0.1Fe1Pr1O0.9",
          "As1F0.1Fe1Tb1O0.9",
          "As1F0.1La1Ni1O0.9",
          "As1F0.225Fe1Pr1O0.775",
          "As1F0.2Fe1Gd1O0.8",
          "As1F0.2Fe1Nd1O0.8",
          "As1F0.3Fe1Nd1O0.7",
          "As1F1Fe1La0.2Sr0.8",
          "As1Fe0.7Gd1Ir0.3O1",
          "As1Fe0.84Ir0.16Sm1O1",
          "As1Fe0.85Ir0.15Sm1O1",
          "As1Fe0.85Nd1Rh0.15O1",
          "As1Fe0.875Ir0.125Sm1O1",
          "As1Fe0.89Ir0.11Sm1O1",
          "As1Fe0.8Gd1Ir0.2O1",
          "As1Fe0.8Nd1Rh0.2O1",
          "As1Fe0.92Ni0.08Sm1O1",
          "As1Fe0.94Ir0.06Sm1O1",
          "As1Fe0.94Ni0.06Sm1O1",
          "As1Fe0.95Nd1Rh0.05O1",
          "As1Fe0.96Ni0.04Sm1O1",
          "As1Fe0.975Na1Ni0.025",
          "As1Fe0.98Li1Ni0.02",
          "As1Fe0.99Li1Ni0.01",
          "As1Fe0.9Nd1Rh0.1O1",
          "As1Fe0.9Rh0.1Sm1O1",
          "As1Fe1.01Li0.99",
          "As1Fe1.02Li0.98",
          "As1Fe1Gd0.8Th0.2O1",
          "As1Fe1Gd1O0.7",
          "As1Fe1Gd1O0.85",
          "As1Fe1La1O1",
          "As1Fe1Li0.8",
          "As1Fe1Li1",
          "As1Fe1Mg0.1Sr2V0.9O3",
          "As1Fe1Na0.86",
          "As1Fe1Nd0.8Sr0.2O1",
          "As1Fe1Nd0.8Th0.2O1",
          "As1Fe1Nd1O0.7",
          "As1Fe1Nd1O0.85",
          "As1Fe1Nd1O0.9",
          "As1Fe1Pr0.75Sr0.25O1",
          "As1Fe1Pr0.85Sr0.15O1",
          "As1Fe1Pr0.8Sr0.2O1",
          "As1Fe1Pr0.95Sr0.05O1",
          "As1Fe1Pr0.9Sr0.1O1",
          "As1Fe1Pr1O0.7",
          "As1Fe1Pr1O0.85",
          "As1Fe1Pr1O0.896",
          "As1Fe1Sm0.89Th0.11O1",
          "As1Fe1Sm0.8U0.2O1",
          "As1Fe1Sm0.9Th0.1O1",
          "As1Fe1Sm0.9U0.1O1",
          "As1Fe1Sm1O0.67",
          "As1Fe1Sm1O0.7",
          "As1Fe1Sm1O0.8",
          "As1Fe1Sm1O0.85",
          "As1Fe1Tb0.8Th0.2O1",
          "As1Fe1Tb0.9Th0.1O1",
          "As1Fe1Tb1O0.75",
          "As1Fe1Tb1O0.8",
          "As1Fe1Tb1O0.82",
          "As1Fe1Tb1O0.85",
          "As1Fe1Tb1O0.9",
          "As1Ga1",
          "As1Ge1",
          "As1Hf1Os1",
          "As1Hf1Ru1",
          "As1Ir1La1",
          "As1La0.8Ni1Sr0.2O1",
          "As1La0.9Ni1Sr0.1O1",
          "As1La1Ni1O1",
          "As1Nb1Si1",
          "As1Nb3",
          "As1Os1Zr1",
          "As1Pd2",
          "As1Pd5",
          "As1Pt1Sr1",
          "As1Rh0.14Ru0.86",
          "As1Rh1",
          "As1Ru1Zr1",
          "As1Sn1",
          "As2Ba0.1Fe2K0.9",
          "As2Ba0.2Fe2K0.8",
          "As2Ba0.2Fe2Na0.8",
          "As2Ba0.39Fe2K0.61",
          "As2Ba0.3Fe2K0.7",
          "As2Ba0.3Fe2Na0.7",
          "As2Ba0.49Co0.21Fe1.79K0.51",
          "As2Ba0.4Fe2K0.6",
          "As2Ba0.4Fe2Na0.6",
          "As2Ba0.511Co0.228Fe1.772K0.489",
          "As2Ba0.55Co0.05Fe1.95K0.45",
          "As2Ba0.55Fe2K0.45",
          "As2Ba0.59Fe2K0.41",
          "As2Ba0.5Co0.1Fe1.9K0.5",
          "As2Ba0.5Co0.2Fe1.8K0.5",
          "As2Ba0.5Co0.3Fe1.7K0.5",
          "As2Ba0.5Cu0.1Fe1.9K0.5",
          "As2Ba0.5Cu0.2Fe1.8K0.5",
          "As2Ba0.5Fe1.7K0.5Ni0.3",
          "As2Ba0.5Fe1.7K0.5Zn0.3",
          "As2Ba0.5Fe1.84K0.5Zn0.16",
          "As2Ba0.5Fe1.88K0.5Zn0.12",
          "As2Ba0.5Fe1.8K0.5Ni0.2",
          "As2Ba0.5Fe1.8K0.5Ru0.2",
          "As2Ba0.5Fe1.92K0.5Mn0.08",
          "As2Ba0.5Fe1.92K0.5Zn0.08",
          "As2Ba0.5Fe1.96K0.5Mn0.04",
          "As2Ba0.5Fe1.9K0.5Mn0.1",
          "As2Ba0.5Fe1.9K0.5Ni0.1",
          "As2Ba0.5Fe1.9K0.5Ru0.1",
          "As2Ba0.5Fe1.9K0.5Zn0.1",
          "As2Ba0.5Fe2K0.5",
          "As2Ba0.5Fe2Na0.5",
          "As2Ba0.63Fe2K0.37",
          "As2Ba0.64Fe2K0.36",
          "As2Ba0.64Fe2Na0.36",
          "As2Ba0.65Fe2K0.35",
          "As2Ba0.65Fe2Na0.35",
          "As2Ba0.663Fe2K0.337",
          "As2Ba0.66Co0.2Fe1.8K0.34",
          "As2Ba0.677Fe2K0.323",
          "As2Ba0.68Co0.046Fe1.954K0.32",
          "As2Ba0.68Fe2K0.32",
          "As2Ba0.68Fe2Na0.32",
          "As2Ba0.694Co0.174Fe1.826K0.306",
          "As2Ba0.698Fe2Na0.302",
          "As2Ba0.6Fe2K0.4",
          "As2Ba0.6Fe2Na0.4",
          "As2Ba0.72Fe2K0.28",
          "As2Ba0.737Fe2K0.263",
          "As2Ba0.74Fe2K0.26",
          "As2Ba0.75Fe2K0.25",
          "As2Ba0.76Fe2K0.24",
          "As2Ba0.76Fe2Na0.24",
          "As2Ba0.779Fe2Na0.221",
          "As2Ba0.788Fe2K0.212",
          "As2Ba0.78Fe2K0.22",
          "As2Ba0.797Fe2K0.203",
          "As2Ba0.79Fe2K0.21",
          "As2Ba0.7Fe2K0.3",
          "As2Ba0.7Fe2Na0.3",
          "As2Ba0.805Fe2K0.195",
          "As2Ba0.812Fe2K0.188",
          "As2Ba0.816Fe2K0.184",
          "As2Ba0.818Fe2Na0.182",
          "As2Ba0.81Fe2K0.19",
          "As2Ba0.823Fe2K0.177",
          "As2Ba0.825Fe2K0.175",
          "As2Ba0.82Fe2K0.18",
          "As2Ba0.833Fe2K0.167",
          "As2Ba0.83Fe2K0.17",
          "As2Ba0.84Fe2K0.16",
          "As2Ba0.85Fe2Na0.15",
          "As2Ba0.88Fe2K0.12",
          "As2Ba0.8Fe2Na0.2",
          "As2Ba0.9Fe2K0.1",
          "As2Ba1Fe0.875Ru1.125",
          "As2Ba1Fe1.125Ru0.875",
          "As2Ba1Fe1.24Ru0.76",
          "As2Ba1Fe1.25Ru0.75",
          "As2Ba1Fe1.28Ru0.72",
          "As2Ba1Fe1.2Ru0.8",
          "As2Ba1Fe1.3Ru0.7",
          "As2Ba1Ni2",
          "As2Ba1Pd2",
          "As2Ca0.67Fe2Sr0.33",
          "As2Ca1Pd2",
          "As2Cd1Ge1",
          "As2Cd1Sn1",
          "As2Co0.068Fe1.932K1",
          "As2Co0.084Fe1.916Sr1",
          "As2Co0.112Fe1.888Sr1",
          "As2Co0.14Fe1.86Sr1",
          "As2Co0.174Fe1.826Sr1",
          "As2Co0.184Fe1.816Sr1",
          "As2Co0.1Fe1.9Mg1Sr4Ti1O6",
          "As2Co0.208Fe1.792Sr1",
          "As2Co0.22Eu1Fe1.78",
          "As2Co0.234Fe1.766Sr1",
          "As2Co0.248Fe1.752Sr1",
          "As2Co0.24Eu1Fe1.76",
          "As2Co0.24Fe1.76Sr1",
          "As2Co0.25Fe1.75Sr1",
          "As2Co0.268Fe1.732Sr1",
          "As2Co0.2Fe1.8Mg1Sr4Ti1O6",
          "As2Co0.2Fe1.8Sr1",
          "As2Co0.3Fe1.7Mg1Sr4Ti1O6",
          "As2Co0.3Fe1.7Sr1",
          "As2Cs1Fe2",
          "As2Eu0.7Fe2Na0.3",
          "As2Eu1Fe1.72Ir0.28",
          "As2Eu1Fe1.78Ir0.22",
          "As2Fe1.75Pt0.25Sr1",
          "As2Fe1.75Rh0.25Sr1",
          "As2Fe1.78Ni0.22Sr1",
          "As2Fe1.7Pt0.3Sr1",
          "As2Fe1.82Ni0.18Sr1",
          "As2Fe1.84Ni0.16Sr1",
          "As2Fe1.84Pt0.16Sr1",
          "As2Fe1.85Ni0.15Sr1",
          "As2Fe1.85Pd0.15Sr1",
          "As2Fe1.85Pt0.15Sr1",
          "As2Fe1.88Ni0.12Sr1",
          "As2Fe1.8Ni0.2Sr1",
          "As2Fe1.8Pt0.2Sr1",
          "As2Fe1.9Ni0.1Sr1",
          "As2Fe1.9Pt0.1Sr1",
          "As2Fe2K0.1Sr0.9",
          "As2Fe2K0.2Sr0.8",
          "As2Fe2K0.7Sr0.3",
          "As2Fe2K0.9Na0.1",
          "As2Fe2K1",
          "As2Fe2Mg0.8Sr4Ti1.2O6",
          "As2Fe2Mg0.9Sr4Ti1.1O6",
          "As2Fe2Mg1Sr4Ti1O6",
          "As2Fe2Rb1",
          "As2Fe2Sr4V2O6",
          "As2Ir2Sr1",
          "As2La1Pd2",
          "As2Mo1",
          "As2Ni2Sr1",
          "As2Pd2Sr1",
          "As2Pd5",
          "As2Pt2Sr1",
          "As2Te3",
          "As2W1",
          "As3La4",
          "As3Sn4",
          "As4Ba2Fe2Ti2O1",
          "As4Ca1Fe4Rb1",
          "Au0.02Nb3Rh0.98",
          "Au0.05Nb3Rh0.95",
          "Au0.146B2Mg0.854",
          "Au0.1Nb3Rh0.9",
          "Au0.22Nb0.78",
          "Au0.23V0.77",
          "Au0.242Nb0.758",
          "Au0.24Nb0.76",
          "Au0.25Ba1Ge12Pt3.75",
          "Au0.25Te0.75",
          "Au0.278Ga0.722",
          "Au0.27Tl0.73",
          "Au0.281Ga0.719",
          "Au0.28Te0.72",
          "Au0.293Ga0.707",
          "Au0.2B5Mo1.8",
          "Au0.2Ga0.8",
          "Au0.2In1Pd1.8Y1",
          "Au0.2Nb0.8",
          "Au0.2Sn0.8",
          "Au0.328Ga0.672",
          "Au0.332Te0.668",
          "Au0.35Te0.65",
          "Au0.374Te0.626",
          "Au0.388Ga0.612",
          "Au0.3Nb3Rh0.7",
          "Au0.3Te0.7",
          "Au0.427Ga0.573",
          "Au0.499Ga0.501",
          "Au0.5Pb2Pd0.5",
          "Au0.7Nb3Pt0.3",
          "Au0.7Nb3Rh0.3",
          "Au0.85Ga2Pd0.15",
          "Au0.93Ga2Pd0.07",
          "Au0.95Nb3Rh0.05",
          "Au0.976Ga2Pd0.024",
          "Au0.988Ga2Pd0.012",
          "Au0.98Ga2Pd0.02",
          "Au0.98Nb3Rh0.02",
          "Au0.9Nb3Rh0.1",
          "Au1.3In1Pd0.7Y1",
          "Au1.8In1Pd0.2Y1",
          "Au1Be1",
          "Au1Ga1",
          "Au1Ga2",
          "Au1Ga40Mo8",
          "Au1In1Pd1Y1",
          "Au1In2",
          "Au1Lu1",
          "Au1Nb2.85V0.15",
          "Au1Nb3",
          "Au1Pb2",
          "Au1Pb3",
          "Au1Sb2",
          "Au1Sc1",
          "Au1Si3Sr1",
          "Au1Sn1",
          "Au1Te2",
          "Au1Th2",
          "Au1Tl2",
          "Au1V3",
          "Au1Zn3",
          "Au1Zr3",
          "Au25Sb75",
          "Au2Bi1",
          "Au2Ce1Si2",
          "Au2In1Sc1",
          "Au2In1Y1",
          "Au2Pb1",
          "Au3Te5",
          "Au5Ba1",
          "Au5Ca1",
          "Au5Sn1",
          "B0.039C0.961Si1",
          "B0.04C0.96Cu1Sr2O5",
          "B0.05C0.95Cu1Sr2O5",
          "B0.05P0.95Ru1Zr1",
          "B0.06C0.94Cu1Sr2O5",
          "B0.07C0.93Cu1Sr2O5",
          "B0.08C0.92Cu1Sr2O5",
          "B0.09C0.91Cu1Sr2O5",
          "B0.14C0.86Cu1Sr2O5",
          "B0.15C0.85Cu1Sr2O5",
          "B0.15P0.85Ru1Zr1",
          "B0.1C2.9Y2",
          "B0.1P0.9Ru1Zr1",
          "B0.2Nb5Si2.8",
          "B0.2P0.8Ru1Zr1",
          "B0.3Ru0.7",
          "B0.67Mg0.33",
          "B0.69Mg0.31",
          "B0.6Nb5Si2.4",
          "B0.8C1.2Lu1Ni1",
          "B0.8C1Lu1Ni1",
          "B0.8Nb5Si2.2",
          "B0.95C0.95Lu1Ni1",
          "B0.978C0.022Si1",
          "B0.9C1.1Lu1Ni1",
          "B0.9C1Lu1Ni1",
          "B1",
          "B1.1C0.9Lu1Ni1",
          "B1.792C0.208Mg1",
          "B1.81C0.19Mg1",
          "B1.826C0.174Mg1",
          "B1.834C0.166Mg1",
          "B1.84C0.16Mg1",
          "B1.84F0.16Mg1",
          "B1.868C0.132Mg1",
          "B1.874C0.126Mg1",
          "B1.87C0.13Mg1",
          "B1.88C0.12Mg1",
          "B1.896C0.104Mg1",
          "B1.89C0.11Mg1",
          "B1.8Be0.2Mg1",
          "B1.904C0.096Mg1",
          "B1.924C0.076Mg1",
          "B1.92C0.08Mg1",
          "B1.92F0.08Mg1",
          "B1.938C0.062Mg1",
          "B1.958C0.042Mg1",
          "B1.95C0.05Mg1",
          "B1.968C0.032Mg1",
          "B1.96C0.04Mg1",
          "B1.96F0.04Mg1",
          "B1.98C0.02Mg1",
          "B1.991C0.009Mg1",
          "B1.9C0.1Mg1",
          "B12Lu0.007Zr0.993",
          "B12Lu0.015Zr0.985",
          "B12Lu0.016Zr0.984",
          "B12Lu0.065Zr0.935",
          "B12Lu0.074Zr0.926",
          "B12Lu1",
          "B12Sc1",
          "B12Th0.93Zr0.07",
          "B12Y1",
          "B12Yb0.01Zr0.99",
          "B12Zr1",
          "B16Ir19Mg10",
          "B1C0.85Lu1Ni1",
          "B1C1Cu0.1Lu1Ni0.9",
          "B1C1Cu0.2Lu1Ni0.8",
          "B1C1Lu1Ni0.8V0.2",
          "B1C1Lu1Ni0.9V0.1",
          "B1C1Lu1Ni1",
          "B1C1Mo2",
          "B1Ca1N1Ni1",
          "B1Hf1",
          "B1I3",
          "B1La1N1Ni1",
          "B1Li2Ni0.06Pd2.94",
          "B1Li2Ni0.15Pd2.85",
          "B1Li2Ni0.3Pd2.7",
          "B1Li2Pd0.3Pt2.7",
          "B1Li2Pd2.7Pt0.3",
          "B1Li2Pd2.85Pt0.15",
          "B1Li2Pd3",
          "B1Li2Pt3",
          "B1Mo1",
          "B1Mo1Re1",
          "B1Mo2",
          "B1Re3",
          "B1Ta1",
          "B1Ta2",
          "B1W2",
          "B1Zr1",
          "B2C0.99Er1Fe0.04Ni1.96",
          "B2C1Ce0.05Ni2Y0.95",
          "B2C1Ce0.1Ni2Y0.9",
          "B2C1Ce1Ni2",
          "B2C1Co0.02Ni1.98Y1",
          "B2C1Co0.06Ni1.94Y1",
          "B2C1Co0.14Ni1.86Y1",
          "B2C1Co0.1Er1Ni1.9",
          "B2C1Co0.1Ni1.9Y1",
          "B2C1Co0.2Ni1.8Y1",
          "B2C1Cu0.015Ni1.985Y1",
          "B2C1Cu0.05Ni1.95Y1",
          "B2C1Cu0.15Ni1.85Y1",
          "B2C1Cu0.1Ni1.9Y1",
          "B2C1Cu0.2Ni1.8Y1",
          "B2C1Cu0.3Ni1.7Y1",
          "B2C1Dy0.15Ho0.85Ni2",
          "B2C1Dy0.1Ho0.9Ni2",
          "B2C1Dy0.228Lu0.772Ni2",
          "B2C1Dy0.25Ni2Y0.75",
          "B2C1Dy0.2Ho0.8Ni2",
          "B2C1Dy0.2Lu0.8Ni2",
          "B2C1Dy0.2Ni2Tm0.8",
          "B2C1Dy0.3Ho0.7Ni2",
          "B2C1Dy0.75Ni2Tb0.25",
          "B2C1Dy0.7Lu0.3Ni2",
          "B2C1Dy0.85Ni2Tm0.15",
          "B2C1Dy0.85Ni2Y0.15",
          "B2C1Dy0.8Ho0.2Ni2",
          "B2C1Dy0.8Ni2Tm0.2",
          "B2C1Dy0.95Lu0.05Ni2",
          "B2C1Dy0.95Ni2Tb0.05",
          "B2C1Dy0.9Lu0.1Ni2",
          "B2C1Dy0.9Ni2Tb0.1",
          "B2C1Dy0.9Ni2Tm0.1",
          "B2C1Dy1Ni2",
          "B2C1Er0.75Ni2Tb0.25",
          "B2C1Er0.775Ni2Tb0.225",
          "B2C1Er0.7Ni2Tb0.3",
          "B2C1Er0.82Ni2Tb0.18",
          "B2C1Er0.85Ni2Tb0.15",
          "B2C1Er0.8Lu0.2Ni2",
          "B2C1Er0.8Ni2Tb0.2",
          "B2C1Er0.9Ni2Tb0.1",
          "B2C1Er1Fe0.02Ni1.98",
          "B2C1Er1Fe0.035Ni1.965",
          "B2C1Er1Fe0.04Ni1.96",
          "B2C1Er1Fe0.06Ni1.94",
          "B2C1Er1Fe0.08Ni1.92",
          "B2C1Er1Fe0.1Ni1.9",
          "B2C1Er1Ni2",
          "B2C1Fe0.01Ho1Ni1.99",
          "B2C1Fe0.02Ni1.98Y1",
          "B2C1Fe0.04Ni1.96Tm1",
          "B2C1Fe0.06Ni1.94Y1",
          "B2C1Fe0.08Ni1.92Tm1",
          "B2C1Fe0.12Ni1.88Tm1",
          "B2C1Fe0.14Ni1.86Y1",
          "B2C1Fe0.16Ni1.84Tm1",
          "B2C1Fe0.1Ni1.9Tm1",
          "B2C1Fe0.1Ni1.9Y1",
          "B2C1Gd0.055Lu0.945Ni2",
          "B2C1Gd0.05Ni2Y0.95",
          "B2C1Gd0.12Lu0.88Ni2",
          "B2C1Gd0.13Lu0.87Ni2",
          "B2C1Gd0.14Ni2Y0.86",
          "B2C1Gd0.15Ni2Y0.85",
          "B2C1Gd0.19Lu0.81Ni2",
          "B2C1Gd0.1Ni2Y0.9",
          "B2C1Gd0.21Ni2Y0.79",
          "B2C1Gd0.22Ni2Y0.78",
          "B2C1Gd0.23Ni2Y0.77",
          "B2C1Gd0.25Ni2Y0.75",
          "B2C1Gd0.26Ni2Y0.74",
          "B2C1Gd0.2Ni2Y0.8",
          "B2C1Ho0.15Lu0.85Ni2",
          "B2C1Ho0.25Ni2Y0.75",
          "B2C1Ho0.3Lu0.7Ni2",
          "B2C1Ho0.75Lu0.25Ni2",
          "B2C1Ho0.75Ni2Y0.25",
          "B2C1Ho0.7Lu0.3Ni2",
          "B2C1Ho0.85Lu0.15Ni2",
          "B2C1Ho0.85Ni2Y0.15",
          "B2C1Ho0.8La0.2Ni2",
          "B2C1Ho0.8Lu0.2Ni2",
          "B2C1Ho0.93La0.07Ni2",
          "B2C1Ho0.95La0.05Ni2",
          "B2C1Ho0.95Lu0.05Ni2",
          "B2C1Ho0.97La0.03Ni2",
          "B2C1Ho0.9La0.1Ni2",
          "B2C1Ho0.9Lu0.1Ni2",
          "B2C1Ho1Ni2",
          "B2C1La0.02Lu0.98Ni2",
          "B2C1La0.05Lu0.95Ni2",
          "B2C1La0.06Lu0.94Ni2",
          "B2C1La0.07Lu0.93Ni2",
          "B2C1La0.08Lu0.92Ni2",
          "B2C1La1Pt2",
          "B2C1Lu0.08Ni2Y0.92",
          "B2C1Lu0.16Ni2Y0.84",
          "B2C1Lu0.1Ni2Y0.9",
          "B2C1Lu0.25Ni2Y0.75",
          "B2C1Lu0.7Ni2Y0.3",
          "B2C1Lu0.84Ni2Y0.16",
          "B2C1Lu0.8Ni2Y0.2",
          "B2C1Lu1Ni2",
          "B2C1Mn0.02Ni1.98Y1",
          "B2C1Mn0.1Ni1.9Y1",
          "B2C1Mn0.2Ni1.8Y1",
          "B2C1Mn0.3Ni1.7Y1",
          "B2C1Ni1.7Pd0.3Y1",
          "B2C1Ni1.82Pd0.18Y1",
          "B2C1Ni1.8Pd0.2Y1",
          "B2C1Ni1.94Ru0.06Y1",
          "B2C1Ni1.98Ru0.02Y1",
          "B2C1Ni1.9Pt0.1Y1",
          "B2C1Ni1.9Ru0.1Y1",
          "B2C1Ni2Pr0.05Y0.95",
          "B2C1Ni2Pr0.15Y0.85",
          "B2C1Ni2Pr0.1Y0.9",
          "B2C1Ni2Pr0.25Y0.75",
          "B2C1Ni2Pr0.2Y0.8",
          "B2C1Ni2Tb0.05Y0.95",
          "B2C1Ni2Tb0.15Y0.85",
          "B2C1Ni2Tb0.25Y0.75",
          "B2C1Ni2Tb0.35Y0.65",
          "B2C1Ni2Tb0.3Y0.7",
          "B2C1Ni2Tb0.4Y0.6",
          "B2C1Ni2Th1",
          "B2C1Ni2Tm1",
          "B2C1Ni2Y1",
          "B2C1Pd2Th1",
          "B2C1Pd2Y1",
          "B2C1Pr1Pt2",
          "B2C1Pt2Th1",
          "B2C2Lu1",
          "B2C2Y1",
          "B2Ce0.001La0.999Rh3",
          "B2Ce0.002La0.998Rh3",
          "B2Ce0.003La0.997Rh3",
          "B2Ce1Ru3",
          "B2Co0.01Mg0.99",
          "B2Co0.02Mg0.98",
          "B2Co0.03Mg0.97",
          "B2Co0.1Mg0.9",
          "B2Co2La0.9Y0.1",
          "B2Cr0.01Mg0.99",
          "B2Cr0.02Mg0.98",
          "B2Cr0.03Mg0.97",
          "B2Cu0.004Mg0.996",
          "B2Cu0.011Mg0.989",
          "B2Cu0.018Mg0.982",
          "B2Cu0.03Mg0.97",
          "B2Cu0.05Mg0.95",
          "B2Cu0.1Mg0.9",
          "B2Cu0.2Mg0.8",
          "B2Dy0.1Lu0.9Ru1",
          "B2Dy0.2Lu0.8Ru1",
          "B2Er0.15Lu0.85Ru1",
          "B2Er0.1Lu0.9Ru1",
          "B2Er0.2Lu0.8Ru1",
          "B2Er0.35Lu0.65Ru1",
          "B2Er0.45Lu0.55Ru1",
          "B2Er0.4Lu0.6Ru1",
          "B2Fe0.003Mg0.997",
          "B2Fe0.006Mg0.994",
          "B2Fe0.012Mg0.988",
          "B2Fe0.01Mg0.99",
          "B2Fe0.03Mg0.97",
          "B2Fe0.05Mg0.95",
          "B2Fe0.1Mg0.9",
          "B2Gd0.1Lu0.9Ru1",
          "B2Gd0.2Lu0.8Ru1",
          "B2Ge1Ta5",
          "B2Ho0.1Lu0.9Ru1",
          "B2Ho0.2Lu0.8Ru1",
          "B2Ir0.02Mg0.98",
          "B2Ir0.06Mg0.94",
          "B2Ir0.12Mg0.88",
          "B2Ir1Mo2",
          "B2Ir1V2",
          "B2Ir3La1",
          "B2Ir3Th1",
          "B2La1Rh3",
          "B2La3N3Ni2",
          "B2Li0.05Mg0.95",
          "B2Li0.07Mg0.93",
          "B2Li0.08Mg0.92",
          "B2Li0.11Mg0.89",
          "B2Li0.15Mg0.85",
          "B2Li0.1Mg0.9",
          "B2Li0.2Mg0.8",
          "B2Lu0.8Ru1Tm0.2",
          "B2Lu0.9Ru1Tb0.1",
          "B2Lu0.9Ru1Tm0.1",
          "B2Lu1Os1",
          "B2Lu1Os3",
          "B2Lu1Ru1",
          "B2Mg0.1Nb0.9",
          "B2Mg0.5",
          "B2Mg0.6",
          "B2Mg0.7",
          "B2Mg0.8",
          "B2Mg0.85Na0.15",
          "B2Mg0.88Sc0.12",
          "B2Mg0.8Na0.2",
          "B2Mg0.8Ti0.2",
          "B2Mg0.8Zn0.2",
          "B2Mg0.8Zr0.2",
          "B2Mg0.9",
          "B2Mg0.93Na0.07",
          "B2Mg0.94Pb0.06",
          "B2Mg0.95Mn0.05",
          "B2Mg0.95Ti0.05",
          "B2Mg0.95Zn0.05",
          "B2Mg0.95Zr0.05",
          "B2Mg0.96Mn0.04",
          "B2Mg0.97Na0.03",
          "B2Mg0.98",
          "B2Mg0.988Sc0.012",
          "B2Mg0.98Pb0.02",
          "B2Mg0.98Sc0.02",
          "B2Mg0.99Mn0.01",
          "B2Mg0.99Pb0.01",
          "B2Mg0.99Sn0.01",
          "B2Mg0.99Ti0.01",
          "B2Mg0.9Pb0.1",
          "B2Mg0.9Ti0.1",
          "B2Mg0.9Zn0.1",
          "B2Mg0.9Zr0.1",
          "B2Mo0.96Zr0.04",
          "B2Mo5Si1",
          "B2Nb0.7",
          "B2Nb0.83",
          "B2Nb0.84",
          "B2Nb0.9",
          "B2Nb1",
          "B2Os1",
          "B2Os1Sc1",
          "B2Os1Y1",
          "B2Re1",
          "B2Ru1",
          "B2Ru1Sc0.2Y0.8",
          "B2Ru1Y1",
          "B2Ru3Th1",
          "B2V0.01Zr0.99",
          "B2V0.04Zr0.96",
          "B2V0.05Zr0.95",
          "B2Zr1",
          "B3Be1.09",
          "B3Br5C6La9",
          "B3Re7",
          "B4Dy1Ir2Rh2",
          "B4Er0.11Ho0.89Rh4",
          "B4Er0.134Ho0.866Rh4",
          "B4Er0.16Ho0.84Rh4",
          "B4Er0.17Rh4Y0.83",
          "B4Er0.187Ho0.813Rh4",
          "B4Er0.25Ho0.75Rh4",
          "B4Er0.29Rh4Y0.71",
          "B4Er0.72Gd0.28Rh4",
          "B4Er0.72Rh4Y0.28",
          "B4Er0.73Ho0.27Rh4",
          "B4Er0.76Gd0.24Rh4",
          "B4Er0.79Ho0.21Rh4",
          "B4Er0.88Rh4Y0.12",
          "B4Er0.8Gd0.2Rh4",
          "B4Er0.91Gd0.09Rh4",
          "B4Er0.95Gd0.05Rh4",
          "B4Er0.97Gd0.03Rh4",
          "B4Er0.98Gd0.02Rh4",
          "B4Er0.9Gd0.1Rh4",
          "B4Er1Ir2Rh2",
          "B4Er1Ir4",
          "B4Er1Rh4",
          "B4Gd0.01Rh4Y0.99",
          "B4Gd0.1Rh4Y0.9",
          "B4Gd0.3Rh4Y0.7",
          "B4Ho1Rh3.72Ru0.28",
          "B4Ho1Rh4",
          "B4Ir4Lu0.4Y0.6",
          "B4Ir4Lu0.5Y0.5",
          "B4Ir4Lu0.6Y0.4",
          "B4Ir4Lu0.7Y0.3",
          "B4Ir4Lu0.8Y0.2",
          "B4Ir4Tm1",
          "B4Lu0.75Rh4Th0.25",
          "B4Lu1Rh4",
          "B4Lu1Ru4",
          "B4Nd1Rh4",
          "B4Os1Y1",
          "B4Rh4Sc0.75Th0.25",
          "B4Rh4Sm1",
          "B4Rh4Th1",
          "B4Rh4Tm1",
          "B4Rh4Y1",
          "B4Ru1Y1",
          "B4Ru4Sc1",
          "B4Ru4Y1",
          "B5Hf0.2Mo1.8",
          "B5Mo1.7Nb0.3",
          "B5Mo1.7Ta0.3",
          "B5Mo1.7Ti0.3",
          "B5Mo1.7V0.3",
          "B5Mo1.8Sc0.2",
          "B5Mo1.9Y0.1",
          "B5Mo1.9Zr0.1",
          "B6Ce0.05Y0.95",
          "B6Fe0.1Y0.9",
          "B6La0.1Y0.9",
          "B6La0.2Y0.8",
          "B6La1",
          "B6La3Ru8",
          "B6Nd1",
          "B6Os8Y3",
          "B6Rh8Sr3",
          "B6Th1",
          "B6Y1",
          "Ba0.05Sr0.95Ti1O3",
          "Ba0.066Cu1La1.934O4",
          "Ba0.075Cu1La1.925O4",
          "Ba0.075Sr0.925Ti1O3",
          "Ba0.078Cu1La1.922O4",
          "Ba0.094Cu1La1.906O4",
          "Ba0.095Cu1La1.905O4",
          "Ba0.097Cu1La1.903O4",
          "Ba0.099Cu1La1.901O4",
          "Ba0.102Cu1La1.898O4",
          "Ba0.103Cu1La1.897O4",
          "Ba0.105Cu1La1.895O4",
          "Ba0.115Cu1La1.885O4",
          "Ba0.116Cu1La1.884O4",
          "Ba0.118Cu1La1.882O4",
          "Ba0.119Cu1La1.881O4",
          "Ba0.123Cu1La1.877O4",
          "Ba0.135Cu1La1.865O4",
          "Ba0.13Cu1La1.87O4",
          "Ba0.13W1O3",
          "Ba0.142Cu1La1.858O4",
          "Ba0.14W1O3",
          "Ba0.155Cu1La1.845O4",
          "Ba0.157Cu1La1.843O4",
          "Ba0.15Cu1La1.85O4",
          "Ba0.175Cu1La1.825O4",
          "Ba0.177Cu1La1.823O4",
          "Ba0.17Cu1La1.83O4",
          "Ba0.18Cu1La1.82O4",
          "Ba0.199Cu1La1.801O4",
          "Ba0.19Bi1K0.81O3",
          "Ba0.1Cu1F2Sr1.9O2",
          "Ba0.1Pb3Sr0.9",
          "Ba0.1Sr0.9Ti1O3",
          "Ba0.218Cu1La1.782O4",
          "Ba0.249Cu1La1.751O4",
          "Ba0.24Cu1La1.76O4",
          "Ba0.25Cu1F2Sr1.75O2",
          "Ba0.33Bi1K0.67O3",
          "Ba0.34Bi1K0.66O3",
          "Ba0.35Bi1K0.65O3",
          "Ba0.3Cu1La1.7O4",
          "Ba0.3Cu1La1Sr0.7Tl1O5",
          "Ba0.445Bi1K0.555O3",
          "Ba0.45Bi1K0.55O3",
          "Ba0.47Bi1K0.53O3",
          "Ba0.4Bi1K0.6O3",
          "Ba0.51Bi1K0.49O3",
          "Ba0.52Bi1K0.48O3",
          "Ba0.542Bi1K0.458O3",
          "Ba0.54Bi1K0.46O3",
          "Ba0.553Bi1K0.447O3",
          "Ba0.557Bi1K0.443O3",
          "Ba0.55Bi1K0.45O3",
          "Ba0.575Bi1K0.425O3",
          "Ba0.57Bi1K0.43O3",
          "Ba0.584Bi1K0.416O3",
          "Ba0.595Bi1K0.405O3",
          "Ba0.59Bi1K0.41O3",
          "Ba0.5Bi1K0.5O3",
          "Ba0.613Bi1K0.387O3",
          "Ba0.61Bi1K0.39O3",
          "Ba0.625Bi1K0.375O3",
          "Ba0.635Bi1K0.365O3",
          "Ba0.63Bi1K0.37O3",
          "Ba0.644Bi1K0.356O3",
          "Ba0.64Bi1K0.36O3",
          "Ba0.65Bi1K0.35O3",
          "Ba0.66Bi1K0.34O3",
          "Ba0.75Na0.25Sb2Ti2O1",
          "Ba0.77Bi1K0.23O3",
          "Ba0.7Bi1K0.3O3",
          "Ba0.7Rb0.3Sb2Ti2O1",
          "Ba0.85K0.15Sb2Ti2O1",
          "Ba0.85Na0.15Sb2Ti2O1",
          "Ba0.88K0.12Sb2Ti2O1",
          "Ba0.8K0.2Sb2Ti2O1",
          "Ba0.8Rb0.2Sb2Ti2O1",
          "Ba0.95K0.05Sb2Ti2O1",
          "Ba0.95Na0.05Sb2Ti2O1",
          "Ba0.95Rb0.05Sb2Ti2O1",
          "Ba0.96K0.04Sb2Ti2O1",
          "Ba0.9K0.1Pb1O3",
          "Ba0.9K0.1Pb1O3",
          "Ba0.9K0.1Sb2Ti2O1",
          "Ba0.9Na0.1Sb2Ti2O1",
          "Ba0.9Rb0.1Sb2Ti2O1",
          "Ba1",
          "Ba1.5Cu3La0.5Y1O7",
          "Ba1.72Cu4La0.28Y1O8",
          "Ba1.76Cu4Sr0.24Y1O8",
          "Ba1.78Cu4La0.22Y1O8",
          "Ba1.7Cu3La0.3Y1O7",
          "Ba1.7Cu3Nd1.3O7",
          "Ba1.7Cu4La0.3Y1O8",
          "Ba1.85Cu3Sm1.15O7",
          "Ba1.87Cu4La0.13Y1O8",
          "Ba1.8Cu3La0.2Y1O7",
          "Ba1.8Cu4Ho1Sr0.2O8",
          "Ba1.8Cu4La0.2Y1O8",
          "Ba1.8Cu4Sr0.2Y1O8",
          "Ba1.8Cu4Sr0.2Yb1O8",
          "Ba1.926Ca0.074Cu4Y1O8",
          "Ba1.972Ca0.028Cu4Y1O8",
          "Ba1.98Cu4La0.02Y1O8",
          "Ba1.9Ca0.1Cu4Y1O8",
          "Ba1.9Cu3Gd1.1O7",
          "Ba1.9Cu3La0.1Y1O6.5",
          "Ba1.9Cu3La0.1Y1O8",
          "Ba1.9Cu4Gd1Sr0.1O8",
          "Ba1.9Cu4La0.1Y1O8",
          "Ba1Bi0.15Pb0.85O3",
          "Ba1Bi0.15Pb0.85O3",
          "Ba1Bi0.17Pb0.83O3",
          "Ba1Bi0.17Pb0.83O3",
          "Ba1Bi0.1Pb0.9O3",
          "Ba1Bi0.1Pb0.9O3",
          "Ba1Bi0.22Pb0.78O3",
          "Ba1Bi0.22Pb0.78O3",
          "Ba1Bi0.25Pb0.75O3",
          "Ba1Bi0.2Pb0.8O3",
          "Ba1Bi0.2Pb0.8O3",
          "Ba1Bi0.3Pb0.7O3",
          "Ba1Bi0.3Pb0.7O3",
          "Ba1Bi2Ti2O1",
          "Ba1Bi3",
          "Ba1Cu0.2Si1.8",
          "Ba1Cu1Tl0.76O4.5",
          "Ba1Fe1.9Se3",
          "Ba1Fe2Se3",
          "Ba1Ga0.78Si1.22",
          "Ba1Ga1Ge1",
          "Ba1Ga1Si1",
          "Ba1Ge0.2Ni2P1.8",
          "Ba1Ge12Pt4",
          "Ba1Ge2",
          "Ba1Ge3",
          "Ba1Hg1",
          "Ba1Ir2P2",
          "Ba1Ni2P2",
          "Ba1P2Rh2",
          "Ba1Pb0.75Sb0.25O3",
          "Ba1Pb0.75Sb0.25O3",
          "Ba1Pb0.85Sb0.15O3",
          "Ba1Pb0.85Sb0.15O3",
          "Ba1Pb0.8Sb0.2O3",
          "Ba1Pb0.8Sb0.2O3",
          "Ba1Pd0.2Si1.8",
          "Ba1Pt1Si3",
          "Ba1Rh2",
          "Ba1Sb1.7Sn0.3Ti2O1",
          "Ba1Sb1.8Sn0.2Ti2O1",
          "Ba1Sb2Ti2O1",
          "Ba1Si2",
          "Ba1Sn3",
          "Ba2.2Cu4Y1O8",
          "Ba24Si100",
          "Ba2Bi3",
          "Ba2Ca0.01Cu4Er0.99O8",
          "Ba2Ca0.01Cu4Ho0.99O8",
          "Ba2Ca0.01Cu4Tm0.99O8",
          "Ba2Ca0.01Cu4Y0.99O8",
          "Ba2Ca0.025Cu4Y0.975O8",
          "Ba2Ca0.02Cu4Y0.98O8",
          "Ba2Ca0.03Cu4Er0.97O8",
          "Ba2Ca0.03Cu4Ho0.97O8",
          "Ba2Ca0.03Cu4Tm0.97O8",
          "Ba2Ca0.03Cu4Y0.97O8",
          "Ba2Ca0.05Cu4Er0.95O8",
          "Ba2Ca0.05Cu4Ho0.95O8",
          "Ba2Ca0.05Cu4Tm0.95O8",
          "Ba2Ca0.05Cu4Y0.95O8",
          "Ba2Ca0.075Cu4Y0.925O8",
          "Ba2Ca0.07Cu4Tm0.93O8",
          "Ba2Ca0.07Cu4Y0.93O8",
          "Ba2Ca0.12Cu4Y0.88O8",
          "Ba2Ca0.15Cu4Ho0.85O8",
          "Ba2Ca0.15Cu4Y0.85O8",
          "Ba2Ca0.1Cu3Y0.9O7",
          "Ba2Ca0.1Cu4Ho0.9O8",
          "Ba2Ca0.1Cu4Y0.9O8",
          "Ba2Ca0.25Cu4Y0.75O8",
          "Ba2Ca0.26Cu3Y0.74O6",
          "Ba2Ca0.28Cu3Y0.72O6",
          "Ba2Ca0.2Cu3Y0.8O6",
          "Ba2Ca0.2Cu3Y0.8O7",
          "Ba2Ca0.2Cu4Ho0.8O8",
          "Ba2Ca0.2Cu4Y0.8O8",
          "Ba2Ca0.3Cu4Ho0.7O8",
          "Ba2Ca0.7Cu2Gd0.3Tl1O7",
          "Ba2Ca0.7Cu2Nd0.3Tl1O7",
          "Ba2Ca0.85Cu2.2Tl1.8O8",
          "Ba2Ca0.8Ce0.2Cu2Tl2O8",
          "Ba2Ca0.8Cu2Gd0.2Tl1O7",
          "Ba2Ca0.8Cu2Nd0.2Tl1O7",
          "Ba2Ca0.8Cu2Tl1Y0.2O7",
          "Ba2Ca0.9Ce0.1Cu2Tl2O8",
          "Ba2Ca0.9Cu2Gd0.1Tl1O7",
          "Ba2Ca0.9Cu2Nd0.1Tl1O7",
          "Ba2Ca0.9Cu2Tl1Y0.1O7",
          "Ba2Ca1Cu1.98Fe0.02Tl2O8",
          "Ba2Ca1Cu2Hg1O6.08",
          "Ba2Ca1Cu2Hg1O6.1",
          "Ba2Ca1Cu2Hg1O6.13",
          "Ba2Ca1Cu2Hg1O6.14",
          "Ba2Ca1Cu2Hg1O6.16",
          "Ba2Ca1Cu2Hg1O6.19",
          "Ba2Ca1Cu2Hg1O6.21",
          "Ba2Ca1Cu2Hg1O6.22",
          "Ba2Ca1Cu2Hg1O6.24",
          "Ba2Ca1Cu2Hg1O6.27",
          "Ba2Ca1Cu2Hg1O6.3",
          "Ba2Ca1Cu2Hg1O6.31",
          "Ba2Ca1Cu2Tl1O7",
          "Ba2Ca1Cu2Tl1O8",
          "Ba2Ca2Cu3Hg0.85Re0.15O8",
          "Ba2Ca2Cu3Hg0.8Pb0.2O8",
          "Ba2Ca2Cu3Hg0.9Pb0.1O8",
          "Ba2Ca2Cu3Tl2O10",
          "Ba2Cd0.1Cu3Y0.9O7",
          "Ba2Cd0.25Cu1Tl1.75O6",
          "Ba2Cd0.2Cu3Y0.8O7",
          "Ba2Cd0.3Cu3Y0.7O7",
          "Ba2Ce0.1Cu4Dy0.9O8",
          "Ba2Cs0.15Cu3Y0.85O6.5",
          "Ba2Cu1Hg0.9O4",
          "Ba2Cu1Hg1O4.01",
          "Ba2Cu1Hg1O4.02",
          "Ba2Cu1Hg1O4.025",
          "Ba2Cu1Hg1O4.032",
          "Ba2Cu1Hg1O4.033",
          "Ba2Cu1Hg1O4.045",
          "Ba2Cu1Hg1O4.047",
          "Ba2Cu1Hg1O4.049",
          "Ba2Cu1Hg1O4.05",
          "Ba2Cu1Hg1O4.052",
          "Ba2Cu1Hg1O4.055",
          "Ba2Cu1Hg1O4.058",
          "Ba2Cu1Hg1O4.06",
          "Ba2Cu1Hg1O4.066",
          "Ba2Cu1Hg1O4.081",
          "Ba2Cu1Hg1O4.085",
          "Ba2Cu1Hg1O4.096",
          "Ba2Cu1Hg1O4.097",
          "Ba2Cu1Hg1O4.101",
          "Ba2Cu1Hg1O4.103",
          "Ba2Cu1Hg1O4.105",
          "Ba2Cu1Hg1O4.108",
          "Ba2Cu1Hg1O4.117",
          "Ba2Cu1Hg1O4.15",
          "Ba2Cu1Hg1O4.16",
          "Ba2Cu1Hg1O4.162",
          "Ba2Cu1Hg1O4.17",
          "Ba2Cu1Hg1O4.18",
          "Ba2Cu1Hg1O4.2",
          "Ba2Cu1Hg1O4.21",
          "Ba2Cu1Hg1O4.22",
          "Ba2Cu1Hg1O4.28",
          "Ba2Cu1Hg1O4.3",
          "Ba2Cu1Hg1O4.31",
          "Ba2Cu1Hg1O4.34",
          "Ba2Cu1Hg1O4.37",
          "Ba2Cu1Hg1O4.39",
          "Ba2Cu1Tl1.7O6",
          "Ba2Cu1Tl1O5",
          "Ba2Cu1Tl2O6.01",
          "Ba2Cu1Tl2O6.03",
          "Ba2Cu1Tl2O6.05",
          "Ba2Cu1Tl2O6.056",
          "Ba2Cu1Tl2O6.08",
          "Ba2Cu1Tl2O6.12",
          "Ba2Cu1Tl2O6.16",
          "Ba2Cu1Tl2O6.19",
          "Ba2Cu3Er0.5Pr0.5O7",
          "Ba2Cu3Er0.6Pr0.4O7",
          "Ba2Cu3Er0.7Pr0.3O7",
          "Ba2Cu3Er0.85Pr0.15O7",
          "Ba2Cu3Er0.8Pr0.2O7",
          "Ba2Cu3Er0.924Pr0.076O7",
          "Ba2Cu3Er0.97Pr0.03O7",
          "Ba2Cu3Er1O7",
          "Ba2Cu3Eu0.6Pr0.4O7",
          "Ba2Cu3Eu0.7Pr0.3O7",
          "Ba2Cu3Eu0.8Pr0.2O7",
          "Ba2Cu3Eu0.8Y0.2O7",
          "Ba2Cu3Eu0.9Pr0.1O7",
          "Ba2Cu3Eu1O6.5",
          "Ba2Cu3F0.76Y1O6",
          "Ba2Cu3Gd0.6Pr0.4O7",
          "Ba2Cu3Gd0.7Pr0.3O7",
          "Ba2Cu3Gd0.85Pr0.15O7",
          "Ba2Cu3Gd0.8Pr0.2O7",
          "Ba2Cu3Gd0.922Pr0.078O7",
          "Ba2Cu3Gd0.97Pr0.03O7",
          "Ba2Cu3Ho1O7",
          "Ba2Cu3La0.5Pr0.5O7",
          "Ba2Cu3La0.6Pr0.4O7",
          "Ba2Cu3La0.7Pr0.3O7",
          "Ba2Cu3La0.8Pr0.2O7",
          "Ba2Cu3La0.8Y0.2O7",
          "Ba2Cu3La0.9Pr0.1O7",
          "Ba2Cu3La1O7",
          "Ba2Cu3Lu0.6Pr0.4O7",
          "Ba2Cu3Lu0.7Pr0.3O7",
          "Ba2Cu3Lu0.85Pr0.15O7",
          "Ba2Cu3Lu0.8Pr0.2O7",
          "Ba2Cu3Lu1O7",
          "Ba2Cu3Nd0.7Pr0.3O7",
          "Ba2Cu3Nd0.85Pr0.15O7",
          "Ba2Cu3Nd0.8Pr0.2O7",
          "Ba2Cu3Nd0.92Pr0.08O7",
          "Ba2Cu3Nd0.97Pr0.03O7",
          "Ba2Cu3Pr0.13Y0.87O7",
          "Ba2Cu3Pr0.15Y0.85O6.5",
          "Ba2Cu3Pr0.1Y0.9O7",
          "Ba2Cu3Pr0.3Y0.7O7",
          "Ba2Cu3Pr0.43Y0.57O7",
          "Ba2Cu3Pr0.5Y0.5O7",
          "Ba2Cu3S1Y1O6",
          "Ba2Cu3Tb0.1Y0.9O7",
          "Ba2Cu3Tm1O7",
          "Ba2Cu3Y0.7Zn0.3O7",
          "Ba2Cu3Y0.8Zn0.2O7",
          "Ba2Cu3Y0.9Zn0.1O7",
          "Ba2Cu4Dy1O8",
          "Ba2Cu4Eu0.25Y0.75O8",
          "Ba2Cu4Eu0.75Y0.25O8",
          "Ba2Cu4Eu0.8Pr0.2O8",
          "Ba2Cu4Ga0.05Y0.95O8",
          "Ba2Cu4Ga0.1Y0.9O8",
          "Ba2Cu4Ga0.2Y0.8O8",
          "Ba2Cu4Gd1O8",
          "Ba2Cu4Ho1O8",
          "Ba2Cu4Pr0.05Y0.95O8",
          "Ba2Cu4Pr0.15Y0.85O8",
          "Ba2Cu4Pr0.1Y0.9O8",
          "Ba2Cu4Pr0.2Y0.8O8",
          "Ba2Cu4Pr0.3Y0.7O8",
          "Ba2Cu4Pr0.4Y0.6O8",
          "Ba2Cu4Pr0.5Y0.5O8",
          "Ba2Cu4Pr0.6Y0.4O8",
          "Ba2Cu4Sc0.05Y0.95O8",
          "Ba2Cu4Sc0.1Y0.9O8",
          "Ba2Cu4Sc0.2Y0.8O8",
          "Ba2Cu4Sm1O8",
          "Ba2Cu4Tb0.1Y0.9O8",
          "Ba2Cu4Tm1O8",
          "Ba2Cu4Yb1O8",
          "Ba2Sb6Sn3",
          "Ba3Ge16Ir4",
          "Ba6.62Si46",
          "Ba6.63Si46",
          "Ba6C60",
          "Ba6Ge25",
          "Ba6Nb10O30",
          "Ba7.61Si46",
          "Ba8Cu4Si42",
          "Ba8Ga6Si40",
          "Ba8Ge46",
          "Ba8Si46",
          "Be0.01Si0.99V3",
          "Be0.24Si0.76V3",
          "Be0.62Si0.38",
          "Be1",
          "Be13Th0.007U0.993",
          "Be13Th0.009U0.991",
          "Be13Th0.017U0.983",
          "Be13Th0.018U0.982",
          "Be13Th0.019U0.981",
          "Be13Th0.01U0.99",
          "Be13Th0.022U0.978",
          "Be13Th0.026U0.974",
          "Be13Th0.035U0.965",
          "Be13Th0.038U0.962",
          "Be13Th0.03U0.97",
          "Be13Th0.043U0.957",
          "Be13Th0.045U0.955",
          "Be13Th0.046U0.954",
          "Be13Th0.052U0.948",
          "Be13Th0.06U0.94",
          "Be13U1",
          "Be13W1",
          "Be17Nb2",
          "Be22Mo0.3Re0.7",
          "Be22Mo1",
          "Be22Os0.05Re0.95",
          "Be22Re0.95W0.05",
          "Be22Re0.99Ru0.01",
          "Be22Re1",
          "Be22W1",
          "Be2Nb1",
          "Be2Nb3",
          "Be2Ru1",
          "Be2Ta3",
          "Be5Pt1",
          "Bi0.025Ga0.975V3",
          "Bi0.15Nb3Sn0.85",
          "Bi0.1Pt1Sb0.9",
          "Bi0.26Tl0.74",
          "Bi0.2Pb0.8",
          "Bi0.343In0.657",
          "Bi0.34In0.66",
          "Bi0.3Zr0.7",
          "Bi0.45Pb0.55",
          "Bi0.56Pb0.44",
          "Bi0.575Pb0.425",
          "Bi0.57Sn0.43",
          "Bi0.5Pb0.5",
          "Bi0.5Sn0.5",
          "Bi0.6Tl0.4",
          "Bi1",
          "Bi1.05K0.95O3",
          "Bi1.085K0.915O3",
          "Bi1.15K0.85O3",
          "Bi1.1K0.9O3",
          "Bi1.1Rb0.9O3",
          "Bi1.2K0.8O3",
          "Bi1.3Rb0.7O3",
          "Bi1.5La4Pb1.5",
          "Bi1.5La4Sb1.5",
          "Bi1.7Ca1Cu2Pb0.3Sr2O8",
          "Bi1.7Ca2Cu3Pb0.3Sr2O10",
          "Bi14Rh3",
          "Bi1Ca0.25K0.75O3",
          "Bi1Ca0.35Cu2Pb1Sr2Y0.65O8",
          "Bi1Ca0.4Cu2Pb1Sr2Y0.6O8",
          "Bi1Ca0.5Cu2Pb1Sr2Y0.5O8",
          "Bi1Ca0.6Cu2Pb1Sr2Y0.4O8",
          "Bi1Ca0.7Cu2Pb1Sr2Y0.3O8",
          "Bi1Ce1Pd1",
          "Bi1Ce1S2O1",
          "Bi1Cu1",
          "Bi1Er1Pd1",
          "Bi1F0.2La1S2O0.8",
          "Bi1F0.4La1S2O0.6",
          "Bi1F0.5La0.75S2Y0.25O0.5",
          "Bi1F0.5La0.7S2Sm0.3O0.5",
          "Bi1F0.5La0.95S2Y0.05O0.5",
          "Bi1F0.5La0.9S2Sm0.1O0.5",
          "Bi1F0.5La1S2O0.5",
          "Bi1F0.6La1S2O0.4",
          "Bi1F0.7La1S2O0.3",
          "Bi1Hf0.2La0.8S2O1",
          "Bi1Hf0.3La0.7S2O1",
          "Bi1In2",
          "Bi1In5",
          "Bi1K0.6Sr0.4O3",
          "Bi1K0.75La0.25O3",
          "Bi1K0.85La0.15O3",
          "Bi1K0.8La0.2O3",
          "Bi1K0.9La0.1O3",
          "Bi1K1",
          "Bi1K1O3",
          "Bi1La0.7S2Th0.3O1",
          "Bi1La0.7S2Ti0.3O1",
          "Bi1La0.85S2Th0.15O1",
          "Bi1La0.8S2Th0.2O1",
          "Bi1La0.8S2Ti0.2O1",
          "Bi1La0.8S2Zr0.2O1",
          "Bi1La1Pt1",
          "Bi1La2",
          "Bi1La4Pb2",
          "Bi1Li1",
          "Bi1Lu1Pt1",
          "Bi1Mg1",
          "Bi1Na1",
          "Bi1Nb3",
          "Bi1Ni1",
          "Bi1Pd1",
          "Bi1Pd1Se1",
          "Bi1Pd1Te1",
          "Bi1Pt1",
          "Bi1Pt1Se1",
          "Bi1Pt1Te1",
          "Bi1Pt1Y1",
          "Bi1Rb1O3",
          "Bi1Rh1",
          "Bi1Sb1",
          "Bi1Te2Tl1",
          "Bi1Zr3",
          "Bi2Ca0.75Cu2Pr0.25Sr2O8",
          "Bi2Ca0.75Cu2Sr2Y0.25O8",
          "Bi2Ca0.7Cu2Gd0.3Sr2O8",
          "Bi2Ca0.7Cu2I1Sr2Y0.3O8",
          "Bi2Ca0.85Cu2Pr0.15Sr2O8",
          "Bi2Ca0.8Ce0.2Cu2Sr2O8",
          "Bi2Ca0.8Cu2Gd0.2Sr2O8",
          "Bi2Ca0.8Cu2I1Sr2Y0.2O8",
          "Bi2Ca0.8Cu2Sr2.2O8",
          "Bi2Ca0.92Cu2Sr2.08O8",
          "Bi2Ca0.95Ce0.05Cu2Sr2O8",
          "Bi2Ca0.95Cu2Pr0.05Sr2O8",
          "Bi2Ca0.9Ce0.1Cu2Sr2O8",
          "Bi2Ca0.9Cu2Er0.1Sr2O8",
          "Bi2Ca0.9Cu2Gd0.1Sr2O8",
          "Bi2Ca0.9Cu2I1Sr2Y0.1O8",
          "Bi2Ca0.9Cu2Sr2Y0.1O8",
          "Bi2Ca1Cu1.952Ni0.048Sr2O8",
          "Bi2Ca1Cu1.96Fe0.04Sr2O8",
          "Bi2Ca1Cu1.97Ni0.03Sr2O8",
          "Bi2Ca1Cu1.988Ni0.012Sr2O8",
          "Bi2Ca1Cu1.98Fe0.02Sr2O8",
          "Bi2Ca1Cu1.98Ni0.02Sr2O8",
          "Bi2Ca1Cu1.99Fe0.01Sr2O8",
          "Bi2Ca1Cu2I0.98Sr2O8.21",
          "Bi2Ca1Cu2I1Sr2O8",
          "Bi2Ca1Cu2Sr2O8",
          "Bi2Ca1Cu2Sr2O8.1",
          "Bi2Ca1Cu2Sr2O8.11",
          "Bi2Ca1Cu2Sr2O8.118",
          "Bi2Ca1Cu2Sr2O8.12",
          "Bi2Ca1Cu2Sr2O8.14",
          "Bi2Ca1Cu2Sr2O8.16",
          "Bi2Ca1Cu2Sr2O8.17",
          "Bi2Ca1Cu2Sr2O8.19",
          "Bi2Ca1Cu2Sr2O8.194",
          "Bi2Ca1Cu2Sr2O8.195",
          "Bi2Ca1Cu2Sr2O8.196",
          "Bi2Ca1Cu2Sr2O8.197",
          "Bi2Ca1Cu2Sr2O8.198",
          "Bi2Ca1Cu2Sr2O8.199",
          "Bi2Ca1Cu2Sr2O8.21",
          "Bi2Ca1Cu2Sr2O8.212",
          "Bi2Ca1Cu2Sr2O8.2135",
          "Bi2Ca1Cu2Sr2O8.214",
          "Bi2Ca1Cu2Sr2O8.216",
          "Bi2Ca1Cu2Sr2O8.218",
          "Bi2Ca1Cu2Sr2O8.224",
          "Bi2Ca1Cu2Sr2O8.231",
          "Bi2Ca1Cu2Sr2O8.234",
          "Bi2Ca1Cu2Sr2O8.245",
          "Bi2Ca1Cu2Sr2O8.248",
          "Bi2Ca1Cu2Sr2O8.256",
          "Bi2Ca1Cu2Sr2O8.27",
          "Bi2Ca1Cu2Sr2O8.272",
          "Bi2Ca1Cu2Sr2O8.288",
          "Bi2Ca1Cu2Sr2O8.291",
          "Bi2Ca1Cu2Sr2O8.293",
          "Bi2Ca1Cu2Sr2O8.3",
          "Bi2Ca1Cu2Sr2O8.329",
          "Bi2Ca1Cu2Sr2O8.373",
          "Bi2Ca1Cu2Sr2O8.428",
          "Bi2Ca2Cu2Sr1O8.229",
          "Bi2Cu1La0.24Sr1.76O6",
          "Bi2Cu1La0.3Sr1.7O6",
          "Bi2Cu1Sr2O6",
          "Bi2Cu1Sr2O6.09",
          "Bi2Cu1Sr2O6.13",
          "Bi2Cu1Sr2O6.14",
          "Bi2Cu1Sr2O6.16",
          "Bi2Cu1Sr2O6.175",
          "Bi2Cu1Sr2O6.18",
          "Bi2Cu1Sr2O6.36",
          "Bi2F0.1S2O0.9",
          "Bi2F0.2S2O0.8",
          "Bi2Ir1",
          "Bi2K1",
          "Bi2La4Pb1",
          "Bi2Ni3S2",
          "Bi2Ni3Se2",
          "Bi2Pd1",
          "Bi2Pd3Se2",
          "Bi2Pt1",
          "Bi2Rh1",
          "Bi2Se3",
          "Bi2Te1",
          "Bi2Te3",
          "Bi3Ca1",
          "Bi3Fe0.05Ni0.95",
          "Bi3Fe0.1Ni0.9",
          "Bi3In5",
          "Bi3La4",
          "Bi3La5",
          "Bi3Mo1",
          "Bi3Ni1",
          "Bi3Rh1",
          "Bi3Sn1",
          "Bi3Sr1",
          "Bi3Zn1",
          "Bi4Ca2Cu4Sr4O16.25",
          "Bi4Mg1",
          "Bi4Rh1",
          "Bi4Te3",
          "Bi5Tl3",
          "Br0.25C2Cl1.75Y2",
          "Br0.25C2I1.75Y2",
          "Br0.5C2I1.5Y2",
          "Br1.75C2Cl0.25Y2",
          "Br1.75C2I0.25Y2",
          "Br2",
          "Br2C2La2",
          "Br2C2Y2",
          "Br2Ca1.75Cu1Na0.25O2",
          "Br2Ca1.7Cu1Na0.3O2",
          "Br2Ca1.825Cu1Na0.175O2",
          "Br2Ca1.85Cu1Na0.15O2",
          "Br2Ca1.8Cu1Na0.2O2",
          "Br2Mo6S6",
          "C0.026N0.974Nb1",
          "C0.1N0.9Nb1",
          "C0.35N0.65Nb1",
          "C0.42Mo1",
          "C0.46W0.54",
          "C0.4Mo0.6",
          "C0.55W0.45",
          "C0.5N0.36Nb1",
          "C0.5N0.42Nb1",
          "C0.5N0.47Nb1",
          "C0.5W0.5",
          "C0.64Mo1",
          "C0.69Mg1Ni3",
          "C0.75Mo1",
          "C0.82Nb2S1",
          "C0.848Ta1",
          "C0.85Nb2S1",
          "C0.906Mg1Ni3",
          "C0.925Mg1Ni3",
          "C0.93Nb1",
          "C0.965Mg1Ni3",
          "C0.977Mg1Ni3",
          "C0.978Mg1Ni3",
          "C0.97Ta1",
          "C0.984Nb1",
          "C0.985Nb1",
          "C0.987Ta1",
          "C0.98Mg0.9Ni3Zn0.1",
          "C0.98Mg1Ni3",
          "C0.98Nb1",
          "C0.99Mg0.7Ni3Zn0.3",
          "C0.99Nb1",
          "C0.9N0.1Nb1",
          "C0.9Nb1",
          "C0.9Nb2S1",
          "C1",
          "C1.35La1",
          "C1.35Y1",
          "C1.3La1",
          "C1.45Th1",
          "C1.45Y1",
          "C1.58La1",
          "C1.5La0.9Th0.1",
          "C1.95Y1",
          "C1Cd1Ni3",
          "C1Co0.05Mg1Ni2.95",
          "C1Co0.1Mg1Ni2.9",
          "C1Co0.2Mg1Ni2.8",
          "C1Cu0.03Mg1Ni2.97",
          "C1Cu0.06Mg1Ni2.94",
          "C1Cu0.09Mg1Ni2.91",
          "C1Cu0.67Nb2S2",
          "C1Cu1K0.25Sr1.75O5",
          "C1Cu1K0.3Sr1.7O5",
          "C1Fe0.001Mg1Ni2.999",
          "C1Fe0.005Mg1Ni2.995",
          "C1Fe0.015Mg1Ni2.985",
          "C1Fe0.01Mg1Ni2.99",
          "C1Fe0.025Mg1Ni2.975",
          "C1Fe0.02Mg1Ni2.98",
          "C1Fe0.033Mg1Ni2.967",
          "C1Fe0.05Mg1Ni2.95",
          "C1Fe0.1Mg1Ni2.9",
          "C1Fe0.2Mg1Ni2.8",
          "C1Fe0.3Mg1Ni2.7",
          "C1Fe3",
          "C1Ga1Mo2",
          "C1Hf0.05Mo0.95",
          "C1Hf0.15Mo0.85",
          "C1Hf0.1Mo0.9",
          "C1Hf0.4Nb0.6",
          "C1Hf0.5Mo0.5",
          "C1Hf0.5Nb0.5",
          "C1Hf0.6Nb0.4",
          "C1Hf0.9Ta0.1",
          "C1In1Ti2",
          "C1K1",
          "C1Mg0.7Ni3Zn0.3",
          "C1Mg0.85Ni3Zn0.15",
          "C1Mg0.8Ni3Zn0.2",
          "C1Mg0.9Ni3Zn0.1",
          "C1Mg1Ni2.7Ru0.3",
          "C1Mg1Ni2.8Ru0.2",
          "C1Mg1Ni2.934Ru0.066",
          "C1Mg1Ni2.967Ru0.033",
          "C1Mg1Ni2.98Ru0.02",
          "C1Mg1Ni2.995Ru0.005",
          "C1Mg1Ni2.99Ru0.01",
          "C1Mg1Ni2.9Ru0.1",
          "C1Mg1Ni3",
          "C1Mo0.05Nb0.95",
          "C1Mo0.15Nb0.85",
          "C1Mo0.1W0.9",
          "C1Mo0.49Nb0.51",
          "C1Mo0.4Ta0.6",
          "C1Mo0.4W0.6",
          "C1Mo0.5Nb0.5",
          "C1Mo0.5Ta0.5",
          "C1Mo0.6Ta0.4",
          "C1Mo0.6W0.4",
          "C1Mo0.75Nb0.25",
          "C1Mo0.75Ta0.25",
          "C1Mo0.85Nb0.15",
          "C1Mo0.85Ta0.15",
          "C1Mo0.8Ta0.2",
          "C1Mo0.95Nb0.05",
          "C1Mo0.95Ta0.05",
          "C1Mo0.95Ti0.05",
          "C1Mo0.95V0.05",
          "C1Mo0.95Zr0.05",
          "C1Mo0.9Re0.1",
          "C1Mo0.9Ru0.1",
          "C1Mo0.9Ti0.1",
          "C1Mo0.9V0.1",
          "C1Mo0.9W0.1",
          "C1Mo0.9Zr0.1",
          "C1Mo1",
          "C1Mo2",
          "C1Nb0.1Zr0.9",
          "C1Nb0.4Ta0.6",
          "C1Nb0.5Ta0.5",
          "C1Nb0.8W0.2",
          "C1Nb0.9W0.1",
          "C1Nb1",
          "C1Nb2S2",
          "C1Nb2Sn1",
          "C1Rh1",
          "C1Ru1",
          "C1S1",
          "C1Si1",
          "C1Ta0.45W0.55",
          "C1Ta0.4Ti0.6",
          "C1Ta0.4W0.6",
          "C1Ta0.5W0.5",
          "C1Ta0.6W0.4",
          "C1Ta0.8W0.2",
          "C1Ta1",
          "C1Ta2",
          "C1Tc1",
          "C1Ti0.5W0.5",
          "C1W2",
          "C2Ca0.1Y0.9",
          "C2Ca0.2Y0.8",
          "C2Cl0.25I1.75Y2",
          "C2Cl2Y2",
          "C2Cu0.05La1Ni0.95",
          "C2Cu0.15La1Ni0.85",
          "C2Cu0.1La1Ni0.9",
          "C2Cu0.25La1Ni0.75",
          "C2Cu0.2La1Ni0.8",
          "C2I2Y2",
          "C2La0.75Ni1Y0.25",
          "C2La0.7Ni1Th0.3",
          "C2La0.85Ni1Y0.15",
          "C2La0.8Ni1Th0.2",
          "C2La0.8Ni1Y0.2",
          "C2La0.95Ni1Y0.05",
          "C2La0.9Ni1Th0.1",
          "C2La0.9Ni1Y0.1",
          "C2La1",
          "C2La1Ni1",
          "C2Lu1",
          "C2Mo1Re1",
          "C2Na1",
          "C2Ni1Th0.1Y0.9",
          "C2Ni1Th0.2Y0.8",
          "C2Ni1Th0.3Y0.7",
          "C2Pt0.95Rh0.05U2",
          "C2Pt0.9Rh0.1U2",
          "C2Pt1U2",
          "C2Th0.09Y0.91",
          "C2Th0.19Y0.81",
          "C2Y1",
          "C3Er0.1Th1.9",
          "C3Er0.2Th1.8",
          "C3Ho0.2Th1.8",
          "C3La2",
          "C3Lu0.2Th1.8",
          "C3Sc0.2Th1.8",
          "C3Y2",
          "C4Fe1Y2",
          "C60Ca5",
          "C6Ca1",
          "C6Sr1",
          "C6Yb1",
          "C8.1K1",
          "C8Cs1",
          "C8K1",
          "C8Rb1",
          "Ca0.065Cu1La1.935O4",
          "Ca0.075Cu1La1.925O4",
          "Ca0.075Sr0.925Ti1O3",
          "Ca0.08Cu1La1.92O4",
          "Ca0.09Cu1La1.91O4",
          "Ca0.113Cu1La1.887O4",
          "Ca0.115Cu1La1.885O4",
          "Ca0.11Cu1La1.89O4",
          "Ca0.125Cu1La1.875O4",
          "Ca0.12Cu1La1.88O4",
          "Ca0.13Cu1La1.87O4",
          "Ca0.14Cu1La1.86O4",
          "Ca0.15Cu1La0.85Nd1O4",
          "Ca0.15Cu3Pb2Sr2Y0.85O8",
          "Ca0.16Cu1La1.84O4",
          "Ca0.17Cu1La1.83O4",
          "Ca0.17Cu1Tm1.83O4",
          "Ca0.18Cu1La1.82O4",
          "Ca0.19Cu1La1.81O4",
          "Ca0.1Cu1La1.9O4",
          "Ca0.1Cu2Gd0.9Ru1Sr2O8",
          "Ca0.1Fe1La0.9P1O1",
          "Ca0.25Cu2Ga1Sr2Tm0.75O7",
          "Ca0.2Cu1La1.8O4",
          "Ca0.2Cu2Pr0.8Sr2Tl1O7",
          "Ca0.35Cu2Ga1Sr2Y0.65O7",
          "Ca0.36Cu3Pb2Sr2Y0.64O8",
          "Ca0.39Cu3Pb2Sr2Y0.61O8",
          "Ca0.3Cu1La1Sr0.7Tl1O5",
          "Ca0.3Cu2Ga1Sr2Tm0.7O7",
          "Ca0.3Sr0.7Ti1O3",
          "Ca0.47Cu3Pb2Sr2Y0.53O8",
          "Ca0.4Cu2Ga1Sr2Y0.6O7",
          "Ca0.5Cu2Ga1Sr2Y0.5O7",
          "Ca0.5Cu3Ho0.5Pb2Sr2O8",
          "Ca0.75Cu2Sr2Th0.25Tl1O7",
          "Ca0.8Cu2Pb0.5Sr2Tl0.5Y0.2O7",
          "Ca0.8Cu2Pr0.2Sr2Tl1O7",
          "Ca0.8Cu2Sr2Tl1Y0.2O7",
          "Ca0.9Cu2Pb0.5Sr2Tl0.5Y0.1O7",
          "Ca1.75Cl2Cu1Na0.25O2",
          "Ca1.76Cl2Cu1Na0.24O2",
          "Ca1.7Cl2Cu1K0.3O2",
          "Ca1.7Cl2Cu1Na0.3O2",
          "Ca1.81Cl2Cu1Na0.19O2",
          "Ca1.825Cl2Cu1Na0.175O2",
          "Ca1.82Cl2Cu1Na0.18O2",
          "Ca1.843Cl2Cu1Na0.157O2",
          "Ca1.84Cl2Cu1Na0.16O2",
          "Ca1.85Cl2Cu1Na0.15O2",
          "Ca1.85Cl2Cu1O2",
          "Ca1.867Cl2Cu1Na0.133O2",
          "Ca1.89Cl2Cu1Na0.11O2",
          "Ca1.8Cl2Cu1K0.2O2",
          "Ca1.8Cl2Cu1Na0.2O2",
          "Ca1.8Cl2Cu1O2",
          "Ca1.9Cl2Cu1K0.1O2",
          "Ca1.9Cl2Cu1O2",
          "Ca1Cu2Nd0.16Pb0.5Sr1.84Tl0.5O7",
          "Ca1Cu2Pb0.3Sr2Tl0.7O7",
          "Ca1Cu2Pb0.5Sr2Tl0.5O7",
          "Ca1Cu2Sr1.75Th0.25Tl1O7",
          "Ca1Ga1Si1",
          "Ca1Ge3",
          "Ca1Hg1",
          "Ca1Hg3",
          "Ca1Ir1Si3",
          "Ca1Ir2",
          "Ca1Li2",
          "Ca1Pb1",
          "Ca1Pb1.2Tl1.8",
          "Ca1Pb3",
          "Ca1Pt1Si3",
          "Ca1Rh1.2Sn4.5",
          "Ca1Rh2",
          "Ca1Si1.9",
          "Ca1Si2.2",
          "Ca1Si3",
          "Ca1Tl3",
          "Ca2.8Co0.2Rh4Sn13",
          "Ca2Cu3Ga1Sr2O9",
          "Ca2In1N1",
          "Ca2K1Nb3O10",
          "Ca2Pt3Si5",
          "Ca3Co4Sn13",
          "Ca3Ge13Ir4",
          "Ca3Ge13Rh4",
          "Ca3Ge4Ir4",
          "Ca3Ir4Sn13",
          "Ca3Rh4Sn13",
          "Ca4Pb19Rh6",
          "Cd0.006Ga0.994V3",
          "Cd0.04Cu0.96S2",
          "Cd0.06Cu0.94Se2",
          "Cd0.18Sn0.72",
          "Cd0.18Tl0.82",
          "Cd0.1In0.9La3",
          "Cd0.3Hg0.7",
          "Cd0.6Mg0.4",
          "Cd0.75Mg0.25",
          "Cd0.7Mg0.3",
          "Cd0.8Mg0.2",
          "Cd1",
          "Cd1Mo6S8",
          "Cd1Mo6Se8",
          "Cd1Sn1",
          "Cd2Re2O7",
          "Cd2Re2O7.1",
          "Ce0.001La0.999Pt1Si1",
          "Ce0.016La0.984Sn3",
          "Ce0.029La0.971Sn3",
          "Ce0.02Cu2Gd0.98Ru1Sr2O8",
          "Ce0.02In1La2.98",
          "Ce0.042In1La2.958",
          "Ce0.04Cu1Pr1.96O4",
          "Ce0.04In1La2.96",
          "Ce0.052La0.948Sn3",
          "Ce0.054La0.946Sn3",
          "Ce0.05Ge12Pr0.95Pt4",
          "Ce0.05La0.95P12Ru4",
          "Ce0.05La0.95Ru2",
          "Ce0.061In1La2.939",
          "Ce0.064Cu1La1.936O4",
          "Ce0.06In1La2.94",
          "Ce0.075In1La2.925",
          "Ce0.077In1La2.923",
          "Ce0.07Ge12Pr0.93Pt4",
          "Ce0.085Ge12Pr0.915Pt4",
          "Ce0.091Cu1La1.909O4",
          "Ce0.09Cu1La1.91O4",
          "Ce0.09Cu1Pr1.91O4",
          "Ce0.105Cu1La1.895O4",
          "Ce0.109Cu1La1.891O4",
          "Ce0.11Cu1La1.89O4",
          "Ce0.12Cu1La1.88O4",
          "Ce0.12Cu1Sm1.88O4",
          "Ce0.12Si1V2.88",
          "Ce0.135Cu1La1.865O4",
          "Ce0.13Cu1La1.87O4",
          "Ce0.13Cu1Pr1.87O4",
          "Ce0.143Cu1Sm1.857O4",
          "Ce0.14Cu1Nd1.86O4",
          "Ce0.14Cu1Pr1.86O4",
          "Ce0.14Cu1Sm1.86O4",
          "Ce0.14Ge12Pr0.86Pt4",
          "Ce0.153Cu1Nd1.847O4",
          "Ce0.156Cu1Sm1.844O4",
          "Ce0.15Cu1Eu1.85O4",
          "Ce0.15Cu1La1.85O4",
          "Ce0.15Cu1La1Nd0.85O4",
          "Ce0.15Cu1Nd1.85O4",
          "Ce0.15Cu1Sm1.85O4",
          "Ce0.15La0.85Ru2",
          "Ce0.16Cu1La1.84O4",
          "Ce0.179Cu1La1.821O4",
          "Ce0.17Cu1Nd1.83O4",
          "Ce0.17Cu1Pr1.83O4",
          "Ce0.1Ge12Pr0.9Pt4",
          "Ce0.1La0.9P12Ru4",
          "Ce0.1La0.9Ru2",
          "Ce0.21Ga1V2.79",
          "Ce0.25Ge12Pr0.75Pt4",
          "Ce0.28La0.72Ru2",
          "Ce0.2Cu1Pr1.8O4",
          "Ce0.2Cu1Sm1.8O4",
          "Ce0.2Ge12Pr0.8Pt4",
          "Ce0.2La0.8Ru2",
          "Ce0.4La0.6Ru2",
          "Ce0.54La0.46Ru2",
          "Ce0.5Cu2Nb1Nd1.5Sr2O10",
          "Ce0.5La0.5Ru2",
          "Ce0.65La0.35Ru2",
          "Ce0.6La0.4Ru2",
          "Ce0.7Cu2Eu1.3Ru1Sr2O10",
          "Ce0.7La0.3Ru2",
          "Ce0.837Co1In5Yb0.163",
          "Ce0.84Ru2Y0.16",
          "Ce0.85Co1In5La0.15",
          "Ce0.85Co1In5Yb0.15",
          "Ce0.85La0.15Ru2",
          "Ce0.86Ru2Tb0.14",
          "Ce0.875Co1In5La0.125",
          "Ce0.875Co1In5Yb0.125",
          "Ce0.88La0.12Ru2",
          "Ce0.8Co1In5Yb0.2",
          "Ce0.8Cu2Eu1.2Ru1Sr2O10",
          "Ce0.8La0.2Ru2",
          "Ce0.8Pr0.2Ru2",
          "Ce0.8Ru2Tb0.2",
          "Ce0.916Co1In5Yb0.084",
          "Ce0.91La0.09Ru2",
          "Ce0.925Co1In5La0.075",
          "Ce0.93Gd0.07Ru2",
          "Ce0.94La0.06Ru2",
          "Ce0.95Co1In5La0.05",
          "Ce0.95Co1In5Nd0.05",
          "Ce0.95Co1In5Yb0.05",
          "Ce0.95La0.05Ru2",
          "Ce0.965Co1In5La0.035",
          "Ce0.97Gd0.03Ru2",
          "Ce0.97La0.03Ru2",
          "Ce0.985La0.015Pt3Si1",
          "Ce0.987Co1In5Yb0.013",
          "Ce0.98Co1In5La0.02",
          "Ce0.98Co1In5Yb0.02",
          "Ce0.98La0.02Pt3Si1",
          "Ce0.98Pt3Si1Th0.02",
          "Ce0.99La0.01Pt3Si1",
          "Ce0.9Co1In5La0.1",
          "Ce0.9Co1In5Yb0.1",
          "Ce0.9In5La0.1Rh1",
          "Ce0.9La0.1Ru2",
          "Ce0.9Pr0.1Ru2",
          "Ce1",
          "Ce1Co0.01Ru1.99",
          "Ce1Co0.03Ru1.97",
          "Ce1Co0.05Ru1.95",
          "Ce1Co0.07Ru1.93",
          "Ce1Co0.25In5Ir0.75",
          "Ce1Co0.2Ir0.8Si3",
          "Ce1Co0.71In5Rh0.29",
          "Ce1Co0.77In5Rh0.23",
          "Ce1Co0.7In5Ir0.3",
          "Ce1Co0.7In5Rh0.3",
          "Ce1Co0.7In5Ru0.3",
          "Ce1Co0.875In5Ni0.125",
          "Ce1Co0.87In5Rh0.13",
          "Ce1Co0.8In5Ni0.2",
          "Ce1Co0.8In5Rh0.2",
          "Ce1Co0.8In5Ru0.2",
          "Ce1Co0.925In5Ni0.075",
          "Ce1Co0.93In5Rh0.07",
          "Ce1Co0.95In5Ni0.05",
          "Ce1Co0.9In5Ru0.1",
          "Ce1Co1.85",
          "Ce1Co1.8Ru0.2",
          "Ce1Co1.95",
          "Ce1Co1.9Ru0.1",
          "Ce1Co1Ge3",
          "Ce1Co1In5",
          "Ce1Co2",
          "Ce1Cu2Ge0.02Si1.98",
          "Ce1Cu2Ge0.04Si1.96",
          "Ce1Cu2Ge0.08Si1.92",
          "Ce1Cu2Ge0.12Si1.88",
          "Ce1Cu2Ge0.1Si1.9",
          "Ce1Cu2Ge0.2Si1.8",
          "Ce1Cu2Ge0.3Si1.7",
          "Ce1Cu2Ge2",
          "Ce1Cu2Si2",
          "Ce1Ge0.03Pt3Si0.97",
          "Ce1Ge0.06Pt3Si0.94",
          "Ce1Ge0.1Pt3Si0.9",
          "Ce1Ge2Ni2",
          "Ce1Ge3Ir1",
          "Ce1Ge3Ni1",
          "Ce1In3",
          "Ce1In5Ir0.1Rh0.9",
          "Ce1In5Ir0.25Rh0.75",
          "Ce1In5Ir0.75Rh0.25",
          "Ce1In5Ir0.7Rh0.3",
          "Ce1In5Ir0.8Rh0.2",
          "Ce1In5Ir0.956Pt0.044",
          "Ce1In5Ir0.978Pt0.022",
          "Ce1In5Ir0.987Pt0.013",
          "Ce1In5Ir0.9Rh0.1",
          "Ce1In5Ir1",
          "Ce1In5Rh1",
          "Ce1In7Pt2",
          "Ce1Ir1Si3",
          "Ce1Ir3",
          "Ce1Ir5",
          "Ce1Pd2Si2",
          "Ce1Pt0.1Ru1.9",
          "Ce1Pt0.2Ru1.8",
          "Ce1Pt1Si2",
          "Ce1Pt3Si1",
          "Ce1Rh1Si3",
          "Ce1Rh2Si2",
          "Ce1Ru2",
          "Ce1Ru3Si2",
          "Ce2Co1In8",
          "Ce2Ge5Ni3",
          "Ce2In8Pd1",
          "Ce2In8Rh1",
          "Cl0.7Hf1N1",
          "Cl0.7N1Zr1",
          "Cl1Cu2Sr3O5",
          "Cl1Hf1N1Na0.18",
          "Cl1Hf1N1Na0.28",
          "Cl1Hf1N1Na0.29",
          "Cl1Li0.05N1Zr1",
          "Cl1Li0.06N1Zr1",
          "Cl1Li0.13N1Zr1",
          "Cl1Li0.14N1Zr1",
          "Cl1Li0.16N1Zr1",
          "Cl1Li0.17N1Zr1",
          "Cl1Li0.18N1Zr1",
          "Cl1N1Na0.16Ti1",
          "Cl1N1Zr1",
          "Co0.004Fe1.996K0.8Se2",
          "Co0.008Fe1.992K0.8Se2",
          "Co0.012Fe1.988K0.8Se2",
          "Co0.01Cu2Gd1Ru0.99Sr2O8",
          "Co0.021Si1V2.979",
          "Co0.02Cu0.98Rh2S4",
          "Co0.02Nb3Rh0.98",
          "Co0.02Sn0.98Ta3",
          "Co0.05Fe0.95Se1",
          "Co0.05Nb3Rh0.95",
          "Co0.06Ge2Pd1.94Sr1",
          "Co0.06La1Ru2.94Si2",
          "Co0.15La1Ru2.85Si2",
          "Co0.15Ni0.85Zr2",
          "Co0.15Ti0.85",
          "Co0.1Fe0.9Se1",
          "Co0.1Nb3Rh0.9",
          "Co0.219Ga1V2.781",
          "Co0.24La1Ru2.76Si2",
          "Co0.25Pd49.75Sb50",
          "Co0.2Ir3.8Lu5Si10",
          "Co0.3Ni0.7Zr2",
          "Co0.3Sc0.7",
          "Co0.44Mo0.56",
          "Co0.5Fe0.5Ti1",
          "Co0.5Fe0.5Zr2",
          "Co0.5Ni0.5Ta2",
          "Co0.5Ni0.5Zr2",
          "Co0.6Ni0.4Zr2",
          "Co0.75Cu0.25Zr2",
          "Co0.7Ni0.3Zr2",
          "Co0.85Cu0.15Zr2",
          "Co0.85Ga0.15Zr2",
          "Co0.85Ni0.15Zr2",
          "Co0.8Cu0.2Zr2",
          "Co0.8Fe0.2Ga5Pu1",
          "Co0.8Ga0.2Zr2",
          "Co0.8Ni0.2Zr2",
          "Co0.92Mn0.08U6",
          "Co0.94Rh0.06U6",
          "Co0.95Cu0.05Zr2",
          "Co0.95Ga0.05Zr2",
          "Co0.96Mo0.04U6",
          "Co0.9Cu0.1Zr2",
          "Co0.9Fe0.1Ga5Pu1",
          "Co0.9Ga0.1Zr2",
          "Co0.9Ga5Ni0.1Pu1",
          "Co0.9Ni0.1Zr2",
          "Co1.8Cr0.2Cu1S4",
          "Co1.8Cu1.2S4",
          "Co1.95Cr0.05Cu1S4",
          "Co1.95Cu1Ir0.05S4",
          "Co1.98Cr0.02Cu1S4",
          "Co1.98Cu1Ir0.02S4",
          "Co1.98Cu1Rh0.02S4",
          "Co1.99Cr0.01Cu1S4",
          "Co1.99Cu1Ir0.01S4",
          "Co1.99Cu1Rh0.01S4",
          "Co1.9Cr0.1Cu1S4",
          "Co1.9Cu0.9S4",
          "Co1Ga5Np0.1U0.9",
          "Co1Ga5Pu0.9U0.1",
          "Co1Ge0.92Si0.08U1",
          "Co1Ge0.94Si0.06U1",
          "Co1Ge0.96Si0.04U1",
          "Co1Ge0.98Si0.02U1",
          "Co1Ge0.9Si0.1U1",
          "Co1Ge1U1",
          "Co1Hf2",
          "Co1La3",
          "Co1Lu3",
          "Co1Nb4Si1",
          "Co1Sc0.125Zr1.875",
          "Co1Si2",
          "Co1Ta2",
          "Co1Ti1",
          "Co1Ti2",
          "Co1U1",
          "Co1U6",
          "Co1Y3",
          "Co1Zr2",
          "Co1Zr3",
          "Co21Zr79",
          "Co28Zr72",
          "Co2Cu1S4",
          "Co35.38Zr64.62",
          "Co35Zr65",
          "Co3Th7",
          "Co3Y4",
          "Co4La3Sn13",
          "Co4Sc5Si10",
          "Co4Sn13Yb3",
          "Co7Y9",
          "Cr0.004Fe1.996K0.8Se2",
          "Cr0.007Fe1.993K0.8Se2",
          "Cr0.008Cu1Rh1.992S4",
          "Cr0.01N1Nb0.99",
          "Cr0.03N1Nb0.97",
          "Cr0.152Ti0.848",
          "Cr0.1Cu1Sr1.9Tl1O5",
          "Cr0.201Ga1V2.799",
          "Cr0.25Mo0.75",
          "Cr0.25V0.75",
          "Cr0.28Ir0.72",
          "Cr0.2Cu1Sr1.8Tl1O5",
          "Cr0.2Fe0.8U6",
          "Cr0.3Si1V2.7",
          "Cr0.476Mo0.524",
          "Cr0.48V0.52",
          "Cr0.57Mo0.43",
          "Cr0.5Ru0.5",
          "Cr0.72Ir0.28",
          "Cr0.72Os0.28",
          "Cr0.72Ru0.28",
          "Cr0.75Rh0.25",
          "Cr0.7Ir0.3",
          "Cr0.7Rh0.3",
          "Cr0.82Ir0.18",
          "Cr0.8Os0.2",
          "Cr0.8Rh0.2",
          "Cr0.95Cu1Fe0.05O2",
          "Cr0.9Cu1Fe0.1O2",
          "Cr1",
          "Cr1Cu1O2",
          "Cr1Cu4Sr8Tl3O20",
          "Cr1Ti3",
          "Cr3Ir1",
          "Cr3Ru1",
          "Cs0.19W1O3",
          "Cs0.23W1O3",
          "Cs0.25W1O3",
          "Cs0.32W1O3",
          "Cs0.3W1O3",
          "Cs1I1",
          "Cs1Os2O6",
          "Cu0.04Ru0.96Sr2Y1O6",
          "Cu0.05Ru0.95Sr2Y1O6",
          "Cu0.08Ru0.92Sr2Y1O6",
          "Cu0.09Li1Ti1.91O4",
          "Cu0.1Ho1Ru0.9Sr2O6",
          "Cu0.25Pd49.75Sb50",
          "Cu0.2Ru0.8Sr2Y1O6",
          "Cu0.75Ir2S4Zn0.25",
          "Cu0.786Sb0.214",
          "Cu0.78Ir2S4Zn0.22",
          "Cu0.7Ir2S4Zn0.3",
          "Cu0.815Ge0.185",
          "Cu0.81Ga0.19",
          "Cu0.81Ge0.19",
          "Cu0.81Sb0.19",
          "Cu0.825Ge0.175",
          "Cu0.82Ge0.18",
          "Cu0.8Ir2S4Zn0.2",
          "Cu0.95Se2Zn0.05",
          "Cu1.2La1Sr1Tl0.8O5",
          "Cu1.2Rh1.8S4",
          "Cu1.9Gd1Li0.1Ru1Sr2O8",
          "Cu1F2Sr2O2",
          "Cu1Gd0.1Sr0.9O2",
          "Cu1K0.065La1.935O4",
          "Cu1K0.08La1.92O4",
          "Cu1K0.2La1.8O4",
          "Cu1La0.125Sr0.875O2",
          "Cu1La0.12Sr0.88O1.97",
          "Cu1La0.15Sr0.85O2",
          "Cu1La0.1Sr0.9O1.96",
          "Cu1La0.1Sr0.9O2",
          "Cu1La0.8Sr1.2Tl1O5",
          "Cu1La1",
          "Cu1La1.72Sr0.28O4",
          "Cu1La1.737Sr0.263O4",
          "Cu1La1.74Sr0.26O4",
          "Cu1La1.762Sr0.238O4",
          "Cu1La1.763Sr0.237O4",
          "Cu1La1.76Sr0.24O4",
          "Cu1La1.774Sr0.226O4",
          "Cu1La1.775Sr0.225O4",
          "Cu1La1.77Sr0.23O4",
          "Cu1La1.782Sr0.218O4",
          "Cu1La1.798Sr0.202O4",
          "Cu1La1.7Sm0.3O4",
          "Cu1La1.812Sr0.188O4",
          "Cu1La1.822Sr0.178O4",
          "Cu1La1.828Sr0.172O4",
          "Cu1La1.834Sr0.166O4",
          "Cu1La1.836Sr0.164O4",
          "Cu1La1.847Sr0.153O4",
          "Cu1La1.855Sr0.145O4",
          "Cu1La1.85Sr0.15O4",
          "Cu1La1.862Sr0.138O4",
          "Cu1La1.865Sr0.135O4",
          "Cu1La1.868Sr0.132O4",
          "Cu1La1.875Sr0.125O4",
          "Cu1La1.883Sr0.117O4",
          "Cu1La1.885Sr0.115O4",
          "Cu1La1.887Sr0.113O4",
          "Cu1La1.888Sr0.112O4",
          "Cu1La1.889Sr0.111O4",
          "Cu1La1.895Sr0.105O4",
          "Cu1La1.89Na0.11O4",
          "Cu1La1.913Sr0.087O4",
          "Cu1La1.914Sr0.086O4",
          "Cu1La1.925Sr0.075O4",
          "Cu1La1.929Na0.071O4",
          "Cu1La1.931Sr0.069O4",
          "Cu1La1.937Sr0.063O4",
          "Cu1La1.93Sr0.07O4",
          "Cu1La1.943Sr0.057O4",
          "Cu1La1.945Rb0.055O4",
          "Cu1La1.9Sm0.1O4",
          "Cu1La1Nd0.85Th0.15O4",
          "Cu1La1Sb2",
          "Cu1La1Sr1Tl0.7O5",
          "Cu1La1Sr1Tl1O5",
          "Cu1La1Sr1Tl1O5.09",
          "Cu1La2O4.005",
          "Cu1La2O4.012",
          "Cu1La2O4.017",
          "Cu1La2O4.022",
          "Cu1La2O4.032",
          "Cu1La2O4.034",
          "Cu1La2O4.035",
          "Cu1La2O4.044",
          "Cu1La2O4.047",
          "Cu1La2O4.05",
          "Cu1La2O4.054",
          "Cu1La2O4.0625",
          "Cu1La2O4.066",
          "Cu1La2O4.068",
          "Cu1La2O4.07",
          "Cu1La2O4.075",
          "Cu1La2O4.086",
          "Cu1La2O4.093",
          "Cu1La2O4.095",
          "Cu1La2O4.11",
          "Cu1La2O4.12",
          "Cu1La2O4.13",
          "Cu1La2O4.32",
          "Cu1Mo6Se8",
          "Cu1Nd0.14Sr0.86O2",
          "Cu1Nd0.17Sr0.83O2",
          "Cu1Nd0.19Sr0.81O2",
          "Cu1Nd1.7O4",
          "Cu1Nd1.85Th0.15O4",
          "Cu1Nd1.85Y0.15O4",
          "Cu1Nd1.8O4",
          "Cu1Pr0.15Sr0.85O2",
          "Cu1Pr0.1Sr0.9O2",
          "Cu1Rh1.78Se4Sn0.22",
          "Cu1Rh1.7Se4Sn0.3",
          "Cu1Rh1.95Se4Sn0.05",
          "Cu1Rh1.9Se4Sn0.1",
          "Cu1Rh2S4",
          "Cu1Rh2Se4",
          "Cu1S1",
          "Cu1S1.8Se0.2",
          "Cu1S1Se1",
          "Cu1S2",
          "Cu1S4V2",
          "Cu1Se1Te1",
          "Cu1Se2",
          "Cu1Sm0.08Sr0.92O2",
          "Cu1Sm0.1Sr0.9O2",
          "Cu1Sr0.75Y0.25O2",
          "Cu1Sr0.7Y0.3O2",
          "Cu1Sr0.85Y0.15O2",
          "Cu1Sr0.8Y0.2O2",
          "Cu1Sr0.95Y0.05O2",
          "Cu1Sr0.9Y0.1O2",
          "Cu1Sr2O3.1",
          "Cu1Te2",
          "Cu1Th2",
          "Cu1Y1",
          "Cu2.05Gd1Ru0.95Sr2O8",
          "Cu2.1Gd1Ru0.9Sr2O8",
          "Cu2.2Gd1Ru0.8Sr2O8",
          "Cu2Fe1Sr2Y1O7.51",
          "Cu2Fe1Sr2Y1O7.66",
          "Cu2Fe1Sr2Y1O7.68",
          "Cu2Gd0.82Nd0.18Ru1Sr2O8",
          "Cu2Gd0.91Nd0.09Ru1Sr2O8",
          "Cu2Gd0.9Ru1Sr2Y0.1O8",
          "Cu2Gd1Ir0.02Ru0.98Sr2O8",
          "Cu2Gd1Ir0.05Ru0.95Sr2O8",
          "Cu2Gd1Ir0.1Ru0.9Sr2O8",
          "Cu2Gd1Nb0.1Ru0.9Sr2O8",
          "Cu2Gd1Rh0.05Ru0.95Sr2O8",
          "Cu2Gd1Rh0.075Ru0.925Sr2O8",
          "Cu2Gd1Rh0.2Ru0.8Sr2O8",
          "Cu2Gd1Ru0.925Sn0.075Sr2O8",
          "Cu2Gd1Ru0.925Sr2Ti0.075O8",
          "Cu2Gd1Ru0.95Sn0.05Sr2O8",
          "Cu2Gd1Ru0.95Sr2Ti0.05O8",
          "Cu2Gd1Ru0.975Sn0.025Sr2O8",
          "Cu2Gd1Ru0.97Sr2Ti0.03O8",
          "Cu2Gd1Ru0.99Sr2Ti0.01O8",
          "Cu2Gd1Ru1Sr2O8",
          "Cu2Li1P2",
          "Cu2Sb1",
          "Cu30Sn70",
          "Cu3Dy1Pb2Sr2O8",
          "Cu3Sb1",
          "Cu40Zr60",
          "Cu4K1S3",
          "Cu50Sn50",
          "Cu50Zr50",
          "Cu6La1",
          "Cu6Th1",
          "Cu70Sn30",
          "Dy0.06Fe3Lu1.94Si5",
          "Dy0.15Pd2Sn1Y0.85",
          "Dy0.1Fe3Lu1.9Si5",
          "Dy0.1Fe3Si5Y1.9",
          "Dy0.1Pd2Sn1Y0.9",
          "Dy0.2Pd2Sn1Y0.8",
          "Dy1Ga6",
          "Dy1Mo6S8",
          "Er0.1Pd2Sn1Y0.9",
          "Er0.2Pd2Sn1Y0.8",
          "Er0.3Pd2Sn1Y0.7",
          "Er0.4Pd2Sn1Y0.6",
          "Er0.6Pd2Sn1Y0.4",
          "Er0.8Pd2Sn1Y0.2",
          "Er0.95Pd2Sn1Y0.05",
          "Er0.9Pd2Sn1Y0.1",
          "Er1Pd2Sn1",
          "Er1Rh1.1Sn3.6",
          "Er2Fe3Si5",
          "Eu1",
          "F0.03Fe1La1P1O0.97",
          "F0.05Fe1La1P1O0.95",
          "F0.06Fe1La1P1O0.94",
          "F0.08Fe1La1P1O0.92",
          "F0.1Fe1P1Pr1O0.9",
          "Fe0.03La1Ru2.97Si2",
          "Fe0.05P1Ru0.95Zr1",
          "Fe0.05S2Ta1",
          "Fe0.06La1Ru2.94Si2",
          "Fe0.06Si1V2.94",
          "Fe0.075La1Ru2.925Si2",
          "Fe0.083La1Ru2.917Si2",
          "Fe0.135Ga1V2.865",
          "Fe0.15Hf1V1.85",
          "Fe0.15Ni0.85Zr2",
          "Fe0.15V1.85Zr1",
          "Fe0.1Ni0.9Zr2",
          "Fe0.25Ni0.75U6",
          "Fe0.2Ni0.8Zr2",
          "Fe0.2P1Ru0.8Zr1",
          "Fe0.33Ni0.67Zr2",
          "Fe0.36Ni0.64Zr2",
          "Fe0.3Ni0.7Zr2",
          "Fe0.3V1.7Zr1",
          "Fe0.4Ni0.6Zr2",
          "Fe0.5Ni0.5U6",
          "Fe0.5Ni0.5Zr2",
          "Fe0.6Ni0.4Zr2",
          "Fe0.75Ni0.25U6",
          "Fe0.95Ni0.05Se1",
          "Fe0.98Mn0.02Se0.5Te0.5",
          "Fe0.98Se0.15Te0.9",
          "Fe1",
          "Fe1.06Se0.14Te0.83",
          "Fe1.5K0.8Se2",
          "Fe1.63K0.82Se2",
          "Fe1.64K0.79Se2",
          "Fe1.66K0.74Se2",
          "Fe1.66K0.86Se2",
          "Fe1.68K0.75Se2",
          "Fe1.76K0.8Se2",
          "Fe1.78K0.8Se2",
          "Fe1.79K0.68Se2",
          "Fe1.7K0.8Se2",
          "Fe1.7Se2Tl1",
          "Fe1.83K0.83Se2",
          "Fe1.84K0.25Se2Tl0.75",
          "Fe1.933K0.8Mn0.067Se2",
          "Fe1.951K0.8Mn0.049Se2",
          "Fe1.979K0.8Mn0.021Se2",
          "Fe1.99K0.8Mn0.01Se2",
          "Fe1La1P1O1",
          "Fe1Li1P1",
          "Fe1Nb4Si1",
          "Fe1P1Pr1O1",
          "Fe1P1Sm1O1",
          "Fe1S0.04Se0.96",
          "Fe1S0.09Se0.91",
          "Fe1S0.11Se0.89",
          "Fe1S0.12Te0.88",
          "Fe1S0.1Se0.9",
          "Fe1S0.1Te0.9",
          "Fe1S0.25Te0.75",
          "Fe1S0.4Se0.6",
          "Fe1S0.5Se0.5",
          "Fe1Se0.05Te0.95",
          "Fe1Se0.075Te0.925",
          "Fe1Se0.07Te0.93",
          "Fe1Se0.13Te0.87",
          "Fe1Se0.1Te0.9",
          "Fe1Se0.25Te0.75",
          "Fe1Se0.328Te0.492",
          "Fe1Se0.35Te0.65",
          "Fe1Se0.38Te0.62",
          "Fe1Se0.39Te0.61",
          "Fe1Se0.41Te0.41",
          "Fe1Se0.42Te0.58",
          "Fe1Se0.43Te0.57",
          "Fe1Se0.45Te0.55",
          "Fe1Se0.492Te0.328",
          "Fe1Se0.4Te0.4",
          "Fe1Se0.4Te0.6",
          "Fe1Se0.5Te0.5",
          "Fe1Se0.75Te0.25",
          "Fe1Se0.8",
          "Fe1Se0.82",
          "Fe1Se0.85",
          "Fe1Se0.88",
          "Fe1Se0.92",
          "Fe1Se0.93",
          "Fe1Se0.94",
          "Fe1Se0.98",
          "Fe1Se0.99",
          "Fe1Te1",
          "Fe1U6",
          "Fe1Zr2",
          "Fe22U78",
          "Fe2Ge2Y1",
          "Fe2K0.85Se1.8",
          "Fe2K0.86Se1.82",
          "Fe2K0.8Se1.96",
          "Fe2K0.8Se2",
          "Fe2P2Sc2Sr4O6",
          "Fe2Si2Y1",
          "Fe30Zr70",
          "Fe3Lu0.032Si5Y1.968",
          "Fe3Lu1.86Sc0.14Si5",
          "Fe3Lu1.86Si5Y0.14",
          "Fe3Lu1.94Sc0.06Si5",
          "Fe3Lu1.9Sc0.1Si5",
          "Fe3Lu1.9Si5Y0.1",
          "Fe3Lu2Si5",
          "Fe3Sc2Si5",
          "Fe3Si5Tm2",
          "Fe3Si5Y2",
          "Fe3Th7",
          "Fe4La1P12",
          "Ga0.05Nb1Se2",
          "Ga0.05Nb3Sn0.95",
          "Ga0.09Nb3Sn0.91",
          "Ga0.13Si0.87V3",
          "Ga0.19Nb0.81",
          "Ga0.1Nb1Se2",
          "Ga0.1Nb3Sn0.9",
          "Ga0.1Sn0.9V3",
          "Ga0.21Si0.79V3",
          "Ga0.21V0.79",
          "Ga0.222V0.778",
          "Ga0.233V0.767",
          "Ga0.236V0.764",
          "Ga0.245Nb0.755",
          "Ga0.247V0.753",
          "Ga0.251Nb0.749",
          "Ga0.253V0.747",
          "Ga0.255V0.745",
          "Ga0.25Nb0.75",
          "Ga0.25Si0.75V3",
          "Ga0.25V0.75",
          "Ga0.281V0.719",
          "Ga0.28Si0.72V3",
          "Ga0.296V0.704",
          "Ga0.2Nb0.8",
          "Ga0.2Nb3Sn0.8",
          "Ga0.2Si0.8V3",
          "Ga0.2V0.8",
          "Ga0.31V0.69",
          "Ga0.32Nb0.68",
          "Ga0.32Si0.68V3",
          "Ga0.35Nb3Sn0.65",
          "Ga0.3In0.7La3",
          "Ga0.3Nb0.7",
          "Ga0.3V0.7",
          "Ga0.48Si0.52V3",
          "Ga0.4Nb0.6",
          "Ga0.4Nb3Sn0.6",
          "Ga0.4Si0.6V3",
          "Ga0.51Nb3Sn0.49",
          "Ga0.54Si0.46V3",
          "Ga0.5Ge0.5Nb3",
          "Ga0.5Nb3Sn0.5",
          "Ga0.5Sn0.5V3",
          "Ga0.65Nb3Sn0.35",
          "Ga0.6Nb3Sn0.4",
          "Ga0.6Si0.4V3",
          "Ga0.75Si0.25V3",
          "Ga0.78Sn0.22V3",
          "Ga0.793Sb0.207V3",
          "Ga0.7Sn0.3V3",
          "Ga0.8Ge0.2V3",
          "Ga0.8In0.2V3",
          "Ga0.8Nb3Sn0.2",
          "Ga0.8Nb3Zn0.2",
          "Ga0.8Si0.2V3",
          "Ga0.8Si1.2Sr1",
          "Ga0.937In0.063V3",
          "Ga0.957Ge0.043V3",
          "Ga0.95Ge0.05Nb3",
          "Ga0.999V3Zn0.001",
          "Ga0.9Nb3Sn0.1",
          "Ga0.9Nb3Zn0.1",
          "Ga0.9Si0.1V3",
          "Ga0.9Si1.1Sr1",
          "Ga0.9Sn0.1V3",
          "Ga1",
          "Ga1.1Si0.9Sr1",
          "Ga1.2Si0.8Sr1",
          "Ga1Ge1Sr1",
          "Ga1Hf0.261V2.739",
          "Ga1Hf1Ni2",
          "Ga1Hf2",
          "Ga1La0.222V2.778",
          "Ga1La3",
          "Ga1Mn0.102V2.898",
          "Ga1Mo0.201V2.799",
          "Ga1Mo3",
          "Ga1N1",
          "Ga1Nb0.15Ni2Zr0.85",
          "Ga1Nb0.186V2.814",
          "Ga1Nb0.3Ni2Zr0.7",
          "Ga1Nb1Ni2",
          "Ga1Nb4Se8",
          "Ga1Ni0.207V2.793",
          "Ga1Ni2Zr1",
          "Ga1P1",
          "Ga1Pt1",
          "Ga1Re0.072V2.928",
          "Ga1Sb1",
          "Ga1Se8Ta4",
          "Ga1Si1Sr1",
          "Ga1Ta0.198V2.802",
          "Ga1Ti0.246V2.754",
          "Ga1V1",
          "Ga1V1.95",
          "Ga1V2.1",
          "Ga1V2.742Zr0.258",
          "Ga1V2.883W0.117",
          "Ga1Zr2",
          "Ga20.5V79.5",
          "Ga22Nb78",
          "Ga24.8V75.2",
          "Ga26.5V73.5",
          "Ga2La1",
          "Ga2La1Ni1",
          "Ga2Pt1",
          "Ga2Y1",
          "Ga3Lu1",
          "Ga3Nb5",
          "Ga3Sc1",
          "Ga3Zr1",
          "Ga3Zr5",
          "Ga41Mo8",
          "Ga5V2",
          "Ga6Tb1",
          "Ga6Y1",
          "Ga7Pt3",
          "Ga9Ir2",
          "Ga9Rh2",
          "Gd0.005In1La2.995",
          "Gd0.011In1La2.989",
          "Gd0.013La0.987Sn3",
          "Gd0.029In1La2.971",
          "Gd0.02In1La2.98",
          "Gd0.02La0.98Ru2",
          "Gd0.02Pd2Sn1Y0.98",
          "Gd0.037In1La2.963",
          "Gd0.03La0.97Ru2",
          "Gd0.045In1La2.955",
          "Gd0.048In1La2.952",
          "Gd0.04In1La2.96",
          "Gd0.04La0.96Ru2",
          "Gd0.04Ru2Y0.96",
          "Gd0.055In1La2.945",
          "Gd0.05La0.95Ru2",
          "Gd0.05Pd2Sn1Y0.95",
          "Gd0.064La0.936Sn3",
          "Gd0.067La0.933Sn3",
          "Gd0.06In1La2.94",
          "Gd0.08La0.92Sn3",
          "Gd0.08Ru2Y0.92",
          "Ge0.05Nb3Sn0.95",
          "Ge0.18Nb0.82",
          "Ge0.19Nb3Sn0.81",
          "Ge0.1Nb3Sn0.9",
          "Ge0.1Si0.9V3",
          "Ge0.21V0.79",
          "Ge0.22Nb1",
          "Ge0.23Mo0.77",
          "Ge0.23V0.77",
          "Ge0.27Nb3Sn0.73",
          "Ge0.27V0.73",
          "Ge0.29Nb0.71",
          "Ge0.2Nb3Sn0.8",
          "Ge0.35Nb3Sn0.65",
          "Ge0.3Sb0.7",
          "Ge0.44Nb3Sn0.56",
          "Ge0.4Si0.6V3",
          "Ge0.5Nb3Sn0.5",
          "Ge0.5Pt0.5",
          "Ge0.5Rh0.5",
          "Ge0.61Nb3Sn0.39",
          "Ge0.6Si0.4V3",
          "Ge0.937Te1",
          "Ge0.95Te1",
          "Ge0.963Te1",
          "Ge0.976Te1",
          "Ge1",
          "Ge1.62Y1",
          "Ge1.78La1",
          "Ge1.81La1",
          "Ge1.83La1",
          "Ge1.85La1",
          "Ge1.8La1",
          "Ge1.8La1Pt2Sn0.2",
          "Ge1.92La1Pd2Sn0.08",
          "Ge1.96La1Pd2Sn0.04",
          "Ge1.96Pd2Si0.04Sr1",
          "Ge1.98Pd2Si0.02Sr1",
          "Ge1.9La1",
          "Ge1.9La1Pd2Sn0.1",
          "Ge1.9Pd2Si0.1Sr1",
          "Ge10Ir4Lu5",
          "Ge10Ir4Y5",
          "Ge10Lu5Rh4",
          "Ge10Os4Y5",
          "Ge10Rh4Y5",
          "Ge12.5Si12.5V75",
          "Ge12La1Pt4",
          "Ge12Nd1Pt4",
          "Ge12Pr1Pt4",
          "Ge12Pt4Th1",
          "Ge13Lu3Os4",
          "Ge13Lu3Rh4",
          "Ge13Lu3Ru4",
          "Ge13Os4Y3",
          "Ge13Ru4Y3",
          "Ge19Rh6Sc4",
          "Ge1Ir1",
          "Ge1La1Pt1",
          "Ge1Mo3",
          "Ge1Nb2",
          "Ge1P1",
          "Ge1Rh1U1",
          "Ge1Ru1Zr1",
          "Ge1Ta3",
          "Ge1Te1",
          "Ge1V1Zr1",
          "Ge1V3",
          "Ge2.03La1Pt1.97",
          "Ge2.06La1Pt1.94",
          "Ge2.15La1Pt1.85",
          "Ge2.1La1Pt1.9",
          "Ge2.2La1Pt1.8",
          "Ge2Hf1",
          "Ge2Ir2La1",
          "Ge2Ir2Th1",
          "Ge2Ir2U1",
          "Ge2La1",
          "Ge2La1Ni2",
          "Ge2La1Pd2",
          "Ge2La1Pt2",
          "Ge2La3Rh2",
          "Ge2Lu1",
          "Ge2Mo1",
          "Ge2Ni0.2Pd1.8Sr1",
          "Ge2Ni2Sr1",
          "Ge2Os2Th1",
          "Ge2Pd1.86Pt0.14Sr1",
          "Ge2Pd1.8Rh0.2Sr1",
          "Ge2Pd1.92Pt0.08Sr1",
          "Ge2Pd1.93Pt0.07Sr1",
          "Ge2Pd1.94Pt0.06Sr1",
          "Ge2Pd1.96Pt0.04Sr1",
          "Ge2Pd1.98Pt0.02Sr1",
          "Ge2Pd1.99Pt0.01Sr1",
          "Ge2Pd1.9Pt0.1Sr1",
          "Ge2Pd2Sr1",
          "Ge2Pd2Th1",
          "Ge2Pd2Yb1",
          "Ge2Pt2Th1",
          "Ge2Re1",
          "Ge2Rh2Th1",
          "Ge2Rh2U1",
          "Ge2Rh5",
          "Ge2Ru2Th1",
          "Ge2Sc1",
          "Ge2Ta1",
          "Ge2U1",
          "Ge2Y1",
          "Ge3Mo5",
          "Ge3Nb5",
          "Ge3Ni1Y1",
          "Ge3Pd1Sr1",
          "Ge3Pt1Sr1",
          "Ge3Rh5",
          "Ge3Te4",
          "Ge3U5",
          "Ge3Y1",
          "Ge4La3Pd4",
          "Ge5La1",
          "Ge6Pt4Y3",
          "Ge7Ir3",
          "H0.81Pd1",
          "H0.827Pd1",
          "H0.87Pd1",
          "H0.886Pd1",
          "H0.938Pd1",
          "H0.94Pd1",
          "H0.963Pd1",
          "H0.965Pd1",
          "H0.983Pd1",
          "H0.985Pd1",
          "H0.995Pd1",
          "H0.9Pd1",
          "H15Th4",
          "H3.63Th1",
          "H4Si1",
          "Hf0.13V2Zr0.87",
          "Hf0.25Zr0.75",
          "Hf0.2V2Zr0.8",
          "Hf0.34Mo0.66",
          "Hf0.3V2Zr0.7",
          "Hf0.4V2Zr0.6",
          "Hf0.52Ta0.48",
          "Hf0.5Nb0.5",
          "Hf0.5Ta0.5",
          "Hf0.5V2Zr0.5",
          "Hf0.65N1Nb0.35",
          "Hf0.6V2Zr0.4",
          "Hf0.78W0.22",
          "Hf0.7V2Zr0.3",
          "Hf0.834W0.166",
          "Hf0.84Nb0.16V2",
          "Hf0.87Mo0.13",
          "Hf0.87Ta0.13V2",
          "Hf0.87V2Zr0.13",
          "Hf0.8Mo0.2",
          "Hf0.8Ta0.2V2",
          "Hf0.8Ti0.2V2",
          "Hf0.8V2Zr0.2",
          "Hf0.95Ta0.05V2",
          "Hf0.95V2Y0.05",
          "Hf0.99Ta0.01V2",
          "Hf0.9N1Nb0.1",
          "Hf0.9Nb0.1V2",
          "Hf0.9Ta0.1V2",
          "Hf0.9Ti0.1V2",
          "Hf0.9V2Y0.1",
          "Hf1",
          "Hf1In1Pd2",
          "Hf1Mo2",
          "Hf1N0.989",
          "Hf1N1",
          "Hf1Os1P1",
          "Hf1Os2",
          "Hf1P1Ru1",
          "Hf1Re2",
          "Hf1Rh1",
          "Hf1Rh1Si1",
          "Hf1Tc2",
          "Hf1V2",
          "Hf1V2.3",
          "Hf25Nb50Zr25",
          "Hf2Ni1",
          "Hf2Rh1",
          "Hf5Re24",
          "Hg0.5In0.5",
          "Hg0.698Tl0.302",
          "Hg0.714Tl0.286",
          "Hg1",
          "Hg1Mg1",
          "Hg1Mg3",
          "Hg1Pb1.8",
          "Hg1Pb2",
          "Hg2K1",
          "Hg2Mg1",
          "Hg2Na1",
          "Hg3K1",
          "Hg3Li1",
          "Hg3Mg1",
          "Hg3Zr1",
          "Hg4K1",
          "Hg4Na1",
          "Hg5Tl2",
          "Hg8K1",
          "Ho0.1Pd2Sn1Y0.9",
          "I2",
          "I4Sn1",
          "In0.021Sn0.979Te1",
          "In0.025Sn0.975Te1",
          "In0.044Sn0.956Te1",
          "In0.04Sn0.96Te1",
          "In0.051Sn0.949Te1",
          "In0.05Sn0.95Te1",
          "In0.08Sn0.92Te1",
          "In0.099Sn0.901Te1",
          "In0.12Pb0Sn0.88Te1",
          "In0.15Nb3Sn0.85",
          "In0.1Nb3Sn0.9",
          "In0.25Sb0.75",
          "In0.25Tl0.75",
          "In0.2Nb3Sn0.8",
          "In0.2Si0.8V3",
          "In0.2Sn0.8Te1",
          "In0.3Sn0.7Te1",
          "In0.45Sn0.55Te1",
          "In0.45Tl0.55",
          "In0.4Sn0.6Te1",
          "In0.5Pb0.5",
          "In0.5Sn0.5Te1",
          "In0.69Tl0.31",
          "In0.71S8V6",
          "In0.75Pb0.25",
          "In0.75Sn0.25",
          "In0.78Tl0.22",
          "In0.7Sn0.3",
          "In0.82Mg0.18",
          "In0.82Te1",
          "In0.83Te1",
          "In0.87Te1",
          "In0.8La3Sn0.2",
          "In0.8Tl0.2",
          "In0.91Te1",
          "In0.95Te1",
          "In1",
          "In1.015Te1",
          "In1.05Te1",
          "In1.15Te1",
          "In1.1Te1",
          "In1.5La1Sn1.5",
          "In1.5Pb1.5Y1",
          "In1.5Sn1.5Th1",
          "In1K2Mo15Se19",
          "In1La3",
          "In1Mg2",
          "In1N1",
          "In1Nb3",
          "In1Pd1",
          "In1Pd2Y1",
          "In1Pd2Zr1",
          "In1S8V6",
          "In1Sb1",
          "In1Te1",
          "In2Mo15Se19",
          "In2Mo6Se6",
          "In2O3",
          "In31.5Sb68.5",
          "In3La1",
          "In3Lu1",
          "In3Mo15Se19",
          "In3Rh1",
          "In3Ru1",
          "In3Te4",
          "In3Y1",
          "Ir0.02Nb3Rh0.98",
          "Ir0.05Nb3Rh0.95",
          "Ir0.1Os1.9Th1",
          "Ir0.1Si1.9Th1",
          "Ir0.22Ru0.78",
          "Ir0.26Mo0.74",
          "Ir0.2Os1.8Th1",
          "Ir0.2Ru1.8Th1",
          "Ir0.32Ru0.68",
          "Ir0.43Ru0.57",
          "Ir0.49Mo0.51",
          "Ir0.55Re0.15",
          "Ir0.5Os0.5",
          "Ir0.5Te0.5",
          "Ir0.69Y0.31",
          "Ir0.71Mo0.29",
          "Ir0.75Mo0.25",
          "Ir0.75Os0.25",
          "Ir0.75Rh0.25",
          "Ir0.7Os0.3",
          "Ir0.7Re0.3",
          "Ir0.7Y0.3",
          "Ir0.815Rh0.185",
          "Ir0.82Mo0.18",
          "Ir0.85Rh0.15Te2",
          "Ir0.88Pt0.12Te2",
          "Ir0.8Os1.2Th1",
          "Ir0.8Re0.2",
          "Ir0.8Rh0.2",
          "Ir0.92Pt0.08Te2",
          "Ir0.93Te2",
          "Ir0.94Pt0.06Te2",
          "Ir0.95Pd0.05Te2",
          "Ir0.95Pt0.05Te2",
          "Ir0.95Te2",
          "Ir0.96Pd0.04Te2",
          "Ir0.96Pt0.04Te2",
          "Ir0.97Pd0.03Te2",
          "Ir0.97Pt0.03Te2",
          "Ir0.98Pt0.02Te2",
          "Ir0.99Pt0.01Te2",
          "Ir0.9Rh0.1Te2",
          "Ir1",
          "Ir1.05Nb0.95",
          "Ir1.15Nb0.85",
          "Ir1.2Os0.8Th1",
          "Ir1.8Os0.2Th1",
          "Ir1.8Ru0.2Th1",
          "Ir1La1P1",
          "Ir1La1Si1",
          "Ir1La1Si3",
          "Ir1Mo1",
          "Ir1Mo3",
          "Ir1Nb1",
          "Ir1Nb3",
          "Ir1Os1Th1",
          "Ir1P1Sc1",
          "Ir1Si1Ta1",
          "Ir1Si1Th1",
          "Ir1Si1Ti1",
          "Ir1Si1Y1",
          "Ir1Si1Zr1",
          "Ir1Sn2",
          "Ir1Sn4",
          "Ir1Te3",
          "Ir1Th1",
          "Ir1Ti3",
          "Ir1U1",
          "Ir1Zr2",
          "Ir1Zr3",
          "Ir2.5Sc1",
          "Ir2La1",
          "Ir2La1Si2",
          "Ir2Lu1",
          "Ir2Sc1",
          "Ir2Si2Th1",
          "Ir2Si2U1",
          "Ir2Si2Y1",
          "Ir2Sr1",
          "Ir2Th1",
          "Ir2Y1",
          "Ir2Y3",
          "Ir2Zr1",
          "Ir3Lu1.92Sc0.08Si5",
          "Ir3Lu1.96Sc0.04Si5",
          "Ir3Lu1.9Sc0.1Si5",
          "Ir3Lu2Si5",
          "Ir3Si5Y2",
          "Ir3Te8",
          "Ir3Th7",
          "Ir3Y1",
          "Ir45Nb55",
          "Ir4La3Sn13",
          "Ir4Lu2.5Sc2.5Si10",
          "Ir4Lu5Si10",
          "Ir4Sc5Si10",
          "Ir4Si10Tm5",
          "Ir4Si10Y5",
          "Ir4Sn13Sr3",
          "Ir5La1",
          "Ir5Th1",
          "K0.18W1O3",
          "K0.27W1O3",
          "K0.45W1O3",
          "K1Ni2S2",
          "K1Ni2Se2",
          "K1Os2O6",
          "K1S8V6",
          "K2Mo15Se19",
          "La0.006Si1V2.994",
          "La0.02Os4Pr0.98Sb12",
          "La0.05Os4Pr0.95Sb12",
          "La0.06Pb3Th0.94",
          "La0.06Si1V2.94",
          "La0.1Os4Pr0.9Sb12",
          "La0.1Ru2Th0.9",
          "La0.25Sn3Th0.75",
          "La0.28Pt0.72",
          "La0.2Os4Pr0.8Sb12",
          "La0.3Os4Pr0.7Sb12",
          "La0.48Y0.52",
          "La0.75Pb3Pr0.25",
          "La0.76Pb3Th0.24",
          "La0.7Pb3Pr0.3",
          "La0.84Mo6Se8",
          "La0.84Ru3Si2Tm0.16",
          "La0.84Sn3Tm0.16",
          "La0.85Pb3Pr0.15",
          "La0.87Sn3Th0.13",
          "La0.88Mo6Se8",
          "La0.8Os4Pr0.2Sb12",
          "La0.8Pb3Pr0.2",
          "La0.901Pr0.099Tl3",
          "La0.908Sn3Tm0.092",
          "La0.91Nd0.09Pt1Si1",
          "La0.92Nd0.08Pt1Si1",
          "La0.92Ru3Si2Tm0.08",
          "La0.92Sn3Tm0.08",
          "La0.93Nd0.07Pt1Si1",
          "La0.93Pr0.07Tl3",
          "La0.94Mo6Se8",
          "La0.94Nd0.06Pt1Si1",
          "La0.95Nd0.05Pt1Si1",
          "La0.95Pb3Pr0.05",
          "La0.95Pr0.05Se1",
          "La0.962Sn3Tm0.038",
          "La0.967Pr0.033Tl3",
          "La0.96Nd0.04Pt1Si1",
          "La0.97Nd0.03Pt1Si1",
          "La0.98Nd0.02Pt1Si1",
          "La0.98Pr0.02Ru2",
          "La0.99Nd0.01Pt1Si1",
          "La0.9Nd0.1Pt1Si1",
          "La0.9Pb3Pr0.1",
          "La0.9Pr0.1Se1",
          "La1",
          "La1Mg2",
          "La1Mo6S8",
          "La1Mo6Se8",
          "La1N1",
          "La1Ni0.1Pt0.9Si1",
          "La1Ni0.2Pt0.8Si1",
          "La1Ni0.9Pt0.1Si1",
          "La1Ni1P1O1",
          "La1Ni1Sb2",
          "La1Ni1Si1",
          "La1Ni1Sn1",
          "La1Ni2P2",
          "La1Os2",
          "La1Os4P12",
          "La1Os4Sb12",
          "La1P12Ru4",
          "La1P1Rh1",
          "La1P2Pd2",
          "La1P2Ru2",
          "La1Pb1.5Sn1.5",
          "La1Pb1.5Tl1.5",
          "La1Pb2.76Tl0.24",
          "La1Pb3",
          "La1Pd0.8Sb2",
          "La1Pd1Sb2",
          "La1Pd2Sb2",
          "La1Pd2Si2",
          "La1Pt1Si1",
          "La1Pt2",
          "La1Pt2Si2",
          "La1Pt3Si1",
          "La1Rh1Sb1",
          "La1Rh1Si1",
          "La1Rh1Si3",
          "La1Rh1Sn1",
          "La1Rh2Si2",
          "La1Rh3",
          "La1Ru2",
          "La1Ru2Si2",
          "La1Ru3Si2",
          "La1Ru4Sb12",
          "La1S1",
          "La1Sb2",
          "La1Se1",
          "La1Si10",
          "La1Si2",
          "La1Sn1.5Tl1.5",
          "La1Sn2",
          "La1Sn3",
          "La1Te1",
          "La1Tl3",
          "La1Zn1",
          "La2.706Pr0.294Tl1",
          "La2.7Pr0.3Se4",
          "La2.82Pr0.18S4",
          "La2.85Pr0.15Se4",
          "La2.916Pr0.084Tl1",
          "La2.91Pr0.09Tl1",
          "La2Rh3Si5",
          "La2Rh3Sn5",
          "La2Sb1",
          "La2Sn5",
          "La3Ni1",
          "La3Ni4P4O2",
          "La3Ni4Si4",
          "La3Pb13Rh4",
          "La3Pd4Si4",
          "La3Pd5Si1",
          "La3Rh4Sn13",
          "La3Ru1",
          "La3Ru4Sn13",
          "La3S4",
          "La3Sb3Y1",
          "La3Se4",
          "La3Sn1",
          "La3Te4",
          "La3Tl1",
          "La4Sb3",
          "La5Ru2",
          "La5Si3",
          "La6Sb15Zn1",
          "La7Ni3",
          "La7Pd3",
          "La7Rh3",
          "La7Ru3",
          "Li0.33V2O5",
          "Li0.3W1O3",
          "Li0.45Nb1O2",
          "Li0.68Nb1O2",
          "Li0.98Mg0.02Ti2O4",
          "Li1.035Ti1.965O4",
          "Li1.04Ti1.96O4",
          "Li1.05Ti1.95O4",
          "Li1.07Ti1.93O4",
          "Li1.08Ti1.92O4",
          "Li1.12Ti1.88O4",
          "Li1.16Ti1.84O4",
          "Li1.1Ti1.9O4",
          "Li1Pb1",
          "Li1Ti2O4",
          "Li2Mo15Se19",
          "Li3Mo15Se19",
          "Lu0.275Rh0.725",
          "Lu1Mo6S8",
          "Lu1Os2",
          "Lu1Pb1Pd2",
          "Lu1Pd2Si2",
          "Lu1Pd2Sn1",
          "Lu1Pt2Si2",
          "Lu1Rh2Sn1",
          "Lu1Ru2",
          "Lu1Ru2Si2",
          "Lu1S1",
          "Lu1Se1",
          "Lu1Si3",
          "Lu1Tc2",
          "Lu3Si5",
          "Mg0.47Tl0.53",
          "Mg1Zn1",
          "Mg2Pb1",
          "Mg2Zn11",
          "Mg2Zn3",
          "Mg7Zn3",
          "Mn0.03Si1V2.97",
          "Mn0.21Si1V2.79",
          "Mn0.3Si1V2.7",
          "Mn1U6",
          "Mo0.036Si1V2.964",
          "Mo0.03Si1V2.97",
          "Mo0.09Si1V2.91",
          "Mo0.18Tc0.82",
          "Mo0.202Zr0.798",
          "Mo0.21Si1V2.79",
          "Mo0.23Re0.77",
          "Mo0.25Ru0.75",
          "Mo0.25Tc0.75",
          "Mo0.28Re0.72",
          "Mo0.28Rh0.72",
          "Mo0.2Ru0.8",
          "Mo0.2Zr0.8",
          "Mo0.3Si1",
          "Mo0.3Tc0.7",
          "Mo0.3U0.7",
          "Mo0.45Re0.55",
          "Mo0.45Tc0.55",
          "Mo0.4Re0.6",
          "Mo0.52Re0.48",
          "Mo0.57Re0.43",
          "Mo0.5Pb0.5",
          "Mo0.5Pd0.5",
          "Mo0.5Re0.5",
          "Mo0.5Rh0.5",
          "Mo0.5V0.5",
          "Mo0.67Zr0.33",
          "Mo0.6Ru0.4",
          "Mo0.72Pt0.28",
          "Mo0.75Re0.25",
          "Mo0.77Si0.23",
          "Mo0.815Pt0.185",
          "Mo0.81Pt0.19",
          "Mo0.8Pt0.2",
          "Mo1",
          "Mo15Se19",
          "Mo1Ni1P1",
          "Mo1P1Ru1",
          "Mo1Re3",
          "Mo1Re4",
          "Mo1Ru1",
          "Mo1Te2",
          "Mo25Nb25Ti50",
          "Mo2N1",
          "Mo2Zr1",
          "Mo30Re70",
          "Mo3Os1",
          "Mo3P1",
          "Mo3S2Se2",
          "Mo3Sb7",
          "Mo3Si1",
          "Mo3Te3Tl1",
          "Mo4P3",
          "Mo4Re2Te8",
          "Mo5.8Ru0.2Se8",
          "Mo6Nd1S8",
          "Mo6Pb0.1Se8Yb0.9",
          "Mo6Pb0.2Se8Yb0.8",
          "Mo6Pb0.3Se8Yb0.7",
          "Mo6Pb0.7Se8Yb0.3",
          "Mo6Pb0.8Se8Yb0.2",
          "Mo6Pb0.9Se8Yb0.1",
          "Mo6Pb1S4Se4",
          "Mo6Pb1S8",
          "Mo6Pb1Se8",
          "Mo6Pr1S8",
          "Mo6S8",
          "Mo6S8Sn0.875",
          "Mo6S8Sn1",
          "Mo6S8Yb1",
          "Mo6Se6Tl2",
          "Mo6Se8",
          "Mo6Se8Sn1",
          "Mo6Se8Y1",
          "Mo6Se8Yb1",
          "Mo8P5",
          "N0.48Nb1",
          "N0.62Pt0.38",
          "N0.6Ti1",
          "N0.75V1",
          "N0.78Nb1",
          "N0.82V1",
          "N0.84Nb1",
          "N0.87Nb1O0.13",
          "N0.89Nb1",
          "N0.8Nb1",
          "N0.8V1",
          "N0.906Zr1",
          "N0.92Nb1",
          "N0.93Nb1",
          "N0.98Nb1O0.02",
          "N0.998Nb1O0.002",
          "N0.99Ti1",
          "N0.99V1",
          "N1.07Nb1",
          "N1Nb0.85Zr0.15",
          "N1Nb0.9V0.1",
          "N1Ni3Zn1",
          "N1S1",
          "N1Th1",
          "N1Ti1",
          "N1V1",
          "N1Zr1",
          "N5Nb4",
          "Na0.23W1O3",
          "Na0.28Pb0.72",
          "Na0.28W1O3",
          "Na0.2W1O3",
          "Na0.33V2O5",
          "Na0.5Nb1S2",
          "Na1Pb3",
          "Nb0.03Si1V2.97",
          "Nb0.18U0.82",
          "Nb0.222U0.778",
          "Nb0.22Ti0.8",
          "Nb0.22U0.78",
          "Nb0.26U0.74",
          "Nb0.2U0.8",
          "Nb0.3Si1V2.7",
          "Nb0.44Ti0.56",
          "Nb0.45Re0.55",
          "Nb0.47Ta0.53",
          "Nb0.48Rh0.52",
          "Nb0.55Ti0.45",
          "Nb0.55V0.45",
          "Nb0.5Re0.5",
          "Nb0.5Ta0.5",
          "Nb0.5Ti0.5",
          "Nb0.5V0.5",
          "Nb0.65Pd0.35",
          "Nb0.69Pd0.31",
          "Nb0.6Pd0.4",
          "Nb0.6Ru0.4",
          "Nb0.71Sn0.29",
          "Nb0.72Pd0.28",
          "Nb0.72Sn0.28",
          "Nb0.75Si0.25",
          "Nb0.79Si0.21",
          "Nb0.85Rh1.15",
          "Nb0.8Pd0.2",
          "Nb0.9Rh1.1",
          "Nb1",
          "Nb1Ni2Sn1",
          "Nb1O1",
          "Nb1P1Rh1",
          "Nb1P1S1",
          "Nb1Pt1Si1",
          "Nb1Re1Si1",
          "Nb1Ru1Si1",
          "Nb1Ru3",
          "Nb1S0.899",
          "Nb1S2",
          "Nb1Se2",
          "Nb1Se2.2",
          "Nb1Se3",
          "Nb1Sn2",
          "Nb1Sn3",
          "Nb1Te2",
          "Nb2.75Sn1Ta0.25",
          "Nb2.7Sn1Ta0.3",
          "Nb2.7Sn1Ti0.3",
          "Nb2.7Sn1V0.3",
          "Nb2.7Sn1Zr0.3",
          "Nb2.85Sn1Ta0.15",
          "Nb2.85Sn1Ti0.15",
          "Nb2.85Sn1V0.15",
          "Nb2.85Sn1Zr0.15",
          "Nb2.934Sn1V0.066",
          "Nb25Ti75",
          "Nb2Pd1S5",
          "Nb2Se3",
          "Nb3Os0.02Rh0.98",
          "Nb3Os0.05Rh0.95",
          "Nb3Os0.1Rh0.9",
          "Nb3Os0.3Rh0.7",
          "Nb3Os1",
          "Nb3Os2",
          "Nb3P1",
          "Nb3Pb0.15Sn0.85",
          "Nb3Pd0.02Rh0.98",
          "Nb3Pd0.05Rh0.95",
          "Nb3Pd0.1Rh0.9",
          "Nb3Pt0.02Rh0.98",
          "Nb3Pt0.05Rh0.95",
          "Nb3Pt0.1Rh0.9",
          "Nb3Pt0.3Rh0.7",
          "Nb3Pt0.7Rh0.3",
          "Nb3Pt0.95Rh0.05",
          "Nb3Pt0.98Rh0.02",
          "Nb3Pt0.9Rh0.1",
          "Nb3Pt1",
          "Nb3Rh0.95Ru0.05",
          "Nb3Rh0.98Ru0.02",
          "Nb3Rh0.9Ru0.1",
          "Nb3Rh1",
          "Nb3S4",
          "Nb3Sb0.1Sn0.9",
          "Nb3Sb0.2Sn0.8",
          "Nb3Sb0.3Sn0.7",
          "Nb3Sb0.7Sn0.3",
          "Nb3Sb1",
          "Nb3Se4",
          "Nb3Si0.06Sn0.94",
          "Nb3Si0.25Sn0.75",
          "Nb3Si0.27Sn0.73",
          "Nb3Si0.5Sn0.5",
          "Nb3Si0.6Sn0.4",
          "Nb3Sn0.85Tl0.15",
          "Nb3Sn0.9Tl0.1",
          "Nb3Sn1",
          "Nb3Te4",
          "Nb4Ni1Si1",
          "Nb50Zr50",
          "Nb55Rh45",
          "Nb5Sb4",
          "Nb5Si3",
          "Nb6Sn5",
          "Nd0.1Os4Pr0.9Sb12",
          "Nd0.25Os4Pr0.75Sb12",
          "Nd0.2Os4Pr0.8Sb12",
          "Nd0.2Ru2Th0.8",
          "Nd0.3Os4Pr0.7Sb12",
          "Ni0.02S2Ta1",
          "Ni0.04S2Ta1",
          "Ni0.05Pd0.95Te2",
          "Ni0.05S2Ta1",
          "Ni0.06S2Ta1",
          "Ni0.1Pd0.9Te2",
          "Ni0.1Si1.9Sr1",
          "Ni0.22V0.78",
          "Ni0.25Pd49.75Sb50",
          "Ni0.2Si1.8Sr1",
          "Ni0.3Th0.7",
          "Ni1.5V0.5Zr1",
          "Ni17Zr83",
          "Ni18Zr82",
          "Ni1Sm1",
          "Ni1Ta2",
          "Ni1U6",
          "Ni1Zr2",
          "Ni1Zr3",
          "Ni20Zr80",
          "Ni21Zr79",
          "Ni22Zr78",
          "Ni24Zr76",
          "Ni25Th75",
          "Ni27Zr73",
          "Ni29Zr71",
          "Ni2P2Sc2Sr4O6",
          "Ni2P2Sr1",
          "Ni2Se2Tl1",
          "Ni30Zr70",
          "Ni31Zr69",
          "Ni33Zr67",
          "Ni36.5Zr63.5",
          "Ni40Zr60",
          "Ni45Zr55",
          "O2",
          "Os0.232Re0.768",
          "Os0.32Rh0.68",
          "Os0.3Re0.7",
          "Os0.432Re0.568",
          "Os0.55V0.45",
          "Os0.56Re0.44",
          "Os0.5V0.5",
          "Os0.74W0.26",
          "Os0.7Re0.3",
          "Os0.81Re0.19",
          "Os10",
          "Os1P1Zr1",
          "Os1Si1Zr1",
          "Os1Ti1",
          "Os2Rb1O6",
          "Os2Sc1",
          "Os2Si2Th1",
          "Os2Si2Y1",
          "Os2Y1",
          "Os2Zr1",
          "Os3.8Pr1Ru0.2Sb12",
          "Os3Th7",
          "Os4Pr1Sb12",
          "P0.2Si0.8V3",
          "P0.3Si0.7V3",
          "P0.95Zr1",
          "P1",
          "P12Pr1Ru4",
          "P1Pb1",
          "P1Pd3",
          "P1Rh0.01Ru0.99Zr1",
          "P1Rh0.05Ru0.95Zr1",
          "P1Rh0.1Ru0.9Zr1",
          "P1Rh1Ta1",
          "P1Rh1Zr1",
          "P1Rh2",
          "P1Ru1Ti1",
          "P1Ru1Zr1",
          "P1Sn1",
          "P1W3",
          "P1Zr3",
          "P2Pd2Y1",
          "P3Pd7",
          "P3Sn4",
          "P4W14O50",
          "Pa1",
          "Pb0.28Sn0.72",
          "Pb0.52Tl0.48",
          "Pb0.57Sn0.43",
          "Pb0.5Sn0.5Te1",
          "Pb0.8Pt0.2",
          "Pb0.985Te1Tl0.015",
          "Pb0.986Te1Tl0.014",
          "Pb0.987Te1Tl0.013",
          "Pb0.989Te1Tl0.011",
          "Pb0.992Te1Tl0.008",
          "Pb0.996Te1Tl0.004",
          "Pb0.99Te1Tl0.01",
          "Pb1",
          "Pb1.9Rh1",
          "Pb1Pd1Tl1",
          "Pb1Pd2Sc1",
          "Pb1Pd2Tm1",
          "Pb1Pd2Y1",
          "Pb1Pd2Yb1",
          "Pb1Pt1",
          "Pb1Sb1",
          "Pb1Se2Ta1",
          "Pb1Te1",
          "Pb1Zr3",
          "Pb2Pd0.5Rh0.5",
          "Pb2Pd1",
          "Pb2Rh1",
          "Pb2S1Se1",
          "Pb2S1Te1",
          "Pb3Sr1",
          "Pb3Th1",
          "Pb3Y1",
          "Pb3Yb1",
          "Pb3Zr5",
          "Pd0.003Pt2.997U1",
          "Pd0.006Pt2.994U1",
          "Pd0.009Pt2.991U1",
          "Pd0.012Pt2.988U1",
          "Pd0.18Ti0.82",
          "Pd0.19Ti0.81",
          "Pd0.24Ti0.76",
          "Pd0.26Ti0.74",
          "Pd0.2Ti0.8",
          "Pd0.3Zr0.7",
          "Pd0.49Sb0.51",
          "Pd0.51Sb0.49",
          "Pd0.52Sb0.48",
          "Pd0.56W0.44",
          "Pd0.5Sb0.5",
          "Pd0.87Te2",
          "Pd0.95Pt0.05Te2",
          "Pd0.95Rh0.05Te2",
          "Pd0.95Te2",
          "Pd0.9Pt0.1Te2",
          "Pd1.5Te2",
          "Pd1.75Te2",
          "Pd17Se15",
          "Pd1Sb1Se1",
          "Pd1Sb1Te1",
          "Pd1Sb2",
          "Pd1Se1Te1",
          "Pd1Si1",
          "Pd1Sn1",
          "Pd1Sn2",
          "Pd1Te1",
          "Pd1Te2",
          "Pd1Th2",
          "Pd1Tl2",
          "Pd1V3",
          "Pd1Zr2",
          "Pd2.8S1",
          "Pd2.8Se1",
          "Pd20Zr80",
          "Pd29Zr71",
          "Pd2Sb2Sr1",
          "Pd2Sc1Sn1",
          "Pd2Si2Th1",
          "Pd2Si2Y1",
          "Pd2Sn1",
          "Pd2Sn1Tm0.05Y0.95",
          "Pd2Sn1Tm0.1Y0.9",
          "Pd2Sn1Tm0.25Y0.75",
          "Pd2Sn1Tm0.75Y0.25",
          "Pd2Sn1Tm1",
          "Pd2Sn1Y0.7Yb0.3",
          "Pd2Sn1Y0.9Yb0.1",
          "Pd2Sn1Y1",
          "Pd2Sn1Yb1",
          "Pd31Zr69",
          "Pd32Zr68",
          "Pd34Se11",
          "Pd34Zr66",
          "Pd35Zr65",
          "Pd3Ta4Te16",
          "Pd3Te1",
          "Pd49.75Sb50V0.25",
          "Pd4Se1",
          "Pd7Se2",
          "Pd9Se2",
          "Pt0.22V0.78",
          "Pt0.25V0.75",
          "Pt0.3Ta0.7",
          "Pt0.43W0.57",
          "Pt0.52W0.48",
          "Pt0.5W0.5",
          "Pt0.73W0.27",
          "Pt1Sb1",
          "Pt1Si1",
          "Pt1Si1Ta1",
          "Pt1Sn1",
          "Pt1Sn4",
          "Pt1Te1",
          "Pt1Th1",
          "Pt1Ti3",
          "Pt1Tl2",
          "Pt1V2.5",
          "Pt1Zr1",
          "Pt2.2Y1",
          "Pt2Sb2Sr1",
          "Pt2Si2Th1",
          "Pt2Si2Y1",
          "Pt2Sr1",
          "Pt2Y1",
          "Pt2Y8",
          "Pt3Th7",
          "Pt3U1",
          "Pt3V1",
          "Pt3Y7",
          "Rb0.14W1O3",
          "Rb0.16W1O3",
          "Rb0.18W1O3",
          "Rb0.19W1O3",
          "Rb0.19W1O3.001",
          "Rb0.23W1O3",
          "Rb0.23W1O3.05",
          "Rb0.27W1O2.93",
          "Rb0.27W1O3",
          "Rb0.2W1O3",
          "Rb0.33W1O3",
          "Rb1S8V6",
          "Re0.01Ru1.99Si2U1",
          "Re0.192Si1V2.808",
          "Re0.25W0.75",
          "Re0.35W0.65",
          "Re0.4W0.6",
          "Re0.73W0.27",
          "Re0.7W0.3",
          "Re1",
          "Re1Si1Ta1",
          "Re1Ta1",
          "Re24Sc5",
          "Re24Ti5",
          "Re24Zr5",
          "Re2Sc1",
          "Re2Si1",
          "Re2Th1",
          "Re2Y1",
          "Re2Zr1",
          "Re3Si5Y2",
          "Re3W1",
          "Rh0.1Si1.9Th1",
          "Rh0.2Ru0.8",
          "Rh0.32Ru0.68",
          "Rh0.33Zr0.67",
          "Rh0.36Se0.64",
          "Rh0.4Zr0.6",
          "Rh0.53Se0.47",
          "Rh0.85Si1.15Th1",
          "Rh0.88Ru0.12Se2",
          "Rh0.8Ru0.2Se2",
          "Rh0.94Se2",
          "Rh1",
          "Rh17S15",
          "Rh1Se1.75",
          "Rh1Se2",
          "Rh1Si1Ti1",
          "Rh1Sn2",
          "Rh1Te2",
          "Rh1Th1",
          "Rh1V3",
          "Rh1Y3",
          "Rh1Zr1",
          "Rh1Zr2",
          "Rh1Zr3",
          "Rh23Zr77",
          "Rh24Zr76",
          "Rh2Sc1Sn1",
          "Rh2Si2Th1",
          "Rh2Si2U1",
          "Rh2Si2Y1",
          "Rh2Sn1Y1",
          "Rh2Sr1",
          "Rh2Y3",
          "Rh37Zr63",
          "Rh3Si5Y2",
          "Rh3Th7",
          "Rh3Y1",
          "Rh43Zr57",
          "Rh4Sc5Si10",
          "Rh4Sn13Sr3",
          "Rh4Sn13Th3",
          "Rh4Sn13Yb3",
          "Rh5Y1",
          "Ru0.3Si1V2.7",
          "Ru0.43V0.57",
          "Ru0.445V0.555",
          "Ru0.452V0.548",
          "Ru0.45V0.55",
          "Ru0.465V0.535",
          "Ru0.46V0.54",
          "Ru0.475V0.525",
          "Ru0.47V0.53",
          "Ru0.4W0.6",
          "Ru0.999Sr2Ti0.001O4",
          "Ru1",
          "Ru1Sb1",
          "Ru1Si1Ta1",
          "Ru1Si1Zr1",
          "Ru1Sr2O4",
          "Ru1Ti1",
          "Ru1W1",
          "Ru2Sc1",
          "Ru2Si2Th1",
          "Ru2Si2U1",
          "Ru2Si2Y1",
          "Ru2Th1",
          "Ru2Y1",
          "Ru2Zr1",
          "Ru3Si2Th1",
          "Ru3Si2Y1",
          "Ru3Si4Zr2",
          "Ru3U1",
          "S0.8Se1.2Ta1",
          "S1",
          "S1.1Zr1",
          "S1.2Se0.8Ta1",
          "S1.8Se0.2Ta1",
          "S1Se1Ta1",
          "S1Y1",
          "S2Ta1",
          "S8Tl0.26V6",
          "S8Tl1V6",
          "S8V6",
          "Sb0.014Si0.986V3",
          "Sb0.25Ti0.75",
          "Sb0.28Tl0.72",
          "Sb1",
          "Sb1Sn1",
          "Sb1Ta3",
          "Sb1V3",
          "Sb2Te3",
          "Sb2Tl7",
          "Sb2Yb1",
          "Sb3Zr5",
          "Sb4Sn3Sr1",
          "Sc1Tc2",
          "Se1",
          "Se1Y1",
          "Se2Ta1",
          "Se2Ti1",
          "Se3Ta1",
          "Si0.206V0.794",
          "Si0.22V0.78",
          "Si0.263V0.737",
          "Si0.2Sn0.8V3",
          "Si0.2V0.8",
          "Si0.3V0.7",
          "Si0.4Sn0.6V3",
          "Si0.6Sn0.4V3",
          "Si0.8Sn0.2V3",
          "Si1",
          "Si1Th1",
          "Si1Ti0.15V2.85",
          "Si1Ti0.3V2.7",
          "Si1V2.7Zr0.3",
          "Si22.5V75",
          "Si2Sr1",
          "Si2Ta1",
          "Si2Ta1",
          "Si2Th1",
          "Si2W3",
          "Si3Sr2",
          "Si3W5",
          "Si3Y1",
          "Sn0.25Te0.75",
          "Sn0.965Te1",
          "Sn0.966Te1",
          "Sn0.975Te1",
          "Sn0.976Te1",
          "Sn0.97Te1",
          "Sn0.985Te1",
          "Sn0.98Te1",
          "Sn0.995Te1",
          "Sn0.99Te1",
          "Sn1",
          "Sn1O1",
          "Sn1Ta3",
          "Sn1Te1",
          "Sn1V3",
          "Sn1Zr4",
          "Sn3Th1",
          "Sn3Yb1",
          "Sn3Zr5",
          "Sr1",
          "Sr1Ti0.97Zr0.03O3",
          "Sr1Ti1O3",
          "Ta0.05V2Zr0.95",
          "Ta0.2Zr0.8",
          "Ta0.462Ti0.538",
          "Ta0.52Ti0.48",
          "Ta0.5V0.5",
          "Ta0.75V0.25",
          "Ta1",
          "Ta1V2",
          "Ta25Ti75",
          "Tc0.5W0.5",
          "Tc1",
          "Tc2Y1",
          "Tc2Zr1",
          "Te1",
          "Te1",
          "Te1Y1",
          "Te3Tl5",
          "Te3Zr1",
          "Th0.25Zr0.75",
          "Th0.2Zr0.8",
          "Th0.3Zr0.7",
          "Th0.5Y0.5",
          "Th1Tl3",
          "Th2Zn1",
          "Th70.2Tm29.8",
          "Ti0.496Zr0.504",
          "Ti0.516V0.484",
          "Ti0.5V0.5",
          "Ti0.5Zr0.5",
          "Ti0.65Zr0.35",
          "Ti0.66Zr0.33",
          "Ti0.8V0.2",
          "Ti1",
          "Ti1O0.86",
          "Ti1O0.91",
          "Ti1O0.92",
          "Ti1O0.95",
          "Ti1O1",
          "Tl0.03W1O3",
          "Tl0.3W1O3",
          "Tl1",
          "Tl3Y1",
          "U1",
          "V0.26Zr0.74",
          "V0.6Zr0.4",
          "V0.7Zr0.3",
          "V2Zr1",
          "V3Zr3O1",
          "W1",
          "W2Zr1",
          "W3O1",
          "Zn1",
          "Zn2Zr1",
          "Zr1"
         ],
         "type": "scatter",
         "x": [
          0.008,
          0.15,
          0.04,
          0.0999999999999999,
          0.1333333333333333,
          0.0799999999999999,
          0.124,
          0.0999999999999999,
          0,
          0,
          0.0833333333333333,
          0.0333333333333332,
          0.0006666666666667,
          0.1333333333333333,
          0.12,
          0.0666666666666666,
          0.1,
          0.12,
          0.0949999999999999,
          0.0749999999999999,
          0.1,
          0.04,
          0.025,
          0.15,
          0,
          0,
          0,
          0,
          0.0999999999999999,
          0,
          0,
          0,
          0,
          0.0348837209302325,
          0.1,
          0,
          0,
          0.0033333333333333,
          0.0066666666666666,
          0.0146666666666666,
          0.0133333333333333,
          0.01,
          0.01,
          0.02,
          0.0293333333333333,
          0.02,
          0.0166666666666666,
          0.0166666666666666,
          0.0333333333333333,
          0.025,
          0.04,
          0.03,
          0.0466666666666666,
          0.0566666666666666,
          0.0533333333333333,
          0.0399999999999999,
          0.0599999999999999,
          0.0449999999999999,
          0.0933333333333333,
          0.1,
          0.075,
          0.075,
          0.1233333333333333,
          0.1399999999999999,
          0.1266666666666666,
          0.0949999999999999,
          0.0333333333333333,
          0.0666666666666666,
          0.0666666666666666,
          0.0499999999999999,
          0.0499999999999999,
          0.07,
          0.1399999999999999,
          0.06,
          0.12,
          0,
          0.04,
          0.0173913043478261,
          0.1399999999999999,
          0,
          0.0571428571428571,
          0.1333333333333333,
          0.1,
          0.0999999999999999,
          0.1399999999999999,
          0.085,
          0.075,
          0.0549999999999999,
          0.0549999999999999,
          0.0999999999999999,
          0.15,
          0.15,
          0.15,
          0.0499999999999999,
          0.025,
          0,
          0,
          0,
          0,
          0,
          0.1133333333333333,
          0.06,
          0.08,
          0.085,
          0.1266666666666666,
          0.0666666666666666,
          0.0499999999999999,
          0.1333333333333333,
          0.0499999999999999,
          0.105,
          0.1399999999999999,
          0.125,
          0.13,
          0.135,
          0.15,
          0.0999999999999999,
          0.0949999999999999,
          0.085,
          0.0999999999999999,
          0.0999999999999999,
          0.1333333333333333,
          0.1333333333333333,
          0.0999999999999999,
          0.15,
          0.0999999999999999,
          0.15,
          0.0999999999999999,
          0.0464999999999999,
          0.0449999999999999,
          0.0379999999999999,
          0.0364999999999999,
          0.0324999999999999,
          0.0349999999999999,
          0.0275,
          0.03,
          0.03,
          0.024,
          0.022,
          0.025,
          0.0333333333333333,
          0.025,
          0.025,
          0.025,
          0.018,
          0.0165,
          0.0165,
          0.02,
          0.0125,
          0.015,
          0.0085,
          0.0075,
          0.01,
          0.01,
          0.0045,
          0.1498461538461538,
          0.0499999999999999,
          0.0499999999999999,
          0.0666666666666666,
          0.0666666666666667,
          0.0499999999999999,
          0.0499999999999999,
          0.0499999999999999,
          0.0499999999999999,
          0.0499999999999999,
          0,
          0.0666666666666667,
          0.1333333333333333,
          0.0033333333333332,
          0,
          0,
          0,
          0,
          0,
          0,
          0,
          0.1499999999999999,
          0,
          0.0909090909090908,
          0,
          0,
          0.0075,
          0.0404999999999999,
          0.0749999999999999,
          0.125,
          0,
          0,
          0,
          0,
          0,
          0,
          0.0749999999999999,
          0.1125,
          0.1499999999999999,
          0,
          0.15,
          0,
          0,
          0,
          0.0499999999999999,
          0,
          0.147,
          0.1305,
          0.135,
          0.1109999999999999,
          0.1499999999999999,
          0.0705,
          0.0705,
          0.0749999999999999,
          0.0749999999999999,
          0.06,
          0.0524999999999999,
          0.0415,
          0.0449999999999999,
          0.0364999999999999,
          0.03,
          0.03,
          0.0135,
          0.012,
          0.0149999999999999,
          0.0149999999999999,
          0.0035,
          0,
          0,
          0,
          0,
          0,
          0,
          0.14640522875817,
          0.0999999999999999,
          0.0499999999999999,
          0.02,
          0.0099999999999999,
          0.0033444816053511,
          0.0024459845087647,
          0,
          0,
          0,
          0,
          0,
          0,
          0,
          0.0006666666666666,
          0.0013333333333333,
          0.002,
          0.0026666666666666,
          0.0033333333333333,
          0.008,
          0.006,
          0.0053333333333333,
          0.004,
          0.0026666666666666,
          0,
          0,
          0,
          0,
          0,
          0.1,
          0.1333333333333333,
          0.0166666666666666,
          0.1333333333333333,
          0.0033333333333333,
          0.05,
          0.1,
          0,
          0.0044593088071348,
          0.0055741360089185,
          0,
          0.0044593088071348,
          0.0066666666666666,
          0.0333333333333333,
          0.0027824151363383,
          0.0033333333333333,
          0,
          0,
          0,
          0,
          0,
          0,
          0,
          0,
          0.025,
          0.075,
          0.075,
          0.0499999999999999,
          0.125,
          0,
          0.0666666666666666,
          0.0999999999999999,
          0,
          0.15,
          0.0799999999999999,
          0,
          0.088,
          0.0799999999999999,
          0.12,
          0.0831999999999999,
          0.12,
          0.0735999999999999,
          0.0615999999999999,
          0.0392,
          0.0112,
          0,
          0,
          0,
          0.075,
          0.0499999999999999,
          0.13,
          0.0999999999999999,
          0.075,
          0.075,
          0.0999999999999999,
          0.0399999999999999,
          0.025,
          0.0499999999999999,
          0.075,
          0.0499999999999999,
          0.025,
          0.0399999999999999,
          0.0549999999999999,
          0.06,
          0.08,
          0.0499999999999999,
          0.0999999999999999,
          0.15,
          0.1216216216216216,
          0.0584415584415584,
          0.0033333333333333,
          0.0126666666666666,
          0.014,
          0.0153333333333333,
          0.0166666666666666,
          0.0166666666666666,
          0.0186666666666666,
          0.0133333333333333,
          0.02,
          0.0333333333333333,
          0.0333333333333333,
          0.025,
          0.025,
          0.0406666666666666,
          0.0499999999999999,
          0.0499999999999999,
          0.0374999999999999,
          0.0374999999999999,
          0.0466666666666666,
          0.0533333333333333,
          0.0625,
          0.075,
          0.075,
          0.0875,
          0.0499999999999999,
          0.0499999999999999,
          0.0999999999999999,
          0.0999999999999999,
          0.15,
          0,
          0.0133333333333333,
          0.03,
          0.03,
          0.03,
          0.0374999999999999,
          0.0349999999999999,
          0.0409999999999999,
          0.0424999999999999,
          0.0399999999999999,
          0.0449999999999999,
          0.0549999999999999,
          0.0549999999999999,
          0.06,
          0.06,
          0.065,
          0.07,
          0.077,
          0.075,
          0.075,
          0.08,
          0.0875,
          0.085,
          0.09,
          0.09,
          0.0499999999999999,
          0.15,
          0.0499999999999999,
          0.0499999999999999,
          0.0499999999999999,
          0.0499999999999999,
          0.1124999999999999,
          0.0999999999999999,
          0,
          0.15,
          0.0999999999999999,
          0.15,
          0.08,
          0.075,
          0.075,
          0.0625,
          0.0549999999999999,
          0.0999999999999999,
          0.0999999999999999,
          0.0399999999999999,
          0.03,
          0.03,
          0.025,
          0.02,
          0.0166666666666666,
          0.0133333333333333,
          0.0066666666666666,
          0.0499999999999999,
          0.0499999999999999,
          0.0066666666666666,
          0.0133333333333333,
          0.0999999999999999,
          0.1216216216216216,
          0.0584415584415584,
          0,
          0.0952380952380952,
          0,
          0.0249999999999999,
          0.0652680652680653,
          0.0999999999999999,
          0.0999999999999999,
          0.1216216216216216,
          0.0584415584415584,
          0.0384615384615384,
          0.125,
          0.075,
          0.0999999999999999,
          0.025,
          0.0499999999999999,
          0.1216216216216216,
          0.0584415584415584,
          0.0400410677618069,
          0.0549999999999999,
          0.0999999999999999,
          0.0499999999999999,
          0.0499999999999999,
          0.1348773841961852,
          0.1216216216216216,
          0.0789473684210526,
          0.0584415584415584,
          0.0999999999999999,
          0.0499999999999999,
          0.1,
          0.0789473684210526,
          0.0706806282722513,
          0.0584415584415584,
          0.0384615384615384,
          0,
          0,
          0,
          0,
          0,
          0.0999999999999999,
          0.0499999999999999,
          0,
          0,
          0,
          0,
          0,
          0,
          0,
          0.14,
          0,
          0,
          0,
          0.0399999999999999,
          0.0799999999999999,
          0.12,
          0.0226666666666666,
          0.12,
          0.0799999999999999,
          0.088,
          0.0266666666666666,
          0.0399999999999999,
          0.0955999999999999,
          0.04,
          0.0866666666666666,
          0.1026666666666666,
          0.04,
          0.0799999999999999,
          0.12,
          0.04,
          0.0799999999999999,
          0.12,
          0.12,
          0.0639999999999999,
          0.048,
          0.0799999999999999,
          0.0799999999999999,
          0.032,
          0.032,
          0.016,
          0.04,
          0.04,
          0.04,
          0.04,
          0.0666666666666666,
          0,
          0.1186666666666666,
          0.0560000000000001,
          0.0560000000000001,
          0.06,
          0.06,
          0.0652,
          0.144,
          0.0708,
          0.0904,
          0.072,
          0.072,
          0.1471999999999999,
          0.0791999999999999,
          0.1066666666666666,
          0.0399999999999999,
          0.088,
          0.0948,
          0.096,
          0,
          0.104,
          0.104,
          0.1116,
          0.1152,
          0.112,
          0.1188000000000001,
          0.116,
          0.0799999999999999,
          0.0799999999999999,
          0.0553333333333333,
          0.0581333333333333,
          0.0597333333333333,
          0.0605333333333333,
          0.0573333333333333,
          0.0625333333333333,
          0.0633333333333333,
          0.0613333333333333,
          0.0665333333333333,
          0.0653333333333333,
          0.0693333333333333,
          0.0733333333333333,
          0.0853333333333333,
          0.12,
          0.0933333333333333,
          0.05,
          0.05,
          0.096,
          0.1,
          0.112,
          0.0799999999999999,
          0.12,
          0,
          0,
          0.0013333333333333,
          0,
          0,
          0,
          0.0272,
          0.0336,
          0.0448,
          0.0559999999999999,
          0.0695999999999999,
          0.0735999999999999,
          0.0125,
          0.0831999999999999,
          0.088,
          0.0935999999999999,
          0.0992,
          0.096,
          0.096,
          0.1,
          0.1072,
          0.0249999999999999,
          0.0799999999999999,
          0.0375,
          0.12,
          0,
          0.12,
          0.112,
          0.088,
          0.1,
          0.1,
          0.088,
          0.12,
          0.0719999999999999,
          0.0639999999999999,
          0.0639999999999999,
          0.0599999999999999,
          0.0599999999999999,
          0.0599999999999999,
          0.048,
          0.0799999999999999,
          0.0799999999999999,
          0.04,
          0.04,
          0.0399999999999999,
          0.0799999999999999,
          0.12,
          0.0399999999999999,
          0,
          0.0249999999999999,
          0.0125,
          0,
          0,
          0,
          0.1,
          0,
          0,
          0,
          0,
          0,
          0,
          0,
          0,
          0.1428571428571428,
          0,
          0,
          0,
          0.01,
          0.025,
          0.0973333333333333,
          0.0499999999999999,
          0.06,
          0.04,
          0.016,
          0.02,
          0.0294117647058823,
          0,
          0.1106666666666666,
          0.1266666666666666,
          0.1046666666666666,
          0.1066666666666666,
          0.0806666666666666,
          0.0571428571428571,
          0.1,
          0.0999999999999999,
          0.1,
          0,
          0.0106666666666667,
          0.0026666666666667,
          0.0333333333333332,
          0.0813333333333333,
          0.1093333333333333,
          0.15,
          0.0666666666666666,
          0.1459999999999999,
          0.002,
          0,
          0.0999999999999999,
          0.15,
          0.1,
          0.0466666666666666,
          0.025,
          0.016,
          0.008,
          0.0133333333333333,
          0.01,
          0.0499999999999999,
          0.15,
          0.0999999999999999,
          0,
          0,
          0,
          0,
          0,
          0,
          0,
          0.0749999999999999,
          0,
          0,
          0,
          0,
          0,
          0,
          0,
          0,
          0,
          0,
          0,
          0,
          0,
          0,
          0,
          0,
          0,
          0,
          0,
          0.0833333333333333,
          0,
          0,
          0,
          0.039,
          0.0088888888888888,
          0.0111111111111111,
          0.0333333333333333,
          0.0133333333333333,
          0.0155555555555555,
          0.0177777777777777,
          0.0199999999999999,
          0.0311111111111111,
          0.0333333333333333,
          0.1,
          0.04,
          0.0666666666666666,
          0.05,
          0.1333333333333333,
          1.6653345369377348e-16,
          0.0066666666666667,
          0.0466666666666666,
          0.1388888888888888,
          0.0999999999999999,
          0.0789473684210526,
          0.1388888888888888,
          0.0256410256410256,
          0.022,
          0.05,
          0.0384615384615384,
          0,
          0.05,
          0.1386666666666666,
          0.1266666666666666,
          0.1159999999999999,
          0.1106666666666666,
          0.1066666666666666,
          0.1066666666666666,
          0.0879999999999999,
          0.0839999999999999,
          0.0866666666666666,
          0.08,
          0.0693333333333333,
          0.0733333333333333,
          0.1333333333333333,
          0.064,
          0.0506666666666666,
          0.0533333333333333,
          0.0533333333333333,
          0.0413333333333333,
          0.028,
          0.0333333333333333,
          0.0213333333333333,
          0.0266666666666666,
          0.0266666666666666,
          0.0133333333333333,
          0.0059999999999999,
          0.0666666666666667,
          0.001076923076923,
          0.0023076923076923,
          0.0024615384615384,
          0.0099999999999999,
          0.0113846153846153,
          0,
          0,
          0.0107692307692307,
          0,
          0.0015384615384615,
          0,
          0,
          0.0584415584415584,
          0.0499999999999999,
          0.0999999999999999,
          0.0999999999999999,
          0.0499999999999999,
          0,
          0,
          0,
          0,
          0,
          0,
          0.02,
          0.0499999999999999,
          0.0999999999999999,
          0.0999999999999999,
          0.0999999999999999,
          0.0499999999999999,
          0,
          0,
          0,
          0,
          0,
          0,
          0,
          0.1333333333333334,
          0,
          0,
          0.015025041736227,
          0.0166666666666666,
          0.0333333333333333,
          0,
          0.0066666666666666,
          0.02,
          0.0466666666666666,
          0.0333333333333333,
          0.0333333333333333,
          0.0666666666666666,
          0.0049999999999999,
          0.0166666666666666,
          0.0499999999999999,
          0.0333333333333333,
          0.0666666666666666,
          0.1,
          0.05,
          0.0333333333333333,
          0.076,
          0.0833333333333333,
          0.0666666666666666,
          0.0666666666666666,
          0.0666666666666666,
          0.1,
          0.0833333333333333,
          0.1,
          0.05,
          0.05,
          0.0666666666666666,
          0.0666666666666666,
          0.0166666666666666,
          0.0166666666666666,
          0.0333333333333333,
          0.0333333333333333,
          0.0333333333333333,
          0,
          0.0833333333333333,
          0.075,
          0.1,
          0.06,
          0.05,
          0.0666666666666666,
          0,
          0.0333333333333333,
          0.0066666666666666,
          0.0116666666666666,
          0.0133333333333333,
          0.02,
          0.0266666666666666,
          0.0333333333333333,
          0,
          0.0033333333333333,
          0.0066666666666666,
          0.0133333333333333,
          0.02,
          0.0266666666666666,
          0.04,
          0.0466666666666666,
          0.0533333333333333,
          0.0333333333333333,
          0.0333333333333333,
          0.0183333333333333,
          0.0166666666666666,
          0.04,
          0.0433333333333333,
          0.0466666666666668,
          0.05,
          0.0633333333333333,
          0.0333333333333333,
          0.0699999999999999,
          0.0733333333333335,
          0.0766666666666666,
          0.0833333333333333,
          0.0866666666666666,
          0.0666666666666666,
          0.05,
          0.0833333333333333,
          0.1,
          0.0833333333333333,
          0.0833333333333333,
          0.1,
          0.05,
          0.05,
          0.0666666666666666,
          0.0666666666666666,
          0.0233333333333333,
          0.0166666666666666,
          0.0166666666666666,
          0.01,
          0.0333333333333333,
          0.0333333333333333,
          0,
          0.0066666666666666,
          0.0166666666666666,
          0.02,
          0.0233333333333333,
          0.0266666666666666,
          0,
          0.0266666666666666,
          0.0533333333333333,
          0.0333333333333333,
          0.0833333333333333,
          0.1,
          0.0533333333333333,
          0.0666666666666666,
          0,
          0.0066666666666666,
          0.0333333333333333,
          0.0666666666666666,
          0.1,
          0.1,
          0.0599999999999999,
          0.0666666666666666,
          0.02,
          0.0066666666666666,
          0.0333333333333333,
          0.0333333333333333,
          0.0166666666666666,
          0.05,
          0.0333333333333333,
          0.0833333333333333,
          0.0666666666666666,
          0.0166666666666666,
          0.05,
          0.0833333333333333,
          0.05,
          0.1,
          0.0333333333333333,
          0,
          0,
          0,
          0,
          0,
          0,
          0,
          0,
          0,
          0.0003333333333333,
          0.0006666666666666,
          0.001,
          0,
          0.0066666666666666,
          0.0133333333333333,
          0.02,
          0.0666666666666666,
          0.0399999999999999,
          0.0066666666666666,
          0.0133333333333333,
          0.02,
          0.0026666666666666,
          0.0073333333333333,
          0.012,
          0.02,
          0.0333333333333333,
          0.0666666666666666,
          0.1333333333333333,
          0.0499999999999999,
          0.0999999999999999,
          0.075,
          0.0499999999999999,
          0.0999999999999999,
          0.075,
          0.025,
          0.0499999999999999,
          0.002,
          0.004,
          0.008,
          0.0066666666666666,
          0.02,
          0.0333333333333333,
          0.0666666666666666,
          0.0499999999999999,
          0.0999999999999999,
          0,
          0.0499999999999999,
          0.0999999999999999,
          0.0133333333333333,
          0.04,
          0.08,
          0,
          0,
          0,
          0,
          0.0909090909090909,
          0,
          0.0333333333333333,
          0.0466666666666666,
          0.0533333333333333,
          0.0733333333333333,
          0.1,
          0.0666666666666666,
          0.1333333333333333,
          0.0999999999999999,
          0.0499999999999999,
          0.0499999999999999,
          0,
          0,
          0,
          0.0666666666666666,
          0,
          0.0384615384615384,
          0.1481481481481481,
          0.0952380952380952,
          0.1,
          0.08,
          0.1333333333333333,
          0.1333333333333333,
          0.1333333333333333,
          0.1333333333333333,
          0.0459770114942528,
          0.0466666666666666,
          0.04,
          0.0333333333333333,
          0.0333333333333333,
          0.0333333333333333,
          0.0333333333333333,
          0.0266666666666666,
          0.02,
          0.0089485458612975,
          0.008,
          0.0133333333333333,
          0.0133333333333333,
          0.0066666666666666,
          0.0066666666666666,
          0.0066666666666666,
          0.0066666666666666,
          0.0666666666666666,
          0.0666666666666666,
          0.0666666666666666,
          0.0666666666666666,
          0.0266666666666666,
          0,
          0.1481481481481481,
          0.0800942285041225,
          0.0751173708920188,
          0.0459770114942528,
          0,
          0,
          0,
          0,
          0,
          0,
          0.0999999999999999,
          0,
          0,
          0.0066666666666666,
          0.0266666666666666,
          0.0333333333333333,
          0,
          0.1336593317033415,
          0,
          0,
          0,
          0.0244444444444444,
          0.0297777777777777,
          0.0355555555555555,
          0.0377777777777777,
          0.0415555555555555,
          0.0555555555555555,
          0.0644444444444444,
          0.0622222222222222,
          0.0622222222222224,
          0.06,
          0.0533333333333333,
          0.0466666666666666,
          0.0266666666666668,
          0.0444444444444444,
          0.0199999999999999,
          0.0111111111111111,
          0.0066666666666666,
          0.0044444444444444,
          0.0222222222222222,
          0,
          0,
          0,
          0.0022222222222222,
          0.0222222222222222,
          0.0666666666666666,
          0.0622222222222222,
          0,
          0.0222222222222222,
          0,
          0.0222222222222222,
          0.0444444444444444,
          0.0666666666666666,
          0,
          0.0555555555555555,
          0,
          0,
          0,
          0,
          0.0555555555555555,
          0,
          0,
          0,
          0,
          0,
          0,
          0,
          0.0571428571428571,
          0.0857142857142857,
          0.0857142857142857,
          0.0857142857142857,
          0.0857142857142857,
          0.0571428571428571,
          0.0285714285714285,
          0.0285714285714285,
          0.0142857142857142,
          0.0285714285714285,
          0.0285714285714285,
          0.0571428571428571,
          0,
          0,
          0,
          0,
          0,
          0,
          0,
          0.02,
          0.0188571428571428,
          0.0214285714285714,
          0.0299999999999999,
          0.0222857142857142,
          0.0268571428571428,
          0.0271428571428571,
          0.0277142857142857,
          0.0282857142857142,
          0.0291428571428571,
          0.0294285714285714,
          0.0299999999999999,
          0.0328571428571428,
          0.0331428571428571,
          0.0337142857142857,
          0.0339999999999999,
          0.0351428571428571,
          0.0385714285714285,
          0.0371428571428571,
          0.017046004842615,
          0.0405714285714285,
          0.0123671497584539,
          0.0442857142857142,
          0.0448571428571428,
          0.0428571428571428,
          0.05,
          0.0505714285714285,
          0.0485714285714285,
          0.0514285714285714,
          0.0568571428571428,
          0.0573333333333333,
          0.0285714285714285,
          0.0499999999999999,
          0.0399999999999999,
          0.0622857142857142,
          0.0711428571428571,
          0.0685714285714285,
          0.0714285714285714,
          0.0013333333333333,
          0.0026666666666666,
          0.0066666666666666,
          0.0857142857142857,
          0.0666666666666666,
          0.0886666666666666,
          0.0866666666666666,
          0.0786666666666666,
          0.1066666666666666,
          0.0626666666666666,
          0.0586666666666666,
          0.0498666666666666,
          0.0506666666666666,
          0.0454666666666666,
          0.0438666666666666,
          0.0466666666666666,
          0.0366666666666666,
          0.0386666666666666,
          0.0330666666666666,
          0.0286666666666666,
          0.0306666666666666,
          0.0666666666666666,
          0.0214666666666666,
          0.0226666666666666,
          0.0166666666666666,
          0.0126666666666666,
          0.0146666666666666,
          0.0090666666666666,
          0.0106666666666666,
          0.0066666666666666,
          0.0026666666666666,
          0.0833333333333333,
          0.092,
          0.12,
          0.1,
          0.05,
          0.05,
          0.04,
          0.0666666666666666,
          0.0666666666666666,
          0.0166666666666666,
          0.0166666666666666,
          0.0166666666666666,
          0.0133333333333333,
          0.0399999999999999,
          0.0399999999999999,
          0.0333333333333333,
          0.0333333333333333,
          0.0333333333333333,
          0,
          0,
          0.0373333333333333,
          0.032,
          0.0293333333333333,
          0.0461538461538461,
          0.0461538461538461,
          0.04,
          0.023076923076923,
          0.0173333333333333,
          0.0307692307692307,
          0.0266666666666666,
          0.0266666666666666,
          0.0266666666666666,
          0.0266666666666666,
          0.0098666666666666,
          0.0037333333333333,
          0.0026666666666666,
          0.0133333333333333,
          0.0153846153846153,
          0.016,
          0.0142857142857142,
          0.0133333333333333,
          0.0133333333333333,
          0.06,
          0.06,
          0.068,
          0.068,
          0.0399999999999999,
          0.0399999999999999,
          0.088,
          0.088,
          0,
          0.0799999999999999,
          0.0799999999999999,
          0.12,
          0.12,
          0,
          0,
          0.1333333333333333,
          0.0968122786304604,
          0.0225988700564971,
          0,
          0.1466666666666666,
          0,
          0,
          0.0799999999999999,
          0,
          0,
          0,
          0,
          0,
          0,
          0,
          0.1,
          0.1,
          0.06,
          0.06,
          0.0799999999999999,
          0.0799999999999999,
          0.1333333333333333,
          0,
          0,
          0.1,
          0.0666666666666666,
          0,
          0,
          0,
          0.0789473684210526,
          0,
          0,
          0.0013333333333333,
          0.0013333333333333,
          0.0013333333333333,
          0.0013333333333333,
          0.0033333333333333,
          0.0026666666666666,
          0.004,
          0.004,
          0.004,
          0.004,
          0.0066666666666666,
          0.0066666666666666,
          0.0066666666666666,
          0.0066666666666666,
          0.0099999999999999,
          0.0093333333333333,
          0.0093333333333333,
          0.016,
          0.02,
          0.02,
          0.0153846153846153,
          0.0133333333333333,
          0.0133333333333333,
          0.0333333333333333,
          0.0433333333333333,
          0.0466666666666666,
          0.0333333333333333,
          0.0307692307692307,
          0.0266666666666666,
          0.0266666666666666,
          0.04,
          0.0461538461538461,
          0.0461538461538461,
          0.043097643097643,
          0.0266666666666666,
          0.0307692307692307,
          0.0307692307692307,
          0.0307692307692307,
          0.0133333333333333,
          0.0153846153846153,
          0.0153846153846153,
          0.0153846153846153,
          0.0026666666666666,
          0.0066225165562914,
          0.0082644628099173,
          0.010717230008244,
          0.0115321252059307,
          0.0131578947368421,
          0.0155865463494667,
          0.0171990171990171,
          0.0180032733224222,
          0.0196078431372549,
          0.02200488997555,
          0.024390243902439,
          0.0251827782290819,
          0,
          0.0659340659340659,
          0.01875,
          0.0249999999999999,
          0.0124999999999999,
          0,
          0.0153846153846153,
          0.0454545454545454,
          0.0307692307692307,
          0.0461538461538461,
          0.0133333333333333,
          0.024,
          0.0221518987341771,
          0.0012484394506866,
          0.0024937655860348,
          0.0031152647975078,
          0.0039840637450199,
          0.004108054276111,
          0.0055935363579863,
          0.0058406859699266,
          0.006087712759349,
          0.0062111801242235,
          0.0064580228514654,
          0.0068280571073866,
          0.0071978158351948,
          0.0074441687344912,
          0.0081824944210265,
          0.0100235119415914,
          0.0105132962275819,
          0.0118577075098814,
          0.0119797455847845,
          0.0124675965930132,
          0.0127113414784647,
          0.012954966070327,
          0.0133201776023679,
          0.0144141924356289,
          0.0184049079754601,
          0.0196078431372549,
          0.01984807645185,
          0.0208078335373316,
          0.02200488997555,
          0.024390243902439,
          0.02557856272838,
          0.0267639902676398,
          0.0338164251207729,
          0.0361445783132529,
          0.0373044524669073,
          0.040767386091127,
          0.044205495818399,
          0.0464839094159713,
          0.0458793542905692,
          0,
          0.0008256956485839,
          0.0024725954009725,
          0.0041135335252982,
          0.0046046572819365,
          0.0065638332786347,
          0.0098103335513407,
          0.0130335614206581,
          0.0154358599398814,
          0,
          0.0153846153846153,
          0.0461538461538461,
          0.023076923076923,
          0.0307692307692307,
          0.0116923076923076,
          0.0046153846153846,
          0,
          0.0153846153846153,
          0.0307692307692307,
          0.0461538461538461,
          0.0307692307692307,
          0.0153846153846153,
          0,
          0.0347238967928623,
          0.0153846153846153,
          0.0461538461538461,
          0.023076923076923,
          0.0307692307692307,
          0.0119999999999999,
          0.0046153846153846,
          0,
          0,
          0.0153846153846153,
          0.0461538461538461,
          0.0307692307692307,
          0.0307692307692307,
          0.0153846153846153,
          0,
          0.0153846153846153,
          0.0461538461538461,
          0.023076923076923,
          0.0307692307692307,
          0,
          0.0461538461538461,
          0.023076923076923,
          0.0307692307692307,
          0.0123076923076923,
          0.0046153846153846,
          0.02,
          0.024,
          0.0153846153846153,
          0.0307692307692307,
          0.0107692307692307,
          0,
          0,
          0.0153846153846153,
          0,
          0.0461538461538461,
          0.0307692307692307,
          0.0153846153846153,
          0,
          0.0333333333333333,
          0.0333333333333333,
          0.0266666666666666,
          0.0066666666666666,
          0.0133333333333333,
          0.0266666666666666,
          0,
          0,
          0.0066666666666666,
          0.02,
          0.0133333333333333,
          0.0266666666666666,
          0.04,
          0.0355555555555555,
          0.0222222222222222,
          0.0088888888888888,
          0.0066666666666666,
          0.0133333333333333,
          0.0266666666666666,
          0,
          0.0133333333333333,
          0,
          0,
          0,
          0,
          0.0340989303361025,
          0.0337667272875328,
          0,
          0,
          0,
          0.0018120286726889,
          0,
          0,
          0.037037037037037,
          0,
          0.005,
          0.12,
          0.0933333333333333,
          0,
          0.001,
          0.0012857142857142,
          0.0024285714285714,
          0.0025714285714285,
          0.0027142857142857,
          0.0014285714285714,
          0.0031428571428571,
          0.0037142857142857,
          0.005,
          0.0054285714285714,
          0.0042857142857142,
          0.0061428571428571,
          0.0064285714285714,
          0.0065714285714285,
          0.0074285714285714,
          0.0085714285714285,
          0,
          0.0109890109890109,
          0,
          0.0260869565217391,
          0,
          0.0043478260869565,
          0.0043478260869565,
          0.0008695652173913,
          0,
          0,
          0,
          0,
          0,
          0,
          0,
          0.0125,
          0.075,
          0.0999999999999999,
          0.02,
          0,
          0.0193333333333333,
          0.0133333333333333,
          0.1,
          0.1,
          0.12,
          0.1499999999999999,
          0.1399999999999999,
          0,
          0,
          0.1333333333333333,
          0,
          0.02,
          0.0339999999999999,
          0.0599999999999999,
          0.04,
          0.04,
          0.0799999999999999,
          0.12,
          0,
          0,
          0.04,
          0.031578947368421,
          0.0470588235294117,
          0.1,
          0.02,
          0.0133333333333333,
          0,
          0.0133333333333333,
          0.0266666666666666,
          0,
          0,
          0,
          0,
          0.0799999999999999,
          0.0399999999999999,
          0.1,
          0.12,
          0.02,
          0.0399999999999999,
          0,
          0.0399999999999999,
          0.0799999999999999,
          0.0799999999999999,
          0.12,
          0,
          0.0666666666666667,
          0.0399999999999999,
          0.1,
          0.06,
          0.0799999999999999,
          0.0399999999999999,
          0,
          0,
          0.12,
          0.12,
          0.06,
          0.0799999999999999,
          0.0799999999999999,
          0.0799999999999999,
          0,
          0,
          0,
          0,
          0,
          0,
          0,
          0,
          0,
          0,
          0,
          0,
          0,
          0,
          0,
          0,
          0,
          0,
          0,
          0,
          0,
          0.0333333333333333,
          0.0333333333333333,
          0.04,
          0.0375,
          0.02,
          0.0266666666666666,
          0.0266666666666666,
          0.0249999999999999,
          0.0266666666666666,
          0.0106666666666666,
          0.0066666666666666,
          0.0066666666666666,
          0.0133333333333333,
          0.0133333333333333,
          0.0133333333333333,
          0.0124999999999999,
          0.0133333333333333,
          0.0064,
          0.0053333333333333,
          0.004,
          0.0016,
          0.0026666666666666,
          0.0026666666666666,
          0.0013333333333333,
          0.0142063001852996,
          0,
          0,
          0.0061810154525386,
          0.0067946172512684,
          0.0072849142302773,
          0.0074074074074073,
          0.008630559225011,
          0.0098504837291117,
          0.0104592397275324,
          0.0116743471582181,
          0.0119169847746918,
          0.0119776242184929,
          0.0120382556813196,
          0.0120988791647473,
          0.0121594946703513,
          0.0122201021997061,
          0.0128862590401052,
          0.0130072749583661,
          0.0130980160164765,
          0.013128259059638,
          0.0132492113564668,
          0.0133701318613922,
          0.0137327027500438,
          0.0141553410806906,
          0.0143363528948404,
          0.0149994533726904,
          0.0151801329136061,
          0.0156615976227932,
          0.0165029469548133,
          0.0166230137943076,
          0.0175824175824175,
          0.0177620822706167,
          0.0178818195688658,
          0.0183006535947712,
          0.0200317481027247,
          0.0226457642186517,
          0.025892316999395,
          0.0140346269179416,
          0.0436363636363636,
          0.0545454545454545,
          0,
          0.0073776539060578,
          0.0106183125051049,
          0.0114248408682878,
          0.0130335614206581,
          0.0142363229611551,
          0.0146365262644332,
          0.028809218950064,
          0.0399999999999999,
          0.0799999999999999,
          0,
          0,
          0,
          0,
          0,
          0,
          0,
          0,
          0,
          0,
          0,
          0,
          0,
          0.025,
          0.0499999999999999,
          0.0833333333333333,
          0.1428571428571428,
          0.1071428571428571,
          0,
          0,
          0.1,
          0,
          0,
          0,
          0.0077134986225895,
          0.1,
          0,
          0,
          0.0833333333333333,
          0.0833333333333333,
          0.0833333333333333,
          0,
          0.0833333333333333,
          0.0833333333333333,
          0,
          0,
          0,
          0.0714285714285714,
          0.0857142857142857,
          0.05,
          0.0428571428571428,
          0.0571428571428571,
          0,
          0.026,
          0.0999999999999999,
          0.15,
          0.0751173708920188,
          0.08,
          0.1333333333333333,
          0.1,
          0.1129032258064516,
          0.0625,
          0.0228426395939086,
          0,
          0.0195121951219512,
          0.1057569296375266,
          0.1428571428571428,
          0.0706806282722513,
          0.0822510822510822,
          0.0584415584415584,
          0.0306563391765185,
          0.0243654822335025,
          0.0362694300518134,
          0.0112789526686807,
          0.0073940124573035,
          0.0070711128967457,
          0.0152284263959391,
          0.0080645161290322,
          0.0075566750629723,
          0.0065425264217413,
          0.0449799196787149,
          0.0064257028112448,
          0.0101010101010101,
          0.1226452905811623,
          0.0050251256281407,
          0.0999999999999999,
          0.0526315789473684,
          0.0384615384615384,
          0,
          0.051063829787234,
          0.051063829787234,
          0.0695652173913043,
          0.0163265306122449,
          0.0163265306122449,
          0.1085271317829457,
          0.0799999999999999,
          0.0112994350282486,
          0,
          0.0199999999999999,
          0.04,
          0.08,
          0.0119999999999999,
          0.024,
          0.0359999999999999,
          0.0970017636684303,
          0.0555555555555555,
          0.0666666666666666,
          0.0003999999999999,
          0.0019999999999999,
          0.006,
          0.0039999999999999,
          0.0099999999999999,
          0.008,
          0.0131999999999999,
          0.0199999999999999,
          0.04,
          0.08,
          0.1199999999999999,
          0,
          0,
          0.05,
          0.15,
          0.0999999999999999,
          0.0999999999999999,
          0,
          0,
          0.0999999999999999,
          0.0999999999999999,
          0,
          0,
          0.12,
          0.06,
          0.0799999999999999,
          0.0399999999999999,
          0.1199999999999999,
          0.08,
          0.0263999999999999,
          0.0132000000000002,
          0.008,
          0.0019999999999999,
          0.0039999999999999,
          0.04,
          0,
          0.05,
          0.15,
          0.0999999999999999,
          0.01,
          0.0999999999999999,
          0.0999999999999999,
          0,
          0,
          0.0999999999999999,
          0.0999999999999999,
          0,
          0.0833333333333333,
          0.15,
          0.15,
          0.1333333333333333,
          0.05,
          0.05,
          0.05,
          0.05,
          0.05,
          0.0999999999999999,
          0.0999999999999999,
          0.0999999999999999,
          0.0999999999999999,
          0.0999999999999999,
          0.0999999999999999,
          0,
          0,
          0.0999999999999999,
          0.0999999999999999,
          0,
          0,
          0.0999999999999999,
          0,
          0,
          0,
          0,
          0,
          0,
          0,
          0.05,
          0.0999999999999999,
          0.0999999999999999,
          0,
          0.0999999999999999,
          0,
          0,
          0,
          0,
          0,
          0,
          0.0666666666666666,
          0.1333333333333333,
          0.0833333333333333,
          0,
          0.025,
          0.075,
          0.0499999999999999,
          0.125,
          0.0999999999999999,
          0,
          0.125,
          0.15,
          0.075,
          0.0999999999999999,
          0.0999999999999999,
          0.025,
          0.0499999999999999,
          0.0499999999999999,
          0,
          0,
          0.1333333333333334,
          0,
          0,
          0.0499999999999999,
          0.0999999999999999,
          0.15,
          0.02,
          0.0399999999999999,
          0,
          0.0599999999999999,
          0.1266666666666666,
          0.1333333333333334,
          0.04,
          0.0799999999999999,
          0.0799999999999999,
          0,
          0.0799999999999999,
          0.0799999999999999,
          0,
          0,
          0,
          0,
          0,
          0,
          0.0024420024420024,
          0,
          0,
          0,
          0.0185714285714285,
          0.0214285714285714,
          0.0299999999999999,
          0.0228571428571428,
          0.0257142857142857,
          0.0322857142857142,
          0.0328571428571428,
          0.0314285714285714,
          0.0357142857142857,
          0.0342857142857143,
          0.0371428571428571,
          0.0399999999999999,
          0.0428571428571428,
          0.01875,
          0.0457142857142857,
          0.0485714285714285,
          0.0485714285714285,
          0.0514285714285714,
          0.0542857142857142,
          0.0285714285714285,
          0.0142857142857142,
          0.0499999999999999,
          0.0384615384615384,
          0.0571428571428571,
          0.0307692307692307,
          0.023076923076923,
          0.0175,
          0.0137499999999999,
          0.0666666666666666,
          0.0461538461538461,
          0.12,
          0.00375,
          0.0153846153846153,
          0,
          0,
          0.0384615384615384,
          0.0307692307692307,
          0.0307692307692307,
          0.0307692307692307,
          0.0153846153846153,
          0.0714285714285714,
          0.0685714285714285,
          0.0857142857142857,
          0.0857142857142857,
          0.0542857142857144,
          0.05,
          0.0514285714285714,
          0.0448571428571428,
          0.0457142857142857,
          0.0428571428571428,
          0.0312825860271115,
          0.038,
          0.0314285714285714,
          0.0571428571428571,
          0.0571428571428571,
          0.042016806722689,
          0.0285714285714285,
          0.0207039337474119,
          0.0246153846153846,
          0.0461538461538461,
          0,
          0.0384615384615384,
          0,
          0,
          0,
          0,
          0,
          0,
          0,
          0,
          0.0999999999999999,
          0,
          0,
          0.0432835820895522,
          0,
          0.0229885057471264,
          0.0416666666666667,
          0,
          0,
          0.02,
          0,
          0,
          0,
          0,
          0,
          0,
          0,
          0,
          0,
          0,
          0,
          0.003,
          0.0266666666666666,
          0.04,
          0.1,
          0.1399999999999999,
          0.0499999999999999,
          0.0666666666666666,
          0.1333333333333333,
          0,
          0.1,
          0.1,
          0,
          0,
          0,
          0,
          0,
          0.0065520065520065,
          0.0006666666666666,
          0.008,
          0.0145,
          0.0028571428571428,
          0.01,
          0.0209999999999999,
          0.0114285714285714,
          0.02,
          0.026,
          0.027,
          0.0058823529411764,
          0.0058823529411764,
          0.0333333333333333,
          0.0304999999999999,
          0.0182857142857142,
          0.03,
          0.0375,
          0.0384999999999999,
          0.008235294117647,
          0.0099999999999999,
          0.0259999999999999,
          0.0257142857142857,
          0.0257142857142857,
          0.0299999999999999,
          0.0311428571428571,
          0.0314285714285714,
          0.0342857142857143,
          0.0342857142857143,
          0.06,
          0.0385714285714285,
          0.0371428571428571,
          0.0371428571428571,
          0.0408571428571428,
          0.0399999999999999,
          0.0399999999999999,
          0.0399999999999999,
          0.0164705882352941,
          0.0437142857142857,
          0.0445714285714285,
          0.0428571428571428,
          0.0428571428571428,
          0.0428571428571428,
          0.0428571428571428,
          0.0428571428571428,
          0.1,
          0.0457142857142857,
          0.0511428571428571,
          0.0485714285714285,
          0.0485714285714285,
          0.0117647058823529,
          0.0117647058823529,
          0.0666666666666666,
          0.1049999999999999,
          0.0294117647058823,
          0.1466666666666666,
          0.0571428571428571,
          0.0571428571428571,
          0.0235294117647058,
          0.1333333333333333,
          0.0666666666666666,
          0.0266666666666666,
          0,
          0,
          0.1,
          0.0666666666666666,
          0.0352941176470588,
          0.1333333333333333,
          0.0465714285714285,
          0.1066666666666666,
          0.0428571428571428,
          0.0428571428571428,
          0.1,
          0.0933333333333333,
          0.0357142857142857,
          0.0357142857142857,
          0.08,
          0.0571428571428571,
          0.0235294117647058,
          0.1333333333333333,
          0.1333333333333333,
          0.1333333333333333,
          0.0239999999999999,
          0.0599999999999999,
          0.0214285714285714,
          0.0466666666666666,
          0.04,
          0.0142857142857142,
          0.0142857142857142,
          0.0142857142857142,
          0.0333333333333333,
          0.01,
          0.02,
          0.02,
          0.006,
          0.0037142857142857,
          0.0057142857142857,
          0.0057142857142857,
          0.008,
          0.008,
          0.004,
          0.0285714285714285,
          0.0285714285714285,
          0.0285714285714285,
          0.0666666666666666,
          0.0666666666666666,
          0,
          0.0066666666666666,
          0.02,
          0.0333333333333333,
          0.0466666666666666,
          0.0714285714285714,
          0.0799999999999999,
          0.0828571428571428,
          0.0657142857142857,
          0.0857142857142857,
          0.0857142857142857,
          0.0857142857142857,
          0.0357142857142857,
          0.0371428571428571,
          0.0571428571428571,
          0.0571428571428571,
          0.0571428571428571,
          0.0214285714285714,
          0.0199999999999999,
          0.0142857142857142,
          0.0285714285714285,
          0.0350877192982456,
          0.1333333333333333,
          0.0112994350282486,
          0.0666666666666667,
          0,
          0,
          0,
          0.008,
          0.016,
          0.032,
          0.048,
          0.04,
          0.0799999999999999,
          0.12,
          0,
          0,
          0.012,
          0.024,
          0.0399999999999999,
          0,
          0,
          0,
          0,
          0.0285714285714285,
          0.0714285714285714,
          0.0714285714285714,
          0.0857142857142857,
          0.0571428571428571,
          0.0125714285714287,
          0.0062857142857142,
          0.0037142857142857,
          0.0285714285714285,
          0,
          0,
          0,
          0,
          0,
          0,
          0,
          0.0666666666666667,
          0.1333333333333333,
          0,
          0,
          0,
          0,
          0,
          0,
          0,
          0,
          0,
          0,
          0.1481481481481481,
          0.1481481481481481,
          0.0909090909090909,
          0.0867924528301887,
          0.0292682926829268,
          0.02370820668693,
          0.1210592686002522,
          0.114630467571644,
          0.0707790611943966,
          0.0646741793238608,
          0.0525803310613437,
          0.0465906333414219,
          0.0406386066763426,
          0.0237341772151898,
          0,
          0.0666666666666666,
          0.0666666666666666,
          0.0666666666666666,
          0.0014285714285714,
          0.0104999999999999,
          0.0057142857142857,
          0.01,
          0.01,
          0.05,
          0.025,
          0.024,
          0.02,
          0.0499999999999999,
          0.1,
          0.0999999999999999,
          0.0999999999999999,
          0.0499999999999999,
          0.1094999999999999,
          0.08,
          0.005,
          0.0210526315789473,
          0.1333333333333333,
          0.0666666666666666,
          0.12,
          0,
          0,
          0,
          0,
          0.0666666666666666,
          0,
          0.1333333333333333,
          0.1,
          0.1,
          0.1,
          0.1333333333333333,
          0.0571428571428571,
          0.1333333333333333,
          0.1333333333333333,
          0.0228571428571428,
          0.0171428571428571,
          0.0333333333333333,
          0.0333333333333333,
          0.0114285714285714,
          0.0666666666666666,
          0.0285714285714285,
          0.0666666666666666,
          0.0285714285714285,
          0.0666666666666666,
          0.0571428571428571,
          0.0571428571428571,
          0.0142857142857142,
          0.0142857142857142,
          0.0057142857142857,
          0.0057142857142857,
          0.0057142857142857,
          0.0028571428571428,
          0.0028571428571428,
          0.0028571428571428,
          0.0285714285714285,
          0.0336134453781512,
          0.0285714285714285,
          0.0285714285714285,
          0.0533333333333333,
          0.04,
          0.0266666666666666,
          0.0133333333333333,
          0.0666666666666666,
          0,
          0,
          0,
          0,
          0,
          0.0833333333333333,
          0,
          0,
          0,
          0,
          0,
          0,
          0,
          0,
          0,
          0.08,
          0.1066666666666666,
          0,
          0.0409333333333333,
          0.0333333333333333,
          0,
          0.1428571428571428,
          0,
          0,
          0,
          0.125,
          0.0666666666666666,
          0.0666666666666667,
          0.0022857142857142,
          0.01,
          0.03,
          0.0959999999999999,
          0.0222222222222222,
          0.1005,
          0,
          0,
          0.06,
          0.0444444444444444,
          0.0571428571428571,
          0.1499999999999999,
          0.048,
          0.04,
          0.1399999999999999,
          0,
          0.06,
          0.06,
          0.06,
          0,
          0.1,
          0.1,
          0.1399999999999999,
          0.1,
          0.1,
          0.025,
          0.0499999999999999,
          0,
          0,
          0,
          0.1,
          0,
          0,
          0.0631540297411419,
          0.045099108928896,
          0.0361990950226243,
          0.0056980056980057,
          0.0143112701252235,
          0,
          0,
          0.008,
          0.01,
          0.0159999999999999,
          0.0257142857142857,
          0.0199999999999999,
          0.005,
          0.0399999999999999,
          0.0714285714285714,
          0.072,
          0.0628571428571428,
          0.0857142857142857,
          0.1299999999999999,
          0.12,
          0.12,
          0.12,
          0.1499999999999999,
          0.1399999999999999,
          0.0571428571428571,
          0.0333333333333333,
          0.0444444444444444,
          0.0571428571428571,
          0.0142857142857142,
          0,
          0.0499999999999999,
          0.0185714285714285,
          0.0228571428571428,
          0.0571428571428571,
          0.0625,
          0.0642317380352644,
          0.075,
          0.0555555555555555,
          0.0499999999999999,
          0.0444444444444444,
          0,
          0.08,
          0.0751428571428571,
          0.0742857142857142,
          0.0679999999999999,
          0.0677142857142857,
          0.0685714285714285,
          0.0645714285714285,
          0.0642857142857143,
          0.0657142857142857,
          0.0622857142857142,
          0.0577142857142857,
          0.0857142857142857,
          0.0537142857142857,
          0.0508571428571428,
          0.0491428571428571,
          0.0474285714285714,
          0.0468571428571428,
          0.0437142857142857,
          0.0414285714285714,
          0.0428571428571428,
          0.0394285714285714,
          0.0385714285714285,
          0.0377142857142857,
          0.0357142857142857,
          0.0334285714285714,
          0.0328571428571428,
          0.0322857142857142,
          0.032,
          0.0317142857142857,
          0.0299999999999999,
          0.0314285714285714,
          0.0248571428571428,
          0.0245714285714285,
          0.0214285714285714,
          0.0202857142857142,
          0.0197142857142857,
          0.0179999999999999,
          0.02,
          0.0162857142857142,
          0.0157142857142857,
          0.0285714285714285,
          0.0428571428571428,
          0,
          0.0613026819923372,
          0,
          0.0088008800880088,
          0.0006118078923218,
          0.0014668731154754,
          0.0020765895071154,
          0.0026854376042641,
          0.0039005363237445,
          0.0041431414760956,
          0.0042643923240938,
          0.0053541007544414,
          0.0057167183603964,
          0.006079027355623,
          0.0065616266353437,
          0.0075853350189633,
          0.0080061461323844,
          0.0082464225078825,
          0.0084865629420085,
          0.0090863200403836,
          0.0104028063384541,
          0.0112384443415036,
          0.0114768951978253,
          0.0132610006027727,
          0.014446227929374,
          0.0156281306351432,
          0.0374707259953161,
          0,
          0.07,
          0.085,
          0.0949999999999999,
          0.0639658848614072,
          0.0428571428571428,
          0.0428571428571428,
          0.042016806722689,
          0.075,
          0.0499999999999999,
          0.0628571428571428,
          0.0857142857142857,
          0.0142857142857142,
          0.0285714285714285,
          0,
          0,
          0,
          0.1333333333333333,
          0,
          0,
          0,
          0,
          0,
          0.0399999999999999,
          0.0499999999999999,
          0.125,
          0.15,
          0.075,
          0.0999999999999999,
          0.025,
          0.0499999999999999,
          0.0163934426229508,
          0,
          0,
          0,
          0.0071428571428571,
          0.0142857142857142,
          0.0285714285714285,
          0.0348459830325115,
          0.0445996170739948,
          0.0458839406207827,
          0.0257142857142857,
          0.0128571428571428,
          0.0142857142857142,
          0.0028571428571428,
          0.0071428571428571,
          0.0142857142857142,
          0.0142857142857142,
          0.0071428571428571,
          0.0107142857142857,
          0.0285714285714285,
          0.0107142857142857,
          0.0107142857142857,
          0.0071428571428571,
          0.0071428571428571,
          0.0035714285714285,
          0.0042857142857142,
          0.0014285714285714,
          0,
          0,
          0,
          0.1,
          0,
          0,
          0.1333333333333333,
          0,
          0,
          0,
          0.0476190476190475,
          0,
          0.1,
          0.012,
          0.075,
          0.02,
          0.02,
          0.0499999999999999,
          0.0999999999999999,
          0,
          0,
          0.0499999999999999,
          0.0999999999999999,
          0.15,
          0.0499999999999999,
          0.0499999999999999,
          0.0999999999999999,
          0.025,
          0.0499999999999999,
          0,
          0.027828191167574,
          0,
          0,
          0.015,
          0.025,
          0.03,
          0.0399999999999999,
          0.0499999999999999,
          0.0099999999999999,
          0.0333333333333333,
          0.1210592686002522,
          0.02,
          0.03,
          0.025,
          0.0276666666666667,
          0.0674999999999999,
          0.0999999999999999,
          0.1,
          0.0999999999999999,
          0.0666666666666666,
          0.0714285714285714,
          0.1333333333333333,
          0.1333333333333333,
          0.1133333333333333,
          0.0933333333333333,
          0.1333333333333333,
          0.1333333333333333,
          0.0666666666666666,
          0,
          0,
          0.0666666666666666,
          0.0714285714285714,
          0.05,
          0.02,
          0.1366995073891625,
          0,
          0.1120689655172412,
          0.1302325581395348,
          0.098876404494382,
          0.1029345372460496,
          0.1090909090909091,
          0.0849557522123894,
          0.1029345372460496,
          0.0771929824561403,
          0.0733624454148471,
          0.0957494407158835,
          0.0888888888888888,
          0.076595744680851,
          0.0583690987124463,
          0.1297520661157024,
          0.0666666666666665,
          0.0666666666666665,
          0.0666666666666667,
          0.0666666666666666,
          0,
          0,
          0,
          0,
          0,
          0.04,
          0.0899999999999999,
          0.1099999999999999,
          0.12,
          0.0999999999999999,
          0.0999999999999999,
          0,
          0.0999999999999999,
          0,
          0.05,
          0.0749999999999999,
          0.0699999999999999,
          0.13,
          0.0999999999999999,
          0,
          0.1395604395604395,
          0.15,
          0.12,
          0.1099999999999999,
          0.0989010989010989,
          0.0799999999999999,
          0.0699999999999999,
          0.05,
          0.1395604395604395,
          0.111111111111111,
          0.0999999999999999,
          0,
          0,
          0.111111111111111,
          0.0989010989010989,
          0.081081081081081,
          0.0638297872340425,
          0.0416666666666666,
          0.0362694300518134,
          0.0309278350515464,
          0.0101010101010101,
          0.0050251256281407,
          0,
          0,
          0,
          0.04,
          0,
          0.0602150537634408,
          0.0547008547008546,
          0.0638655462184874,
          1.1564823173178715e-16,
          0,
          0,
          0.0666666666666666,
          0.0064,
          0.0279999999999999,
          0.0279999999999999,
          0.012,
          0.02,
          0.02,
          0,
          0,
          0,
          0,
          0,
          0,
          0.1210592686002522,
          0.025,
          0.0449999999999999,
          0.065,
          0.12,
          0.0893300248138957,
          0.0499999999999999,
          0.0499999999999999,
          0.1049999999999999,
          0.08,
          0.056,
          0.034,
          0.028,
          0.01,
          0.006,
          0.002,
          0.006,
          0.01,
          0,
          0.125,
          0,
          0.062,
          0.14,
          0.092,
          0.1,
          0.0999999999999999,
          0.0999999999999999,
          0.1,
          0.12,
          0.1399999999999999,
          0.09,
          0.075,
          0.15,
          0.1,
          0.1,
          0.01,
          1.1102230246251563e-16,
          0.0499999999999999,
          0.0499999999999999,
          0.005,
          0.02,
          0,
          0,
          0,
          0.075,
          0.0499999999999999,
          0.0499999999999999,
          0.125,
          0.1099999999999999,
          0.1034999999999999,
          0.15,
          0.0999999999999999,
          0.0999999999999999,
          0.15,
          0.0999999999999999,
          0.0999999999999999,
          0.1333333333333333,
          0.0314999999999999,
          0.0215,
          0.025,
          0.0005,
          0.0499999999999999,
          0.0499999999999999,
          0.0499999999999999,
          0.0666666666666667,
          0.0499999999999999,
          0,
          0.0666666666666667,
          0.1333333333333333,
          0,
          0.1305,
          0,
          0,
          0.1109999999999999,
          0,
          0.0509999999999999,
          0.1005,
          0,
          0,
          0.075,
          0.0929999999999999,
          0.15,
          0,
          0,
          0.1034999999999999,
          0,
          0,
          0,
          0.036,
          0,
          0,
          0,
          0.0989999999999999,
          0.123,
          0,
          0.0720338983050847,
          0.1451612903225806,
          0.129,
          0.0584999999999999,
          0,
          0.09,
          0.06,
          0.004,
          0.03,
          0,
          0,
          0,
          0,
          0,
          0.0499999999999999,
          0,
          0,
          0.0499999999999999,
          0,
          0,
          0,
          0,
          0,
          0,
          0,
          0.0024999999999999,
          0.0055,
          0.0065,
          0.0144999999999999,
          0.01,
          0.0133333333333333,
          0.01,
          0.0184999999999999,
          0.02,
          0.0224999999999999,
          0.024,
          0.02,
          0.0266666666666666,
          0.0266666666666666,
          0.0275,
          0.0333333333333333,
          0.025,
          0.0319999999999999,
          0.0334999999999999,
          0.03,
          0.0399999999999999,
          0.0533333333333333,
          0.025,
          0.1399999999999999,
          0.0949999999999999,
          0.0499999999999999,
          0.0499999999999999,
          0.08,
          0.1393442622950819,
          0.04,
          0.04,
          0.135,
          0.04,
          0.08,
          0.0999999999999999,
          0.075,
          0.1,
          0.03,
          0.0499999999999999,
          0,
          0,
          0,
          0.0549999999999999,
          0.0499999999999999,
          0.0325245224574083,
          0.0256410256410256,
          0.0188487009679062,
          0.0121457489878542,
          0,
          0.0966921119592875,
          0.052757793764988,
          0.0450771055753261,
          0.0400471142520612,
          0.0350877192982456,
          0.0476190476190475,
          0.0799999999999999,
          0.032,
          0.016,
          0.016,
          0.008,
          0.0229885057471264,
          0.04,
          0.04,
          0,
          0,
          0,
          0,
          0,
          0,
          0,
          0,
          0,
          0,
          0,
          0,
          0,
          0,
          0,
          0,
          0,
          0,
          0,
          0.0833333333333333,
          0,
          0,
          0,
          0,
          0,
          0,
          0,
          0.0119999999999999,
          0.024,
          0.0599999999999999,
          0.04,
          0.08,
          0,
          0,
          0,
          0,
          0,
          0,
          0,
          0,
          0,
          0,
          0,
          0.0799999999999999,
          0,
          0,
          0.0559999999999999,
          0.0799999999999999,
          0.032,
          0.028,
          0.024,
          0.016,
          0.008,
          0.004,
          0.04,
          0,
          0,
          0,
          0,
          0,
          0,
          0,
          0.0952380952380952,
          0,
          0,
          0,
          0,
          0,
          0,
          0,
          0,
          0,
          0,
          0,
          0.1428571428571428,
          0,
          0,
          0,
          0,
          0,
          0,
          0.1049723756906077,
          0.0946907498631636,
          0.0695187165775401,
          0.0604453870625662,
          0.0319917440660475,
          0.0309278350515464,
          0.0188487009679062,
          0.0178117048346056,
          0.0085728693898134,
          0.0075566750629723,
          0.0025062656641604,
          0.0526315789473684,
          0,
          0.0680345572354211,
          0,
          0.0866666666666666,
          0,
          0.1333333333333333,
          0.0133333333333333,
          0.1333333333333333,
          0.0666666666666666,
          0.04,
          0,
          0,
          0,
          0.15,
          0.0666666666666666,
          0.04,
          0.1333333333333333,
          0.0679999999999999,
          0.1066666666666666,
          0.1399999999999999,
          0.0866666666666666,
          0.0866666666666666,
          0,
          0.1333333333333333,
          0.1333333333333333,
          0.1333333333333333,
          0.0333333333333333,
          0.0333333333333333,
          0.0066666666666666,
          0.0999999999999999,
          0.0666666666666666,
          0.0666666666666666,
          0.0666666666666666,
          0.0666666666666666,
          0,
          0,
          0,
          0.0055304172951231,
          0,
          0,
          0,
          0,
          0,
          0,
          0,
          0,
          0,
          0.0606060606060605,
          0,
          0,
          0,
          0,
          0,
          0.104,
          0.072,
          0,
          0,
          0,
          0.0476190476190475,
          0,
          0,
          0,
          0,
          0,
          0,
          0,
          0,
          0.0444444444444443,
          0.1,
          0.0714285714285714,
          0.0634920634920633,
          0.0499999999999999,
          0,
          0,
          0.021,
          0.025,
          0.044,
          0.04,
          0.051,
          0.05,
          0.0799999999999999,
          0.0989999999999999,
          0.12,
          0.075,
          0.0499999999999999,
          0,
          0,
          0.0999999999999999,
          0.0999999999999999,
          0.1333333333333333,
          0.0333333333333333,
          0.05,
          0.1,
          0.0999999999999999,
          0,
          0,
          0.12,
          0.0368003625651483,
          0,
          0,
          0.06,
          0.1,
          0.1399999999999999,
          0.0989010989010989,
          0.092896174863388,
          0.0695187165775401,
          0.0999999999999999,
          0.1,
          0.0471204188481675,
          0.0256410256410256,
          0,
          0.0074441687344912,
          0.024390243902439,
          0.069767441860465,
          0.0476190476190476,
          0,
          0,
          0,
          0,
          0,
          0,
          0,
          0,
          0,
          0,
          0,
          0,
          0,
          0,
          0,
          0,
          0,
          0.0366666666666666,
          0,
          0,
          0,
          0,
          0,
          0.1428571428571428,
          0,
          0.01,
          0.025,
          0.0666666666666667,
          0.0666666666666667,
          0.06,
          0.02,
          0.1333333333333333,
          0.1333333333333333,
          0.1399999999999999,
          0.1399999999999999,
          0.02,
          0.0714285714285714,
          0,
          0,
          0.0466666666666666,
          0.08,
          0,
          0,
          0,
          0.1,
          0.1,
          0.0666666666666666,
          0.1299999999999999,
          0.1399999999999999,
          0.1,
          0.08,
          0.1333333333333333,
          0.1,
          0.1,
          0.0533333333333333,
          0.0318543799772468,
          0.04,
          0.0333333333333333,
          0.0333333333333333,
          0.0225988700564971,
          0.0266666666666666,
          0.0266666666666666,
          0.02,
          0.02,
          0.0133333333333333,
          0.0066666666666666,
          0.0666666666666666,
          0,
          0.05,
          0.1499999999999999,
          0.1333333333333333,
          0.1333333333333333,
          0.1333333333333333,
          0,
          0,
          0,
          0,
          0,
          0,
          0,
          0,
          0,
          0,
          0,
          0,
          0,
          0,
          0,
          0,
          0.0454545454545454,
          0,
          0,
          0,
          0,
          0,
          0.0714285714285714,
          0,
          0,
          0,
          0,
          0,
          0,
          0,
          0,
          0,
          0,
          0,
          0,
          0.016,
          0.008,
          0.02,
          0,
          0,
          0,
          0,
          0,
          0.1,
          0,
          0,
          0,
          0,
          0,
          0,
          0,
          0,
          0,
          0.0677217519322783,
          0.0273824536119619,
          0,
          0.1333333333333333,
          0.1333333333333333,
          0,
          0,
          0,
          0.0029999999999999,
          0.0023529411764705,
          0.0058823529411764,
          0.03,
          0.03,
          0.0117647058823529,
          0.0666666666666666,
          0.125,
          0.1066666666666666,
          0.0235294117647058,
          0.0352941176470588,
          0.04,
          0.125,
          0.12,
          0.15,
          0.020125786163522,
          0.0533333333333333,
          0.08,
          0.075,
          0.065,
          0.0150537634408603,
          0.0235294117647058,
          0.0999999999999999,
          0.0494999999999999,
          0.0459999999999999,
          0.0599999999999999,
          0.0533333333333333,
          0.0266666666666666,
          0.0399999999999999,
          0.0466666666666666,
          0.0349999999999999,
          0.0074966532797858,
          0.04,
          0.0333333333333333,
          0.025,
          0.05,
          0.019,
          0.0165,
          0.0266666666666666,
          0.02,
          0.0133333333333333,
          0.0133333333333333,
          0.0066666666666666,
          0.0666666666666666,
          0.0499999999999999,
          0.0999999999999999,
          0,
          0,
          0,
          0,
          0,
          0.0666666666666666,
          0.1333333333333333,
          0.0666666666666666,
          0,
          0,
          0,
          0,
          0,
          0,
          0,
          0,
          0,
          0,
          0,
          0,
          0,
          0,
          0.12,
          0,
          0.0789473684210526,
          0,
          0,
          0,
          0,
          0,
          0,
          0,
          0,
          0,
          0,
          0,
          0,
          0,
          0,
          0,
          0,
          0,
          0,
          0,
          0,
          0,
          0,
          0,
          0,
          0,
          0,
          0,
          0,
          0.147,
          0.0857142857142857,
          0.0514285714285714,
          0.0428571428571428,
          0.042,
          0.0449999999999999,
          0,
          0,
          0,
          0.0714285714285714,
          0.0999999999999999,
          0,
          0.1212121212121212,
          0,
          0,
          0,
          0,
          0.0714285714285715,
          0,
          0.1428571428571428,
          0,
          0.1428571428571428,
          0,
          0,
          0,
          0,
          0,
          0,
          0,
          0,
          0,
          0,
          0,
          0.0008681632146843,
          0.0318936877076412,
          0.0248447204968943,
          0.1304347826086956,
          0.0057142857142857,
          0.0099999999999999,
          0.0114285714285714,
          0.0142857142857143,
          0.02,
          0.0228571428571428,
          0.0342857142857143,
          0.0457142857142856,
          0.0285714285714286,
          0,
          0,
          0,
          0,
          0.05,
          0,
          0,
          0,
          0,
          0,
          0,
          0,
          0,
          0,
          0,
          0,
          0,
          0,
          0.0833333333333333,
          0.06,
          0,
          0,
          0,
          0.1333333333333333,
          0.1,
          0.0149999999999999,
          0.1049999999999999,
          0.1499999999999999,
          0,
          0.018,
          0.0149999999999999,
          0.0449999999999999,
          0.1399999999999999,
          0.004,
          0.1049999999999999,
          0.04,
          0,
          0,
          0.06,
          0.06,
          0.1,
          0,
          0.0384615384615384,
          0.1,
          0.0666666666666666,
          0.1,
          0.1,
          0,
          0.04,
          0.1399999999999999,
          0,
          0,
          0,
          0,
          0,
          0.0066666666666667,
          0,
          0.06,
          0,
          0.04,
          0.1299999999999999,
          0.12,
          0.1,
          0,
          0,
          0,
          0,
          0,
          0.1,
          0,
          0,
          0,
          0,
          0,
          0.1,
          0,
          0,
          0,
          0,
          0,
          0,
          0.1428571428571428,
          0,
          0.0285714285714285,
          0,
          0.0133333333333333,
          0.0266666666666666,
          0.04,
          0.04,
          0.0266666666666666,
          0.0133333333333333,
          0,
          0,
          0,
          0,
          0,
          0.0156862745098038,
          0,
          0,
          0,
          0,
          0,
          0,
          0,
          0,
          0.018018018018018,
          0.0933333333333333,
          0.05,
          0.1428571428571428,
          0.1235955056179775,
          0.0989010989010989,
          0.0869565217391304,
          0.13,
          0.0582010582010581,
          0.111111111111111,
          0.111111111111111,
          0.049317943336831,
          0.0416666666666666,
          0.0362694300518134,
          0.02,
          0.002,
          0.0050251256281407,
          0.0050251256281407,
          0.0570926657883178,
          0.15,
          0.0999999999999999,
          0,
          0,
          0,
          0,
          0,
          0,
          0.1111111111111111,
          0.045099108928896,
          0.06,
          0.0230050323508266,
          0.0586080586080585,
          0.0008681632146843,
          0,
          0,
          0.0149999999999999,
          0.1399999999999999,
          0.056,
          0.0686274509803921,
          0.06,
          0.02,
          0.1,
          0.1499999999999999,
          0.12,
          0.1,
          0.06,
          0.04,
          0.1,
          0.1,
          0,
          0,
          0,
          0,
          0.0333333333333332,
          0.0466666666666666,
          0.1333333333333333,
          0.1333333333333333,
          0.08,
          0.1066666666666666,
          0.06,
          0,
          0.08,
          0.1499999999999999,
          0,
          0.1,
          0,
          0,
          0,
          0,
          0,
          0,
          0,
          0,
          0,
          0.05318588730911,
          0,
          0,
          0.0416666666666667,
          0,
          0,
          0,
          0,
          0.125,
          0.1499999999999999,
          0.1499999999999999,
          0.1499999999999999,
          0.1499999999999999,
          0.0749999999999999,
          0.0749999999999999,
          0.0749999999999999,
          0.0749999999999999,
          0.0329999999999999,
          0,
          0,
          0.0571428571428571,
          0.01,
          0.025,
          0.0499999999999999,
          0.15,
          0,
          0,
          0,
          0.075,
          0.01,
          0.025,
          0.0499999999999999,
          0.01,
          0.025,
          0.0499999999999999,
          0.15,
          0.15,
          0.025,
          0.01,
          0.0499999999999999,
          0,
          0.025,
          0.01,
          0.0499999999999999,
          0,
          0,
          0.0499999999999999,
          0.0999999999999999,
          0.15,
          0.15,
          0,
          0,
          0.03,
          0.125,
          0.135,
          0,
          0.0499999999999999,
          0.075,
          0.0499999999999999,
          0,
          0,
          0,
          0,
          0.1,
          0,
          0,
          0,
          0.0117647058823529,
          0.0294117647058823,
          0.0235294117647058,
          0.1333333333333333,
          0.0352941176470588,
          0.1406011207335711,
          0.1275303643724696,
          0.0333333333333333,
          0.1210592686002522,
          0.114630467571644,
          0.0666666666666666,
          0.0666666666666667,
          0.06,
          0.005,
          0.1333333333333333,
          1.6653345369377348e-16,
          0,
          0.06,
          0.04,
          0,
          0,
          0,
          0,
          0,
          0,
          0.08,
          0.06,
          0.02,
          0.1,
          0.04,
          0.0866666666666666,
          0,
          0,
          0,
          0.0666666666666666,
          0.0466666666666666,
          0.0066666666666666,
          0.0633333333333333,
          0.1333333333333333,
          0.1,
          0,
          0.036,
          0.1399999999999999,
          0.1,
          0.1359999999999999,
          0.1,
          0.12,
          0,
          0.02,
          0.1,
          0.12,
          0,
          0,
          0,
          0,
          0,
          0,
          0,
          0,
          0,
          0,
          0.0235294117647058,
          0,
          0,
          0.0999999999999999,
          0.15,
          0.0256410256410256,
          0,
          0,
          0,
          0,
          0.0066666666666666,
          0.0333333333333333,
          0.0666666666666666,
          0,
          0,
          0,
          0,
          0,
          0,
          0,
          0,
          0,
          0,
          0,
          0,
          0,
          0.06,
          0.04,
          0.1399999999999999,
          0,
          0,
          0.015,
          0.014,
          0.013,
          0.011,
          0.008,
          0.004,
          0.01,
          0,
          0.0229885057471264,
          0,
          0,
          0,
          0,
          0,
          0,
          0,
          0,
          0,
          0,
          0,
          0,
          0,
          0,
          0,
          0,
          0,
          0,
          0,
          0,
          0.0015,
          0.0029999999999999,
          0.0044999999999999,
          0.006,
          0.1399999999999999,
          0.12,
          0.02,
          0.02,
          0.1,
          0.0666666666666666,
          0.02,
          0.02,
          0.04,
          0.12,
          0,
          0.0603948896631823,
          0.0333333333333333,
          0.0333333333333333,
          0.0225988700564971,
          0.0666666666666666,
          0.1428571428571428,
          0.0666666666666666,
          0,
          0,
          0,
          0,
          0,
          0,
          0,
          0,
          0,
          0,
          0,
          0,
          0,
          0,
          0.1263157894736842,
          0.1263157894736842,
          0,
          0.0866666666666666,
          0,
          0,
          0,
          0,
          0,
          0.025,
          0.0499999999999999,
          0.125,
          0.125,
          0,
          0.15,
          0.0499999999999999,
          0,
          0,
          0.0466666666666666,
          0.0266666666666666,
          0.0888888888888888,
          0.0133333333333333,
          0.0333333333333333,
          0,
          0,
          0.005,
          0,
          0.0444444444444444,
          0.0363636363636363,
          0.06,
          0,
          0.1,
          0.1399999999999999,
          0.04,
          0,
          0.1266666666666666,
          0,
          0,
          0,
          0,
          0,
          0,
          0,
          0,
          0,
          0.0714285714285714,
          0,
          0.125,
          0.1,
          0,
          0,
          0,
          0,
          0,
          0,
          0,
          0,
          0.0666666666666666,
          0.0123671497584539,
          0.0030769230769231,
          0.0677217519322783,
          0.0631540297411419,
          0.063175669474882,
          0.045099108928896,
          0.0463695183321353,
          0.0936507936507937,
          0.0273824536119619,
          0.0586080586080585,
          0.0014212115828743,
          0,
          0.004,
          0.096,
          0,
          0.0333333333333332,
          0.1333333333333333,
          0.04,
          0.1,
          0,
          0,
          0,
          0,
          0,
          0,
          0,
          0,
          0,
          0,
          0,
          0,
          0,
          0.0666666666666667,
          0.1,
          0.1399999999999999,
          0.0066666666666667,
          0.0533333333333332,
          0.1333333333333333,
          0.06,
          0.0999999999999999,
          0.08,
          0.1333333333333333,
          0.0272108843537415,
          0,
          0,
          0.0727272727272727,
          0,
          0,
          0,
          0,
          0,
          0,
          0,
          0,
          0,
          0,
          0.04,
          0.02,
          0,
          0,
          0,
          0,
          0,
          0,
          0,
          0.0733333333333333,
          0,
          0,
          0,
          0.14,
          0.0789473684210526,
          0,
          0,
          0,
          0,
          0.1499999999999999,
          0.1399999999999999,
          0.11,
          0.096,
          0.1,
          0.07,
          0.08,
          0.05,
          0.06,
          0,
          0.0002857142857142,
          0,
          0,
          0,
          0,
          0,
          0,
          0,
          0,
          0,
          0,
          0,
          0,
          0,
          0,
          0,
          0,
          0,
          0,
          0.1333333333333333,
          0,
          0.0952380952380952,
          0.1333333333333333,
          0.1333333333333333,
          0,
          0,
          0,
          0.0324998790927117,
          0,
          0,
          0.007,
          0,
          0.06,
          0,
          0,
          0,
          0,
          0,
          0,
          0,
          0,
          0,
          0,
          0,
          0,
          0,
          0,
          0,
          0.088,
          0.06,
          0.026,
          0.0999999999999999,
          0.1,
          0.1,
          0.0499999999999999,
          0.0499999999999999,
          0.0999999999999999,
          0,
          0,
          0.0749999999999999,
          0.1499999999999999,
          0.1499999999999999,
          0.0384615384615384,
          0,
          0,
          0,
          0,
          0,
          0.1333333333333333,
          0,
          0,
          0,
          0.0178117048346056,
          0.017293997965412,
          0.0126582278481012,
          0.0121457489878542,
          0.0152284263959391,
          0.0075566750629723,
          0.0101010101010101,
          0.0025062656641604,
          0.0050251256281407,
          0,
          0,
          0,
          0,
          0,
          0.1,
          0,
          0,
          0,
          0,
          0.012,
          0,
          0.0333333333333333,
          0.1,
          0.076,
          0.04,
          0,
          0.1,
          0,
          0,
          0,
          0,
          0,
          0,
          0,
          0,
          0,
          0,
          0,
          0,
          0,
          0.1,
          0.1,
          0,
          0,
          0,
          0.0959999999999999,
          0.008,
          0.032,
          0,
          0,
          0.0333333333333332,
          0,
          0,
          0,
          0.075268817204301,
          0.0471204188481675,
          0.0416666666666666,
          0.0256410256410256,
          0,
          0.0651116625310173,
          0.0143112701252235,
          0,
          0,
          0,
          0.02,
          0.1333333333333333,
          0.0666666666666666,
          0,
          0,
          0,
          0,
          0,
          0,
          0,
          0
         ],
         "y": [
          2.64,
          2.15,
          2.62,
          1.2,
          3.2,
          2.52,
          0.64,
          1.95,
          1.21,
          1.2,
          0.106,
          0.1,
          0.126,
          0.088,
          6.72,
          0.11,
          0.0125,
          0.0074,
          6.415,
          6.175,
          6.5,
          5.57,
          5.245,
          6.79,
          6.7,
          2.35,
          1.073333333,
          7.7,
          5.79,
          4.655,
          2.6,
          2.225,
          0.066,
          0.34,
          0.85,
          0.0502,
          1.03625,
          2.86,
          37.95,
          34.7,
          36.7,
          17.9,
          16.12,
          37.3,
          34,
          18,
          7.75,
          2.12,
          36.46666667,
          18.1,
          37,
          18,
          35.8,
          32.4,
          33.55,
          17.9,
          34.7,
          17.8,
          35.1,
          31.5,
          17.1,
          7.4,
          25.3,
          4.65,
          30.8,
          14.6,
          7.49,
          34.3,
          3.34,
          13.9,
          18.1,
          17.97,
          27.1,
          4.3,
          11.2,
          16.9,
          3.82,
          1.63,
          24,
          28.71,
          5.7,
          3.24,
          4.43,
          16.85,
          3.23,
          18.1,
          18.1,
          7.3,
          14.1,
          13.9,
          9.1,
          9.42,
          15.775,
          15.4,
          11.7,
          12.9,
          18.75,
          12.9,
          0.21,
          16,
          0.85,
          17.2,
          20.4,
          18.7,
          11.1,
          8.925,
          19.7,
          1.2775,
          13.6,
          20.7,
          6.2,
          20,
          20.425,
          20.75,
          14,
          18.9,
          17.6,
          19.6,
          17.8,
          17,
          5.6,
          4.05,
          18.395,
          20.375,
          18.1,
          14.6,
          17.7,
          19.1,
          19.8,
          17.6,
          19.2,
          18.4,
          20,
          18.4,
          20,
          17.8,
          18,
          18.5,
          19.1,
          2.8,
          19.700000000000003,
          19.2,
          20,
          18.4,
          19,
          18.1,
          19.8,
          18.5,
          19.6,
          18.8,
          18.6,
          19.3,
          18.4,
          19,
          0.262,
          19.8,
          19.8,
          6.54,
          5.57,
          18.3,
          18.06,
          17.6,
          16.1,
          18.1,
          1.254033333,
          6.63,
          5.21,
          2.9,
          5.4,
          4.4,
          0.55,
          0.08,
          6.3,
          2.9,
          6.183529412,
          14.1,
          3.45,
          5.5,
          6.7,
          4.5,
          18,
          16.5,
          14.4,
          3.2,
          0.37,
          3.6216666665,
          2.4,
          4.9833333335,
          6,
          5.2,
          14.45,
          13.8,
          11.85,
          4.9,
          4.2,
          0.58,
          1.55,
          7.2,
          2.1,
          1.075,
          15.6,
          15.4,
          11.5,
          13,
          15.4,
          17.2,
          13.6,
          16.8,
          15.2,
          15,
          16,
          16,
          14.6,
          14.8,
          17.7,
          17.2,
          16.6,
          17.7,
          18,
          17.4,
          17.6,
          0.69,
          0.39,
          3.3,
          2.8,
          4.75,
          0.045,
          0.65,
          0.52,
          1.15,
          1.51,
          1.64,
          1.155,
          1.49,
          0.19,
          0.029666667,
          0.195,
          0.0475,
          9.61,
          0.735,
          1.02,
          2.78,
          2.42,
          1.89,
          1.38,
          0.932,
          0.94,
          1.425,
          1.61,
          1.996,
          2.4,
          2.7242142855,
          0.84,
          0.65,
          4.95,
          0.343333333,
          1.34,
          2.6,
          0.16,
          6.2,
          1.16,
          1.2,
          1.2,
          0.85,
          1.13,
          1.145,
          1.021,
          1.2,
          1.97,
          1.28,
          1.94,
          1.11,
          1.864,
          0.75,
          0.75,
          0.94,
          0.86,
          0.68,
          3.35,
          1.85,
          18.19,
          11.67,
          17.98,
          5.96,
          7.52,
          0.78,
          0.48,
          11.42,
          0.44,
          4,
          3.13,
          1.825,
          27.35,
          27,
          28.475,
          3.24,
          23,
          3.27,
          3.28,
          0.763,
          0.634,
          3.2,
          2.3825,
          2,
          20.8,
          22.93333333,
          3.49,
          16.5,
          8.72,
          18.4,
          3.92,
          22.2,
          3.81,
          15.4,
          5,
          10,
          11.8,
          27.6,
          47,
          43.5,
          40.85,
          36.33333333,
          40.4,
          46,
          40.2,
          42.6,
          9.81,
          19.3,
          19.4,
          15.7,
          13.4,
          21.05,
          20.1,
          18.8,
          21.13333333,
          10.29,
          16.3,
          6.14,
          2.565,
          13.4,
          7.66,
          10.6,
          15.03333333,
          13.3,
          14,
          7.53,
          14.3,
          7.485,
          10.875,
          5.8,
          14.9,
          15.96666667,
          2,
          1.895,
          4,
          1.838,
          9.3,
          47.5,
          36.4,
          3.64,
          33,
          33,
          14.6,
          14,
          35,
          42,
          49.05,
          45,
          50,
          3.59,
          24.7,
          26.9,
          46.4,
          40.2,
          44.48888889,
          46,
          53,
          22,
          49.66666667,
          45,
          31.4,
          34.8,
          50.525,
          43.5,
          50.5,
          3.9,
          50,
          48.35,
          32.6,
          46,
          24.4,
          11.6,
          17.3,
          16,
          14.7,
          16.5,
          18.3,
          17.6,
          10,
          6,
          18,
          9,
          7.1,
          7.5,
          15.4,
          10.58,
          13.35,
          15.8,
          9.6,
          14,
          4.61,
          56.5,
          53.6,
          53.5,
          10.2,
          17.6,
          16.475,
          30,
          26,
          13.5,
          43,
          53.7,
          51.45,
          46.9,
          16.25,
          15.5,
          14.6,
          4.86,
          12.8,
          46.25,
          48.2,
          44.4,
          48.9,
          46,
          51.4,
          47,
          55,
          52.1,
          40.1,
          53.23333333,
          52,
          45,
          34.8,
          33.85,
          43.8,
          44.4,
          22.8,
          5.7,
          3.5,
          3.2,
          3.193333333,
          3.1,
          3.5,
          3.7,
          2.71,
          8.2,
          2.353333333,
          8,
          1.15,
          0.46,
          2.425,
          0.75,
          0.58,
          8.716666667,
          3.755,
          6.93,
          12.8,
          19.2,
          24.5,
          19.7,
          24.2,
          15,
          31.2,
          28.7,
          22,
          32.5,
          30.1625,
          36.9,
          30.31,
          19.95,
          13.56,
          22.29,
          11.83,
          5.1,
          7.86,
          34.2,
          33.5,
          11.1,
          36.5,
          15,
          34.3,
          25.85,
          9.53,
          26.75,
          37.14,
          30.15,
          35.28,
          32.8,
          39,
          25.6,
          31,
          38,
          31.25,
          38,
          19,
          37,
          35,
          37.75,
          23.8,
          18,
          18,
          35.66,
          33.85,
          33.45,
          24,
          32,
          28.45,
          26,
          15.9,
          8,
          19,
          23.5,
          17,
          18,
          36.85,
          23.8,
          15,
          13,
          12,
          6.4,
          12.73333333,
          10,
          10,
          10.5,
          7,
          8,
          6.42,
          5.3,
          10,
          11.8,
          3.5,
          21.3,
          22.5,
          7.1,
          21,
          8.95,
          5.02,
          19.7,
          0.783333333,
          2,
          22,
          1.27,
          3.02,
          2.29,
          1.845,
          2,
          2,
          7.2,
          9.5,
          13.4,
          24.1,
          13.9,
          21,
          14.4,
          13.2,
          2,
          13.5,
          15.7,
          11,
          24,
          18.365,
          16,
          13.2,
          2.08,
          32,
          21.66666667,
          21,
          16.3,
          21.9,
          2.305,
          12.6,
          9.6,
          8.65,
          16,
          8.93,
          8.7,
          11.7,
          5.92,
          7.4,
          15.8,
          5.5,
          1.6,
          5.11,
          13.3,
          12.2,
          2.9,
          2.9965,
          26,
          23.5,
          6,
          1.983333333,
          29.25,
          2.8,
          0.97,
          0.205,
          0.66,
          0.92,
          0.23,
          5.083333333,
          4.4,
          0.9,
          6.5,
          1.195,
          20.125,
          35,
          2.53,
          2.52,
          25.6,
          2.7,
          7.6,
          0.66,
          10.56,
          10.78,
          5.05,
          1.85,
          1.615,
          2.04,
          1.587,
          1.96,
          1.63,
          4.5,
          1.587,
          1.24,
          6.45,
          2.38,
          1.668,
          1.89,
          1.58,
          1.3,
          1.355,
          4.6,
          1.99,
          1.378,
          1.17,
          3.02,
          12.283333333333331,
          9.5,
          1.79,
          1.773,
          11,
          1.56,
          1.25,
          1.51,
          11.4,
          10.8,
          2.68,
          2.27,
          1.775,
          1.2,
          1.062,
          9.4,
          2.3,
          0.22,
          0.185,
          8.4,
          10.163181818,
          3.76,
          4.325,
          0.29,
          2,
          1.65,
          1.25,
          1.366666667,
          3.365,
          4.25,
          2.2192,
          1.245,
          0.46,
          6.7,
          1.77,
          2.051666667,
          3.02,
          1.82,
          2.6575,
          1.62,
          0.4,
          0.34,
          0.9,
          1.4,
          7,
          12.5,
          8.4,
          21,
          23,
          25,
          26.5,
          31,
          32,
          6.4,
          16.4,
          8.1,
          5.9,
          5.4,
          2.538888889,
          6.1,
          5.7,
          7.8,
          3.2,
          2.6,
          6.6,
          2.5,
          1.35,
          2.9,
          2.6,
          5,
          2.4,
          25.5,
          30.335,
          30.8,
          32,
          33,
          16,
          33.15,
          33.3,
          28,
          32.9,
          35,
          33.85,
          36,
          35.5,
          35.78,
          38.3,
          21,
          37,
          37.7,
          36,
          37,
          36.25,
          30,
          37.53333333,
          38.5,
          32.84363636,
          5.97,
          5.67,
          5.65,
          4.77,
          4.78,
          0.435,
          0.39,
          5.5,
          4.7,
          4.4,
          6.0335714285,
          4.0875,
          2.4,
          3.3,
          3.38,
          2.6,
          2.94,
          2.786666667,
          6.7166666665,
          2.08,
          3.1,
          1.86,
          1.96,
          7.7,
          7.663333333,
          7.233333333,
          3.37,
          6.59,
          6.4,
          7.5535,
          2.294,
          0.25,
          5.09,
          4.1125,
          4.75,
          4,
          1.56,
          2.133333333,
          3.1,
          7.35,
          13.8,
          11.9,
          0.05,
          14.3,
          11.8,
          8.13,
          3.1,
          9.65,
          6.75,
          14.3,
          14.7,
          13,
          13.75,
          11.55,
          10.85,
          7.895,
          8.116666667,
          11.77,
          12,
          6.61,
          11.8,
          9.75,
          5.83,
          3.24,
          2,
          2.3,
          4.3,
          6.215,
          3.42,
          5.325,
          5.61,
          2.485,
          4.7,
          4.55,
          5.033571429,
          4.675000000000001,
          5.9,
          2,
          5.63,
          7.225,
          10.8,
          6.15,
          8.52,
          9.535,
          7.31,
          8.355,
          8.5,
          4.63,
          2.155,
          10.2329166665,
          7,
          13.4,
          7.97,
          10.2,
          7.39,
          5.52,
          6.2,
          3.99,
          6.64,
          8.2,
          13.28,
          13.5,
          7.3,
          9.715,
          10.475,
          9.95,
          6.155,
          12,
          7.81,
          7.02,
          4.2,
          4.52,
          5.935,
          8.1,
          15.1,
          13.8,
          13.3,
          8.81,
          8.9,
          8.72,
          8.72,
          9.3,
          1.3,
          8.77,
          3,
          6.62,
          8.77,
          7.44,
          2.25,
          8.77,
          8.0661764705,
          16.2,
          15.3,
          15.1,
          13.6,
          13.6,
          10.25,
          15.2,
          14.8,
          15.56,
          14.55,
          15,
          15.2,
          14.68,
          15.88066667,
          15.48,
          12.7,
          8.7,
          5.7,
          10.7,
          11.8,
          14,
          8.7,
          12.8,
          13.7,
          7,
          14.05,
          12,
          11.2,
          7.7,
          8.68,
          14.42,
          12.54,
          10.02,
          4.6,
          5.71,
          2.346666667,
          6.966666667,
          9.659,
          14.17727273,
          14.5,
          22.6,
          6,
          6.6,
          1.2,
          1.8,
          1.67,
          1.07,
          0.38,
          0.55,
          37.1,
          37.4,
          36.2,
          34.5,
          4.175,
          36.7,
          35.3,
          35.1,
          38.11,
          38.05,
          37.8,
          37.58,
          37.75,
          38.6,
          38.6,
          7.34,
          5.07,
          8.86,
          8.77,
          7.85,
          6.94,
          5.26,
          6.295,
          37.8,
          35.6,
          33.45,
          34.7,
          32.96666667,
          29.5,
          34,
          6.4,
          4.84,
          3.8,
          7.53,
          6.46,
          33.2,
          28.1,
          18,
          3.6,
          1.12,
          1.65,
          2.09,
          2.57,
          13.0325,
          38.25,
          37.8,
          38,
          35.3,
          36.6,
          36.91666667,
          34,
          7.295,
          4.76,
          8.72,
          2.66,
          4.655,
          10.054,
          4.5,
          36,
          36.9,
          37.2,
          38,
          38,
          30,
          38,
          37.8,
          38.4,
          37.3,
          38.2,
          38,
          35,
          30,
          38.5,
          38.3,
          37.7,
          32.3,
          38,
          38.4,
          41.4,
          35.5,
          39,
          33.4,
          35.9,
          33.5,
          38.6,
          34,
          38.3,
          38.4,
          37.3,
          5.74,
          5.8,
          7.96,
          9.77,
          9.1,
          3.64,
          4.5975,
          1.5975,
          1.34,
          2.22,
          6.3,
          0.8,
          8.1,
          7.7,
          1.79,
          6.4,
          8.7,
          8.2,
          2.75,
          0.72,
          6,
          3.19,
          4.585,
          5.883333333,
          6.15,
          5.95,
          10.4,
          6.43,
          6.44,
          10,
          2.5,
          9.05,
          8.06,
          4.18,
          8.22,
          8.74,
          4.41,
          6.87,
          7.61,
          8.06,
          8.22,
          6.88,
          7.065,
          2.22,
          7.795,
          10.1,
          8.66,
          3.54,
          6.42,
          0.7,
          3.06,
          3.21,
          3.07,
          2.98,
          3.04,
          1.675,
          11.93,
          10.093625,
          2,
          5.323333333,
          1.4,
          8.74,
          2.6475,
          4.448,
          8.888,
          10.95775,
          1.38,
          7.27,
          1.4,
          8.4,
          8.3,
          7,
          7.1,
          5.5,
          8.8,
          8,
          8.9,
          1.6,
          3.3,
          6.8,
          5.8,
          2.05,
          3.15,
          3,
          5.8,
          3.4,
          0.37,
          5.692857143,
          0.525,
          22.6,
          24,
          0.5,
          24.95,
          32,
          29,
          26,
          12.3,
          29,
          14.5,
          33.1,
          13.9,
          21.8,
          9,
          9.3,
          23.6,
          2.99,
          4.96,
          1.9,
          29,
          1.725,
          26,
          25.3,
          28,
          26.2,
          25.5,
          26.9,
          23.1,
          23.5,
          8.4,
          54,
          1.75,
          0.1,
          21.6,
          13.7,
          14,
          58,
          0.77,
          7,
          1.88,
          9.7,
          30,
          15.5,
          12.7,
          11,
          7.2,
          17.2,
          18.7,
          23.1,
          20,
          25.5,
          25,
          24.525,
          27.3,
          21.2,
          28.8,
          31.2,
          31,
          19.66428571,
          30.7,
          31.5,
          28.96666667,
          30.4,
          29.58571429,
          29,
          28.5,
          28.2,
          28.1,
          5.015,
          28,
          29.9,
          5.93,
          5.86,
          5.11,
          6.1,
          3,
          6.19,
          4.25,
          3.14,
          4.25,
          3.88,
          30,
          30,
          5.13,
          4.24,
          5.33,
          3.4375,
          0.3,
          18.9,
          76,
          37.9,
          57.45,
          69,
          52.6,
          83,
          61,
          79.05,
          68.8,
          44,
          77.7,
          81,
          83.3,
          79.7,
          74.3,
          85.4,
          93,
          32.9,
          64,
          73.5,
          61,
          8.7,
          8.7,
          7.6,
          7.6,
          2.91,
          2.91,
          10.3,
          10.3,
          9.9,
          9.875,
          9.875,
          11.23,
          11.23,
          4.6,
          5.745,
          3.02,
          86,
          11,
          11,
          4,
          2.4,
          4.05,
          2.59,
          5.17,
          4.93,
          4,
          2.32,
          2.1,
          2.686666667,
          1,
          3.5,
          3.5,
          1.4,
          1.4,
          1.7,
          1.7,
          2.91,
          1.875,
          6,
          2.2,
          2.2,
          0.964,
          5.3,
          4.3,
          80,
          1.475,
          4.44,
          79.3,
          76.8,
          79.2,
          78.7,
          80.75,
          87,
          80,
          77.4,
          81.2,
          81.9,
          83.2,
          81,
          84.8,
          85.16,
          83.8,
          83.3,
          86.25,
          88.5,
          87,
          88.9,
          81.8,
          87,
          87.35714286,
          82.9,
          44.7,
          47.5,
          24,
          71.6,
          87,
          87.8,
          87,
          81.25,
          95.5,
          104,
          103,
          93.6,
          96.3,
          97.6,
          100,
          91.8,
          90.8,
          86.1,
          106,
          92,
          92.5,
          102,
          105,
          121,
          122,
          127,
          127,
          123,
          110,
          100,
          98,
          80.8,
          105.9816667,
          132.9,
          132,
          130,
          118.975,
          89.9,
          88,
          92.8,
          92.8,
          44,
          90.4,
          73,
          64.5,
          72,
          20,
          36,
          48,
          73,
          95,
          70,
          73.5,
          82,
          79.1,
          89,
          73,
          88.5,
          98,
          92,
          95.6,
          95.3,
          93.4,
          92.5,
          90.9,
          89.1,
          82,
          97,
          88,
          97.4,
          78,
          95.16,
          94.2,
          80,
          97,
          85,
          81,
          78,
          59,
          37.5,
          24.2,
          24,
          95,
          81,
          62,
          47,
          40,
          16,
          87.8,
          64.9,
          45.3,
          28.6,
          45.8,
          61.1,
          82.9,
          76.4,
          91.1,
          93.9,
          92.03333333,
          37.8,
          53.8,
          63,
          93.8,
          68.3,
          92,
          35,
          20.9,
          39.6,
          67.9,
          57.7,
          84,
          93.1,
          92.475,
          51.7,
          54.8,
          57.1,
          59.8,
          81,
          68.3,
          89.6,
          56.55,
          73.5,
          89.7,
          86.8,
          88.24,
          5.6,
          40.7,
          31.4,
          68.2,
          85.1,
          78.35,
          35.8,
          84.1,
          56.8925,
          22,
          25.93,
          89.5,
          91,
          90.83333333,
          23.5,
          43,
          54.9,
          74.46666667,
          78,
          75,
          63.5,
          75,
          74,
          69,
          72.66666667,
          76.2,
          77,
          72.3,
          72.025,
          66.78571429,
          63.66666667,
          55.25,
          50.5,
          37.875,
          79,
          81,
          87,
          69.3,
          78,
          79.42,
          78.8,
          3.9,
          6.1,
          5,
          6,
          7,
          0.24,
          1.625,
          8.2,
          2.9,
          3.3,
          10,
          8.1425,
          16.6,
          15.6,
          9,
          3.1065,
          0.67,
          0.66,
          0.525,
          0.519,
          0.48,
          0.637,
          0.539,
          0.58,
          0.55,
          0.5515000000000001,
          0.602666667,
          0.5315,
          0.46,
          0.415,
          0.38,
          0.344,
          0.917754545,
          4.1,
          1.47,
          8.6,
          2.5275,
          9.2,
          9.45,
          9.2,
          9.51,
          4.12,
          2.15,
          2.3,
          1.35,
          1,
          2.3,
          14.7,
          18.255000000000003,
          1.21,
          4.275,
          8.15,
          5.55,
          4,
          1.51,
          7.7,
          8.8,
          8.03,
          2.25,
          8.4,
          2.8440000000000003,
          6,
          5.867142857,
          8.1,
          9,
          7.4,
          8.35,
          11,
          9.45,
          11,
          2.4,
          0.158,
          80.5,
          107.25,
          2.895,
          8.7,
          76,
          83,
          85,
          79.5,
          75,
          1.3,
          1.533333333,
          1.8,
          1.24,
          7.11,
          10.26,
          3.1,
          3.11,
          2.5,
          2.93,
          7.033529412,
          9.5,
          7.86,
          2.36,
          1.74,
          5.584,
          4.1,
          11.42166667,
          12.2,
          10.25,
          12.2,
          5.74,
          3.6,
          9.6,
          2.04,
          2.22,
          2.85,
          2.046,
          2.35,
          1.66,
          0.9,
          0.76,
          2.5,
          2.4625,
          1,
          0.7,
          2.25,
          2.516666667,
          4.25,
          3.746666667,
          1,
          1.2,
          1.21,
          1.45,
          1.15,
          0.906666667,
          11,
          2.04,
          1.47,
          0.141,
          2.84,
          88,
          89.4,
          48,
          79,
          68.35,
          17,
          73,
          75,
          89.9,
          95.3,
          80,
          83.15,
          75.455,
          87,
          80,
          67,
          76.5,
          74,
          65.7,
          77,
          92.55,
          71.5,
          78,
          74.1,
          49.3,
          58,
          88.25,
          90,
          86.45,
          91,
          81.3,
          81,
          89.125,
          85.5,
          89.26666667,
          92,
          91,
          85,
          74,
          78,
          70,
          90.6,
          73,
          70,
          70,
          78,
          70,
          89,
          83.7,
          84,
          90,
          86,
          67.2,
          85.5,
          92.2,
          90.2,
          89.1,
          87.5,
          70,
          47.3,
          47.2,
          42.1,
          76.4,
          24,
          30,
          7.38,
          10,
          16,
          14,
          10,
          7,
          3,
          8,
          3.675,
          3,
          2.715,
          3.575,
          2.3,
          0.79,
          0.73,
          3.823333333,
          0.96,
          0.0775,
          1.1,
          4.898,
          8.6,
          3.7325,
          1.85,
          4.08,
          4.06,
          4.189,
          0.155,
          0.64,
          3.7,
          3.935,
          3.175,
          3.77,
          5.7,
          0.87,
          82.4,
          0.85,
          2.3333333335,
          3.5,
          6.4,
          2.85,
          10.35,
          11.35,
          4.7,
          5.5,
          1.4,
          7.03,
          5.04,
          18,
          16.5,
          10.5,
          10,
          11,
          13.4,
          17.2,
          8.5,
          17.8,
          2.8,
          9,
          8.75,
          8.1,
          15.6,
          17,
          17.4,
          10,
          8.45,
          1.8,
          14.7,
          4.43,
          2.04,
          4.68,
          3.38,
          7.09,
          6.5,
          6.3,
          7,
          7.3,
          11.84,
          9.8,
          12,
          9.7,
          4.5,
          6.5,
          11.68,
          2.5,
          10.6,
          16.97,
          5,
          5,
          7.2,
          11,
          10,
          8.3,
          4.1,
          11.5,
          9.6,
          12.9,
          3.86,
          3.133333333,
          7.42,
          7.29,
          7.2,
          6.8,
          6.3,
          6,
          4.85,
          13,
          16,
          6.93,
          6.44,
          5.96,
          6.25,
          5.17,
          5.46,
          4.9,
          3.72,
          8.58,
          8,
          6.88,
          0.65,
          3.9,
          12.7,
          9,
          11.9,
          5.6,
          3.4,
          4.8,
          4.5,
          5,
          3.1,
          0.55,
          2.5,
          4.12,
          2.82,
          4.5,
          2.8,
          3.48,
          5.6,
          6.1,
          6.51,
          6.92,
          6.715,
          4.72,
          6.91125,
          12.1,
          12.7,
          9,
          12.22,
          8.67,
          11.3,
          13.1,
          7.7,
          9.18,
          11.3,
          13.1,
          8.5,
          11.673,
          8.9,
          9.6,
          13.5,
          11.8,
          13.5,
          13.9,
          13.2,
          13.85,
          13.65,
          13.1,
          13.3,
          11.7,
          11.5,
          10.152,
          6.021666667,
          4.2,
          10.27666667,
          11.1,
          13.2,
          11.6,
          10.025,
          7.6,
          1.9666666665,
          1.666666667,
          2.02,
          9,
          1.075,
          10.5,
          4.8,
          9.41,
          10.1,
          10,
          9.92,
          8.6375,
          1.63,
          3.85,
          6.7,
          3.835,
          3.15,
          2.82,
          10.7,
          2.3,
          3.15,
          3.31,
          3.24,
          3.48,
          3.45,
          9.9175,
          1.65,
          7.2,
          2.08,
          5.4,
          1.26,
          2.79,
          4.45,
          2.29,
          1.23375,
          2.89,
          3.33,
          3.8,
          5,
          6.005,
          6.535,
          7.445,
          1.41,
          1.09,
          1.465,
          3.7,
          3.52,
          3.895428571,
          6.8,
          8.2,
          5.4,
          10.66,
          10.3,
          6.7,
          14.85625,
          3.6,
          8.4,
          11.303,
          1.65,
          6.496666667,
          0.152,
          0.0675,
          0.152375,
          0.01205,
          5.55,
          9.2,
          0.5,
          15,
          20,
          20.1,
          23,
          23,
          23.85,
          24,
          28,
          32,
          23,
          47,
          34,
          34,
          30,
          33,
          32,
          20.5,
          61,
          5.67,
          28,
          30,
          38,
          27,
          65,
          77,
          32,
          40,
          0.525,
          76,
          39.5,
          35,
          75.56666667,
          52.5,
          105.2,
          58,
          52.75,
          99.3,
          26.5,
          26.9,
          24,
          27.6,
          27.7,
          26,
          27.055,
          25,
          19.7,
          24.225,
          30,
          20,
          15.14,
          24,
          26.95,
          41,
          18,
          15,
          102,
          31,
          83.15,
          51.6,
          4.2375,
          3.4,
          1.6,
          1.6,
          3.3,
          5.075,
          13,
          7,
          2.8,
          0.65,
          2.3,
          8.7,
          6.4,
          1.35,
          1.37,
          4.25,
          2.04,
          7.73,
          71.5,
          0.6,
          1,
          1.3,
          5.75,
          1.7,
          2.1,
          1.7,
          6.95,
          7.4775,
          3.3,
          11.2,
          1.3,
          1.3,
          3.65,
          2.54,
          9.55,
          1.7,
          0.016,
          0.16,
          0.105,
          0.185,
          0.52414,
          1.8,
          2.4,
          3.65,
          1.102857143,
          1,
          1.765,
          4.33,
          3.47,
          13,
          8.2,
          7.11,
          23.6,
          7.01,
          1.92,
          1.86,
          5.75,
          6.8,
          3.616,
          5.72,
          13.8,
          5.58,
          4.42,
          4.02,
          5.52,
          4.61,
          30.3,
          20.35,
          21.5,
          24.3,
          28.5,
          27.1625,
          24.3,
          3.9,
          15.32,
          21.2,
          21.83333333,
          9.4,
          22.3,
          22.9,
          19.35,
          22.7,
          3.43,
          22.5,
          16.4,
          7.75,
          9.25,
          11.9,
          21.2325,
          18.05714286,
          2.444,
          1.5,
          7.225,
          12.8,
          15.425,
          4.11,
          4.8,
          3.012,
          7.5,
          1.015,
          1.278,
          3,
          14.7,
          1.767,
          2.01,
          0.727,
          0.668,
          25.05,
          0.449,
          1.647,
          1.3,
          33,
          2.134,
          1.4,
          4.92,
          0.78,
          1.19,
          5.611,
          4.51,
          0.86,
          1.97,
          6.14,
          0.92,
          30,
          4.4985,
          5.82,
          2.56,
          1.84,
          5.91,
          1.31,
          3.38,
          6.55,
          1.68,
          1.95,
          1.945,
          7.181,
          1.84,
          4.69,
          6.17,
          0.15,
          2.13,
          2,
          1.89,
          0.03,
          0.4,
          0.57,
          1.22,
          1.78,
          1.6,
          7.194,
          6.55,
          0.85,
          4.74,
          3.5,
          2.4,
          1.93,
          1.52,
          0.62,
          1.56,
          1.38,
          2,
          1.42,
          2.13,
          1.41,
          1.73,
          0.88,
          1.57,
          2.18,
          1.69,
          1.89,
          1.86,
          2.25,
          0.86,
          0.35,
          0.87,
          0.47,
          0.676666667,
          2.037307692,
          1.1125,
          0.52,
          0.385,
          0.27,
          0.2,
          0.2,
          0.1675,
          0.1,
          1.32,
          0.6497,
          0.63,
          0.50525,
          0.31,
          0.216666667,
          0.805,
          0.455,
          0.13,
          2.04,
          0.92,
          0.63,
          1.2,
          0.67,
          0.429,
          0.734,
          0.897,
          0.35,
          0.770428571,
          1.652222222,
          2.1,
          1.53,
          3.34,
          1.82,
          0.421,
          4.08,
          3.4,
          0.14,
          0.669222222,
          0.914,
          0.356666667,
          5.998272727,
          1.25,
          0.4,
          0.22,
          0.69,
          0.8125,
          24,
          13.16666667,
          70,
          22,
          22.9,
          19,
          15,
          15.2,
          12.2,
          15,
          13.8,
          14.2,
          11.6,
          14,
          13,
          22,
          17,
          11,
          25.5,
          16.4,
          1,
          2.28,
          4,
          10,
          1.96,
          2.58,
          6.62,
          6.45,
          1.4,
          3.8,
          5,
          1.9,
          8.4,
          6.04,
          1.57,
          5.52,
          1.87,
          0.35,
          13,
          3.3,
          1.26,
          0.91,
          3.1325,
          4.2,
          4.89,
          5.14,
          5.88,
          5.56,
          5.98,
          5.41,
          10,
          5.29,
          5.83,
          2.2,
          2,
          6.52,
          5.79,
          1.5,
          6.07,
          13.5,
          5.72,
          16.6,
          5.94,
          2.7,
          2,
          3.4,
          2.13,
          3.4,
          2.79,
          2.82,
          3.62,
          3.04,
          2.61,
          3,
          1.6,
          7.2,
          8.4,
          0.288,
          0.423,
          0.541,
          0.667,
          0.153,
          0.5995,
          0.56,
          4.226666667,
          0.175,
          6,
          2.89,
          1.306666667,
          0.82,
          0.71,
          3.44,
          1.7,
          2.358,
          0.34,
          5.4114285715,
          3.6125,
          3.78,
          3.12,
          2.6,
          2.67,
          2.48,
          1.815,
          2.033333333,
          2.425,
          4.81,
          2.5,
          2.85,
          20,
          11,
          2.4,
          1.2,
          0.6,
          4.18,
          37.5,
          12.6,
          0.155,
          1.36,
          0.83,
          43,
          3.3,
          11.3,
          0.045,
          0.1,
          0.03,
          1.3,
          0.83,
          3.906,
          3.468,
          0.071,
          0.76,
          1.1,
          0.75,
          2.5,
          0.5,
          117.5,
          98,
          1.55,
          132,
          25,
          3.7,
          0.256,
          3.3,
          6.7,
          6,
          4,
          1.12,
          2,
          2,
          3.27,
          5.1,
          11.9,
          17.6,
          14.4,
          30,
          1.56,
          23,
          3.3,
          0.047,
          3.3,
          2.95,
          0.175,
          0.048,
          0.24,
          0.07,
          0.145,
          0.13,
          3.32,
          2.45,
          37,
          5.08,
          19,
          44.33333333,
          43.5,
          20,
          21,
          41,
          36.9,
          42.4,
          31.9,
          42.5,
          41.45,
          27,
          6,
          4.98,
          8,
          9.5875,
          19.5,
          13,
          17.7,
          19.8,
          21.5,
          21.15,
          25,
          30.5,
          25,
          33.7,
          36,
          39.35,
          35,
          36.9,
          39.25,
          33.55,
          34.7,
          33,
          33,
          35.5,
          30.04,
          33,
          28.414,
          29.7,
          27,
          29.2,
          26.3,
          16,
          25,
          22.25,
          18.26666667,
          28,
          12,
          11.7,
          17.2,
          4.51,
          22,
          25,
          16,
          0.9,
          38.5,
          33,
          30,
          32,
          32,
          34.7,
          42,
          30,
          30.7,
          35,
          34,
          29.7,
          32,
          29.1,
          17,
          38,
          36,
          40.4,
          45,
          45.2,
          45,
          37.8,
          43.5,
          43,
          31,
          37.5,
          5.9,
          37.5,
          35,
          18,
          30.7,
          22.5,
          21,
          31.3,
          39,
          41.5,
          1.92,
          1.26,
          2.7,
          2.86,
          3.794,
          3.4625,
          1.585,
          2.2,
          1.625,
          1.5325,
          4.45,
          1.7000000000000002,
          2.22375,
          43,
          44,
          38.6,
          32.6,
          36.6,
          38.6,
          38.6,
          36.6,
          70,
          1.3,
          3.465,
          0.235,
          26.05,
          37.75,
          28.4,
          53.5,
          43.5,
          53,
          21,
          23.5,
          32.2,
          38,
          32.5,
          22,
          11.65,
          34.575,
          29.8,
          12.9,
          37.8,
          29.2,
          30,
          32.2,
          36.9,
          40.3,
          36.3,
          16.45,
          1.85,
          0.085,
          4.91,
          76.5,
          0.9205,
          1.173333333,
          1.4,
          3.26,
          0.543333333,
          0.021,
          0.2,
          1.2,
          4.52,
          2.8,
          3.77,
          2.75,
          3.46,
          1.4,
          2.95,
          1.6,
          3.87,
          4.055,
          3.8,
          3.215,
          2.59,
          2.08,
          1.26,
          1.6,
          0.585,
          1.36,
          0.465,
          1.375,
          7.8,
          7.21,
          6.8,
          7.8,
          2.34,
          6.22,
          10.3,
          3,
          4.58,
          13.4,
          3.12,
          2.51,
          10.1,
          7.04,
          2.31,
          6.41,
          2.65,
          3,
          2.13,
          2.6,
          2.13,
          2.04,
          2.02,
          4.49,
          1.78,
          2.1,
          1.85,
          0.2,
          1.4,
          10,
          14.4,
          8.8,
          1,
          7.85,
          32.4,
          32,
          30.4,
          31,
          32,
          31,
          31.15,
          32,
          32,
          31.5,
          22.4,
          32.5,
          29.8,
          32,
          31.9,
          31,
          31,
          5.458571429,
          4.965,
          6.8,
          3.586666667,
          2.5,
          9.58,
          10.1,
          10.7,
          6.8,
          10.27,
          10,
          7.28,
          3.73,
          2.75,
          3.35,
          11.5,
          8.2,
          6,
          9.816666665,
          13.225,
          13.8,
          15,
          13.5,
          14,
          13.2,
          14.8,
          15,
          12.6,
          12.7,
          14.4,
          13.733333335,
          13.675625,
          13.3,
          8.65,
          7.83,
          9.62,
          8.843333333,
          7.4,
          7,
          8.545,
          8.105,
          6.99,
          1.5,
          3.88875,
          0.17,
          0.98,
          0.99,
          32.6,
          30.05,
          29.5,
          31.36428571,
          15.25,
          2.9,
          0.5,
          2.9,
          3.51,
          3.51,
          4.83,
          4.33,
          4.16,
          5.492222222,
          4.57,
          1.3825,
          1.595,
          2.016666667,
          3.075,
          5.6,
          18.3,
          18.3,
          13.3,
          13.3,
          2.7,
          18.2,
          3.8,
          10.7,
          10,
          12.3,
          13.3,
          14.6,
          20.2,
          13.8,
          19.9,
          14.9,
          13.9,
          18.16296296333333,
          18.6,
          14.32088889,
          12.2,
          10.5,
          12.1,
          15.783333335,
          17.4,
          11.415,
          12.5,
          15.4,
          20.2,
          9.4,
          16.5,
          9.25,
          16.3,
          14.1,
          7.8,
          20.3,
          16,
          8.7,
          16.4,
          7.4,
          7.3,
          16.4,
          5.6,
          16.3,
          14.6,
          9.5,
          8.1,
          6.9,
          6.9,
          7.2,
          13.6,
          12.7,
          14.65,
          16.2,
          11.24,
          4.24,
          11.5,
          13.1,
          15.35,
          10.2,
          16.1,
          16.1,
          10.6,
          4.73,
          10.7,
          5.527454545,
          5.04,
          4.75,
          1.3,
          6.4,
          1.12,
          0.21,
          7.8,
          5.82,
          9,
          11.7,
          0.76,
          2.925,
          2.4,
          13.5,
          2.3,
          1.54,
          2.9,
          11.9,
          2.87,
          8.25,
          1.74,
          10.8,
          4.78,
          5.8,
          5,
          12.3,
          13.4,
          16.45,
          5.3,
          6.3,
          9.9,
          11.5,
          0.38,
          9.7,
          15.6,
          15.1,
          13.6,
          0.575,
          1.97,
          1.9,
          1.68,
          2.25,
          1.35,
          2.1,
          0.69,
          3.85,
          9.7,
          3.57,
          2.5,
          2,
          2.9,
          2.225,
          1.925,
          8.5,
          7.92,
          5.94,
          6,
          7.9,
          3.23,
          3.24,
          5.04,
          2.73,
          4.3,
          3.48,
          6.04,
          2.27,
          3.5,
          2.71,
          1.61,
          2.41,
          3.76,
          4.64,
          4.1,
          4.28,
          2.2,
          18.1,
          5.7925,
          14.3,
          17.985,
          14.133333333333333,
          6.4,
          5.3,
          2.16,
          6.4,
          8.2,
          6.6,
          6,
          17.78333333,
          16.1,
          3.3,
          6.8,
          8.7,
          11.625,
          0.8999999999999999,
          0.24,
          7.6,
          7.2,
          0.311,
          0.246,
          0.171,
          0.0855,
          3.9475,
          2.4,
          1.57,
          2.17,
          2.17,
          2.17,
          1.87,
          1.3,
          1.44,
          0.82,
          2.72,
          2.76,
          2.17,
          1.25,
          2.7,
          2.55,
          2.76,
          2.79,
          8.946666667,
          1.35,
          8.58,
          8.253333333,
          0.7,
          7.876,
          4.71,
          3.6,
          2.3,
          2.3,
          3.9,
          2.116666667,
          1.9,
          4.7,
          3.4,
          2.1792,
          1.9,
          4.2,
          0.244,
          9,
          8,
          0.178,
          6,
          6.68,
          0.83,
          0.95,
          1.86,
          1.67,
          1.95,
          2.2,
          1.5,
          1.51,
          1.1,
          1.976666667,
          0.345,
          1.04,
          0.48,
          3.5,
          2.6,
          1.5275,
          3.15,
          0.8825,
          1.1,
          2.6,
          2.92,
          3.23,
          3.24,
          3.22,
          3.16,
          2.96,
          2.82,
          2.89,
          2.892,
          1.1,
          1.17,
          1.1,
          2.7,
          1.1,
          1.1,
          2.12,
          1.1,
          1.3,
          1.15,
          0.55,
          3.8,
          1.65,
          0.303333333,
          0.46,
          1.5,
          1,
          2.12,
          1.55,
          0.99,
          2.35,
          2.493333333,
          7,
          2.6,
          0.87,
          1.855,
          1.449,
          3.625,
          3.478,
          5.523,
          6.6,
          6.377,
          6.45,
          7.355,
          7.39,
          9.275,
          4.11,
          8.025,
          8.35,
          17,
          9.45,
          6.62,
          8.85,
          1,
          9.9,
          8.98,
          6.61,
          8.905,
          6.28,
          10.1,
          6.05,
          9.935,
          2.77,
          9.96,
          2.79,
          10.67,
          2.6,
          10.45,
          9.76,
          2.89,
          9.54,
          8.8,
          9.73,
          9.49,
          9.22,
          9.11,
          5.47,
          9.93,
          9.655,
          9.19,
          9.19,
          0.064,
          2.63,
          0.210166667,
          6.6,
          8.83,
          5.815,
          2.27,
          11.79666667,
          5.203333333,
          0.865,
          1.15,
          5.6,
          8.984,
          9.2,
          10.1,
          0.87,
          1.72,
          4.3,
          3.81,
          3.888,
          3.875,
          4.1366,
          0.935,
          0.16,
          5.7,
          5.8,
          1.2,
          4,
          1.62,
          3.18,
          1.7,
          0.48,
          3.28,
          3.27,
          3.05,
          3.86,
          3.42,
          4.06,
          1.2,
          1.96,
          0.936,
          1.13,
          1.017,
          1.22,
          1.653,
          1.273333333,
          1.355,
          1.746,
          1.76,
          18.28,
          18.1,
          4.1,
          3.64,
          17.8,
          16.2,
          3.035,
          3.595,
          4.46,
          2.48,
          4.51,
          5.0525,
          4.4,
          2.98,
          5.4,
          5.65,
          5.725,
          3.18,
          7.3,
          3.67,
          1.04,
          1.15,
          1.55,
          7.8,
          3.223,
          2.04,
          2.7,
          3.549542857,
          3.51,
          3.41,
          2.6,
          2.8,
          1.19,
          1,
          1.03,
          1.3,
          9.61,
          3.2,
          1.975,
          4.9,
          0.7,
          1.04,
          2.645,
          3.9,
          3.32,
          2.206,
          1.5,
          0.7125,
          3.3,
          3.7,
          0.7,
          0.24,
          3.32,
          0.095,
          2.68,
          1.2,
          0.87,
          2.43,
          2.38,
          2.25,
          2.75,
          0.21,
          6.7,
          2.93,
          3.1,
          0.18,
          0.18,
          1.81,
          0.61,
          1.69,
          1.5,
          1.98,
          0.12,
          0.13,
          0.4,
          0.026,
          0.24835,
          1.7,
          2.16,
          0.028,
          0.5,
          2.39,
          1.92,
          3.22,
          0.66,
          0.03,
          2.385,
          4.7,
          2.69,
          2.5,
          2.683333333,
          4.68,
          2.99,
          2.9725,
          2.7,
          3.07,
          1.4275,
          2.05,
          2.61,
          0.091333333,
          4.75,
          4.675,
          3.16,
          5.66,
          4.86,
          5.3,
          2.3,
          1.473333333,
          5.325,
          8.031,
          7.9,
          1.4075,
          3.61,
          3.46,
          0.5,
          6.5,
          1.675,
          2.7,
          2.04,
          0.715,
          0.93,
          1.18,
          0.37,
          5.185,
          0.14,
          7.365,
          5.065,
          2.46,
          0.24,
          1.198333333,
          2.47,
          1.55,
          2.215,
          1.1,
          1.949166667,
          5.7,
          6.11,
          1.635,
          1.61,
          4.1,
          3.1,
          2.8,
          3.2,
          4.425,
          3.005,
          1.8,
          1.52,
          3.5,
          4.88,
          2.55,
          7.915,
          3.82,
          8.311428571,
          0.95,
          2.906666667,
          5.016666667,
          2.13,
          3.93,
          3.9,
          0.5,
          0.885,
          0.46,
          0.8,
          9.60375,
          0.71,
          2.1,
          16.48,
          1.8,
          1.815,
          5.58,
          15.92,
          1.7,
          4.73,
          3.94,
          0.54,
          1.7225,
          1.528,
          1,
          0.8,
          1.46,
          0.37,
          9.4,
          6.1,
          3.315,
          1.88,
          6.26,
          10.25,
          0.9865,
          1.34,
          0.55,
          4.18,
          1.73,
          2.04,
          6.8,
          5.17,
          2.29,
          0.8,
          11,
          2.56,
          2.76,
          3.3,
          0.7,
          5.49,
          1.16,
          3.04,
          3.27,
          3.42,
          1.92,
          3.71,
          1.42,
          2.58,
          0.48,
          5.343,
          1.05,
          6.73,
          11.23333333,
          1.175,
          3.23,
          2.82,
          1.275,
          3,
          1,
          1.23,
          0.59,
          2.6,
          7.575,
          0.9,
          0.80775,
          6.923333333,
          2.5,
          0.75,
          3.933333333,
          1.18,
          1.75,
          4.46,
          4.086666667,
          3.25,
          2.7,
          1.3,
          0.39,
          3.5166666665,
          0.23,
          1.4325,
          0.3,
          2.1,
          4.35,
          2.245,
          1.916666667,
          1.658,
          2.6,
          3.7032,
          3.5,
          7.316,
          3.293333333,
          0.84,
          0.8,
          1.02,
          6.7,
          1.6,
          1.5,
          3.6,
          6.358285714,
          1.48,
          1.566666667,
          1.04,
          5.25,
          3.36,
          4.33,
          4.81,
          7.7,
          7.55,
          4.4,
          1.85,
          3.025,
          5.4,
          3.6,
          2.2,
          0.48,
          2.2,
          2.065,
          1.4,
          3.1,
          4.875,
          2.65,
          6.725714286,
          0.13,
          8.326,
          6.2,
          4.0275,
          8.905,
          0.25,
          2.35,
          1.6,
          3.74,
          2.1,
          1.48,
          2.59,
          1.835,
          8.5,
          2.2,
          5.5,
          5.15,
          11.9,
          11.75,
          12.1,
          11.25,
          11.05,
          11.8,
          9.9,
          8.3,
          10.05,
          7.2,
          11.87272727,
          2.6,
          3.5,
          1.27,
          2.2,
          3.49,
          2.4,
          0.67,
          2.98,
          1.9,
          2.9,
          1.545,
          2.4,
          1.1,
          0.56,
          6.78,
          9.9,
          7,
          2.75,
          0.925,
          5.6,
          0.88,
          0.76,
          0.28,
          16.25,
          15.5,
          11.9,
          2.4525,
          14,
          16,
          10.4,
          13.7,
          5.25,
          5.59,
          9.25,
          2.6,
          15.8,
          6.5,
          0.03,
          1.66,
          4.64,
          11.7,
          12,
          1.97,
          6.185,
          14,
          6.245,
          11.1,
          12,
          3.52,
          3.52,
          7.6,
          1.94,
          0.11,
          1.56,
          7.85,
          5.6,
          10,
          1.7,
          4.62,
          4.53,
          4.56,
          0.912666667,
          5.29,
          15.5,
          15.5,
          9.89,
          7.85,
          10,
          0.3,
          4.3,
          5.1,
          2.743,
          7.62,
          11.0225,
          5.936666667,
          3.3,
          2.97,
          1.402,
          5.84,
          2.75,
          3.5,
          6.21,
          3.5,
          6.3,
          6.7,
          7.1,
          10.2,
          12.2,
          12.3,
          3.2,
          12.45,
          3.77,
          2.55,
          1.8,
          14.048,
          12.6,
          8.45,
          2.2875,
          6.255238095,
          3.4,
          6.38,
          6,
          5.8,
          5.5,
          4.21,
          1.17,
          2.3,
          10.5,
          2.9,
          13.5,
          17.2,
          12.1,
          8.9,
          4.54,
          1.5,
          16.5,
          13.3,
          17.7,
          17.3,
          4.38,
          7.91,
          14.4,
          13.7,
          6.6,
          3,
          0.2175,
          3.3,
          5.387499999999999,
          8.528333333500001,
          9.85,
          8.5,
          2.16,
          7.2,
          0.56,
          1.7999999999999998,
          7.666666667,
          1.3,
          5.62,
          15.8,
          2.011,
          1.98,
          7.8,
          2.01,
          1.85,
          2.009,
          12.8,
          8.99,
          6.2,
          6.2,
          3.76,
          9.4,
          4.11,
          2.9,
          6.09,
          10.3,
          4.25,
          1.84,
          1.84,
          2.035,
          0.6,
          18.3,
          1.89,
          18.2,
          9,
          9.3,
          3,
          1.98,
          3.07,
          8.9976875,
          3.15,
          1.38,
          4.25,
          12.5,
          1.24,
          5.1,
          2.65,
          13.5,
          3.83,
          5.821818182,
          6.814619048,
          6.675,
          3.736666667,
          2.64,
          18,
          0.5,
          17.8,
          18,
          16.4,
          15.9,
          18.1,
          18.3,
          17.9,
          17.1,
          18.1,
          17.7,
          7.300000000000001,
          6.125,
          2.3,
          2.42,
          2.39,
          2.3,
          0.85,
          0.663333333,
          1.81,
          2,
          18.2,
          2.495,
          2.49,
          2.55,
          2.52,
          2.53,
          2.8,
          5.1,
          7.4,
          8.9,
          9.6,
          7.9,
          9.516428571,
          2.42,
          2.42,
          2.44,
          2.742333333,
          3.81,
          17.04,
          16.5,
          15.8,
          6.8,
          1.1,
          1.9425,
          17.8,
          16.4,
          13.9,
          8.3,
          6.5,
          18.2,
          18.25,
          16.709,
          1.746666667,
          7.7,
          10.161,
          5.13,
          8.6,
          0.345,
          2.435,
          1.73,
          1.48,
          1.52,
          4.55,
          1.27,
          3.325,
          4.095,
          1.4,
          2.6775,
          1.9,
          1.3,
          2.3,
          0.35,
          1.5,
          2.6,
          1.9775,
          0.43,
          3,
          2.98,
          1.6,
          0.9,
          0.54,
          1.981666667,
          3.35,
          3.53,
          3.06,
          3.47,
          3.115,
          3.7,
          3.1,
          2.78,
          3.525,
          1.415,
          3.7,
          2.58,
          2.44,
          2.6,
          2.44,
          2.31,
          2,
          0.65,
          1.67,
          0.0376,
          1.54,
          1.18,
          5.04,
          0.94,
          5.15,
          4.4,
          0.8,
          0.73,
          0.5641666665,
          5.3525,
          1.72,
          0.46,
          6.318,
          4.6,
          1.1,
          1.1,
          4.7,
          2.95,
          1.655,
          1.51,
          1.60125,
          16.6,
          14.75,
          4.6,
          6.728571429,
          1.8,
          7.8,
          0.35,
          10.1,
          6.15,
          2.9,
          4.635,
          1.525,
          0.65,
          1.315,
          8.496153846,
          2,
          2.76,
          4.5,
          0.96,
          0.85,
          1.24,
          0.39,
          0.61,
          7.05,
          5.54,
          7.45,
          1.485,
          2.8,
          1.4,
          1.38,
          1.32,
          1.16,
          0.51,
          0.061,
          1.22,
          6.4701,
          1.32,
          1.78,
          2.4,
          2.1,
          3.215,
          2.65,
          7.2,
          4.05,
          3.695,
          3.476666667,
          0.76,
          1.7,
          2.98,
          2.66,
          4.59,
          6.03,
          1.85,
          5.55,
          4.72,
          0.23,
          4.6,
          0.4785,
          0.41,
          0.345,
          0.24,
          4.73,
          3.08,
          2,
          1.66,
          4.71,
          2.53,
          1.44,
          1.67,
          1.65,
          1.58,
          1.53,
          1.85,
          1.71,
          1.65,
          1.89,
          1.65,
          2.21,
          2.25,
          1.1,
          1,
          1.2,
          1.25,
          0.6,
          0.93,
          0.41,
          3.34,
          3.01,
          1.61,
          0.75,
          1.32,
          0.081,
          2.36,
          1.63,
          2.3,
          2.91,
          2.49,
          1.25,
          2.1225,
          1.1,
          0.785,
          0.41,
          4.12,
          4.12,
          3.73,
          3.06,
          2.37,
          4.03,
          4.37,
          4.814444444333333,
          2.225,
          2.34,
          2.24,
          2.66,
          2.1,
          1.98,
          4.38,
          0.76,
          1.13,
          0.21,
          0.53,
          0.67,
          1.76,
          3.1025,
          1.225,
          2.09,
          1.35,
          1.45,
          0.213,
          2.1,
          0.88,
          3.54,
          0.37,
          1.19,
          0.59,
          0.44,
          0.58,
          1.58,
          1.36,
          3,
          1.7,
          2.1,
          1.1,
          1.57,
          0.35,
          2.835,
          0.9,
          0.49,
          0.523363636,
          0.254,
          0.82,
          5.1,
          4.95,
          4.24,
          5.5,
          5.02,
          3.25,
          5.01,
          3,
          1.94,
          4.126666667,
          4.985,
          0.65,
          0.23,
          4.7,
          4.6,
          6.75,
          5.08,
          8.3,
          4.9,
          2.581333333,
          4.4,
          0.65,
          2.2,
          6.6,
          3.875,
          1.71,
          3.8,
          5.025,
          1.83,
          6.366666667,
          1.76,
          8.733333333,
          2.15,
          0.18,
          0.11,
          11.25,
          6,
          7,
          6,
          5.48,
          2.28,
          1.33,
          5.19,
          0.08138375,
          5.52,
          6,
          4.35,
          5.1,
          0.6,
          0.755,
          0.36,
          0.19,
          0.65,
          1.35,
          11.1825,
          7.1033333335,
          3.66,
          3.67,
          2,
          1.1,
          1.1,
          1.4,
          4.1,
          6.2,
          1.48,
          2.86,
          2.7,
          2.15,
          1.07,
          2.18,
          8.405,
          4.216666667,
          1.9,
          7.833333333,
          0.56,
          2.9,
          2.92,
          3.48,
          4.2,
          4,
          5.8,
          5.16,
          3.12,
          4.53,
          4.835,
          0.53,
          0.501,
          0.6,
          3.15,
          9.733333333,
          1.290384615,
          1.07,
          6.455,
          2.09,
          1.1,
          1.231538462,
          1.1,
          3.68,
          2.23,
          2.053333333,
          3.98,
          3.51,
          5.7,
          0.0725,
          3.9,
          13,
          4.5,
          3.8,
          2.75,
          3.53,
          1.9,
          1.4881166665,
          0.74,
          4.1,
          0.76,
          10.5,
          5.9358333335,
          5.2,
          1.416666667,
          1.43,
          0.72,
          0.65,
          4.942,
          5.2,
          1.3,
          1.5,
          3.9,
          10.9,
          5.016666667,
          3.25,
          0.125,
          0.45,
          2.05,
          14.5,
          14.38,
          15.8,
          6.4,
          7.51,
          16.95,
          9.8,
          9.7,
          12.85,
          5.864761905,
          2.41,
          14.55,
          10.9,
          13.2,
          16.1,
          1.55,
          0.1725,
          0.1725,
          2.862,
          2.84,
          0.55,
          2.7,
          4.63,
          1.7,
          0.168,
          0.167,
          0.165,
          0.125,
          0.143666667,
          0.0466,
          0.092,
          0.0138,
          0.02625,
          3.740729412,
          2.605,
          6.6925,
          0.1005,
          4.4625,
          0.92,
          3.33,
          3.6,
          1.9,
          3.5375,
          0.3,
          0.5040416665,
          8.9,
          5.56,
          9.05,
          7.86,
          2.54,
          2.65,
          4.3769,
          2.133333333,
          6,
          7.52,
          7.794166667,
          8.8,
          7.6,
          3.94125,
          3.94125,
          1.535,
          2.144,
          2.308333333,
          6.29,
          3.3,
          2.7,
          1.25,
          0.87,
          0.67,
          0.67,
          1.8,
          7.2,
          6.381666666666667,
          1.6125,
          1.37,
          1.36,
          4.125,
          0.162,
          0.47,
          0.7,
          0.72,
          0.8,
          0.72,
          2.07,
          2,
          1.989218182,
          1.52,
          0.581666667,
          5.9,
          8.3,
          8.6,
          8.9933333335,
          7.5,
          0.0157,
          1.08,
          1.675,
          0.8508,
          0.296666667,
          0.996666667
         ]
        }
       ],
       "layout": {
        "font": {
         "color": "black",
         "family": "Helvetica",
         "size": 16
        },
        "height": 500,
        "margin": {
         "b": 10,
         "l": 10,
         "r": 10,
         "t": 10
        },
        "paper_bgcolor": "white",
        "plot_bgcolor": "white",
        "template": {
         "data": {
          "bar": [
           {
            "error_x": {
             "color": "#2a3f5f"
            },
            "error_y": {
             "color": "#2a3f5f"
            },
            "marker": {
             "line": {
              "color": "#E5ECF6",
              "width": 0.5
             },
             "pattern": {
              "fillmode": "overlay",
              "size": 10,
              "solidity": 0.2
             }
            },
            "type": "bar"
           }
          ],
          "barpolar": [
           {
            "marker": {
             "line": {
              "color": "#E5ECF6",
              "width": 0.5
             },
             "pattern": {
              "fillmode": "overlay",
              "size": 10,
              "solidity": 0.2
             }
            },
            "type": "barpolar"
           }
          ],
          "carpet": [
           {
            "aaxis": {
             "endlinecolor": "#2a3f5f",
             "gridcolor": "white",
             "linecolor": "white",
             "minorgridcolor": "white",
             "startlinecolor": "#2a3f5f"
            },
            "baxis": {
             "endlinecolor": "#2a3f5f",
             "gridcolor": "white",
             "linecolor": "white",
             "minorgridcolor": "white",
             "startlinecolor": "#2a3f5f"
            },
            "type": "carpet"
           }
          ],
          "choropleth": [
           {
            "colorbar": {
             "outlinewidth": 0,
             "ticks": ""
            },
            "type": "choropleth"
           }
          ],
          "contour": [
           {
            "colorbar": {
             "outlinewidth": 0,
             "ticks": ""
            },
            "colorscale": [
             [
              0,
              "#0d0887"
             ],
             [
              0.1111111111111111,
              "#46039f"
             ],
             [
              0.2222222222222222,
              "#7201a8"
             ],
             [
              0.3333333333333333,
              "#9c179e"
             ],
             [
              0.4444444444444444,
              "#bd3786"
             ],
             [
              0.5555555555555556,
              "#d8576b"
             ],
             [
              0.6666666666666666,
              "#ed7953"
             ],
             [
              0.7777777777777778,
              "#fb9f3a"
             ],
             [
              0.8888888888888888,
              "#fdca26"
             ],
             [
              1,
              "#f0f921"
             ]
            ],
            "type": "contour"
           }
          ],
          "contourcarpet": [
           {
            "colorbar": {
             "outlinewidth": 0,
             "ticks": ""
            },
            "type": "contourcarpet"
           }
          ],
          "heatmap": [
           {
            "colorbar": {
             "outlinewidth": 0,
             "ticks": ""
            },
            "colorscale": [
             [
              0,
              "#0d0887"
             ],
             [
              0.1111111111111111,
              "#46039f"
             ],
             [
              0.2222222222222222,
              "#7201a8"
             ],
             [
              0.3333333333333333,
              "#9c179e"
             ],
             [
              0.4444444444444444,
              "#bd3786"
             ],
             [
              0.5555555555555556,
              "#d8576b"
             ],
             [
              0.6666666666666666,
              "#ed7953"
             ],
             [
              0.7777777777777778,
              "#fb9f3a"
             ],
             [
              0.8888888888888888,
              "#fdca26"
             ],
             [
              1,
              "#f0f921"
             ]
            ],
            "type": "heatmap"
           }
          ],
          "heatmapgl": [
           {
            "colorbar": {
             "outlinewidth": 0,
             "ticks": ""
            },
            "colorscale": [
             [
              0,
              "#0d0887"
             ],
             [
              0.1111111111111111,
              "#46039f"
             ],
             [
              0.2222222222222222,
              "#7201a8"
             ],
             [
              0.3333333333333333,
              "#9c179e"
             ],
             [
              0.4444444444444444,
              "#bd3786"
             ],
             [
              0.5555555555555556,
              "#d8576b"
             ],
             [
              0.6666666666666666,
              "#ed7953"
             ],
             [
              0.7777777777777778,
              "#fb9f3a"
             ],
             [
              0.8888888888888888,
              "#fdca26"
             ],
             [
              1,
              "#f0f921"
             ]
            ],
            "type": "heatmapgl"
           }
          ],
          "histogram": [
           {
            "marker": {
             "pattern": {
              "fillmode": "overlay",
              "size": 10,
              "solidity": 0.2
             }
            },
            "type": "histogram"
           }
          ],
          "histogram2d": [
           {
            "colorbar": {
             "outlinewidth": 0,
             "ticks": ""
            },
            "colorscale": [
             [
              0,
              "#0d0887"
             ],
             [
              0.1111111111111111,
              "#46039f"
             ],
             [
              0.2222222222222222,
              "#7201a8"
             ],
             [
              0.3333333333333333,
              "#9c179e"
             ],
             [
              0.4444444444444444,
              "#bd3786"
             ],
             [
              0.5555555555555556,
              "#d8576b"
             ],
             [
              0.6666666666666666,
              "#ed7953"
             ],
             [
              0.7777777777777778,
              "#fb9f3a"
             ],
             [
              0.8888888888888888,
              "#fdca26"
             ],
             [
              1,
              "#f0f921"
             ]
            ],
            "type": "histogram2d"
           }
          ],
          "histogram2dcontour": [
           {
            "colorbar": {
             "outlinewidth": 0,
             "ticks": ""
            },
            "colorscale": [
             [
              0,
              "#0d0887"
             ],
             [
              0.1111111111111111,
              "#46039f"
             ],
             [
              0.2222222222222222,
              "#7201a8"
             ],
             [
              0.3333333333333333,
              "#9c179e"
             ],
             [
              0.4444444444444444,
              "#bd3786"
             ],
             [
              0.5555555555555556,
              "#d8576b"
             ],
             [
              0.6666666666666666,
              "#ed7953"
             ],
             [
              0.7777777777777778,
              "#fb9f3a"
             ],
             [
              0.8888888888888888,
              "#fdca26"
             ],
             [
              1,
              "#f0f921"
             ]
            ],
            "type": "histogram2dcontour"
           }
          ],
          "mesh3d": [
           {
            "colorbar": {
             "outlinewidth": 0,
             "ticks": ""
            },
            "type": "mesh3d"
           }
          ],
          "parcoords": [
           {
            "line": {
             "colorbar": {
              "outlinewidth": 0,
              "ticks": ""
             }
            },
            "type": "parcoords"
           }
          ],
          "pie": [
           {
            "automargin": true,
            "type": "pie"
           }
          ],
          "scatter": [
           {
            "fillpattern": {
             "fillmode": "overlay",
             "size": 10,
             "solidity": 0.2
            },
            "type": "scatter"
           }
          ],
          "scatter3d": [
           {
            "line": {
             "colorbar": {
              "outlinewidth": 0,
              "ticks": ""
             }
            },
            "marker": {
             "colorbar": {
              "outlinewidth": 0,
              "ticks": ""
             }
            },
            "type": "scatter3d"
           }
          ],
          "scattercarpet": [
           {
            "marker": {
             "colorbar": {
              "outlinewidth": 0,
              "ticks": ""
             }
            },
            "type": "scattercarpet"
           }
          ],
          "scattergeo": [
           {
            "marker": {
             "colorbar": {
              "outlinewidth": 0,
              "ticks": ""
             }
            },
            "type": "scattergeo"
           }
          ],
          "scattergl": [
           {
            "marker": {
             "colorbar": {
              "outlinewidth": 0,
              "ticks": ""
             }
            },
            "type": "scattergl"
           }
          ],
          "scattermapbox": [
           {
            "marker": {
             "colorbar": {
              "outlinewidth": 0,
              "ticks": ""
             }
            },
            "type": "scattermapbox"
           }
          ],
          "scatterpolar": [
           {
            "marker": {
             "colorbar": {
              "outlinewidth": 0,
              "ticks": ""
             }
            },
            "type": "scatterpolar"
           }
          ],
          "scatterpolargl": [
           {
            "marker": {
             "colorbar": {
              "outlinewidth": 0,
              "ticks": ""
             }
            },
            "type": "scatterpolargl"
           }
          ],
          "scatterternary": [
           {
            "marker": {
             "colorbar": {
              "outlinewidth": 0,
              "ticks": ""
             }
            },
            "type": "scatterternary"
           }
          ],
          "surface": [
           {
            "colorbar": {
             "outlinewidth": 0,
             "ticks": ""
            },
            "colorscale": [
             [
              0,
              "#0d0887"
             ],
             [
              0.1111111111111111,
              "#46039f"
             ],
             [
              0.2222222222222222,
              "#7201a8"
             ],
             [
              0.3333333333333333,
              "#9c179e"
             ],
             [
              0.4444444444444444,
              "#bd3786"
             ],
             [
              0.5555555555555556,
              "#d8576b"
             ],
             [
              0.6666666666666666,
              "#ed7953"
             ],
             [
              0.7777777777777778,
              "#fb9f3a"
             ],
             [
              0.8888888888888888,
              "#fdca26"
             ],
             [
              1,
              "#f0f921"
             ]
            ],
            "type": "surface"
           }
          ],
          "table": [
           {
            "cells": {
             "fill": {
              "color": "#EBF0F8"
             },
             "line": {
              "color": "white"
             }
            },
            "header": {
             "fill": {
              "color": "#C8D4E3"
             },
             "line": {
              "color": "white"
             }
            },
            "type": "table"
           }
          ]
         },
         "layout": {
          "annotationdefaults": {
           "arrowcolor": "#2a3f5f",
           "arrowhead": 0,
           "arrowwidth": 1
          },
          "autotypenumbers": "strict",
          "coloraxis": {
           "colorbar": {
            "outlinewidth": 0,
            "ticks": ""
           }
          },
          "colorscale": {
           "diverging": [
            [
             0,
             "#8e0152"
            ],
            [
             0.1,
             "#c51b7d"
            ],
            [
             0.2,
             "#de77ae"
            ],
            [
             0.3,
             "#f1b6da"
            ],
            [
             0.4,
             "#fde0ef"
            ],
            [
             0.5,
             "#f7f7f7"
            ],
            [
             0.6,
             "#e6f5d0"
            ],
            [
             0.7,
             "#b8e186"
            ],
            [
             0.8,
             "#7fbc41"
            ],
            [
             0.9,
             "#4d9221"
            ],
            [
             1,
             "#276419"
            ]
           ],
           "sequential": [
            [
             0,
             "#0d0887"
            ],
            [
             0.1111111111111111,
             "#46039f"
            ],
            [
             0.2222222222222222,
             "#7201a8"
            ],
            [
             0.3333333333333333,
             "#9c179e"
            ],
            [
             0.4444444444444444,
             "#bd3786"
            ],
            [
             0.5555555555555556,
             "#d8576b"
            ],
            [
             0.6666666666666666,
             "#ed7953"
            ],
            [
             0.7777777777777778,
             "#fb9f3a"
            ],
            [
             0.8888888888888888,
             "#fdca26"
            ],
            [
             1,
             "#f0f921"
            ]
           ],
           "sequentialminus": [
            [
             0,
             "#0d0887"
            ],
            [
             0.1111111111111111,
             "#46039f"
            ],
            [
             0.2222222222222222,
             "#7201a8"
            ],
            [
             0.3333333333333333,
             "#9c179e"
            ],
            [
             0.4444444444444444,
             "#bd3786"
            ],
            [
             0.5555555555555556,
             "#d8576b"
            ],
            [
             0.6666666666666666,
             "#ed7953"
            ],
            [
             0.7777777777777778,
             "#fb9f3a"
            ],
            [
             0.8888888888888888,
             "#fdca26"
            ],
            [
             1,
             "#f0f921"
            ]
           ]
          },
          "colorway": [
           "#636efa",
           "#EF553B",
           "#00cc96",
           "#ab63fa",
           "#FFA15A",
           "#19d3f3",
           "#FF6692",
           "#B6E880",
           "#FF97FF",
           "#FECB52"
          ],
          "font": {
           "color": "#2a3f5f"
          },
          "geo": {
           "bgcolor": "white",
           "lakecolor": "white",
           "landcolor": "#E5ECF6",
           "showlakes": true,
           "showland": true,
           "subunitcolor": "white"
          },
          "hoverlabel": {
           "align": "left"
          },
          "hovermode": "closest",
          "mapbox": {
           "style": "light"
          },
          "paper_bgcolor": "white",
          "plot_bgcolor": "#E5ECF6",
          "polar": {
           "angularaxis": {
            "gridcolor": "white",
            "linecolor": "white",
            "ticks": ""
           },
           "bgcolor": "#E5ECF6",
           "radialaxis": {
            "gridcolor": "white",
            "linecolor": "white",
            "ticks": ""
           }
          },
          "scene": {
           "xaxis": {
            "backgroundcolor": "#E5ECF6",
            "gridcolor": "white",
            "gridwidth": 2,
            "linecolor": "white",
            "showbackground": true,
            "ticks": "",
            "zerolinecolor": "white"
           },
           "yaxis": {
            "backgroundcolor": "#E5ECF6",
            "gridcolor": "white",
            "gridwidth": 2,
            "linecolor": "white",
            "showbackground": true,
            "ticks": "",
            "zerolinecolor": "white"
           },
           "zaxis": {
            "backgroundcolor": "#E5ECF6",
            "gridcolor": "white",
            "gridwidth": 2,
            "linecolor": "white",
            "showbackground": true,
            "ticks": "",
            "zerolinecolor": "white"
           }
          },
          "shapedefaults": {
           "line": {
            "color": "#2a3f5f"
           }
          },
          "ternary": {
           "aaxis": {
            "gridcolor": "white",
            "linecolor": "white",
            "ticks": ""
           },
           "baxis": {
            "gridcolor": "white",
            "linecolor": "white",
            "ticks": ""
           },
           "bgcolor": "#E5ECF6",
           "caxis": {
            "gridcolor": "white",
            "linecolor": "white",
            "ticks": ""
           }
          },
          "title": {
           "x": 0.05
          },
          "xaxis": {
           "automargin": true,
           "gridcolor": "white",
           "linecolor": "white",
           "ticks": "",
           "title": {
            "standoff": 15
           },
           "zerolinecolor": "white",
           "zerolinewidth": 2
          },
          "yaxis": {
           "automargin": true,
           "gridcolor": "white",
           "linecolor": "white",
           "ticks": "",
           "title": {
            "standoff": 15
           },
           "zerolinecolor": "white",
           "zerolinewidth": 2
          }
         }
        },
        "width": 800,
        "xaxis": {
         "linecolor": "black",
         "linewidth": 2,
         "showline": true,
         "ticklen": 5,
         "ticks": "inside",
         "tickwidth": 2,
         "title": {
          "text": "Critical Temperature / K"
         }
        },
        "yaxis": {
         "linecolor": "black",
         "linewidth": 2,
         "showline": true,
         "ticklen": 5,
         "ticks": "inside",
         "tickwidth": 2,
         "title": {
          "text": "Total relative difference "
         }
        }
       }
      }
     },
     "metadata": {},
     "output_type": "display_data"
    }
   ],
   "source": [
    "fig = go.Figure(data=go.Scatter(x=df_MP_non_zero[\"totreldiff\"], y=df_MP_non_zero[\"tc\"], mode='markers', text=df_MP_non_zero[\"formula_sc\"], hoverinfo='text'))\n",
    "\n",
    "# Set the axis labels\n",
    "fig.update_layout(xaxis=dict(title=\"Critical Temperature / K\", showline=True, linewidth=2, linecolor='black',\n",
    "                            ticks='inside', tickwidth=2, ticklen=5),\n",
    "                yaxis=dict(title=\"Total relative difference \", showline=True, linewidth=2, linecolor='black',\n",
    "                            ticks='inside', tickwidth=2, ticklen=5),\n",
    "                width=800,\n",
    "                height=500,\n",
    "                plot_bgcolor='white',\n",
    "                paper_bgcolor='white', \n",
    "                font=dict(family='Helvetica', size=16, color='black'),\n",
    "                margin=dict(l=10, r=10, b=10, t=10))"
   ]
  },
  {
   "cell_type": "markdown",
   "metadata": {},
   "source": [
    "The relative difference allows the differentiation between molecules that are very similar to each other"
   ]
  },
  {
   "cell_type": "markdown",
   "metadata": {},
   "source": [
    "## Structure Properties"
   ]
  },
  {
   "cell_type": "code",
   "execution_count": 20,
   "metadata": {},
   "outputs": [
    {
     "name": "stderr",
     "output_type": "stream",
     "text": [
      "c:\\Users\\Fay\\anaconda3\\envs\\enviroment\\lib\\site-packages\\ipykernel_launcher.py:1: SettingWithCopyWarning:\n",
      "\n",
      "\n",
      "A value is trying to be set on a copy of a slice from a DataFrame.\n",
      "Try using .loc[row_indexer,col_indexer] = value instead\n",
      "\n",
      "See the caveats in the documentation: https://pandas.pydata.org/pandas-docs/stable/user_guide/indexing.html#returning-a-view-versus-a-copy\n",
      "\n"
     ]
    }
   ],
   "source": [
    "df_MP_non_zero[\"cat_crystal_system\"] = df_MP_non_zero[\"crystal_system\"].astype('category').cat.codes"
   ]
  },
  {
   "cell_type": "code",
   "execution_count": 21,
   "metadata": {},
   "outputs": [
    {
     "data": {
      "text/html": [
       "<div>\n",
       "<style scoped>\n",
       "    .dataframe tbody tr th:only-of-type {\n",
       "        vertical-align: middle;\n",
       "    }\n",
       "\n",
       "    .dataframe tbody tr th {\n",
       "        vertical-align: top;\n",
       "    }\n",
       "\n",
       "    .dataframe thead th {\n",
       "        text-align: right;\n",
       "    }\n",
       "</style>\n",
       "<table border=\"1\" class=\"dataframe\">\n",
       "  <thead>\n",
       "    <tr style=\"text-align: right;\">\n",
       "      <th></th>\n",
       "      <th>spacegroup</th>\n",
       "      <th>crystal_system</th>\n",
       "      <th>cat_crystal_system</th>\n",
       "      <th>lata</th>\n",
       "      <th>latb</th>\n",
       "      <th>latc</th>\n",
       "      <th>unit_cell_formula</th>\n",
       "      <th>cell_volume</th>\n",
       "      <th>reduced_cell_formula</th>\n",
       "      <th>primitive</th>\n",
       "      <th>base-centered</th>\n",
       "      <th>body-centered</th>\n",
       "      <th>face-centered</th>\n",
       "      <th>point_group</th>\n",
       "    </tr>\n",
       "  </thead>\n",
       "  <tbody>\n",
       "    <tr>\n",
       "      <th>0</th>\n",
       "      <td>I 4/m m m</td>\n",
       "      <td>tetragonal</td>\n",
       "      <td>4</td>\n",
       "      <td>4.438672</td>\n",
       "      <td>4.438672</td>\n",
       "      <td>6.030548</td>\n",
       "      <td>{'Sr': 1.0, 'Ge': 2.0, 'Pd': 2.0}</td>\n",
       "      <td>101.453048</td>\n",
       "      <td>{'Sr': 1.0, 'Ge': 2.0, 'Pd': 2.0}</td>\n",
       "      <td>0</td>\n",
       "      <td>0</td>\n",
       "      <td>1</td>\n",
       "      <td>0</td>\n",
       "      <td>4/mmm</td>\n",
       "    </tr>\n",
       "    <tr>\n",
       "      <th>1</th>\n",
       "      <td>F m -3 m</td>\n",
       "      <td>cubic</td>\n",
       "      <td>0</td>\n",
       "      <td>4.537670</td>\n",
       "      <td>4.537670</td>\n",
       "      <td>4.537670</td>\n",
       "      <td>{'Sn': 1.0, 'Te': 1.0}</td>\n",
       "      <td>66.066855</td>\n",
       "      <td>{'Sn': 1.0, 'Te': 1.0}</td>\n",
       "      <td>0</td>\n",
       "      <td>0</td>\n",
       "      <td>0</td>\n",
       "      <td>1</td>\n",
       "      <td>m-3m</td>\n",
       "    </tr>\n",
       "    <tr>\n",
       "      <th>2</th>\n",
       "      <td>I 4/m m m</td>\n",
       "      <td>tetragonal</td>\n",
       "      <td>4</td>\n",
       "      <td>4.438672</td>\n",
       "      <td>4.438672</td>\n",
       "      <td>6.030548</td>\n",
       "      <td>{'Sr': 1.0, 'Ge': 2.0, 'Pd': 2.0}</td>\n",
       "      <td>101.453048</td>\n",
       "      <td>{'Sr': 1.0, 'Ge': 2.0, 'Pd': 2.0}</td>\n",
       "      <td>0</td>\n",
       "      <td>0</td>\n",
       "      <td>1</td>\n",
       "      <td>0</td>\n",
       "      <td>4/mmm</td>\n",
       "    </tr>\n",
       "    <tr>\n",
       "      <th>3</th>\n",
       "      <td>F m -3 m</td>\n",
       "      <td>cubic</td>\n",
       "      <td>0</td>\n",
       "      <td>4.443633</td>\n",
       "      <td>4.443633</td>\n",
       "      <td>4.443633</td>\n",
       "      <td>{'In': 1.0, 'Te': 1.0}</td>\n",
       "      <td>62.043965</td>\n",
       "      <td>{'In': 1.0, 'Te': 1.0}</td>\n",
       "      <td>0</td>\n",
       "      <td>0</td>\n",
       "      <td>0</td>\n",
       "      <td>1</td>\n",
       "      <td>m-3m</td>\n",
       "    </tr>\n",
       "    <tr>\n",
       "      <th>4</th>\n",
       "      <td>P 43 3 2</td>\n",
       "      <td>cubic</td>\n",
       "      <td>0</td>\n",
       "      <td>6.771439</td>\n",
       "      <td>6.771439</td>\n",
       "      <td>6.771439</td>\n",
       "      <td>{'Ba': 4.0, 'Si': 8.0}</td>\n",
       "      <td>310.486636</td>\n",
       "      <td>{'Ba': 1.0, 'Si': 2.0}</td>\n",
       "      <td>1</td>\n",
       "      <td>0</td>\n",
       "      <td>0</td>\n",
       "      <td>0</td>\n",
       "      <td>432</td>\n",
       "    </tr>\n",
       "    <tr>\n",
       "      <th>...</th>\n",
       "      <td>...</td>\n",
       "      <td>...</td>\n",
       "      <td>...</td>\n",
       "      <td>...</td>\n",
       "      <td>...</td>\n",
       "      <td>...</td>\n",
       "      <td>...</td>\n",
       "      <td>...</td>\n",
       "      <td>...</td>\n",
       "      <td>...</td>\n",
       "      <td>...</td>\n",
       "      <td>...</td>\n",
       "      <td>...</td>\n",
       "      <td>...</td>\n",
       "    </tr>\n",
       "    <tr>\n",
       "      <th>5766</th>\n",
       "      <td>F d -3 m</td>\n",
       "      <td>cubic</td>\n",
       "      <td>0</td>\n",
       "      <td>5.422174</td>\n",
       "      <td>5.422174</td>\n",
       "      <td>5.422174</td>\n",
       "      <td>{'Zr': 2.0, 'W': 4.0}</td>\n",
       "      <td>112.721135</td>\n",
       "      <td>{'Zr': 1.0, 'W': 2.0}</td>\n",
       "      <td>0</td>\n",
       "      <td>0</td>\n",
       "      <td>0</td>\n",
       "      <td>1</td>\n",
       "      <td>m-3m</td>\n",
       "    </tr>\n",
       "    <tr>\n",
       "      <th>5767</th>\n",
       "      <td>P m -3 n</td>\n",
       "      <td>cubic</td>\n",
       "      <td>0</td>\n",
       "      <td>4.980141</td>\n",
       "      <td>4.980141</td>\n",
       "      <td>4.980141</td>\n",
       "      <td>{'W': 6.0, 'O': 2.0}</td>\n",
       "      <td>123.516483</td>\n",
       "      <td>{'W': 3.0, 'O': 1.0}</td>\n",
       "      <td>1</td>\n",
       "      <td>0</td>\n",
       "      <td>0</td>\n",
       "      <td>0</td>\n",
       "      <td>m-3m</td>\n",
       "    </tr>\n",
       "    <tr>\n",
       "      <th>5770</th>\n",
       "      <td>P 63/m m c</td>\n",
       "      <td>hexagonal</td>\n",
       "      <td>1</td>\n",
       "      <td>2.626730</td>\n",
       "      <td>2.626731</td>\n",
       "      <td>5.207234</td>\n",
       "      <td>{'Zn': 2.0}</td>\n",
       "      <td>31.114928</td>\n",
       "      <td>{'Zn': 1.0}</td>\n",
       "      <td>1</td>\n",
       "      <td>0</td>\n",
       "      <td>0</td>\n",
       "      <td>0</td>\n",
       "      <td>6/mmm</td>\n",
       "    </tr>\n",
       "    <tr>\n",
       "      <th>5771</th>\n",
       "      <td>F d -3 m</td>\n",
       "      <td>cubic</td>\n",
       "      <td>0</td>\n",
       "      <td>5.244424</td>\n",
       "      <td>5.244424</td>\n",
       "      <td>5.244424</td>\n",
       "      <td>{'Zr': 2.0, 'Zn': 4.0}</td>\n",
       "      <td>101.994903</td>\n",
       "      <td>{'Zr': 1.0, 'Zn': 2.0}</td>\n",
       "      <td>0</td>\n",
       "      <td>0</td>\n",
       "      <td>0</td>\n",
       "      <td>1</td>\n",
       "      <td>m-3m</td>\n",
       "    </tr>\n",
       "    <tr>\n",
       "      <th>5772</th>\n",
       "      <td>P 63/m m c</td>\n",
       "      <td>hexagonal</td>\n",
       "      <td>1</td>\n",
       "      <td>3.239232</td>\n",
       "      <td>3.239232</td>\n",
       "      <td>5.172220</td>\n",
       "      <td>{'Zr': 2.0}</td>\n",
       "      <td>46.999333</td>\n",
       "      <td>{'Zr': 1.0}</td>\n",
       "      <td>1</td>\n",
       "      <td>0</td>\n",
       "      <td>0</td>\n",
       "      <td>0</td>\n",
       "      <td>6/mmm</td>\n",
       "    </tr>\n",
       "  </tbody>\n",
       "</table>\n",
       "<p>3995 rows × 14 columns</p>\n",
       "</div>"
      ],
      "text/plain": [
       "      spacegroup crystal_system  cat_crystal_system      lata      latb  \\\n",
       "0      I 4/m m m     tetragonal                   4  4.438672  4.438672   \n",
       "1       F m -3 m          cubic                   0  4.537670  4.537670   \n",
       "2      I 4/m m m     tetragonal                   4  4.438672  4.438672   \n",
       "3       F m -3 m          cubic                   0  4.443633  4.443633   \n",
       "4       P 43 3 2          cubic                   0  6.771439  6.771439   \n",
       "...          ...            ...                 ...       ...       ...   \n",
       "5766    F d -3 m          cubic                   0  5.422174  5.422174   \n",
       "5767    P m -3 n          cubic                   0  4.980141  4.980141   \n",
       "5770  P 63/m m c      hexagonal                   1  2.626730  2.626731   \n",
       "5771    F d -3 m          cubic                   0  5.244424  5.244424   \n",
       "5772  P 63/m m c      hexagonal                   1  3.239232  3.239232   \n",
       "\n",
       "          latc                  unit_cell_formula  cell_volume  \\\n",
       "0     6.030548  {'Sr': 1.0, 'Ge': 2.0, 'Pd': 2.0}   101.453048   \n",
       "1     4.537670             {'Sn': 1.0, 'Te': 1.0}    66.066855   \n",
       "2     6.030548  {'Sr': 1.0, 'Ge': 2.0, 'Pd': 2.0}   101.453048   \n",
       "3     4.443633             {'In': 1.0, 'Te': 1.0}    62.043965   \n",
       "4     6.771439             {'Ba': 4.0, 'Si': 8.0}   310.486636   \n",
       "...        ...                                ...          ...   \n",
       "5766  5.422174              {'Zr': 2.0, 'W': 4.0}   112.721135   \n",
       "5767  4.980141               {'W': 6.0, 'O': 2.0}   123.516483   \n",
       "5770  5.207234                        {'Zn': 2.0}    31.114928   \n",
       "5771  5.244424             {'Zr': 2.0, 'Zn': 4.0}   101.994903   \n",
       "5772  5.172220                        {'Zr': 2.0}    46.999333   \n",
       "\n",
       "                   reduced_cell_formula  primitive  base-centered  \\\n",
       "0     {'Sr': 1.0, 'Ge': 2.0, 'Pd': 2.0}          0              0   \n",
       "1                {'Sn': 1.0, 'Te': 1.0}          0              0   \n",
       "2     {'Sr': 1.0, 'Ge': 2.0, 'Pd': 2.0}          0              0   \n",
       "3                {'In': 1.0, 'Te': 1.0}          0              0   \n",
       "4                {'Ba': 1.0, 'Si': 2.0}          1              0   \n",
       "...                                 ...        ...            ...   \n",
       "5766              {'Zr': 1.0, 'W': 2.0}          0              0   \n",
       "5767               {'W': 3.0, 'O': 1.0}          1              0   \n",
       "5770                        {'Zn': 1.0}          1              0   \n",
       "5771             {'Zr': 1.0, 'Zn': 2.0}          0              0   \n",
       "5772                        {'Zr': 1.0}          1              0   \n",
       "\n",
       "      body-centered  face-centered point_group  \n",
       "0                 1              0       4/mmm  \n",
       "1                 0              1        m-3m  \n",
       "2                 1              0       4/mmm  \n",
       "3                 0              1        m-3m  \n",
       "4                 0              0         432  \n",
       "...             ...            ...         ...  \n",
       "5766              0              1        m-3m  \n",
       "5767              0              0        m-3m  \n",
       "5770              0              0       6/mmm  \n",
       "5771              0              1        m-3m  \n",
       "5772              0              0       6/mmm  \n",
       "\n",
       "[3995 rows x 14 columns]"
      ]
     },
     "execution_count": 21,
     "metadata": {},
     "output_type": "execute_result"
    }
   ],
   "source": [
    "crystal_properties = [\"spacegroup\",\n",
    "                      \"crystal_system\",\n",
    "                      \"cat_crystal_system\",\n",
    "                      \"lata\",\n",
    "                      \"latb\",\n",
    "                      \"latc\",\n",
    "                      \"unit_cell_formula\",\n",
    "                      \"cell_volume\",\n",
    "                      \"reduced_cell_formula\",\n",
    "                      \"primitive\",\n",
    "                      \"base-centered\",\n",
    "                      \"body-centered\",\n",
    "                      \"face-centered\",\n",
    "                      \"point_group\"\n",
    "                      ]\n",
    "\n",
    "df_MP_non_zero[crystal_properties]"
   ]
  },
  {
   "cell_type": "code",
   "execution_count": 22,
   "metadata": {},
   "outputs": [
    {
     "data": {
      "application/vnd.plotly.v1+json": {
       "config": {
        "plotlyServerURL": "https://plot.ly"
       },
       "data": [
        {
         "colorbar": {
          "ticktext": [
           -1,
           -0.5,
           0,
           0.5,
           1
          ],
          "tickvals": [
           -1,
           -0.5,
           0,
           0.5,
           1
          ],
          "title": {
           "side": "right",
           "text": "Pearson Coefficient"
          }
         },
         "colorscale": [
          [
           0,
           "#440154"
          ],
          [
           0.1111111111111111,
           "#482878"
          ],
          [
           0.2222222222222222,
           "#3e4989"
          ],
          [
           0.3333333333333333,
           "#31688e"
          ],
          [
           0.4444444444444444,
           "#26828e"
          ],
          [
           0.5555555555555556,
           "#1f9e89"
          ],
          [
           0.6666666666666666,
           "#35b779"
          ],
          [
           0.7777777777777778,
           "#6ece58"
          ],
          [
           0.8888888888888888,
           "#b5de2b"
          ],
          [
           1,
           "#fde725"
          ]
         ],
         "text": [
          [
           1,
           -0.22,
           -0.14,
           0.33,
           0.02,
           -0.09,
           0.08,
           0.34,
           -0.39,
           0.19
          ],
          [
           -0.22,
           1,
           0.78,
           0.18,
           0.72,
           -0.12,
           -0.02,
           0.04,
           0.16,
           -0.14
          ],
          [
           -0.14,
           0.78,
           1,
           0.26,
           0.75,
           -0.01,
           0.01,
           -0.03,
           0.05,
           -0.19
          ],
          [
           0.33,
           0.18,
           0.26,
           1,
           0.56,
           -0.02,
           0.29,
           -0.07,
           -0.17,
           0.44
          ],
          [
           0.02,
           0.72,
           0.75,
           0.56,
           1,
           0.02,
           0.1,
           -0.04,
           -0.08,
           0.06
          ],
          [
           -0.09,
           -0.12,
           -0.01,
           -0.02,
           0.02,
           1,
           -0.4,
           -0.61,
           -0.39,
           -0.02
          ],
          [
           0.08,
           -0.02,
           0.01,
           0.29,
           0.1,
           -0.4,
           1,
           -0.18,
           -0.12,
           0.29
          ],
          [
           0.34,
           0.04,
           -0.03,
           -0.07,
           -0.04,
           -0.61,
           -0.18,
           1,
           -0.18,
           -0.07
          ],
          [
           -0.39,
           0.16,
           0.05,
           -0.17,
           -0.08,
           -0.39,
           -0.12,
           -0.18,
           1,
           -0.17
          ],
          [
           0.19,
           -0.14,
           -0.19,
           0.44,
           0.06,
           -0.02,
           0.29,
           -0.07,
           -0.17,
           1
          ]
         ],
         "textfont": {
          "size": 14
         },
         "texttemplate": "%{text}",
         "type": "heatmap",
         "x": [
          "cat_crystal_system",
          "lata",
          "latb",
          "latc",
          "cell_volume",
          "primitive",
          "base-centered",
          "body-centered",
          "face-centered",
          "tc"
         ],
         "y": [
          "cat_crystal_system",
          "lata",
          "latb",
          "latc",
          "cell_volume",
          "primitive",
          "base-centered",
          "body-centered",
          "face-centered",
          "tc"
         ],
         "z": [
          [
           1,
           -0.22,
           -0.14,
           0.33,
           0.02,
           -0.09,
           0.08,
           0.34,
           -0.39,
           0.19
          ],
          [
           -0.22,
           1,
           0.78,
           0.18,
           0.72,
           -0.12,
           -0.02,
           0.04,
           0.16,
           -0.14
          ],
          [
           -0.14,
           0.78,
           1,
           0.26,
           0.75,
           -0.01,
           0.01,
           -0.03,
           0.05,
           -0.19
          ],
          [
           0.33,
           0.18,
           0.26,
           1,
           0.56,
           -0.02,
           0.29,
           -0.07,
           -0.17,
           0.44
          ],
          [
           0.02,
           0.72,
           0.75,
           0.56,
           1,
           0.02,
           0.1,
           -0.04,
           -0.08,
           0.06
          ],
          [
           -0.09,
           -0.12,
           -0.01,
           -0.02,
           0.02,
           1,
           -0.4,
           -0.61,
           -0.39,
           -0.02
          ],
          [
           0.08,
           -0.02,
           0.01,
           0.29,
           0.1,
           -0.4,
           1,
           -0.18,
           -0.12,
           0.29
          ],
          [
           0.34,
           0.04,
           -0.03,
           -0.07,
           -0.04,
           -0.61,
           -0.18,
           1,
           -0.18,
           -0.07
          ],
          [
           -0.39,
           0.16,
           0.05,
           -0.17,
           -0.08,
           -0.39,
           -0.12,
           -0.18,
           1,
           -0.17
          ],
          [
           0.19,
           -0.14,
           -0.19,
           0.44,
           0.06,
           -0.02,
           0.29,
           -0.07,
           -0.17,
           1
          ]
         ]
        }
       ],
       "layout": {
        "font": {
         "color": "black",
         "family": "Helvetica",
         "size": 16
        },
        "height": 600,
        "margin": {
         "b": 5,
         "l": 5,
         "r": 5,
         "t": 10
        },
        "paper_bgcolor": "white",
        "plot_bgcolor": "white",
        "template": {
         "data": {
          "bar": [
           {
            "error_x": {
             "color": "#2a3f5f"
            },
            "error_y": {
             "color": "#2a3f5f"
            },
            "marker": {
             "line": {
              "color": "#E5ECF6",
              "width": 0.5
             },
             "pattern": {
              "fillmode": "overlay",
              "size": 10,
              "solidity": 0.2
             }
            },
            "type": "bar"
           }
          ],
          "barpolar": [
           {
            "marker": {
             "line": {
              "color": "#E5ECF6",
              "width": 0.5
             },
             "pattern": {
              "fillmode": "overlay",
              "size": 10,
              "solidity": 0.2
             }
            },
            "type": "barpolar"
           }
          ],
          "carpet": [
           {
            "aaxis": {
             "endlinecolor": "#2a3f5f",
             "gridcolor": "white",
             "linecolor": "white",
             "minorgridcolor": "white",
             "startlinecolor": "#2a3f5f"
            },
            "baxis": {
             "endlinecolor": "#2a3f5f",
             "gridcolor": "white",
             "linecolor": "white",
             "minorgridcolor": "white",
             "startlinecolor": "#2a3f5f"
            },
            "type": "carpet"
           }
          ],
          "choropleth": [
           {
            "colorbar": {
             "outlinewidth": 0,
             "ticks": ""
            },
            "type": "choropleth"
           }
          ],
          "contour": [
           {
            "colorbar": {
             "outlinewidth": 0,
             "ticks": ""
            },
            "colorscale": [
             [
              0,
              "#0d0887"
             ],
             [
              0.1111111111111111,
              "#46039f"
             ],
             [
              0.2222222222222222,
              "#7201a8"
             ],
             [
              0.3333333333333333,
              "#9c179e"
             ],
             [
              0.4444444444444444,
              "#bd3786"
             ],
             [
              0.5555555555555556,
              "#d8576b"
             ],
             [
              0.6666666666666666,
              "#ed7953"
             ],
             [
              0.7777777777777778,
              "#fb9f3a"
             ],
             [
              0.8888888888888888,
              "#fdca26"
             ],
             [
              1,
              "#f0f921"
             ]
            ],
            "type": "contour"
           }
          ],
          "contourcarpet": [
           {
            "colorbar": {
             "outlinewidth": 0,
             "ticks": ""
            },
            "type": "contourcarpet"
           }
          ],
          "heatmap": [
           {
            "colorbar": {
             "outlinewidth": 0,
             "ticks": ""
            },
            "colorscale": [
             [
              0,
              "#0d0887"
             ],
             [
              0.1111111111111111,
              "#46039f"
             ],
             [
              0.2222222222222222,
              "#7201a8"
             ],
             [
              0.3333333333333333,
              "#9c179e"
             ],
             [
              0.4444444444444444,
              "#bd3786"
             ],
             [
              0.5555555555555556,
              "#d8576b"
             ],
             [
              0.6666666666666666,
              "#ed7953"
             ],
             [
              0.7777777777777778,
              "#fb9f3a"
             ],
             [
              0.8888888888888888,
              "#fdca26"
             ],
             [
              1,
              "#f0f921"
             ]
            ],
            "type": "heatmap"
           }
          ],
          "heatmapgl": [
           {
            "colorbar": {
             "outlinewidth": 0,
             "ticks": ""
            },
            "colorscale": [
             [
              0,
              "#0d0887"
             ],
             [
              0.1111111111111111,
              "#46039f"
             ],
             [
              0.2222222222222222,
              "#7201a8"
             ],
             [
              0.3333333333333333,
              "#9c179e"
             ],
             [
              0.4444444444444444,
              "#bd3786"
             ],
             [
              0.5555555555555556,
              "#d8576b"
             ],
             [
              0.6666666666666666,
              "#ed7953"
             ],
             [
              0.7777777777777778,
              "#fb9f3a"
             ],
             [
              0.8888888888888888,
              "#fdca26"
             ],
             [
              1,
              "#f0f921"
             ]
            ],
            "type": "heatmapgl"
           }
          ],
          "histogram": [
           {
            "marker": {
             "pattern": {
              "fillmode": "overlay",
              "size": 10,
              "solidity": 0.2
             }
            },
            "type": "histogram"
           }
          ],
          "histogram2d": [
           {
            "colorbar": {
             "outlinewidth": 0,
             "ticks": ""
            },
            "colorscale": [
             [
              0,
              "#0d0887"
             ],
             [
              0.1111111111111111,
              "#46039f"
             ],
             [
              0.2222222222222222,
              "#7201a8"
             ],
             [
              0.3333333333333333,
              "#9c179e"
             ],
             [
              0.4444444444444444,
              "#bd3786"
             ],
             [
              0.5555555555555556,
              "#d8576b"
             ],
             [
              0.6666666666666666,
              "#ed7953"
             ],
             [
              0.7777777777777778,
              "#fb9f3a"
             ],
             [
              0.8888888888888888,
              "#fdca26"
             ],
             [
              1,
              "#f0f921"
             ]
            ],
            "type": "histogram2d"
           }
          ],
          "histogram2dcontour": [
           {
            "colorbar": {
             "outlinewidth": 0,
             "ticks": ""
            },
            "colorscale": [
             [
              0,
              "#0d0887"
             ],
             [
              0.1111111111111111,
              "#46039f"
             ],
             [
              0.2222222222222222,
              "#7201a8"
             ],
             [
              0.3333333333333333,
              "#9c179e"
             ],
             [
              0.4444444444444444,
              "#bd3786"
             ],
             [
              0.5555555555555556,
              "#d8576b"
             ],
             [
              0.6666666666666666,
              "#ed7953"
             ],
             [
              0.7777777777777778,
              "#fb9f3a"
             ],
             [
              0.8888888888888888,
              "#fdca26"
             ],
             [
              1,
              "#f0f921"
             ]
            ],
            "type": "histogram2dcontour"
           }
          ],
          "mesh3d": [
           {
            "colorbar": {
             "outlinewidth": 0,
             "ticks": ""
            },
            "type": "mesh3d"
           }
          ],
          "parcoords": [
           {
            "line": {
             "colorbar": {
              "outlinewidth": 0,
              "ticks": ""
             }
            },
            "type": "parcoords"
           }
          ],
          "pie": [
           {
            "automargin": true,
            "type": "pie"
           }
          ],
          "scatter": [
           {
            "fillpattern": {
             "fillmode": "overlay",
             "size": 10,
             "solidity": 0.2
            },
            "type": "scatter"
           }
          ],
          "scatter3d": [
           {
            "line": {
             "colorbar": {
              "outlinewidth": 0,
              "ticks": ""
             }
            },
            "marker": {
             "colorbar": {
              "outlinewidth": 0,
              "ticks": ""
             }
            },
            "type": "scatter3d"
           }
          ],
          "scattercarpet": [
           {
            "marker": {
             "colorbar": {
              "outlinewidth": 0,
              "ticks": ""
             }
            },
            "type": "scattercarpet"
           }
          ],
          "scattergeo": [
           {
            "marker": {
             "colorbar": {
              "outlinewidth": 0,
              "ticks": ""
             }
            },
            "type": "scattergeo"
           }
          ],
          "scattergl": [
           {
            "marker": {
             "colorbar": {
              "outlinewidth": 0,
              "ticks": ""
             }
            },
            "type": "scattergl"
           }
          ],
          "scattermapbox": [
           {
            "marker": {
             "colorbar": {
              "outlinewidth": 0,
              "ticks": ""
             }
            },
            "type": "scattermapbox"
           }
          ],
          "scatterpolar": [
           {
            "marker": {
             "colorbar": {
              "outlinewidth": 0,
              "ticks": ""
             }
            },
            "type": "scatterpolar"
           }
          ],
          "scatterpolargl": [
           {
            "marker": {
             "colorbar": {
              "outlinewidth": 0,
              "ticks": ""
             }
            },
            "type": "scatterpolargl"
           }
          ],
          "scatterternary": [
           {
            "marker": {
             "colorbar": {
              "outlinewidth": 0,
              "ticks": ""
             }
            },
            "type": "scatterternary"
           }
          ],
          "surface": [
           {
            "colorbar": {
             "outlinewidth": 0,
             "ticks": ""
            },
            "colorscale": [
             [
              0,
              "#0d0887"
             ],
             [
              0.1111111111111111,
              "#46039f"
             ],
             [
              0.2222222222222222,
              "#7201a8"
             ],
             [
              0.3333333333333333,
              "#9c179e"
             ],
             [
              0.4444444444444444,
              "#bd3786"
             ],
             [
              0.5555555555555556,
              "#d8576b"
             ],
             [
              0.6666666666666666,
              "#ed7953"
             ],
             [
              0.7777777777777778,
              "#fb9f3a"
             ],
             [
              0.8888888888888888,
              "#fdca26"
             ],
             [
              1,
              "#f0f921"
             ]
            ],
            "type": "surface"
           }
          ],
          "table": [
           {
            "cells": {
             "fill": {
              "color": "#EBF0F8"
             },
             "line": {
              "color": "white"
             }
            },
            "header": {
             "fill": {
              "color": "#C8D4E3"
             },
             "line": {
              "color": "white"
             }
            },
            "type": "table"
           }
          ]
         },
         "layout": {
          "annotationdefaults": {
           "arrowcolor": "#2a3f5f",
           "arrowhead": 0,
           "arrowwidth": 1
          },
          "autotypenumbers": "strict",
          "coloraxis": {
           "colorbar": {
            "outlinewidth": 0,
            "ticks": ""
           }
          },
          "colorscale": {
           "diverging": [
            [
             0,
             "#8e0152"
            ],
            [
             0.1,
             "#c51b7d"
            ],
            [
             0.2,
             "#de77ae"
            ],
            [
             0.3,
             "#f1b6da"
            ],
            [
             0.4,
             "#fde0ef"
            ],
            [
             0.5,
             "#f7f7f7"
            ],
            [
             0.6,
             "#e6f5d0"
            ],
            [
             0.7,
             "#b8e186"
            ],
            [
             0.8,
             "#7fbc41"
            ],
            [
             0.9,
             "#4d9221"
            ],
            [
             1,
             "#276419"
            ]
           ],
           "sequential": [
            [
             0,
             "#0d0887"
            ],
            [
             0.1111111111111111,
             "#46039f"
            ],
            [
             0.2222222222222222,
             "#7201a8"
            ],
            [
             0.3333333333333333,
             "#9c179e"
            ],
            [
             0.4444444444444444,
             "#bd3786"
            ],
            [
             0.5555555555555556,
             "#d8576b"
            ],
            [
             0.6666666666666666,
             "#ed7953"
            ],
            [
             0.7777777777777778,
             "#fb9f3a"
            ],
            [
             0.8888888888888888,
             "#fdca26"
            ],
            [
             1,
             "#f0f921"
            ]
           ],
           "sequentialminus": [
            [
             0,
             "#0d0887"
            ],
            [
             0.1111111111111111,
             "#46039f"
            ],
            [
             0.2222222222222222,
             "#7201a8"
            ],
            [
             0.3333333333333333,
             "#9c179e"
            ],
            [
             0.4444444444444444,
             "#bd3786"
            ],
            [
             0.5555555555555556,
             "#d8576b"
            ],
            [
             0.6666666666666666,
             "#ed7953"
            ],
            [
             0.7777777777777778,
             "#fb9f3a"
            ],
            [
             0.8888888888888888,
             "#fdca26"
            ],
            [
             1,
             "#f0f921"
            ]
           ]
          },
          "colorway": [
           "#636efa",
           "#EF553B",
           "#00cc96",
           "#ab63fa",
           "#FFA15A",
           "#19d3f3",
           "#FF6692",
           "#B6E880",
           "#FF97FF",
           "#FECB52"
          ],
          "font": {
           "color": "#2a3f5f"
          },
          "geo": {
           "bgcolor": "white",
           "lakecolor": "white",
           "landcolor": "#E5ECF6",
           "showlakes": true,
           "showland": true,
           "subunitcolor": "white"
          },
          "hoverlabel": {
           "align": "left"
          },
          "hovermode": "closest",
          "mapbox": {
           "style": "light"
          },
          "paper_bgcolor": "white",
          "plot_bgcolor": "#E5ECF6",
          "polar": {
           "angularaxis": {
            "gridcolor": "white",
            "linecolor": "white",
            "ticks": ""
           },
           "bgcolor": "#E5ECF6",
           "radialaxis": {
            "gridcolor": "white",
            "linecolor": "white",
            "ticks": ""
           }
          },
          "scene": {
           "xaxis": {
            "backgroundcolor": "#E5ECF6",
            "gridcolor": "white",
            "gridwidth": 2,
            "linecolor": "white",
            "showbackground": true,
            "ticks": "",
            "zerolinecolor": "white"
           },
           "yaxis": {
            "backgroundcolor": "#E5ECF6",
            "gridcolor": "white",
            "gridwidth": 2,
            "linecolor": "white",
            "showbackground": true,
            "ticks": "",
            "zerolinecolor": "white"
           },
           "zaxis": {
            "backgroundcolor": "#E5ECF6",
            "gridcolor": "white",
            "gridwidth": 2,
            "linecolor": "white",
            "showbackground": true,
            "ticks": "",
            "zerolinecolor": "white"
           }
          },
          "shapedefaults": {
           "line": {
            "color": "#2a3f5f"
           }
          },
          "ternary": {
           "aaxis": {
            "gridcolor": "white",
            "linecolor": "white",
            "ticks": ""
           },
           "baxis": {
            "gridcolor": "white",
            "linecolor": "white",
            "ticks": ""
           },
           "bgcolor": "#E5ECF6",
           "caxis": {
            "gridcolor": "white",
            "linecolor": "white",
            "ticks": ""
           }
          },
          "title": {
           "x": 0.05
          },
          "xaxis": {
           "automargin": true,
           "gridcolor": "white",
           "linecolor": "white",
           "ticks": "",
           "title": {
            "standoff": 15
           },
           "zerolinecolor": "white",
           "zerolinewidth": 2
          },
          "yaxis": {
           "automargin": true,
           "gridcolor": "white",
           "linecolor": "white",
           "ticks": "",
           "title": {
            "standoff": 15
           },
           "zerolinecolor": "white",
           "zerolinewidth": 2
          }
         }
        },
        "width": 800,
        "xaxis": {
         "linecolor": "black",
         "linewidth": 2,
         "showline": true,
         "ticklen": 5,
         "ticks": "inside",
         "tickwidth": 2,
         "title": {
          "text": ""
         }
        },
        "yaxis": {
         "linecolor": "black",
         "linewidth": 2,
         "showline": true,
         "ticklen": 5,
         "ticks": "inside",
         "tickwidth": 2,
         "title": {
          "text": ""
         }
        }
       }
      }
     },
     "metadata": {},
     "output_type": "display_data"
    }
   ],
   "source": [
    "corr_matrix(df_MP_non_zero, crystal_properties, 800, 600, 14)"
   ]
  },
  {
   "cell_type": "markdown",
   "metadata": {},
   "source": [
    "Really unexpected correlation here with tc I expected volume to have a much higher correlation, I wonder if the latc value here is because of the cuprates?"
   ]
  },
  {
   "cell_type": "code",
   "execution_count": 23,
   "metadata": {},
   "outputs": [
    {
     "data": {
      "application/vnd.plotly.v1+json": {
       "config": {
        "plotlyServerURL": "https://plot.ly"
       },
       "data": [
        {
         "colorbar": {
          "ticktext": [
           -1,
           -0.5,
           0,
           0.5,
           1
          ],
          "tickvals": [
           -1,
           -0.5,
           0,
           0.5,
           1
          ],
          "title": {
           "side": "right",
           "text": "Pearson Coefficient"
          }
         },
         "colorscale": [
          [
           0,
           "#440154"
          ],
          [
           0.1111111111111111,
           "#482878"
          ],
          [
           0.2222222222222222,
           "#3e4989"
          ],
          [
           0.3333333333333333,
           "#31688e"
          ],
          [
           0.4444444444444444,
           "#26828e"
          ],
          [
           0.5555555555555556,
           "#1f9e89"
          ],
          [
           0.6666666666666666,
           "#35b779"
          ],
          [
           0.7777777777777778,
           "#6ece58"
          ],
          [
           0.8888888888888888,
           "#b5de2b"
          ],
          [
           1,
           "#fde725"
          ]
         ],
         "text": [
          [
           1,
           -0.2,
           -0.11,
           0.34,
           0.01,
           -0.05,
           0.07,
           0.32,
           -0.38,
           0.05,
           0.05
          ],
          [
           -0.2,
           1,
           0.78,
           0.27,
           0.73,
           -0.15,
           -0.02,
           0.07,
           0.15,
           -0.16,
           -0.16
          ],
          [
           -0.11,
           0.78,
           1,
           0.41,
           0.78,
           -0.04,
           0.02,
           0,
           0.04,
           -0.21,
           -0.21
          ],
          [
           0.34,
           0.27,
           0.41,
           1,
           0.58,
           0.06,
           0.09,
           -0.01,
           -0.15,
           -0.05,
           -0.05
          ],
          [
           0.01,
           0.73,
           0.78,
           0.58,
           1,
           0.04,
           0.02,
           0,
           -0.07,
           -0.11,
           -0.11
          ],
          [
           -0.05,
           -0.15,
           -0.04,
           0.06,
           0.04,
           1,
           -0.35,
           -0.62,
           -0.46,
           0.16,
           0.16
          ],
          [
           0.07,
           -0.02,
           0.02,
           0.09,
           0.02,
           -0.35,
           1,
           -0.14,
           -0.1,
           0.06,
           0.06
          ],
          [
           0.32,
           0.07,
           0,
           -0.01,
           0,
           -0.62,
           -0.14,
           1,
           -0.18,
           -0.09,
           -0.09
          ],
          [
           -0.38,
           0.15,
           0.04,
           -0.15,
           -0.07,
           -0.46,
           -0.1,
           -0.18,
           1,
           -0.18,
           -0.18
          ],
          [
           0.05,
           -0.16,
           -0.21,
           -0.05,
           -0.11,
           0.16,
           0.06,
           -0.09,
           -0.18,
           1,
           1
          ],
          [
           0.05,
           -0.16,
           -0.21,
           -0.05,
           -0.11,
           0.16,
           0.06,
           -0.09,
           -0.18,
           1,
           1
          ]
         ],
         "textfont": {
          "size": 14
         },
         "texttemplate": "%{text}",
         "type": "heatmap",
         "x": [
          "cat_crystal_system",
          "lata",
          "latb",
          "latc",
          "cell_volume",
          "primitive",
          "base-centered",
          "body-centered",
          "face-centered",
          "tc",
          "tc"
         ],
         "y": [
          "cat_crystal_system",
          "lata",
          "latb",
          "latc",
          "cell_volume",
          "primitive",
          "base-centered",
          "body-centered",
          "face-centered",
          "tc",
          "tc"
         ],
         "z": [
          [
           1,
           -0.2,
           -0.11,
           0.34,
           0.01,
           -0.05,
           0.07,
           0.32,
           -0.38,
           0.05,
           0.05
          ],
          [
           -0.2,
           1,
           0.78,
           0.27,
           0.73,
           -0.15,
           -0.02,
           0.07,
           0.15,
           -0.16,
           -0.16
          ],
          [
           -0.11,
           0.78,
           1,
           0.41,
           0.78,
           -0.04,
           0.02,
           0,
           0.04,
           -0.21,
           -0.21
          ],
          [
           0.34,
           0.27,
           0.41,
           1,
           0.58,
           0.06,
           0.09,
           -0.01,
           -0.15,
           -0.05,
           -0.05
          ],
          [
           0.01,
           0.73,
           0.78,
           0.58,
           1,
           0.04,
           0.02,
           0,
           -0.07,
           -0.11,
           -0.11
          ],
          [
           -0.05,
           -0.15,
           -0.04,
           0.06,
           0.04,
           1,
           -0.35,
           -0.62,
           -0.46,
           0.16,
           0.16
          ],
          [
           0.07,
           -0.02,
           0.02,
           0.09,
           0.02,
           -0.35,
           1,
           -0.14,
           -0.1,
           0.06,
           0.06
          ],
          [
           0.32,
           0.07,
           0,
           -0.01,
           0,
           -0.62,
           -0.14,
           1,
           -0.18,
           -0.09,
           -0.09
          ],
          [
           -0.38,
           0.15,
           0.04,
           -0.15,
           -0.07,
           -0.46,
           -0.1,
           -0.18,
           1,
           -0.18,
           -0.18
          ],
          [
           0.05,
           -0.16,
           -0.21,
           -0.05,
           -0.11,
           0.16,
           0.06,
           -0.09,
           -0.18,
           1,
           1
          ],
          [
           0.05,
           -0.16,
           -0.21,
           -0.05,
           -0.11,
           0.16,
           0.06,
           -0.09,
           -0.18,
           1,
           1
          ]
         ]
        }
       ],
       "layout": {
        "font": {
         "color": "black",
         "family": "Helvetica",
         "size": 16
        },
        "height": 600,
        "margin": {
         "b": 5,
         "l": 5,
         "r": 5,
         "t": 10
        },
        "paper_bgcolor": "white",
        "plot_bgcolor": "white",
        "template": {
         "data": {
          "bar": [
           {
            "error_x": {
             "color": "#2a3f5f"
            },
            "error_y": {
             "color": "#2a3f5f"
            },
            "marker": {
             "line": {
              "color": "#E5ECF6",
              "width": 0.5
             },
             "pattern": {
              "fillmode": "overlay",
              "size": 10,
              "solidity": 0.2
             }
            },
            "type": "bar"
           }
          ],
          "barpolar": [
           {
            "marker": {
             "line": {
              "color": "#E5ECF6",
              "width": 0.5
             },
             "pattern": {
              "fillmode": "overlay",
              "size": 10,
              "solidity": 0.2
             }
            },
            "type": "barpolar"
           }
          ],
          "carpet": [
           {
            "aaxis": {
             "endlinecolor": "#2a3f5f",
             "gridcolor": "white",
             "linecolor": "white",
             "minorgridcolor": "white",
             "startlinecolor": "#2a3f5f"
            },
            "baxis": {
             "endlinecolor": "#2a3f5f",
             "gridcolor": "white",
             "linecolor": "white",
             "minorgridcolor": "white",
             "startlinecolor": "#2a3f5f"
            },
            "type": "carpet"
           }
          ],
          "choropleth": [
           {
            "colorbar": {
             "outlinewidth": 0,
             "ticks": ""
            },
            "type": "choropleth"
           }
          ],
          "contour": [
           {
            "colorbar": {
             "outlinewidth": 0,
             "ticks": ""
            },
            "colorscale": [
             [
              0,
              "#0d0887"
             ],
             [
              0.1111111111111111,
              "#46039f"
             ],
             [
              0.2222222222222222,
              "#7201a8"
             ],
             [
              0.3333333333333333,
              "#9c179e"
             ],
             [
              0.4444444444444444,
              "#bd3786"
             ],
             [
              0.5555555555555556,
              "#d8576b"
             ],
             [
              0.6666666666666666,
              "#ed7953"
             ],
             [
              0.7777777777777778,
              "#fb9f3a"
             ],
             [
              0.8888888888888888,
              "#fdca26"
             ],
             [
              1,
              "#f0f921"
             ]
            ],
            "type": "contour"
           }
          ],
          "contourcarpet": [
           {
            "colorbar": {
             "outlinewidth": 0,
             "ticks": ""
            },
            "type": "contourcarpet"
           }
          ],
          "heatmap": [
           {
            "colorbar": {
             "outlinewidth": 0,
             "ticks": ""
            },
            "colorscale": [
             [
              0,
              "#0d0887"
             ],
             [
              0.1111111111111111,
              "#46039f"
             ],
             [
              0.2222222222222222,
              "#7201a8"
             ],
             [
              0.3333333333333333,
              "#9c179e"
             ],
             [
              0.4444444444444444,
              "#bd3786"
             ],
             [
              0.5555555555555556,
              "#d8576b"
             ],
             [
              0.6666666666666666,
              "#ed7953"
             ],
             [
              0.7777777777777778,
              "#fb9f3a"
             ],
             [
              0.8888888888888888,
              "#fdca26"
             ],
             [
              1,
              "#f0f921"
             ]
            ],
            "type": "heatmap"
           }
          ],
          "heatmapgl": [
           {
            "colorbar": {
             "outlinewidth": 0,
             "ticks": ""
            },
            "colorscale": [
             [
              0,
              "#0d0887"
             ],
             [
              0.1111111111111111,
              "#46039f"
             ],
             [
              0.2222222222222222,
              "#7201a8"
             ],
             [
              0.3333333333333333,
              "#9c179e"
             ],
             [
              0.4444444444444444,
              "#bd3786"
             ],
             [
              0.5555555555555556,
              "#d8576b"
             ],
             [
              0.6666666666666666,
              "#ed7953"
             ],
             [
              0.7777777777777778,
              "#fb9f3a"
             ],
             [
              0.8888888888888888,
              "#fdca26"
             ],
             [
              1,
              "#f0f921"
             ]
            ],
            "type": "heatmapgl"
           }
          ],
          "histogram": [
           {
            "marker": {
             "pattern": {
              "fillmode": "overlay",
              "size": 10,
              "solidity": 0.2
             }
            },
            "type": "histogram"
           }
          ],
          "histogram2d": [
           {
            "colorbar": {
             "outlinewidth": 0,
             "ticks": ""
            },
            "colorscale": [
             [
              0,
              "#0d0887"
             ],
             [
              0.1111111111111111,
              "#46039f"
             ],
             [
              0.2222222222222222,
              "#7201a8"
             ],
             [
              0.3333333333333333,
              "#9c179e"
             ],
             [
              0.4444444444444444,
              "#bd3786"
             ],
             [
              0.5555555555555556,
              "#d8576b"
             ],
             [
              0.6666666666666666,
              "#ed7953"
             ],
             [
              0.7777777777777778,
              "#fb9f3a"
             ],
             [
              0.8888888888888888,
              "#fdca26"
             ],
             [
              1,
              "#f0f921"
             ]
            ],
            "type": "histogram2d"
           }
          ],
          "histogram2dcontour": [
           {
            "colorbar": {
             "outlinewidth": 0,
             "ticks": ""
            },
            "colorscale": [
             [
              0,
              "#0d0887"
             ],
             [
              0.1111111111111111,
              "#46039f"
             ],
             [
              0.2222222222222222,
              "#7201a8"
             ],
             [
              0.3333333333333333,
              "#9c179e"
             ],
             [
              0.4444444444444444,
              "#bd3786"
             ],
             [
              0.5555555555555556,
              "#d8576b"
             ],
             [
              0.6666666666666666,
              "#ed7953"
             ],
             [
              0.7777777777777778,
              "#fb9f3a"
             ],
             [
              0.8888888888888888,
              "#fdca26"
             ],
             [
              1,
              "#f0f921"
             ]
            ],
            "type": "histogram2dcontour"
           }
          ],
          "mesh3d": [
           {
            "colorbar": {
             "outlinewidth": 0,
             "ticks": ""
            },
            "type": "mesh3d"
           }
          ],
          "parcoords": [
           {
            "line": {
             "colorbar": {
              "outlinewidth": 0,
              "ticks": ""
             }
            },
            "type": "parcoords"
           }
          ],
          "pie": [
           {
            "automargin": true,
            "type": "pie"
           }
          ],
          "scatter": [
           {
            "fillpattern": {
             "fillmode": "overlay",
             "size": 10,
             "solidity": 0.2
            },
            "type": "scatter"
           }
          ],
          "scatter3d": [
           {
            "line": {
             "colorbar": {
              "outlinewidth": 0,
              "ticks": ""
             }
            },
            "marker": {
             "colorbar": {
              "outlinewidth": 0,
              "ticks": ""
             }
            },
            "type": "scatter3d"
           }
          ],
          "scattercarpet": [
           {
            "marker": {
             "colorbar": {
              "outlinewidth": 0,
              "ticks": ""
             }
            },
            "type": "scattercarpet"
           }
          ],
          "scattergeo": [
           {
            "marker": {
             "colorbar": {
              "outlinewidth": 0,
              "ticks": ""
             }
            },
            "type": "scattergeo"
           }
          ],
          "scattergl": [
           {
            "marker": {
             "colorbar": {
              "outlinewidth": 0,
              "ticks": ""
             }
            },
            "type": "scattergl"
           }
          ],
          "scattermapbox": [
           {
            "marker": {
             "colorbar": {
              "outlinewidth": 0,
              "ticks": ""
             }
            },
            "type": "scattermapbox"
           }
          ],
          "scatterpolar": [
           {
            "marker": {
             "colorbar": {
              "outlinewidth": 0,
              "ticks": ""
             }
            },
            "type": "scatterpolar"
           }
          ],
          "scatterpolargl": [
           {
            "marker": {
             "colorbar": {
              "outlinewidth": 0,
              "ticks": ""
             }
            },
            "type": "scatterpolargl"
           }
          ],
          "scatterternary": [
           {
            "marker": {
             "colorbar": {
              "outlinewidth": 0,
              "ticks": ""
             }
            },
            "type": "scatterternary"
           }
          ],
          "surface": [
           {
            "colorbar": {
             "outlinewidth": 0,
             "ticks": ""
            },
            "colorscale": [
             [
              0,
              "#0d0887"
             ],
             [
              0.1111111111111111,
              "#46039f"
             ],
             [
              0.2222222222222222,
              "#7201a8"
             ],
             [
              0.3333333333333333,
              "#9c179e"
             ],
             [
              0.4444444444444444,
              "#bd3786"
             ],
             [
              0.5555555555555556,
              "#d8576b"
             ],
             [
              0.6666666666666666,
              "#ed7953"
             ],
             [
              0.7777777777777778,
              "#fb9f3a"
             ],
             [
              0.8888888888888888,
              "#fdca26"
             ],
             [
              1,
              "#f0f921"
             ]
            ],
            "type": "surface"
           }
          ],
          "table": [
           {
            "cells": {
             "fill": {
              "color": "#EBF0F8"
             },
             "line": {
              "color": "white"
             }
            },
            "header": {
             "fill": {
              "color": "#C8D4E3"
             },
             "line": {
              "color": "white"
             }
            },
            "type": "table"
           }
          ]
         },
         "layout": {
          "annotationdefaults": {
           "arrowcolor": "#2a3f5f",
           "arrowhead": 0,
           "arrowwidth": 1
          },
          "autotypenumbers": "strict",
          "coloraxis": {
           "colorbar": {
            "outlinewidth": 0,
            "ticks": ""
           }
          },
          "colorscale": {
           "diverging": [
            [
             0,
             "#8e0152"
            ],
            [
             0.1,
             "#c51b7d"
            ],
            [
             0.2,
             "#de77ae"
            ],
            [
             0.3,
             "#f1b6da"
            ],
            [
             0.4,
             "#fde0ef"
            ],
            [
             0.5,
             "#f7f7f7"
            ],
            [
             0.6,
             "#e6f5d0"
            ],
            [
             0.7,
             "#b8e186"
            ],
            [
             0.8,
             "#7fbc41"
            ],
            [
             0.9,
             "#4d9221"
            ],
            [
             1,
             "#276419"
            ]
           ],
           "sequential": [
            [
             0,
             "#0d0887"
            ],
            [
             0.1111111111111111,
             "#46039f"
            ],
            [
             0.2222222222222222,
             "#7201a8"
            ],
            [
             0.3333333333333333,
             "#9c179e"
            ],
            [
             0.4444444444444444,
             "#bd3786"
            ],
            [
             0.5555555555555556,
             "#d8576b"
            ],
            [
             0.6666666666666666,
             "#ed7953"
            ],
            [
             0.7777777777777778,
             "#fb9f3a"
            ],
            [
             0.8888888888888888,
             "#fdca26"
            ],
            [
             1,
             "#f0f921"
            ]
           ],
           "sequentialminus": [
            [
             0,
             "#0d0887"
            ],
            [
             0.1111111111111111,
             "#46039f"
            ],
            [
             0.2222222222222222,
             "#7201a8"
            ],
            [
             0.3333333333333333,
             "#9c179e"
            ],
            [
             0.4444444444444444,
             "#bd3786"
            ],
            [
             0.5555555555555556,
             "#d8576b"
            ],
            [
             0.6666666666666666,
             "#ed7953"
            ],
            [
             0.7777777777777778,
             "#fb9f3a"
            ],
            [
             0.8888888888888888,
             "#fdca26"
            ],
            [
             1,
             "#f0f921"
            ]
           ]
          },
          "colorway": [
           "#636efa",
           "#EF553B",
           "#00cc96",
           "#ab63fa",
           "#FFA15A",
           "#19d3f3",
           "#FF6692",
           "#B6E880",
           "#FF97FF",
           "#FECB52"
          ],
          "font": {
           "color": "#2a3f5f"
          },
          "geo": {
           "bgcolor": "white",
           "lakecolor": "white",
           "landcolor": "#E5ECF6",
           "showlakes": true,
           "showland": true,
           "subunitcolor": "white"
          },
          "hoverlabel": {
           "align": "left"
          },
          "hovermode": "closest",
          "mapbox": {
           "style": "light"
          },
          "paper_bgcolor": "white",
          "plot_bgcolor": "#E5ECF6",
          "polar": {
           "angularaxis": {
            "gridcolor": "white",
            "linecolor": "white",
            "ticks": ""
           },
           "bgcolor": "#E5ECF6",
           "radialaxis": {
            "gridcolor": "white",
            "linecolor": "white",
            "ticks": ""
           }
          },
          "scene": {
           "xaxis": {
            "backgroundcolor": "#E5ECF6",
            "gridcolor": "white",
            "gridwidth": 2,
            "linecolor": "white",
            "showbackground": true,
            "ticks": "",
            "zerolinecolor": "white"
           },
           "yaxis": {
            "backgroundcolor": "#E5ECF6",
            "gridcolor": "white",
            "gridwidth": 2,
            "linecolor": "white",
            "showbackground": true,
            "ticks": "",
            "zerolinecolor": "white"
           },
           "zaxis": {
            "backgroundcolor": "#E5ECF6",
            "gridcolor": "white",
            "gridwidth": 2,
            "linecolor": "white",
            "showbackground": true,
            "ticks": "",
            "zerolinecolor": "white"
           }
          },
          "shapedefaults": {
           "line": {
            "color": "#2a3f5f"
           }
          },
          "ternary": {
           "aaxis": {
            "gridcolor": "white",
            "linecolor": "white",
            "ticks": ""
           },
           "baxis": {
            "gridcolor": "white",
            "linecolor": "white",
            "ticks": ""
           },
           "bgcolor": "#E5ECF6",
           "caxis": {
            "gridcolor": "white",
            "linecolor": "white",
            "ticks": ""
           }
          },
          "title": {
           "x": 0.05
          },
          "xaxis": {
           "automargin": true,
           "gridcolor": "white",
           "linecolor": "white",
           "ticks": "",
           "title": {
            "standoff": 15
           },
           "zerolinecolor": "white",
           "zerolinewidth": 2
          },
          "yaxis": {
           "automargin": true,
           "gridcolor": "white",
           "linecolor": "white",
           "ticks": "",
           "title": {
            "standoff": 15
           },
           "zerolinecolor": "white",
           "zerolinewidth": 2
          }
         }
        },
        "width": 800,
        "xaxis": {
         "linecolor": "black",
         "linewidth": 2,
         "showline": true,
         "ticklen": 5,
         "ticks": "inside",
         "tickwidth": 2,
         "title": {
          "text": ""
         }
        },
        "yaxis": {
         "linecolor": "black",
         "linewidth": 2,
         "showline": true,
         "ticklen": 5,
         "ticks": "inside",
         "tickwidth": 2,
         "title": {
          "text": ""
         }
        }
       }
      }
     },
     "metadata": {},
     "output_type": "display_data"
    }
   ],
   "source": [
    "df_without_cuprates = df_MP_non_zero[df_MP_non_zero['sc_class'] != 'Cuprate']\n",
    "corr_matrix(df_without_cuprates, crystal_properties, 800, 600, 14)"
   ]
  },
  {
   "cell_type": "markdown",
   "metadata": {},
   "source": [
    "Yeah it is! interesting each family should show different imporant features. This probably means each family undergoes a different reason why they present superconductivity."
   ]
  },
  {
   "cell_type": "markdown",
   "metadata": {},
   "source": [
    "I did not expect the categorised crystal system to have a lowered correlation to tc after taking cuperates away, its probably important to also include categorising the family type and including it as a property"
   ]
  },
  {
   "cell_type": "code",
   "execution_count": 24,
   "metadata": {},
   "outputs": [
    {
     "data": {
      "application/vnd.plotly.v1+json": {
       "config": {
        "plotlyServerURL": "https://plot.ly"
       },
       "data": [
        {
         "marker": {
          "color": "rgb(33, 145, 140)"
         },
         "text": [
          "32.89%",
          "28.01%",
          "16.10%",
          "13.47%",
          "5.78%",
          "3.30%",
          "0.45%"
         ],
         "textposition": "auto",
         "type": "bar",
         "x": [
          "tetragonal",
          "cubic",
          "orthorhombic",
          "hexagonal",
          "trigonal",
          "monoclinic",
          "triclinic"
         ],
         "y": [
          1314,
          1119,
          643,
          538,
          231,
          132,
          18
         ]
        }
       ],
       "layout": {
        "font": {
         "color": "black",
         "family": "Helvetica",
         "size": 16
        },
        "height": 500,
        "margin": {
         "b": 10,
         "l": 10,
         "r": 10,
         "t": 10
        },
        "paper_bgcolor": "white",
        "plot_bgcolor": "white",
        "template": {
         "data": {
          "bar": [
           {
            "error_x": {
             "color": "#2a3f5f"
            },
            "error_y": {
             "color": "#2a3f5f"
            },
            "marker": {
             "line": {
              "color": "#E5ECF6",
              "width": 0.5
             },
             "pattern": {
              "fillmode": "overlay",
              "size": 10,
              "solidity": 0.2
             }
            },
            "type": "bar"
           }
          ],
          "barpolar": [
           {
            "marker": {
             "line": {
              "color": "#E5ECF6",
              "width": 0.5
             },
             "pattern": {
              "fillmode": "overlay",
              "size": 10,
              "solidity": 0.2
             }
            },
            "type": "barpolar"
           }
          ],
          "carpet": [
           {
            "aaxis": {
             "endlinecolor": "#2a3f5f",
             "gridcolor": "white",
             "linecolor": "white",
             "minorgridcolor": "white",
             "startlinecolor": "#2a3f5f"
            },
            "baxis": {
             "endlinecolor": "#2a3f5f",
             "gridcolor": "white",
             "linecolor": "white",
             "minorgridcolor": "white",
             "startlinecolor": "#2a3f5f"
            },
            "type": "carpet"
           }
          ],
          "choropleth": [
           {
            "colorbar": {
             "outlinewidth": 0,
             "ticks": ""
            },
            "type": "choropleth"
           }
          ],
          "contour": [
           {
            "colorbar": {
             "outlinewidth": 0,
             "ticks": ""
            },
            "colorscale": [
             [
              0,
              "#0d0887"
             ],
             [
              0.1111111111111111,
              "#46039f"
             ],
             [
              0.2222222222222222,
              "#7201a8"
             ],
             [
              0.3333333333333333,
              "#9c179e"
             ],
             [
              0.4444444444444444,
              "#bd3786"
             ],
             [
              0.5555555555555556,
              "#d8576b"
             ],
             [
              0.6666666666666666,
              "#ed7953"
             ],
             [
              0.7777777777777778,
              "#fb9f3a"
             ],
             [
              0.8888888888888888,
              "#fdca26"
             ],
             [
              1,
              "#f0f921"
             ]
            ],
            "type": "contour"
           }
          ],
          "contourcarpet": [
           {
            "colorbar": {
             "outlinewidth": 0,
             "ticks": ""
            },
            "type": "contourcarpet"
           }
          ],
          "heatmap": [
           {
            "colorbar": {
             "outlinewidth": 0,
             "ticks": ""
            },
            "colorscale": [
             [
              0,
              "#0d0887"
             ],
             [
              0.1111111111111111,
              "#46039f"
             ],
             [
              0.2222222222222222,
              "#7201a8"
             ],
             [
              0.3333333333333333,
              "#9c179e"
             ],
             [
              0.4444444444444444,
              "#bd3786"
             ],
             [
              0.5555555555555556,
              "#d8576b"
             ],
             [
              0.6666666666666666,
              "#ed7953"
             ],
             [
              0.7777777777777778,
              "#fb9f3a"
             ],
             [
              0.8888888888888888,
              "#fdca26"
             ],
             [
              1,
              "#f0f921"
             ]
            ],
            "type": "heatmap"
           }
          ],
          "heatmapgl": [
           {
            "colorbar": {
             "outlinewidth": 0,
             "ticks": ""
            },
            "colorscale": [
             [
              0,
              "#0d0887"
             ],
             [
              0.1111111111111111,
              "#46039f"
             ],
             [
              0.2222222222222222,
              "#7201a8"
             ],
             [
              0.3333333333333333,
              "#9c179e"
             ],
             [
              0.4444444444444444,
              "#bd3786"
             ],
             [
              0.5555555555555556,
              "#d8576b"
             ],
             [
              0.6666666666666666,
              "#ed7953"
             ],
             [
              0.7777777777777778,
              "#fb9f3a"
             ],
             [
              0.8888888888888888,
              "#fdca26"
             ],
             [
              1,
              "#f0f921"
             ]
            ],
            "type": "heatmapgl"
           }
          ],
          "histogram": [
           {
            "marker": {
             "pattern": {
              "fillmode": "overlay",
              "size": 10,
              "solidity": 0.2
             }
            },
            "type": "histogram"
           }
          ],
          "histogram2d": [
           {
            "colorbar": {
             "outlinewidth": 0,
             "ticks": ""
            },
            "colorscale": [
             [
              0,
              "#0d0887"
             ],
             [
              0.1111111111111111,
              "#46039f"
             ],
             [
              0.2222222222222222,
              "#7201a8"
             ],
             [
              0.3333333333333333,
              "#9c179e"
             ],
             [
              0.4444444444444444,
              "#bd3786"
             ],
             [
              0.5555555555555556,
              "#d8576b"
             ],
             [
              0.6666666666666666,
              "#ed7953"
             ],
             [
              0.7777777777777778,
              "#fb9f3a"
             ],
             [
              0.8888888888888888,
              "#fdca26"
             ],
             [
              1,
              "#f0f921"
             ]
            ],
            "type": "histogram2d"
           }
          ],
          "histogram2dcontour": [
           {
            "colorbar": {
             "outlinewidth": 0,
             "ticks": ""
            },
            "colorscale": [
             [
              0,
              "#0d0887"
             ],
             [
              0.1111111111111111,
              "#46039f"
             ],
             [
              0.2222222222222222,
              "#7201a8"
             ],
             [
              0.3333333333333333,
              "#9c179e"
             ],
             [
              0.4444444444444444,
              "#bd3786"
             ],
             [
              0.5555555555555556,
              "#d8576b"
             ],
             [
              0.6666666666666666,
              "#ed7953"
             ],
             [
              0.7777777777777778,
              "#fb9f3a"
             ],
             [
              0.8888888888888888,
              "#fdca26"
             ],
             [
              1,
              "#f0f921"
             ]
            ],
            "type": "histogram2dcontour"
           }
          ],
          "mesh3d": [
           {
            "colorbar": {
             "outlinewidth": 0,
             "ticks": ""
            },
            "type": "mesh3d"
           }
          ],
          "parcoords": [
           {
            "line": {
             "colorbar": {
              "outlinewidth": 0,
              "ticks": ""
             }
            },
            "type": "parcoords"
           }
          ],
          "pie": [
           {
            "automargin": true,
            "type": "pie"
           }
          ],
          "scatter": [
           {
            "fillpattern": {
             "fillmode": "overlay",
             "size": 10,
             "solidity": 0.2
            },
            "type": "scatter"
           }
          ],
          "scatter3d": [
           {
            "line": {
             "colorbar": {
              "outlinewidth": 0,
              "ticks": ""
             }
            },
            "marker": {
             "colorbar": {
              "outlinewidth": 0,
              "ticks": ""
             }
            },
            "type": "scatter3d"
           }
          ],
          "scattercarpet": [
           {
            "marker": {
             "colorbar": {
              "outlinewidth": 0,
              "ticks": ""
             }
            },
            "type": "scattercarpet"
           }
          ],
          "scattergeo": [
           {
            "marker": {
             "colorbar": {
              "outlinewidth": 0,
              "ticks": ""
             }
            },
            "type": "scattergeo"
           }
          ],
          "scattergl": [
           {
            "marker": {
             "colorbar": {
              "outlinewidth": 0,
              "ticks": ""
             }
            },
            "type": "scattergl"
           }
          ],
          "scattermapbox": [
           {
            "marker": {
             "colorbar": {
              "outlinewidth": 0,
              "ticks": ""
             }
            },
            "type": "scattermapbox"
           }
          ],
          "scatterpolar": [
           {
            "marker": {
             "colorbar": {
              "outlinewidth": 0,
              "ticks": ""
             }
            },
            "type": "scatterpolar"
           }
          ],
          "scatterpolargl": [
           {
            "marker": {
             "colorbar": {
              "outlinewidth": 0,
              "ticks": ""
             }
            },
            "type": "scatterpolargl"
           }
          ],
          "scatterternary": [
           {
            "marker": {
             "colorbar": {
              "outlinewidth": 0,
              "ticks": ""
             }
            },
            "type": "scatterternary"
           }
          ],
          "surface": [
           {
            "colorbar": {
             "outlinewidth": 0,
             "ticks": ""
            },
            "colorscale": [
             [
              0,
              "#0d0887"
             ],
             [
              0.1111111111111111,
              "#46039f"
             ],
             [
              0.2222222222222222,
              "#7201a8"
             ],
             [
              0.3333333333333333,
              "#9c179e"
             ],
             [
              0.4444444444444444,
              "#bd3786"
             ],
             [
              0.5555555555555556,
              "#d8576b"
             ],
             [
              0.6666666666666666,
              "#ed7953"
             ],
             [
              0.7777777777777778,
              "#fb9f3a"
             ],
             [
              0.8888888888888888,
              "#fdca26"
             ],
             [
              1,
              "#f0f921"
             ]
            ],
            "type": "surface"
           }
          ],
          "table": [
           {
            "cells": {
             "fill": {
              "color": "#EBF0F8"
             },
             "line": {
              "color": "white"
             }
            },
            "header": {
             "fill": {
              "color": "#C8D4E3"
             },
             "line": {
              "color": "white"
             }
            },
            "type": "table"
           }
          ]
         },
         "layout": {
          "annotationdefaults": {
           "arrowcolor": "#2a3f5f",
           "arrowhead": 0,
           "arrowwidth": 1
          },
          "autotypenumbers": "strict",
          "coloraxis": {
           "colorbar": {
            "outlinewidth": 0,
            "ticks": ""
           }
          },
          "colorscale": {
           "diverging": [
            [
             0,
             "#8e0152"
            ],
            [
             0.1,
             "#c51b7d"
            ],
            [
             0.2,
             "#de77ae"
            ],
            [
             0.3,
             "#f1b6da"
            ],
            [
             0.4,
             "#fde0ef"
            ],
            [
             0.5,
             "#f7f7f7"
            ],
            [
             0.6,
             "#e6f5d0"
            ],
            [
             0.7,
             "#b8e186"
            ],
            [
             0.8,
             "#7fbc41"
            ],
            [
             0.9,
             "#4d9221"
            ],
            [
             1,
             "#276419"
            ]
           ],
           "sequential": [
            [
             0,
             "#0d0887"
            ],
            [
             0.1111111111111111,
             "#46039f"
            ],
            [
             0.2222222222222222,
             "#7201a8"
            ],
            [
             0.3333333333333333,
             "#9c179e"
            ],
            [
             0.4444444444444444,
             "#bd3786"
            ],
            [
             0.5555555555555556,
             "#d8576b"
            ],
            [
             0.6666666666666666,
             "#ed7953"
            ],
            [
             0.7777777777777778,
             "#fb9f3a"
            ],
            [
             0.8888888888888888,
             "#fdca26"
            ],
            [
             1,
             "#f0f921"
            ]
           ],
           "sequentialminus": [
            [
             0,
             "#0d0887"
            ],
            [
             0.1111111111111111,
             "#46039f"
            ],
            [
             0.2222222222222222,
             "#7201a8"
            ],
            [
             0.3333333333333333,
             "#9c179e"
            ],
            [
             0.4444444444444444,
             "#bd3786"
            ],
            [
             0.5555555555555556,
             "#d8576b"
            ],
            [
             0.6666666666666666,
             "#ed7953"
            ],
            [
             0.7777777777777778,
             "#fb9f3a"
            ],
            [
             0.8888888888888888,
             "#fdca26"
            ],
            [
             1,
             "#f0f921"
            ]
           ]
          },
          "colorway": [
           "#636efa",
           "#EF553B",
           "#00cc96",
           "#ab63fa",
           "#FFA15A",
           "#19d3f3",
           "#FF6692",
           "#B6E880",
           "#FF97FF",
           "#FECB52"
          ],
          "font": {
           "color": "#2a3f5f"
          },
          "geo": {
           "bgcolor": "white",
           "lakecolor": "white",
           "landcolor": "#E5ECF6",
           "showlakes": true,
           "showland": true,
           "subunitcolor": "white"
          },
          "hoverlabel": {
           "align": "left"
          },
          "hovermode": "closest",
          "mapbox": {
           "style": "light"
          },
          "paper_bgcolor": "white",
          "plot_bgcolor": "#E5ECF6",
          "polar": {
           "angularaxis": {
            "gridcolor": "white",
            "linecolor": "white",
            "ticks": ""
           },
           "bgcolor": "#E5ECF6",
           "radialaxis": {
            "gridcolor": "white",
            "linecolor": "white",
            "ticks": ""
           }
          },
          "scene": {
           "xaxis": {
            "backgroundcolor": "#E5ECF6",
            "gridcolor": "white",
            "gridwidth": 2,
            "linecolor": "white",
            "showbackground": true,
            "ticks": "",
            "zerolinecolor": "white"
           },
           "yaxis": {
            "backgroundcolor": "#E5ECF6",
            "gridcolor": "white",
            "gridwidth": 2,
            "linecolor": "white",
            "showbackground": true,
            "ticks": "",
            "zerolinecolor": "white"
           },
           "zaxis": {
            "backgroundcolor": "#E5ECF6",
            "gridcolor": "white",
            "gridwidth": 2,
            "linecolor": "white",
            "showbackground": true,
            "ticks": "",
            "zerolinecolor": "white"
           }
          },
          "shapedefaults": {
           "line": {
            "color": "#2a3f5f"
           }
          },
          "ternary": {
           "aaxis": {
            "gridcolor": "white",
            "linecolor": "white",
            "ticks": ""
           },
           "baxis": {
            "gridcolor": "white",
            "linecolor": "white",
            "ticks": ""
           },
           "bgcolor": "#E5ECF6",
           "caxis": {
            "gridcolor": "white",
            "linecolor": "white",
            "ticks": ""
           }
          },
          "title": {
           "x": 0.05
          },
          "xaxis": {
           "automargin": true,
           "gridcolor": "white",
           "linecolor": "white",
           "ticks": "",
           "title": {
            "standoff": 15
           },
           "zerolinecolor": "white",
           "zerolinewidth": 2
          },
          "yaxis": {
           "automargin": true,
           "gridcolor": "white",
           "linecolor": "white",
           "ticks": "",
           "title": {
            "standoff": 15
           },
           "zerolinecolor": "white",
           "zerolinewidth": 2
          }
         }
        },
        "width": 800,
        "xaxis": {
         "linecolor": "black",
         "linewidth": 2,
         "showline": true,
         "ticklen": 5,
         "ticks": "inside",
         "tickwidth": 2,
         "title": {
          "text": "Crystal System"
         }
        },
        "yaxis": {
         "linecolor": "black",
         "linewidth": 2,
         "showline": true,
         "ticklen": 5,
         "ticks": "inside",
         "tickwidth": 2,
         "title": {
          "text": "Count"
         }
        }
       }
      }
     },
     "metadata": {},
     "output_type": "display_data"
    }
   ],
   "source": [
    "crystal_system_counts = df_MP_non_zero[\"crystal_system\"].value_counts()\n",
    "precentages = (df_MP_non_zero[\"crystal_system\"].value_counts()/len(df_MP_non_zero))*100\n",
    "# Create a bar plot\n",
    "data = [go.Bar(x=crystal_system_counts.index,\n",
    "               y=crystal_system_counts.values,\n",
    "               text= [f'{x:.2f}%' for x in precentages],\n",
    "               textposition='auto',\n",
    "               marker = dict(color='rgb(33, 145, 140)'))]\n",
    "\n",
    "# Create the layout\n",
    "layout = go.Layout(xaxis=dict(title=\"Crystal System\", showline=True, linewidth=2, linecolor='black',\n",
    "                              ticks='inside', tickwidth=2, ticklen=5),\n",
    "                   yaxis=dict(title=\"Count\", showline=True, linewidth=2, linecolor='black',\n",
    "                              ticks='inside', tickwidth=2, ticklen=5), \n",
    "                   width=800,\n",
    "                   height=500,\n",
    "                   plot_bgcolor='white',\n",
    "                   paper_bgcolor='white', \n",
    "                   font=dict(family='Helvetica', size=16, color='black'),\n",
    "                   margin=dict(l=10, r=10, b=10, t=10))\n",
    "\n",
    "# Create the figure\n",
    "fig = go.Figure(data=data, layout=layout)\n",
    "\n",
    "# Show the figure\n",
    "fig.show()"
   ]
  },
  {
   "cell_type": "markdown",
   "metadata": {},
   "source": [
    "## Energy Value and Gaps"
   ]
  },
  {
   "cell_type": "code",
   "execution_count": 25,
   "metadata": {},
   "outputs": [
    {
     "data": {
      "text/html": [
       "<div>\n",
       "<style scoped>\n",
       "    .dataframe tbody tr th:only-of-type {\n",
       "        vertical-align: middle;\n",
       "    }\n",
       "\n",
       "    .dataframe tbody tr th {\n",
       "        vertical-align: top;\n",
       "    }\n",
       "\n",
       "    .dataframe thead th {\n",
       "        text-align: right;\n",
       "    }\n",
       "</style>\n",
       "<table border=\"1\" class=\"dataframe\">\n",
       "  <thead>\n",
       "    <tr style=\"text-align: right;\">\n",
       "      <th></th>\n",
       "      <th>e_above_hull</th>\n",
       "      <th>efermi</th>\n",
       "      <th>final_energy</th>\n",
       "      <th>final_energy_per_atom</th>\n",
       "      <th>formation_energy_per_atom</th>\n",
       "      <th>band_gap</th>\n",
       "      <th>band_structure</th>\n",
       "      <th>exchange_symmetry</th>\n",
       "    </tr>\n",
       "  </thead>\n",
       "  <tbody>\n",
       "    <tr>\n",
       "      <th>0</th>\n",
       "      <td>0.000000</td>\n",
       "      <td>4.015543</td>\n",
       "      <td>-24.862722</td>\n",
       "      <td>-4.972544</td>\n",
       "      <td>-0.713482</td>\n",
       "      <td>0.0000</td>\n",
       "      <td>NaN</td>\n",
       "      <td>139</td>\n",
       "    </tr>\n",
       "    <tr>\n",
       "      <th>1</th>\n",
       "      <td>0.000000</td>\n",
       "      <td>6.066451</td>\n",
       "      <td>-7.725196</td>\n",
       "      <td>-3.862598</td>\n",
       "      <td>-0.497162</td>\n",
       "      <td>0.6624</td>\n",
       "      <td>NaN</td>\n",
       "      <td>225</td>\n",
       "    </tr>\n",
       "    <tr>\n",
       "      <th>2</th>\n",
       "      <td>0.000000</td>\n",
       "      <td>4.015543</td>\n",
       "      <td>-24.862722</td>\n",
       "      <td>-4.972544</td>\n",
       "      <td>-0.713482</td>\n",
       "      <td>0.0000</td>\n",
       "      <td>NaN</td>\n",
       "      <td>139</td>\n",
       "    </tr>\n",
       "    <tr>\n",
       "      <th>3</th>\n",
       "      <td>0.000000</td>\n",
       "      <td>6.314060</td>\n",
       "      <td>-6.472687</td>\n",
       "      <td>-3.236343</td>\n",
       "      <td>-0.499851</td>\n",
       "      <td>0.0000</td>\n",
       "      <td>NaN</td>\n",
       "      <td>225</td>\n",
       "    </tr>\n",
       "    <tr>\n",
       "      <th>4</th>\n",
       "      <td>0.013441</td>\n",
       "      <td>5.202543</td>\n",
       "      <td>-55.239871</td>\n",
       "      <td>-4.603323</td>\n",
       "      <td>-0.299456</td>\n",
       "      <td>0.0154</td>\n",
       "      <td>NaN</td>\n",
       "      <td>212</td>\n",
       "    </tr>\n",
       "    <tr>\n",
       "      <th>...</th>\n",
       "      <td>...</td>\n",
       "      <td>...</td>\n",
       "      <td>...</td>\n",
       "      <td>...</td>\n",
       "      <td>...</td>\n",
       "      <td>...</td>\n",
       "      <td>...</td>\n",
       "      <td>...</td>\n",
       "    </tr>\n",
       "    <tr>\n",
       "      <th>5766</th>\n",
       "      <td>0.000000</td>\n",
       "      <td>5.393069</td>\n",
       "      <td>-69.799473</td>\n",
       "      <td>-11.633246</td>\n",
       "      <td>-0.145261</td>\n",
       "      <td>0.0000</td>\n",
       "      <td>NaN</td>\n",
       "      <td>227</td>\n",
       "    </tr>\n",
       "    <tr>\n",
       "      <th>5767</th>\n",
       "      <td>3.105420</td>\n",
       "      <td>6.666585</td>\n",
       "      <td>-40.908650</td>\n",
       "      <td>-5.113581</td>\n",
       "      <td>2.341754</td>\n",
       "      <td>0.0000</td>\n",
       "      <td>NaN</td>\n",
       "      <td>223</td>\n",
       "    </tr>\n",
       "    <tr>\n",
       "      <th>5770</th>\n",
       "      <td>0.000000</td>\n",
       "      <td>2.851722</td>\n",
       "      <td>-2.519487</td>\n",
       "      <td>-1.259744</td>\n",
       "      <td>0.000000</td>\n",
       "      <td>0.0000</td>\n",
       "      <td>NaN</td>\n",
       "      <td>194</td>\n",
       "    </tr>\n",
       "    <tr>\n",
       "      <th>5771</th>\n",
       "      <td>0.000000</td>\n",
       "      <td>3.547729</td>\n",
       "      <td>-23.949691</td>\n",
       "      <td>-3.991615</td>\n",
       "      <td>-0.302553</td>\n",
       "      <td>0.0000</td>\n",
       "      <td>NaN</td>\n",
       "      <td>227</td>\n",
       "    </tr>\n",
       "    <tr>\n",
       "      <th>5772</th>\n",
       "      <td>0.000000</td>\n",
       "      <td>4.328531</td>\n",
       "      <td>-17.095401</td>\n",
       "      <td>-8.547701</td>\n",
       "      <td>0.000000</td>\n",
       "      <td>0.0000</td>\n",
       "      <td>NaN</td>\n",
       "      <td>194</td>\n",
       "    </tr>\n",
       "  </tbody>\n",
       "</table>\n",
       "<p>3995 rows × 8 columns</p>\n",
       "</div>"
      ],
      "text/plain": [
       "      e_above_hull    efermi  final_energy  final_energy_per_atom  \\\n",
       "0         0.000000  4.015543    -24.862722              -4.972544   \n",
       "1         0.000000  6.066451     -7.725196              -3.862598   \n",
       "2         0.000000  4.015543    -24.862722              -4.972544   \n",
       "3         0.000000  6.314060     -6.472687              -3.236343   \n",
       "4         0.013441  5.202543    -55.239871              -4.603323   \n",
       "...            ...       ...           ...                    ...   \n",
       "5766      0.000000  5.393069    -69.799473             -11.633246   \n",
       "5767      3.105420  6.666585    -40.908650              -5.113581   \n",
       "5770      0.000000  2.851722     -2.519487              -1.259744   \n",
       "5771      0.000000  3.547729    -23.949691              -3.991615   \n",
       "5772      0.000000  4.328531    -17.095401              -8.547701   \n",
       "\n",
       "      formation_energy_per_atom  band_gap band_structure  exchange_symmetry  \n",
       "0                     -0.713482    0.0000            NaN                139  \n",
       "1                     -0.497162    0.6624            NaN                225  \n",
       "2                     -0.713482    0.0000            NaN                139  \n",
       "3                     -0.499851    0.0000            NaN                225  \n",
       "4                     -0.299456    0.0154            NaN                212  \n",
       "...                         ...       ...            ...                ...  \n",
       "5766                  -0.145261    0.0000            NaN                227  \n",
       "5767                   2.341754    0.0000            NaN                223  \n",
       "5770                   0.000000    0.0000            NaN                194  \n",
       "5771                  -0.302553    0.0000            NaN                227  \n",
       "5772                   0.000000    0.0000            NaN                194  \n",
       "\n",
       "[3995 rows x 8 columns]"
      ]
     },
     "execution_count": 25,
     "metadata": {},
     "output_type": "execute_result"
    }
   ],
   "source": [
    "electronic_properties = [\"e_above_hull\",\n",
    "                         \"efermi\",\n",
    "                         \"final_energy\",\n",
    "                         \"final_energy_per_atom\",\n",
    "                         \"formation_energy_per_atom\",\n",
    "                         \"band_gap\",\n",
    "                         \"band_structure\",\n",
    "                         \"exchange_symmetry\"\n",
    "                         ]\n",
    "\n",
    "df_MP_non_zero[electronic_properties]"
   ]
  },
  {
   "cell_type": "code",
   "execution_count": 26,
   "metadata": {},
   "outputs": [
    {
     "data": {
      "text/html": [
       "<div>\n",
       "<style scoped>\n",
       "    .dataframe tbody tr th:only-of-type {\n",
       "        vertical-align: middle;\n",
       "    }\n",
       "\n",
       "    .dataframe tbody tr th {\n",
       "        vertical-align: top;\n",
       "    }\n",
       "\n",
       "    .dataframe thead th {\n",
       "        text-align: right;\n",
       "    }\n",
       "</style>\n",
       "<table border=\"1\" class=\"dataframe\">\n",
       "  <thead>\n",
       "    <tr style=\"text-align: right;\">\n",
       "      <th></th>\n",
       "      <th>formula_sc</th>\n",
       "      <th>formula_similarity</th>\n",
       "      <th>totreldiff</th>\n",
       "      <th>formula_frac</th>\n",
       "      <th>correct_formula_frac</th>\n",
       "      <th>formula</th>\n",
       "      <th>orig_formula_cif</th>\n",
       "      <th>tc</th>\n",
       "      <th>sc_class</th>\n",
       "      <th>sc_class_unique_sc</th>\n",
       "      <th>...</th>\n",
       "      <th>orthorhombic</th>\n",
       "      <th>tetragonal</th>\n",
       "      <th>triclinic</th>\n",
       "      <th>trigonal</th>\n",
       "      <th>primitive</th>\n",
       "      <th>base-centered</th>\n",
       "      <th>body-centered</th>\n",
       "      <th>face-centered</th>\n",
       "      <th>weight</th>\n",
       "      <th>sc_class_name</th>\n",
       "    </tr>\n",
       "  </thead>\n",
       "  <tbody>\n",
       "    <tr>\n",
       "      <th>116</th>\n",
       "      <td>Al0.3Cr0.7</td>\n",
       "      <td>3</td>\n",
       "      <td>0.066667</td>\n",
       "      <td>3.0</td>\n",
       "      <td>False</td>\n",
       "      <td>Al0.9Cr2.1</td>\n",
       "      <td>Al1Cr2</td>\n",
       "      <td>0.0</td>\n",
       "      <td>Not_supercon</td>\n",
       "      <td>True</td>\n",
       "      <td>...</td>\n",
       "      <td>0</td>\n",
       "      <td>7</td>\n",
       "      <td>0</td>\n",
       "      <td>0</td>\n",
       "      <td>0</td>\n",
       "      <td>0</td>\n",
       "      <td>1</td>\n",
       "      <td>0</td>\n",
       "      <td>1.0</td>\n",
       "      <td>Not Superconductor</td>\n",
       "    </tr>\n",
       "    <tr>\n",
       "      <th>1044</th>\n",
       "      <td>B1Pt1</td>\n",
       "      <td>1</td>\n",
       "      <td>0.000000</td>\n",
       "      <td>2.0</td>\n",
       "      <td>False</td>\n",
       "      <td>B2Pt2</td>\n",
       "      <td>B2Pt2</td>\n",
       "      <td>0.0</td>\n",
       "      <td>Not_supercon</td>\n",
       "      <td>True</td>\n",
       "      <td>...</td>\n",
       "      <td>0</td>\n",
       "      <td>0</td>\n",
       "      <td>0</td>\n",
       "      <td>0</td>\n",
       "      <td>1</td>\n",
       "      <td>0</td>\n",
       "      <td>0</td>\n",
       "      <td>0</td>\n",
       "      <td>1.0</td>\n",
       "      <td>Not Superconductor</td>\n",
       "    </tr>\n",
       "    <tr>\n",
       "      <th>4699</th>\n",
       "      <td>Li0.33V2O5</td>\n",
       "      <td>2</td>\n",
       "      <td>0.000868</td>\n",
       "      <td>12.0</td>\n",
       "      <td>False</td>\n",
       "      <td>Li3.96V24O60</td>\n",
       "      <td>Li4V24O60</td>\n",
       "      <td>8.5</td>\n",
       "      <td>Oxide</td>\n",
       "      <td>True</td>\n",
       "      <td>...</td>\n",
       "      <td>0</td>\n",
       "      <td>0</td>\n",
       "      <td>0</td>\n",
       "      <td>0</td>\n",
       "      <td>1</td>\n",
       "      <td>0</td>\n",
       "      <td>0</td>\n",
       "      <td>0</td>\n",
       "      <td>1.0</td>\n",
       "      <td>Oxide</td>\n",
       "    </tr>\n",
       "  </tbody>\n",
       "</table>\n",
       "<p>3 rows × 93 columns</p>\n",
       "</div>"
      ],
      "text/plain": [
       "      formula_sc  formula_similarity  totreldiff  formula_frac  \\\n",
       "116   Al0.3Cr0.7                   3    0.066667           3.0   \n",
       "1044       B1Pt1                   1    0.000000           2.0   \n",
       "4699  Li0.33V2O5                   2    0.000868          12.0   \n",
       "\n",
       "      correct_formula_frac       formula orig_formula_cif   tc      sc_class  \\\n",
       "116                  False    Al0.9Cr2.1           Al1Cr2  0.0  Not_supercon   \n",
       "1044                 False         B2Pt2            B2Pt2  0.0  Not_supercon   \n",
       "4699                 False  Li3.96V24O60        Li4V24O60  8.5         Oxide   \n",
       "\n",
       "      sc_class_unique_sc  ... orthorhombic tetragonal  triclinic trigonal  \\\n",
       "116                 True  ...            0          7          0        0   \n",
       "1044                True  ...            0          0          0        0   \n",
       "4699                True  ...            0          0          0        0   \n",
       "\n",
       "     primitive base-centered body-centered face-centered weight  \\\n",
       "116          0             0             1             0    1.0   \n",
       "1044         1             0             0             0    1.0   \n",
       "4699         1             0             0             0    1.0   \n",
       "\n",
       "           sc_class_name  \n",
       "116   Not Superconductor  \n",
       "1044  Not Superconductor  \n",
       "4699               Oxide  \n",
       "\n",
       "[3 rows x 93 columns]"
      ]
     },
     "execution_count": 26,
     "metadata": {},
     "output_type": "execute_result"
    }
   ],
   "source": [
    "df_MP[df_MP[\"band_structure\"].notna()]"
   ]
  },
  {
   "cell_type": "code",
   "execution_count": 27,
   "metadata": {},
   "outputs": [
    {
     "data": {
      "application/vnd.plotly.v1+json": {
       "config": {
        "plotlyServerURL": "https://plot.ly"
       },
       "data": [
        {
         "colorbar": {
          "ticktext": [
           -1,
           -0.5,
           0,
           0.5,
           1
          ],
          "tickvals": [
           -1,
           -0.5,
           0,
           0.5,
           1
          ],
          "title": {
           "side": "right",
           "text": "Pearson Coefficient"
          }
         },
         "colorscale": [
          [
           0,
           "#440154"
          ],
          [
           0.1111111111111111,
           "#482878"
          ],
          [
           0.2222222222222222,
           "#3e4989"
          ],
          [
           0.3333333333333333,
           "#31688e"
          ],
          [
           0.4444444444444444,
           "#26828e"
          ],
          [
           0.5555555555555556,
           "#1f9e89"
          ],
          [
           0.6666666666666666,
           "#35b779"
          ],
          [
           0.7777777777777778,
           "#6ece58"
          ],
          [
           0.8888888888888888,
           "#b5de2b"
          ],
          [
           1,
           "#fde725"
          ]
         ],
         "text": [
          [
           1,
           -0.16,
           0.02,
           -0.01,
           0.16,
           -0.03,
           -0.03,
           0
          ],
          [
           -0.16,
           1,
           0.07,
           -0.36,
           0.33,
           -0.19,
           0.25,
           -0.42
          ],
          [
           0.02,
           0.07,
           1,
           0.19,
           0.18,
           -0.01,
           0.25,
           -0.13
          ],
          [
           -0.01,
           -0.36,
           0.19,
           1,
           -0.02,
           0.09,
           -0.05,
           0.09
          ],
          [
           0.16,
           0.33,
           0.18,
           -0.02,
           1,
           -0.06,
           0.31,
           -0.5
          ],
          [
           -0.03,
           -0.19,
           -0.01,
           0.09,
           -0.06,
           1,
           0.01,
           -0.04
          ],
          [
           -0.03,
           0.25,
           0.25,
           -0.05,
           0.31,
           0.01,
           1,
           -0.31
          ],
          [
           0,
           -0.42,
           -0.13,
           0.09,
           -0.5,
           -0.04,
           -0.31,
           1
          ]
         ],
         "textfont": {
          "size": 14
         },
         "texttemplate": "%{text}",
         "type": "heatmap",
         "x": [
          "e_above_hull",
          "efermi",
          "final_energy",
          "final_energy_per_atom",
          "formation_energy_per_atom",
          "band_gap",
          "exchange_symmetry",
          "tc"
         ],
         "y": [
          "e_above_hull",
          "efermi",
          "final_energy",
          "final_energy_per_atom",
          "formation_energy_per_atom",
          "band_gap",
          "exchange_symmetry",
          "tc"
         ],
         "z": [
          [
           1,
           -0.16,
           0.02,
           -0.01,
           0.16,
           -0.03,
           -0.03,
           0
          ],
          [
           -0.16,
           1,
           0.07,
           -0.36,
           0.33,
           -0.19,
           0.25,
           -0.42
          ],
          [
           0.02,
           0.07,
           1,
           0.19,
           0.18,
           -0.01,
           0.25,
           -0.13
          ],
          [
           -0.01,
           -0.36,
           0.19,
           1,
           -0.02,
           0.09,
           -0.05,
           0.09
          ],
          [
           0.16,
           0.33,
           0.18,
           -0.02,
           1,
           -0.06,
           0.31,
           -0.5
          ],
          [
           -0.03,
           -0.19,
           -0.01,
           0.09,
           -0.06,
           1,
           0.01,
           -0.04
          ],
          [
           -0.03,
           0.25,
           0.25,
           -0.05,
           0.31,
           0.01,
           1,
           -0.31
          ],
          [
           0,
           -0.42,
           -0.13,
           0.09,
           -0.5,
           -0.04,
           -0.31,
           1
          ]
         ]
        }
       ],
       "layout": {
        "font": {
         "color": "black",
         "family": "Helvetica",
         "size": 16
        },
        "height": 600,
        "margin": {
         "b": 5,
         "l": 5,
         "r": 5,
         "t": 10
        },
        "paper_bgcolor": "white",
        "plot_bgcolor": "white",
        "template": {
         "data": {
          "bar": [
           {
            "error_x": {
             "color": "#2a3f5f"
            },
            "error_y": {
             "color": "#2a3f5f"
            },
            "marker": {
             "line": {
              "color": "#E5ECF6",
              "width": 0.5
             },
             "pattern": {
              "fillmode": "overlay",
              "size": 10,
              "solidity": 0.2
             }
            },
            "type": "bar"
           }
          ],
          "barpolar": [
           {
            "marker": {
             "line": {
              "color": "#E5ECF6",
              "width": 0.5
             },
             "pattern": {
              "fillmode": "overlay",
              "size": 10,
              "solidity": 0.2
             }
            },
            "type": "barpolar"
           }
          ],
          "carpet": [
           {
            "aaxis": {
             "endlinecolor": "#2a3f5f",
             "gridcolor": "white",
             "linecolor": "white",
             "minorgridcolor": "white",
             "startlinecolor": "#2a3f5f"
            },
            "baxis": {
             "endlinecolor": "#2a3f5f",
             "gridcolor": "white",
             "linecolor": "white",
             "minorgridcolor": "white",
             "startlinecolor": "#2a3f5f"
            },
            "type": "carpet"
           }
          ],
          "choropleth": [
           {
            "colorbar": {
             "outlinewidth": 0,
             "ticks": ""
            },
            "type": "choropleth"
           }
          ],
          "contour": [
           {
            "colorbar": {
             "outlinewidth": 0,
             "ticks": ""
            },
            "colorscale": [
             [
              0,
              "#0d0887"
             ],
             [
              0.1111111111111111,
              "#46039f"
             ],
             [
              0.2222222222222222,
              "#7201a8"
             ],
             [
              0.3333333333333333,
              "#9c179e"
             ],
             [
              0.4444444444444444,
              "#bd3786"
             ],
             [
              0.5555555555555556,
              "#d8576b"
             ],
             [
              0.6666666666666666,
              "#ed7953"
             ],
             [
              0.7777777777777778,
              "#fb9f3a"
             ],
             [
              0.8888888888888888,
              "#fdca26"
             ],
             [
              1,
              "#f0f921"
             ]
            ],
            "type": "contour"
           }
          ],
          "contourcarpet": [
           {
            "colorbar": {
             "outlinewidth": 0,
             "ticks": ""
            },
            "type": "contourcarpet"
           }
          ],
          "heatmap": [
           {
            "colorbar": {
             "outlinewidth": 0,
             "ticks": ""
            },
            "colorscale": [
             [
              0,
              "#0d0887"
             ],
             [
              0.1111111111111111,
              "#46039f"
             ],
             [
              0.2222222222222222,
              "#7201a8"
             ],
             [
              0.3333333333333333,
              "#9c179e"
             ],
             [
              0.4444444444444444,
              "#bd3786"
             ],
             [
              0.5555555555555556,
              "#d8576b"
             ],
             [
              0.6666666666666666,
              "#ed7953"
             ],
             [
              0.7777777777777778,
              "#fb9f3a"
             ],
             [
              0.8888888888888888,
              "#fdca26"
             ],
             [
              1,
              "#f0f921"
             ]
            ],
            "type": "heatmap"
           }
          ],
          "heatmapgl": [
           {
            "colorbar": {
             "outlinewidth": 0,
             "ticks": ""
            },
            "colorscale": [
             [
              0,
              "#0d0887"
             ],
             [
              0.1111111111111111,
              "#46039f"
             ],
             [
              0.2222222222222222,
              "#7201a8"
             ],
             [
              0.3333333333333333,
              "#9c179e"
             ],
             [
              0.4444444444444444,
              "#bd3786"
             ],
             [
              0.5555555555555556,
              "#d8576b"
             ],
             [
              0.6666666666666666,
              "#ed7953"
             ],
             [
              0.7777777777777778,
              "#fb9f3a"
             ],
             [
              0.8888888888888888,
              "#fdca26"
             ],
             [
              1,
              "#f0f921"
             ]
            ],
            "type": "heatmapgl"
           }
          ],
          "histogram": [
           {
            "marker": {
             "pattern": {
              "fillmode": "overlay",
              "size": 10,
              "solidity": 0.2
             }
            },
            "type": "histogram"
           }
          ],
          "histogram2d": [
           {
            "colorbar": {
             "outlinewidth": 0,
             "ticks": ""
            },
            "colorscale": [
             [
              0,
              "#0d0887"
             ],
             [
              0.1111111111111111,
              "#46039f"
             ],
             [
              0.2222222222222222,
              "#7201a8"
             ],
             [
              0.3333333333333333,
              "#9c179e"
             ],
             [
              0.4444444444444444,
              "#bd3786"
             ],
             [
              0.5555555555555556,
              "#d8576b"
             ],
             [
              0.6666666666666666,
              "#ed7953"
             ],
             [
              0.7777777777777778,
              "#fb9f3a"
             ],
             [
              0.8888888888888888,
              "#fdca26"
             ],
             [
              1,
              "#f0f921"
             ]
            ],
            "type": "histogram2d"
           }
          ],
          "histogram2dcontour": [
           {
            "colorbar": {
             "outlinewidth": 0,
             "ticks": ""
            },
            "colorscale": [
             [
              0,
              "#0d0887"
             ],
             [
              0.1111111111111111,
              "#46039f"
             ],
             [
              0.2222222222222222,
              "#7201a8"
             ],
             [
              0.3333333333333333,
              "#9c179e"
             ],
             [
              0.4444444444444444,
              "#bd3786"
             ],
             [
              0.5555555555555556,
              "#d8576b"
             ],
             [
              0.6666666666666666,
              "#ed7953"
             ],
             [
              0.7777777777777778,
              "#fb9f3a"
             ],
             [
              0.8888888888888888,
              "#fdca26"
             ],
             [
              1,
              "#f0f921"
             ]
            ],
            "type": "histogram2dcontour"
           }
          ],
          "mesh3d": [
           {
            "colorbar": {
             "outlinewidth": 0,
             "ticks": ""
            },
            "type": "mesh3d"
           }
          ],
          "parcoords": [
           {
            "line": {
             "colorbar": {
              "outlinewidth": 0,
              "ticks": ""
             }
            },
            "type": "parcoords"
           }
          ],
          "pie": [
           {
            "automargin": true,
            "type": "pie"
           }
          ],
          "scatter": [
           {
            "fillpattern": {
             "fillmode": "overlay",
             "size": 10,
             "solidity": 0.2
            },
            "type": "scatter"
           }
          ],
          "scatter3d": [
           {
            "line": {
             "colorbar": {
              "outlinewidth": 0,
              "ticks": ""
             }
            },
            "marker": {
             "colorbar": {
              "outlinewidth": 0,
              "ticks": ""
             }
            },
            "type": "scatter3d"
           }
          ],
          "scattercarpet": [
           {
            "marker": {
             "colorbar": {
              "outlinewidth": 0,
              "ticks": ""
             }
            },
            "type": "scattercarpet"
           }
          ],
          "scattergeo": [
           {
            "marker": {
             "colorbar": {
              "outlinewidth": 0,
              "ticks": ""
             }
            },
            "type": "scattergeo"
           }
          ],
          "scattergl": [
           {
            "marker": {
             "colorbar": {
              "outlinewidth": 0,
              "ticks": ""
             }
            },
            "type": "scattergl"
           }
          ],
          "scattermapbox": [
           {
            "marker": {
             "colorbar": {
              "outlinewidth": 0,
              "ticks": ""
             }
            },
            "type": "scattermapbox"
           }
          ],
          "scatterpolar": [
           {
            "marker": {
             "colorbar": {
              "outlinewidth": 0,
              "ticks": ""
             }
            },
            "type": "scatterpolar"
           }
          ],
          "scatterpolargl": [
           {
            "marker": {
             "colorbar": {
              "outlinewidth": 0,
              "ticks": ""
             }
            },
            "type": "scatterpolargl"
           }
          ],
          "scatterternary": [
           {
            "marker": {
             "colorbar": {
              "outlinewidth": 0,
              "ticks": ""
             }
            },
            "type": "scatterternary"
           }
          ],
          "surface": [
           {
            "colorbar": {
             "outlinewidth": 0,
             "ticks": ""
            },
            "colorscale": [
             [
              0,
              "#0d0887"
             ],
             [
              0.1111111111111111,
              "#46039f"
             ],
             [
              0.2222222222222222,
              "#7201a8"
             ],
             [
              0.3333333333333333,
              "#9c179e"
             ],
             [
              0.4444444444444444,
              "#bd3786"
             ],
             [
              0.5555555555555556,
              "#d8576b"
             ],
             [
              0.6666666666666666,
              "#ed7953"
             ],
             [
              0.7777777777777778,
              "#fb9f3a"
             ],
             [
              0.8888888888888888,
              "#fdca26"
             ],
             [
              1,
              "#f0f921"
             ]
            ],
            "type": "surface"
           }
          ],
          "table": [
           {
            "cells": {
             "fill": {
              "color": "#EBF0F8"
             },
             "line": {
              "color": "white"
             }
            },
            "header": {
             "fill": {
              "color": "#C8D4E3"
             },
             "line": {
              "color": "white"
             }
            },
            "type": "table"
           }
          ]
         },
         "layout": {
          "annotationdefaults": {
           "arrowcolor": "#2a3f5f",
           "arrowhead": 0,
           "arrowwidth": 1
          },
          "autotypenumbers": "strict",
          "coloraxis": {
           "colorbar": {
            "outlinewidth": 0,
            "ticks": ""
           }
          },
          "colorscale": {
           "diverging": [
            [
             0,
             "#8e0152"
            ],
            [
             0.1,
             "#c51b7d"
            ],
            [
             0.2,
             "#de77ae"
            ],
            [
             0.3,
             "#f1b6da"
            ],
            [
             0.4,
             "#fde0ef"
            ],
            [
             0.5,
             "#f7f7f7"
            ],
            [
             0.6,
             "#e6f5d0"
            ],
            [
             0.7,
             "#b8e186"
            ],
            [
             0.8,
             "#7fbc41"
            ],
            [
             0.9,
             "#4d9221"
            ],
            [
             1,
             "#276419"
            ]
           ],
           "sequential": [
            [
             0,
             "#0d0887"
            ],
            [
             0.1111111111111111,
             "#46039f"
            ],
            [
             0.2222222222222222,
             "#7201a8"
            ],
            [
             0.3333333333333333,
             "#9c179e"
            ],
            [
             0.4444444444444444,
             "#bd3786"
            ],
            [
             0.5555555555555556,
             "#d8576b"
            ],
            [
             0.6666666666666666,
             "#ed7953"
            ],
            [
             0.7777777777777778,
             "#fb9f3a"
            ],
            [
             0.8888888888888888,
             "#fdca26"
            ],
            [
             1,
             "#f0f921"
            ]
           ],
           "sequentialminus": [
            [
             0,
             "#0d0887"
            ],
            [
             0.1111111111111111,
             "#46039f"
            ],
            [
             0.2222222222222222,
             "#7201a8"
            ],
            [
             0.3333333333333333,
             "#9c179e"
            ],
            [
             0.4444444444444444,
             "#bd3786"
            ],
            [
             0.5555555555555556,
             "#d8576b"
            ],
            [
             0.6666666666666666,
             "#ed7953"
            ],
            [
             0.7777777777777778,
             "#fb9f3a"
            ],
            [
             0.8888888888888888,
             "#fdca26"
            ],
            [
             1,
             "#f0f921"
            ]
           ]
          },
          "colorway": [
           "#636efa",
           "#EF553B",
           "#00cc96",
           "#ab63fa",
           "#FFA15A",
           "#19d3f3",
           "#FF6692",
           "#B6E880",
           "#FF97FF",
           "#FECB52"
          ],
          "font": {
           "color": "#2a3f5f"
          },
          "geo": {
           "bgcolor": "white",
           "lakecolor": "white",
           "landcolor": "#E5ECF6",
           "showlakes": true,
           "showland": true,
           "subunitcolor": "white"
          },
          "hoverlabel": {
           "align": "left"
          },
          "hovermode": "closest",
          "mapbox": {
           "style": "light"
          },
          "paper_bgcolor": "white",
          "plot_bgcolor": "#E5ECF6",
          "polar": {
           "angularaxis": {
            "gridcolor": "white",
            "linecolor": "white",
            "ticks": ""
           },
           "bgcolor": "#E5ECF6",
           "radialaxis": {
            "gridcolor": "white",
            "linecolor": "white",
            "ticks": ""
           }
          },
          "scene": {
           "xaxis": {
            "backgroundcolor": "#E5ECF6",
            "gridcolor": "white",
            "gridwidth": 2,
            "linecolor": "white",
            "showbackground": true,
            "ticks": "",
            "zerolinecolor": "white"
           },
           "yaxis": {
            "backgroundcolor": "#E5ECF6",
            "gridcolor": "white",
            "gridwidth": 2,
            "linecolor": "white",
            "showbackground": true,
            "ticks": "",
            "zerolinecolor": "white"
           },
           "zaxis": {
            "backgroundcolor": "#E5ECF6",
            "gridcolor": "white",
            "gridwidth": 2,
            "linecolor": "white",
            "showbackground": true,
            "ticks": "",
            "zerolinecolor": "white"
           }
          },
          "shapedefaults": {
           "line": {
            "color": "#2a3f5f"
           }
          },
          "ternary": {
           "aaxis": {
            "gridcolor": "white",
            "linecolor": "white",
            "ticks": ""
           },
           "baxis": {
            "gridcolor": "white",
            "linecolor": "white",
            "ticks": ""
           },
           "bgcolor": "#E5ECF6",
           "caxis": {
            "gridcolor": "white",
            "linecolor": "white",
            "ticks": ""
           }
          },
          "title": {
           "x": 0.05
          },
          "xaxis": {
           "automargin": true,
           "gridcolor": "white",
           "linecolor": "white",
           "ticks": "",
           "title": {
            "standoff": 15
           },
           "zerolinecolor": "white",
           "zerolinewidth": 2
          },
          "yaxis": {
           "automargin": true,
           "gridcolor": "white",
           "linecolor": "white",
           "ticks": "",
           "title": {
            "standoff": 15
           },
           "zerolinecolor": "white",
           "zerolinewidth": 2
          }
         }
        },
        "width": 800,
        "xaxis": {
         "linecolor": "black",
         "linewidth": 2,
         "showline": true,
         "ticklen": 5,
         "ticks": "inside",
         "tickwidth": 2,
         "title": {
          "text": ""
         }
        },
        "yaxis": {
         "linecolor": "black",
         "linewidth": 2,
         "showline": true,
         "ticklen": 5,
         "ticks": "inside",
         "tickwidth": 2,
         "title": {
          "text": ""
         }
        }
       }
      }
     },
     "metadata": {},
     "output_type": "display_data"
    }
   ],
   "source": [
    "corr_matrix(df_MP_non_zero, electronic_properties, 800, 600, 14)"
   ]
  },
  {
   "cell_type": "markdown",
   "metadata": {},
   "source": [
    "## Magnetic"
   ]
  },
  {
   "cell_type": "code",
   "execution_count": 28,
   "metadata": {},
   "outputs": [
    {
     "data": {
      "application/vnd.plotly.v1+json": {
       "config": {
        "plotlyServerURL": "https://plot.ly"
       },
       "data": [
        {
         "marker": {
          "color": "rgb(33, 145, 140)"
         },
         "text": [
          "80.84%",
          "16.92%",
          "1.77%",
          "0.47%"
         ],
         "textposition": "auto",
         "type": "bar",
         "x": [
          "Not Magnetic",
          "Ferromagnetic  ",
          "Ferrimagnetic",
          "Anti-ferrimagnetic"
         ],
         "y": [
          4667,
          977,
          102,
          27
         ]
        }
       ],
       "layout": {
        "font": {
         "color": "black",
         "family": "Helvetica",
         "size": 16
        },
        "height": 500,
        "margin": {
         "b": 10,
         "l": 10,
         "r": 10,
         "t": 10
        },
        "paper_bgcolor": "white",
        "plot_bgcolor": "white",
        "template": {
         "data": {
          "bar": [
           {
            "error_x": {
             "color": "#2a3f5f"
            },
            "error_y": {
             "color": "#2a3f5f"
            },
            "marker": {
             "line": {
              "color": "#E5ECF6",
              "width": 0.5
             },
             "pattern": {
              "fillmode": "overlay",
              "size": 10,
              "solidity": 0.2
             }
            },
            "type": "bar"
           }
          ],
          "barpolar": [
           {
            "marker": {
             "line": {
              "color": "#E5ECF6",
              "width": 0.5
             },
             "pattern": {
              "fillmode": "overlay",
              "size": 10,
              "solidity": 0.2
             }
            },
            "type": "barpolar"
           }
          ],
          "carpet": [
           {
            "aaxis": {
             "endlinecolor": "#2a3f5f",
             "gridcolor": "white",
             "linecolor": "white",
             "minorgridcolor": "white",
             "startlinecolor": "#2a3f5f"
            },
            "baxis": {
             "endlinecolor": "#2a3f5f",
             "gridcolor": "white",
             "linecolor": "white",
             "minorgridcolor": "white",
             "startlinecolor": "#2a3f5f"
            },
            "type": "carpet"
           }
          ],
          "choropleth": [
           {
            "colorbar": {
             "outlinewidth": 0,
             "ticks": ""
            },
            "type": "choropleth"
           }
          ],
          "contour": [
           {
            "colorbar": {
             "outlinewidth": 0,
             "ticks": ""
            },
            "colorscale": [
             [
              0,
              "#0d0887"
             ],
             [
              0.1111111111111111,
              "#46039f"
             ],
             [
              0.2222222222222222,
              "#7201a8"
             ],
             [
              0.3333333333333333,
              "#9c179e"
             ],
             [
              0.4444444444444444,
              "#bd3786"
             ],
             [
              0.5555555555555556,
              "#d8576b"
             ],
             [
              0.6666666666666666,
              "#ed7953"
             ],
             [
              0.7777777777777778,
              "#fb9f3a"
             ],
             [
              0.8888888888888888,
              "#fdca26"
             ],
             [
              1,
              "#f0f921"
             ]
            ],
            "type": "contour"
           }
          ],
          "contourcarpet": [
           {
            "colorbar": {
             "outlinewidth": 0,
             "ticks": ""
            },
            "type": "contourcarpet"
           }
          ],
          "heatmap": [
           {
            "colorbar": {
             "outlinewidth": 0,
             "ticks": ""
            },
            "colorscale": [
             [
              0,
              "#0d0887"
             ],
             [
              0.1111111111111111,
              "#46039f"
             ],
             [
              0.2222222222222222,
              "#7201a8"
             ],
             [
              0.3333333333333333,
              "#9c179e"
             ],
             [
              0.4444444444444444,
              "#bd3786"
             ],
             [
              0.5555555555555556,
              "#d8576b"
             ],
             [
              0.6666666666666666,
              "#ed7953"
             ],
             [
              0.7777777777777778,
              "#fb9f3a"
             ],
             [
              0.8888888888888888,
              "#fdca26"
             ],
             [
              1,
              "#f0f921"
             ]
            ],
            "type": "heatmap"
           }
          ],
          "heatmapgl": [
           {
            "colorbar": {
             "outlinewidth": 0,
             "ticks": ""
            },
            "colorscale": [
             [
              0,
              "#0d0887"
             ],
             [
              0.1111111111111111,
              "#46039f"
             ],
             [
              0.2222222222222222,
              "#7201a8"
             ],
             [
              0.3333333333333333,
              "#9c179e"
             ],
             [
              0.4444444444444444,
              "#bd3786"
             ],
             [
              0.5555555555555556,
              "#d8576b"
             ],
             [
              0.6666666666666666,
              "#ed7953"
             ],
             [
              0.7777777777777778,
              "#fb9f3a"
             ],
             [
              0.8888888888888888,
              "#fdca26"
             ],
             [
              1,
              "#f0f921"
             ]
            ],
            "type": "heatmapgl"
           }
          ],
          "histogram": [
           {
            "marker": {
             "pattern": {
              "fillmode": "overlay",
              "size": 10,
              "solidity": 0.2
             }
            },
            "type": "histogram"
           }
          ],
          "histogram2d": [
           {
            "colorbar": {
             "outlinewidth": 0,
             "ticks": ""
            },
            "colorscale": [
             [
              0,
              "#0d0887"
             ],
             [
              0.1111111111111111,
              "#46039f"
             ],
             [
              0.2222222222222222,
              "#7201a8"
             ],
             [
              0.3333333333333333,
              "#9c179e"
             ],
             [
              0.4444444444444444,
              "#bd3786"
             ],
             [
              0.5555555555555556,
              "#d8576b"
             ],
             [
              0.6666666666666666,
              "#ed7953"
             ],
             [
              0.7777777777777778,
              "#fb9f3a"
             ],
             [
              0.8888888888888888,
              "#fdca26"
             ],
             [
              1,
              "#f0f921"
             ]
            ],
            "type": "histogram2d"
           }
          ],
          "histogram2dcontour": [
           {
            "colorbar": {
             "outlinewidth": 0,
             "ticks": ""
            },
            "colorscale": [
             [
              0,
              "#0d0887"
             ],
             [
              0.1111111111111111,
              "#46039f"
             ],
             [
              0.2222222222222222,
              "#7201a8"
             ],
             [
              0.3333333333333333,
              "#9c179e"
             ],
             [
              0.4444444444444444,
              "#bd3786"
             ],
             [
              0.5555555555555556,
              "#d8576b"
             ],
             [
              0.6666666666666666,
              "#ed7953"
             ],
             [
              0.7777777777777778,
              "#fb9f3a"
             ],
             [
              0.8888888888888888,
              "#fdca26"
             ],
             [
              1,
              "#f0f921"
             ]
            ],
            "type": "histogram2dcontour"
           }
          ],
          "mesh3d": [
           {
            "colorbar": {
             "outlinewidth": 0,
             "ticks": ""
            },
            "type": "mesh3d"
           }
          ],
          "parcoords": [
           {
            "line": {
             "colorbar": {
              "outlinewidth": 0,
              "ticks": ""
             }
            },
            "type": "parcoords"
           }
          ],
          "pie": [
           {
            "automargin": true,
            "type": "pie"
           }
          ],
          "scatter": [
           {
            "fillpattern": {
             "fillmode": "overlay",
             "size": 10,
             "solidity": 0.2
            },
            "type": "scatter"
           }
          ],
          "scatter3d": [
           {
            "line": {
             "colorbar": {
              "outlinewidth": 0,
              "ticks": ""
             }
            },
            "marker": {
             "colorbar": {
              "outlinewidth": 0,
              "ticks": ""
             }
            },
            "type": "scatter3d"
           }
          ],
          "scattercarpet": [
           {
            "marker": {
             "colorbar": {
              "outlinewidth": 0,
              "ticks": ""
             }
            },
            "type": "scattercarpet"
           }
          ],
          "scattergeo": [
           {
            "marker": {
             "colorbar": {
              "outlinewidth": 0,
              "ticks": ""
             }
            },
            "type": "scattergeo"
           }
          ],
          "scattergl": [
           {
            "marker": {
             "colorbar": {
              "outlinewidth": 0,
              "ticks": ""
             }
            },
            "type": "scattergl"
           }
          ],
          "scattermapbox": [
           {
            "marker": {
             "colorbar": {
              "outlinewidth": 0,
              "ticks": ""
             }
            },
            "type": "scattermapbox"
           }
          ],
          "scatterpolar": [
           {
            "marker": {
             "colorbar": {
              "outlinewidth": 0,
              "ticks": ""
             }
            },
            "type": "scatterpolar"
           }
          ],
          "scatterpolargl": [
           {
            "marker": {
             "colorbar": {
              "outlinewidth": 0,
              "ticks": ""
             }
            },
            "type": "scatterpolargl"
           }
          ],
          "scatterternary": [
           {
            "marker": {
             "colorbar": {
              "outlinewidth": 0,
              "ticks": ""
             }
            },
            "type": "scatterternary"
           }
          ],
          "surface": [
           {
            "colorbar": {
             "outlinewidth": 0,
             "ticks": ""
            },
            "colorscale": [
             [
              0,
              "#0d0887"
             ],
             [
              0.1111111111111111,
              "#46039f"
             ],
             [
              0.2222222222222222,
              "#7201a8"
             ],
             [
              0.3333333333333333,
              "#9c179e"
             ],
             [
              0.4444444444444444,
              "#bd3786"
             ],
             [
              0.5555555555555556,
              "#d8576b"
             ],
             [
              0.6666666666666666,
              "#ed7953"
             ],
             [
              0.7777777777777778,
              "#fb9f3a"
             ],
             [
              0.8888888888888888,
              "#fdca26"
             ],
             [
              1,
              "#f0f921"
             ]
            ],
            "type": "surface"
           }
          ],
          "table": [
           {
            "cells": {
             "fill": {
              "color": "#EBF0F8"
             },
             "line": {
              "color": "white"
             }
            },
            "header": {
             "fill": {
              "color": "#C8D4E3"
             },
             "line": {
              "color": "white"
             }
            },
            "type": "table"
           }
          ]
         },
         "layout": {
          "annotationdefaults": {
           "arrowcolor": "#2a3f5f",
           "arrowhead": 0,
           "arrowwidth": 1
          },
          "autotypenumbers": "strict",
          "coloraxis": {
           "colorbar": {
            "outlinewidth": 0,
            "ticks": ""
           }
          },
          "colorscale": {
           "diverging": [
            [
             0,
             "#8e0152"
            ],
            [
             0.1,
             "#c51b7d"
            ],
            [
             0.2,
             "#de77ae"
            ],
            [
             0.3,
             "#f1b6da"
            ],
            [
             0.4,
             "#fde0ef"
            ],
            [
             0.5,
             "#f7f7f7"
            ],
            [
             0.6,
             "#e6f5d0"
            ],
            [
             0.7,
             "#b8e186"
            ],
            [
             0.8,
             "#7fbc41"
            ],
            [
             0.9,
             "#4d9221"
            ],
            [
             1,
             "#276419"
            ]
           ],
           "sequential": [
            [
             0,
             "#0d0887"
            ],
            [
             0.1111111111111111,
             "#46039f"
            ],
            [
             0.2222222222222222,
             "#7201a8"
            ],
            [
             0.3333333333333333,
             "#9c179e"
            ],
            [
             0.4444444444444444,
             "#bd3786"
            ],
            [
             0.5555555555555556,
             "#d8576b"
            ],
            [
             0.6666666666666666,
             "#ed7953"
            ],
            [
             0.7777777777777778,
             "#fb9f3a"
            ],
            [
             0.8888888888888888,
             "#fdca26"
            ],
            [
             1,
             "#f0f921"
            ]
           ],
           "sequentialminus": [
            [
             0,
             "#0d0887"
            ],
            [
             0.1111111111111111,
             "#46039f"
            ],
            [
             0.2222222222222222,
             "#7201a8"
            ],
            [
             0.3333333333333333,
             "#9c179e"
            ],
            [
             0.4444444444444444,
             "#bd3786"
            ],
            [
             0.5555555555555556,
             "#d8576b"
            ],
            [
             0.6666666666666666,
             "#ed7953"
            ],
            [
             0.7777777777777778,
             "#fb9f3a"
            ],
            [
             0.8888888888888888,
             "#fdca26"
            ],
            [
             1,
             "#f0f921"
            ]
           ]
          },
          "colorway": [
           "#636efa",
           "#EF553B",
           "#00cc96",
           "#ab63fa",
           "#FFA15A",
           "#19d3f3",
           "#FF6692",
           "#B6E880",
           "#FF97FF",
           "#FECB52"
          ],
          "font": {
           "color": "#2a3f5f"
          },
          "geo": {
           "bgcolor": "white",
           "lakecolor": "white",
           "landcolor": "#E5ECF6",
           "showlakes": true,
           "showland": true,
           "subunitcolor": "white"
          },
          "hoverlabel": {
           "align": "left"
          },
          "hovermode": "closest",
          "mapbox": {
           "style": "light"
          },
          "paper_bgcolor": "white",
          "plot_bgcolor": "#E5ECF6",
          "polar": {
           "angularaxis": {
            "gridcolor": "white",
            "linecolor": "white",
            "ticks": ""
           },
           "bgcolor": "#E5ECF6",
           "radialaxis": {
            "gridcolor": "white",
            "linecolor": "white",
            "ticks": ""
           }
          },
          "scene": {
           "xaxis": {
            "backgroundcolor": "#E5ECF6",
            "gridcolor": "white",
            "gridwidth": 2,
            "linecolor": "white",
            "showbackground": true,
            "ticks": "",
            "zerolinecolor": "white"
           },
           "yaxis": {
            "backgroundcolor": "#E5ECF6",
            "gridcolor": "white",
            "gridwidth": 2,
            "linecolor": "white",
            "showbackground": true,
            "ticks": "",
            "zerolinecolor": "white"
           },
           "zaxis": {
            "backgroundcolor": "#E5ECF6",
            "gridcolor": "white",
            "gridwidth": 2,
            "linecolor": "white",
            "showbackground": true,
            "ticks": "",
            "zerolinecolor": "white"
           }
          },
          "shapedefaults": {
           "line": {
            "color": "#2a3f5f"
           }
          },
          "ternary": {
           "aaxis": {
            "gridcolor": "white",
            "linecolor": "white",
            "ticks": ""
           },
           "baxis": {
            "gridcolor": "white",
            "linecolor": "white",
            "ticks": ""
           },
           "bgcolor": "#E5ECF6",
           "caxis": {
            "gridcolor": "white",
            "linecolor": "white",
            "ticks": ""
           }
          },
          "title": {
           "x": 0.05
          },
          "xaxis": {
           "automargin": true,
           "gridcolor": "white",
           "linecolor": "white",
           "ticks": "",
           "title": {
            "standoff": 15
           },
           "zerolinecolor": "white",
           "zerolinewidth": 2
          },
          "yaxis": {
           "automargin": true,
           "gridcolor": "white",
           "linecolor": "white",
           "ticks": "",
           "title": {
            "standoff": 15
           },
           "zerolinecolor": "white",
           "zerolinewidth": 2
          }
         }
        },
        "width": 800,
        "xaxis": {
         "linecolor": "black",
         "linewidth": 2,
         "showline": true,
         "ticklen": 5,
         "ticks": "inside",
         "tickwidth": 2,
         "title": {
          "text": "Magnetic Type"
         }
        },
        "yaxis": {
         "linecolor": "black",
         "linewidth": 2,
         "showline": true,
         "ticklen": 5,
         "ticks": "inside",
         "tickwidth": 2,
         "title": {
          "text": "Count"
         }
        }
       }
      }
     },
     "metadata": {},
     "output_type": "display_data"
    }
   ],
   "source": [
    "# Define a dictionary to map the old names to the new names\n",
    "name_mapping_magnet = {\n",
    "    'NM': 'Not Magnetic',\n",
    "    'FM': 'Ferromagnetic  ',\n",
    "    'FiM': 'Ferrimagnetic',\n",
    "    'AFM': 'Anti-ferrimagnetic',\n",
    "}\n",
    "\n",
    "# Replace the values in the sc_class column with the new names\n",
    "df_MP[\"magnetic_type_named\"] = df_MP[\"magnetic_type\"].map(name_mapping_magnet)\n",
    "\n",
    "magnetic_types_count = df_MP[\"magnetic_type_named\"].value_counts()\n",
    "precentages = (df_MP[\"magnetic_type_named\"].value_counts()/len(df_MP))*100\n",
    "# Create a bar plot\n",
    "data = [go.Bar(x=magnetic_types_count.index,\n",
    "               y=magnetic_types_count.values,\n",
    "               text= [f'{x:.2f}%' for x in precentages],\n",
    "               textposition='auto',\n",
    "               marker = dict(color='rgb(33, 145, 140)'))]\n",
    "\n",
    "# Create the layout\n",
    "layout = go.Layout(xaxis=dict(title=\"Magnetic Type\", showline=True, linewidth=2, linecolor='black',\n",
    "                              ticks='inside', tickwidth=2, ticklen=5),\n",
    "                   yaxis=dict(title=\"Count\", showline=True, linewidth=2, linecolor='black',\n",
    "                              ticks='inside', tickwidth=2, ticklen=5), \n",
    "                   width=800,\n",
    "                   height=500,\n",
    "                   plot_bgcolor='white',\n",
    "                   paper_bgcolor='white', \n",
    "                   font=dict(family='Helvetica', size=16, color='black'),\n",
    "                   margin=dict(l=10, r=10, b=10, t=10))\n",
    "\n",
    "# Create the figure\n",
    "fig = go.Figure(data=data, layout=layout)\n",
    "\n",
    "# Show the figure\n",
    "fig.show()"
   ]
  },
  {
   "cell_type": "code",
   "execution_count": 29,
   "metadata": {},
   "outputs": [],
   "source": [
    "df_MP[\"cat_magnetic_type\"] = df_MP[\"magnetic_type\"].astype('category').cat.codes"
   ]
  },
  {
   "cell_type": "code",
   "execution_count": 30,
   "metadata": {},
   "outputs": [],
   "source": [
    "magentic_properties = [\"cat_magnetic_type\",\n",
    "                       \"total_magnetization\",\n",
    "                       \"is_magnetic\",\n",
    "                       \"num_unique_magnetic_sites\",\n",
    "                       \"magmoms\",\n",
    "                       \"total_magnetization_normalized_vol\",\n",
    "                       \"total_magnetization_normalized_formula_units\",\n",
    "                       \"num_magnetic_sites\",\n",
    "                       \"true_total_magnetization\",\n",
    "                       ]"
   ]
  },
  {
   "cell_type": "code",
   "execution_count": 31,
   "metadata": {},
   "outputs": [
    {
     "data": {
      "application/vnd.plotly.v1+json": {
       "config": {
        "plotlyServerURL": "https://plot.ly"
       },
       "data": [
        {
         "colorbar": {
          "ticktext": [
           -1,
           -0.5,
           0,
           0.5,
           1
          ],
          "tickvals": [
           -1,
           -0.5,
           0,
           0.5,
           1
          ],
          "title": {
           "side": "right",
           "text": "Pearson Coefficient"
          }
         },
         "colorscale": [
          [
           0,
           "#440154"
          ],
          [
           0.1111111111111111,
           "#482878"
          ],
          [
           0.2222222222222222,
           "#3e4989"
          ],
          [
           0.3333333333333333,
           "#31688e"
          ],
          [
           0.4444444444444444,
           "#26828e"
          ],
          [
           0.5555555555555556,
           "#1f9e89"
          ],
          [
           0.6666666666666666,
           "#35b779"
          ],
          [
           0.7777777777777778,
           "#6ece58"
          ],
          [
           0.8888888888888888,
           "#b5de2b"
          ],
          [
           1,
           "#fde725"
          ]
         ],
         "text": [
          [
           1,
           -0.55,
           -0.98,
           -0.63,
           -0.58,
           -0.55,
           -0.7,
           -0.44,
           -0.01
          ],
          [
           -0.55,
           1,
           0.59,
           0.67,
           0.8,
           1,
           0.57,
           0.82,
           0.07
          ],
          [
           -0.98,
           0.59,
           1,
           0.67,
           0.61,
           0.59,
           0.74,
           0.47,
           0.02
          ],
          [
           -0.63,
           0.67,
           0.67,
           1,
           0.43,
           0.67,
           0.76,
           0.59,
           0.01
          ],
          [
           -0.58,
           0.8,
           0.61,
           0.43,
           1,
           0.8,
           0.47,
           0.72,
           0.04
          ],
          [
           -0.55,
           1,
           0.59,
           0.67,
           0.8,
           1,
           0.57,
           0.82,
           0.07
          ],
          [
           -0.7,
           0.57,
           0.74,
           0.76,
           0.47,
           0.57,
           1,
           0.64,
           0
          ],
          [
           -0.44,
           0.82,
           0.47,
           0.59,
           0.72,
           0.82,
           0.64,
           1,
           0.04
          ],
          [
           -0.01,
           0.07,
           0.02,
           0.01,
           0.04,
           0.07,
           0,
           0.04,
           1
          ]
         ],
         "textfont": {
          "size": 14
         },
         "texttemplate": "%{text}",
         "type": "heatmap",
         "x": [
          "cat_magnetic_type",
          "total_magnetization",
          "is_magnetic",
          "num_unique_magnetic_sites",
          "total_magnetization_normalized_vol",
          "total_magnetization_normalized_formula_units",
          "num_magnetic_sites",
          "true_total_magnetization",
          "tc"
         ],
         "y": [
          "cat_magnetic_type",
          "total_magnetization",
          "is_magnetic",
          "num_unique_magnetic_sites",
          "total_magnetization_normalized_vol",
          "total_magnetization_normalized_formula_units",
          "num_magnetic_sites",
          "true_total_magnetization",
          "tc"
         ],
         "z": [
          [
           1,
           -0.55,
           -0.98,
           -0.63,
           -0.58,
           -0.55,
           -0.7,
           -0.44,
           -0.01
          ],
          [
           -0.55,
           1,
           0.59,
           0.67,
           0.8,
           1,
           0.57,
           0.82,
           0.07
          ],
          [
           -0.98,
           0.59,
           1,
           0.67,
           0.61,
           0.59,
           0.74,
           0.47,
           0.02
          ],
          [
           -0.63,
           0.67,
           0.67,
           1,
           0.43,
           0.67,
           0.76,
           0.59,
           0.01
          ],
          [
           -0.58,
           0.8,
           0.61,
           0.43,
           1,
           0.8,
           0.47,
           0.72,
           0.04
          ],
          [
           -0.55,
           1,
           0.59,
           0.67,
           0.8,
           1,
           0.57,
           0.82,
           0.07
          ],
          [
           -0.7,
           0.57,
           0.74,
           0.76,
           0.47,
           0.57,
           1,
           0.64,
           0
          ],
          [
           -0.44,
           0.82,
           0.47,
           0.59,
           0.72,
           0.82,
           0.64,
           1,
           0.04
          ],
          [
           -0.01,
           0.07,
           0.02,
           0.01,
           0.04,
           0.07,
           0,
           0.04,
           1
          ]
         ]
        }
       ],
       "layout": {
        "font": {
         "color": "black",
         "family": "Helvetica",
         "size": 16
        },
        "height": 800,
        "margin": {
         "b": 5,
         "l": 5,
         "r": 5,
         "t": 10
        },
        "paper_bgcolor": "white",
        "plot_bgcolor": "white",
        "template": {
         "data": {
          "bar": [
           {
            "error_x": {
             "color": "#2a3f5f"
            },
            "error_y": {
             "color": "#2a3f5f"
            },
            "marker": {
             "line": {
              "color": "#E5ECF6",
              "width": 0.5
             },
             "pattern": {
              "fillmode": "overlay",
              "size": 10,
              "solidity": 0.2
             }
            },
            "type": "bar"
           }
          ],
          "barpolar": [
           {
            "marker": {
             "line": {
              "color": "#E5ECF6",
              "width": 0.5
             },
             "pattern": {
              "fillmode": "overlay",
              "size": 10,
              "solidity": 0.2
             }
            },
            "type": "barpolar"
           }
          ],
          "carpet": [
           {
            "aaxis": {
             "endlinecolor": "#2a3f5f",
             "gridcolor": "white",
             "linecolor": "white",
             "minorgridcolor": "white",
             "startlinecolor": "#2a3f5f"
            },
            "baxis": {
             "endlinecolor": "#2a3f5f",
             "gridcolor": "white",
             "linecolor": "white",
             "minorgridcolor": "white",
             "startlinecolor": "#2a3f5f"
            },
            "type": "carpet"
           }
          ],
          "choropleth": [
           {
            "colorbar": {
             "outlinewidth": 0,
             "ticks": ""
            },
            "type": "choropleth"
           }
          ],
          "contour": [
           {
            "colorbar": {
             "outlinewidth": 0,
             "ticks": ""
            },
            "colorscale": [
             [
              0,
              "#0d0887"
             ],
             [
              0.1111111111111111,
              "#46039f"
             ],
             [
              0.2222222222222222,
              "#7201a8"
             ],
             [
              0.3333333333333333,
              "#9c179e"
             ],
             [
              0.4444444444444444,
              "#bd3786"
             ],
             [
              0.5555555555555556,
              "#d8576b"
             ],
             [
              0.6666666666666666,
              "#ed7953"
             ],
             [
              0.7777777777777778,
              "#fb9f3a"
             ],
             [
              0.8888888888888888,
              "#fdca26"
             ],
             [
              1,
              "#f0f921"
             ]
            ],
            "type": "contour"
           }
          ],
          "contourcarpet": [
           {
            "colorbar": {
             "outlinewidth": 0,
             "ticks": ""
            },
            "type": "contourcarpet"
           }
          ],
          "heatmap": [
           {
            "colorbar": {
             "outlinewidth": 0,
             "ticks": ""
            },
            "colorscale": [
             [
              0,
              "#0d0887"
             ],
             [
              0.1111111111111111,
              "#46039f"
             ],
             [
              0.2222222222222222,
              "#7201a8"
             ],
             [
              0.3333333333333333,
              "#9c179e"
             ],
             [
              0.4444444444444444,
              "#bd3786"
             ],
             [
              0.5555555555555556,
              "#d8576b"
             ],
             [
              0.6666666666666666,
              "#ed7953"
             ],
             [
              0.7777777777777778,
              "#fb9f3a"
             ],
             [
              0.8888888888888888,
              "#fdca26"
             ],
             [
              1,
              "#f0f921"
             ]
            ],
            "type": "heatmap"
           }
          ],
          "heatmapgl": [
           {
            "colorbar": {
             "outlinewidth": 0,
             "ticks": ""
            },
            "colorscale": [
             [
              0,
              "#0d0887"
             ],
             [
              0.1111111111111111,
              "#46039f"
             ],
             [
              0.2222222222222222,
              "#7201a8"
             ],
             [
              0.3333333333333333,
              "#9c179e"
             ],
             [
              0.4444444444444444,
              "#bd3786"
             ],
             [
              0.5555555555555556,
              "#d8576b"
             ],
             [
              0.6666666666666666,
              "#ed7953"
             ],
             [
              0.7777777777777778,
              "#fb9f3a"
             ],
             [
              0.8888888888888888,
              "#fdca26"
             ],
             [
              1,
              "#f0f921"
             ]
            ],
            "type": "heatmapgl"
           }
          ],
          "histogram": [
           {
            "marker": {
             "pattern": {
              "fillmode": "overlay",
              "size": 10,
              "solidity": 0.2
             }
            },
            "type": "histogram"
           }
          ],
          "histogram2d": [
           {
            "colorbar": {
             "outlinewidth": 0,
             "ticks": ""
            },
            "colorscale": [
             [
              0,
              "#0d0887"
             ],
             [
              0.1111111111111111,
              "#46039f"
             ],
             [
              0.2222222222222222,
              "#7201a8"
             ],
             [
              0.3333333333333333,
              "#9c179e"
             ],
             [
              0.4444444444444444,
              "#bd3786"
             ],
             [
              0.5555555555555556,
              "#d8576b"
             ],
             [
              0.6666666666666666,
              "#ed7953"
             ],
             [
              0.7777777777777778,
              "#fb9f3a"
             ],
             [
              0.8888888888888888,
              "#fdca26"
             ],
             [
              1,
              "#f0f921"
             ]
            ],
            "type": "histogram2d"
           }
          ],
          "histogram2dcontour": [
           {
            "colorbar": {
             "outlinewidth": 0,
             "ticks": ""
            },
            "colorscale": [
             [
              0,
              "#0d0887"
             ],
             [
              0.1111111111111111,
              "#46039f"
             ],
             [
              0.2222222222222222,
              "#7201a8"
             ],
             [
              0.3333333333333333,
              "#9c179e"
             ],
             [
              0.4444444444444444,
              "#bd3786"
             ],
             [
              0.5555555555555556,
              "#d8576b"
             ],
             [
              0.6666666666666666,
              "#ed7953"
             ],
             [
              0.7777777777777778,
              "#fb9f3a"
             ],
             [
              0.8888888888888888,
              "#fdca26"
             ],
             [
              1,
              "#f0f921"
             ]
            ],
            "type": "histogram2dcontour"
           }
          ],
          "mesh3d": [
           {
            "colorbar": {
             "outlinewidth": 0,
             "ticks": ""
            },
            "type": "mesh3d"
           }
          ],
          "parcoords": [
           {
            "line": {
             "colorbar": {
              "outlinewidth": 0,
              "ticks": ""
             }
            },
            "type": "parcoords"
           }
          ],
          "pie": [
           {
            "automargin": true,
            "type": "pie"
           }
          ],
          "scatter": [
           {
            "fillpattern": {
             "fillmode": "overlay",
             "size": 10,
             "solidity": 0.2
            },
            "type": "scatter"
           }
          ],
          "scatter3d": [
           {
            "line": {
             "colorbar": {
              "outlinewidth": 0,
              "ticks": ""
             }
            },
            "marker": {
             "colorbar": {
              "outlinewidth": 0,
              "ticks": ""
             }
            },
            "type": "scatter3d"
           }
          ],
          "scattercarpet": [
           {
            "marker": {
             "colorbar": {
              "outlinewidth": 0,
              "ticks": ""
             }
            },
            "type": "scattercarpet"
           }
          ],
          "scattergeo": [
           {
            "marker": {
             "colorbar": {
              "outlinewidth": 0,
              "ticks": ""
             }
            },
            "type": "scattergeo"
           }
          ],
          "scattergl": [
           {
            "marker": {
             "colorbar": {
              "outlinewidth": 0,
              "ticks": ""
             }
            },
            "type": "scattergl"
           }
          ],
          "scattermapbox": [
           {
            "marker": {
             "colorbar": {
              "outlinewidth": 0,
              "ticks": ""
             }
            },
            "type": "scattermapbox"
           }
          ],
          "scatterpolar": [
           {
            "marker": {
             "colorbar": {
              "outlinewidth": 0,
              "ticks": ""
             }
            },
            "type": "scatterpolar"
           }
          ],
          "scatterpolargl": [
           {
            "marker": {
             "colorbar": {
              "outlinewidth": 0,
              "ticks": ""
             }
            },
            "type": "scatterpolargl"
           }
          ],
          "scatterternary": [
           {
            "marker": {
             "colorbar": {
              "outlinewidth": 0,
              "ticks": ""
             }
            },
            "type": "scatterternary"
           }
          ],
          "surface": [
           {
            "colorbar": {
             "outlinewidth": 0,
             "ticks": ""
            },
            "colorscale": [
             [
              0,
              "#0d0887"
             ],
             [
              0.1111111111111111,
              "#46039f"
             ],
             [
              0.2222222222222222,
              "#7201a8"
             ],
             [
              0.3333333333333333,
              "#9c179e"
             ],
             [
              0.4444444444444444,
              "#bd3786"
             ],
             [
              0.5555555555555556,
              "#d8576b"
             ],
             [
              0.6666666666666666,
              "#ed7953"
             ],
             [
              0.7777777777777778,
              "#fb9f3a"
             ],
             [
              0.8888888888888888,
              "#fdca26"
             ],
             [
              1,
              "#f0f921"
             ]
            ],
            "type": "surface"
           }
          ],
          "table": [
           {
            "cells": {
             "fill": {
              "color": "#EBF0F8"
             },
             "line": {
              "color": "white"
             }
            },
            "header": {
             "fill": {
              "color": "#C8D4E3"
             },
             "line": {
              "color": "white"
             }
            },
            "type": "table"
           }
          ]
         },
         "layout": {
          "annotationdefaults": {
           "arrowcolor": "#2a3f5f",
           "arrowhead": 0,
           "arrowwidth": 1
          },
          "autotypenumbers": "strict",
          "coloraxis": {
           "colorbar": {
            "outlinewidth": 0,
            "ticks": ""
           }
          },
          "colorscale": {
           "diverging": [
            [
             0,
             "#8e0152"
            ],
            [
             0.1,
             "#c51b7d"
            ],
            [
             0.2,
             "#de77ae"
            ],
            [
             0.3,
             "#f1b6da"
            ],
            [
             0.4,
             "#fde0ef"
            ],
            [
             0.5,
             "#f7f7f7"
            ],
            [
             0.6,
             "#e6f5d0"
            ],
            [
             0.7,
             "#b8e186"
            ],
            [
             0.8,
             "#7fbc41"
            ],
            [
             0.9,
             "#4d9221"
            ],
            [
             1,
             "#276419"
            ]
           ],
           "sequential": [
            [
             0,
             "#0d0887"
            ],
            [
             0.1111111111111111,
             "#46039f"
            ],
            [
             0.2222222222222222,
             "#7201a8"
            ],
            [
             0.3333333333333333,
             "#9c179e"
            ],
            [
             0.4444444444444444,
             "#bd3786"
            ],
            [
             0.5555555555555556,
             "#d8576b"
            ],
            [
             0.6666666666666666,
             "#ed7953"
            ],
            [
             0.7777777777777778,
             "#fb9f3a"
            ],
            [
             0.8888888888888888,
             "#fdca26"
            ],
            [
             1,
             "#f0f921"
            ]
           ],
           "sequentialminus": [
            [
             0,
             "#0d0887"
            ],
            [
             0.1111111111111111,
             "#46039f"
            ],
            [
             0.2222222222222222,
             "#7201a8"
            ],
            [
             0.3333333333333333,
             "#9c179e"
            ],
            [
             0.4444444444444444,
             "#bd3786"
            ],
            [
             0.5555555555555556,
             "#d8576b"
            ],
            [
             0.6666666666666666,
             "#ed7953"
            ],
            [
             0.7777777777777778,
             "#fb9f3a"
            ],
            [
             0.8888888888888888,
             "#fdca26"
            ],
            [
             1,
             "#f0f921"
            ]
           ]
          },
          "colorway": [
           "#636efa",
           "#EF553B",
           "#00cc96",
           "#ab63fa",
           "#FFA15A",
           "#19d3f3",
           "#FF6692",
           "#B6E880",
           "#FF97FF",
           "#FECB52"
          ],
          "font": {
           "color": "#2a3f5f"
          },
          "geo": {
           "bgcolor": "white",
           "lakecolor": "white",
           "landcolor": "#E5ECF6",
           "showlakes": true,
           "showland": true,
           "subunitcolor": "white"
          },
          "hoverlabel": {
           "align": "left"
          },
          "hovermode": "closest",
          "mapbox": {
           "style": "light"
          },
          "paper_bgcolor": "white",
          "plot_bgcolor": "#E5ECF6",
          "polar": {
           "angularaxis": {
            "gridcolor": "white",
            "linecolor": "white",
            "ticks": ""
           },
           "bgcolor": "#E5ECF6",
           "radialaxis": {
            "gridcolor": "white",
            "linecolor": "white",
            "ticks": ""
           }
          },
          "scene": {
           "xaxis": {
            "backgroundcolor": "#E5ECF6",
            "gridcolor": "white",
            "gridwidth": 2,
            "linecolor": "white",
            "showbackground": true,
            "ticks": "",
            "zerolinecolor": "white"
           },
           "yaxis": {
            "backgroundcolor": "#E5ECF6",
            "gridcolor": "white",
            "gridwidth": 2,
            "linecolor": "white",
            "showbackground": true,
            "ticks": "",
            "zerolinecolor": "white"
           },
           "zaxis": {
            "backgroundcolor": "#E5ECF6",
            "gridcolor": "white",
            "gridwidth": 2,
            "linecolor": "white",
            "showbackground": true,
            "ticks": "",
            "zerolinecolor": "white"
           }
          },
          "shapedefaults": {
           "line": {
            "color": "#2a3f5f"
           }
          },
          "ternary": {
           "aaxis": {
            "gridcolor": "white",
            "linecolor": "white",
            "ticks": ""
           },
           "baxis": {
            "gridcolor": "white",
            "linecolor": "white",
            "ticks": ""
           },
           "bgcolor": "#E5ECF6",
           "caxis": {
            "gridcolor": "white",
            "linecolor": "white",
            "ticks": ""
           }
          },
          "title": {
           "x": 0.05
          },
          "xaxis": {
           "automargin": true,
           "gridcolor": "white",
           "linecolor": "white",
           "ticks": "",
           "title": {
            "standoff": 15
           },
           "zerolinecolor": "white",
           "zerolinewidth": 2
          },
          "yaxis": {
           "automargin": true,
           "gridcolor": "white",
           "linecolor": "white",
           "ticks": "",
           "title": {
            "standoff": 15
           },
           "zerolinecolor": "white",
           "zerolinewidth": 2
          }
         }
        },
        "width": 1000,
        "xaxis": {
         "linecolor": "black",
         "linewidth": 2,
         "showline": true,
         "ticklen": 5,
         "ticks": "inside",
         "tickwidth": 2,
         "title": {
          "text": ""
         }
        },
        "yaxis": {
         "linecolor": "black",
         "linewidth": 2,
         "showline": true,
         "ticklen": 5,
         "ticks": "inside",
         "tickwidth": 2,
         "title": {
          "text": ""
         }
        }
       }
      }
     },
     "metadata": {},
     "output_type": "display_data"
    }
   ],
   "source": [
    "corr_matrix(df_MP, magentic_properties, 1000, 800, 14)"
   ]
  },
  {
   "cell_type": "markdown",
   "metadata": {},
   "source": [
    "None of them correlate to TC probably due to the fact that the majority of them are not magentic anyways, although... knowing if it is magentic or not might be useful"
   ]
  },
  {
   "cell_type": "markdown",
   "metadata": {},
   "source": [
    "## Select K Best"
   ]
  },
  {
   "cell_type": "code",
   "execution_count": 49,
   "metadata": {},
   "outputs": [],
   "source": [
    "df_features_all = df_MP.drop(['tc','formula_sc', 'formula', 'orig_formula_cif', 'norm_formula_sc', 'chemical_composition_sc','origin_sc', 'old_formula_sc', 'database_id', 'original_formula','chemical_composition', 'norm_formula', 'spacegroup', \n",
    "                              'crystal_system','cif', 'original_cif', 'material_id', 'band_structure','created_at',\n",
    "                              'doi','doi_bibtex','dos','exp','has', 'has_bandstructure', \n",
    "                              'icsd_ids', 'last_updated', 'magnetic_type', 'ntask_ids',\n",
    "                              'original_task_id', 'oxide_type', 'pretty_formula', 'pseudo_potential', 'reduced_cell_formula',\n",
    "                              'run_type','task_id','task_ids','unit_cell_formula','warnings','ordering','magmoms','origin','cif_before_synthetic_doping',\n",
    "                              'Reason for exclusion','graph','crystal_temp','no_crystal_temp_given','point_group',\"weight\",'sc_class_name','magnetic_type_named',\n",
    "                              \"energy_per_atom\", ] , axis=1)\n",
    "\n",
    "df_features_all_other = df_features_all[df_MP['sc_class'] == 'Other']\n",
    "df_Tc_other = df_MP_other['tc']"
   ]
  },
  {
   "cell_type": "code",
   "execution_count": 50,
   "metadata": {},
   "outputs": [],
   "source": [
    "df_features_all_other = df_features_all_other.drop(['sc_class'], axis=1)\n",
    "df_features_all = df_features_all.drop(['sc_class'], axis=1)"
   ]
  },
  {
   "cell_type": "code",
   "execution_count": 51,
   "metadata": {},
   "outputs": [
    {
     "data": {
      "text/plain": [
       "42"
      ]
     },
     "execution_count": 51,
     "metadata": {},
     "output_type": "execute_result"
    }
   ],
   "source": [
    "len(df_features_all.columns)"
   ]
  },
  {
   "cell_type": "code",
   "execution_count": 62,
   "metadata": {},
   "outputs": [
    {
     "data": {
      "text/html": [
       "<div>\n",
       "<style scoped>\n",
       "    .dataframe tbody tr th:only-of-type {\n",
       "        vertical-align: middle;\n",
       "    }\n",
       "\n",
       "    .dataframe tbody tr th {\n",
       "        vertical-align: top;\n",
       "    }\n",
       "\n",
       "    .dataframe thead th {\n",
       "        text-align: right;\n",
       "    }\n",
       "</style>\n",
       "<table border=\"1\" class=\"dataframe\">\n",
       "  <thead>\n",
       "    <tr style=\"text-align: right;\">\n",
       "      <th></th>\n",
       "      <th>lata</th>\n",
       "      <th>latb</th>\n",
       "      <th>latc</th>\n",
       "      <th>density</th>\n",
       "      <th>efermi</th>\n",
       "      <th>energy</th>\n",
       "      <th>final_energy</th>\n",
       "      <th>final_energy_per_atom</th>\n",
       "      <th>formation_energy_per_atom</th>\n",
       "      <th>nsites</th>\n",
       "      <th>total_magnetization</th>\n",
       "      <th>cell_volume</th>\n",
       "      <th>exchange_symmetry</th>\n",
       "      <th>total_magnetization_normalized_formula_units</th>\n",
       "      <th>true_total_magnetization</th>\n",
       "    </tr>\n",
       "  </thead>\n",
       "  <tbody>\n",
       "    <tr>\n",
       "      <th>0</th>\n",
       "      <td>4.438672</td>\n",
       "      <td>4.438672</td>\n",
       "      <td>6.030548</td>\n",
       "      <td>7.295677</td>\n",
       "      <td>4.015543</td>\n",
       "      <td>-24.862722</td>\n",
       "      <td>-24.862722</td>\n",
       "      <td>-4.972544</td>\n",
       "      <td>-0.713482</td>\n",
       "      <td>5</td>\n",
       "      <td>0.001259</td>\n",
       "      <td>101.453048</td>\n",
       "      <td>139</td>\n",
       "      <td>0.001259</td>\n",
       "      <td>0.001259</td>\n",
       "    </tr>\n",
       "    <tr>\n",
       "      <th>1</th>\n",
       "      <td>4.537670</td>\n",
       "      <td>4.537670</td>\n",
       "      <td>4.537670</td>\n",
       "      <td>6.190810</td>\n",
       "      <td>6.066451</td>\n",
       "      <td>-7.725196</td>\n",
       "      <td>-7.725196</td>\n",
       "      <td>-3.862598</td>\n",
       "      <td>-0.497162</td>\n",
       "      <td>2</td>\n",
       "      <td>0.000000</td>\n",
       "      <td>66.066855</td>\n",
       "      <td>225</td>\n",
       "      <td>0.000000</td>\n",
       "      <td>0.000000</td>\n",
       "    </tr>\n",
       "    <tr>\n",
       "      <th>2</th>\n",
       "      <td>4.438672</td>\n",
       "      <td>4.438672</td>\n",
       "      <td>6.030548</td>\n",
       "      <td>7.295677</td>\n",
       "      <td>4.015543</td>\n",
       "      <td>-24.862722</td>\n",
       "      <td>-24.862722</td>\n",
       "      <td>-4.972544</td>\n",
       "      <td>-0.713482</td>\n",
       "      <td>5</td>\n",
       "      <td>0.001259</td>\n",
       "      <td>101.453048</td>\n",
       "      <td>139</td>\n",
       "      <td>0.001259</td>\n",
       "      <td>0.001259</td>\n",
       "    </tr>\n",
       "    <tr>\n",
       "      <th>3</th>\n",
       "      <td>4.443633</td>\n",
       "      <td>4.443633</td>\n",
       "      <td>4.443633</td>\n",
       "      <td>6.488053</td>\n",
       "      <td>6.314060</td>\n",
       "      <td>-6.472687</td>\n",
       "      <td>-6.472687</td>\n",
       "      <td>-3.236343</td>\n",
       "      <td>-0.499851</td>\n",
       "      <td>2</td>\n",
       "      <td>0.000182</td>\n",
       "      <td>62.043965</td>\n",
       "      <td>225</td>\n",
       "      <td>0.000182</td>\n",
       "      <td>0.000182</td>\n",
       "    </tr>\n",
       "    <tr>\n",
       "      <th>4</th>\n",
       "      <td>6.771439</td>\n",
       "      <td>6.771439</td>\n",
       "      <td>6.771439</td>\n",
       "      <td>4.139450</td>\n",
       "      <td>5.202543</td>\n",
       "      <td>-55.239871</td>\n",
       "      <td>-55.239871</td>\n",
       "      <td>-4.603323</td>\n",
       "      <td>-0.299456</td>\n",
       "      <td>12</td>\n",
       "      <td>0.000000</td>\n",
       "      <td>310.486636</td>\n",
       "      <td>212</td>\n",
       "      <td>0.000000</td>\n",
       "      <td>0.000000</td>\n",
       "    </tr>\n",
       "    <tr>\n",
       "      <th>...</th>\n",
       "      <td>...</td>\n",
       "      <td>...</td>\n",
       "      <td>...</td>\n",
       "      <td>...</td>\n",
       "      <td>...</td>\n",
       "      <td>...</td>\n",
       "      <td>...</td>\n",
       "      <td>...</td>\n",
       "      <td>...</td>\n",
       "      <td>...</td>\n",
       "      <td>...</td>\n",
       "      <td>...</td>\n",
       "      <td>...</td>\n",
       "      <td>...</td>\n",
       "      <td>...</td>\n",
       "    </tr>\n",
       "    <tr>\n",
       "      <th>5768</th>\n",
       "      <td>3.585441</td>\n",
       "      <td>3.585441</td>\n",
       "      <td>3.585441</td>\n",
       "      <td>5.559415</td>\n",
       "      <td>3.144927</td>\n",
       "      <td>-8.459703</td>\n",
       "      <td>-8.459703</td>\n",
       "      <td>-4.229851</td>\n",
       "      <td>-0.366744</td>\n",
       "      <td>2</td>\n",
       "      <td>0.054521</td>\n",
       "      <td>46.092232</td>\n",
       "      <td>221</td>\n",
       "      <td>0.054521</td>\n",
       "      <td>0.054521</td>\n",
       "    </tr>\n",
       "    <tr>\n",
       "      <th>5769</th>\n",
       "      <td>3.878974</td>\n",
       "      <td>3.878974</td>\n",
       "      <td>9.704523</td>\n",
       "      <td>7.005867</td>\n",
       "      <td>1.419946</td>\n",
       "      <td>-4.618825</td>\n",
       "      <td>-4.618825</td>\n",
       "      <td>-1.539608</td>\n",
       "      <td>0.000000</td>\n",
       "      <td>3</td>\n",
       "      <td>0.000505</td>\n",
       "      <td>123.042457</td>\n",
       "      <td>166</td>\n",
       "      <td>0.000505</td>\n",
       "      <td>0.001515</td>\n",
       "    </tr>\n",
       "    <tr>\n",
       "      <th>5770</th>\n",
       "      <td>2.626730</td>\n",
       "      <td>2.626731</td>\n",
       "      <td>5.207234</td>\n",
       "      <td>6.981485</td>\n",
       "      <td>2.851722</td>\n",
       "      <td>-2.519487</td>\n",
       "      <td>-2.519487</td>\n",
       "      <td>-1.259744</td>\n",
       "      <td>0.000000</td>\n",
       "      <td>2</td>\n",
       "      <td>0.000318</td>\n",
       "      <td>31.114928</td>\n",
       "      <td>194</td>\n",
       "      <td>0.000318</td>\n",
       "      <td>0.000637</td>\n",
       "    </tr>\n",
       "    <tr>\n",
       "      <th>5771</th>\n",
       "      <td>5.244424</td>\n",
       "      <td>5.244424</td>\n",
       "      <td>5.244424</td>\n",
       "      <td>7.229958</td>\n",
       "      <td>3.547729</td>\n",
       "      <td>-23.949691</td>\n",
       "      <td>-23.949691</td>\n",
       "      <td>-3.991615</td>\n",
       "      <td>-0.302553</td>\n",
       "      <td>6</td>\n",
       "      <td>0.910559</td>\n",
       "      <td>101.994903</td>\n",
       "      <td>227</td>\n",
       "      <td>0.910559</td>\n",
       "      <td>1.821118</td>\n",
       "    </tr>\n",
       "    <tr>\n",
       "      <th>5772</th>\n",
       "      <td>3.239232</td>\n",
       "      <td>3.239232</td>\n",
       "      <td>5.172220</td>\n",
       "      <td>6.446092</td>\n",
       "      <td>4.328531</td>\n",
       "      <td>-17.095401</td>\n",
       "      <td>-17.095401</td>\n",
       "      <td>-8.547701</td>\n",
       "      <td>0.000000</td>\n",
       "      <td>2</td>\n",
       "      <td>0.000267</td>\n",
       "      <td>46.999333</td>\n",
       "      <td>194</td>\n",
       "      <td>0.000267</td>\n",
       "      <td>0.000534</td>\n",
       "    </tr>\n",
       "  </tbody>\n",
       "</table>\n",
       "<p>5773 rows × 15 columns</p>\n",
       "</div>"
      ],
      "text/plain": [
       "          lata      latb      latc   density    efermi     energy  \\\n",
       "0     4.438672  4.438672  6.030548  7.295677  4.015543 -24.862722   \n",
       "1     4.537670  4.537670  4.537670  6.190810  6.066451  -7.725196   \n",
       "2     4.438672  4.438672  6.030548  7.295677  4.015543 -24.862722   \n",
       "3     4.443633  4.443633  4.443633  6.488053  6.314060  -6.472687   \n",
       "4     6.771439  6.771439  6.771439  4.139450  5.202543 -55.239871   \n",
       "...        ...       ...       ...       ...       ...        ...   \n",
       "5768  3.585441  3.585441  3.585441  5.559415  3.144927  -8.459703   \n",
       "5769  3.878974  3.878974  9.704523  7.005867  1.419946  -4.618825   \n",
       "5770  2.626730  2.626731  5.207234  6.981485  2.851722  -2.519487   \n",
       "5771  5.244424  5.244424  5.244424  7.229958  3.547729 -23.949691   \n",
       "5772  3.239232  3.239232  5.172220  6.446092  4.328531 -17.095401   \n",
       "\n",
       "      final_energy  final_energy_per_atom  formation_energy_per_atom  nsites  \\\n",
       "0       -24.862722              -4.972544                  -0.713482       5   \n",
       "1        -7.725196              -3.862598                  -0.497162       2   \n",
       "2       -24.862722              -4.972544                  -0.713482       5   \n",
       "3        -6.472687              -3.236343                  -0.499851       2   \n",
       "4       -55.239871              -4.603323                  -0.299456      12   \n",
       "...            ...                    ...                        ...     ...   \n",
       "5768     -8.459703              -4.229851                  -0.366744       2   \n",
       "5769     -4.618825              -1.539608                   0.000000       3   \n",
       "5770     -2.519487              -1.259744                   0.000000       2   \n",
       "5771    -23.949691              -3.991615                  -0.302553       6   \n",
       "5772    -17.095401              -8.547701                   0.000000       2   \n",
       "\n",
       "      total_magnetization  cell_volume  exchange_symmetry  \\\n",
       "0                0.001259   101.453048                139   \n",
       "1                0.000000    66.066855                225   \n",
       "2                0.001259   101.453048                139   \n",
       "3                0.000182    62.043965                225   \n",
       "4                0.000000   310.486636                212   \n",
       "...                   ...          ...                ...   \n",
       "5768             0.054521    46.092232                221   \n",
       "5769             0.000505   123.042457                166   \n",
       "5770             0.000318    31.114928                194   \n",
       "5771             0.910559   101.994903                227   \n",
       "5772             0.000267    46.999333                194   \n",
       "\n",
       "      total_magnetization_normalized_formula_units  true_total_magnetization  \n",
       "0                                         0.001259                  0.001259  \n",
       "1                                         0.000000                  0.000000  \n",
       "2                                         0.001259                  0.001259  \n",
       "3                                         0.000182                  0.000182  \n",
       "4                                         0.000000                  0.000000  \n",
       "...                                            ...                       ...  \n",
       "5768                                      0.054521                  0.054521  \n",
       "5769                                      0.000505                  0.001515  \n",
       "5770                                      0.000318                  0.000637  \n",
       "5771                                      0.910559                  1.821118  \n",
       "5772                                      0.000267                  0.000534  \n",
       "\n",
       "[5773 rows x 15 columns]"
      ]
     },
     "execution_count": 62,
     "metadata": {},
     "output_type": "execute_result"
    }
   ],
   "source": [
    "from sklearn.feature_selection import SelectKBest, mutual_info_regression\n",
    "\n",
    "selector = SelectKBest(mutual_info_regression, k=15)\n",
    "selector.fit(df_features_all_other, df_Tc_other)\n",
    "# Get columns to keep and create new dataframe with those only\n",
    "cols_idxs = selector.get_support(indices=True)\n",
    "features_df_new = df_features_all.iloc[:,cols_idxs]\n",
    "features_df_new"
   ]
  },
  {
   "cell_type": "code",
   "execution_count": 77,
   "metadata": {},
   "outputs": [
    {
     "data": {
      "text/plain": [
       "['lata',\n",
       " 'latb',\n",
       " 'latc',\n",
       " 'density',\n",
       " 'efermi',\n",
       " 'energy',\n",
       " 'final_energy',\n",
       " 'final_energy_per_atom',\n",
       " 'formation_energy_per_atom',\n",
       " 'nsites',\n",
       " 'total_magnetization',\n",
       " 'cell_volume',\n",
       " 'exchange_symmetry',\n",
       " 'total_magnetization_normalized_formula_units',\n",
       " 'true_total_magnetization',\n",
       " 'tc',\n",
       " 'formula_sc',\n",
       " 'totreldiff']"
      ]
     },
     "execution_count": 77,
     "metadata": {},
     "output_type": "execute_result"
    }
   ],
   "source": [
    "list_of_colums = features_df_new.columns.tolist()\n",
    "list_of_colums.extend(['tc', \"formula_sc\", \"totreldiff\"])\n",
    "list_of_colums"
   ]
  },
  {
   "cell_type": "code",
   "execution_count": 78,
   "metadata": {},
   "outputs": [
    {
     "data": {
      "text/html": [
       "<div>\n",
       "<style scoped>\n",
       "    .dataframe tbody tr th:only-of-type {\n",
       "        vertical-align: middle;\n",
       "    }\n",
       "\n",
       "    .dataframe tbody tr th {\n",
       "        vertical-align: top;\n",
       "    }\n",
       "\n",
       "    .dataframe thead th {\n",
       "        text-align: right;\n",
       "    }\n",
       "</style>\n",
       "<table border=\"1\" class=\"dataframe\">\n",
       "  <thead>\n",
       "    <tr style=\"text-align: right;\">\n",
       "      <th></th>\n",
       "      <th>lata</th>\n",
       "      <th>latb</th>\n",
       "      <th>latc</th>\n",
       "      <th>density</th>\n",
       "      <th>efermi</th>\n",
       "      <th>energy</th>\n",
       "      <th>final_energy</th>\n",
       "      <th>final_energy_per_atom</th>\n",
       "      <th>formation_energy_per_atom</th>\n",
       "      <th>nsites</th>\n",
       "      <th>total_magnetization</th>\n",
       "      <th>cell_volume</th>\n",
       "      <th>exchange_symmetry</th>\n",
       "      <th>total_magnetization_normalized_formula_units</th>\n",
       "      <th>true_total_magnetization</th>\n",
       "      <th>tc</th>\n",
       "      <th>formula_sc</th>\n",
       "      <th>totreldiff</th>\n",
       "    </tr>\n",
       "  </thead>\n",
       "  <tbody>\n",
       "    <tr>\n",
       "      <th>4533</th>\n",
       "      <td>8.160208</td>\n",
       "      <td>8.160208</td>\n",
       "      <td>8.160208</td>\n",
       "      <td>9.380403</td>\n",
       "      <td>7.281478</td>\n",
       "      <td>-102.089288</td>\n",
       "      <td>-102.089288</td>\n",
       "      <td>-6.005252</td>\n",
       "      <td>-0.167701</td>\n",
       "      <td>17</td>\n",
       "      <td>0.052603</td>\n",
       "      <td>418.294079</td>\n",
       "      <td>204</td>\n",
       "      <td>0.052603</td>\n",
       "      <td>0.052603</td>\n",
       "      <td>1.80000</td>\n",
       "      <td>La0.02Os4Pr0.98Sb12</td>\n",
       "      <td>0.002353</td>\n",
       "    </tr>\n",
       "    <tr>\n",
       "      <th>4534</th>\n",
       "      <td>8.160208</td>\n",
       "      <td>8.160208</td>\n",
       "      <td>8.160208</td>\n",
       "      <td>9.380403</td>\n",
       "      <td>7.281478</td>\n",
       "      <td>-102.089288</td>\n",
       "      <td>-102.089288</td>\n",
       "      <td>-6.005252</td>\n",
       "      <td>-0.167701</td>\n",
       "      <td>17</td>\n",
       "      <td>0.052603</td>\n",
       "      <td>418.294079</td>\n",
       "      <td>204</td>\n",
       "      <td>0.052603</td>\n",
       "      <td>0.052603</td>\n",
       "      <td>1.81500</td>\n",
       "      <td>La0.05Os4Pr0.95Sb12</td>\n",
       "      <td>0.005882</td>\n",
       "    </tr>\n",
       "    <tr>\n",
       "      <th>4537</th>\n",
       "      <td>8.160208</td>\n",
       "      <td>8.160208</td>\n",
       "      <td>8.160208</td>\n",
       "      <td>9.380403</td>\n",
       "      <td>7.281478</td>\n",
       "      <td>-102.089288</td>\n",
       "      <td>-102.089288</td>\n",
       "      <td>-6.005252</td>\n",
       "      <td>-0.167701</td>\n",
       "      <td>17</td>\n",
       "      <td>0.052603</td>\n",
       "      <td>418.294079</td>\n",
       "      <td>204</td>\n",
       "      <td>0.052603</td>\n",
       "      <td>0.052603</td>\n",
       "      <td>1.70000</td>\n",
       "      <td>La0.1Os4Pr0.9Sb12</td>\n",
       "      <td>0.011765</td>\n",
       "    </tr>\n",
       "    <tr>\n",
       "      <th>4543</th>\n",
       "      <td>8.160208</td>\n",
       "      <td>8.160208</td>\n",
       "      <td>8.160208</td>\n",
       "      <td>9.380403</td>\n",
       "      <td>7.281478</td>\n",
       "      <td>-102.089288</td>\n",
       "      <td>-102.089288</td>\n",
       "      <td>-6.005252</td>\n",
       "      <td>-0.167701</td>\n",
       "      <td>17</td>\n",
       "      <td>0.052603</td>\n",
       "      <td>418.294079</td>\n",
       "      <td>204</td>\n",
       "      <td>0.052603</td>\n",
       "      <td>0.052603</td>\n",
       "      <td>1.72250</td>\n",
       "      <td>La0.2Os4Pr0.8Sb12</td>\n",
       "      <td>0.023529</td>\n",
       "    </tr>\n",
       "    <tr>\n",
       "      <th>4544</th>\n",
       "      <td>8.160208</td>\n",
       "      <td>8.160208</td>\n",
       "      <td>8.160208</td>\n",
       "      <td>9.380403</td>\n",
       "      <td>7.281478</td>\n",
       "      <td>-102.089288</td>\n",
       "      <td>-102.089288</td>\n",
       "      <td>-6.005252</td>\n",
       "      <td>-0.167701</td>\n",
       "      <td>17</td>\n",
       "      <td>0.052603</td>\n",
       "      <td>418.294079</td>\n",
       "      <td>204</td>\n",
       "      <td>0.052603</td>\n",
       "      <td>0.052603</td>\n",
       "      <td>1.52800</td>\n",
       "      <td>La0.3Os4Pr0.7Sb12</td>\n",
       "      <td>0.035294</td>\n",
       "    </tr>\n",
       "    <tr>\n",
       "      <th>5061</th>\n",
       "      <td>8.160208</td>\n",
       "      <td>8.160208</td>\n",
       "      <td>8.160208</td>\n",
       "      <td>9.380403</td>\n",
       "      <td>7.281478</td>\n",
       "      <td>-102.089288</td>\n",
       "      <td>-102.089288</td>\n",
       "      <td>-6.005252</td>\n",
       "      <td>-0.167701</td>\n",
       "      <td>17</td>\n",
       "      <td>0.052603</td>\n",
       "      <td>418.294079</td>\n",
       "      <td>204</td>\n",
       "      <td>0.052603</td>\n",
       "      <td>0.052603</td>\n",
       "      <td>1.73000</td>\n",
       "      <td>Nd0.1Os4Pr0.9Sb12</td>\n",
       "      <td>0.011765</td>\n",
       "    </tr>\n",
       "    <tr>\n",
       "      <th>5062</th>\n",
       "      <td>8.160208</td>\n",
       "      <td>8.160208</td>\n",
       "      <td>8.160208</td>\n",
       "      <td>9.380403</td>\n",
       "      <td>7.281478</td>\n",
       "      <td>-102.089288</td>\n",
       "      <td>-102.089288</td>\n",
       "      <td>-6.005252</td>\n",
       "      <td>-0.167701</td>\n",
       "      <td>17</td>\n",
       "      <td>0.052603</td>\n",
       "      <td>418.294079</td>\n",
       "      <td>204</td>\n",
       "      <td>0.052603</td>\n",
       "      <td>0.052603</td>\n",
       "      <td>1.48000</td>\n",
       "      <td>Nd0.25Os4Pr0.75Sb12</td>\n",
       "      <td>0.029412</td>\n",
       "    </tr>\n",
       "    <tr>\n",
       "      <th>5063</th>\n",
       "      <td>8.160208</td>\n",
       "      <td>8.160208</td>\n",
       "      <td>8.160208</td>\n",
       "      <td>9.380403</td>\n",
       "      <td>7.281478</td>\n",
       "      <td>-102.089288</td>\n",
       "      <td>-102.089288</td>\n",
       "      <td>-6.005252</td>\n",
       "      <td>-0.167701</td>\n",
       "      <td>17</td>\n",
       "      <td>0.052603</td>\n",
       "      <td>418.294079</td>\n",
       "      <td>204</td>\n",
       "      <td>0.052603</td>\n",
       "      <td>0.052603</td>\n",
       "      <td>1.52000</td>\n",
       "      <td>Nd0.2Os4Pr0.8Sb12</td>\n",
       "      <td>0.023529</td>\n",
       "    </tr>\n",
       "    <tr>\n",
       "      <th>5065</th>\n",
       "      <td>8.160208</td>\n",
       "      <td>8.160208</td>\n",
       "      <td>8.160208</td>\n",
       "      <td>9.380403</td>\n",
       "      <td>7.281478</td>\n",
       "      <td>-102.089288</td>\n",
       "      <td>-102.089288</td>\n",
       "      <td>-6.005252</td>\n",
       "      <td>-0.167701</td>\n",
       "      <td>17</td>\n",
       "      <td>0.052603</td>\n",
       "      <td>418.294079</td>\n",
       "      <td>204</td>\n",
       "      <td>0.052603</td>\n",
       "      <td>0.052603</td>\n",
       "      <td>1.27000</td>\n",
       "      <td>Nd0.3Os4Pr0.7Sb12</td>\n",
       "      <td>0.035294</td>\n",
       "    </tr>\n",
       "    <tr>\n",
       "      <th>5176</th>\n",
       "      <td>8.160208</td>\n",
       "      <td>8.160208</td>\n",
       "      <td>8.160208</td>\n",
       "      <td>9.380403</td>\n",
       "      <td>7.281478</td>\n",
       "      <td>-102.089288</td>\n",
       "      <td>-102.089288</td>\n",
       "      <td>-6.005252</td>\n",
       "      <td>-0.167701</td>\n",
       "      <td>17</td>\n",
       "      <td>0.052603</td>\n",
       "      <td>418.294079</td>\n",
       "      <td>204</td>\n",
       "      <td>0.052603</td>\n",
       "      <td>0.052603</td>\n",
       "      <td>1.65500</td>\n",
       "      <td>Os3.8Pr1Ru0.2Sb12</td>\n",
       "      <td>0.023529</td>\n",
       "    </tr>\n",
       "    <tr>\n",
       "      <th>5178</th>\n",
       "      <td>8.160208</td>\n",
       "      <td>8.160208</td>\n",
       "      <td>8.160208</td>\n",
       "      <td>9.380403</td>\n",
       "      <td>7.281478</td>\n",
       "      <td>-102.089288</td>\n",
       "      <td>-102.089288</td>\n",
       "      <td>-6.005252</td>\n",
       "      <td>-0.167701</td>\n",
       "      <td>17</td>\n",
       "      <td>0.052603</td>\n",
       "      <td>418.294079</td>\n",
       "      <td>204</td>\n",
       "      <td>0.052603</td>\n",
       "      <td>0.052603</td>\n",
       "      <td>1.60125</td>\n",
       "      <td>Os4Pr1Sb12</td>\n",
       "      <td>0.000000</td>\n",
       "    </tr>\n",
       "  </tbody>\n",
       "</table>\n",
       "</div>"
      ],
      "text/plain": [
       "          lata      latb      latc   density    efermi      energy  \\\n",
       "4533  8.160208  8.160208  8.160208  9.380403  7.281478 -102.089288   \n",
       "4534  8.160208  8.160208  8.160208  9.380403  7.281478 -102.089288   \n",
       "4537  8.160208  8.160208  8.160208  9.380403  7.281478 -102.089288   \n",
       "4543  8.160208  8.160208  8.160208  9.380403  7.281478 -102.089288   \n",
       "4544  8.160208  8.160208  8.160208  9.380403  7.281478 -102.089288   \n",
       "5061  8.160208  8.160208  8.160208  9.380403  7.281478 -102.089288   \n",
       "5062  8.160208  8.160208  8.160208  9.380403  7.281478 -102.089288   \n",
       "5063  8.160208  8.160208  8.160208  9.380403  7.281478 -102.089288   \n",
       "5065  8.160208  8.160208  8.160208  9.380403  7.281478 -102.089288   \n",
       "5176  8.160208  8.160208  8.160208  9.380403  7.281478 -102.089288   \n",
       "5178  8.160208  8.160208  8.160208  9.380403  7.281478 -102.089288   \n",
       "\n",
       "      final_energy  final_energy_per_atom  formation_energy_per_atom  nsites  \\\n",
       "4533   -102.089288              -6.005252                  -0.167701      17   \n",
       "4534   -102.089288              -6.005252                  -0.167701      17   \n",
       "4537   -102.089288              -6.005252                  -0.167701      17   \n",
       "4543   -102.089288              -6.005252                  -0.167701      17   \n",
       "4544   -102.089288              -6.005252                  -0.167701      17   \n",
       "5061   -102.089288              -6.005252                  -0.167701      17   \n",
       "5062   -102.089288              -6.005252                  -0.167701      17   \n",
       "5063   -102.089288              -6.005252                  -0.167701      17   \n",
       "5065   -102.089288              -6.005252                  -0.167701      17   \n",
       "5176   -102.089288              -6.005252                  -0.167701      17   \n",
       "5178   -102.089288              -6.005252                  -0.167701      17   \n",
       "\n",
       "      total_magnetization  cell_volume  exchange_symmetry  \\\n",
       "4533             0.052603   418.294079                204   \n",
       "4534             0.052603   418.294079                204   \n",
       "4537             0.052603   418.294079                204   \n",
       "4543             0.052603   418.294079                204   \n",
       "4544             0.052603   418.294079                204   \n",
       "5061             0.052603   418.294079                204   \n",
       "5062             0.052603   418.294079                204   \n",
       "5063             0.052603   418.294079                204   \n",
       "5065             0.052603   418.294079                204   \n",
       "5176             0.052603   418.294079                204   \n",
       "5178             0.052603   418.294079                204   \n",
       "\n",
       "      total_magnetization_normalized_formula_units  true_total_magnetization  \\\n",
       "4533                                      0.052603                  0.052603   \n",
       "4534                                      0.052603                  0.052603   \n",
       "4537                                      0.052603                  0.052603   \n",
       "4543                                      0.052603                  0.052603   \n",
       "4544                                      0.052603                  0.052603   \n",
       "5061                                      0.052603                  0.052603   \n",
       "5062                                      0.052603                  0.052603   \n",
       "5063                                      0.052603                  0.052603   \n",
       "5065                                      0.052603                  0.052603   \n",
       "5176                                      0.052603                  0.052603   \n",
       "5178                                      0.052603                  0.052603   \n",
       "\n",
       "           tc           formula_sc  totreldiff  \n",
       "4533  1.80000  La0.02Os4Pr0.98Sb12    0.002353  \n",
       "4534  1.81500  La0.05Os4Pr0.95Sb12    0.005882  \n",
       "4537  1.70000    La0.1Os4Pr0.9Sb12    0.011765  \n",
       "4543  1.72250    La0.2Os4Pr0.8Sb12    0.023529  \n",
       "4544  1.52800    La0.3Os4Pr0.7Sb12    0.035294  \n",
       "5061  1.73000    Nd0.1Os4Pr0.9Sb12    0.011765  \n",
       "5062  1.48000  Nd0.25Os4Pr0.75Sb12    0.029412  \n",
       "5063  1.52000    Nd0.2Os4Pr0.8Sb12    0.023529  \n",
       "5065  1.27000    Nd0.3Os4Pr0.7Sb12    0.035294  \n",
       "5176  1.65500    Os3.8Pr1Ru0.2Sb12    0.023529  \n",
       "5178  1.60125           Os4Pr1Sb12    0.000000  "
      ]
     },
     "execution_count": 78,
     "metadata": {},
     "output_type": "execute_result"
    }
   ],
   "source": [
    "df_MP[df_MP[\"orig_formula_cif\"] == \"Os4Pr1Sb12\"][list_of_colums]"
   ]
  }
 ],
 "metadata": {
  "kernelspec": {
   "display_name": "enviroment",
   "language": "python",
   "name": "python3"
  },
  "language_info": {
   "codemirror_mode": {
    "name": "ipython",
    "version": 3
   },
   "file_extension": ".py",
   "mimetype": "text/x-python",
   "name": "python",
   "nbconvert_exporter": "python",
   "pygments_lexer": "ipython3",
   "version": "3.7.16"
  }
 },
 "nbformat": 4,
 "nbformat_minor": 2
}
