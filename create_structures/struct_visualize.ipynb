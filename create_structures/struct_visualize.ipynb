{
 "cells": [
  {
   "cell_type": "code",
   "execution_count": 1,
   "metadata": {},
   "outputs": [],
   "source": [
    "import structures as st\n",
    "import plotly.graph_objects as go\n",
    "import numpy as np"
   ]
  },
  {
   "cell_type": "code",
   "execution_count": 7,
   "metadata": {},
   "outputs": [],
   "source": [
    "simple_cubic = st.Structure(2, 2, 2, 2, 2, 2, 90, 90, 90, False, False, False)\n",
    "# body_centered_cubic = st.Structure(1.0, 1.0, 1.0, 2, 2, 2, 90, 90, 90, False, False, True)\n",
    "# face_centered_cubic = st.Structure(1.0, 1.0, 1.0, 2, 2, 2, 90, 90, 90, True, True, False)\n",
    "\n",
    "# simple_tetragonal = st.Structure(1.0, 1.0, 1.5, 2, 2, 2, 90, 90, 90, False, False, False)\n",
    "# body_centered_tetragonal = st.Structure(1.0, 1.0, 1.5, 2, 2, 2, 90, 90, 90, False, False, True)\n",
    "\n",
    "# simple_orthorhombic = st.Structure(1.0, 1.25, 1.5, 2, 2, 2, 90, 90, 90, False, False, False)\n",
    "# body_centered_orothorhombic = st.Structure(1.0, 1.25, 1.5, 2, 2, 2, 90, 90, 90, False, False, True)\n",
    "# base_centered_orthorhombic = st.Structure(1.0, 1.25, 1.5, 2, 2, 2, 90, 90, 90, True, False, False)\n",
    "# face_centered_orthorhombic = st.Structure(1.0, 1.25, 1.5, 2, 2, 2, 90, 90, 90, True, True, False)\n",
    "\n",
    "# simple_monoclinic = st.Structure(1.0, 1.25, 1.5, 2, 2, 2, 90, 80, 90, False, False, False)\n",
    "# base_centered_monoclinic = st.Structure(1.0, 1.25, 1.5, 2, 2, 2, 90, 80, 90, False, True, False)\n",
    "\n",
    "# hexagonal = st.Structure(1.0, 1.0, 1.25, 2, 2, 2, 90, 90, 120, False, False, False)\n",
    "# rhombohedral = st.Structure(1.0, 1.0, 1.0, 2, 2, 2, 80, 80, 80, False, False, False)\n",
    "# triclinic = st.Structure(1.0, 1.25, 1.5, 2, 2, 2, 80, 70, 60, False, False, False)"
   ]
  },
  {
   "cell_type": "code",
   "execution_count": 9,
   "metadata": {},
   "outputs": [],
   "source": [
    "def add_edge_trace(fig, vertices, edges, line_color='grey', line_width=10, dash='solid'):\n",
    "    for edge in edges:\n",
    "        x_line = [vertices[edge[0], 0], vertices[edge[1], 0]]\n",
    "        y_line = [vertices[edge[0], 1], vertices[edge[1], 1]]\n",
    "        z_line = [vertices[edge[0], 2], vertices[edge[1], 2]]\n",
    "\n",
    "        fig.add_trace(go.Scatter3d(\n",
    "            x=x_line,\n",
    "            y=y_line,\n",
    "            z=z_line,\n",
    "            mode='lines',\n",
    "            line=dict(color=line_color, width=line_width, dash=dash),\n",
    "            showlegend=False\n",
    "        ))\n",
    "\n",
    "def draw_cube_edges(name, vertices, mid_ab_true, mid_ac_true, body_cent):\n",
    "    fig = go.Figure()\n",
    "\n",
    "    # Plot the vertices\n",
    "    fig.add_trace(go.Scatter3d(\n",
    "        x=vertices[:, 0],\n",
    "        y=vertices[:, 1],\n",
    "        z=vertices[:, 2],\n",
    "        mode='markers',\n",
    "        marker=dict(color='black', size=12, opacity=0.8),\n",
    "        showlegend=False\n",
    "    ))\n",
    "    \n",
    "    edges = [\n",
    "        [0, 1], [1, 3], [3, 2], [2, 0],  # Bottom face\n",
    "        [4, 5], [5, 7], [7, 6], [6, 4],  # Side faces\n",
    "        [0, 4], [1, 5], [2, 6], [3, 7],  # Top edges\n",
    "    ]\n",
    "    \n",
    "    add_edge_trace(fig, vertices, edges)\n",
    "\n",
    "    mid_ab = [[0, 6], [1, 7], [2, 4], [3, 5]]\n",
    "    mid_ac = [[0, 5], [1, 4], [2, 7], [3, 6]]\n",
    "    mid_bc = [[0, 3], [1, 2], [4, 7], [5, 6]]\n",
    "\n",
    "    if mid_ab_true and mid_ac_true:\n",
    "        add_edge_trace(fig, vertices, mid_ab + mid_ac + mid_bc, line_width=5, dash='dash')\n",
    "    elif mid_ab_true:\n",
    "        add_edge_trace(fig, vertices, mid_ab, line_width=5, dash='dash')\n",
    "    elif mid_ac_true:\n",
    "        add_edge_trace(fig, vertices, mid_ac, line_width=5, dash='dash')\n",
    "\n",
    "    if body_cent:\n",
    "        center = np.mean(vertices, axis=0)\n",
    "        body_edges = [[i, center] for i in range(vertices.shape[0])]\n",
    "        # Plot the body edges\n",
    "        for edge in body_edges:\n",
    "            x_line = [vertices[edge[0], 0], center[0]]\n",
    "            y_line = [vertices[edge[0], 1], center[1]]\n",
    "            z_line = [vertices[edge[0], 2], center[2]]\n",
    "\n",
    "            fig.add_trace(go.Scatter3d(\n",
    "                x=x_line,\n",
    "                y=y_line,\n",
    "                z=z_line,\n",
    "                mode='lines',\n",
    "                line=dict(color='grey', width=5, dash='dash'),\n",
    "                showlegend=False\n",
    "            ))\n",
    "\n",
    "    # Customize layout\n",
    "    fig.update_layout(\n",
    "        {'paper_bgcolor': \"rgba(0,0,0,0)\"},\n",
    "        scene=dict(\n",
    "            xaxis=dict(title='', title_font=dict(size=20), ticks='', showticklabels=False),\n",
    "            yaxis=dict(title='', title_font=dict(size=20), ticks='', showticklabels=False),\n",
    "            zaxis=dict(title='', title_font=dict(size=20), ticks='', showticklabels=False),\n",
    "            camera=dict(\n",
    "                eye=dict(x=1.5, y=2, z=0.8)\n",
    "            ),\n",
    "            aspectmode='data',\n",
    "        ),\n",
    "        margin=dict(l=0, r=0, b=0, t=0),\n",
    "        height=1200,\n",
    "        width=1500,\n",
    "        template='plotly_white'\n",
    "    )\n",
    "    fig.show()\n",
    "    fig.write_image(f\"Lattices/{name}.png\")"
   ]
  },
  {
   "cell_type": "code",
   "execution_count": 10,
   "metadata": {},
   "outputs": [
    {
     "data": {
      "application/vnd.plotly.v1+json": {
       "config": {
        "plotlyServerURL": "https://plot.ly"
       },
       "data": [
        {
         "marker": {
          "color": "black",
          "opacity": 0.8,
          "size": 12
         },
         "mode": "markers",
         "showlegend": false,
         "type": "scatter3d",
         "x": [
          0,
          0,
          0,
          0,
          2,
          2,
          2,
          2
         ],
         "y": [
          0,
          0,
          2,
          2,
          0,
          0,
          2,
          2
         ],
         "z": [
          0,
          2,
          0,
          2,
          0,
          2,
          0,
          2
         ]
        },
        {
         "line": {
          "color": "grey",
          "dash": "solid",
          "width": 10
         },
         "mode": "lines",
         "showlegend": false,
         "type": "scatter3d",
         "x": [
          0,
          0
         ],
         "y": [
          0,
          0
         ],
         "z": [
          0,
          2
         ]
        },
        {
         "line": {
          "color": "grey",
          "dash": "solid",
          "width": 10
         },
         "mode": "lines",
         "showlegend": false,
         "type": "scatter3d",
         "x": [
          0,
          0
         ],
         "y": [
          0,
          2
         ],
         "z": [
          2,
          2
         ]
        },
        {
         "line": {
          "color": "grey",
          "dash": "solid",
          "width": 10
         },
         "mode": "lines",
         "showlegend": false,
         "type": "scatter3d",
         "x": [
          0,
          0
         ],
         "y": [
          2,
          2
         ],
         "z": [
          2,
          0
         ]
        },
        {
         "line": {
          "color": "grey",
          "dash": "solid",
          "width": 10
         },
         "mode": "lines",
         "showlegend": false,
         "type": "scatter3d",
         "x": [
          0,
          0
         ],
         "y": [
          2,
          0
         ],
         "z": [
          0,
          0
         ]
        },
        {
         "line": {
          "color": "grey",
          "dash": "solid",
          "width": 10
         },
         "mode": "lines",
         "showlegend": false,
         "type": "scatter3d",
         "x": [
          2,
          2
         ],
         "y": [
          0,
          0
         ],
         "z": [
          0,
          2
         ]
        },
        {
         "line": {
          "color": "grey",
          "dash": "solid",
          "width": 10
         },
         "mode": "lines",
         "showlegend": false,
         "type": "scatter3d",
         "x": [
          2,
          2
         ],
         "y": [
          0,
          2
         ],
         "z": [
          2,
          2
         ]
        },
        {
         "line": {
          "color": "grey",
          "dash": "solid",
          "width": 10
         },
         "mode": "lines",
         "showlegend": false,
         "type": "scatter3d",
         "x": [
          2,
          2
         ],
         "y": [
          2,
          2
         ],
         "z": [
          2,
          0
         ]
        },
        {
         "line": {
          "color": "grey",
          "dash": "solid",
          "width": 10
         },
         "mode": "lines",
         "showlegend": false,
         "type": "scatter3d",
         "x": [
          2,
          2
         ],
         "y": [
          2,
          0
         ],
         "z": [
          0,
          0
         ]
        },
        {
         "line": {
          "color": "grey",
          "dash": "solid",
          "width": 10
         },
         "mode": "lines",
         "showlegend": false,
         "type": "scatter3d",
         "x": [
          0,
          2
         ],
         "y": [
          0,
          0
         ],
         "z": [
          0,
          0
         ]
        },
        {
         "line": {
          "color": "grey",
          "dash": "solid",
          "width": 10
         },
         "mode": "lines",
         "showlegend": false,
         "type": "scatter3d",
         "x": [
          0,
          2
         ],
         "y": [
          0,
          0
         ],
         "z": [
          2,
          2
         ]
        },
        {
         "line": {
          "color": "grey",
          "dash": "solid",
          "width": 10
         },
         "mode": "lines",
         "showlegend": false,
         "type": "scatter3d",
         "x": [
          0,
          2
         ],
         "y": [
          2,
          2
         ],
         "z": [
          0,
          0
         ]
        },
        {
         "line": {
          "color": "grey",
          "dash": "solid",
          "width": 10
         },
         "mode": "lines",
         "showlegend": false,
         "type": "scatter3d",
         "x": [
          0,
          2
         ],
         "y": [
          2,
          2
         ],
         "z": [
          2,
          2
         ]
        }
       ],
       "layout": {
        "height": 1200,
        "margin": {
         "b": 0,
         "l": 0,
         "r": 0,
         "t": 0
        },
        "paper_bgcolor": "rgba(0,0,0,0)",
        "scene": {
         "aspectmode": "data",
         "camera": {
          "eye": {
           "x": 1.5,
           "y": 2,
           "z": 0.8
          }
         },
         "xaxis": {
          "showticklabels": false,
          "ticks": "",
          "title": {
           "font": {
            "size": 20
           },
           "text": ""
          }
         },
         "yaxis": {
          "showticklabels": false,
          "ticks": "",
          "title": {
           "font": {
            "size": 20
           },
           "text": ""
          }
         },
         "zaxis": {
          "showticklabels": false,
          "ticks": "",
          "title": {
           "font": {
            "size": 20
           },
           "text": ""
          }
         }
        },
        "template": {
         "data": {
          "bar": [
           {
            "error_x": {
             "color": "#2a3f5f"
            },
            "error_y": {
             "color": "#2a3f5f"
            },
            "marker": {
             "line": {
              "color": "white",
              "width": 0.5
             },
             "pattern": {
              "fillmode": "overlay",
              "size": 10,
              "solidity": 0.2
             }
            },
            "type": "bar"
           }
          ],
          "barpolar": [
           {
            "marker": {
             "line": {
              "color": "white",
              "width": 0.5
             },
             "pattern": {
              "fillmode": "overlay",
              "size": 10,
              "solidity": 0.2
             }
            },
            "type": "barpolar"
           }
          ],
          "carpet": [
           {
            "aaxis": {
             "endlinecolor": "#2a3f5f",
             "gridcolor": "#C8D4E3",
             "linecolor": "#C8D4E3",
             "minorgridcolor": "#C8D4E3",
             "startlinecolor": "#2a3f5f"
            },
            "baxis": {
             "endlinecolor": "#2a3f5f",
             "gridcolor": "#C8D4E3",
             "linecolor": "#C8D4E3",
             "minorgridcolor": "#C8D4E3",
             "startlinecolor": "#2a3f5f"
            },
            "type": "carpet"
           }
          ],
          "choropleth": [
           {
            "colorbar": {
             "outlinewidth": 0,
             "ticks": ""
            },
            "type": "choropleth"
           }
          ],
          "contour": [
           {
            "colorbar": {
             "outlinewidth": 0,
             "ticks": ""
            },
            "colorscale": [
             [
              0,
              "#0d0887"
             ],
             [
              0.1111111111111111,
              "#46039f"
             ],
             [
              0.2222222222222222,
              "#7201a8"
             ],
             [
              0.3333333333333333,
              "#9c179e"
             ],
             [
              0.4444444444444444,
              "#bd3786"
             ],
             [
              0.5555555555555556,
              "#d8576b"
             ],
             [
              0.6666666666666666,
              "#ed7953"
             ],
             [
              0.7777777777777778,
              "#fb9f3a"
             ],
             [
              0.8888888888888888,
              "#fdca26"
             ],
             [
              1,
              "#f0f921"
             ]
            ],
            "type": "contour"
           }
          ],
          "contourcarpet": [
           {
            "colorbar": {
             "outlinewidth": 0,
             "ticks": ""
            },
            "type": "contourcarpet"
           }
          ],
          "heatmap": [
           {
            "colorbar": {
             "outlinewidth": 0,
             "ticks": ""
            },
            "colorscale": [
             [
              0,
              "#0d0887"
             ],
             [
              0.1111111111111111,
              "#46039f"
             ],
             [
              0.2222222222222222,
              "#7201a8"
             ],
             [
              0.3333333333333333,
              "#9c179e"
             ],
             [
              0.4444444444444444,
              "#bd3786"
             ],
             [
              0.5555555555555556,
              "#d8576b"
             ],
             [
              0.6666666666666666,
              "#ed7953"
             ],
             [
              0.7777777777777778,
              "#fb9f3a"
             ],
             [
              0.8888888888888888,
              "#fdca26"
             ],
             [
              1,
              "#f0f921"
             ]
            ],
            "type": "heatmap"
           }
          ],
          "heatmapgl": [
           {
            "colorbar": {
             "outlinewidth": 0,
             "ticks": ""
            },
            "colorscale": [
             [
              0,
              "#0d0887"
             ],
             [
              0.1111111111111111,
              "#46039f"
             ],
             [
              0.2222222222222222,
              "#7201a8"
             ],
             [
              0.3333333333333333,
              "#9c179e"
             ],
             [
              0.4444444444444444,
              "#bd3786"
             ],
             [
              0.5555555555555556,
              "#d8576b"
             ],
             [
              0.6666666666666666,
              "#ed7953"
             ],
             [
              0.7777777777777778,
              "#fb9f3a"
             ],
             [
              0.8888888888888888,
              "#fdca26"
             ],
             [
              1,
              "#f0f921"
             ]
            ],
            "type": "heatmapgl"
           }
          ],
          "histogram": [
           {
            "marker": {
             "pattern": {
              "fillmode": "overlay",
              "size": 10,
              "solidity": 0.2
             }
            },
            "type": "histogram"
           }
          ],
          "histogram2d": [
           {
            "colorbar": {
             "outlinewidth": 0,
             "ticks": ""
            },
            "colorscale": [
             [
              0,
              "#0d0887"
             ],
             [
              0.1111111111111111,
              "#46039f"
             ],
             [
              0.2222222222222222,
              "#7201a8"
             ],
             [
              0.3333333333333333,
              "#9c179e"
             ],
             [
              0.4444444444444444,
              "#bd3786"
             ],
             [
              0.5555555555555556,
              "#d8576b"
             ],
             [
              0.6666666666666666,
              "#ed7953"
             ],
             [
              0.7777777777777778,
              "#fb9f3a"
             ],
             [
              0.8888888888888888,
              "#fdca26"
             ],
             [
              1,
              "#f0f921"
             ]
            ],
            "type": "histogram2d"
           }
          ],
          "histogram2dcontour": [
           {
            "colorbar": {
             "outlinewidth": 0,
             "ticks": ""
            },
            "colorscale": [
             [
              0,
              "#0d0887"
             ],
             [
              0.1111111111111111,
              "#46039f"
             ],
             [
              0.2222222222222222,
              "#7201a8"
             ],
             [
              0.3333333333333333,
              "#9c179e"
             ],
             [
              0.4444444444444444,
              "#bd3786"
             ],
             [
              0.5555555555555556,
              "#d8576b"
             ],
             [
              0.6666666666666666,
              "#ed7953"
             ],
             [
              0.7777777777777778,
              "#fb9f3a"
             ],
             [
              0.8888888888888888,
              "#fdca26"
             ],
             [
              1,
              "#f0f921"
             ]
            ],
            "type": "histogram2dcontour"
           }
          ],
          "mesh3d": [
           {
            "colorbar": {
             "outlinewidth": 0,
             "ticks": ""
            },
            "type": "mesh3d"
           }
          ],
          "parcoords": [
           {
            "line": {
             "colorbar": {
              "outlinewidth": 0,
              "ticks": ""
             }
            },
            "type": "parcoords"
           }
          ],
          "pie": [
           {
            "automargin": true,
            "type": "pie"
           }
          ],
          "scatter": [
           {
            "fillpattern": {
             "fillmode": "overlay",
             "size": 10,
             "solidity": 0.2
            },
            "type": "scatter"
           }
          ],
          "scatter3d": [
           {
            "line": {
             "colorbar": {
              "outlinewidth": 0,
              "ticks": ""
             }
            },
            "marker": {
             "colorbar": {
              "outlinewidth": 0,
              "ticks": ""
             }
            },
            "type": "scatter3d"
           }
          ],
          "scattercarpet": [
           {
            "marker": {
             "colorbar": {
              "outlinewidth": 0,
              "ticks": ""
             }
            },
            "type": "scattercarpet"
           }
          ],
          "scattergeo": [
           {
            "marker": {
             "colorbar": {
              "outlinewidth": 0,
              "ticks": ""
             }
            },
            "type": "scattergeo"
           }
          ],
          "scattergl": [
           {
            "marker": {
             "colorbar": {
              "outlinewidth": 0,
              "ticks": ""
             }
            },
            "type": "scattergl"
           }
          ],
          "scattermapbox": [
           {
            "marker": {
             "colorbar": {
              "outlinewidth": 0,
              "ticks": ""
             }
            },
            "type": "scattermapbox"
           }
          ],
          "scatterpolar": [
           {
            "marker": {
             "colorbar": {
              "outlinewidth": 0,
              "ticks": ""
             }
            },
            "type": "scatterpolar"
           }
          ],
          "scatterpolargl": [
           {
            "marker": {
             "colorbar": {
              "outlinewidth": 0,
              "ticks": ""
             }
            },
            "type": "scatterpolargl"
           }
          ],
          "scatterternary": [
           {
            "marker": {
             "colorbar": {
              "outlinewidth": 0,
              "ticks": ""
             }
            },
            "type": "scatterternary"
           }
          ],
          "surface": [
           {
            "colorbar": {
             "outlinewidth": 0,
             "ticks": ""
            },
            "colorscale": [
             [
              0,
              "#0d0887"
             ],
             [
              0.1111111111111111,
              "#46039f"
             ],
             [
              0.2222222222222222,
              "#7201a8"
             ],
             [
              0.3333333333333333,
              "#9c179e"
             ],
             [
              0.4444444444444444,
              "#bd3786"
             ],
             [
              0.5555555555555556,
              "#d8576b"
             ],
             [
              0.6666666666666666,
              "#ed7953"
             ],
             [
              0.7777777777777778,
              "#fb9f3a"
             ],
             [
              0.8888888888888888,
              "#fdca26"
             ],
             [
              1,
              "#f0f921"
             ]
            ],
            "type": "surface"
           }
          ],
          "table": [
           {
            "cells": {
             "fill": {
              "color": "#EBF0F8"
             },
             "line": {
              "color": "white"
             }
            },
            "header": {
             "fill": {
              "color": "#C8D4E3"
             },
             "line": {
              "color": "white"
             }
            },
            "type": "table"
           }
          ]
         },
         "layout": {
          "annotationdefaults": {
           "arrowcolor": "#2a3f5f",
           "arrowhead": 0,
           "arrowwidth": 1
          },
          "autotypenumbers": "strict",
          "coloraxis": {
           "colorbar": {
            "outlinewidth": 0,
            "ticks": ""
           }
          },
          "colorscale": {
           "diverging": [
            [
             0,
             "#8e0152"
            ],
            [
             0.1,
             "#c51b7d"
            ],
            [
             0.2,
             "#de77ae"
            ],
            [
             0.3,
             "#f1b6da"
            ],
            [
             0.4,
             "#fde0ef"
            ],
            [
             0.5,
             "#f7f7f7"
            ],
            [
             0.6,
             "#e6f5d0"
            ],
            [
             0.7,
             "#b8e186"
            ],
            [
             0.8,
             "#7fbc41"
            ],
            [
             0.9,
             "#4d9221"
            ],
            [
             1,
             "#276419"
            ]
           ],
           "sequential": [
            [
             0,
             "#0d0887"
            ],
            [
             0.1111111111111111,
             "#46039f"
            ],
            [
             0.2222222222222222,
             "#7201a8"
            ],
            [
             0.3333333333333333,
             "#9c179e"
            ],
            [
             0.4444444444444444,
             "#bd3786"
            ],
            [
             0.5555555555555556,
             "#d8576b"
            ],
            [
             0.6666666666666666,
             "#ed7953"
            ],
            [
             0.7777777777777778,
             "#fb9f3a"
            ],
            [
             0.8888888888888888,
             "#fdca26"
            ],
            [
             1,
             "#f0f921"
            ]
           ],
           "sequentialminus": [
            [
             0,
             "#0d0887"
            ],
            [
             0.1111111111111111,
             "#46039f"
            ],
            [
             0.2222222222222222,
             "#7201a8"
            ],
            [
             0.3333333333333333,
             "#9c179e"
            ],
            [
             0.4444444444444444,
             "#bd3786"
            ],
            [
             0.5555555555555556,
             "#d8576b"
            ],
            [
             0.6666666666666666,
             "#ed7953"
            ],
            [
             0.7777777777777778,
             "#fb9f3a"
            ],
            [
             0.8888888888888888,
             "#fdca26"
            ],
            [
             1,
             "#f0f921"
            ]
           ]
          },
          "colorway": [
           "#636efa",
           "#EF553B",
           "#00cc96",
           "#ab63fa",
           "#FFA15A",
           "#19d3f3",
           "#FF6692",
           "#B6E880",
           "#FF97FF",
           "#FECB52"
          ],
          "font": {
           "color": "#2a3f5f"
          },
          "geo": {
           "bgcolor": "white",
           "lakecolor": "white",
           "landcolor": "white",
           "showlakes": true,
           "showland": true,
           "subunitcolor": "#C8D4E3"
          },
          "hoverlabel": {
           "align": "left"
          },
          "hovermode": "closest",
          "mapbox": {
           "style": "light"
          },
          "paper_bgcolor": "white",
          "plot_bgcolor": "white",
          "polar": {
           "angularaxis": {
            "gridcolor": "#EBF0F8",
            "linecolor": "#EBF0F8",
            "ticks": ""
           },
           "bgcolor": "white",
           "radialaxis": {
            "gridcolor": "#EBF0F8",
            "linecolor": "#EBF0F8",
            "ticks": ""
           }
          },
          "scene": {
           "xaxis": {
            "backgroundcolor": "white",
            "gridcolor": "#DFE8F3",
            "gridwidth": 2,
            "linecolor": "#EBF0F8",
            "showbackground": true,
            "ticks": "",
            "zerolinecolor": "#EBF0F8"
           },
           "yaxis": {
            "backgroundcolor": "white",
            "gridcolor": "#DFE8F3",
            "gridwidth": 2,
            "linecolor": "#EBF0F8",
            "showbackground": true,
            "ticks": "",
            "zerolinecolor": "#EBF0F8"
           },
           "zaxis": {
            "backgroundcolor": "white",
            "gridcolor": "#DFE8F3",
            "gridwidth": 2,
            "linecolor": "#EBF0F8",
            "showbackground": true,
            "ticks": "",
            "zerolinecolor": "#EBF0F8"
           }
          },
          "shapedefaults": {
           "line": {
            "color": "#2a3f5f"
           }
          },
          "ternary": {
           "aaxis": {
            "gridcolor": "#DFE8F3",
            "linecolor": "#A2B1C6",
            "ticks": ""
           },
           "baxis": {
            "gridcolor": "#DFE8F3",
            "linecolor": "#A2B1C6",
            "ticks": ""
           },
           "bgcolor": "white",
           "caxis": {
            "gridcolor": "#DFE8F3",
            "linecolor": "#A2B1C6",
            "ticks": ""
           }
          },
          "title": {
           "x": 0.05
          },
          "xaxis": {
           "automargin": true,
           "gridcolor": "#EBF0F8",
           "linecolor": "#EBF0F8",
           "ticks": "",
           "title": {
            "standoff": 15
           },
           "zerolinecolor": "#EBF0F8",
           "zerolinewidth": 2
          },
          "yaxis": {
           "automargin": true,
           "gridcolor": "#EBF0F8",
           "linecolor": "#EBF0F8",
           "ticks": "",
           "title": {
            "standoff": 15
           },
           "zerolinecolor": "#EBF0F8",
           "zerolinewidth": 2
          }
         }
        },
        "width": 1500
       }
      }
     },
     "metadata": {},
     "output_type": "display_data"
    }
   ],
   "source": [
    "draw_cube_edges(\"simple_cubic\", simple_cubic, False, False, False)\n",
    "# draw_cube_edges(\"body_centered_cubic\", body_centered_cubic, False, False, True)\n",
    "# draw_cube_edges(\"face_centered_cubic\", face_centered_cubic, True, True, False)\n",
    "\n",
    "# draw_cube_edges(\"simple_tetragonal\", simple_tetragonal, False, False, False)\n",
    "# draw_cube_edges(\"body_centered_tetragonal\", body_centered_tetragonal, False, False, True)\n",
    "\n",
    "# draw_cube_edges(\"simple_orthorhombic\", simple_orthorhombic, False, False, False)\n",
    "# draw_cube_edges(\"body_centered_orothorhombic\", body_centered_orothorhombic, False, False, True)\n",
    "# draw_cube_edges(\"base_centered_orthorhombic\", base_centered_orthorhombic, True, False, False)\n",
    "# draw_cube_edges(\"face_centered_orthorhombic\", face_centered_orthorhombic, True, True, False)\n",
    "\n",
    "# draw_cube_edges(\"simple_monoclinic\", simple_monoclinic, False, False, False)\n",
    "# draw_cube_edges(\"base_centered_monoclinic\", base_centered_monoclinic, False, True, False)\n",
    "\n",
    "# draw_cube_edges(\"triclinic\", triclinic, False, False, False)\n",
    "# draw_cube_edges(\"rhombohedral\", rhombohedral, False, False, False)"
   ]
  },
  {
   "cell_type": "code",
   "execution_count": 5,
   "metadata": {},
   "outputs": [],
   "source": [
    "def add_edge_trace(fig, vertices, edges, line_color='grey', line_width=10, dash='solid'):\n",
    "    for edge in edges:\n",
    "        x_line = [vertices[edge[0], 0], vertices[edge[1], 0]]\n",
    "        y_line = [vertices[edge[0], 1], vertices[edge[1], 1]]\n",
    "        z_line = [vertices[edge[0], 2], vertices[edge[1], 2]]\n",
    "\n",
    "        fig.add_trace(go.Scatter3d(\n",
    "            x=x_line,\n",
    "            y=y_line,\n",
    "            z=z_line,\n",
    "            mode='lines',\n",
    "            line=dict(color=line_color, width=line_width, dash=dash),\n",
    "            showlegend=False\n",
    "        ))\n",
    "\n",
    "def hexagonal_draw(name, vertices, mid_ab_true, mid_ac_true, body_cent):\n",
    "    vertices = vertices[2:-2]\n",
    "    fig = go.Figure()\n",
    "    \n",
    "    # Plot the vertices\n",
    "    fig.add_trace(go.Scatter3d(\n",
    "        x=vertices[:, 0],\n",
    "        y=vertices[:, 1],\n",
    "        z=vertices[:, 2],\n",
    "        mode='markers',\n",
    "        marker=dict(color='black', size=12, opacity=0.8),\n",
    "        showlegend=False\n",
    "    ))\n",
    "    \n",
    "    dashed_edges = [\n",
    "        [0, 1], [1, 3], [3, 2], [2, 0],  # Bottom face\n",
    "        [4, 5], [5, 7], [7, 6], [6, 4],  # Side faces\n",
    "        [0, 4], [1, 5], [2, 6], [3, 7],  # Top edges\n",
    "        [12,13], [13,11], [11,10], [10,12],\n",
    "        [10,4], [11,5], [12,6], [13,7]]\n",
    "    \n",
    "    edges = [[8,2], [9,3], [2,3],[8,9],\n",
    "             [9,13], [13,12], [12,8], [2, 6],\n",
    "             [3, 7],[6,7], [7,13], [6,12]]\n",
    "    \n",
    "    add_edge_trace(fig, vertices, edges)\n",
    "    add_edge_trace(fig, vertices, dashed_edges, dash='dash')\n",
    "    \n",
    "    # Customize layout\n",
    "    fig.update_layout(\n",
    "        {'paper_bgcolor': \"rgba(0,0,0,0)\"},\n",
    "        scene=dict(\n",
    "            xaxis=dict(title='', title_font=dict(size=20), ticks='', showticklabels=False),\n",
    "            yaxis=dict(title='', title_font=dict(size=20), ticks='', showticklabels=False),\n",
    "            zaxis=dict(title='', title_font=dict(size=20), ticks='', showticklabels=False),\n",
    "            camera=dict(\n",
    "                eye=dict(x=1.5, y=2, z=1.5)\n",
    "            ),\n",
    "            aspectmode='data',\n",
    "        ),\n",
    "        margin=dict(l=0, r=0, b=0, t=0),\n",
    "        height=1200,\n",
    "        width=1500,\n",
    "        template='plotly_white'\n",
    "    )\n",
    "    \n",
    "    fig.write_image(f\"Lattices/hexagonal.png\")\n",
    "    \n",
    "hexagonal = st.Structure(1.0, 1.0, 1.0, 3, 3, 2, 120, 90, 90, False, False, False)\n",
    "hexagonal_draw(\"hexagonal\", hexagonal, False, False, False)"
   ]
  }
 ],
 "metadata": {
  "kernelspec": {
   "display_name": ".venv",
   "language": "python",
   "name": "python3"
  },
  "language_info": {
   "codemirror_mode": {
    "name": "ipython",
    "version": 3
   },
   "file_extension": ".py",
   "mimetype": "text/x-python",
   "name": "python",
   "nbconvert_exporter": "python",
   "pygments_lexer": "ipython3",
   "version": "3.11.2"
  }
 },
 "nbformat": 4,
 "nbformat_minor": 2
}
